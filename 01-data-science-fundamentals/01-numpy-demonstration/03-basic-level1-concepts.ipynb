{
 "cells": [
  {
   "cell_type": "code",
   "execution_count": 1,
   "metadata": {},
   "outputs": [],
   "source": [
    "import numpy as np"
   ]
  },
  {
   "cell_type": "code",
   "execution_count": 3,
   "metadata": {},
   "outputs": [
    {
     "name": "stdout",
     "output_type": "stream",
     "text": [
      "Elements where bool_arr is True: [1 3 5]\n"
     ]
    }
   ],
   "source": [
    "# Indexing and Slicing with Boolean Arrays:\n",
    "input_array = np.array([1, 2, 3, 4, 5])\n",
    "boolean_array = np.array([True, False, True, False, True])\n",
    "print(\"Elements where bool_arr is True:\", input_array[boolean_array])"
   ]
  },
  {
   "cell_type": "code",
   "execution_count": 5,
   "metadata": {},
   "outputs": [
    {
     "name": "stdout",
     "output_type": "stream",
     "text": [
      "Broadcasted array : \n",
      "[[2 3 4]\n",
      " [3 4 5]\n",
      " [4 5 6]]\n"
     ]
    }
   ],
   "source": [
    "# Broadcasting allows for arithmetic operations between arrays of different shapes. \n",
    "input_array_2 = np.array([1, 2, 3])\n",
    "input_array_3 = np.array([[1], [2], [3]])\n",
    "print(\"Broadcasted array : \")\n",
    "print(input_array_2 + input_array_3)"
   ]
  },
  {
   "cell_type": "code",
   "execution_count": 7,
   "metadata": {},
   "outputs": [
    {
     "name": "stdout",
     "output_type": "stream",
     "text": [
      "Matrix multiplication:\n",
      "[[19 22]\n",
      " [43 50]]\n",
      "Matrix transpose:\n",
      "[[1 3]\n",
      " [2 4]]\n"
     ]
    }
   ],
   "source": [
    "# Calculate Matrix Multiplications and Transpose\n",
    "input_array_4 = np.array([[1, 2], [3, 4]])\n",
    "input_array_5 = np.array([[5, 6], [7, 8]])\n",
    "print(\"Matrix multiplication:\")\n",
    "print(np.dot(input_array_4, input_array_5))\n",
    "print(\"Matrix transpose:\")\n",
    "print(input_array_4.T)"
   ]
  },
  {
   "cell_type": "code",
   "execution_count": 8,
   "metadata": {},
   "outputs": [
    {
     "name": "stdout",
     "output_type": "stream",
     "text": [
      "Square root of each element:\n",
      "[1.         1.41421356 1.73205081 2.         2.23606798]\n"
     ]
    }
   ],
   "source": [
    "# Demonstratioon of Universional Functions :: Square Root on Individual Elements.\n",
    "inopyt_array_6 = np.array([1, 2, 3, 4, 5])\n",
    "print(\"Square root of each element:\")\n",
    "print(np.sqrt(inopyt_array_6))"
   ]
  },
  {
   "cell_type": "code",
   "execution_count": 9,
   "metadata": {},
   "outputs": [
    {
     "name": "stdout",
     "output_type": "stream",
     "text": [
      "Output of the Masked array:\n",
      "[4 5]\n"
     ]
    }
   ],
   "source": [
    "# Masking of Arrays \n",
    "input_array_7 = np.array([1, 2, 3, 4, 5])\n",
    "mask = input_array_7 > 3\n",
    "print(\"Output of the Masked array:\")\n",
    "print(input_array_7[mask])"
   ]
  },
  {
   "cell_type": "code",
   "execution_count": null,
   "metadata": {},
   "outputs": [],
   "source": [
    "# Saving the contents of the arrays as text file \n",
    "\n",
    "input_array_8 = np.array([1, 2, 3, 4, 5])\n",
    "np.savetxt(\"array_save_content.txt\", input_array_8)\n",
    "loaded_input = np.loadtxt(\"array_save_content.txt\")\n",
    "print(\"Loaded array from file:\")\n",
    "print(loaded_input)"
   ]
  }
 ],
 "metadata": {
  "kernelspec": {
   "display_name": "Python 3",
   "language": "python",
   "name": "python3"
  },
  "language_info": {
   "codemirror_mode": {
    "name": "ipython",
    "version": 3
   },
   "file_extension": ".py",
   "mimetype": "text/x-python",
   "name": "python",
   "nbconvert_exporter": "python",
   "pygments_lexer": "ipython3",
   "version": "3.11.2"
  },
  "orig_nbformat": 4
 },
 "nbformat": 4,
 "nbformat_minor": 2
}
