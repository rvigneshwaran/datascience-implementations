{
 "cells": [
  {
   "cell_type": "code",
   "execution_count": 1,
   "metadata": {},
   "outputs": [],
   "source": [
    "import numpy as np"
   ]
  },
  {
   "cell_type": "code",
   "execution_count": 2,
   "metadata": {},
   "outputs": [
    {
     "name": "stdout",
     "output_type": "stream",
     "text": [
      "Squared array (using vectorization): [ 1  4  9 16 25]\n"
     ]
    }
   ],
   "source": [
    "# Demonstration of vectorization\n",
    "\n",
    "# NumPy allows for vectorized operations, which perform operations on entire arrays \n",
    "# without the need for explicit loops. In this example, the square function is defined \n",
    "# to compute the square of each element in an array. By applying the function directly \n",
    "# to the array, NumPy handles the iteration internally, resulting in a more concise and efficient code.\n",
    "def square(input_value):\n",
    "    return input_value ** 2\n",
    "\n",
    "input_array = np.array([1, 2, 3, 4, 5])\n",
    "print(\"Squared array (using vectorization):\",square(input_array))"
   ]
  },
  {
   "cell_type": "code",
   "execution_count": 4,
   "metadata": {},
   "outputs": [
    {
     "name": "stdout",
     "output_type": "stream",
     "text": [
      "The values in the Masked array are : [1 2 -- 4 --]\n"
     ]
    }
   ],
   "source": [
    "# Demonstration of the Masked Arrays.\n",
    "# The mask represents the validity of each element in the array. Masked arrays \n",
    "# are useful for handling missing or invalid data.\n",
    "\n",
    "import numpy.ma as ma\n",
    "input_content_array = np.array([1, 2, -1, 4, -5])\n",
    "mask_instance = input_content_array < 0\n",
    "masked_arr = ma.array(input_content_array, mask=mask_instance)\n",
    "print(\"The values in the Masked array are :\",masked_arr)"
   ]
  },
  {
   "cell_type": "code",
   "execution_count": 5,
   "metadata": {},
   "outputs": [
    {
     "name": "stdout",
     "output_type": "stream",
     "text": [
      " Fancy indexing:  [1 3 5]\n"
     ]
    }
   ],
   "source": [
    "# Demonstration of face Indexing\n",
    "# Fancy indexing allows you to access and modify elements of an array using arrays of indices or boolean arrays.\n",
    "input_array_1 = np.array([1, 2, 3, 4, 5])\n",
    "array_indices = np.array([0, 2, 4])\n",
    "print(\" Fancy indexing: \",input_array_1[array_indices])"
   ]
  },
  {
   "cell_type": "code",
   "execution_count": 8,
   "metadata": {},
   "outputs": [
    {
     "name": "stdout",
     "output_type": "stream",
     "text": [
      "Broadcasting example: [[5 6 7]\n",
      " [6 7 8]]\n"
     ]
    }
   ],
   "source": [
    "# Broadcasting - Different array size broadcasted to do the addition of the arrays\n",
    "input_array_2 = np.array([[1, 2, 3]]) \n",
    "input_array_3 = np.array([[4], [5]])\n",
    "print(\"Broadcasting example:\",input_array_2 + input_array_3)                                                                       "
   ]
  },
  {
   "cell_type": "code",
   "execution_count": 9,
   "metadata": {},
   "outputs": [
    {
     "name": "stdout",
     "output_type": "stream",
     "text": [
      "Structured array: [(b'John', 25, 5.8) (b'Alice', 30, 5.6)]\n"
     ]
    }
   ],
   "source": [
    "# Demonstattion of the structured arrays - Compound data types:\n",
    "carrays_datatypes = np.dtype([('name', 'S10'), ('age', int), ('height', float)])\n",
    "arrays_instance = np.array([('John', 25, 5.8), ('Alice', 30, 5.6)], dtype=carrays_datatypes)\n",
    "print(\"Structured array:\", arrays_instance)"
   ]
  },
  {
   "cell_type": "code",
   "execution_count": null,
   "metadata": {},
   "outputs": [],
   "source": [
    "# Usage of Linear Algebra using linalg\n",
    "input_array_5 = np.array([[1, 2], [3, 4]])\n",
    "inverse = np.linalg.inv(input_array_5)\n",
    "eigenvalues, eigenvectors = np.linalg.eig(input_array_5)\n",
    "print(\"eigenvalues :: \",eigenvalues)\n",
    "print(\"eigenvectors :: \",eigenvectors)\n",
    "determinant = np.linalg.det(input_array_5)\n",
    "print(\"determinant :: \",determinant)"
   ]
  }
 ],
 "metadata": {
  "kernelspec": {
   "display_name": "Python 3",
   "language": "python",
   "name": "python3"
  },
  "language_info": {
   "codemirror_mode": {
    "name": "ipython",
    "version": 3
   },
   "file_extension": ".py",
   "mimetype": "text/x-python",
   "name": "python",
   "nbconvert_exporter": "python",
   "pygments_lexer": "ipython3",
   "version": "3.11.2"
  },
  "orig_nbformat": 4
 },
 "nbformat": 4,
 "nbformat_minor": 2
}
