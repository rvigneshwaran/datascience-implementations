{
 "cells": [
  {
   "cell_type": "code",
   "execution_count": 2,
   "metadata": {},
   "outputs": [],
   "source": [
    "# Import the NumPy library\n",
    "import numpy as np"
   ]
  },
  {
   "cell_type": "code",
   "execution_count": 10,
   "metadata": {},
   "outputs": [
    {
     "name": "stdout",
     "output_type": "stream",
     "text": [
      "[11 22 33 44 55]\n"
     ]
    }
   ],
   "source": [
    "# Creating NumPy arrays\n",
    "input_array = np.array([11, 22, 33, 44, 55])\n",
    "print(input_array)"
   ]
  },
  {
   "cell_type": "code",
   "execution_count": 14,
   "metadata": {},
   "outputs": [
    {
     "name": "stdout",
     "output_type": "stream",
     "text": [
      "Shape of the input_array is : (5,)\n",
      "Size of the input_array is : 5\n"
     ]
    }
   ],
   "source": [
    "# Array shape and size\n",
    "print(\"Shape of the input_array is :\", input_array.shape)\n",
    "print(\"Size of the input_array is :\", input_array.size)"
   ]
  },
  {
   "cell_type": "code",
   "execution_count": 13,
   "metadata": {},
   "outputs": [
    {
     "name": "stdout",
     "output_type": "stream",
     "text": [
      "The First element in the input_array is : 11\n",
      "The Last element in the input_array is : 55\n",
      "Slicing the elements from the input_array : [33 44]\n"
     ]
    }
   ],
   "source": [
    "# Accessing Elements in the array.\n",
    "print(\"The First element in the input_array is :\", input_array[0])\n",
    "print(\"The Last element in the input_array is :\", input_array[-1])\n",
    "print(\"Slicing the elements from the input_array :\", input_array[2:4])"
   ]
  },
  {
   "cell_type": "code",
   "execution_count": 16,
   "metadata": {},
   "outputs": [
    {
     "name": "stdout",
     "output_type": "stream",
     "text": [
      "Addition on Two Input Arrays : [ 77  99 121 143 155]\n",
      "Subtraction on Two Input Arrays  : [-55 -55 -55 -55 -45]\n",
      "Multiplication on Two Input Arrays  : [ 726 1694 2904 4356 5500]\n",
      "Division on Two Input Arrays : [0.16666667 0.28571429 0.375      0.44444444 0.55      ]\n"
     ]
    }
   ],
   "source": [
    "# Operations on the input_array\n",
    "second_input_array = np.array([66, 77, 88, 99, 100])\n",
    "print(\"Addition on Two Input Arrays :\", input_array + second_input_array)\n",
    "print(\"Subtraction on Two Input Arrays  :\", input_array  - second_input_array)\n",
    "print(\"Multiplication on Two Input Arrays  :\", input_array  * second_input_array)\n",
    "print(\"Division on Two Input Arrays :\", input_array  / second_input_array)"
   ]
  },
  {
   "cell_type": "code",
   "execution_count": 9,
   "metadata": {},
   "outputs": [
    {
     "name": "stdout",
     "output_type": "stream",
     "text": [
      "Minimum: 1\n",
      "Maximum: 5\n",
      "Sum: 15\n",
      "Mean: 3.0\n",
      "Standard Deviation: 1.4142135623730951\n"
     ]
    }
   ],
   "source": [
    "# Applying Basic Function on the input arrays\n",
    "print(\"Minimum ELement in the input_array :\", np.min(input_array))\n",
    "print(\"Maximum Element in the input_array :\", np.max(input_array))\n",
    "print(\"Sum of Elements in the input_array :\", np.sum(input_array))\n",
    "print(\"Mean of Elemenets in the input_array :\", np.mean(input_array))\n",
    "print(\"Standard Deviation of Elements in the input_array:\", np.std(input_array))"
   ]
  },
  {
   "cell_type": "code",
   "execution_count": null,
   "metadata": {},
   "outputs": [],
   "source": []
  }
 ],
 "metadata": {
  "kernelspec": {
   "display_name": "Python 3",
   "language": "python",
   "name": "python3"
  },
  "language_info": {
   "codemirror_mode": {
    "name": "ipython",
    "version": 3
   },
   "file_extension": ".py",
   "mimetype": "text/x-python",
   "name": "python",
   "nbconvert_exporter": "python",
   "pygments_lexer": "ipython3",
   "version": "3.11.2"
  },
  "orig_nbformat": 4
 },
 "nbformat": 4,
 "nbformat_minor": 2
}
