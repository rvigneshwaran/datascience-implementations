{
 "cells": [
  {
   "cell_type": "code",
   "execution_count": 2,
   "metadata": {},
   "outputs": [],
   "source": [
    "# Import the NumPy library\n",
    "import numpy as np"
   ]
  },
  {
   "cell_type": "code",
   "execution_count": 3,
   "metadata": {},
   "outputs": [
    {
     "name": "stdout",
     "output_type": "stream",
     "text": [
      "1.24.2\n"
     ]
    }
   ],
   "source": [
    "# print the numpy version\n",
    "print(np.__version__)"
   ]
  },
  {
   "cell_type": "code",
   "execution_count": 4,
   "metadata": {},
   "outputs": [
    {
     "name": "stdout",
     "output_type": "stream",
     "text": [
      "[11 22 33 44 55]\n"
     ]
    }
   ],
   "source": [
    "# Creating NumPy arrays\n",
    "input_array = np.array([11, 22, 33, 44, 55])\n",
    "print(input_array)"
   ]
  },
  {
   "cell_type": "code",
   "execution_count": 5,
   "metadata": {},
   "outputs": [
    {
     "name": "stdout",
     "output_type": "stream",
     "text": [
      "Shape of the input_array is : (5,)\n",
      "Size of the input_array is : 5\n"
     ]
    }
   ],
   "source": [
    "# Array shape and size\n",
    "print(\"Shape of the input_array is :\", input_array.shape)\n",
    "print(\"Size of the input_array is :\", input_array.size)"
   ]
  },
  {
   "cell_type": "code",
   "execution_count": 6,
   "metadata": {},
   "outputs": [
    {
     "name": "stdout",
     "output_type": "stream",
     "text": [
      "The First element in the input_array is : 11\n",
      "The Last element in the input_array is : 55\n",
      "Slicing the elements from the input_array : [33 44]\n"
     ]
    }
   ],
   "source": [
    "# Accessing Elements in the array.\n",
    "print(\"The First element in the input_array is :\", input_array[0])\n",
    "print(\"The Last element in the input_array is :\", input_array[-1])\n",
    "print(\"Slicing the elements from the input_array :\", input_array[2:4])"
   ]
  },
  {
   "cell_type": "code",
   "execution_count": 7,
   "metadata": {},
   "outputs": [
    {
     "name": "stdout",
     "output_type": "stream",
     "text": [
      "Addition on Two Input Arrays : [ 77  99 121 143 155]\n",
      "Subtraction on Two Input Arrays  : [-55 -55 -55 -55 -45]\n",
      "Multiplication on Two Input Arrays  : [ 726 1694 2904 4356 5500]\n",
      "Division on Two Input Arrays : [0.16666667 0.28571429 0.375      0.44444444 0.55      ]\n"
     ]
    }
   ],
   "source": [
    "# Operations on the input_array\n",
    "second_input_array = np.array([66, 77, 88, 99, 100])\n",
    "print(\"Addition on Two Input Arrays :\", input_array + second_input_array)\n",
    "print(\"Subtraction on Two Input Arrays  :\", input_array  - second_input_array)\n",
    "print(\"Multiplication on Two Input Arrays  :\", input_array  * second_input_array)\n",
    "print(\"Division on Two Input Arrays :\", input_array  / second_input_array)"
   ]
  },
  {
   "cell_type": "code",
   "execution_count": 8,
   "metadata": {},
   "outputs": [
    {
     "name": "stdout",
     "output_type": "stream",
     "text": [
      "Minimum ELement in the input_array : 11\n",
      "Maximum Element in the input_array : 55\n",
      "Sum of Elements in the input_array : 165\n",
      "Mean of Elemenets in the input_array : 33.0\n",
      "Standard Deviation of Elements in the input_array: 15.556349186104045\n"
     ]
    }
   ],
   "source": [
    "# Applying Basic Function on the input arrays\n",
    "print(\"Minimum ELement in the input_array :\", np.min(input_array))\n",
    "print(\"Maximum Element in the input_array :\", np.max(input_array))\n",
    "print(\"Sum of Elements in the input_array :\", np.sum(input_array))\n",
    "print(\"Mean of Elemenets in the input_array :\", np.mean(input_array))\n",
    "print(\"Standard Deviation of Elements in the input_array:\", np.std(input_array))"
   ]
  },
  {
   "cell_type": "code",
   "execution_count": 9,
   "metadata": {},
   "outputs": [
    {
     "name": "stdout",
     "output_type": "stream",
     "text": [
      "1\n",
      "2\n",
      "The Value of input_array_multi is :: \n",
      "  [[ 1  2  3  4]\n",
      " [ 5  6  7  8]\n",
      " [ 9 10 11 12]]\n",
      "Size of the Array in Bytes ::  4 bytes\n",
      "Data Type of elements in the Array ::  int32\n",
      "The Size of the array is ::  12\n",
      "The Shape of the array is ::  (3, 4)\n"
     ]
    }
   ],
   "source": [
    "input_array = np.array([1, 2, 3, 4])\n",
    "print(input_array.ndim)\n",
    "\n",
    "input_array_multi = np.array([[1, 2, 3, 4], [5, 6, 7, 8], [9, 10, 11, 12]])\n",
    "print(input_array_multi.ndim)\n",
    "print(\"The Value of input_array_multi is :: \\n \",input_array_multi)\n",
    "\n",
    "print(\"Size of the Array in Bytes :: \",input_array_multi.itemsize,\"bytes\") \n",
    "print(\"Data Type of elements in the Array :: \",input_array_multi.dtype) \n",
    "print(\"The Size of the array is :: \",input_array_multi.size)  \n",
    "print(\"The Shape of the array is :: \",input_array_multi.shape)  "
   ]
  },
  {
   "cell_type": "code",
   "execution_count": null,
   "metadata": {},
   "outputs": [],
   "source": [
    "# Check the data type of the array\n",
    "\n",
    "string_array = np.array(['apple', 'banana', 'cherry'])\n",
    "print(\"The data type of the array is ::\",string_array.dtype)\n",
    "numeric_array = np.array([1, 2, 3, 4])"
   ]
  },
  {
   "cell_type": "code",
   "execution_count": 10,
   "metadata": {},
   "outputs": [
    {
     "name": "stdout",
     "output_type": "stream",
     "text": [
      "The maximum element in the input_array_multi is ::  12\n",
      "The minimum element in the input_array_multi is ::  1\n",
      "The sum of the elements in the input_array_multi is ::  78\n"
     ]
    }
   ],
   "source": [
    "# Find Maximukm Minimum ELements and sum of elements in the array\n",
    "\n",
    "print(\"The maximum element in the input_array_multi is :: \",input_array_multi.max())  \n",
    "print(\"The minimum element in the input_array_multi is :: \",input_array_multi.min())  \n",
    "print(\"The sum of the elements in the input_array_multi is :: \",input_array_multi.sum()) "
   ]
  }
 ],
 "metadata": {
  "kernelspec": {
   "display_name": "Python 3",
   "language": "python",
   "name": "python3"
  },
  "language_info": {
   "codemirror_mode": {
    "name": "ipython",
    "version": 3
   },
   "file_extension": ".py",
   "mimetype": "text/x-python",
   "name": "python",
   "nbconvert_exporter": "python",
   "pygments_lexer": "ipython3",
   "version": "3.11.2"
  },
  "orig_nbformat": 4
 },
 "nbformat": 4,
 "nbformat_minor": 2
}
