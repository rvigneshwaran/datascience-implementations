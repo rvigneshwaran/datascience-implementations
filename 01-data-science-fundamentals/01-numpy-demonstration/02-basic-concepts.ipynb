{
 "cells": [
  {
   "cell_type": "code",
   "execution_count": 1,
   "metadata": {},
   "outputs": [],
   "source": [
    "import numpy as np"
   ]
  },
  {
   "cell_type": "code",
   "execution_count": 3,
   "metadata": {},
   "outputs": [
    {
     "name": "stdout",
     "output_type": "stream",
     "text": [
      "Original array:\n",
      "[[1 2 3]\n",
      " [4 5 6]]\n",
      "Reshaped array:\n",
      "[[1 2]\n",
      " [3 4]\n",
      " [5 6]]\n"
     ]
    }
   ],
   "source": [
    "# reshaping the array using the function reshape\n",
    "input_array = np.array([[1, 2, 3], [4, 5, 6]])\n",
    "print(\"Original array:\")\n",
    "print(input_array)\n",
    "print(\"Reshaped array:\")\n",
    "print(input_array.reshape(3, 2))"
   ]
  },
  {
   "cell_type": "code",
   "execution_count": 5,
   "metadata": {},
   "outputs": [
    {
     "name": "stdout",
     "output_type": "stream",
     "text": [
      "Concatenated array: [1 2 3 4 5 6]\n"
     ]
    }
   ],
   "source": [
    "# Demonstrating array concatenation using concatenate function in numpy and displaying the array.\n",
    "input_array_1 = np.array([1, 2, 3])\n",
    "input_array_2 = np.array([4, 5, 6])\n",
    "print(\"Concatenated array:\", np.concatenate((input_array_1, input_array_2)))"
   ]
  },
  {
   "cell_type": "code",
   "execution_count": 8,
   "metadata": {},
   "outputs": [
    {
     "name": "stdout",
     "output_type": "stream",
     "text": [
      "Output-Vertical-Stacking : \n",
      "[[1 2]\n",
      " [3 4]\n",
      " [5 6]\n",
      " [7 8]]\n",
      "Output-Horizontal-Stacking : \n",
      "[[1 2 5 6]\n",
      " [3 4 7 8]]\n"
     ]
    }
   ],
   "source": [
    "# Demonstating of Stacking : Horizondal Stacking and Vertical Stacking using Numpy Arrays.\n",
    "input_array_3 = np.array([[1, 2], [3, 4]])\n",
    "input_array_4 = np.array([[5, 6], [7, 8]])\n",
    "print(\"Output-Vertical-Stacking : \")\n",
    "print(np.vstack((input_array_3, input_array_4)))\n",
    "print(\"Output-Horizontal-Stacking : \")\n",
    "print(np.hstack((input_array_3, input_array_4)))"
   ]
  },
  {
   "cell_type": "code",
   "execution_count": 10,
   "metadata": {},
   "outputs": [
    {
     "name": "stdout",
     "output_type": "stream",
     "text": [
      "output-Broadcasting : \n",
      "[3 4 5]\n"
     ]
    }
   ],
   "source": [
    "# Broadcasting of Arrays using Numpy\n",
    "input_array_5 = np.array([1, 2, 3])\n",
    "scalar_value = 2\n",
    "print(\"output-Broadcasting : \")\n",
    "print(input_array_5 + scalar_value)"
   ]
  },
  {
   "cell_type": "code",
   "execution_count": 12,
   "metadata": {},
   "outputs": [
    {
     "name": "stdout",
     "output_type": "stream",
     "text": [
      "The Element at (1, 2) :  6\n",
      "The First column Elements are :  [1 4 7]\n",
      "The Last row Elements are :  [7 8 9]\n"
     ]
    }
   ],
   "source": [
    "# Demonstration of array indexing and slicing ( Accesing elements in rows and columns )\n",
    "input_array_6 = np.array([[1, 2, 3], [4, 5, 6], [7, 8, 9]])\n",
    "print(\"The Element at (1, 2) : \", input_array_6[1, 2])\n",
    "print(\"The First column Elements are : \", input_array_6[:, 0])\n",
    "print(\"The Last row Elements are : \", input_array_6[-1, :])"
   ]
  },
  {
   "cell_type": "code",
   "execution_count": 14,
   "metadata": {},
   "outputs": [
    {
     "name": "stdout",
     "output_type": "stream",
     "text": [
      "Elements greater than 3 are : [4 5]\n"
     ]
    }
   ],
   "source": [
    "# Boolean Indexing using Numpy\n",
    "input_array_7 = np.array([1, 2, 3, 4, 5])\n",
    "print(\"Elements greater than 3 are :\", input_array_7[input_array_7 > 3])"
   ]
  },
  {
   "cell_type": "code",
   "execution_count": 15,
   "metadata": {},
   "outputs": [
    {
     "name": "stdout",
     "output_type": "stream",
     "text": [
      "Array Created using random Elements are :\n",
      "[[0.43271041 0.89297482 0.64259628]\n",
      " [0.69570878 0.53125741 0.82568157]\n",
      " [0.11910471 0.64031321 0.07275964]]\n"
     ]
    }
   ],
   "source": [
    "# Random Number Generation using Numpy\n",
    "array_create_random = np.random.rand(3, 3)\n",
    "print(\"Array Created using random Elements are :\")\n",
    "print(array_create_random)"
   ]
  },
  {
   "cell_type": "code",
   "execution_count": 16,
   "metadata": {},
   "outputs": [
    {
     "name": "stdout",
     "output_type": "stream",
     "text": [
      "Load the Stored array from the file :\n",
      "[[0.43271041 0.89297482 0.64259628]\n",
      " [0.69570878 0.53125741 0.82568157]\n",
      " [0.11910471 0.64031321 0.07275964]]\n"
     ]
    }
   ],
   "source": [
    "# We can save and Load the arrays using numpy lib\n",
    "np.save(\"array_create_random\", array_create_random)\n",
    "loaded_array_content = np.load(\"array_create_random.npy\")\n",
    "print(\"Load the Stored array from the file :\")\n",
    "print(loaded_array_content)"
   ]
  },
  {
   "cell_type": "code",
   "execution_count": null,
   "metadata": {},
   "outputs": [],
   "source": []
  }
 ],
 "metadata": {
  "kernelspec": {
   "display_name": "Python 3",
   "language": "python",
   "name": "python3"
  },
  "language_info": {
   "codemirror_mode": {
    "name": "ipython",
    "version": 3
   },
   "file_extension": ".py",
   "mimetype": "text/x-python",
   "name": "python",
   "nbconvert_exporter": "python",
   "pygments_lexer": "ipython3",
   "version": "3.11.2"
  },
  "orig_nbformat": 4
 },
 "nbformat": 4,
 "nbformat_minor": 2
}
