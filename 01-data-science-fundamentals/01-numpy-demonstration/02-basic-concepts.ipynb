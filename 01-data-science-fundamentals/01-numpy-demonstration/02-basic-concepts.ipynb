{
 "cells": [
  {
   "cell_type": "code",
   "execution_count": 1,
   "metadata": {},
   "outputs": [],
   "source": [
    "import numpy as np"
   ]
  },
  {
   "cell_type": "code",
   "execution_count": 3,
   "metadata": {},
   "outputs": [
    {
     "name": "stdout",
     "output_type": "stream",
     "text": [
      "Original array:\n",
      "[[1 2 3]\n",
      " [4 5 6]]\n",
      "Reshaped array:\n",
      "[[1 2]\n",
      " [3 4]\n",
      " [5 6]]\n"
     ]
    }
   ],
   "source": [
    "# reshaping the array using the function reshape\n",
    "input_array = np.array([[1, 2, 3], [4, 5, 6]])\n",
    "print(\"Original array:\")\n",
    "print(input_array)\n",
    "print(\"Reshaped array:\")\n",
    "print(input_array.reshape(3, 2))"
   ]
  },
  {
   "cell_type": "code",
   "execution_count": 5,
   "metadata": {},
   "outputs": [
    {
     "name": "stdout",
     "output_type": "stream",
     "text": [
      "Concatenated array: [1 2 3 4 5 6]\n"
     ]
    }
   ],
   "source": [
    "# Demonstrating array concatenation using concatenate function in numpy and displaying the array.\n",
    "input_array_1 = np.array([1, 2, 3])\n",
    "input_array_2 = np.array([4, 5, 6])\n",
    "print(\"Concatenated array:\", np.concatenate((input_array_1, input_array_2)))"
   ]
  },
  {
   "cell_type": "code",
   "execution_count": 8,
   "metadata": {},
   "outputs": [
    {
     "name": "stdout",
     "output_type": "stream",
     "text": [
      "Output-Vertical-Stacking : \n",
      "[[1 2]\n",
      " [3 4]\n",
      " [5 6]\n",
      " [7 8]]\n",
      "Output-Horizontal-Stacking : \n",
      "[[1 2 5 6]\n",
      " [3 4 7 8]]\n"
     ]
    }
   ],
   "source": [
    "# Demonstating of Stacking : Horizondal Stacking and Vertical Stacking using Numpy Arrays.\n",
    "input_array_3 = np.array([[1, 2], [3, 4]])\n",
    "input_array_4 = np.array([[5, 6], [7, 8]])\n",
    "print(\"Output-Vertical-Stacking : \")\n",
    "print(np.vstack((input_array_3, input_array_4)))\n",
    "print(\"Output-Horizontal-Stacking : \")\n",
    "print(np.hstack((input_array_3, input_array_4)))"
   ]
  },
  {
   "cell_type": "code",
   "execution_count": null,
   "metadata": {},
   "outputs": [],
   "source": []
  }
 ],
 "metadata": {
  "kernelspec": {
   "display_name": "Python 3",
   "language": "python",
   "name": "python3"
  },
  "language_info": {
   "codemirror_mode": {
    "name": "ipython",
    "version": 3
   },
   "file_extension": ".py",
   "mimetype": "text/x-python",
   "name": "python",
   "nbconvert_exporter": "python",
   "pygments_lexer": "ipython3",
   "version": "3.11.2"
  },
  "orig_nbformat": 4
 },
 "nbformat": 4,
 "nbformat_minor": 2
}
