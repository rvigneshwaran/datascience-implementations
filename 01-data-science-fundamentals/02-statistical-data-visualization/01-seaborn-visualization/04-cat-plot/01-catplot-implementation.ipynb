{
 "cells": [
  {
   "cell_type": "code",
   "execution_count": 1,
   "metadata": {},
   "outputs": [],
   "source": [
    "import seaborn as sns\n",
    "import matplotlib.pyplot as plt"
   ]
  },
  {
   "cell_type": "code",
   "execution_count": null,
   "metadata": {},
   "outputs": [],
   "source": [
    "# Load the dataset\n",
    "df = sns.load_dataset(\"tips\")"
   ]
  },
  {
   "cell_type": "code",
   "execution_count": null,
   "metadata": {},
   "outputs": [],
   "source": [
    "# Example 1: Default catplot\n",
    "sns.catplot(data=df, x=\"day\", y=\"total_bill\")\n",
    "plt.title(\"Default catplot\")\n",
    "plt.show()"
   ]
  },
  {
   "cell_type": "code",
   "execution_count": null,
   "metadata": {},
   "outputs": [],
   "source": [
    "# Example 2: Using hue for categorical differentiation\n",
    "sns.catplot(data=df, x=\"day\", y=\"total_bill\", hue=\"sex\")\n",
    "plt.title(\"catplot with hue\")\n",
    "plt.show()"
   ]
  },
  {
   "cell_type": "code",
   "execution_count": null,
   "metadata": {},
   "outputs": [],
   "source": [
    "# Example 3: Using col for column facets\n",
    "sns.catplot(data=df, x=\"day\", y=\"total_bill\", col=\"sex\")\n",
    "plt.suptitle(\"catplot with column facets\")\n",
    "plt.show()"
   ]
  },
  {
   "cell_type": "code",
   "execution_count": null,
   "metadata": {},
   "outputs": [],
   "source": [
    "# Example 4: Using row for row facets\n",
    "sns.catplot(data=df, x=\"day\", y=\"total_bill\", row=\"sex\")\n",
    "plt.suptitle(\"catplot with row facets\")\n",
    "plt.show()"
   ]
  },
  {
   "cell_type": "code",
   "execution_count": null,
   "metadata": {},
   "outputs": [],
   "source": [
    "# Example 5: Using hue, col, and row for multiple differentiations\n",
    "sns.catplot(data=df, x=\"day\", y=\"total_bill\", hue=\"sex\", col=\"time\", row=\"smoker\")\n",
    "plt.suptitle(\"catplot with multiple differentiations\")\n",
    "plt.show()"
   ]
  },
  {
   "cell_type": "code",
   "execution_count": null,
   "metadata": {},
   "outputs": [],
   "source": [
    "# Example 6: Using kind='strip' to show individual data points\n",
    "sns.catplot(data=df, x=\"day\", y=\"total_bill\", kind=\"strip\")\n",
    "plt.title(\"catplot with kind='strip'\")\n",
    "plt.show()"
   ]
  },
  {
   "cell_type": "code",
   "execution_count": null,
   "metadata": {},
   "outputs": [],
   "source": [
    "# Example 7: Using kind='swarm' to avoid overlapping data points\n",
    "sns.catplot(data=df, x=\"day\", y=\"total_bill\", kind=\"swarm\")\n",
    "plt.title(\"catplot with kind='swarm'\")\n",
    "plt.show()"
   ]
  },
  {
   "cell_type": "code",
   "execution_count": null,
   "metadata": {},
   "outputs": [],
   "source": [
    "# Example 8: Using kind='box' to show quartiles and outliers\n",
    "sns.catplot(data=df, x=\"day\", y=\"total_bill\", kind=\"box\")\n",
    "plt.title(\"catplot with kind='box'\")\n",
    "plt.show()"
   ]
  },
  {
   "cell_type": "code",
   "execution_count": null,
   "metadata": {},
   "outputs": [],
   "source": [
    "# Example 9: Using kind='boxen' to show quartiles and enhanced box width\n",
    "sns.catplot(data=df, x=\"day\", y=\"total_bill\", kind=\"boxen\")\n",
    "plt.title(\"catplot with kind='boxen'\")\n",
    "plt.show()"
   ]
  },
  {
   "cell_type": "code",
   "execution_count": null,
   "metadata": {},
   "outputs": [],
   "source": [
    "# Example 10: Using kind='violin' to show distribution with kernel density estimation\n",
    "sns.catplot(data=df, x=\"day\", y=\"total_bill\", kind=\"violin\")\n",
    "plt.title(\"catplot with kind='violin'\")\n",
    "plt.show()"
   ]
  },
  {
   "cell_type": "code",
   "execution_count": null,
   "metadata": {},
   "outputs": [],
   "source": [
    "# Example 11: Using kind='point' to show mean with confidence interval\n",
    "sns.catplot(data=df, x=\"day\", y=\"total_bill\", kind=\"point\")\n",
    "plt.title(\"catplot with kind='point'\")\n",
    "plt.show()"
   ]
  },
  {
   "cell_type": "code",
   "execution_count": null,
   "metadata": {},
   "outputs": [],
   "source": [
    "# Example 12: Using kind='bar' to show mean with confidence interval as bar plots\n",
    "sns.catplot(data=df, x=\"day\", y=\"total_bill\", kind=\"bar\")\n",
    "plt.title(\"catplot with kind='bar'\")\n",
    "plt.show()"
   ]
  },
  {
   "cell_type": "code",
   "execution_count": null,
   "metadata": {},
   "outputs": [],
   "source": [
    "# Example 13: Using kind='count' to show count of occurrences\n",
    "sns.catplot(data=df, x=\"day\", kind=\"count\")\n",
    "plt.title(\"catplot with kind='count'\")\n",
    "plt.show()"
   ]
  },
  {
   "cell_type": "code",
   "execution_count": null,
   "metadata": {},
   "outputs": [],
   "source": [
    "# Example 14: Using order to specify the order of categories\n",
    "sns.catplot(data=df, x=\"day\", y=\"total_bill\", order=[\"Sun\", \"Sat\", \"Fri\", \"Thur\"])\n",
    "plt.title(\"catplot with custom category order\")\n",
    "plt.show()"
   ]
  },
  {
   "cell_type": "code",
   "execution_count": null,
   "metadata": {},
   "outputs": [],
   "source": [
    "# Example 15: Using hue_order to specify the order of hue categories\n",
    "sns.catplot(data=df, x=\"day\", y=\"total_bill\", hue=\"sex\", hue_order=[\"Female\", \"Male\"])\n",
    "plt.title(\"catplot with custom hue category order\")\n",
    "plt.show()"
   ]
  }
 ],
 "metadata": {
  "kernelspec": {
   "display_name": "Python 3",
   "language": "python",
   "name": "python3"
  },
  "language_info": {
   "codemirror_mode": {
    "name": "ipython",
    "version": 3
   },
   "file_extension": ".py",
   "mimetype": "text/x-python",
   "name": "python",
   "nbconvert_exporter": "python",
   "pygments_lexer": "ipython3",
   "version": "3.11.2"
  },
  "orig_nbformat": 4
 },
 "nbformat": 4,
 "nbformat_minor": 2
}
