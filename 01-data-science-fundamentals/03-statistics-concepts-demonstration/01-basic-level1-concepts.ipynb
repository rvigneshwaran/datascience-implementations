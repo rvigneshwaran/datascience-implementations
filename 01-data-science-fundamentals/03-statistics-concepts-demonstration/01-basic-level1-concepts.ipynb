{
 "cells": [
  {
   "cell_type": "markdown",
   "metadata": {},
   "source": [
    "# Introduction to Statistics, Data Description and Random Samples.\n",
    "\n",
    "In the below code, we first import the necessary libraries, such as NumPy, which is a powerful library for numerical operations in Python.\n",
    "\n",
    "For the introduction to statistics, we generate a random dataset using np.random.randint() and calculate the mean, median, and mode using `np.mean()`, `np.median()`, and `np.argmax(np.bincount())`, respectively.\n",
    "\n",
    "For data description, we calculate the range, variance, and standard deviation using `np.ptp()`, `np.var()`, and `np.std()`, respectively.\n",
    "\n",
    "Lastly, for random samples, we generate a random sample of size 10 using `np.random.choice()`."
   ]
  },
  {
   "cell_type": "code",
   "execution_count": 10,
   "metadata": {},
   "outputs": [],
   "source": [
    "# Importing the required libraries\n",
    "import numpy as np\n"
   ]
  },
  {
   "cell_type": "code",
   "execution_count": 11,
   "metadata": {},
   "outputs": [],
   "source": [
    "# Generating a random dataset\n",
    "np.random.seed(42)\n",
    "data = np.random.randint(0, 100, 100)"
   ]
  },
  {
   "cell_type": "code",
   "execution_count": 12,
   "metadata": {},
   "outputs": [
    {
     "name": "stdout",
     "output_type": "stream",
     "text": [
      "Mean: 50.54\n"
     ]
    }
   ],
   "source": [
    "# Calculating the mean\n",
    "mean = np.mean(data)\n",
    "print(f\"Mean: {mean}\")"
   ]
  },
  {
   "cell_type": "code",
   "execution_count": 13,
   "metadata": {},
   "outputs": [
    {
     "name": "stdout",
     "output_type": "stream",
     "text": [
      "Median: 53.0\n"
     ]
    }
   ],
   "source": [
    "# Calculating the median\n",
    "median = np.median(data)\n",
    "print(f\"Median: {median}\")"
   ]
  },
  {
   "cell_type": "code",
   "execution_count": 14,
   "metadata": {},
   "outputs": [
    {
     "name": "stdout",
     "output_type": "stream",
     "text": [
      "Mode: 61\n"
     ]
    }
   ],
   "source": [
    "# Calculating the mode\n",
    "mode = np.argmax(np.bincount(data))\n",
    "print(f\"Mode: {mode}\")"
   ]
  },
  {
   "cell_type": "code",
   "execution_count": 15,
   "metadata": {},
   "outputs": [
    {
     "name": "stdout",
     "output_type": "stream",
     "text": [
      "Range: 98\n"
     ]
    }
   ],
   "source": [
    "# Data Description\n",
    "\n",
    "# Calculating the range\n",
    "range_val = np.ptp(data)\n",
    "print(f\"Range: {range_val}\")"
   ]
  },
  {
   "cell_type": "code",
   "execution_count": 16,
   "metadata": {},
   "outputs": [
    {
     "name": "stdout",
     "output_type": "stream",
     "text": [
      "Variance: 857.2284\n"
     ]
    }
   ],
   "source": [
    "# Calculating the variance\n",
    "variance = np.var(data)\n",
    "print(f\"Variance: {variance}\")"
   ]
  },
  {
   "cell_type": "code",
   "execution_count": 17,
   "metadata": {},
   "outputs": [
    {
     "name": "stdout",
     "output_type": "stream",
     "text": [
      "Standard Deviation: 29.278463074417004\n"
     ]
    }
   ],
   "source": [
    "# Calculating the standard deviation\n",
    "std_dev = np.std(data)\n",
    "print(f\"Standard Deviation: {std_dev}\")"
   ]
  },
  {
   "cell_type": "code",
   "execution_count": 18,
   "metadata": {},
   "outputs": [
    {
     "name": "stdout",
     "output_type": "stream",
     "text": [
      "Random Sample: [ 3 86 21  3 91  1 33 13 53 53]\n"
     ]
    }
   ],
   "source": [
    "# Random Samples\n",
    "\n",
    "# Generating a random sample\n",
    "np.random.seed(42)\n",
    "sample = np.random.choice(data, 10)\n",
    "print(f\"Random Sample: {sample}\")"
   ]
  }
 ],
 "metadata": {
  "kernelspec": {
   "display_name": "Python 3",
   "language": "python",
   "name": "python3"
  },
  "language_info": {
   "codemirror_mode": {
    "name": "ipython",
    "version": 3
   },
   "file_extension": ".py",
   "mimetype": "text/x-python",
   "name": "python",
   "nbconvert_exporter": "python",
   "pygments_lexer": "ipython3",
   "version": "3.11.2"
  },
  "orig_nbformat": 4
 },
 "nbformat": 4,
 "nbformat_minor": 2
}
