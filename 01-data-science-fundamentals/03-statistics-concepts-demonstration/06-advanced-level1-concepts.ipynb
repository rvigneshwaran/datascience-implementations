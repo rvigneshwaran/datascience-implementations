{
 "cells": [
  {
   "cell_type": "markdown",
   "metadata": {},
   "source": [
    "## Reliability Engineering"
   ]
  },
  {
   "cell_type": "code",
   "execution_count": 95,
   "metadata": {},
   "outputs": [],
   "source": [
    "# Importing the required libraries\n",
    "import numpy as np\n",
    "import scipy.stats as stats"
   ]
  },
  {
   "cell_type": "code",
   "execution_count": 96,
   "metadata": {},
   "outputs": [],
   "source": [
    "# Generating example data\n",
    "np.random.seed(42)"
   ]
  },
  {
   "cell_type": "code",
   "execution_count": 97,
   "metadata": {},
   "outputs": [
    {
     "name": "stdout",
     "output_type": "stream",
     "text": [
      "Example 1: Failure Time Data\n",
      "Failure Times: [ 50  60  70  80  90 100 110 120 130 140 150]\n",
      "\n"
     ]
    }
   ],
   "source": [
    "# Example 1: Failure Time Data\n",
    "failure_times = np.array([50, 60, 70, 80, 90, 100, 110, 120, 130, 140, 150])\n",
    "print(\"Example 1: Failure Time Data\")\n",
    "print(\"Failure Times:\", failure_times)\n",
    "print()\n"
   ]
  },
  {
   "cell_type": "code",
   "execution_count": 98,
   "metadata": {},
   "outputs": [
    {
     "name": "stdout",
     "output_type": "stream",
     "text": [
      "Example 2: Repair Time Data\n",
      "Repair Times: [10 15 20 25 30 35 40 45 50 55 60]\n",
      "\n"
     ]
    }
   ],
   "source": [
    "# Example 2: Repair Time Data\n",
    "repair_times = np.array([10, 15, 20, 25, 30, 35, 40, 45, 50, 55, 60])\n",
    "print(\"Example 2: Repair Time Data\")\n",
    "print(\"Repair Times:\", repair_times)\n",
    "print()\n"
   ]
  },
  {
   "cell_type": "code",
   "execution_count": 99,
   "metadata": {},
   "outputs": [
    {
     "name": "stdout",
     "output_type": "stream",
     "text": [
      "Example 3: Reliability Calculation\n",
      "Reliability: 0.5454545454545454\n",
      "\n"
     ]
    }
   ],
   "source": [
    "# Example 3: Reliability Calculation\n",
    "failure_prob = 1 - stats.percentileofscore(failure_times, 100, kind='weak') / 100\n",
    "reliability = np.prod(1 - failure_prob)\n",
    "print(\"Example 3: Reliability Calculation\")\n",
    "print(\"Reliability:\", reliability)\n",
    "print()"
   ]
  },
  {
   "cell_type": "code",
   "execution_count": 100,
   "metadata": {},
   "outputs": [
    {
     "name": "stdout",
     "output_type": "stream",
     "text": [
      "Example 4: Mean Time Between Failures (MTBF)\n",
      "MTBF: 100.0\n",
      "\n"
     ]
    }
   ],
   "source": [
    "# Example 4: Mean Time Between Failures (MTBF)\n",
    "mtbf = np.mean(failure_times)\n",
    "print(\"Example 4: Mean Time Between Failures (MTBF)\")\n",
    "print(\"MTBF:\", mtbf)\n",
    "print()"
   ]
  },
  {
   "cell_type": "code",
   "execution_count": 101,
   "metadata": {},
   "outputs": [
    {
     "name": "stdout",
     "output_type": "stream",
     "text": [
      "Example 5: Availability Calculation\n",
      "Availability: 0.7407407407407407\n",
      "\n"
     ]
    }
   ],
   "source": [
    "# Example 5: Availability Calculation\n",
    "availability = mtbf / (mtbf + np.mean(repair_times))\n",
    "print(\"Example 5: Availability Calculation\")\n",
    "print(\"Availability:\", availability)\n",
    "print()"
   ]
  },
  {
   "cell_type": "code",
   "execution_count": 102,
   "metadata": {},
   "outputs": [
    {
     "name": "stdout",
     "output_type": "stream",
     "text": [
      "Example 6: Hazard Function (Instantaneous Failure Rate)\n",
      "Hazard Function: 0.01\n",
      "\n"
     ]
    }
   ],
   "source": [
    "# Example 6: Hazard Function (Instantaneous Failure Rate)\n",
    "hazard_func = 1 / mtbf\n",
    "print(\"Example 6: Hazard Function (Instantaneous Failure Rate)\")\n",
    "print(\"Hazard Function:\", hazard_func)\n",
    "print()\n"
   ]
  },
  {
   "cell_type": "code",
   "execution_count": 103,
   "metadata": {},
   "outputs": [
    {
     "name": "stdout",
     "output_type": "stream",
     "text": [
      "Example 7: Reliability Growth Analysis (Crow-AMSAA)\n",
      "Slope: 0.9371358154193424\n",
      "Intercept: -1.4294245978421962\n",
      "\n"
     ]
    }
   ],
   "source": [
    "# Example 7: Reliability Growth Analysis (Crow-AMSAA)\n",
    "failure_counts = np.array([2, 4, 8, 12, 16, 20])\n",
    "time_periods = np.array([100, 200, 300, 400, 500, 600])\n",
    "cumulative_failures = np.cumsum(failure_counts)\n",
    "cumulative_failures_per_hour = cumulative_failures / (time_periods / 1000)\n",
    "# Fitting Crow-AMSAA model\n",
    "slope, intercept, r_value, _, _ = stats.linregress(np.log(time_periods), np.log(cumulative_failures_per_hour))\n",
    "print(\"Example 7: Reliability Growth Analysis (Crow-AMSAA)\")\n",
    "print(\"Slope:\", slope)\n",
    "print(\"Intercept:\", intercept)\n",
    "print()"
   ]
  },
  {
   "cell_type": "code",
   "execution_count": 104,
   "metadata": {},
   "outputs": [
    {
     "name": "stdout",
     "output_type": "stream",
     "text": [
      "Example 8: Reliability Prediction (Weibull Distribution)\n",
      "Shape: 0.4090454705482308\n",
      "Location: 999.9992011686929\n",
      "Scale: 2450.906010048706\n",
      "Reliability Prediction: [0.99778133 0.50006194 0.39843893 0.33749466 0.2946847 ]\n",
      "\n"
     ]
    }
   ],
   "source": [
    "# Example 8: Reliability Prediction (Weibull Distribution)\n",
    "time = np.array([1000, 2000, 3000, 4000, 5000])\n",
    "failures = np.array([2, 5, 10, 15, 20])\n",
    "# Fitting Weibull distribution\n",
    "shape, loc, scale = stats.weibull_min.fit(time, loc=0)\n",
    "# Reliability prediction\n",
    "reliability_pred = stats.weibull_min.sf(time, shape, loc, scale)\n",
    "print(\"Example 8: Reliability Prediction (Weibull Distribution)\")\n",
    "print(\"Shape:\", shape)\n",
    "print(\"Location:\", loc)\n",
    "print(\"Scale:\", scale)\n",
    "print(\"Reliability Prediction:\", reliability_pred)\n",
    "print()"
   ]
  },
  {
   "cell_type": "code",
   "execution_count": 105,
   "metadata": {},
   "outputs": [
    {
     "name": "stdout",
     "output_type": "stream",
     "text": [
      "Example 9: Accelerated Life Testing (Arrhenius Model)\n",
      "Slope: -4836.643022844421\n",
      "Intercept: 13.001125933295322\n",
      "\n"
     ]
    }
   ],
   "source": [
    "# Example 9: Accelerated Life Testing (Arrhenius Model)\n",
    "stress = np.array([100, 120, 140, 160, 180])\n",
    "failures_alt = np.array([1, 2, 4, 6, 10])\n",
    "# Fitting Arrhenius model\n",
    "slope_alt, intercept_alt, _, _, _ = stats.linregress(1 / (273 + stress), np.log(failures_alt))\n",
    "print(\"Example 9: Accelerated Life Testing (Arrhenius Model)\")\n",
    "print(\"Slope:\", slope_alt)\n",
    "print(\"Intercept:\", intercept_alt)\n",
    "print()"
   ]
  },
  {
   "cell_type": "code",
   "execution_count": 106,
   "metadata": {},
   "outputs": [
    {
     "name": "stdout",
     "output_type": "stream",
     "text": [
      "Example 10: Life Data Analysis (Probit Analysis)\n",
      "Slope: 0.03362461287272521\n",
      "Intercept: 0.4558960652719011\n",
      "\n"
     ]
    }
   ],
   "source": [
    "# Example 10: Life Data Analysis (Probit Analysis)\n",
    "dosage = np.array([10, 20, 30, 40, 50])\n",
    "successes = np.array([9, 15, 19, 24, 25])\n",
    "failures_lda = np.array([1, 5, 1, 0, 0])\n",
    "# Calculating Probit values\n",
    "probit_values = stats.norm.ppf((successes + 0.5) / (successes + failures_lda + 1))\n",
    "# Fitting Probit model\n",
    "slope_lda, intercept_lda, _, _, _ = stats.linregress(dosage, probit_values)\n",
    "print(\"Example 10: Life Data Analysis (Probit Analysis)\")\n",
    "print(\"Slope:\", slope_lda)\n",
    "print(\"Intercept:\", intercept_lda)\n",
    "print()\n"
   ]
  },
  {
   "cell_type": "code",
   "execution_count": 107,
   "metadata": {},
   "outputs": [
    {
     "name": "stdout",
     "output_type": "stream",
     "text": [
      "Example 11: Series System Reliability\n",
      "System Reliability: 0.5454545454545454\n",
      "\n"
     ]
    }
   ],
   "source": [
    "# Example 11: Series System Reliability\n",
    "system_reliability = np.prod(reliability)\n",
    "print(\"Example 11: Series System Reliability\")\n",
    "print(\"System Reliability:\", system_reliability)\n",
    "print()"
   ]
  },
  {
   "cell_type": "code",
   "execution_count": 108,
   "metadata": {},
   "outputs": [
    {
     "name": "stdout",
     "output_type": "stream",
     "text": [
      "Example 12: Parallel System Reliability\n",
      "System Reliability (Parallel): 0.4545454545454546\n",
      "\n"
     ]
    }
   ],
   "source": [
    "# Example 12: Parallel System Reliability\n",
    "system_reliability_parallel = 1 - np.prod(1 - failure_prob)\n",
    "print(\"Example 12: Parallel System Reliability\")\n",
    "print(\"System Reliability (Parallel):\", system_reliability_parallel)\n",
    "print()"
   ]
  },
  {
   "cell_type": "code",
   "execution_count": 109,
   "metadata": {},
   "outputs": [
    {
     "name": "stdout",
     "output_type": "stream",
     "text": [
      "Example 13: Series-Parallel System Reliability\n",
      "System Reliability (Series-Parallel): 0.7933884297520661\n",
      "\n"
     ]
    }
   ],
   "source": [
    "# Example 13: Series-Parallel System Reliability\n",
    "system_reliability_spar = reliability + (1 - reliability) * reliability\n",
    "print(\"Example 13: Series-Parallel System Reliability\")\n",
    "print(\"System Reliability (Series-Parallel):\", system_reliability_spar)\n",
    "print()"
   ]
  },
  {
   "cell_type": "code",
   "execution_count": 110,
   "metadata": {},
   "outputs": [
    {
     "name": "stdout",
     "output_type": "stream",
     "text": [
      "Example 14: Mean Time to Failure (MTTF)\n",
      "MTTF: 100.0\n",
      "\n"
     ]
    }
   ],
   "source": [
    "# Example 14: Mean Time to Failure (MTTF)\n",
    "mttf = np.mean(failure_times)\n",
    "print(\"Example 14: Mean Time to Failure (MTTF)\")\n",
    "print(\"MTTF:\", mttf)\n",
    "print()"
   ]
  },
  {
   "cell_type": "code",
   "execution_count": 111,
   "metadata": {},
   "outputs": [
    {
     "name": "stdout",
     "output_type": "stream",
     "text": [
      "Example 15: Failure Rate\n",
      "Failure Rate: 0.01\n",
      "\n"
     ]
    }
   ],
   "source": [
    "# Example 15: Failure Rate\n",
    "failure_rate = 1 / mtbf\n",
    "print(\"Example 15: Failure Rate\")\n",
    "print(\"Failure Rate:\", failure_rate)\n",
    "print()"
   ]
  },
  {
   "cell_type": "code",
   "execution_count": 112,
   "metadata": {},
   "outputs": [
    {
     "name": "stdout",
     "output_type": "stream",
     "text": [
      "Example 16: Reliability Block Diagram (RBD) Analysis\n",
      "Reliability (Component 1): 0.0\n",
      "Reliability (Component 2): 0.8333333333333333\n",
      "Reliability (RBD): 0.0\n",
      "\n"
     ]
    }
   ],
   "source": [
    "# Example 16: Reliability Block Diagram (RBD) Analysis\n",
    "failure_prob_component1 = 1 - stats.percentileofscore(failure_times[:5], 100, kind='weak') / 100\n",
    "failure_prob_component2 = 1 - stats.percentileofscore(failure_times[5:], 100, kind='weak') / 100\n",
    "reliability_rbd = failure_prob_component1 * failure_prob_component2\n",
    "print(\"Example 16: Reliability Block Diagram (RBD) Analysis\")\n",
    "print(\"Reliability (Component 1):\", failure_prob_component1)\n",
    "print(\"Reliability (Component 2):\", failure_prob_component2)\n",
    "print(\"Reliability (RBD):\", reliability_rbd)\n",
    "print()"
   ]
  },
  {
   "cell_type": "code",
   "execution_count": 113,
   "metadata": {},
   "outputs": [
    {
     "name": "stdout",
     "output_type": "stream",
     "text": [
      "Example 17: Constant Failure Rate Model\n",
      "MTBF (Constant): 50.0\n",
      "Failure Rate (Constant): 0.02\n",
      "\n"
     ]
    }
   ],
   "source": [
    "# Example 17: Constant Failure Rate Model\n",
    "failure_times_constant = np.array([50, 50, 50, 50, 50, 50])\n",
    "mtbf_constant = np.mean(failure_times_constant)\n",
    "failure_rate_constant = 1 / mtbf_constant\n",
    "print(\"Example 17: Constant Failure Rate Model\")\n",
    "print(\"MTBF (Constant):\", mtbf_constant)\n",
    "print(\"Failure Rate (Constant):\", failure_rate_constant)\n",
    "print()"
   ]
  },
  {
   "cell_type": "code",
   "execution_count": 114,
   "metadata": {},
   "outputs": [
    {
     "name": "stdout",
     "output_type": "stream",
     "text": [
      "Example 18: Exponential Distribution Model\n",
      "Failure Rate (Exponential): 0.01\n",
      "\n"
     ]
    }
   ],
   "source": [
    "# Example 18: Exponential Distribution Model\n",
    "failure_times_exp = np.random.exponential(scale=mtbf, size=1000)\n",
    "failure_rate_exp = 1 / mtbf\n",
    "print(\"Example 18: Exponential Distribution Model\")\n",
    "print(\"Failure Rate (Exponential):\", failure_rate_exp)\n",
    "print()"
   ]
  },
  {
   "cell_type": "code",
   "execution_count": 115,
   "metadata": {},
   "outputs": [
    {
     "name": "stdout",
     "output_type": "stream",
     "text": [
      "Example 19: Log-Normal Distribution Model\n",
      "Failure Rate (Log-Normal): 0.01\n",
      "\n"
     ]
    }
   ],
   "source": [
    "# Example 19: Log-Normal Distribution Model\n",
    "ln_failure_times = np.exp(np.random.normal(np.log(mttf), 0.5, size=1000))\n",
    "failure_rate_ln = 1 / mttf\n",
    "print(\"Example 19: Log-Normal Distribution Model\")\n",
    "print(\"Failure Rate (Log-Normal):\", failure_rate_ln)\n",
    "print()"
   ]
  },
  {
   "cell_type": "code",
   "execution_count": 116,
   "metadata": {},
   "outputs": [
    {
     "name": "stdout",
     "output_type": "stream",
     "text": [
      "Example 20: Weibull Distribution Model\n",
      "Shape (Weibull): 2.1740058970325276\n",
      "Location (Weibull): 35.36493696244493\n",
      "Scale (Weibull): 73.02203319374141\n",
      "Failure Rate (Weibull): [0.00437615 0.00756623 0.01017867 0.01185452 0.012438   0.01198084\n",
      " 0.01070349 0.00892206 0.00696485 0.00510375 0.00351609]\n",
      "\n"
     ]
    }
   ],
   "source": [
    "# Example 20: Weibull Distribution Model\n",
    "shape_weibull, loc_weibull, scale_weibull = stats.weibull_min.fit(failure_times)\n",
    "failure_rate_weibull = stats.weibull_min.pdf(failure_times, shape_weibull, loc_weibull, scale_weibull)\n",
    "print(\"Example 20: Weibull Distribution Model\")\n",
    "print(\"Shape (Weibull):\", shape_weibull)\n",
    "print(\"Location (Weibull):\", loc_weibull)\n",
    "print(\"Scale (Weibull):\", scale_weibull)\n",
    "print(\"Failure Rate (Weibull):\", failure_rate_weibull)\n",
    "print()"
   ]
  },
  {
   "cell_type": "code",
   "execution_count": 117,
   "metadata": {},
   "outputs": [
    {
     "name": "stdout",
     "output_type": "stream",
     "text": [
      "Example 21: Rayleigh Distribution Model\n",
      "Failure Rate (Rayleigh): [0.01  0.012 0.014 0.016 0.018 0.02  0.022 0.024 0.026 0.028 0.03 ]\n",
      "\n"
     ]
    }
   ],
   "source": [
    "# Example 21: Rayleigh Distribution Model\n",
    "rayleigh_failure_times = np.random.rayleigh(scale=mtbf / np.sqrt(np.pi / 2), size=1000)\n",
    "failure_rate_rayleigh = (2 * failure_times) / (mtbf**2)\n",
    "print(\"Example 21: Rayleigh Distribution Model\")\n",
    "print(\"Failure Rate (Rayleigh):\", failure_rate_rayleigh)\n",
    "print()"
   ]
  },
  {
   "cell_type": "code",
   "execution_count": 118,
   "metadata": {},
   "outputs": [
    {
     "name": "stdout",
     "output_type": "stream",
     "text": [
      "Example 22: Log-Logistic Distribution Model\n",
      "Failure Rate (Log-Logistic): [0.00424909 0.00694374 0.00864745 0.00926196 0.0090208  0.0082626\n",
      " 0.00727801 0.00625922 0.00531009 0.00447455 0.0037622 ]\n",
      "\n"
     ]
    }
   ],
   "source": [
    "# Example 22: Log-Logistic Distribution Model\n",
    "loglogistic_failure_times = stats.fisk.rvs(c=shape_weibull, loc=loc_weibull, scale=scale_weibull, size=1000)\n",
    "failure_rate_loglogistic = stats.fisk.pdf(failure_times, c=shape_weibull, loc=loc_weibull, scale=scale_weibull)\n",
    "print(\"Example 22: Log-Logistic Distribution Model\")\n",
    "print(\"Failure Rate (Log-Logistic):\", failure_rate_loglogistic)\n",
    "print()"
   ]
  },
  {
   "cell_type": "code",
   "execution_count": 119,
   "metadata": {},
   "outputs": [
    {
     "name": "stdout",
     "output_type": "stream",
     "text": [
      "Example 23: Accelerated Life Testing (Arrhenius Model) with Activation Energy\n",
      "Slope: -513.0602754248159\n",
      "Intercept: 5.060313798253519\n",
      "Accelerated Factor: 157.6399757118894\n",
      "\n"
     ]
    }
   ],
   "source": [
    "# Example 23: Accelerated Life Testing (Arrhenius Model) with Activation Energy\n",
    "temperature = np.array([100, 120, 140, 160, 180])\n",
    "failures_alt_activation = np.array([1, 2, 4, 6, 10])\n",
    "\n",
    "# Fitting Arrhenius model with activation energy\n",
    "slope_alt_activation, intercept_alt_activation, _, _, _ = stats.linregress(1 / temperature, np.log(failures_alt_activation))\n",
    "accelerated_factor = np.exp(intercept_alt_activation)\n",
    "print(\"Example 23: Accelerated Life Testing (Arrhenius Model) with Activation Energy\")\n",
    "print(\"Slope:\", slope_alt_activation)\n",
    "print(\"Intercept:\", intercept_alt_activation)\n",
    "print(\"Accelerated Factor:\", accelerated_factor)\n",
    "print()"
   ]
  }
 ],
 "metadata": {
  "kernelspec": {
   "display_name": "Python 3",
   "language": "python",
   "name": "python3"
  },
  "language_info": {
   "codemirror_mode": {
    "name": "ipython",
    "version": 3
   },
   "file_extension": ".py",
   "mimetype": "text/x-python",
   "name": "python",
   "nbconvert_exporter": "python",
   "pygments_lexer": "ipython3",
   "version": "3.11.2"
  },
  "orig_nbformat": 4
 },
 "nbformat": 4,
 "nbformat_minor": 2
}
