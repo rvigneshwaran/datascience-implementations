{
 "cells": [
  {
   "cell_type": "markdown",
   "metadata": {},
   "source": [
    "## Two-Sample t-test\n",
    "\n",
    "Let's say we want to compare the heights of two groups of individuals, Group A and Group B. We have collected height measurements from each group, and we want to determine if there is a significant difference in the mean heights between the two groups.\n",
    "\n",
    "H0 (Null Hypothesis): The mean height of Group A is equal to the mean height of Group B.\n",
    "H1 (Alternative Hypothesis): The mean height of Group A is different from the mean height of Group B.\n",
    "\n",
    "We have the following height measurements for each group:\n",
    "\n",
    "Group A: [165, 170, 172, 168, 175]\n",
    "Group B: [160, 165, 168, 172, 180]\n",
    "\n",
    "To perform the Two-Sample t-test, we can use the `stats.ttest_ind()` function from the SciPy library.\n",
    "In this example,\n",
    "1. We import the necessary libraries, including NumPy for numerical operations and SciPy for statistical tests.\n",
    "2. We define the height measurements for Group A and Group B as NumPy arrays.\n",
    "3. Then, we perform the Two-Sample t-test using `stats.ttest_ind()` by passing the height measurements of both groups. The function returns the t-statistic and the p-value.\n",
    "4. We set the significance level (`alpha`) to 0.05, which represents the threshold for determining statistical significance.\n",
    "Finally, we compare the obtained p-value with the significance level to make a decision. If the p-value is less than alpha, we reject the null hypothesis, indicating a significant difference in mean heights between the two groups. Otherwise, we fail to reject the null hypothesis, suggesting that there is not enough evidence to conclude a significant difference.\n",
    "6. The t-statistic measures the difference in mean heights relative to the variation within the groups, and the p-value represents the probability of observing such a difference if the null hypothesis is true (i.e., there is no difference in mean heights between the groups)."
   ]
  },
  {
   "cell_type": "code",
   "execution_count": 1,
   "metadata": {},
   "outputs": [],
   "source": [
    "import numpy as np\n",
    "import scipy.stats as stats"
   ]
  },
  {
   "cell_type": "code",
   "execution_count": 2,
   "metadata": {},
   "outputs": [],
   "source": [
    "# Heights of Group A and Group B\n",
    "group_a_heights = np.array([165, 170, 172, 168, 175])\n",
    "group_b_heights = np.array([160, 165, 168, 172, 180])"
   ]
  },
  {
   "cell_type": "code",
   "execution_count": 3,
   "metadata": {},
   "outputs": [],
   "source": [
    "# Perform Two-Sample t-test\n",
    "t_statistic, p_value = stats.ttest_ind(group_a_heights, group_b_heights)"
   ]
  },
  {
   "cell_type": "code",
   "execution_count": 4,
   "metadata": {},
   "outputs": [],
   "source": [
    "# Set the significance level (alpha)\n",
    "alpha = 0.05"
   ]
  },
  {
   "cell_type": "code",
   "execution_count": 5,
   "metadata": {},
   "outputs": [
    {
     "name": "stdout",
     "output_type": "stream",
     "text": [
      "Fail to reject the null hypothesis\n"
     ]
    }
   ],
   "source": [
    "# Compare p-value with alpha\n",
    "if p_value < alpha:\n",
    "    print(\"Reject the null hypothesis\")\n",
    "else:\n",
    "    print(\"Fail to reject the null hypothesis\")"
   ]
  },
  {
   "cell_type": "code",
   "execution_count": 6,
   "metadata": {},
   "outputs": [
    {
     "name": "stdout",
     "output_type": "stream",
     "text": [
      "t-statistic: 0.2644429426739725\n",
      "p-value: 0.7981238239179185\n"
     ]
    }
   ],
   "source": [
    "# Display the t-statistic and p-value\n",
    "print(f\"t-statistic: {t_statistic}\")\n",
    "print(f\"p-value: {p_value}\")"
   ]
  }
 ],
 "metadata": {
  "kernelspec": {
   "display_name": "Python 3",
   "language": "python",
   "name": "python3"
  },
  "language_info": {
   "codemirror_mode": {
    "name": "ipython",
    "version": 3
   },
   "file_extension": ".py",
   "mimetype": "text/x-python",
   "name": "python",
   "nbconvert_exporter": "python",
   "pygments_lexer": "ipython3",
   "version": "3.11.2"
  },
  "orig_nbformat": 4
 },
 "nbformat": 4,
 "nbformat_minor": 2
}
