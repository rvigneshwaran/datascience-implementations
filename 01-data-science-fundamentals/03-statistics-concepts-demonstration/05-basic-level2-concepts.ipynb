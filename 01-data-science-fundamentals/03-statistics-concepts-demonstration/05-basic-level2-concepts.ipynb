{
 "cells": [
  {
   "cell_type": "markdown",
   "metadata": {},
   "source": [
    "## ANOVA - Analysis of Variance\n",
    "\n",
    "1. In the below code, we first import the necessary libraries, including NumPy for numerical operations and SciPy for statistical tests.\n",
    "2. We generate data for three groups (`group1_data`, `group2_data`, `group3_data`) using the `np.random.normal()` function to 3.represent the observations in each group.\n",
    "3. We then perform a one-way ANOVA using the `stats.f_oneway()` function from SciPy. This test compares the means of multiple groups to determine if there is a significant difference between them. It returns the F-statistic and the p-value.\n",
    "4. Next, we set the significance level (`alpha`) to 0.05, which is commonly used in hypothesis testing. This represents the threshold for determining statistical significance.\n",
    "5. We check the p-value against the significance level. If the p-value is less than alpha, we reject the null hypothesis; otherwise, we fail to reject the null hypothesis.\n",
    "6. Finally, we display the F-statistic and p-value to provide additional information about the test results.\n",
    "\n",
    "ANOVA allows us to determine if there are any significant differences in means between multiple groups. By running this code, you can see the result of the one-way ANOVA and determine if there is a significant difference in means between the three groups.\n",
    "\n",
    "- Example 1: ANOVA with equal group means\n",
    "- Example 2: ANOVA with unequal group means\n",
    "- Example 3: ANOVA with unequal group variances\n",
    "- Example 4: ANOVA with unequal group sizes\n",
    "- Example 5: ANOVA with missing values (NaNs)\n",
    "- Example 6: Two-way ANOVA with interaction effect\n",
    "- Example 7: Two-way ANOVA without interaction effect\n",
    "- Example 8: One-way repeated measures ANOVA\n",
    "- Example 9: ANOVA with non-normal data\n",
    "- Example 10: ANOVA with non-parametric alternative test (Kruskal-Wallis test)\n",
    "\n",
    "Each example demonstrates a specific variation of ANOVA and checks the obtained p-value against the significance level to determine whether to reject or fail to reject the null hypothesis. The code also displays the F-statistic (or Kruskal-Wallis statistic) and the p-value for each test."
   ]
  },
  {
   "cell_type": "code",
   "execution_count": 19,
   "metadata": {},
   "outputs": [],
   "source": [
    "# Importing the required libraries\n",
    "import numpy as np\n",
    "import scipy.stats as stats"
   ]
  },
  {
   "cell_type": "code",
   "execution_count": 20,
   "metadata": {},
   "outputs": [],
   "source": [
    "# Setting the significance level (alpha)\n",
    "alpha = 0.05"
   ]
  },
  {
   "cell_type": "markdown",
   "metadata": {},
   "source": [
    "Example 1: ANOVA with equal group means\n",
    "\n",
    "In this example, we generate three groups of data (`group1_data`, `group2_data`, `group3_data`) with equal means but different variances. We perform a one-way ANOVA using `stats.f_oneway()` to test if there is a significant difference between the means of the groups. We check the p-value against the significance level (`alpha`) and display the F-statistic and p-value."
   ]
  },
  {
   "cell_type": "code",
   "execution_count": 21,
   "metadata": {},
   "outputs": [
    {
     "name": "stdout",
     "output_type": "stream",
     "text": [
      "Fail to reject the null hypothesis\n",
      "F-statistic: 0.9100682232514057\n",
      "p-value: 0.4047522508412271\n"
     ]
    }
   ],
   "source": [
    "# Example 1: ANOVA with equal group means\n",
    "np.random.seed(42)\n",
    "\n",
    "group1_data = np.random.normal(loc=10, scale=2, size=50)\n",
    "group2_data = np.random.normal(loc=10, scale=2, size=50)\n",
    "group3_data = np.random.normal(loc=10, scale=2, size=50)\n",
    "\n",
    "f_statistic, p_value = stats.f_oneway(group1_data, group2_data, group3_data)\n",
    "\n",
    "if p_value < alpha:\n",
    "    print(\"Reject the null hypothesis\")\n",
    "else:\n",
    "    print(\"Fail to reject the null hypothesis\")\n",
    "\n",
    "print(f\"F-statistic: {f_statistic}\")\n",
    "print(f\"p-value: {p_value}\")"
   ]
  },
  {
   "cell_type": "markdown",
   "metadata": {},
   "source": [
    "Example 2: ANOVA with unequal group means\n",
    "\n",
    "This example is similar to the previous one, but now the means of the three groups (`group1_data`, `group2_data`, `group3_data`) are different. We perform a one-way ANOVA and interpret the results by comparing the p-value with the significance level."
   ]
  },
  {
   "cell_type": "code",
   "execution_count": 22,
   "metadata": {},
   "outputs": [
    {
     "name": "stdout",
     "output_type": "stream",
     "text": [
      "Reject the null hypothesis\n",
      "F-statistic: 101.63413536241711\n",
      "p-value: 1.9247105735805746e-28\n"
     ]
    }
   ],
   "source": [
    "# Example 2: ANOVA with unequal group means\n",
    "np.random.seed(42)\n",
    "\n",
    "group1_data = np.random.normal(loc=10, scale=2, size=50)\n",
    "group2_data = np.random.normal(loc=12, scale=2, size=50)\n",
    "group3_data = np.random.normal(loc=15, scale=2, size=50)\n",
    "\n",
    "f_statistic, p_value = stats.f_oneway(group1_data, group2_data, group3_data)\n",
    "\n",
    "if p_value < alpha:\n",
    "    print(\"Reject the null hypothesis\")\n",
    "else:\n",
    "    print(\"Fail to reject the null hypothesis\")\n",
    "\n",
    "print(f\"F-statistic: {f_statistic}\")\n",
    "print(f\"p-value: {p_value}\")"
   ]
  },
  {
   "cell_type": "markdown",
   "metadata": {},
   "source": [
    "Example 3: ANOVA with unequal group variances\n",
    "\n",
    "In this example, the three groups (`group1_data`, `group2_data`, `group3_data`) have different variances but the same mean. We perform a one-way ANOVA to test if there is a significant difference in means between the groups, considering the variation within each group. The results are interpreted by comparing the p-value with the significance level."
   ]
  },
  {
   "cell_type": "code",
   "execution_count": 23,
   "metadata": {},
   "outputs": [
    {
     "name": "stdout",
     "output_type": "stream",
     "text": [
      "Reject the null hypothesis\n",
      "F-statistic: 39.157552091059785\n",
      "p-value: 2.3320433225368608e-14\n"
     ]
    }
   ],
   "source": [
    "# Example 3: ANOVA with unequal group variances\n",
    "np.random.seed(42)\n",
    "\n",
    "group1_data = np.random.normal(loc=10, scale=2, size=50)\n",
    "group2_data = np.random.normal(loc=12, scale=3, size=50)\n",
    "group3_data = np.random.normal(loc=15, scale=4, size=50)\n",
    "\n",
    "f_statistic, p_value = stats.f_oneway(group1_data, group2_data, group3_data)\n",
    "\n",
    "if p_value < alpha:\n",
    "    print(\"Reject the null hypothesis\")\n",
    "else:\n",
    "    print(\"Fail to reject the null hypothesis\")\n",
    "\n",
    "print(f\"F-statistic: {f_statistic}\")\n",
    "print(f\"p-value: {p_value}\")"
   ]
  },
  {
   "cell_type": "markdown",
   "metadata": {},
   "source": [
    "Example 4: ANOVA with unequal group sizes\n",
    "\n",
    "Here, the three groups (`group1_data`, `group2_data`, `group3_data`) have different sizes but the same mean and variance. We conduct a one-way ANOVA to examine if there are significant differences in means between the groups. The obtained p-value is compared with the significance level to make a decision."
   ]
  },
  {
   "cell_type": "code",
   "execution_count": 24,
   "metadata": {},
   "outputs": [
    {
     "name": "stdout",
     "output_type": "stream",
     "text": [
      "Reject the null hypothesis\n",
      "F-statistic: 83.51051012874761\n",
      "p-value: 2.9367680540941276e-23\n"
     ]
    }
   ],
   "source": [
    "# Example 4: ANOVA with unequal group sizes\n",
    "np.random.seed(42)\n",
    "\n",
    "group1_data = np.random.normal(loc=10, scale=2, size=30)\n",
    "group2_data = np.random.normal(loc=12, scale=2, size=40)\n",
    "group3_data = np.random.normal(loc=15, scale=2, size=50)\n",
    "\n",
    "f_statistic, p_value = stats.f_oneway(group1_data, group2_data, group3_data)\n",
    "\n",
    "if p_value < alpha:\n",
    "    print(\"Reject the null hypothesis\")\n",
    "else:\n",
    "    print(\"Fail to reject the null hypothesis\")\n",
    "\n",
    "print(f\"F-statistic: {f_statistic}\")\n",
    "print(f\"p-value: {p_value}\")"
   ]
  },
  {
   "cell_type": "markdown",
   "metadata": {},
   "source": [
    "Example 5: ANOVA with missing values (NaNs)\n",
    "\n",
    "This example involves missing values (NaNs) in one of the groups (`group2_data`). We perform a one-way ANOVA using `nan_policy='omit'` to handle the missing values properly. The p-value is checked against the significance level to determine the significance of the differences in means between the groups."
   ]
  },
  {
   "cell_type": "code",
   "execution_count": 25,
   "metadata": {},
   "outputs": [
    {
     "name": "stdout",
     "output_type": "stream",
     "text": [
      "Reject the null hypothesis\n",
      "F-statistic: 72.55490798037921\n",
      "p-value: 3.2181087099125278e-21\n"
     ]
    }
   ],
   "source": [
    "# Example 5: ANOVA with missing values (NaNs)\n",
    "np.random.seed(42)\n",
    "\n",
    "group1_data = np.random.normal(loc=10, scale=2, size=50)\n",
    "group2_data = np.random.normal(loc=12, scale=2, size=50)\n",
    "group3_data = np.random.normal(loc=15, scale=2, size=50)\n",
    "\n",
    "group2_data[10:20] = np.nan\n",
    "\n",
    "# Removing NaNs before performing ANOVA\n",
    "group1_data_clean = group1_data[~np.isnan(group2_data)]\n",
    "group2_data_clean = group2_data[~np.isnan(group2_data)]\n",
    "group3_data_clean = group3_data[~np.isnan(group2_data)]\n",
    "\n",
    "f_statistic, p_value = stats.f_oneway(group1_data_clean, group2_data_clean, group3_data_clean)\n",
    "\n",
    "if p_value < alpha:\n",
    "    print(\"Reject the null hypothesis\")\n",
    "else:\n",
    "    print(\"Fail to reject the null hypothesis\")\n",
    "\n",
    "print(f\"F-statistic: {f_statistic}\")\n",
    "print(f\"p-value: {p_value}\")"
   ]
  },
  {
   "cell_type": "markdown",
   "metadata": {},
   "source": [
    "Example 6: Two-way ANOVA with interaction effect\n",
    "\n",
    "Here, we have a two-way ANOVA with two independent variables (`factor1` and `factor2`) and three groups (`group1_data`, `group2_data`, `group3_data`). We investigate the effects of both factors on the response variable using a two-way ANOVA. The obtained p-value is compared with the significance level to test the significance of the interaction effect and main effects."
   ]
  },
  {
   "cell_type": "code",
   "execution_count": 26,
   "metadata": {},
   "outputs": [
    {
     "name": "stdout",
     "output_type": "stream",
     "text": [
      "Reject the null hypothesis\n",
      "F-statistic: 1702.8260909967366\n",
      "p-value: 3.739598642733654e-268\n"
     ]
    }
   ],
   "source": [
    "# Example 6: Two-way ANOVA with interaction effect\n",
    "np.random.seed(42)\n",
    "\n",
    "group1_data = np.random.normal(loc=10, scale=2, size=50)\n",
    "group2_data = np.random.normal(loc=12, scale=2, size=50)\n",
    "group3_data = np.random.normal(loc=15, scale=2, size=50)\n",
    "\n",
    "factor1 = np.repeat([1, 2, 3], 50)\n",
    "factor2 = np.tile([1, 2, 3], 50)\n",
    "\n",
    "f_statistic, p_value = stats.f_oneway(group1_data, group2_data, group3_data, factor1, factor2)\n",
    "\n",
    "if p_value < alpha:\n",
    "    print(\"Reject the null hypothesis\")\n",
    "else:\n",
    "    print(\"Fail to reject the null hypothesis\")\n",
    "\n",
    "print(f\"F-statistic: {f_statistic}\")\n",
    "print(f\"p-value: {p_value}\")"
   ]
  },
  {
   "cell_type": "markdown",
   "metadata": {},
   "source": [
    "Example 7: Two-way ANOVA without interaction effect\n",
    "\n",
    "This example is similar to the previous one, but the two-way ANOVA does not exhibit an interaction effect. We test the main effects of the two factors (`factor1` and `factor2`) and interpret the results based on the p-value and the significance level."
   ]
  },
  {
   "cell_type": "code",
   "execution_count": 27,
   "metadata": {},
   "outputs": [
    {
     "name": "stdout",
     "output_type": "stream",
     "text": [
      "Reject the null hypothesis\n",
      "F-statistic: 1140.2777059557445\n",
      "p-value: 2.693316556751811e-232\n"
     ]
    }
   ],
   "source": [
    "# Example 7: Two-way ANOVA without interaction effect\n",
    "np.random.seed(42)\n",
    "\n",
    "group1_data = np.random.normal(loc=10, scale=2, size=50)\n",
    "group2_data = np.random.normal(loc=12, scale=2, size=50)\n",
    "group3_data = np.random.normal(loc=10, scale=2, size=50)\n",
    "\n",
    "factor1 = np.repeat([1, 2, 3], 50)\n",
    "factor2 = np.tile([1, 2, 3], 50)\n",
    "\n",
    "f_statistic, p_value = stats.f_oneway(group1_data, group2_data, group3_data, factor1, factor2)\n",
    "\n",
    "if p_value < alpha:\n",
    "    print(\"Reject the null hypothesis\")\n",
    "else:\n",
    "    print(\"Fail to reject the null hypothesis\")\n",
    "\n",
    "print(f\"F-statistic: {f_statistic}\")\n",
    "print(f\"p-value: {p_value}\")"
   ]
  },
  {
   "cell_type": "markdown",
   "metadata": {},
   "source": [
    "Example 8: One-way repeated measures ANOVA\n",
    "\n",
    "Here, we demonstrate a one-way repeated measures ANOVA, where the same group of individuals is measured under different conditions (`group1_data`, `group2_data`, `group3_data`). We perform the ANOVA to test if there are significant differences in means between the conditions. The p-value is compared with the significance level to determine the outcome"
   ]
  },
  {
   "cell_type": "code",
   "execution_count": 28,
   "metadata": {},
   "outputs": [
    {
     "name": "stdout",
     "output_type": "stream",
     "text": [
      "Reject the null hypothesis\n",
      "F-statistic: 13.08242696690926\n",
      "p-value: 5.9024513103815574e-06\n"
     ]
    }
   ],
   "source": [
    "# Example 8: One-way repeated measures ANOVA\n",
    "np.random.seed(42)\n",
    "\n",
    "group1_data = np.random.normal(loc=10, scale=2, size=50)\n",
    "group2_data = group1_data + np.random.normal(loc=1, scale=0.5, size=50)\n",
    "group3_data = group1_data + np.random.normal(loc=2, scale=0.8, size=50)\n",
    "\n",
    "f_statistic, p_value = stats.f_oneway(group1_data, group2_data, group3_data)\n",
    "\n",
    "if p_value < alpha:\n",
    "    print(\"Reject the null hypothesis\")\n",
    "else:\n",
    "    print(\"Fail to reject the null hypothesis\")\n",
    "\n",
    "print(f\"F-statistic: {f_statistic}\")\n",
    "print(f\"p-value: {p_value}\")"
   ]
  },
  {
   "cell_type": "markdown",
   "metadata": {},
   "source": [
    "Example 9: ANOVA with non-normal data\n",
    "\n",
    "This example involves non-normal data generated using the uniform distribution for all three groups (`group1_data`, `group2_data`, `group3_data`). We conduct a one-way ANOVA to investigate if there are significant differences in means between the groups. The obtained p-value is compared with the significance level to make a decision."
   ]
  },
  {
   "cell_type": "code",
   "execution_count": 29,
   "metadata": {},
   "outputs": [
    {
     "name": "stdout",
     "output_type": "stream",
     "text": [
      "Fail to reject the null hypothesis\n",
      "F-statistic: 0.3440180218170918\n",
      "p-value: 0.7094853477989632\n"
     ]
    }
   ],
   "source": [
    "# Example 9: ANOVA with non-normal data\n",
    "np.random.seed(42)\n",
    "\n",
    "group1_data = np.random.uniform(low=0, high=1, size=50)\n",
    "group2_data = np.random.uniform(low=0, high=1, size=50)\n",
    "group3_data = np.random.uniform(low=0, high=1, size=50)\n",
    "\n",
    "f_statistic, p_value = stats.f_oneway(group1_data, group2_data, group3_data)\n",
    "\n",
    "if p_value < alpha:\n",
    "    print(\"Reject the null hypothesis\")\n",
    "else:\n",
    "    print(\"Fail to reject the null hypothesis\")\n",
    "\n",
    "print(f\"F-statistic: {f_statistic}\")\n",
    "print(f\"p-value: {p_value}\")"
   ]
  },
  {
   "cell_type": "markdown",
   "metadata": {},
   "source": [
    "Example 10: ANOVA with non-parametric alternative test\n",
    "\n",
    "In this example, we use the Kruskal-Wallis test (`stats.kruskal()`) as a non-parametric alternative to ANOVA. The data in the three groups (`group1_data`, `group2_data`, `group3_data`) do not need to follow a normal distribution. We compare the p-value obtained from the Kruskal-Wallis test with the significance level to determine the outcome."
   ]
  },
  {
   "cell_type": "code",
   "execution_count": 30,
   "metadata": {},
   "outputs": [
    {
     "name": "stdout",
     "output_type": "stream",
     "text": [
      "Reject the null hypothesis\n",
      "Kruskal-Wallis statistic: 91.34433907284767\n",
      "p-value: 1.4616008731241652e-20\n"
     ]
    }
   ],
   "source": [
    "# Example 10: ANOVA with non-parametric alternative test\n",
    "np.random.seed(42)\n",
    "\n",
    "group1_data = np.random.normal(loc=10, scale=2, size=50)\n",
    "group2_data = np.random.normal(loc=12, scale=2, size=50)\n",
    "group3_data = np.random.normal(loc=15, scale=2, size=50)\n",
    "\n",
    "f_statistic, p_value = stats.kruskal(group1_data, group2_data, group3_data)\n",
    "\n",
    "if p_value < alpha:\n",
    "    print(\"Reject the null hypothesis\")\n",
    "else:\n",
    "    print(\"Fail to reject the null hypothesis\")\n",
    "\n",
    "print(f\"Kruskal-Wallis statistic: {f_statistic}\")\n",
    "print(f\"p-value: {p_value}\")"
   ]
  }
 ],
 "metadata": {
  "kernelspec": {
   "display_name": "Python 3",
   "language": "python",
   "name": "python3"
  },
  "language_info": {
   "codemirror_mode": {
    "name": "ipython",
    "version": 3
   },
   "file_extension": ".py",
   "mimetype": "text/x-python",
   "name": "python",
   "nbconvert_exporter": "python",
   "pygments_lexer": "ipython3",
   "version": "3.11.2"
  },
  "orig_nbformat": 4
 },
 "nbformat": 4,
 "nbformat_minor": 2
}
