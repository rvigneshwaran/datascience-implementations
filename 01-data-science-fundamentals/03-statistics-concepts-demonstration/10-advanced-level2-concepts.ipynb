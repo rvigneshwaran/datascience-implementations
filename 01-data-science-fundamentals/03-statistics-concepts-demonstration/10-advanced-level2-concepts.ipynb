{
 "cells": [
  {
   "cell_type": "markdown",
   "metadata": {},
   "source": [
    "This Python notebook covers the following concepts related to Expectation:\n",
    "\n",
    "1. What is the Expectation Operator?\n",
    "    - Example 1: Rolling a fair six-sided die and calculating the expectation of the die roll.\n",
    "2. Mean and Variance:\n",
    "    - Example 2: Simulating a sample of heights and calculating the mean and variance of heights.\n",
    "3. Covariance:\n",
    "    - Example 3: Simulating samples of two variables (X and Y) and calculating the covariance between X and Y.\n",
    "4. Conditional Expectation:\n",
    "    - Example 4: Simulating samples from a joint normal distribution (X, Y) and calculating the conditional expectation of Y given X=2."
   ]
  },
  {
   "cell_type": "code",
   "execution_count": 1,
   "metadata": {},
   "outputs": [],
   "source": [
    "# Importing the required libraries\n",
    "import numpy as np\n",
    "import matplotlib.pyplot as plt"
   ]
  },
  {
   "cell_type": "code",
   "execution_count": 2,
   "metadata": {},
   "outputs": [],
   "source": [
    "# Setting the random seed for reproducibility\n",
    "np.random.seed(42)"
   ]
  },
  {
   "cell_type": "code",
   "execution_count": 3,
   "metadata": {},
   "outputs": [],
   "source": [
    "# What is the Expectation Operator?\n",
    "\n",
    "# Example 1: Rolling a fair six-sided die\n",
    "die_outcomes = [1, 2, 3, 4, 5, 6]\n",
    "prob_die = [1/6, 1/6, 1/6, 1/6, 1/6, 1/6]"
   ]
  },
  {
   "cell_type": "code",
   "execution_count": 4,
   "metadata": {},
   "outputs": [],
   "source": [
    "# Calculate the expectation of the die roll\n",
    "expectation_die = np.sum(np.array(die_outcomes) * np.array(prob_die))"
   ]
  },
  {
   "cell_type": "code",
   "execution_count": 5,
   "metadata": {},
   "outputs": [],
   "source": [
    "# Example 2: Simulating a sample of heights (in inches)\n",
    "num_samples = 1000\n",
    "heights = np.random.normal(loc=68, scale=3, size=num_samples)"
   ]
  },
  {
   "cell_type": "code",
   "execution_count": 6,
   "metadata": {},
   "outputs": [],
   "source": [
    "# Calculate the mean and variance of heights\n",
    "mean_height = np.mean(heights)\n",
    "variance_height = np.var(heights)"
   ]
  },
  {
   "cell_type": "code",
   "execution_count": 7,
   "metadata": {},
   "outputs": [],
   "source": [
    "# Covariance\n",
    "\n",
    "# Example 3: Simulating samples of two variables (X and Y)\n",
    "num_samples = 1000\n",
    "mean_X = 5\n",
    "std_dev_X = 2\n",
    "mean_Y = 10\n",
    "std_dev_Y = 3"
   ]
  },
  {
   "cell_type": "code",
   "execution_count": 8,
   "metadata": {},
   "outputs": [],
   "source": [
    "# Generating samples from two normal distributions\n",
    "X = np.random.normal(loc=mean_X, scale=std_dev_X, size=num_samples)\n",
    "Y = np.random.normal(loc=mean_Y, scale=std_dev_Y, size=num_samples)"
   ]
  },
  {
   "cell_type": "code",
   "execution_count": 9,
   "metadata": {},
   "outputs": [],
   "source": [
    "# Calculate the covariance between X and Y\n",
    "cov_XY = np.cov(X, Y)[0, 1]"
   ]
  },
  {
   "cell_type": "code",
   "execution_count": 10,
   "metadata": {},
   "outputs": [],
   "source": [
    "\n",
    "# Example 4: Simulating samples from a conditional distribution\n",
    "num_samples = 1000\n",
    "mean_X = 3\n",
    "std_dev_X = 2\n",
    "mean_Y_given_X = 5\n",
    "std_dev_Y_given_X = 1"
   ]
  },
  {
   "cell_type": "code",
   "execution_count": 11,
   "metadata": {},
   "outputs": [],
   "source": [
    "# Generating samples from a joint normal distribution (X, Y)\n",
    "cov_XY = 0.8\n",
    "cov_matrix = np.array([[std_dev_X**2, cov_XY * std_dev_X * std_dev_Y_given_X],\n",
    "                       [cov_XY * std_dev_X * std_dev_Y_given_X, std_dev_Y_given_X**2]])\n",
    "X, Y_given_X = np.random.multivariate_normal([mean_X, mean_Y_given_X], cov_matrix, num_samples).T"
   ]
  },
  {
   "cell_type": "code",
   "execution_count": 12,
   "metadata": {},
   "outputs": [
    {
     "name": "stderr",
     "output_type": "stream",
     "text": [
      "c:\\Program Files\\Python311\\Lib\\site-packages\\numpy\\core\\fromnumeric.py:3464: RuntimeWarning: Mean of empty slice.\n",
      "  return _methods._mean(a, axis=axis, dtype=dtype,\n",
      "c:\\Program Files\\Python311\\Lib\\site-packages\\numpy\\core\\_methods.py:192: RuntimeWarning: invalid value encountered in scalar divide\n",
      "  ret = ret.dtype.type(ret / rcount)\n"
     ]
    }
   ],
   "source": [
    "# Calculate the conditional expectation of Y given X=2\n",
    "conditional_expectation_Y_given_X2 = np.mean(Y_given_X[X == 2])"
   ]
  },
  {
   "cell_type": "code",
   "execution_count": 13,
   "metadata": {},
   "outputs": [
    {
     "name": "stdout",
     "output_type": "stream",
     "text": [
      "Expectation Operator:\n",
      "Expectation of the Die Roll: 3.50\n",
      "\n"
     ]
    }
   ],
   "source": [
    "# Print the results\n",
    "print(\"Expectation Operator:\")\n",
    "print(f\"Expectation of the Die Roll: {expectation_die:.2f}\\n\")"
   ]
  },
  {
   "cell_type": "code",
   "execution_count": 14,
   "metadata": {},
   "outputs": [
    {
     "name": "stdout",
     "output_type": "stream",
     "text": [
      "Mean and Variance:\n",
      "Mean Height: 68.06\n",
      "Variance of Heights: 8.62\n",
      "\n"
     ]
    }
   ],
   "source": [
    "print(\"Mean and Variance:\")\n",
    "print(f\"Mean Height: {mean_height:.2f}\")\n",
    "print(f\"Variance of Heights: {variance_height:.2f}\\n\")"
   ]
  },
  {
   "cell_type": "code",
   "execution_count": 15,
   "metadata": {},
   "outputs": [
    {
     "name": "stdout",
     "output_type": "stream",
     "text": [
      "Covariance:\n",
      "Covariance between X and Y: 0.80\n",
      "\n"
     ]
    }
   ],
   "source": [
    "print(\"Covariance:\")\n",
    "print(f\"Covariance between X and Y: {cov_XY:.2f}\\n\")"
   ]
  },
  {
   "cell_type": "code",
   "execution_count": 16,
   "metadata": {},
   "outputs": [
    {
     "name": "stdout",
     "output_type": "stream",
     "text": [
      "Conditional Expectation:\n",
      "Conditional Expectation of Y given X=2: nan\n"
     ]
    }
   ],
   "source": [
    "print(\"Conditional Expectation:\")\n",
    "print(f\"Conditional Expectation of Y given X=2: {conditional_expectation_Y_given_X2:.2f}\")"
   ]
  }
 ],
 "metadata": {
  "kernelspec": {
   "display_name": "Python 3",
   "language": "python",
   "name": "python3"
  },
  "language_info": {
   "codemirror_mode": {
    "name": "ipython",
    "version": 3
   },
   "file_extension": ".py",
   "mimetype": "text/x-python",
   "name": "python",
   "nbconvert_exporter": "python",
   "pygments_lexer": "ipython3",
   "version": "3.11.2"
  },
  "orig_nbformat": 4
 },
 "nbformat": 4,
 "nbformat_minor": 2
}
