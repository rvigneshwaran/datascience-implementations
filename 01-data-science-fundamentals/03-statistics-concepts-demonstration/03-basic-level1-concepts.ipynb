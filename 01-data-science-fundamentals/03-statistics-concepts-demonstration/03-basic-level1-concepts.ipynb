{
 "cells": [
  {
   "cell_type": "markdown",
   "metadata": {},
   "source": [
    "## Hypothesis Testing\n",
    "\n",
    "Hypothesis testing is a statistical technique used to make inferences or draw conclusions about a population based on a sample of data. It involves formulating two competing hypotheses: the null hypothesis (H0) and the alternative hypothesis (H1 or Ha). The goal is to test whether the evidence supports rejecting the null hypothesis in favor of the alternative hypothesis. \n",
    "\n",
    "The steps involved in hypothesis testing include:\n",
    "1. Formulating the null and alternative hypotheses based on the research question.\n",
    "2. Choosing a significance level (alpha) to determine the threshold for rejecting the null hypothesis.\n",
    "3. Performing a statistical test using appropriate techniques.\n",
    "4. Comparing the obtained p-value with the significance level to make a decision: reject the null hypothesis if the p-value is less than alpha, or fail to reject the null hypothesis if the p-value is greater than or equal to alpha.\n",
    "\n",
    "In the below code, we first import the necessary libraries, including NumPy for numerical operations and SciPy for statistical tests.\n",
    "\n",
    "We generate two sets of data (data1 and data2) using the `np.random.normal()` function to represent two populations with different means.\n",
    "\n",
    "We then perform a two-sample t-test using the `stats.ttest_ind()` function from SciPy. This test compares the means of two independent samples and returns the t-statistic and p-value.\n",
    "\n",
    "Next, we set the significance level (`alpha`) to 0.05, which is commonly used in hypothesis testing. This represents the threshold for determining statistical significance.\n",
    "\n",
    "We check the p-value against the significance level. If the p-value is less than alpha, we reject the null hypothesis; otherwise, we fail to reject the null hypothesis.\n",
    "\n",
    "Finally, we display the t-statistic and p-value to provide additional information about the test results."
   ]
  },
  {
   "cell_type": "code",
   "execution_count": null,
   "metadata": {},
   "outputs": [],
   "source": [
    "# Importing the required libraries\n",
    "import numpy as np\n",
    "import scipy.stats as stats"
   ]
  },
  {
   "cell_type": "code",
   "execution_count": null,
   "metadata": {},
   "outputs": [],
   "source": [
    "# Generating two sets of data\n",
    "np.random.seed(42)\n",
    "data1 = np.random.normal(loc=10, scale=5, size=100)\n",
    "data2 = np.random.normal(loc=12, scale=5, size=100)"
   ]
  },
  {
   "cell_type": "code",
   "execution_count": null,
   "metadata": {},
   "outputs": [],
   "source": [
    "# Performing a two-sample t-test\n",
    "t_statistic, p_value = stats.ttest_ind(data1, data2)"
   ]
  },
  {
   "cell_type": "code",
   "execution_count": null,
   "metadata": {},
   "outputs": [],
   "source": [
    "# Setting the significance level (alpha)\n",
    "alpha = 0.05"
   ]
  },
  {
   "cell_type": "code",
   "execution_count": null,
   "metadata": {},
   "outputs": [],
   "source": [
    "# Checking the p-value against the significance level\n",
    "if p_value < alpha:\n",
    "    print(\"Reject the null hypothesis\")\n",
    "else:\n",
    "    print(\"Fail to reject the null hypothesis\")"
   ]
  },
  {
   "cell_type": "code",
   "execution_count": null,
   "metadata": {},
   "outputs": [],
   "source": [
    "# Displaying the t-statistic and p-value\n",
    "print(f\"t-statistic: {t_statistic}\")\n",
    "print(f\"p-value: {p_value}\")"
   ]
  },
  {
   "cell_type": "markdown",
   "metadata": {},
   "source": [
    "Example 1: One-sample t-test: This test compares the mean of a sample to a known population mean using `stats.ttest_1samp()`. It tests whether the sample mean is significantly different from the population mean."
   ]
  },
  {
   "cell_type": "code",
   "execution_count": null,
   "metadata": {},
   "outputs": [],
   "source": [
    "# Example 1: One-sample t-test\n",
    "np.random.seed(42)\n",
    "data = np.random.normal(loc=15, scale=3, size=100)\n",
    "t_statistic, p_value = stats.ttest_1samp(data, popmean=10)\n",
    "if p_value < alpha:\n",
    "    print(\"Reject the null hypothesis\")\n",
    "else:\n",
    "    print(\"Fail to reject the null hypothesis\")"
   ]
  },
  {
   "cell_type": "markdown",
   "metadata": {},
   "source": [
    "Example 2: Paired t-test: This test compares the means of two related samples (e.g., before and after treatment) using `stats.ttest_rel()`. It tests whether there is a significant difference between the means of the paired observations."
   ]
  },
  {
   "cell_type": "code",
   "execution_count": null,
   "metadata": {},
   "outputs": [],
   "source": [
    "# Example 2: Paired t-test\n",
    "np.random.seed(42)\n",
    "before = np.random.normal(loc=10, scale=3, size=100)\n",
    "after = before + np.random.normal(loc=2, scale=1, size=100)\n",
    "t_statistic, p_value = stats.ttest_rel(before, after)\n",
    "if p_value < alpha:\n",
    "    print(\"Reject the null hypothesis\")\n",
    "else:\n",
    "    print(\"Fail to reject the null hypothesis\")"
   ]
  },
  {
   "cell_type": "markdown",
   "metadata": {},
   "source": [
    "Example 3: Chi-square test: This test examines the association between categorical variables using `stats.chi2_contingency()`. It tests whether there is a significant association between the observed frequencies and the expected frequencies under the null hypothesis. For each example, the code performs the hypothesis test, checks the p-value against the significance level (`alpha`), and prints whether to reject or fail to reject the null hypothesis."
   ]
  },
  {
   "cell_type": "code",
   "execution_count": null,
   "metadata": {},
   "outputs": [],
   "source": [
    "# Example 3: Chi-square test\n",
    "np.random.seed(42)\n",
    "observed = np.array([[25, 15, 10], [30, 35, 25]])\n",
    "chi2, p_value, dof, expected = stats.chi2_contingency(observed)\n",
    "if p_value < alpha:\n",
    "    print(\"Reject the null hypothesis\")\n",
    "else:\n",
    "    print(\"Fail to reject the null hypothesis\")"
   ]
  },
  {
   "cell_type": "code",
   "execution_count": null,
   "metadata": {},
   "outputs": [],
   "source": []
  }
 ],
 "metadata": {
  "language_info": {
   "name": "python"
  },
  "orig_nbformat": 4
 },
 "nbformat": 4,
 "nbformat_minor": 2
}
