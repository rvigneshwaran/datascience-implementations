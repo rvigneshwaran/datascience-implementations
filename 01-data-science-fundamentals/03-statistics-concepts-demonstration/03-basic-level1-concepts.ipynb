{
 "cells": [
  {
   "cell_type": "markdown",
   "metadata": {},
   "source": [
    "## Hypothesis Testing\n",
    "\n",
    "Hypothesis testing is a statistical technique used to make inferences or draw conclusions about a population based on a sample of data. It involves formulating two competing hypotheses: the null hypothesis (H0) and the alternative hypothesis (H1 or Ha). The goal is to test whether the evidence supports rejecting the null hypothesis in favor of the alternative hypothesis. \n",
    "\n",
    "The steps involved in hypothesis testing include:\n",
    "1. Formulating the null and alternative hypotheses based on the research question.\n",
    "2. Choosing a significance level (alpha) to determine the threshold for rejecting the null hypothesis.\n",
    "3. Performing a statistical test using appropriate techniques.\n",
    "4. Comparing the obtained p-value with the significance level to make a decision: reject the null hypothesis if the p-value is less than alpha, or fail to reject the null hypothesis if the p-value is greater than or equal to alpha.\n",
    "\n",
    "In the below code, we first import the necessary libraries, including NumPy for numerical operations and SciPy for statistical tests.\n",
    "\n",
    "We generate two sets of data (data1 and data2) using the `np.random.normal()` function to represent two populations with different means.\n",
    "\n",
    "We then perform a two-sample t-test using the `stats.ttest_ind()` function from SciPy. This test compares the means of two independent samples and returns the t-statistic and p-value.\n",
    "\n",
    "Next, we set the significance level (`alpha`) to 0.05, which is commonly used in hypothesis testing. This represents the threshold for determining statistical significance.\n",
    "\n",
    "We check the p-value against the significance level. If the p-value is less than alpha, we reject the null hypothesis; otherwise, we fail to reject the null hypothesis.\n",
    "\n",
    "Finally, we display the t-statistic and p-value to provide additional information about the test results."
   ]
  },
  {
   "cell_type": "code",
   "execution_count": 10,
   "metadata": {},
   "outputs": [],
   "source": [
    "# Importing the required libraries\n",
    "import numpy as np\n",
    "import scipy.stats as stats"
   ]
  },
  {
   "cell_type": "code",
   "execution_count": 11,
   "metadata": {},
   "outputs": [],
   "source": [
    "# Generating two sets of data\n",
    "np.random.seed(42)\n",
    "data1 = np.random.normal(loc=10, scale=5, size=100)\n",
    "data2 = np.random.normal(loc=12, scale=5, size=100)"
   ]
  },
  {
   "cell_type": "code",
   "execution_count": 12,
   "metadata": {},
   "outputs": [],
   "source": [
    "# Performing a two-sample t-test\n",
    "t_statistic, p_value = stats.ttest_ind(data1, data2)"
   ]
  },
  {
   "cell_type": "code",
   "execution_count": 13,
   "metadata": {},
   "outputs": [],
   "source": [
    "# Setting the significance level (alpha)\n",
    "alpha = 0.05"
   ]
  },
  {
   "cell_type": "code",
   "execution_count": 14,
   "metadata": {},
   "outputs": [
    {
     "name": "stdout",
     "output_type": "stream",
     "text": [
      "Reject the null hypothesis\n"
     ]
    }
   ],
   "source": [
    "# Checking the p-value against the significance level\n",
    "if p_value < alpha:\n",
    "    print(\"Reject the null hypothesis\")\n",
    "else:\n",
    "    print(\"Fail to reject the null hypothesis\")"
   ]
  },
  {
   "cell_type": "code",
   "execution_count": 15,
   "metadata": {},
   "outputs": [
    {
     "name": "stdout",
     "output_type": "stream",
     "text": [
      "t-statistic: -3.9953431435565956\n",
      "p-value: 9.106540086305264e-05\n"
     ]
    }
   ],
   "source": [
    "# Displaying the t-statistic and p-value\n",
    "print(f\"t-statistic: {t_statistic}\")\n",
    "print(f\"p-value: {p_value}\")"
   ]
  },
  {
   "cell_type": "markdown",
   "metadata": {},
   "source": [
    "Example 1: \n",
    "One-sample t-test: \n",
    "\n",
    "The one-sample t-test is a statistical test used to compare the mean of a single sample to a known population mean. It determines whether there is a significant difference between the sample mean and the population mean. In the notebook, the `stats.ttest_1samp()` function is used to perform a one-sample t-test. It calculates the t-statistic and the p-value, which are interpreted in the same way as in the two-sample t-test.\n",
    "\n",
    "This test compares the mean of a sample to a known population mean using `stats.ttest_1samp()`. It tests whether the sample mean is significantly different from the population mean."
   ]
  },
  {
   "cell_type": "code",
   "execution_count": 16,
   "metadata": {},
   "outputs": [
    {
     "name": "stdout",
     "output_type": "stream",
     "text": [
      "Reject the null hypothesis\n"
     ]
    }
   ],
   "source": [
    "# Example 1: One-sample t-test\n",
    "np.random.seed(42)\n",
    "data = np.random.normal(loc=15, scale=3, size=100)\n",
    "t_statistic, p_value = stats.ttest_1samp(data, popmean=10)\n",
    "if p_value < alpha:\n",
    "    print(\"Reject the null hypothesis\")\n",
    "else:\n",
    "    print(\"Fail to reject the null hypothesis\")"
   ]
  },
  {
   "cell_type": "markdown",
   "metadata": {},
   "source": [
    "Example 2: Paired t-test: \n",
    "\n",
    "The paired t-test, also known as the dependent samples t-test, is used to compare the means of two related samples. It is often used when the samples are dependent or matched, such as when measuring the same group before and after an intervention. The paired t-test evaluates whether there is a significant difference between the means of the paired observations. In the notebook, the `stats.ttest_rel()` function is used to perform a paired t-test. It calculates the t-statistic and the p-value, which follow the same interpretation as in the two-sample t-test.\n",
    "\n",
    "This test compares the means of two related samples (e.g., before and after treatment) using `stats.ttest_rel()`. It tests whether there is a significant difference between the means of the paired observations."
   ]
  },
  {
   "cell_type": "code",
   "execution_count": 17,
   "metadata": {},
   "outputs": [
    {
     "name": "stdout",
     "output_type": "stream",
     "text": [
      "Reject the null hypothesis\n"
     ]
    }
   ],
   "source": [
    "# Example 2: Paired t-test\n",
    "np.random.seed(42)\n",
    "before = np.random.normal(loc=10, scale=3, size=100)\n",
    "after = before + np.random.normal(loc=2, scale=1, size=100)\n",
    "t_statistic, p_value = stats.ttest_rel(before, after)\n",
    "if p_value < alpha:\n",
    "    print(\"Reject the null hypothesis\")\n",
    "else:\n",
    "    print(\"Fail to reject the null hypothesis\")"
   ]
  },
  {
   "cell_type": "markdown",
   "metadata": {},
   "source": [
    "Example 3: Chi-square test: \n",
    "\n",
    "The chi-square test is a statistical test used to examine the association between categorical variables. It determines whether there is a significant difference between the observed frequencies and the expected frequencies under the assumption of independence between the variables. In the notebook, the `stats.chi2_contingency()` function is used to perform a chi-square test. It calculates the chi-square statistic, the p-value, the degrees of freedom, and the expected frequencies. The p-value is compared to the significance level to determine whether to reject or fail to reject the null hypothesis.\n",
    "\n",
    "This test examines the association between categorical variables using `stats.chi2_contingency()`. It tests whether there is a significant association between the observed frequencies and the expected frequencies under the null hypothesis. For each example, the code performs the hypothesis test, checks the p-value against the significance level (`alpha`), and prints whether to reject or fail to reject the null hypothesis."
   ]
  },
  {
   "cell_type": "code",
   "execution_count": 18,
   "metadata": {},
   "outputs": [
    {
     "name": "stdout",
     "output_type": "stream",
     "text": [
      "Fail to reject the null hypothesis\n"
     ]
    }
   ],
   "source": [
    "# Example 3: Chi-square test\n",
    "np.random.seed(42)\n",
    "observed = np.array([[25, 15, 10], [30, 35, 25]])\n",
    "chi2, p_value, dof, expected = stats.chi2_contingency(observed)\n",
    "if p_value < alpha:\n",
    "    print(\"Reject the null hypothesis\")\n",
    "else:\n",
    "    print(\"Fail to reject the null hypothesis\")"
   ]
  },
  {
   "cell_type": "code",
   "execution_count": null,
   "metadata": {},
   "outputs": [],
   "source": []
  }
 ],
 "metadata": {
  "kernelspec": {
   "display_name": "Python 3",
   "language": "python",
   "name": "python3"
  },
  "language_info": {
   "codemirror_mode": {
    "name": "ipython",
    "version": 3
   },
   "file_extension": ".py",
   "mimetype": "text/x-python",
   "name": "python",
   "nbconvert_exporter": "python",
   "pygments_lexer": "ipython3",
   "version": "3.11.2"
  },
  "orig_nbformat": 4
 },
 "nbformat": 4,
 "nbformat_minor": 2
}
