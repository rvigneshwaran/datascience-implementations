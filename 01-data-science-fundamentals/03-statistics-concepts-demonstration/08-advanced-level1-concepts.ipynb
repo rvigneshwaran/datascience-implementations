{
 "cells": [
  {
   "cell_type": "code",
   "execution_count": 1,
   "metadata": {},
   "outputs": [],
   "source": [
    "# Importing the required libraries\n",
    "import numpy as np"
   ]
  },
  {
   "cell_type": "code",
   "execution_count": 2,
   "metadata": {},
   "outputs": [],
   "source": [
    "# Setting the random seed for reproducibility\n",
    "np.random.seed(42)"
   ]
  },
  {
   "cell_type": "code",
   "execution_count": 3,
   "metadata": {},
   "outputs": [],
   "source": [
    "# Probability Spaces\n",
    "\n",
    "# Example 1: Flipping a fair coin\n",
    "coin_outcomes = [\"Heads\", \"Tails\"]\n",
    "coin_probs = [0.5, 0.5]"
   ]
  },
  {
   "cell_type": "code",
   "execution_count": 4,
   "metadata": {},
   "outputs": [],
   "source": [
    "# Example 2: Rolling a fair six-sided die\n",
    "die_outcomes = [1, 2, 3, 4, 5, 6]\n",
    "die_probs = [1/6, 1/6, 1/6, 1/6, 1/6, 1/6]"
   ]
  },
  {
   "cell_type": "code",
   "execution_count": 5,
   "metadata": {},
   "outputs": [],
   "source": [
    "# Conditional Probability\n",
    "\n",
    "# Example 3: Conditional probability of drawing two cards of the same suit\n",
    "# from a standard deck given that the first card drawn is a heart\n",
    "deck = 52\n",
    "hearts = 13\n",
    "cards_drawn = 1"
   ]
  },
  {
   "cell_type": "code",
   "execution_count": 6,
   "metadata": {},
   "outputs": [],
   "source": [
    "# Calculate the conditional probability\n",
    "conditional_prob = (hearts / deck) * ((hearts - 1) / (deck - cards_drawn))"
   ]
  },
  {
   "cell_type": "code",
   "execution_count": 7,
   "metadata": {},
   "outputs": [],
   "source": [
    "# Example 4: Conditional probability of rolling two dice given that the sum is 7\n",
    "dice_outcomes = [1, 2, 3, 4, 5, 6]"
   ]
  },
  {
   "cell_type": "code",
   "execution_count": 8,
   "metadata": {},
   "outputs": [],
   "source": [
    "# Calculate the conditional probability\n",
    "num_sum7 = 6  # Number of ways to get a sum of 7\n",
    "num_possible_outcomes = len(dice_outcomes) * len(dice_outcomes)  # Total number of possible outcomes\n",
    "conditional_prob_sum7 = num_sum7 / num_possible_outcomes"
   ]
  },
  {
   "cell_type": "code",
   "execution_count": 9,
   "metadata": {},
   "outputs": [],
   "source": [
    "# Example 5: Conditional probability of selecting a defective item from a batch\n",
    "# given that it was produced by Machine A\n",
    "total_items = 100\n",
    "machineA_defective = 20\n",
    "machineB_defective = 10\n",
    "selected_machineA = 30"
   ]
  },
  {
   "cell_type": "code",
   "execution_count": 10,
   "metadata": {},
   "outputs": [],
   "source": [
    "# Calculate the conditional probability\n",
    "conditional_prob_defective_machineA = machineA_defective / selected_machineA"
   ]
  },
  {
   "cell_type": "code",
   "execution_count": 11,
   "metadata": {},
   "outputs": [],
   "source": [
    "# Independent and Dependent Variables\n",
    "\n",
    "# Example 6: Probability of drawing two aces successively from a standard deck\n",
    "deck = 52\n",
    "aces = 4"
   ]
  },
  {
   "cell_type": "code",
   "execution_count": 12,
   "metadata": {},
   "outputs": [],
   "source": [
    "# Calculate the probability\n",
    "prob_ace1 = aces / deck\n",
    "prob_ace2 = (aces - 1) / (deck - 1)\n",
    "prob_two_aces = prob_ace1 * prob_ace2"
   ]
  },
  {
   "cell_type": "code",
   "execution_count": 13,
   "metadata": {},
   "outputs": [],
   "source": [
    "# Example 7: Probability of getting heads on the first coin flip and tails on the second\n",
    "coin1_outcomes = [\"Heads\", \"Tails\"]\n",
    "coin2_outcomes = [\"Heads\", \"Tails\"]"
   ]
  },
  {
   "cell_type": "code",
   "execution_count": 14,
   "metadata": {},
   "outputs": [],
   "source": [
    "# Calculate the probability\n",
    "prob_heads_coin1 = 0.5\n",
    "prob_tails_coin2 = 0.5\n",
    "prob_heads_tails = prob_heads_coin1 * prob_tails_coin2"
   ]
  },
  {
   "cell_type": "code",
   "execution_count": 15,
   "metadata": {},
   "outputs": [],
   "source": [
    "# Example 8: Probability of rolling a 2 on one fair six-sided die and a 4 on another\n",
    "dice_outcomes = [1, 2, 3, 4, 5, 6]"
   ]
  },
  {
   "cell_type": "code",
   "execution_count": 16,
   "metadata": {},
   "outputs": [],
   "source": [
    "# Calculate the probability\n",
    "prob_2_die1 = 1 / len(dice_outcomes)\n",
    "prob_4_die2 = 1 / len(dice_outcomes)\n",
    "prob_2_4 = prob_2_die1 * prob_4_die2"
   ]
  },
  {
   "cell_type": "code",
   "execution_count": 17,
   "metadata": {},
   "outputs": [],
   "source": [
    "# Example 9: Probability of drawing a red card from a standard deck and then drawing a black card\n",
    "deck = 52\n",
    "red_cards = 26\n",
    "black_cards = 26"
   ]
  },
  {
   "cell_type": "code",
   "execution_count": 18,
   "metadata": {},
   "outputs": [],
   "source": [
    "# Calculate the probability\n",
    "prob_red_card1 = red_cards / deck\n",
    "prob_black_card2 = black_cards / (deck - 1)\n",
    "prob_red_black = prob_red_card1 * prob_black_card2"
   ]
  },
  {
   "cell_type": "code",
   "execution_count": 19,
   "metadata": {},
   "outputs": [],
   "source": [
    "# Example 10: Probability of drawing two aces from a standard deck, with replacement\n",
    "deck = 52\n",
    "aces = 4\n"
   ]
  },
  {
   "cell_type": "code",
   "execution_count": 20,
   "metadata": {},
   "outputs": [],
   "source": [
    "# Calculate the probability\n",
    "prob_ace1 = aces / deck\n",
    "prob_ace2 = aces / deck\n",
    "prob_two_aces_replacement = prob_ace1 * prob_ace2"
   ]
  },
  {
   "cell_type": "code",
   "execution_count": 21,
   "metadata": {},
   "outputs": [],
   "source": [
    "# Example 11: Probability of rolling two even numbers on two fair six-sided dice\n",
    "dice_outcomes = [1, 2, 3, 4, 5, 6]"
   ]
  },
  {
   "cell_type": "code",
   "execution_count": 22,
   "metadata": {},
   "outputs": [],
   "source": [
    "# Calculate the probability\n",
    "prob_even1 = len([outcome for outcome in dice_outcomes if outcome % 2 == 0]) / len(dice_outcomes)\n",
    "prob_even2 = len([outcome for outcome in dice_outcomes if outcome % 2 == 0]) / len(dice_outcomes)\n",
    "prob_two_even = prob_even1 * prob_even2"
   ]
  },
  {
   "cell_type": "code",
   "execution_count": 23,
   "metadata": {},
   "outputs": [],
   "source": [
    "# Example 12: Probability of drawing a spade and then drawing a heart from a standard deck\n",
    "deck = 52\n",
    "spades = 13\n",
    "hearts = 13"
   ]
  },
  {
   "cell_type": "code",
   "execution_count": 25,
   "metadata": {},
   "outputs": [],
   "source": [
    "# Calculate the probability\n",
    "prob_spade1 = spades / deck\n",
    "prob_heart2 = hearts / (deck - 1)\n",
    "prob_spade_heart = prob_spade1 * prob_heart2"
   ]
  },
  {
   "cell_type": "code",
   "execution_count": 26,
   "metadata": {},
   "outputs": [],
   "source": [
    "\n",
    "# Example 13: Probability of drawing a queen and then drawing a king from a standard deck, without replacement\n",
    "deck = 52\n",
    "queens = 4\n",
    "kings = 4"
   ]
  },
  {
   "cell_type": "code",
   "execution_count": 28,
   "metadata": {},
   "outputs": [],
   "source": [
    "# Calculate the probability\n",
    "prob_queen1 = queens / deck\n",
    "prob_king2 = kings / (deck - 1)\n",
    "prob_queen_king = prob_queen1 * prob_king2"
   ]
  },
  {
   "cell_type": "code",
   "execution_count": 29,
   "metadata": {},
   "outputs": [],
   "source": [
    "# Example 14: Probability of drawing a face card from a standard deck, putting it back, and then drawing another face card\n",
    "deck = 52\n",
    "face_cards = 12"
   ]
  },
  {
   "cell_type": "code",
   "execution_count": 30,
   "metadata": {},
   "outputs": [],
   "source": [
    "# Calculate the probability\n",
    "prob_face1 = face_cards / deck\n",
    "prob_face2 = face_cards / deck\n",
    "prob_two_face_cards = prob_face1 * prob_face2"
   ]
  },
  {
   "cell_type": "code",
   "execution_count": 31,
   "metadata": {},
   "outputs": [],
   "source": [
    "# Example 15: Probability of drawing a red card and then drawing another red card from a standard deck, without replacement\n",
    "deck = 52\n",
    "red_cards = 26"
   ]
  },
  {
   "cell_type": "code",
   "execution_count": 32,
   "metadata": {},
   "outputs": [],
   "source": [
    "# Calculate the probability\n",
    "prob_red1 = red_cards / deck\n",
    "prob_red2 = (red_cards - 1) / (deck - 1)\n",
    "prob_two_red_cards = prob_red1 * prob_red2\n"
   ]
  },
  {
   "cell_type": "code",
   "execution_count": 33,
   "metadata": {},
   "outputs": [],
   "source": [
    "# Example 16: Probability of rolling a number less than 3 on one fair six-sided die and a number greater than 4 on another\n",
    "dice_outcomes = [1, 2, 3, 4, 5, 6]"
   ]
  },
  {
   "cell_type": "code",
   "execution_count": 38,
   "metadata": {},
   "outputs": [],
   "source": [
    "# Calculate the probability\n",
    "prob_less3_die1 = 2 / len(dice_outcomes)\n",
    "prob_greater4_die2 = 2 / len(dice_outcomes)\n",
    "prob_less3_greater4 = prob_less3_die1 * prob_greater4_die2"
   ]
  },
  {
   "cell_type": "code",
   "execution_count": 35,
   "metadata": {},
   "outputs": [],
   "source": [
    "# Example 17: Probability of drawing a king from a standard deck, putting it back, and then drawing another king\n",
    "deck = 52\n",
    "kings = 4"
   ]
  },
  {
   "cell_type": "code",
   "execution_count": 36,
   "metadata": {},
   "outputs": [],
   "source": [
    "# Calculate the probability\n",
    "prob_king1 = kings / deck\n",
    "prob_king2 = kings / deck\n",
    "prob_two_kings = prob_king1 * prob_king2"
   ]
  },
  {
   "cell_type": "code",
   "execution_count": 37,
   "metadata": {},
   "outputs": [],
   "source": [
    "# Example 18: Probability of drawing a red card and then drawing a black card from a standard deck, without replacement\n",
    "deck = 52\n",
    "red_cards = 26\n",
    "black_cards = 26"
   ]
  },
  {
   "cell_type": "code",
   "execution_count": 39,
   "metadata": {},
   "outputs": [],
   "source": [
    "# Calculate the probability\n",
    "prob_red1 = red_cards / deck\n",
    "prob_black2 = black_cards / (deck - 1)\n",
    "prob_red_black = prob_red1 * prob_black2"
   ]
  },
  {
   "cell_type": "code",
   "execution_count": 40,
   "metadata": {},
   "outputs": [],
   "source": [
    "# Example 19: Probability of rolling a number greater than 3 on one fair six-sided die and a number less than 3 on another\n",
    "dice_outcomes = [1, 2, 3, 4, 5, 6]"
   ]
  },
  {
   "cell_type": "code",
   "execution_count": 41,
   "metadata": {},
   "outputs": [],
   "source": [
    "# Calculate the probability\n",
    "prob_greater3_die1 = 3 / len(dice_outcomes)\n",
    "prob_less3_die2 = 2 / len(dice_outcomes)\n",
    "prob_greater3_less3 = prob_greater3_die1 * prob_less3_die2"
   ]
  },
  {
   "cell_type": "code",
   "execution_count": 42,
   "metadata": {},
   "outputs": [],
   "source": [
    "# Example 20: Probability of drawing a queen and then drawing a king from a standard deck, with replacement\n",
    "deck = 52\n",
    "queens = 4\n",
    "kings = 4"
   ]
  },
  {
   "cell_type": "code",
   "execution_count": 43,
   "metadata": {},
   "outputs": [],
   "source": [
    "# Calculate the probability\n",
    "prob_queen1 = queens / deck\n",
    "prob_king2 = kings / deck\n",
    "prob_queen_king_replacement = prob_queen1 * prob_king2"
   ]
  },
  {
   "cell_type": "code",
   "execution_count": 44,
   "metadata": {},
   "outputs": [],
   "source": [
    "# Example 21: Probability of rolling an odd number on one fair six-sided die and an even number on another\n",
    "dice_outcomes = [1, 2, 3, 4, 5, 6]"
   ]
  },
  {
   "cell_type": "code",
   "execution_count": 45,
   "metadata": {},
   "outputs": [],
   "source": [
    "# Calculate the probability\n",
    "prob_odd1 = len([outcome for outcome in dice_outcomes if outcome % 2 != 0]) / len(dice_outcomes)\n",
    "prob_even2 = len([outcome for outcome in dice_outcomes if outcome % 2 == 0]) / len(dice_outcomes)\n",
    "prob_odd_even = prob_odd1 * prob_even2"
   ]
  },
  {
   "cell_type": "code",
   "execution_count": 46,
   "metadata": {},
   "outputs": [],
   "source": [
    "# Example 22: Probability of drawing a heart and then drawing a spade from a standard deck, without replacement\n",
    "deck = 52\n",
    "hearts = 13\n",
    "spades = 13"
   ]
  },
  {
   "cell_type": "code",
   "execution_count": 47,
   "metadata": {},
   "outputs": [],
   "source": [
    "# Calculate the probability\n",
    "prob_heart1 = hearts / deck\n",
    "prob_spade2 = spades / (deck - 1)\n",
    "prob_heart_spade = prob_heart1 * prob_spade2"
   ]
  },
  {
   "cell_type": "code",
   "execution_count": 48,
   "metadata": {},
   "outputs": [],
   "source": [
    "# Example 23: Probability of drawing a king and then drawing a queen from a standard deck, without replacement\n",
    "deck = 52\n",
    "kings = 4\n",
    "queens = 4\n"
   ]
  },
  {
   "cell_type": "code",
   "execution_count": 49,
   "metadata": {},
   "outputs": [],
   "source": [
    "# Calculate the probability\n",
    "prob_king1 = kings / deck\n",
    "prob_queen2 = queens / (deck - 1)\n",
    "prob_king_queen = prob_king1 * prob_queen2"
   ]
  },
  {
   "cell_type": "code",
   "execution_count": 50,
   "metadata": {},
   "outputs": [],
   "source": [
    "# Example 24: Probability of drawing a black card and then drawing a red card from a standard deck, without replacement\n",
    "deck = 52\n",
    "black_cards = 26\n",
    "red_cards = 26"
   ]
  },
  {
   "cell_type": "code",
   "execution_count": 51,
   "metadata": {},
   "outputs": [],
   "source": [
    "# Calculate the probability\n",
    "prob_black1 = black_cards / deck\n",
    "prob_red2 = red_cards / (deck - 1)\n",
    "prob_black_red = prob_black1 * prob_red2"
   ]
  },
  {
   "cell_type": "code",
   "execution_count": 52,
   "metadata": {},
   "outputs": [],
   "source": [
    "# Example 25: Probability of rolling an odd number on one fair six-sided die and an odd number on another\n",
    "dice_outcomes = [1, 2, 3, 4, 5, 6]"
   ]
  },
  {
   "cell_type": "code",
   "execution_count": 53,
   "metadata": {},
   "outputs": [],
   "source": [
    "# Calculate the probability\n",
    "prob_odd1 = len([outcome for outcome in dice_outcomes if outcome % 2 != 0]) / len(dice_outcomes)\n",
    "prob_odd2 = len([outcome for outcome in dice_outcomes if outcome % 2 != 0]) / len(dice_outcomes)\n",
    "prob_two_odd = prob_odd1 * prob_odd2"
   ]
  },
  {
   "cell_type": "code",
   "execution_count": 54,
   "metadata": {},
   "outputs": [
    {
     "name": "stdout",
     "output_type": "stream",
     "text": [
      "Probability Spaces:\n",
      "Coin Outcomes: ['Heads', 'Tails']\n",
      "Coin Probabilities: [0.5, 0.5]\n",
      "Die Outcomes: [1, 2, 3, 4, 5, 6]\n",
      "Die Probabilities: [0.16666666666666666, 0.16666666666666666, 0.16666666666666666, 0.16666666666666666, 0.16666666666666666, 0.16666666666666666]\n",
      "\n"
     ]
    }
   ],
   "source": [
    "# Print the results\n",
    "print(\"Probability Spaces:\")\n",
    "print(f\"Coin Outcomes: {coin_outcomes}\")\n",
    "print(f\"Coin Probabilities: {coin_probs}\")\n",
    "print(f\"Die Outcomes: {die_outcomes}\")\n",
    "print(f\"Die Probabilities: {die_probs}\\n\")"
   ]
  },
  {
   "cell_type": "code",
   "execution_count": 55,
   "metadata": {},
   "outputs": [
    {
     "name": "stdout",
     "output_type": "stream",
     "text": [
      "Conditional Probability:\n",
      "Conditional Probability of Drawing Two Cards of the Same Suit: 0.058823529411764705\n",
      "Conditional Probability of Rolling Two Dice Given Sum is 7: 0.16666666666666666\n",
      "Conditional Probability of Selecting a Defective Item Given Produced by Machine A: 0.6666666666666666\n",
      "\n"
     ]
    }
   ],
   "source": [
    "print(\"Conditional Probability:\")\n",
    "print(f\"Conditional Probability of Drawing Two Cards of the Same Suit: {conditional_prob}\")\n",
    "print(f\"Conditional Probability of Rolling Two Dice Given Sum is 7: {conditional_prob_sum7}\")\n",
    "print(f\"Conditional Probability of Selecting a Defective Item Given Produced by Machine A: {conditional_prob_defective_machineA}\\n\")"
   ]
  },
  {
   "cell_type": "code",
   "execution_count": 56,
   "metadata": {},
   "outputs": [
    {
     "name": "stdout",
     "output_type": "stream",
     "text": [
      "Independent and Dependent Variables:\n",
      "Probability of Drawing Two Aces Successively: 0.004524886877828055\n",
      "Probability of Getting Heads on First Coin Flip and Tails on Second: 0.25\n",
      "Probability of Rolling a 2 on One Die and a 4 on Another: 0.027777777777777776\n"
     ]
    }
   ],
   "source": [
    "print(\"Independent and Dependent Variables:\")\n",
    "print(f\"Probability of Drawing Two Aces Successively: {prob_two_aces}\")\n",
    "print(f\"Probability of Getting Heads on First Coin Flip and Tails on Second: {prob_heads_tails}\")\n",
    "print(f\"Probability of Rolling a 2 on One Die and a 4 on Another: {prob_2_4}\")"
   ]
  },
  {
   "cell_type": "code",
   "execution_count": 57,
   "metadata": {},
   "outputs": [
    {
     "name": "stdout",
     "output_type": "stream",
     "text": [
      "Probability of Drawing a Red Card and Then Drawing a Black Card: 0.2549019607843137\n",
      "Probability of Drawing Two Aces (with Replacement): 0.00591715976331361\n",
      "Probability of Rolling Two Even Numbers: 0.25\n",
      "Probability of Drawing a Spade and Then Drawing a Heart: 0.06372549019607843\n"
     ]
    }
   ],
   "source": [
    "print(f\"Probability of Drawing a Red Card and Then Drawing a Black Card: {prob_red_black}\")\n",
    "print(f\"Probability of Drawing Two Aces (with Replacement): {prob_two_aces_replacement}\")\n",
    "print(f\"Probability of Rolling Two Even Numbers: {prob_two_even}\")\n",
    "print(f\"Probability of Drawing a Spade and Then Drawing a Heart: {prob_spade_heart}\")"
   ]
  },
  {
   "cell_type": "code",
   "execution_count": 58,
   "metadata": {},
   "outputs": [
    {
     "name": "stdout",
     "output_type": "stream",
     "text": [
      "Probability of Drawing a Queen and Then Drawing a King: 0.006033182503770739\n",
      "Probability of Drawing a Face Card and Then Drawing Another Face Card: 0.053254437869822494\n",
      "Probability of Drawing a Red Card and Then Drawing Another Red Card: 0.24509803921568626\n",
      "Probability of Rolling a Number Less Than 3 on One Die and a Number Greater Than 4 on Another: 0.1111111111111111\n"
     ]
    }
   ],
   "source": [
    "print(f\"Probability of Drawing a Queen and Then Drawing a King: {prob_queen_king}\")\n",
    "print(f\"Probability of Drawing a Face Card and Then Drawing Another Face Card: {prob_two_face_cards}\")\n",
    "print(f\"Probability of Drawing a Red Card and Then Drawing Another Red Card: {prob_two_red_cards}\")\n",
    "print(f\"Probability of Rolling a Number Less Than 3 on One Die and a Number Greater Than 4 on Another: {prob_less3_greater4}\")"
   ]
  },
  {
   "cell_type": "code",
   "execution_count": 59,
   "metadata": {},
   "outputs": [
    {
     "name": "stdout",
     "output_type": "stream",
     "text": [
      "Probability of Drawing a King and Then Drawing Another King: 0.00591715976331361\n",
      "Probability of Drawing a Red Card and Then Drawing a Black Card: 0.2549019607843137\n",
      "Probability of Rolling a Number Greater Than 3 on One Die and a Number Less Than 3 on Another: 0.16666666666666666\n",
      "Probability of Drawing a Queen and Then Drawing a King (with Replacement): 0.00591715976331361\n"
     ]
    }
   ],
   "source": [
    "print(f\"Probability of Drawing a King and Then Drawing Another King: {prob_two_kings}\")\n",
    "print(f\"Probability of Drawing a Red Card and Then Drawing a Black Card: {prob_red_black}\")\n",
    "print(f\"Probability of Rolling a Number Greater Than 3 on One Die and a Number Less Than 3 on Another: {prob_greater3_less3}\")\n",
    "print(f\"Probability of Drawing a Queen and Then Drawing a King (with Replacement): {prob_queen_king_replacement}\")"
   ]
  },
  {
   "cell_type": "code",
   "execution_count": 60,
   "metadata": {},
   "outputs": [
    {
     "name": "stdout",
     "output_type": "stream",
     "text": [
      "Probability of Rolling an Odd Number on One Die and an Even Number on Another: 0.25\n",
      "Probability of Drawing a Heart and Then Drawing a Spade: 0.06372549019607843\n",
      "Probability of Drawing a King and Then Drawing a Queen: 0.006033182503770739\n",
      "Probability of Drawing a Black Card and Then Drawing a Red Card: 0.2549019607843137\n",
      "Probability of Rolling an Odd Number on One Die and an Odd Number on Another: 0.25\n"
     ]
    }
   ],
   "source": [
    "print(f\"Probability of Rolling an Odd Number on One Die and an Even Number on Another: {prob_odd_even}\")\n",
    "print(f\"Probability of Drawing a Heart and Then Drawing a Spade: {prob_heart_spade}\")\n",
    "print(f\"Probability of Drawing a King and Then Drawing a Queen: {prob_king_queen}\")\n",
    "print(f\"Probability of Drawing a Black Card and Then Drawing a Red Card: {prob_black_red}\")\n",
    "print(f\"Probability of Rolling an Odd Number on One Die and an Odd Number on Another: {prob_two_odd}\")"
   ]
  }
 ],
 "metadata": {
  "kernelspec": {
   "display_name": "Python 3",
   "language": "python",
   "name": "python3"
  },
  "language_info": {
   "codemirror_mode": {
    "name": "ipython",
    "version": 3
   },
   "file_extension": ".py",
   "mimetype": "text/x-python",
   "name": "python",
   "nbconvert_exporter": "python",
   "pygments_lexer": "ipython3",
   "version": "3.11.2"
  },
  "orig_nbformat": 4
 },
 "nbformat": 4,
 "nbformat_minor": 2
}
