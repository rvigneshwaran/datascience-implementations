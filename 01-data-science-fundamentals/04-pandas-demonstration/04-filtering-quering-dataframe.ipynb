{
 "cells": [
  {
   "cell_type": "code",
   "execution_count": 1,
   "metadata": {},
   "outputs": [],
   "source": [
    "import pandas as pd"
   ]
  },
  {
   "cell_type": "code",
   "execution_count": 2,
   "metadata": {},
   "outputs": [],
   "source": [
    "# Creating a DataFrame for Game of Thrones characters\n",
    "data = {\n",
    "    'Name': ['Jon Snow', 'Daenerys Targaryen', 'Tyrion Lannister', 'Arya Stark', 'Cersei Lannister'],\n",
    "    'House': ['Stark', 'Targaryen', 'Lannister', 'Stark', 'Lannister'],\n",
    "    'Allegiance': ['Night\\'s Watch', 'House Targaryen', 'House Lannister', 'House Stark', 'House Lannister'],\n",
    "    'Status': ['Alive', 'Deceased', 'Alive', 'Alive', 'Deceased'],\n",
    "    'Age': [30, 24, 38, 20, 42]\n",
    "}"
   ]
  },
  {
   "cell_type": "code",
   "execution_count": 3,
   "metadata": {},
   "outputs": [
    {
     "name": "stdout",
     "output_type": "stream",
     "text": [
      "Game of Thrones Characters DataFrame:\n",
      "                 Name      House       Allegiance    Status  Age\n",
      "0            Jon Snow      Stark    Night's Watch     Alive   30\n",
      "1  Daenerys Targaryen  Targaryen  House Targaryen  Deceased   24\n",
      "2    Tyrion Lannister  Lannister  House Lannister     Alive   38\n",
      "3          Arya Stark      Stark      House Stark     Alive   20\n",
      "4    Cersei Lannister  Lannister  House Lannister  Deceased   42\n"
     ]
    }
   ],
   "source": [
    "got_df = pd.DataFrame(data)\n",
    "print(\"Game of Thrones Characters DataFrame:\")\n",
    "print(got_df)"
   ]
  },
  {
   "cell_type": "code",
   "execution_count": 4,
   "metadata": {},
   "outputs": [
    {
     "name": "stdout",
     "output_type": "stream",
     "text": [
      "\n",
      "Filtering rows based on a condition (Age > 30):\n",
      "               Name      House       Allegiance    Status  Age\n",
      "2  Tyrion Lannister  Lannister  House Lannister     Alive   38\n",
      "4  Cersei Lannister  Lannister  House Lannister  Deceased   42\n"
     ]
    }
   ],
   "source": [
    "# Filtering rows based on a condition\n",
    "print(\"\\nFiltering rows based on a condition (Age > 30):\")\n",
    "age_filter = got_df['Age'] > 30\n",
    "print(got_df[age_filter])"
   ]
  },
  {
   "cell_type": "code",
   "execution_count": 5,
   "metadata": {},
   "outputs": [
    {
     "name": "stdout",
     "output_type": "stream",
     "text": [
      "\n",
      "Filtering rows based on multiple conditions (Age > 30 and House is Stark):\n",
      "Empty DataFrame\n",
      "Columns: [Name, House, Allegiance, Status, Age]\n",
      "Index: []\n"
     ]
    }
   ],
   "source": [
    "# Filtering rows based on multiple conditions (Age > 30 and House is Stark)\n",
    "print(\"\\nFiltering rows based on multiple conditions (Age > 30 and House is Stark):\")\n",
    "stark_filter = (got_df['Age'] > 30) & (got_df['House'] == 'Stark')\n",
    "print(got_df[stark_filter])"
   ]
  },
  {
   "cell_type": "code",
   "execution_count": 6,
   "metadata": {},
   "outputs": [
    {
     "name": "stdout",
     "output_type": "stream",
     "text": [
      "\n",
      "Filtering rows based on multiple conditions (Age > 30 or Status is Deceased):\n",
      "                 Name      House       Allegiance    Status  Age\n",
      "1  Daenerys Targaryen  Targaryen  House Targaryen  Deceased   24\n",
      "2    Tyrion Lannister  Lannister  House Lannister     Alive   38\n",
      "4    Cersei Lannister  Lannister  House Lannister  Deceased   42\n"
     ]
    }
   ],
   "source": [
    "# Filtering rows based on multiple conditions (Age > 30 or Status is Deceased)\n",
    "print(\"\\nFiltering rows based on multiple conditions (Age > 30 or Status is Deceased):\")\n",
    "age_status_filter = (got_df['Age'] > 30) | (got_df['Status'] == 'Deceased')\n",
    "print(got_df[age_status_filter])"
   ]
  },
  {
   "cell_type": "code",
   "execution_count": 7,
   "metadata": {},
   "outputs": [
    {
     "name": "stdout",
     "output_type": "stream",
     "text": [
      "\n",
      "Filtering rows using the query method:\n",
      "Empty DataFrame\n",
      "Columns: [Name, House, Allegiance, Status, Age]\n",
      "Index: []\n"
     ]
    }
   ],
   "source": [
    "# Filtering rows using the query method\n",
    "print(\"\\nFiltering rows using the query method:\")\n",
    "query_result = got_df.query('Age > 30 and House == \"Stark\"')\n",
    "print(query_result)"
   ]
  },
  {
   "cell_type": "code",
   "execution_count": 8,
   "metadata": {},
   "outputs": [
    {
     "name": "stdout",
     "output_type": "stream",
     "text": [
      "\n",
      "Filtering rows and selecting specific columns:\n",
      "Empty DataFrame\n",
      "Columns: [Name, Age]\n",
      "Index: []\n"
     ]
    }
   ],
   "source": [
    "# Filtering rows and selecting specific columns\n",
    "print(\"\\nFiltering rows and selecting specific columns:\")\n",
    "columns_filter = (got_df['Age'] > 30) & (got_df['House'] == 'Stark')\n",
    "print(got_df.loc[columns_filter, ['Name', 'Age']])"
   ]
  },
  {
   "cell_type": "code",
   "execution_count": 9,
   "metadata": {},
   "outputs": [
    {
     "name": "stdout",
     "output_type": "stream",
     "text": [
      "\n",
      "Filtering rows and updating a specific column for the filtered rows:\n",
      "                 Name      House       Allegiance    Status  Age\n",
      "0            Jon Snow      Stark    Night's Watch     Alive   30\n",
      "1  Daenerys Targaryen  Targaryen  House Targaryen  Deceased   24\n",
      "2    Tyrion Lannister  Lannister  House Lannister  Deceased   38\n",
      "3          Arya Stark      Stark      House Stark     Alive   20\n",
      "4    Cersei Lannister  Lannister  House Lannister  Deceased   42\n"
     ]
    }
   ],
   "source": [
    "# Filtering rows and updating a specific column for the filtered rows\n",
    "print(\"\\nFiltering rows and updating a specific column for the filtered rows:\")\n",
    "got_df.loc[got_df['Age'] > 30, 'Status'] = 'Deceased'\n",
    "print(got_df)\n"
   ]
  },
  {
   "cell_type": "code",
   "execution_count": 10,
   "metadata": {},
   "outputs": [
    {
     "name": "stdout",
     "output_type": "stream",
     "text": [
      "\n",
      "Filtering rows and updating multiple columns for the filtered rows:\n",
      "                 Name      House       Allegiance    Status  Age\n",
      "0            Jon Snow      Stark    Night's Watch     Alive   30\n",
      "1  Daenerys Targaryen  Targaryen  House Targaryen  Deceased   24\n",
      "2    Tyrion Lannister  Lannister    No Allegiance  Deceased   38\n",
      "3          Arya Stark      Stark      House Stark     Alive   20\n",
      "4    Cersei Lannister  Lannister    No Allegiance  Deceased   42\n"
     ]
    }
   ],
   "source": [
    "# Filtering rows and updating multiple columns for the filtered rows\n",
    "print(\"\\nFiltering rows and updating multiple columns for the filtered rows:\")\n",
    "got_df.loc[got_df['Age'] > 30, ['Status', 'Allegiance']] = ['Deceased', 'No Allegiance']\n",
    "print(got_df)"
   ]
  },
  {
   "cell_type": "code",
   "execution_count": 11,
   "metadata": {},
   "outputs": [
    {
     "name": "stdout",
     "output_type": "stream",
     "text": [
      "\n",
      "Example 1: Filtering rows based on House (House is Lannister):\n",
      "               Name      House     Allegiance    Status  Age\n",
      "2  Tyrion Lannister  Lannister  No Allegiance  Deceased   38\n",
      "4  Cersei Lannister  Lannister  No Allegiance  Deceased   42\n"
     ]
    }
   ],
   "source": [
    "# Example 1: Filtering rows based on House\n",
    "print(\"\\nExample 1: Filtering rows based on House (House is Lannister):\")\n",
    "lannister_filter = got_df['House'] == 'Lannister'\n",
    "print(got_df[lannister_filter])"
   ]
  },
  {
   "cell_type": "code",
   "execution_count": 12,
   "metadata": {},
   "outputs": [
    {
     "name": "stdout",
     "output_type": "stream",
     "text": [
      "\n",
      "Example 2: Filtering rows based on multiple conditions (House is Stark and Status is Deceased):\n",
      "Empty DataFrame\n",
      "Columns: [Name, House, Allegiance, Status, Age]\n",
      "Index: []\n"
     ]
    }
   ],
   "source": [
    "# Example 2: Filtering rows based on multiple conditions (House is Stark and Status is Deceased)\n",
    "print(\"\\nExample 2: Filtering rows based on multiple conditions (House is Stark and Status is Deceased):\")\n",
    "stark_deceased_filter = (got_df['House'] == 'Stark') & (got_df['Status'] == 'Deceased')\n",
    "print(got_df[stark_deceased_filter])"
   ]
  },
  {
   "cell_type": "code",
   "execution_count": 13,
   "metadata": {},
   "outputs": [
    {
     "name": "stdout",
     "output_type": "stream",
     "text": [
      "\n",
      "Example 3: Filtering rows based on Name (Exact match, Name is 'Tyrion Lannister'):\n",
      "               Name      House     Allegiance    Status  Age\n",
      "2  Tyrion Lannister  Lannister  No Allegiance  Deceased   38\n"
     ]
    }
   ],
   "source": [
    "# Example 3: Filtering rows based on Name (Exact match)\n",
    "print(\"\\nExample 3: Filtering rows based on Name (Exact match, Name is 'Tyrion Lannister'):\")\n",
    "tyrion_filter = got_df['Name'] == 'Tyrion Lannister'\n",
    "print(got_df[tyrion_filter])"
   ]
  },
  {
   "cell_type": "code",
   "execution_count": 14,
   "metadata": {},
   "outputs": [
    {
     "name": "stdout",
     "output_type": "stream",
     "text": [
      "\n",
      "Example 4: Filtering rows based on Name (Partial match, Name contains 'Stark'):\n",
      "         Name  House   Allegiance Status  Age\n",
      "3  Arya Stark  Stark  House Stark  Alive   20\n"
     ]
    }
   ],
   "source": [
    "# Example 4: Filtering rows based on Name (Partial match using str.contains)\n",
    "print(\"\\nExample 4: Filtering rows based on Name (Partial match, Name contains 'Stark'):\")\n",
    "stark_name_filter = got_df['Name'].str.contains('Stark')\n",
    "print(got_df[stark_name_filter])"
   ]
  },
  {
   "cell_type": "code",
   "execution_count": 15,
   "metadata": {},
   "outputs": [
    {
     "name": "stdout",
     "output_type": "stream",
     "text": [
      "\n",
      "Example 5: Filtering rows based on multiple conditions (House is Stark or Age > 30):\n",
      "               Name      House     Allegiance    Status  Age\n",
      "0          Jon Snow      Stark  Night's Watch     Alive   30\n",
      "2  Tyrion Lannister  Lannister  No Allegiance  Deceased   38\n",
      "3        Arya Stark      Stark    House Stark     Alive   20\n",
      "4  Cersei Lannister  Lannister  No Allegiance  Deceased   42\n"
     ]
    }
   ],
   "source": [
    "# Example 5: Filtering rows based on multiple conditions (House is Stark or Age > 30)\n",
    "print(\"\\nExample 5: Filtering rows based on multiple conditions (House is Stark or Age > 30):\")\n",
    "stark_or_age_filter = (got_df['House'] == 'Stark') | (got_df['Age'] > 30)\n",
    "print(got_df[stark_or_age_filter])"
   ]
  },
  {
   "cell_type": "code",
   "execution_count": 18,
   "metadata": {},
   "outputs": [
    {
     "name": "stdout",
     "output_type": "stream",
     "text": [
      "\n",
      "Example 6: Filtering rows based on Allegiance (Exact match, Allegiance is 'House Targaryen'):\n",
      "                 Name      House       Allegiance    Status  Age\n",
      "1  Daenerys Targaryen  Targaryen  House Targaryen  Deceased   24\n"
     ]
    }
   ],
   "source": [
    "# Example 6: Filtering rows based on Allegiance (Exact match)\n",
    "print(\"\\nExample 6: Filtering rows based on Allegiance (Exact match, Allegiance is 'House Targaryen'):\")\n",
    "targaryen_filter = got_df['Allegiance'] == 'House Targaryen'\n",
    "print(got_df[targaryen_filter])"
   ]
  },
  {
   "cell_type": "code",
   "execution_count": 19,
   "metadata": {},
   "outputs": [
    {
     "name": "stdout",
     "output_type": "stream",
     "text": [
      "\n",
      "Example 7: Filtering rows based on Allegiance (Partial match, Allegiance contains 'Lannister'):\n",
      "Empty DataFrame\n",
      "Columns: [Name, House, Allegiance, Status, Age]\n",
      "Index: []\n"
     ]
    }
   ],
   "source": [
    "# Example 7: Filtering rows based on Allegiance (Partial match using str.contains)\n",
    "print(\"\\nExample 7: Filtering rows based on Allegiance (Partial match, Allegiance contains 'Lannister'):\")\n",
    "lannister_allegiance_filter = got_df['Allegiance'].str.contains('Lannister')\n",
    "print(got_df[lannister_allegiance_filter])"
   ]
  },
  {
   "cell_type": "code",
   "execution_count": 20,
   "metadata": {},
   "outputs": [
    {
     "name": "stdout",
     "output_type": "stream",
     "text": [
      "\n",
      "Example 8: Filtering rows based on Age (Age between 25 and 35):\n",
      "       Name  House     Allegiance Status  Age\n",
      "0  Jon Snow  Stark  Night's Watch  Alive   30\n"
     ]
    }
   ],
   "source": [
    "# Example 8: Filtering rows based on Age (Age between 25 and 35)\n",
    "print(\"\\nExample 8: Filtering rows based on Age (Age between 25 and 35):\")\n",
    "age_range_filter = (got_df['Age'] >= 25) & (got_df['Age'] <= 35)\n",
    "print(got_df[age_range_filter])"
   ]
  },
  {
   "cell_type": "code",
   "execution_count": 21,
   "metadata": {},
   "outputs": [
    {
     "name": "stdout",
     "output_type": "stream",
     "text": [
      "\n",
      "Example 9: Filtering rows based on Status (Status is either 'Alive' or 'Deceased'):\n",
      "                 Name      House       Allegiance    Status  Age\n",
      "0            Jon Snow      Stark    Night's Watch     Alive   30\n",
      "1  Daenerys Targaryen  Targaryen  House Targaryen  Deceased   24\n",
      "2    Tyrion Lannister  Lannister    No Allegiance  Deceased   38\n",
      "3          Arya Stark      Stark      House Stark     Alive   20\n",
      "4    Cersei Lannister  Lannister    No Allegiance  Deceased   42\n"
     ]
    }
   ],
   "source": [
    "# Example 9: Filtering rows based on Status (Status is either 'Alive' or 'Deceased')\n",
    "print(\"\\nExample 9: Filtering rows based on Status (Status is either 'Alive' or 'Deceased'):\")\n",
    "alive_deceased_filter = got_df['Status'].isin(['Alive', 'Deceased'])\n",
    "print(got_df[alive_deceased_filter])"
   ]
  },
  {
   "cell_type": "code",
   "execution_count": 22,
   "metadata": {},
   "outputs": [
    {
     "name": "stdout",
     "output_type": "stream",
     "text": [
      "\n",
      "Example 10: Filtering rows based on Age and Status (Age greater than 25 and Status is 'Deceased'):\n",
      "               Name      House     Allegiance    Status  Age\n",
      "2  Tyrion Lannister  Lannister  No Allegiance  Deceased   38\n",
      "4  Cersei Lannister  Lannister  No Allegiance  Deceased   42\n"
     ]
    }
   ],
   "source": [
    "# Example 10: Filtering rows based on Age and Status (Age greater than 25 and Status is 'Deceased')\n",
    "print(\"\\nExample 10: Filtering rows based on Age and Status (Age greater than 25 and Status is 'Deceased'):\")\n",
    "age_status_filter = (got_df['Age'] > 25) & (got_df['Status'] == 'Deceased')\n",
    "print(got_df[age_status_filter])"
   ]
  },
  {
   "cell_type": "code",
   "execution_count": 23,
   "metadata": {},
   "outputs": [
    {
     "name": "stdout",
     "output_type": "stream",
     "text": [
      "\n",
      "Example 11: Using the not operator to negate a filter (Characters not from House Stark):\n",
      "                 Name      House       Allegiance    Status  Age\n",
      "1  Daenerys Targaryen  Targaryen  House Targaryen  Deceased   24\n",
      "2    Tyrion Lannister  Lannister    No Allegiance  Deceased   38\n",
      "4    Cersei Lannister  Lannister    No Allegiance  Deceased   42\n"
     ]
    }
   ],
   "source": [
    "# Example 11: Using the not operator to negate a filter\n",
    "print(\"\\nExample 11: Using the not operator to negate a filter (Characters not from House Stark):\")\n",
    "not_stark_filter = ~ (got_df['House'] == 'Stark')\n",
    "print(got_df[not_stark_filter])"
   ]
  },
  {
   "cell_type": "code",
   "execution_count": 24,
   "metadata": {},
   "outputs": [
    {
     "name": "stdout",
     "output_type": "stream",
     "text": [
      "\n",
      "Example 12: Using the between method to filter rows based on Age (Age between 25 and 35):\n",
      "       Name  House     Allegiance Status  Age\n",
      "0  Jon Snow  Stark  Night's Watch  Alive   30\n"
     ]
    }
   ],
   "source": [
    "# Example 12: Using the between method to filter rows based on Age\n",
    "print(\"\\nExample 12: Using the between method to filter rows based on Age (Age between 25 and 35):\")\n",
    "age_between_filter = got_df['Age'].between(25, 35)\n",
    "print(got_df[age_between_filter])"
   ]
  },
  {
   "cell_type": "code",
   "execution_count": 25,
   "metadata": {},
   "outputs": [
    {
     "name": "stdout",
     "output_type": "stream",
     "text": [
      "\n",
      "Example 13: Using the isna method to filter rows with missing values:\n",
      "Empty DataFrame\n",
      "Columns: [Name, House, Allegiance, Status, Age]\n",
      "Index: []\n"
     ]
    }
   ],
   "source": [
    "# Example 13: Using the isna method to filter rows with missing values\n",
    "print(\"\\nExample 13: Using the isna method to filter rows with missing values:\")\n",
    "missing_age_filter = got_df['Age'].isna()\n",
    "print(got_df[missing_age_filter])"
   ]
  },
  {
   "cell_type": "code",
   "execution_count": 26,
   "metadata": {},
   "outputs": [
    {
     "name": "stdout",
     "output_type": "stream",
     "text": [
      "\n",
      "Example 14: Using the notna method to filter rows with non-missing values:\n",
      "                 Name      House       Allegiance    Status  Age\n",
      "0            Jon Snow      Stark    Night's Watch     Alive   30\n",
      "1  Daenerys Targaryen  Targaryen  House Targaryen  Deceased   24\n",
      "2    Tyrion Lannister  Lannister    No Allegiance  Deceased   38\n",
      "3          Arya Stark      Stark      House Stark     Alive   20\n",
      "4    Cersei Lannister  Lannister    No Allegiance  Deceased   42\n"
     ]
    }
   ],
   "source": [
    "# Example 14: Using the notna method to filter rows with non-missing values\n",
    "print(\"\\nExample 14: Using the notna method to filter rows with non-missing values:\")\n",
    "not_missing_age_filter = got_df['Age'].notna()\n",
    "print(got_df[not_missing_age_filter])"
   ]
  },
  {
   "cell_type": "code",
   "execution_count": 27,
   "metadata": {},
   "outputs": [
    {
     "name": "stdout",
     "output_type": "stream",
     "text": [
      "\n",
      "Example 15: Filtering rows using a custom function (Characters with names starting with 'C'):\n",
      "               Name      House     Allegiance    Status  Age\n",
      "4  Cersei Lannister  Lannister  No Allegiance  Deceased   42\n"
     ]
    }
   ],
   "source": [
    "# Example 15: Filtering rows using a custom function\n",
    "print(\"\\nExample 15: Filtering rows using a custom function (Characters with names starting with 'C'):\")\n",
    "name_starts_with_c_filter = got_df['Name'].apply(lambda name: name.startswith('C'))\n",
    "print(got_df[name_starts_with_c_filter])"
   ]
  },
  {
   "cell_type": "code",
   "execution_count": 28,
   "metadata": {},
   "outputs": [
    {
     "name": "stdout",
     "output_type": "stream",
     "text": [
      "\n",
      "Example 16: Filtering rows using a custom function and multiple conditions (Characters with ages greater than 25 and not from House Stark):\n",
      "               Name      House     Allegiance    Status  Age\n",
      "2  Tyrion Lannister  Lannister  No Allegiance  Deceased   38\n",
      "4  Cersei Lannister  Lannister  No Allegiance  Deceased   42\n"
     ]
    }
   ],
   "source": [
    "# Example 16: Filtering rows using a custom function and multiple conditions\n",
    "print(\"\\nExample 16: Filtering rows using a custom function and multiple conditions (Characters with ages greater than 25 and not from House Stark):\")\n",
    "custom_filter = got_df.apply(lambda row: row['Age'] > 25 and row['House'] != 'Stark', axis=1)\n",
    "print(got_df[custom_filter])"
   ]
  },
  {
   "cell_type": "code",
   "execution_count": 29,
   "metadata": {},
   "outputs": [
    {
     "name": "stdout",
     "output_type": "stream",
     "text": [
      "\n",
      "Example 17: Using query method with multiple conditions (Characters with ages greater than 25 and not from House Stark):\n",
      "               Name      House     Allegiance    Status  Age\n",
      "2  Tyrion Lannister  Lannister  No Allegiance  Deceased   38\n",
      "4  Cersei Lannister  Lannister  No Allegiance  Deceased   42\n"
     ]
    }
   ],
   "source": [
    "# Example 17: Using query method with multiple conditions\n",
    "print(\"\\nExample 17: Using query method with multiple conditions (Characters with ages greater than 25 and not from House Stark):\")\n",
    "query_result = got_df.query('Age > 25 and House != \"Stark\"')\n",
    "print(query_result)"
   ]
  },
  {
   "cell_type": "code",
   "execution_count": 30,
   "metadata": {},
   "outputs": [
    {
     "name": "stdout",
     "output_type": "stream",
     "text": [
      "\n",
      "Example 18: Filtering rows and selecting specific columns using query method:\n",
      "Empty DataFrame\n",
      "Columns: [Name, Status]\n",
      "Index: []\n"
     ]
    }
   ],
   "source": [
    "# Example 18: Filtering rows and selecting specific columns using query method\n",
    "print(\"\\nExample 18: Filtering rows and selecting specific columns using query method:\")\n",
    "query_result = got_df.query('Age > 30 and House == \"Stark\"')[['Name', 'Status']]\n",
    "print(query_result)"
   ]
  },
  {
   "cell_type": "code",
   "execution_count": 31,
   "metadata": {},
   "outputs": [
    {
     "name": "stdout",
     "output_type": "stream",
     "text": [
      "\n",
      "Example 19: Updating rows based on a condition (Updating Status to 'Deceased' for characters older than 30):\n",
      "                 Name      House       Allegiance    Status  Age\n",
      "0            Jon Snow      Stark    Night's Watch     Alive   30\n",
      "1  Daenerys Targaryen  Targaryen  House Targaryen  Deceased   24\n",
      "2    Tyrion Lannister  Lannister    No Allegiance  Deceased   38\n",
      "3          Arya Stark      Stark      House Stark     Alive   20\n",
      "4    Cersei Lannister  Lannister    No Allegiance  Deceased   42\n"
     ]
    }
   ],
   "source": [
    "# Example 19: Updating rows based on a condition\n",
    "print(\"\\nExample 19: Updating rows based on a condition (Updating Status to 'Deceased' for characters older than 30):\")\n",
    "got_df.loc[got_df['Age'] > 30, 'Status'] = 'Deceased'\n",
    "print(got_df)\n"
   ]
  },
  {
   "cell_type": "code",
   "execution_count": 32,
   "metadata": {},
   "outputs": [
    {
     "name": "stdout",
     "output_type": "stream",
     "text": [
      "\n",
      "Example 20: Updating rows based on multiple conditions (Updating Allegiance to 'No Allegiance' for deceased characters):\n",
      "                 Name      House     Allegiance    Status  Age\n",
      "0            Jon Snow      Stark  Night's Watch     Alive   30\n",
      "1  Daenerys Targaryen  Targaryen  No Allegiance  Deceased   24\n",
      "2    Tyrion Lannister  Lannister  No Allegiance  Deceased   38\n",
      "3          Arya Stark      Stark    House Stark     Alive   20\n",
      "4    Cersei Lannister  Lannister  No Allegiance  Deceased   42\n"
     ]
    }
   ],
   "source": [
    "# Example 20: Updating rows based on multiple conditions\n",
    "print(\"\\nExample 20: Updating rows based on multiple conditions (Updating Allegiance to 'No Allegiance' for deceased characters):\")\n",
    "got_df.loc[got_df['Status'] == 'Deceased', 'Allegiance'] = 'No Allegiance'\n",
    "print(got_df)"
   ]
  },
  {
   "cell_type": "code",
   "execution_count": 33,
   "metadata": {},
   "outputs": [
    {
     "name": "stdout",
     "output_type": "stream",
     "text": [
      "\n",
      "Example 21: Updating rows using query method (Updating Status to 'Deceased' for characters older than 30):\n",
      "               Name      House     Allegiance    Status  Age\n",
      "2  Tyrion Lannister  Lannister  No Allegiance  Deceased   38\n",
      "4  Cersei Lannister  Lannister  No Allegiance  Deceased   42\n"
     ]
    }
   ],
   "source": [
    "# Example 21: Updating rows using query method\n",
    "print(\"\\nExample 21: Updating rows using query method (Updating Status to 'Deceased' for characters older than 30):\")\n",
    "got_df.query('Age > 30', inplace=True)\n",
    "got_df['Status'] = 'Deceased'\n",
    "print(got_df)"
   ]
  },
  {
   "cell_type": "code",
   "execution_count": 34,
   "metadata": {},
   "outputs": [
    {
     "name": "stdout",
     "output_type": "stream",
     "text": [
      "\n",
      "Example 22: Updating rows and selecting specific columns using query method (Updating Age to 40 for deceased characters):\n",
      "               Name      House     Allegiance    Status  Age\n",
      "2  Tyrion Lannister  Lannister  No Allegiance  Deceased   40\n",
      "4  Cersei Lannister  Lannister  No Allegiance  Deceased   40\n"
     ]
    }
   ],
   "source": [
    "# Example 22: Updating rows and selecting specific columns using query method\n",
    "print(\"\\nExample 22: Updating rows and selecting specific columns using query method (Updating Age to 40 for deceased characters):\")\n",
    "got_df.query('Status == \"Deceased\"', inplace=True)\n",
    "got_df['Age'] = 40\n",
    "print(got_df)"
   ]
  },
  {
   "cell_type": "code",
   "execution_count": 35,
   "metadata": {},
   "outputs": [
    {
     "name": "stdout",
     "output_type": "stream",
     "text": [
      "\n",
      "Example 23: Filtering rows and assigning a new column value (Characters from House Stark are in the North):\n",
      "               Name      House     Allegiance    Status  Age Location\n",
      "2  Tyrion Lannister  Lannister  No Allegiance  Deceased   40      NaN\n",
      "4  Cersei Lannister  Lannister  No Allegiance  Deceased   40      NaN\n"
     ]
    }
   ],
   "source": [
    "# Example 23: Filtering rows and assigning a new column value\n",
    "print(\"\\nExample 23: Filtering rows and assigning a new column value (Characters from House Stark are in the North):\")\n",
    "got_df.loc[got_df['House'] == 'Stark', 'Location'] = 'The North'\n",
    "print(got_df)"
   ]
  },
  {
   "cell_type": "code",
   "execution_count": 36,
   "metadata": {},
   "outputs": [
    {
     "name": "stdout",
     "output_type": "stream",
     "text": [
      "\n",
      "Example 24: Using isin method with filtering (Characters from House Stark or House Lannister):\n",
      "               Name      House     Allegiance    Status  Age Location\n",
      "2  Tyrion Lannister  Lannister  No Allegiance  Deceased   40      NaN\n",
      "4  Cersei Lannister  Lannister  No Allegiance  Deceased   40      NaN\n"
     ]
    }
   ],
   "source": [
    "# Example 24: Using isin method with filtering\n",
    "print(\"\\nExample 24: Using isin method with filtering (Characters from House Stark or House Lannister):\")\n",
    "house_filter = got_df['House'].isin(['Stark', 'Lannister'])\n",
    "print(got_df[house_filter])"
   ]
  },
  {
   "cell_type": "code",
   "execution_count": 37,
   "metadata": {},
   "outputs": [
    {
     "name": "stdout",
     "output_type": "stream",
     "text": [
      "\n",
      "Example 25: Using str methods for string filtering (Characters with names containing 'Targaryen'):\n",
      "Empty DataFrame\n",
      "Columns: [Name, House, Allegiance, Status, Age, Location]\n",
      "Index: []\n"
     ]
    }
   ],
   "source": [
    "# Example 25: Using str methods for string filtering\n",
    "print(\"\\nExample 25: Using str methods for string filtering (Characters with names containing 'Targaryen'):\")\n",
    "targaryen_name_filter = got_df['Name'].str.contains('Targaryen')\n",
    "print(got_df[targaryen_name_filter])"
   ]
  }
 ],
 "metadata": {
  "kernelspec": {
   "display_name": "Python 3",
   "language": "python",
   "name": "python3"
  },
  "language_info": {
   "codemirror_mode": {
    "name": "ipython",
    "version": 3
   },
   "file_extension": ".py",
   "mimetype": "text/x-python",
   "name": "python",
   "nbconvert_exporter": "python",
   "pygments_lexer": "ipython3",
   "version": "3.11.2"
  },
  "orig_nbformat": 4
 },
 "nbformat": 4,
 "nbformat_minor": 2
}
