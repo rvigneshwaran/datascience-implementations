{
 "cells": [
  {
   "cell_type": "code",
   "execution_count": 1,
   "metadata": {},
   "outputs": [],
   "source": [
    "import pandas as pd"
   ]
  },
  {
   "cell_type": "code",
   "execution_count": 2,
   "metadata": {},
   "outputs": [],
   "source": [
    "# Creating a DataFrame for Game of Thrones characters\n",
    "data = {\n",
    "    'Name': ['Jon Snow', 'Daenerys Targaryen', 'Tyrion Lannister', 'Arya Stark', 'Cersei Lannister'],\n",
    "    'House': ['Stark', 'Targaryen', 'Lannister', 'Stark', 'Lannister'],\n",
    "    'Allegiance': ['Night\\'s Watch', 'House Targaryen', 'House Lannister', 'House Stark', 'House Lannister'],\n",
    "    'Status': ['Alive', 'Deceased', 'Alive', 'Alive', 'Deceased'],\n",
    "    'Age': [30, 24, 38, 20, 42]\n",
    "}"
   ]
  },
  {
   "cell_type": "code",
   "execution_count": 3,
   "metadata": {},
   "outputs": [
    {
     "name": "stdout",
     "output_type": "stream",
     "text": [
      "Game of Thrones Characters DataFrame:\n",
      "                 Name      House       Allegiance    Status  Age\n",
      "0            Jon Snow      Stark    Night's Watch     Alive   30\n",
      "1  Daenerys Targaryen  Targaryen  House Targaryen  Deceased   24\n",
      "2    Tyrion Lannister  Lannister  House Lannister     Alive   38\n",
      "3          Arya Stark      Stark      House Stark     Alive   20\n",
      "4    Cersei Lannister  Lannister  House Lannister  Deceased   42\n"
     ]
    }
   ],
   "source": [
    "got_df = pd.DataFrame(data)\n",
    "print(\"Game of Thrones Characters DataFrame:\")\n",
    "print(got_df)"
   ]
  },
  {
   "cell_type": "code",
   "execution_count": 4,
   "metadata": {},
   "outputs": [
    {
     "name": "stdout",
     "output_type": "stream",
     "text": [
      "\n",
      "Filtering rows based on a condition (Age > 30):\n",
      "               Name      House       Allegiance    Status  Age\n",
      "2  Tyrion Lannister  Lannister  House Lannister     Alive   38\n",
      "4  Cersei Lannister  Lannister  House Lannister  Deceased   42\n"
     ]
    }
   ],
   "source": [
    "# Filtering rows based on a condition\n",
    "print(\"\\nFiltering rows based on a condition (Age > 30):\")\n",
    "age_filter = got_df['Age'] > 30\n",
    "print(got_df[age_filter])"
   ]
  },
  {
   "cell_type": "code",
   "execution_count": 5,
   "metadata": {},
   "outputs": [
    {
     "name": "stdout",
     "output_type": "stream",
     "text": [
      "\n",
      "Filtering rows based on multiple conditions (Age > 30 and House is Stark):\n",
      "Empty DataFrame\n",
      "Columns: [Name, House, Allegiance, Status, Age]\n",
      "Index: []\n"
     ]
    }
   ],
   "source": [
    "# Filtering rows based on multiple conditions (Age > 30 and House is Stark)\n",
    "print(\"\\nFiltering rows based on multiple conditions (Age > 30 and House is Stark):\")\n",
    "stark_filter = (got_df['Age'] > 30) & (got_df['House'] == 'Stark')\n",
    "print(got_df[stark_filter])"
   ]
  },
  {
   "cell_type": "code",
   "execution_count": 6,
   "metadata": {},
   "outputs": [
    {
     "name": "stdout",
     "output_type": "stream",
     "text": [
      "\n",
      "Filtering rows based on multiple conditions (Age > 30 or Status is Deceased):\n",
      "                 Name      House       Allegiance    Status  Age\n",
      "1  Daenerys Targaryen  Targaryen  House Targaryen  Deceased   24\n",
      "2    Tyrion Lannister  Lannister  House Lannister     Alive   38\n",
      "4    Cersei Lannister  Lannister  House Lannister  Deceased   42\n"
     ]
    }
   ],
   "source": [
    "# Filtering rows based on multiple conditions (Age > 30 or Status is Deceased)\n",
    "print(\"\\nFiltering rows based on multiple conditions (Age > 30 or Status is Deceased):\")\n",
    "age_status_filter = (got_df['Age'] > 30) | (got_df['Status'] == 'Deceased')\n",
    "print(got_df[age_status_filter])"
   ]
  },
  {
   "cell_type": "code",
   "execution_count": 7,
   "metadata": {},
   "outputs": [
    {
     "name": "stdout",
     "output_type": "stream",
     "text": [
      "\n",
      "Filtering rows using the query method:\n",
      "Empty DataFrame\n",
      "Columns: [Name, House, Allegiance, Status, Age]\n",
      "Index: []\n"
     ]
    }
   ],
   "source": [
    "# Filtering rows using the query method\n",
    "print(\"\\nFiltering rows using the query method:\")\n",
    "query_result = got_df.query('Age > 30 and House == \"Stark\"')\n",
    "print(query_result)"
   ]
  },
  {
   "cell_type": "code",
   "execution_count": 8,
   "metadata": {},
   "outputs": [
    {
     "name": "stdout",
     "output_type": "stream",
     "text": [
      "\n",
      "Filtering rows and selecting specific columns:\n",
      "Empty DataFrame\n",
      "Columns: [Name, Age]\n",
      "Index: []\n"
     ]
    }
   ],
   "source": [
    "# Filtering rows and selecting specific columns\n",
    "print(\"\\nFiltering rows and selecting specific columns:\")\n",
    "columns_filter = (got_df['Age'] > 30) & (got_df['House'] == 'Stark')\n",
    "print(got_df.loc[columns_filter, ['Name', 'Age']])"
   ]
  },
  {
   "cell_type": "code",
   "execution_count": 9,
   "metadata": {},
   "outputs": [
    {
     "name": "stdout",
     "output_type": "stream",
     "text": [
      "\n",
      "Filtering rows and updating a specific column for the filtered rows:\n",
      "                 Name      House       Allegiance    Status  Age\n",
      "0            Jon Snow      Stark    Night's Watch     Alive   30\n",
      "1  Daenerys Targaryen  Targaryen  House Targaryen  Deceased   24\n",
      "2    Tyrion Lannister  Lannister  House Lannister  Deceased   38\n",
      "3          Arya Stark      Stark      House Stark     Alive   20\n",
      "4    Cersei Lannister  Lannister  House Lannister  Deceased   42\n"
     ]
    }
   ],
   "source": [
    "# Filtering rows and updating a specific column for the filtered rows\n",
    "print(\"\\nFiltering rows and updating a specific column for the filtered rows:\")\n",
    "got_df.loc[got_df['Age'] > 30, 'Status'] = 'Deceased'\n",
    "print(got_df)\n"
   ]
  },
  {
   "cell_type": "code",
   "execution_count": 10,
   "metadata": {},
   "outputs": [
    {
     "name": "stdout",
     "output_type": "stream",
     "text": [
      "\n",
      "Filtering rows and updating multiple columns for the filtered rows:\n",
      "                 Name      House       Allegiance    Status  Age\n",
      "0            Jon Snow      Stark    Night's Watch     Alive   30\n",
      "1  Daenerys Targaryen  Targaryen  House Targaryen  Deceased   24\n",
      "2    Tyrion Lannister  Lannister    No Allegiance  Deceased   38\n",
      "3          Arya Stark      Stark      House Stark     Alive   20\n",
      "4    Cersei Lannister  Lannister    No Allegiance  Deceased   42\n"
     ]
    }
   ],
   "source": [
    "# Filtering rows and updating multiple columns for the filtered rows\n",
    "print(\"\\nFiltering rows and updating multiple columns for the filtered rows:\")\n",
    "got_df.loc[got_df['Age'] > 30, ['Status', 'Allegiance']] = ['Deceased', 'No Allegiance']\n",
    "print(got_df)"
   ]
  },
  {
   "cell_type": "code",
   "execution_count": 11,
   "metadata": {},
   "outputs": [
    {
     "name": "stdout",
     "output_type": "stream",
     "text": [
      "\n",
      "Example 1: Filtering rows based on House (House is Lannister):\n",
      "               Name      House     Allegiance    Status  Age\n",
      "2  Tyrion Lannister  Lannister  No Allegiance  Deceased   38\n",
      "4  Cersei Lannister  Lannister  No Allegiance  Deceased   42\n"
     ]
    }
   ],
   "source": [
    "# Example 1: Filtering rows based on House\n",
    "print(\"\\nExample 1: Filtering rows based on House (House is Lannister):\")\n",
    "lannister_filter = got_df['House'] == 'Lannister'\n",
    "print(got_df[lannister_filter])"
   ]
  }
 ],
 "metadata": {
  "kernelspec": {
   "display_name": "Python 3",
   "language": "python",
   "name": "python3"
  },
  "language_info": {
   "codemirror_mode": {
    "name": "ipython",
    "version": 3
   },
   "file_extension": ".py",
   "mimetype": "text/x-python",
   "name": "python",
   "nbconvert_exporter": "python",
   "pygments_lexer": "ipython3",
   "version": "3.11.2"
  },
  "orig_nbformat": 4
 },
 "nbformat": 4,
 "nbformat_minor": 2
}
