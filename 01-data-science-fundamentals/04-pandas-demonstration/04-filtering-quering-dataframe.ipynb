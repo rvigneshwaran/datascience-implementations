{
 "cells": [
  {
   "cell_type": "code",
   "execution_count": 1,
   "metadata": {},
   "outputs": [],
   "source": [
    "import pandas as pd"
   ]
  },
  {
   "cell_type": "code",
   "execution_count": 2,
   "metadata": {},
   "outputs": [],
   "source": [
    "# Creating a DataFrame for Game of Thrones characters\n",
    "data = {\n",
    "    'Name': ['Jon Snow', 'Daenerys Targaryen', 'Tyrion Lannister', 'Arya Stark', 'Cersei Lannister'],\n",
    "    'House': ['Stark', 'Targaryen', 'Lannister', 'Stark', 'Lannister'],\n",
    "    'Allegiance': ['Night\\'s Watch', 'House Targaryen', 'House Lannister', 'House Stark', 'House Lannister'],\n",
    "    'Status': ['Alive', 'Deceased', 'Alive', 'Alive', 'Deceased'],\n",
    "    'Age': [30, 24, 38, 20, 42]\n",
    "}"
   ]
  },
  {
   "cell_type": "code",
   "execution_count": 3,
   "metadata": {},
   "outputs": [
    {
     "name": "stdout",
     "output_type": "stream",
     "text": [
      "Game of Thrones Characters DataFrame:\n",
      "                 Name      House       Allegiance    Status  Age\n",
      "0            Jon Snow      Stark    Night's Watch     Alive   30\n",
      "1  Daenerys Targaryen  Targaryen  House Targaryen  Deceased   24\n",
      "2    Tyrion Lannister  Lannister  House Lannister     Alive   38\n",
      "3          Arya Stark      Stark      House Stark     Alive   20\n",
      "4    Cersei Lannister  Lannister  House Lannister  Deceased   42\n"
     ]
    }
   ],
   "source": [
    "got_df = pd.DataFrame(data)\n",
    "print(\"Game of Thrones Characters DataFrame:\")\n",
    "print(got_df)"
   ]
  },
  {
   "cell_type": "code",
   "execution_count": 4,
   "metadata": {},
   "outputs": [
    {
     "name": "stdout",
     "output_type": "stream",
     "text": [
      "\n",
      "Filtering rows based on a condition (Age > 30):\n",
      "               Name      House       Allegiance    Status  Age\n",
      "2  Tyrion Lannister  Lannister  House Lannister     Alive   38\n",
      "4  Cersei Lannister  Lannister  House Lannister  Deceased   42\n"
     ]
    }
   ],
   "source": [
    "# Filtering rows based on a condition\n",
    "print(\"\\nFiltering rows based on a condition (Age > 30):\")\n",
    "age_filter = got_df['Age'] > 30\n",
    "print(got_df[age_filter])"
   ]
  },
  {
   "cell_type": "code",
   "execution_count": 5,
   "metadata": {},
   "outputs": [
    {
     "name": "stdout",
     "output_type": "stream",
     "text": [
      "\n",
      "Filtering rows based on multiple conditions (Age > 30 and House is Stark):\n",
      "Empty DataFrame\n",
      "Columns: [Name, House, Allegiance, Status, Age]\n",
      "Index: []\n"
     ]
    }
   ],
   "source": [
    "# Filtering rows based on multiple conditions (Age > 30 and House is Stark)\n",
    "print(\"\\nFiltering rows based on multiple conditions (Age > 30 and House is Stark):\")\n",
    "stark_filter = (got_df['Age'] > 30) & (got_df['House'] == 'Stark')\n",
    "print(got_df[stark_filter])"
   ]
  },
  {
   "cell_type": "code",
   "execution_count": 6,
   "metadata": {},
   "outputs": [
    {
     "name": "stdout",
     "output_type": "stream",
     "text": [
      "\n",
      "Filtering rows based on multiple conditions (Age > 30 or Status is Deceased):\n",
      "                 Name      House       Allegiance    Status  Age\n",
      "1  Daenerys Targaryen  Targaryen  House Targaryen  Deceased   24\n",
      "2    Tyrion Lannister  Lannister  House Lannister     Alive   38\n",
      "4    Cersei Lannister  Lannister  House Lannister  Deceased   42\n"
     ]
    }
   ],
   "source": [
    "# Filtering rows based on multiple conditions (Age > 30 or Status is Deceased)\n",
    "print(\"\\nFiltering rows based on multiple conditions (Age > 30 or Status is Deceased):\")\n",
    "age_status_filter = (got_df['Age'] > 30) | (got_df['Status'] == 'Deceased')\n",
    "print(got_df[age_status_filter])"
   ]
  },
  {
   "cell_type": "code",
   "execution_count": 7,
   "metadata": {},
   "outputs": [
    {
     "name": "stdout",
     "output_type": "stream",
     "text": [
      "\n",
      "Filtering rows using the query method:\n",
      "Empty DataFrame\n",
      "Columns: [Name, House, Allegiance, Status, Age]\n",
      "Index: []\n"
     ]
    }
   ],
   "source": [
    "# Filtering rows using the query method\n",
    "print(\"\\nFiltering rows using the query method:\")\n",
    "query_result = got_df.query('Age > 30 and House == \"Stark\"')\n",
    "print(query_result)"
   ]
  },
  {
   "cell_type": "code",
   "execution_count": 8,
   "metadata": {},
   "outputs": [
    {
     "name": "stdout",
     "output_type": "stream",
     "text": [
      "\n",
      "Filtering rows and selecting specific columns:\n",
      "Empty DataFrame\n",
      "Columns: [Name, Age]\n",
      "Index: []\n"
     ]
    }
   ],
   "source": [
    "# Filtering rows and selecting specific columns\n",
    "print(\"\\nFiltering rows and selecting specific columns:\")\n",
    "columns_filter = (got_df['Age'] > 30) & (got_df['House'] == 'Stark')\n",
    "print(got_df.loc[columns_filter, ['Name', 'Age']])"
   ]
  },
  {
   "cell_type": "code",
   "execution_count": 9,
   "metadata": {},
   "outputs": [
    {
     "name": "stdout",
     "output_type": "stream",
     "text": [
      "\n",
      "Filtering rows and updating a specific column for the filtered rows:\n",
      "                 Name      House       Allegiance    Status  Age\n",
      "0            Jon Snow      Stark    Night's Watch     Alive   30\n",
      "1  Daenerys Targaryen  Targaryen  House Targaryen  Deceased   24\n",
      "2    Tyrion Lannister  Lannister  House Lannister  Deceased   38\n",
      "3          Arya Stark      Stark      House Stark     Alive   20\n",
      "4    Cersei Lannister  Lannister  House Lannister  Deceased   42\n"
     ]
    }
   ],
   "source": [
    "# Filtering rows and updating a specific column for the filtered rows\n",
    "print(\"\\nFiltering rows and updating a specific column for the filtered rows:\")\n",
    "got_df.loc[got_df['Age'] > 30, 'Status'] = 'Deceased'\n",
    "print(got_df)\n"
   ]
  },
  {
   "cell_type": "code",
   "execution_count": 10,
   "metadata": {},
   "outputs": [
    {
     "name": "stdout",
     "output_type": "stream",
     "text": [
      "\n",
      "Filtering rows and updating multiple columns for the filtered rows:\n",
      "                 Name      House       Allegiance    Status  Age\n",
      "0            Jon Snow      Stark    Night's Watch     Alive   30\n",
      "1  Daenerys Targaryen  Targaryen  House Targaryen  Deceased   24\n",
      "2    Tyrion Lannister  Lannister    No Allegiance  Deceased   38\n",
      "3          Arya Stark      Stark      House Stark     Alive   20\n",
      "4    Cersei Lannister  Lannister    No Allegiance  Deceased   42\n"
     ]
    }
   ],
   "source": [
    "# Filtering rows and updating multiple columns for the filtered rows\n",
    "print(\"\\nFiltering rows and updating multiple columns for the filtered rows:\")\n",
    "got_df.loc[got_df['Age'] > 30, ['Status', 'Allegiance']] = ['Deceased', 'No Allegiance']\n",
    "print(got_df)"
   ]
  },
  {
   "cell_type": "code",
   "execution_count": 11,
   "metadata": {},
   "outputs": [
    {
     "name": "stdout",
     "output_type": "stream",
     "text": [
      "\n",
      "Example 1: Filtering rows based on House (House is Lannister):\n",
      "               Name      House     Allegiance    Status  Age\n",
      "2  Tyrion Lannister  Lannister  No Allegiance  Deceased   38\n",
      "4  Cersei Lannister  Lannister  No Allegiance  Deceased   42\n"
     ]
    }
   ],
   "source": [
    "# Example 1: Filtering rows based on House\n",
    "print(\"\\nExample 1: Filtering rows based on House (House is Lannister):\")\n",
    "lannister_filter = got_df['House'] == 'Lannister'\n",
    "print(got_df[lannister_filter])"
   ]
  },
  {
   "cell_type": "code",
   "execution_count": 12,
   "metadata": {},
   "outputs": [
    {
     "name": "stdout",
     "output_type": "stream",
     "text": [
      "\n",
      "Example 2: Filtering rows based on multiple conditions (House is Stark and Status is Deceased):\n",
      "Empty DataFrame\n",
      "Columns: [Name, House, Allegiance, Status, Age]\n",
      "Index: []\n"
     ]
    }
   ],
   "source": [
    "# Example 2: Filtering rows based on multiple conditions (House is Stark and Status is Deceased)\n",
    "print(\"\\nExample 2: Filtering rows based on multiple conditions (House is Stark and Status is Deceased):\")\n",
    "stark_deceased_filter = (got_df['House'] == 'Stark') & (got_df['Status'] == 'Deceased')\n",
    "print(got_df[stark_deceased_filter])"
   ]
  },
  {
   "cell_type": "code",
   "execution_count": 13,
   "metadata": {},
   "outputs": [
    {
     "name": "stdout",
     "output_type": "stream",
     "text": [
      "\n",
      "Example 3: Filtering rows based on Name (Exact match, Name is 'Tyrion Lannister'):\n",
      "               Name      House     Allegiance    Status  Age\n",
      "2  Tyrion Lannister  Lannister  No Allegiance  Deceased   38\n"
     ]
    }
   ],
   "source": [
    "# Example 3: Filtering rows based on Name (Exact match)\n",
    "print(\"\\nExample 3: Filtering rows based on Name (Exact match, Name is 'Tyrion Lannister'):\")\n",
    "tyrion_filter = got_df['Name'] == 'Tyrion Lannister'\n",
    "print(got_df[tyrion_filter])"
   ]
  },
  {
   "cell_type": "code",
   "execution_count": 14,
   "metadata": {},
   "outputs": [
    {
     "name": "stdout",
     "output_type": "stream",
     "text": [
      "\n",
      "Example 4: Filtering rows based on Name (Partial match, Name contains 'Stark'):\n",
      "         Name  House   Allegiance Status  Age\n",
      "3  Arya Stark  Stark  House Stark  Alive   20\n"
     ]
    }
   ],
   "source": [
    "# Example 4: Filtering rows based on Name (Partial match using str.contains)\n",
    "print(\"\\nExample 4: Filtering rows based on Name (Partial match, Name contains 'Stark'):\")\n",
    "stark_name_filter = got_df['Name'].str.contains('Stark')\n",
    "print(got_df[stark_name_filter])"
   ]
  },
  {
   "cell_type": "code",
   "execution_count": 15,
   "metadata": {},
   "outputs": [
    {
     "name": "stdout",
     "output_type": "stream",
     "text": [
      "\n",
      "Example 5: Filtering rows based on multiple conditions (House is Stark or Age > 30):\n",
      "               Name      House     Allegiance    Status  Age\n",
      "0          Jon Snow      Stark  Night's Watch     Alive   30\n",
      "2  Tyrion Lannister  Lannister  No Allegiance  Deceased   38\n",
      "3        Arya Stark      Stark    House Stark     Alive   20\n",
      "4  Cersei Lannister  Lannister  No Allegiance  Deceased   42\n"
     ]
    }
   ],
   "source": [
    "# Example 5: Filtering rows based on multiple conditions (House is Stark or Age > 30)\n",
    "print(\"\\nExample 5: Filtering rows based on multiple conditions (House is Stark or Age > 30):\")\n",
    "stark_or_age_filter = (got_df['House'] == 'Stark') | (got_df['Age'] > 30)\n",
    "print(got_df[stark_or_age_filter])"
   ]
  },
  {
   "cell_type": "code",
   "execution_count": 18,
   "metadata": {},
   "outputs": [
    {
     "name": "stdout",
     "output_type": "stream",
     "text": [
      "\n",
      "Example 6: Filtering rows based on Allegiance (Exact match, Allegiance is 'House Targaryen'):\n",
      "                 Name      House       Allegiance    Status  Age\n",
      "1  Daenerys Targaryen  Targaryen  House Targaryen  Deceased   24\n"
     ]
    }
   ],
   "source": [
    "# Example 6: Filtering rows based on Allegiance (Exact match)\n",
    "print(\"\\nExample 6: Filtering rows based on Allegiance (Exact match, Allegiance is 'House Targaryen'):\")\n",
    "targaryen_filter = got_df['Allegiance'] == 'House Targaryen'\n",
    "print(got_df[targaryen_filter])"
   ]
  }
 ],
 "metadata": {
  "kernelspec": {
   "display_name": "Python 3",
   "language": "python",
   "name": "python3"
  },
  "language_info": {
   "codemirror_mode": {
    "name": "ipython",
    "version": 3
   },
   "file_extension": ".py",
   "mimetype": "text/x-python",
   "name": "python",
   "nbconvert_exporter": "python",
   "pygments_lexer": "ipython3",
   "version": "3.11.2"
  },
  "orig_nbformat": 4
 },
 "nbformat": 4,
 "nbformat_minor": 2
}
