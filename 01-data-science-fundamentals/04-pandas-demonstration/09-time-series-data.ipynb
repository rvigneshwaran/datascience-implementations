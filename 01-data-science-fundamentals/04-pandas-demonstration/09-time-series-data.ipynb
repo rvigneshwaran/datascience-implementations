{
 "cells": [
  {
   "cell_type": "code",
   "execution_count": 1,
   "metadata": {},
   "outputs": [],
   "source": [
    "import pandas as pd"
   ]
  },
  {
   "cell_type": "code",
   "execution_count": 2,
   "metadata": {},
   "outputs": [],
   "source": [
    "# Creating a time series DataFrame for Game of Thrones character appearances\n",
    "data = {\n",
    "    'Name': ['Jon Snow', 'Daenerys Targaryen', 'Tyrion Lannister', 'Arya Stark', 'Cersei Lannister'],\n",
    "    'House': ['Stark', 'Targaryen', 'Lannister', 'Stark', 'Lannister'],\n",
    "    'Status': ['Alive', 'Deceased', 'Alive', 'Alive', 'Deceased'],\n",
    "    'Appearance_Date': ['2022-01-01', '2022-01-02', '2022-01-03', '2022-01-04', '2022-01-05'],\n",
    "    'Total_Appearances': [10, 12, 15, 8, 6],\n",
    "    'Battles_Fought': [3, 5, 2, 1, 4]\n",
    "}\n",
    "got_df = pd.DataFrame(data)\n",
    "got_df['Appearance_Date'] = pd.to_datetime(got_df['Appearance_Date'])"
   ]
  },
  {
   "cell_type": "code",
   "execution_count": 3,
   "metadata": {},
   "outputs": [
    {
     "name": "stdout",
     "output_type": "stream",
     "text": [
      "Game of Thrones Characters DataFrame:\n",
      "                 Name      House    Status Appearance_Date  Total_Appearances  \\\n",
      "0            Jon Snow      Stark     Alive      2022-01-01                 10   \n",
      "1  Daenerys Targaryen  Targaryen  Deceased      2022-01-02                 12   \n",
      "2    Tyrion Lannister  Lannister     Alive      2022-01-03                 15   \n",
      "3          Arya Stark      Stark     Alive      2022-01-04                  8   \n",
      "4    Cersei Lannister  Lannister  Deceased      2022-01-05                  6   \n",
      "\n",
      "   Battles_Fought  \n",
      "0               3  \n",
      "1               5  \n",
      "2               2  \n",
      "3               1  \n",
      "4               4  \n"
     ]
    }
   ],
   "source": [
    "print(\"Game of Thrones Characters DataFrame:\")\n",
    "print(got_df)"
   ]
  },
  {
   "cell_type": "code",
   "execution_count": 4,
   "metadata": {},
   "outputs": [
    {
     "name": "stdout",
     "output_type": "stream",
     "text": [
      "\n",
      "Example 1: Creating a time series DataFrame from a list of dates:\n",
      "            Total_Appearances\n",
      "Date                         \n",
      "2022-01-01                 10\n",
      "2022-01-02                 12\n",
      "2022-01-03                 15\n",
      "2022-01-04                  8\n",
      "2022-01-05                  6\n"
     ]
    }
   ],
   "source": [
    "# Example 1: Creating a time series DataFrame from a list of dates\n",
    "print(\"\\nExample 1: Creating a time series DataFrame from a list of dates:\")\n",
    "dates = pd.date_range(start='2022-01-01', periods=5, freq='D')\n",
    "time_series_df1 = pd.DataFrame({'Date': dates, 'Total_Appearances': [10, 12, 15, 8, 6]})\n",
    "time_series_df1.set_index('Date', inplace=True)\n",
    "print(time_series_df1)"
   ]
  },
  {
   "cell_type": "code",
   "execution_count": 5,
   "metadata": {},
   "outputs": [
    {
     "name": "stdout",
     "output_type": "stream",
     "text": [
      "\n",
      "Example 2: Creating a time series DataFrame using pd.Series:\n",
      "            Total_Appearances\n",
      "2022-01-01                 10\n",
      "2022-01-02                 12\n",
      "2022-01-03                 15\n",
      "2022-01-04                  8\n",
      "2022-01-05                  6\n"
     ]
    }
   ],
   "source": [
    "# Example 2: Creating a time series DataFrame using pd.Series\n",
    "print(\"\\nExample 2: Creating a time series DataFrame using pd.Series:\")\n",
    "dates = pd.date_range(start='2022-01-01', periods=5, freq='D')\n",
    "total_appearances = pd.Series([10, 12, 15, 8, 6], index=dates)\n",
    "time_series_df2 = pd.DataFrame({'Total_Appearances': total_appearances})\n",
    "print(time_series_df2)\n"
   ]
  },
  {
   "cell_type": "code",
   "execution_count": 6,
   "metadata": {},
   "outputs": [
    {
     "name": "stdout",
     "output_type": "stream",
     "text": [
      "\n",
      "Example 3: Creating a time series DataFrame with datetime index and multiple columns:\n",
      "            Total_Appearances  Battles_Fought\n",
      "2022-01-01                 10               3\n",
      "2022-01-02                 12               5\n",
      "2022-01-03                 15               2\n",
      "2022-01-04                  8               1\n",
      "2022-01-05                  6               4\n"
     ]
    }
   ],
   "source": [
    "# Example 3: Creating a time series DataFrame with datetime index and multiple columns\n",
    "print(\"\\nExample 3: Creating a time series DataFrame with datetime index and multiple columns:\")\n",
    "dates = pd.date_range(start='2022-01-01', periods=5, freq='D')\n",
    "appearances = [10, 12, 15, 8, 6]\n",
    "battles = [3, 5, 2, 1, 4]\n",
    "time_series_df3 = pd.DataFrame({'Total_Appearances': appearances, 'Battles_Fought': battles}, index=dates)\n",
    "print(time_series_df3)"
   ]
  },
  {
   "cell_type": "code",
   "execution_count": 7,
   "metadata": {},
   "outputs": [
    {
     "name": "stdout",
     "output_type": "stream",
     "text": [
      "\n",
      "Example 4: Creating a time series DataFrame with daily frequency:\n",
      "DatetimeIndex(['2022-01-01', '2022-01-02', '2022-01-03', '2022-01-04',\n",
      "               '2022-01-05', '2022-01-06', '2022-01-07', '2022-01-08',\n",
      "               '2022-01-09', '2022-01-10'],\n",
      "              dtype='datetime64[ns]', freq='D')\n"
     ]
    }
   ],
   "source": [
    "# Example 4: Creating a time series DataFrame with daily frequency\n",
    "print(\"\\nExample 4: Creating a time series DataFrame with daily frequency:\")\n",
    "daily_df = pd.date_range(start='2022-01-01', end='2022-01-10', freq='D')\n",
    "print(daily_df)"
   ]
  },
  {
   "cell_type": "code",
   "execution_count": 8,
   "metadata": {},
   "outputs": [
    {
     "name": "stdout",
     "output_type": "stream",
     "text": [
      "\n",
      "Example 5: Creating a time series DataFrame with monthly frequency:\n",
      "DatetimeIndex(['2022-01-31', '2022-02-28', '2022-03-31', '2022-04-30',\n",
      "               '2022-05-31', '2022-06-30', '2022-07-31', '2022-08-31',\n",
      "               '2022-09-30', '2022-10-31', '2022-11-30'],\n",
      "              dtype='datetime64[ns]', freq='M')\n"
     ]
    }
   ],
   "source": [
    "# Example 5: Creating a time series DataFrame with monthly frequency\n",
    "print(\"\\nExample 5: Creating a time series DataFrame with monthly frequency:\")\n",
    "monthly_df = pd.date_range(start='2022-01-01', end='2022-12-01', freq='M')\n",
    "print(monthly_df)"
   ]
  },
  {
   "cell_type": "code",
   "execution_count": 9,
   "metadata": {},
   "outputs": [
    {
     "name": "stdout",
     "output_type": "stream",
     "text": [
      "\n",
      "Example 6: Creating a time series DataFrame with annual frequency:\n",
      "DatetimeIndex(['2022-12-31', '2023-12-31', '2024-12-31', '2025-12-31',\n",
      "               '2026-12-31', '2027-12-31', '2028-12-31', '2029-12-31'],\n",
      "              dtype='datetime64[ns]', freq='A-DEC')\n"
     ]
    }
   ],
   "source": [
    "# Example 6: Creating a time series DataFrame with annual frequency\n",
    "print(\"\\nExample 6: Creating a time series DataFrame with annual frequency:\")\n",
    "annual_df = pd.date_range(start='2022-01-01', end='2030-01-01', freq='Y')\n",
    "print(annual_df)\n"
   ]
  },
  {
   "cell_type": "code",
   "execution_count": 10,
   "metadata": {},
   "outputs": [
    {
     "name": "stdout",
     "output_type": "stream",
     "text": [
      "\n",
      "Example 7: Extracting date components from the datetime index:\n",
      "            Total_Appearances  Battles_Fought  Year  Month  Day  Weekday\n",
      "2022-01-01                 10               3  2022      1    1        5\n",
      "2022-01-02                 12               5  2022      1    2        6\n",
      "2022-01-03                 15               2  2022      1    3        0\n",
      "2022-01-04                  8               1  2022      1    4        1\n",
      "2022-01-05                  6               4  2022      1    5        2\n"
     ]
    }
   ],
   "source": [
    "# Example 7: Extracting date components from the datetime index\n",
    "print(\"\\nExample 7: Extracting date components from the datetime index:\")\n",
    "time_series_df3['Year'] = time_series_df3.index.year\n",
    "time_series_df3['Month'] = time_series_df3.index.month\n",
    "time_series_df3['Day'] = time_series_df3.index.day\n",
    "time_series_df3['Weekday'] = time_series_df3.index.weekday\n",
    "print(time_series_df3)"
   ]
  },
  {
   "cell_type": "code",
   "execution_count": 11,
   "metadata": {},
   "outputs": [
    {
     "name": "stdout",
     "output_type": "stream",
     "text": [
      "\n",
      "Example 8: Filtering data based on a specific date range:\n",
      "                 Name      House    Status Appearance_Date  Total_Appearances  \\\n",
      "1  Daenerys Targaryen  Targaryen  Deceased      2022-01-02                 12   \n",
      "2    Tyrion Lannister  Lannister     Alive      2022-01-03                 15   \n",
      "3          Arya Stark      Stark     Alive      2022-01-04                  8   \n",
      "\n",
      "   Battles_Fought  \n",
      "1               5  \n",
      "2               2  \n",
      "3               1  \n"
     ]
    }
   ],
   "source": [
    "# Example 8: Filtering data based on a specific date range\n",
    "print(\"\\nExample 8: Filtering data based on a specific date range:\")\n",
    "start_date = '2022-01-02'\n",
    "end_date = '2022-01-04'\n",
    "filtered_df = got_df[(got_df['Appearance_Date'] >= start_date) & (got_df['Appearance_Date'] <= end_date)]\n",
    "print(filtered_df)"
   ]
  },
  {
   "cell_type": "code",
   "execution_count": 12,
   "metadata": {},
   "outputs": [
    {
     "name": "stdout",
     "output_type": "stream",
     "text": [
      "\n",
      "Example 9: Resampling the time series DataFrame to a different frequency (e.g., weekly):\n",
      "            Total_Appearances  Battles_Fought  Year  Month  Day  Weekday\n",
      "2022-01-02                 22               8  4044      2    3       11\n",
      "2022-01-09                 29               7  6066      3   12        3\n"
     ]
    }
   ],
   "source": [
    "# Example 9: Resampling the time series DataFrame to a different frequency (e.g., weekly)\n",
    "print(\"\\nExample 9: Resampling the time series DataFrame to a different frequency (e.g., weekly):\")\n",
    "weekly_df = time_series_df3.resample('W').sum()\n",
    "print(weekly_df)\n"
   ]
  },
  {
   "cell_type": "code",
   "execution_count": 13,
   "metadata": {},
   "outputs": [
    {
     "name": "stdout",
     "output_type": "stream",
     "text": [
      "\n",
      "Example 10: Resampling the time series DataFrame and using different aggregation functions:\n",
      "            Total_Appearances  Battles_Fought\n",
      "2022-01-31                 51             3.0\n"
     ]
    }
   ],
   "source": [
    "# Example 10: Resampling the time series DataFrame and using different aggregation functions\n",
    "print(\"\\nExample 10: Resampling the time series DataFrame and using different aggregation functions:\")\n",
    "resampled_df = time_series_df3.resample('M').agg({'Total_Appearances': 'sum', 'Battles_Fought': 'mean'})\n",
    "print(resampled_df)"
   ]
  },
  {
   "cell_type": "code",
   "execution_count": 14,
   "metadata": {},
   "outputs": [
    {
     "name": "stdout",
     "output_type": "stream",
     "text": [
      "\n",
      "Example 11: Forward filling missing values in the time series DataFrame:\n",
      "            Total_Appearances  Battles_Fought  Year  Month  Day  Weekday\n",
      "2022-01-01                 10               3  2022      1    1        5\n",
      "2022-01-02                 12               5  2022      1    2        6\n",
      "2022-01-03                 15               2  2022      1    3        0\n",
      "2022-01-04                  8               1  2022      1    4        1\n",
      "2022-01-05                  6               4  2022      1    5        2\n"
     ]
    }
   ],
   "source": [
    "# Example 11: Forward filling missing values in the time series DataFrame\n",
    "print(\"\\nExample 11: Forward filling missing values in the time series DataFrame:\")\n",
    "forward_filled_df = time_series_df3.resample('D').ffill()\n",
    "print(forward_filled_df)"
   ]
  },
  {
   "cell_type": "code",
   "execution_count": 15,
   "metadata": {},
   "outputs": [
    {
     "name": "stdout",
     "output_type": "stream",
     "text": [
      "\n",
      "Example 12: Backward filling missing values in the time series DataFrame:\n",
      "            Total_Appearances  Battles_Fought  Year  Month  Day  Weekday\n",
      "2022-01-01                 10               3  2022      1    1        5\n",
      "2022-01-02                 12               5  2022      1    2        6\n",
      "2022-01-03                 15               2  2022      1    3        0\n",
      "2022-01-04                  8               1  2022      1    4        1\n",
      "2022-01-05                  6               4  2022      1    5        2\n"
     ]
    }
   ],
   "source": [
    "# Example 12: Backward filling missing values in the time series DataFrame\n",
    "print(\"\\nExample 12: Backward filling missing values in the time series DataFrame:\")\n",
    "backward_filled_df = time_series_df3.resample('D').bfill()\n",
    "print(backward_filled_df)"
   ]
  },
  {
   "cell_type": "code",
   "execution_count": 16,
   "metadata": {},
   "outputs": [
    {
     "name": "stdout",
     "output_type": "stream",
     "text": [
      "\n",
      "Example 13: Interpolating missing values in the time series DataFrame:\n",
      "            Total_Appearances  Battles_Fought  Year  Month  Day  Weekday\n",
      "2022-01-01                 10               3  2022      1    1        5\n",
      "2022-01-02                 12               5  2022      1    2        6\n",
      "2022-01-03                 15               2  2022      1    3        0\n",
      "2022-01-04                  8               1  2022      1    4        1\n",
      "2022-01-05                  6               4  2022      1    5        2\n"
     ]
    }
   ],
   "source": [
    "# Example 13: Interpolating missing values in the time series DataFrame\n",
    "print(\"\\nExample 13: Interpolating missing values in the time series DataFrame:\")\n",
    "interpolated_df = time_series_df3.resample('D').interpolate()\n",
    "print(interpolated_df)"
   ]
  },
  {
   "cell_type": "code",
   "execution_count": 17,
   "metadata": {},
   "outputs": [
    {
     "name": "stdout",
     "output_type": "stream",
     "text": [
      "\n",
      "Example 14: Shifting data in the time series DataFrame:\n",
      "            Total_Appearances  Battles_Fought  Year  Month  Day  Weekday  \\\n",
      "2022-01-01                 10               3  2022      1    1        5   \n",
      "2022-01-02                 12               5  2022      1    2        6   \n",
      "2022-01-03                 15               2  2022      1    3        0   \n",
      "2022-01-04                  8               1  2022      1    4        1   \n",
      "2022-01-05                  6               4  2022      1    5        2   \n",
      "\n",
      "            Total_Appearances_Shifted  \n",
      "2022-01-01                        NaN  \n",
      "2022-01-02                       10.0  \n",
      "2022-01-03                       12.0  \n",
      "2022-01-04                       15.0  \n",
      "2022-01-05                        8.0  \n"
     ]
    }
   ],
   "source": [
    "# Example 14: Shifting data in the time series DataFrame\n",
    "print(\"\\nExample 14: Shifting data in the time series DataFrame:\")\n",
    "time_series_df3['Total_Appearances_Shifted'] = time_series_df3['Total_Appearances'].shift(periods=1)\n",
    "print(time_series_df3)"
   ]
  },
  {
   "cell_type": "code",
   "execution_count": 18,
   "metadata": {},
   "outputs": [
    {
     "name": "stdout",
     "output_type": "stream",
     "text": [
      "\n",
      "Example 15: Calculating the percentage change in values for a time series:\n",
      "            Total_Appearances  Battles_Fought  Year  Month  Day  Weekday  \\\n",
      "2022-01-01                 10               3  2022      1    1        5   \n",
      "2022-01-02                 12               5  2022      1    2        6   \n",
      "2022-01-03                 15               2  2022      1    3        0   \n",
      "2022-01-04                  8               1  2022      1    4        1   \n",
      "2022-01-05                  6               4  2022      1    5        2   \n",
      "\n",
      "            Total_Appearances_Shifted  Total_Appearances_Pct_Change  \n",
      "2022-01-01                        NaN                           NaN  \n",
      "2022-01-02                       10.0                     20.000000  \n",
      "2022-01-03                       12.0                     25.000000  \n",
      "2022-01-04                       15.0                    -46.666667  \n",
      "2022-01-05                        8.0                    -25.000000  \n"
     ]
    }
   ],
   "source": [
    "# Example 15: Calculating the percentage change in values for a time series\n",
    "print(\"\\nExample 15: Calculating the percentage change in values for a time series:\")\n",
    "time_series_df3['Total_Appearances_Pct_Change'] = time_series_df3['Total_Appearances'].pct_change() * 100\n",
    "print(time_series_df3)"
   ]
  },
  {
   "cell_type": "code",
   "execution_count": 19,
   "metadata": {},
   "outputs": [
    {
     "name": "stdout",
     "output_type": "stream",
     "text": [
      "\n",
      "Example 16: Rolling window calculations for the time series DataFrame:\n",
      "            Total_Appearances  Battles_Fought  Year  Month  Day  Weekday  \\\n",
      "2022-01-01                 10               3  2022      1    1        5   \n",
      "2022-01-02                 12               5  2022      1    2        6   \n",
      "2022-01-03                 15               2  2022      1    3        0   \n",
      "2022-01-04                  8               1  2022      1    4        1   \n",
      "2022-01-05                  6               4  2022      1    5        2   \n",
      "\n",
      "            Total_Appearances_Shifted  Total_Appearances_Pct_Change  \\\n",
      "2022-01-01                        NaN                           NaN   \n",
      "2022-01-02                       10.0                     20.000000   \n",
      "2022-01-03                       12.0                     25.000000   \n",
      "2022-01-04                       15.0                    -46.666667   \n",
      "2022-01-05                        8.0                    -25.000000   \n",
      "\n",
      "            Total_Appearances_Rolling_Sum  \n",
      "2022-01-01                            NaN  \n",
      "2022-01-02                            NaN  \n",
      "2022-01-03                           37.0  \n",
      "2022-01-04                           35.0  \n",
      "2022-01-05                           29.0  \n"
     ]
    }
   ],
   "source": [
    "# Example 16: Rolling window calculations for the time series DataFrame\n",
    "print(\"\\nExample 16: Rolling window calculations for the time series DataFrame:\")\n",
    "time_series_df3['Total_Appearances_Rolling_Sum'] = time_series_df3['Total_Appearances'].rolling(window=3).sum()\n",
    "print(time_series_df3)"
   ]
  },
  {
   "cell_type": "code",
   "execution_count": 20,
   "metadata": {},
   "outputs": [
    {
     "name": "stdout",
     "output_type": "stream",
     "text": [
      "\n",
      "Example 17: Expanding window calculations for the time series DataFrame:\n",
      "            Total_Appearances  Battles_Fought  Year  Month  Day  Weekday  \\\n",
      "2022-01-01                 10               3  2022      1    1        5   \n",
      "2022-01-02                 12               5  2022      1    2        6   \n",
      "2022-01-03                 15               2  2022      1    3        0   \n",
      "2022-01-04                  8               1  2022      1    4        1   \n",
      "2022-01-05                  6               4  2022      1    5        2   \n",
      "\n",
      "            Total_Appearances_Shifted  Total_Appearances_Pct_Change  \\\n",
      "2022-01-01                        NaN                           NaN   \n",
      "2022-01-02                       10.0                     20.000000   \n",
      "2022-01-03                       12.0                     25.000000   \n",
      "2022-01-04                       15.0                    -46.666667   \n",
      "2022-01-05                        8.0                    -25.000000   \n",
      "\n",
      "            Total_Appearances_Rolling_Sum  Total_Appearances_Expanding_Sum  \n",
      "2022-01-01                            NaN                             10.0  \n",
      "2022-01-02                            NaN                             22.0  \n",
      "2022-01-03                           37.0                             37.0  \n",
      "2022-01-04                           35.0                             45.0  \n",
      "2022-01-05                           29.0                             51.0  \n"
     ]
    }
   ],
   "source": [
    "# Example 17: Expanding window calculations for the time series DataFrame\n",
    "print(\"\\nExample 17: Expanding window calculations for the time series DataFrame:\")\n",
    "time_series_df3['Total_Appearances_Expanding_Sum'] = time_series_df3['Total_Appearances'].expanding().sum()\n",
    "print(time_series_df3)"
   ]
  },
  {
   "cell_type": "code",
   "execution_count": 21,
   "metadata": {},
   "outputs": [
    {
     "name": "stdout",
     "output_type": "stream",
     "text": [
      "\n",
      "Example 18: Reindexing the time series DataFrame with a new date range:\n",
      "            Total_Appearances  Battles_Fought    Year  Month  Day  Weekday  \\\n",
      "2022-01-01               10.0             3.0  2022.0    1.0  1.0      5.0   \n",
      "2022-01-02               12.0             5.0  2022.0    1.0  2.0      6.0   \n",
      "2022-01-03               15.0             2.0  2022.0    1.0  3.0      0.0   \n",
      "2022-01-04                8.0             1.0  2022.0    1.0  4.0      1.0   \n",
      "2022-01-05                6.0             4.0  2022.0    1.0  5.0      2.0   \n",
      "2022-01-06                NaN             NaN     NaN    NaN  NaN      NaN   \n",
      "2022-01-07                NaN             NaN     NaN    NaN  NaN      NaN   \n",
      "\n",
      "            Total_Appearances_Shifted  Total_Appearances_Pct_Change  \\\n",
      "2022-01-01                        NaN                           NaN   \n",
      "2022-01-02                       10.0                     20.000000   \n",
      "2022-01-03                       12.0                     25.000000   \n",
      "2022-01-04                       15.0                    -46.666667   \n",
      "2022-01-05                        8.0                    -25.000000   \n",
      "2022-01-06                        NaN                           NaN   \n",
      "2022-01-07                        NaN                           NaN   \n",
      "\n",
      "            Total_Appearances_Rolling_Sum  Total_Appearances_Expanding_Sum  \n",
      "2022-01-01                            NaN                             10.0  \n",
      "2022-01-02                            NaN                             22.0  \n",
      "2022-01-03                           37.0                             37.0  \n",
      "2022-01-04                           35.0                             45.0  \n",
      "2022-01-05                           29.0                             51.0  \n",
      "2022-01-06                            NaN                              NaN  \n",
      "2022-01-07                            NaN                              NaN  \n"
     ]
    }
   ],
   "source": [
    "# Example 18: Reindexing the time series DataFrame with a new date range\n",
    "print(\"\\nExample 18: Reindexing the time series DataFrame with a new date range:\")\n",
    "new_dates = pd.date_range(start='2022-01-01', periods=7, freq='D')\n",
    "reindexed_df = time_series_df3.reindex(new_dates)\n",
    "print(reindexed_df)"
   ]
  },
  {
   "cell_type": "code",
   "execution_count": 22,
   "metadata": {},
   "outputs": [
    {
     "name": "stdout",
     "output_type": "stream",
     "text": [
      "\n",
      "Example 19: Filling missing values after reindexing the time series DataFrame:\n",
      "            Total_Appearances  Battles_Fought  Year  Month  Day  Weekday  \\\n",
      "2022-01-01                 10               3  2022      1    1        5   \n",
      "2022-01-02                 12               5  2022      1    2        6   \n",
      "2022-01-03                 15               2  2022      1    3        0   \n",
      "2022-01-04                  8               1  2022      1    4        1   \n",
      "2022-01-05                  6               4  2022      1    5        2   \n",
      "2022-01-06                  6               4  2022      1    5        2   \n",
      "2022-01-07                  6               4  2022      1    5        2   \n",
      "\n",
      "            Total_Appearances_Shifted  Total_Appearances_Pct_Change  \\\n",
      "2022-01-01                        NaN                           NaN   \n",
      "2022-01-02                       10.0                     20.000000   \n",
      "2022-01-03                       12.0                     25.000000   \n",
      "2022-01-04                       15.0                    -46.666667   \n",
      "2022-01-05                        8.0                    -25.000000   \n",
      "2022-01-06                        8.0                    -25.000000   \n",
      "2022-01-07                        8.0                    -25.000000   \n",
      "\n",
      "            Total_Appearances_Rolling_Sum  Total_Appearances_Expanding_Sum  \n",
      "2022-01-01                            NaN                             10.0  \n",
      "2022-01-02                            NaN                             22.0  \n",
      "2022-01-03                           37.0                             37.0  \n",
      "2022-01-04                           35.0                             45.0  \n",
      "2022-01-05                           29.0                             51.0  \n",
      "2022-01-06                           29.0                             51.0  \n",
      "2022-01-07                           29.0                             51.0  \n"
     ]
    }
   ],
   "source": [
    "# Example 19: Filling missing values after reindexing the time series DataFrame\n",
    "print(\"\\nExample 19: Filling missing values after reindexing the time series DataFrame:\")\n",
    "reindexed_filled_df = time_series_df3.reindex(new_dates, method='ffill')\n",
    "print(reindexed_filled_df)"
   ]
  },
  {
   "cell_type": "code",
   "execution_count": 23,
   "metadata": {},
   "outputs": [
    {
     "name": "stdout",
     "output_type": "stream",
     "text": [
      "\n",
      "Example 20: Creating a time series DataFrame with a time zone:\n",
      "                           Total_Appearances\n",
      "Date                                        \n",
      "2022-01-01 00:00:00+05:30                 10\n",
      "2022-01-02 00:00:00+05:30                 12\n",
      "2022-01-03 00:00:00+05:30                 15\n",
      "2022-01-04 00:00:00+05:30                  8\n",
      "2022-01-05 00:00:00+05:30                  6\n"
     ]
    }
   ],
   "source": [
    "# Example 20: Creating a time series DataFrame with a time zone\n",
    "print(\"\\nExample 20: Creating a time series DataFrame with a time zone:\")\n",
    "dates = pd.date_range(start='2022-01-01', periods=5, freq='D', tz='Asia/Kolkata')\n",
    "time_zone_df = pd.DataFrame({'Date': dates, 'Total_Appearances': [10, 12, 15, 8, 6]})\n",
    "time_zone_df.set_index('Date', inplace=True)\n",
    "print(time_zone_df)"
   ]
  },
  {
   "cell_type": "code",
   "execution_count": 24,
   "metadata": {},
   "outputs": [
    {
     "name": "stdout",
     "output_type": "stream",
     "text": [
      "\n",
      "Example 21: Converting the time zone of the time series DataFrame:\n",
      "                           Total_Appearances\n",
      "Date                                        \n",
      "2021-12-31 18:30:00+00:00                 10\n",
      "2022-01-01 18:30:00+00:00                 12\n",
      "2022-01-02 18:30:00+00:00                 15\n",
      "2022-01-03 18:30:00+00:00                  8\n",
      "2022-01-04 18:30:00+00:00                  6\n"
     ]
    }
   ],
   "source": [
    "# Example 21: Converting the time zone of the time series DataFrame\n",
    "print(\"\\nExample 21: Converting the time zone of the time series DataFrame:\")\n",
    "time_zone_df_utc = time_zone_df.tz_convert('UTC')\n",
    "print(time_zone_df_utc)"
   ]
  },
  {
   "cell_type": "code",
   "execution_count": 25,
   "metadata": {},
   "outputs": [
    {
     "name": "stdout",
     "output_type": "stream",
     "text": [
      "\n",
      "Example 22: Creating a date range with a time zone:\n",
      "DatetimeIndex(['2022-01-01 00:00:00+05:30', '2022-01-02 00:00:00+05:30',\n",
      "               '2022-01-03 00:00:00+05:30', '2022-01-04 00:00:00+05:30',\n",
      "               '2022-01-05 00:00:00+05:30'],\n",
      "              dtype='datetime64[ns, Asia/Kolkata]', freq='D')\n"
     ]
    }
   ],
   "source": [
    "# Example 22: Creating a date range with a time zone\n",
    "print(\"\\nExample 22: Creating a date range with a time zone:\")\n",
    "date_range_tz = pd.date_range(start='2022-01-01', periods=5, freq='D', tz='Asia/Kolkata')\n",
    "print(date_range_tz)"
   ]
  },
  {
   "cell_type": "code",
   "execution_count": 26,
   "metadata": {},
   "outputs": [
    {
     "name": "stdout",
     "output_type": "stream",
     "text": [
      "\n",
      "Example 23: Calculating time differences in the time series DataFrame:\n",
      "            Total_Appearances  Battles_Fought  Year  Month  Day  Weekday  \\\n",
      "2022-01-01                 10               3  2022      1    1        5   \n",
      "2022-01-02                 12               5  2022      1    2        6   \n",
      "2022-01-03                 15               2  2022      1    3        0   \n",
      "2022-01-04                  8               1  2022      1    4        1   \n",
      "2022-01-05                  6               4  2022      1    5        2   \n",
      "\n",
      "            Total_Appearances_Shifted  Total_Appearances_Pct_Change  \\\n",
      "2022-01-01                        NaN                           NaN   \n",
      "2022-01-02                       10.0                     20.000000   \n",
      "2022-01-03                       12.0                     25.000000   \n",
      "2022-01-04                       15.0                    -46.666667   \n",
      "2022-01-05                        8.0                    -25.000000   \n",
      "\n",
      "            Total_Appearances_Rolling_Sum  Total_Appearances_Expanding_Sum  \\\n",
      "2022-01-01                            NaN                             10.0   \n",
      "2022-01-02                            NaN                             22.0   \n",
      "2022-01-03                           37.0                             37.0   \n",
      "2022-01-04                           35.0                             45.0   \n",
      "2022-01-05                           29.0                             51.0   \n",
      "\n",
      "           Time_Difference  \n",
      "2022-01-01             NaT  \n",
      "2022-01-02          1 days  \n",
      "2022-01-03          1 days  \n",
      "2022-01-04          1 days  \n",
      "2022-01-05          1 days  \n"
     ]
    }
   ],
   "source": [
    "# Example 23: Calculating time differences in the time series DataFrame\n",
    "print(\"\\nExample 23: Calculating time differences in the time series DataFrame:\")\n",
    "time_series_df3['Time_Difference'] = time_series_df3.index.to_series().diff()\n",
    "print(time_series_df3)"
   ]
  },
  {
   "cell_type": "code",
   "execution_count": 27,
   "metadata": {},
   "outputs": [
    {
     "name": "stdout",
     "output_type": "stream",
     "text": [
      "\n",
      "Example 24: Selecting data for a specific time of day in the time series DataFrame:\n",
      "Empty DataFrame\n",
      "Columns: [Total_Appearances, Battles_Fought, Year, Month, Day, Weekday, Total_Appearances_Shifted, Total_Appearances_Pct_Change, Total_Appearances_Rolling_Sum, Total_Appearances_Expanding_Sum, Time_Difference, Time]\n",
      "Index: []\n"
     ]
    }
   ],
   "source": [
    "# Example 24: Selecting data for a specific time of day in the time series DataFrame\n",
    "print(\"\\nExample 24: Selecting data for a specific time of day in the time series DataFrame:\")\n",
    "time_series_df3['Time'] = time_series_df3.index.time\n",
    "time_series_df3_at_noon = time_series_df3[time_series_df3['Time'] == pd.to_datetime('12:00:00').time()]\n",
    "print(time_series_df3_at_noon)"
   ]
  },
  {
   "cell_type": "code",
   "execution_count": 28,
   "metadata": {},
   "outputs": [
    {
     "name": "stdout",
     "output_type": "stream",
     "text": [
      "\n",
      "Example 25: Selecting data for a specific day of the week in the time series DataFrame:\n",
      "            Total_Appearances  Battles_Fought  Year  Month  Day  Weekday  \\\n",
      "2022-01-03                 15               2  2022      1    3        0   \n",
      "\n",
      "            Total_Appearances_Shifted  Total_Appearances_Pct_Change  \\\n",
      "2022-01-03                       12.0                          25.0   \n",
      "\n",
      "            Total_Appearances_Rolling_Sum  Total_Appearances_Expanding_Sum  \\\n",
      "2022-01-03                           37.0                             37.0   \n",
      "\n",
      "           Time_Difference      Time  Day_of_Week  \n",
      "2022-01-03          1 days  00:00:00            0  \n"
     ]
    }
   ],
   "source": [
    "# Example 25: Selecting data for a specific day of the week in the time series DataFrame\n",
    "print(\"\\nExample 25: Selecting data for a specific day of the week in the time series DataFrame:\")\n",
    "time_series_df3['Day_of_Week'] = time_series_df3.index.dayofweek\n",
    "time_series_df3_monday = time_series_df3[time_series_df3['Day_of_Week'] == 0]\n",
    "print(time_series_df3_monday)"
   ]
  }
 ],
 "metadata": {
  "kernelspec": {
   "display_name": "Python 3",
   "language": "python",
   "name": "python3"
  },
  "language_info": {
   "codemirror_mode": {
    "name": "ipython",
    "version": 3
   },
   "file_extension": ".py",
   "mimetype": "text/x-python",
   "name": "python",
   "nbconvert_exporter": "python",
   "pygments_lexer": "ipython3",
   "version": "3.11.2"
  },
  "orig_nbformat": 4
 },
 "nbformat": 4,
 "nbformat_minor": 2
}
