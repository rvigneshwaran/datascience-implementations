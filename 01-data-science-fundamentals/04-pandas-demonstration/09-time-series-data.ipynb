{
 "cells": [
  {
   "cell_type": "code",
   "execution_count": 1,
   "metadata": {},
   "outputs": [],
   "source": [
    "import pandas as pd"
   ]
  },
  {
   "cell_type": "code",
   "execution_count": 2,
   "metadata": {},
   "outputs": [],
   "source": [
    "# Creating a time series DataFrame for Game of Thrones character appearances\n",
    "data = {\n",
    "    'Name': ['Jon Snow', 'Daenerys Targaryen', 'Tyrion Lannister', 'Arya Stark', 'Cersei Lannister'],\n",
    "    'House': ['Stark', 'Targaryen', 'Lannister', 'Stark', 'Lannister'],\n",
    "    'Status': ['Alive', 'Deceased', 'Alive', 'Alive', 'Deceased'],\n",
    "    'Appearance_Date': ['2022-01-01', '2022-01-02', '2022-01-03', '2022-01-04', '2022-01-05'],\n",
    "    'Total_Appearances': [10, 12, 15, 8, 6],\n",
    "    'Battles_Fought': [3, 5, 2, 1, 4]\n",
    "}\n",
    "got_df = pd.DataFrame(data)\n",
    "got_df['Appearance_Date'] = pd.to_datetime(got_df['Appearance_Date'])"
   ]
  },
  {
   "cell_type": "code",
   "execution_count": 3,
   "metadata": {},
   "outputs": [
    {
     "name": "stdout",
     "output_type": "stream",
     "text": [
      "Game of Thrones Characters DataFrame:\n",
      "                 Name      House    Status Appearance_Date  Total_Appearances  \\\n",
      "0            Jon Snow      Stark     Alive      2022-01-01                 10   \n",
      "1  Daenerys Targaryen  Targaryen  Deceased      2022-01-02                 12   \n",
      "2    Tyrion Lannister  Lannister     Alive      2022-01-03                 15   \n",
      "3          Arya Stark      Stark     Alive      2022-01-04                  8   \n",
      "4    Cersei Lannister  Lannister  Deceased      2022-01-05                  6   \n",
      "\n",
      "   Battles_Fought  \n",
      "0               3  \n",
      "1               5  \n",
      "2               2  \n",
      "3               1  \n",
      "4               4  \n"
     ]
    }
   ],
   "source": [
    "print(\"Game of Thrones Characters DataFrame:\")\n",
    "print(got_df)"
   ]
  },
  {
   "cell_type": "code",
   "execution_count": 4,
   "metadata": {},
   "outputs": [
    {
     "name": "stdout",
     "output_type": "stream",
     "text": [
      "\n",
      "Example 1: Creating a time series DataFrame from a list of dates:\n",
      "            Total_Appearances\n",
      "Date                         \n",
      "2022-01-01                 10\n",
      "2022-01-02                 12\n",
      "2022-01-03                 15\n",
      "2022-01-04                  8\n",
      "2022-01-05                  6\n"
     ]
    }
   ],
   "source": [
    "# Example 1: Creating a time series DataFrame from a list of dates\n",
    "print(\"\\nExample 1: Creating a time series DataFrame from a list of dates:\")\n",
    "dates = pd.date_range(start='2022-01-01', periods=5, freq='D')\n",
    "time_series_df1 = pd.DataFrame({'Date': dates, 'Total_Appearances': [10, 12, 15, 8, 6]})\n",
    "time_series_df1.set_index('Date', inplace=True)\n",
    "print(time_series_df1)"
   ]
  },
  {
   "cell_type": "code",
   "execution_count": 5,
   "metadata": {},
   "outputs": [
    {
     "name": "stdout",
     "output_type": "stream",
     "text": [
      "\n",
      "Example 2: Creating a time series DataFrame using pd.Series:\n",
      "            Total_Appearances\n",
      "2022-01-01                 10\n",
      "2022-01-02                 12\n",
      "2022-01-03                 15\n",
      "2022-01-04                  8\n",
      "2022-01-05                  6\n"
     ]
    }
   ],
   "source": [
    "# Example 2: Creating a time series DataFrame using pd.Series\n",
    "print(\"\\nExample 2: Creating a time series DataFrame using pd.Series:\")\n",
    "dates = pd.date_range(start='2022-01-01', periods=5, freq='D')\n",
    "total_appearances = pd.Series([10, 12, 15, 8, 6], index=dates)\n",
    "time_series_df2 = pd.DataFrame({'Total_Appearances': total_appearances})\n",
    "print(time_series_df2)\n"
   ]
  },
  {
   "cell_type": "code",
   "execution_count": 6,
   "metadata": {},
   "outputs": [
    {
     "name": "stdout",
     "output_type": "stream",
     "text": [
      "\n",
      "Example 3: Creating a time series DataFrame with datetime index and multiple columns:\n",
      "            Total_Appearances  Battles_Fought\n",
      "2022-01-01                 10               3\n",
      "2022-01-02                 12               5\n",
      "2022-01-03                 15               2\n",
      "2022-01-04                  8               1\n",
      "2022-01-05                  6               4\n"
     ]
    }
   ],
   "source": [
    "# Example 3: Creating a time series DataFrame with datetime index and multiple columns\n",
    "print(\"\\nExample 3: Creating a time series DataFrame with datetime index and multiple columns:\")\n",
    "dates = pd.date_range(start='2022-01-01', periods=5, freq='D')\n",
    "appearances = [10, 12, 15, 8, 6]\n",
    "battles = [3, 5, 2, 1, 4]\n",
    "time_series_df3 = pd.DataFrame({'Total_Appearances': appearances, 'Battles_Fought': battles}, index=dates)\n",
    "print(time_series_df3)"
   ]
  },
  {
   "cell_type": "code",
   "execution_count": 7,
   "metadata": {},
   "outputs": [
    {
     "name": "stdout",
     "output_type": "stream",
     "text": [
      "\n",
      "Example 4: Creating a time series DataFrame with daily frequency:\n",
      "DatetimeIndex(['2022-01-01', '2022-01-02', '2022-01-03', '2022-01-04',\n",
      "               '2022-01-05', '2022-01-06', '2022-01-07', '2022-01-08',\n",
      "               '2022-01-09', '2022-01-10'],\n",
      "              dtype='datetime64[ns]', freq='D')\n"
     ]
    }
   ],
   "source": [
    "# Example 4: Creating a time series DataFrame with daily frequency\n",
    "print(\"\\nExample 4: Creating a time series DataFrame with daily frequency:\")\n",
    "daily_df = pd.date_range(start='2022-01-01', end='2022-01-10', freq='D')\n",
    "print(daily_df)"
   ]
  },
  {
   "cell_type": "code",
   "execution_count": 8,
   "metadata": {},
   "outputs": [
    {
     "name": "stdout",
     "output_type": "stream",
     "text": [
      "\n",
      "Example 5: Creating a time series DataFrame with monthly frequency:\n",
      "DatetimeIndex(['2022-01-31', '2022-02-28', '2022-03-31', '2022-04-30',\n",
      "               '2022-05-31', '2022-06-30', '2022-07-31', '2022-08-31',\n",
      "               '2022-09-30', '2022-10-31', '2022-11-30'],\n",
      "              dtype='datetime64[ns]', freq='M')\n"
     ]
    }
   ],
   "source": [
    "# Example 5: Creating a time series DataFrame with monthly frequency\n",
    "print(\"\\nExample 5: Creating a time series DataFrame with monthly frequency:\")\n",
    "monthly_df = pd.date_range(start='2022-01-01', end='2022-12-01', freq='M')\n",
    "print(monthly_df)"
   ]
  }
 ],
 "metadata": {
  "kernelspec": {
   "display_name": "Python 3",
   "language": "python",
   "name": "python3"
  },
  "language_info": {
   "codemirror_mode": {
    "name": "ipython",
    "version": 3
   },
   "file_extension": ".py",
   "mimetype": "text/x-python",
   "name": "python",
   "nbconvert_exporter": "python",
   "pygments_lexer": "ipython3",
   "version": "3.11.2"
  },
  "orig_nbformat": 4
 },
 "nbformat": 4,
 "nbformat_minor": 2
}
