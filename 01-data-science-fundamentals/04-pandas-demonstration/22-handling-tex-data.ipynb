{
 "cells": [
  {
   "cell_type": "code",
   "execution_count": 1,
   "metadata": {},
   "outputs": [],
   "source": [
    "import pandas as pd"
   ]
  },
  {
   "cell_type": "code",
   "execution_count": 2,
   "metadata": {},
   "outputs": [],
   "source": [
    "# Sample DataFrame\n",
    "data = {'Text': ['Eleven','Dustin Henderson', 'Lucas Sinclair', 'Nancy Wheeler','Jonathan Byers']}\n",
    "df = pd.DataFrame(data)"
   ]
  },
  {
   "cell_type": "code",
   "execution_count": 3,
   "metadata": {},
   "outputs": [
    {
     "name": "stdout",
     "output_type": "stream",
     "text": [
      "Example 1:\n",
      "DataFrame with text length column:\n",
      "               Text  Text_Length\n",
      "0            Eleven            6\n",
      "1  Dustin Henderson           16\n",
      "2    Lucas Sinclair           14\n",
      "3     Nancy Wheeler           13\n",
      "4    Jonathan Byers           14\n"
     ]
    }
   ],
   "source": [
    "# Example 1: Extracting the length of each text in 'Text' column\n",
    "df['Text_Length'] = df['Text'].str.len()\n",
    "print(\"Example 1:\")\n",
    "print(\"DataFrame with text length column:\")\n",
    "print(df)"
   ]
  },
  {
   "cell_type": "code",
   "execution_count": 4,
   "metadata": {},
   "outputs": [
    {
     "name": "stdout",
     "output_type": "stream",
     "text": [
      "\n",
      "Example 2:\n",
      "DataFrame with text converted to lowercase:\n",
      "               Text  Text_Length        Text_Lower\n",
      "0            Eleven            6            eleven\n",
      "1  Dustin Henderson           16  dustin henderson\n",
      "2    Lucas Sinclair           14    lucas sinclair\n",
      "3     Nancy Wheeler           13     nancy wheeler\n",
      "4    Jonathan Byers           14    jonathan byers\n"
     ]
    }
   ],
   "source": [
    "# Example 2: Converting text to lowercase in 'Text' column\n",
    "df['Text_Lower'] = df['Text'].str.lower()\n",
    "print(\"\\nExample 2:\")\n",
    "print(\"DataFrame with text converted to lowercase:\")\n",
    "print(df)\n"
   ]
  },
  {
   "cell_type": "code",
   "execution_count": 5,
   "metadata": {},
   "outputs": [
    {
     "name": "stdout",
     "output_type": "stream",
     "text": [
      "\n",
      "Example 3:\n",
      "DataFrame with text converted to uppercase:\n",
      "               Text  Text_Length        Text_Lower        Text_Upper\n",
      "0            Eleven            6            eleven            ELEVEN\n",
      "1  Dustin Henderson           16  dustin henderson  DUSTIN HENDERSON\n",
      "2    Lucas Sinclair           14    lucas sinclair    LUCAS SINCLAIR\n",
      "3     Nancy Wheeler           13     nancy wheeler     NANCY WHEELER\n",
      "4    Jonathan Byers           14    jonathan byers    JONATHAN BYERS\n"
     ]
    }
   ],
   "source": [
    "# Example 3: Converting text to uppercase in 'Text' column\n",
    "df['Text_Upper'] = df['Text'].str.upper()\n",
    "print(\"\\nExample 3:\")\n",
    "print(\"DataFrame with text converted to uppercase:\")\n",
    "print(df)"
   ]
  },
  {
   "cell_type": "code",
   "execution_count": 6,
   "metadata": {},
   "outputs": [
    {
     "name": "stdout",
     "output_type": "stream",
     "text": [
      "\n",
      "Example 4:\n",
      "DataFrame with a new column checking if 'Text' contains 'Science':\n",
      "               Text  Text_Length        Text_Lower        Text_Upper  \\\n",
      "0            Eleven            6            eleven            ELEVEN   \n",
      "1  Dustin Henderson           16  dustin henderson  DUSTIN HENDERSON   \n",
      "2    Lucas Sinclair           14    lucas sinclair    LUCAS SINCLAIR   \n",
      "3     Nancy Wheeler           13     nancy wheeler     NANCY WHEELER   \n",
      "4    Jonathan Byers           14    jonathan byers    JONATHAN BYERS   \n",
      "\n",
      "   Contains_Science  \n",
      "0             False  \n",
      "1             False  \n",
      "2             False  \n",
      "3             False  \n",
      "4             False  \n"
     ]
    }
   ],
   "source": [
    "# Example 4: Checking if 'Text' column contains a specific substring\n",
    "df['Contains_Science'] = df['Text'].str.contains('Science')\n",
    "print(\"\\nExample 4:\")\n",
    "print(\"DataFrame with a new column checking if 'Text' contains 'Science':\")\n",
    "print(df)"
   ]
  },
  {
   "cell_type": "code",
   "execution_count": 7,
   "metadata": {},
   "outputs": [
    {
     "name": "stdout",
     "output_type": "stream",
     "text": [
      "\n",
      "Example 5:\n",
      "DataFrame with a new column counting occurrences of 'Python' in 'Text':\n",
      "               Text  Text_Length        Text_Lower        Text_Upper  \\\n",
      "0            Eleven            6            eleven            ELEVEN   \n",
      "1  Dustin Henderson           16  dustin henderson  DUSTIN HENDERSON   \n",
      "2    Lucas Sinclair           14    lucas sinclair    LUCAS SINCLAIR   \n",
      "3     Nancy Wheeler           13     nancy wheeler     NANCY WHEELER   \n",
      "4    Jonathan Byers           14    jonathan byers    JONATHAN BYERS   \n",
      "\n",
      "   Contains_Science  Count_Python  \n",
      "0             False             0  \n",
      "1             False             0  \n",
      "2             False             0  \n",
      "3             False             0  \n",
      "4             False             0  \n"
     ]
    }
   ],
   "source": [
    "# Example 5: Counting occurrences of a specific substring in 'Text' column\n",
    "df['Count_Python'] = df['Text'].str.count('Python')\n",
    "print(\"\\nExample 5:\")\n",
    "print(\"DataFrame with a new column counting occurrences of 'Python' in 'Text':\")\n",
    "print(df)\n"
   ]
  },
  {
   "cell_type": "code",
   "execution_count": 8,
   "metadata": {},
   "outputs": [
    {
     "name": "stdout",
     "output_type": "stream",
     "text": [
      "\n",
      "Example 6:\n",
      "DataFrame with the first 5 characters extracted from 'Text':\n",
      "               Text  Text_Length        Text_Lower        Text_Upper  \\\n",
      "0            Eleven            6            eleven            ELEVEN   \n",
      "1  Dustin Henderson           16  dustin henderson  DUSTIN HENDERSON   \n",
      "2    Lucas Sinclair           14    lucas sinclair    LUCAS SINCLAIR   \n",
      "3     Nancy Wheeler           13     nancy wheeler     NANCY WHEELER   \n",
      "4    Jonathan Byers           14    jonathan byers    JONATHAN BYERS   \n",
      "\n",
      "   Contains_Science  Count_Python First_5_Characters  \n",
      "0             False             0              Eleve  \n",
      "1             False             0              Dusti  \n",
      "2             False             0              Lucas  \n",
      "3             False             0              Nancy  \n",
      "4             False             0              Jonat  \n"
     ]
    }
   ],
   "source": [
    "# Example 6: Extracting the first 5 characters from 'Text' column\n",
    "df['First_5_Characters'] = df['Text'].str[:5]\n",
    "print(\"\\nExample 6:\")\n",
    "print(\"DataFrame with the first 5 characters extracted from 'Text':\")\n",
    "print(df)"
   ]
  },
  {
   "cell_type": "code",
   "execution_count": 9,
   "metadata": {},
   "outputs": [
    {
     "name": "stdout",
     "output_type": "stream",
     "text": [
      "\n",
      "Example 7:\n",
      "DataFrame with the last 5 characters extracted from 'Text':\n",
      "               Text  Text_Length        Text_Lower        Text_Upper  \\\n",
      "0            Eleven            6            eleven            ELEVEN   \n",
      "1  Dustin Henderson           16  dustin henderson  DUSTIN HENDERSON   \n",
      "2    Lucas Sinclair           14    lucas sinclair    LUCAS SINCLAIR   \n",
      "3     Nancy Wheeler           13     nancy wheeler     NANCY WHEELER   \n",
      "4    Jonathan Byers           14    jonathan byers    JONATHAN BYERS   \n",
      "\n",
      "   Contains_Science  Count_Python First_5_Characters Last_5_Characters  \n",
      "0             False             0              Eleve             leven  \n",
      "1             False             0              Dusti             erson  \n",
      "2             False             0              Lucas             clair  \n",
      "3             False             0              Nancy             eeler  \n",
      "4             False             0              Jonat             Byers  \n"
     ]
    }
   ],
   "source": [
    "# Example 7: Extracting the last 5 characters from 'Text' column\n",
    "df['Last_5_Characters'] = df['Text'].str[-5:]\n",
    "print(\"\\nExample 7:\")\n",
    "print(\"DataFrame with the last 5 characters extracted from 'Text':\")\n",
    "print(df)"
   ]
  },
  {
   "cell_type": "code",
   "execution_count": 10,
   "metadata": {},
   "outputs": [
    {
     "name": "stdout",
     "output_type": "stream",
     "text": [
      "\n",
      "Example 8:\n",
      "DataFrame with leading whitespace removed from 'Text':\n",
      "               Text  Text_Length        Text_Lower        Text_Upper  \\\n",
      "0            Eleven            6            eleven            ELEVEN   \n",
      "1  Dustin Henderson           16  dustin henderson  DUSTIN HENDERSON   \n",
      "2    Lucas Sinclair           14    lucas sinclair    LUCAS SINCLAIR   \n",
      "3     Nancy Wheeler           13     nancy wheeler     NANCY WHEELER   \n",
      "4    Jonathan Byers           14    jonathan byers    JONATHAN BYERS   \n",
      "\n",
      "   Contains_Science  Count_Python First_5_Characters Last_5_Characters  \\\n",
      "0             False             0              Eleve             leven   \n",
      "1             False             0              Dusti             erson   \n",
      "2             False             0              Lucas             clair   \n",
      "3             False             0              Nancy             eeler   \n",
      "4             False             0              Jonat             Byers   \n",
      "\n",
      "  Text_No_Leading_Whitespace  \n",
      "0                     Eleven  \n",
      "1           Dustin Henderson  \n",
      "2             Lucas Sinclair  \n",
      "3              Nancy Wheeler  \n",
      "4             Jonathan Byers  \n"
     ]
    }
   ],
   "source": [
    "# Example 8: Removing leading whitespace from 'Text' column\n",
    "df['Text_No_Leading_Whitespace'] = df['Text'].str.lstrip()\n",
    "print(\"\\nExample 8:\")\n",
    "print(\"DataFrame with leading whitespace removed from 'Text':\")\n",
    "print(df)"
   ]
  },
  {
   "cell_type": "code",
   "execution_count": 11,
   "metadata": {},
   "outputs": [
    {
     "name": "stdout",
     "output_type": "stream",
     "text": [
      "\n",
      "Example 9:\n",
      "DataFrame with trailing whitespace removed from 'Text':\n",
      "               Text  Text_Length        Text_Lower        Text_Upper  \\\n",
      "0            Eleven            6            eleven            ELEVEN   \n",
      "1  Dustin Henderson           16  dustin henderson  DUSTIN HENDERSON   \n",
      "2    Lucas Sinclair           14    lucas sinclair    LUCAS SINCLAIR   \n",
      "3     Nancy Wheeler           13     nancy wheeler     NANCY WHEELER   \n",
      "4    Jonathan Byers           14    jonathan byers    JONATHAN BYERS   \n",
      "\n",
      "   Contains_Science  Count_Python First_5_Characters Last_5_Characters  \\\n",
      "0             False             0              Eleve             leven   \n",
      "1             False             0              Dusti             erson   \n",
      "2             False             0              Lucas             clair   \n",
      "3             False             0              Nancy             eeler   \n",
      "4             False             0              Jonat             Byers   \n",
      "\n",
      "  Text_No_Leading_Whitespace Text_No_Trailing_Whitespace  \n",
      "0                     Eleven                      Eleven  \n",
      "1           Dustin Henderson            Dustin Henderson  \n",
      "2             Lucas Sinclair              Lucas Sinclair  \n",
      "3              Nancy Wheeler               Nancy Wheeler  \n",
      "4             Jonathan Byers              Jonathan Byers  \n"
     ]
    }
   ],
   "source": [
    "# Example 9: Removing trailing whitespace from 'Text' column\n",
    "df['Text_No_Trailing_Whitespace'] = df['Text'].str.rstrip()\n",
    "print(\"\\nExample 9:\")\n",
    "print(\"DataFrame with trailing whitespace removed from 'Text':\")\n",
    "print(df)"
   ]
  },
  {
   "cell_type": "code",
   "execution_count": 12,
   "metadata": {},
   "outputs": [
    {
     "name": "stdout",
     "output_type": "stream",
     "text": [
      "\n",
      "Example 10:\n",
      "DataFrame with leading and trailing whitespace removed from 'Text':\n",
      "               Text  Text_Length        Text_Lower        Text_Upper  \\\n",
      "0            Eleven            6            eleven            ELEVEN   \n",
      "1  Dustin Henderson           16  dustin henderson  DUSTIN HENDERSON   \n",
      "2    Lucas Sinclair           14    lucas sinclair    LUCAS SINCLAIR   \n",
      "3     Nancy Wheeler           13     nancy wheeler     NANCY WHEELER   \n",
      "4    Jonathan Byers           14    jonathan byers    JONATHAN BYERS   \n",
      "\n",
      "   Contains_Science  Count_Python First_5_Characters Last_5_Characters  \\\n",
      "0             False             0              Eleve             leven   \n",
      "1             False             0              Dusti             erson   \n",
      "2             False             0              Lucas             clair   \n",
      "3             False             0              Nancy             eeler   \n",
      "4             False             0              Jonat             Byers   \n",
      "\n",
      "  Text_No_Leading_Whitespace Text_No_Trailing_Whitespace Text_No_Whitespace  \n",
      "0                     Eleven                      Eleven             Eleven  \n",
      "1           Dustin Henderson            Dustin Henderson   Dustin Henderson  \n",
      "2             Lucas Sinclair              Lucas Sinclair     Lucas Sinclair  \n",
      "3              Nancy Wheeler               Nancy Wheeler      Nancy Wheeler  \n",
      "4             Jonathan Byers              Jonathan Byers     Jonathan Byers  \n"
     ]
    }
   ],
   "source": [
    "# Example 10: Removing leading and trailing whitespace from 'Text' column\n",
    "df['Text_No_Whitespace'] = df['Text'].str.strip()\n",
    "print(\"\\nExample 10:\")\n",
    "print(\"DataFrame with leading and trailing whitespace removed from 'Text':\")\n",
    "print(df)\n"
   ]
  },
  {
   "cell_type": "code",
   "execution_count": 13,
   "metadata": {},
   "outputs": [
    {
     "name": "stdout",
     "output_type": "stream",
     "text": [
      "\n",
      "Example 11:\n",
      "DataFrame with 'World' replaced by 'Universe' in 'Text':\n",
      "               Text  Text_Length        Text_Lower        Text_Upper  \\\n",
      "0            Eleven            6            eleven            ELEVEN   \n",
      "1  Dustin Henderson           16  dustin henderson  DUSTIN HENDERSON   \n",
      "2    Lucas Sinclair           14    lucas sinclair    LUCAS SINCLAIR   \n",
      "3     Nancy Wheeler           13     nancy wheeler     NANCY WHEELER   \n",
      "4    Jonathan Byers           14    jonathan byers    JONATHAN BYERS   \n",
      "\n",
      "   Contains_Science  Count_Python First_5_Characters Last_5_Characters  \\\n",
      "0             False             0              Eleve             leven   \n",
      "1             False             0              Dusti             erson   \n",
      "2             False             0              Lucas             clair   \n",
      "3             False             0              Nancy             eeler   \n",
      "4             False             0              Jonat             Byers   \n",
      "\n",
      "  Text_No_Leading_Whitespace Text_No_Trailing_Whitespace Text_No_Whitespace  \\\n",
      "0                     Eleven                      Eleven             Eleven   \n",
      "1           Dustin Henderson            Dustin Henderson   Dustin Henderson   \n",
      "2             Lucas Sinclair              Lucas Sinclair     Lucas Sinclair   \n",
      "3              Nancy Wheeler               Nancy Wheeler      Nancy Wheeler   \n",
      "4             Jonathan Byers              Jonathan Byers     Jonathan Byers   \n",
      "\n",
      "      Text_Replaced  \n",
      "0            Eleven  \n",
      "1  Dustin Henderson  \n",
      "2    Lucas Sinclair  \n",
      "3     Nancy Wheeler  \n",
      "4    Jonathan Byers  \n"
     ]
    }
   ],
   "source": [
    "# Example 11: Replacing a substring in 'Text' column\n",
    "df['Text_Replaced'] = df['Text'].str.replace('World', 'Universe')\n",
    "print(\"\\nExample 11:\")\n",
    "print(\"DataFrame with 'World' replaced by 'Universe' in 'Text':\")\n",
    "print(df)"
   ]
  },
  {
   "cell_type": "code",
   "execution_count": 14,
   "metadata": {},
   "outputs": [
    {
     "ename": "ValueError",
     "evalue": "Columns must be same length as key",
     "output_type": "error",
     "traceback": [
      "\u001b[1;31m---------------------------------------------------------------------------\u001b[0m",
      "\u001b[1;31mValueError\u001b[0m                                Traceback (most recent call last)",
      "Cell \u001b[1;32mIn[14], line 2\u001b[0m\n\u001b[0;32m      1\u001b[0m \u001b[39m# Example 12: Splitting 'Text' column into multiple columns based on a delimiter\u001b[39;00m\n\u001b[1;32m----> 2\u001b[0m df[[\u001b[39m'\u001b[39;49m\u001b[39mText_Part1\u001b[39;49m\u001b[39m'\u001b[39;49m, \u001b[39m'\u001b[39;49m\u001b[39mText_Part2\u001b[39;49m\u001b[39m'\u001b[39;49m]] \u001b[39m=\u001b[39m df[\u001b[39m'\u001b[39m\u001b[39mText\u001b[39m\u001b[39m'\u001b[39m]\u001b[39m.\u001b[39mstr\u001b[39m.\u001b[39msplit(\u001b[39m'\u001b[39m\u001b[39m,\u001b[39m\u001b[39m'\u001b[39m, expand\u001b[39m=\u001b[39m\u001b[39mTrue\u001b[39;00m)\n\u001b[0;32m      3\u001b[0m \u001b[39mprint\u001b[39m(\u001b[39m\"\u001b[39m\u001b[39m\\n\u001b[39;00m\u001b[39mExample 12:\u001b[39m\u001b[39m\"\u001b[39m)\n\u001b[0;32m      4\u001b[0m \u001b[39mprint\u001b[39m(\u001b[39m\"\u001b[39m\u001b[39mDataFrame with \u001b[39m\u001b[39m'\u001b[39m\u001b[39mText\u001b[39m\u001b[39m'\u001b[39m\u001b[39m column split into \u001b[39m\u001b[39m'\u001b[39m\u001b[39mText_Part1\u001b[39m\u001b[39m'\u001b[39m\u001b[39m and \u001b[39m\u001b[39m'\u001b[39m\u001b[39mText_Part2\u001b[39m\u001b[39m'\u001b[39m\u001b[39m based on a comma delimiter:\u001b[39m\u001b[39m\"\u001b[39m)\n",
      "File \u001b[1;32mc:\\Program Files\\Python311\\Lib\\site-packages\\pandas\\core\\frame.py:3968\u001b[0m, in \u001b[0;36mDataFrame.__setitem__\u001b[1;34m(self, key, value)\u001b[0m\n\u001b[0;32m   3966\u001b[0m     \u001b[39mself\u001b[39m\u001b[39m.\u001b[39m_setitem_frame(key, value)\n\u001b[0;32m   3967\u001b[0m \u001b[39melif\u001b[39;00m \u001b[39misinstance\u001b[39m(key, (Series, np\u001b[39m.\u001b[39mndarray, \u001b[39mlist\u001b[39m, Index)):\n\u001b[1;32m-> 3968\u001b[0m     \u001b[39mself\u001b[39;49m\u001b[39m.\u001b[39;49m_setitem_array(key, value)\n\u001b[0;32m   3969\u001b[0m \u001b[39melif\u001b[39;00m \u001b[39misinstance\u001b[39m(value, DataFrame):\n\u001b[0;32m   3970\u001b[0m     \u001b[39mself\u001b[39m\u001b[39m.\u001b[39m_set_item_frame_value(key, value)\n",
      "File \u001b[1;32mc:\\Program Files\\Python311\\Lib\\site-packages\\pandas\\core\\frame.py:4010\u001b[0m, in \u001b[0;36mDataFrame._setitem_array\u001b[1;34m(self, key, value)\u001b[0m\n\u001b[0;32m   4005\u001b[0m \u001b[39melse\u001b[39;00m:\n\u001b[0;32m   4006\u001b[0m     \u001b[39m# Note: unlike self.iloc[:, indexer] = value, this will\u001b[39;00m\n\u001b[0;32m   4007\u001b[0m     \u001b[39m#  never try to overwrite values inplace\u001b[39;00m\n\u001b[0;32m   4009\u001b[0m     \u001b[39mif\u001b[39;00m \u001b[39misinstance\u001b[39m(value, DataFrame):\n\u001b[1;32m-> 4010\u001b[0m         check_key_length(\u001b[39mself\u001b[39;49m\u001b[39m.\u001b[39;49mcolumns, key, value)\n\u001b[0;32m   4011\u001b[0m         \u001b[39mfor\u001b[39;00m k1, k2 \u001b[39min\u001b[39;00m \u001b[39mzip\u001b[39m(key, value\u001b[39m.\u001b[39mcolumns):\n\u001b[0;32m   4012\u001b[0m             \u001b[39mself\u001b[39m[k1] \u001b[39m=\u001b[39m value[k2]\n",
      "File \u001b[1;32mc:\\Program Files\\Python311\\Lib\\site-packages\\pandas\\core\\indexers\\utils.py:401\u001b[0m, in \u001b[0;36mcheck_key_length\u001b[1;34m(columns, key, value)\u001b[0m\n\u001b[0;32m    399\u001b[0m \u001b[39mif\u001b[39;00m columns\u001b[39m.\u001b[39mis_unique:\n\u001b[0;32m    400\u001b[0m     \u001b[39mif\u001b[39;00m \u001b[39mlen\u001b[39m(value\u001b[39m.\u001b[39mcolumns) \u001b[39m!=\u001b[39m \u001b[39mlen\u001b[39m(key):\n\u001b[1;32m--> 401\u001b[0m         \u001b[39mraise\u001b[39;00m \u001b[39mValueError\u001b[39;00m(\u001b[39m\"\u001b[39m\u001b[39mColumns must be same length as key\u001b[39m\u001b[39m\"\u001b[39m)\n\u001b[0;32m    402\u001b[0m \u001b[39melse\u001b[39;00m:\n\u001b[0;32m    403\u001b[0m     \u001b[39m# Missing keys in columns are represented as -1\u001b[39;00m\n\u001b[0;32m    404\u001b[0m     \u001b[39mif\u001b[39;00m \u001b[39mlen\u001b[39m(columns\u001b[39m.\u001b[39mget_indexer_non_unique(key)[\u001b[39m0\u001b[39m]) \u001b[39m!=\u001b[39m \u001b[39mlen\u001b[39m(value\u001b[39m.\u001b[39mcolumns):\n",
      "\u001b[1;31mValueError\u001b[0m: Columns must be same length as key"
     ]
    }
   ],
   "source": [
    "# Example 12: Splitting 'Text' column into multiple columns based on a delimiter\n",
    "df[['Text_Part1', 'Text_Part2']] = df['Text'].str.split(',', expand=True)\n",
    "print(\"\\nExample 12:\")\n",
    "print(\"DataFrame with 'Text' column split into 'Text_Part1' and 'Text_Part2' based on a comma delimiter:\")\n",
    "print(df)\n"
   ]
  },
  {
   "cell_type": "code",
   "execution_count": 15,
   "metadata": {},
   "outputs": [
    {
     "name": "stdout",
     "output_type": "stream",
     "text": [
      "\n",
      "Example 13:\n",
      "DataFrame with numeric characters extracted from 'Text':\n",
      "               Text  Text_Length        Text_Lower        Text_Upper  \\\n",
      "0            Eleven            6            eleven            ELEVEN   \n",
      "1  Dustin Henderson           16  dustin henderson  DUSTIN HENDERSON   \n",
      "2    Lucas Sinclair           14    lucas sinclair    LUCAS SINCLAIR   \n",
      "3     Nancy Wheeler           13     nancy wheeler     NANCY WHEELER   \n",
      "4    Jonathan Byers           14    jonathan byers    JONATHAN BYERS   \n",
      "\n",
      "   Contains_Science  Count_Python First_5_Characters Last_5_Characters  \\\n",
      "0             False             0              Eleve             leven   \n",
      "1             False             0              Dusti             erson   \n",
      "2             False             0              Lucas             clair   \n",
      "3             False             0              Nancy             eeler   \n",
      "4             False             0              Jonat             Byers   \n",
      "\n",
      "  Text_No_Leading_Whitespace Text_No_Trailing_Whitespace Text_No_Whitespace  \\\n",
      "0                     Eleven                      Eleven             Eleven   \n",
      "1           Dustin Henderson            Dustin Henderson   Dustin Henderson   \n",
      "2             Lucas Sinclair              Lucas Sinclair     Lucas Sinclair   \n",
      "3              Nancy Wheeler               Nancy Wheeler      Nancy Wheeler   \n",
      "4             Jonathan Byers              Jonathan Byers     Jonathan Byers   \n",
      "\n",
      "      Text_Replaced Numeric_Characters  \n",
      "0            Eleven                NaN  \n",
      "1  Dustin Henderson                NaN  \n",
      "2    Lucas Sinclair                NaN  \n",
      "3     Nancy Wheeler                NaN  \n",
      "4    Jonathan Byers                NaN  \n"
     ]
    }
   ],
   "source": [
    "# Example 13: Extracting numeric characters from 'Text' column\n",
    "df['Numeric_Characters'] = df['Text'].str.extract('(\\d+)')\n",
    "print(\"\\nExample 13:\")\n",
    "print(\"DataFrame with numeric characters extracted from 'Text':\")\n",
    "print(df)"
   ]
  },
  {
   "cell_type": "code",
   "execution_count": 16,
   "metadata": {},
   "outputs": [
    {
     "name": "stdout",
     "output_type": "stream",
     "text": [
      "\n",
      "Example 14:\n",
      "DataFrame with a new column checking if 'Text' starts with 'Hello':\n",
      "               Text  Text_Length        Text_Lower        Text_Upper  \\\n",
      "0            Eleven            6            eleven            ELEVEN   \n",
      "1  Dustin Henderson           16  dustin henderson  DUSTIN HENDERSON   \n",
      "2    Lucas Sinclair           14    lucas sinclair    LUCAS SINCLAIR   \n",
      "3     Nancy Wheeler           13     nancy wheeler     NANCY WHEELER   \n",
      "4    Jonathan Byers           14    jonathan byers    JONATHAN BYERS   \n",
      "\n",
      "   Contains_Science  Count_Python First_5_Characters Last_5_Characters  \\\n",
      "0             False             0              Eleve             leven   \n",
      "1             False             0              Dusti             erson   \n",
      "2             False             0              Lucas             clair   \n",
      "3             False             0              Nancy             eeler   \n",
      "4             False             0              Jonat             Byers   \n",
      "\n",
      "  Text_No_Leading_Whitespace Text_No_Trailing_Whitespace Text_No_Whitespace  \\\n",
      "0                     Eleven                      Eleven             Eleven   \n",
      "1           Dustin Henderson            Dustin Henderson   Dustin Henderson   \n",
      "2             Lucas Sinclair              Lucas Sinclair     Lucas Sinclair   \n",
      "3              Nancy Wheeler               Nancy Wheeler      Nancy Wheeler   \n",
      "4             Jonathan Byers              Jonathan Byers     Jonathan Byers   \n",
      "\n",
      "      Text_Replaced Numeric_Characters  Starts_with_Hello  \n",
      "0            Eleven                NaN              False  \n",
      "1  Dustin Henderson                NaN              False  \n",
      "2    Lucas Sinclair                NaN              False  \n",
      "3     Nancy Wheeler                NaN              False  \n",
      "4    Jonathan Byers                NaN              False  \n"
     ]
    }
   ],
   "source": [
    "# Example 14: Checking if 'Text' column starts with a specific substring\n",
    "df['Starts_with_Hello'] = df['Text'].str.startswith('Hello')\n",
    "print(\"\\nExample 14:\")\n",
    "print(\"DataFrame with a new column checking if 'Text' starts with 'Hello':\")\n",
    "print(df)\n"
   ]
  },
  {
   "cell_type": "code",
   "execution_count": 17,
   "metadata": {},
   "outputs": [
    {
     "name": "stdout",
     "output_type": "stream",
     "text": [
      "\n",
      "Example 15:\n",
      "DataFrame with a new column checking if 'Text' ends with 'awesome!':\n",
      "               Text  Text_Length        Text_Lower        Text_Upper  \\\n",
      "0            Eleven            6            eleven            ELEVEN   \n",
      "1  Dustin Henderson           16  dustin henderson  DUSTIN HENDERSON   \n",
      "2    Lucas Sinclair           14    lucas sinclair    LUCAS SINCLAIR   \n",
      "3     Nancy Wheeler           13     nancy wheeler     NANCY WHEELER   \n",
      "4    Jonathan Byers           14    jonathan byers    JONATHAN BYERS   \n",
      "\n",
      "   Contains_Science  Count_Python First_5_Characters Last_5_Characters  \\\n",
      "0             False             0              Eleve             leven   \n",
      "1             False             0              Dusti             erson   \n",
      "2             False             0              Lucas             clair   \n",
      "3             False             0              Nancy             eeler   \n",
      "4             False             0              Jonat             Byers   \n",
      "\n",
      "  Text_No_Leading_Whitespace Text_No_Trailing_Whitespace Text_No_Whitespace  \\\n",
      "0                     Eleven                      Eleven             Eleven   \n",
      "1           Dustin Henderson            Dustin Henderson   Dustin Henderson   \n",
      "2             Lucas Sinclair              Lucas Sinclair     Lucas Sinclair   \n",
      "3              Nancy Wheeler               Nancy Wheeler      Nancy Wheeler   \n",
      "4             Jonathan Byers              Jonathan Byers     Jonathan Byers   \n",
      "\n",
      "      Text_Replaced Numeric_Characters  Starts_with_Hello  Ends_with_Awesome  \n",
      "0            Eleven                NaN              False              False  \n",
      "1  Dustin Henderson                NaN              False              False  \n",
      "2    Lucas Sinclair                NaN              False              False  \n",
      "3     Nancy Wheeler                NaN              False              False  \n",
      "4    Jonathan Byers                NaN              False              False  \n"
     ]
    }
   ],
   "source": [
    "# Example 15: Checking if 'Text' column ends with a specific substring\n",
    "df['Ends_with_Awesome'] = df['Text'].str.endswith('awesome!')\n",
    "print(\"\\nExample 15:\")\n",
    "print(\"DataFrame with a new column checking if 'Text' ends with 'awesome!':\")\n",
    "print(df)\n"
   ]
  },
  {
   "cell_type": "code",
   "execution_count": 18,
   "metadata": {},
   "outputs": [
    {
     "name": "stdout",
     "output_type": "stream",
     "text": [
      "\n",
      "Example 16:\n",
      "DataFrame with the first letter of each word in 'Text' capitalized:\n",
      "               Text  Text_Length        Text_Lower        Text_Upper  \\\n",
      "0            Eleven            6            eleven            ELEVEN   \n",
      "1  Dustin Henderson           16  dustin henderson  DUSTIN HENDERSON   \n",
      "2    Lucas Sinclair           14    lucas sinclair    LUCAS SINCLAIR   \n",
      "3     Nancy Wheeler           13     nancy wheeler     NANCY WHEELER   \n",
      "4    Jonathan Byers           14    jonathan byers    JONATHAN BYERS   \n",
      "\n",
      "   Contains_Science  Count_Python First_5_Characters Last_5_Characters  \\\n",
      "0             False             0              Eleve             leven   \n",
      "1             False             0              Dusti             erson   \n",
      "2             False             0              Lucas             clair   \n",
      "3             False             0              Nancy             eeler   \n",
      "4             False             0              Jonat             Byers   \n",
      "\n",
      "  Text_No_Leading_Whitespace Text_No_Trailing_Whitespace Text_No_Whitespace  \\\n",
      "0                     Eleven                      Eleven             Eleven   \n",
      "1           Dustin Henderson            Dustin Henderson   Dustin Henderson   \n",
      "2             Lucas Sinclair              Lucas Sinclair     Lucas Sinclair   \n",
      "3              Nancy Wheeler               Nancy Wheeler      Nancy Wheeler   \n",
      "4             Jonathan Byers              Jonathan Byers     Jonathan Byers   \n",
      "\n",
      "      Text_Replaced Numeric_Characters  Starts_with_Hello  Ends_with_Awesome  \\\n",
      "0            Eleven                NaN              False              False   \n",
      "1  Dustin Henderson                NaN              False              False   \n",
      "2    Lucas Sinclair                NaN              False              False   \n",
      "3     Nancy Wheeler                NaN              False              False   \n",
      "4    Jonathan Byers                NaN              False              False   \n",
      "\n",
      "    Text_Capitalize  \n",
      "0            Eleven  \n",
      "1  Dustin Henderson  \n",
      "2    Lucas Sinclair  \n",
      "3     Nancy Wheeler  \n",
      "4    Jonathan Byers  \n"
     ]
    }
   ],
   "source": [
    "# Example 16: Capitalizing the first letter of each word in 'Text' column\n",
    "df['Text_Capitalize'] = df['Text'].str.title()\n",
    "print(\"\\nExample 16:\")\n",
    "print(\"DataFrame with the first letter of each word in 'Text' capitalized:\")\n",
    "print(df)"
   ]
  },
  {
   "cell_type": "code",
   "execution_count": 19,
   "metadata": {},
   "outputs": [
    {
     "name": "stdout",
     "output_type": "stream",
     "text": [
      "\n",
      "Example 17:\n",
      "DataFrame with a new column counting the number of words in 'Text':\n",
      "               Text  Text_Length        Text_Lower        Text_Upper  \\\n",
      "0            Eleven            6            eleven            ELEVEN   \n",
      "1  Dustin Henderson           16  dustin henderson  DUSTIN HENDERSON   \n",
      "2    Lucas Sinclair           14    lucas sinclair    LUCAS SINCLAIR   \n",
      "3     Nancy Wheeler           13     nancy wheeler     NANCY WHEELER   \n",
      "4    Jonathan Byers           14    jonathan byers    JONATHAN BYERS   \n",
      "\n",
      "   Contains_Science  Count_Python First_5_Characters Last_5_Characters  \\\n",
      "0             False             0              Eleve             leven   \n",
      "1             False             0              Dusti             erson   \n",
      "2             False             0              Lucas             clair   \n",
      "3             False             0              Nancy             eeler   \n",
      "4             False             0              Jonat             Byers   \n",
      "\n",
      "  Text_No_Leading_Whitespace Text_No_Trailing_Whitespace Text_No_Whitespace  \\\n",
      "0                     Eleven                      Eleven             Eleven   \n",
      "1           Dustin Henderson            Dustin Henderson   Dustin Henderson   \n",
      "2             Lucas Sinclair              Lucas Sinclair     Lucas Sinclair   \n",
      "3              Nancy Wheeler               Nancy Wheeler      Nancy Wheeler   \n",
      "4             Jonathan Byers              Jonathan Byers     Jonathan Byers   \n",
      "\n",
      "      Text_Replaced Numeric_Characters  Starts_with_Hello  Ends_with_Awesome  \\\n",
      "0            Eleven                NaN              False              False   \n",
      "1  Dustin Henderson                NaN              False              False   \n",
      "2    Lucas Sinclair                NaN              False              False   \n",
      "3     Nancy Wheeler                NaN              False              False   \n",
      "4    Jonathan Byers                NaN              False              False   \n",
      "\n",
      "    Text_Capitalize  Word_Count  \n",
      "0            Eleven           1  \n",
      "1  Dustin Henderson           2  \n",
      "2    Lucas Sinclair           2  \n",
      "3     Nancy Wheeler           2  \n",
      "4    Jonathan Byers           2  \n"
     ]
    }
   ],
   "source": [
    "# Example 17: Counting the number of words in 'Text' column\n",
    "df['Word_Count'] = df['Text'].str.split().apply(len)\n",
    "print(\"\\nExample 17:\")\n",
    "print(\"DataFrame with a new column counting the number of words in 'Text':\")\n",
    "print(df)"
   ]
  },
  {
   "cell_type": "code",
   "execution_count": 20,
   "metadata": {},
   "outputs": [
    {
     "name": "stdout",
     "output_type": "stream",
     "text": [
      "\n",
      "Example 18:\n",
      "DataFrame with a new column checking if 'Text' contains any digit characters:\n",
      "               Text  Text_Length        Text_Lower        Text_Upper  \\\n",
      "0            Eleven            6            eleven            ELEVEN   \n",
      "1  Dustin Henderson           16  dustin henderson  DUSTIN HENDERSON   \n",
      "2    Lucas Sinclair           14    lucas sinclair    LUCAS SINCLAIR   \n",
      "3     Nancy Wheeler           13     nancy wheeler     NANCY WHEELER   \n",
      "4    Jonathan Byers           14    jonathan byers    JONATHAN BYERS   \n",
      "\n",
      "   Contains_Science  Count_Python First_5_Characters Last_5_Characters  \\\n",
      "0             False             0              Eleve             leven   \n",
      "1             False             0              Dusti             erson   \n",
      "2             False             0              Lucas             clair   \n",
      "3             False             0              Nancy             eeler   \n",
      "4             False             0              Jonat             Byers   \n",
      "\n",
      "  Text_No_Leading_Whitespace Text_No_Trailing_Whitespace Text_No_Whitespace  \\\n",
      "0                     Eleven                      Eleven             Eleven   \n",
      "1           Dustin Henderson            Dustin Henderson   Dustin Henderson   \n",
      "2             Lucas Sinclair              Lucas Sinclair     Lucas Sinclair   \n",
      "3              Nancy Wheeler               Nancy Wheeler      Nancy Wheeler   \n",
      "4             Jonathan Byers              Jonathan Byers     Jonathan Byers   \n",
      "\n",
      "      Text_Replaced Numeric_Characters  Starts_with_Hello  Ends_with_Awesome  \\\n",
      "0            Eleven                NaN              False              False   \n",
      "1  Dustin Henderson                NaN              False              False   \n",
      "2    Lucas Sinclair                NaN              False              False   \n",
      "3     Nancy Wheeler                NaN              False              False   \n",
      "4    Jonathan Byers                NaN              False              False   \n",
      "\n",
      "    Text_Capitalize  Word_Count  Contains_Digit  \n",
      "0            Eleven           1           False  \n",
      "1  Dustin Henderson           2           False  \n",
      "2    Lucas Sinclair           2           False  \n",
      "3     Nancy Wheeler           2           False  \n",
      "4    Jonathan Byers           2           False  \n"
     ]
    }
   ],
   "source": [
    "# Example 18: Checking if 'Text' column contains any digit characters\n",
    "df['Contains_Digit'] = df['Text'].str.contains('\\d')\n",
    "print(\"\\nExample 18:\")\n",
    "print(\"DataFrame with a new column checking if 'Text' contains any digit characters:\")\n",
    "print(df)"
   ]
  },
  {
   "cell_type": "code",
   "execution_count": 21,
   "metadata": {},
   "outputs": [
    {
     "name": "stdout",
     "output_type": "stream",
     "text": [
      "\n",
      "Example 19:\n",
      "DataFrame with 'Text' column in reversed order:\n",
      "               Text  Text_Length        Text_Lower        Text_Upper  \\\n",
      "0            Eleven            6            eleven            ELEVEN   \n",
      "1  Dustin Henderson           16  dustin henderson  DUSTIN HENDERSON   \n",
      "2    Lucas Sinclair           14    lucas sinclair    LUCAS SINCLAIR   \n",
      "3     Nancy Wheeler           13     nancy wheeler     NANCY WHEELER   \n",
      "4    Jonathan Byers           14    jonathan byers    JONATHAN BYERS   \n",
      "\n",
      "   Contains_Science  Count_Python First_5_Characters Last_5_Characters  \\\n",
      "0             False             0              Eleve             leven   \n",
      "1             False             0              Dusti             erson   \n",
      "2             False             0              Lucas             clair   \n",
      "3             False             0              Nancy             eeler   \n",
      "4             False             0              Jonat             Byers   \n",
      "\n",
      "  Text_No_Leading_Whitespace Text_No_Trailing_Whitespace Text_No_Whitespace  \\\n",
      "0                     Eleven                      Eleven             Eleven   \n",
      "1           Dustin Henderson            Dustin Henderson   Dustin Henderson   \n",
      "2             Lucas Sinclair              Lucas Sinclair     Lucas Sinclair   \n",
      "3              Nancy Wheeler               Nancy Wheeler      Nancy Wheeler   \n",
      "4             Jonathan Byers              Jonathan Byers     Jonathan Byers   \n",
      "\n",
      "      Text_Replaced Numeric_Characters  Starts_with_Hello  Ends_with_Awesome  \\\n",
      "0            Eleven                NaN              False              False   \n",
      "1  Dustin Henderson                NaN              False              False   \n",
      "2    Lucas Sinclair                NaN              False              False   \n",
      "3     Nancy Wheeler                NaN              False              False   \n",
      "4    Jonathan Byers                NaN              False              False   \n",
      "\n",
      "    Text_Capitalize  Word_Count  Contains_Digit     Text_Reversed  \n",
      "0            Eleven           1           False            nevelE  \n",
      "1  Dustin Henderson           2           False  nosredneH nitsuD  \n",
      "2    Lucas Sinclair           2           False    rialcniS sacuL  \n",
      "3     Nancy Wheeler           2           False     releehW ycnaN  \n",
      "4    Jonathan Byers           2           False    sreyB nahtanoJ  \n"
     ]
    }
   ],
   "source": [
    "# Example 19: Reversing the order of characters in 'Text' column\n",
    "df['Text_Reversed'] = df['Text'].str[::-1]\n",
    "print(\"\\nExample 19:\")\n",
    "print(\"DataFrame with 'Text' column in reversed order:\")\n",
    "print(df)"
   ]
  },
  {
   "cell_type": "code",
   "execution_count": 22,
   "metadata": {},
   "outputs": [
    {
     "name": "stdout",
     "output_type": "stream",
     "text": [
      "\n",
      "Example 20:\n",
      "DataFrame with a new column checking if 'Text' contains any special characters:\n",
      "               Text  Text_Length        Text_Lower        Text_Upper  \\\n",
      "0            Eleven            6            eleven            ELEVEN   \n",
      "1  Dustin Henderson           16  dustin henderson  DUSTIN HENDERSON   \n",
      "2    Lucas Sinclair           14    lucas sinclair    LUCAS SINCLAIR   \n",
      "3     Nancy Wheeler           13     nancy wheeler     NANCY WHEELER   \n",
      "4    Jonathan Byers           14    jonathan byers    JONATHAN BYERS   \n",
      "\n",
      "   Contains_Science  Count_Python First_5_Characters Last_5_Characters  \\\n",
      "0             False             0              Eleve             leven   \n",
      "1             False             0              Dusti             erson   \n",
      "2             False             0              Lucas             clair   \n",
      "3             False             0              Nancy             eeler   \n",
      "4             False             0              Jonat             Byers   \n",
      "\n",
      "  Text_No_Leading_Whitespace Text_No_Trailing_Whitespace Text_No_Whitespace  \\\n",
      "0                     Eleven                      Eleven             Eleven   \n",
      "1           Dustin Henderson            Dustin Henderson   Dustin Henderson   \n",
      "2             Lucas Sinclair              Lucas Sinclair     Lucas Sinclair   \n",
      "3              Nancy Wheeler               Nancy Wheeler      Nancy Wheeler   \n",
      "4             Jonathan Byers              Jonathan Byers     Jonathan Byers   \n",
      "\n",
      "      Text_Replaced Numeric_Characters  Starts_with_Hello  Ends_with_Awesome  \\\n",
      "0            Eleven                NaN              False              False   \n",
      "1  Dustin Henderson                NaN              False              False   \n",
      "2    Lucas Sinclair                NaN              False              False   \n",
      "3     Nancy Wheeler                NaN              False              False   \n",
      "4    Jonathan Byers                NaN              False              False   \n",
      "\n",
      "    Text_Capitalize  Word_Count  Contains_Digit     Text_Reversed  \\\n",
      "0            Eleven           1           False            nevelE   \n",
      "1  Dustin Henderson           2           False  nosredneH nitsuD   \n",
      "2    Lucas Sinclair           2           False    rialcniS sacuL   \n",
      "3     Nancy Wheeler           2           False     releehW ycnaN   \n",
      "4    Jonathan Byers           2           False    sreyB nahtanoJ   \n",
      "\n",
      "   Contains_Special_Chars  \n",
      "0                   False  \n",
      "1                   False  \n",
      "2                   False  \n",
      "3                   False  \n",
      "4                   False  \n"
     ]
    }
   ],
   "source": [
    "# Example 20: Checking if 'Text' column contains any special characters\n",
    "df['Contains_Special_Chars'] = df['Text'].str.contains('[^a-zA-Z0-9\\s]')\n",
    "print(\"\\nExample 20:\")\n",
    "print(\"DataFrame with a new column checking if 'Text' contains any special characters:\")\n",
    "print(df)"
   ]
  }
 ],
 "metadata": {
  "kernelspec": {
   "display_name": "Python 3",
   "language": "python",
   "name": "python3"
  },
  "language_info": {
   "codemirror_mode": {
    "name": "ipython",
    "version": 3
   },
   "file_extension": ".py",
   "mimetype": "text/x-python",
   "name": "python",
   "nbconvert_exporter": "python",
   "pygments_lexer": "ipython3",
   "version": "3.11.2"
  },
  "orig_nbformat": 4
 },
 "nbformat": 4,
 "nbformat_minor": 2
}
