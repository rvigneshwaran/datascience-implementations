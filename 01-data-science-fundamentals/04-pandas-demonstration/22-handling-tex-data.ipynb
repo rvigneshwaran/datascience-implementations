{
 "cells": [
  {
   "cell_type": "code",
   "execution_count": 1,
   "metadata": {},
   "outputs": [],
   "source": [
    "import pandas as pd"
   ]
  },
  {
   "cell_type": "code",
   "execution_count": 2,
   "metadata": {},
   "outputs": [],
   "source": [
    "# Sample DataFrame\n",
    "data = {'Text': ['Eleven','Dustin Henderson', 'Lucas Sinclair', 'Nancy Wheeler','Jonathan Byers']}\n",
    "df = pd.DataFrame(data)"
   ]
  },
  {
   "cell_type": "code",
   "execution_count": 3,
   "metadata": {},
   "outputs": [
    {
     "name": "stdout",
     "output_type": "stream",
     "text": [
      "Example 1:\n",
      "DataFrame with text length column:\n",
      "               Text  Text_Length\n",
      "0            Eleven            6\n",
      "1  Dustin Henderson           16\n",
      "2    Lucas Sinclair           14\n",
      "3     Nancy Wheeler           13\n",
      "4    Jonathan Byers           14\n"
     ]
    }
   ],
   "source": [
    "# Example 1: Extracting the length of each text in 'Text' column\n",
    "df['Text_Length'] = df['Text'].str.len()\n",
    "print(\"Example 1:\")\n",
    "print(\"DataFrame with text length column:\")\n",
    "print(df)"
   ]
  },
  {
   "cell_type": "code",
   "execution_count": 4,
   "metadata": {},
   "outputs": [
    {
     "name": "stdout",
     "output_type": "stream",
     "text": [
      "\n",
      "Example 2:\n",
      "DataFrame with text converted to lowercase:\n",
      "               Text  Text_Length        Text_Lower\n",
      "0            Eleven            6            eleven\n",
      "1  Dustin Henderson           16  dustin henderson\n",
      "2    Lucas Sinclair           14    lucas sinclair\n",
      "3     Nancy Wheeler           13     nancy wheeler\n",
      "4    Jonathan Byers           14    jonathan byers\n"
     ]
    }
   ],
   "source": [
    "# Example 2: Converting text to lowercase in 'Text' column\n",
    "df['Text_Lower'] = df['Text'].str.lower()\n",
    "print(\"\\nExample 2:\")\n",
    "print(\"DataFrame with text converted to lowercase:\")\n",
    "print(df)\n"
   ]
  },
  {
   "cell_type": "code",
   "execution_count": 5,
   "metadata": {},
   "outputs": [
    {
     "name": "stdout",
     "output_type": "stream",
     "text": [
      "\n",
      "Example 3:\n",
      "DataFrame with text converted to uppercase:\n",
      "               Text  Text_Length        Text_Lower        Text_Upper\n",
      "0            Eleven            6            eleven            ELEVEN\n",
      "1  Dustin Henderson           16  dustin henderson  DUSTIN HENDERSON\n",
      "2    Lucas Sinclair           14    lucas sinclair    LUCAS SINCLAIR\n",
      "3     Nancy Wheeler           13     nancy wheeler     NANCY WHEELER\n",
      "4    Jonathan Byers           14    jonathan byers    JONATHAN BYERS\n"
     ]
    }
   ],
   "source": [
    "# Example 3: Converting text to uppercase in 'Text' column\n",
    "df['Text_Upper'] = df['Text'].str.upper()\n",
    "print(\"\\nExample 3:\")\n",
    "print(\"DataFrame with text converted to uppercase:\")\n",
    "print(df)"
   ]
  },
  {
   "cell_type": "code",
   "execution_count": 6,
   "metadata": {},
   "outputs": [
    {
     "name": "stdout",
     "output_type": "stream",
     "text": [
      "\n",
      "Example 4:\n",
      "DataFrame with a new column checking if 'Text' contains 'Science':\n",
      "               Text  Text_Length        Text_Lower        Text_Upper  \\\n",
      "0            Eleven            6            eleven            ELEVEN   \n",
      "1  Dustin Henderson           16  dustin henderson  DUSTIN HENDERSON   \n",
      "2    Lucas Sinclair           14    lucas sinclair    LUCAS SINCLAIR   \n",
      "3     Nancy Wheeler           13     nancy wheeler     NANCY WHEELER   \n",
      "4    Jonathan Byers           14    jonathan byers    JONATHAN BYERS   \n",
      "\n",
      "   Contains_Science  \n",
      "0             False  \n",
      "1             False  \n",
      "2             False  \n",
      "3             False  \n",
      "4             False  \n"
     ]
    }
   ],
   "source": [
    "# Example 4: Checking if 'Text' column contains a specific substring\n",
    "df['Contains_Science'] = df['Text'].str.contains('Science')\n",
    "print(\"\\nExample 4:\")\n",
    "print(\"DataFrame with a new column checking if 'Text' contains 'Science':\")\n",
    "print(df)"
   ]
  },
  {
   "cell_type": "code",
   "execution_count": 7,
   "metadata": {},
   "outputs": [
    {
     "name": "stdout",
     "output_type": "stream",
     "text": [
      "\n",
      "Example 5:\n",
      "DataFrame with a new column counting occurrences of 'Python' in 'Text':\n",
      "               Text  Text_Length        Text_Lower        Text_Upper  \\\n",
      "0            Eleven            6            eleven            ELEVEN   \n",
      "1  Dustin Henderson           16  dustin henderson  DUSTIN HENDERSON   \n",
      "2    Lucas Sinclair           14    lucas sinclair    LUCAS SINCLAIR   \n",
      "3     Nancy Wheeler           13     nancy wheeler     NANCY WHEELER   \n",
      "4    Jonathan Byers           14    jonathan byers    JONATHAN BYERS   \n",
      "\n",
      "   Contains_Science  Count_Python  \n",
      "0             False             0  \n",
      "1             False             0  \n",
      "2             False             0  \n",
      "3             False             0  \n",
      "4             False             0  \n"
     ]
    }
   ],
   "source": [
    "# Example 5: Counting occurrences of a specific substring in 'Text' column\n",
    "df['Count_Python'] = df['Text'].str.count('Python')\n",
    "print(\"\\nExample 5:\")\n",
    "print(\"DataFrame with a new column counting occurrences of 'Python' in 'Text':\")\n",
    "print(df)\n"
   ]
  },
  {
   "cell_type": "code",
   "execution_count": 8,
   "metadata": {},
   "outputs": [
    {
     "name": "stdout",
     "output_type": "stream",
     "text": [
      "\n",
      "Example 6:\n",
      "DataFrame with the first 5 characters extracted from 'Text':\n",
      "               Text  Text_Length        Text_Lower        Text_Upper  \\\n",
      "0            Eleven            6            eleven            ELEVEN   \n",
      "1  Dustin Henderson           16  dustin henderson  DUSTIN HENDERSON   \n",
      "2    Lucas Sinclair           14    lucas sinclair    LUCAS SINCLAIR   \n",
      "3     Nancy Wheeler           13     nancy wheeler     NANCY WHEELER   \n",
      "4    Jonathan Byers           14    jonathan byers    JONATHAN BYERS   \n",
      "\n",
      "   Contains_Science  Count_Python First_5_Characters  \n",
      "0             False             0              Eleve  \n",
      "1             False             0              Dusti  \n",
      "2             False             0              Lucas  \n",
      "3             False             0              Nancy  \n",
      "4             False             0              Jonat  \n"
     ]
    }
   ],
   "source": [
    "# Example 6: Extracting the first 5 characters from 'Text' column\n",
    "df['First_5_Characters'] = df['Text'].str[:5]\n",
    "print(\"\\nExample 6:\")\n",
    "print(\"DataFrame with the first 5 characters extracted from 'Text':\")\n",
    "print(df)"
   ]
  }
 ],
 "metadata": {
  "kernelspec": {
   "display_name": "Python 3",
   "language": "python",
   "name": "python3"
  },
  "language_info": {
   "codemirror_mode": {
    "name": "ipython",
    "version": 3
   },
   "file_extension": ".py",
   "mimetype": "text/x-python",
   "name": "python",
   "nbconvert_exporter": "python",
   "pygments_lexer": "ipython3",
   "version": "3.11.2"
  },
  "orig_nbformat": 4
 },
 "nbformat": 4,
 "nbformat_minor": 2
}
