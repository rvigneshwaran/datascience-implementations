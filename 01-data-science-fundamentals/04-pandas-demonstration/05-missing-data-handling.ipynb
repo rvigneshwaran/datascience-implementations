{
 "cells": [
  {
   "cell_type": "code",
   "execution_count": 1,
   "metadata": {},
   "outputs": [],
   "source": [
    "import pandas as pd\n",
    "import numpy as np"
   ]
  },
  {
   "cell_type": "code",
   "execution_count": 2,
   "metadata": {},
   "outputs": [],
   "source": [
    "# Creating a DataFrame for Game of Thrones characters with missing data\n",
    "data = {\n",
    "    'Name': ['Jon Snow', 'Daenerys Targaryen', 'Tyrion Lannister', 'Arya Stark', 'Cersei Lannister'],\n",
    "    'House': ['Stark', 'Targaryen', np.nan, 'Stark', 'Lannister'],\n",
    "    'Allegiance': ['Night\\'s Watch', np.nan, 'House Lannister', 'House Stark', 'House Lannister'],\n",
    "    'Status': ['Alive', 'Deceased', 'Alive', np.nan, 'Deceased'],\n",
    "    'Age': [30, np.nan, 38, 20, 42]\n",
    "}"
   ]
  },
  {
   "cell_type": "code",
   "execution_count": 3,
   "metadata": {},
   "outputs": [
    {
     "name": "stdout",
     "output_type": "stream",
     "text": [
      "Game of Thrones Characters DataFrame with Missing Data:\n",
      "                 Name      House       Allegiance    Status   Age\n",
      "0            Jon Snow      Stark    Night's Watch     Alive  30.0\n",
      "1  Daenerys Targaryen  Targaryen              NaN  Deceased   NaN\n",
      "2    Tyrion Lannister        NaN  House Lannister     Alive  38.0\n",
      "3          Arya Stark      Stark      House Stark       NaN  20.0\n",
      "4    Cersei Lannister  Lannister  House Lannister  Deceased  42.0\n"
     ]
    }
   ],
   "source": [
    "got_df = pd.DataFrame(data)\n",
    "print(\"Game of Thrones Characters DataFrame with Missing Data:\")\n",
    "print(got_df)"
   ]
  },
  {
   "cell_type": "code",
   "execution_count": 4,
   "metadata": {},
   "outputs": [
    {
     "name": "stdout",
     "output_type": "stream",
     "text": [
      "\n",
      "Example 1: Checking for missing values in the DataFrame:\n",
      "    Name  House  Allegiance  Status    Age\n",
      "0  False  False       False   False  False\n",
      "1  False  False        True   False   True\n",
      "2  False   True       False   False  False\n",
      "3  False  False       False    True  False\n",
      "4  False  False       False   False  False\n"
     ]
    }
   ],
   "source": [
    "# Example 1: Checking for missing values in the DataFrame\n",
    "print(\"\\nExample 1: Checking for missing values in the DataFrame:\")\n",
    "print(got_df.isnull())"
   ]
  },
  {
   "cell_type": "code",
   "execution_count": 5,
   "metadata": {},
   "outputs": [
    {
     "name": "stdout",
     "output_type": "stream",
     "text": [
      "\n",
      "Example 2: Counting the number of missing values in each column:\n",
      "Name          0\n",
      "House         1\n",
      "Allegiance    1\n",
      "Status        1\n",
      "Age           1\n",
      "dtype: int64\n"
     ]
    }
   ],
   "source": [
    "# Example 2: Counting the number of missing values in each column\n",
    "print(\"\\nExample 2: Counting the number of missing values in each column:\")\n",
    "print(got_df.isnull().sum())"
   ]
  },
  {
   "cell_type": "code",
   "execution_count": 6,
   "metadata": {},
   "outputs": [
    {
     "name": "stdout",
     "output_type": "stream",
     "text": [
      "\n",
      "Example 3: Counting the total number of missing values in the DataFrame:\n",
      "4\n"
     ]
    }
   ],
   "source": [
    "# Example 3: Counting the total number of missing values in the DataFrame\n",
    "print(\"\\nExample 3: Counting the total number of missing values in the DataFrame:\")\n",
    "print(got_df.isnull().sum().sum())"
   ]
  },
  {
   "cell_type": "code",
   "execution_count": 7,
   "metadata": {},
   "outputs": [
    {
     "name": "stdout",
     "output_type": "stream",
     "text": [
      "\n",
      "Example 4: Dropping rows with any missing values:\n",
      "               Name      House       Allegiance    Status   Age\n",
      "0          Jon Snow      Stark    Night's Watch     Alive  30.0\n",
      "4  Cersei Lannister  Lannister  House Lannister  Deceased  42.0\n"
     ]
    }
   ],
   "source": [
    "# Example 4: Dropping rows with any missing values\n",
    "print(\"\\nExample 4: Dropping rows with any missing values:\")\n",
    "got_df_dropped = got_df.dropna()\n",
    "print(got_df_dropped)"
   ]
  },
  {
   "cell_type": "code",
   "execution_count": 8,
   "metadata": {},
   "outputs": [
    {
     "name": "stdout",
     "output_type": "stream",
     "text": [
      "\n",
      "Example 5: Dropping rows with all missing values:\n",
      "                 Name      House       Allegiance    Status   Age\n",
      "0            Jon Snow      Stark    Night's Watch     Alive  30.0\n",
      "1  Daenerys Targaryen  Targaryen              NaN  Deceased   NaN\n",
      "2    Tyrion Lannister        NaN  House Lannister     Alive  38.0\n",
      "3          Arya Stark      Stark      House Stark       NaN  20.0\n",
      "4    Cersei Lannister  Lannister  House Lannister  Deceased  42.0\n"
     ]
    }
   ],
   "source": [
    "# Example 5: Dropping rows with all missing values\n",
    "print(\"\\nExample 5: Dropping rows with all missing values:\")\n",
    "got_df_dropped_all = got_df.dropna(how='all')\n",
    "print(got_df_dropped_all)\n"
   ]
  },
  {
   "cell_type": "code",
   "execution_count": 9,
   "metadata": {},
   "outputs": [
    {
     "name": "stdout",
     "output_type": "stream",
     "text": [
      "\n",
      "Example 6: Dropping columns with any missing values:\n",
      "                 Name\n",
      "0            Jon Snow\n",
      "1  Daenerys Targaryen\n",
      "2    Tyrion Lannister\n",
      "3          Arya Stark\n",
      "4    Cersei Lannister\n"
     ]
    }
   ],
   "source": [
    "# Example 6: Dropping columns with any missing values\n",
    "print(\"\\nExample 6: Dropping columns with any missing values:\")\n",
    "got_df_dropped_columns = got_df.dropna(axis=1)\n",
    "print(got_df_dropped_columns)\n"
   ]
  },
  {
   "cell_type": "code",
   "execution_count": 10,
   "metadata": {},
   "outputs": [
    {
     "name": "stdout",
     "output_type": "stream",
     "text": [
      "\n",
      "Example 7: Dropping columns with all missing values:\n",
      "                 Name      House       Allegiance    Status   Age\n",
      "0            Jon Snow      Stark    Night's Watch     Alive  30.0\n",
      "1  Daenerys Targaryen  Targaryen              NaN  Deceased   NaN\n",
      "2    Tyrion Lannister        NaN  House Lannister     Alive  38.0\n",
      "3          Arya Stark      Stark      House Stark       NaN  20.0\n",
      "4    Cersei Lannister  Lannister  House Lannister  Deceased  42.0\n"
     ]
    }
   ],
   "source": [
    "# Example 7: Dropping columns with all missing values\n",
    "print(\"\\nExample 7: Dropping columns with all missing values:\")\n",
    "got_df_dropped_columns_all = got_df.dropna(axis=1, how='all')\n",
    "print(got_df_dropped_columns_all)"
   ]
  },
  {
   "cell_type": "code",
   "execution_count": 11,
   "metadata": {},
   "outputs": [
    {
     "name": "stdout",
     "output_type": "stream",
     "text": [
      "\n",
      "Example 8: Filling missing values with a specific value (House with 'Unknown'):\n",
      "                 Name      House       Allegiance    Status      Age\n",
      "0            Jon Snow      Stark    Night's Watch     Alive     30.0\n",
      "1  Daenerys Targaryen  Targaryen          Unknown  Deceased  Unknown\n",
      "2    Tyrion Lannister    Unknown  House Lannister     Alive     38.0\n",
      "3          Arya Stark      Stark      House Stark   Unknown     20.0\n",
      "4    Cersei Lannister  Lannister  House Lannister  Deceased     42.0\n"
     ]
    }
   ],
   "source": [
    "# Example 8: Filling missing values with a specific value\n",
    "print(\"\\nExample 8: Filling missing values with a specific value (House with 'Unknown'):\")\n",
    "got_df_filled = got_df.fillna(value='Unknown')\n",
    "print(got_df_filled)"
   ]
  },
  {
   "cell_type": "code",
   "execution_count": 12,
   "metadata": {},
   "outputs": [
    {
     "name": "stdout",
     "output_type": "stream",
     "text": [
      "\n",
      "Example 9: Filling missing values with the mean of the column (Age with mean age):\n",
      "                 Name      House       Allegiance    Status   Age\n",
      "0            Jon Snow      Stark    Night's Watch     Alive  30.0\n",
      "1  Daenerys Targaryen  Targaryen              NaN  Deceased  32.5\n",
      "2    Tyrion Lannister        NaN  House Lannister     Alive  38.0\n",
      "3          Arya Stark      Stark      House Stark       NaN  20.0\n",
      "4    Cersei Lannister  Lannister  House Lannister  Deceased  42.0\n"
     ]
    }
   ],
   "source": [
    "# Example 9: Filling missing values with the mean of the column\n",
    "print(\"\\nExample 9: Filling missing values with the mean of the column (Age with mean age):\")\n",
    "mean_age = got_df['Age'].mean()\n",
    "got_df_filled_age = got_df.fillna(value={'Age': mean_age})\n",
    "print(got_df_filled_age)\n"
   ]
  },
  {
   "cell_type": "code",
   "execution_count": 13,
   "metadata": {},
   "outputs": [
    {
     "name": "stdout",
     "output_type": "stream",
     "text": [
      "\n",
      "Example 10: Filling missing values with the forward fill method (ffill):\n",
      "                 Name      House       Allegiance    Status   Age\n",
      "0            Jon Snow      Stark    Night's Watch     Alive  30.0\n",
      "1  Daenerys Targaryen  Targaryen    Night's Watch  Deceased  30.0\n",
      "2    Tyrion Lannister  Targaryen  House Lannister     Alive  38.0\n",
      "3          Arya Stark      Stark      House Stark     Alive  20.0\n",
      "4    Cersei Lannister  Lannister  House Lannister  Deceased  42.0\n"
     ]
    }
   ],
   "source": [
    "# Example 10: Filling missing values with the forward fill method (ffill)\n",
    "print(\"\\nExample 10: Filling missing values with the forward fill method (ffill):\")\n",
    "got_df_ffill = got_df.fillna(method='ffill')\n",
    "print(got_df_ffill)"
   ]
  }
 ],
 "metadata": {
  "kernelspec": {
   "display_name": "Python 3",
   "language": "python",
   "name": "python3"
  },
  "language_info": {
   "codemirror_mode": {
    "name": "ipython",
    "version": 3
   },
   "file_extension": ".py",
   "mimetype": "text/x-python",
   "name": "python",
   "nbconvert_exporter": "python",
   "pygments_lexer": "ipython3",
   "version": "3.11.2"
  },
  "orig_nbformat": 4
 },
 "nbformat": 4,
 "nbformat_minor": 2
}
