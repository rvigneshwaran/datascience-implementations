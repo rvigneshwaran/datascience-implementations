{
 "cells": [
  {
   "cell_type": "code",
   "execution_count": 1,
   "metadata": {},
   "outputs": [],
   "source": [
    "import pandas as pd\n",
    "import numpy as np"
   ]
  },
  {
   "cell_type": "code",
   "execution_count": 2,
   "metadata": {},
   "outputs": [],
   "source": [
    "# Creating a DataFrame for Game of Thrones characters with missing data\n",
    "data = {\n",
    "    'Name': ['Jon Snow', 'Daenerys Targaryen', 'Tyrion Lannister', 'Arya Stark', 'Cersei Lannister'],\n",
    "    'House': ['Stark', 'Targaryen', np.nan, 'Stark', 'Lannister'],\n",
    "    'Allegiance': ['Night\\'s Watch', np.nan, 'House Lannister', 'House Stark', 'House Lannister'],\n",
    "    'Status': ['Alive', 'Deceased', 'Alive', np.nan, 'Deceased'],\n",
    "    'Age': [30, np.nan, 38, 20, 42]\n",
    "}"
   ]
  },
  {
   "cell_type": "code",
   "execution_count": 3,
   "metadata": {},
   "outputs": [
    {
     "name": "stdout",
     "output_type": "stream",
     "text": [
      "Game of Thrones Characters DataFrame with Missing Data:\n",
      "                 Name      House       Allegiance    Status   Age\n",
      "0            Jon Snow      Stark    Night's Watch     Alive  30.0\n",
      "1  Daenerys Targaryen  Targaryen              NaN  Deceased   NaN\n",
      "2    Tyrion Lannister        NaN  House Lannister     Alive  38.0\n",
      "3          Arya Stark      Stark      House Stark       NaN  20.0\n",
      "4    Cersei Lannister  Lannister  House Lannister  Deceased  42.0\n"
     ]
    }
   ],
   "source": [
    "got_df = pd.DataFrame(data)\n",
    "print(\"Game of Thrones Characters DataFrame with Missing Data:\")\n",
    "print(got_df)"
   ]
  },
  {
   "cell_type": "code",
   "execution_count": 4,
   "metadata": {},
   "outputs": [
    {
     "name": "stdout",
     "output_type": "stream",
     "text": [
      "\n",
      "Example 1: Checking for missing values in the DataFrame:\n",
      "    Name  House  Allegiance  Status    Age\n",
      "0  False  False       False   False  False\n",
      "1  False  False        True   False   True\n",
      "2  False   True       False   False  False\n",
      "3  False  False       False    True  False\n",
      "4  False  False       False   False  False\n"
     ]
    }
   ],
   "source": [
    "# Example 1: Checking for missing values in the DataFrame\n",
    "print(\"\\nExample 1: Checking for missing values in the DataFrame:\")\n",
    "print(got_df.isnull())"
   ]
  },
  {
   "cell_type": "code",
   "execution_count": 5,
   "metadata": {},
   "outputs": [
    {
     "name": "stdout",
     "output_type": "stream",
     "text": [
      "\n",
      "Example 2: Counting the number of missing values in each column:\n",
      "Name          0\n",
      "House         1\n",
      "Allegiance    1\n",
      "Status        1\n",
      "Age           1\n",
      "dtype: int64\n"
     ]
    }
   ],
   "source": [
    "# Example 2: Counting the number of missing values in each column\n",
    "print(\"\\nExample 2: Counting the number of missing values in each column:\")\n",
    "print(got_df.isnull().sum())"
   ]
  },
  {
   "cell_type": "code",
   "execution_count": 6,
   "metadata": {},
   "outputs": [
    {
     "name": "stdout",
     "output_type": "stream",
     "text": [
      "\n",
      "Example 3: Counting the total number of missing values in the DataFrame:\n",
      "4\n"
     ]
    }
   ],
   "source": [
    "# Example 3: Counting the total number of missing values in the DataFrame\n",
    "print(\"\\nExample 3: Counting the total number of missing values in the DataFrame:\")\n",
    "print(got_df.isnull().sum().sum())"
   ]
  },
  {
   "cell_type": "code",
   "execution_count": 7,
   "metadata": {},
   "outputs": [
    {
     "name": "stdout",
     "output_type": "stream",
     "text": [
      "\n",
      "Example 4: Dropping rows with any missing values:\n",
      "               Name      House       Allegiance    Status   Age\n",
      "0          Jon Snow      Stark    Night's Watch     Alive  30.0\n",
      "4  Cersei Lannister  Lannister  House Lannister  Deceased  42.0\n"
     ]
    }
   ],
   "source": [
    "# Example 4: Dropping rows with any missing values\n",
    "print(\"\\nExample 4: Dropping rows with any missing values:\")\n",
    "got_df_dropped = got_df.dropna()\n",
    "print(got_df_dropped)"
   ]
  }
 ],
 "metadata": {
  "kernelspec": {
   "display_name": "Python 3",
   "language": "python",
   "name": "python3"
  },
  "language_info": {
   "codemirror_mode": {
    "name": "ipython",
    "version": 3
   },
   "file_extension": ".py",
   "mimetype": "text/x-python",
   "name": "python",
   "nbconvert_exporter": "python",
   "pygments_lexer": "ipython3",
   "version": "3.11.2"
  },
  "orig_nbformat": 4
 },
 "nbformat": 4,
 "nbformat_minor": 2
}
