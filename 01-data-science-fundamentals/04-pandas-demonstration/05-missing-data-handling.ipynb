{
 "cells": [
  {
   "cell_type": "code",
   "execution_count": 1,
   "metadata": {},
   "outputs": [],
   "source": [
    "import pandas as pd\n",
    "import numpy as np"
   ]
  },
  {
   "cell_type": "code",
   "execution_count": 2,
   "metadata": {},
   "outputs": [],
   "source": [
    "# Creating a DataFrame for Game of Thrones characters with missing data\n",
    "data = {\n",
    "    'Name': ['Jon Snow', 'Daenerys Targaryen', 'Tyrion Lannister', 'Arya Stark', 'Cersei Lannister'],\n",
    "    'House': ['Stark', 'Targaryen', np.nan, 'Stark', 'Lannister'],\n",
    "    'Allegiance': ['Night\\'s Watch', np.nan, 'House Lannister', 'House Stark', 'House Lannister'],\n",
    "    'Status': ['Alive', 'Deceased', 'Alive', np.nan, 'Deceased'],\n",
    "    'Age': [30, np.nan, 38, 20, 42]\n",
    "}"
   ]
  },
  {
   "cell_type": "code",
   "execution_count": 3,
   "metadata": {},
   "outputs": [
    {
     "name": "stdout",
     "output_type": "stream",
     "text": [
      "Game of Thrones Characters DataFrame with Missing Data:\n",
      "                 Name      House       Allegiance    Status   Age\n",
      "0            Jon Snow      Stark    Night's Watch     Alive  30.0\n",
      "1  Daenerys Targaryen  Targaryen              NaN  Deceased   NaN\n",
      "2    Tyrion Lannister        NaN  House Lannister     Alive  38.0\n",
      "3          Arya Stark      Stark      House Stark       NaN  20.0\n",
      "4    Cersei Lannister  Lannister  House Lannister  Deceased  42.0\n"
     ]
    }
   ],
   "source": [
    "got_df = pd.DataFrame(data)\n",
    "print(\"Game of Thrones Characters DataFrame with Missing Data:\")\n",
    "print(got_df)"
   ]
  },
  {
   "cell_type": "code",
   "execution_count": 4,
   "metadata": {},
   "outputs": [
    {
     "name": "stdout",
     "output_type": "stream",
     "text": [
      "\n",
      "Example 1: Checking for missing values in the DataFrame:\n",
      "    Name  House  Allegiance  Status    Age\n",
      "0  False  False       False   False  False\n",
      "1  False  False        True   False   True\n",
      "2  False   True       False   False  False\n",
      "3  False  False       False    True  False\n",
      "4  False  False       False   False  False\n"
     ]
    }
   ],
   "source": [
    "# Example 1: Checking for missing values in the DataFrame\n",
    "print(\"\\nExample 1: Checking for missing values in the DataFrame:\")\n",
    "print(got_df.isnull())"
   ]
  },
  {
   "cell_type": "code",
   "execution_count": 5,
   "metadata": {},
   "outputs": [
    {
     "name": "stdout",
     "output_type": "stream",
     "text": [
      "\n",
      "Example 2: Counting the number of missing values in each column:\n",
      "Name          0\n",
      "House         1\n",
      "Allegiance    1\n",
      "Status        1\n",
      "Age           1\n",
      "dtype: int64\n"
     ]
    }
   ],
   "source": [
    "# Example 2: Counting the number of missing values in each column\n",
    "print(\"\\nExample 2: Counting the number of missing values in each column:\")\n",
    "print(got_df.isnull().sum())"
   ]
  },
  {
   "cell_type": "code",
   "execution_count": 6,
   "metadata": {},
   "outputs": [
    {
     "name": "stdout",
     "output_type": "stream",
     "text": [
      "\n",
      "Example 3: Counting the total number of missing values in the DataFrame:\n",
      "4\n"
     ]
    }
   ],
   "source": [
    "# Example 3: Counting the total number of missing values in the DataFrame\n",
    "print(\"\\nExample 3: Counting the total number of missing values in the DataFrame:\")\n",
    "print(got_df.isnull().sum().sum())"
   ]
  },
  {
   "cell_type": "code",
   "execution_count": 7,
   "metadata": {},
   "outputs": [
    {
     "name": "stdout",
     "output_type": "stream",
     "text": [
      "\n",
      "Example 4: Dropping rows with any missing values:\n",
      "               Name      House       Allegiance    Status   Age\n",
      "0          Jon Snow      Stark    Night's Watch     Alive  30.0\n",
      "4  Cersei Lannister  Lannister  House Lannister  Deceased  42.0\n"
     ]
    }
   ],
   "source": [
    "# Example 4: Dropping rows with any missing values\n",
    "print(\"\\nExample 4: Dropping rows with any missing values:\")\n",
    "got_df_dropped = got_df.dropna()\n",
    "print(got_df_dropped)"
   ]
  },
  {
   "cell_type": "code",
   "execution_count": 8,
   "metadata": {},
   "outputs": [
    {
     "name": "stdout",
     "output_type": "stream",
     "text": [
      "\n",
      "Example 5: Dropping rows with all missing values:\n",
      "                 Name      House       Allegiance    Status   Age\n",
      "0            Jon Snow      Stark    Night's Watch     Alive  30.0\n",
      "1  Daenerys Targaryen  Targaryen              NaN  Deceased   NaN\n",
      "2    Tyrion Lannister        NaN  House Lannister     Alive  38.0\n",
      "3          Arya Stark      Stark      House Stark       NaN  20.0\n",
      "4    Cersei Lannister  Lannister  House Lannister  Deceased  42.0\n"
     ]
    }
   ],
   "source": [
    "# Example 5: Dropping rows with all missing values\n",
    "print(\"\\nExample 5: Dropping rows with all missing values:\")\n",
    "got_df_dropped_all = got_df.dropna(how='all')\n",
    "print(got_df_dropped_all)\n"
   ]
  },
  {
   "cell_type": "code",
   "execution_count": 9,
   "metadata": {},
   "outputs": [
    {
     "name": "stdout",
     "output_type": "stream",
     "text": [
      "\n",
      "Example 6: Dropping columns with any missing values:\n",
      "                 Name\n",
      "0            Jon Snow\n",
      "1  Daenerys Targaryen\n",
      "2    Tyrion Lannister\n",
      "3          Arya Stark\n",
      "4    Cersei Lannister\n"
     ]
    }
   ],
   "source": [
    "# Example 6: Dropping columns with any missing values\n",
    "print(\"\\nExample 6: Dropping columns with any missing values:\")\n",
    "got_df_dropped_columns = got_df.dropna(axis=1)\n",
    "print(got_df_dropped_columns)\n"
   ]
  },
  {
   "cell_type": "code",
   "execution_count": 10,
   "metadata": {},
   "outputs": [
    {
     "name": "stdout",
     "output_type": "stream",
     "text": [
      "\n",
      "Example 7: Dropping columns with all missing values:\n",
      "                 Name      House       Allegiance    Status   Age\n",
      "0            Jon Snow      Stark    Night's Watch     Alive  30.0\n",
      "1  Daenerys Targaryen  Targaryen              NaN  Deceased   NaN\n",
      "2    Tyrion Lannister        NaN  House Lannister     Alive  38.0\n",
      "3          Arya Stark      Stark      House Stark       NaN  20.0\n",
      "4    Cersei Lannister  Lannister  House Lannister  Deceased  42.0\n"
     ]
    }
   ],
   "source": [
    "# Example 7: Dropping columns with all missing values\n",
    "print(\"\\nExample 7: Dropping columns with all missing values:\")\n",
    "got_df_dropped_columns_all = got_df.dropna(axis=1, how='all')\n",
    "print(got_df_dropped_columns_all)"
   ]
  },
  {
   "cell_type": "code",
   "execution_count": 11,
   "metadata": {},
   "outputs": [
    {
     "name": "stdout",
     "output_type": "stream",
     "text": [
      "\n",
      "Example 8: Filling missing values with a specific value (House with 'Unknown'):\n",
      "                 Name      House       Allegiance    Status      Age\n",
      "0            Jon Snow      Stark    Night's Watch     Alive     30.0\n",
      "1  Daenerys Targaryen  Targaryen          Unknown  Deceased  Unknown\n",
      "2    Tyrion Lannister    Unknown  House Lannister     Alive     38.0\n",
      "3          Arya Stark      Stark      House Stark   Unknown     20.0\n",
      "4    Cersei Lannister  Lannister  House Lannister  Deceased     42.0\n"
     ]
    }
   ],
   "source": [
    "# Example 8: Filling missing values with a specific value\n",
    "print(\"\\nExample 8: Filling missing values with a specific value (House with 'Unknown'):\")\n",
    "got_df_filled = got_df.fillna(value='Unknown')\n",
    "print(got_df_filled)"
   ]
  },
  {
   "cell_type": "code",
   "execution_count": 12,
   "metadata": {},
   "outputs": [
    {
     "name": "stdout",
     "output_type": "stream",
     "text": [
      "\n",
      "Example 9: Filling missing values with the mean of the column (Age with mean age):\n",
      "                 Name      House       Allegiance    Status   Age\n",
      "0            Jon Snow      Stark    Night's Watch     Alive  30.0\n",
      "1  Daenerys Targaryen  Targaryen              NaN  Deceased  32.5\n",
      "2    Tyrion Lannister        NaN  House Lannister     Alive  38.0\n",
      "3          Arya Stark      Stark      House Stark       NaN  20.0\n",
      "4    Cersei Lannister  Lannister  House Lannister  Deceased  42.0\n"
     ]
    }
   ],
   "source": [
    "# Example 9: Filling missing values with the mean of the column\n",
    "print(\"\\nExample 9: Filling missing values with the mean of the column (Age with mean age):\")\n",
    "mean_age = got_df['Age'].mean()\n",
    "got_df_filled_age = got_df.fillna(value={'Age': mean_age})\n",
    "print(got_df_filled_age)\n"
   ]
  },
  {
   "cell_type": "code",
   "execution_count": 13,
   "metadata": {},
   "outputs": [
    {
     "name": "stdout",
     "output_type": "stream",
     "text": [
      "\n",
      "Example 10: Filling missing values with the forward fill method (ffill):\n",
      "                 Name      House       Allegiance    Status   Age\n",
      "0            Jon Snow      Stark    Night's Watch     Alive  30.0\n",
      "1  Daenerys Targaryen  Targaryen    Night's Watch  Deceased  30.0\n",
      "2    Tyrion Lannister  Targaryen  House Lannister     Alive  38.0\n",
      "3          Arya Stark      Stark      House Stark     Alive  20.0\n",
      "4    Cersei Lannister  Lannister  House Lannister  Deceased  42.0\n"
     ]
    }
   ],
   "source": [
    "# Example 10: Filling missing values with the forward fill method (ffill)\n",
    "print(\"\\nExample 10: Filling missing values with the forward fill method (ffill):\")\n",
    "got_df_ffill = got_df.fillna(method='ffill')\n",
    "print(got_df_ffill)"
   ]
  },
  {
   "cell_type": "code",
   "execution_count": 14,
   "metadata": {},
   "outputs": [
    {
     "name": "stdout",
     "output_type": "stream",
     "text": [
      "\n",
      "Example 11: Filling missing values with the backward fill method (bfill):\n",
      "                 Name      House       Allegiance    Status   Age\n",
      "0            Jon Snow      Stark    Night's Watch     Alive  30.0\n",
      "1  Daenerys Targaryen  Targaryen  House Lannister  Deceased  38.0\n",
      "2    Tyrion Lannister      Stark  House Lannister     Alive  38.0\n",
      "3          Arya Stark      Stark      House Stark  Deceased  20.0\n",
      "4    Cersei Lannister  Lannister  House Lannister  Deceased  42.0\n"
     ]
    }
   ],
   "source": [
    "# Example 11: Filling missing values with the backward fill method (bfill)\n",
    "print(\"\\nExample 11: Filling missing values with the backward fill method (bfill):\")\n",
    "got_df_bfill = got_df.fillna(method='bfill')\n",
    "print(got_df_bfill)\n"
   ]
  },
  {
   "cell_type": "code",
   "execution_count": 15,
   "metadata": {},
   "outputs": [
    {
     "name": "stdout",
     "output_type": "stream",
     "text": [
      "\n",
      "Example 12: Interpolate missing values using linear interpolation method:\n",
      "                 Name      House       Allegiance    Status   Age\n",
      "0            Jon Snow      Stark    Night's Watch     Alive  30.0\n",
      "1  Daenerys Targaryen  Targaryen              NaN  Deceased  34.0\n",
      "2    Tyrion Lannister        NaN  House Lannister     Alive  38.0\n",
      "3          Arya Stark      Stark      House Stark       NaN  20.0\n",
      "4    Cersei Lannister  Lannister  House Lannister  Deceased  42.0\n"
     ]
    }
   ],
   "source": [
    "# Example 12: Interpolate missing values using linear interpolation method\n",
    "print(\"\\nExample 12: Interpolate missing values using linear interpolation method:\")\n",
    "got_df_linear_interpolate = got_df.interpolate(method='linear')\n",
    "print(got_df_linear_interpolate)"
   ]
  },
  {
   "cell_type": "code",
   "execution_count": 16,
   "metadata": {},
   "outputs": [
    {
     "name": "stdout",
     "output_type": "stream",
     "text": [
      "\n",
      "Example 13: Interpolate missing values using polynomial interpolation method:\n",
      "                 Name      House       Allegiance    Status        Age\n",
      "0            Jon Snow      Stark    Night's Watch     Alive  30.000000\n",
      "1  Daenerys Targaryen  Targaryen              NaN  Deceased  44.210526\n",
      "2    Tyrion Lannister        NaN  House Lannister     Alive  38.000000\n",
      "3          Arya Stark      Stark      House Stark       NaN  20.000000\n",
      "4    Cersei Lannister  Lannister  House Lannister  Deceased  42.000000\n"
     ]
    }
   ],
   "source": [
    "# Example 13: Interpolate missing values using polynomial interpolation method\n",
    "print(\"\\nExample 13: Interpolate missing values using polynomial interpolation method:\")\n",
    "got_df_poly_interpolate = got_df.interpolate(method='polynomial', order=2)\n",
    "print(got_df_poly_interpolate)"
   ]
  },
  {
   "cell_type": "code",
   "execution_count": 17,
   "metadata": {},
   "outputs": [
    {
     "name": "stdout",
     "output_type": "stream",
     "text": [
      "\n",
      "Example 14: Interpolate missing values using time-based interpolation method:\n"
     ]
    },
    {
     "ename": "ValueError",
     "evalue": "time-weighted interpolation only works on Series or DataFrames with a DatetimeIndex",
     "output_type": "error",
     "traceback": [
      "\u001b[1;31m---------------------------------------------------------------------------\u001b[0m",
      "\u001b[1;31mValueError\u001b[0m                                Traceback (most recent call last)",
      "Cell \u001b[1;32mIn[17], line 3\u001b[0m\n\u001b[0;32m      1\u001b[0m \u001b[39m# Example 14: Interpolate missing values using time-based interpolation method\u001b[39;00m\n\u001b[0;32m      2\u001b[0m \u001b[39mprint\u001b[39m(\u001b[39m\"\u001b[39m\u001b[39m\\n\u001b[39;00m\u001b[39mExample 14: Interpolate missing values using time-based interpolation method:\u001b[39m\u001b[39m\"\u001b[39m)\n\u001b[1;32m----> 3\u001b[0m got_df_time_interpolate \u001b[39m=\u001b[39m got_df\u001b[39m.\u001b[39;49minterpolate(method\u001b[39m=\u001b[39;49m\u001b[39m'\u001b[39;49m\u001b[39mtime\u001b[39;49m\u001b[39m'\u001b[39;49m)\n\u001b[0;32m      4\u001b[0m \u001b[39mprint\u001b[39m(got_df_time_interpolate)\n",
      "File \u001b[1;32mc:\\Program Files\\Python311\\Lib\\site-packages\\pandas\\util\\_decorators.py:331\u001b[0m, in \u001b[0;36mdeprecate_nonkeyword_arguments.<locals>.decorate.<locals>.wrapper\u001b[1;34m(*args, **kwargs)\u001b[0m\n\u001b[0;32m    325\u001b[0m \u001b[39mif\u001b[39;00m \u001b[39mlen\u001b[39m(args) \u001b[39m>\u001b[39m num_allow_args:\n\u001b[0;32m    326\u001b[0m     warnings\u001b[39m.\u001b[39mwarn(\n\u001b[0;32m    327\u001b[0m         msg\u001b[39m.\u001b[39mformat(arguments\u001b[39m=\u001b[39m_format_argument_list(allow_args)),\n\u001b[0;32m    328\u001b[0m         \u001b[39mFutureWarning\u001b[39;00m,\n\u001b[0;32m    329\u001b[0m         stacklevel\u001b[39m=\u001b[39mfind_stack_level(),\n\u001b[0;32m    330\u001b[0m     )\n\u001b[1;32m--> 331\u001b[0m \u001b[39mreturn\u001b[39;00m func(\u001b[39m*\u001b[39;49margs, \u001b[39m*\u001b[39;49m\u001b[39m*\u001b[39;49mkwargs)\n",
      "File \u001b[1;32mc:\\Program Files\\Python311\\Lib\\site-packages\\pandas\\core\\frame.py:11855\u001b[0m, in \u001b[0;36mDataFrame.interpolate\u001b[1;34m(self, method, axis, limit, inplace, limit_direction, limit_area, downcast, **kwargs)\u001b[0m\n\u001b[0;32m  11843\u001b[0m \u001b[39m@deprecate_nonkeyword_arguments\u001b[39m(version\u001b[39m=\u001b[39m\u001b[39mNone\u001b[39;00m, allowed_args\u001b[39m=\u001b[39m[\u001b[39m\"\u001b[39m\u001b[39mself\u001b[39m\u001b[39m\"\u001b[39m, \u001b[39m\"\u001b[39m\u001b[39mmethod\u001b[39m\u001b[39m\"\u001b[39m])\n\u001b[0;32m  11844\u001b[0m \u001b[39mdef\u001b[39;00m \u001b[39minterpolate\u001b[39m(\n\u001b[0;32m  11845\u001b[0m     \u001b[39mself\u001b[39m: DataFrame,\n\u001b[1;32m   (...)\u001b[0m\n\u001b[0;32m  11853\u001b[0m     \u001b[39m*\u001b[39m\u001b[39m*\u001b[39mkwargs,\n\u001b[0;32m  11854\u001b[0m ) \u001b[39m-\u001b[39m\u001b[39m>\u001b[39m DataFrame \u001b[39m|\u001b[39m \u001b[39mNone\u001b[39;00m:\n\u001b[1;32m> 11855\u001b[0m     \u001b[39mreturn\u001b[39;00m \u001b[39msuper\u001b[39;49m()\u001b[39m.\u001b[39;49minterpolate(\n\u001b[0;32m  11856\u001b[0m         method,\n\u001b[0;32m  11857\u001b[0m         axis,\n\u001b[0;32m  11858\u001b[0m         limit,\n\u001b[0;32m  11859\u001b[0m         inplace,\n\u001b[0;32m  11860\u001b[0m         limit_direction,\n\u001b[0;32m  11861\u001b[0m         limit_area,\n\u001b[0;32m  11862\u001b[0m         downcast,\n\u001b[0;32m  11863\u001b[0m         \u001b[39m*\u001b[39;49m\u001b[39m*\u001b[39;49mkwargs,\n\u001b[0;32m  11864\u001b[0m     )\n",
      "File \u001b[1;32mc:\\Program Files\\Python311\\Lib\\site-packages\\pandas\\core\\generic.py:7568\u001b[0m, in \u001b[0;36mNDFrame.interpolate\u001b[1;34m(self, method, axis, limit, inplace, limit_direction, limit_area, downcast, **kwargs)\u001b[0m\n\u001b[0;32m   7562\u001b[0m \u001b[39mif\u001b[39;00m isna(index)\u001b[39m.\u001b[39many():\n\u001b[0;32m   7563\u001b[0m     \u001b[39mraise\u001b[39;00m \u001b[39mNotImplementedError\u001b[39;00m(\n\u001b[0;32m   7564\u001b[0m         \u001b[39m\"\u001b[39m\u001b[39mInterpolation with NaNs in the index \u001b[39m\u001b[39m\"\u001b[39m\n\u001b[0;32m   7565\u001b[0m         \u001b[39m\"\u001b[39m\u001b[39mhas not been implemented. Try filling \u001b[39m\u001b[39m\"\u001b[39m\n\u001b[0;32m   7566\u001b[0m         \u001b[39m\"\u001b[39m\u001b[39mthose NaNs before interpolating.\u001b[39m\u001b[39m\"\u001b[39m\n\u001b[0;32m   7567\u001b[0m     )\n\u001b[1;32m-> 7568\u001b[0m new_data \u001b[39m=\u001b[39m obj\u001b[39m.\u001b[39;49m_mgr\u001b[39m.\u001b[39;49minterpolate(\n\u001b[0;32m   7569\u001b[0m     method\u001b[39m=\u001b[39;49mmethod,\n\u001b[0;32m   7570\u001b[0m     axis\u001b[39m=\u001b[39;49maxis,\n\u001b[0;32m   7571\u001b[0m     index\u001b[39m=\u001b[39;49mindex,\n\u001b[0;32m   7572\u001b[0m     limit\u001b[39m=\u001b[39;49mlimit,\n\u001b[0;32m   7573\u001b[0m     limit_direction\u001b[39m=\u001b[39;49mlimit_direction,\n\u001b[0;32m   7574\u001b[0m     limit_area\u001b[39m=\u001b[39;49mlimit_area,\n\u001b[0;32m   7575\u001b[0m     inplace\u001b[39m=\u001b[39;49minplace,\n\u001b[0;32m   7576\u001b[0m     downcast\u001b[39m=\u001b[39;49mdowncast,\n\u001b[0;32m   7577\u001b[0m     \u001b[39m*\u001b[39;49m\u001b[39m*\u001b[39;49mkwargs,\n\u001b[0;32m   7578\u001b[0m )\n\u001b[0;32m   7580\u001b[0m result \u001b[39m=\u001b[39m \u001b[39mself\u001b[39m\u001b[39m.\u001b[39m_constructor(new_data)\n\u001b[0;32m   7581\u001b[0m \u001b[39mif\u001b[39;00m should_transpose:\n",
      "File \u001b[1;32mc:\\Program Files\\Python311\\Lib\\site-packages\\pandas\\core\\internals\\managers.py:422\u001b[0m, in \u001b[0;36mBaseBlockManager.interpolate\u001b[1;34m(self, **kwargs)\u001b[0m\n\u001b[0;32m    421\u001b[0m \u001b[39mdef\u001b[39;00m \u001b[39minterpolate\u001b[39m(\u001b[39mself\u001b[39m: T, \u001b[39m*\u001b[39m\u001b[39m*\u001b[39mkwargs) \u001b[39m-\u001b[39m\u001b[39m>\u001b[39m T:\n\u001b[1;32m--> 422\u001b[0m     \u001b[39mreturn\u001b[39;00m \u001b[39mself\u001b[39;49m\u001b[39m.\u001b[39;49mapply(\u001b[39m\"\u001b[39;49m\u001b[39minterpolate\u001b[39;49m\u001b[39m\"\u001b[39;49m, \u001b[39m*\u001b[39;49m\u001b[39m*\u001b[39;49mkwargs)\n",
      "File \u001b[1;32mc:\\Program Files\\Python311\\Lib\\site-packages\\pandas\\core\\internals\\managers.py:352\u001b[0m, in \u001b[0;36mBaseBlockManager.apply\u001b[1;34m(self, f, align_keys, ignore_failures, **kwargs)\u001b[0m\n\u001b[0;32m    350\u001b[0m         applied \u001b[39m=\u001b[39m b\u001b[39m.\u001b[39mapply(f, \u001b[39m*\u001b[39m\u001b[39m*\u001b[39mkwargs)\n\u001b[0;32m    351\u001b[0m     \u001b[39melse\u001b[39;00m:\n\u001b[1;32m--> 352\u001b[0m         applied \u001b[39m=\u001b[39m \u001b[39mgetattr\u001b[39;49m(b, f)(\u001b[39m*\u001b[39;49m\u001b[39m*\u001b[39;49mkwargs)\n\u001b[0;32m    353\u001b[0m \u001b[39mexcept\u001b[39;00m (\u001b[39mTypeError\u001b[39;00m, \u001b[39mNotImplementedError\u001b[39;00m):\n\u001b[0;32m    354\u001b[0m     \u001b[39mif\u001b[39;00m \u001b[39mnot\u001b[39;00m ignore_failures:\n",
      "File \u001b[1;32mc:\\Program Files\\Python311\\Lib\\site-packages\\pandas\\core\\internals\\blocks.py:1258\u001b[0m, in \u001b[0;36mBlock.interpolate\u001b[1;34m(self, method, axis, index, inplace, limit, limit_direction, limit_area, fill_value, downcast, **kwargs)\u001b[0m\n\u001b[0;32m   1255\u001b[0m data \u001b[39m=\u001b[39m \u001b[39mself\u001b[39m\u001b[39m.\u001b[39mvalues \u001b[39mif\u001b[39;00m inplace \u001b[39melse\u001b[39;00m \u001b[39mself\u001b[39m\u001b[39m.\u001b[39mvalues\u001b[39m.\u001b[39mcopy()\n\u001b[0;32m   1256\u001b[0m data \u001b[39m=\u001b[39m cast(np\u001b[39m.\u001b[39mndarray, data)  \u001b[39m# bc overridden by ExtensionBlock\u001b[39;00m\n\u001b[1;32m-> 1258\u001b[0m missing\u001b[39m.\u001b[39;49minterpolate_array_2d(\n\u001b[0;32m   1259\u001b[0m     data,\n\u001b[0;32m   1260\u001b[0m     method\u001b[39m=\u001b[39;49mmethod,\n\u001b[0;32m   1261\u001b[0m     axis\u001b[39m=\u001b[39;49maxis,\n\u001b[0;32m   1262\u001b[0m     index\u001b[39m=\u001b[39;49mindex,\n\u001b[0;32m   1263\u001b[0m     limit\u001b[39m=\u001b[39;49mlimit,\n\u001b[0;32m   1264\u001b[0m     limit_direction\u001b[39m=\u001b[39;49mlimit_direction,\n\u001b[0;32m   1265\u001b[0m     limit_area\u001b[39m=\u001b[39;49mlimit_area,\n\u001b[0;32m   1266\u001b[0m     fill_value\u001b[39m=\u001b[39;49mfill_value,\n\u001b[0;32m   1267\u001b[0m     \u001b[39m*\u001b[39;49m\u001b[39m*\u001b[39;49mkwargs,\n\u001b[0;32m   1268\u001b[0m )\n\u001b[0;32m   1270\u001b[0m nb \u001b[39m=\u001b[39m \u001b[39mself\u001b[39m\u001b[39m.\u001b[39mmake_block_same_class(data)\n\u001b[0;32m   1271\u001b[0m \u001b[39mreturn\u001b[39;00m nb\u001b[39m.\u001b[39m_maybe_downcast([nb], downcast)\n",
      "File \u001b[1;32mc:\\Program Files\\Python311\\Lib\\site-packages\\pandas\\core\\missing.py:249\u001b[0m, in \u001b[0;36minterpolate_array_2d\u001b[1;34m(data, method, axis, index, limit, limit_direction, limit_area, fill_value, coerce, downcast, **kwargs)\u001b[0m\n\u001b[0;32m    246\u001b[0m \u001b[39melse\u001b[39;00m:\n\u001b[0;32m    247\u001b[0m     \u001b[39massert\u001b[39;00m index \u001b[39mis\u001b[39;00m \u001b[39mnot\u001b[39;00m \u001b[39mNone\u001b[39;00m  \u001b[39m# for mypy\u001b[39;00m\n\u001b[1;32m--> 249\u001b[0m     _interpolate_2d_with_fill(\n\u001b[0;32m    250\u001b[0m         data\u001b[39m=\u001b[39;49mdata,\n\u001b[0;32m    251\u001b[0m         index\u001b[39m=\u001b[39;49mindex,\n\u001b[0;32m    252\u001b[0m         axis\u001b[39m=\u001b[39;49maxis,\n\u001b[0;32m    253\u001b[0m         method\u001b[39m=\u001b[39;49mmethod,\n\u001b[0;32m    254\u001b[0m         limit\u001b[39m=\u001b[39;49mlimit,\n\u001b[0;32m    255\u001b[0m         limit_direction\u001b[39m=\u001b[39;49mlimit_direction,\n\u001b[0;32m    256\u001b[0m         limit_area\u001b[39m=\u001b[39;49mlimit_area,\n\u001b[0;32m    257\u001b[0m         fill_value\u001b[39m=\u001b[39;49mfill_value,\n\u001b[0;32m    258\u001b[0m         \u001b[39m*\u001b[39;49m\u001b[39m*\u001b[39;49mkwargs,\n\u001b[0;32m    259\u001b[0m     )\n\u001b[0;32m    260\u001b[0m \u001b[39mreturn\u001b[39;00m\n",
      "File \u001b[1;32mc:\\Program Files\\Python311\\Lib\\site-packages\\pandas\\core\\missing.py:292\u001b[0m, in \u001b[0;36m_interpolate_2d_with_fill\u001b[1;34m(data, index, axis, method, limit, limit_direction, limit_area, fill_value, **kwargs)\u001b[0m\n\u001b[0;32m    290\u001b[0m \u001b[39mif\u001b[39;00m method \u001b[39m==\u001b[39m \u001b[39m\"\u001b[39m\u001b[39mtime\u001b[39m\u001b[39m\"\u001b[39m:\n\u001b[0;32m    291\u001b[0m     \u001b[39mif\u001b[39;00m \u001b[39mnot\u001b[39;00m needs_i8_conversion(index\u001b[39m.\u001b[39mdtype):\n\u001b[1;32m--> 292\u001b[0m         \u001b[39mraise\u001b[39;00m \u001b[39mValueError\u001b[39;00m(\n\u001b[0;32m    293\u001b[0m             \u001b[39m\"\u001b[39m\u001b[39mtime-weighted interpolation only works \u001b[39m\u001b[39m\"\u001b[39m\n\u001b[0;32m    294\u001b[0m             \u001b[39m\"\u001b[39m\u001b[39mon Series or DataFrames with a \u001b[39m\u001b[39m\"\u001b[39m\n\u001b[0;32m    295\u001b[0m             \u001b[39m\"\u001b[39m\u001b[39mDatetimeIndex\u001b[39m\u001b[39m\"\u001b[39m\n\u001b[0;32m    296\u001b[0m         )\n\u001b[0;32m    297\u001b[0m     method \u001b[39m=\u001b[39m \u001b[39m\"\u001b[39m\u001b[39mvalues\u001b[39m\u001b[39m\"\u001b[39m\n\u001b[0;32m    299\u001b[0m valid_limit_directions \u001b[39m=\u001b[39m [\u001b[39m\"\u001b[39m\u001b[39mforward\u001b[39m\u001b[39m\"\u001b[39m, \u001b[39m\"\u001b[39m\u001b[39mbackward\u001b[39m\u001b[39m\"\u001b[39m, \u001b[39m\"\u001b[39m\u001b[39mboth\u001b[39m\u001b[39m\"\u001b[39m]\n",
      "\u001b[1;31mValueError\u001b[0m: time-weighted interpolation only works on Series or DataFrames with a DatetimeIndex"
     ]
    }
   ],
   "source": [
    "# Example 14: Interpolate missing values using time-based interpolation method\n",
    "print(\"\\nExample 14: Interpolate missing values using time-based interpolation method:\")\n",
    "got_df_time_interpolate = got_df.interpolate(method='time')\n",
    "print(got_df_time_interpolate)"
   ]
  },
  {
   "cell_type": "code",
   "execution_count": 18,
   "metadata": {},
   "outputs": [
    {
     "name": "stdout",
     "output_type": "stream",
     "text": [
      "\n",
      "Example 15: Replacing missing values with the mean of each House:\n",
      "    Age\n",
      "0  30.0\n",
      "1   NaN\n",
      "2   NaN\n",
      "3  20.0\n",
      "4  42.0\n"
     ]
    },
    {
     "name": "stderr",
     "output_type": "stream",
     "text": [
      "C:\\Users\\rvign\\AppData\\Local\\Temp\\ipykernel_16096\\540313757.py:3: FutureWarning: Dropping invalid columns in DataFrameGroupBy.transform is deprecated. In a future version, a TypeError will be raised. Before calling .transform, select only columns which should be valid for the function.\n",
      "  got_df_mean_by_house = got_df.groupby('House').transform(lambda x: x.fillna(x.mean()))\n"
     ]
    }
   ],
   "source": [
    "# Example 15: Replacing missing values with the mean of each House\n",
    "print(\"\\nExample 15: Replacing missing values with the mean of each House:\")\n",
    "got_df_mean_by_house = got_df.groupby('House').transform(lambda x: x.fillna(x.mean()))\n",
    "print(got_df_mean_by_house)"
   ]
  },
  {
   "cell_type": "code",
   "execution_count": 19,
   "metadata": {},
   "outputs": [
    {
     "name": "stdout",
     "output_type": "stream",
     "text": [
      "\n",
      "Example 16: Using forward fill method within each House group:\n",
      "                 Name       Allegiance    Status   Age\n",
      "0  Daenerys Targaryen              NaN  Deceased   NaN\n",
      "1    Cersei Lannister  House Lannister  Deceased  42.0\n",
      "2                 NaN              NaN       NaN   NaN\n",
      "3          Arya Stark      House Stark     Alive  20.0\n",
      "4            Jon Snow    Night's Watch     Alive  30.0\n"
     ]
    }
   ],
   "source": [
    "# Example 16: Using forward fill method within each House group\n",
    "print(\"\\nExample 16: Using forward fill method within each House group:\")\n",
    "got_df_ffill_by_house = got_df.groupby('House').fillna(method='ffill')\n",
    "print(got_df_ffill_by_house)"
   ]
  },
  {
   "cell_type": "code",
   "execution_count": 20,
   "metadata": {},
   "outputs": [
    {
     "name": "stdout",
     "output_type": "stream",
     "text": [
      "\n",
      "Example 17: Using backward fill method within each House group:\n",
      "                 Name       Allegiance    Status   Age\n",
      "0  Daenerys Targaryen              NaN  Deceased   NaN\n",
      "1    Cersei Lannister  House Lannister  Deceased  42.0\n",
      "2                 NaN              NaN       NaN   NaN\n",
      "3          Arya Stark      House Stark       NaN  20.0\n",
      "4            Jon Snow    Night's Watch     Alive  30.0\n"
     ]
    }
   ],
   "source": [
    "# Example 17: Using backward fill method within each House group\n",
    "print(\"\\nExample 17: Using backward fill method within each House group:\")\n",
    "got_df_bfill_by_house = got_df.groupby('House').fillna(method='bfill')\n",
    "print(got_df_bfill_by_house)"
   ]
  },
  {
   "cell_type": "code",
   "execution_count": 21,
   "metadata": {},
   "outputs": [
    {
     "name": "stdout",
     "output_type": "stream",
     "text": [
      "\n",
      "Example 18: Dropping rows with any missing values in specific columns:\n",
      "               Name      House       Allegiance    Status   Age\n",
      "0          Jon Snow      Stark    Night's Watch     Alive  30.0\n",
      "3        Arya Stark      Stark      House Stark       NaN  20.0\n",
      "4  Cersei Lannister  Lannister  House Lannister  Deceased  42.0\n"
     ]
    }
   ],
   "source": [
    "# Example 18: Dropping rows with any missing values in specific columns\n",
    "print(\"\\nExample 18: Dropping rows with any missing values in specific columns:\")\n",
    "got_df_dropped_specific_cols = got_df.dropna(subset=['House', 'Allegiance'])\n",
    "print(got_df_dropped_specific_cols)\n"
   ]
  },
  {
   "cell_type": "code",
   "execution_count": 22,
   "metadata": {},
   "outputs": [
    {
     "name": "stdout",
     "output_type": "stream",
     "text": [
      "\n",
      "Example 19: Dropping rows with all missing values in specific columns:\n",
      "                 Name      House       Allegiance    Status   Age\n",
      "0            Jon Snow      Stark    Night's Watch     Alive  30.0\n",
      "1  Daenerys Targaryen  Targaryen              NaN  Deceased   NaN\n",
      "2    Tyrion Lannister        NaN  House Lannister     Alive  38.0\n",
      "3          Arya Stark      Stark      House Stark       NaN  20.0\n",
      "4    Cersei Lannister  Lannister  House Lannister  Deceased  42.0\n"
     ]
    }
   ],
   "source": [
    "# Example 19: Dropping rows with all missing values in specific columns\n",
    "print(\"\\nExample 19: Dropping rows with all missing values in specific columns:\")\n",
    "got_df_dropped_all_specific_cols = got_df.dropna(subset=['House', 'Allegiance'], how='all')\n",
    "print(got_df_dropped_all_specific_cols)"
   ]
  },
  {
   "cell_type": "code",
   "execution_count": 23,
   "metadata": {},
   "outputs": [
    {
     "name": "stdout",
     "output_type": "stream",
     "text": [
      "\n",
      "Example 20: Filling missing values with the median of the column (Age with median age):\n",
      "                 Name      House       Allegiance    Status   Age\n",
      "0            Jon Snow      Stark    Night's Watch     Alive  30.0\n",
      "1  Daenerys Targaryen  Targaryen              NaN  Deceased  34.0\n",
      "2    Tyrion Lannister        NaN  House Lannister     Alive  38.0\n",
      "3          Arya Stark      Stark      House Stark       NaN  20.0\n",
      "4    Cersei Lannister  Lannister  House Lannister  Deceased  42.0\n"
     ]
    }
   ],
   "source": [
    "# Example 20: Filling missing values with the median of the column\n",
    "print(\"\\nExample 20: Filling missing values with the median of the column (Age with median age):\")\n",
    "median_age = got_df['Age'].median()\n",
    "got_df_filled_median_age = got_df.fillna(value={'Age': median_age})\n",
    "print(got_df_filled_median_age)\n"
   ]
  },
  {
   "cell_type": "code",
   "execution_count": 24,
   "metadata": {},
   "outputs": [
    {
     "name": "stdout",
     "output_type": "stream",
     "text": [
      "\n",
      "Example 21: Filling missing values with the mode of the column (House with mode House):\n",
      "                 Name      House       Allegiance    Status   Age\n",
      "0            Jon Snow      Stark    Night's Watch     Alive  30.0\n",
      "1  Daenerys Targaryen  Targaryen              NaN  Deceased   NaN\n",
      "2    Tyrion Lannister      Stark  House Lannister     Alive  38.0\n",
      "3          Arya Stark      Stark      House Stark       NaN  20.0\n",
      "4    Cersei Lannister  Lannister  House Lannister  Deceased  42.0\n"
     ]
    }
   ],
   "source": [
    "# Example 21: Filling missing values with the mode of the column\n",
    "print(\"\\nExample 21: Filling missing values with the mode of the column (House with mode House):\")\n",
    "mode_house = got_df['House'].mode().iloc[0]\n",
    "got_df_filled_mode_house = got_df.fillna(value={'House': mode_house})\n",
    "print(got_df_filled_mode_house)"
   ]
  },
  {
   "cell_type": "code",
   "execution_count": 25,
   "metadata": {},
   "outputs": [
    {
     "name": "stdout",
     "output_type": "stream",
     "text": [
      "\n",
      "Example 22: Filling missing values with the previous and next values using pad and backfill methods:\n",
      "                 Name      House       Allegiance    Status   Age\n",
      "0            Jon Snow      Stark    Night's Watch     Alive  30.0\n",
      "1  Daenerys Targaryen  Targaryen    Night's Watch  Deceased  30.0\n",
      "2    Tyrion Lannister  Targaryen  House Lannister     Alive  38.0\n",
      "3          Arya Stark      Stark      House Stark     Alive  20.0\n",
      "4    Cersei Lannister  Lannister  House Lannister  Deceased  42.0\n"
     ]
    }
   ],
   "source": [
    "# Example 22: Filling missing values with the previous and next values using pad and backfill methods\n",
    "print(\"\\nExample 22: Filling missing values with the previous and next values using pad and backfill methods:\")\n",
    "got_df_pad_backfill = got_df.fillna(method='pad').fillna(method='backfill')\n",
    "print(got_df_pad_backfill)"
   ]
  },
  {
   "cell_type": "code",
   "execution_count": 26,
   "metadata": {},
   "outputs": [
    {
     "name": "stdout",
     "output_type": "stream",
     "text": [
      "\n",
      "Example 23: Using the interpolate method with time index for missing values:\n",
      "                          Name      House       Allegiance    Status  \\\n",
      "2023-12-31            Jon Snow      Stark    Night's Watch     Alive   \n",
      "2024-12-31  Daenerys Targaryen  Targaryen              NaN  Deceased   \n",
      "2025-12-31    Tyrion Lannister        NaN  House Lannister     Alive   \n",
      "2026-12-31          Arya Stark      Stark      House Stark       NaN   \n",
      "2027-12-31    Cersei Lannister  Lannister  House Lannister  Deceased   \n",
      "\n",
      "                  Age  \n",
      "2023-12-31  30.000000  \n",
      "2024-12-31  34.005472  \n",
      "2025-12-31  38.000000  \n",
      "2026-12-31  20.000000  \n",
      "2027-12-31  42.000000  \n"
     ]
    }
   ],
   "source": [
    "# Example 23: Using the interpolate method with time index for missing values\n",
    "print(\"\\nExample 23: Using the interpolate method with time index for missing values:\")\n",
    "got_df_time_index = got_df.set_index(pd.date_range(start='2023-01-01', periods=5, freq='Y'))\n",
    "got_df_interpolated_time_index = got_df_time_index.interpolate(method='time')\n",
    "print(got_df_interpolated_time_index)"
   ]
  },
  {
   "cell_type": "code",
   "execution_count": 27,
   "metadata": {},
   "outputs": [
    {
     "name": "stdout",
     "output_type": "stream",
     "text": [
      "\n",
      "Example 24: Using the interpolate method with limit parameter for limiting consecutive interpolations:\n",
      "                 Name      House       Allegiance    Status   Age\n",
      "0            Jon Snow      Stark    Night's Watch     Alive  30.0\n",
      "1  Daenerys Targaryen  Targaryen              NaN  Deceased  34.0\n",
      "2    Tyrion Lannister        NaN  House Lannister     Alive  38.0\n",
      "3          Arya Stark      Stark      House Stark       NaN  20.0\n",
      "4    Cersei Lannister  Lannister  House Lannister  Deceased  42.0\n"
     ]
    }
   ],
   "source": [
    "# Example 24: Using the interpolate method with limit parameter for limiting consecutive interpolations\n",
    "print(\"\\nExample 24: Using the interpolate method with limit parameter for limiting consecutive interpolations:\")\n",
    "got_df_interpolate_limit = got_df.interpolate(limit=1)\n",
    "print(got_df_interpolate_limit)"
   ]
  },
  {
   "cell_type": "code",
   "execution_count": 28,
   "metadata": {},
   "outputs": [
    {
     "name": "stdout",
     "output_type": "stream",
     "text": [
      "\n",
      "Example 25: Using the interpolate method with limit_direction parameter for controlling interpolation direction:\n",
      "                 Name      House       Allegiance    Status   Age\n",
      "0            Jon Snow      Stark    Night's Watch     Alive  30.0\n",
      "1  Daenerys Targaryen  Targaryen              NaN  Deceased  34.0\n",
      "2    Tyrion Lannister        NaN  House Lannister     Alive  38.0\n",
      "3          Arya Stark      Stark      House Stark       NaN  20.0\n",
      "4    Cersei Lannister  Lannister  House Lannister  Deceased  42.0\n"
     ]
    }
   ],
   "source": [
    "# Example 25: Using the interpolate method with limit_direction parameter for controlling interpolation direction\n",
    "print(\"\\nExample 25: Using the interpolate method with limit_direction parameter for controlling interpolation direction:\")\n",
    "got_df_interpolate_direction = got_df.interpolate(limit_direction='backward')\n",
    "print(got_df_interpolate_direction)"
   ]
  }
 ],
 "metadata": {
  "kernelspec": {
   "display_name": "Python 3",
   "language": "python",
   "name": "python3"
  },
  "language_info": {
   "codemirror_mode": {
    "name": "ipython",
    "version": 3
   },
   "file_extension": ".py",
   "mimetype": "text/x-python",
   "name": "python",
   "nbconvert_exporter": "python",
   "pygments_lexer": "ipython3",
   "version": "3.11.2"
  },
  "orig_nbformat": 4
 },
 "nbformat": 4,
 "nbformat_minor": 2
}
