{
 "cells": [
  {
   "cell_type": "code",
   "execution_count": 1,
   "metadata": {},
   "outputs": [],
   "source": [
    "import pandas as pd\n"
   ]
  },
  {
   "cell_type": "code",
   "execution_count": 2,
   "metadata": {},
   "outputs": [],
   "source": [
    "# Sample data\n",
    "data = {\n",
    "    'Date': ['2023-01-01', '2023-01-01', '2023-01-02', '2023-01-02'],\n",
    "    'Category': ['A', 'B', 'A', 'B'],\n",
    "    'Value': [10, 15, 20, 25]\n",
    "}"
   ]
  },
  {
   "cell_type": "code",
   "execution_count": 3,
   "metadata": {},
   "outputs": [],
   "source": [
    "df = pd.DataFrame(data)\n",
    "df['Date'] = pd.to_datetime(df['Date'])"
   ]
  },
  {
   "cell_type": "code",
   "execution_count": 5,
   "metadata": {},
   "outputs": [
    {
     "name": "stdout",
     "output_type": "stream",
     "text": [
      "Scenario 1: Basic Pivot Table\n",
      "Category     A   B\n",
      "Date              \n",
      "2023-01-01  10  15\n",
      "2023-01-02  20  25\n"
     ]
    }
   ],
   "source": [
    "# Scenario 1: Basic Pivot Table\n",
    "pivot_table = df.pivot_table(index='Date', columns='Category', values='Value', aggfunc='sum')\n",
    "# Display the results\n",
    "print(\"Scenario 1: Basic Pivot Table\")\n",
    "print(pivot_table)\n"
   ]
  },
  {
   "cell_type": "code",
   "execution_count": 6,
   "metadata": {},
   "outputs": [
    {
     "name": "stdout",
     "output_type": "stream",
     "text": [
      "\n",
      "Scenario 2: Pivot Table with Multiple Aggregations\n",
      "           sum     mean    \n",
      "Category     A   B    A   B\n",
      "Date                       \n",
      "2023-01-01  10  15   10  15\n",
      "2023-01-02  20  25   20  25\n"
     ]
    }
   ],
   "source": [
    "# Scenario 2: Pivot Table with Multiple Aggregations\n",
    "pivot_table_multiagg = df.pivot_table(index='Date', columns='Category', values='Value', aggfunc=['sum', 'mean'])\n",
    "print(\"\\nScenario 2: Pivot Table with Multiple Aggregations\")\n",
    "print(pivot_table_multiagg)"
   ]
  },
  {
   "cell_type": "code",
   "execution_count": 8,
   "metadata": {},
   "outputs": [
    {
     "name": "stdout",
     "output_type": "stream",
     "text": [
      "\n",
      "Scenario 3: Pivot Table with Custom Aggregation Function\n",
      "Category    A  B\n",
      "Date            \n",
      "2023-01-01  0  0\n",
      "2023-01-02  0  0\n"
     ]
    }
   ],
   "source": [
    "# Scenario 3: Pivot Table with Custom Aggregation Function\n",
    "def custom_agg(series):\n",
    "    return series.max() - series.min()\n",
    "\n",
    "pivot_table_customagg = df.pivot_table(index='Date', columns='Category', values='Value', aggfunc=custom_agg)\n",
    "print(\"\\nScenario 3: Pivot Table with Custom Aggregation Function\")\n",
    "print(pivot_table_customagg)\n"
   ]
  },
  {
   "cell_type": "code",
   "execution_count": 9,
   "metadata": {},
   "outputs": [
    {
     "name": "stdout",
     "output_type": "stream",
     "text": [
      "\n",
      "Scenario 4: Pivot Table with Missing Values Handling\n",
      "Category     A   B\n",
      "Date              \n",
      "2023-01-01  10  15\n",
      "2023-01-02  20  25\n"
     ]
    }
   ],
   "source": [
    "# Scenario 4: Pivot Table with Missing Values Handling\n",
    "pivot_table_fillna = df.pivot_table(index='Date', columns='Category', values='Value', aggfunc='sum', fill_value=0)\n",
    "print(\"\\nScenario 4: Pivot Table with Missing Values Handling\")\n",
    "print(pivot_table_fillna)"
   ]
  },
  {
   "cell_type": "code",
   "execution_count": 10,
   "metadata": {},
   "outputs": [
    {
     "name": "stdout",
     "output_type": "stream",
     "text": [
      "\n",
      "Scenario 5: Pivot Table with Margin Totals\n",
      "Category              A   B  All\n",
      "Date                            \n",
      "2023-01-01 00:00:00  10  15   25\n",
      "2023-01-02 00:00:00  20  25   45\n",
      "All                  30  40   70\n"
     ]
    }
   ],
   "source": [
    "# Scenario 5: Pivot Table with Margin Totals\n",
    "pivot_table_margin = df.pivot_table(index='Date', columns='Category', values='Value', aggfunc='sum', margins=True)\n",
    "print(\"\\nScenario 5: Pivot Table with Margin Totals\")\n",
    "print(pivot_table_margin)"
   ]
  },
  {
   "cell_type": "code",
   "execution_count": 15,
   "metadata": {},
   "outputs": [],
   "source": [
    "# Sample data\n",
    "data = {\n",
    "    'Date': ['2023-01-01', '2023-01-01', '2023-01-02', '2023-01-02'],\n",
    "    'Category': ['A', 'B', 'A', 'B'],\n",
    "    'Value': [10, 15, 20, 25]\n",
    "}"
   ]
  },
  {
   "cell_type": "code",
   "execution_count": 17,
   "metadata": {},
   "outputs": [],
   "source": [
    "# Scenario 6: Pivot Table with Multi-level Index\n",
    "pivot_table_multiindex = df.pivot_table(index=['Date', 'Category'], values='Value', aggfunc='sum')\n"
   ]
  },
  {
   "cell_type": "code",
   "execution_count": 18,
   "metadata": {},
   "outputs": [],
   "source": [
    "# Scenario 7: Pivot Table with Stacking and Unstacking\n",
    "pivot_stacked = pivot_table_multiindex.stack()\n",
    "pivot_unstacked = pivot_stacked.unstack()"
   ]
  },
  {
   "cell_type": "code",
   "execution_count": 22,
   "metadata": {},
   "outputs": [],
   "source": [
    "# Scenario 8: Pivot Table with Column Renaming\n",
    "pivot_renamed = pivot_table_multiindex.rename(columns={'Value': 'TotalValue'})\n"
   ]
  },
  {
   "cell_type": "code",
   "execution_count": 25,
   "metadata": {},
   "outputs": [],
   "source": [
    "# Scenario 10: Pivot Table with Filtering on Rows and Columns\n",
    "pivot_filtered = pivot_table_multiindex.loc[pd.IndexSlice[:, ['A']], :]"
   ]
  },
  {
   "cell_type": "code",
   "execution_count": 30,
   "metadata": {},
   "outputs": [
    {
     "name": "stdout",
     "output_type": "stream",
     "text": [
      "Scenario 6: Pivot Table with Multi-level Index\n",
      "                     Value\n",
      "Date       Category       \n",
      "2023-01-01 A            10\n",
      "           B            15\n",
      "2023-01-02 A            20\n",
      "           B            25\n",
      "\n",
      "Scenario 7: Pivot Table with Stacking\n",
      "Date        Category       \n",
      "2023-01-01  A         Value    10\n",
      "            B         Value    15\n",
      "2023-01-02  A         Value    20\n",
      "            B         Value    25\n",
      "dtype: int64\n",
      "\n",
      "Scenario 7: Pivot Table with Unstacking\n",
      "                     Value\n",
      "Date       Category       \n",
      "2023-01-01 A            10\n",
      "           B            15\n",
      "2023-01-02 A            20\n",
      "           B            25\n",
      "\n",
      "Scenario 8: Pivot Table with Column Renaming\n",
      "                     TotalValue\n",
      "Date       Category            \n",
      "2023-01-01 A                 10\n",
      "           B                 15\n",
      "2023-01-02 A                 20\n",
      "           B                 25\n",
      "\n",
      "Scenario 10: Pivot Table with Filtering\n",
      "                     Value\n",
      "Date       Category       \n",
      "2023-01-01 A            10\n",
      "2023-01-02 A            20\n"
     ]
    }
   ],
   "source": [
    "# Display the results\n",
    "print(\"Scenario 6: Pivot Table with Multi-level Index\")\n",
    "print(pivot_table_multiindex)\n",
    "print(\"\\nScenario 7: Pivot Table with Stacking\")\n",
    "print(pivot_stacked)\n",
    "print(\"\\nScenario 7: Pivot Table with Unstacking\")\n",
    "print(pivot_unstacked)\n",
    "print(\"\\nScenario 8: Pivot Table with Column Renaming\")\n",
    "print(pivot_renamed)\n",
    "print(\"\\nScenario 10: Pivot Table with Filtering\")\n",
    "print(pivot_filtered)"
   ]
  },
  {
   "cell_type": "code",
   "execution_count": 31,
   "metadata": {},
   "outputs": [
    {
     "ename": "ValueError",
     "evalue": "bins must be of datetime64 dtype",
     "output_type": "error",
     "traceback": [
      "\u001b[1;31m---------------------------------------------------------------------------\u001b[0m",
      "\u001b[1;31mValueError\u001b[0m                                Traceback (most recent call last)",
      "Cell \u001b[1;32mIn[31], line 2\u001b[0m\n\u001b[0;32m      1\u001b[0m \u001b[39m# Scenario 11: Pivot Table with Custom Aggregation and Date Ranges\u001b[39;00m\n\u001b[1;32m----> 2\u001b[0m pivot_date_range \u001b[39m=\u001b[39m df\u001b[39m.\u001b[39mpivot_table(index\u001b[39m=\u001b[39mpd\u001b[39m.\u001b[39;49mcut(df[\u001b[39m'\u001b[39;49m\u001b[39mDate\u001b[39;49m\u001b[39m'\u001b[39;49m], bins\u001b[39m=\u001b[39;49m[\u001b[39m'\u001b[39;49m\u001b[39m2023-01-01\u001b[39;49m\u001b[39m'\u001b[39;49m, \u001b[39m'\u001b[39;49m\u001b[39m2023-01-02\u001b[39;49m\u001b[39m'\u001b[39;49m, \u001b[39m'\u001b[39;49m\u001b[39m2023-01-03\u001b[39;49m\u001b[39m'\u001b[39;49m]), columns\u001b[39m=\u001b[39m\u001b[39m'\u001b[39m\u001b[39mCategory\u001b[39m\u001b[39m'\u001b[39m, values\u001b[39m=\u001b[39m\u001b[39m'\u001b[39m\u001b[39mValue\u001b[39m\u001b[39m'\u001b[39m, aggfunc\u001b[39m=\u001b[39m\u001b[39m'\u001b[39m\u001b[39msum\u001b[39m\u001b[39m'\u001b[39m)\n\u001b[0;32m      3\u001b[0m \u001b[39mprint\u001b[39m(\u001b[39m\"\u001b[39m\u001b[39mScenario 11: Pivot Table with Custom Aggregation and Date Ranges\u001b[39m\u001b[39m\"\u001b[39m)\n\u001b[0;32m      4\u001b[0m \u001b[39mprint\u001b[39m(pivot_date_range)\n",
      "File \u001b[1;32mc:\\Program Files\\Python311\\Lib\\site-packages\\pandas\\core\\reshape\\tile.py:287\u001b[0m, in \u001b[0;36mcut\u001b[1;34m(x, bins, right, labels, retbins, precision, include_lowest, duplicates, ordered)\u001b[0m\n\u001b[0;32m    285\u001b[0m \u001b[39melse\u001b[39;00m:\n\u001b[0;32m    286\u001b[0m     bins \u001b[39m=\u001b[39m np\u001b[39m.\u001b[39masarray(bins)\n\u001b[1;32m--> 287\u001b[0m bins \u001b[39m=\u001b[39m _convert_bin_to_numeric_type(bins, dtype)\n\u001b[0;32m    289\u001b[0m \u001b[39m# GH 26045: cast to float64 to avoid an overflow\u001b[39;00m\n\u001b[0;32m    290\u001b[0m \u001b[39mif\u001b[39;00m (np\u001b[39m.\u001b[39mdiff(bins\u001b[39m.\u001b[39mastype(\u001b[39m\"\u001b[39m\u001b[39mfloat64\u001b[39m\u001b[39m\"\u001b[39m)) \u001b[39m<\u001b[39m \u001b[39m0\u001b[39m)\u001b[39m.\u001b[39many():\n",
      "File \u001b[1;32mc:\\Program Files\\Python311\\Lib\\site-packages\\pandas\\core\\reshape\\tile.py:533\u001b[0m, in \u001b[0;36m_convert_bin_to_numeric_type\u001b[1;34m(bins, dtype)\u001b[0m\n\u001b[0;32m    531\u001b[0m         bins \u001b[39m=\u001b[39m to_datetime(bins)\u001b[39m.\u001b[39mview(np\u001b[39m.\u001b[39mint64)\n\u001b[0;32m    532\u001b[0m     \u001b[39melse\u001b[39;00m:\n\u001b[1;32m--> 533\u001b[0m         \u001b[39mraise\u001b[39;00m \u001b[39mValueError\u001b[39;00m(\u001b[39m\"\u001b[39m\u001b[39mbins must be of datetime64 dtype\u001b[39m\u001b[39m\"\u001b[39m)\n\u001b[0;32m    535\u001b[0m \u001b[39mreturn\u001b[39;00m bins\n",
      "\u001b[1;31mValueError\u001b[0m: bins must be of datetime64 dtype"
     ]
    }
   ],
   "source": [
    "# Scenario 11: Pivot Table with Custom Aggregation and Date Ranges\n",
    "pivot_date_range = df.pivot_table(index=pd.cut(df['Date'], bins=['2023-01-01', '2023-01-02', '2023-01-03']), columns='Category', values='Value', aggfunc='sum')\n",
    "print(\"Scenario 11: Pivot Table with Custom Aggregation and Date Ranges\")\n",
    "print(pivot_date_range)"
   ]
  },
  {
   "cell_type": "code",
   "execution_count": 36,
   "metadata": {},
   "outputs": [
    {
     "name": "stdout",
     "output_type": "stream",
     "text": [
      "\n",
      "Scenario 12: Pivot Table with Categorical Data and Aggregation\n",
      "Category     A   B\n",
      "Date              \n",
      "2023-01-01  10  15\n",
      "2023-01-02  20  25\n"
     ]
    }
   ],
   "source": [
    "# Scenario 12: Pivot Table with Categorical Data and Aggregation\n",
    "df['Category'] = df['Category'].astype('category')\n",
    "pivot_categorical = df.pivot_table(index='Date', columns='Category', values='Value', aggfunc='sum')\n",
    "print(\"\\nScenario 12: Pivot Table with Categorical Data and Aggregation\")\n",
    "print(pivot_categorical)\n"
   ]
  },
  {
   "cell_type": "code",
   "execution_count": 37,
   "metadata": {},
   "outputs": [
    {
     "name": "stdout",
     "output_type": "stream",
     "text": [
      "\n",
      "Scenario 13: Pivot Table with Custom Function and Percentage of Total\n",
      "Category    A  B\n",
      "Date            \n",
      "2023-01-01  1  1\n",
      "2023-01-02  1  1\n"
     ]
    }
   ],
   "source": [
    "# Scenario 13: Pivot Table with Custom Function and Percentage of Total\n",
    "def pct_of_total(series):\n",
    "    return series / series.sum()\n",
    "\n",
    "pivot_pct_of_total = df.pivot_table(index='Date', columns='Category', values='Value', aggfunc=pct_of_total)\n",
    "print(\"\\nScenario 13: Pivot Table with Custom Function and Percentage of Total\")\n",
    "print(pivot_pct_of_total)\n"
   ]
  },
  {
   "cell_type": "code",
   "execution_count": 38,
   "metadata": {},
   "outputs": [
    {
     "name": "stdout",
     "output_type": "stream",
     "text": [
      "\n",
      "Scenario 14: Pivot Table with Grouping and Multi-level Index\n",
      "           Value    \n",
      "Category       A   B\n",
      "Date                \n",
      "2023-01-01    10  15\n",
      "2023-01-02    20  25\n"
     ]
    }
   ],
   "source": [
    "# Scenario 14: Pivot Table with Grouping and Multi-level Index\n",
    "pivot_grouped = df.groupby(['Date', 'Category']).sum().unstack()\n",
    "print(\"\\nScenario 14: Pivot Table with Grouping and Multi-level Index\")\n",
    "print(pivot_grouped)"
   ]
  },
  {
   "cell_type": "code",
   "execution_count": 39,
   "metadata": {},
   "outputs": [
    {
     "name": "stdout",
     "output_type": "stream",
     "text": [
      "\n",
      "Scenario 15: Pivot Table with Stacking (Alternate Method)\n",
      "                     Value\n",
      "Date       Category       \n",
      "2023-01-01 A            10\n",
      "           B            15\n",
      "2023-01-02 A            20\n",
      "           B            25\n",
      "\n",
      "Scenario 15: Pivot Table with Unstacking (Alternate Method)\n",
      "           Value    \n",
      "Category       A   B\n",
      "Date                \n",
      "2023-01-01    10  15\n",
      "2023-01-02    20  25\n"
     ]
    }
   ],
   "source": [
    "# Scenario 15: Pivot Table with Stacking and Unstacking (Alternate Method)\n",
    "pivot_stacked_alt = pivot_grouped.stack()\n",
    "pivot_unstacked_alt = pivot_stacked_alt.unstack()\n",
    "print(\"\\nScenario 15: Pivot Table with Stacking (Alternate Method)\")\n",
    "print(pivot_stacked_alt)\n",
    "print(\"\\nScenario 15: Pivot Table with Unstacking (Alternate Method)\")\n",
    "print(pivot_unstacked_alt)"
   ]
  },
  {
   "cell_type": "code",
   "execution_count": 40,
   "metadata": {},
   "outputs": [
    {
     "name": "stdout",
     "output_type": "stream",
     "text": [
      "Scenario 16: Pivot Table with Column Renaming\n",
      "            Category_A_Total  Category_B_Total\n",
      "Date                                          \n",
      "2023-01-01                10                15\n",
      "2023-01-02                20                25\n"
     ]
    }
   ],
   "source": [
    "# Scenario 16: Pivot Table with Column Renaming\n",
    "pivot_renamed = df.pivot_table(index='Date', columns='Category', values='Value', aggfunc='sum')\n",
    "pivot_renamed.columns = ['Category_A_Total', 'Category_B_Total']\n",
    "print(\"Scenario 16: Pivot Table with Column Renaming\")\n",
    "print(pivot_renamed)"
   ]
  },
  {
   "cell_type": "code",
   "execution_count": 41,
   "metadata": {},
   "outputs": [
    {
     "name": "stdout",
     "output_type": "stream",
     "text": [
      "\n",
      "Scenario 17: Pivot Table with Custom Sorting\n",
      "Category     B   A\n",
      "Date              \n",
      "2023-01-01  15  10\n",
      "2023-01-02  25  20\n"
     ]
    }
   ],
   "source": [
    "# Scenario 17: Pivot Table with Custom Sorting\n",
    "pivot_sorted = df.pivot_table(index='Date', columns='Category', values='Value', aggfunc='sum')\n",
    "pivot_sorted = pivot_sorted[['B', 'A']]\n",
    "print(\"\\nScenario 17: Pivot Table with Custom Sorting\")\n",
    "print(pivot_sorted)"
   ]
  },
  {
   "cell_type": "code",
   "execution_count": 42,
   "metadata": {},
   "outputs": [
    {
     "name": "stdout",
     "output_type": "stream",
     "text": [
      "\n",
      "Scenario 18: Pivot Table with Filtering on Rows and Columns\n",
      "Category     A\n",
      "Date          \n",
      "2023-01-01  10\n",
      "2023-01-02  20\n"
     ]
    }
   ],
   "source": [
    "# Scenario 18: Pivot Table with Filtering on Rows and Columns\n",
    "pivot_filtered = df.pivot_table(index='Date', columns='Category', values='Value', aggfunc='sum')\n",
    "pivot_filtered = pivot_filtered.loc[:, ['A']]\n",
    "print(\"\\nScenario 18: Pivot Table with Filtering on Rows and Columns\")\n",
    "print(pivot_filtered)"
   ]
  },
  {
   "cell_type": "code",
   "execution_count": 43,
   "metadata": {},
   "outputs": [
    {
     "data": {
      "image/png": "[encoded data removed]",
      "text/plain": [
       "<Figure size 640x480 with 2 Axes>"
      ]
     },
     "metadata": {},
     "output_type": "display_data"
    }
   ],
   "source": [
    "# Scenario 19: Pivot Table with Heatmap Visualization\n",
    "import seaborn as sns\n",
    "import matplotlib.pyplot as plt\n",
    "\n",
    "pivot_heatmap = df.pivot_table(index='Date', columns='Category', values='Value', aggfunc='sum')\n",
    "sns.heatmap(pivot_heatmap, annot=True, cmap='YlGnBu')\n",
    "plt.title('Pivot Table Heatmap')\n",
    "plt.show()"
   ]
  },
  {
   "cell_type": "code",
   "execution_count": 44,
   "metadata": {},
   "outputs": [
    {
     "name": "stdout",
     "output_type": "stream",
     "text": [
      "\n",
      "Scenario 20: Pivot Table with Time Resampling\n",
      "            Value\n",
      "Date             \n",
      "2023-01-01     25\n",
      "2023-01-02     45\n"
     ]
    },
    {
     "name": "stderr",
     "output_type": "stream",
     "text": [
      "C:\\Users\\rvign\\AppData\\Local\\Temp\\ipykernel_28948\\2320277220.py:3: FutureWarning: The default value of numeric_only in DataFrameGroupBy.sum is deprecated. In a future version, numeric_only will default to False. Either specify numeric_only or select only columns which should be valid for the function.\n",
      "  pivot_resampled = df.resample('D').sum()\n"
     ]
    }
   ],
   "source": [
    "# Scenario 20: Pivot Table with Time Resampling\n",
    "df.set_index('Date', inplace=True)\n",
    "pivot_resampled = df.resample('D').sum()\n",
    "print(\"\\nScenario 20: Pivot Table with Time Resampling\")\n",
    "print(pivot_resampled)"
   ]
  },
  {
   "cell_type": "code",
   "execution_count": 46,
   "metadata": {},
   "outputs": [
    {
     "name": "stdout",
     "output_type": "stream",
     "text": [
      "Scenario 21: Pivot Table with Rolling Aggregation\n",
      "Category       A     B\n",
      "Date                  \n",
      "2023-01-01   NaN   NaN\n",
      "2023-01-02  30.0  40.0\n"
     ]
    }
   ],
   "source": [
    "# Scenario 21: Pivot Table with Rolling Aggregation\n",
    "pivot_rolling = df.pivot_table(index='Date', columns='Category', values='Value', aggfunc='sum')\n",
    "pivot_rolling = pivot_rolling.rolling(window=2).sum()\n",
    "print(\"Scenario 21: Pivot Table with Rolling Aggregation\")\n",
    "print(pivot_rolling)"
   ]
  },
  {
   "cell_type": "code",
   "execution_count": 47,
   "metadata": {},
   "outputs": [
    {
     "name": "stdout",
     "output_type": "stream",
     "text": [
      "\n",
      "Scenario 22: Pivot Table with NaN Handling and Fill Methods\n",
      "Category       A   B\n",
      "Date                \n",
      "2023-01-01  10.0  15\n",
      "2023-01-02   0.0  25\n"
     ]
    }
   ],
   "source": [
    "# Scenario 22: Pivot Table with NaN Handling and Fill Methods\n",
    "pivot_nan = df.pivot_table(index='Date', columns='Category', values='Value', aggfunc='sum')\n",
    "pivot_nan.loc['2023-01-02', 'A'] = None\n",
    "pivot_filled = pivot_nan.fillna(0)\n",
    "print(\"\\nScenario 22: Pivot Table with NaN Handling and Fill Methods\")\n",
    "print(pivot_filled)"
   ]
  },
  {
   "cell_type": "code",
   "execution_count": 51,
   "metadata": {},
   "outputs": [
    {
     "data": {
      "text/html": [
       "<div>\n",
       "<style scoped>\n",
       "    .dataframe tbody tr th:only-of-type {\n",
       "        vertical-align: middle;\n",
       "    }\n",
       "\n",
       "    .dataframe tbody tr th {\n",
       "        vertical-align: top;\n",
       "    }\n",
       "\n",
       "    .dataframe thead th {\n",
       "        text-align: right;\n",
       "    }\n",
       "</style>\n",
       "<table border=\"1\" class=\"dataframe\">\n",
       "  <thead>\n",
       "    <tr style=\"text-align: right;\">\n",
       "      <th></th>\n",
       "      <th>Category</th>\n",
       "      <th>Value</th>\n",
       "    </tr>\n",
       "    <tr>\n",
       "      <th>Date</th>\n",
       "      <th></th>\n",
       "      <th></th>\n",
       "    </tr>\n",
       "  </thead>\n",
       "  <tbody>\n",
       "    <tr>\n",
       "      <th>2023-01-01</th>\n",
       "      <td>A</td>\n",
       "      <td>10</td>\n",
       "    </tr>\n",
       "    <tr>\n",
       "      <th>2023-01-01</th>\n",
       "      <td>B</td>\n",
       "      <td>15</td>\n",
       "    </tr>\n",
       "    <tr>\n",
       "      <th>2023-01-02</th>\n",
       "      <td>A</td>\n",
       "      <td>20</td>\n",
       "    </tr>\n",
       "    <tr>\n",
       "      <th>2023-01-02</th>\n",
       "      <td>B</td>\n",
       "      <td>25</td>\n",
       "    </tr>\n",
       "  </tbody>\n",
       "</table>\n",
       "</div>"
      ],
      "text/plain": [
       "           Category  Value\n",
       "Date                      \n",
       "2023-01-01        A     10\n",
       "2023-01-01        B     15\n",
       "2023-01-02        A     20\n",
       "2023-01-02        B     25"
      ]
     },
     "execution_count": 51,
     "metadata": {},
     "output_type": "execute_result"
    }
   ],
   "source": [
    "df.head(5)"
   ]
  },
  {
   "cell_type": "code",
   "execution_count": 48,
   "metadata": {},
   "outputs": [
    {
     "ename": "KeyError",
     "evalue": "'Date'",
     "output_type": "error",
     "traceback": [
      "\u001b[1;31m---------------------------------------------------------------------------\u001b[0m",
      "\u001b[1;31mKeyError\u001b[0m                                  Traceback (most recent call last)",
      "File \u001b[1;32mc:\\Program Files\\Python311\\Lib\\site-packages\\pandas\\core\\indexes\\base.py:3802\u001b[0m, in \u001b[0;36mIndex.get_loc\u001b[1;34m(self, key, method, tolerance)\u001b[0m\n\u001b[0;32m   3801\u001b[0m \u001b[39mtry\u001b[39;00m:\n\u001b[1;32m-> 3802\u001b[0m     \u001b[39mreturn\u001b[39;00m \u001b[39mself\u001b[39;49m\u001b[39m.\u001b[39;49m_engine\u001b[39m.\u001b[39;49mget_loc(casted_key)\n\u001b[0;32m   3803\u001b[0m \u001b[39mexcept\u001b[39;00m \u001b[39mKeyError\u001b[39;00m \u001b[39mas\u001b[39;00m err:\n",
      "File \u001b[1;32mc:\\Program Files\\Python311\\Lib\\site-packages\\pandas\\_libs\\index.pyx:138\u001b[0m, in \u001b[0;36mpandas._libs.index.IndexEngine.get_loc\u001b[1;34m()\u001b[0m\n",
      "File \u001b[1;32mc:\\Program Files\\Python311\\Lib\\site-packages\\pandas\\_libs\\index.pyx:165\u001b[0m, in \u001b[0;36mpandas._libs.index.IndexEngine.get_loc\u001b[1;34m()\u001b[0m\n",
      "File \u001b[1;32mpandas\\_libs\\hashtable_class_helper.pxi:5745\u001b[0m, in \u001b[0;36mpandas._libs.hashtable.PyObjectHashTable.get_item\u001b[1;34m()\u001b[0m\n",
      "File \u001b[1;32mpandas\\_libs\\hashtable_class_helper.pxi:5753\u001b[0m, in \u001b[0;36mpandas._libs.hashtable.PyObjectHashTable.get_item\u001b[1;34m()\u001b[0m\n",
      "\u001b[1;31mKeyError\u001b[0m: 'Date'",
      "\nThe above exception was the direct cause of the following exception:\n",
      "\u001b[1;31mKeyError\u001b[0m                                  Traceback (most recent call last)",
      "Cell \u001b[1;32mIn[48], line 2\u001b[0m\n\u001b[0;32m      1\u001b[0m \u001b[39m# Scenario 23: Pivot Table with Aggregation by Quarter and Year\u001b[39;00m\n\u001b[1;32m----> 2\u001b[0m pivot_quarterly \u001b[39m=\u001b[39m df\u001b[39m.\u001b[39mpivot_table(index\u001b[39m=\u001b[39mdf[\u001b[39m'\u001b[39;49m\u001b[39mDate\u001b[39;49m\u001b[39m'\u001b[39;49m]\u001b[39m.\u001b[39mdt\u001b[39m.\u001b[39mto_period(\u001b[39m'\u001b[39m\u001b[39mQ\u001b[39m\u001b[39m'\u001b[39m), columns\u001b[39m=\u001b[39m\u001b[39m'\u001b[39m\u001b[39mCategory\u001b[39m\u001b[39m'\u001b[39m, values\u001b[39m=\u001b[39m\u001b[39m'\u001b[39m\u001b[39mValue\u001b[39m\u001b[39m'\u001b[39m, aggfunc\u001b[39m=\u001b[39m\u001b[39m'\u001b[39m\u001b[39msum\u001b[39m\u001b[39m'\u001b[39m)\n\u001b[0;32m      3\u001b[0m pivot_yearly \u001b[39m=\u001b[39m df\u001b[39m.\u001b[39mpivot_table(index\u001b[39m=\u001b[39mdf[\u001b[39m'\u001b[39m\u001b[39mDate\u001b[39m\u001b[39m'\u001b[39m]\u001b[39m.\u001b[39mdt\u001b[39m.\u001b[39mto_period(\u001b[39m'\u001b[39m\u001b[39mY\u001b[39m\u001b[39m'\u001b[39m), columns\u001b[39m=\u001b[39m\u001b[39m'\u001b[39m\u001b[39mCategory\u001b[39m\u001b[39m'\u001b[39m, values\u001b[39m=\u001b[39m\u001b[39m'\u001b[39m\u001b[39mValue\u001b[39m\u001b[39m'\u001b[39m, aggfunc\u001b[39m=\u001b[39m\u001b[39m'\u001b[39m\u001b[39msum\u001b[39m\u001b[39m'\u001b[39m)\n\u001b[0;32m      4\u001b[0m \u001b[39mprint\u001b[39m(\u001b[39m\"\u001b[39m\u001b[39m\\n\u001b[39;00m\u001b[39mScenario 23: Pivot Table with Aggregation by Quarter\u001b[39m\u001b[39m\"\u001b[39m)\n",
      "File \u001b[1;32mc:\\Program Files\\Python311\\Lib\\site-packages\\pandas\\core\\frame.py:3807\u001b[0m, in \u001b[0;36mDataFrame.__getitem__\u001b[1;34m(self, key)\u001b[0m\n\u001b[0;32m   3805\u001b[0m \u001b[39mif\u001b[39;00m \u001b[39mself\u001b[39m\u001b[39m.\u001b[39mcolumns\u001b[39m.\u001b[39mnlevels \u001b[39m>\u001b[39m \u001b[39m1\u001b[39m:\n\u001b[0;32m   3806\u001b[0m     \u001b[39mreturn\u001b[39;00m \u001b[39mself\u001b[39m\u001b[39m.\u001b[39m_getitem_multilevel(key)\n\u001b[1;32m-> 3807\u001b[0m indexer \u001b[39m=\u001b[39m \u001b[39mself\u001b[39;49m\u001b[39m.\u001b[39;49mcolumns\u001b[39m.\u001b[39;49mget_loc(key)\n\u001b[0;32m   3808\u001b[0m \u001b[39mif\u001b[39;00m is_integer(indexer):\n\u001b[0;32m   3809\u001b[0m     indexer \u001b[39m=\u001b[39m [indexer]\n",
      "File \u001b[1;32mc:\\Program Files\\Python311\\Lib\\site-packages\\pandas\\core\\indexes\\base.py:3804\u001b[0m, in \u001b[0;36mIndex.get_loc\u001b[1;34m(self, key, method, tolerance)\u001b[0m\n\u001b[0;32m   3802\u001b[0m     \u001b[39mreturn\u001b[39;00m \u001b[39mself\u001b[39m\u001b[39m.\u001b[39m_engine\u001b[39m.\u001b[39mget_loc(casted_key)\n\u001b[0;32m   3803\u001b[0m \u001b[39mexcept\u001b[39;00m \u001b[39mKeyError\u001b[39;00m \u001b[39mas\u001b[39;00m err:\n\u001b[1;32m-> 3804\u001b[0m     \u001b[39mraise\u001b[39;00m \u001b[39mKeyError\u001b[39;00m(key) \u001b[39mfrom\u001b[39;00m \u001b[39merr\u001b[39;00m\n\u001b[0;32m   3805\u001b[0m \u001b[39mexcept\u001b[39;00m \u001b[39mTypeError\u001b[39;00m:\n\u001b[0;32m   3806\u001b[0m     \u001b[39m# If we have a listlike key, _check_indexing_error will raise\u001b[39;00m\n\u001b[0;32m   3807\u001b[0m     \u001b[39m#  InvalidIndexError. Otherwise we fall through and re-raise\u001b[39;00m\n\u001b[0;32m   3808\u001b[0m     \u001b[39m#  the TypeError.\u001b[39;00m\n\u001b[0;32m   3809\u001b[0m     \u001b[39mself\u001b[39m\u001b[39m.\u001b[39m_check_indexing_error(key)\n",
      "\u001b[1;31mKeyError\u001b[0m: 'Date'"
     ]
    }
   ],
   "source": [
    "# Scenario 23: Pivot Table with Aggregation by Quarter and Year\n",
    "pivot_quarterly = df.pivot_table(index=df['Date'].dt.to_period('Q'), columns='Category', values='Value', aggfunc='sum')\n",
    "pivot_yearly = df.pivot_table(index=df['Date'].dt.to_period('Y'), columns='Category', values='Value', aggfunc='sum')\n",
    "print(\"\\nScenario 23: Pivot Table with Aggregation by Quarter\")\n",
    "print(pivot_quarterly)"
   ]
  },
  {
   "cell_type": "code",
   "execution_count": 49,
   "metadata": {},
   "outputs": [
    {
     "ename": "KeyError",
     "evalue": "\"['Date'] not in index\"",
     "output_type": "error",
     "traceback": [
      "\u001b[1;31m---------------------------------------------------------------------------\u001b[0m",
      "\u001b[1;31mKeyError\u001b[0m                                  Traceback (most recent call last)",
      "Cell \u001b[1;32mIn[49], line 2\u001b[0m\n\u001b[0;32m      1\u001b[0m \u001b[39m# Scenario 24: Pivot Table with Grand Total Calculations\u001b[39;00m\n\u001b[1;32m----> 2\u001b[0m pivot_grand_total \u001b[39m=\u001b[39m df\u001b[39m.\u001b[39;49mpivot_table(index\u001b[39m=\u001b[39;49m\u001b[39m'\u001b[39;49m\u001b[39mDate\u001b[39;49m\u001b[39m'\u001b[39;49m, columns\u001b[39m=\u001b[39;49m\u001b[39m'\u001b[39;49m\u001b[39mCategory\u001b[39;49m\u001b[39m'\u001b[39;49m, values\u001b[39m=\u001b[39;49m\u001b[39m'\u001b[39;49m\u001b[39mValue\u001b[39;49m\u001b[39m'\u001b[39;49m, aggfunc\u001b[39m=\u001b[39;49m\u001b[39m'\u001b[39;49m\u001b[39msum\u001b[39;49m\u001b[39m'\u001b[39;49m, margins\u001b[39m=\u001b[39;49m\u001b[39mTrue\u001b[39;49;00m)\n\u001b[0;32m      3\u001b[0m \u001b[39mprint\u001b[39m(\u001b[39m\"\u001b[39m\u001b[39m\\n\u001b[39;00m\u001b[39mScenario 24: Pivot Table with Grand Total Calculations\u001b[39m\u001b[39m\"\u001b[39m)\n\u001b[0;32m      4\u001b[0m \u001b[39mprint\u001b[39m(pivot_grand_total)\n",
      "File \u001b[1;32mc:\\Program Files\\Python311\\Lib\\site-packages\\pandas\\core\\frame.py:8731\u001b[0m, in \u001b[0;36mDataFrame.pivot_table\u001b[1;34m(self, values, index, columns, aggfunc, fill_value, margins, dropna, margins_name, observed, sort)\u001b[0m\n\u001b[0;32m   8714\u001b[0m \u001b[39m@Substitution\u001b[39m(\u001b[39m\"\u001b[39m\u001b[39m\"\u001b[39m)\n\u001b[0;32m   8715\u001b[0m \u001b[39m@Appender\u001b[39m(_shared_docs[\u001b[39m\"\u001b[39m\u001b[39mpivot_table\u001b[39m\u001b[39m\"\u001b[39m])\n\u001b[0;32m   8716\u001b[0m \u001b[39mdef\u001b[39;00m \u001b[39mpivot_table\u001b[39m(\n\u001b[1;32m   (...)\u001b[0m\n\u001b[0;32m   8727\u001b[0m     sort\u001b[39m=\u001b[39m\u001b[39mTrue\u001b[39;00m,\n\u001b[0;32m   8728\u001b[0m ) \u001b[39m-\u001b[39m\u001b[39m>\u001b[39m DataFrame:\n\u001b[0;32m   8729\u001b[0m     \u001b[39mfrom\u001b[39;00m \u001b[39mpandas\u001b[39;00m\u001b[39m.\u001b[39;00m\u001b[39mcore\u001b[39;00m\u001b[39m.\u001b[39;00m\u001b[39mreshape\u001b[39;00m\u001b[39m.\u001b[39;00m\u001b[39mpivot\u001b[39;00m \u001b[39mimport\u001b[39;00m pivot_table\n\u001b[1;32m-> 8731\u001b[0m     \u001b[39mreturn\u001b[39;00m pivot_table(\n\u001b[0;32m   8732\u001b[0m         \u001b[39mself\u001b[39;49m,\n\u001b[0;32m   8733\u001b[0m         values\u001b[39m=\u001b[39;49mvalues,\n\u001b[0;32m   8734\u001b[0m         index\u001b[39m=\u001b[39;49mindex,\n\u001b[0;32m   8735\u001b[0m         columns\u001b[39m=\u001b[39;49mcolumns,\n\u001b[0;32m   8736\u001b[0m         aggfunc\u001b[39m=\u001b[39;49maggfunc,\n\u001b[0;32m   8737\u001b[0m         fill_value\u001b[39m=\u001b[39;49mfill_value,\n\u001b[0;32m   8738\u001b[0m         margins\u001b[39m=\u001b[39;49mmargins,\n\u001b[0;32m   8739\u001b[0m         dropna\u001b[39m=\u001b[39;49mdropna,\n\u001b[0;32m   8740\u001b[0m         margins_name\u001b[39m=\u001b[39;49mmargins_name,\n\u001b[0;32m   8741\u001b[0m         observed\u001b[39m=\u001b[39;49mobserved,\n\u001b[0;32m   8742\u001b[0m         sort\u001b[39m=\u001b[39;49msort,\n\u001b[0;32m   8743\u001b[0m     )\n",
      "File \u001b[1;32mc:\\Program Files\\Python311\\Lib\\site-packages\\pandas\\core\\reshape\\pivot.py:97\u001b[0m, in \u001b[0;36mpivot_table\u001b[1;34m(data, values, index, columns, aggfunc, fill_value, margins, dropna, margins_name, observed, sort)\u001b[0m\n\u001b[0;32m     94\u001b[0m     table \u001b[39m=\u001b[39m concat(pieces, keys\u001b[39m=\u001b[39mkeys, axis\u001b[39m=\u001b[39m\u001b[39m1\u001b[39m)\n\u001b[0;32m     95\u001b[0m     \u001b[39mreturn\u001b[39;00m table\u001b[39m.\u001b[39m__finalize__(data, method\u001b[39m=\u001b[39m\u001b[39m\"\u001b[39m\u001b[39mpivot_table\u001b[39m\u001b[39m\"\u001b[39m)\n\u001b[1;32m---> 97\u001b[0m table \u001b[39m=\u001b[39m __internal_pivot_table(\n\u001b[0;32m     98\u001b[0m     data,\n\u001b[0;32m     99\u001b[0m     values,\n\u001b[0;32m    100\u001b[0m     index,\n\u001b[0;32m    101\u001b[0m     columns,\n\u001b[0;32m    102\u001b[0m     aggfunc,\n\u001b[0;32m    103\u001b[0m     fill_value,\n\u001b[0;32m    104\u001b[0m     margins,\n\u001b[0;32m    105\u001b[0m     dropna,\n\u001b[0;32m    106\u001b[0m     margins_name,\n\u001b[0;32m    107\u001b[0m     observed,\n\u001b[0;32m    108\u001b[0m     sort,\n\u001b[0;32m    109\u001b[0m )\n\u001b[0;32m    110\u001b[0m \u001b[39mreturn\u001b[39;00m table\u001b[39m.\u001b[39m__finalize__(data, method\u001b[39m=\u001b[39m\u001b[39m\"\u001b[39m\u001b[39mpivot_table\u001b[39m\u001b[39m\"\u001b[39m)\n",
      "File \u001b[1;32mc:\\Program Files\\Python311\\Lib\\site-packages\\pandas\\core\\reshape\\pivot.py:243\u001b[0m, in \u001b[0;36m__internal_pivot_table\u001b[1;34m(data, values, index, columns, aggfunc, fill_value, margins, dropna, margins_name, observed, sort)\u001b[0m\n\u001b[0;32m    241\u001b[0m     \u001b[39mif\u001b[39;00m dropna:\n\u001b[0;32m    242\u001b[0m         data \u001b[39m=\u001b[39m data[data\u001b[39m.\u001b[39mnotna()\u001b[39m.\u001b[39mall(axis\u001b[39m=\u001b[39m\u001b[39m1\u001b[39m)]\n\u001b[1;32m--> 243\u001b[0m     table \u001b[39m=\u001b[39m _add_margins(\n\u001b[0;32m    244\u001b[0m         table,\n\u001b[0;32m    245\u001b[0m         data,\n\u001b[0;32m    246\u001b[0m         values,\n\u001b[0;32m    247\u001b[0m         rows\u001b[39m=\u001b[39;49mindex,\n\u001b[0;32m    248\u001b[0m         cols\u001b[39m=\u001b[39;49mcolumns,\n\u001b[0;32m    249\u001b[0m         aggfunc\u001b[39m=\u001b[39;49maggfunc,\n\u001b[0;32m    250\u001b[0m         observed\u001b[39m=\u001b[39;49mdropna,\n\u001b[0;32m    251\u001b[0m         margins_name\u001b[39m=\u001b[39;49mmargins_name,\n\u001b[0;32m    252\u001b[0m         fill_value\u001b[39m=\u001b[39;49mfill_value,\n\u001b[0;32m    253\u001b[0m     )\n\u001b[0;32m    255\u001b[0m \u001b[39m# discard the top level\u001b[39;00m\n\u001b[0;32m    256\u001b[0m \u001b[39mif\u001b[39;00m values_passed \u001b[39mand\u001b[39;00m \u001b[39mnot\u001b[39;00m values_multi \u001b[39mand\u001b[39;00m table\u001b[39m.\u001b[39mcolumns\u001b[39m.\u001b[39mnlevels \u001b[39m>\u001b[39m \u001b[39m1\u001b[39m:\n",
      "File \u001b[1;32mc:\\Program Files\\Python311\\Lib\\site-packages\\pandas\\core\\reshape\\pivot.py:307\u001b[0m, in \u001b[0;36m_add_margins\u001b[1;34m(table, data, values, rows, cols, aggfunc, observed, margins_name, fill_value)\u001b[0m\n\u001b[0;32m    304\u001b[0m     \u001b[39mreturn\u001b[39;00m table\u001b[39m.\u001b[39m_append(Series({key: grand_margin[margins_name]}))\n\u001b[0;32m    306\u001b[0m \u001b[39melif\u001b[39;00m values:\n\u001b[1;32m--> 307\u001b[0m     marginal_result_set \u001b[39m=\u001b[39m _generate_marginal_results(\n\u001b[0;32m    308\u001b[0m         table, data, values, rows, cols, aggfunc, observed, margins_name\n\u001b[0;32m    309\u001b[0m     )\n\u001b[0;32m    310\u001b[0m     \u001b[39mif\u001b[39;00m \u001b[39mnot\u001b[39;00m \u001b[39misinstance\u001b[39m(marginal_result_set, \u001b[39mtuple\u001b[39m):\n\u001b[0;32m    311\u001b[0m         \u001b[39mreturn\u001b[39;00m marginal_result_set\n",
      "File \u001b[1;32mc:\\Program Files\\Python311\\Lib\\site-packages\\pandas\\core\\reshape\\pivot.py:382\u001b[0m, in \u001b[0;36m_generate_marginal_results\u001b[1;34m(table, data, values, rows, cols, aggfunc, observed, margins_name)\u001b[0m\n\u001b[0;32m    379\u001b[0m     \u001b[39mreturn\u001b[39;00m (key, margins_name) \u001b[39m+\u001b[39m (\u001b[39m\"\u001b[39m\u001b[39m\"\u001b[39m,) \u001b[39m*\u001b[39m (\u001b[39mlen\u001b[39m(cols) \u001b[39m-\u001b[39m \u001b[39m1\u001b[39m)\n\u001b[0;32m    381\u001b[0m \u001b[39mif\u001b[39;00m \u001b[39mlen\u001b[39m(rows) \u001b[39m>\u001b[39m \u001b[39m0\u001b[39m:\n\u001b[1;32m--> 382\u001b[0m     margin \u001b[39m=\u001b[39m data[rows \u001b[39m+\u001b[39;49m values]\u001b[39m.\u001b[39mgroupby(rows, observed\u001b[39m=\u001b[39mobserved)\u001b[39m.\u001b[39magg(aggfunc)\n\u001b[0;32m    383\u001b[0m     cat_axis \u001b[39m=\u001b[39m \u001b[39m1\u001b[39m\n\u001b[0;32m    385\u001b[0m     \u001b[39mfor\u001b[39;00m key, piece \u001b[39min\u001b[39;00m table\u001b[39m.\u001b[39mgroupby(level\u001b[39m=\u001b[39m\u001b[39m0\u001b[39m, axis\u001b[39m=\u001b[39mcat_axis, observed\u001b[39m=\u001b[39mobserved):\n",
      "File \u001b[1;32mc:\\Program Files\\Python311\\Lib\\site-packages\\pandas\\core\\frame.py:3813\u001b[0m, in \u001b[0;36mDataFrame.__getitem__\u001b[1;34m(self, key)\u001b[0m\n\u001b[0;32m   3811\u001b[0m     \u001b[39mif\u001b[39;00m is_iterator(key):\n\u001b[0;32m   3812\u001b[0m         key \u001b[39m=\u001b[39m \u001b[39mlist\u001b[39m(key)\n\u001b[1;32m-> 3813\u001b[0m     indexer \u001b[39m=\u001b[39m \u001b[39mself\u001b[39;49m\u001b[39m.\u001b[39;49mcolumns\u001b[39m.\u001b[39;49m_get_indexer_strict(key, \u001b[39m\"\u001b[39;49m\u001b[39mcolumns\u001b[39;49m\u001b[39m\"\u001b[39;49m)[\u001b[39m1\u001b[39m]\n\u001b[0;32m   3815\u001b[0m \u001b[39m# take() does not accept boolean indexers\u001b[39;00m\n\u001b[0;32m   3816\u001b[0m \u001b[39mif\u001b[39;00m \u001b[39mgetattr\u001b[39m(indexer, \u001b[39m\"\u001b[39m\u001b[39mdtype\u001b[39m\u001b[39m\"\u001b[39m, \u001b[39mNone\u001b[39;00m) \u001b[39m==\u001b[39m \u001b[39mbool\u001b[39m:\n",
      "File \u001b[1;32mc:\\Program Files\\Python311\\Lib\\site-packages\\pandas\\core\\indexes\\base.py:6070\u001b[0m, in \u001b[0;36mIndex._get_indexer_strict\u001b[1;34m(self, key, axis_name)\u001b[0m\n\u001b[0;32m   6067\u001b[0m \u001b[39melse\u001b[39;00m:\n\u001b[0;32m   6068\u001b[0m     keyarr, indexer, new_indexer \u001b[39m=\u001b[39m \u001b[39mself\u001b[39m\u001b[39m.\u001b[39m_reindex_non_unique(keyarr)\n\u001b[1;32m-> 6070\u001b[0m \u001b[39mself\u001b[39;49m\u001b[39m.\u001b[39;49m_raise_if_missing(keyarr, indexer, axis_name)\n\u001b[0;32m   6072\u001b[0m keyarr \u001b[39m=\u001b[39m \u001b[39mself\u001b[39m\u001b[39m.\u001b[39mtake(indexer)\n\u001b[0;32m   6073\u001b[0m \u001b[39mif\u001b[39;00m \u001b[39misinstance\u001b[39m(key, Index):\n\u001b[0;32m   6074\u001b[0m     \u001b[39m# GH 42790 - Preserve name from an Index\u001b[39;00m\n",
      "File \u001b[1;32mc:\\Program Files\\Python311\\Lib\\site-packages\\pandas\\core\\indexes\\base.py:6133\u001b[0m, in \u001b[0;36mIndex._raise_if_missing\u001b[1;34m(self, key, indexer, axis_name)\u001b[0m\n\u001b[0;32m   6130\u001b[0m     \u001b[39mraise\u001b[39;00m \u001b[39mKeyError\u001b[39;00m(\u001b[39mf\u001b[39m\u001b[39m\"\u001b[39m\u001b[39mNone of [\u001b[39m\u001b[39m{\u001b[39;00mkey\u001b[39m}\u001b[39;00m\u001b[39m] are in the [\u001b[39m\u001b[39m{\u001b[39;00maxis_name\u001b[39m}\u001b[39;00m\u001b[39m]\u001b[39m\u001b[39m\"\u001b[39m)\n\u001b[0;32m   6132\u001b[0m not_found \u001b[39m=\u001b[39m \u001b[39mlist\u001b[39m(ensure_index(key)[missing_mask\u001b[39m.\u001b[39mnonzero()[\u001b[39m0\u001b[39m]]\u001b[39m.\u001b[39munique())\n\u001b[1;32m-> 6133\u001b[0m \u001b[39mraise\u001b[39;00m \u001b[39mKeyError\u001b[39;00m(\u001b[39mf\u001b[39m\u001b[39m\"\u001b[39m\u001b[39m{\u001b[39;00mnot_found\u001b[39m}\u001b[39;00m\u001b[39m not in index\u001b[39m\u001b[39m\"\u001b[39m)\n",
      "\u001b[1;31mKeyError\u001b[0m: \"['Date'] not in index\""
     ]
    }
   ],
   "source": [
    "# Scenario 24: Pivot Table with Grand Total Calculations\n",
    "pivot_grand_total = df.pivot_table(index='Date', columns='Category', values='Value', aggfunc='sum', margins=True)\n",
    "print(\"\\nScenario 24: Pivot Table with Grand Total Calculations\")\n",
    "print(pivot_grand_total)"
   ]
  },
  {
   "cell_type": "code",
   "execution_count": 50,
   "metadata": {},
   "outputs": [
    {
     "name": "stdout",
     "output_type": "stream",
     "text": [
      "\n",
      "Scenario 25: Pivot Table with Conditional Formatting\n"
     ]
    },
    {
     "data": {
      "text/html": [
       "<style type=\"text/css\">\n",
       "#T_9dbaf_row0_col1, #T_9dbaf_row1_col1 {\n",
       "  background-color: yellow;\n",
       "}\n",
       "</style>\n",
       "<table id=\"T_9dbaf\">\n",
       "  <thead>\n",
       "    <tr>\n",
       "      <th class=\"index_name level0\" >Category</th>\n",
       "      <th id=\"T_9dbaf_level0_col0\" class=\"col_heading level0 col0\" >A</th>\n",
       "      <th id=\"T_9dbaf_level0_col1\" class=\"col_heading level0 col1\" >B</th>\n",
       "    </tr>\n",
       "    <tr>\n",
       "      <th class=\"index_name level0\" >Date</th>\n",
       "      <th class=\"blank col0\" >&nbsp;</th>\n",
       "      <th class=\"blank col1\" >&nbsp;</th>\n",
       "    </tr>\n",
       "  </thead>\n",
       "  <tbody>\n",
       "    <tr>\n",
       "      <th id=\"T_9dbaf_level0_row0\" class=\"row_heading level0 row0\" >2023-01-01 00:00:00</th>\n",
       "      <td id=\"T_9dbaf_row0_col0\" class=\"data row0 col0\" >10</td>\n",
       "      <td id=\"T_9dbaf_row0_col1\" class=\"data row0 col1\" >15</td>\n",
       "    </tr>\n",
       "    <tr>\n",
       "      <th id=\"T_9dbaf_level0_row1\" class=\"row_heading level0 row1\" >2023-01-02 00:00:00</th>\n",
       "      <td id=\"T_9dbaf_row1_col0\" class=\"data row1 col0\" >20</td>\n",
       "      <td id=\"T_9dbaf_row1_col1\" class=\"data row1 col1\" >25</td>\n",
       "    </tr>\n",
       "  </tbody>\n",
       "</table>\n"
      ],
      "text/plain": [
       "<pandas.io.formats.style.Styler at 0x1fb612b0c90>"
      ]
     },
     "execution_count": 50,
     "metadata": {},
     "output_type": "execute_result"
    }
   ],
   "source": [
    "# Scenario 25: Pivot Table with Conditional Formatting\n",
    "pivot_formatted = df.pivot_table(index='Date', columns='Category', values='Value', aggfunc='sum')\n",
    "pivot_formatted = pivot_formatted.style.highlight_max(axis=1)\n",
    "print(\"\\nScenario 25: Pivot Table with Conditional Formatting\")\n",
    "# Styling applied when displaying the DataFrame\n",
    "pivot_formatted"
   ]
  },
  {
   "cell_type": "code",
   "execution_count": 53,
   "metadata": {},
   "outputs": [
    {
     "name": "stdout",
     "output_type": "stream",
     "text": [
      "Scenario 26: Pivot Table with Percentage Change Calculation\n",
      "Category      A         B\n",
      "Date                     \n",
      "2023-01-01  NaN       NaN\n",
      "2023-01-02  1.0  0.666667\n"
     ]
    }
   ],
   "source": [
    "# Scenario 26: Pivot Table with Percentage Change Calculation\n",
    "pivot_pct_change = df.pivot_table(index='Date', columns='Category', values='Value', aggfunc='sum')\n",
    "pivot_pct_change = pivot_pct_change.pct_change()\n",
    "print(\"Scenario 26: Pivot Table with Percentage Change Calculation\")\n",
    "print(pivot_pct_change)"
   ]
  },
  {
   "cell_type": "code",
   "execution_count": 54,
   "metadata": {},
   "outputs": [
    {
     "name": "stdout",
     "output_type": "stream",
     "text": [
      "\n",
      "Scenario 27: Pivot Table with Cumulative Sum\n",
      "Category     A   B\n",
      "Date              \n",
      "2023-01-01  10  15\n",
      "2023-01-02  30  40\n"
     ]
    }
   ],
   "source": [
    "# Scenario 27: Pivot Table with Cumulative Sum\n",
    "pivot_cumsum = df.pivot_table(index='Date', columns='Category', values='Value', aggfunc='sum')\n",
    "pivot_cumsum = pivot_cumsum.cumsum()\n",
    "print(\"\\nScenario 27: Pivot Table with Cumulative Sum\")\n",
    "print(pivot_cumsum)"
   ]
  },
  {
   "cell_type": "code",
   "execution_count": 55,
   "metadata": {},
   "outputs": [
    {
     "ename": "KeyError",
     "evalue": "'Date'",
     "output_type": "error",
     "traceback": [
      "\u001b[1;31m---------------------------------------------------------------------------\u001b[0m",
      "\u001b[1;31mKeyError\u001b[0m                                  Traceback (most recent call last)",
      "File \u001b[1;32mc:\\Program Files\\Python311\\Lib\\site-packages\\pandas\\core\\indexes\\base.py:3802\u001b[0m, in \u001b[0;36mIndex.get_loc\u001b[1;34m(self, key, method, tolerance)\u001b[0m\n\u001b[0;32m   3801\u001b[0m \u001b[39mtry\u001b[39;00m:\n\u001b[1;32m-> 3802\u001b[0m     \u001b[39mreturn\u001b[39;00m \u001b[39mself\u001b[39;49m\u001b[39m.\u001b[39;49m_engine\u001b[39m.\u001b[39;49mget_loc(casted_key)\n\u001b[0;32m   3803\u001b[0m \u001b[39mexcept\u001b[39;00m \u001b[39mKeyError\u001b[39;00m \u001b[39mas\u001b[39;00m err:\n",
      "File \u001b[1;32mc:\\Program Files\\Python311\\Lib\\site-packages\\pandas\\_libs\\index.pyx:138\u001b[0m, in \u001b[0;36mpandas._libs.index.IndexEngine.get_loc\u001b[1;34m()\u001b[0m\n",
      "File \u001b[1;32mc:\\Program Files\\Python311\\Lib\\site-packages\\pandas\\_libs\\index.pyx:165\u001b[0m, in \u001b[0;36mpandas._libs.index.IndexEngine.get_loc\u001b[1;34m()\u001b[0m\n",
      "File \u001b[1;32mpandas\\_libs\\hashtable_class_helper.pxi:5745\u001b[0m, in \u001b[0;36mpandas._libs.hashtable.PyObjectHashTable.get_item\u001b[1;34m()\u001b[0m\n",
      "File \u001b[1;32mpandas\\_libs\\hashtable_class_helper.pxi:5753\u001b[0m, in \u001b[0;36mpandas._libs.hashtable.PyObjectHashTable.get_item\u001b[1;34m()\u001b[0m\n",
      "\u001b[1;31mKeyError\u001b[0m: 'Date'",
      "\nThe above exception was the direct cause of the following exception:\n",
      "\u001b[1;31mKeyError\u001b[0m                                  Traceback (most recent call last)",
      "Cell \u001b[1;32mIn[55], line 2\u001b[0m\n\u001b[0;32m      1\u001b[0m \u001b[39m# Scenario 28: Pivot Table with Cross Tabulation\u001b[39;00m\n\u001b[1;32m----> 2\u001b[0m cross_tab \u001b[39m=\u001b[39m pd\u001b[39m.\u001b[39mcrosstab(index\u001b[39m=\u001b[39mdf[\u001b[39m'\u001b[39;49m\u001b[39mDate\u001b[39;49m\u001b[39m'\u001b[39;49m], columns\u001b[39m=\u001b[39mdf[\u001b[39m'\u001b[39m\u001b[39mCategory\u001b[39m\u001b[39m'\u001b[39m], values\u001b[39m=\u001b[39mdf[\u001b[39m'\u001b[39m\u001b[39mValue\u001b[39m\u001b[39m'\u001b[39m], aggfunc\u001b[39m=\u001b[39m\u001b[39m'\u001b[39m\u001b[39msum\u001b[39m\u001b[39m'\u001b[39m)\n\u001b[0;32m      3\u001b[0m \u001b[39mprint\u001b[39m(\u001b[39m\"\u001b[39m\u001b[39m\\n\u001b[39;00m\u001b[39mScenario 28: Pivot Table with Cross Tabulation\u001b[39m\u001b[39m\"\u001b[39m)\n\u001b[0;32m      4\u001b[0m \u001b[39mprint\u001b[39m(cross_tab)\n",
      "File \u001b[1;32mc:\\Program Files\\Python311\\Lib\\site-packages\\pandas\\core\\frame.py:3807\u001b[0m, in \u001b[0;36mDataFrame.__getitem__\u001b[1;34m(self, key)\u001b[0m\n\u001b[0;32m   3805\u001b[0m \u001b[39mif\u001b[39;00m \u001b[39mself\u001b[39m\u001b[39m.\u001b[39mcolumns\u001b[39m.\u001b[39mnlevels \u001b[39m>\u001b[39m \u001b[39m1\u001b[39m:\n\u001b[0;32m   3806\u001b[0m     \u001b[39mreturn\u001b[39;00m \u001b[39mself\u001b[39m\u001b[39m.\u001b[39m_getitem_multilevel(key)\n\u001b[1;32m-> 3807\u001b[0m indexer \u001b[39m=\u001b[39m \u001b[39mself\u001b[39;49m\u001b[39m.\u001b[39;49mcolumns\u001b[39m.\u001b[39;49mget_loc(key)\n\u001b[0;32m   3808\u001b[0m \u001b[39mif\u001b[39;00m is_integer(indexer):\n\u001b[0;32m   3809\u001b[0m     indexer \u001b[39m=\u001b[39m [indexer]\n",
      "File \u001b[1;32mc:\\Program Files\\Python311\\Lib\\site-packages\\pandas\\core\\indexes\\base.py:3804\u001b[0m, in \u001b[0;36mIndex.get_loc\u001b[1;34m(self, key, method, tolerance)\u001b[0m\n\u001b[0;32m   3802\u001b[0m     \u001b[39mreturn\u001b[39;00m \u001b[39mself\u001b[39m\u001b[39m.\u001b[39m_engine\u001b[39m.\u001b[39mget_loc(casted_key)\n\u001b[0;32m   3803\u001b[0m \u001b[39mexcept\u001b[39;00m \u001b[39mKeyError\u001b[39;00m \u001b[39mas\u001b[39;00m err:\n\u001b[1;32m-> 3804\u001b[0m     \u001b[39mraise\u001b[39;00m \u001b[39mKeyError\u001b[39;00m(key) \u001b[39mfrom\u001b[39;00m \u001b[39merr\u001b[39;00m\n\u001b[0;32m   3805\u001b[0m \u001b[39mexcept\u001b[39;00m \u001b[39mTypeError\u001b[39;00m:\n\u001b[0;32m   3806\u001b[0m     \u001b[39m# If we have a listlike key, _check_indexing_error will raise\u001b[39;00m\n\u001b[0;32m   3807\u001b[0m     \u001b[39m#  InvalidIndexError. Otherwise we fall through and re-raise\u001b[39;00m\n\u001b[0;32m   3808\u001b[0m     \u001b[39m#  the TypeError.\u001b[39;00m\n\u001b[0;32m   3809\u001b[0m     \u001b[39mself\u001b[39m\u001b[39m.\u001b[39m_check_indexing_error(key)\n",
      "\u001b[1;31mKeyError\u001b[0m: 'Date'"
     ]
    }
   ],
   "source": [
    "# Scenario 28: Pivot Table with Cross Tabulation\n",
    "cross_tab = pd.crosstab(index=df['Date'], columns=df['Category'], values=df['Value'], aggfunc='sum')\n",
    "print(\"\\nScenario 28: Pivot Table with Cross Tabulation\")\n",
    "print(cross_tab)"
   ]
  },
  {
   "cell_type": "code",
   "execution_count": null,
   "metadata": {},
   "outputs": [
    {
     "name": "stdout",
     "output_type": "stream",
     "text": [
      "Defaulting to user installation because normal site-packages is not writeable\n",
      "Collecting openpyxl\n",
      "  Downloading openpyxl-3.1.2-py2.py3-none-any.whl (249 kB)\n",
      "     -------------------------------------- 250.0/250.0 kB 3.8 MB/s eta 0:00:00\n",
      "Collecting et-xmlfile\n",
      "  Downloading et_xmlfile-1.1.0-py3-none-any.whl (4.7 kB)\n",
      "Installing collected packages: et-xmlfile, openpyxl\n",
      "Successfully installed et-xmlfile-1.1.0 openpyxl-3.1.2\n",
      "Note: you may need to restart the kernel to use updated packages.\n"
     ]
    },
    {
     "name": "stderr",
     "output_type": "stream",
     "text": [
      "\n",
      "[notice] A new release of pip available: 22.3.1 -> 23.2.1\n",
      "[notice] To update, run: python.exe -m pip install --upgrade pip\n"
     ]
    }
   ],
   "source": [
    "pip install openpyxl"
   ]
  },
  {
   "cell_type": "code",
   "execution_count": 58,
   "metadata": {},
   "outputs": [],
   "source": [
    "# Scenario 29: Pivot Table with Export to Excel or CSV\n",
    "pivot_export = df.pivot_table(index='Date', columns='Category', values='Value', aggfunc='sum')\n",
    "pivot_export.to_excel('output-contends/pivot_table.xlsx')\n",
    "pivot_export.to_csv('output-contends/pivot_table.csv')"
   ]
  }
 ],
 "metadata": {
  "kernelspec": {
   "display_name": "Python 3",
   "language": "python",
   "name": "python3"
  },
  "language_info": {
   "codemirror_mode": {
    "name": "ipython",
    "version": 3
   },
   "file_extension": ".py",
   "mimetype": "text/x-python",
   "name": "python",
   "nbconvert_exporter": "python",
   "pygments_lexer": "ipython3",
   "version": "3.11.2"
  },
  "orig_nbformat": 4
 },
 "nbformat": 4,
 "nbformat_minor": 2
}
