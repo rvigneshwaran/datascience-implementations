{
 "cells": [
  {
   "cell_type": "code",
   "execution_count": 1,
   "metadata": {},
   "outputs": [],
   "source": [
    "import pandas as pd\n"
   ]
  },
  {
   "cell_type": "code",
   "execution_count": 2,
   "metadata": {},
   "outputs": [],
   "source": [
    "# Sample data\n",
    "data = {\n",
    "    'Date': ['2023-01-01', '2023-01-01', '2023-01-02', '2023-01-02'],\n",
    "    'Category': ['A', 'B', 'A', 'B'],\n",
    "    'Value': [10, 15, 20, 25]\n",
    "}"
   ]
  },
  {
   "cell_type": "code",
   "execution_count": 3,
   "metadata": {},
   "outputs": [],
   "source": [
    "df = pd.DataFrame(data)\n",
    "df['Date'] = pd.to_datetime(df['Date'])"
   ]
  },
  {
   "cell_type": "code",
   "execution_count": 5,
   "metadata": {},
   "outputs": [
    {
     "name": "stdout",
     "output_type": "stream",
     "text": [
      "Scenario 1: Basic Pivot Table\n",
      "Category     A   B\n",
      "Date              \n",
      "2023-01-01  10  15\n",
      "2023-01-02  20  25\n"
     ]
    }
   ],
   "source": [
    "# Scenario 1: Basic Pivot Table\n",
    "pivot_table = df.pivot_table(index='Date', columns='Category', values='Value', aggfunc='sum')\n",
    "# Display the results\n",
    "print(\"Scenario 1: Basic Pivot Table\")\n",
    "print(pivot_table)\n"
   ]
  },
  {
   "cell_type": "code",
   "execution_count": 6,
   "metadata": {},
   "outputs": [
    {
     "name": "stdout",
     "output_type": "stream",
     "text": [
      "\n",
      "Scenario 2: Pivot Table with Multiple Aggregations\n",
      "           sum     mean    \n",
      "Category     A   B    A   B\n",
      "Date                       \n",
      "2023-01-01  10  15   10  15\n",
      "2023-01-02  20  25   20  25\n"
     ]
    }
   ],
   "source": [
    "# Scenario 2: Pivot Table with Multiple Aggregations\n",
    "pivot_table_multiagg = df.pivot_table(index='Date', columns='Category', values='Value', aggfunc=['sum', 'mean'])\n",
    "print(\"\\nScenario 2: Pivot Table with Multiple Aggregations\")\n",
    "print(pivot_table_multiagg)"
   ]
  },
  {
   "cell_type": "code",
   "execution_count": 8,
   "metadata": {},
   "outputs": [
    {
     "name": "stdout",
     "output_type": "stream",
     "text": [
      "\n",
      "Scenario 3: Pivot Table with Custom Aggregation Function\n",
      "Category    A  B\n",
      "Date            \n",
      "2023-01-01  0  0\n",
      "2023-01-02  0  0\n"
     ]
    }
   ],
   "source": [
    "# Scenario 3: Pivot Table with Custom Aggregation Function\n",
    "def custom_agg(series):\n",
    "    return series.max() - series.min()\n",
    "\n",
    "pivot_table_customagg = df.pivot_table(index='Date', columns='Category', values='Value', aggfunc=custom_agg)\n",
    "print(\"\\nScenario 3: Pivot Table with Custom Aggregation Function\")\n",
    "print(pivot_table_customagg)\n"
   ]
  },
  {
   "cell_type": "code",
   "execution_count": 9,
   "metadata": {},
   "outputs": [
    {
     "name": "stdout",
     "output_type": "stream",
     "text": [
      "\n",
      "Scenario 4: Pivot Table with Missing Values Handling\n",
      "Category     A   B\n",
      "Date              \n",
      "2023-01-01  10  15\n",
      "2023-01-02  20  25\n"
     ]
    }
   ],
   "source": [
    "# Scenario 4: Pivot Table with Missing Values Handling\n",
    "pivot_table_fillna = df.pivot_table(index='Date', columns='Category', values='Value', aggfunc='sum', fill_value=0)\n",
    "print(\"\\nScenario 4: Pivot Table with Missing Values Handling\")\n",
    "print(pivot_table_fillna)"
   ]
  },
  {
   "cell_type": "code",
   "execution_count": 10,
   "metadata": {},
   "outputs": [
    {
     "name": "stdout",
     "output_type": "stream",
     "text": [
      "\n",
      "Scenario 5: Pivot Table with Margin Totals\n",
      "Category              A   B  All\n",
      "Date                            \n",
      "2023-01-01 00:00:00  10  15   25\n",
      "2023-01-02 00:00:00  20  25   45\n",
      "All                  30  40   70\n"
     ]
    }
   ],
   "source": [
    "# Scenario 5: Pivot Table with Margin Totals\n",
    "pivot_table_margin = df.pivot_table(index='Date', columns='Category', values='Value', aggfunc='sum', margins=True)\n",
    "print(\"\\nScenario 5: Pivot Table with Margin Totals\")\n",
    "print(pivot_table_margin)"
   ]
  },
  {
   "cell_type": "code",
   "execution_count": 15,
   "metadata": {},
   "outputs": [],
   "source": [
    "# Sample data\n",
    "data = {\n",
    "    'Date': ['2023-01-01', '2023-01-01', '2023-01-02', '2023-01-02'],\n",
    "    'Category': ['A', 'B', 'A', 'B'],\n",
    "    'Value': [10, 15, 20, 25]\n",
    "}"
   ]
  },
  {
   "cell_type": "code",
   "execution_count": 17,
   "metadata": {},
   "outputs": [],
   "source": [
    "# Scenario 6: Pivot Table with Multi-level Index\n",
    "pivot_table_multiindex = df.pivot_table(index=['Date', 'Category'], values='Value', aggfunc='sum')\n"
   ]
  },
  {
   "cell_type": "code",
   "execution_count": 18,
   "metadata": {},
   "outputs": [],
   "source": [
    "# Scenario 7: Pivot Table with Stacking and Unstacking\n",
    "pivot_stacked = pivot_table_multiindex.stack()\n",
    "pivot_unstacked = pivot_stacked.unstack()"
   ]
  },
  {
   "cell_type": "code",
   "execution_count": 22,
   "metadata": {},
   "outputs": [],
   "source": [
    "# Scenario 8: Pivot Table with Column Renaming\n",
    "pivot_renamed = pivot_table_multiindex.rename(columns={'Value': 'TotalValue'})\n"
   ]
  },
  {
   "cell_type": "code",
   "execution_count": 25,
   "metadata": {},
   "outputs": [],
   "source": [
    "# Scenario 10: Pivot Table with Filtering on Rows and Columns\n",
    "pivot_filtered = pivot_table_multiindex.loc[pd.IndexSlice[:, ['A']], :]"
   ]
  },
  {
   "cell_type": "code",
   "execution_count": 30,
   "metadata": {},
   "outputs": [
    {
     "name": "stdout",
     "output_type": "stream",
     "text": [
      "Scenario 6: Pivot Table with Multi-level Index\n",
      "                     Value\n",
      "Date       Category       \n",
      "2023-01-01 A            10\n",
      "           B            15\n",
      "2023-01-02 A            20\n",
      "           B            25\n",
      "\n",
      "Scenario 7: Pivot Table with Stacking\n",
      "Date        Category       \n",
      "2023-01-01  A         Value    10\n",
      "            B         Value    15\n",
      "2023-01-02  A         Value    20\n",
      "            B         Value    25\n",
      "dtype: int64\n",
      "\n",
      "Scenario 7: Pivot Table with Unstacking\n",
      "                     Value\n",
      "Date       Category       \n",
      "2023-01-01 A            10\n",
      "           B            15\n",
      "2023-01-02 A            20\n",
      "           B            25\n",
      "\n",
      "Scenario 8: Pivot Table with Column Renaming\n",
      "                     TotalValue\n",
      "Date       Category            \n",
      "2023-01-01 A                 10\n",
      "           B                 15\n",
      "2023-01-02 A                 20\n",
      "           B                 25\n",
      "\n",
      "Scenario 10: Pivot Table with Filtering\n",
      "                     Value\n",
      "Date       Category       \n",
      "2023-01-01 A            10\n",
      "2023-01-02 A            20\n"
     ]
    }
   ],
   "source": [
    "# Display the results\n",
    "print(\"Scenario 6: Pivot Table with Multi-level Index\")\n",
    "print(pivot_table_multiindex)\n",
    "print(\"\\nScenario 7: Pivot Table with Stacking\")\n",
    "print(pivot_stacked)\n",
    "print(\"\\nScenario 7: Pivot Table with Unstacking\")\n",
    "print(pivot_unstacked)\n",
    "print(\"\\nScenario 8: Pivot Table with Column Renaming\")\n",
    "print(pivot_renamed)\n",
    "print(\"\\nScenario 10: Pivot Table with Filtering\")\n",
    "print(pivot_filtered)"
   ]
  },
  {
   "cell_type": "code",
   "execution_count": 31,
   "metadata": {},
   "outputs": [
    {
     "ename": "ValueError",
     "evalue": "bins must be of datetime64 dtype",
     "output_type": "error",
     "traceback": [
      "\u001b[1;31m---------------------------------------------------------------------------\u001b[0m",
      "\u001b[1;31mValueError\u001b[0m                                Traceback (most recent call last)",
      "Cell \u001b[1;32mIn[31], line 2\u001b[0m\n\u001b[0;32m      1\u001b[0m \u001b[39m# Scenario 11: Pivot Table with Custom Aggregation and Date Ranges\u001b[39;00m\n\u001b[1;32m----> 2\u001b[0m pivot_date_range \u001b[39m=\u001b[39m df\u001b[39m.\u001b[39mpivot_table(index\u001b[39m=\u001b[39mpd\u001b[39m.\u001b[39;49mcut(df[\u001b[39m'\u001b[39;49m\u001b[39mDate\u001b[39;49m\u001b[39m'\u001b[39;49m], bins\u001b[39m=\u001b[39;49m[\u001b[39m'\u001b[39;49m\u001b[39m2023-01-01\u001b[39;49m\u001b[39m'\u001b[39;49m, \u001b[39m'\u001b[39;49m\u001b[39m2023-01-02\u001b[39;49m\u001b[39m'\u001b[39;49m, \u001b[39m'\u001b[39;49m\u001b[39m2023-01-03\u001b[39;49m\u001b[39m'\u001b[39;49m]), columns\u001b[39m=\u001b[39m\u001b[39m'\u001b[39m\u001b[39mCategory\u001b[39m\u001b[39m'\u001b[39m, values\u001b[39m=\u001b[39m\u001b[39m'\u001b[39m\u001b[39mValue\u001b[39m\u001b[39m'\u001b[39m, aggfunc\u001b[39m=\u001b[39m\u001b[39m'\u001b[39m\u001b[39msum\u001b[39m\u001b[39m'\u001b[39m)\n\u001b[0;32m      3\u001b[0m \u001b[39mprint\u001b[39m(\u001b[39m\"\u001b[39m\u001b[39mScenario 11: Pivot Table with Custom Aggregation and Date Ranges\u001b[39m\u001b[39m\"\u001b[39m)\n\u001b[0;32m      4\u001b[0m \u001b[39mprint\u001b[39m(pivot_date_range)\n",
      "File \u001b[1;32mc:\\Program Files\\Python311\\Lib\\site-packages\\pandas\\core\\reshape\\tile.py:287\u001b[0m, in \u001b[0;36mcut\u001b[1;34m(x, bins, right, labels, retbins, precision, include_lowest, duplicates, ordered)\u001b[0m\n\u001b[0;32m    285\u001b[0m \u001b[39melse\u001b[39;00m:\n\u001b[0;32m    286\u001b[0m     bins \u001b[39m=\u001b[39m np\u001b[39m.\u001b[39masarray(bins)\n\u001b[1;32m--> 287\u001b[0m bins \u001b[39m=\u001b[39m _convert_bin_to_numeric_type(bins, dtype)\n\u001b[0;32m    289\u001b[0m \u001b[39m# GH 26045: cast to float64 to avoid an overflow\u001b[39;00m\n\u001b[0;32m    290\u001b[0m \u001b[39mif\u001b[39;00m (np\u001b[39m.\u001b[39mdiff(bins\u001b[39m.\u001b[39mastype(\u001b[39m\"\u001b[39m\u001b[39mfloat64\u001b[39m\u001b[39m\"\u001b[39m)) \u001b[39m<\u001b[39m \u001b[39m0\u001b[39m)\u001b[39m.\u001b[39many():\n",
      "File \u001b[1;32mc:\\Program Files\\Python311\\Lib\\site-packages\\pandas\\core\\reshape\\tile.py:533\u001b[0m, in \u001b[0;36m_convert_bin_to_numeric_type\u001b[1;34m(bins, dtype)\u001b[0m\n\u001b[0;32m    531\u001b[0m         bins \u001b[39m=\u001b[39m to_datetime(bins)\u001b[39m.\u001b[39mview(np\u001b[39m.\u001b[39mint64)\n\u001b[0;32m    532\u001b[0m     \u001b[39melse\u001b[39;00m:\n\u001b[1;32m--> 533\u001b[0m         \u001b[39mraise\u001b[39;00m \u001b[39mValueError\u001b[39;00m(\u001b[39m\"\u001b[39m\u001b[39mbins must be of datetime64 dtype\u001b[39m\u001b[39m\"\u001b[39m)\n\u001b[0;32m    535\u001b[0m \u001b[39mreturn\u001b[39;00m bins\n",
      "\u001b[1;31mValueError\u001b[0m: bins must be of datetime64 dtype"
     ]
    }
   ],
   "source": [
    "# Scenario 11: Pivot Table with Custom Aggregation and Date Ranges\n",
    "pivot_date_range = df.pivot_table(index=pd.cut(df['Date'], bins=['2023-01-01', '2023-01-02', '2023-01-03']), columns='Category', values='Value', aggfunc='sum')\n",
    "print(\"Scenario 11: Pivot Table with Custom Aggregation and Date Ranges\")\n",
    "print(pivot_date_range)"
   ]
  },
  {
   "cell_type": "code",
   "execution_count": 36,
   "metadata": {},
   "outputs": [
    {
     "name": "stdout",
     "output_type": "stream",
     "text": [
      "\n",
      "Scenario 12: Pivot Table with Categorical Data and Aggregation\n",
      "Category     A   B\n",
      "Date              \n",
      "2023-01-01  10  15\n",
      "2023-01-02  20  25\n"
     ]
    }
   ],
   "source": [
    "# Scenario 12: Pivot Table with Categorical Data and Aggregation\n",
    "df['Category'] = df['Category'].astype('category')\n",
    "pivot_categorical = df.pivot_table(index='Date', columns='Category', values='Value', aggfunc='sum')\n",
    "print(\"\\nScenario 12: Pivot Table with Categorical Data and Aggregation\")\n",
    "print(pivot_categorical)\n"
   ]
  },
  {
   "cell_type": "code",
   "execution_count": 37,
   "metadata": {},
   "outputs": [
    {
     "name": "stdout",
     "output_type": "stream",
     "text": [
      "\n",
      "Scenario 13: Pivot Table with Custom Function and Percentage of Total\n",
      "Category    A  B\n",
      "Date            \n",
      "2023-01-01  1  1\n",
      "2023-01-02  1  1\n"
     ]
    }
   ],
   "source": [
    "# Scenario 13: Pivot Table with Custom Function and Percentage of Total\n",
    "def pct_of_total(series):\n",
    "    return series / series.sum()\n",
    "\n",
    "pivot_pct_of_total = df.pivot_table(index='Date', columns='Category', values='Value', aggfunc=pct_of_total)\n",
    "print(\"\\nScenario 13: Pivot Table with Custom Function and Percentage of Total\")\n",
    "print(pivot_pct_of_total)\n"
   ]
  },
  {
   "cell_type": "code",
   "execution_count": 38,
   "metadata": {},
   "outputs": [
    {
     "name": "stdout",
     "output_type": "stream",
     "text": [
      "\n",
      "Scenario 14: Pivot Table with Grouping and Multi-level Index\n",
      "           Value    \n",
      "Category       A   B\n",
      "Date                \n",
      "2023-01-01    10  15\n",
      "2023-01-02    20  25\n"
     ]
    }
   ],
   "source": [
    "# Scenario 14: Pivot Table with Grouping and Multi-level Index\n",
    "pivot_grouped = df.groupby(['Date', 'Category']).sum().unstack()\n",
    "print(\"\\nScenario 14: Pivot Table with Grouping and Multi-level Index\")\n",
    "print(pivot_grouped)"
   ]
  },
  {
   "cell_type": "code",
   "execution_count": 39,
   "metadata": {},
   "outputs": [
    {
     "name": "stdout",
     "output_type": "stream",
     "text": [
      "\n",
      "Scenario 15: Pivot Table with Stacking (Alternate Method)\n",
      "                     Value\n",
      "Date       Category       \n",
      "2023-01-01 A            10\n",
      "           B            15\n",
      "2023-01-02 A            20\n",
      "           B            25\n",
      "\n",
      "Scenario 15: Pivot Table with Unstacking (Alternate Method)\n",
      "           Value    \n",
      "Category       A   B\n",
      "Date                \n",
      "2023-01-01    10  15\n",
      "2023-01-02    20  25\n"
     ]
    }
   ],
   "source": [
    "# Scenario 15: Pivot Table with Stacking and Unstacking (Alternate Method)\n",
    "pivot_stacked_alt = pivot_grouped.stack()\n",
    "pivot_unstacked_alt = pivot_stacked_alt.unstack()\n",
    "print(\"\\nScenario 15: Pivot Table with Stacking (Alternate Method)\")\n",
    "print(pivot_stacked_alt)\n",
    "print(\"\\nScenario 15: Pivot Table with Unstacking (Alternate Method)\")\n",
    "print(pivot_unstacked_alt)"
   ]
  },
  {
   "cell_type": "code",
   "execution_count": 40,
   "metadata": {},
   "outputs": [
    {
     "name": "stdout",
     "output_type": "stream",
     "text": [
      "Scenario 16: Pivot Table with Column Renaming\n",
      "            Category_A_Total  Category_B_Total\n",
      "Date                                          \n",
      "2023-01-01                10                15\n",
      "2023-01-02                20                25\n"
     ]
    }
   ],
   "source": [
    "# Scenario 16: Pivot Table with Column Renaming\n",
    "pivot_renamed = df.pivot_table(index='Date', columns='Category', values='Value', aggfunc='sum')\n",
    "pivot_renamed.columns = ['Category_A_Total', 'Category_B_Total']\n",
    "print(\"Scenario 16: Pivot Table with Column Renaming\")\n",
    "print(pivot_renamed)"
   ]
  },
  {
   "cell_type": "code",
   "execution_count": 41,
   "metadata": {},
   "outputs": [
    {
     "name": "stdout",
     "output_type": "stream",
     "text": [
      "\n",
      "Scenario 17: Pivot Table with Custom Sorting\n",
      "Category     B   A\n",
      "Date              \n",
      "2023-01-01  15  10\n",
      "2023-01-02  25  20\n"
     ]
    }
   ],
   "source": [
    "# Scenario 17: Pivot Table with Custom Sorting\n",
    "pivot_sorted = df.pivot_table(index='Date', columns='Category', values='Value', aggfunc='sum')\n",
    "pivot_sorted = pivot_sorted[['B', 'A']]\n",
    "print(\"\\nScenario 17: Pivot Table with Custom Sorting\")\n",
    "print(pivot_sorted)"
   ]
  },
  {
   "cell_type": "code",
   "execution_count": 42,
   "metadata": {},
   "outputs": [
    {
     "name": "stdout",
     "output_type": "stream",
     "text": [
      "\n",
      "Scenario 18: Pivot Table with Filtering on Rows and Columns\n",
      "Category     A\n",
      "Date          \n",
      "2023-01-01  10\n",
      "2023-01-02  20\n"
     ]
    }
   ],
   "source": [
    "# Scenario 18: Pivot Table with Filtering on Rows and Columns\n",
    "pivot_filtered = df.pivot_table(index='Date', columns='Category', values='Value', aggfunc='sum')\n",
    "pivot_filtered = pivot_filtered.loc[:, ['A']]\n",
    "print(\"\\nScenario 18: Pivot Table with Filtering on Rows and Columns\")\n",
    "print(pivot_filtered)"
   ]
  },
  {
   "cell_type": "code",
   "execution_count": 43,
   "metadata": {},
   "outputs": [
    {
     "data": {
      "image/png": "[encoded data removed]",
      "text/plain": [
       "<Figure size 640x480 with 2 Axes>"
      ]
     },
     "metadata": {},
     "output_type": "display_data"
    }
   ],
   "source": [
    "# Scenario 19: Pivot Table with Heatmap Visualization\n",
    "import seaborn as sns\n",
    "import matplotlib.pyplot as plt\n",
    "\n",
    "pivot_heatmap = df.pivot_table(index='Date', columns='Category', values='Value', aggfunc='sum')\n",
    "sns.heatmap(pivot_heatmap, annot=True, cmap='YlGnBu')\n",
    "plt.title('Pivot Table Heatmap')\n",
    "plt.show()"
   ]
  },
  {
   "cell_type": "code",
   "execution_count": 44,
   "metadata": {},
   "outputs": [
    {
     "name": "stdout",
     "output_type": "stream",
     "text": [
      "\n",
      "Scenario 20: Pivot Table with Time Resampling\n",
      "            Value\n",
      "Date             \n",
      "2023-01-01     25\n",
      "2023-01-02     45\n"
     ]
    },
    {
     "name": "stderr",
     "output_type": "stream",
     "text": [
      "C:\\Users\\rvign\\AppData\\Local\\Temp\\ipykernel_28948\\2320277220.py:3: FutureWarning: The default value of numeric_only in DataFrameGroupBy.sum is deprecated. In a future version, numeric_only will default to False. Either specify numeric_only or select only columns which should be valid for the function.\n",
      "  pivot_resampled = df.resample('D').sum()\n"
     ]
    }
   ],
   "source": [
    "# Scenario 20: Pivot Table with Time Resampling\n",
    "df.set_index('Date', inplace=True)\n",
    "pivot_resampled = df.resample('D').sum()\n",
    "print(\"\\nScenario 20: Pivot Table with Time Resampling\")\n",
    "print(pivot_resampled)"
   ]
  },
  {
   "cell_type": "code",
   "execution_count": 46,
   "metadata": {},
   "outputs": [
    {
     "name": "stdout",
     "output_type": "stream",
     "text": [
      "Scenario 21: Pivot Table with Rolling Aggregation\n",
      "Category       A     B\n",
      "Date                  \n",
      "2023-01-01   NaN   NaN\n",
      "2023-01-02  30.0  40.0\n"
     ]
    }
   ],
   "source": [
    "# Scenario 21: Pivot Table with Rolling Aggregation\n",
    "pivot_rolling = df.pivot_table(index='Date', columns='Category', values='Value', aggfunc='sum')\n",
    "pivot_rolling = pivot_rolling.rolling(window=2).sum()\n",
    "print(\"Scenario 21: Pivot Table with Rolling Aggregation\")\n",
    "print(pivot_rolling)"
   ]
  },
  {
   "cell_type": "code",
   "execution_count": 47,
   "metadata": {},
   "outputs": [
    {
     "name": "stdout",
     "output_type": "stream",
     "text": [
      "\n",
      "Scenario 22: Pivot Table with NaN Handling and Fill Methods\n",
      "Category       A   B\n",
      "Date                \n",
      "2023-01-01  10.0  15\n",
      "2023-01-02   0.0  25\n"
     ]
    }
   ],
   "source": [
    "# Scenario 22: Pivot Table with NaN Handling and Fill Methods\n",
    "pivot_nan = df.pivot_table(index='Date', columns='Category', values='Value', aggfunc='sum')\n",
    "pivot_nan.loc['2023-01-02', 'A'] = None\n",
    "pivot_filled = pivot_nan.fillna(0)\n",
    "print(\"\\nScenario 22: Pivot Table with NaN Handling and Fill Methods\")\n",
    "print(pivot_filled)"
   ]
  },
  {
   "cell_type": "code",
   "execution_count": 51,
   "metadata": {},
   "outputs": [
    {
     "data": {
      "text/html": [
       "<div>\n",
       "<style scoped>\n",
       "    .dataframe tbody tr th:only-of-type {\n",
       "        vertical-align: middle;\n",
       "    }\n",
       "\n",
       "    .dataframe tbody tr th {\n",
       "        vertical-align: top;\n",
       "    }\n",
       "\n",
       "    .dataframe thead th {\n",
       "        text-align: right;\n",
       "    }\n",
       "</style>\n",
       "<table border=\"1\" class=\"dataframe\">\n",
       "  <thead>\n",
       "    <tr style=\"text-align: right;\">\n",
       "      <th></th>\n",
       "      <th>Category</th>\n",
       "      <th>Value</th>\n",
       "    </tr>\n",
       "    <tr>\n",
       "      <th>Date</th>\n",
       "      <th></th>\n",
       "      <th></th>\n",
       "    </tr>\n",
       "  </thead>\n",
       "  <tbody>\n",
       "    <tr>\n",
       "      <th>2023-01-01</th>\n",
       "      <td>A</td>\n",
       "      <td>10</td>\n",
       "    </tr>\n",
       "    <tr>\n",
       "      <th>2023-01-01</th>\n",
       "      <td>B</td>\n",
       "      <td>15</td>\n",
       "    </tr>\n",
       "    <tr>\n",
       "      <th>2023-01-02</th>\n",
       "      <td>A</td>\n",
       "      <td>20</td>\n",
       "    </tr>\n",
       "    <tr>\n",
       "      <th>2023-01-02</th>\n",
       "      <td>B</td>\n",
       "      <td>25</td>\n",
       "    </tr>\n",
       "  </tbody>\n",
       "</table>\n",
       "</div>"
      ],
      "text/plain": [
       "           Category  Value\n",
       "Date                      \n",
       "2023-01-01        A     10\n",
       "2023-01-01        B     15\n",
       "2023-01-02        A     20\n",
       "2023-01-02        B     25"
      ]
     },
     "execution_count": 51,
     "metadata": {},
     "output_type": "execute_result"
    }
   ],
   "source": [
    "df.head(5)"
   ]
  },
  {
   "cell_type": "code",
   "execution_count": 48,
   "metadata": {},
   "outputs": [
    {
     "ename": "KeyError",
     "evalue": "'Date'",
     "output_type": "error",
     "traceback": [
      "\u001b[1;31m---------------------------------------------------------------------------\u001b[0m",
      "\u001b[1;31mKeyError\u001b[0m                                  Traceback (most recent call last)",
      "File \u001b[1;32mc:\\Program Files\\Python311\\Lib\\site-packages\\pandas\\core\\indexes\\base.py:3802\u001b[0m, in \u001b[0;36mIndex.get_loc\u001b[1;34m(self, key, method, tolerance)\u001b[0m\n\u001b[0;32m   3801\u001b[0m \u001b[39mtry\u001b[39;00m:\n\u001b[1;32m-> 3802\u001b[0m     \u001b[39mreturn\u001b[39;00m \u001b[39mself\u001b[39;49m\u001b[39m.\u001b[39;49m_engine\u001b[39m.\u001b[39;49mget_loc(casted_key)\n\u001b[0;32m   3803\u001b[0m \u001b[39mexcept\u001b[39;00m \u001b[39mKeyError\u001b[39;00m \u001b[39mas\u001b[39;00m err:\n",
      "File \u001b[1;32mc:\\Program Files\\Python311\\Lib\\site-packages\\pandas\\_libs\\index.pyx:138\u001b[0m, in \u001b[0;36mpandas._libs.index.IndexEngine.get_loc\u001b[1;34m()\u001b[0m\n",
      "File \u001b[1;32mc:\\Program Files\\Python311\\Lib\\site-packages\\pandas\\_libs\\index.pyx:165\u001b[0m, in \u001b[0;36mpandas._libs.index.IndexEngine.get_loc\u001b[1;34m()\u001b[0m\n",
      "File \u001b[1;32mpandas\\_libs\\hashtable_class_helper.pxi:5745\u001b[0m, in \u001b[0;36mpandas._libs.hashtable.PyObjectHashTable.get_item\u001b[1;34m()\u001b[0m\n",
      "File \u001b[1;32mpandas\\_libs\\hashtable_class_helper.pxi:5753\u001b[0m, in \u001b[0;36mpandas._libs.hashtable.PyObjectHashTable.get_item\u001b[1;34m()\u001b[0m\n",
      "\u001b[1;31mKeyError\u001b[0m: 'Date'",
      "\nThe above exception was the direct cause of the following exception:\n",
      "\u001b[1;31mKeyError\u001b[0m                                  Traceback (most recent call last)",
      "Cell \u001b[1;32mIn[48], line 2\u001b[0m\n\u001b[0;32m      1\u001b[0m \u001b[39m# Scenario 23: Pivot Table with Aggregation by Quarter and Year\u001b[39;00m\n\u001b[1;32m----> 2\u001b[0m pivot_quarterly \u001b[39m=\u001b[39m df\u001b[39m.\u001b[39mpivot_table(index\u001b[39m=\u001b[39mdf[\u001b[39m'\u001b[39;49m\u001b[39mDate\u001b[39;49m\u001b[39m'\u001b[39;49m]\u001b[39m.\u001b[39mdt\u001b[39m.\u001b[39mto_period(\u001b[39m'\u001b[39m\u001b[39mQ\u001b[39m\u001b[39m'\u001b[39m), columns\u001b[39m=\u001b[39m\u001b[39m'\u001b[39m\u001b[39mCategory\u001b[39m\u001b[39m'\u001b[39m, values\u001b[39m=\u001b[39m\u001b[39m'\u001b[39m\u001b[39mValue\u001b[39m\u001b[39m'\u001b[39m, aggfunc\u001b[39m=\u001b[39m\u001b[39m'\u001b[39m\u001b[39msum\u001b[39m\u001b[39m'\u001b[39m)\n\u001b[0;32m      3\u001b[0m pivot_yearly \u001b[39m=\u001b[39m df\u001b[39m.\u001b[39mpivot_table(index\u001b[39m=\u001b[39mdf[\u001b[39m'\u001b[39m\u001b[39mDate\u001b[39m\u001b[39m'\u001b[39m]\u001b[39m.\u001b[39mdt\u001b[39m.\u001b[39mto_period(\u001b[39m'\u001b[39m\u001b[39mY\u001b[39m\u001b[39m'\u001b[39m), columns\u001b[39m=\u001b[39m\u001b[39m'\u001b[39m\u001b[39mCategory\u001b[39m\u001b[39m'\u001b[39m, values\u001b[39m=\u001b[39m\u001b[39m'\u001b[39m\u001b[39mValue\u001b[39m\u001b[39m'\u001b[39m, aggfunc\u001b[39m=\u001b[39m\u001b[39m'\u001b[39m\u001b[39msum\u001b[39m\u001b[39m'\u001b[39m)\n\u001b[0;32m      4\u001b[0m \u001b[39mprint\u001b[39m(\u001b[39m\"\u001b[39m\u001b[39m\\n\u001b[39;00m\u001b[39mScenario 23: Pivot Table with Aggregation by Quarter\u001b[39m\u001b[39m\"\u001b[39m)\n",
      "File \u001b[1;32mc:\\Program Files\\Python311\\Lib\\site-packages\\pandas\\core\\frame.py:3807\u001b[0m, in \u001b[0;36mDataFrame.__getitem__\u001b[1;34m(self, key)\u001b[0m\n\u001b[0;32m   3805\u001b[0m \u001b[39mif\u001b[39;00m \u001b[39mself\u001b[39m\u001b[39m.\u001b[39mcolumns\u001b[39m.\u001b[39mnlevels \u001b[39m>\u001b[39m \u001b[39m1\u001b[39m:\n\u001b[0;32m   3806\u001b[0m     \u001b[39mreturn\u001b[39;00m \u001b[39mself\u001b[39m\u001b[39m.\u001b[39m_getitem_multilevel(key)\n\u001b[1;32m-> 3807\u001b[0m indexer \u001b[39m=\u001b[39m \u001b[39mself\u001b[39;49m\u001b[39m.\u001b[39;49mcolumns\u001b[39m.\u001b[39;49mget_loc(key)\n\u001b[0;32m   3808\u001b[0m \u001b[39mif\u001b[39;00m is_integer(indexer):\n\u001b[0;32m   3809\u001b[0m     indexer \u001b[39m=\u001b[39m [indexer]\n",
      "File \u001b[1;32mc:\\Program Files\\Python311\\Lib\\site-packages\\pandas\\core\\indexes\\base.py:3804\u001b[0m, in \u001b[0;36mIndex.get_loc\u001b[1;34m(self, key, method, tolerance)\u001b[0m\n\u001b[0;32m   3802\u001b[0m     \u001b[39mreturn\u001b[39;00m \u001b[39mself\u001b[39m\u001b[39m.\u001b[39m_engine\u001b[39m.\u001b[39mget_loc(casted_key)\n\u001b[0;32m   3803\u001b[0m \u001b[39mexcept\u001b[39;00m \u001b[39mKeyError\u001b[39;00m \u001b[39mas\u001b[39;00m err:\n\u001b[1;32m-> 3804\u001b[0m     \u001b[39mraise\u001b[39;00m \u001b[39mKeyError\u001b[39;00m(key) \u001b[39mfrom\u001b[39;00m \u001b[39merr\u001b[39;00m\n\u001b[0;32m   3805\u001b[0m \u001b[39mexcept\u001b[39;00m \u001b[39mTypeError\u001b[39;00m:\n\u001b[0;32m   3806\u001b[0m     \u001b[39m# If we have a listlike key, _check_indexing_error will raise\u001b[39;00m\n\u001b[0;32m   3807\u001b[0m     \u001b[39m#  InvalidIndexError. Otherwise we fall through and re-raise\u001b[39;00m\n\u001b[0;32m   3808\u001b[0m     \u001b[39m#  the TypeError.\u001b[39;00m\n\u001b[0;32m   3809\u001b[0m     \u001b[39mself\u001b[39m\u001b[39m.\u001b[39m_check_indexing_error(key)\n",
      "\u001b[1;31mKeyError\u001b[0m: 'Date'"
     ]
    }
   ],
   "source": [
    "# Scenario 23: Pivot Table with Aggregation by Quarter and Year\n",
    "pivot_quarterly = df.pivot_table(index=df['Date'].dt.to_period('Q'), columns='Category', values='Value', aggfunc='sum')\n",
    "pivot_yearly = df.pivot_table(index=df['Date'].dt.to_period('Y'), columns='Category', values='Value', aggfunc='sum')\n",
    "print(\"\\nScenario 23: Pivot Table with Aggregation by Quarter\")\n",
    "print(pivot_quarterly)"
   ]
  },
  {
   "cell_type": "code",
   "execution_count": 49,
   "metadata": {},
   "outputs": [
    {
     "ename": "KeyError",
     "evalue": "\"['Date'] not in index\"",
     "output_type": "error",
     "traceback": [
      "\u001b[1;31m---------------------------------------------------------------------------\u001b[0m",
      "\u001b[1;31mKeyError\u001b[0m                                  Traceback (most recent call last)",
      "Cell \u001b[1;32mIn[49], line 2\u001b[0m\n\u001b[0;32m      1\u001b[0m \u001b[39m# Scenario 24: Pivot Table with Grand Total Calculations\u001b[39;00m\n\u001b[1;32m----> 2\u001b[0m pivot_grand_total \u001b[39m=\u001b[39m df\u001b[39m.\u001b[39;49mpivot_table(index\u001b[39m=\u001b[39;49m\u001b[39m'\u001b[39;49m\u001b[39mDate\u001b[39;49m\u001b[39m'\u001b[39;49m, columns\u001b[39m=\u001b[39;49m\u001b[39m'\u001b[39;49m\u001b[39mCategory\u001b[39;49m\u001b[39m'\u001b[39;49m, values\u001b[39m=\u001b[39;49m\u001b[39m'\u001b[39;49m\u001b[39mValue\u001b[39;49m\u001b[39m'\u001b[39;49m, aggfunc\u001b[39m=\u001b[39;49m\u001b[39m'\u001b[39;49m\u001b[39msum\u001b[39;49m\u001b[39m'\u001b[39;49m, margins\u001b[39m=\u001b[39;49m\u001b[39mTrue\u001b[39;49;00m)\n\u001b[0;32m      3\u001b[0m \u001b[39mprint\u001b[39m(\u001b[39m\"\u001b[39m\u001b[39m\\n\u001b[39;00m\u001b[39mScenario 24: Pivot Table with Grand Total Calculations\u001b[39m\u001b[39m\"\u001b[39m)\n\u001b[0;32m      4\u001b[0m \u001b[39mprint\u001b[39m(pivot_grand_total)\n",
      "File \u001b[1;32mc:\\Program Files\\Python311\\Lib\\site-packages\\pandas\\core\\frame.py:8731\u001b[0m, in \u001b[0;36mDataFrame.pivot_table\u001b[1;34m(self, values, index, columns, aggfunc, fill_value, margins, dropna, margins_name, observed, sort)\u001b[0m\n\u001b[0;32m   8714\u001b[0m \u001b[39m@Substitution\u001b[39m(\u001b[39m\"\u001b[39m\u001b[39m\"\u001b[39m)\n\u001b[0;32m   8715\u001b[0m \u001b[39m@Appender\u001b[39m(_shared_docs[\u001b[39m\"\u001b[39m\u001b[39mpivot_table\u001b[39m\u001b[39m\"\u001b[39m])\n\u001b[0;32m   8716\u001b[0m \u001b[39mdef\u001b[39;00m \u001b[39mpivot_table\u001b[39m(\n\u001b[1;32m   (...)\u001b[0m\n\u001b[0;32m   8727\u001b[0m     sort\u001b[39m=\u001b[39m\u001b[39mTrue\u001b[39;00m,\n\u001b[0;32m   8728\u001b[0m ) \u001b[39m-\u001b[39m\u001b[39m>\u001b[39m DataFrame:\n\u001b[0;32m   8729\u001b[0m     \u001b[39mfrom\u001b[39;00m \u001b[39mpandas\u001b[39;00m\u001b[39m.\u001b[39;00m\u001b[39mcore\u001b[39;00m\u001b[39m.\u001b[39;00m\u001b[39mreshape\u001b[39;00m\u001b[39m.\u001b[39;00m\u001b[39mpivot\u001b[39;00m \u001b[39mimport\u001b[39;00m pivot_table\n\u001b[1;32m-> 8731\u001b[0m     \u001b[39mreturn\u001b[39;00m pivot_table(\n\u001b[0;32m   8732\u001b[0m         \u001b[39mself\u001b[39;49m,\n\u001b[0;32m   8733\u001b[0m         values\u001b[39m=\u001b[39;49mvalues,\n\u001b[0;32m   8734\u001b[0m         index\u001b[39m=\u001b[39;49mindex,\n\u001b[0;32m   8735\u001b[0m         columns\u001b[39m=\u001b[39;49mcolumns,\n\u001b[0;32m   8736\u001b[0m         aggfunc\u001b[39m=\u001b[39;49maggfunc,\n\u001b[0;32m   8737\u001b[0m         fill_value\u001b[39m=\u001b[39;49mfill_value,\n\u001b[0;32m   8738\u001b[0m         margins\u001b[39m=\u001b[39;49mmargins,\n\u001b[0;32m   8739\u001b[0m         dropna\u001b[39m=\u001b[39;49mdropna,\n\u001b[0;32m   8740\u001b[0m         margins_name\u001b[39m=\u001b[39;49mmargins_name,\n\u001b[0;32m   8741\u001b[0m         observed\u001b[39m=\u001b[39;49mobserved,\n\u001b[0;32m   8742\u001b[0m         sort\u001b[39m=\u001b[39;49msort,\n\u001b[0;32m   8743\u001b[0m     )\n",
      "File \u001b[1;32mc:\\Program Files\\Python311\\Lib\\site-packages\\pandas\\core\\reshape\\pivot.py:97\u001b[0m, in \u001b[0;36mpivot_table\u001b[1;34m(data, values, index, columns, aggfunc, fill_value, margins, dropna, margins_name, observed, sort)\u001b[0m\n\u001b[0;32m     94\u001b[0m     table \u001b[39m=\u001b[39m concat(pieces, keys\u001b[39m=\u001b[39mkeys, axis\u001b[39m=\u001b[39m\u001b[39m1\u001b[39m)\n\u001b[0;32m     95\u001b[0m     \u001b[39mreturn\u001b[39;00m table\u001b[39m.\u001b[39m__finalize__(data, method\u001b[39m=\u001b[39m\u001b[39m\"\u001b[39m\u001b[39mpivot_table\u001b[39m\u001b[39m\"\u001b[39m)\n\u001b[1;32m---> 97\u001b[0m table \u001b[39m=\u001b[39m __internal_pivot_table(\n\u001b[0;32m     98\u001b[0m     data,\n\u001b[0;32m     99\u001b[0m     values,\n\u001b[0;32m    100\u001b[0m     index,\n\u001b[0;32m    101\u001b[0m     columns,\n\u001b[0;32m    102\u001b[0m     aggfunc,\n\u001b[0;32m    103\u001b[0m     fill_value,\n\u001b[0;32m    104\u001b[0m     margins,\n\u001b[0;32m    105\u001b[0m     dropna,\n\u001b[0;32m    106\u001b[0m     margins_name,\n\u001b[0;32m    107\u001b[0m     observed,\n\u001b[0;32m    108\u001b[0m     sort,\n\u001b[0;32m    109\u001b[0m )\n\u001b[0;32m    110\u001b[0m \u001b[39mreturn\u001b[39;00m table\u001b[39m.\u001b[39m__finalize__(data, method\u001b[39m=\u001b[39m\u001b[39m\"\u001b[39m\u001b[39mpivot_table\u001b[39m\u001b[39m\"\u001b[39m)\n",
      "File \u001b[1;32mc:\\Program Files\\Python311\\Lib\\site-packages\\pandas\\core\\reshape\\pivot.py:243\u001b[0m, in \u001b[0;36m__internal_pivot_table\u001b[1;34m(data, values, index, columns, aggfunc, fill_value, margins, dropna, margins_name, observed, sort)\u001b[0m\n\u001b[0;32m    241\u001b[0m     \u001b[39mif\u001b[39;00m dropna:\n\u001b[0;32m    242\u001b[0m         data \u001b[39m=\u001b[39m data[data\u001b[39m.\u001b[39mnotna()\u001b[39m.\u001b[39mall(axis\u001b[39m=\u001b[39m\u001b[39m1\u001b[39m)]\n\u001b[1;32m--> 243\u001b[0m     table \u001b[39m=\u001b[39m _add_margins(\n\u001b[0;32m    244\u001b[0m         table,\n\u001b[0;32m    245\u001b[0m         data,\n\u001b[0;32m    246\u001b[0m         values,\n\u001b[0;32m    247\u001b[0m         rows\u001b[39m=\u001b[39;49mindex,\n\u001b[0;32m    248\u001b[0m         cols\u001b[39m=\u001b[39;49mcolumns,\n\u001b[0;32m    249\u001b[0m         aggfunc\u001b[39m=\u001b[39;49maggfunc,\n\u001b[0;32m    250\u001b[0m         observed\u001b[39m=\u001b[39;49mdropna,\n\u001b[0;32m    251\u001b[0m         margins_name\u001b[39m=\u001b[39;49mmargins_name,\n\u001b[0;32m    252\u001b[0m         fill_value\u001b[39m=\u001b[39;49mfill_value,\n\u001b[0;32m    253\u001b[0m     )\n\u001b[0;32m    255\u001b[0m \u001b[39m# discard the top level\u001b[39;00m\n\u001b[0;32m    256\u001b[0m \u001b[39mif\u001b[39;00m values_passed \u001b[39mand\u001b[39;00m \u001b[39mnot\u001b[39;00m values_multi \u001b[39mand\u001b[39;00m table\u001b[39m.\u001b[39mcolumns\u001b[39m.\u001b[39mnlevels \u001b[39m>\u001b[39m \u001b[39m1\u001b[39m:\n",
      "File \u001b[1;32mc:\\Program Files\\Python311\\Lib\\site-packages\\pandas\\core\\reshape\\pivot.py:307\u001b[0m, in \u001b[0;36m_add_margins\u001b[1;34m(table, data, values, rows, cols, aggfunc, observed, margins_name, fill_value)\u001b[0m\n\u001b[0;32m    304\u001b[0m     \u001b[39mreturn\u001b[39;00m table\u001b[39m.\u001b[39m_append(Series({key: grand_margin[margins_name]}))\n\u001b[0;32m    306\u001b[0m \u001b[39melif\u001b[39;00m values:\n\u001b[1;32m--> 307\u001b[0m     marginal_result_set \u001b[39m=\u001b[39m _generate_marginal_results(\n\u001b[0;32m    308\u001b[0m         table, data, values, rows, cols, aggfunc, observed, margins_name\n\u001b[0;32m    309\u001b[0m     )\n\u001b[0;32m    310\u001b[0m     \u001b[39mif\u001b[39;00m \u001b[39mnot\u001b[39;00m \u001b[39misinstance\u001b[39m(marginal_result_set, \u001b[39mtuple\u001b[39m):\n\u001b[0;32m    311\u001b[0m         \u001b[39mreturn\u001b[39;00m marginal_result_set\n",
      "File \u001b[1;32mc:\\Program Files\\Python311\\Lib\\site-packages\\pandas\\core\\reshape\\pivot.py:382\u001b[0m, in \u001b[0;36m_generate_marginal_results\u001b[1;34m(table, data, values, rows, cols, aggfunc, observed, margins_name)\u001b[0m\n\u001b[0;32m    379\u001b[0m     \u001b[39mreturn\u001b[39;00m (key, margins_name) \u001b[39m+\u001b[39m (\u001b[39m\"\u001b[39m\u001b[39m\"\u001b[39m,) \u001b[39m*\u001b[39m (\u001b[39mlen\u001b[39m(cols) \u001b[39m-\u001b[39m \u001b[39m1\u001b[39m)\n\u001b[0;32m    381\u001b[0m \u001b[39mif\u001b[39;00m \u001b[39mlen\u001b[39m(rows) \u001b[39m>\u001b[39m \u001b[39m0\u001b[39m:\n\u001b[1;32m--> 382\u001b[0m     margin \u001b[39m=\u001b[39m data[rows \u001b[39m+\u001b[39;49m values]\u001b[39m.\u001b[39mgroupby(rows, observed\u001b[39m=\u001b[39mobserved)\u001b[39m.\u001b[39magg(aggfunc)\n\u001b[0;32m    383\u001b[0m     cat_axis \u001b[39m=\u001b[39m \u001b[39m1\u001b[39m\n\u001b[0;32m    385\u001b[0m     \u001b[39mfor\u001b[39;00m key, piece \u001b[39min\u001b[39;00m table\u001b[39m.\u001b[39mgroupby(level\u001b[39m=\u001b[39m\u001b[39m0\u001b[39m, axis\u001b[39m=\u001b[39mcat_axis, observed\u001b[39m=\u001b[39mobserved):\n",
      "File \u001b[1;32mc:\\Program Files\\Python311\\Lib\\site-packages\\pandas\\core\\frame.py:3813\u001b[0m, in \u001b[0;36mDataFrame.__getitem__\u001b[1;34m(self, key)\u001b[0m\n\u001b[0;32m   3811\u001b[0m     \u001b[39mif\u001b[39;00m is_iterator(key):\n\u001b[0;32m   3812\u001b[0m         key \u001b[39m=\u001b[39m \u001b[39mlist\u001b[39m(key)\n\u001b[1;32m-> 3813\u001b[0m     indexer \u001b[39m=\u001b[39m \u001b[39mself\u001b[39;49m\u001b[39m.\u001b[39;49mcolumns\u001b[39m.\u001b[39;49m_get_indexer_strict(key, \u001b[39m\"\u001b[39;49m\u001b[39mcolumns\u001b[39;49m\u001b[39m\"\u001b[39;49m)[\u001b[39m1\u001b[39m]\n\u001b[0;32m   3815\u001b[0m \u001b[39m# take() does not accept boolean indexers\u001b[39;00m\n\u001b[0;32m   3816\u001b[0m \u001b[39mif\u001b[39;00m \u001b[39mgetattr\u001b[39m(indexer, \u001b[39m\"\u001b[39m\u001b[39mdtype\u001b[39m\u001b[39m\"\u001b[39m, \u001b[39mNone\u001b[39;00m) \u001b[39m==\u001b[39m \u001b[39mbool\u001b[39m:\n",
      "File \u001b[1;32mc:\\Program Files\\Python311\\Lib\\site-packages\\pandas\\core\\indexes\\base.py:6070\u001b[0m, in \u001b[0;36mIndex._get_indexer_strict\u001b[1;34m(self, key, axis_name)\u001b[0m\n\u001b[0;32m   6067\u001b[0m \u001b[39melse\u001b[39;00m:\n\u001b[0;32m   6068\u001b[0m     keyarr, indexer, new_indexer \u001b[39m=\u001b[39m \u001b[39mself\u001b[39m\u001b[39m.\u001b[39m_reindex_non_unique(keyarr)\n\u001b[1;32m-> 6070\u001b[0m \u001b[39mself\u001b[39;49m\u001b[39m.\u001b[39;49m_raise_if_missing(keyarr, indexer, axis_name)\n\u001b[0;32m   6072\u001b[0m keyarr \u001b[39m=\u001b[39m \u001b[39mself\u001b[39m\u001b[39m.\u001b[39mtake(indexer)\n\u001b[0;32m   6073\u001b[0m \u001b[39mif\u001b[39;00m \u001b[39misinstance\u001b[39m(key, Index):\n\u001b[0;32m   6074\u001b[0m     \u001b[39m# GH 42790 - Preserve name from an Index\u001b[39;00m\n",
      "File \u001b[1;32mc:\\Program Files\\Python311\\Lib\\site-packages\\pandas\\core\\indexes\\base.py:6133\u001b[0m, in \u001b[0;36mIndex._raise_if_missing\u001b[1;34m(self, key, indexer, axis_name)\u001b[0m\n\u001b[0;32m   6130\u001b[0m     \u001b[39mraise\u001b[39;00m \u001b[39mKeyError\u001b[39;00m(\u001b[39mf\u001b[39m\u001b[39m\"\u001b[39m\u001b[39mNone of [\u001b[39m\u001b[39m{\u001b[39;00mkey\u001b[39m}\u001b[39;00m\u001b[39m] are in the [\u001b[39m\u001b[39m{\u001b[39;00maxis_name\u001b[39m}\u001b[39;00m\u001b[39m]\u001b[39m\u001b[39m\"\u001b[39m)\n\u001b[0;32m   6132\u001b[0m not_found \u001b[39m=\u001b[39m \u001b[39mlist\u001b[39m(ensure_index(key)[missing_mask\u001b[39m.\u001b[39mnonzero()[\u001b[39m0\u001b[39m]]\u001b[39m.\u001b[39munique())\n\u001b[1;32m-> 6133\u001b[0m \u001b[39mraise\u001b[39;00m \u001b[39mKeyError\u001b[39;00m(\u001b[39mf\u001b[39m\u001b[39m\"\u001b[39m\u001b[39m{\u001b[39;00mnot_found\u001b[39m}\u001b[39;00m\u001b[39m not in index\u001b[39m\u001b[39m\"\u001b[39m)\n",
      "\u001b[1;31mKeyError\u001b[0m: \"['Date'] not in index\""
     ]
    }
   ],
   "source": [
    "# Scenario 24: Pivot Table with Grand Total Calculations\n",
    "pivot_grand_total = df.pivot_table(index='Date', columns='Category', values='Value', aggfunc='sum', margins=True)\n",
    "print(\"\\nScenario 24: Pivot Table with Grand Total Calculations\")\n",
    "print(pivot_grand_total)"
   ]
  },
  {
   "cell_type": "code",
   "execution_count": 50,
   "metadata": {},
   "outputs": [
    {
     "name": "stdout",
     "output_type": "stream",
     "text": [
      "\n",
      "Scenario 25: Pivot Table with Conditional Formatting\n"
     ]
    },
    {
     "data": {
      "text/html": [
       "<style type=\"text/css\">\n",
       "#T_9dbaf_row0_col1, #T_9dbaf_row1_col1 {\n",
       "  background-color: yellow;\n",
       "}\n",
       "</style>\n",
       "<table id=\"T_9dbaf\">\n",
       "  <thead>\n",
       "    <tr>\n",
       "      <th class=\"index_name level0\" >Category</th>\n",
       "      <th id=\"T_9dbaf_level0_col0\" class=\"col_heading level0 col0\" >A</th>\n",
       "      <th id=\"T_9dbaf_level0_col1\" class=\"col_heading level0 col1\" >B</th>\n",
       "    </tr>\n",
       "    <tr>\n",
       "      <th class=\"index_name level0\" >Date</th>\n",
       "      <th class=\"blank col0\" >&nbsp;</th>\n",
       "      <th class=\"blank col1\" >&nbsp;</th>\n",
       "    </tr>\n",
       "  </thead>\n",
       "  <tbody>\n",
       "    <tr>\n",
       "      <th id=\"T_9dbaf_level0_row0\" class=\"row_heading level0 row0\" >2023-01-01 00:00:00</th>\n",
       "      <td id=\"T_9dbaf_row0_col0\" class=\"data row0 col0\" >10</td>\n",
       "      <td id=\"T_9dbaf_row0_col1\" class=\"data row0 col1\" >15</td>\n",
       "    </tr>\n",
       "    <tr>\n",
       "      <th id=\"T_9dbaf_level0_row1\" class=\"row_heading level0 row1\" >2023-01-02 00:00:00</th>\n",
       "      <td id=\"T_9dbaf_row1_col0\" class=\"data row1 col0\" >20</td>\n",
       "      <td id=\"T_9dbaf_row1_col1\" class=\"data row1 col1\" >25</td>\n",
       "    </tr>\n",
       "  </tbody>\n",
       "</table>\n"
      ],
      "text/plain": [
       "<pandas.io.formats.style.Styler at 0x1fb612b0c90>"
      ]
     },
     "execution_count": 50,
     "metadata": {},
     "output_type": "execute_result"
    }
   ],
   "source": [
    "# Scenario 25: Pivot Table with Conditional Formatting\n",
    "pivot_formatted = df.pivot_table(index='Date', columns='Category', values='Value', aggfunc='sum')\n",
    "pivot_formatted = pivot_formatted.style.highlight_max(axis=1)\n",
    "print(\"\\nScenario 25: Pivot Table with Conditional Formatting\")\n",
    "# Styling applied when displaying the DataFrame\n",
    "pivot_formatted"
   ]
  },
  {
   "cell_type": "code",
   "execution_count": 53,
   "metadata": {},
   "outputs": [
    {
     "name": "stdout",
     "output_type": "stream",
     "text": [
      "Scenario 26: Pivot Table with Percentage Change Calculation\n",
      "Category      A         B\n",
      "Date                     \n",
      "2023-01-01  NaN       NaN\n",
      "2023-01-02  1.0  0.666667\n"
     ]
    }
   ],
   "source": [
    "# Scenario 26: Pivot Table with Percentage Change Calculation\n",
    "pivot_pct_change = df.pivot_table(index='Date', columns='Category', values='Value', aggfunc='sum')\n",
    "pivot_pct_change = pivot_pct_change.pct_change()\n",
    "print(\"Scenario 26: Pivot Table with Percentage Change Calculation\")\n",
    "print(pivot_pct_change)"
   ]
  },
  {
   "cell_type": "code",
   "execution_count": 54,
   "metadata": {},
   "outputs": [
    {
     "name": "stdout",
     "output_type": "stream",
     "text": [
      "\n",
      "Scenario 27: Pivot Table with Cumulative Sum\n",
      "Category     A   B\n",
      "Date              \n",
      "2023-01-01  10  15\n",
      "2023-01-02  30  40\n"
     ]
    }
   ],
   "source": [
    "# Scenario 27: Pivot Table with Cumulative Sum\n",
    "pivot_cumsum = df.pivot_table(index='Date', columns='Category', values='Value', aggfunc='sum')\n",
    "pivot_cumsum = pivot_cumsum.cumsum()\n",
    "print(\"\\nScenario 27: Pivot Table with Cumulative Sum\")\n",
    "print(pivot_cumsum)"
   ]
  },
  {
   "cell_type": "code",
   "execution_count": 55,
   "metadata": {},
   "outputs": [
    {
     "ename": "KeyError",
     "evalue": "'Date'",
     "output_type": "error",
     "traceback": [
      "\u001b[1;31m---------------------------------------------------------------------------\u001b[0m",
      "\u001b[1;31mKeyError\u001b[0m                                  Traceback (most recent call last)",
      "File \u001b[1;32mc:\\Program Files\\Python311\\Lib\\site-packages\\pandas\\core\\indexes\\base.py:3802\u001b[0m, in \u001b[0;36mIndex.get_loc\u001b[1;34m(self, key, method, tolerance)\u001b[0m\n\u001b[0;32m   3801\u001b[0m \u001b[39mtry\u001b[39;00m:\n\u001b[1;32m-> 3802\u001b[0m     \u001b[39mreturn\u001b[39;00m \u001b[39mself\u001b[39;49m\u001b[39m.\u001b[39;49m_engine\u001b[39m.\u001b[39;49mget_loc(casted_key)\n\u001b[0;32m   3803\u001b[0m \u001b[39mexcept\u001b[39;00m \u001b[39mKeyError\u001b[39;00m \u001b[39mas\u001b[39;00m err:\n",
      "File \u001b[1;32mc:\\Program Files\\Python311\\Lib\\site-packages\\pandas\\_libs\\index.pyx:138\u001b[0m, in \u001b[0;36mpandas._libs.index.IndexEngine.get_loc\u001b[1;34m()\u001b[0m\n",
      "File \u001b[1;32mc:\\Program Files\\Python311\\Lib\\site-packages\\pandas\\_libs\\index.pyx:165\u001b[0m, in \u001b[0;36mpandas._libs.index.IndexEngine.get_loc\u001b[1;34m()\u001b[0m\n",
      "File \u001b[1;32mpandas\\_libs\\hashtable_class_helper.pxi:5745\u001b[0m, in \u001b[0;36mpandas._libs.hashtable.PyObjectHashTable.get_item\u001b[1;34m()\u001b[0m\n",
      "File \u001b[1;32mpandas\\_libs\\hashtable_class_helper.pxi:5753\u001b[0m, in \u001b[0;36mpandas._libs.hashtable.PyObjectHashTable.get_item\u001b[1;34m()\u001b[0m\n",
      "\u001b[1;31mKeyError\u001b[0m: 'Date'",
      "\nThe above exception was the direct cause of the following exception:\n",
      "\u001b[1;31mKeyError\u001b[0m                                  Traceback (most recent call last)",
      "Cell \u001b[1;32mIn[55], line 2\u001b[0m\n\u001b[0;32m      1\u001b[0m \u001b[39m# Scenario 28: Pivot Table with Cross Tabulation\u001b[39;00m\n\u001b[1;32m----> 2\u001b[0m cross_tab \u001b[39m=\u001b[39m pd\u001b[39m.\u001b[39mcrosstab(index\u001b[39m=\u001b[39mdf[\u001b[39m'\u001b[39;49m\u001b[39mDate\u001b[39;49m\u001b[39m'\u001b[39;49m], columns\u001b[39m=\u001b[39mdf[\u001b[39m'\u001b[39m\u001b[39mCategory\u001b[39m\u001b[39m'\u001b[39m], values\u001b[39m=\u001b[39mdf[\u001b[39m'\u001b[39m\u001b[39mValue\u001b[39m\u001b[39m'\u001b[39m], aggfunc\u001b[39m=\u001b[39m\u001b[39m'\u001b[39m\u001b[39msum\u001b[39m\u001b[39m'\u001b[39m)\n\u001b[0;32m      3\u001b[0m \u001b[39mprint\u001b[39m(\u001b[39m\"\u001b[39m\u001b[39m\\n\u001b[39;00m\u001b[39mScenario 28: Pivot Table with Cross Tabulation\u001b[39m\u001b[39m\"\u001b[39m)\n\u001b[0;32m      4\u001b[0m \u001b[39mprint\u001b[39m(cross_tab)\n",
      "File \u001b[1;32mc:\\Program Files\\Python311\\Lib\\site-packages\\pandas\\core\\frame.py:3807\u001b[0m, in \u001b[0;36mDataFrame.__getitem__\u001b[1;34m(self, key)\u001b[0m\n\u001b[0;32m   3805\u001b[0m \u001b[39mif\u001b[39;00m \u001b[39mself\u001b[39m\u001b[39m.\u001b[39mcolumns\u001b[39m.\u001b[39mnlevels \u001b[39m>\u001b[39m \u001b[39m1\u001b[39m:\n\u001b[0;32m   3806\u001b[0m     \u001b[39mreturn\u001b[39;00m \u001b[39mself\u001b[39m\u001b[39m.\u001b[39m_getitem_multilevel(key)\n\u001b[1;32m-> 3807\u001b[0m indexer \u001b[39m=\u001b[39m \u001b[39mself\u001b[39;49m\u001b[39m.\u001b[39;49mcolumns\u001b[39m.\u001b[39;49mget_loc(key)\n\u001b[0;32m   3808\u001b[0m \u001b[39mif\u001b[39;00m is_integer(indexer):\n\u001b[0;32m   3809\u001b[0m     indexer \u001b[39m=\u001b[39m [indexer]\n",
      "File \u001b[1;32mc:\\Program Files\\Python311\\Lib\\site-packages\\pandas\\core\\indexes\\base.py:3804\u001b[0m, in \u001b[0;36mIndex.get_loc\u001b[1;34m(self, key, method, tolerance)\u001b[0m\n\u001b[0;32m   3802\u001b[0m     \u001b[39mreturn\u001b[39;00m \u001b[39mself\u001b[39m\u001b[39m.\u001b[39m_engine\u001b[39m.\u001b[39mget_loc(casted_key)\n\u001b[0;32m   3803\u001b[0m \u001b[39mexcept\u001b[39;00m \u001b[39mKeyError\u001b[39;00m \u001b[39mas\u001b[39;00m err:\n\u001b[1;32m-> 3804\u001b[0m     \u001b[39mraise\u001b[39;00m \u001b[39mKeyError\u001b[39;00m(key) \u001b[39mfrom\u001b[39;00m \u001b[39merr\u001b[39;00m\n\u001b[0;32m   3805\u001b[0m \u001b[39mexcept\u001b[39;00m \u001b[39mTypeError\u001b[39;00m:\n\u001b[0;32m   3806\u001b[0m     \u001b[39m# If we have a listlike key, _check_indexing_error will raise\u001b[39;00m\n\u001b[0;32m   3807\u001b[0m     \u001b[39m#  InvalidIndexError. Otherwise we fall through and re-raise\u001b[39;00m\n\u001b[0;32m   3808\u001b[0m     \u001b[39m#  the TypeError.\u001b[39;00m\n\u001b[0;32m   3809\u001b[0m     \u001b[39mself\u001b[39m\u001b[39m.\u001b[39m_check_indexing_error(key)\n",
      "\u001b[1;31mKeyError\u001b[0m: 'Date'"
     ]
    }
   ],
   "source": [
    "# Scenario 28: Pivot Table with Cross Tabulation\n",
    "cross_tab = pd.crosstab(index=df['Date'], columns=df['Category'], values=df['Value'], aggfunc='sum')\n",
    "print(\"\\nScenario 28: Pivot Table with Cross Tabulation\")\n",
    "print(cross_tab)"
   ]
  },
  {
   "cell_type": "code",
   "execution_count": null,
   "metadata": {},
   "outputs": [
    {
     "name": "stdout",
     "output_type": "stream",
     "text": [
      "Defaulting to user installation because normal site-packages is not writeable\n",
      "Collecting openpyxl\n",
      "  Downloading openpyxl-3.1.2-py2.py3-none-any.whl (249 kB)\n",
      "     -------------------------------------- 250.0/250.0 kB 3.8 MB/s eta 0:00:00\n",
      "Collecting et-xmlfile\n",
      "  Downloading et_xmlfile-1.1.0-py3-none-any.whl (4.7 kB)\n",
      "Installing collected packages: et-xmlfile, openpyxl\n",
      "Successfully installed et-xmlfile-1.1.0 openpyxl-3.1.2\n",
      "Note: you may need to restart the kernel to use updated packages.\n"
     ]
    },
    {
     "name": "stderr",
     "output_type": "stream",
     "text": [
      "\n",
      "[notice] A new release of pip available: 22.3.1 -> 23.2.1\n",
      "[notice] To update, run: python.exe -m pip install --upgrade pip\n"
     ]
    }
   ],
   "source": [
    "pip install openpyxl"
   ]
  },
  {
   "cell_type": "code",
   "execution_count": 58,
   "metadata": {},
   "outputs": [],
   "source": [
    "# Scenario 29: Pivot Table with Export to Excel or CSV\n",
    "pivot_export = df.pivot_table(index='Date', columns='Category', values='Value', aggfunc='sum')\n",
    "pivot_export.to_excel('output-contends/pivot_table.xlsx')\n",
    "pivot_export.to_csv('output-contends/pivot_table.csv')"
   ]
  },
  {
   "cell_type": "code",
   "execution_count": 59,
   "metadata": {},
   "outputs": [],
   "source": [
    "# Sample data\n",
    "data = {\n",
    "    'Date': ['2023-01-01', '2023-01-01', '2023-01-02', '2023-01-02'],\n",
    "    'Category': ['A', 'B', 'A', 'B'],\n",
    "    'Value': [10, 15, 20, 25],\n",
    "    'Quantity': [2, 3, 4, 5]\n",
    "}\n",
    "\n",
    "df = pd.DataFrame(data)\n",
    "df['Date'] = pd.to_datetime(df['Date'])"
   ]
  },
  {
   "cell_type": "code",
   "execution_count": 60,
   "metadata": {},
   "outputs": [
    {
     "name": "stdout",
     "output_type": "stream",
     "text": [
      "Scenario 31: Pivot Table with Multi-level Columns\n",
      "Category      A         B     \n",
      "Value        10   20   15   25\n",
      "Date                          \n",
      "2023-01-01  2.0  NaN  3.0  NaN\n",
      "2023-01-02  NaN  4.0  NaN  5.0\n"
     ]
    }
   ],
   "source": [
    "# Scenario 31: Pivot Table with Multi-level Columns\n",
    "pivot_multi_level_cols = df.pivot_table(index='Date', columns=['Category', 'Value'], values='Quantity', aggfunc='sum')\n",
    "print(\"Scenario 31: Pivot Table with Multi-level Columns\")\n",
    "print(pivot_multi_level_cols)"
   ]
  },
  {
   "cell_type": "code",
   "execution_count": 61,
   "metadata": {},
   "outputs": [
    {
     "name": "stdout",
     "output_type": "stream",
     "text": [
      "\n",
      "Scenario 32: Pivot Table with Custom Aggregation Functions per Column\n",
      "           Quantity    Value    \n",
      "Category          A  B     A   B\n",
      "Date                            \n",
      "2023-01-01        2  3    10  15\n",
      "2023-01-02        4  5    20  25\n"
     ]
    }
   ],
   "source": [
    "# Scenario 32: Pivot Table with Custom Aggregation Functions per Column\n",
    "pivot_custom_agg_per_col = df.pivot_table(index='Date', columns='Category', values=['Value', 'Quantity'], aggfunc={'Value': 'sum', 'Quantity': 'mean'})\n",
    "print(\"\\nScenario 32: Pivot Table with Custom Aggregation Functions per Column\")\n",
    "print(pivot_custom_agg_per_col)"
   ]
  },
  {
   "cell_type": "code",
   "execution_count": 62,
   "metadata": {},
   "outputs": [
    {
     "name": "stdout",
     "output_type": "stream",
     "text": [
      "\n",
      "Scenario 33: Pivot Table with Hierarchical Index and Aggregation\n",
      "                     Value\n",
      "Date       Category       \n",
      "2023-01-01 A            10\n",
      "           B            15\n",
      "2023-01-02 A            20\n",
      "           B            25\n"
     ]
    }
   ],
   "source": [
    "# Scenario 33: Pivot Table with Hierarchical Index and Aggregation\n",
    "pivot_hierarchical_index = df.pivot_table(index=['Date', 'Category'], values='Value', aggfunc='sum')\n",
    "print(\"\\nScenario 33: Pivot Table with Hierarchical Index and Aggregation\")\n",
    "print(pivot_hierarchical_index)"
   ]
  },
  {
   "cell_type": "code",
   "execution_count": 63,
   "metadata": {},
   "outputs": [
    {
     "ename": "TypeError",
     "evalue": "Only valid with DatetimeIndex, TimedeltaIndex or PeriodIndex, but got an instance of 'RangeIndex'",
     "output_type": "error",
     "traceback": [
      "\u001b[1;31m---------------------------------------------------------------------------\u001b[0m",
      "\u001b[1;31mTypeError\u001b[0m                                 Traceback (most recent call last)",
      "Cell \u001b[1;32mIn[63], line 2\u001b[0m\n\u001b[0;32m      1\u001b[0m \u001b[39m# Scenario 34: Pivot Table with Custom Date Resampling and Aggregation\u001b[39;00m\n\u001b[1;32m----> 2\u001b[0m pivot_custom_resampling \u001b[39m=\u001b[39m df\u001b[39m.\u001b[39mpivot_table(index\u001b[39m=\u001b[39mdf[\u001b[39m'\u001b[39;49m\u001b[39mDate\u001b[39;49m\u001b[39m'\u001b[39;49m]\u001b[39m.\u001b[39;49mresample(\u001b[39m'\u001b[39;49m\u001b[39mM\u001b[39;49m\u001b[39m'\u001b[39;49m)\u001b[39m.\u001b[39mmax(), columns\u001b[39m=\u001b[39m\u001b[39m'\u001b[39m\u001b[39mCategory\u001b[39m\u001b[39m'\u001b[39m, values\u001b[39m=\u001b[39m\u001b[39m'\u001b[39m\u001b[39mValue\u001b[39m\u001b[39m'\u001b[39m, aggfunc\u001b[39m=\u001b[39m\u001b[39m'\u001b[39m\u001b[39msum\u001b[39m\u001b[39m'\u001b[39m)\n\u001b[0;32m      3\u001b[0m \u001b[39mprint\u001b[39m(\u001b[39m\"\u001b[39m\u001b[39m\\n\u001b[39;00m\u001b[39mScenario 34: Pivot Table with Custom Date Resampling and Aggregation\u001b[39m\u001b[39m\"\u001b[39m)\n\u001b[0;32m      4\u001b[0m \u001b[39mprint\u001b[39m(pivot_custom_resampling)\n",
      "File \u001b[1;32mc:\\Program Files\\Python311\\Lib\\site-packages\\pandas\\core\\series.py:5872\u001b[0m, in \u001b[0;36mSeries.resample\u001b[1;34m(self, rule, axis, closed, label, convention, kind, loffset, base, on, level, origin, offset, group_keys)\u001b[0m\n\u001b[0;32m   5855\u001b[0m \u001b[39m@doc\u001b[39m(NDFrame\u001b[39m.\u001b[39mresample, \u001b[39m*\u001b[39m\u001b[39m*\u001b[39m_shared_doc_kwargs)  \u001b[39m# type: ignore[has-type]\u001b[39;00m\n\u001b[0;32m   5856\u001b[0m \u001b[39mdef\u001b[39;00m \u001b[39mresample\u001b[39m(\n\u001b[0;32m   5857\u001b[0m     \u001b[39mself\u001b[39m,\n\u001b[1;32m   (...)\u001b[0m\n\u001b[0;32m   5870\u001b[0m     group_keys: \u001b[39mbool\u001b[39m \u001b[39m|\u001b[39m lib\u001b[39m.\u001b[39mNoDefault \u001b[39m=\u001b[39m no_default,\n\u001b[0;32m   5871\u001b[0m ) \u001b[39m-\u001b[39m\u001b[39m>\u001b[39m Resampler:\n\u001b[1;32m-> 5872\u001b[0m     \u001b[39mreturn\u001b[39;00m \u001b[39msuper\u001b[39;49m()\u001b[39m.\u001b[39;49mresample(\n\u001b[0;32m   5873\u001b[0m         rule\u001b[39m=\u001b[39;49mrule,\n\u001b[0;32m   5874\u001b[0m         axis\u001b[39m=\u001b[39;49maxis,\n\u001b[0;32m   5875\u001b[0m         closed\u001b[39m=\u001b[39;49mclosed,\n\u001b[0;32m   5876\u001b[0m         label\u001b[39m=\u001b[39;49mlabel,\n\u001b[0;32m   5877\u001b[0m         convention\u001b[39m=\u001b[39;49mconvention,\n\u001b[0;32m   5878\u001b[0m         kind\u001b[39m=\u001b[39;49mkind,\n\u001b[0;32m   5879\u001b[0m         loffset\u001b[39m=\u001b[39;49mloffset,\n\u001b[0;32m   5880\u001b[0m         base\u001b[39m=\u001b[39;49mbase,\n\u001b[0;32m   5881\u001b[0m         on\u001b[39m=\u001b[39;49mon,\n\u001b[0;32m   5882\u001b[0m         level\u001b[39m=\u001b[39;49mlevel,\n\u001b[0;32m   5883\u001b[0m         origin\u001b[39m=\u001b[39;49morigin,\n\u001b[0;32m   5884\u001b[0m         offset\u001b[39m=\u001b[39;49moffset,\n\u001b[0;32m   5885\u001b[0m         group_keys\u001b[39m=\u001b[39;49mgroup_keys,\n\u001b[0;32m   5886\u001b[0m     )\n",
      "File \u001b[1;32mc:\\Program Files\\Python311\\Lib\\site-packages\\pandas\\core\\generic.py:8858\u001b[0m, in \u001b[0;36mNDFrame.resample\u001b[1;34m(self, rule, axis, closed, label, convention, kind, loffset, base, on, level, origin, offset, group_keys)\u001b[0m\n\u001b[0;32m   8855\u001b[0m \u001b[39mfrom\u001b[39;00m \u001b[39mpandas\u001b[39;00m\u001b[39m.\u001b[39;00m\u001b[39mcore\u001b[39;00m\u001b[39m.\u001b[39;00m\u001b[39mresample\u001b[39;00m \u001b[39mimport\u001b[39;00m get_resampler\n\u001b[0;32m   8857\u001b[0m axis \u001b[39m=\u001b[39m \u001b[39mself\u001b[39m\u001b[39m.\u001b[39m_get_axis_number(axis)\n\u001b[1;32m-> 8858\u001b[0m \u001b[39mreturn\u001b[39;00m get_resampler(\n\u001b[0;32m   8859\u001b[0m     \u001b[39mself\u001b[39;49m,\n\u001b[0;32m   8860\u001b[0m     freq\u001b[39m=\u001b[39;49mrule,\n\u001b[0;32m   8861\u001b[0m     label\u001b[39m=\u001b[39;49mlabel,\n\u001b[0;32m   8862\u001b[0m     closed\u001b[39m=\u001b[39;49mclosed,\n\u001b[0;32m   8863\u001b[0m     axis\u001b[39m=\u001b[39;49maxis,\n\u001b[0;32m   8864\u001b[0m     kind\u001b[39m=\u001b[39;49mkind,\n\u001b[0;32m   8865\u001b[0m     loffset\u001b[39m=\u001b[39;49mloffset,\n\u001b[0;32m   8866\u001b[0m     convention\u001b[39m=\u001b[39;49mconvention,\n\u001b[0;32m   8867\u001b[0m     base\u001b[39m=\u001b[39;49mbase,\n\u001b[0;32m   8868\u001b[0m     key\u001b[39m=\u001b[39;49mon,\n\u001b[0;32m   8869\u001b[0m     level\u001b[39m=\u001b[39;49mlevel,\n\u001b[0;32m   8870\u001b[0m     origin\u001b[39m=\u001b[39;49morigin,\n\u001b[0;32m   8871\u001b[0m     offset\u001b[39m=\u001b[39;49moffset,\n\u001b[0;32m   8872\u001b[0m     group_keys\u001b[39m=\u001b[39;49mgroup_keys,\n\u001b[0;32m   8873\u001b[0m )\n",
      "File \u001b[1;32mc:\\Program Files\\Python311\\Lib\\site-packages\\pandas\\core\\resample.py:1544\u001b[0m, in \u001b[0;36mget_resampler\u001b[1;34m(obj, kind, **kwds)\u001b[0m\n\u001b[0;32m   1540\u001b[0m \u001b[39m\u001b[39m\u001b[39m\"\"\"\u001b[39;00m\n\u001b[0;32m   1541\u001b[0m \u001b[39mCreate a TimeGrouper and return our resampler.\u001b[39;00m\n\u001b[0;32m   1542\u001b[0m \u001b[39m\"\"\"\u001b[39;00m\n\u001b[0;32m   1543\u001b[0m tg \u001b[39m=\u001b[39m TimeGrouper(\u001b[39m*\u001b[39m\u001b[39m*\u001b[39mkwds)\n\u001b[1;32m-> 1544\u001b[0m \u001b[39mreturn\u001b[39;00m tg\u001b[39m.\u001b[39;49m_get_resampler(obj, kind\u001b[39m=\u001b[39;49mkind)\n",
      "File \u001b[1;32mc:\\Program Files\\Python311\\Lib\\site-packages\\pandas\\core\\resample.py:1725\u001b[0m, in \u001b[0;36mTimeGrouper._get_resampler\u001b[1;34m(self, obj, kind)\u001b[0m\n\u001b[0;32m   1720\u001b[0m \u001b[39melif\u001b[39;00m \u001b[39misinstance\u001b[39m(ax, TimedeltaIndex):\n\u001b[0;32m   1721\u001b[0m     \u001b[39mreturn\u001b[39;00m TimedeltaIndexResampler(\n\u001b[0;32m   1722\u001b[0m         obj, groupby\u001b[39m=\u001b[39m\u001b[39mself\u001b[39m, axis\u001b[39m=\u001b[39m\u001b[39mself\u001b[39m\u001b[39m.\u001b[39maxis, group_keys\u001b[39m=\u001b[39m\u001b[39mself\u001b[39m\u001b[39m.\u001b[39mgroup_keys\n\u001b[0;32m   1723\u001b[0m     )\n\u001b[1;32m-> 1725\u001b[0m \u001b[39mraise\u001b[39;00m \u001b[39mTypeError\u001b[39;00m(\n\u001b[0;32m   1726\u001b[0m     \u001b[39m\"\u001b[39m\u001b[39mOnly valid with DatetimeIndex, \u001b[39m\u001b[39m\"\u001b[39m\n\u001b[0;32m   1727\u001b[0m     \u001b[39m\"\u001b[39m\u001b[39mTimedeltaIndex or PeriodIndex, \u001b[39m\u001b[39m\"\u001b[39m\n\u001b[0;32m   1728\u001b[0m     \u001b[39mf\u001b[39m\u001b[39m\"\u001b[39m\u001b[39mbut got an instance of \u001b[39m\u001b[39m'\u001b[39m\u001b[39m{\u001b[39;00m\u001b[39mtype\u001b[39m(ax)\u001b[39m.\u001b[39m\u001b[39m__name__\u001b[39m\u001b[39m}\u001b[39;00m\u001b[39m'\u001b[39m\u001b[39m\"\u001b[39m\n\u001b[0;32m   1729\u001b[0m )\n",
      "\u001b[1;31mTypeError\u001b[0m: Only valid with DatetimeIndex, TimedeltaIndex or PeriodIndex, but got an instance of 'RangeIndex'"
     ]
    }
   ],
   "source": [
    "# Scenario 34: Pivot Table with Custom Date Resampling and Aggregation\n",
    "pivot_custom_resampling = df.pivot_table(index=df['Date'].resample('M').max(), columns='Category', values='Value', aggfunc='sum')\n",
    "print(\"\\nScenario 34: Pivot Table with Custom Date Resampling and Aggregation\")\n",
    "print(pivot_custom_resampling)"
   ]
  },
  {
   "cell_type": "code",
   "execution_count": 64,
   "metadata": {},
   "outputs": [
    {
     "name": "stdout",
     "output_type": "stream",
     "text": [
      "\n",
      "Scenario 35: Pivot Table with Custom Aggregation for Specific Time Periods\n",
      "Category   A   B\n",
      "Date            \n",
      "2023-01   15  20\n"
     ]
    }
   ],
   "source": [
    "# Scenario 35: Pivot Table with Custom Aggregation for Specific Time Periods\n",
    "def custom_agg_period(series):\n",
    "    return series.sum() / len(series)\n",
    "\n",
    "pivot_custom_agg_period = df.pivot_table(index=df['Date'].dt.to_period('M'), columns='Category', values='Value', aggfunc=custom_agg_period)\n",
    "print(\"\\nScenario 35: Pivot Table with Custom Aggregation for Specific Time Periods\")\n",
    "print(pivot_custom_agg_period)"
   ]
  },
  {
   "cell_type": "code",
   "execution_count": 65,
   "metadata": {},
   "outputs": [],
   "source": [
    "# Sample data\n",
    "data = {\n",
    "    'Date': ['2023-01-01', '2023-01-01', '2023-01-02', '2023-01-02'],\n",
    "    'Category': ['A', 'B', 'A', 'B'],\n",
    "    'Value': [10, 15, 20, 25],\n",
    "    'Quantity': [2, 3, 4, 5]\n",
    "}"
   ]
  },
  {
   "cell_type": "code",
   "execution_count": 66,
   "metadata": {},
   "outputs": [],
   "source": [
    "df = pd.DataFrame(data)\n",
    "df['Date'] = pd.to_datetime(df['Date'])"
   ]
  },
  {
   "cell_type": "code",
   "execution_count": 67,
   "metadata": {},
   "outputs": [
    {
     "data": {
      "image/png": "[encoded data removed]",
      "text/plain": [
       "<Figure size 640x480 with 1 Axes>"
      ]
     },
     "metadata": {},
     "output_type": "display_data"
    }
   ],
   "source": [
    "# Scenario 36: Pivot Table with Bar Chart Visualization\n",
    "pivot_bar = df.pivot_table(index='Date', columns='Category', values='Value', aggfunc='sum')\n",
    "pivot_bar.plot(kind='bar')\n",
    "plt.title('Pivot Table Bar Chart')\n",
    "plt.xlabel('Date')\n",
    "plt.ylabel('Total Value')\n",
    "plt.show()"
   ]
  },
  {
   "cell_type": "code",
   "execution_count": 68,
   "metadata": {},
   "outputs": [
    {
     "data": {
      "image/png": "[encoded data removed]",
      "text/plain": [
       "<Figure size 640x480 with 1 Axes>"
      ]
     },
     "metadata": {},
     "output_type": "display_data"
    }
   ],
   "source": [
    "# Scenario 37: Pivot Table with Line Chart Visualization\n",
    "pivot_line = df.pivot_table(index='Date', columns='Category', values='Value', aggfunc='sum')\n",
    "pivot_line.plot(kind='line')\n",
    "plt.title('Pivot Table Line Chart')\n",
    "plt.xlabel('Date')\n",
    "plt.ylabel('Total Value')\n",
    "plt.show()\n"
   ]
  },
  {
   "cell_type": "code",
   "execution_count": 69,
   "metadata": {},
   "outputs": [
    {
     "data": {
      "image/png": "[encoded data removed]",
      "text/plain": [
       "<Figure size 640x480 with 1 Axes>"
      ]
     },
     "metadata": {},
     "output_type": "display_data"
    }
   ],
   "source": [
    "# Scenario 38: Pivot Table with Area Chart Visualization\n",
    "pivot_area = df.pivot_table(index='Date', columns='Category', values='Value', aggfunc='sum')\n",
    "pivot_area.plot(kind='area')\n",
    "plt.title('Pivot Table Area Chart')\n",
    "plt.xlabel('Date')\n",
    "plt.ylabel('Total Value')\n",
    "plt.show()"
   ]
  },
  {
   "cell_type": "code",
   "execution_count": 70,
   "metadata": {},
   "outputs": [
    {
     "data": {
      "image/png": "[encoded data removed]",
      "text/plain": [
       "<Figure size 640x480 with 1 Axes>"
      ]
     },
     "metadata": {},
     "output_type": "display_data"
    }
   ],
   "source": [
    "# Scenario 39: Pivot Table with Scatter Plot Visualization\n",
    "pivot_scatter = df.pivot_table(index='Date', columns='Category', values='Value', aggfunc='sum')\n",
    "pivot_scatter.plot(kind='scatter', x='A', y='B')\n",
    "plt.title('Pivot Table Scatter Plot')\n",
    "plt.xlabel('Category A')\n",
    "plt.ylabel('Category B')\n",
    "plt.show()"
   ]
  },
  {
   "cell_type": "code",
   "execution_count": 71,
   "metadata": {},
   "outputs": [
    {
     "data": {
      "image/png": "[encoded data removed]",
      "text/plain": [
       "<Figure size 640x480 with 1 Axes>"
      ]
     },
     "metadata": {},
     "output_type": "display_data"
    }
   ],
   "source": [
    "# Scenario 40: Pivot Table with Custom Plot Styling and Themes\n",
    "pivot_styled = df.pivot_table(index='Date', columns='Category', values='Value', aggfunc='sum')\n",
    "pivot_styled.plot(kind='bar', colormap='Set3')\n",
    "plt.title('Pivot Table Styled Bar Chart')\n",
    "plt.xlabel('Date')\n",
    "plt.ylabel('Total Value')\n",
    "plt.show()"
   ]
  },
  {
   "cell_type": "code",
   "execution_count": 72,
   "metadata": {},
   "outputs": [],
   "source": [
    "# Sample data\n",
    "data = {\n",
    "    'Date': ['2023-01-01', '2023-01-01', '2023-01-02', '2023-01-02', '2023-01-03', '2023-01-03'],\n",
    "    'Category': ['A', 'B', 'A', 'B', 'A', 'B'],\n",
    "    'Value': [10, 15, 20, 25, 30, 35],\n",
    "    'Quantity': [2, 3, 4, 5, 6, 7]\n",
    "}"
   ]
  },
  {
   "cell_type": "code",
   "execution_count": 73,
   "metadata": {},
   "outputs": [],
   "source": [
    "df = pd.DataFrame(data)\n",
    "df['Date'] = pd.to_datetime(df['Date'])"
   ]
  },
  {
   "cell_type": "code",
   "execution_count": 74,
   "metadata": {},
   "outputs": [
    {
     "name": "stdout",
     "output_type": "stream",
     "text": [
      "Scenario 41: Pivot Table with Rolling Mean\n",
      "Category       A     B\n",
      "Date                  \n",
      "2023-01-01   NaN   NaN\n",
      "2023-01-02  15.0  20.0\n",
      "2023-01-03  25.0  30.0\n"
     ]
    }
   ],
   "source": [
    "# Scenario 41: Pivot Table with Rolling Mean and Standard Deviation\n",
    "pivot_rolling_mean = df.pivot_table(index='Date', columns='Category', values='Value', aggfunc='sum')\n",
    "pivot_rolling_mean = pivot_rolling_mean.rolling(window=2).mean()\n",
    "print(\"Scenario 41: Pivot Table with Rolling Mean\")\n",
    "print(pivot_rolling_mean)"
   ]
  },
  {
   "cell_type": "code",
   "execution_count": 75,
   "metadata": {},
   "outputs": [],
   "source": [
    "pivot_rolling_std = df.pivot_table(index='Date', columns='Category', values='Value', aggfunc='sum')\n",
    "pivot_rolling_std = pivot_rolling_std.rolling(window=2).std()"
   ]
  },
  {
   "cell_type": "code",
   "execution_count": 76,
   "metadata": {},
   "outputs": [
    {
     "name": "stdout",
     "output_type": "stream",
     "text": [
      "\n",
      "Scenario 42: Pivot Table with Time-based Resampling and Aggregation\n",
      "Category     A   B\n",
      "Date              \n",
      "2023-01-01  10  15\n",
      "2023-01-02  20  25\n",
      "2023-01-03  30  35\n"
     ]
    }
   ],
   "source": [
    "# Scenario 42: Pivot Table with Time-based Resampling and Aggregation\n",
    "pivot_resample = df.pivot_table(index='Date', columns='Category', values='Value', aggfunc='sum')\n",
    "pivot_resample = pivot_resample.resample('D').sum()\n",
    "print(\"\\nScenario 42: Pivot Table with Time-based Resampling and Aggregation\")\n",
    "print(pivot_resample)"
   ]
  },
  {
   "cell_type": "code",
   "execution_count": 77,
   "metadata": {},
   "outputs": [
    {
     "name": "stdout",
     "output_type": "stream",
     "text": [
      "\n",
      "Scenario 43: Pivot Table with Moving Averages\n",
      "Category       A     B\n",
      "Date                  \n",
      "2023-01-01   NaN   NaN\n",
      "2023-01-02  15.0  20.0\n",
      "2023-01-03  25.0  30.0\n"
     ]
    }
   ],
   "source": [
    "# Scenario 43: Pivot Table with Moving Averages and Exponential Smoothing\n",
    "pivot_moving_average = df.pivot_table(index='Date', columns='Category', values='Value', aggfunc='sum')\n",
    "pivot_moving_average = pivot_moving_average.rolling(window=2).mean()\n",
    "print(\"\\nScenario 43: Pivot Table with Moving Averages\")\n",
    "print(pivot_moving_average)"
   ]
  },
  {
   "cell_type": "code",
   "execution_count": 78,
   "metadata": {},
   "outputs": [
    {
     "name": "stdout",
     "output_type": "stream",
     "text": [
      "\n",
      "Scenario 44: Pivot Table with Time Shifts\n",
      "Category       A     B\n",
      "Date                  \n",
      "2023-01-01   NaN   NaN\n",
      "2023-01-02  10.0  15.0\n",
      "2023-01-03  20.0  25.0\n"
     ]
    }
   ],
   "source": [
    "# Scenario 44: Pivot Table with Time Shifts and Lagged Aggregation\n",
    "pivot_shifted = df.pivot_table(index='Date', columns='Category', values='Value', aggfunc='sum')\n",
    "pivot_shifted = pivot_shifted.shift(periods=1)\n",
    "print(\"\\nScenario 44: Pivot Table with Time Shifts\")\n",
    "print(pivot_shifted)"
   ]
  },
  {
   "cell_type": "code",
   "execution_count": 79,
   "metadata": {},
   "outputs": [
    {
     "name": "stdout",
     "output_type": "stream",
     "text": [
      "\n",
      "Scenario 45: Pivot Table with Time-based Grouping and Aggregation\n",
      "Category    A   B\n",
      "Date Date        \n",
      "0    0     60  75\n"
     ]
    }
   ],
   "source": [
    "# Scenario 45: Pivot Table with Time-based Grouping and Aggregation\n",
    "pivot_time_group = df.pivot_table(index=[df['Date'].dt.hour, df['Date'].dt.minute], columns='Category', values='Value', aggfunc='sum')\n",
    "print(\"\\nScenario 45: Pivot Table with Time-based Grouping and Aggregation\")\n",
    "print(pivot_time_group)"
   ]
  },
  {
   "cell_type": "code",
   "execution_count": 83,
   "metadata": {},
   "outputs": [],
   "source": [
    "# Sample data\n",
    "data = {\n",
    "    'Date': ['2023-01-01', '2023-01-01', '2023-01-02', '2023-01-02', '2023-01-03', '2023-01-03'],\n",
    "    'Category': ['A', 'B', 'A', 'B', 'A', 'B'],\n",
    "    'Value': [10, 15, 20, 25, 30, 35],\n",
    "    'Weight': [2, 3, 4, 5, 6, 7]\n",
    "}"
   ]
  },
  {
   "cell_type": "code",
   "execution_count": 84,
   "metadata": {},
   "outputs": [],
   "source": [
    "df = pd.DataFrame(data)\n",
    "df['Date'] = pd.to_datetime(df['Date'])"
   ]
  },
  {
   "cell_type": "code",
   "execution_count": 86,
   "metadata": {},
   "outputs": [
    {
     "ename": "KeyError",
     "evalue": "'Value'",
     "output_type": "error",
     "traceback": [
      "\u001b[1;31m---------------------------------------------------------------------------\u001b[0m",
      "\u001b[1;31mKeyError\u001b[0m                                  Traceback (most recent call last)",
      "File \u001b[1;32mc:\\Program Files\\Python311\\Lib\\site-packages\\pandas\\core\\indexes\\base.py:3802\u001b[0m, in \u001b[0;36mIndex.get_loc\u001b[1;34m(self, key, method, tolerance)\u001b[0m\n\u001b[0;32m   3801\u001b[0m \u001b[39mtry\u001b[39;00m:\n\u001b[1;32m-> 3802\u001b[0m     \u001b[39mreturn\u001b[39;00m \u001b[39mself\u001b[39;49m\u001b[39m.\u001b[39;49m_engine\u001b[39m.\u001b[39;49mget_loc(casted_key)\n\u001b[0;32m   3803\u001b[0m \u001b[39mexcept\u001b[39;00m \u001b[39mKeyError\u001b[39;00m \u001b[39mas\u001b[39;00m err:\n",
      "File \u001b[1;32mc:\\Program Files\\Python311\\Lib\\site-packages\\pandas\\_libs\\index.pyx:138\u001b[0m, in \u001b[0;36mpandas._libs.index.IndexEngine.get_loc\u001b[1;34m()\u001b[0m\n",
      "File \u001b[1;32mc:\\Program Files\\Python311\\Lib\\site-packages\\pandas\\_libs\\index.pyx:146\u001b[0m, in \u001b[0;36mpandas._libs.index.IndexEngine.get_loc\u001b[1;34m()\u001b[0m\n",
      "File \u001b[1;32mpandas\\_libs\\index_class_helper.pxi:49\u001b[0m, in \u001b[0;36mpandas._libs.index.Int64Engine._check_type\u001b[1;34m()\u001b[0m\n",
      "\u001b[1;31mKeyError\u001b[0m: 'Value'",
      "\nThe above exception was the direct cause of the following exception:\n",
      "\u001b[1;31mKeyError\u001b[0m                                  Traceback (most recent call last)",
      "Cell \u001b[1;32mIn[86], line 4\u001b[0m\n\u001b[0;32m      2\u001b[0m \u001b[39mdef\u001b[39;00m \u001b[39mweighted_average\u001b[39m(series):\n\u001b[0;32m      3\u001b[0m     \u001b[39mreturn\u001b[39;00m (series[\u001b[39m'\u001b[39m\u001b[39mValue\u001b[39m\u001b[39m'\u001b[39m] \u001b[39m*\u001b[39m series[\u001b[39m'\u001b[39m\u001b[39mWeight\u001b[39m\u001b[39m'\u001b[39m])\u001b[39m.\u001b[39msum() \u001b[39m/\u001b[39m series[\u001b[39m'\u001b[39m\u001b[39mWeight\u001b[39m\u001b[39m'\u001b[39m]\u001b[39m.\u001b[39msum()\n\u001b[1;32m----> 4\u001b[0m pivot_weighted_avg \u001b[39m=\u001b[39m df\u001b[39m.\u001b[39;49mpivot_table(index\u001b[39m=\u001b[39;49m\u001b[39m'\u001b[39;49m\u001b[39mDate\u001b[39;49m\u001b[39m'\u001b[39;49m, columns\u001b[39m=\u001b[39;49m\u001b[39m'\u001b[39;49m\u001b[39mCategory\u001b[39;49m\u001b[39m'\u001b[39;49m, values\u001b[39m=\u001b[39;49m\u001b[39m'\u001b[39;49m\u001b[39mValue\u001b[39;49m\u001b[39m'\u001b[39;49m, aggfunc\u001b[39m=\u001b[39;49mweighted_average)\n\u001b[0;32m      5\u001b[0m \u001b[39mprint\u001b[39m(\u001b[39m\"\u001b[39m\u001b[39mScenario 46: Pivot Table with Weighted Average Calculation\u001b[39m\u001b[39m\"\u001b[39m)\n\u001b[0;32m      6\u001b[0m \u001b[39mprint\u001b[39m(pivot_weighted_avg)\n",
      "File \u001b[1;32mc:\\Program Files\\Python311\\Lib\\site-packages\\pandas\\core\\frame.py:8731\u001b[0m, in \u001b[0;36mDataFrame.pivot_table\u001b[1;34m(self, values, index, columns, aggfunc, fill_value, margins, dropna, margins_name, observed, sort)\u001b[0m\n\u001b[0;32m   8714\u001b[0m \u001b[39m@Substitution\u001b[39m(\u001b[39m\"\u001b[39m\u001b[39m\"\u001b[39m)\n\u001b[0;32m   8715\u001b[0m \u001b[39m@Appender\u001b[39m(_shared_docs[\u001b[39m\"\u001b[39m\u001b[39mpivot_table\u001b[39m\u001b[39m\"\u001b[39m])\n\u001b[0;32m   8716\u001b[0m \u001b[39mdef\u001b[39;00m \u001b[39mpivot_table\u001b[39m(\n\u001b[1;32m   (...)\u001b[0m\n\u001b[0;32m   8727\u001b[0m     sort\u001b[39m=\u001b[39m\u001b[39mTrue\u001b[39;00m,\n\u001b[0;32m   8728\u001b[0m ) \u001b[39m-\u001b[39m\u001b[39m>\u001b[39m DataFrame:\n\u001b[0;32m   8729\u001b[0m     \u001b[39mfrom\u001b[39;00m \u001b[39mpandas\u001b[39;00m\u001b[39m.\u001b[39;00m\u001b[39mcore\u001b[39;00m\u001b[39m.\u001b[39;00m\u001b[39mreshape\u001b[39;00m\u001b[39m.\u001b[39;00m\u001b[39mpivot\u001b[39;00m \u001b[39mimport\u001b[39;00m pivot_table\n\u001b[1;32m-> 8731\u001b[0m     \u001b[39mreturn\u001b[39;00m pivot_table(\n\u001b[0;32m   8732\u001b[0m         \u001b[39mself\u001b[39;49m,\n\u001b[0;32m   8733\u001b[0m         values\u001b[39m=\u001b[39;49mvalues,\n\u001b[0;32m   8734\u001b[0m         index\u001b[39m=\u001b[39;49mindex,\n\u001b[0;32m   8735\u001b[0m         columns\u001b[39m=\u001b[39;49mcolumns,\n\u001b[0;32m   8736\u001b[0m         aggfunc\u001b[39m=\u001b[39;49maggfunc,\n\u001b[0;32m   8737\u001b[0m         fill_value\u001b[39m=\u001b[39;49mfill_value,\n\u001b[0;32m   8738\u001b[0m         margins\u001b[39m=\u001b[39;49mmargins,\n\u001b[0;32m   8739\u001b[0m         dropna\u001b[39m=\u001b[39;49mdropna,\n\u001b[0;32m   8740\u001b[0m         margins_name\u001b[39m=\u001b[39;49mmargins_name,\n\u001b[0;32m   8741\u001b[0m         observed\u001b[39m=\u001b[39;49mobserved,\n\u001b[0;32m   8742\u001b[0m         sort\u001b[39m=\u001b[39;49msort,\n\u001b[0;32m   8743\u001b[0m     )\n",
      "File \u001b[1;32mc:\\Program Files\\Python311\\Lib\\site-packages\\pandas\\core\\reshape\\pivot.py:97\u001b[0m, in \u001b[0;36mpivot_table\u001b[1;34m(data, values, index, columns, aggfunc, fill_value, margins, dropna, margins_name, observed, sort)\u001b[0m\n\u001b[0;32m     94\u001b[0m     table \u001b[39m=\u001b[39m concat(pieces, keys\u001b[39m=\u001b[39mkeys, axis\u001b[39m=\u001b[39m\u001b[39m1\u001b[39m)\n\u001b[0;32m     95\u001b[0m     \u001b[39mreturn\u001b[39;00m table\u001b[39m.\u001b[39m__finalize__(data, method\u001b[39m=\u001b[39m\u001b[39m\"\u001b[39m\u001b[39mpivot_table\u001b[39m\u001b[39m\"\u001b[39m)\n\u001b[1;32m---> 97\u001b[0m table \u001b[39m=\u001b[39m __internal_pivot_table(\n\u001b[0;32m     98\u001b[0m     data,\n\u001b[0;32m     99\u001b[0m     values,\n\u001b[0;32m    100\u001b[0m     index,\n\u001b[0;32m    101\u001b[0m     columns,\n\u001b[0;32m    102\u001b[0m     aggfunc,\n\u001b[0;32m    103\u001b[0m     fill_value,\n\u001b[0;32m    104\u001b[0m     margins,\n\u001b[0;32m    105\u001b[0m     dropna,\n\u001b[0;32m    106\u001b[0m     margins_name,\n\u001b[0;32m    107\u001b[0m     observed,\n\u001b[0;32m    108\u001b[0m     sort,\n\u001b[0;32m    109\u001b[0m )\n\u001b[0;32m    110\u001b[0m \u001b[39mreturn\u001b[39;00m table\u001b[39m.\u001b[39m__finalize__(data, method\u001b[39m=\u001b[39m\u001b[39m\"\u001b[39m\u001b[39mpivot_table\u001b[39m\u001b[39m\"\u001b[39m)\n",
      "File \u001b[1;32mc:\\Program Files\\Python311\\Lib\\site-packages\\pandas\\core\\reshape\\pivot.py:177\u001b[0m, in \u001b[0;36m__internal_pivot_table\u001b[1;34m(data, values, index, columns, aggfunc, fill_value, margins, dropna, margins_name, observed, sort)\u001b[0m\n\u001b[0;32m    167\u001b[0m msg \u001b[39m=\u001b[39m (\n\u001b[0;32m    168\u001b[0m     \u001b[39m\"\u001b[39m\u001b[39mpivot_table dropped a column because it failed to aggregate. This behavior \u001b[39m\u001b[39m\"\u001b[39m\n\u001b[0;32m    169\u001b[0m     \u001b[39m\"\u001b[39m\u001b[39mis deprecated and will raise in a future version of pandas. Select only the \u001b[39m\u001b[39m\"\u001b[39m\n\u001b[0;32m    170\u001b[0m     \u001b[39m\"\u001b[39m\u001b[39mcolumns that can be aggregated.\u001b[39m\u001b[39m\"\u001b[39m\n\u001b[0;32m    171\u001b[0m )\n\u001b[0;32m    172\u001b[0m \u001b[39mwith\u001b[39;00m rewrite_warning(\n\u001b[0;32m    173\u001b[0m     target_message\u001b[39m=\u001b[39m\u001b[39m\"\u001b[39m\u001b[39mThe default value of numeric_only\u001b[39m\u001b[39m\"\u001b[39m,\n\u001b[0;32m    174\u001b[0m     target_category\u001b[39m=\u001b[39m\u001b[39mFutureWarning\u001b[39;00m,\n\u001b[0;32m    175\u001b[0m     new_message\u001b[39m=\u001b[39mmsg,\n\u001b[0;32m    176\u001b[0m ):\n\u001b[1;32m--> 177\u001b[0m     agged \u001b[39m=\u001b[39m grouped\u001b[39m.\u001b[39;49magg(aggfunc)\n\u001b[0;32m    179\u001b[0m \u001b[39mif\u001b[39;00m dropna \u001b[39mand\u001b[39;00m \u001b[39misinstance\u001b[39m(agged, ABCDataFrame) \u001b[39mand\u001b[39;00m \u001b[39mlen\u001b[39m(agged\u001b[39m.\u001b[39mcolumns):\n\u001b[0;32m    180\u001b[0m     agged \u001b[39m=\u001b[39m agged\u001b[39m.\u001b[39mdropna(how\u001b[39m=\u001b[39m\u001b[39m\"\u001b[39m\u001b[39mall\u001b[39m\u001b[39m\"\u001b[39m)\n",
      "File \u001b[1;32mc:\\Program Files\\Python311\\Lib\\site-packages\\pandas\\core\\groupby\\generic.py:909\u001b[0m, in \u001b[0;36mDataFrameGroupBy.aggregate\u001b[1;34m(self, func, engine, engine_kwargs, *args, **kwargs)\u001b[0m\n\u001b[0;32m    904\u001b[0m \u001b[39mif\u001b[39;00m result \u001b[39mis\u001b[39;00m \u001b[39mNone\u001b[39;00m:\n\u001b[0;32m    905\u001b[0m \n\u001b[0;32m    906\u001b[0m     \u001b[39m# grouper specific aggregations\u001b[39;00m\n\u001b[0;32m    907\u001b[0m     \u001b[39mif\u001b[39;00m \u001b[39mself\u001b[39m\u001b[39m.\u001b[39mgrouper\u001b[39m.\u001b[39mnkeys \u001b[39m>\u001b[39m \u001b[39m1\u001b[39m:\n\u001b[0;32m    908\u001b[0m         \u001b[39m# test_groupby_as_index_series_scalar gets here with 'not self.as_index'\u001b[39;00m\n\u001b[1;32m--> 909\u001b[0m         \u001b[39mreturn\u001b[39;00m \u001b[39mself\u001b[39;49m\u001b[39m.\u001b[39;49m_python_agg_general(func, \u001b[39m*\u001b[39;49margs, \u001b[39m*\u001b[39;49m\u001b[39m*\u001b[39;49mkwargs)\n\u001b[0;32m    910\u001b[0m     \u001b[39melif\u001b[39;00m args \u001b[39mor\u001b[39;00m kwargs:\n\u001b[0;32m    911\u001b[0m         \u001b[39m# test_pass_args_kwargs gets here (with and without as_index)\u001b[39;00m\n\u001b[0;32m    912\u001b[0m         \u001b[39m# can't return early\u001b[39;00m\n\u001b[0;32m    913\u001b[0m         result \u001b[39m=\u001b[39m \u001b[39mself\u001b[39m\u001b[39m.\u001b[39m_aggregate_frame(func, \u001b[39m*\u001b[39margs, \u001b[39m*\u001b[39m\u001b[39m*\u001b[39mkwargs)\n",
      "File \u001b[1;32mc:\\Program Files\\Python311\\Lib\\site-packages\\pandas\\core\\groupby\\groupby.py:1682\u001b[0m, in \u001b[0;36mGroupBy._python_agg_general\u001b[1;34m(self, func, raise_on_typeerror, *args, **kwargs)\u001b[0m\n\u001b[0;32m   1678\u001b[0m name \u001b[39m=\u001b[39m obj\u001b[39m.\u001b[39mname\n\u001b[0;32m   1680\u001b[0m \u001b[39mtry\u001b[39;00m:\n\u001b[0;32m   1681\u001b[0m     \u001b[39m# if this function is invalid for this dtype, we will ignore it.\u001b[39;00m\n\u001b[1;32m-> 1682\u001b[0m     result \u001b[39m=\u001b[39m \u001b[39mself\u001b[39;49m\u001b[39m.\u001b[39;49mgrouper\u001b[39m.\u001b[39;49magg_series(obj, f)\n\u001b[0;32m   1683\u001b[0m \u001b[39mexcept\u001b[39;00m \u001b[39mTypeError\u001b[39;00m:\n\u001b[0;32m   1684\u001b[0m     \u001b[39mif\u001b[39;00m raise_on_typeerror:\n",
      "File \u001b[1;32mc:\\Program Files\\Python311\\Lib\\site-packages\\pandas\\core\\groupby\\ops.py:1081\u001b[0m, in \u001b[0;36mBaseGrouper.agg_series\u001b[1;34m(self, obj, func, preserve_dtype)\u001b[0m\n\u001b[0;32m   1078\u001b[0m     preserve_dtype \u001b[39m=\u001b[39m \u001b[39mTrue\u001b[39;00m\n\u001b[0;32m   1080\u001b[0m \u001b[39melse\u001b[39;00m:\n\u001b[1;32m-> 1081\u001b[0m     result \u001b[39m=\u001b[39m \u001b[39mself\u001b[39;49m\u001b[39m.\u001b[39;49m_aggregate_series_pure_python(obj, func)\n\u001b[0;32m   1083\u001b[0m npvalues \u001b[39m=\u001b[39m lib\u001b[39m.\u001b[39mmaybe_convert_objects(result, try_float\u001b[39m=\u001b[39m\u001b[39mFalse\u001b[39;00m)\n\u001b[0;32m   1084\u001b[0m \u001b[39mif\u001b[39;00m preserve_dtype:\n",
      "File \u001b[1;32mc:\\Program Files\\Python311\\Lib\\site-packages\\pandas\\core\\groupby\\ops.py:1104\u001b[0m, in \u001b[0;36mBaseGrouper._aggregate_series_pure_python\u001b[1;34m(self, obj, func)\u001b[0m\n\u001b[0;32m   1101\u001b[0m splitter \u001b[39m=\u001b[39m get_splitter(obj, ids, ngroups, axis\u001b[39m=\u001b[39m\u001b[39m0\u001b[39m)\n\u001b[0;32m   1103\u001b[0m \u001b[39mfor\u001b[39;00m i, group \u001b[39min\u001b[39;00m \u001b[39menumerate\u001b[39m(splitter):\n\u001b[1;32m-> 1104\u001b[0m     res \u001b[39m=\u001b[39m func(group)\n\u001b[0;32m   1105\u001b[0m     res \u001b[39m=\u001b[39m libreduction\u001b[39m.\u001b[39mextract_result(res)\n\u001b[0;32m   1107\u001b[0m     \u001b[39mif\u001b[39;00m \u001b[39mnot\u001b[39;00m initialized:\n\u001b[0;32m   1108\u001b[0m         \u001b[39m# We only do this validation on the first iteration\u001b[39;00m\n",
      "File \u001b[1;32mc:\\Program Files\\Python311\\Lib\\site-packages\\pandas\\core\\groupby\\groupby.py:1668\u001b[0m, in \u001b[0;36mGroupBy._python_agg_general.<locals>.<lambda>\u001b[1;34m(x)\u001b[0m\n\u001b[0;32m   1665\u001b[0m \u001b[39m@final\u001b[39m\n\u001b[0;32m   1666\u001b[0m \u001b[39mdef\u001b[39;00m \u001b[39m_python_agg_general\u001b[39m(\u001b[39mself\u001b[39m, func, \u001b[39m*\u001b[39margs, raise_on_typeerror\u001b[39m=\u001b[39m\u001b[39mFalse\u001b[39;00m, \u001b[39m*\u001b[39m\u001b[39m*\u001b[39mkwargs):\n\u001b[0;32m   1667\u001b[0m     func \u001b[39m=\u001b[39m com\u001b[39m.\u001b[39mis_builtin_func(func)\n\u001b[1;32m-> 1668\u001b[0m     f \u001b[39m=\u001b[39m \u001b[39mlambda\u001b[39;00m x: func(x, \u001b[39m*\u001b[39;49margs, \u001b[39m*\u001b[39;49m\u001b[39m*\u001b[39;49mkwargs)\n\u001b[0;32m   1670\u001b[0m     \u001b[39m# iterate through \"columns\" ex exclusions to populate output dict\u001b[39;00m\n\u001b[0;32m   1671\u001b[0m     output: \u001b[39mdict\u001b[39m[base\u001b[39m.\u001b[39mOutputKey, ArrayLike] \u001b[39m=\u001b[39m {}\n",
      "Cell \u001b[1;32mIn[86], line 3\u001b[0m, in \u001b[0;36mweighted_average\u001b[1;34m(series)\u001b[0m\n\u001b[0;32m      2\u001b[0m \u001b[39mdef\u001b[39;00m \u001b[39mweighted_average\u001b[39m(series):\n\u001b[1;32m----> 3\u001b[0m     \u001b[39mreturn\u001b[39;00m (series[\u001b[39m'\u001b[39;49m\u001b[39mValue\u001b[39;49m\u001b[39m'\u001b[39;49m] \u001b[39m*\u001b[39m series[\u001b[39m'\u001b[39m\u001b[39mWeight\u001b[39m\u001b[39m'\u001b[39m])\u001b[39m.\u001b[39msum() \u001b[39m/\u001b[39m series[\u001b[39m'\u001b[39m\u001b[39mWeight\u001b[39m\u001b[39m'\u001b[39m]\u001b[39m.\u001b[39msum()\n",
      "File \u001b[1;32mc:\\Program Files\\Python311\\Lib\\site-packages\\pandas\\core\\series.py:981\u001b[0m, in \u001b[0;36mSeries.__getitem__\u001b[1;34m(self, key)\u001b[0m\n\u001b[0;32m    978\u001b[0m     \u001b[39mreturn\u001b[39;00m \u001b[39mself\u001b[39m\u001b[39m.\u001b[39m_values[key]\n\u001b[0;32m    980\u001b[0m \u001b[39melif\u001b[39;00m key_is_scalar:\n\u001b[1;32m--> 981\u001b[0m     \u001b[39mreturn\u001b[39;00m \u001b[39mself\u001b[39;49m\u001b[39m.\u001b[39;49m_get_value(key)\n\u001b[0;32m    983\u001b[0m \u001b[39mif\u001b[39;00m is_hashable(key):\n\u001b[0;32m    984\u001b[0m     \u001b[39m# Otherwise index.get_value will raise InvalidIndexError\u001b[39;00m\n\u001b[0;32m    985\u001b[0m     \u001b[39mtry\u001b[39;00m:\n\u001b[0;32m    986\u001b[0m         \u001b[39m# For labels that don't resolve as scalars like tuples and frozensets\u001b[39;00m\n",
      "File \u001b[1;32mc:\\Program Files\\Python311\\Lib\\site-packages\\pandas\\core\\series.py:1089\u001b[0m, in \u001b[0;36mSeries._get_value\u001b[1;34m(self, label, takeable)\u001b[0m\n\u001b[0;32m   1086\u001b[0m     \u001b[39mreturn\u001b[39;00m \u001b[39mself\u001b[39m\u001b[39m.\u001b[39m_values[label]\n\u001b[0;32m   1088\u001b[0m \u001b[39m# Similar to Index.get_value, but we do not fall back to positional\u001b[39;00m\n\u001b[1;32m-> 1089\u001b[0m loc \u001b[39m=\u001b[39m \u001b[39mself\u001b[39;49m\u001b[39m.\u001b[39;49mindex\u001b[39m.\u001b[39;49mget_loc(label)\n\u001b[0;32m   1090\u001b[0m \u001b[39mreturn\u001b[39;00m \u001b[39mself\u001b[39m\u001b[39m.\u001b[39mindex\u001b[39m.\u001b[39m_get_values_for_loc(\u001b[39mself\u001b[39m, loc, label)\n",
      "File \u001b[1;32mc:\\Program Files\\Python311\\Lib\\site-packages\\pandas\\core\\indexes\\base.py:3804\u001b[0m, in \u001b[0;36mIndex.get_loc\u001b[1;34m(self, key, method, tolerance)\u001b[0m\n\u001b[0;32m   3802\u001b[0m     \u001b[39mreturn\u001b[39;00m \u001b[39mself\u001b[39m\u001b[39m.\u001b[39m_engine\u001b[39m.\u001b[39mget_loc(casted_key)\n\u001b[0;32m   3803\u001b[0m \u001b[39mexcept\u001b[39;00m \u001b[39mKeyError\u001b[39;00m \u001b[39mas\u001b[39;00m err:\n\u001b[1;32m-> 3804\u001b[0m     \u001b[39mraise\u001b[39;00m \u001b[39mKeyError\u001b[39;00m(key) \u001b[39mfrom\u001b[39;00m \u001b[39merr\u001b[39;00m\n\u001b[0;32m   3805\u001b[0m \u001b[39mexcept\u001b[39;00m \u001b[39mTypeError\u001b[39;00m:\n\u001b[0;32m   3806\u001b[0m     \u001b[39m# If we have a listlike key, _check_indexing_error will raise\u001b[39;00m\n\u001b[0;32m   3807\u001b[0m     \u001b[39m#  InvalidIndexError. Otherwise we fall through and re-raise\u001b[39;00m\n\u001b[0;32m   3808\u001b[0m     \u001b[39m#  the TypeError.\u001b[39;00m\n\u001b[0;32m   3809\u001b[0m     \u001b[39mself\u001b[39m\u001b[39m.\u001b[39m_check_indexing_error(key)\n",
      "\u001b[1;31mKeyError\u001b[0m: 'Value'"
     ]
    }
   ],
   "source": [
    "# Scenario 46: Pivot Table with Weighted Average Calculation\n",
    "def weighted_average(series):\n",
    "    return (series['Value'] * series['Weight']).sum() / series['Weight'].sum()\n",
    "pivot_weighted_avg = df.pivot_table(index='Date', columns='Category', values='Value', aggfunc=weighted_average)\n",
    "print(\"Scenario 46: Pivot Table with Weighted Average Calculation\")\n",
    "print(pivot_weighted_avg)\n"
   ]
  },
  {
   "cell_type": "code",
   "execution_count": 88,
   "metadata": {},
   "outputs": [
    {
     "name": "stdout",
     "output_type": "stream",
     "text": [
      "\n",
      "Scenario 47: Pivot Table with Custom Aggregation and Condition Filtering\n",
      "Category     A   B\n",
      "Date              \n",
      "2023-01-01   0   0\n",
      "2023-01-02   0  25\n",
      "2023-01-03  30  35\n"
     ]
    }
   ],
   "source": [
    "# Scenario 47: Pivot Table with Custom Aggregation and Condition Filtering\n",
    "def custom_agg_condition(series):\n",
    "    return series[series >= 25].sum()\n",
    "pivot_agg_condition = df.pivot_table(index='Date', columns='Category', values='Value', aggfunc=custom_agg_condition)\n",
    "print(\"\\nScenario 47: Pivot Table with Custom Aggregation and Condition Filtering\")\n",
    "print(pivot_agg_condition)"
   ]
  },
  {
   "cell_type": "code",
   "execution_count": 89,
   "metadata": {},
   "outputs": [
    {
     "name": "stdout",
     "output_type": "stream",
     "text": [
      "\n",
      "Scenario 48: Pivot Table with Custom Aggregation and Multiple Conditions\n",
      "Category     A   B\n",
      "Date              \n",
      "2023-01-01   0   0\n",
      "2023-01-02  20  25\n",
      "2023-01-03  30   0\n"
     ]
    }
   ],
   "source": [
    "# Scenario 48: Pivot Table with Custom Aggregation and Multiple Conditions\n",
    "def custom_agg_multi_condition(series):\n",
    "    return series[(series >= 20) & (series <= 30)].sum()\n",
    "pivot_agg_multi_condition = df.pivot_table(index='Date', columns='Category', values='Value', aggfunc=custom_agg_multi_condition)\n",
    "print(\"\\nScenario 48: Pivot Table with Custom Aggregation and Multiple Conditions\")\n",
    "print(pivot_agg_multi_condition)\n"
   ]
  },
  {
   "cell_type": "code",
   "execution_count": 90,
   "metadata": {},
   "outputs": [
    {
     "name": "stdout",
     "output_type": "stream",
     "text": [
      "\n",
      "Scenario 49: Pivot Table with Custom Aggregation for Financial Data (OHLC)\n",
      "           Close High  Low Open\n",
      "Category       A    A    A    A\n",
      "Date                           \n",
      "2023-01-01   167  175  151  157\n",
      "2023-01-02   187  195  174  181\n"
     ]
    }
   ],
   "source": [
    "# Scenario 49: Pivot Table with Custom Aggregation for Financial Data (OHLC)\n",
    "data_ohlc = {\n",
    "    'Date': ['2023-01-01', '2023-01-01', '2023-01-01', '2023-01-02', '2023-01-02', '2023-01-02'],\n",
    "    'Category': ['A', 'A', 'A', 'A', 'A', 'A'],\n",
    "    'Open': [50, 52, 55, 60, 58, 63],\n",
    "    'High': [55, 60, 60, 65, 62, 68],\n",
    "    'Low': [48, 50, 53, 58, 56, 60],\n",
    "    'Close': [52, 58, 57, 62, 60, 65]\n",
    "}\n",
    "\n",
    "df_ohlc = pd.DataFrame(data_ohlc)\n",
    "df_ohlc['Date'] = pd.to_datetime(df_ohlc['Date'])\n",
    "\n",
    "pivot_ohlc = df_ohlc.pivot_table(index='Date', columns='Category', values=['Open', 'High', 'Low', 'Close'], aggfunc='sum')\n",
    "print(\"\\nScenario 49: Pivot Table with Custom Aggregation for Financial Data (OHLC)\")\n",
    "print(pivot_ohlc)"
   ]
  },
  {
   "cell_type": "code",
   "execution_count": 91,
   "metadata": {},
   "outputs": [
    {
     "name": "stdout",
     "output_type": "stream",
     "text": [
      "\n",
      "Scenario 50: Pivot Table with User-defined Function for Aggregation\n",
      "Category    A  B\n",
      "Date            \n",
      "2023-01-01  0  0\n",
      "2023-01-02  0  0\n",
      "2023-01-03  0  0\n"
     ]
    }
   ],
   "source": [
    "# Scenario 50: Pivot Table with User-defined Function for Aggregation\n",
    "def custom_agg_function(series):\n",
    "    return series.diff().sum()\n",
    "\n",
    "pivot_custom_agg_function = df.pivot_table(index='Date', columns='Category', values='Value', aggfunc=custom_agg_function)\n",
    "print(\"\\nScenario 50: Pivot Table with User-defined Function for Aggregation\")\n",
    "print(pivot_custom_agg_function)"
   ]
  },
  {
   "cell_type": "code",
   "execution_count": 92,
   "metadata": {},
   "outputs": [],
   "source": [
    "# Sample data\n",
    "data = {\n",
    "    'Date': ['2023-01-01', '2023-01-01', '2023-01-02', '2023-01-02', '2023-01-03', '2023-01-03'],\n",
    "    'Category': ['A', 'B', 'A', 'B', 'A', 'B'],\n",
    "    'Description': ['Good', 'Average', 'Excellent', 'Good', 'Excellent', 'Average']\n",
    "}"
   ]
  },
  {
   "cell_type": "code",
   "execution_count": 93,
   "metadata": {},
   "outputs": [],
   "source": [
    "df = pd.DataFrame(data)\n",
    "df['Date'] = pd.to_datetime(df['Date'])"
   ]
  },
  {
   "cell_type": "code",
   "execution_count": 103,
   "metadata": {},
   "outputs": [
    {
     "name": "stdout",
     "output_type": "stream",
     "text": [
      "Scenario 51: Pivot Table with Text Data and Aggregation\n",
      "Category            A        B\n",
      "Date                          \n",
      "2023-01-01       Good  Average\n",
      "2023-01-02  Excellent     Good\n",
      "2023-01-03  Excellent  Average\n"
     ]
    }
   ],
   "source": [
    "# Scenario 51: Pivot Table with Text Data and Aggregation\n",
    "pivot_text_agg = df.pivot_table(index='Date', columns='Category', values='Description', aggfunc='first')\n",
    "print(\"Scenario 51: Pivot Table with Text Data and Aggregation\")\n",
    "print(pivot_text_agg)"
   ]
  },
  {
   "cell_type": "code",
   "execution_count": 104,
   "metadata": {},
   "outputs": [
    {
     "name": "stdout",
     "output_type": "stream",
     "text": [
      "\n",
      "Scenario 52: Pivot Table with Text Data and Custom Aggregation Functions\n",
      "Category            A        B\n",
      "Date                          \n",
      "2023-01-01       Good  Average\n",
      "2023-01-02  Excellent     Good\n",
      "2023-01-03  Excellent  Average\n"
     ]
    }
   ],
   "source": [
    "# Scenario 52: Pivot Table with Text Data and Custom Aggregation Functions\n",
    "def custom_text_agg(series):\n",
    "    return ', '.join(series)\n",
    "\n",
    "pivot_custom_text_agg = df.pivot_table(index='Date', columns='Category', values='Description', aggfunc=custom_text_agg)\n",
    "print(\"\\nScenario 52: Pivot Table with Text Data and Custom Aggregation Functions\")\n",
    "print(pivot_custom_text_agg)"
   ]
  },
  {
   "cell_type": "code",
   "execution_count": 105,
   "metadata": {},
   "outputs": [
    {
     "name": "stdout",
     "output_type": "stream",
     "text": [
      "\n",
      "Scenario 53: Pivot Table with Text Data and String Concatenation\n",
      "Category            A        B\n",
      "Date                          \n",
      "2023-01-01       Good  Average\n",
      "2023-01-02  Excellent     Good\n",
      "2023-01-03  Excellent  Average\n"
     ]
    }
   ],
   "source": [
    "# Scenario 53: Pivot Table with Text Data and String Concatenation\n",
    "pivot_concat = df.pivot_table(index='Date', columns='Category', values='Description', aggfunc=lambda x: ', '.join(x))\n",
    "print(\"\\nScenario 53: Pivot Table with Text Data and String Concatenation\")\n",
    "print(pivot_concat)"
   ]
  },
  {
   "cell_type": "code",
   "execution_count": 106,
   "metadata": {},
   "outputs": [
    {
     "name": "stdout",
     "output_type": "stream",
     "text": [
      "\n",
      "Scenario 54: Pivot Table with Text Data and Word Frequency Count\n",
      "Category    A  B\n",
      "Date            \n",
      "2023-01-01  1  1\n",
      "2023-01-02  1  1\n",
      "2023-01-03  1  1\n"
     ]
    }
   ],
   "source": [
    "# Scenario 54: Pivot Table with Text Data and Word Frequency Count\n",
    "pivot_word_freq = df.pivot_table(index='Date', columns='Category', values='Description', aggfunc='count')\n",
    "print(\"\\nScenario 54: Pivot Table with Text Data and Word Frequency Count\")\n",
    "print(pivot_word_freq)"
   ]
  },
  {
   "cell_type": "code",
   "execution_count": 108,
   "metadata": {},
   "outputs": [
    {
     "name": "stdout",
     "output_type": "stream",
     "text": [
      "\n",
      "Scenario 55: Pivot Table with Text Data and Regular Expression Aggregation\n",
      "Category            A        B\n",
      "Date                          \n",
      "2023-01-01       Good  Average\n",
      "2023-01-02  Excellent     Good\n",
      "2023-01-03  Excellent  Average\n"
     ]
    }
   ],
   "source": [
    "# Scenario 55: Pivot Table with Text Data and Regular Expression Aggregation\n",
    "import re\n",
    "def regex_agg(series):\n",
    "    return ','.join(re.findall(r'[A-Za-z]+', ' '.join(series)))\n",
    "pivot_regex_agg = df.pivot_table(index='Date', columns='Category', values='Description', aggfunc=regex_agg)\n",
    "print(\"\\nScenario 55: Pivot Table with Text Data and Regular Expression Aggregation\")\n",
    "print(pivot_regex_agg)"
   ]
  }
 ],
 "metadata": {
  "kernelspec": {
   "display_name": "Python 3",
   "language": "python",
   "name": "python3"
  },
  "language_info": {
   "codemirror_mode": {
    "name": "ipython",
    "version": 3
   },
   "file_extension": ".py",
   "mimetype": "text/x-python",
   "name": "python",
   "nbconvert_exporter": "python",
   "pygments_lexer": "ipython3",
   "version": "3.11.2"
  },
  "orig_nbformat": 4
 },
 "nbformat": 4,
 "nbformat_minor": 2
}
