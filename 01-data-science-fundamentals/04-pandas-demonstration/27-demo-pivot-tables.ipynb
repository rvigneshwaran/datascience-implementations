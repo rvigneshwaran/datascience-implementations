{
 "cells": [
  {
   "cell_type": "code",
   "execution_count": 1,
   "metadata": {},
   "outputs": [],
   "source": [
    "import pandas as pd\n"
   ]
  },
  {
   "cell_type": "code",
   "execution_count": 2,
   "metadata": {},
   "outputs": [],
   "source": [
    "# Sample data\n",
    "data = {\n",
    "    'Date': ['2023-01-01', '2023-01-01', '2023-01-02', '2023-01-02'],\n",
    "    'Category': ['A', 'B', 'A', 'B'],\n",
    "    'Value': [10, 15, 20, 25]\n",
    "}"
   ]
  },
  {
   "cell_type": "code",
   "execution_count": 3,
   "metadata": {},
   "outputs": [],
   "source": [
    "df = pd.DataFrame(data)\n",
    "df['Date'] = pd.to_datetime(df['Date'])"
   ]
  },
  {
   "cell_type": "code",
   "execution_count": 5,
   "metadata": {},
   "outputs": [
    {
     "name": "stdout",
     "output_type": "stream",
     "text": [
      "Scenario 1: Basic Pivot Table\n",
      "Category     A   B\n",
      "Date              \n",
      "2023-01-01  10  15\n",
      "2023-01-02  20  25\n"
     ]
    }
   ],
   "source": [
    "# Scenario 1: Basic Pivot Table\n",
    "pivot_table = df.pivot_table(index='Date', columns='Category', values='Value', aggfunc='sum')\n",
    "# Display the results\n",
    "print(\"Scenario 1: Basic Pivot Table\")\n",
    "print(pivot_table)\n"
   ]
  },
  {
   "cell_type": "code",
   "execution_count": 6,
   "metadata": {},
   "outputs": [
    {
     "name": "stdout",
     "output_type": "stream",
     "text": [
      "\n",
      "Scenario 2: Pivot Table with Multiple Aggregations\n",
      "           sum     mean    \n",
      "Category     A   B    A   B\n",
      "Date                       \n",
      "2023-01-01  10  15   10  15\n",
      "2023-01-02  20  25   20  25\n"
     ]
    }
   ],
   "source": [
    "# Scenario 2: Pivot Table with Multiple Aggregations\n",
    "pivot_table_multiagg = df.pivot_table(index='Date', columns='Category', values='Value', aggfunc=['sum', 'mean'])\n",
    "print(\"\\nScenario 2: Pivot Table with Multiple Aggregations\")\n",
    "print(pivot_table_multiagg)"
   ]
  },
  {
   "cell_type": "code",
   "execution_count": 8,
   "metadata": {},
   "outputs": [
    {
     "name": "stdout",
     "output_type": "stream",
     "text": [
      "\n",
      "Scenario 3: Pivot Table with Custom Aggregation Function\n",
      "Category    A  B\n",
      "Date            \n",
      "2023-01-01  0  0\n",
      "2023-01-02  0  0\n"
     ]
    }
   ],
   "source": [
    "# Scenario 3: Pivot Table with Custom Aggregation Function\n",
    "def custom_agg(series):\n",
    "    return series.max() - series.min()\n",
    "\n",
    "pivot_table_customagg = df.pivot_table(index='Date', columns='Category', values='Value', aggfunc=custom_agg)\n",
    "print(\"\\nScenario 3: Pivot Table with Custom Aggregation Function\")\n",
    "print(pivot_table_customagg)\n"
   ]
  },
  {
   "cell_type": "code",
   "execution_count": 9,
   "metadata": {},
   "outputs": [
    {
     "name": "stdout",
     "output_type": "stream",
     "text": [
      "\n",
      "Scenario 4: Pivot Table with Missing Values Handling\n",
      "Category     A   B\n",
      "Date              \n",
      "2023-01-01  10  15\n",
      "2023-01-02  20  25\n"
     ]
    }
   ],
   "source": [
    "# Scenario 4: Pivot Table with Missing Values Handling\n",
    "pivot_table_fillna = df.pivot_table(index='Date', columns='Category', values='Value', aggfunc='sum', fill_value=0)\n",
    "print(\"\\nScenario 4: Pivot Table with Missing Values Handling\")\n",
    "print(pivot_table_fillna)"
   ]
  },
  {
   "cell_type": "code",
   "execution_count": 10,
   "metadata": {},
   "outputs": [
    {
     "name": "stdout",
     "output_type": "stream",
     "text": [
      "\n",
      "Scenario 5: Pivot Table with Margin Totals\n",
      "Category              A   B  All\n",
      "Date                            \n",
      "2023-01-01 00:00:00  10  15   25\n",
      "2023-01-02 00:00:00  20  25   45\n",
      "All                  30  40   70\n"
     ]
    }
   ],
   "source": [
    "# Scenario 5: Pivot Table with Margin Totals\n",
    "pivot_table_margin = df.pivot_table(index='Date', columns='Category', values='Value', aggfunc='sum', margins=True)\n",
    "print(\"\\nScenario 5: Pivot Table with Margin Totals\")\n",
    "print(pivot_table_margin)"
   ]
  },
  {
   "cell_type": "code",
   "execution_count": 15,
   "metadata": {},
   "outputs": [],
   "source": [
    "# Sample data\n",
    "data = {\n",
    "    'Date': ['2023-01-01', '2023-01-01', '2023-01-02', '2023-01-02'],\n",
    "    'Category': ['A', 'B', 'A', 'B'],\n",
    "    'Value': [10, 15, 20, 25]\n",
    "}"
   ]
  },
  {
   "cell_type": "code",
   "execution_count": 17,
   "metadata": {},
   "outputs": [],
   "source": [
    "# Scenario 6: Pivot Table with Multi-level Index\n",
    "pivot_table_multiindex = df.pivot_table(index=['Date', 'Category'], values='Value', aggfunc='sum')\n"
   ]
  },
  {
   "cell_type": "code",
   "execution_count": 18,
   "metadata": {},
   "outputs": [],
   "source": [
    "# Scenario 7: Pivot Table with Stacking and Unstacking\n",
    "pivot_stacked = pivot_table_multiindex.stack()\n",
    "pivot_unstacked = pivot_stacked.unstack()"
   ]
  },
  {
   "cell_type": "code",
   "execution_count": 22,
   "metadata": {},
   "outputs": [],
   "source": [
    "# Scenario 8: Pivot Table with Column Renaming\n",
    "pivot_renamed = pivot_table_multiindex.rename(columns={'Value': 'TotalValue'})\n"
   ]
  },
  {
   "cell_type": "code",
   "execution_count": 25,
   "metadata": {},
   "outputs": [],
   "source": [
    "# Scenario 10: Pivot Table with Filtering on Rows and Columns\n",
    "pivot_filtered = pivot_table_multiindex.loc[pd.IndexSlice[:, ['A']], :]"
   ]
  },
  {
   "cell_type": "code",
   "execution_count": 30,
   "metadata": {},
   "outputs": [
    {
     "name": "stdout",
     "output_type": "stream",
     "text": [
      "Scenario 6: Pivot Table with Multi-level Index\n",
      "                     Value\n",
      "Date       Category       \n",
      "2023-01-01 A            10\n",
      "           B            15\n",
      "2023-01-02 A            20\n",
      "           B            25\n",
      "\n",
      "Scenario 7: Pivot Table with Stacking\n",
      "Date        Category       \n",
      "2023-01-01  A         Value    10\n",
      "            B         Value    15\n",
      "2023-01-02  A         Value    20\n",
      "            B         Value    25\n",
      "dtype: int64\n",
      "\n",
      "Scenario 7: Pivot Table with Unstacking\n",
      "                     Value\n",
      "Date       Category       \n",
      "2023-01-01 A            10\n",
      "           B            15\n",
      "2023-01-02 A            20\n",
      "           B            25\n",
      "\n",
      "Scenario 8: Pivot Table with Column Renaming\n",
      "                     TotalValue\n",
      "Date       Category            \n",
      "2023-01-01 A                 10\n",
      "           B                 15\n",
      "2023-01-02 A                 20\n",
      "           B                 25\n",
      "\n",
      "Scenario 10: Pivot Table with Filtering\n",
      "                     Value\n",
      "Date       Category       \n",
      "2023-01-01 A            10\n",
      "2023-01-02 A            20\n"
     ]
    }
   ],
   "source": [
    "# Display the results\n",
    "print(\"Scenario 6: Pivot Table with Multi-level Index\")\n",
    "print(pivot_table_multiindex)\n",
    "print(\"\\nScenario 7: Pivot Table with Stacking\")\n",
    "print(pivot_stacked)\n",
    "print(\"\\nScenario 7: Pivot Table with Unstacking\")\n",
    "print(pivot_unstacked)\n",
    "print(\"\\nScenario 8: Pivot Table with Column Renaming\")\n",
    "print(pivot_renamed)\n",
    "print(\"\\nScenario 10: Pivot Table with Filtering\")\n",
    "print(pivot_filtered)"
   ]
  },
  {
   "cell_type": "code",
   "execution_count": 31,
   "metadata": {},
   "outputs": [
    {
     "ename": "ValueError",
     "evalue": "bins must be of datetime64 dtype",
     "output_type": "error",
     "traceback": [
      "\u001b[1;31m---------------------------------------------------------------------------\u001b[0m",
      "\u001b[1;31mValueError\u001b[0m                                Traceback (most recent call last)",
      "Cell \u001b[1;32mIn[31], line 2\u001b[0m\n\u001b[0;32m      1\u001b[0m \u001b[39m# Scenario 11: Pivot Table with Custom Aggregation and Date Ranges\u001b[39;00m\n\u001b[1;32m----> 2\u001b[0m pivot_date_range \u001b[39m=\u001b[39m df\u001b[39m.\u001b[39mpivot_table(index\u001b[39m=\u001b[39mpd\u001b[39m.\u001b[39;49mcut(df[\u001b[39m'\u001b[39;49m\u001b[39mDate\u001b[39;49m\u001b[39m'\u001b[39;49m], bins\u001b[39m=\u001b[39;49m[\u001b[39m'\u001b[39;49m\u001b[39m2023-01-01\u001b[39;49m\u001b[39m'\u001b[39;49m, \u001b[39m'\u001b[39;49m\u001b[39m2023-01-02\u001b[39;49m\u001b[39m'\u001b[39;49m, \u001b[39m'\u001b[39;49m\u001b[39m2023-01-03\u001b[39;49m\u001b[39m'\u001b[39;49m]), columns\u001b[39m=\u001b[39m\u001b[39m'\u001b[39m\u001b[39mCategory\u001b[39m\u001b[39m'\u001b[39m, values\u001b[39m=\u001b[39m\u001b[39m'\u001b[39m\u001b[39mValue\u001b[39m\u001b[39m'\u001b[39m, aggfunc\u001b[39m=\u001b[39m\u001b[39m'\u001b[39m\u001b[39msum\u001b[39m\u001b[39m'\u001b[39m)\n\u001b[0;32m      3\u001b[0m \u001b[39mprint\u001b[39m(\u001b[39m\"\u001b[39m\u001b[39mScenario 11: Pivot Table with Custom Aggregation and Date Ranges\u001b[39m\u001b[39m\"\u001b[39m)\n\u001b[0;32m      4\u001b[0m \u001b[39mprint\u001b[39m(pivot_date_range)\n",
      "File \u001b[1;32mc:\\Program Files\\Python311\\Lib\\site-packages\\pandas\\core\\reshape\\tile.py:287\u001b[0m, in \u001b[0;36mcut\u001b[1;34m(x, bins, right, labels, retbins, precision, include_lowest, duplicates, ordered)\u001b[0m\n\u001b[0;32m    285\u001b[0m \u001b[39melse\u001b[39;00m:\n\u001b[0;32m    286\u001b[0m     bins \u001b[39m=\u001b[39m np\u001b[39m.\u001b[39masarray(bins)\n\u001b[1;32m--> 287\u001b[0m bins \u001b[39m=\u001b[39m _convert_bin_to_numeric_type(bins, dtype)\n\u001b[0;32m    289\u001b[0m \u001b[39m# GH 26045: cast to float64 to avoid an overflow\u001b[39;00m\n\u001b[0;32m    290\u001b[0m \u001b[39mif\u001b[39;00m (np\u001b[39m.\u001b[39mdiff(bins\u001b[39m.\u001b[39mastype(\u001b[39m\"\u001b[39m\u001b[39mfloat64\u001b[39m\u001b[39m\"\u001b[39m)) \u001b[39m<\u001b[39m \u001b[39m0\u001b[39m)\u001b[39m.\u001b[39many():\n",
      "File \u001b[1;32mc:\\Program Files\\Python311\\Lib\\site-packages\\pandas\\core\\reshape\\tile.py:533\u001b[0m, in \u001b[0;36m_convert_bin_to_numeric_type\u001b[1;34m(bins, dtype)\u001b[0m\n\u001b[0;32m    531\u001b[0m         bins \u001b[39m=\u001b[39m to_datetime(bins)\u001b[39m.\u001b[39mview(np\u001b[39m.\u001b[39mint64)\n\u001b[0;32m    532\u001b[0m     \u001b[39melse\u001b[39;00m:\n\u001b[1;32m--> 533\u001b[0m         \u001b[39mraise\u001b[39;00m \u001b[39mValueError\u001b[39;00m(\u001b[39m\"\u001b[39m\u001b[39mbins must be of datetime64 dtype\u001b[39m\u001b[39m\"\u001b[39m)\n\u001b[0;32m    535\u001b[0m \u001b[39mreturn\u001b[39;00m bins\n",
      "\u001b[1;31mValueError\u001b[0m: bins must be of datetime64 dtype"
     ]
    }
   ],
   "source": [
    "# Scenario 11: Pivot Table with Custom Aggregation and Date Ranges\n",
    "pivot_date_range = df.pivot_table(index=pd.cut(df['Date'], bins=['2023-01-01', '2023-01-02', '2023-01-03']), columns='Category', values='Value', aggfunc='sum')\n",
    "print(\"Scenario 11: Pivot Table with Custom Aggregation and Date Ranges\")\n",
    "print(pivot_date_range)"
   ]
  },
  {
   "cell_type": "code",
   "execution_count": 36,
   "metadata": {},
   "outputs": [
    {
     "name": "stdout",
     "output_type": "stream",
     "text": [
      "\n",
      "Scenario 12: Pivot Table with Categorical Data and Aggregation\n",
      "Category     A   B\n",
      "Date              \n",
      "2023-01-01  10  15\n",
      "2023-01-02  20  25\n"
     ]
    }
   ],
   "source": [
    "# Scenario 12: Pivot Table with Categorical Data and Aggregation\n",
    "df['Category'] = df['Category'].astype('category')\n",
    "pivot_categorical = df.pivot_table(index='Date', columns='Category', values='Value', aggfunc='sum')\n",
    "print(\"\\nScenario 12: Pivot Table with Categorical Data and Aggregation\")\n",
    "print(pivot_categorical)\n"
   ]
  },
  {
   "cell_type": "code",
   "execution_count": 37,
   "metadata": {},
   "outputs": [
    {
     "name": "stdout",
     "output_type": "stream",
     "text": [
      "\n",
      "Scenario 13: Pivot Table with Custom Function and Percentage of Total\n",
      "Category    A  B\n",
      "Date            \n",
      "2023-01-01  1  1\n",
      "2023-01-02  1  1\n"
     ]
    }
   ],
   "source": [
    "# Scenario 13: Pivot Table with Custom Function and Percentage of Total\n",
    "def pct_of_total(series):\n",
    "    return series / series.sum()\n",
    "\n",
    "pivot_pct_of_total = df.pivot_table(index='Date', columns='Category', values='Value', aggfunc=pct_of_total)\n",
    "print(\"\\nScenario 13: Pivot Table with Custom Function and Percentage of Total\")\n",
    "print(pivot_pct_of_total)\n"
   ]
  },
  {
   "cell_type": "code",
   "execution_count": 38,
   "metadata": {},
   "outputs": [
    {
     "name": "stdout",
     "output_type": "stream",
     "text": [
      "\n",
      "Scenario 14: Pivot Table with Grouping and Multi-level Index\n",
      "           Value    \n",
      "Category       A   B\n",
      "Date                \n",
      "2023-01-01    10  15\n",
      "2023-01-02    20  25\n"
     ]
    }
   ],
   "source": [
    "# Scenario 14: Pivot Table with Grouping and Multi-level Index\n",
    "pivot_grouped = df.groupby(['Date', 'Category']).sum().unstack()\n",
    "print(\"\\nScenario 14: Pivot Table with Grouping and Multi-level Index\")\n",
    "print(pivot_grouped)"
   ]
  },
  {
   "cell_type": "code",
   "execution_count": 39,
   "metadata": {},
   "outputs": [
    {
     "name": "stdout",
     "output_type": "stream",
     "text": [
      "\n",
      "Scenario 15: Pivot Table with Stacking (Alternate Method)\n",
      "                     Value\n",
      "Date       Category       \n",
      "2023-01-01 A            10\n",
      "           B            15\n",
      "2023-01-02 A            20\n",
      "           B            25\n",
      "\n",
      "Scenario 15: Pivot Table with Unstacking (Alternate Method)\n",
      "           Value    \n",
      "Category       A   B\n",
      "Date                \n",
      "2023-01-01    10  15\n",
      "2023-01-02    20  25\n"
     ]
    }
   ],
   "source": [
    "# Scenario 15: Pivot Table with Stacking and Unstacking (Alternate Method)\n",
    "pivot_stacked_alt = pivot_grouped.stack()\n",
    "pivot_unstacked_alt = pivot_stacked_alt.unstack()\n",
    "print(\"\\nScenario 15: Pivot Table with Stacking (Alternate Method)\")\n",
    "print(pivot_stacked_alt)\n",
    "print(\"\\nScenario 15: Pivot Table with Unstacking (Alternate Method)\")\n",
    "print(pivot_unstacked_alt)"
   ]
  }
 ],
 "metadata": {
  "kernelspec": {
   "display_name": "Python 3",
   "language": "python",
   "name": "python3"
  },
  "language_info": {
   "codemirror_mode": {
    "name": "ipython",
    "version": 3
   },
   "file_extension": ".py",
   "mimetype": "text/x-python",
   "name": "python",
   "nbconvert_exporter": "python",
   "pygments_lexer": "ipython3",
   "version": "3.11.2"
  },
  "orig_nbformat": 4
 },
 "nbformat": 4,
 "nbformat_minor": 2
}
