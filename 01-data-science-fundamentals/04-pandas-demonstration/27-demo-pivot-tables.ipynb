{
 "cells": [
  {
   "cell_type": "code",
   "execution_count": 1,
   "metadata": {},
   "outputs": [],
   "source": [
    "import pandas as pd\n"
   ]
  },
  {
   "cell_type": "code",
   "execution_count": 2,
   "metadata": {},
   "outputs": [],
   "source": [
    "# Sample data\n",
    "data = {\n",
    "    'Date': ['2023-01-01', '2023-01-01', '2023-01-02', '2023-01-02'],\n",
    "    'Category': ['A', 'B', 'A', 'B'],\n",
    "    'Value': [10, 15, 20, 25]\n",
    "}"
   ]
  },
  {
   "cell_type": "code",
   "execution_count": 3,
   "metadata": {},
   "outputs": [],
   "source": [
    "df = pd.DataFrame(data)\n",
    "df['Date'] = pd.to_datetime(df['Date'])"
   ]
  },
  {
   "cell_type": "code",
   "execution_count": 5,
   "metadata": {},
   "outputs": [
    {
     "name": "stdout",
     "output_type": "stream",
     "text": [
      "Scenario 1: Basic Pivot Table\n",
      "Category     A   B\n",
      "Date              \n",
      "2023-01-01  10  15\n",
      "2023-01-02  20  25\n"
     ]
    }
   ],
   "source": [
    "# Scenario 1: Basic Pivot Table\n",
    "pivot_table = df.pivot_table(index='Date', columns='Category', values='Value', aggfunc='sum')\n",
    "# Display the results\n",
    "print(\"Scenario 1: Basic Pivot Table\")\n",
    "print(pivot_table)\n"
   ]
  },
  {
   "cell_type": "code",
   "execution_count": 6,
   "metadata": {},
   "outputs": [
    {
     "name": "stdout",
     "output_type": "stream",
     "text": [
      "\n",
      "Scenario 2: Pivot Table with Multiple Aggregations\n",
      "           sum     mean    \n",
      "Category     A   B    A   B\n",
      "Date                       \n",
      "2023-01-01  10  15   10  15\n",
      "2023-01-02  20  25   20  25\n"
     ]
    }
   ],
   "source": [
    "# Scenario 2: Pivot Table with Multiple Aggregations\n",
    "pivot_table_multiagg = df.pivot_table(index='Date', columns='Category', values='Value', aggfunc=['sum', 'mean'])\n",
    "print(\"\\nScenario 2: Pivot Table with Multiple Aggregations\")\n",
    "print(pivot_table_multiagg)"
   ]
  },
  {
   "cell_type": "code",
   "execution_count": 8,
   "metadata": {},
   "outputs": [
    {
     "name": "stdout",
     "output_type": "stream",
     "text": [
      "\n",
      "Scenario 3: Pivot Table with Custom Aggregation Function\n",
      "Category    A  B\n",
      "Date            \n",
      "2023-01-01  0  0\n",
      "2023-01-02  0  0\n"
     ]
    }
   ],
   "source": [
    "# Scenario 3: Pivot Table with Custom Aggregation Function\n",
    "def custom_agg(series):\n",
    "    return series.max() - series.min()\n",
    "\n",
    "pivot_table_customagg = df.pivot_table(index='Date', columns='Category', values='Value', aggfunc=custom_agg)\n",
    "print(\"\\nScenario 3: Pivot Table with Custom Aggregation Function\")\n",
    "print(pivot_table_customagg)\n"
   ]
  },
  {
   "cell_type": "code",
   "execution_count": 9,
   "metadata": {},
   "outputs": [
    {
     "name": "stdout",
     "output_type": "stream",
     "text": [
      "\n",
      "Scenario 4: Pivot Table with Missing Values Handling\n",
      "Category     A   B\n",
      "Date              \n",
      "2023-01-01  10  15\n",
      "2023-01-02  20  25\n"
     ]
    }
   ],
   "source": [
    "# Scenario 4: Pivot Table with Missing Values Handling\n",
    "pivot_table_fillna = df.pivot_table(index='Date', columns='Category', values='Value', aggfunc='sum', fill_value=0)\n",
    "print(\"\\nScenario 4: Pivot Table with Missing Values Handling\")\n",
    "print(pivot_table_fillna)"
   ]
  },
  {
   "cell_type": "code",
   "execution_count": 10,
   "metadata": {},
   "outputs": [
    {
     "name": "stdout",
     "output_type": "stream",
     "text": [
      "\n",
      "Scenario 5: Pivot Table with Margin Totals\n",
      "Category              A   B  All\n",
      "Date                            \n",
      "2023-01-01 00:00:00  10  15   25\n",
      "2023-01-02 00:00:00  20  25   45\n",
      "All                  30  40   70\n"
     ]
    }
   ],
   "source": [
    "# Scenario 5: Pivot Table with Margin Totals\n",
    "pivot_table_margin = df.pivot_table(index='Date', columns='Category', values='Value', aggfunc='sum', margins=True)\n",
    "print(\"\\nScenario 5: Pivot Table with Margin Totals\")\n",
    "print(pivot_table_margin)"
   ]
  }
 ],
 "metadata": {
  "kernelspec": {
   "display_name": "Python 3",
   "language": "python",
   "name": "python3"
  },
  "language_info": {
   "codemirror_mode": {
    "name": "ipython",
    "version": 3
   },
   "file_extension": ".py",
   "mimetype": "text/x-python",
   "name": "python",
   "nbconvert_exporter": "python",
   "pygments_lexer": "ipython3",
   "version": "3.11.2"
  },
  "orig_nbformat": 4
 },
 "nbformat": 4,
 "nbformat_minor": 2
}
