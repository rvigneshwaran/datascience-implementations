{
 "cells": [
  {
   "cell_type": "code",
   "execution_count": 1,
   "metadata": {},
   "outputs": [],
   "source": [
    "import pandas as pd"
   ]
  },
  {
   "cell_type": "code",
   "execution_count": 2,
   "metadata": {},
   "outputs": [
    {
     "name": "stdout",
     "output_type": "stream",
     "text": [
      "Example 1:\n",
      "                Age  Income\n",
      "Gender Name                \n",
      "Male   John      25   50000\n",
      "       David     30   60000\n",
      "Female Mary      28   55000\n",
      "Male   Michael   35   75000\n",
      "Female Emily     22   40000\n"
     ]
    }
   ],
   "source": [
    "# Example 1: Creating a DataFrame with hierarchical index\n",
    "data = {\n",
    "    'Age': [25, 30, 28, 35, 22],\n",
    "    'Income': [50000, 60000, 55000, 75000, 40000]\n",
    "}\n",
    "index = pd.MultiIndex.from_tuples([('Male', 'John'), ('Male', 'David'), ('Female', 'Mary'), ('Male', 'Michael'), ('Female', 'Emily')],\n",
    "                                  names=['Gender', 'Name'])\n",
    "df = pd.DataFrame(data, index=index)\n",
    "print(\"Example 1:\")\n",
    "print(df)"
   ]
  },
  {
   "cell_type": "code",
   "execution_count": 3,
   "metadata": {},
   "outputs": [
    {
     "name": "stdout",
     "output_type": "stream",
     "text": [
      "\n",
      "Example 2:\n",
      "25\n"
     ]
    }
   ],
   "source": [
    "# Example 2: Accessing data from a DataFrame with hierarchical index\n",
    "print(\"\\nExample 2:\")\n",
    "print(df.loc[('Male', 'John'), 'Age'])"
   ]
  },
  {
   "cell_type": "code",
   "execution_count": 4,
   "metadata": {},
   "outputs": [
    {
     "name": "stdout",
     "output_type": "stream",
     "text": [
      "\n",
      "Example 3:\n",
      "         Age  Income\n",
      "Name                \n",
      "John      25   50000\n",
      "David     30   60000\n",
      "Michael   35   75000\n"
     ]
    }
   ],
   "source": [
    "# Example 3: Slicing data from a DataFrame with hierarchical index\n",
    "print(\"\\nExample 3:\")\n",
    "print(df.loc['Male'])"
   ]
  },
  {
   "cell_type": "code",
   "execution_count": 5,
   "metadata": {},
   "outputs": [
    {
     "name": "stdout",
     "output_type": "stream",
     "text": [
      "\n",
      "Example 4:\n",
      "                Age  Income\n",
      "Name    Gender             \n",
      "John    Male     25   50000\n",
      "David   Male     30   60000\n",
      "Mary    Female   28   55000\n",
      "Michael Male     35   75000\n",
      "Emily   Female   22   40000\n"
     ]
    }
   ],
   "source": [
    "# Example 4: Swapping levels of a hierarchical index\n",
    "df_swapped = df.swaplevel()\n",
    "print(\"\\nExample 4:\")\n",
    "print(df_swapped)"
   ]
  },
  {
   "cell_type": "code",
   "execution_count": 6,
   "metadata": {},
   "outputs": [
    {
     "name": "stdout",
     "output_type": "stream",
     "text": [
      "\n",
      "Example 5:\n",
      "                Age  Income\n",
      "Gender Name                \n",
      "Female Emily     22   40000\n",
      "       Mary      28   55000\n",
      "Male   David     30   60000\n",
      "       John      25   50000\n",
      "       Michael   35   75000\n"
     ]
    }
   ],
   "source": [
    "# Example 5: Sorting data based on hierarchical index\n",
    "df_sorted = df.sort_index()\n",
    "print(\"\\nExample 5:\")\n",
    "print(df_sorted)"
   ]
  }
 ],
 "metadata": {
  "kernelspec": {
   "display_name": "Python 3",
   "language": "python",
   "name": "python3"
  },
  "language_info": {
   "codemirror_mode": {
    "name": "ipython",
    "version": 3
   },
   "file_extension": ".py",
   "mimetype": "text/x-python",
   "name": "python",
   "nbconvert_exporter": "python",
   "pygments_lexer": "ipython3",
   "version": "3.11.2"
  },
  "orig_nbformat": 4
 },
 "nbformat": 4,
 "nbformat_minor": 2
}
