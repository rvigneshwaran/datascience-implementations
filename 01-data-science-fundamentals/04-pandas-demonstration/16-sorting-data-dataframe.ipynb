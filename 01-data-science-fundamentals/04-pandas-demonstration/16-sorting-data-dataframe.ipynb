{
 "cells": [
  {
   "cell_type": "code",
   "execution_count": 1,
   "metadata": {},
   "outputs": [],
   "source": [
    "import pandas as pd\n",
    "import numpy as np"
   ]
  },
  {
   "cell_type": "code",
   "execution_count": 2,
   "metadata": {},
   "outputs": [
    {
     "name": "stdout",
     "output_type": "stream",
     "text": [
      "Example 1:\n",
      "   A   B   C\n",
      "0  9  15  26\n",
      "1  3  19  27\n",
      "2  6  12  29\n",
      "3  1  12  27\n",
      "4  1  17  27\n"
     ]
    }
   ],
   "source": [
    "# Example 1: Creating a DataFrame\n",
    "data = {\n",
    "    'A': np.random.randint(1, 10, 5),\n",
    "    'B': np.random.randint(11, 20, 5),\n",
    "    'C': np.random.randint(21, 30, 5)\n",
    "}\n",
    "df = pd.DataFrame(data)\n",
    "print(\"Example 1:\")\n",
    "print(df)"
   ]
  },
  {
   "cell_type": "code",
   "execution_count": 3,
   "metadata": {},
   "outputs": [
    {
     "name": "stdout",
     "output_type": "stream",
     "text": [
      "\n",
      "Example 2:\n",
      "   A   B   C\n",
      "3  1  12  27\n",
      "4  1  17  27\n",
      "1  3  19  27\n",
      "2  6  12  29\n",
      "0  9  15  26\n"
     ]
    }
   ],
   "source": [
    "# Example 2: Sorting by a single column in ascending order\n",
    "sorted_df = df.sort_values(by='A')\n",
    "print(\"\\nExample 2:\")\n",
    "print(sorted_df)"
   ]
  },
  {
   "cell_type": "code",
   "execution_count": 4,
   "metadata": {},
   "outputs": [
    {
     "name": "stdout",
     "output_type": "stream",
     "text": [
      "\n",
      "Example 3:\n",
      "   A   B   C\n",
      "0  9  15  26\n",
      "2  6  12  29\n",
      "1  3  19  27\n",
      "3  1  12  27\n",
      "4  1  17  27\n"
     ]
    }
   ],
   "source": [
    "# Example 3: Sorting by a single column in descending order\n",
    "sorted_df_desc = df.sort_values(by='A', ascending=False)\n",
    "print(\"\\nExample 3:\")\n",
    "print(sorted_df_desc)"
   ]
  },
  {
   "cell_type": "code",
   "execution_count": 5,
   "metadata": {},
   "outputs": [
    {
     "name": "stdout",
     "output_type": "stream",
     "text": [
      "\n",
      "Example 4:\n",
      "   A   B   C\n",
      "3  1  12  27\n",
      "4  1  17  27\n",
      "1  3  19  27\n",
      "2  6  12  29\n",
      "0  9  15  26\n"
     ]
    }
   ],
   "source": [
    "# Example 4: Sorting by multiple columns in ascending order\n",
    "sorted_df_multi = df.sort_values(by=['A', 'B'])\n",
    "print(\"\\nExample 4:\")\n",
    "print(sorted_df_multi)"
   ]
  },
  {
   "cell_type": "code",
   "execution_count": 6,
   "metadata": {},
   "outputs": [
    {
     "name": "stdout",
     "output_type": "stream",
     "text": [
      "\n",
      "Example 5:\n",
      "   A   B   C\n",
      "0  9  15  26\n",
      "2  6  12  29\n",
      "1  3  19  27\n",
      "3  1  12  27\n",
      "4  1  17  27\n"
     ]
    }
   ],
   "source": [
    "# Example 5: Sorting by multiple columns with different sorting orders\n",
    "sorted_df_multi_desc = df.sort_values(by=['A', 'B'], ascending=[False, True])\n",
    "print(\"\\nExample 5:\")\n",
    "print(sorted_df_multi_desc)"
   ]
  },
  {
   "cell_type": "code",
   "execution_count": 7,
   "metadata": {},
   "outputs": [
    {
     "name": "stdout",
     "output_type": "stream",
     "text": [
      "\n",
      "Example 6:\n",
      "   A   B   C\n",
      "0  9  15  26\n",
      "1  3  19  27\n",
      "2  6  12  29\n",
      "3  1  12  27\n",
      "4  1  17  27\n"
     ]
    }
   ],
   "source": [
    "# Example 6: Sorting by index in ascending order\n",
    "sorted_df_index = df.sort_index()\n",
    "print(\"\\nExample 6:\")\n",
    "print(sorted_df_index)"
   ]
  },
  {
   "cell_type": "code",
   "execution_count": 8,
   "metadata": {},
   "outputs": [
    {
     "name": "stdout",
     "output_type": "stream",
     "text": [
      "\n",
      "Example 7:\n",
      "   A   B   C\n",
      "4  1  17  27\n",
      "3  1  12  27\n",
      "2  6  12  29\n",
      "1  3  19  27\n",
      "0  9  15  26\n"
     ]
    }
   ],
   "source": [
    "# Example 7: Sorting by index in descending order\n",
    "sorted_df_index_desc = df.sort_index(ascending=False)\n",
    "print(\"\\nExample 7:\")\n",
    "print(sorted_df_index_desc)"
   ]
  },
  {
   "cell_type": "code",
   "execution_count": 9,
   "metadata": {},
   "outputs": [
    {
     "name": "stdout",
     "output_type": "stream",
     "text": [
      "\n",
      "Example 8:\n",
      "   A   B   C\n",
      "0  1  12  27\n",
      "1  1  17  27\n",
      "2  3  19  27\n",
      "3  6  12  29\n",
      "4  9  15  26\n"
     ]
    }
   ],
   "source": [
    "# Example 8: Sorting by a column while maintaining the original index\n",
    "sorted_df_reset_index = df.sort_values(by='A').reset_index(drop=True)\n",
    "print(\"\\nExample 8:\")\n",
    "print(sorted_df_reset_index)"
   ]
  },
  {
   "cell_type": "code",
   "execution_count": 10,
   "metadata": {},
   "outputs": [
    {
     "name": "stdout",
     "output_type": "stream",
     "text": [
      "\n",
      "Example 9:\n",
      "     A    B    C\n",
      "0  1.0  7.0  9.0\n",
      "3  2.0  NaN  3.0\n",
      "1  3.0  2.0  NaN\n",
      "4  5.0  1.0  8.0\n",
      "2  NaN  4.0  6.0\n"
     ]
    }
   ],
   "source": [
    "# Example 9: Sorting by column and handling NaN values\n",
    "data_with_nan = {\n",
    "    'A': [1, 3, np.nan, 2, 5],\n",
    "    'B': [7, 2, 4, np.nan, 1],\n",
    "    'C': [9, np.nan, 6, 3, 8]\n",
    "}\n",
    "df_nan = pd.DataFrame(data_with_nan)\n",
    "sorted_df_nan = df_nan.sort_values(by='A')\n",
    "print(\"\\nExample 9:\")\n",
    "print(sorted_df_nan)"
   ]
  },
  {
   "cell_type": "code",
   "execution_count": 11,
   "metadata": {},
   "outputs": [
    {
     "name": "stdout",
     "output_type": "stream",
     "text": [
      "\n",
      "Example 10:\n",
      "     A    B    C\n",
      "0  1.0  7.0  9.0\n",
      "3  2.0  NaN  3.0\n",
      "1  3.0  2.0  NaN\n",
      "4  5.0  1.0  8.0\n",
      "2  NaN  4.0  6.0\n"
     ]
    }
   ],
   "source": [
    "# Example 10: Sorting with missing values at the end\n",
    "sorted_df_nan_end = df_nan.sort_values(by='A', na_position='last')\n",
    "print(\"\\nExample 10:\")\n",
    "print(sorted_df_nan_end)"
   ]
  }
 ],
 "metadata": {
  "kernelspec": {
   "display_name": "Python 3",
   "language": "python",
   "name": "python3"
  },
  "language_info": {
   "codemirror_mode": {
    "name": "ipython",
    "version": 3
   },
   "file_extension": ".py",
   "mimetype": "text/x-python",
   "name": "python",
   "nbconvert_exporter": "python",
   "pygments_lexer": "ipython3",
   "version": "3.11.2"
  },
  "orig_nbformat": 4
 },
 "nbformat": 4,
 "nbformat_minor": 2
}
