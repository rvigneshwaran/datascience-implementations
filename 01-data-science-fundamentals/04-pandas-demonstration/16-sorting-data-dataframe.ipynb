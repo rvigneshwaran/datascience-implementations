{
 "cells": [
  {
   "cell_type": "code",
   "execution_count": 1,
   "metadata": {},
   "outputs": [],
   "source": [
    "import pandas as pd\n",
    "import numpy as np"
   ]
  },
  {
   "cell_type": "code",
   "execution_count": 2,
   "metadata": {},
   "outputs": [
    {
     "name": "stdout",
     "output_type": "stream",
     "text": [
      "Example 1:\n",
      "   A   B   C\n",
      "0  9  15  26\n",
      "1  3  19  27\n",
      "2  6  12  29\n",
      "3  1  12  27\n",
      "4  1  17  27\n"
     ]
    }
   ],
   "source": [
    "# Example 1: Creating a DataFrame\n",
    "data = {\n",
    "    'A': np.random.randint(1, 10, 5),\n",
    "    'B': np.random.randint(11, 20, 5),\n",
    "    'C': np.random.randint(21, 30, 5)\n",
    "}\n",
    "df = pd.DataFrame(data)\n",
    "print(\"Example 1:\")\n",
    "print(df)"
   ]
  },
  {
   "cell_type": "code",
   "execution_count": 3,
   "metadata": {},
   "outputs": [
    {
     "name": "stdout",
     "output_type": "stream",
     "text": [
      "\n",
      "Example 2:\n",
      "   A   B   C\n",
      "3  1  12  27\n",
      "4  1  17  27\n",
      "1  3  19  27\n",
      "2  6  12  29\n",
      "0  9  15  26\n"
     ]
    }
   ],
   "source": [
    "# Example 2: Sorting by a single column in ascending order\n",
    "sorted_df = df.sort_values(by='A')\n",
    "print(\"\\nExample 2:\")\n",
    "print(sorted_df)"
   ]
  },
  {
   "cell_type": "code",
   "execution_count": 4,
   "metadata": {},
   "outputs": [
    {
     "name": "stdout",
     "output_type": "stream",
     "text": [
      "\n",
      "Example 3:\n",
      "   A   B   C\n",
      "0  9  15  26\n",
      "2  6  12  29\n",
      "1  3  19  27\n",
      "3  1  12  27\n",
      "4  1  17  27\n"
     ]
    }
   ],
   "source": [
    "# Example 3: Sorting by a single column in descending order\n",
    "sorted_df_desc = df.sort_values(by='A', ascending=False)\n",
    "print(\"\\nExample 3:\")\n",
    "print(sorted_df_desc)"
   ]
  },
  {
   "cell_type": "code",
   "execution_count": 5,
   "metadata": {},
   "outputs": [
    {
     "name": "stdout",
     "output_type": "stream",
     "text": [
      "\n",
      "Example 4:\n",
      "   A   B   C\n",
      "3  1  12  27\n",
      "4  1  17  27\n",
      "1  3  19  27\n",
      "2  6  12  29\n",
      "0  9  15  26\n"
     ]
    }
   ],
   "source": [
    "# Example 4: Sorting by multiple columns in ascending order\n",
    "sorted_df_multi = df.sort_values(by=['A', 'B'])\n",
    "print(\"\\nExample 4:\")\n",
    "print(sorted_df_multi)"
   ]
  },
  {
   "cell_type": "code",
   "execution_count": 6,
   "metadata": {},
   "outputs": [
    {
     "name": "stdout",
     "output_type": "stream",
     "text": [
      "\n",
      "Example 5:\n",
      "   A   B   C\n",
      "0  9  15  26\n",
      "2  6  12  29\n",
      "1  3  19  27\n",
      "3  1  12  27\n",
      "4  1  17  27\n"
     ]
    }
   ],
   "source": [
    "# Example 5: Sorting by multiple columns with different sorting orders\n",
    "sorted_df_multi_desc = df.sort_values(by=['A', 'B'], ascending=[False, True])\n",
    "print(\"\\nExample 5:\")\n",
    "print(sorted_df_multi_desc)"
   ]
  },
  {
   "cell_type": "code",
   "execution_count": 7,
   "metadata": {},
   "outputs": [
    {
     "name": "stdout",
     "output_type": "stream",
     "text": [
      "\n",
      "Example 6:\n",
      "   A   B   C\n",
      "0  9  15  26\n",
      "1  3  19  27\n",
      "2  6  12  29\n",
      "3  1  12  27\n",
      "4  1  17  27\n"
     ]
    }
   ],
   "source": [
    "# Example 6: Sorting by index in ascending order\n",
    "sorted_df_index = df.sort_index()\n",
    "print(\"\\nExample 6:\")\n",
    "print(sorted_df_index)"
   ]
  },
  {
   "cell_type": "code",
   "execution_count": 8,
   "metadata": {},
   "outputs": [
    {
     "name": "stdout",
     "output_type": "stream",
     "text": [
      "\n",
      "Example 7:\n",
      "   A   B   C\n",
      "4  1  17  27\n",
      "3  1  12  27\n",
      "2  6  12  29\n",
      "1  3  19  27\n",
      "0  9  15  26\n"
     ]
    }
   ],
   "source": [
    "# Example 7: Sorting by index in descending order\n",
    "sorted_df_index_desc = df.sort_index(ascending=False)\n",
    "print(\"\\nExample 7:\")\n",
    "print(sorted_df_index_desc)"
   ]
  },
  {
   "cell_type": "code",
   "execution_count": 9,
   "metadata": {},
   "outputs": [
    {
     "name": "stdout",
     "output_type": "stream",
     "text": [
      "\n",
      "Example 8:\n",
      "   A   B   C\n",
      "0  1  12  27\n",
      "1  1  17  27\n",
      "2  3  19  27\n",
      "3  6  12  29\n",
      "4  9  15  26\n"
     ]
    }
   ],
   "source": [
    "# Example 8: Sorting by a column while maintaining the original index\n",
    "sorted_df_reset_index = df.sort_values(by='A').reset_index(drop=True)\n",
    "print(\"\\nExample 8:\")\n",
    "print(sorted_df_reset_index)"
   ]
  },
  {
   "cell_type": "code",
   "execution_count": 10,
   "metadata": {},
   "outputs": [
    {
     "name": "stdout",
     "output_type": "stream",
     "text": [
      "\n",
      "Example 9:\n",
      "     A    B    C\n",
      "0  1.0  7.0  9.0\n",
      "3  2.0  NaN  3.0\n",
      "1  3.0  2.0  NaN\n",
      "4  5.0  1.0  8.0\n",
      "2  NaN  4.0  6.0\n"
     ]
    }
   ],
   "source": [
    "# Example 9: Sorting by column and handling NaN values\n",
    "data_with_nan = {\n",
    "    'A': [1, 3, np.nan, 2, 5],\n",
    "    'B': [7, 2, 4, np.nan, 1],\n",
    "    'C': [9, np.nan, 6, 3, 8]\n",
    "}\n",
    "df_nan = pd.DataFrame(data_with_nan)\n",
    "sorted_df_nan = df_nan.sort_values(by='A')\n",
    "print(\"\\nExample 9:\")\n",
    "print(sorted_df_nan)"
   ]
  },
  {
   "cell_type": "code",
   "execution_count": 11,
   "metadata": {},
   "outputs": [
    {
     "name": "stdout",
     "output_type": "stream",
     "text": [
      "\n",
      "Example 10:\n",
      "     A    B    C\n",
      "0  1.0  7.0  9.0\n",
      "3  2.0  NaN  3.0\n",
      "1  3.0  2.0  NaN\n",
      "4  5.0  1.0  8.0\n",
      "2  NaN  4.0  6.0\n"
     ]
    }
   ],
   "source": [
    "# Example 10: Sorting with missing values at the end\n",
    "sorted_df_nan_end = df_nan.sort_values(by='A', na_position='last')\n",
    "print(\"\\nExample 10:\")\n",
    "print(sorted_df_nan_end)"
   ]
  },
  {
   "cell_type": "code",
   "execution_count": 12,
   "metadata": {},
   "outputs": [
    {
     "name": "stdout",
     "output_type": "stream",
     "text": [
      "\n",
      "Example 11:\n",
      "     A    B    C\n",
      "2  NaN  4.0  6.0\n",
      "0  1.0  7.0  9.0\n",
      "3  2.0  NaN  3.0\n",
      "1  3.0  2.0  NaN\n",
      "4  5.0  1.0  8.0\n"
     ]
    }
   ],
   "source": [
    "# Example 11: Sorting with missing values at the beginning\n",
    "sorted_df_nan_start = df_nan.sort_values(by='A', na_position='first')\n",
    "print(\"\\nExample 11:\")\n",
    "print(sorted_df_nan_start)"
   ]
  },
  {
   "cell_type": "code",
   "execution_count": 13,
   "metadata": {},
   "outputs": [
    {
     "name": "stdout",
     "output_type": "stream",
     "text": [
      "\n",
      "Example 12:\n",
      "4    1\n",
      "1    2\n",
      "3    3\n",
      "0    5\n",
      "2    8\n",
      "dtype: int64\n"
     ]
    }
   ],
   "source": [
    "# Example 12: Sorting a Series\n",
    "data_series = pd.Series([5, 2, 8, 3, 1])\n",
    "sorted_series = data_series.sort_values()\n",
    "print(\"\\nExample 12:\")\n",
    "print(sorted_series)"
   ]
  },
  {
   "cell_type": "code",
   "execution_count": 14,
   "metadata": {},
   "outputs": [
    {
     "name": "stdout",
     "output_type": "stream",
     "text": [
      "\n",
      "Example 13:\n",
      "2    8\n",
      "0    5\n",
      "3    3\n",
      "1    2\n",
      "4    1\n",
      "dtype: int64\n"
     ]
    }
   ],
   "source": [
    "# Example 13: Sorting a Series in descending order\n",
    "sorted_series_desc = data_series.sort_values(ascending=False)\n",
    "print(\"\\nExample 13:\")\n",
    "print(sorted_series_desc)"
   ]
  },
  {
   "cell_type": "code",
   "execution_count": 15,
   "metadata": {},
   "outputs": [
    {
     "name": "stdout",
     "output_type": "stream",
     "text": [
      "\n",
      "Example 14:\n",
      "0    5\n",
      "1    2\n",
      "2    8\n",
      "3    3\n",
      "4    1\n",
      "dtype: int64\n"
     ]
    }
   ],
   "source": [
    "# Example 14: Sorting by index in a Series\n",
    "sorted_series_index = data_series.sort_index()\n",
    "print(\"\\nExample 14:\")\n",
    "print(sorted_series_index)"
   ]
  },
  {
   "cell_type": "code",
   "execution_count": 16,
   "metadata": {},
   "outputs": [
    {
     "name": "stdout",
     "output_type": "stream",
     "text": [
      "\n",
      "Example 15:\n",
      "4    1\n",
      "3    3\n",
      "2    8\n",
      "1    2\n",
      "0    5\n",
      "dtype: int64\n"
     ]
    }
   ],
   "source": [
    "# Example 15: Sorting by index in a Series in descending order\n",
    "sorted_series_index_desc = data_series.sort_index(ascending=False)\n",
    "print(\"\\nExample 15:\")\n",
    "print(sorted_series_index_desc)"
   ]
  },
  {
   "cell_type": "code",
   "execution_count": 17,
   "metadata": {},
   "outputs": [
    {
     "name": "stdout",
     "output_type": "stream",
     "text": [
      "\n",
      "Example 16:\n",
      "     A    B    C\n",
      "1  3.0  2.0  NaN\n",
      "3  2.0  NaN  3.0\n",
      "2  NaN  4.0  6.0\n",
      "4  5.0  1.0  8.0\n",
      "0  1.0  7.0  9.0\n"
     ]
    }
   ],
   "source": [
    "# Example 16: Sorting a DataFrame by row sum\n",
    "df_sum_sorted = df_nan.loc[df_nan.sum(axis=1).sort_values().index]\n",
    "print(\"\\nExample 16:\")\n",
    "print(df_sum_sorted)"
   ]
  },
  {
   "cell_type": "code",
   "execution_count": 18,
   "metadata": {},
   "outputs": [
    {
     "name": "stdout",
     "output_type": "stream",
     "text": [
      "\n",
      "Example 17:\n",
      "     A    B    C\n",
      "1  3.0  2.0  NaN\n",
      "3  2.0  NaN  3.0\n",
      "0  1.0  7.0  9.0\n",
      "2  NaN  4.0  6.0\n",
      "4  5.0  1.0  8.0\n"
     ]
    }
   ],
   "source": [
    "# Example 17: Sorting by column based on custom order\n",
    "custom_order = [3, 2, 1, np.nan, 5]\n",
    "df_custom_order = df_nan.sort_values(by='A', key=lambda x: x.map({k: i for i, k in enumerate(custom_order)}))\n",
    "print(\"\\nExample 17:\")\n",
    "print(df_custom_order)"
   ]
  },
  {
   "cell_type": "code",
   "execution_count": 19,
   "metadata": {},
   "outputs": [
    {
     "name": "stdout",
     "output_type": "stream",
     "text": [
      "\n",
      "Example 18:\n",
      "     A    B    C\n",
      "2  NaN  4.0  6.0\n",
      "1  3.0  2.0  NaN\n",
      "0  1.0  7.0  9.0\n",
      "3  2.0  NaN  3.0\n",
      "4  5.0  1.0  8.0\n"
     ]
    }
   ],
   "source": [
    "# Example 18: Sorting based on a computed column\n",
    "df_computed_sort = df_nan.sort_values(by='A', key=lambda x: x.fillna(0) + x.fillna(0).shift(-1))\n",
    "print(\"\\nExample 18:\")\n",
    "print(df_computed_sort)"
   ]
  },
  {
   "cell_type": "code",
   "execution_count": 20,
   "metadata": {},
   "outputs": [
    {
     "name": "stdout",
     "output_type": "stream",
     "text": [
      "\n",
      "Example 19:\n",
      "      Name  Age\n",
      "3      Tom   23\n",
      "0     John   28\n",
      "1    Emily   25\n",
      "4    Alice   27\n",
      "5   Jackie   31\n",
      "2  Michael   32\n"
     ]
    }
   ],
   "source": [
    "# Example 19: Sorting by the length of strings in a column\n",
    "data_str_len = {\n",
    "    'Name': ['John', 'Emily', 'Michael', 'Tom', 'Alice', 'Jackie'],\n",
    "    'Age': [28, 25, 32, 23, 27, 31]\n",
    "}\n",
    "df_str_len = pd.DataFrame(data_str_len)\n",
    "df_str_len_sorted = df_str_len.sort_values(by='Name', key=lambda x: x.str.len())\n",
    "print(\"\\nExample 19:\")\n",
    "print(df_str_len_sorted)"
   ]
  },
  {
   "cell_type": "code",
   "execution_count": 21,
   "metadata": {},
   "outputs": [
    {
     "name": "stdout",
     "output_type": "stream",
     "text": [
      "\n",
      "Example 20:\n",
      "   A   B   C\n",
      "3  1  12  27\n",
      "4  1  17  27\n",
      "2  6  12  29\n",
      "1  3  19  27\n",
      "0  9  15  26\n"
     ]
    }
   ],
   "source": [
    "# Example 20: Sorting with a custom sorting function\n",
    "def custom_sort_func(col):\n",
    "    sorted_col = col.sort_values(ascending=False)\n",
    "    return sorted_col\n",
    "\n",
    "df_custom_sort_func = df.sort_values(by='A', key=custom_sort_func)\n",
    "print(\"\\nExample 20:\")\n",
    "print(df_custom_sort_func)"
   ]
  }
 ],
 "metadata": {
  "kernelspec": {
   "display_name": "Python 3",
   "language": "python",
   "name": "python3"
  },
  "language_info": {
   "codemirror_mode": {
    "name": "ipython",
    "version": 3
   },
   "file_extension": ".py",
   "mimetype": "text/x-python",
   "name": "python",
   "nbconvert_exporter": "python",
   "pygments_lexer": "ipython3",
   "version": "3.11.2"
  },
  "orig_nbformat": 4
 },
 "nbformat": 4,
 "nbformat_minor": 2
}
