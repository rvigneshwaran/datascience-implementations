{
 "cells": [
  {
   "cell_type": "code",
   "execution_count": 1,
   "metadata": {},
   "outputs": [],
   "source": [
    "import pandas as pd\n",
    "import numpy as np"
   ]
  },
  {
   "cell_type": "code",
   "execution_count": 2,
   "metadata": {},
   "outputs": [
    {
     "name": "stdout",
     "output_type": "stream",
     "text": [
      "Example 1:\n",
      "   A   B   C\n",
      "0  9  15  26\n",
      "1  3  19  27\n",
      "2  6  12  29\n",
      "3  1  12  27\n",
      "4  1  17  27\n"
     ]
    }
   ],
   "source": [
    "# Example 1: Creating a DataFrame\n",
    "data = {\n",
    "    'A': np.random.randint(1, 10, 5),\n",
    "    'B': np.random.randint(11, 20, 5),\n",
    "    'C': np.random.randint(21, 30, 5)\n",
    "}\n",
    "df = pd.DataFrame(data)\n",
    "print(\"Example 1:\")\n",
    "print(df)"
   ]
  },
  {
   "cell_type": "code",
   "execution_count": 3,
   "metadata": {},
   "outputs": [
    {
     "name": "stdout",
     "output_type": "stream",
     "text": [
      "\n",
      "Example 2:\n",
      "   A   B   C\n",
      "3  1  12  27\n",
      "4  1  17  27\n",
      "1  3  19  27\n",
      "2  6  12  29\n",
      "0  9  15  26\n"
     ]
    }
   ],
   "source": [
    "# Example 2: Sorting by a single column in ascending order\n",
    "sorted_df = df.sort_values(by='A')\n",
    "print(\"\\nExample 2:\")\n",
    "print(sorted_df)"
   ]
  },
  {
   "cell_type": "code",
   "execution_count": 4,
   "metadata": {},
   "outputs": [
    {
     "name": "stdout",
     "output_type": "stream",
     "text": [
      "\n",
      "Example 3:\n",
      "   A   B   C\n",
      "0  9  15  26\n",
      "2  6  12  29\n",
      "1  3  19  27\n",
      "3  1  12  27\n",
      "4  1  17  27\n"
     ]
    }
   ],
   "source": [
    "# Example 3: Sorting by a single column in descending order\n",
    "sorted_df_desc = df.sort_values(by='A', ascending=False)\n",
    "print(\"\\nExample 3:\")\n",
    "print(sorted_df_desc)"
   ]
  },
  {
   "cell_type": "code",
   "execution_count": 5,
   "metadata": {},
   "outputs": [
    {
     "name": "stdout",
     "output_type": "stream",
     "text": [
      "\n",
      "Example 4:\n",
      "   A   B   C\n",
      "3  1  12  27\n",
      "4  1  17  27\n",
      "1  3  19  27\n",
      "2  6  12  29\n",
      "0  9  15  26\n"
     ]
    }
   ],
   "source": [
    "# Example 4: Sorting by multiple columns in ascending order\n",
    "sorted_df_multi = df.sort_values(by=['A', 'B'])\n",
    "print(\"\\nExample 4:\")\n",
    "print(sorted_df_multi)"
   ]
  },
  {
   "cell_type": "code",
   "execution_count": 6,
   "metadata": {},
   "outputs": [
    {
     "name": "stdout",
     "output_type": "stream",
     "text": [
      "\n",
      "Example 5:\n",
      "   A   B   C\n",
      "0  9  15  26\n",
      "2  6  12  29\n",
      "1  3  19  27\n",
      "3  1  12  27\n",
      "4  1  17  27\n"
     ]
    }
   ],
   "source": [
    "# Example 5: Sorting by multiple columns with different sorting orders\n",
    "sorted_df_multi_desc = df.sort_values(by=['A', 'B'], ascending=[False, True])\n",
    "print(\"\\nExample 5:\")\n",
    "print(sorted_df_multi_desc)"
   ]
  },
  {
   "cell_type": "code",
   "execution_count": 7,
   "metadata": {},
   "outputs": [
    {
     "name": "stdout",
     "output_type": "stream",
     "text": [
      "\n",
      "Example 6:\n",
      "   A   B   C\n",
      "0  9  15  26\n",
      "1  3  19  27\n",
      "2  6  12  29\n",
      "3  1  12  27\n",
      "4  1  17  27\n"
     ]
    }
   ],
   "source": [
    "# Example 6: Sorting by index in ascending order\n",
    "sorted_df_index = df.sort_index()\n",
    "print(\"\\nExample 6:\")\n",
    "print(sorted_df_index)"
   ]
  },
  {
   "cell_type": "code",
   "execution_count": 8,
   "metadata": {},
   "outputs": [
    {
     "name": "stdout",
     "output_type": "stream",
     "text": [
      "\n",
      "Example 7:\n",
      "   A   B   C\n",
      "4  1  17  27\n",
      "3  1  12  27\n",
      "2  6  12  29\n",
      "1  3  19  27\n",
      "0  9  15  26\n"
     ]
    }
   ],
   "source": [
    "# Example 7: Sorting by index in descending order\n",
    "sorted_df_index_desc = df.sort_index(ascending=False)\n",
    "print(\"\\nExample 7:\")\n",
    "print(sorted_df_index_desc)"
   ]
  },
  {
   "cell_type": "code",
   "execution_count": 9,
   "metadata": {},
   "outputs": [
    {
     "name": "stdout",
     "output_type": "stream",
     "text": [
      "\n",
      "Example 8:\n",
      "   A   B   C\n",
      "0  1  12  27\n",
      "1  1  17  27\n",
      "2  3  19  27\n",
      "3  6  12  29\n",
      "4  9  15  26\n"
     ]
    }
   ],
   "source": [
    "# Example 8: Sorting by a column while maintaining the original index\n",
    "sorted_df_reset_index = df.sort_values(by='A').reset_index(drop=True)\n",
    "print(\"\\nExample 8:\")\n",
    "print(sorted_df_reset_index)"
   ]
  },
  {
   "cell_type": "code",
   "execution_count": 10,
   "metadata": {},
   "outputs": [
    {
     "name": "stdout",
     "output_type": "stream",
     "text": [
      "\n",
      "Example 9:\n",
      "     A    B    C\n",
      "0  1.0  7.0  9.0\n",
      "3  2.0  NaN  3.0\n",
      "1  3.0  2.0  NaN\n",
      "4  5.0  1.0  8.0\n",
      "2  NaN  4.0  6.0\n"
     ]
    }
   ],
   "source": [
    "# Example 9: Sorting by column and handling NaN values\n",
    "data_with_nan = {\n",
    "    'A': [1, 3, np.nan, 2, 5],\n",
    "    'B': [7, 2, 4, np.nan, 1],\n",
    "    'C': [9, np.nan, 6, 3, 8]\n",
    "}\n",
    "df_nan = pd.DataFrame(data_with_nan)\n",
    "sorted_df_nan = df_nan.sort_values(by='A')\n",
    "print(\"\\nExample 9:\")\n",
    "print(sorted_df_nan)"
   ]
  },
  {
   "cell_type": "code",
   "execution_count": 11,
   "metadata": {},
   "outputs": [
    {
     "name": "stdout",
     "output_type": "stream",
     "text": [
      "\n",
      "Example 10:\n",
      "     A    B    C\n",
      "0  1.0  7.0  9.0\n",
      "3  2.0  NaN  3.0\n",
      "1  3.0  2.0  NaN\n",
      "4  5.0  1.0  8.0\n",
      "2  NaN  4.0  6.0\n"
     ]
    }
   ],
   "source": [
    "# Example 10: Sorting with missing values at the end\n",
    "sorted_df_nan_end = df_nan.sort_values(by='A', na_position='last')\n",
    "print(\"\\nExample 10:\")\n",
    "print(sorted_df_nan_end)"
   ]
  },
  {
   "cell_type": "code",
   "execution_count": 12,
   "metadata": {},
   "outputs": [
    {
     "name": "stdout",
     "output_type": "stream",
     "text": [
      "\n",
      "Example 11:\n",
      "     A    B    C\n",
      "2  NaN  4.0  6.0\n",
      "0  1.0  7.0  9.0\n",
      "3  2.0  NaN  3.0\n",
      "1  3.0  2.0  NaN\n",
      "4  5.0  1.0  8.0\n"
     ]
    }
   ],
   "source": [
    "# Example 11: Sorting with missing values at the beginning\n",
    "sorted_df_nan_start = df_nan.sort_values(by='A', na_position='first')\n",
    "print(\"\\nExample 11:\")\n",
    "print(sorted_df_nan_start)"
   ]
  },
  {
   "cell_type": "code",
   "execution_count": 13,
   "metadata": {},
   "outputs": [
    {
     "name": "stdout",
     "output_type": "stream",
     "text": [
      "\n",
      "Example 12:\n",
      "4    1\n",
      "1    2\n",
      "3    3\n",
      "0    5\n",
      "2    8\n",
      "dtype: int64\n"
     ]
    }
   ],
   "source": [
    "# Example 12: Sorting a Series\n",
    "data_series = pd.Series([5, 2, 8, 3, 1])\n",
    "sorted_series = data_series.sort_values()\n",
    "print(\"\\nExample 12:\")\n",
    "print(sorted_series)"
   ]
  },
  {
   "cell_type": "code",
   "execution_count": 14,
   "metadata": {},
   "outputs": [
    {
     "name": "stdout",
     "output_type": "stream",
     "text": [
      "\n",
      "Example 13:\n",
      "2    8\n",
      "0    5\n",
      "3    3\n",
      "1    2\n",
      "4    1\n",
      "dtype: int64\n"
     ]
    }
   ],
   "source": [
    "# Example 13: Sorting a Series in descending order\n",
    "sorted_series_desc = data_series.sort_values(ascending=False)\n",
    "print(\"\\nExample 13:\")\n",
    "print(sorted_series_desc)"
   ]
  },
  {
   "cell_type": "code",
   "execution_count": 15,
   "metadata": {},
   "outputs": [
    {
     "name": "stdout",
     "output_type": "stream",
     "text": [
      "\n",
      "Example 14:\n",
      "0    5\n",
      "1    2\n",
      "2    8\n",
      "3    3\n",
      "4    1\n",
      "dtype: int64\n"
     ]
    }
   ],
   "source": [
    "# Example 14: Sorting by index in a Series\n",
    "sorted_series_index = data_series.sort_index()\n",
    "print(\"\\nExample 14:\")\n",
    "print(sorted_series_index)"
   ]
  },
  {
   "cell_type": "code",
   "execution_count": 16,
   "metadata": {},
   "outputs": [
    {
     "name": "stdout",
     "output_type": "stream",
     "text": [
      "\n",
      "Example 15:\n",
      "4    1\n",
      "3    3\n",
      "2    8\n",
      "1    2\n",
      "0    5\n",
      "dtype: int64\n"
     ]
    }
   ],
   "source": [
    "# Example 15: Sorting by index in a Series in descending order\n",
    "sorted_series_index_desc = data_series.sort_index(ascending=False)\n",
    "print(\"\\nExample 15:\")\n",
    "print(sorted_series_index_desc)"
   ]
  },
  {
   "cell_type": "code",
   "execution_count": 17,
   "metadata": {},
   "outputs": [
    {
     "name": "stdout",
     "output_type": "stream",
     "text": [
      "\n",
      "Example 16:\n",
      "     A    B    C\n",
      "1  3.0  2.0  NaN\n",
      "3  2.0  NaN  3.0\n",
      "2  NaN  4.0  6.0\n",
      "4  5.0  1.0  8.0\n",
      "0  1.0  7.0  9.0\n"
     ]
    }
   ],
   "source": [
    "# Example 16: Sorting a DataFrame by row sum\n",
    "df_sum_sorted = df_nan.loc[df_nan.sum(axis=1).sort_values().index]\n",
    "print(\"\\nExample 16:\")\n",
    "print(df_sum_sorted)"
   ]
  },
  {
   "cell_type": "code",
   "execution_count": 18,
   "metadata": {},
   "outputs": [
    {
     "name": "stdout",
     "output_type": "stream",
     "text": [
      "\n",
      "Example 17:\n",
      "     A    B    C\n",
      "1  3.0  2.0  NaN\n",
      "3  2.0  NaN  3.0\n",
      "0  1.0  7.0  9.0\n",
      "2  NaN  4.0  6.0\n",
      "4  5.0  1.0  8.0\n"
     ]
    }
   ],
   "source": [
    "# Example 17: Sorting by column based on custom order\n",
    "custom_order = [3, 2, 1, np.nan, 5]\n",
    "df_custom_order = df_nan.sort_values(by='A', key=lambda x: x.map({k: i for i, k in enumerate(custom_order)}))\n",
    "print(\"\\nExample 17:\")\n",
    "print(df_custom_order)"
   ]
  },
  {
   "cell_type": "code",
   "execution_count": 19,
   "metadata": {},
   "outputs": [
    {
     "name": "stdout",
     "output_type": "stream",
     "text": [
      "\n",
      "Example 18:\n",
      "     A    B    C\n",
      "2  NaN  4.0  6.0\n",
      "1  3.0  2.0  NaN\n",
      "0  1.0  7.0  9.0\n",
      "3  2.0  NaN  3.0\n",
      "4  5.0  1.0  8.0\n"
     ]
    }
   ],
   "source": [
    "# Example 18: Sorting based on a computed column\n",
    "df_computed_sort = df_nan.sort_values(by='A', key=lambda x: x.fillna(0) + x.fillna(0).shift(-1))\n",
    "print(\"\\nExample 18:\")\n",
    "print(df_computed_sort)"
   ]
  },
  {
   "cell_type": "code",
   "execution_count": 20,
   "metadata": {},
   "outputs": [
    {
     "name": "stdout",
     "output_type": "stream",
     "text": [
      "\n",
      "Example 19:\n",
      "      Name  Age\n",
      "3      Tom   23\n",
      "0     John   28\n",
      "1    Emily   25\n",
      "4    Alice   27\n",
      "5   Jackie   31\n",
      "2  Michael   32\n"
     ]
    }
   ],
   "source": [
    "# Example 19: Sorting by the length of strings in a column\n",
    "data_str_len = {\n",
    "    'Name': ['John', 'Emily', 'Michael', 'Tom', 'Alice', 'Jackie'],\n",
    "    'Age': [28, 25, 32, 23, 27, 31]\n",
    "}\n",
    "df_str_len = pd.DataFrame(data_str_len)\n",
    "df_str_len_sorted = df_str_len.sort_values(by='Name', key=lambda x: x.str.len())\n",
    "print(\"\\nExample 19:\")\n",
    "print(df_str_len_sorted)"
   ]
  },
  {
   "cell_type": "code",
   "execution_count": 21,
   "metadata": {},
   "outputs": [
    {
     "name": "stdout",
     "output_type": "stream",
     "text": [
      "\n",
      "Example 20:\n",
      "   A   B   C\n",
      "3  1  12  27\n",
      "4  1  17  27\n",
      "2  6  12  29\n",
      "1  3  19  27\n",
      "0  9  15  26\n"
     ]
    }
   ],
   "source": [
    "# Example 20: Sorting with a custom sorting function\n",
    "def custom_sort_func(col):\n",
    "    sorted_col = col.sort_values(ascending=False)\n",
    "    return sorted_col\n",
    "\n",
    "df_custom_sort_func = df.sort_values(by='A', key=custom_sort_func)\n",
    "print(\"\\nExample 20:\")\n",
    "print(df_custom_sort_func)"
   ]
  },
  {
   "cell_type": "code",
   "execution_count": 22,
   "metadata": {},
   "outputs": [
    {
     "name": "stdout",
     "output_type": "stream",
     "text": [
      "\n",
      "Example 21:\n",
      "     A    B    C\n",
      "2  NaN  4.0  6.0\n",
      "0  1.0  7.0  9.0\n",
      "1  3.0  2.0  NaN\n",
      "3  2.0  NaN  3.0\n",
      "4  5.0  1.0  8.0\n"
     ]
    }
   ],
   "source": [
    "# Example 21: Sorting based on the order of appearance in a list\n",
    "order_list = [5, 3, 2, 4, 1]\n",
    "df_order_list = df_nan.sort_values(by='A', key=lambda x: x.isin(order_list))\n",
    "print(\"\\nExample 21:\")\n",
    "print(df_order_list)"
   ]
  },
  {
   "cell_type": "code",
   "execution_count": 23,
   "metadata": {},
   "outputs": [
    {
     "name": "stdout",
     "output_type": "stream",
     "text": [
      "\n",
      "Example 22:\n",
      "   A  B\n",
      "1  1  7\n",
      "5  1  4\n",
      "2  2  9\n",
      "4  2  5\n",
      "0  3  8\n",
      "3  3  6\n"
     ]
    }
   ],
   "source": [
    "# Example 22: Sorting by index while preserving original order for duplicate values\n",
    "data_dup = {\n",
    "    'A': [3, 1, 2, 3, 2, 1],\n",
    "    'B': [8, 7, 9, 6, 5, 4]\n",
    "}\n",
    "df_dup = pd.DataFrame(data_dup)\n",
    "df_dup_sorted = df_dup.sort_values(by='A', kind='mergesort')\n",
    "print(\"\\nExample 22:\")\n",
    "print(df_dup_sorted)"
   ]
  },
  {
   "cell_type": "code",
   "execution_count": 24,
   "metadata": {},
   "outputs": [
    {
     "name": "stdout",
     "output_type": "stream",
     "text": [
      "\n",
      "Example 23:\n",
      "   A  B\n",
      "1  1  7\n",
      "5  1  4\n",
      "2  2  9\n",
      "4  2  5\n",
      "0  3  8\n",
      "3  3  6\n"
     ]
    }
   ],
   "source": [
    "# Example 23: Sorting by index with quicksort algorithm\n",
    "df_quick_sorted = df_dup.sort_values(by='A', kind='quicksort')\n",
    "print(\"\\nExample 23:\")\n",
    "print(df_quick_sorted)"
   ]
  },
  {
   "cell_type": "code",
   "execution_count": 25,
   "metadata": {},
   "outputs": [
    {
     "name": "stdout",
     "output_type": "stream",
     "text": [
      "\n",
      "Example 24:\n",
      "      Name  Age\n",
      "4    Alice   27\n",
      "1    Emily   25\n",
      "5   Jackie   31\n",
      "0     John   28\n",
      "2  Michael   32\n",
      "3      Tom   23\n"
     ]
    },
    {
     "ename": "TypeError",
     "evalue": "'<' not supported between instances of 'type' and 'type'",
     "output_type": "error",
     "traceback": [
      "\u001b[1;31m---------------------------------------------------------------------------\u001b[0m",
      "\u001b[1;31mTypeError\u001b[0m                                 Traceback (most recent call last)",
      "Cell \u001b[1;32mIn[25], line 12\u001b[0m\n\u001b[0;32m      7\u001b[0m data_mixed \u001b[39m=\u001b[39m {\n\u001b[0;32m      8\u001b[0m     \u001b[39m'\u001b[39m\u001b[39mA\u001b[39m\u001b[39m'\u001b[39m: [\u001b[39m1\u001b[39m, \u001b[39m'\u001b[39m\u001b[39mstring\u001b[39m\u001b[39m'\u001b[39m, \u001b[39m3.14\u001b[39m, \u001b[39mTrue\u001b[39;00m, \u001b[39mNone\u001b[39;00m],\n\u001b[0;32m      9\u001b[0m     \u001b[39m'\u001b[39m\u001b[39mB\u001b[39m\u001b[39m'\u001b[39m: [\u001b[39mTrue\u001b[39;00m, \u001b[39m2.718\u001b[39m, \u001b[39m'\u001b[39m\u001b[39mstring\u001b[39m\u001b[39m'\u001b[39m, \u001b[39m42\u001b[39m, \u001b[39mFalse\u001b[39;00m]\n\u001b[0;32m     10\u001b[0m }\n\u001b[0;32m     11\u001b[0m df_mixed \u001b[39m=\u001b[39m pd\u001b[39m.\u001b[39mDataFrame(data_mixed)\n\u001b[1;32m---> 12\u001b[0m df_mixed_sorted \u001b[39m=\u001b[39m df_mixed\u001b[39m.\u001b[39;49msort_values(by\u001b[39m=\u001b[39;49m\u001b[39m'\u001b[39;49m\u001b[39mA\u001b[39;49m\u001b[39m'\u001b[39;49m, key\u001b[39m=\u001b[39;49m\u001b[39mlambda\u001b[39;49;00m x: x\u001b[39m.\u001b[39;49mapply(\u001b[39mtype\u001b[39;49m))\n\u001b[0;32m     13\u001b[0m \u001b[39mprint\u001b[39m(\u001b[39m\"\u001b[39m\u001b[39m\\n\u001b[39;00m\u001b[39mExample 25:\u001b[39m\u001b[39m\"\u001b[39m)\n\u001b[0;32m     14\u001b[0m \u001b[39mprint\u001b[39m(df_mixed_sorted)\n",
      "File \u001b[1;32mc:\\Program Files\\Python311\\Lib\\site-packages\\pandas\\util\\_decorators.py:331\u001b[0m, in \u001b[0;36mdeprecate_nonkeyword_arguments.<locals>.decorate.<locals>.wrapper\u001b[1;34m(*args, **kwargs)\u001b[0m\n\u001b[0;32m    325\u001b[0m \u001b[39mif\u001b[39;00m \u001b[39mlen\u001b[39m(args) \u001b[39m>\u001b[39m num_allow_args:\n\u001b[0;32m    326\u001b[0m     warnings\u001b[39m.\u001b[39mwarn(\n\u001b[0;32m    327\u001b[0m         msg\u001b[39m.\u001b[39mformat(arguments\u001b[39m=\u001b[39m_format_argument_list(allow_args)),\n\u001b[0;32m    328\u001b[0m         \u001b[39mFutureWarning\u001b[39;00m,\n\u001b[0;32m    329\u001b[0m         stacklevel\u001b[39m=\u001b[39mfind_stack_level(),\n\u001b[0;32m    330\u001b[0m     )\n\u001b[1;32m--> 331\u001b[0m \u001b[39mreturn\u001b[39;00m func(\u001b[39m*\u001b[39;49margs, \u001b[39m*\u001b[39;49m\u001b[39m*\u001b[39;49mkwargs)\n",
      "File \u001b[1;32mc:\\Program Files\\Python311\\Lib\\site-packages\\pandas\\core\\frame.py:6923\u001b[0m, in \u001b[0;36mDataFrame.sort_values\u001b[1;34m(self, by, axis, ascending, inplace, kind, na_position, ignore_index, key)\u001b[0m\n\u001b[0;32m   6920\u001b[0m     \u001b[39mif\u001b[39;00m \u001b[39misinstance\u001b[39m(ascending, (\u001b[39mtuple\u001b[39m, \u001b[39mlist\u001b[39m)):\n\u001b[0;32m   6921\u001b[0m         ascending \u001b[39m=\u001b[39m ascending[\u001b[39m0\u001b[39m]\n\u001b[1;32m-> 6923\u001b[0m     indexer \u001b[39m=\u001b[39m nargsort(\n\u001b[0;32m   6924\u001b[0m         k, kind\u001b[39m=\u001b[39;49mkind, ascending\u001b[39m=\u001b[39;49mascending, na_position\u001b[39m=\u001b[39;49mna_position, key\u001b[39m=\u001b[39;49mkey\n\u001b[0;32m   6925\u001b[0m     )\n\u001b[0;32m   6926\u001b[0m \u001b[39melse\u001b[39;00m:\n\u001b[0;32m   6927\u001b[0m     \u001b[39mreturn\u001b[39;00m \u001b[39mself\u001b[39m\u001b[39m.\u001b[39mcopy()\n",
      "File \u001b[1;32mc:\\Program Files\\Python311\\Lib\\site-packages\\pandas\\core\\sorting.py:409\u001b[0m, in \u001b[0;36mnargsort\u001b[1;34m(items, kind, ascending, na_position, key, mask)\u001b[0m\n\u001b[0;32m    407\u001b[0m \u001b[39mif\u001b[39;00m key \u001b[39mis\u001b[39;00m \u001b[39mnot\u001b[39;00m \u001b[39mNone\u001b[39;00m:\n\u001b[0;32m    408\u001b[0m     items \u001b[39m=\u001b[39m ensure_key_mapped(items, key)\n\u001b[1;32m--> 409\u001b[0m     \u001b[39mreturn\u001b[39;00m nargsort(\n\u001b[0;32m    410\u001b[0m         items,\n\u001b[0;32m    411\u001b[0m         kind\u001b[39m=\u001b[39;49mkind,\n\u001b[0;32m    412\u001b[0m         ascending\u001b[39m=\u001b[39;49mascending,\n\u001b[0;32m    413\u001b[0m         na_position\u001b[39m=\u001b[39;49mna_position,\n\u001b[0;32m    414\u001b[0m         key\u001b[39m=\u001b[39;49m\u001b[39mNone\u001b[39;49;00m,\n\u001b[0;32m    415\u001b[0m         mask\u001b[39m=\u001b[39;49mmask,\n\u001b[0;32m    416\u001b[0m     )\n\u001b[0;32m    418\u001b[0m \u001b[39mif\u001b[39;00m \u001b[39misinstance\u001b[39m(items, ABCRangeIndex):\n\u001b[0;32m    419\u001b[0m     \u001b[39mreturn\u001b[39;00m items\u001b[39m.\u001b[39margsort(ascending\u001b[39m=\u001b[39mascending)  \u001b[39m# TODO: test coverage with key?\u001b[39;00m\n",
      "File \u001b[1;32mc:\\Program Files\\Python311\\Lib\\site-packages\\pandas\\core\\sorting.py:438\u001b[0m, in \u001b[0;36mnargsort\u001b[1;34m(items, kind, ascending, na_position, key, mask)\u001b[0m\n\u001b[0;32m    436\u001b[0m     non_nans \u001b[39m=\u001b[39m non_nans[::\u001b[39m-\u001b[39m\u001b[39m1\u001b[39m]\n\u001b[0;32m    437\u001b[0m     non_nan_idx \u001b[39m=\u001b[39m non_nan_idx[::\u001b[39m-\u001b[39m\u001b[39m1\u001b[39m]\n\u001b[1;32m--> 438\u001b[0m indexer \u001b[39m=\u001b[39m non_nan_idx[non_nans\u001b[39m.\u001b[39;49margsort(kind\u001b[39m=\u001b[39;49mkind)]\n\u001b[0;32m    439\u001b[0m \u001b[39mif\u001b[39;00m \u001b[39mnot\u001b[39;00m ascending:\n\u001b[0;32m    440\u001b[0m     indexer \u001b[39m=\u001b[39m indexer[::\u001b[39m-\u001b[39m\u001b[39m1\u001b[39m]\n",
      "\u001b[1;31mTypeError\u001b[0m: '<' not supported between instances of 'type' and 'type'"
     ]
    }
   ],
   "source": [
    "# Example 24: Sorting using the Categorical data type\n",
    "df_cat_sort = df_str_len.sort_values(by='Name', key=lambda x: x.astype('category'))\n",
    "print(\"\\nExample 24:\")\n",
    "print(df_cat_sort)\n",
    "\n",
    "# Example 25: Sorting based on data type\n",
    "data_mixed = {\n",
    "    'A': [1, 'string', 3.14, True, None],\n",
    "    'B': [True, 2.718, 'string', 42, False]\n",
    "}\n",
    "df_mixed = pd.DataFrame(data_mixed)\n",
    "df_mixed_sorted = df_mixed.sort_values(by='A', key=lambda x: x.apply(type))\n",
    "print(\"\\nExample 25:\")\n",
    "print(df_mixed_sorted)"
   ]
  },
  {
   "cell_type": "code",
   "execution_count": 26,
   "metadata": {},
   "outputs": [
    {
     "ename": "TypeError",
     "evalue": "object of type 'numpy.int32' has no len()",
     "output_type": "error",
     "traceback": [
      "\u001b[1;31m---------------------------------------------------------------------------\u001b[0m",
      "\u001b[1;31mTypeError\u001b[0m                                 Traceback (most recent call last)",
      "Cell \u001b[1;32mIn[26], line 2\u001b[0m\n\u001b[0;32m      1\u001b[0m \u001b[39m# Example 26: Sorting based on the maximum value in a row\u001b[39;00m\n\u001b[1;32m----> 2\u001b[0m df_max_sorted \u001b[39m=\u001b[39m df\u001b[39m.\u001b[39;49msort_values(by\u001b[39m=\u001b[39;49m\u001b[39m'\u001b[39;49m\u001b[39mA\u001b[39;49m\u001b[39m'\u001b[39;49m, key\u001b[39m=\u001b[39;49m\u001b[39mlambda\u001b[39;49;00m x: x\u001b[39m.\u001b[39;49mmax())\n\u001b[0;32m      3\u001b[0m \u001b[39mprint\u001b[39m(\u001b[39m\"\u001b[39m\u001b[39m\\n\u001b[39;00m\u001b[39mExample 26:\u001b[39m\u001b[39m\"\u001b[39m)\n\u001b[0;32m      4\u001b[0m \u001b[39mprint\u001b[39m(df_max_sorted)\n",
      "File \u001b[1;32mc:\\Program Files\\Python311\\Lib\\site-packages\\pandas\\util\\_decorators.py:331\u001b[0m, in \u001b[0;36mdeprecate_nonkeyword_arguments.<locals>.decorate.<locals>.wrapper\u001b[1;34m(*args, **kwargs)\u001b[0m\n\u001b[0;32m    325\u001b[0m \u001b[39mif\u001b[39;00m \u001b[39mlen\u001b[39m(args) \u001b[39m>\u001b[39m num_allow_args:\n\u001b[0;32m    326\u001b[0m     warnings\u001b[39m.\u001b[39mwarn(\n\u001b[0;32m    327\u001b[0m         msg\u001b[39m.\u001b[39mformat(arguments\u001b[39m=\u001b[39m_format_argument_list(allow_args)),\n\u001b[0;32m    328\u001b[0m         \u001b[39mFutureWarning\u001b[39;00m,\n\u001b[0;32m    329\u001b[0m         stacklevel\u001b[39m=\u001b[39mfind_stack_level(),\n\u001b[0;32m    330\u001b[0m     )\n\u001b[1;32m--> 331\u001b[0m \u001b[39mreturn\u001b[39;00m func(\u001b[39m*\u001b[39;49margs, \u001b[39m*\u001b[39;49m\u001b[39m*\u001b[39;49mkwargs)\n",
      "File \u001b[1;32mc:\\Program Files\\Python311\\Lib\\site-packages\\pandas\\core\\frame.py:6923\u001b[0m, in \u001b[0;36mDataFrame.sort_values\u001b[1;34m(self, by, axis, ascending, inplace, kind, na_position, ignore_index, key)\u001b[0m\n\u001b[0;32m   6920\u001b[0m     \u001b[39mif\u001b[39;00m \u001b[39misinstance\u001b[39m(ascending, (\u001b[39mtuple\u001b[39m, \u001b[39mlist\u001b[39m)):\n\u001b[0;32m   6921\u001b[0m         ascending \u001b[39m=\u001b[39m ascending[\u001b[39m0\u001b[39m]\n\u001b[1;32m-> 6923\u001b[0m     indexer \u001b[39m=\u001b[39m nargsort(\n\u001b[0;32m   6924\u001b[0m         k, kind\u001b[39m=\u001b[39;49mkind, ascending\u001b[39m=\u001b[39;49mascending, na_position\u001b[39m=\u001b[39;49mna_position, key\u001b[39m=\u001b[39;49mkey\n\u001b[0;32m   6925\u001b[0m     )\n\u001b[0;32m   6926\u001b[0m \u001b[39melse\u001b[39;00m:\n\u001b[0;32m   6927\u001b[0m     \u001b[39mreturn\u001b[39;00m \u001b[39mself\u001b[39m\u001b[39m.\u001b[39mcopy()\n",
      "File \u001b[1;32mc:\\Program Files\\Python311\\Lib\\site-packages\\pandas\\core\\sorting.py:408\u001b[0m, in \u001b[0;36mnargsort\u001b[1;34m(items, kind, ascending, na_position, key, mask)\u001b[0m\n\u001b[0;32m    386\u001b[0m \u001b[39m\u001b[39m\u001b[39m\"\"\"\u001b[39;00m\n\u001b[0;32m    387\u001b[0m \u001b[39mIntended to be a drop-in replacement for np.argsort which handles NaNs.\u001b[39;00m\n\u001b[0;32m    388\u001b[0m \n\u001b[1;32m   (...)\u001b[0m\n\u001b[0;32m    404\u001b[0m \u001b[39mnp.ndarray[np.intp]\u001b[39;00m\n\u001b[0;32m    405\u001b[0m \u001b[39m\"\"\"\u001b[39;00m\n\u001b[0;32m    407\u001b[0m \u001b[39mif\u001b[39;00m key \u001b[39mis\u001b[39;00m \u001b[39mnot\u001b[39;00m \u001b[39mNone\u001b[39;00m:\n\u001b[1;32m--> 408\u001b[0m     items \u001b[39m=\u001b[39m ensure_key_mapped(items, key)\n\u001b[0;32m    409\u001b[0m     \u001b[39mreturn\u001b[39;00m nargsort(\n\u001b[0;32m    410\u001b[0m         items,\n\u001b[0;32m    411\u001b[0m         kind\u001b[39m=\u001b[39mkind,\n\u001b[1;32m   (...)\u001b[0m\n\u001b[0;32m    415\u001b[0m         mask\u001b[39m=\u001b[39mmask,\n\u001b[0;32m    416\u001b[0m     )\n\u001b[0;32m    418\u001b[0m \u001b[39mif\u001b[39;00m \u001b[39misinstance\u001b[39m(items, ABCRangeIndex):\n",
      "File \u001b[1;32mc:\\Program Files\\Python311\\Lib\\site-packages\\pandas\\core\\sorting.py:567\u001b[0m, in \u001b[0;36mensure_key_mapped\u001b[1;34m(values, key, levels)\u001b[0m\n\u001b[0;32m    564\u001b[0m     \u001b[39mreturn\u001b[39;00m _ensure_key_mapped_multiindex(values, key, level\u001b[39m=\u001b[39mlevels)\n\u001b[0;32m    566\u001b[0m result \u001b[39m=\u001b[39m key(values\u001b[39m.\u001b[39mcopy())\n\u001b[1;32m--> 567\u001b[0m \u001b[39mif\u001b[39;00m \u001b[39mlen\u001b[39m(result) \u001b[39m!=\u001b[39m \u001b[39mlen\u001b[39m(values):\n\u001b[0;32m    568\u001b[0m     \u001b[39mraise\u001b[39;00m \u001b[39mValueError\u001b[39;00m(\n\u001b[0;32m    569\u001b[0m         \u001b[39m\"\u001b[39m\u001b[39mUser-provided `key` function must not change the shape of the array.\u001b[39m\u001b[39m\"\u001b[39m\n\u001b[0;32m    570\u001b[0m     )\n\u001b[0;32m    572\u001b[0m \u001b[39mtry\u001b[39;00m:\n",
      "\u001b[1;31mTypeError\u001b[0m: object of type 'numpy.int32' has no len()"
     ]
    }
   ],
   "source": [
    "# Example 26: Sorting based on the maximum value in a row\n",
    "df_max_sorted = df.sort_values(by='A', key=lambda x: x.max())\n",
    "print(\"\\nExample 26:\")\n",
    "print(df_max_sorted)"
   ]
  },
  {
   "cell_type": "code",
   "execution_count": 27,
   "metadata": {},
   "outputs": [
    {
     "name": "stdout",
     "output_type": "stream",
     "text": [
      "\n",
      "Example 27:\n",
      "   A   B   C\n",
      "1  3  19  27\n",
      "4  1  17  27\n",
      "3  1  12  27\n",
      "0  9  15  26\n",
      "2  6  12  29\n"
     ]
    }
   ],
   "source": [
    "# Example 27: Sorting by the difference between two columns\n",
    "df_diff_sorted = df.sort_values(by='A', key=lambda x: x - df['B'])\n",
    "print(\"\\nExample 27:\")\n",
    "print(df_diff_sorted)"
   ]
  },
  {
   "cell_type": "code",
   "execution_count": 28,
   "metadata": {},
   "outputs": [
    {
     "name": "stdout",
     "output_type": "stream",
     "text": [
      "\n",
      "Example 28:\n",
      "   A   B   C\n",
      "3  1  12  27\n",
      "4  1  17  27\n",
      "1  3  19  27\n",
      "2  6  12  29\n",
      "0  9  15  26\n"
     ]
    }
   ],
   "source": [
    "# Example 28: Sorting by absolute values of a column\n",
    "df_abs_sorted = df.sort_values(by='A', key=lambda x: x.abs())\n",
    "print(\"\\nExample 28:\")\n",
    "print(df_abs_sorted)\n"
   ]
  },
  {
   "cell_type": "code",
   "execution_count": 29,
   "metadata": {},
   "outputs": [
    {
     "name": "stdout",
     "output_type": "stream",
     "text": [
      "\n",
      "Example 29:\n",
      "      Name  Age\n",
      "4    Alice   27\n",
      "1    Emily   25\n",
      "5   Jackie   31\n",
      "0     John   28\n",
      "2  Michael   32\n",
      "3      Tom   23\n"
     ]
    }
   ],
   "source": [
    "# Example 29: Sorting by a column with string values\n",
    "data_str = {\n",
    "    'Name': ['John', 'Emily', 'Michael', 'Tom', 'Alice', 'Jackie'],\n",
    "    'Age': [28, 25, 32, 23, 27, 31]\n",
    "}\n",
    "df_str = pd.DataFrame(data_str)\n",
    "df_str_sorted = df_str.sort_values(by='Name', key=lambda x: x.str.lower())\n",
    "print(\"\\nExample 29:\")\n",
    "print(df_str_sorted)"
   ]
  },
  {
   "cell_type": "code",
   "execution_count": 30,
   "metadata": {},
   "outputs": [
    {
     "name": "stdout",
     "output_type": "stream",
     "text": [
      "\n",
      "Example 30:\n",
      "        Date  Value\n",
      "0 2023-07-01     10\n",
      "2 2023-07-02     15\n",
      "1 2023-07-03     20\n"
     ]
    }
   ],
   "source": [
    "# Example 30: Sorting by a column with datetime values\n",
    "data_datetime = {\n",
    "    'Date': ['2023-07-01', '2023-07-03', '2023-07-02'],\n",
    "    'Value': [10, 20, 15]\n",
    "}\n",
    "df_datetime = pd.DataFrame(data_datetime)\n",
    "df_datetime['Date'] = pd.to_datetime(df_datetime['Date'])\n",
    "df_datetime_sorted = df_datetime.sort_values(by='Date')\n",
    "print(\"\\nExample 30:\")\n",
    "print(df_datetime_sorted)"
   ]
  },
  {
   "cell_type": "code",
   "execution_count": 31,
   "metadata": {},
   "outputs": [
    {
     "name": "stdout",
     "output_type": "stream",
     "text": [
      "\n",
      "Example 31:\n",
      "        Date  Value\n",
      "0 2023-07-01     10\n",
      "2 2023-07-02     15\n",
      "1 2023-07-03     20\n"
     ]
    }
   ],
   "source": [
    "# Example 31: Sorting by a column with custom date format\n",
    "data_custom_date = {\n",
    "    'Date': ['07-01-2023', '07-03-2023', '07-02-2023'],\n",
    "    'Value': [10, 20, 15]\n",
    "}\n",
    "df_custom_date = pd.DataFrame(data_custom_date)\n",
    "df_custom_date['Date'] = pd.to_datetime(df_custom_date['Date'], format='%m-%d-%Y')\n",
    "df_custom_date_sorted = df_custom_date.sort_values(by='Date')\n",
    "print(\"\\nExample 31:\")\n",
    "print(df_custom_date_sorted)"
   ]
  },
  {
   "cell_type": "code",
   "execution_count": 33,
   "metadata": {},
   "outputs": [
    {
     "name": "stdout",
     "output_type": "stream",
     "text": [
      "\n",
      "Example 32:\n",
      "    Period  Value\n",
      "2  2023-06     15\n",
      "0  2023-07     10\n",
      "1  2023-08     20\n"
     ]
    }
   ],
   "source": [
    "# Example 32: Sorting by a column with period values\n",
    "data_period = {\n",
    "    'Period': ['2023-07', '2023-08', '2023-06'],\n",
    "    'Value': [10, 20, 15]\n",
    "}\n",
    "df_period = pd.DataFrame(data_period)\n",
    "df_period['Period'] = pd.PeriodIndex(df_period['Period'], freq='M')\n",
    "df_period_sorted = df_period.sort_values(by='Period')\n",
    "print(\"\\nExample 32:\")\n",
    "print(df_period_sorted)"
   ]
  },
  {
   "cell_type": "code",
   "execution_count": 34,
   "metadata": {},
   "outputs": [
    {
     "name": "stdout",
     "output_type": "stream",
     "text": [
      "\n",
      "Example 33:\n",
      "  TimeDelta  Value\n",
      "0    1 days     10\n",
      "2    2 days     15\n",
      "1    3 days     20\n"
     ]
    }
   ],
   "source": [
    "# Example 33: Sorting by a column with timedelta values\n",
    "data_timedelta = {\n",
    "    'TimeDelta': ['1 days', '3 days', '2 days'],\n",
    "    'Value': [10, 20, 15]\n",
    "}\n",
    "df_timedelta = pd.DataFrame(data_timedelta)\n",
    "df_timedelta['TimeDelta'] = pd.to_timedelta(df_timedelta['TimeDelta'])\n",
    "df_timedelta_sorted = df_timedelta.sort_values(by='TimeDelta')\n",
    "print(\"\\nExample 33:\")\n",
    "print(df_timedelta_sorted)"
   ]
  },
  {
   "cell_type": "code",
   "execution_count": 35,
   "metadata": {},
   "outputs": [
    {
     "name": "stdout",
     "output_type": "stream",
     "text": [
      "\n",
      "Example 34:\n",
      "  Category  Value\n",
      "1        A     20\n",
      "3        A     25\n",
      "0        B     10\n",
      "4        B     30\n",
      "2        C     15\n"
     ]
    }
   ],
   "source": [
    "# Example 34: Sorting by a column with categorical data type\n",
    "data_category = {\n",
    "    'Category': ['B', 'A', 'C', 'A', 'B'],\n",
    "    'Value': [10, 20, 15, 25, 30]\n",
    "}\n",
    "df_category = pd.DataFrame(data_category)\n",
    "df_category['Category'] = df_category['Category'].astype('category')\n",
    "df_category_sorted = df_category.sort_values(by='Category')\n",
    "print(\"\\nExample 34:\")\n",
    "print(df_category_sorted)"
   ]
  },
  {
   "cell_type": "code",
   "execution_count": 37,
   "metadata": {},
   "outputs": [
    {
     "name": "stdout",
     "output_type": "stream",
     "text": [
      "\n",
      "Example 35:\n",
      "  Category  Value\n",
      "1        A     20\n",
      "3        A     25\n",
      "0        B     10\n",
      "4        B     30\n",
      "2        C     15\n"
     ]
    }
   ],
   "source": [
    "# Example 35: Sorting by a column with a custom sort order\n",
    "custom_order = ['C', 'B', 'A']\n",
    "df_custom_order = df_category.sort_values(by='Category', key=lambda x: x.map({k: i for i, k in enumerate(custom_order)}))\n",
    "print(\"\\nExample 35:\")\n",
    "print(df_custom_order)"
   ]
  }
 ],
 "metadata": {
  "kernelspec": {
   "display_name": "Python 3",
   "language": "python",
   "name": "python3"
  },
  "language_info": {
   "codemirror_mode": {
    "name": "ipython",
    "version": 3
   },
   "file_extension": ".py",
   "mimetype": "text/x-python",
   "name": "python",
   "nbconvert_exporter": "python",
   "pygments_lexer": "ipython3",
   "version": "3.11.2"
  },
  "orig_nbformat": 4
 },
 "nbformat": 4,
 "nbformat_minor": 2
}
