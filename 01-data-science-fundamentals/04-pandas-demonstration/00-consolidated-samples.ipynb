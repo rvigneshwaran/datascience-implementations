{
 "cells": [
  {
   "cell_type": "code",
   "execution_count": 1,
   "metadata": {},
   "outputs": [],
   "source": [
    "import pandas as pd"
   ]
  },
  {
   "cell_type": "code",
   "execution_count": 2,
   "metadata": {},
   "outputs": [
    {
     "name": "stdout",
     "output_type": "stream",
     "text": [
      "Series with custom index:\n",
      "A    10\n",
      "B    20\n",
      "C    30\n",
      "D    40\n",
      "E    50\n",
      "dtype: int64\n"
     ]
    }
   ],
   "source": [
    "# Creating a Series with custom index\n",
    "series_data = pd.Series([10, 20, 30, 40, 50], index=['A', 'B', 'C', 'D', 'E'])\n",
    "print(\"Series with custom index:\")\n",
    "print(series_data)"
   ]
  },
  {
   "cell_type": "code",
   "execution_count": 3,
   "metadata": {},
   "outputs": [
    {
     "name": "stdout",
     "output_type": "stream",
     "text": [
      "\n",
      "DataFrame from dictionary:\n",
      "      Name  Age  Salary\n",
      "0    Alice   25   50000\n",
      "1      Bob   30   60000\n",
      "2  Charlie   22   45000\n",
      "3    David   35   70000\n",
      "4      Eve   28   55000\n"
     ]
    }
   ],
   "source": [
    "# Creating a DataFrame from a dictionary of lists\n",
    "data = {\n",
    "    'Name': ['Alice', 'Bob', 'Charlie', 'David', 'Eve'],\n",
    "    'Age': [25, 30, 22, 35, 28],\n",
    "    'Salary': [50000, 60000, 45000, 70000, 55000]\n",
    "}\n",
    "df = pd.DataFrame(data)\n",
    "print(\"\\nDataFrame from dictionary:\")\n",
    "print(df)"
   ]
  },
  {
   "cell_type": "code",
   "execution_count": 4,
   "metadata": {},
   "outputs": [
    {
     "name": "stdout",
     "output_type": "stream",
     "text": [
      "\n",
      "DataFrame from list of dictionaries:\n",
      "      Name  Age  Salary\n",
      "0    Alice   25   50000\n",
      "1      Bob   30   60000\n",
      "2  Charlie   22   45000\n",
      "3    David   35   70000\n",
      "4      Eve   28   55000\n"
     ]
    }
   ],
   "source": [
    "# Creating a DataFrame from a list of dictionaries\n",
    "data_list = [\n",
    "    {'Name': 'Alice', 'Age': 25, 'Salary': 50000},\n",
    "    {'Name': 'Bob', 'Age': 30, 'Salary': 60000},\n",
    "    {'Name': 'Charlie', 'Age': 22, 'Salary': 45000},\n",
    "    {'Name': 'David', 'Age': 35, 'Salary': 70000},\n",
    "    {'Name': 'Eve', 'Age': 28, 'Salary': 55000}\n",
    "]\n",
    "df_from_list = pd.DataFrame(data_list)\n",
    "print(\"\\nDataFrame from list of dictionaries:\")\n",
    "print(df_from_list)"
   ]
  },
  {
   "cell_type": "code",
   "execution_count": 5,
   "metadata": {},
   "outputs": [
    {
     "name": "stdout",
     "output_type": "stream",
     "text": [
      "\n",
      "Accessing elements using loc and iloc:\n",
      "Using loc: Age of Bob is 30\n",
      "Using iloc: Age of the 3rd person is 22\n"
     ]
    }
   ],
   "source": [
    "# Accessing elements using loc and iloc\n",
    "print(\"\\nAccessing elements using loc and iloc:\")\n",
    "print(\"Using loc: Age of Bob is\", df.loc[1, 'Age'])\n",
    "print(\"Using iloc: Age of the 3rd person is\", df.iloc[2]['Age'])"
   ]
  },
  {
   "cell_type": "code",
   "execution_count": 6,
   "metadata": {},
   "outputs": [
    {
     "name": "stdout",
     "output_type": "stream",
     "text": [
      "\n",
      "Slicing DataFrame rows and columns:\n",
      "First 2 rows:\n",
      "     Name  Age  Salary\n",
      "0  Alice   25   50000\n",
      "1    Bob   30   60000\n",
      "Last 2 rows:\n",
      "     Name  Age  Salary\n",
      "3  David   35   70000\n",
      "4    Eve   28   55000\n",
      "Selecting columns Age and Salary:\n",
      "    Age  Salary\n",
      "0   25   50000\n",
      "1   30   60000\n",
      "2   22   45000\n",
      "3   35   70000\n",
      "4   28   55000\n"
     ]
    }
   ],
   "source": [
    "# Slicing DataFrame rows and columns\n",
    "print(\"\\nSlicing DataFrame rows and columns:\")\n",
    "print(\"First 2 rows:\\n\", df[:2])\n",
    "print(\"Last 2 rows:\\n\", df[-2:])\n",
    "print(\"Selecting columns Age and Salary:\\n\", df[['Age', 'Salary']])"
   ]
  },
  {
   "cell_type": "code",
   "execution_count": 7,
   "metadata": {},
   "outputs": [
    {
     "name": "stdout",
     "output_type": "stream",
     "text": [
      "\n",
      "Filtering rows with multiple conditions:\n",
      "    Name  Age  Salary\n",
      "1    Bob   30   60000\n",
      "3  David   35   70000\n",
      "4    Eve   28   55000\n"
     ]
    }
   ],
   "source": [
    "# Filtering rows with multiple conditions\n",
    "print(\"\\nFiltering rows with multiple conditions:\")\n",
    "filtered_df = df[(df['Age'] > 25) & (df['Salary'] > 50000)]\n",
    "print(filtered_df)"
   ]
  },
  {
   "cell_type": "code",
   "execution_count": 8,
   "metadata": {},
   "outputs": [
    {
     "name": "stdout",
     "output_type": "stream",
     "text": [
      "\n",
      "DataFrame with the new row:\n",
      "      Name  Age  Salary\n",
      "0    Alice   25   50000\n",
      "1      Bob   30   60000\n",
      "2  Charlie   22   45000\n",
      "3    David   35   70000\n",
      "4      Eve   28   55000\n",
      "5    Frank   27   48000\n"
     ]
    },
    {
     "name": "stderr",
     "output_type": "stream",
     "text": [
      "C:\\Users\\rvign\\AppData\\Local\\Temp\\ipykernel_20104\\2365295788.py:3: FutureWarning: The frame.append method is deprecated and will be removed from pandas in a future version. Use pandas.concat instead.\n",
      "  df = df.append(new_row, ignore_index=True)\n"
     ]
    }
   ],
   "source": [
    "# Adding a new row to DataFrame\n",
    "new_row = pd.Series({'Name': 'Frank', 'Age': 27, 'Salary': 48000})\n",
    "df = df.append(new_row, ignore_index=True)\n",
    "print(\"\\nDataFrame with the new row:\")\n",
    "print(df)"
   ]
  },
  {
   "cell_type": "code",
   "execution_count": 9,
   "metadata": {},
   "outputs": [
    {
     "name": "stdout",
     "output_type": "stream",
     "text": [
      "\n",
      "DataFrame with modified element:\n",
      "      Name  Age  Salary\n",
      "0    Alice   25   50000\n",
      "1      Bob   30   60000\n",
      "2  Charlie   22   45000\n",
      "3    David   35   70000\n",
      "4   Evelyn   28   55000\n",
      "5    Frank   27   48000\n"
     ]
    }
   ],
   "source": [
    "# Modifying DataFrame elements\n",
    "df.at[4, 'Name'] = 'Evelyn'\n",
    "print(\"\\nDataFrame with modified element:\")\n",
    "print(df)"
   ]
  },
  {
   "cell_type": "code",
   "execution_count": 10,
   "metadata": {},
   "outputs": [
    {
     "name": "stdout",
     "output_type": "stream",
     "text": [
      "\n",
      "DataFrame with renamed columns:\n",
      "  Full Name  Years  Salary\n",
      "0     Alice     25   50000\n",
      "1       Bob     30   60000\n",
      "2   Charlie     22   45000\n",
      "3     David     35   70000\n",
      "4    Evelyn     28   55000\n",
      "5     Frank     27   48000\n"
     ]
    }
   ],
   "source": [
    "# Renaming columns in DataFrame\n",
    "df.rename(columns={'Name': 'Full Name', 'Age': 'Years'}, inplace=True)\n",
    "print(\"\\nDataFrame with renamed columns:\")\n",
    "print(df)"
   ]
  },
  {
   "cell_type": "code",
   "execution_count": 11,
   "metadata": {},
   "outputs": [
    {
     "name": "stdout",
     "output_type": "stream",
     "text": [
      "\n",
      "DataFrame after dropping the Salary column:\n",
      "  Full Name  Years\n",
      "0     Alice     25\n",
      "1       Bob     30\n",
      "2   Charlie     22\n",
      "3     David     35\n",
      "4    Evelyn     28\n",
      "5     Frank     27\n"
     ]
    }
   ],
   "source": [
    "# Deleting a column from DataFrame\n",
    "df.drop('Salary', axis=1, inplace=True)\n",
    "print(\"\\nDataFrame after dropping the Salary column:\")\n",
    "print(df)"
   ]
  },
  {
   "cell_type": "code",
   "execution_count": 12,
   "metadata": {},
   "outputs": [
    {
     "name": "stdout",
     "output_type": "stream",
     "text": [
      "\n",
      "Sorted Series:\n",
      "E    50\n",
      "D    40\n",
      "C    30\n",
      "B    20\n",
      "A    10\n",
      "dtype: int64\n",
      "\n",
      "Sorted DataFrame:\n",
      "  Full Name  Years\n",
      "3     David     35\n",
      "1       Bob     30\n",
      "4    Evelyn     28\n",
      "5     Frank     27\n",
      "0     Alice     25\n",
      "2   Charlie     22\n"
     ]
    }
   ],
   "source": [
    "# Sorting a Series and DataFrame\n",
    "sorted_series = series_data.sort_values(ascending=False)\n",
    "sorted_df = df.sort_values(by='Years', ascending=False)\n",
    "print(\"\\nSorted Series:\")\n",
    "print(sorted_series)\n",
    "print(\"\\nSorted DataFrame:\")\n",
    "print(sorted_df)"
   ]
  },
  {
   "cell_type": "code",
   "execution_count": 13,
   "metadata": {},
   "outputs": [
    {
     "name": "stdout",
     "output_type": "stream",
     "text": [
      "\n",
      "Merged DataFrame:\n",
      "   ID  Subject  Marks\n",
      "0   1     Math    NaN\n",
      "1   2  Science   90.0\n",
      "2   3  History   85.0\n",
      "3   4  English    NaN\n"
     ]
    }
   ],
   "source": [
    "# Combining DataFrames with merge\n",
    "data1 = {\n",
    "    'ID': [1, 2, 3, 4],\n",
    "    'Subject': ['Math', 'Science', 'History', 'English']\n",
    "}\n",
    "data2 = {\n",
    "    'ID': [2, 3, 5],\n",
    "    'Marks': [90, 85, 78]\n",
    "}\n",
    "df1 = pd.DataFrame(data1)\n",
    "df2 = pd.DataFrame(data2)\n",
    "merged_df = pd.merge(df1, df2, on='ID', how='left')\n",
    "print(\"\\nMerged DataFrame:\")\n",
    "print(merged_df)"
   ]
  },
  {
   "cell_type": "code",
   "execution_count": 14,
   "metadata": {},
   "outputs": [
    {
     "name": "stdout",
     "output_type": "stream",
     "text": [
      "\n",
      "DataFrame with missing values filled:\n",
      "     A\n",
      "0  1.0\n",
      "1  2.0\n",
      "2  0.0\n",
      "3  4.0\n",
      "4  5.0\n"
     ]
    }
   ],
   "source": [
    "# Filling missing values in a DataFrame\n",
    "df_with_nan = pd.DataFrame({'A': [1, 2, None, 4, 5]})\n",
    "df_filled = df_with_nan.fillna(0)\n",
    "print(\"\\nDataFrame with missing values filled:\")\n",
    "print(df_filled)"
   ]
  },
  {
   "cell_type": "code",
   "execution_count": 15,
   "metadata": {},
   "outputs": [
    {
     "name": "stdout",
     "output_type": "stream",
     "text": [
      "\n",
      "DataFrame without duplicates:\n",
      "   A\n",
      "0  1\n",
      "1  2\n",
      "3  3\n",
      "4  4\n"
     ]
    }
   ],
   "source": [
    "# Handling duplicates in DataFrame\n",
    "data_with_duplicates = pd.DataFrame({'A': [1, 2, 2, 3, 4]})\n",
    "df_without_duplicates = data_with_duplicates.drop_duplicates()\n",
    "print(\"\\nDataFrame without duplicates:\")\n",
    "print(df_without_duplicates)"
   ]
  },
  {
   "cell_type": "code",
   "execution_count": 16,
   "metadata": {},
   "outputs": [
    {
     "name": "stdout",
     "output_type": "stream",
     "text": [
      "\n",
      "Unique values in the Series:\n",
      "[10 20 30 40 50]\n"
     ]
    }
   ],
   "source": [
    "# Getting unique values in a Series\n",
    "unique_values = series_data.unique()\n",
    "print(\"\\nUnique values in the Series:\")\n",
    "print(unique_values)"
   ]
  },
  {
   "cell_type": "code",
   "execution_count": 17,
   "metadata": {},
   "outputs": [
    {
     "name": "stdout",
     "output_type": "stream",
     "text": [
      "\n",
      "Value counts in the Series:\n",
      "10    1\n",
      "20    1\n",
      "30    1\n",
      "40    1\n",
      "50    1\n",
      "dtype: int64\n"
     ]
    }
   ],
   "source": [
    "# Counting occurrences of values in a Series\n",
    "value_counts = series_data.value_counts()\n",
    "print(\"\\nValue counts in the Series:\")\n",
    "print(value_counts)"
   ]
  },
  {
   "cell_type": "code",
   "execution_count": 18,
   "metadata": {},
   "outputs": [
    {
     "name": "stdout",
     "output_type": "stream",
     "text": [
      "\n",
      "Series with strings in uppercase:\n",
      "0        APPLE\n",
      "1       BANANA\n",
      "2       ORANGE\n",
      "3    PINEAPPLE\n",
      "dtype: object\n"
     ]
    }
   ],
   "source": [
    "# String operations in a Series\n",
    "series_str = pd.Series(['apple', 'banana', 'orange', 'pineapple'])\n",
    "upper_case = series_str.str.upper()\n",
    "print(\"\\nSeries with strings in uppercase:\")\n",
    "print(upper_case)"
   ]
  },
  {
   "cell_type": "code",
   "execution_count": 19,
   "metadata": {},
   "outputs": [
    {
     "name": "stdout",
     "output_type": "stream",
     "text": [
      "\n",
      "Concatenated DataFrame:\n",
      "   A   B\n",
      "0  1   4\n",
      "1  2   5\n",
      "2  3   6\n",
      "0  7  10\n",
      "1  8  11\n",
      "2  9  12\n"
     ]
    }
   ],
   "source": [
    "# Combining DataFrames using concat\n",
    "data1 = {'A': [1, 2, 3], 'B': [4, 5, 6]}\n",
    "data2 = {'A': [7, 8, 9], 'B': [10, 11, 12]}\n",
    "df1 = pd.DataFrame(data1)\n",
    "df2 = pd.DataFrame(data2)\n",
    "concatenated_df = pd.concat([df1, df2])\n",
    "print(\"\\nConcatenated DataFrame:\")\n",
    "print(concatenated_df)"
   ]
  },
  {
   "cell_type": "code",
   "execution_count": 20,
   "metadata": {},
   "outputs": [
    {
     "name": "stdout",
     "output_type": "stream",
     "text": [
      "\n",
      "Reversed Series:\n",
      "E    50\n",
      "D    40\n",
      "C    30\n",
      "B    20\n",
      "A    10\n",
      "dtype: int64\n",
      "\n",
      "Reversed DataFrame:\n",
      "  Full Name  Years\n",
      "5     Frank     27\n",
      "4    Evelyn     28\n",
      "3     David     35\n",
      "2   Charlie     22\n",
      "1       Bob     30\n",
      "0     Alice     25\n"
     ]
    }
   ],
   "source": [
    "# Reversing a Series and DataFrame\n",
    "reversed_series = series_data[::-1]\n",
    "reversed_df = df.iloc[::-1]\n",
    "print(\"\\nReversed Series:\")\n",
    "print(reversed_series)\n",
    "print(\"\\nReversed DataFrame:\")\n",
    "print(reversed_df)"
   ]
  },
  {
   "cell_type": "code",
   "execution_count": 21,
   "metadata": {},
   "outputs": [
    {
     "name": "stdout",
     "output_type": "stream",
     "text": [
      "\n",
      "DataFrame with reset index:\n",
      "  Full Name  Years\n",
      "0     Alice     25\n",
      "1       Bob     30\n",
      "2   Charlie     22\n",
      "3     David     35\n",
      "4    Evelyn     28\n",
      "5     Frank     27\n"
     ]
    }
   ],
   "source": [
    "# Resetting index in a DataFrame\n",
    "df.reset_index(drop=True, inplace=True)\n",
    "print(\"\\nDataFrame with reset index:\")\n",
    "print(df)"
   ]
  },
  {
   "cell_type": "code",
   "execution_count": 22,
   "metadata": {},
   "outputs": [
    {
     "name": "stdout",
     "output_type": "stream",
     "text": [
      "\n",
      "DataFrame with datetime index:\n",
      "        Date  Value\n",
      "0 2023-01-01     10\n",
      "1 2023-01-02     20\n",
      "2 2023-01-03     30\n",
      "3 2023-01-04     40\n",
      "4 2023-01-05     50\n"
     ]
    }
   ],
   "source": [
    "# Creating a DataFrame with datetime index\n",
    "dates = pd.date_range(start='2023-01-01', periods=5, freq='D')\n",
    "df_dates = pd.DataFrame({'Date': dates, 'Value': [10, 20, 30, 40, 50]})\n",
    "print(\"\\nDataFrame with datetime index:\")\n",
    "print(df_dates)"
   ]
  },
  {
   "cell_type": "code",
   "execution_count": 23,
   "metadata": {},
   "outputs": [
    {
     "name": "stdout",
     "output_type": "stream",
     "text": [
      "\n",
      "DataFrame with date components:\n",
      "        Date  Value  Year  Month  Day\n",
      "0 2023-01-01     10  2023      1    1\n",
      "1 2023-01-02     20  2023      1    2\n",
      "2 2023-01-03     30  2023      1    3\n",
      "3 2023-01-04     40  2023      1    4\n",
      "4 2023-01-05     50  2023      1    5\n"
     ]
    }
   ],
   "source": [
    "# Extracting date components from datetime\n",
    "df_dates['Year'] = df_dates['Date'].dt.year\n",
    "df_dates['Month'] = df_dates['Date'].dt.month\n",
    "df_dates['Day'] = df_dates['Date'].dt.day\n",
    "print(\"\\nDataFrame with date components:\")\n",
    "print(df_dates)"
   ]
  },
  {
   "cell_type": "code",
   "execution_count": 24,
   "metadata": {},
   "outputs": [
    {
     "name": "stdout",
     "output_type": "stream",
     "text": [
      "\n",
      "Resampled DataFrame:\n",
      "            Value  Year  Month  Day\n",
      "Date                               \n",
      "2023-01-01     30  4046      2    3\n",
      "2023-01-03     70  4046      2    7\n",
      "2023-01-05     50  2023      1    5\n"
     ]
    }
   ],
   "source": [
    "# Resampling time series data\n",
    "df_dates.set_index('Date', inplace=True)\n",
    "resampled_df = df_dates.resample('2D').sum()\n",
    "print(\"\\nResampled DataFrame:\")\n",
    "print(resampled_df)"
   ]
  },
  {
   "cell_type": "code",
   "execution_count": 25,
   "metadata": {},
   "outputs": [
    {
     "name": "stdout",
     "output_type": "stream",
     "text": [
      "\n",
      "Rolling window DataFrame:\n",
      "            Value    Year  Month  Day\n",
      "Date                                 \n",
      "2023-01-01    NaN     NaN    NaN  NaN\n",
      "2023-01-02    NaN     NaN    NaN  NaN\n",
      "2023-01-03   20.0  2023.0    1.0  2.0\n",
      "2023-01-04   30.0  2023.0    1.0  3.0\n",
      "2023-01-05   40.0  2023.0    1.0  4.0\n"
     ]
    }
   ],
   "source": [
    "# Rolling window calculation in time series data\n",
    "rolling_df = df_dates.rolling(window=3).mean()\n",
    "print(\"\\nRolling window DataFrame:\")\n",
    "print(rolling_df)"
   ]
  },
  {
   "cell_type": "code",
   "execution_count": 29,
   "metadata": {},
   "outputs": [
    {
     "name": "stdout",
     "output_type": "stream",
     "text": [
      "\n",
      "MultiIndex DataFrame:\n",
      "Empty DataFrame\n",
      "Columns: []\n",
      "Index: [(Alice, 25), (Bob, 30), (Charlie, 22), (David, 35), (Evelyn, 28), (Frank, 27)]\n"
     ]
    }
   ],
   "source": [
    "# Creating a MultiIndex DataFrame\n",
    "multi_index_df = df.set_index(['Full Name', 'Years'])\n",
    "print(\"\\nMultiIndex DataFrame:\")\n",
    "print(multi_index_df)"
   ]
  },
  {
   "cell_type": "code",
   "execution_count": 30,
   "metadata": {},
   "outputs": [
    {
     "name": "stdout",
     "output_type": "stream",
     "text": [
      "\n",
      "Unstacked DataFrame:\n",
      "Empty DataFrame\n",
      "Columns: []\n",
      "Index: [Alice, Bob, Charlie, David, Evelyn, Frank]\n"
     ]
    }
   ],
   "source": [
    "# Unstacking a MultiIndex DataFrame\n",
    "unstacked_df = multi_index_df.unstack()\n",
    "print(\"\\nUnstacked DataFrame:\")\n",
    "print(unstacked_df)"
   ]
  },
  {
   "cell_type": "code",
   "execution_count": 31,
   "metadata": {},
   "outputs": [
    {
     "name": "stdout",
     "output_type": "stream",
     "text": [
      "\n",
      "DataFrame with timezone-aware datetime:\n",
      "                           Value  Year  Month  Day\n",
      "Date                                              \n",
      "2023-01-01 00:00:00-05:00     10  2023      1    1\n",
      "2023-01-02 00:00:00-05:00     20  2023      1    2\n",
      "2023-01-03 00:00:00-05:00     30  2023      1    3\n",
      "2023-01-04 00:00:00-05:00     40  2023      1    4\n",
      "2023-01-05 00:00:00-05:00     50  2023      1    5\n"
     ]
    }
   ],
   "source": [
    "# Handling timezone-aware datetime data\n",
    "import pytz\n",
    "df_dates_tz = df_dates.tz_localize(pytz.timezone('America/New_York'))\n",
    "print(\"\\nDataFrame with timezone-aware datetime:\")\n",
    "print(df_dates_tz)"
   ]
  },
  {
   "cell_type": "code",
   "execution_count": 33,
   "metadata": {},
   "outputs": [
    {
     "data": {
      "image/png": "[encoded data removed]",
      "text/plain": [
       "<Figure size 640x480 with 1 Axes>"
      ]
     },
     "metadata": {},
     "output_type": "display_data"
    }
   ],
   "source": [
    "# Generating a bar chart from DataFrame\n",
    "plt.bar(df['Full Name'], df['Years'])\n",
    "plt.xlabel('Full Name')\n",
    "plt.ylabel('Years')\n",
    "plt.title('Bar Chart of Years by Full Name')\n",
    "plt.show()"
   ]
  },
  {
   "cell_type": "code",
   "execution_count": 34,
   "metadata": {},
   "outputs": [
    {
     "data": {
      "image/png": "[encoded data removed]",
      "text/plain": [
       "<Figure size 640x480 with 1 Axes>"
      ]
     },
     "metadata": {},
     "output_type": "display_data"
    }
   ],
   "source": [
    "# Generating a histogram from Series\n",
    "plt.hist(series_data, bins=5, edgecolor='black')\n",
    "plt.xlabel('Values')\n",
    "plt.ylabel('Frequency')\n",
    "plt.title('Histogram of Series Data')\n",
    "plt.show()"
   ]
  },
  {
   "cell_type": "code",
   "execution_count": 35,
   "metadata": {},
   "outputs": [
    {
     "data": {
      "image/png": "[encoded data removed]",
      "text/plain": [
       "<Figure size 640x480 with 1 Axes>"
      ]
     },
     "metadata": {},
     "output_type": "display_data"
    }
   ],
   "source": [
    "# Generating a box plot from DataFrame\n",
    "plt.boxplot(df['Years'])\n",
    "plt.xlabel('Age')\n",
    "plt.title('Box Plot of Years')\n",
    "plt.show()"
   ]
  },
  {
   "cell_type": "code",
   "execution_count": 39,
   "metadata": {},
   "outputs": [
    {
     "name": "stdout",
     "output_type": "stream",
     "text": [
      "\n",
      "DataFrame with Doubled_Value column:\n",
      "  Full Name  Years  Doubled_Value\n",
      "0     Alice     25             50\n",
      "1       Bob     30             60\n",
      "2   Charlie     22             44\n",
      "3     David     35             70\n",
      "4    Evelyn     28             56\n",
      "5     Frank     27             54\n"
     ]
    }
   ],
   "source": [
    "# Applying a custom function to a DataFrame\n",
    "def double_value(x):\n",
    "    return 2 * x\n",
    "\n",
    "df['Doubled_Value'] = df['Years'].apply(double_value)\n",
    "print(\"\\nDataFrame with Doubled_Value column:\")\n",
    "print(df)"
   ]
  }
 ],
 "metadata": {
  "kernelspec": {
   "display_name": "Python 3",
   "language": "python",
   "name": "python3"
  },
  "language_info": {
   "codemirror_mode": {
    "name": "ipython",
    "version": 3
   },
   "file_extension": ".py",
   "mimetype": "text/x-python",
   "name": "python",
   "nbconvert_exporter": "python",
   "pygments_lexer": "ipython3",
   "version": "3.11.2"
  },
  "orig_nbformat": 4
 },
 "nbformat": 4,
 "nbformat_minor": 2
}
