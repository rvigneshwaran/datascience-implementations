{
 "cells": [
  {
   "cell_type": "code",
   "execution_count": 1,
   "metadata": {},
   "outputs": [],
   "source": [
    "import pandas as pd\n",
    "import numpy as np\n"
   ]
  },
  {
   "cell_type": "code",
   "execution_count": 2,
   "metadata": {},
   "outputs": [],
   "source": [
    "# Sample DataFrame with missing values\n",
    "data = {'A': [1, 2, np.nan, 4, 5],\n",
    "        'B': [np.nan, 2, 3, np.nan, 5]}\n",
    "df = pd.DataFrame(data)"
   ]
  },
  {
   "cell_type": "code",
   "execution_count": 3,
   "metadata": {},
   "outputs": [
    {
     "name": "stdout",
     "output_type": "stream",
     "text": [
      "Example 1: Linear Interpolation\n",
      "     A    B\n",
      "0  1.0  NaN\n",
      "1  2.0  2.0\n",
      "2  3.0  3.0\n",
      "3  4.0  4.0\n",
      "4  5.0  5.0\n"
     ]
    }
   ],
   "source": [
    "# Example 1: Linear Interpolation (Default)\n",
    "df_linear = df.interpolate()\n",
    "print(\"Example 1: Linear Interpolation\")\n",
    "print(df_linear)"
   ]
  },
  {
   "cell_type": "code",
   "execution_count": 4,
   "metadata": {},
   "outputs": [
    {
     "name": "stdout",
     "output_type": "stream",
     "text": [
      "Example 2: Linear Interpolation (Limit Direction Forward)\n",
      "     A    B\n",
      "0  1.0  NaN\n",
      "1  2.0  2.0\n",
      "2  3.0  3.0\n",
      "3  4.0  4.0\n",
      "4  5.0  5.0\n"
     ]
    }
   ],
   "source": [
    "# Example 2: Linear Interpolation (Limit Direction Forward)\n",
    "df_linear_forward = df.interpolate(limit_direction='forward')\n",
    "print(\"Example 2: Linear Interpolation (Limit Direction Forward)\")\n",
    "print(df_linear_forward)"
   ]
  },
  {
   "cell_type": "code",
   "execution_count": 5,
   "metadata": {},
   "outputs": [
    {
     "name": "stdout",
     "output_type": "stream",
     "text": [
      "Example 3: Linear Interpolation (Limit Direction Backward)\n",
      "     A    B\n",
      "0  1.0  2.0\n",
      "1  2.0  2.0\n",
      "2  3.0  3.0\n",
      "3  4.0  4.0\n",
      "4  5.0  5.0\n"
     ]
    }
   ],
   "source": [
    "# Example 3: Linear Interpolation (Limit Direction Backward)\n",
    "df_linear_backward = df.interpolate(limit_direction='backward')\n",
    "print(\"Example 3: Linear Interpolation (Limit Direction Backward)\")\n",
    "print(df_linear_backward)"
   ]
  },
  {
   "cell_type": "code",
   "execution_count": 6,
   "metadata": {},
   "outputs": [
    {
     "name": "stdout",
     "output_type": "stream",
     "text": [
      "Example 4: Polynomial Interpolation (Order 2)\n",
      "     A    B\n",
      "0  1.0  NaN\n",
      "1  2.0  2.0\n",
      "2  3.0  3.0\n",
      "3  4.0  4.0\n",
      "4  5.0  5.0\n"
     ]
    }
   ],
   "source": [
    "# Example 4: Polynomial Interpolation (Order 2)\n",
    "df_poly_2 = df.interpolate(method='polynomial', order=2)\n",
    "print(\"Example 4: Polynomial Interpolation (Order 2)\")\n",
    "print(df_poly_2)"
   ]
  },
  {
   "cell_type": "code",
   "execution_count": 7,
   "metadata": {},
   "outputs": [
    {
     "name": "stdout",
     "output_type": "stream",
     "text": [
      "Example 5: Spline Interpolation (Spline of Order 2)\n",
      "     A    B\n",
      "0  1.0  NaN\n",
      "1  2.0  2.0\n",
      "2  3.0  3.0\n",
      "3  4.0  4.0\n",
      "4  5.0  5.0\n"
     ]
    }
   ],
   "source": [
    "# Example 5: Spline Interpolation (Spline of Order 2)\n",
    "df_spline = df.interpolate(method='spline', order=2)\n",
    "print(\"Example 5: Spline Interpolation (Spline of Order 2)\")\n",
    "print(df_spline)"
   ]
  },
  {
   "cell_type": "code",
   "execution_count": 8,
   "metadata": {},
   "outputs": [
    {
     "name": "stdout",
     "output_type": "stream",
     "text": [
      "Example 6: Time-based Linear Interpolation\n",
      "              A\n",
      "2023-01-01  1.0\n",
      "2023-01-02  2.0\n",
      "2023-01-03  3.0\n",
      "2023-01-04  4.0\n",
      "2023-01-05  5.0\n"
     ]
    }
   ],
   "source": [
    "# Example 6: Time-based Linear Interpolation\n",
    "date_rng = pd.date_range(start='2023-01-01', end='2023-01-05', freq='D')\n",
    "df_time_linear = pd.DataFrame({'A': [1, 2, np.nan, 4, 5]}, index=date_rng)\n",
    "df_time_linear_interpolated = df_time_linear.interpolate()\n",
    "print(\"Example 6: Time-based Linear Interpolation\")\n",
    "print(df_time_linear_interpolated)"
   ]
  },
  {
   "cell_type": "code",
   "execution_count": 9,
   "metadata": {},
   "outputs": [
    {
     "name": "stdout",
     "output_type": "stream",
     "text": [
      "Example 7: Time-based Linear Interpolation with Time Delta\n",
      "              A\n",
      "2023-01-01  1.0\n",
      "2023-01-02  2.0\n",
      "2023-01-03  3.0\n",
      "2023-01-04  4.0\n",
      "2023-01-05  5.0\n"
     ]
    }
   ],
   "source": [
    "# Example 7: Time-based Linear Interpolation with Time Delta\n",
    "date_rng = pd.date_range(start='2023-01-01', end='2023-01-05', freq='D')\n",
    "df_time_linear = pd.DataFrame({'A': [1, 2, np.nan, 4, 5]}, index=date_rng)\n",
    "df_time_linear_interpolated = df_time_linear.interpolate(method='time')\n",
    "print(\"Example 7: Time-based Linear Interpolation with Time Delta\")\n",
    "print(df_time_linear_interpolated)"
   ]
  },
  {
   "cell_type": "code",
   "execution_count": 10,
   "metadata": {},
   "outputs": [
    {
     "name": "stdout",
     "output_type": "stream",
     "text": [
      "Example 8: Nearest Neighbor Interpolation\n",
      "     A    B\n",
      "0  1.0  NaN\n",
      "1  2.0  2.0\n",
      "2  2.0  3.0\n",
      "3  4.0  3.0\n",
      "4  5.0  5.0\n"
     ]
    }
   ],
   "source": [
    "# Example 8: Nearest Neighbor Interpolation\n",
    "df_nearest = df.interpolate(method='nearest')\n",
    "print(\"Example 8: Nearest Neighbor Interpolation\")\n",
    "print(df_nearest)"
   ]
  },
  {
   "cell_type": "code",
   "execution_count": 11,
   "metadata": {},
   "outputs": [
    {
     "name": "stdout",
     "output_type": "stream",
     "text": [
      "Example 9: Interpolation with Custom Fill Value (0)\n",
      "     A    B\n",
      "0  1.0  NaN\n",
      "1  2.0  2.0\n",
      "2  3.0  3.0\n",
      "3  4.0  4.0\n",
      "4  5.0  5.0\n"
     ]
    }
   ],
   "source": [
    "# Example 9: Interpolation with Custom Fill Value (0)\n",
    "df_custom_fill = df.interpolate(fill_value=0)\n",
    "print(\"Example 9: Interpolation with Custom Fill Value (0)\")\n",
    "print(df_custom_fill)"
   ]
  },
  {
   "cell_type": "code",
   "execution_count": 12,
   "metadata": {},
   "outputs": [
    {
     "name": "stdout",
     "output_type": "stream",
     "text": [
      "Example 10: Interpolation with Time-based Custom Fill Value\n",
      "     A    B\n",
      "0  1.0  NaN\n",
      "1  2.0  2.0\n",
      "2  3.0  3.0\n",
      "3  4.0  4.0\n",
      "4  5.0  5.0\n"
     ]
    }
   ],
   "source": [
    "# Example 10: Interpolation with Time-based Custom Fill Value\n",
    "df_time_custom_fill = df.interpolate(fill_value=pd.Timestamp('2023-01-03'))\n",
    "print(\"Example 10: Interpolation with Time-based Custom Fill Value\")\n",
    "print(df_time_custom_fill)"
   ]
  }
 ],
 "metadata": {
  "kernelspec": {
   "display_name": "Python 3",
   "language": "python",
   "name": "python3"
  },
  "language_info": {
   "codemirror_mode": {
    "name": "ipython",
    "version": 3
   },
   "file_extension": ".py",
   "mimetype": "text/x-python",
   "name": "python",
   "nbconvert_exporter": "python",
   "pygments_lexer": "ipython3",
   "version": "3.11.2"
  },
  "orig_nbformat": 4
 },
 "nbformat": 4,
 "nbformat_minor": 2
}
