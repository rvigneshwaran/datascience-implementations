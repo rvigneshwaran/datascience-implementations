{
 "cells": [
  {
   "cell_type": "code",
   "execution_count": 1,
   "metadata": {},
   "outputs": [],
   "source": [
    "import pandas as pd\n",
    "import numpy as np\n"
   ]
  },
  {
   "cell_type": "code",
   "execution_count": 2,
   "metadata": {},
   "outputs": [],
   "source": [
    "# Sample DataFrame with missing values\n",
    "data = {'A': [1, 2, np.nan, 4, 5],\n",
    "        'B': [np.nan, 2, 3, np.nan, 5]}\n",
    "df = pd.DataFrame(data)"
   ]
  },
  {
   "cell_type": "code",
   "execution_count": 3,
   "metadata": {},
   "outputs": [
    {
     "name": "stdout",
     "output_type": "stream",
     "text": [
      "Example 1: Linear Interpolation\n",
      "     A    B\n",
      "0  1.0  NaN\n",
      "1  2.0  2.0\n",
      "2  3.0  3.0\n",
      "3  4.0  4.0\n",
      "4  5.0  5.0\n"
     ]
    }
   ],
   "source": [
    "# Example 1: Linear Interpolation (Default)\n",
    "df_linear = df.interpolate()\n",
    "print(\"Example 1: Linear Interpolation\")\n",
    "print(df_linear)"
   ]
  },
  {
   "cell_type": "code",
   "execution_count": 4,
   "metadata": {},
   "outputs": [
    {
     "name": "stdout",
     "output_type": "stream",
     "text": [
      "Example 2: Linear Interpolation (Limit Direction Forward)\n",
      "     A    B\n",
      "0  1.0  NaN\n",
      "1  2.0  2.0\n",
      "2  3.0  3.0\n",
      "3  4.0  4.0\n",
      "4  5.0  5.0\n"
     ]
    }
   ],
   "source": [
    "# Example 2: Linear Interpolation (Limit Direction Forward)\n",
    "df_linear_forward = df.interpolate(limit_direction='forward')\n",
    "print(\"Example 2: Linear Interpolation (Limit Direction Forward)\")\n",
    "print(df_linear_forward)"
   ]
  },
  {
   "cell_type": "code",
   "execution_count": 5,
   "metadata": {},
   "outputs": [
    {
     "name": "stdout",
     "output_type": "stream",
     "text": [
      "Example 3: Linear Interpolation (Limit Direction Backward)\n",
      "     A    B\n",
      "0  1.0  2.0\n",
      "1  2.0  2.0\n",
      "2  3.0  3.0\n",
      "3  4.0  4.0\n",
      "4  5.0  5.0\n"
     ]
    }
   ],
   "source": [
    "# Example 3: Linear Interpolation (Limit Direction Backward)\n",
    "df_linear_backward = df.interpolate(limit_direction='backward')\n",
    "print(\"Example 3: Linear Interpolation (Limit Direction Backward)\")\n",
    "print(df_linear_backward)"
   ]
  },
  {
   "cell_type": "code",
   "execution_count": 6,
   "metadata": {},
   "outputs": [
    {
     "name": "stdout",
     "output_type": "stream",
     "text": [
      "Example 4: Polynomial Interpolation (Order 2)\n",
      "     A    B\n",
      "0  1.0  NaN\n",
      "1  2.0  2.0\n",
      "2  3.0  3.0\n",
      "3  4.0  4.0\n",
      "4  5.0  5.0\n"
     ]
    }
   ],
   "source": [
    "# Example 4: Polynomial Interpolation (Order 2)\n",
    "df_poly_2 = df.interpolate(method='polynomial', order=2)\n",
    "print(\"Example 4: Polynomial Interpolation (Order 2)\")\n",
    "print(df_poly_2)"
   ]
  },
  {
   "cell_type": "code",
   "execution_count": 7,
   "metadata": {},
   "outputs": [
    {
     "name": "stdout",
     "output_type": "stream",
     "text": [
      "Example 5: Spline Interpolation (Spline of Order 2)\n",
      "     A    B\n",
      "0  1.0  NaN\n",
      "1  2.0  2.0\n",
      "2  3.0  3.0\n",
      "3  4.0  4.0\n",
      "4  5.0  5.0\n"
     ]
    }
   ],
   "source": [
    "# Example 5: Spline Interpolation (Spline of Order 2)\n",
    "df_spline = df.interpolate(method='spline', order=2)\n",
    "print(\"Example 5: Spline Interpolation (Spline of Order 2)\")\n",
    "print(df_spline)"
   ]
  },
  {
   "cell_type": "code",
   "execution_count": 8,
   "metadata": {},
   "outputs": [
    {
     "name": "stdout",
     "output_type": "stream",
     "text": [
      "Example 6: Time-based Linear Interpolation\n",
      "              A\n",
      "2023-01-01  1.0\n",
      "2023-01-02  2.0\n",
      "2023-01-03  3.0\n",
      "2023-01-04  4.0\n",
      "2023-01-05  5.0\n"
     ]
    }
   ],
   "source": [
    "# Example 6: Time-based Linear Interpolation\n",
    "date_rng = pd.date_range(start='2023-01-01', end='2023-01-05', freq='D')\n",
    "df_time_linear = pd.DataFrame({'A': [1, 2, np.nan, 4, 5]}, index=date_rng)\n",
    "df_time_linear_interpolated = df_time_linear.interpolate()\n",
    "print(\"Example 6: Time-based Linear Interpolation\")\n",
    "print(df_time_linear_interpolated)"
   ]
  },
  {
   "cell_type": "code",
   "execution_count": 9,
   "metadata": {},
   "outputs": [
    {
     "name": "stdout",
     "output_type": "stream",
     "text": [
      "Example 7: Time-based Linear Interpolation with Time Delta\n",
      "              A\n",
      "2023-01-01  1.0\n",
      "2023-01-02  2.0\n",
      "2023-01-03  3.0\n",
      "2023-01-04  4.0\n",
      "2023-01-05  5.0\n"
     ]
    }
   ],
   "source": [
    "# Example 7: Time-based Linear Interpolation with Time Delta\n",
    "date_rng = pd.date_range(start='2023-01-01', end='2023-01-05', freq='D')\n",
    "df_time_linear = pd.DataFrame({'A': [1, 2, np.nan, 4, 5]}, index=date_rng)\n",
    "df_time_linear_interpolated = df_time_linear.interpolate(method='time')\n",
    "print(\"Example 7: Time-based Linear Interpolation with Time Delta\")\n",
    "print(df_time_linear_interpolated)"
   ]
  },
  {
   "cell_type": "code",
   "execution_count": 10,
   "metadata": {},
   "outputs": [
    {
     "name": "stdout",
     "output_type": "stream",
     "text": [
      "Example 8: Nearest Neighbor Interpolation\n",
      "     A    B\n",
      "0  1.0  NaN\n",
      "1  2.0  2.0\n",
      "2  2.0  3.0\n",
      "3  4.0  3.0\n",
      "4  5.0  5.0\n"
     ]
    }
   ],
   "source": [
    "# Example 8: Nearest Neighbor Interpolation\n",
    "df_nearest = df.interpolate(method='nearest')\n",
    "print(\"Example 8: Nearest Neighbor Interpolation\")\n",
    "print(df_nearest)"
   ]
  },
  {
   "cell_type": "code",
   "execution_count": 11,
   "metadata": {},
   "outputs": [
    {
     "name": "stdout",
     "output_type": "stream",
     "text": [
      "Example 9: Interpolation with Custom Fill Value (0)\n",
      "     A    B\n",
      "0  1.0  NaN\n",
      "1  2.0  2.0\n",
      "2  3.0  3.0\n",
      "3  4.0  4.0\n",
      "4  5.0  5.0\n"
     ]
    }
   ],
   "source": [
    "# Example 9: Interpolation with Custom Fill Value (0)\n",
    "df_custom_fill = df.interpolate(fill_value=0)\n",
    "print(\"Example 9: Interpolation with Custom Fill Value (0)\")\n",
    "print(df_custom_fill)"
   ]
  },
  {
   "cell_type": "code",
   "execution_count": 12,
   "metadata": {},
   "outputs": [
    {
     "name": "stdout",
     "output_type": "stream",
     "text": [
      "Example 10: Interpolation with Time-based Custom Fill Value\n",
      "     A    B\n",
      "0  1.0  NaN\n",
      "1  2.0  2.0\n",
      "2  3.0  3.0\n",
      "3  4.0  4.0\n",
      "4  5.0  5.0\n"
     ]
    }
   ],
   "source": [
    "# Example 10: Interpolation with Time-based Custom Fill Value\n",
    "df_time_custom_fill = df.interpolate(fill_value=pd.Timestamp('2023-01-03'))\n",
    "print(\"Example 10: Interpolation with Time-based Custom Fill Value\")\n",
    "print(df_time_custom_fill)"
   ]
  },
  {
   "cell_type": "code",
   "execution_count": 14,
   "metadata": {},
   "outputs": [
    {
     "name": "stdout",
     "output_type": "stream",
     "text": [
      "Example 11: Interpolation with DataFrame Limits\n",
      "     A    B\n",
      "0  1.0  NaN\n",
      "1  2.0  2.0\n",
      "2  3.0  3.0\n",
      "3  4.0  4.0\n",
      "4  5.0  5.0\n"
     ]
    }
   ],
   "source": [
    "# Example 11: Interpolation with DataFrame Limits\n",
    "df_limit = df.interpolate(limit=1)\n",
    "print(\"Example 11: Interpolation with DataFrame Limits\")\n",
    "print(df_limit)"
   ]
  },
  {
   "cell_type": "code",
   "execution_count": 15,
   "metadata": {},
   "outputs": [
    {
     "ename": "ValueError",
     "evalue": "time-weighted interpolation only works on Series or DataFrames with a DatetimeIndex",
     "output_type": "error",
     "traceback": [
      "\u001b[1;31m---------------------------------------------------------------------------\u001b[0m",
      "\u001b[1;31mValueError\u001b[0m                                Traceback (most recent call last)",
      "Cell \u001b[1;32mIn[15], line 2\u001b[0m\n\u001b[0;32m      1\u001b[0m \u001b[39m# Example 12: Interpolation with DataFrame Limits and Time Delta\u001b[39;00m\n\u001b[1;32m----> 2\u001b[0m df_limit_time \u001b[39m=\u001b[39m df\u001b[39m.\u001b[39;49minterpolate(limit\u001b[39m=\u001b[39;49m\u001b[39m1\u001b[39;49m, method\u001b[39m=\u001b[39;49m\u001b[39m'\u001b[39;49m\u001b[39mtime\u001b[39;49m\u001b[39m'\u001b[39;49m)\n\u001b[0;32m      3\u001b[0m \u001b[39mprint\u001b[39m(\u001b[39m\"\u001b[39m\u001b[39mExample 12: Interpolation with DataFrame Limits and Time Delta\u001b[39m\u001b[39m\"\u001b[39m)\n\u001b[0;32m      4\u001b[0m \u001b[39mprint\u001b[39m(df_limit_time)\n",
      "File \u001b[1;32m~\\AppData\\Roaming\\Python\\Python311\\site-packages\\pandas\\util\\_decorators.py:311\u001b[0m, in \u001b[0;36mdeprecate_nonkeyword_arguments.<locals>.decorate.<locals>.wrapper\u001b[1;34m(*args, **kwargs)\u001b[0m\n\u001b[0;32m    305\u001b[0m \u001b[39mif\u001b[39;00m \u001b[39mlen\u001b[39m(args) \u001b[39m>\u001b[39m num_allow_args:\n\u001b[0;32m    306\u001b[0m     warnings\u001b[39m.\u001b[39mwarn(\n\u001b[0;32m    307\u001b[0m         msg\u001b[39m.\u001b[39mformat(arguments\u001b[39m=\u001b[39marguments),\n\u001b[0;32m    308\u001b[0m         \u001b[39mFutureWarning\u001b[39;00m,\n\u001b[0;32m    309\u001b[0m         stacklevel\u001b[39m=\u001b[39mstacklevel,\n\u001b[0;32m    310\u001b[0m     )\n\u001b[1;32m--> 311\u001b[0m \u001b[39mreturn\u001b[39;00m func(\u001b[39m*\u001b[39;49margs, \u001b[39m*\u001b[39;49m\u001b[39m*\u001b[39;49mkwargs)\n",
      "File \u001b[1;32m~\\AppData\\Roaming\\Python\\Python311\\site-packages\\pandas\\core\\frame.py:10712\u001b[0m, in \u001b[0;36mDataFrame.interpolate\u001b[1;34m(self, method, axis, limit, inplace, limit_direction, limit_area, downcast, **kwargs)\u001b[0m\n\u001b[0;32m  10700\u001b[0m \u001b[39m@deprecate_nonkeyword_arguments\u001b[39m(version\u001b[39m=\u001b[39m\u001b[39mNone\u001b[39;00m, allowed_args\u001b[39m=\u001b[39m[\u001b[39m\"\u001b[39m\u001b[39mself\u001b[39m\u001b[39m\"\u001b[39m, \u001b[39m\"\u001b[39m\u001b[39mmethod\u001b[39m\u001b[39m\"\u001b[39m])\n\u001b[0;32m  10701\u001b[0m \u001b[39mdef\u001b[39;00m \u001b[39minterpolate\u001b[39m(\n\u001b[0;32m  10702\u001b[0m     \u001b[39mself\u001b[39m: DataFrame,\n\u001b[1;32m   (...)\u001b[0m\n\u001b[0;32m  10710\u001b[0m     \u001b[39m*\u001b[39m\u001b[39m*\u001b[39mkwargs,\n\u001b[0;32m  10711\u001b[0m ) \u001b[39m-\u001b[39m\u001b[39m>\u001b[39m DataFrame \u001b[39m|\u001b[39m \u001b[39mNone\u001b[39;00m:\n\u001b[1;32m> 10712\u001b[0m     \u001b[39mreturn\u001b[39;00m \u001b[39msuper\u001b[39;49m()\u001b[39m.\u001b[39;49minterpolate(\n\u001b[0;32m  10713\u001b[0m         method,\n\u001b[0;32m  10714\u001b[0m         axis,\n\u001b[0;32m  10715\u001b[0m         limit,\n\u001b[0;32m  10716\u001b[0m         inplace,\n\u001b[0;32m  10717\u001b[0m         limit_direction,\n\u001b[0;32m  10718\u001b[0m         limit_area,\n\u001b[0;32m  10719\u001b[0m         downcast,\n\u001b[0;32m  10720\u001b[0m         \u001b[39m*\u001b[39;49m\u001b[39m*\u001b[39;49mkwargs,\n\u001b[0;32m  10721\u001b[0m     )\n",
      "File \u001b[1;32m~\\AppData\\Roaming\\Python\\Python311\\site-packages\\pandas\\core\\generic.py:6899\u001b[0m, in \u001b[0;36mNDFrame.interpolate\u001b[1;34m(self, method, axis, limit, inplace, limit_direction, limit_area, downcast, **kwargs)\u001b[0m\n\u001b[0;32m   6893\u001b[0m \u001b[39mif\u001b[39;00m isna(index)\u001b[39m.\u001b[39many():\n\u001b[0;32m   6894\u001b[0m     \u001b[39mraise\u001b[39;00m \u001b[39mNotImplementedError\u001b[39;00m(\n\u001b[0;32m   6895\u001b[0m         \u001b[39m\"\u001b[39m\u001b[39mInterpolation with NaNs in the index \u001b[39m\u001b[39m\"\u001b[39m\n\u001b[0;32m   6896\u001b[0m         \u001b[39m\"\u001b[39m\u001b[39mhas not been implemented. Try filling \u001b[39m\u001b[39m\"\u001b[39m\n\u001b[0;32m   6897\u001b[0m         \u001b[39m\"\u001b[39m\u001b[39mthose NaNs before interpolating.\u001b[39m\u001b[39m\"\u001b[39m\n\u001b[0;32m   6898\u001b[0m     )\n\u001b[1;32m-> 6899\u001b[0m new_data \u001b[39m=\u001b[39m obj\u001b[39m.\u001b[39;49m_mgr\u001b[39m.\u001b[39;49minterpolate(\n\u001b[0;32m   6900\u001b[0m     method\u001b[39m=\u001b[39;49mmethod,\n\u001b[0;32m   6901\u001b[0m     axis\u001b[39m=\u001b[39;49maxis,\n\u001b[0;32m   6902\u001b[0m     index\u001b[39m=\u001b[39;49mindex,\n\u001b[0;32m   6903\u001b[0m     limit\u001b[39m=\u001b[39;49mlimit,\n\u001b[0;32m   6904\u001b[0m     limit_direction\u001b[39m=\u001b[39;49mlimit_direction,\n\u001b[0;32m   6905\u001b[0m     limit_area\u001b[39m=\u001b[39;49mlimit_area,\n\u001b[0;32m   6906\u001b[0m     inplace\u001b[39m=\u001b[39;49minplace,\n\u001b[0;32m   6907\u001b[0m     downcast\u001b[39m=\u001b[39;49mdowncast,\n\u001b[0;32m   6908\u001b[0m     \u001b[39m*\u001b[39;49m\u001b[39m*\u001b[39;49mkwargs,\n\u001b[0;32m   6909\u001b[0m )\n\u001b[0;32m   6911\u001b[0m result \u001b[39m=\u001b[39m \u001b[39mself\u001b[39m\u001b[39m.\u001b[39m_constructor(new_data)\n\u001b[0;32m   6912\u001b[0m \u001b[39mif\u001b[39;00m should_transpose:\n",
      "File \u001b[1;32m~\\AppData\\Roaming\\Python\\Python311\\site-packages\\pandas\\core\\internals\\managers.py:377\u001b[0m, in \u001b[0;36mBaseBlockManager.interpolate\u001b[1;34m(self, **kwargs)\u001b[0m\n\u001b[0;32m    376\u001b[0m \u001b[39mdef\u001b[39;00m \u001b[39minterpolate\u001b[39m(\u001b[39mself\u001b[39m: T, \u001b[39m*\u001b[39m\u001b[39m*\u001b[39mkwargs) \u001b[39m-\u001b[39m\u001b[39m>\u001b[39m T:\n\u001b[1;32m--> 377\u001b[0m     \u001b[39mreturn\u001b[39;00m \u001b[39mself\u001b[39;49m\u001b[39m.\u001b[39;49mapply(\u001b[39m\"\u001b[39;49m\u001b[39minterpolate\u001b[39;49m\u001b[39m\"\u001b[39;49m, \u001b[39m*\u001b[39;49m\u001b[39m*\u001b[39;49mkwargs)\n",
      "File \u001b[1;32m~\\AppData\\Roaming\\Python\\Python311\\site-packages\\pandas\\core\\internals\\managers.py:327\u001b[0m, in \u001b[0;36mBaseBlockManager.apply\u001b[1;34m(self, f, align_keys, ignore_failures, **kwargs)\u001b[0m\n\u001b[0;32m    325\u001b[0m         applied \u001b[39m=\u001b[39m b\u001b[39m.\u001b[39mapply(f, \u001b[39m*\u001b[39m\u001b[39m*\u001b[39mkwargs)\n\u001b[0;32m    326\u001b[0m     \u001b[39melse\u001b[39;00m:\n\u001b[1;32m--> 327\u001b[0m         applied \u001b[39m=\u001b[39m \u001b[39mgetattr\u001b[39;49m(b, f)(\u001b[39m*\u001b[39;49m\u001b[39m*\u001b[39;49mkwargs)\n\u001b[0;32m    328\u001b[0m \u001b[39mexcept\u001b[39;00m (\u001b[39mTypeError\u001b[39;00m, \u001b[39mNotImplementedError\u001b[39;00m):\n\u001b[0;32m    329\u001b[0m     \u001b[39mif\u001b[39;00m \u001b[39mnot\u001b[39;00m ignore_failures:\n",
      "File \u001b[1;32m~\\AppData\\Roaming\\Python\\Python311\\site-packages\\pandas\\core\\internals\\blocks.py:1105\u001b[0m, in \u001b[0;36mBlock.interpolate\u001b[1;34m(self, method, axis, index, inplace, limit, limit_direction, limit_area, fill_value, coerce, downcast, **kwargs)\u001b[0m\n\u001b[0;32m   1102\u001b[0m data \u001b[39m=\u001b[39m \u001b[39mself\u001b[39m\u001b[39m.\u001b[39mvalues \u001b[39mif\u001b[39;00m inplace \u001b[39melse\u001b[39;00m \u001b[39mself\u001b[39m\u001b[39m.\u001b[39mvalues\u001b[39m.\u001b[39mcopy()\n\u001b[0;32m   1103\u001b[0m data \u001b[39m=\u001b[39m cast(np\u001b[39m.\u001b[39mndarray, data)  \u001b[39m# bc overridden by ExtensionBlock\u001b[39;00m\n\u001b[1;32m-> 1105\u001b[0m interp_values \u001b[39m=\u001b[39m missing\u001b[39m.\u001b[39;49minterpolate_array_2d(\n\u001b[0;32m   1106\u001b[0m     data,\n\u001b[0;32m   1107\u001b[0m     method\u001b[39m=\u001b[39;49mmethod,\n\u001b[0;32m   1108\u001b[0m     axis\u001b[39m=\u001b[39;49maxis,\n\u001b[0;32m   1109\u001b[0m     index\u001b[39m=\u001b[39;49mindex,\n\u001b[0;32m   1110\u001b[0m     limit\u001b[39m=\u001b[39;49mlimit,\n\u001b[0;32m   1111\u001b[0m     limit_direction\u001b[39m=\u001b[39;49mlimit_direction,\n\u001b[0;32m   1112\u001b[0m     limit_area\u001b[39m=\u001b[39;49mlimit_area,\n\u001b[0;32m   1113\u001b[0m     fill_value\u001b[39m=\u001b[39;49mfill_value,\n\u001b[0;32m   1114\u001b[0m     \u001b[39m*\u001b[39;49m\u001b[39m*\u001b[39;49mkwargs,\n\u001b[0;32m   1115\u001b[0m )\n\u001b[0;32m   1117\u001b[0m interp_values \u001b[39m=\u001b[39m maybe_coerce_values(interp_values)\n\u001b[0;32m   1118\u001b[0m nbs \u001b[39m=\u001b[39m [\u001b[39mself\u001b[39m\u001b[39m.\u001b[39mmake_block_same_class(interp_values)]\n",
      "File \u001b[1;32m~\\AppData\\Roaming\\Python\\Python311\\site-packages\\pandas\\core\\missing.py:240\u001b[0m, in \u001b[0;36minterpolate_array_2d\u001b[1;34m(data, method, axis, index, limit, limit_direction, limit_area, fill_value, coerce, downcast, **kwargs)\u001b[0m\n\u001b[0;32m    237\u001b[0m \u001b[39melse\u001b[39;00m:\n\u001b[0;32m    238\u001b[0m     \u001b[39massert\u001b[39;00m index \u001b[39mis\u001b[39;00m \u001b[39mnot\u001b[39;00m \u001b[39mNone\u001b[39;00m  \u001b[39m# for mypy\u001b[39;00m\n\u001b[1;32m--> 240\u001b[0m     interp_values \u001b[39m=\u001b[39m interpolate_2d_with_fill(\n\u001b[0;32m    241\u001b[0m         data\u001b[39m=\u001b[39;49mdata,\n\u001b[0;32m    242\u001b[0m         index\u001b[39m=\u001b[39;49mindex,\n\u001b[0;32m    243\u001b[0m         axis\u001b[39m=\u001b[39;49maxis,\n\u001b[0;32m    244\u001b[0m         method\u001b[39m=\u001b[39;49mmethod,\n\u001b[0;32m    245\u001b[0m         limit\u001b[39m=\u001b[39;49mlimit,\n\u001b[0;32m    246\u001b[0m         limit_direction\u001b[39m=\u001b[39;49mlimit_direction,\n\u001b[0;32m    247\u001b[0m         limit_area\u001b[39m=\u001b[39;49mlimit_area,\n\u001b[0;32m    248\u001b[0m         fill_value\u001b[39m=\u001b[39;49mfill_value,\n\u001b[0;32m    249\u001b[0m         \u001b[39m*\u001b[39;49m\u001b[39m*\u001b[39;49mkwargs,\n\u001b[0;32m    250\u001b[0m     )\n\u001b[0;32m    251\u001b[0m \u001b[39mreturn\u001b[39;00m interp_values\n",
      "File \u001b[1;32m~\\AppData\\Roaming\\Python\\Python311\\site-packages\\pandas\\core\\missing.py:297\u001b[0m, in \u001b[0;36minterpolate_2d_with_fill\u001b[1;34m(data, index, axis, method, limit, limit_direction, limit_area, fill_value, **kwargs)\u001b[0m\n\u001b[0;32m    284\u001b[0m     \u001b[39mreturn\u001b[39;00m interpolate_1d(\n\u001b[0;32m    285\u001b[0m         xvalues\u001b[39m=\u001b[39mindex,\n\u001b[0;32m    286\u001b[0m         yvalues\u001b[39m=\u001b[39myvalues,\n\u001b[1;32m   (...)\u001b[0m\n\u001b[0;32m    293\u001b[0m         \u001b[39m*\u001b[39m\u001b[39m*\u001b[39mkwargs,\n\u001b[0;32m    294\u001b[0m     )\n\u001b[0;32m    296\u001b[0m \u001b[39m# interp each column independently\u001b[39;00m\n\u001b[1;32m--> 297\u001b[0m \u001b[39mreturn\u001b[39;00m np\u001b[39m.\u001b[39;49mapply_along_axis(func, axis, data)\n",
      "File \u001b[1;32m~\\AppData\\Roaming\\Python\\Python311\\site-packages\\numpy\\lib\\shape_base.py:379\u001b[0m, in \u001b[0;36mapply_along_axis\u001b[1;34m(func1d, axis, arr, *args, **kwargs)\u001b[0m\n\u001b[0;32m    375\u001b[0m \u001b[39mexcept\u001b[39;00m \u001b[39mStopIteration\u001b[39;00m:\n\u001b[0;32m    376\u001b[0m     \u001b[39mraise\u001b[39;00m \u001b[39mValueError\u001b[39;00m(\n\u001b[0;32m    377\u001b[0m         \u001b[39m'\u001b[39m\u001b[39mCannot apply_along_axis when any iteration dimensions are 0\u001b[39m\u001b[39m'\u001b[39m\n\u001b[0;32m    378\u001b[0m     ) \u001b[39mfrom\u001b[39;00m \u001b[39mNone\u001b[39m\n\u001b[1;32m--> 379\u001b[0m res \u001b[39m=\u001b[39m asanyarray(func1d(inarr_view[ind0], \u001b[39m*\u001b[39;49margs, \u001b[39m*\u001b[39;49m\u001b[39m*\u001b[39;49mkwargs))\n\u001b[0;32m    381\u001b[0m \u001b[39m# build a buffer for storing evaluations of func1d.\u001b[39;00m\n\u001b[0;32m    382\u001b[0m \u001b[39m# remove the requested axis, and add the new ones on the end.\u001b[39;00m\n\u001b[0;32m    383\u001b[0m \u001b[39m# laid out so that each write is contiguous.\u001b[39;00m\n\u001b[0;32m    384\u001b[0m \u001b[39m# for a tuple index inds, buff[inds] = func1d(inarr_view[inds])\u001b[39;00m\n\u001b[0;32m    385\u001b[0m buff \u001b[39m=\u001b[39m zeros(inarr_view\u001b[39m.\u001b[39mshape[:\u001b[39m-\u001b[39m\u001b[39m1\u001b[39m] \u001b[39m+\u001b[39m res\u001b[39m.\u001b[39mshape, res\u001b[39m.\u001b[39mdtype)\n",
      "File \u001b[1;32m~\\AppData\\Roaming\\Python\\Python311\\site-packages\\pandas\\core\\missing.py:284\u001b[0m, in \u001b[0;36minterpolate_2d_with_fill.<locals>.func\u001b[1;34m(yvalues)\u001b[0m\n\u001b[0;32m    279\u001b[0m \u001b[39mdef\u001b[39;00m \u001b[39mfunc\u001b[39m(yvalues: np\u001b[39m.\u001b[39mndarray) \u001b[39m-\u001b[39m\u001b[39m>\u001b[39m np\u001b[39m.\u001b[39mndarray:\n\u001b[0;32m    280\u001b[0m     \u001b[39m# process 1-d slices in the axis direction, returning it\u001b[39;00m\n\u001b[0;32m    281\u001b[0m \n\u001b[0;32m    282\u001b[0m     \u001b[39m# should the axis argument be handled below in apply_along_axis?\u001b[39;00m\n\u001b[0;32m    283\u001b[0m     \u001b[39m# i.e. not an arg to interpolate_1d\u001b[39;00m\n\u001b[1;32m--> 284\u001b[0m     \u001b[39mreturn\u001b[39;00m interpolate_1d(\n\u001b[0;32m    285\u001b[0m         xvalues\u001b[39m=\u001b[39;49mindex,\n\u001b[0;32m    286\u001b[0m         yvalues\u001b[39m=\u001b[39;49myvalues,\n\u001b[0;32m    287\u001b[0m         method\u001b[39m=\u001b[39;49mmethod,\n\u001b[0;32m    288\u001b[0m         limit\u001b[39m=\u001b[39;49mlimit,\n\u001b[0;32m    289\u001b[0m         limit_direction\u001b[39m=\u001b[39;49mlimit_direction,\n\u001b[0;32m    290\u001b[0m         limit_area\u001b[39m=\u001b[39;49mlimit_area,\n\u001b[0;32m    291\u001b[0m         fill_value\u001b[39m=\u001b[39;49mfill_value,\n\u001b[0;32m    292\u001b[0m         bounds_error\u001b[39m=\u001b[39;49m\u001b[39mFalse\u001b[39;49;00m,\n\u001b[0;32m    293\u001b[0m         \u001b[39m*\u001b[39;49m\u001b[39m*\u001b[39;49mkwargs,\n\u001b[0;32m    294\u001b[0m     )\n",
      "File \u001b[1;32m~\\AppData\\Roaming\\Python\\Python311\\site-packages\\pandas\\core\\missing.py:332\u001b[0m, in \u001b[0;36minterpolate_1d\u001b[1;34m(xvalues, yvalues, method, limit, limit_direction, limit_area, fill_value, bounds_error, order, **kwargs)\u001b[0m\n\u001b[0;32m    330\u001b[0m \u001b[39mif\u001b[39;00m method \u001b[39m==\u001b[39m \u001b[39m\"\u001b[39m\u001b[39mtime\u001b[39m\u001b[39m\"\u001b[39m:\n\u001b[0;32m    331\u001b[0m     \u001b[39mif\u001b[39;00m \u001b[39mnot\u001b[39;00m needs_i8_conversion(xvalues\u001b[39m.\u001b[39mdtype):\n\u001b[1;32m--> 332\u001b[0m         \u001b[39mraise\u001b[39;00m \u001b[39mValueError\u001b[39;00m(\n\u001b[0;32m    333\u001b[0m             \u001b[39m\"\u001b[39m\u001b[39mtime-weighted interpolation only works \u001b[39m\u001b[39m\"\u001b[39m\n\u001b[0;32m    334\u001b[0m             \u001b[39m\"\u001b[39m\u001b[39mon Series or DataFrames with a \u001b[39m\u001b[39m\"\u001b[39m\n\u001b[0;32m    335\u001b[0m             \u001b[39m\"\u001b[39m\u001b[39mDatetimeIndex\u001b[39m\u001b[39m\"\u001b[39m\n\u001b[0;32m    336\u001b[0m         )\n\u001b[0;32m    337\u001b[0m     method \u001b[39m=\u001b[39m \u001b[39m\"\u001b[39m\u001b[39mvalues\u001b[39m\u001b[39m\"\u001b[39m\n\u001b[0;32m    339\u001b[0m valid_limit_directions \u001b[39m=\u001b[39m [\u001b[39m\"\u001b[39m\u001b[39mforward\u001b[39m\u001b[39m\"\u001b[39m, \u001b[39m\"\u001b[39m\u001b[39mbackward\u001b[39m\u001b[39m\"\u001b[39m, \u001b[39m\"\u001b[39m\u001b[39mboth\u001b[39m\u001b[39m\"\u001b[39m]\n",
      "\u001b[1;31mValueError\u001b[0m: time-weighted interpolation only works on Series or DataFrames with a DatetimeIndex"
     ]
    }
   ],
   "source": [
    "# Example 12: Interpolation with DataFrame Limits and Time Delta\n",
    "df_limit_time = df.interpolate(limit=1, method='time')\n",
    "print(\"Example 12: Interpolation with DataFrame Limits and Time Delta\")\n",
    "print(df_limit_time)"
   ]
  },
  {
   "cell_type": "code",
   "execution_count": 16,
   "metadata": {},
   "outputs": [
    {
     "ename": "ValueError",
     "evalue": "Limit must be an integer",
     "output_type": "error",
     "traceback": [
      "\u001b[1;31m---------------------------------------------------------------------------\u001b[0m",
      "\u001b[1;31mValueError\u001b[0m                                Traceback (most recent call last)",
      "Cell \u001b[1;32mIn[16], line 4\u001b[0m\n\u001b[0;32m      2\u001b[0m date_rng \u001b[39m=\u001b[39m pd\u001b[39m.\u001b[39mdate_range(start\u001b[39m=\u001b[39m\u001b[39m'\u001b[39m\u001b[39m2023-01-01\u001b[39m\u001b[39m'\u001b[39m, end\u001b[39m=\u001b[39m\u001b[39m'\u001b[39m\u001b[39m2023-01-05\u001b[39m\u001b[39m'\u001b[39m, freq\u001b[39m=\u001b[39m\u001b[39m'\u001b[39m\u001b[39mD\u001b[39m\u001b[39m'\u001b[39m)\n\u001b[0;32m      3\u001b[0m df_time_limit \u001b[39m=\u001b[39m pd\u001b[39m.\u001b[39mDataFrame({\u001b[39m'\u001b[39m\u001b[39mA\u001b[39m\u001b[39m'\u001b[39m: [\u001b[39m1\u001b[39m, \u001b[39m2\u001b[39m, np\u001b[39m.\u001b[39mnan, \u001b[39m4\u001b[39m, \u001b[39m5\u001b[39m]}, index\u001b[39m=\u001b[39mdate_rng)\n\u001b[1;32m----> 4\u001b[0m df_time_limit_interpolated \u001b[39m=\u001b[39m df_time_limit\u001b[39m.\u001b[39;49minterpolate(limit\u001b[39m=\u001b[39;49mpd\u001b[39m.\u001b[39;49mTimestamp(\u001b[39m'\u001b[39;49m\u001b[39m2023-01-03\u001b[39;49m\u001b[39m'\u001b[39;49m))\n\u001b[0;32m      5\u001b[0m \u001b[39mprint\u001b[39m(\u001b[39m\"\u001b[39m\u001b[39mExample 13: Interpolation with Time-based Limits\u001b[39m\u001b[39m\"\u001b[39m)\n\u001b[0;32m      6\u001b[0m \u001b[39mprint\u001b[39m(df_time_limit_interpolated)\n",
      "File \u001b[1;32m~\\AppData\\Roaming\\Python\\Python311\\site-packages\\pandas\\util\\_decorators.py:311\u001b[0m, in \u001b[0;36mdeprecate_nonkeyword_arguments.<locals>.decorate.<locals>.wrapper\u001b[1;34m(*args, **kwargs)\u001b[0m\n\u001b[0;32m    305\u001b[0m \u001b[39mif\u001b[39;00m \u001b[39mlen\u001b[39m(args) \u001b[39m>\u001b[39m num_allow_args:\n\u001b[0;32m    306\u001b[0m     warnings\u001b[39m.\u001b[39mwarn(\n\u001b[0;32m    307\u001b[0m         msg\u001b[39m.\u001b[39mformat(arguments\u001b[39m=\u001b[39marguments),\n\u001b[0;32m    308\u001b[0m         \u001b[39mFutureWarning\u001b[39;00m,\n\u001b[0;32m    309\u001b[0m         stacklevel\u001b[39m=\u001b[39mstacklevel,\n\u001b[0;32m    310\u001b[0m     )\n\u001b[1;32m--> 311\u001b[0m \u001b[39mreturn\u001b[39;00m func(\u001b[39m*\u001b[39;49margs, \u001b[39m*\u001b[39;49m\u001b[39m*\u001b[39;49mkwargs)\n",
      "File \u001b[1;32m~\\AppData\\Roaming\\Python\\Python311\\site-packages\\pandas\\core\\frame.py:10712\u001b[0m, in \u001b[0;36mDataFrame.interpolate\u001b[1;34m(self, method, axis, limit, inplace, limit_direction, limit_area, downcast, **kwargs)\u001b[0m\n\u001b[0;32m  10700\u001b[0m \u001b[39m@deprecate_nonkeyword_arguments\u001b[39m(version\u001b[39m=\u001b[39m\u001b[39mNone\u001b[39;00m, allowed_args\u001b[39m=\u001b[39m[\u001b[39m\"\u001b[39m\u001b[39mself\u001b[39m\u001b[39m\"\u001b[39m, \u001b[39m\"\u001b[39m\u001b[39mmethod\u001b[39m\u001b[39m\"\u001b[39m])\n\u001b[0;32m  10701\u001b[0m \u001b[39mdef\u001b[39;00m \u001b[39minterpolate\u001b[39m(\n\u001b[0;32m  10702\u001b[0m     \u001b[39mself\u001b[39m: DataFrame,\n\u001b[1;32m   (...)\u001b[0m\n\u001b[0;32m  10710\u001b[0m     \u001b[39m*\u001b[39m\u001b[39m*\u001b[39mkwargs,\n\u001b[0;32m  10711\u001b[0m ) \u001b[39m-\u001b[39m\u001b[39m>\u001b[39m DataFrame \u001b[39m|\u001b[39m \u001b[39mNone\u001b[39;00m:\n\u001b[1;32m> 10712\u001b[0m     \u001b[39mreturn\u001b[39;00m \u001b[39msuper\u001b[39;49m()\u001b[39m.\u001b[39;49minterpolate(\n\u001b[0;32m  10713\u001b[0m         method,\n\u001b[0;32m  10714\u001b[0m         axis,\n\u001b[0;32m  10715\u001b[0m         limit,\n\u001b[0;32m  10716\u001b[0m         inplace,\n\u001b[0;32m  10717\u001b[0m         limit_direction,\n\u001b[0;32m  10718\u001b[0m         limit_area,\n\u001b[0;32m  10719\u001b[0m         downcast,\n\u001b[0;32m  10720\u001b[0m         \u001b[39m*\u001b[39;49m\u001b[39m*\u001b[39;49mkwargs,\n\u001b[0;32m  10721\u001b[0m     )\n",
      "File \u001b[1;32m~\\AppData\\Roaming\\Python\\Python311\\site-packages\\pandas\\core\\generic.py:6899\u001b[0m, in \u001b[0;36mNDFrame.interpolate\u001b[1;34m(self, method, axis, limit, inplace, limit_direction, limit_area, downcast, **kwargs)\u001b[0m\n\u001b[0;32m   6893\u001b[0m \u001b[39mif\u001b[39;00m isna(index)\u001b[39m.\u001b[39many():\n\u001b[0;32m   6894\u001b[0m     \u001b[39mraise\u001b[39;00m \u001b[39mNotImplementedError\u001b[39;00m(\n\u001b[0;32m   6895\u001b[0m         \u001b[39m\"\u001b[39m\u001b[39mInterpolation with NaNs in the index \u001b[39m\u001b[39m\"\u001b[39m\n\u001b[0;32m   6896\u001b[0m         \u001b[39m\"\u001b[39m\u001b[39mhas not been implemented. Try filling \u001b[39m\u001b[39m\"\u001b[39m\n\u001b[0;32m   6897\u001b[0m         \u001b[39m\"\u001b[39m\u001b[39mthose NaNs before interpolating.\u001b[39m\u001b[39m\"\u001b[39m\n\u001b[0;32m   6898\u001b[0m     )\n\u001b[1;32m-> 6899\u001b[0m new_data \u001b[39m=\u001b[39m obj\u001b[39m.\u001b[39;49m_mgr\u001b[39m.\u001b[39;49minterpolate(\n\u001b[0;32m   6900\u001b[0m     method\u001b[39m=\u001b[39;49mmethod,\n\u001b[0;32m   6901\u001b[0m     axis\u001b[39m=\u001b[39;49maxis,\n\u001b[0;32m   6902\u001b[0m     index\u001b[39m=\u001b[39;49mindex,\n\u001b[0;32m   6903\u001b[0m     limit\u001b[39m=\u001b[39;49mlimit,\n\u001b[0;32m   6904\u001b[0m     limit_direction\u001b[39m=\u001b[39;49mlimit_direction,\n\u001b[0;32m   6905\u001b[0m     limit_area\u001b[39m=\u001b[39;49mlimit_area,\n\u001b[0;32m   6906\u001b[0m     inplace\u001b[39m=\u001b[39;49minplace,\n\u001b[0;32m   6907\u001b[0m     downcast\u001b[39m=\u001b[39;49mdowncast,\n\u001b[0;32m   6908\u001b[0m     \u001b[39m*\u001b[39;49m\u001b[39m*\u001b[39;49mkwargs,\n\u001b[0;32m   6909\u001b[0m )\n\u001b[0;32m   6911\u001b[0m result \u001b[39m=\u001b[39m \u001b[39mself\u001b[39m\u001b[39m.\u001b[39m_constructor(new_data)\n\u001b[0;32m   6912\u001b[0m \u001b[39mif\u001b[39;00m should_transpose:\n",
      "File \u001b[1;32m~\\AppData\\Roaming\\Python\\Python311\\site-packages\\pandas\\core\\internals\\managers.py:377\u001b[0m, in \u001b[0;36mBaseBlockManager.interpolate\u001b[1;34m(self, **kwargs)\u001b[0m\n\u001b[0;32m    376\u001b[0m \u001b[39mdef\u001b[39;00m \u001b[39minterpolate\u001b[39m(\u001b[39mself\u001b[39m: T, \u001b[39m*\u001b[39m\u001b[39m*\u001b[39mkwargs) \u001b[39m-\u001b[39m\u001b[39m>\u001b[39m T:\n\u001b[1;32m--> 377\u001b[0m     \u001b[39mreturn\u001b[39;00m \u001b[39mself\u001b[39;49m\u001b[39m.\u001b[39;49mapply(\u001b[39m\"\u001b[39;49m\u001b[39minterpolate\u001b[39;49m\u001b[39m\"\u001b[39;49m, \u001b[39m*\u001b[39;49m\u001b[39m*\u001b[39;49mkwargs)\n",
      "File \u001b[1;32m~\\AppData\\Roaming\\Python\\Python311\\site-packages\\pandas\\core\\internals\\managers.py:327\u001b[0m, in \u001b[0;36mBaseBlockManager.apply\u001b[1;34m(self, f, align_keys, ignore_failures, **kwargs)\u001b[0m\n\u001b[0;32m    325\u001b[0m         applied \u001b[39m=\u001b[39m b\u001b[39m.\u001b[39mapply(f, \u001b[39m*\u001b[39m\u001b[39m*\u001b[39mkwargs)\n\u001b[0;32m    326\u001b[0m     \u001b[39melse\u001b[39;00m:\n\u001b[1;32m--> 327\u001b[0m         applied \u001b[39m=\u001b[39m \u001b[39mgetattr\u001b[39;49m(b, f)(\u001b[39m*\u001b[39;49m\u001b[39m*\u001b[39;49mkwargs)\n\u001b[0;32m    328\u001b[0m \u001b[39mexcept\u001b[39;00m (\u001b[39mTypeError\u001b[39;00m, \u001b[39mNotImplementedError\u001b[39;00m):\n\u001b[0;32m    329\u001b[0m     \u001b[39mif\u001b[39;00m \u001b[39mnot\u001b[39;00m ignore_failures:\n",
      "File \u001b[1;32m~\\AppData\\Roaming\\Python\\Python311\\site-packages\\pandas\\core\\internals\\blocks.py:1105\u001b[0m, in \u001b[0;36mBlock.interpolate\u001b[1;34m(self, method, axis, index, inplace, limit, limit_direction, limit_area, fill_value, coerce, downcast, **kwargs)\u001b[0m\n\u001b[0;32m   1102\u001b[0m data \u001b[39m=\u001b[39m \u001b[39mself\u001b[39m\u001b[39m.\u001b[39mvalues \u001b[39mif\u001b[39;00m inplace \u001b[39melse\u001b[39;00m \u001b[39mself\u001b[39m\u001b[39m.\u001b[39mvalues\u001b[39m.\u001b[39mcopy()\n\u001b[0;32m   1103\u001b[0m data \u001b[39m=\u001b[39m cast(np\u001b[39m.\u001b[39mndarray, data)  \u001b[39m# bc overridden by ExtensionBlock\u001b[39;00m\n\u001b[1;32m-> 1105\u001b[0m interp_values \u001b[39m=\u001b[39m missing\u001b[39m.\u001b[39;49minterpolate_array_2d(\n\u001b[0;32m   1106\u001b[0m     data,\n\u001b[0;32m   1107\u001b[0m     method\u001b[39m=\u001b[39;49mmethod,\n\u001b[0;32m   1108\u001b[0m     axis\u001b[39m=\u001b[39;49maxis,\n\u001b[0;32m   1109\u001b[0m     index\u001b[39m=\u001b[39;49mindex,\n\u001b[0;32m   1110\u001b[0m     limit\u001b[39m=\u001b[39;49mlimit,\n\u001b[0;32m   1111\u001b[0m     limit_direction\u001b[39m=\u001b[39;49mlimit_direction,\n\u001b[0;32m   1112\u001b[0m     limit_area\u001b[39m=\u001b[39;49mlimit_area,\n\u001b[0;32m   1113\u001b[0m     fill_value\u001b[39m=\u001b[39;49mfill_value,\n\u001b[0;32m   1114\u001b[0m     \u001b[39m*\u001b[39;49m\u001b[39m*\u001b[39;49mkwargs,\n\u001b[0;32m   1115\u001b[0m )\n\u001b[0;32m   1117\u001b[0m interp_values \u001b[39m=\u001b[39m maybe_coerce_values(interp_values)\n\u001b[0;32m   1118\u001b[0m nbs \u001b[39m=\u001b[39m [\u001b[39mself\u001b[39m\u001b[39m.\u001b[39mmake_block_same_class(interp_values)]\n",
      "File \u001b[1;32m~\\AppData\\Roaming\\Python\\Python311\\site-packages\\pandas\\core\\missing.py:240\u001b[0m, in \u001b[0;36minterpolate_array_2d\u001b[1;34m(data, method, axis, index, limit, limit_direction, limit_area, fill_value, coerce, downcast, **kwargs)\u001b[0m\n\u001b[0;32m    237\u001b[0m \u001b[39melse\u001b[39;00m:\n\u001b[0;32m    238\u001b[0m     \u001b[39massert\u001b[39;00m index \u001b[39mis\u001b[39;00m \u001b[39mnot\u001b[39;00m \u001b[39mNone\u001b[39;00m  \u001b[39m# for mypy\u001b[39;00m\n\u001b[1;32m--> 240\u001b[0m     interp_values \u001b[39m=\u001b[39m interpolate_2d_with_fill(\n\u001b[0;32m    241\u001b[0m         data\u001b[39m=\u001b[39;49mdata,\n\u001b[0;32m    242\u001b[0m         index\u001b[39m=\u001b[39;49mindex,\n\u001b[0;32m    243\u001b[0m         axis\u001b[39m=\u001b[39;49maxis,\n\u001b[0;32m    244\u001b[0m         method\u001b[39m=\u001b[39;49mmethod,\n\u001b[0;32m    245\u001b[0m         limit\u001b[39m=\u001b[39;49mlimit,\n\u001b[0;32m    246\u001b[0m         limit_direction\u001b[39m=\u001b[39;49mlimit_direction,\n\u001b[0;32m    247\u001b[0m         limit_area\u001b[39m=\u001b[39;49mlimit_area,\n\u001b[0;32m    248\u001b[0m         fill_value\u001b[39m=\u001b[39;49mfill_value,\n\u001b[0;32m    249\u001b[0m         \u001b[39m*\u001b[39;49m\u001b[39m*\u001b[39;49mkwargs,\n\u001b[0;32m    250\u001b[0m     )\n\u001b[0;32m    251\u001b[0m \u001b[39mreturn\u001b[39;00m interp_values\n",
      "File \u001b[1;32m~\\AppData\\Roaming\\Python\\Python311\\site-packages\\pandas\\core\\missing.py:297\u001b[0m, in \u001b[0;36minterpolate_2d_with_fill\u001b[1;34m(data, index, axis, method, limit, limit_direction, limit_area, fill_value, **kwargs)\u001b[0m\n\u001b[0;32m    284\u001b[0m     \u001b[39mreturn\u001b[39;00m interpolate_1d(\n\u001b[0;32m    285\u001b[0m         xvalues\u001b[39m=\u001b[39mindex,\n\u001b[0;32m    286\u001b[0m         yvalues\u001b[39m=\u001b[39myvalues,\n\u001b[1;32m   (...)\u001b[0m\n\u001b[0;32m    293\u001b[0m         \u001b[39m*\u001b[39m\u001b[39m*\u001b[39mkwargs,\n\u001b[0;32m    294\u001b[0m     )\n\u001b[0;32m    296\u001b[0m \u001b[39m# interp each column independently\u001b[39;00m\n\u001b[1;32m--> 297\u001b[0m \u001b[39mreturn\u001b[39;00m np\u001b[39m.\u001b[39;49mapply_along_axis(func, axis, data)\n",
      "File \u001b[1;32m~\\AppData\\Roaming\\Python\\Python311\\site-packages\\numpy\\lib\\shape_base.py:379\u001b[0m, in \u001b[0;36mapply_along_axis\u001b[1;34m(func1d, axis, arr, *args, **kwargs)\u001b[0m\n\u001b[0;32m    375\u001b[0m \u001b[39mexcept\u001b[39;00m \u001b[39mStopIteration\u001b[39;00m:\n\u001b[0;32m    376\u001b[0m     \u001b[39mraise\u001b[39;00m \u001b[39mValueError\u001b[39;00m(\n\u001b[0;32m    377\u001b[0m         \u001b[39m'\u001b[39m\u001b[39mCannot apply_along_axis when any iteration dimensions are 0\u001b[39m\u001b[39m'\u001b[39m\n\u001b[0;32m    378\u001b[0m     ) \u001b[39mfrom\u001b[39;00m \u001b[39mNone\u001b[39m\n\u001b[1;32m--> 379\u001b[0m res \u001b[39m=\u001b[39m asanyarray(func1d(inarr_view[ind0], \u001b[39m*\u001b[39;49margs, \u001b[39m*\u001b[39;49m\u001b[39m*\u001b[39;49mkwargs))\n\u001b[0;32m    381\u001b[0m \u001b[39m# build a buffer for storing evaluations of func1d.\u001b[39;00m\n\u001b[0;32m    382\u001b[0m \u001b[39m# remove the requested axis, and add the new ones on the end.\u001b[39;00m\n\u001b[0;32m    383\u001b[0m \u001b[39m# laid out so that each write is contiguous.\u001b[39;00m\n\u001b[0;32m    384\u001b[0m \u001b[39m# for a tuple index inds, buff[inds] = func1d(inarr_view[inds])\u001b[39;00m\n\u001b[0;32m    385\u001b[0m buff \u001b[39m=\u001b[39m zeros(inarr_view\u001b[39m.\u001b[39mshape[:\u001b[39m-\u001b[39m\u001b[39m1\u001b[39m] \u001b[39m+\u001b[39m res\u001b[39m.\u001b[39mshape, res\u001b[39m.\u001b[39mdtype)\n",
      "File \u001b[1;32m~\\AppData\\Roaming\\Python\\Python311\\site-packages\\pandas\\core\\missing.py:284\u001b[0m, in \u001b[0;36minterpolate_2d_with_fill.<locals>.func\u001b[1;34m(yvalues)\u001b[0m\n\u001b[0;32m    279\u001b[0m \u001b[39mdef\u001b[39;00m \u001b[39mfunc\u001b[39m(yvalues: np\u001b[39m.\u001b[39mndarray) \u001b[39m-\u001b[39m\u001b[39m>\u001b[39m np\u001b[39m.\u001b[39mndarray:\n\u001b[0;32m    280\u001b[0m     \u001b[39m# process 1-d slices in the axis direction, returning it\u001b[39;00m\n\u001b[0;32m    281\u001b[0m \n\u001b[0;32m    282\u001b[0m     \u001b[39m# should the axis argument be handled below in apply_along_axis?\u001b[39;00m\n\u001b[0;32m    283\u001b[0m     \u001b[39m# i.e. not an arg to interpolate_1d\u001b[39;00m\n\u001b[1;32m--> 284\u001b[0m     \u001b[39mreturn\u001b[39;00m interpolate_1d(\n\u001b[0;32m    285\u001b[0m         xvalues\u001b[39m=\u001b[39;49mindex,\n\u001b[0;32m    286\u001b[0m         yvalues\u001b[39m=\u001b[39;49myvalues,\n\u001b[0;32m    287\u001b[0m         method\u001b[39m=\u001b[39;49mmethod,\n\u001b[0;32m    288\u001b[0m         limit\u001b[39m=\u001b[39;49mlimit,\n\u001b[0;32m    289\u001b[0m         limit_direction\u001b[39m=\u001b[39;49mlimit_direction,\n\u001b[0;32m    290\u001b[0m         limit_area\u001b[39m=\u001b[39;49mlimit_area,\n\u001b[0;32m    291\u001b[0m         fill_value\u001b[39m=\u001b[39;49mfill_value,\n\u001b[0;32m    292\u001b[0m         bounds_error\u001b[39m=\u001b[39;49m\u001b[39mFalse\u001b[39;49;00m,\n\u001b[0;32m    293\u001b[0m         \u001b[39m*\u001b[39;49m\u001b[39m*\u001b[39;49mkwargs,\n\u001b[0;32m    294\u001b[0m     )\n",
      "File \u001b[1;32m~\\AppData\\Roaming\\Python\\Python311\\site-packages\\pandas\\core\\missing.py:357\u001b[0m, in \u001b[0;36minterpolate_1d\u001b[1;34m(xvalues, yvalues, method, limit, limit_direction, limit_area, fill_value, bounds_error, order, **kwargs)\u001b[0m\n\u001b[0;32m    351\u001b[0m         \u001b[39mraise\u001b[39;00m \u001b[39mValueError\u001b[39;00m(\n\u001b[0;32m    352\u001b[0m             \u001b[39mf\u001b[39m\u001b[39m\"\u001b[39m\u001b[39mInvalid limit_area: expecting one of \u001b[39m\u001b[39m{\u001b[39;00mvalid_limit_areas\u001b[39m}\u001b[39;00m\u001b[39m, got \u001b[39m\u001b[39m\"\u001b[39m\n\u001b[0;32m    353\u001b[0m             \u001b[39mf\u001b[39m\u001b[39m\"\u001b[39m\u001b[39m{\u001b[39;00mlimit_area\u001b[39m}\u001b[39;00m\u001b[39m.\u001b[39m\u001b[39m\"\u001b[39m\n\u001b[0;32m    354\u001b[0m         )\n\u001b[0;32m    356\u001b[0m \u001b[39m# default limit is unlimited GH #16282\u001b[39;00m\n\u001b[1;32m--> 357\u001b[0m limit \u001b[39m=\u001b[39m algos\u001b[39m.\u001b[39;49mvalidate_limit(nobs\u001b[39m=\u001b[39;49m\u001b[39mNone\u001b[39;49;00m, limit\u001b[39m=\u001b[39;49mlimit)\n\u001b[0;32m    359\u001b[0m \u001b[39m# These are sets of index pointers to invalid values... i.e. {0, 1, etc...\u001b[39;00m\n\u001b[0;32m    360\u001b[0m all_nans \u001b[39m=\u001b[39m \u001b[39mset\u001b[39m(np\u001b[39m.\u001b[39mflatnonzero(invalid))\n",
      "File \u001b[1;32m~\\AppData\\Roaming\\Python\\Python311\\site-packages\\pandas\\_libs\\algos.pyx:518\u001b[0m, in \u001b[0;36mpandas._libs.algos.validate_limit\u001b[1;34m()\u001b[0m\n",
      "\u001b[1;31mValueError\u001b[0m: Limit must be an integer"
     ]
    }
   ],
   "source": [
    "# Example 13: Interpolation with Time-based Limits\n",
    "date_rng = pd.date_range(start='2023-01-01', end='2023-01-05', freq='D')\n",
    "df_time_limit = pd.DataFrame({'A': [1, 2, np.nan, 4, 5]}, index=date_rng)\n",
    "df_time_limit_interpolated = df_time_limit.interpolate(limit=pd.Timestamp('2023-01-03'))\n",
    "print(\"Example 13: Interpolation with Time-based Limits\")\n",
    "print(df_time_limit_interpolated)"
   ]
  },
  {
   "cell_type": "code",
   "execution_count": 17,
   "metadata": {},
   "outputs": [
    {
     "ename": "ValueError",
     "evalue": "Limit must be an integer",
     "output_type": "error",
     "traceback": [
      "\u001b[1;31m---------------------------------------------------------------------------\u001b[0m",
      "\u001b[1;31mValueError\u001b[0m                                Traceback (most recent call last)",
      "Cell \u001b[1;32mIn[17], line 4\u001b[0m\n\u001b[0;32m      2\u001b[0m date_rng \u001b[39m=\u001b[39m pd\u001b[39m.\u001b[39mdate_range(start\u001b[39m=\u001b[39m\u001b[39m'\u001b[39m\u001b[39m2023-01-01\u001b[39m\u001b[39m'\u001b[39m, end\u001b[39m=\u001b[39m\u001b[39m'\u001b[39m\u001b[39m2023-01-05\u001b[39m\u001b[39m'\u001b[39m, freq\u001b[39m=\u001b[39m\u001b[39m'\u001b[39m\u001b[39mD\u001b[39m\u001b[39m'\u001b[39m)\n\u001b[0;32m      3\u001b[0m df_time_limit \u001b[39m=\u001b[39m pd\u001b[39m.\u001b[39mDataFrame({\u001b[39m'\u001b[39m\u001b[39mA\u001b[39m\u001b[39m'\u001b[39m: [\u001b[39m1\u001b[39m, \u001b[39m2\u001b[39m, np\u001b[39m.\u001b[39mnan, \u001b[39m4\u001b[39m, \u001b[39m5\u001b[39m]}, index\u001b[39m=\u001b[39mdate_rng)\n\u001b[1;32m----> 4\u001b[0m df_time_limit_interpolated \u001b[39m=\u001b[39m df_time_limit\u001b[39m.\u001b[39;49minterpolate(limit\u001b[39m=\u001b[39;49mpd\u001b[39m.\u001b[39;49mTimedelta(\u001b[39m'\u001b[39;49m\u001b[39m2 days\u001b[39;49m\u001b[39m'\u001b[39;49m), method\u001b[39m=\u001b[39;49m\u001b[39m'\u001b[39;49m\u001b[39mtime\u001b[39;49m\u001b[39m'\u001b[39;49m)\n\u001b[0;32m      5\u001b[0m \u001b[39mprint\u001b[39m(\u001b[39m\"\u001b[39m\u001b[39mExample 14: Interpolation with Time-based Limits and Time Delta\u001b[39m\u001b[39m\"\u001b[39m)\n\u001b[0;32m      6\u001b[0m \u001b[39mprint\u001b[39m(df_time_limit_interpolated)\n",
      "File \u001b[1;32m~\\AppData\\Roaming\\Python\\Python311\\site-packages\\pandas\\util\\_decorators.py:311\u001b[0m, in \u001b[0;36mdeprecate_nonkeyword_arguments.<locals>.decorate.<locals>.wrapper\u001b[1;34m(*args, **kwargs)\u001b[0m\n\u001b[0;32m    305\u001b[0m \u001b[39mif\u001b[39;00m \u001b[39mlen\u001b[39m(args) \u001b[39m>\u001b[39m num_allow_args:\n\u001b[0;32m    306\u001b[0m     warnings\u001b[39m.\u001b[39mwarn(\n\u001b[0;32m    307\u001b[0m         msg\u001b[39m.\u001b[39mformat(arguments\u001b[39m=\u001b[39marguments),\n\u001b[0;32m    308\u001b[0m         \u001b[39mFutureWarning\u001b[39;00m,\n\u001b[0;32m    309\u001b[0m         stacklevel\u001b[39m=\u001b[39mstacklevel,\n\u001b[0;32m    310\u001b[0m     )\n\u001b[1;32m--> 311\u001b[0m \u001b[39mreturn\u001b[39;00m func(\u001b[39m*\u001b[39;49margs, \u001b[39m*\u001b[39;49m\u001b[39m*\u001b[39;49mkwargs)\n",
      "File \u001b[1;32m~\\AppData\\Roaming\\Python\\Python311\\site-packages\\pandas\\core\\frame.py:10712\u001b[0m, in \u001b[0;36mDataFrame.interpolate\u001b[1;34m(self, method, axis, limit, inplace, limit_direction, limit_area, downcast, **kwargs)\u001b[0m\n\u001b[0;32m  10700\u001b[0m \u001b[39m@deprecate_nonkeyword_arguments\u001b[39m(version\u001b[39m=\u001b[39m\u001b[39mNone\u001b[39;00m, allowed_args\u001b[39m=\u001b[39m[\u001b[39m\"\u001b[39m\u001b[39mself\u001b[39m\u001b[39m\"\u001b[39m, \u001b[39m\"\u001b[39m\u001b[39mmethod\u001b[39m\u001b[39m\"\u001b[39m])\n\u001b[0;32m  10701\u001b[0m \u001b[39mdef\u001b[39;00m \u001b[39minterpolate\u001b[39m(\n\u001b[0;32m  10702\u001b[0m     \u001b[39mself\u001b[39m: DataFrame,\n\u001b[1;32m   (...)\u001b[0m\n\u001b[0;32m  10710\u001b[0m     \u001b[39m*\u001b[39m\u001b[39m*\u001b[39mkwargs,\n\u001b[0;32m  10711\u001b[0m ) \u001b[39m-\u001b[39m\u001b[39m>\u001b[39m DataFrame \u001b[39m|\u001b[39m \u001b[39mNone\u001b[39;00m:\n\u001b[1;32m> 10712\u001b[0m     \u001b[39mreturn\u001b[39;00m \u001b[39msuper\u001b[39;49m()\u001b[39m.\u001b[39;49minterpolate(\n\u001b[0;32m  10713\u001b[0m         method,\n\u001b[0;32m  10714\u001b[0m         axis,\n\u001b[0;32m  10715\u001b[0m         limit,\n\u001b[0;32m  10716\u001b[0m         inplace,\n\u001b[0;32m  10717\u001b[0m         limit_direction,\n\u001b[0;32m  10718\u001b[0m         limit_area,\n\u001b[0;32m  10719\u001b[0m         downcast,\n\u001b[0;32m  10720\u001b[0m         \u001b[39m*\u001b[39;49m\u001b[39m*\u001b[39;49mkwargs,\n\u001b[0;32m  10721\u001b[0m     )\n",
      "File \u001b[1;32m~\\AppData\\Roaming\\Python\\Python311\\site-packages\\pandas\\core\\generic.py:6899\u001b[0m, in \u001b[0;36mNDFrame.interpolate\u001b[1;34m(self, method, axis, limit, inplace, limit_direction, limit_area, downcast, **kwargs)\u001b[0m\n\u001b[0;32m   6893\u001b[0m \u001b[39mif\u001b[39;00m isna(index)\u001b[39m.\u001b[39many():\n\u001b[0;32m   6894\u001b[0m     \u001b[39mraise\u001b[39;00m \u001b[39mNotImplementedError\u001b[39;00m(\n\u001b[0;32m   6895\u001b[0m         \u001b[39m\"\u001b[39m\u001b[39mInterpolation with NaNs in the index \u001b[39m\u001b[39m\"\u001b[39m\n\u001b[0;32m   6896\u001b[0m         \u001b[39m\"\u001b[39m\u001b[39mhas not been implemented. Try filling \u001b[39m\u001b[39m\"\u001b[39m\n\u001b[0;32m   6897\u001b[0m         \u001b[39m\"\u001b[39m\u001b[39mthose NaNs before interpolating.\u001b[39m\u001b[39m\"\u001b[39m\n\u001b[0;32m   6898\u001b[0m     )\n\u001b[1;32m-> 6899\u001b[0m new_data \u001b[39m=\u001b[39m obj\u001b[39m.\u001b[39;49m_mgr\u001b[39m.\u001b[39;49minterpolate(\n\u001b[0;32m   6900\u001b[0m     method\u001b[39m=\u001b[39;49mmethod,\n\u001b[0;32m   6901\u001b[0m     axis\u001b[39m=\u001b[39;49maxis,\n\u001b[0;32m   6902\u001b[0m     index\u001b[39m=\u001b[39;49mindex,\n\u001b[0;32m   6903\u001b[0m     limit\u001b[39m=\u001b[39;49mlimit,\n\u001b[0;32m   6904\u001b[0m     limit_direction\u001b[39m=\u001b[39;49mlimit_direction,\n\u001b[0;32m   6905\u001b[0m     limit_area\u001b[39m=\u001b[39;49mlimit_area,\n\u001b[0;32m   6906\u001b[0m     inplace\u001b[39m=\u001b[39;49minplace,\n\u001b[0;32m   6907\u001b[0m     downcast\u001b[39m=\u001b[39;49mdowncast,\n\u001b[0;32m   6908\u001b[0m     \u001b[39m*\u001b[39;49m\u001b[39m*\u001b[39;49mkwargs,\n\u001b[0;32m   6909\u001b[0m )\n\u001b[0;32m   6911\u001b[0m result \u001b[39m=\u001b[39m \u001b[39mself\u001b[39m\u001b[39m.\u001b[39m_constructor(new_data)\n\u001b[0;32m   6912\u001b[0m \u001b[39mif\u001b[39;00m should_transpose:\n",
      "File \u001b[1;32m~\\AppData\\Roaming\\Python\\Python311\\site-packages\\pandas\\core\\internals\\managers.py:377\u001b[0m, in \u001b[0;36mBaseBlockManager.interpolate\u001b[1;34m(self, **kwargs)\u001b[0m\n\u001b[0;32m    376\u001b[0m \u001b[39mdef\u001b[39;00m \u001b[39minterpolate\u001b[39m(\u001b[39mself\u001b[39m: T, \u001b[39m*\u001b[39m\u001b[39m*\u001b[39mkwargs) \u001b[39m-\u001b[39m\u001b[39m>\u001b[39m T:\n\u001b[1;32m--> 377\u001b[0m     \u001b[39mreturn\u001b[39;00m \u001b[39mself\u001b[39;49m\u001b[39m.\u001b[39;49mapply(\u001b[39m\"\u001b[39;49m\u001b[39minterpolate\u001b[39;49m\u001b[39m\"\u001b[39;49m, \u001b[39m*\u001b[39;49m\u001b[39m*\u001b[39;49mkwargs)\n",
      "File \u001b[1;32m~\\AppData\\Roaming\\Python\\Python311\\site-packages\\pandas\\core\\internals\\managers.py:327\u001b[0m, in \u001b[0;36mBaseBlockManager.apply\u001b[1;34m(self, f, align_keys, ignore_failures, **kwargs)\u001b[0m\n\u001b[0;32m    325\u001b[0m         applied \u001b[39m=\u001b[39m b\u001b[39m.\u001b[39mapply(f, \u001b[39m*\u001b[39m\u001b[39m*\u001b[39mkwargs)\n\u001b[0;32m    326\u001b[0m     \u001b[39melse\u001b[39;00m:\n\u001b[1;32m--> 327\u001b[0m         applied \u001b[39m=\u001b[39m \u001b[39mgetattr\u001b[39;49m(b, f)(\u001b[39m*\u001b[39;49m\u001b[39m*\u001b[39;49mkwargs)\n\u001b[0;32m    328\u001b[0m \u001b[39mexcept\u001b[39;00m (\u001b[39mTypeError\u001b[39;00m, \u001b[39mNotImplementedError\u001b[39;00m):\n\u001b[0;32m    329\u001b[0m     \u001b[39mif\u001b[39;00m \u001b[39mnot\u001b[39;00m ignore_failures:\n",
      "File \u001b[1;32m~\\AppData\\Roaming\\Python\\Python311\\site-packages\\pandas\\core\\internals\\blocks.py:1105\u001b[0m, in \u001b[0;36mBlock.interpolate\u001b[1;34m(self, method, axis, index, inplace, limit, limit_direction, limit_area, fill_value, coerce, downcast, **kwargs)\u001b[0m\n\u001b[0;32m   1102\u001b[0m data \u001b[39m=\u001b[39m \u001b[39mself\u001b[39m\u001b[39m.\u001b[39mvalues \u001b[39mif\u001b[39;00m inplace \u001b[39melse\u001b[39;00m \u001b[39mself\u001b[39m\u001b[39m.\u001b[39mvalues\u001b[39m.\u001b[39mcopy()\n\u001b[0;32m   1103\u001b[0m data \u001b[39m=\u001b[39m cast(np\u001b[39m.\u001b[39mndarray, data)  \u001b[39m# bc overridden by ExtensionBlock\u001b[39;00m\n\u001b[1;32m-> 1105\u001b[0m interp_values \u001b[39m=\u001b[39m missing\u001b[39m.\u001b[39;49minterpolate_array_2d(\n\u001b[0;32m   1106\u001b[0m     data,\n\u001b[0;32m   1107\u001b[0m     method\u001b[39m=\u001b[39;49mmethod,\n\u001b[0;32m   1108\u001b[0m     axis\u001b[39m=\u001b[39;49maxis,\n\u001b[0;32m   1109\u001b[0m     index\u001b[39m=\u001b[39;49mindex,\n\u001b[0;32m   1110\u001b[0m     limit\u001b[39m=\u001b[39;49mlimit,\n\u001b[0;32m   1111\u001b[0m     limit_direction\u001b[39m=\u001b[39;49mlimit_direction,\n\u001b[0;32m   1112\u001b[0m     limit_area\u001b[39m=\u001b[39;49mlimit_area,\n\u001b[0;32m   1113\u001b[0m     fill_value\u001b[39m=\u001b[39;49mfill_value,\n\u001b[0;32m   1114\u001b[0m     \u001b[39m*\u001b[39;49m\u001b[39m*\u001b[39;49mkwargs,\n\u001b[0;32m   1115\u001b[0m )\n\u001b[0;32m   1117\u001b[0m interp_values \u001b[39m=\u001b[39m maybe_coerce_values(interp_values)\n\u001b[0;32m   1118\u001b[0m nbs \u001b[39m=\u001b[39m [\u001b[39mself\u001b[39m\u001b[39m.\u001b[39mmake_block_same_class(interp_values)]\n",
      "File \u001b[1;32m~\\AppData\\Roaming\\Python\\Python311\\site-packages\\pandas\\core\\missing.py:240\u001b[0m, in \u001b[0;36minterpolate_array_2d\u001b[1;34m(data, method, axis, index, limit, limit_direction, limit_area, fill_value, coerce, downcast, **kwargs)\u001b[0m\n\u001b[0;32m    237\u001b[0m \u001b[39melse\u001b[39;00m:\n\u001b[0;32m    238\u001b[0m     \u001b[39massert\u001b[39;00m index \u001b[39mis\u001b[39;00m \u001b[39mnot\u001b[39;00m \u001b[39mNone\u001b[39;00m  \u001b[39m# for mypy\u001b[39;00m\n\u001b[1;32m--> 240\u001b[0m     interp_values \u001b[39m=\u001b[39m interpolate_2d_with_fill(\n\u001b[0;32m    241\u001b[0m         data\u001b[39m=\u001b[39;49mdata,\n\u001b[0;32m    242\u001b[0m         index\u001b[39m=\u001b[39;49mindex,\n\u001b[0;32m    243\u001b[0m         axis\u001b[39m=\u001b[39;49maxis,\n\u001b[0;32m    244\u001b[0m         method\u001b[39m=\u001b[39;49mmethod,\n\u001b[0;32m    245\u001b[0m         limit\u001b[39m=\u001b[39;49mlimit,\n\u001b[0;32m    246\u001b[0m         limit_direction\u001b[39m=\u001b[39;49mlimit_direction,\n\u001b[0;32m    247\u001b[0m         limit_area\u001b[39m=\u001b[39;49mlimit_area,\n\u001b[0;32m    248\u001b[0m         fill_value\u001b[39m=\u001b[39;49mfill_value,\n\u001b[0;32m    249\u001b[0m         \u001b[39m*\u001b[39;49m\u001b[39m*\u001b[39;49mkwargs,\n\u001b[0;32m    250\u001b[0m     )\n\u001b[0;32m    251\u001b[0m \u001b[39mreturn\u001b[39;00m interp_values\n",
      "File \u001b[1;32m~\\AppData\\Roaming\\Python\\Python311\\site-packages\\pandas\\core\\missing.py:297\u001b[0m, in \u001b[0;36minterpolate_2d_with_fill\u001b[1;34m(data, index, axis, method, limit, limit_direction, limit_area, fill_value, **kwargs)\u001b[0m\n\u001b[0;32m    284\u001b[0m     \u001b[39mreturn\u001b[39;00m interpolate_1d(\n\u001b[0;32m    285\u001b[0m         xvalues\u001b[39m=\u001b[39mindex,\n\u001b[0;32m    286\u001b[0m         yvalues\u001b[39m=\u001b[39myvalues,\n\u001b[1;32m   (...)\u001b[0m\n\u001b[0;32m    293\u001b[0m         \u001b[39m*\u001b[39m\u001b[39m*\u001b[39mkwargs,\n\u001b[0;32m    294\u001b[0m     )\n\u001b[0;32m    296\u001b[0m \u001b[39m# interp each column independently\u001b[39;00m\n\u001b[1;32m--> 297\u001b[0m \u001b[39mreturn\u001b[39;00m np\u001b[39m.\u001b[39;49mapply_along_axis(func, axis, data)\n",
      "File \u001b[1;32m~\\AppData\\Roaming\\Python\\Python311\\site-packages\\numpy\\lib\\shape_base.py:379\u001b[0m, in \u001b[0;36mapply_along_axis\u001b[1;34m(func1d, axis, arr, *args, **kwargs)\u001b[0m\n\u001b[0;32m    375\u001b[0m \u001b[39mexcept\u001b[39;00m \u001b[39mStopIteration\u001b[39;00m:\n\u001b[0;32m    376\u001b[0m     \u001b[39mraise\u001b[39;00m \u001b[39mValueError\u001b[39;00m(\n\u001b[0;32m    377\u001b[0m         \u001b[39m'\u001b[39m\u001b[39mCannot apply_along_axis when any iteration dimensions are 0\u001b[39m\u001b[39m'\u001b[39m\n\u001b[0;32m    378\u001b[0m     ) \u001b[39mfrom\u001b[39;00m \u001b[39mNone\u001b[39m\n\u001b[1;32m--> 379\u001b[0m res \u001b[39m=\u001b[39m asanyarray(func1d(inarr_view[ind0], \u001b[39m*\u001b[39;49margs, \u001b[39m*\u001b[39;49m\u001b[39m*\u001b[39;49mkwargs))\n\u001b[0;32m    381\u001b[0m \u001b[39m# build a buffer for storing evaluations of func1d.\u001b[39;00m\n\u001b[0;32m    382\u001b[0m \u001b[39m# remove the requested axis, and add the new ones on the end.\u001b[39;00m\n\u001b[0;32m    383\u001b[0m \u001b[39m# laid out so that each write is contiguous.\u001b[39;00m\n\u001b[0;32m    384\u001b[0m \u001b[39m# for a tuple index inds, buff[inds] = func1d(inarr_view[inds])\u001b[39;00m\n\u001b[0;32m    385\u001b[0m buff \u001b[39m=\u001b[39m zeros(inarr_view\u001b[39m.\u001b[39mshape[:\u001b[39m-\u001b[39m\u001b[39m1\u001b[39m] \u001b[39m+\u001b[39m res\u001b[39m.\u001b[39mshape, res\u001b[39m.\u001b[39mdtype)\n",
      "File \u001b[1;32m~\\AppData\\Roaming\\Python\\Python311\\site-packages\\pandas\\core\\missing.py:284\u001b[0m, in \u001b[0;36minterpolate_2d_with_fill.<locals>.func\u001b[1;34m(yvalues)\u001b[0m\n\u001b[0;32m    279\u001b[0m \u001b[39mdef\u001b[39;00m \u001b[39mfunc\u001b[39m(yvalues: np\u001b[39m.\u001b[39mndarray) \u001b[39m-\u001b[39m\u001b[39m>\u001b[39m np\u001b[39m.\u001b[39mndarray:\n\u001b[0;32m    280\u001b[0m     \u001b[39m# process 1-d slices in the axis direction, returning it\u001b[39;00m\n\u001b[0;32m    281\u001b[0m \n\u001b[0;32m    282\u001b[0m     \u001b[39m# should the axis argument be handled below in apply_along_axis?\u001b[39;00m\n\u001b[0;32m    283\u001b[0m     \u001b[39m# i.e. not an arg to interpolate_1d\u001b[39;00m\n\u001b[1;32m--> 284\u001b[0m     \u001b[39mreturn\u001b[39;00m interpolate_1d(\n\u001b[0;32m    285\u001b[0m         xvalues\u001b[39m=\u001b[39;49mindex,\n\u001b[0;32m    286\u001b[0m         yvalues\u001b[39m=\u001b[39;49myvalues,\n\u001b[0;32m    287\u001b[0m         method\u001b[39m=\u001b[39;49mmethod,\n\u001b[0;32m    288\u001b[0m         limit\u001b[39m=\u001b[39;49mlimit,\n\u001b[0;32m    289\u001b[0m         limit_direction\u001b[39m=\u001b[39;49mlimit_direction,\n\u001b[0;32m    290\u001b[0m         limit_area\u001b[39m=\u001b[39;49mlimit_area,\n\u001b[0;32m    291\u001b[0m         fill_value\u001b[39m=\u001b[39;49mfill_value,\n\u001b[0;32m    292\u001b[0m         bounds_error\u001b[39m=\u001b[39;49m\u001b[39mFalse\u001b[39;49;00m,\n\u001b[0;32m    293\u001b[0m         \u001b[39m*\u001b[39;49m\u001b[39m*\u001b[39;49mkwargs,\n\u001b[0;32m    294\u001b[0m     )\n",
      "File \u001b[1;32m~\\AppData\\Roaming\\Python\\Python311\\site-packages\\pandas\\core\\missing.py:357\u001b[0m, in \u001b[0;36minterpolate_1d\u001b[1;34m(xvalues, yvalues, method, limit, limit_direction, limit_area, fill_value, bounds_error, order, **kwargs)\u001b[0m\n\u001b[0;32m    351\u001b[0m         \u001b[39mraise\u001b[39;00m \u001b[39mValueError\u001b[39;00m(\n\u001b[0;32m    352\u001b[0m             \u001b[39mf\u001b[39m\u001b[39m\"\u001b[39m\u001b[39mInvalid limit_area: expecting one of \u001b[39m\u001b[39m{\u001b[39;00mvalid_limit_areas\u001b[39m}\u001b[39;00m\u001b[39m, got \u001b[39m\u001b[39m\"\u001b[39m\n\u001b[0;32m    353\u001b[0m             \u001b[39mf\u001b[39m\u001b[39m\"\u001b[39m\u001b[39m{\u001b[39;00mlimit_area\u001b[39m}\u001b[39;00m\u001b[39m.\u001b[39m\u001b[39m\"\u001b[39m\n\u001b[0;32m    354\u001b[0m         )\n\u001b[0;32m    356\u001b[0m \u001b[39m# default limit is unlimited GH #16282\u001b[39;00m\n\u001b[1;32m--> 357\u001b[0m limit \u001b[39m=\u001b[39m algos\u001b[39m.\u001b[39;49mvalidate_limit(nobs\u001b[39m=\u001b[39;49m\u001b[39mNone\u001b[39;49;00m, limit\u001b[39m=\u001b[39;49mlimit)\n\u001b[0;32m    359\u001b[0m \u001b[39m# These are sets of index pointers to invalid values... i.e. {0, 1, etc...\u001b[39;00m\n\u001b[0;32m    360\u001b[0m all_nans \u001b[39m=\u001b[39m \u001b[39mset\u001b[39m(np\u001b[39m.\u001b[39mflatnonzero(invalid))\n",
      "File \u001b[1;32m~\\AppData\\Roaming\\Python\\Python311\\site-packages\\pandas\\_libs\\algos.pyx:518\u001b[0m, in \u001b[0;36mpandas._libs.algos.validate_limit\u001b[1;34m()\u001b[0m\n",
      "\u001b[1;31mValueError\u001b[0m: Limit must be an integer"
     ]
    }
   ],
   "source": [
    "# Example 14: Interpolation with Time-based Limits and Time Delta\n",
    "date_rng = pd.date_range(start='2023-01-01', end='2023-01-05', freq='D')\n",
    "df_time_limit = pd.DataFrame({'A': [1, 2, np.nan, 4, 5]}, index=date_rng)\n",
    "df_time_limit_interpolated = df_time_limit.interpolate(limit=pd.Timedelta('2 days'), method='time')\n",
    "print(\"Example 14: Interpolation with Time-based Limits and Time Delta\")\n",
    "print(df_time_limit_interpolated)"
   ]
  },
  {
   "cell_type": "code",
   "execution_count": 18,
   "metadata": {},
   "outputs": [
    {
     "name": "stdout",
     "output_type": "stream",
     "text": [
      "Example 15: Interpolation with Different Axis (Column-wise)\n",
      "     A    B\n",
      "0  1.0  1.0\n",
      "1  2.0  2.0\n",
      "2  NaN  3.0\n",
      "3  4.0  4.0\n",
      "4  5.0  5.0\n"
     ]
    }
   ],
   "source": [
    "# Example 15: Interpolation with Different Axis (Column-wise)\n",
    "df_column_interpolation = df.interpolate(axis=1)\n",
    "print(\"Example 15: Interpolation with Different Axis (Column-wise)\")\n",
    "print(df_column_interpolation)"
   ]
  },
  {
   "cell_type": "code",
   "execution_count": 19,
   "metadata": {},
   "outputs": [
    {
     "name": "stdout",
     "output_type": "stream",
     "text": [
      "Example 16: Interpolation with Different Axis (Row-wise)\n",
      "     A    B\n",
      "0  1.0  NaN\n",
      "1  2.0  2.0\n",
      "2  3.0  3.0\n",
      "3  4.0  4.0\n",
      "4  5.0  5.0\n"
     ]
    }
   ],
   "source": [
    "# Example 16: Interpolation with Different Axis (Row-wise)\n",
    "df_row_interpolation = df.interpolate(axis=0)\n",
    "print(\"Example 16: Interpolation with Different Axis (Row-wise)\")\n",
    "print(df_row_interpolation)"
   ]
  },
  {
   "cell_type": "code",
   "execution_count": 20,
   "metadata": {},
   "outputs": [
    {
     "name": "stdout",
     "output_type": "stream",
     "text": [
      "Example 17: Interpolation with Time-based Limit Direction (Forward)\n",
      "              A\n",
      "2023-01-01  1.0\n",
      "2023-01-02  2.0\n",
      "2023-01-03  3.0\n",
      "2023-01-04  4.0\n",
      "2023-01-05  5.0\n"
     ]
    }
   ],
   "source": [
    "# Example 17: Interpolation with Time-based Limit Direction (Forward)\n",
    "date_rng = pd.date_range(start='2023-01-01', end='2023-01-05', freq='D')\n",
    "df_time_limit_dir = pd.DataFrame({'A': [1, np.nan, 3, 4, 5]}, index=date_rng)\n",
    "df_time_limit_dir_interpolated = df_time_limit_dir.interpolate(limit_direction='forward')\n",
    "print(\"Example 17: Interpolation with Time-based Limit Direction (Forward)\")\n",
    "print(df_time_limit_dir_interpolated)"
   ]
  },
  {
   "cell_type": "code",
   "execution_count": 21,
   "metadata": {},
   "outputs": [
    {
     "name": "stdout",
     "output_type": "stream",
     "text": [
      "Example 18: Interpolation with Time-based Limit Direction (Backward)\n",
      "              A\n",
      "2023-01-01  1.0\n",
      "2023-01-02  2.0\n",
      "2023-01-03  3.0\n",
      "2023-01-04  4.0\n",
      "2023-01-05  5.0\n"
     ]
    }
   ],
   "source": [
    "# Example 18: Interpolation with Time-based Limit Direction (Backward)\n",
    "date_rng = pd.date_range(start='2023-01-01', end='2023-01-05', freq='D')\n",
    "df_time_limit_dir = pd.DataFrame({'A': [1, np.nan, 3, 4, 5]}, index=date_rng)\n",
    "df_time_limit_dir_interpolated = df_time_limit_dir.interpolate(limit_direction='backward')\n",
    "print(\"Example 18: Interpolation with Time-based Limit Direction (Backward)\")\n",
    "print(df_time_limit_dir_interpolated)"
   ]
  },
  {
   "cell_type": "code",
   "execution_count": 22,
   "metadata": {},
   "outputs": [
    {
     "name": "stdout",
     "output_type": "stream",
     "text": [
      "Example 19: Interpolation with Time-based Limit Direction (Both)\n",
      "              A\n",
      "2023-01-01  1.0\n",
      "2023-01-02  2.0\n",
      "2023-01-03  3.0\n",
      "2023-01-04  4.0\n",
      "2023-01-05  5.0\n"
     ]
    }
   ],
   "source": [
    "# Example 19: Interpolation with Time-based Limit Direction (Both)\n",
    "date_rng = pd.date_range(start='2023-01-01', end='2023-01-05', freq='D')\n",
    "df_time_limit_dir = pd.DataFrame({'A': [1, np.nan, 3, 4, 5]}, index=date_rng)\n",
    "df_time_limit_dir_interpolated = df_time_limit_dir.interpolate(limit_direction='both')\n",
    "print(\"Example 19: Interpolation with Time-based Limit Direction (Both)\")\n",
    "print(df_time_limit_dir_interpolated)"
   ]
  },
  {
   "cell_type": "code",
   "execution_count": 23,
   "metadata": {},
   "outputs": [
    {
     "ename": "ValueError",
     "evalue": "Invalid limit_direction: expecting one of ['forward', 'backward', 'both'], got 'nearest'.",
     "output_type": "error",
     "traceback": [
      "\u001b[1;31m---------------------------------------------------------------------------\u001b[0m",
      "\u001b[1;31mValueError\u001b[0m                                Traceback (most recent call last)",
      "Cell \u001b[1;32mIn[23], line 4\u001b[0m\n\u001b[0;32m      2\u001b[0m date_rng \u001b[39m=\u001b[39m pd\u001b[39m.\u001b[39mdate_range(start\u001b[39m=\u001b[39m\u001b[39m'\u001b[39m\u001b[39m2023-01-01\u001b[39m\u001b[39m'\u001b[39m, end\u001b[39m=\u001b[39m\u001b[39m'\u001b[39m\u001b[39m2023-01-05\u001b[39m\u001b[39m'\u001b[39m, freq\u001b[39m=\u001b[39m\u001b[39m'\u001b[39m\u001b[39mD\u001b[39m\u001b[39m'\u001b[39m)\n\u001b[0;32m      3\u001b[0m df_time_limit_dir \u001b[39m=\u001b[39m pd\u001b[39m.\u001b[39mDataFrame({\u001b[39m'\u001b[39m\u001b[39mA\u001b[39m\u001b[39m'\u001b[39m: [\u001b[39m1\u001b[39m, np\u001b[39m.\u001b[39mnan, \u001b[39m3\u001b[39m, \u001b[39m4\u001b[39m, \u001b[39m5\u001b[39m]}, index\u001b[39m=\u001b[39mdate_rng)\n\u001b[1;32m----> 4\u001b[0m df_time_limit_dir_interpolated \u001b[39m=\u001b[39m df_time_limit_dir\u001b[39m.\u001b[39;49minterpolate(limit_direction\u001b[39m=\u001b[39;49m\u001b[39m'\u001b[39;49m\u001b[39mnearest\u001b[39;49m\u001b[39m'\u001b[39;49m)\n\u001b[0;32m      5\u001b[0m \u001b[39mprint\u001b[39m(\u001b[39m\"\u001b[39m\u001b[39mExample 20: Interpolation with Time-based Limit Direction (Nearest)\u001b[39m\u001b[39m\"\u001b[39m)\n\u001b[0;32m      6\u001b[0m \u001b[39mprint\u001b[39m(df_time_limit_dir_interpolated)\n",
      "File \u001b[1;32m~\\AppData\\Roaming\\Python\\Python311\\site-packages\\pandas\\util\\_decorators.py:311\u001b[0m, in \u001b[0;36mdeprecate_nonkeyword_arguments.<locals>.decorate.<locals>.wrapper\u001b[1;34m(*args, **kwargs)\u001b[0m\n\u001b[0;32m    305\u001b[0m \u001b[39mif\u001b[39;00m \u001b[39mlen\u001b[39m(args) \u001b[39m>\u001b[39m num_allow_args:\n\u001b[0;32m    306\u001b[0m     warnings\u001b[39m.\u001b[39mwarn(\n\u001b[0;32m    307\u001b[0m         msg\u001b[39m.\u001b[39mformat(arguments\u001b[39m=\u001b[39marguments),\n\u001b[0;32m    308\u001b[0m         \u001b[39mFutureWarning\u001b[39;00m,\n\u001b[0;32m    309\u001b[0m         stacklevel\u001b[39m=\u001b[39mstacklevel,\n\u001b[0;32m    310\u001b[0m     )\n\u001b[1;32m--> 311\u001b[0m \u001b[39mreturn\u001b[39;00m func(\u001b[39m*\u001b[39;49margs, \u001b[39m*\u001b[39;49m\u001b[39m*\u001b[39;49mkwargs)\n",
      "File \u001b[1;32m~\\AppData\\Roaming\\Python\\Python311\\site-packages\\pandas\\core\\frame.py:10712\u001b[0m, in \u001b[0;36mDataFrame.interpolate\u001b[1;34m(self, method, axis, limit, inplace, limit_direction, limit_area, downcast, **kwargs)\u001b[0m\n\u001b[0;32m  10700\u001b[0m \u001b[39m@deprecate_nonkeyword_arguments\u001b[39m(version\u001b[39m=\u001b[39m\u001b[39mNone\u001b[39;00m, allowed_args\u001b[39m=\u001b[39m[\u001b[39m\"\u001b[39m\u001b[39mself\u001b[39m\u001b[39m\"\u001b[39m, \u001b[39m\"\u001b[39m\u001b[39mmethod\u001b[39m\u001b[39m\"\u001b[39m])\n\u001b[0;32m  10701\u001b[0m \u001b[39mdef\u001b[39;00m \u001b[39minterpolate\u001b[39m(\n\u001b[0;32m  10702\u001b[0m     \u001b[39mself\u001b[39m: DataFrame,\n\u001b[1;32m   (...)\u001b[0m\n\u001b[0;32m  10710\u001b[0m     \u001b[39m*\u001b[39m\u001b[39m*\u001b[39mkwargs,\n\u001b[0;32m  10711\u001b[0m ) \u001b[39m-\u001b[39m\u001b[39m>\u001b[39m DataFrame \u001b[39m|\u001b[39m \u001b[39mNone\u001b[39;00m:\n\u001b[1;32m> 10712\u001b[0m     \u001b[39mreturn\u001b[39;00m \u001b[39msuper\u001b[39;49m()\u001b[39m.\u001b[39;49minterpolate(\n\u001b[0;32m  10713\u001b[0m         method,\n\u001b[0;32m  10714\u001b[0m         axis,\n\u001b[0;32m  10715\u001b[0m         limit,\n\u001b[0;32m  10716\u001b[0m         inplace,\n\u001b[0;32m  10717\u001b[0m         limit_direction,\n\u001b[0;32m  10718\u001b[0m         limit_area,\n\u001b[0;32m  10719\u001b[0m         downcast,\n\u001b[0;32m  10720\u001b[0m         \u001b[39m*\u001b[39;49m\u001b[39m*\u001b[39;49mkwargs,\n\u001b[0;32m  10721\u001b[0m     )\n",
      "File \u001b[1;32m~\\AppData\\Roaming\\Python\\Python311\\site-packages\\pandas\\core\\generic.py:6899\u001b[0m, in \u001b[0;36mNDFrame.interpolate\u001b[1;34m(self, method, axis, limit, inplace, limit_direction, limit_area, downcast, **kwargs)\u001b[0m\n\u001b[0;32m   6893\u001b[0m \u001b[39mif\u001b[39;00m isna(index)\u001b[39m.\u001b[39many():\n\u001b[0;32m   6894\u001b[0m     \u001b[39mraise\u001b[39;00m \u001b[39mNotImplementedError\u001b[39;00m(\n\u001b[0;32m   6895\u001b[0m         \u001b[39m\"\u001b[39m\u001b[39mInterpolation with NaNs in the index \u001b[39m\u001b[39m\"\u001b[39m\n\u001b[0;32m   6896\u001b[0m         \u001b[39m\"\u001b[39m\u001b[39mhas not been implemented. Try filling \u001b[39m\u001b[39m\"\u001b[39m\n\u001b[0;32m   6897\u001b[0m         \u001b[39m\"\u001b[39m\u001b[39mthose NaNs before interpolating.\u001b[39m\u001b[39m\"\u001b[39m\n\u001b[0;32m   6898\u001b[0m     )\n\u001b[1;32m-> 6899\u001b[0m new_data \u001b[39m=\u001b[39m obj\u001b[39m.\u001b[39;49m_mgr\u001b[39m.\u001b[39;49minterpolate(\n\u001b[0;32m   6900\u001b[0m     method\u001b[39m=\u001b[39;49mmethod,\n\u001b[0;32m   6901\u001b[0m     axis\u001b[39m=\u001b[39;49maxis,\n\u001b[0;32m   6902\u001b[0m     index\u001b[39m=\u001b[39;49mindex,\n\u001b[0;32m   6903\u001b[0m     limit\u001b[39m=\u001b[39;49mlimit,\n\u001b[0;32m   6904\u001b[0m     limit_direction\u001b[39m=\u001b[39;49mlimit_direction,\n\u001b[0;32m   6905\u001b[0m     limit_area\u001b[39m=\u001b[39;49mlimit_area,\n\u001b[0;32m   6906\u001b[0m     inplace\u001b[39m=\u001b[39;49minplace,\n\u001b[0;32m   6907\u001b[0m     downcast\u001b[39m=\u001b[39;49mdowncast,\n\u001b[0;32m   6908\u001b[0m     \u001b[39m*\u001b[39;49m\u001b[39m*\u001b[39;49mkwargs,\n\u001b[0;32m   6909\u001b[0m )\n\u001b[0;32m   6911\u001b[0m result \u001b[39m=\u001b[39m \u001b[39mself\u001b[39m\u001b[39m.\u001b[39m_constructor(new_data)\n\u001b[0;32m   6912\u001b[0m \u001b[39mif\u001b[39;00m should_transpose:\n",
      "File \u001b[1;32m~\\AppData\\Roaming\\Python\\Python311\\site-packages\\pandas\\core\\internals\\managers.py:377\u001b[0m, in \u001b[0;36mBaseBlockManager.interpolate\u001b[1;34m(self, **kwargs)\u001b[0m\n\u001b[0;32m    376\u001b[0m \u001b[39mdef\u001b[39;00m \u001b[39minterpolate\u001b[39m(\u001b[39mself\u001b[39m: T, \u001b[39m*\u001b[39m\u001b[39m*\u001b[39mkwargs) \u001b[39m-\u001b[39m\u001b[39m>\u001b[39m T:\n\u001b[1;32m--> 377\u001b[0m     \u001b[39mreturn\u001b[39;00m \u001b[39mself\u001b[39;49m\u001b[39m.\u001b[39;49mapply(\u001b[39m\"\u001b[39;49m\u001b[39minterpolate\u001b[39;49m\u001b[39m\"\u001b[39;49m, \u001b[39m*\u001b[39;49m\u001b[39m*\u001b[39;49mkwargs)\n",
      "File \u001b[1;32m~\\AppData\\Roaming\\Python\\Python311\\site-packages\\pandas\\core\\internals\\managers.py:327\u001b[0m, in \u001b[0;36mBaseBlockManager.apply\u001b[1;34m(self, f, align_keys, ignore_failures, **kwargs)\u001b[0m\n\u001b[0;32m    325\u001b[0m         applied \u001b[39m=\u001b[39m b\u001b[39m.\u001b[39mapply(f, \u001b[39m*\u001b[39m\u001b[39m*\u001b[39mkwargs)\n\u001b[0;32m    326\u001b[0m     \u001b[39melse\u001b[39;00m:\n\u001b[1;32m--> 327\u001b[0m         applied \u001b[39m=\u001b[39m \u001b[39mgetattr\u001b[39;49m(b, f)(\u001b[39m*\u001b[39;49m\u001b[39m*\u001b[39;49mkwargs)\n\u001b[0;32m    328\u001b[0m \u001b[39mexcept\u001b[39;00m (\u001b[39mTypeError\u001b[39;00m, \u001b[39mNotImplementedError\u001b[39;00m):\n\u001b[0;32m    329\u001b[0m     \u001b[39mif\u001b[39;00m \u001b[39mnot\u001b[39;00m ignore_failures:\n",
      "File \u001b[1;32m~\\AppData\\Roaming\\Python\\Python311\\site-packages\\pandas\\core\\internals\\blocks.py:1105\u001b[0m, in \u001b[0;36mBlock.interpolate\u001b[1;34m(self, method, axis, index, inplace, limit, limit_direction, limit_area, fill_value, coerce, downcast, **kwargs)\u001b[0m\n\u001b[0;32m   1102\u001b[0m data \u001b[39m=\u001b[39m \u001b[39mself\u001b[39m\u001b[39m.\u001b[39mvalues \u001b[39mif\u001b[39;00m inplace \u001b[39melse\u001b[39;00m \u001b[39mself\u001b[39m\u001b[39m.\u001b[39mvalues\u001b[39m.\u001b[39mcopy()\n\u001b[0;32m   1103\u001b[0m data \u001b[39m=\u001b[39m cast(np\u001b[39m.\u001b[39mndarray, data)  \u001b[39m# bc overridden by ExtensionBlock\u001b[39;00m\n\u001b[1;32m-> 1105\u001b[0m interp_values \u001b[39m=\u001b[39m missing\u001b[39m.\u001b[39;49minterpolate_array_2d(\n\u001b[0;32m   1106\u001b[0m     data,\n\u001b[0;32m   1107\u001b[0m     method\u001b[39m=\u001b[39;49mmethod,\n\u001b[0;32m   1108\u001b[0m     axis\u001b[39m=\u001b[39;49maxis,\n\u001b[0;32m   1109\u001b[0m     index\u001b[39m=\u001b[39;49mindex,\n\u001b[0;32m   1110\u001b[0m     limit\u001b[39m=\u001b[39;49mlimit,\n\u001b[0;32m   1111\u001b[0m     limit_direction\u001b[39m=\u001b[39;49mlimit_direction,\n\u001b[0;32m   1112\u001b[0m     limit_area\u001b[39m=\u001b[39;49mlimit_area,\n\u001b[0;32m   1113\u001b[0m     fill_value\u001b[39m=\u001b[39;49mfill_value,\n\u001b[0;32m   1114\u001b[0m     \u001b[39m*\u001b[39;49m\u001b[39m*\u001b[39;49mkwargs,\n\u001b[0;32m   1115\u001b[0m )\n\u001b[0;32m   1117\u001b[0m interp_values \u001b[39m=\u001b[39m maybe_coerce_values(interp_values)\n\u001b[0;32m   1118\u001b[0m nbs \u001b[39m=\u001b[39m [\u001b[39mself\u001b[39m\u001b[39m.\u001b[39mmake_block_same_class(interp_values)]\n",
      "File \u001b[1;32m~\\AppData\\Roaming\\Python\\Python311\\site-packages\\pandas\\core\\missing.py:240\u001b[0m, in \u001b[0;36minterpolate_array_2d\u001b[1;34m(data, method, axis, index, limit, limit_direction, limit_area, fill_value, coerce, downcast, **kwargs)\u001b[0m\n\u001b[0;32m    237\u001b[0m \u001b[39melse\u001b[39;00m:\n\u001b[0;32m    238\u001b[0m     \u001b[39massert\u001b[39;00m index \u001b[39mis\u001b[39;00m \u001b[39mnot\u001b[39;00m \u001b[39mNone\u001b[39;00m  \u001b[39m# for mypy\u001b[39;00m\n\u001b[1;32m--> 240\u001b[0m     interp_values \u001b[39m=\u001b[39m interpolate_2d_with_fill(\n\u001b[0;32m    241\u001b[0m         data\u001b[39m=\u001b[39;49mdata,\n\u001b[0;32m    242\u001b[0m         index\u001b[39m=\u001b[39;49mindex,\n\u001b[0;32m    243\u001b[0m         axis\u001b[39m=\u001b[39;49maxis,\n\u001b[0;32m    244\u001b[0m         method\u001b[39m=\u001b[39;49mmethod,\n\u001b[0;32m    245\u001b[0m         limit\u001b[39m=\u001b[39;49mlimit,\n\u001b[0;32m    246\u001b[0m         limit_direction\u001b[39m=\u001b[39;49mlimit_direction,\n\u001b[0;32m    247\u001b[0m         limit_area\u001b[39m=\u001b[39;49mlimit_area,\n\u001b[0;32m    248\u001b[0m         fill_value\u001b[39m=\u001b[39;49mfill_value,\n\u001b[0;32m    249\u001b[0m         \u001b[39m*\u001b[39;49m\u001b[39m*\u001b[39;49mkwargs,\n\u001b[0;32m    250\u001b[0m     )\n\u001b[0;32m    251\u001b[0m \u001b[39mreturn\u001b[39;00m interp_values\n",
      "File \u001b[1;32m~\\AppData\\Roaming\\Python\\Python311\\site-packages\\pandas\\core\\missing.py:297\u001b[0m, in \u001b[0;36minterpolate_2d_with_fill\u001b[1;34m(data, index, axis, method, limit, limit_direction, limit_area, fill_value, **kwargs)\u001b[0m\n\u001b[0;32m    284\u001b[0m     \u001b[39mreturn\u001b[39;00m interpolate_1d(\n\u001b[0;32m    285\u001b[0m         xvalues\u001b[39m=\u001b[39mindex,\n\u001b[0;32m    286\u001b[0m         yvalues\u001b[39m=\u001b[39myvalues,\n\u001b[1;32m   (...)\u001b[0m\n\u001b[0;32m    293\u001b[0m         \u001b[39m*\u001b[39m\u001b[39m*\u001b[39mkwargs,\n\u001b[0;32m    294\u001b[0m     )\n\u001b[0;32m    296\u001b[0m \u001b[39m# interp each column independently\u001b[39;00m\n\u001b[1;32m--> 297\u001b[0m \u001b[39mreturn\u001b[39;00m np\u001b[39m.\u001b[39;49mapply_along_axis(func, axis, data)\n",
      "File \u001b[1;32m~\\AppData\\Roaming\\Python\\Python311\\site-packages\\numpy\\lib\\shape_base.py:379\u001b[0m, in \u001b[0;36mapply_along_axis\u001b[1;34m(func1d, axis, arr, *args, **kwargs)\u001b[0m\n\u001b[0;32m    375\u001b[0m \u001b[39mexcept\u001b[39;00m \u001b[39mStopIteration\u001b[39;00m:\n\u001b[0;32m    376\u001b[0m     \u001b[39mraise\u001b[39;00m \u001b[39mValueError\u001b[39;00m(\n\u001b[0;32m    377\u001b[0m         \u001b[39m'\u001b[39m\u001b[39mCannot apply_along_axis when any iteration dimensions are 0\u001b[39m\u001b[39m'\u001b[39m\n\u001b[0;32m    378\u001b[0m     ) \u001b[39mfrom\u001b[39;00m \u001b[39mNone\u001b[39m\n\u001b[1;32m--> 379\u001b[0m res \u001b[39m=\u001b[39m asanyarray(func1d(inarr_view[ind0], \u001b[39m*\u001b[39;49margs, \u001b[39m*\u001b[39;49m\u001b[39m*\u001b[39;49mkwargs))\n\u001b[0;32m    381\u001b[0m \u001b[39m# build a buffer for storing evaluations of func1d.\u001b[39;00m\n\u001b[0;32m    382\u001b[0m \u001b[39m# remove the requested axis, and add the new ones on the end.\u001b[39;00m\n\u001b[0;32m    383\u001b[0m \u001b[39m# laid out so that each write is contiguous.\u001b[39;00m\n\u001b[0;32m    384\u001b[0m \u001b[39m# for a tuple index inds, buff[inds] = func1d(inarr_view[inds])\u001b[39;00m\n\u001b[0;32m    385\u001b[0m buff \u001b[39m=\u001b[39m zeros(inarr_view\u001b[39m.\u001b[39mshape[:\u001b[39m-\u001b[39m\u001b[39m1\u001b[39m] \u001b[39m+\u001b[39m res\u001b[39m.\u001b[39mshape, res\u001b[39m.\u001b[39mdtype)\n",
      "File \u001b[1;32m~\\AppData\\Roaming\\Python\\Python311\\site-packages\\pandas\\core\\missing.py:284\u001b[0m, in \u001b[0;36minterpolate_2d_with_fill.<locals>.func\u001b[1;34m(yvalues)\u001b[0m\n\u001b[0;32m    279\u001b[0m \u001b[39mdef\u001b[39;00m \u001b[39mfunc\u001b[39m(yvalues: np\u001b[39m.\u001b[39mndarray) \u001b[39m-\u001b[39m\u001b[39m>\u001b[39m np\u001b[39m.\u001b[39mndarray:\n\u001b[0;32m    280\u001b[0m     \u001b[39m# process 1-d slices in the axis direction, returning it\u001b[39;00m\n\u001b[0;32m    281\u001b[0m \n\u001b[0;32m    282\u001b[0m     \u001b[39m# should the axis argument be handled below in apply_along_axis?\u001b[39;00m\n\u001b[0;32m    283\u001b[0m     \u001b[39m# i.e. not an arg to interpolate_1d\u001b[39;00m\n\u001b[1;32m--> 284\u001b[0m     \u001b[39mreturn\u001b[39;00m interpolate_1d(\n\u001b[0;32m    285\u001b[0m         xvalues\u001b[39m=\u001b[39;49mindex,\n\u001b[0;32m    286\u001b[0m         yvalues\u001b[39m=\u001b[39;49myvalues,\n\u001b[0;32m    287\u001b[0m         method\u001b[39m=\u001b[39;49mmethod,\n\u001b[0;32m    288\u001b[0m         limit\u001b[39m=\u001b[39;49mlimit,\n\u001b[0;32m    289\u001b[0m         limit_direction\u001b[39m=\u001b[39;49mlimit_direction,\n\u001b[0;32m    290\u001b[0m         limit_area\u001b[39m=\u001b[39;49mlimit_area,\n\u001b[0;32m    291\u001b[0m         fill_value\u001b[39m=\u001b[39;49mfill_value,\n\u001b[0;32m    292\u001b[0m         bounds_error\u001b[39m=\u001b[39;49m\u001b[39mFalse\u001b[39;49;00m,\n\u001b[0;32m    293\u001b[0m         \u001b[39m*\u001b[39;49m\u001b[39m*\u001b[39;49mkwargs,\n\u001b[0;32m    294\u001b[0m     )\n",
      "File \u001b[1;32m~\\AppData\\Roaming\\Python\\Python311\\site-packages\\pandas\\core\\missing.py:342\u001b[0m, in \u001b[0;36minterpolate_1d\u001b[1;34m(xvalues, yvalues, method, limit, limit_direction, limit_area, fill_value, bounds_error, order, **kwargs)\u001b[0m\n\u001b[0;32m    340\u001b[0m limit_direction \u001b[39m=\u001b[39m limit_direction\u001b[39m.\u001b[39mlower()\n\u001b[0;32m    341\u001b[0m \u001b[39mif\u001b[39;00m limit_direction \u001b[39mnot\u001b[39;00m \u001b[39min\u001b[39;00m valid_limit_directions:\n\u001b[1;32m--> 342\u001b[0m     \u001b[39mraise\u001b[39;00m \u001b[39mValueError\u001b[39;00m(\n\u001b[0;32m    343\u001b[0m         \u001b[39m\"\u001b[39m\u001b[39mInvalid limit_direction: expecting one of \u001b[39m\u001b[39m\"\u001b[39m\n\u001b[0;32m    344\u001b[0m         \u001b[39mf\u001b[39m\u001b[39m\"\u001b[39m\u001b[39m{\u001b[39;00mvalid_limit_directions\u001b[39m}\u001b[39;00m\u001b[39m, got \u001b[39m\u001b[39m'\u001b[39m\u001b[39m{\u001b[39;00mlimit_direction\u001b[39m}\u001b[39;00m\u001b[39m'\u001b[39m\u001b[39m.\u001b[39m\u001b[39m\"\u001b[39m\n\u001b[0;32m    345\u001b[0m     )\n\u001b[0;32m    347\u001b[0m \u001b[39mif\u001b[39;00m limit_area \u001b[39mis\u001b[39;00m \u001b[39mnot\u001b[39;00m \u001b[39mNone\u001b[39;00m:\n\u001b[0;32m    348\u001b[0m     valid_limit_areas \u001b[39m=\u001b[39m [\u001b[39m\"\u001b[39m\u001b[39minside\u001b[39m\u001b[39m\"\u001b[39m, \u001b[39m\"\u001b[39m\u001b[39moutside\u001b[39m\u001b[39m\"\u001b[39m]\n",
      "\u001b[1;31mValueError\u001b[0m: Invalid limit_direction: expecting one of ['forward', 'backward', 'both'], got 'nearest'."
     ]
    }
   ],
   "source": [
    "# Example 20: Interpolation with Time-based Limit Direction (Nearest)\n",
    "date_rng = pd.date_range(start='2023-01-01', end='2023-01-05', freq='D')\n",
    "df_time_limit_dir = pd.DataFrame({'A': [1, np.nan, 3, 4, 5]}, index=date_rng)\n",
    "df_time_limit_dir_interpolated = df_time_limit_dir.interpolate(limit_direction='nearest')\n",
    "print(\"Example 20: Interpolation with Time-based Limit Direction (Nearest)\")\n",
    "print(df_time_limit_dir_interpolated)"
   ]
  }
 ],
 "metadata": {
  "kernelspec": {
   "display_name": "Python 3",
   "language": "python",
   "name": "python3"
  },
  "language_info": {
   "codemirror_mode": {
    "name": "ipython",
    "version": 3
   },
   "file_extension": ".py",
   "mimetype": "text/x-python",
   "name": "python",
   "nbconvert_exporter": "python",
   "pygments_lexer": "ipython3",
   "version": "3.11.2"
  },
  "orig_nbformat": 4
 },
 "nbformat": 4,
 "nbformat_minor": 2
}
