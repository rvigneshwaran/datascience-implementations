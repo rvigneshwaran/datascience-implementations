{
 "cells": [
  {
   "cell_type": "code",
   "execution_count": 32,
   "metadata": {},
   "outputs": [],
   "source": [
    "import pandas as pd\n",
    "import numpy as np"
   ]
  },
  {
   "cell_type": "code",
   "execution_count": 33,
   "metadata": {},
   "outputs": [
    {
     "name": "stdout",
     "output_type": "stream",
     "text": [
      "Example 1:\n",
      "0.8202857971191406\n"
     ]
    }
   ],
   "source": [
    "# Example 1: Generate a large DataFrame with random data\n",
    "np.random.seed(42)\n",
    "num_rows = 10000\n",
    "data = {\n",
    "    'A': np.random.randint(1, 100, num_rows),\n",
    "    'B': np.random.rand(num_rows),\n",
    "    'C': np.random.choice(['Category1', 'Category2', 'Category3'], num_rows),\n",
    "    'D': pd.date_range(start='2023-01-01', periods=num_rows, freq='D')\n",
    "}\n",
    "df = pd.DataFrame(data)\n",
    "print(\"Example 1:\")\n",
    "print(df.memory_usage(deep=True).sum() / (1024 ** 2))  # Memory usage in MB"
   ]
  },
  {
   "cell_type": "code",
   "execution_count": 34,
   "metadata": {},
   "outputs": [
    {
     "name": "stdout",
     "output_type": "stream",
     "text": [
      "\n",
      "Example 2:\n",
      "0.7630653381347656\n"
     ]
    }
   ],
   "source": [
    "# Example 2: Convert data types to reduce memory usage\n",
    "df['A'] = df['A'].astype('int32')\n",
    "df['B'] = df['B'].astype('int16')\n",
    "print(\"\\nExample 2:\")\n",
    "print(df.memory_usage(deep=True).sum() / (1024 ** 2))  # Memory usage in MB\n"
   ]
  },
  {
   "cell_type": "code",
   "execution_count": 35,
   "metadata": {},
   "outputs": [
    {
     "name": "stdout",
     "output_type": "stream",
     "text": [
      "\n",
      "Example 3:\n",
      "0.8584327697753906\n"
     ]
    }
   ],
   "source": [
    "# Example 3: Use 'parse_dates' parameter when reading CSV\n",
    "df.to_csv('large_data.csv', index=False)\n",
    "df_csv = pd.read_csv('large_data.csv', parse_dates=['D'])\n",
    "print(\"\\nExample 3:\")\n",
    "print(df_csv.memory_usage(deep=True).sum() / (1024 ** 2))  # Memory usage in MB\n"
   ]
  },
  {
   "cell_type": "code",
   "execution_count": 36,
   "metadata": {},
   "outputs": [
    {
     "name": "stdout",
     "output_type": "stream",
     "text": [
      "\n",
      "Example 4:\n",
      "0.8584327697753906\n"
     ]
    }
   ],
   "source": [
    "# Example 4: Reduce memory usage with chunking\n",
    "chunk_size = 1000000\n",
    "df_chunk = pd.read_csv('large_data.csv', parse_dates=['D'], chunksize=chunk_size)\n",
    "total_memory_usage = 0\n",
    "for chunk in df_chunk:\n",
    "    total_memory_usage += chunk.memory_usage(deep=True).sum()\n",
    "print(\"\\nExample 4:\")\n",
    "print(total_memory_usage / (1024 ** 2))  # Memory usage in MB\n"
   ]
  },
  {
   "cell_type": "code",
   "execution_count": 37,
   "metadata": {},
   "outputs": [
    {
     "name": "stdout",
     "output_type": "stream",
     "text": [
      "\n",
      "Example 6:\n",
      "0.14346885681152344\n"
     ]
    }
   ],
   "source": [
    "# Example 5: Convert text columns to Categorical\n",
    "df['C'] = df['C'].astype('category')\n",
    "print(\"\\nExample 6:\")\n",
    "print(df.memory_usage(deep=True).sum() / (1024 ** 2))  # Memory usage in MB"
   ]
  },
  {
   "cell_type": "markdown",
   "metadata": {},
   "source": [
    "```python\n",
    "# Example 6: Remove unused columns\n",
    "df.drop(columns=['C'], inplace=True)\n",
    "print(\"\\nExample 5:\")\n",
    "print(df.memory_usage(deep=True).sum() / (1024 ** 2))  # Memory usage in MB\n",
    "```"
   ]
  },
  {
   "cell_type": "code",
   "execution_count": 38,
   "metadata": {},
   "outputs": [
    {
     "name": "stdout",
     "output_type": "stream",
     "text": [
      "\n",
      "Example 7:\n",
      "0.14346885681152344\n"
     ]
    }
   ],
   "source": [
    "# Example 7: Downsizing DataFrame - Splitting into smaller DataFrames\n",
    "df_list = [df.iloc[i:i+1000000] for i in range(0, len(df), 1000000)]\n",
    "print(\"\\nExample 7:\")\n",
    "print(df_list[0].memory_usage(deep=True).sum() / (1024 ** 2))  # Memory usage in MB\n"
   ]
  },
  {
   "cell_type": "code",
   "execution_count": 39,
   "metadata": {},
   "outputs": [
    {
     "name": "stdout",
     "output_type": "stream",
     "text": [
      "\n",
      "Example 8:\n",
      "0.18161582946777344\n"
     ]
    }
   ],
   "source": [
    "# Example 8: Use SparseDataFrame for mostly zero or missing values\n",
    "df_sparse = df.copy()\n",
    "df_sparse['A'] = pd.arrays.SparseArray(df_sparse['A'])\n",
    "print(\"\\nExample 8:\")\n",
    "print(df_sparse.memory_usage(deep=True).sum() / (1024 ** 2))  # Memory usage in MB\n"
   ]
  },
  {
   "cell_type": "code",
   "execution_count": 40,
   "metadata": {},
   "outputs": [
    {
     "name": "stdout",
     "output_type": "stream",
     "text": [
      "\n",
      "Example 9:\n",
      "0.14317703247070312\n"
     ]
    }
   ],
   "source": [
    "# Example 9: Encoding categorical variables with integer encoding\n",
    "df['C'] = df['C'].cat.codes\n",
    "print(\"\\nExample 9:\")\n",
    "print(df.memory_usage(deep=True).sum() / (1024 ** 2))  # Memory usage in MB\n",
    "\n"
   ]
  },
  {
   "cell_type": "code",
   "execution_count": 41,
   "metadata": {},
   "outputs": [
    {
     "name": "stdout",
     "output_type": "stream",
     "text": [
      "\n",
      "Example 10:\n",
      "0.16225051879882812\n"
     ]
    }
   ],
   "source": [
    "# Example 10: Encoding categorical variables with one-hot encoding\n",
    "df_one_hot = pd.get_dummies(df, columns=['C'])\n",
    "print(\"\\nExample 10:\")\n",
    "print(df_one_hot.memory_usage(deep=True).sum() / (1024 ** 2))  # Memory usage in MB"
   ]
  },
  {
   "cell_type": "code",
   "execution_count": 42,
   "metadata": {},
   "outputs": [
    {
     "name": "stdout",
     "output_type": "stream",
     "text": [
      "\n",
      "Example 11:\n",
      "0.13364028930664062\n"
     ]
    }
   ],
   "source": [
    "# Example 11: Use pd.to_numeric for numeric columns\n",
    "df_numeric = df.copy()\n",
    "df_numeric['A'] = pd.to_numeric(df_numeric['A'])\n",
    "df_numeric['B'] = pd.to_numeric(df_numeric['B'], downcast='integer')\n",
    "print(\"\\nExample 11:\")\n",
    "print(df_numeric.memory_usage(deep=True).sum() / (1024 ** 2))  # Memory usage in MB\n"
   ]
  },
  {
   "cell_type": "code",
   "execution_count": 43,
   "metadata": {},
   "outputs": [
    {
     "name": "stdout",
     "output_type": "stream",
     "text": [
      "\n",
      "Example 12:\n",
      "0.11456680297851562\n"
     ]
    },
    {
     "name": "stderr",
     "output_type": "stream",
     "text": [
      "C:\\Users\\rvign\\AppData\\Local\\Temp\\ipykernel_12780\\466472616.py:4: FutureWarning: Passing unit-less datetime64 dtype to .astype is deprecated and will raise in a future version. Pass 'datetime64[ns]' instead\n",
      "  df['D'] = df['D'].astype('datetime64')\n"
     ]
    }
   ],
   "source": [
    "# Example 12: Use astype to optimize memory usage\n",
    "df['A'] = df['A'].astype('int8')\n",
    "df['B'] = df['B'].astype('int16')\n",
    "df['D'] = df['D'].astype('datetime64')\n",
    "print(\"\\nExample 12:\")\n",
    "print(df.memory_usage(deep=True).sum() / (1024 ** 2))  # Memory usage in MB\n"
   ]
  },
  {
   "cell_type": "code",
   "execution_count": 44,
   "metadata": {},
   "outputs": [
    {
     "name": "stdout",
     "output_type": "stream",
     "text": [
      "\n",
      "Example 13:\n",
      "1.52587890625e-05\n"
     ]
    }
   ],
   "source": [
    "# Example 13: Memory reduction during aggregation\n",
    "grouped_mean = df.groupby('B')['A'].mean()\n",
    "print(\"\\nExample 13:\")\n",
    "print(grouped_mean.memory_usage(deep=True) / (1024 ** 2))  # Memory usage in MB\n"
   ]
  },
  {
   "cell_type": "code",
   "execution_count": 46,
   "metadata": {},
   "outputs": [
    {
     "name": "stdout",
     "output_type": "stream",
     "text": [
      "\n",
      "Example 14:\n",
      "0.19073486328125\n"
     ]
    }
   ],
   "source": [
    "# Example 14: Store DataFrames in HDF5 format\n",
    "df.to_hdf('large_data.h5', key='df', mode='w')\n",
    "df_hdf = pd.read_hdf('large_data.h5', key='df')\n",
    "print(\"\\nExample 14:\")\n",
    "print(df_hdf.memory_usage(deep=True).sum() / (1024 ** 2))  # Memory usage in MB\n"
   ]
  },
  {
   "cell_type": "code",
   "execution_count": 47,
   "metadata": {},
   "outputs": [
    {
     "name": "stdout",
     "output_type": "stream",
     "text": [
      "\n",
      "Example 15:\n",
      "0.3053016662597656\n"
     ]
    }
   ],
   "source": [
    "# Example 15: Compress DataFrames using gzip or bzip2\n",
    "df.to_csv('large_data.csv.gz', index=False, compression='gzip')\n",
    "df_gzip = pd.read_csv('large_data.csv.gz', parse_dates=['D'])\n",
    "print(\"\\nExample 15:\")\n",
    "print(df_gzip.memory_usage(deep=True).sum() / (1024 ** 2))  # Memory usage in MB\n"
   ]
  },
  {
   "cell_type": "code",
   "execution_count": 48,
   "metadata": {},
   "outputs": [
    {
     "name": "stdout",
     "output_type": "stream",
     "text": [
      "\n",
      "Example 16:\n",
      "0.19073486328125\n"
     ]
    }
   ],
   "source": [
    "# Example 16: Remove duplicate values\n",
    "df.drop_duplicates(inplace=True)\n",
    "print(\"\\nExample 16:\")\n",
    "print(df.memory_usage(deep=True).sum() / (1024 ** 2))  # Memory usage in MB\n"
   ]
  },
  {
   "cell_type": "code",
   "execution_count": 49,
   "metadata": {},
   "outputs": [
    {
     "name": "stdout",
     "output_type": "stream",
     "text": [
      "\n",
      "Example 17:\n",
      "0.19073486328125\n"
     ]
    }
   ],
   "source": [
    "# Example 17: Reusing DataFrame's memory using copy\n",
    "df_copy = df.copy()\n",
    "print(\"\\nExample 17:\")\n",
    "print(df_copy.memory_usage(deep=True).sum() / (1024 ** 2))  # Memory usage in MB\n"
   ]
  },
  {
   "cell_type": "code",
   "execution_count": 51,
   "metadata": {},
   "outputs": [
    {
     "name": "stdout",
     "output_type": "stream",
     "text": [
      "\n",
      "Example 18:\n",
      "1.4211006164550781\n"
     ]
    }
   ],
   "source": [
    "# Example 18: Using external memory storage with Dask DataFrame\n",
    "import dask.dataframe as dd\n",
    "df_dask = dd.read_csv('large_data.csv')\n",
    "print(\"\\nExample 18:\")\n",
    "print(df_dask.memory_usage(deep=True).sum().compute() / (1024 ** 2))  # Memory usage in MB\n"
   ]
  },
  {
   "cell_type": "code",
   "execution_count": 52,
   "metadata": {},
   "outputs": [
    {
     "name": "stdout",
     "output_type": "stream",
     "text": [
      "\n",
      "Example 19:\n",
      "0.7343292236328125\n"
     ]
    }
   ],
   "source": [
    "# Example 19: Avoid using 'object' data type\n",
    "df_no_object = df.copy()\n",
    "df_no_object['C'] = df_no_object['C'].astype('string')\n",
    "print(\"\\nExample 19:\")\n",
    "print(df_no_object.memory_usage(deep=True).sum() / (1024 ** 2))  # Memory usage in MB\n"
   ]
  },
  {
   "cell_type": "code",
   "execution_count": 53,
   "metadata": {},
   "outputs": [
    {
     "name": "stdout",
     "output_type": "stream",
     "text": [
      "\n",
      "Example 20:\n",
      "0.209808349609375\n"
     ]
    }
   ],
   "source": [
    "# Example 20: Using custom data types\n",
    "df_custom = df.copy()\n",
    "df_custom['A'] = df_custom['A'].astype(pd.UInt16Dtype())\n",
    "print(\"\\nExample 20:\")\n",
    "print(df_custom.memory_usage(deep=True).sum() / (1024 ** 2))  # Memory usage in MB\n"
   ]
  },
  {
   "cell_type": "code",
   "execution_count": 54,
   "metadata": {},
   "outputs": [
    {
     "name": "stdout",
     "output_type": "stream",
     "text": [
      "\n",
      "Example 21:\n",
      "0.21947097778320312\n"
     ]
    },
    {
     "name": "stderr",
     "output_type": "stream",
     "text": [
      "C:\\Users\\rvign\\AppData\\Local\\Temp\\ipykernel_12780\\1077621493.py:9: FutureWarning: Passing unit-less datetime64 dtype to .astype is deprecated and will raise in a future version. Pass 'datetime64[ns]' instead\n",
      "  df_dict = df_dict.astype(data_types)\n"
     ]
    }
   ],
   "source": [
    "# Example 21: Memory optimization using dictionary of columns\n",
    "df_dict = df.copy()\n",
    "data_types = {\n",
    "    'A': 'int32',\n",
    "    'B': 'int16',\n",
    "    'C': 'category',\n",
    "    'D': 'datetime64'\n",
    "}\n",
    "df_dict = df_dict.astype(data_types)\n",
    "print(\"\\nExample 21:\")\n",
    "print(df_dict.memory_usage(deep=True).sum() / (1024 ** 2))  # Memory usage in MB\n"
   ]
  },
  {
   "cell_type": "code",
   "execution_count": 55,
   "metadata": {},
   "outputs": [
    {
     "ename": "AttributeError",
     "evalue": "Can only use .str accessor with string values!",
     "output_type": "error",
     "traceback": [
      "\u001b[1;31m---------------------------------------------------------------------------\u001b[0m",
      "\u001b[1;31mAttributeError\u001b[0m                            Traceback (most recent call last)",
      "Cell \u001b[1;32mIn[55], line 3\u001b[0m\n\u001b[0;32m      1\u001b[0m \u001b[39m# Example 22: Splitting string columns to reduce memory usage\u001b[39;00m\n\u001b[0;32m      2\u001b[0m df_split \u001b[39m=\u001b[39m df\u001b[39m.\u001b[39mcopy()\n\u001b[1;32m----> 3\u001b[0m df_split[[\u001b[39m'\u001b[39m\u001b[39mC1\u001b[39m\u001b[39m'\u001b[39m, \u001b[39m'\u001b[39m\u001b[39mC2\u001b[39m\u001b[39m'\u001b[39m, \u001b[39m'\u001b[39m\u001b[39mC3\u001b[39m\u001b[39m'\u001b[39m]] \u001b[39m=\u001b[39m df_split[\u001b[39m'\u001b[39;49m\u001b[39mC\u001b[39;49m\u001b[39m'\u001b[39;49m]\u001b[39m.\u001b[39;49mstr\u001b[39m.\u001b[39msplit(\u001b[39m'\u001b[39m\u001b[39m \u001b[39m\u001b[39m'\u001b[39m, expand\u001b[39m=\u001b[39m\u001b[39mTrue\u001b[39;00m)\n\u001b[0;32m      4\u001b[0m df_split\u001b[39m.\u001b[39mdrop(columns\u001b[39m=\u001b[39m[\u001b[39m'\u001b[39m\u001b[39mC\u001b[39m\u001b[39m'\u001b[39m], inplace\u001b[39m=\u001b[39m\u001b[39mTrue\u001b[39;00m)\n\u001b[0;32m      5\u001b[0m df_split[\u001b[39m'\u001b[39m\u001b[39mC2\u001b[39m\u001b[39m'\u001b[39m] \u001b[39m=\u001b[39m df_split[\u001b[39m'\u001b[39m\u001b[39mC2\u001b[39m\u001b[39m'\u001b[39m]\u001b[39m.\u001b[39mastype(\u001b[39m'\u001b[39m\u001b[39mcategory\u001b[39m\u001b[39m'\u001b[39m)\n",
      "File \u001b[1;32mc:\\Program Files\\Python311\\Lib\\site-packages\\pandas\\core\\generic.py:5902\u001b[0m, in \u001b[0;36mNDFrame.__getattr__\u001b[1;34m(self, name)\u001b[0m\n\u001b[0;32m   5895\u001b[0m \u001b[39mif\u001b[39;00m (\n\u001b[0;32m   5896\u001b[0m     name \u001b[39mnot\u001b[39;00m \u001b[39min\u001b[39;00m \u001b[39mself\u001b[39m\u001b[39m.\u001b[39m_internal_names_set\n\u001b[0;32m   5897\u001b[0m     \u001b[39mand\u001b[39;00m name \u001b[39mnot\u001b[39;00m \u001b[39min\u001b[39;00m \u001b[39mself\u001b[39m\u001b[39m.\u001b[39m_metadata\n\u001b[0;32m   5898\u001b[0m     \u001b[39mand\u001b[39;00m name \u001b[39mnot\u001b[39;00m \u001b[39min\u001b[39;00m \u001b[39mself\u001b[39m\u001b[39m.\u001b[39m_accessors\n\u001b[0;32m   5899\u001b[0m     \u001b[39mand\u001b[39;00m \u001b[39mself\u001b[39m\u001b[39m.\u001b[39m_info_axis\u001b[39m.\u001b[39m_can_hold_identifiers_and_holds_name(name)\n\u001b[0;32m   5900\u001b[0m ):\n\u001b[0;32m   5901\u001b[0m     \u001b[39mreturn\u001b[39;00m \u001b[39mself\u001b[39m[name]\n\u001b[1;32m-> 5902\u001b[0m \u001b[39mreturn\u001b[39;00m \u001b[39mobject\u001b[39;49m\u001b[39m.\u001b[39;49m\u001b[39m__getattribute__\u001b[39;49m(\u001b[39mself\u001b[39;49m, name)\n",
      "File \u001b[1;32mc:\\Program Files\\Python311\\Lib\\site-packages\\pandas\\core\\accessor.py:182\u001b[0m, in \u001b[0;36mCachedAccessor.__get__\u001b[1;34m(self, obj, cls)\u001b[0m\n\u001b[0;32m    179\u001b[0m \u001b[39mif\u001b[39;00m obj \u001b[39mis\u001b[39;00m \u001b[39mNone\u001b[39;00m:\n\u001b[0;32m    180\u001b[0m     \u001b[39m# we're accessing the attribute of the class, i.e., Dataset.geo\u001b[39;00m\n\u001b[0;32m    181\u001b[0m     \u001b[39mreturn\u001b[39;00m \u001b[39mself\u001b[39m\u001b[39m.\u001b[39m_accessor\n\u001b[1;32m--> 182\u001b[0m accessor_obj \u001b[39m=\u001b[39m \u001b[39mself\u001b[39;49m\u001b[39m.\u001b[39;49m_accessor(obj)\n\u001b[0;32m    183\u001b[0m \u001b[39m# Replace the property with the accessor object. Inspired by:\u001b[39;00m\n\u001b[0;32m    184\u001b[0m \u001b[39m# https://www.pydanny.com/cached-property.html\u001b[39;00m\n\u001b[0;32m    185\u001b[0m \u001b[39m# We need to use object.__setattr__ because we overwrite __setattr__ on\u001b[39;00m\n\u001b[0;32m    186\u001b[0m \u001b[39m# NDFrame\u001b[39;00m\n\u001b[0;32m    187\u001b[0m \u001b[39mobject\u001b[39m\u001b[39m.\u001b[39m\u001b[39m__setattr__\u001b[39m(obj, \u001b[39mself\u001b[39m\u001b[39m.\u001b[39m_name, accessor_obj)\n",
      "File \u001b[1;32mc:\\Program Files\\Python311\\Lib\\site-packages\\pandas\\core\\strings\\accessor.py:181\u001b[0m, in \u001b[0;36mStringMethods.__init__\u001b[1;34m(self, data)\u001b[0m\n\u001b[0;32m    178\u001b[0m \u001b[39mdef\u001b[39;00m \u001b[39m__init__\u001b[39m(\u001b[39mself\u001b[39m, data) \u001b[39m-\u001b[39m\u001b[39m>\u001b[39m \u001b[39mNone\u001b[39;00m:\n\u001b[0;32m    179\u001b[0m     \u001b[39mfrom\u001b[39;00m \u001b[39mpandas\u001b[39;00m\u001b[39m.\u001b[39;00m\u001b[39mcore\u001b[39;00m\u001b[39m.\u001b[39;00m\u001b[39marrays\u001b[39;00m\u001b[39m.\u001b[39;00m\u001b[39mstring_\u001b[39;00m \u001b[39mimport\u001b[39;00m StringDtype\n\u001b[1;32m--> 181\u001b[0m     \u001b[39mself\u001b[39m\u001b[39m.\u001b[39m_inferred_dtype \u001b[39m=\u001b[39m \u001b[39mself\u001b[39;49m\u001b[39m.\u001b[39;49m_validate(data)\n\u001b[0;32m    182\u001b[0m     \u001b[39mself\u001b[39m\u001b[39m.\u001b[39m_is_categorical \u001b[39m=\u001b[39m is_categorical_dtype(data\u001b[39m.\u001b[39mdtype)\n\u001b[0;32m    183\u001b[0m     \u001b[39mself\u001b[39m\u001b[39m.\u001b[39m_is_string \u001b[39m=\u001b[39m \u001b[39misinstance\u001b[39m(data\u001b[39m.\u001b[39mdtype, StringDtype)\n",
      "File \u001b[1;32mc:\\Program Files\\Python311\\Lib\\site-packages\\pandas\\core\\strings\\accessor.py:235\u001b[0m, in \u001b[0;36mStringMethods._validate\u001b[1;34m(data)\u001b[0m\n\u001b[0;32m    232\u001b[0m inferred_dtype \u001b[39m=\u001b[39m lib\u001b[39m.\u001b[39minfer_dtype(values, skipna\u001b[39m=\u001b[39m\u001b[39mTrue\u001b[39;00m)\n\u001b[0;32m    234\u001b[0m \u001b[39mif\u001b[39;00m inferred_dtype \u001b[39mnot\u001b[39;00m \u001b[39min\u001b[39;00m allowed_types:\n\u001b[1;32m--> 235\u001b[0m     \u001b[39mraise\u001b[39;00m \u001b[39mAttributeError\u001b[39;00m(\u001b[39m\"\u001b[39m\u001b[39mCan only use .str accessor with string values!\u001b[39m\u001b[39m\"\u001b[39m)\n\u001b[0;32m    236\u001b[0m \u001b[39mreturn\u001b[39;00m inferred_dtype\n",
      "\u001b[1;31mAttributeError\u001b[0m: Can only use .str accessor with string values!"
     ]
    }
   ],
   "source": [
    "# Example 22: Splitting string columns to reduce memory usage\n",
    "df_split = df.copy()\n",
    "df_split[['C1', 'C2', 'C3']] = df_split['C'].str.split(' ', expand=True)\n",
    "df_split.drop(columns=['C'], inplace=True)\n",
    "df_split['C2'] = df_split['C2'].astype('category')\n",
    "print(\"\\nExample 22:\")\n",
    "print(df_split.memory_usage(deep=True).sum() / (1024 ** 2))  # Memory usage in MB\n"
   ]
  },
  {
   "cell_type": "code",
   "execution_count": 56,
   "metadata": {},
   "outputs": [
    {
     "ename": "UFuncTypeError",
     "evalue": "ufunc 'add' did not contain a loop with signature matching types (dtype('int8'), dtype('<U24')) -> None",
     "output_type": "error",
     "traceback": [
      "\u001b[1;31m---------------------------------------------------------------------------\u001b[0m",
      "\u001b[1;31mUFuncTypeError\u001b[0m                            Traceback (most recent call last)",
      "Cell \u001b[1;32mIn[56], line 3\u001b[0m\n\u001b[0;32m      1\u001b[0m \u001b[39m# Example 23: Use 'object' dtype with large string data\u001b[39;00m\n\u001b[0;32m      2\u001b[0m df_large_str \u001b[39m=\u001b[39m df\u001b[39m.\u001b[39mcopy()\n\u001b[1;32m----> 3\u001b[0m df_large_str[\u001b[39m'\u001b[39m\u001b[39mC\u001b[39m\u001b[39m'\u001b[39m] \u001b[39m=\u001b[39m df_large_str[\u001b[39m'\u001b[39;49m\u001b[39mC\u001b[39;49m\u001b[39m'\u001b[39;49m] \u001b[39m+\u001b[39;49m \u001b[39m'\u001b[39;49m\u001b[39m Extra Large String Data\u001b[39;49m\u001b[39m'\u001b[39;49m\n\u001b[0;32m      4\u001b[0m \u001b[39mprint\u001b[39m(\u001b[39m\"\u001b[39m\u001b[39m\\n\u001b[39;00m\u001b[39mExample 23:\u001b[39m\u001b[39m\"\u001b[39m)\n\u001b[0;32m      5\u001b[0m \u001b[39mprint\u001b[39m(df_large_str\u001b[39m.\u001b[39mmemory_usage(deep\u001b[39m=\u001b[39m\u001b[39mTrue\u001b[39;00m)\u001b[39m.\u001b[39msum() \u001b[39m/\u001b[39m (\u001b[39m1024\u001b[39m \u001b[39m*\u001b[39m\u001b[39m*\u001b[39m \u001b[39m2\u001b[39m))  \u001b[39m# Memory usage in MB\u001b[39;00m\n",
      "File \u001b[1;32mc:\\Program Files\\Python311\\Lib\\site-packages\\pandas\\core\\ops\\common.py:72\u001b[0m, in \u001b[0;36m_unpack_zerodim_and_defer.<locals>.new_method\u001b[1;34m(self, other)\u001b[0m\n\u001b[0;32m     68\u001b[0m             \u001b[39mreturn\u001b[39;00m \u001b[39mNotImplemented\u001b[39m\n\u001b[0;32m     70\u001b[0m other \u001b[39m=\u001b[39m item_from_zerodim(other)\n\u001b[1;32m---> 72\u001b[0m \u001b[39mreturn\u001b[39;00m method(\u001b[39mself\u001b[39;49m, other)\n",
      "File \u001b[1;32mc:\\Program Files\\Python311\\Lib\\site-packages\\pandas\\core\\arraylike.py:102\u001b[0m, in \u001b[0;36mOpsMixin.__add__\u001b[1;34m(self, other)\u001b[0m\n\u001b[0;32m    100\u001b[0m \u001b[39m@unpack_zerodim_and_defer\u001b[39m(\u001b[39m\"\u001b[39m\u001b[39m__add__\u001b[39m\u001b[39m\"\u001b[39m)\n\u001b[0;32m    101\u001b[0m \u001b[39mdef\u001b[39;00m \u001b[39m__add__\u001b[39m(\u001b[39mself\u001b[39m, other):\n\u001b[1;32m--> 102\u001b[0m     \u001b[39mreturn\u001b[39;00m \u001b[39mself\u001b[39;49m\u001b[39m.\u001b[39;49m_arith_method(other, operator\u001b[39m.\u001b[39;49madd)\n",
      "File \u001b[1;32mc:\\Program Files\\Python311\\Lib\\site-packages\\pandas\\core\\series.py:6259\u001b[0m, in \u001b[0;36mSeries._arith_method\u001b[1;34m(self, other, op)\u001b[0m\n\u001b[0;32m   6257\u001b[0m \u001b[39mdef\u001b[39;00m \u001b[39m_arith_method\u001b[39m(\u001b[39mself\u001b[39m, other, op):\n\u001b[0;32m   6258\u001b[0m     \u001b[39mself\u001b[39m, other \u001b[39m=\u001b[39m ops\u001b[39m.\u001b[39malign_method_SERIES(\u001b[39mself\u001b[39m, other)\n\u001b[1;32m-> 6259\u001b[0m     \u001b[39mreturn\u001b[39;00m base\u001b[39m.\u001b[39;49mIndexOpsMixin\u001b[39m.\u001b[39;49m_arith_method(\u001b[39mself\u001b[39;49m, other, op)\n",
      "File \u001b[1;32mc:\\Program Files\\Python311\\Lib\\site-packages\\pandas\\core\\base.py:1325\u001b[0m, in \u001b[0;36mIndexOpsMixin._arith_method\u001b[1;34m(self, other, op)\u001b[0m\n\u001b[0;32m   1322\u001b[0m rvalues \u001b[39m=\u001b[39m ensure_wrapped_if_datetimelike(rvalues)\n\u001b[0;32m   1324\u001b[0m \u001b[39mwith\u001b[39;00m np\u001b[39m.\u001b[39merrstate(\u001b[39mall\u001b[39m\u001b[39m=\u001b[39m\u001b[39m\"\u001b[39m\u001b[39mignore\u001b[39m\u001b[39m\"\u001b[39m):\n\u001b[1;32m-> 1325\u001b[0m     result \u001b[39m=\u001b[39m ops\u001b[39m.\u001b[39;49marithmetic_op(lvalues, rvalues, op)\n\u001b[0;32m   1327\u001b[0m \u001b[39mreturn\u001b[39;00m \u001b[39mself\u001b[39m\u001b[39m.\u001b[39m_construct_result(result, name\u001b[39m=\u001b[39mres_name)\n",
      "File \u001b[1;32mc:\\Program Files\\Python311\\Lib\\site-packages\\pandas\\core\\ops\\array_ops.py:226\u001b[0m, in \u001b[0;36marithmetic_op\u001b[1;34m(left, right, op)\u001b[0m\n\u001b[0;32m    222\u001b[0m     _bool_arith_check(op, left, right)\n\u001b[0;32m    224\u001b[0m     \u001b[39m# error: Argument 1 to \"_na_arithmetic_op\" has incompatible type\u001b[39;00m\n\u001b[0;32m    225\u001b[0m     \u001b[39m# \"Union[ExtensionArray, ndarray[Any, Any]]\"; expected \"ndarray[Any, Any]\"\u001b[39;00m\n\u001b[1;32m--> 226\u001b[0m     res_values \u001b[39m=\u001b[39m _na_arithmetic_op(left, right, op)  \u001b[39m# type: ignore[arg-type]\u001b[39;00m\n\u001b[0;32m    228\u001b[0m \u001b[39mreturn\u001b[39;00m res_values\n",
      "File \u001b[1;32mc:\\Program Files\\Python311\\Lib\\site-packages\\pandas\\core\\ops\\array_ops.py:165\u001b[0m, in \u001b[0;36m_na_arithmetic_op\u001b[1;34m(left, right, op, is_cmp)\u001b[0m\n\u001b[0;32m    162\u001b[0m     func \u001b[39m=\u001b[39m partial(expressions\u001b[39m.\u001b[39mevaluate, op)\n\u001b[0;32m    164\u001b[0m \u001b[39mtry\u001b[39;00m:\n\u001b[1;32m--> 165\u001b[0m     result \u001b[39m=\u001b[39m func(left, right)\n\u001b[0;32m    166\u001b[0m \u001b[39mexcept\u001b[39;00m \u001b[39mTypeError\u001b[39;00m:\n\u001b[0;32m    167\u001b[0m     \u001b[39mif\u001b[39;00m \u001b[39mnot\u001b[39;00m is_cmp \u001b[39mand\u001b[39;00m (is_object_dtype(left\u001b[39m.\u001b[39mdtype) \u001b[39mor\u001b[39;00m is_object_dtype(right)):\n\u001b[0;32m    168\u001b[0m         \u001b[39m# For object dtype, fallback to a masked operation (only operating\u001b[39;00m\n\u001b[0;32m    169\u001b[0m         \u001b[39m#  on the non-missing values)\u001b[39;00m\n\u001b[0;32m    170\u001b[0m         \u001b[39m# Don't do this for comparisons, as that will handle complex numbers\u001b[39;00m\n\u001b[0;32m    171\u001b[0m         \u001b[39m#  incorrectly, see GH#32047\u001b[39;00m\n",
      "\u001b[1;31mUFuncTypeError\u001b[0m: ufunc 'add' did not contain a loop with signature matching types (dtype('int8'), dtype('<U24')) -> None"
     ]
    }
   ],
   "source": [
    "# Example 23: Use 'object' dtype with large string data\n",
    "df_large_str = df.copy()\n",
    "df_large_str['C'] = df_large_str['C'] + ' Extra Large String Data'\n",
    "print(\"\\nExample 23:\")\n",
    "print(df_large_str.memory_usage(deep=True).sum() / (1024 ** 2))  # Memory usage in MB\n"
   ]
  },
  {
   "cell_type": "code",
   "execution_count": 57,
   "metadata": {},
   "outputs": [
    {
     "name": "stdout",
     "output_type": "stream",
     "text": [
      "\n",
      "Example 24:\n",
      "0.19073486328125\n"
     ]
    }
   ],
   "source": [
    "# Example 24: Using datetime-specific data types\n",
    "df_datetime = df.copy()\n",
    "df_datetime['D'] = pd.to_datetime(df_datetime['D'], format='%Y-%m-%d')\n",
    "print(\"\\nExample 24:\")\n",
    "print(df_datetime.memory_usage(deep=True).sum() / (1024 ** 2))  # Memory usage in MB\n"
   ]
  },
  {
   "cell_type": "code",
   "execution_count": 58,
   "metadata": {},
   "outputs": [
    {
     "name": "stdout",
     "output_type": "stream",
     "text": [
      "\n",
      "Example 25:\n",
      "0.2288818359375\n"
     ]
    }
   ],
   "source": [
    "# Example 25: Converting numeric columns to unsigned data types\n",
    "df_unsigned = df.copy()\n",
    "df_unsigned['A'] = df_unsigned['A'].astype(pd.UInt32Dtype())\n",
    "print(\"\\nExample 25:\")\n",
    "print(df_unsigned.memory_usage(deep=True).sum() / (1024 ** 2))  # Memory usage in MB"
   ]
  }
 ],
 "metadata": {
  "kernelspec": {
   "display_name": "Python 3",
   "language": "python",
   "name": "python3"
  },
  "language_info": {
   "codemirror_mode": {
    "name": "ipython",
    "version": 3
   },
   "file_extension": ".py",
   "mimetype": "text/x-python",
   "name": "python",
   "nbconvert_exporter": "python",
   "pygments_lexer": "ipython3",
   "version": "3.11.2"
  },
  "orig_nbformat": 4
 },
 "nbformat": 4,
 "nbformat_minor": 2
}
