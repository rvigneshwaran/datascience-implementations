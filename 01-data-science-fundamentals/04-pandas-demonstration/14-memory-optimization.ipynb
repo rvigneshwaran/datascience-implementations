{
 "cells": [
  {
   "cell_type": "code",
   "execution_count": 32,
   "metadata": {},
   "outputs": [],
   "source": [
    "import pandas as pd\n",
    "import numpy as np"
   ]
  },
  {
   "cell_type": "code",
   "execution_count": 33,
   "metadata": {},
   "outputs": [
    {
     "name": "stdout",
     "output_type": "stream",
     "text": [
      "Example 1:\n",
      "0.8202857971191406\n"
     ]
    }
   ],
   "source": [
    "# Example 1: Generate a large DataFrame with random data\n",
    "np.random.seed(42)\n",
    "num_rows = 10000\n",
    "data = {\n",
    "    'A': np.random.randint(1, 100, num_rows),\n",
    "    'B': np.random.rand(num_rows),\n",
    "    'C': np.random.choice(['Category1', 'Category2', 'Category3'], num_rows),\n",
    "    'D': pd.date_range(start='2023-01-01', periods=num_rows, freq='D')\n",
    "}\n",
    "df = pd.DataFrame(data)\n",
    "print(\"Example 1:\")\n",
    "print(df.memory_usage(deep=True).sum() / (1024 ** 2))  # Memory usage in MB"
   ]
  },
  {
   "cell_type": "code",
   "execution_count": 34,
   "metadata": {},
   "outputs": [
    {
     "name": "stdout",
     "output_type": "stream",
     "text": [
      "\n",
      "Example 2:\n",
      "0.7630653381347656\n"
     ]
    }
   ],
   "source": [
    "# Example 2: Convert data types to reduce memory usage\n",
    "df['A'] = df['A'].astype('int32')\n",
    "df['B'] = df['B'].astype('int16')\n",
    "print(\"\\nExample 2:\")\n",
    "print(df.memory_usage(deep=True).sum() / (1024 ** 2))  # Memory usage in MB\n"
   ]
  },
  {
   "cell_type": "code",
   "execution_count": 35,
   "metadata": {},
   "outputs": [
    {
     "name": "stdout",
     "output_type": "stream",
     "text": [
      "\n",
      "Example 3:\n",
      "0.8584327697753906\n"
     ]
    }
   ],
   "source": [
    "# Example 3: Use 'parse_dates' parameter when reading CSV\n",
    "df.to_csv('large_data.csv', index=False)\n",
    "df_csv = pd.read_csv('large_data.csv', parse_dates=['D'])\n",
    "print(\"\\nExample 3:\")\n",
    "print(df_csv.memory_usage(deep=True).sum() / (1024 ** 2))  # Memory usage in MB\n"
   ]
  },
  {
   "cell_type": "code",
   "execution_count": 36,
   "metadata": {},
   "outputs": [
    {
     "name": "stdout",
     "output_type": "stream",
     "text": [
      "\n",
      "Example 4:\n",
      "0.8584327697753906\n"
     ]
    }
   ],
   "source": [
    "# Example 4: Reduce memory usage with chunking\n",
    "chunk_size = 1000000\n",
    "df_chunk = pd.read_csv('large_data.csv', parse_dates=['D'], chunksize=chunk_size)\n",
    "total_memory_usage = 0\n",
    "for chunk in df_chunk:\n",
    "    total_memory_usage += chunk.memory_usage(deep=True).sum()\n",
    "print(\"\\nExample 4:\")\n",
    "print(total_memory_usage / (1024 ** 2))  # Memory usage in MB\n"
   ]
  },
  {
   "cell_type": "code",
   "execution_count": 37,
   "metadata": {},
   "outputs": [
    {
     "name": "stdout",
     "output_type": "stream",
     "text": [
      "\n",
      "Example 6:\n",
      "0.14346885681152344\n"
     ]
    }
   ],
   "source": [
    "# Example 5: Convert text columns to Categorical\n",
    "df['C'] = df['C'].astype('category')\n",
    "print(\"\\nExample 6:\")\n",
    "print(df.memory_usage(deep=True).sum() / (1024 ** 2))  # Memory usage in MB"
   ]
  },
  {
   "cell_type": "markdown",
   "metadata": {},
   "source": [
    "```python\n",
    "# Example 6: Remove unused columns\n",
    "df.drop(columns=['C'], inplace=True)\n",
    "print(\"\\nExample 5:\")\n",
    "print(df.memory_usage(deep=True).sum() / (1024 ** 2))  # Memory usage in MB\n",
    "```"
   ]
  },
  {
   "cell_type": "code",
   "execution_count": 38,
   "metadata": {},
   "outputs": [
    {
     "name": "stdout",
     "output_type": "stream",
     "text": [
      "\n",
      "Example 7:\n",
      "0.14346885681152344\n"
     ]
    }
   ],
   "source": [
    "# Example 7: Downsizing DataFrame - Splitting into smaller DataFrames\n",
    "df_list = [df.iloc[i:i+1000000] for i in range(0, len(df), 1000000)]\n",
    "print(\"\\nExample 7:\")\n",
    "print(df_list[0].memory_usage(deep=True).sum() / (1024 ** 2))  # Memory usage in MB\n"
   ]
  },
  {
   "cell_type": "code",
   "execution_count": 39,
   "metadata": {},
   "outputs": [
    {
     "name": "stdout",
     "output_type": "stream",
     "text": [
      "\n",
      "Example 8:\n",
      "0.18161582946777344\n"
     ]
    }
   ],
   "source": [
    "# Example 8: Use SparseDataFrame for mostly zero or missing values\n",
    "df_sparse = df.copy()\n",
    "df_sparse['A'] = pd.arrays.SparseArray(df_sparse['A'])\n",
    "print(\"\\nExample 8:\")\n",
    "print(df_sparse.memory_usage(deep=True).sum() / (1024 ** 2))  # Memory usage in MB\n"
   ]
  },
  {
   "cell_type": "code",
   "execution_count": 40,
   "metadata": {},
   "outputs": [
    {
     "name": "stdout",
     "output_type": "stream",
     "text": [
      "\n",
      "Example 9:\n",
      "0.14317703247070312\n"
     ]
    }
   ],
   "source": [
    "# Example 9: Encoding categorical variables with integer encoding\n",
    "df['C'] = df['C'].cat.codes\n",
    "print(\"\\nExample 9:\")\n",
    "print(df.memory_usage(deep=True).sum() / (1024 ** 2))  # Memory usage in MB\n",
    "\n"
   ]
  },
  {
   "cell_type": "code",
   "execution_count": 41,
   "metadata": {},
   "outputs": [
    {
     "name": "stdout",
     "output_type": "stream",
     "text": [
      "\n",
      "Example 10:\n",
      "0.16225051879882812\n"
     ]
    }
   ],
   "source": [
    "# Example 10: Encoding categorical variables with one-hot encoding\n",
    "df_one_hot = pd.get_dummies(df, columns=['C'])\n",
    "print(\"\\nExample 10:\")\n",
    "print(df_one_hot.memory_usage(deep=True).sum() / (1024 ** 2))  # Memory usage in MB"
   ]
  },
  {
   "cell_type": "code",
   "execution_count": 42,
   "metadata": {},
   "outputs": [
    {
     "name": "stdout",
     "output_type": "stream",
     "text": [
      "\n",
      "Example 11:\n",
      "0.13364028930664062\n"
     ]
    }
   ],
   "source": [
    "# Example 11: Use pd.to_numeric for numeric columns\n",
    "df_numeric = df.copy()\n",
    "df_numeric['A'] = pd.to_numeric(df_numeric['A'])\n",
    "df_numeric['B'] = pd.to_numeric(df_numeric['B'], downcast='integer')\n",
    "print(\"\\nExample 11:\")\n",
    "print(df_numeric.memory_usage(deep=True).sum() / (1024 ** 2))  # Memory usage in MB\n"
   ]
  },
  {
   "cell_type": "code",
   "execution_count": 43,
   "metadata": {},
   "outputs": [
    {
     "name": "stdout",
     "output_type": "stream",
     "text": [
      "\n",
      "Example 12:\n",
      "0.11456680297851562\n"
     ]
    },
    {
     "name": "stderr",
     "output_type": "stream",
     "text": [
      "C:\\Users\\rvign\\AppData\\Local\\Temp\\ipykernel_12780\\466472616.py:4: FutureWarning: Passing unit-less datetime64 dtype to .astype is deprecated and will raise in a future version. Pass 'datetime64[ns]' instead\n",
      "  df['D'] = df['D'].astype('datetime64')\n"
     ]
    }
   ],
   "source": [
    "# Example 12: Use astype to optimize memory usage\n",
    "df['A'] = df['A'].astype('int8')\n",
    "df['B'] = df['B'].astype('int16')\n",
    "df['D'] = df['D'].astype('datetime64')\n",
    "print(\"\\nExample 12:\")\n",
    "print(df.memory_usage(deep=True).sum() / (1024 ** 2))  # Memory usage in MB\n"
   ]
  },
  {
   "cell_type": "code",
   "execution_count": 44,
   "metadata": {},
   "outputs": [
    {
     "name": "stdout",
     "output_type": "stream",
     "text": [
      "\n",
      "Example 13:\n",
      "1.52587890625e-05\n"
     ]
    }
   ],
   "source": [
    "# Example 13: Memory reduction during aggregation\n",
    "grouped_mean = df.groupby('B')['A'].mean()\n",
    "print(\"\\nExample 13:\")\n",
    "print(grouped_mean.memory_usage(deep=True) / (1024 ** 2))  # Memory usage in MB\n"
   ]
  },
  {
   "cell_type": "code",
   "execution_count": 46,
   "metadata": {},
   "outputs": [
    {
     "name": "stdout",
     "output_type": "stream",
     "text": [
      "\n",
      "Example 14:\n",
      "0.19073486328125\n"
     ]
    }
   ],
   "source": [
    "# Example 14: Store DataFrames in HDF5 format\n",
    "df.to_hdf('large_data.h5', key='df', mode='w')\n",
    "df_hdf = pd.read_hdf('large_data.h5', key='df')\n",
    "print(\"\\nExample 14:\")\n",
    "print(df_hdf.memory_usage(deep=True).sum() / (1024 ** 2))  # Memory usage in MB\n"
   ]
  },
  {
   "cell_type": "code",
   "execution_count": 47,
   "metadata": {},
   "outputs": [
    {
     "name": "stdout",
     "output_type": "stream",
     "text": [
      "\n",
      "Example 15:\n",
      "0.3053016662597656\n"
     ]
    }
   ],
   "source": [
    "# Example 15: Compress DataFrames using gzip or bzip2\n",
    "df.to_csv('large_data.csv.gz', index=False, compression='gzip')\n",
    "df_gzip = pd.read_csv('large_data.csv.gz', parse_dates=['D'])\n",
    "print(\"\\nExample 15:\")\n",
    "print(df_gzip.memory_usage(deep=True).sum() / (1024 ** 2))  # Memory usage in MB\n"
   ]
  },
  {
   "cell_type": "code",
   "execution_count": 48,
   "metadata": {},
   "outputs": [
    {
     "name": "stdout",
     "output_type": "stream",
     "text": [
      "\n",
      "Example 16:\n",
      "0.19073486328125\n"
     ]
    }
   ],
   "source": [
    "# Example 16: Remove duplicate values\n",
    "df.drop_duplicates(inplace=True)\n",
    "print(\"\\nExample 16:\")\n",
    "print(df.memory_usage(deep=True).sum() / (1024 ** 2))  # Memory usage in MB\n"
   ]
  },
  {
   "cell_type": "code",
   "execution_count": 49,
   "metadata": {},
   "outputs": [
    {
     "name": "stdout",
     "output_type": "stream",
     "text": [
      "\n",
      "Example 17:\n",
      "0.19073486328125\n"
     ]
    }
   ],
   "source": [
    "# Example 17: Reusing DataFrame's memory using copy\n",
    "df_copy = df.copy()\n",
    "print(\"\\nExample 17:\")\n",
    "print(df_copy.memory_usage(deep=True).sum() / (1024 ** 2))  # Memory usage in MB\n"
   ]
  },
  {
   "cell_type": "code",
   "execution_count": 51,
   "metadata": {},
   "outputs": [
    {
     "name": "stdout",
     "output_type": "stream",
     "text": [
      "\n",
      "Example 18:\n",
      "1.4211006164550781\n"
     ]
    }
   ],
   "source": [
    "# Example 18: Using external memory storage with Dask DataFrame\n",
    "import dask.dataframe as dd\n",
    "df_dask = dd.read_csv('large_data.csv')\n",
    "print(\"\\nExample 18:\")\n",
    "print(df_dask.memory_usage(deep=True).sum().compute() / (1024 ** 2))  # Memory usage in MB\n"
   ]
  },
  {
   "cell_type": "code",
   "execution_count": 52,
   "metadata": {},
   "outputs": [
    {
     "name": "stdout",
     "output_type": "stream",
     "text": [
      "\n",
      "Example 19:\n",
      "0.7343292236328125\n"
     ]
    }
   ],
   "source": [
    "# Example 19: Avoid using 'object' data type\n",
    "df_no_object = df.copy()\n",
    "df_no_object['C'] = df_no_object['C'].astype('string')\n",
    "print(\"\\nExample 19:\")\n",
    "print(df_no_object.memory_usage(deep=True).sum() / (1024 ** 2))  # Memory usage in MB\n"
   ]
  },
  {
   "cell_type": "code",
   "execution_count": 53,
   "metadata": {},
   "outputs": [
    {
     "name": "stdout",
     "output_type": "stream",
     "text": [
      "\n",
      "Example 20:\n",
      "0.209808349609375\n"
     ]
    }
   ],
   "source": [
    "# Example 20: Using custom data types\n",
    "df_custom = df.copy()\n",
    "df_custom['A'] = df_custom['A'].astype(pd.UInt16Dtype())\n",
    "print(\"\\nExample 20:\")\n",
    "print(df_custom.memory_usage(deep=True).sum() / (1024 ** 2))  # Memory usage in MB\n"
   ]
  }
 ],
 "metadata": {
  "kernelspec": {
   "display_name": "Python 3",
   "language": "python",
   "name": "python3"
  },
  "language_info": {
   "codemirror_mode": {
    "name": "ipython",
    "version": 3
   },
   "file_extension": ".py",
   "mimetype": "text/x-python",
   "name": "python",
   "nbconvert_exporter": "python",
   "pygments_lexer": "ipython3",
   "version": "3.11.2"
  },
  "orig_nbformat": 4
 },
 "nbformat": 4,
 "nbformat_minor": 2
}
