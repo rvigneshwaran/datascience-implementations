{
 "cells": [
  {
   "cell_type": "code",
   "execution_count": 15,
   "metadata": {},
   "outputs": [],
   "source": [
    "import pandas as pd\n",
    "import numpy as np"
   ]
  },
  {
   "cell_type": "code",
   "execution_count": 16,
   "metadata": {},
   "outputs": [
    {
     "name": "stdout",
     "output_type": "stream",
     "text": [
      "Example 1:\n",
      "0.8202857971191406\n"
     ]
    }
   ],
   "source": [
    "# Example 1: Generate a large DataFrame with random data\n",
    "np.random.seed(42)\n",
    "num_rows = 10000\n",
    "data = {\n",
    "    'A': np.random.randint(1, 100, num_rows),\n",
    "    'B': np.random.rand(num_rows),\n",
    "    'C': np.random.choice(['Category1', 'Category2', 'Category3'], num_rows),\n",
    "    'D': pd.date_range(start='2023-01-01', periods=num_rows, freq='D')\n",
    "}\n",
    "df = pd.DataFrame(data)\n",
    "print(\"Example 1:\")\n",
    "print(df.memory_usage(deep=True).sum() / (1024 ** 2))  # Memory usage in MB"
   ]
  },
  {
   "cell_type": "code",
   "execution_count": 17,
   "metadata": {},
   "outputs": [
    {
     "name": "stdout",
     "output_type": "stream",
     "text": [
      "\n",
      "Example 2:\n",
      "0.7630653381347656\n"
     ]
    }
   ],
   "source": [
    "# Example 2: Convert data types to reduce memory usage\n",
    "df['A'] = df['A'].astype('int32')\n",
    "df['B'] = df['B'].astype('int16')\n",
    "print(\"\\nExample 2:\")\n",
    "print(df.memory_usage(deep=True).sum() / (1024 ** 2))  # Memory usage in MB\n"
   ]
  },
  {
   "cell_type": "code",
   "execution_count": 18,
   "metadata": {},
   "outputs": [
    {
     "name": "stdout",
     "output_type": "stream",
     "text": [
      "\n",
      "Example 3:\n",
      "0.8584327697753906\n"
     ]
    }
   ],
   "source": [
    "# Example 3: Use 'parse_dates' parameter when reading CSV\n",
    "df.to_csv('large_data.csv', index=False)\n",
    "df_csv = pd.read_csv('large_data.csv', parse_dates=['D'])\n",
    "print(\"\\nExample 3:\")\n",
    "print(df_csv.memory_usage(deep=True).sum() / (1024 ** 2))  # Memory usage in MB\n"
   ]
  },
  {
   "cell_type": "code",
   "execution_count": 19,
   "metadata": {},
   "outputs": [
    {
     "name": "stdout",
     "output_type": "stream",
     "text": [
      "\n",
      "Example 4:\n",
      "0.8584327697753906\n"
     ]
    }
   ],
   "source": [
    "# Example 4: Reduce memory usage with chunking\n",
    "chunk_size = 1000000\n",
    "df_chunk = pd.read_csv('large_data.csv', parse_dates=['D'], chunksize=chunk_size)\n",
    "total_memory_usage = 0\n",
    "for chunk in df_chunk:\n",
    "    total_memory_usage += chunk.memory_usage(deep=True).sum()\n",
    "print(\"\\nExample 4:\")\n",
    "print(total_memory_usage / (1024 ** 2))  # Memory usage in MB\n"
   ]
  }
 ],
 "metadata": {
  "kernelspec": {
   "display_name": "Python 3",
   "language": "python",
   "name": "python3"
  },
  "language_info": {
   "codemirror_mode": {
    "name": "ipython",
    "version": 3
   },
   "file_extension": ".py",
   "mimetype": "text/x-python",
   "name": "python",
   "nbconvert_exporter": "python",
   "pygments_lexer": "ipython3",
   "version": "3.11.2"
  },
  "orig_nbformat": 4
 },
 "nbformat": 4,
 "nbformat_minor": 2
}
