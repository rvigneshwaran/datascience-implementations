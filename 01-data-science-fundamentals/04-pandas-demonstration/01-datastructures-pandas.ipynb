{
 "cells": [
  {
   "cell_type": "code",
   "execution_count": 1,
   "metadata": {},
   "outputs": [],
   "source": [
    "import pandas as pd"
   ]
  },
  {
   "cell_type": "code",
   "execution_count": 2,
   "metadata": {},
   "outputs": [
    {
     "name": "stdout",
     "output_type": "stream",
     "text": [
      "Series:\n",
      "0    10\n",
      "1    20\n",
      "2    30\n",
      "3    40\n",
      "4    50\n",
      "dtype: int64\n"
     ]
    }
   ],
   "source": [
    "# Creating a Series\n",
    "series_data = pd.Series([10, 20, 30, 40, 50])\n",
    "print(\"Series:\")\n",
    "print(series_data)"
   ]
  },
  {
   "cell_type": "code",
   "execution_count": 3,
   "metadata": {},
   "outputs": [
    {
     "name": "stdout",
     "output_type": "stream",
     "text": [
      "\n",
      "DataFrame:\n",
      "      Name  Age  Salary\n",
      "0    Alice   25   50000\n",
      "1      Bob   30   60000\n",
      "2  Charlie   22   45000\n",
      "3    David   35   70000\n",
      "4      Eve   28   55000\n"
     ]
    }
   ],
   "source": [
    "# Creating a DataFrame\n",
    "data = {\n",
    "    'Name': ['Alice', 'Bob', 'Charlie', 'David', 'Eve'],\n",
    "    'Age': [25, 30, 22, 35, 28],\n",
    "    'Salary': [50000, 60000, 45000, 70000, 55000]\n",
    "}\n",
    "df = pd.DataFrame(data)\n",
    "print(\"\\nDataFrame:\")\n",
    "print(df)\n"
   ]
  },
  {
   "cell_type": "code",
   "execution_count": 4,
   "metadata": {},
   "outputs": [
    {
     "name": "stdout",
     "output_type": "stream",
     "text": [
      "\n",
      "Accessing elements in the Series:\n",
      "Element at index 2: 30\n",
      "Elements from index 1 to 3:\n",
      " 1    20\n",
      "2    30\n",
      "3    40\n",
      "dtype: int64\n"
     ]
    }
   ],
   "source": [
    "# Accessing elements in a Series\n",
    "print(\"\\nAccessing elements in the Series:\")\n",
    "print(\"Element at index 2:\", series_data[2])\n",
    "print(\"Elements from index 1 to 3:\\n\", series_data[1:4])"
   ]
  },
  {
   "cell_type": "code",
   "execution_count": 5,
   "metadata": {},
   "outputs": [
    {
     "name": "stdout",
     "output_type": "stream",
     "text": [
      "\n",
      "Accessing columns in the DataFrame:\n",
      "Age column:\n",
      " 0    25\n",
      "1    30\n",
      "2    22\n",
      "3    35\n",
      "4    28\n",
      "Name: Age, dtype: int64\n",
      "Salary column:\n",
      " 0    50000\n",
      "1    60000\n",
      "2    45000\n",
      "3    70000\n",
      "4    55000\n",
      "Name: Salary, dtype: int64\n"
     ]
    }
   ],
   "source": [
    "# Accessing columns in a DataFrame\n",
    "print(\"\\nAccessing columns in the DataFrame:\")\n",
    "print(\"Age column:\\n\", df['Age'])\n",
    "print(\"Salary column:\\n\", df['Salary'])"
   ]
  },
  {
   "cell_type": "code",
   "execution_count": 6,
   "metadata": {},
   "outputs": [
    {
     "name": "stdout",
     "output_type": "stream",
     "text": [
      "\n",
      "Filtering rows in the DataFrame:\n",
      "    Name  Age  Salary\n",
      "1    Bob   30   60000\n",
      "3  David   35   70000\n",
      "4    Eve   28   55000\n"
     ]
    }
   ],
   "source": [
    "# Filtering rows in a DataFrame\n",
    "print(\"\\nFiltering rows in the DataFrame:\")\n",
    "filtered_df = df[df['Age'] > 25]\n",
    "print(filtered_df)"
   ]
  },
  {
   "cell_type": "code",
   "execution_count": 7,
   "metadata": {},
   "outputs": [
    {
     "name": "stdout",
     "output_type": "stream",
     "text": [
      "\n",
      "DataFrame with the Gender column:\n",
      "      Name  Age  Salary  Gender\n",
      "0    Alice   25   50000  Female\n",
      "1      Bob   30   60000    Male\n",
      "2  Charlie   22   45000    Male\n",
      "3    David   35   70000    Male\n",
      "4      Eve   28   55000  Female\n"
     ]
    }
   ],
   "source": [
    "# Adding a new column to DataFrame\n",
    "df['Gender'] = ['Female', 'Male', 'Male', 'Male', 'Female']\n",
    "print(\"\\nDataFrame with the Gender column:\")\n",
    "print(df)"
   ]
  },
  {
   "cell_type": "code",
   "execution_count": 8,
   "metadata": {},
   "outputs": [
    {
     "name": "stdout",
     "output_type": "stream",
     "text": [
      "\n",
      "Aggregation with Series:\n",
      "Sum of Series: 150\n",
      "Mean of Series: 30.0\n"
     ]
    }
   ],
   "source": [
    "# Aggregation with Series\n",
    "print(\"\\nAggregation with Series:\")\n",
    "print(\"Sum of Series:\", series_data.sum())\n",
    "print(\"Mean of Series:\", series_data.mean())"
   ]
  },
  {
   "cell_type": "code",
   "execution_count": 9,
   "metadata": {},
   "outputs": [
    {
     "name": "stdout",
     "output_type": "stream",
     "text": [
      "\n",
      "Aggregation with DataFrame:\n",
      "Average Age: 28.0\n",
      "Maximum Salary: 70000\n"
     ]
    }
   ],
   "source": [
    "# Aggregation with DataFrame\n",
    "print(\"\\nAggregation with DataFrame:\")\n",
    "print(\"Average Age:\", df['Age'].mean())\n",
    "print(\"Maximum Salary:\", df['Salary'].max())"
   ]
  },
  {
   "cell_type": "code",
   "execution_count": 10,
   "metadata": {},
   "outputs": [
    {
     "name": "stdout",
     "output_type": "stream",
     "text": [
      "\n",
      "Merged DataFrame:\n",
      "      Name  Age  Salary  Gender\n",
      "0    Alice   25   50000  Female\n",
      "1      Bob   30   60000    Male\n",
      "2  Charlie   22   45000    Male\n",
      "3    David   35   70000    Male\n",
      "4      Eve   28   55000  Female\n",
      "5    Frank   27   48000     NaN\n",
      "6    Grace   29   52000     NaN\n"
     ]
    }
   ],
   "source": [
    "# Merging DataFrames\n",
    "data2 = {\n",
    "    'Name': ['Frank', 'Grace'],\n",
    "    'Age': [27, 29],\n",
    "    'Salary': [48000, 52000]\n",
    "}\n",
    "df2 = pd.DataFrame(data2)\n",
    "merged_df = pd.concat([df, df2], ignore_index=True)\n",
    "print(\"\\nMerged DataFrame:\")\n",
    "print(merged_df)"
   ]
  }
 ],
 "metadata": {
  "kernelspec": {
   "display_name": "Python 3",
   "language": "python",
   "name": "python3"
  },
  "language_info": {
   "codemirror_mode": {
    "name": "ipython",
    "version": 3
   },
   "file_extension": ".py",
   "mimetype": "text/x-python",
   "name": "python",
   "nbconvert_exporter": "python",
   "pygments_lexer": "ipython3",
   "version": "3.11.2"
  },
  "orig_nbformat": 4
 },
 "nbformat": 4,
 "nbformat_minor": 2
}
