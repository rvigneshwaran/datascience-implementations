{
 "cells": [
  {
   "cell_type": "code",
   "execution_count": 1,
   "metadata": {},
   "outputs": [],
   "source": [
    "import pandas as pd"
   ]
  },
  {
   "cell_type": "code",
   "execution_count": 2,
   "metadata": {},
   "outputs": [],
   "source": [
    "# Create a sample DataFrame\n",
    "data = {\n",
    "    'Name': ['Jon Snow', 'Daenerys Targaryen', 'Tyrion Lannister', 'Arya Stark', 'Cersei Lannister'],\n",
    "    'House': ['Stark', 'Targaryen', 'Lannister', 'Stark', 'Lannister'],\n",
    "    'Status': ['Alive', 'Deceased', 'Alive', 'Alive', 'Deceased'],\n",
    "    'Gender': ['Male', 'Female', 'Male', 'Female', 'Female'],\n",
    "    'Age': [35, 30, 40, 18, 45],\n",
    "    'Total_Appearances': [10, 12, 15, 8, 6],\n",
    "    'Battles_Fought': [3, 5, 2, 1, 4]\n",
    "}\n",
    "df = pd.DataFrame(data)"
   ]
  },
  {
   "cell_type": "code",
   "execution_count": 3,
   "metadata": {},
   "outputs": [],
   "source": [
    "# Convert 'House' column to a Categorical variable\n",
    "df['House'] = pd.Categorical(df['House'])"
   ]
  },
  {
   "cell_type": "code",
   "execution_count": 4,
   "metadata": {},
   "outputs": [
    {
     "name": "stdout",
     "output_type": "stream",
     "text": [
      "Example 1:\n",
      "Index(['Lannister', 'Stark', 'Targaryen'], dtype='object')\n"
     ]
    }
   ],
   "source": [
    "# Example 1: Displaying the categories in a Categorical variable\n",
    "print(\"Example 1:\")\n",
    "print(df['House'].cat.categories)"
   ]
  },
  {
   "cell_type": "code",
   "execution_count": 5,
   "metadata": {},
   "outputs": [
    {
     "name": "stdout",
     "output_type": "stream",
     "text": [
      "\n",
      "Example 2:\n",
      "0    1\n",
      "1    2\n",
      "2    0\n",
      "3    1\n",
      "4    0\n",
      "dtype: int8\n"
     ]
    }
   ],
   "source": [
    "# Example 2: Displaying the codes for each category in a Categorical variable\n",
    "print(\"\\nExample 2:\")\n",
    "print(df['House'].cat.codes)"
   ]
  },
  {
   "cell_type": "code",
   "execution_count": 6,
   "metadata": {},
   "outputs": [
    {
     "name": "stdout",
     "output_type": "stream",
     "text": [
      "\n",
      "Example 3:\n",
      "                 Name           House    Status  Gender  Age  \\\n",
      "0            Jon Snow  The Targaryens     Alive    Male   35   \n",
      "1  Daenerys Targaryen  The Lannisters  Deceased  Female   30   \n",
      "2    Tyrion Lannister      The Starks     Alive    Male   40   \n",
      "3          Arya Stark  The Targaryens     Alive  Female   18   \n",
      "4    Cersei Lannister      The Starks  Deceased  Female   45   \n",
      "\n",
      "   Total_Appearances  Battles_Fought  \n",
      "0                 10               3  \n",
      "1                 12               5  \n",
      "2                 15               2  \n",
      "3                  8               1  \n",
      "4                  6               4  \n"
     ]
    },
    {
     "name": "stderr",
     "output_type": "stream",
     "text": [
      "C:\\Users\\rvign\\AppData\\Local\\Temp\\ipykernel_34540\\3512311247.py:2: FutureWarning: Setting categories in-place is deprecated and will raise in a future version. Use rename_categories instead.\n",
      "  df['House'].cat.categories = ['The Starks', 'The Targaryens', 'The Lannisters']\n"
     ]
    }
   ],
   "source": [
    "# Example 3: Renaming categories in a Categorical variable\n",
    "df['House'].cat.categories = ['The Starks', 'The Targaryens', 'The Lannisters']\n",
    "print(\"\\nExample 3:\")\n",
    "print(df)\n"
   ]
  },
  {
   "cell_type": "code",
   "execution_count": 7,
   "metadata": {},
   "outputs": [
    {
     "name": "stdout",
     "output_type": "stream",
     "text": [
      "\n",
      "Example 4:\n",
      "                 Name           House    Status  Gender  Age  \\\n",
      "2    Tyrion Lannister      The Starks     Alive    Male   40   \n",
      "4    Cersei Lannister      The Starks  Deceased  Female   45   \n",
      "0            Jon Snow  The Targaryens     Alive    Male   35   \n",
      "3          Arya Stark  The Targaryens     Alive  Female   18   \n",
      "1  Daenerys Targaryen  The Lannisters  Deceased  Female   30   \n",
      "\n",
      "   Total_Appearances  Battles_Fought  \n",
      "2                 15               2  \n",
      "4                  6               4  \n",
      "0                 10               3  \n",
      "3                  8               1  \n",
      "1                 12               5  \n"
     ]
    }
   ],
   "source": [
    "# Example 4: Sorting a DataFrame based on a Categorical variable\n",
    "df.sort_values(by='House', inplace=True)\n",
    "print(\"\\nExample 4:\")\n",
    "print(df)\n"
   ]
  },
  {
   "cell_type": "code",
   "execution_count": 8,
   "metadata": {},
   "outputs": [
    {
     "name": "stdout",
     "output_type": "stream",
     "text": [
      "\n",
      "Example 5:\n",
      "                 Name           House    Status  Gender  Age  \\\n",
      "2    Tyrion Lannister      The Starks     Alive    Male   40   \n",
      "4    Cersei Lannister      The Starks  Deceased  Female   45   \n",
      "0            Jon Snow  The Targaryens     Alive    Male   35   \n",
      "3          Arya Stark  The Targaryens     Alive  Female   18   \n",
      "1  Daenerys Targaryen  The Lannisters  Deceased  Female   30   \n",
      "\n",
      "   Total_Appearances  Battles_Fought Age_Category  \n",
      "2                 15               2        Adult  \n",
      "4                  6               4       Senior  \n",
      "0                 10               3        Adult  \n",
      "3                  8               1        Child  \n",
      "1                 12               5  Young Adult  \n"
     ]
    }
   ],
   "source": [
    "# Example 5: Creating a new Categorical variable based on numeric bins\n",
    "df['Age_Category'] = pd.cut(df['Age'], bins=[0, 20, 30, 40, 50], labels=['Child', 'Young Adult', 'Adult', 'Senior'])\n",
    "print(\"\\nExample 5:\")\n",
    "print(df)\n"
   ]
  }
 ],
 "metadata": {
  "kernelspec": {
   "display_name": "Python 3",
   "language": "python",
   "name": "python3"
  },
  "language_info": {
   "codemirror_mode": {
    "name": "ipython",
    "version": 3
   },
   "file_extension": ".py",
   "mimetype": "text/x-python",
   "name": "python",
   "nbconvert_exporter": "python",
   "pygments_lexer": "ipython3",
   "version": "3.11.2"
  },
  "orig_nbformat": 4
 },
 "nbformat": 4,
 "nbformat_minor": 2
}
