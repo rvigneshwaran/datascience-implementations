{
 "cells": [
  {
   "cell_type": "code",
   "execution_count": 1,
   "metadata": {},
   "outputs": [],
   "source": [
    "import pandas as pd"
   ]
  },
  {
   "cell_type": "code",
   "execution_count": 2,
   "metadata": {},
   "outputs": [],
   "source": [
    "# Create a sample DataFrame\n",
    "data = {\n",
    "    'Name': ['Jon Snow', 'Daenerys Targaryen', 'Tyrion Lannister', 'Arya Stark', 'Cersei Lannister'],\n",
    "    'House': ['Stark', 'Targaryen', 'Lannister', 'Stark', 'Lannister'],\n",
    "    'Status': ['Alive', 'Deceased', 'Alive', 'Alive', 'Deceased'],\n",
    "    'Gender': ['Male', 'Female', 'Male', 'Female', 'Female'],\n",
    "    'Age': [35, 30, 40, 18, 45],\n",
    "    'Total_Appearances': [10, 12, 15, 8, 6],\n",
    "    'Battles_Fought': [3, 5, 2, 1, 4]\n",
    "}\n",
    "df = pd.DataFrame(data)"
   ]
  },
  {
   "cell_type": "code",
   "execution_count": 3,
   "metadata": {},
   "outputs": [],
   "source": [
    "# Convert 'House' column to a Categorical variable\n",
    "df['House'] = pd.Categorical(df['House'])"
   ]
  },
  {
   "cell_type": "code",
   "execution_count": 4,
   "metadata": {},
   "outputs": [
    {
     "name": "stdout",
     "output_type": "stream",
     "text": [
      "Example 1:\n",
      "Index(['Lannister', 'Stark', 'Targaryen'], dtype='object')\n"
     ]
    }
   ],
   "source": [
    "# Example 1: Displaying the categories in a Categorical variable\n",
    "print(\"Example 1:\")\n",
    "print(df['House'].cat.categories)"
   ]
  },
  {
   "cell_type": "code",
   "execution_count": 5,
   "metadata": {},
   "outputs": [
    {
     "name": "stdout",
     "output_type": "stream",
     "text": [
      "\n",
      "Example 2:\n",
      "0    1\n",
      "1    2\n",
      "2    0\n",
      "3    1\n",
      "4    0\n",
      "dtype: int8\n"
     ]
    }
   ],
   "source": [
    "# Example 2: Displaying the codes for each category in a Categorical variable\n",
    "print(\"\\nExample 2:\")\n",
    "print(df['House'].cat.codes)"
   ]
  },
  {
   "cell_type": "code",
   "execution_count": 6,
   "metadata": {},
   "outputs": [
    {
     "name": "stdout",
     "output_type": "stream",
     "text": [
      "\n",
      "Example 3:\n",
      "                 Name           House    Status  Gender  Age  \\\n",
      "0            Jon Snow  The Targaryens     Alive    Male   35   \n",
      "1  Daenerys Targaryen  The Lannisters  Deceased  Female   30   \n",
      "2    Tyrion Lannister      The Starks     Alive    Male   40   \n",
      "3          Arya Stark  The Targaryens     Alive  Female   18   \n",
      "4    Cersei Lannister      The Starks  Deceased  Female   45   \n",
      "\n",
      "   Total_Appearances  Battles_Fought  \n",
      "0                 10               3  \n",
      "1                 12               5  \n",
      "2                 15               2  \n",
      "3                  8               1  \n",
      "4                  6               4  \n"
     ]
    },
    {
     "name": "stderr",
     "output_type": "stream",
     "text": [
      "C:\\Users\\rvign\\AppData\\Local\\Temp\\ipykernel_34540\\3512311247.py:2: FutureWarning: Setting categories in-place is deprecated and will raise in a future version. Use rename_categories instead.\n",
      "  df['House'].cat.categories = ['The Starks', 'The Targaryens', 'The Lannisters']\n"
     ]
    }
   ],
   "source": [
    "# Example 3: Renaming categories in a Categorical variable\n",
    "df['House'].cat.categories = ['The Starks', 'The Targaryens', 'The Lannisters']\n",
    "print(\"\\nExample 3:\")\n",
    "print(df)\n"
   ]
  },
  {
   "cell_type": "code",
   "execution_count": 7,
   "metadata": {},
   "outputs": [
    {
     "name": "stdout",
     "output_type": "stream",
     "text": [
      "\n",
      "Example 4:\n",
      "                 Name           House    Status  Gender  Age  \\\n",
      "2    Tyrion Lannister      The Starks     Alive    Male   40   \n",
      "4    Cersei Lannister      The Starks  Deceased  Female   45   \n",
      "0            Jon Snow  The Targaryens     Alive    Male   35   \n",
      "3          Arya Stark  The Targaryens     Alive  Female   18   \n",
      "1  Daenerys Targaryen  The Lannisters  Deceased  Female   30   \n",
      "\n",
      "   Total_Appearances  Battles_Fought  \n",
      "2                 15               2  \n",
      "4                  6               4  \n",
      "0                 10               3  \n",
      "3                  8               1  \n",
      "1                 12               5  \n"
     ]
    }
   ],
   "source": [
    "# Example 4: Sorting a DataFrame based on a Categorical variable\n",
    "df.sort_values(by='House', inplace=True)\n",
    "print(\"\\nExample 4:\")\n",
    "print(df)\n"
   ]
  },
  {
   "cell_type": "code",
   "execution_count": 8,
   "metadata": {},
   "outputs": [
    {
     "name": "stdout",
     "output_type": "stream",
     "text": [
      "\n",
      "Example 5:\n",
      "                 Name           House    Status  Gender  Age  \\\n",
      "2    Tyrion Lannister      The Starks     Alive    Male   40   \n",
      "4    Cersei Lannister      The Starks  Deceased  Female   45   \n",
      "0            Jon Snow  The Targaryens     Alive    Male   35   \n",
      "3          Arya Stark  The Targaryens     Alive  Female   18   \n",
      "1  Daenerys Targaryen  The Lannisters  Deceased  Female   30   \n",
      "\n",
      "   Total_Appearances  Battles_Fought Age_Category  \n",
      "2                 15               2        Adult  \n",
      "4                  6               4       Senior  \n",
      "0                 10               3        Adult  \n",
      "3                  8               1        Child  \n",
      "1                 12               5  Young Adult  \n"
     ]
    }
   ],
   "source": [
    "# Example 5: Creating a new Categorical variable based on numeric bins\n",
    "df['Age_Category'] = pd.cut(df['Age'], bins=[0, 20, 30, 40, 50], labels=['Child', 'Young Adult', 'Adult', 'Senior'])\n",
    "print(\"\\nExample 5:\")\n",
    "print(df)\n"
   ]
  },
  {
   "cell_type": "code",
   "execution_count": 9,
   "metadata": {},
   "outputs": [
    {
     "name": "stdout",
     "output_type": "stream",
     "text": [
      "\n",
      "Example 6:\n",
      "                mean  min  max\n",
      "House                         \n",
      "The Starks      42.5   40   45\n",
      "The Targaryens  26.5   18   35\n",
      "The Lannisters  30.0   30   30\n"
     ]
    }
   ],
   "source": [
    "# Example 6: Using the Categorical variable in groupby and aggregation\n",
    "house_group = df.groupby('House')\n",
    "house_stats = house_group['Age'].agg(['mean', 'min', 'max'])\n",
    "print(\"\\nExample 6:\")\n",
    "print(house_stats)"
   ]
  },
  {
   "cell_type": "code",
   "execution_count": 10,
   "metadata": {},
   "outputs": [
    {
     "name": "stdout",
     "output_type": "stream",
     "text": [
      "\n",
      "Example 7:\n",
      "                 Name           House    Status  Gender  Age  \\\n",
      "2    Tyrion Lannister      The Starks     Alive    Male   40   \n",
      "4    Cersei Lannister      The Starks  Deceased  Female   45   \n",
      "0            Jon Snow  The Targaryens     Alive    Male   35   \n",
      "3          Arya Stark  The Targaryens     Alive  Female   18   \n",
      "1  Daenerys Targaryen  The Lannisters  Deceased  Female   30   \n",
      "\n",
      "   Total_Appearances  Battles_Fought Age_Category  House_The Targaryens  \\\n",
      "2                 15               2        Adult                     0   \n",
      "4                  6               4       Senior                     0   \n",
      "0                 10               3        Adult                     1   \n",
      "3                  8               1        Child                     1   \n",
      "1                 12               5  Young Adult                     0   \n",
      "\n",
      "   House_The Lannisters  \n",
      "2                     0  \n",
      "4                     0  \n",
      "0                     0  \n",
      "3                     0  \n",
      "1                     1  \n"
     ]
    }
   ],
   "source": [
    "# Example 7: Creating dummy variables from a Categorical variable\n",
    "dummies = pd.get_dummies(df['House'], prefix='House', drop_first=True)\n",
    "df = pd.concat([df, dummies], axis=1)\n",
    "print(\"\\nExample 7:\")\n",
    "print(df)"
   ]
  },
  {
   "cell_type": "code",
   "execution_count": 11,
   "metadata": {},
   "outputs": [
    {
     "name": "stdout",
     "output_type": "stream",
     "text": [
      "\n",
      "Example 8:\n",
      "                 Name           House    Status  Gender  Age  \\\n",
      "2    Tyrion Lannister      The Starks     Alive    Male   40   \n",
      "4    Cersei Lannister      The Starks  Deceased  Female   45   \n",
      "0            Jon Snow  The Targaryens     Alive    Male   35   \n",
      "3          Arya Stark  The Targaryens     Alive  Female   18   \n",
      "1  Daenerys Targaryen  The Lannisters  Deceased  Female   30   \n",
      "\n",
      "   Total_Appearances  Battles_Fought Age_Category  House_The Targaryens  \\\n",
      "2                 15               2        Adult                     0   \n",
      "4                  6               4       Senior                     0   \n",
      "0                 10               3        Adult                     1   \n",
      "3                  8               1        Child                     1   \n",
      "1                 12               5  Young Adult                     0   \n",
      "\n",
      "   House_The Lannisters  \n",
      "2                     0  \n",
      "4                     0  \n",
      "0                     0  \n",
      "3                     0  \n",
      "1                     1  \n"
     ]
    }
   ],
   "source": [
    "# Example 8: Converting a column to a Categorical variable with specified categories\n",
    "gender_categories = ['Male', 'Female', 'Other']\n",
    "df['Gender'] = pd.Categorical(df['Gender'], categories=gender_categories, ordered=False)\n",
    "print(\"\\nExample 8:\")\n",
    "print(df)"
   ]
  },
  {
   "cell_type": "code",
   "execution_count": 12,
   "metadata": {},
   "outputs": [
    {
     "name": "stdout",
     "output_type": "stream",
     "text": [
      "\n",
      "Example 9:\n",
      "                 Name           House    Status  Gender  Age  \\\n",
      "2    Tyrion Lannister      The Starks     Alive    Male   40   \n",
      "4    Cersei Lannister      The Starks  Deceased  Female   45   \n",
      "0            Jon Snow  The Targaryens     Alive    Male   35   \n",
      "3          Arya Stark  The Targaryens     Alive  Female   18   \n",
      "1  Daenerys Targaryen  The Lannisters  Deceased  Female   30   \n",
      "\n",
      "   Total_Appearances  Battles_Fought Age_Category  House_The Targaryens  \\\n",
      "2                 15               2        Adult                     0   \n",
      "4                  6               4       Senior                     0   \n",
      "0                 10               3        Adult                     1   \n",
      "3                  8               1        Child                     1   \n",
      "1                 12               5  Young Adult                     0   \n",
      "\n",
      "   House_The Lannisters  Gender_Equal_To_Male  \n",
      "2                     0                  True  \n",
      "4                     0                 False  \n",
      "0                     0                  True  \n",
      "3                     0                 False  \n",
      "1                     1                 False  \n"
     ]
    }
   ],
   "source": [
    "# Example 9: Comparing Categorical variables for equality\n",
    "df['Gender_Equal_To_Male'] = df['Gender'] == 'Male'\n",
    "print(\"\\nExample 9:\")\n",
    "print(df)"
   ]
  },
  {
   "cell_type": "code",
   "execution_count": 13,
   "metadata": {},
   "outputs": [
    {
     "name": "stdout",
     "output_type": "stream",
     "text": [
      "\n",
      "Example 10:\n",
      "The Starks        2\n",
      "The Targaryens    2\n",
      "The Lannisters    1\n",
      "Name: House, dtype: int64\n"
     ]
    }
   ],
   "source": [
    "# Example 10: Counting occurrences of each category in a Categorical variable\n",
    "house_counts = df['House'].value_counts()\n",
    "print(\"\\nExample 10:\")\n",
    "print(house_counts)"
   ]
  },
  {
   "cell_type": "code",
   "execution_count": 14,
   "metadata": {},
   "outputs": [
    {
     "name": "stdout",
     "output_type": "stream",
     "text": [
      "\n",
      "Example 11:\n",
      "count              5\n",
      "unique             3\n",
      "top       The Starks\n",
      "freq               2\n",
      "Name: House, dtype: object\n"
     ]
    }
   ],
   "source": [
    "# Example 11: Displaying descriptive statistics for a Categorical variable\n",
    "house_description = df['House'].describe()\n",
    "print(\"\\nExample 11:\")\n",
    "print(house_description)\n"
   ]
  },
  {
   "cell_type": "code",
   "execution_count": 15,
   "metadata": {},
   "outputs": [
    {
     "name": "stdout",
     "output_type": "stream",
     "text": [
      "\n",
      "Example 12:\n",
      "                 Name           House    Status  Gender  Age  \\\n",
      "2    Tyrion Lannister      The Starks     Alive    Male   40   \n",
      "4    Cersei Lannister      The Starks  Deceased  Female   45   \n",
      "0            Jon Snow  The Targaryens     Alive    Male   35   \n",
      "3          Arya Stark  The Targaryens     Alive  Female   18   \n",
      "1  Daenerys Targaryen  The Lannisters  Deceased  Female   30   \n",
      "\n",
      "   Total_Appearances  Battles_Fought Age_Category  House_The Targaryens  \\\n",
      "2                 15               2        Adult                     0   \n",
      "4                  6               4       Senior                     0   \n",
      "0                 10               3        Adult                     1   \n",
      "3                  8               1        Child                     1   \n",
      "1                 12               5  Young Adult                     0   \n",
      "\n",
      "   House_The Lannisters  Gender_Equal_To_Male  \n",
      "2                     0                  True  \n",
      "4                     0                 False  \n",
      "0                     0                  True  \n",
      "3                     0                 False  \n",
      "1                     1                 False  \n"
     ]
    }
   ],
   "source": [
    "# Example 12: Changing the order of categories in a Categorical variable\n",
    "df['House'] = df['House'].cat.reorder_categories(['The Lannisters', 'The Starks', 'The Targaryens'])\n",
    "print(\"\\nExample 12:\")\n",
    "print(df)"
   ]
  },
  {
   "cell_type": "code",
   "execution_count": 16,
   "metadata": {},
   "outputs": [
    {
     "name": "stdout",
     "output_type": "stream",
     "text": [
      "\n",
      "Example 13:\n",
      "                 Name           House    Status  Gender  Age  \\\n",
      "2    Tyrion Lannister      The Starks     Alive    Male   40   \n",
      "4    Cersei Lannister      The Starks  Deceased  Female   45   \n",
      "0            Jon Snow  The Targaryens     Alive    Male   35   \n",
      "3          Arya Stark  The Targaryens     Alive  Female   18   \n",
      "1  Daenerys Targaryen  The Lannisters  Deceased  Female   30   \n",
      "\n",
      "   Total_Appearances  Battles_Fought Age_Category  House_The Targaryens  \\\n",
      "2                 15               2        Adult                     0   \n",
      "4                  6               4       Senior                     0   \n",
      "0                 10               3        Adult                     1   \n",
      "3                  8               1        Child                     1   \n",
      "1                 12               5  Young Adult                     0   \n",
      "\n",
      "   House_The Lannisters  Gender_Equal_To_Male  \n",
      "2                     0                  True  \n",
      "4                     0                 False  \n",
      "0                     0                  True  \n",
      "3                     0                 False  \n",
      "1                     1                 False  \n"
     ]
    }
   ],
   "source": [
    "# Example 13: Replacing values in a Categorical variable\n",
    "df['Gender'] = df['Gender'].replace({'Other': 'Unknown'})\n",
    "print(\"\\nExample 13:\")\n",
    "print(df)"
   ]
  },
  {
   "cell_type": "code",
   "execution_count": 17,
   "metadata": {},
   "outputs": [
    {
     "name": "stdout",
     "output_type": "stream",
     "text": [
      "\n",
      "Example 14:\n",
      "                 Name           House    Status  Gender  Age  \\\n",
      "2    Tyrion Lannister      The Starks     Alive    Male   40   \n",
      "4    Cersei Lannister      The Starks  Deceased  Female   45   \n",
      "0            Jon Snow  The Targaryens     Alive    Male   35   \n",
      "3          Arya Stark  The Targaryens     Alive  Female   18   \n",
      "1  Daenerys Targaryen  The Lannisters  Deceased  Female   30   \n",
      "\n",
      "   Total_Appearances  Battles_Fought Age_Category  House_The Targaryens  \\\n",
      "2                 15               2        Adult                     0   \n",
      "4                  6               4       Senior                     0   \n",
      "0                 10               3        Adult                     1   \n",
      "3                  8               1        Child                     1   \n",
      "1                 12               5  Young Adult                     0   \n",
      "\n",
      "   House_The Lannisters  Gender_Equal_To_Male  \n",
      "2                     0                  True  \n",
      "4                     0                 False  \n",
      "0                     0                  True  \n",
      "3                     0                 False  \n",
      "1                     1                 False  \n"
     ]
    },
    {
     "name": "stderr",
     "output_type": "stream",
     "text": [
      "C:\\Users\\rvign\\AppData\\Local\\Temp\\ipykernel_34540\\482225380.py:2: FutureWarning: The `inplace` parameter in pandas.Categorical.remove_unused_categories is deprecated and will be removed in a future version.\n",
      "  df['Gender'].cat.remove_unused_categories(inplace=True)\n"
     ]
    }
   ],
   "source": [
    "# Example 14: Removing unused categories from a Categorical variable\n",
    "df['Gender'].cat.remove_unused_categories(inplace=True)\n",
    "print(\"\\nExample 14:\")\n",
    "print(df)"
   ]
  },
  {
   "cell_type": "code",
   "execution_count": 18,
   "metadata": {},
   "outputs": [
    {
     "name": "stdout",
     "output_type": "stream",
     "text": [
      "\n",
      "Example 15:\n",
      "Name                      object\n",
      "House                   category\n",
      "Status                    object\n",
      "Gender                  category\n",
      "Age                        int64\n",
      "Total_Appearances       category\n",
      "Battles_Fought             int64\n",
      "Age_Category            category\n",
      "House_The Targaryens       uint8\n",
      "House_The Lannisters       uint8\n",
      "Gender_Equal_To_Male        bool\n",
      "dtype: object\n"
     ]
    }
   ],
   "source": [
    "# Example 15: Changing the data type of a column to Categorical\n",
    "df['Total_Appearances'] = df['Total_Appearances'].astype('category')\n",
    "print(\"\\nExample 15:\")\n",
    "print(df.dtypes)"
   ]
  },
  {
   "cell_type": "code",
   "execution_count": 19,
   "metadata": {},
   "outputs": [
    {
     "name": "stdout",
     "output_type": "stream",
     "text": [
      "\n",
      "Example 16:\n",
      "                 Name           House    Status  Gender  Age  \\\n",
      "2    Tyrion Lannister      The Starks     Alive    Male   40   \n",
      "4    Cersei Lannister      The Starks  Deceased  Female   45   \n",
      "0            Jon Snow  The Targaryens     Alive    Male   35   \n",
      "3          Arya Stark  The Targaryens     Alive  Female   18   \n",
      "1  Daenerys Targaryen  The Lannisters  Deceased  Female   30   \n",
      "\n",
      "  Total_Appearances  Battles_Fought Age_Category  House_The Targaryens  \\\n",
      "2                15               2        Adult                     0   \n",
      "4                 6               4       Senior                     0   \n",
      "0                10               3        Adult                     1   \n",
      "3                 8               1        Child                     1   \n",
      "1                12               5  Young Adult                     0   \n",
      "\n",
      "   House_The Lannisters  Gender_Equal_To_Male  \n",
      "2                     0                  True  \n",
      "4                     0                 False  \n",
      "0                     0                  True  \n",
      "3                     0                 False  \n",
      "1                     1                 False  \n"
     ]
    }
   ],
   "source": [
    "# Example 16: Creating a Categorical variable with ordered categories\n",
    "df['Age_Category'] = pd.Categorical(df['Age_Category'], categories=['Child', 'Young Adult', 'Adult', 'Senior'], ordered=True)\n",
    "print(\"\\nExample 16:\")\n",
    "print(df)"
   ]
  },
  {
   "cell_type": "code",
   "execution_count": 20,
   "metadata": {},
   "outputs": [
    {
     "name": "stdout",
     "output_type": "stream",
     "text": [
      "\n",
      "Example 17:\n",
      "               Name           House    Status  Gender  Age Total_Appearances  \\\n",
      "2  Tyrion Lannister      The Starks     Alive    Male   40                15   \n",
      "4  Cersei Lannister      The Starks  Deceased  Female   45                 6   \n",
      "0          Jon Snow  The Targaryens     Alive    Male   35                10   \n",
      "\n",
      "   Battles_Fought Age_Category  House_The Targaryens  House_The Lannisters  \\\n",
      "2               2        Adult                     0                     0   \n",
      "4               4       Senior                     0                     0   \n",
      "0               3        Adult                     1                     0   \n",
      "\n",
      "   Gender_Equal_To_Male  \n",
      "2                  True  \n",
      "4                 False  \n",
      "0                  True  \n"
     ]
    }
   ],
   "source": [
    "# Example 17: Using Categorical variable in logical conditions\n",
    "print(\"\\nExample 17:\")\n",
    "print(df[df['Age_Category'] > 'Young Adult'])"
   ]
  },
  {
   "cell_type": "code",
   "execution_count": 21,
   "metadata": {},
   "outputs": [
    {
     "ename": "TypeError",
     "evalue": "Categorical.__init__() got an unexpected keyword argument 'labels'",
     "output_type": "error",
     "traceback": [
      "\u001b[1;31m---------------------------------------------------------------------------\u001b[0m",
      "\u001b[1;31mTypeError\u001b[0m                                 Traceback (most recent call last)",
      "Cell \u001b[1;32mIn[21], line 2\u001b[0m\n\u001b[0;32m      1\u001b[0m \u001b[39m# Example 18: Creating a Categorical variable from a Series with custom labels\u001b[39;00m\n\u001b[1;32m----> 2\u001b[0m battles_categories \u001b[39m=\u001b[39m pd\u001b[39m.\u001b[39;49mCategorical(df[\u001b[39m'\u001b[39;49m\u001b[39mBattles_Fought\u001b[39;49m\u001b[39m'\u001b[39;49m], labels\u001b[39m=\u001b[39;49m[\u001b[39m'\u001b[39;49m\u001b[39mLow\u001b[39;49m\u001b[39m'\u001b[39;49m, \u001b[39m'\u001b[39;49m\u001b[39mMedium\u001b[39;49m\u001b[39m'\u001b[39;49m, \u001b[39m'\u001b[39;49m\u001b[39mHigh\u001b[39;49m\u001b[39m'\u001b[39;49m], ordered\u001b[39m=\u001b[39;49m\u001b[39mTrue\u001b[39;49;00m)\n\u001b[0;32m      3\u001b[0m df[\u001b[39m'\u001b[39m\u001b[39mBattles_Category\u001b[39m\u001b[39m'\u001b[39m] \u001b[39m=\u001b[39m battles_categories\n\u001b[0;32m      4\u001b[0m \u001b[39mprint\u001b[39m(\u001b[39m\"\u001b[39m\u001b[39m\\n\u001b[39;00m\u001b[39mExample 18:\u001b[39m\u001b[39m\"\u001b[39m)\n",
      "\u001b[1;31mTypeError\u001b[0m: Categorical.__init__() got an unexpected keyword argument 'labels'"
     ]
    }
   ],
   "source": [
    "# Example 18: Creating a Categorical variable from a Series with custom labels\n",
    "battles_categories = pd.Categorical(df['Battles_Fought'], labels=['Low', 'Medium', 'High'], ordered=True)\n",
    "df['Battles_Category'] = battles_categories\n",
    "print(\"\\nExample 18:\")\n",
    "print(df)\n",
    "\n",
    "# Example 19: Applying a function to elements of a Categorical variable\n",
    "def battles_category_description(category):\n",
    "    if category == 'Low':\n",
    "        return 'Few Battles'\n",
    "    elif category == 'Medium':\n",
    "        return 'Moderate Battles'\n",
    "    elif category == 'High':\n",
    "        return 'Many Battles'\n",
    "\n",
    "df['Battles_Category_Description'] = df['Battles_Category'].apply(battles_category_description)\n",
    "print(\"\\nExample 19:\")\n",
    "print(df)"
   ]
  },
  {
   "cell_type": "code",
   "execution_count": 22,
   "metadata": {},
   "outputs": [
    {
     "name": "stdout",
     "output_type": "stream",
     "text": [
      "\n",
      "Example 20:\n",
      "                 Name           House    Status  Gender  Age  \\\n",
      "1  Daenerys Targaryen  The Lannisters  Deceased  Female   30   \n",
      "2    Tyrion Lannister      The Starks     Alive    Male   40   \n",
      "4    Cersei Lannister      The Starks  Deceased  Female   45   \n",
      "0            Jon Snow  The Targaryens     Alive    Male   35   \n",
      "3          Arya Stark  The Targaryens     Alive  Female   18   \n",
      "\n",
      "  Total_Appearances  Battles_Fought Age_Category  House_The Targaryens  \\\n",
      "1                12               5  Young Adult                     0   \n",
      "2                15               2        Adult                     0   \n",
      "4                 6               4       Senior                     0   \n",
      "0                10               3        Adult                     1   \n",
      "3                 8               1        Child                     1   \n",
      "\n",
      "   House_The Lannisters  Gender_Equal_To_Male  \n",
      "1                     1                 False  \n",
      "2                     0                  True  \n",
      "4                     0                 False  \n",
      "0                     0                  True  \n",
      "3                     0                 False  \n"
     ]
    }
   ],
   "source": [
    "# Example 20: Changing the order of categories in a Categorical variable using sort_values()\n",
    "df.sort_values(by='House', inplace=True)\n",
    "print(\"\\nExample 20:\")\n",
    "print(df)"
   ]
  },
  {
   "cell_type": "code",
   "execution_count": 23,
   "metadata": {},
   "outputs": [
    {
     "ename": "TypeError",
     "evalue": "Categorical.__init__() got an unexpected keyword argument 'labels'",
     "output_type": "error",
     "traceback": [
      "\u001b[1;31m---------------------------------------------------------------------------\u001b[0m",
      "\u001b[1;31mTypeError\u001b[0m                                 Traceback (most recent call last)",
      "Cell \u001b[1;32mIn[23], line 2\u001b[0m\n\u001b[0;32m      1\u001b[0m \u001b[39m# Example 21: Creating a Categorical variable from a Series with custom labels\u001b[39;00m\n\u001b[1;32m----> 2\u001b[0m battles_categories \u001b[39m=\u001b[39m pd\u001b[39m.\u001b[39;49mCategorical(df[\u001b[39m'\u001b[39;49m\u001b[39mBattles_Fought\u001b[39;49m\u001b[39m'\u001b[39;49m], labels\u001b[39m=\u001b[39;49m[\u001b[39m'\u001b[39;49m\u001b[39mLow\u001b[39;49m\u001b[39m'\u001b[39;49m, \u001b[39m'\u001b[39;49m\u001b[39mMedium\u001b[39;49m\u001b[39m'\u001b[39;49m, \u001b[39m'\u001b[39;49m\u001b[39mHigh\u001b[39;49m\u001b[39m'\u001b[39;49m], ordered\u001b[39m=\u001b[39;49m\u001b[39mTrue\u001b[39;49;00m)\n\u001b[0;32m      3\u001b[0m df[\u001b[39m'\u001b[39m\u001b[39mBattles_Category\u001b[39m\u001b[39m'\u001b[39m] \u001b[39m=\u001b[39m battles_categories\n\u001b[0;32m      4\u001b[0m \u001b[39mprint\u001b[39m(\u001b[39m\"\u001b[39m\u001b[39m\\n\u001b[39;00m\u001b[39mExample 21:\u001b[39m\u001b[39m\"\u001b[39m)\n",
      "\u001b[1;31mTypeError\u001b[0m: Categorical.__init__() got an unexpected keyword argument 'labels'"
     ]
    }
   ],
   "source": [
    "# Example 21: Creating a Categorical variable from a Series with custom labels\n",
    "battles_categories = pd.Categorical(df['Battles_Fought'], labels=['Low', 'Medium', 'High'], ordered=True)\n",
    "df['Battles_Category'] = battles_categories\n",
    "print(\"\\nExample 21:\")\n",
    "print(df)\n",
    "\n",
    "# Example 22: Applying a function to elements of a Categorical variable\n",
    "def battles_category_description(category):\n",
    "    if category == 'Low':\n",
    "        return 'Few Battles'\n",
    "    elif category == 'Medium':\n",
    "        return 'Moderate Battles'\n",
    "    elif category == 'High':\n",
    "        return 'Many Battles'\n",
    "\n",
    "df['Battles_Category_Description'] = df['Battles_Category'].apply(battles_category_description)\n",
    "print(\"\\nExample 22:\")\n",
    "print(df)"
   ]
  },
  {
   "cell_type": "code",
   "execution_count": 24,
   "metadata": {},
   "outputs": [
    {
     "name": "stdout",
     "output_type": "stream",
     "text": [
      "\n",
      "Example 23:\n",
      "                 Name           House    Status  Gender  Age  \\\n",
      "1  Daenerys Targaryen  The Lannisters  Deceased  Female   30   \n",
      "2    Tyrion Lannister      The Starks     Alive    Male   40   \n",
      "4    Cersei Lannister      The Starks  Deceased  Female   45   \n",
      "0            Jon Snow  The Targaryens     Alive    Male   35   \n",
      "3          Arya Stark  The Targaryens     Alive  Female   18   \n",
      "\n",
      "  Total_Appearances  Battles_Fought Age_Category  House_The Targaryens  \\\n",
      "1                12               5  Young Adult                     0   \n",
      "2                15               2        Adult                     0   \n",
      "4                 6               4       Senior                     0   \n",
      "0                10               3        Adult                     1   \n",
      "3                 8               1        Child                     1   \n",
      "\n",
      "   House_The Lannisters  Gender_Equal_To_Male  \n",
      "1                     1                 False  \n",
      "2                     0                  True  \n",
      "4                     0                 False  \n",
      "0                     0                  True  \n",
      "3                     0                 False  \n"
     ]
    }
   ],
   "source": [
    "\n",
    "# Example 23: Changing the order of categories in a Categorical variable using sort_values()\n",
    "df.sort_values(by='House', inplace=True)\n",
    "print(\"\\nExample 23:\")\n",
    "print(df)\n"
   ]
  }
 ],
 "metadata": {
  "kernelspec": {
   "display_name": "Python 3",
   "language": "python",
   "name": "python3"
  },
  "language_info": {
   "codemirror_mode": {
    "name": "ipython",
    "version": 3
   },
   "file_extension": ".py",
   "mimetype": "text/x-python",
   "name": "python",
   "nbconvert_exporter": "python",
   "pygments_lexer": "ipython3",
   "version": "3.11.2"
  },
  "orig_nbformat": 4
 },
 "nbformat": 4,
 "nbformat_minor": 2
}
