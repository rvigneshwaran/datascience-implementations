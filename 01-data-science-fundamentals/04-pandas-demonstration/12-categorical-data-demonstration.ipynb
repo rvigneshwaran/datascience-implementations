{
 "cells": [
  {
   "cell_type": "code",
   "execution_count": 1,
   "metadata": {},
   "outputs": [],
   "source": [
    "import pandas as pd"
   ]
  },
  {
   "cell_type": "code",
   "execution_count": 2,
   "metadata": {},
   "outputs": [],
   "source": [
    "# Create a sample DataFrame\n",
    "data = {\n",
    "    'Name': ['Jon Snow', 'Daenerys Targaryen', 'Tyrion Lannister', 'Arya Stark', 'Cersei Lannister'],\n",
    "    'House': ['Stark', 'Targaryen', 'Lannister', 'Stark', 'Lannister'],\n",
    "    'Status': ['Alive', 'Deceased', 'Alive', 'Alive', 'Deceased'],\n",
    "    'Gender': ['Male', 'Female', 'Male', 'Female', 'Female'],\n",
    "    'Age': [35, 30, 40, 18, 45],\n",
    "    'Total_Appearances': [10, 12, 15, 8, 6],\n",
    "    'Battles_Fought': [3, 5, 2, 1, 4]\n",
    "}\n",
    "df = pd.DataFrame(data)"
   ]
  },
  {
   "cell_type": "code",
   "execution_count": 3,
   "metadata": {},
   "outputs": [],
   "source": [
    "# Convert 'House' column to a Categorical variable\n",
    "df['House'] = pd.Categorical(df['House'])"
   ]
  },
  {
   "cell_type": "code",
   "execution_count": 4,
   "metadata": {},
   "outputs": [
    {
     "name": "stdout",
     "output_type": "stream",
     "text": [
      "Example 1:\n",
      "Index(['Lannister', 'Stark', 'Targaryen'], dtype='object')\n"
     ]
    }
   ],
   "source": [
    "# Example 1: Displaying the categories in a Categorical variable\n",
    "print(\"Example 1:\")\n",
    "print(df['House'].cat.categories)"
   ]
  },
  {
   "cell_type": "code",
   "execution_count": 5,
   "metadata": {},
   "outputs": [
    {
     "name": "stdout",
     "output_type": "stream",
     "text": [
      "\n",
      "Example 2:\n",
      "0    1\n",
      "1    2\n",
      "2    0\n",
      "3    1\n",
      "4    0\n",
      "dtype: int8\n"
     ]
    }
   ],
   "source": [
    "# Example 2: Displaying the codes for each category in a Categorical variable\n",
    "print(\"\\nExample 2:\")\n",
    "print(df['House'].cat.codes)"
   ]
  },
  {
   "cell_type": "code",
   "execution_count": 6,
   "metadata": {},
   "outputs": [
    {
     "name": "stdout",
     "output_type": "stream",
     "text": [
      "\n",
      "Example 3:\n",
      "                 Name           House    Status  Gender  Age  \\\n",
      "0            Jon Snow  The Targaryens     Alive    Male   35   \n",
      "1  Daenerys Targaryen  The Lannisters  Deceased  Female   30   \n",
      "2    Tyrion Lannister      The Starks     Alive    Male   40   \n",
      "3          Arya Stark  The Targaryens     Alive  Female   18   \n",
      "4    Cersei Lannister      The Starks  Deceased  Female   45   \n",
      "\n",
      "   Total_Appearances  Battles_Fought  \n",
      "0                 10               3  \n",
      "1                 12               5  \n",
      "2                 15               2  \n",
      "3                  8               1  \n",
      "4                  6               4  \n"
     ]
    },
    {
     "name": "stderr",
     "output_type": "stream",
     "text": [
      "C:\\Users\\rvign\\AppData\\Local\\Temp\\ipykernel_34540\\3512311247.py:2: FutureWarning: Setting categories in-place is deprecated and will raise in a future version. Use rename_categories instead.\n",
      "  df['House'].cat.categories = ['The Starks', 'The Targaryens', 'The Lannisters']\n"
     ]
    }
   ],
   "source": [
    "# Example 3: Renaming categories in a Categorical variable\n",
    "df['House'].cat.categories = ['The Starks', 'The Targaryens', 'The Lannisters']\n",
    "print(\"\\nExample 3:\")\n",
    "print(df)\n"
   ]
  },
  {
   "cell_type": "code",
   "execution_count": 7,
   "metadata": {},
   "outputs": [
    {
     "name": "stdout",
     "output_type": "stream",
     "text": [
      "\n",
      "Example 4:\n",
      "                 Name           House    Status  Gender  Age  \\\n",
      "2    Tyrion Lannister      The Starks     Alive    Male   40   \n",
      "4    Cersei Lannister      The Starks  Deceased  Female   45   \n",
      "0            Jon Snow  The Targaryens     Alive    Male   35   \n",
      "3          Arya Stark  The Targaryens     Alive  Female   18   \n",
      "1  Daenerys Targaryen  The Lannisters  Deceased  Female   30   \n",
      "\n",
      "   Total_Appearances  Battles_Fought  \n",
      "2                 15               2  \n",
      "4                  6               4  \n",
      "0                 10               3  \n",
      "3                  8               1  \n",
      "1                 12               5  \n"
     ]
    }
   ],
   "source": [
    "# Example 4: Sorting a DataFrame based on a Categorical variable\n",
    "df.sort_values(by='House', inplace=True)\n",
    "print(\"\\nExample 4:\")\n",
    "print(df)\n"
   ]
  },
  {
   "cell_type": "code",
   "execution_count": 8,
   "metadata": {},
   "outputs": [
    {
     "name": "stdout",
     "output_type": "stream",
     "text": [
      "\n",
      "Example 5:\n",
      "                 Name           House    Status  Gender  Age  \\\n",
      "2    Tyrion Lannister      The Starks     Alive    Male   40   \n",
      "4    Cersei Lannister      The Starks  Deceased  Female   45   \n",
      "0            Jon Snow  The Targaryens     Alive    Male   35   \n",
      "3          Arya Stark  The Targaryens     Alive  Female   18   \n",
      "1  Daenerys Targaryen  The Lannisters  Deceased  Female   30   \n",
      "\n",
      "   Total_Appearances  Battles_Fought Age_Category  \n",
      "2                 15               2        Adult  \n",
      "4                  6               4       Senior  \n",
      "0                 10               3        Adult  \n",
      "3                  8               1        Child  \n",
      "1                 12               5  Young Adult  \n"
     ]
    }
   ],
   "source": [
    "# Example 5: Creating a new Categorical variable based on numeric bins\n",
    "df['Age_Category'] = pd.cut(df['Age'], bins=[0, 20, 30, 40, 50], labels=['Child', 'Young Adult', 'Adult', 'Senior'])\n",
    "print(\"\\nExample 5:\")\n",
    "print(df)\n"
   ]
  },
  {
   "cell_type": "code",
   "execution_count": 9,
   "metadata": {},
   "outputs": [
    {
     "name": "stdout",
     "output_type": "stream",
     "text": [
      "\n",
      "Example 6:\n",
      "                mean  min  max\n",
      "House                         \n",
      "The Starks      42.5   40   45\n",
      "The Targaryens  26.5   18   35\n",
      "The Lannisters  30.0   30   30\n"
     ]
    }
   ],
   "source": [
    "# Example 6: Using the Categorical variable in groupby and aggregation\n",
    "house_group = df.groupby('House')\n",
    "house_stats = house_group['Age'].agg(['mean', 'min', 'max'])\n",
    "print(\"\\nExample 6:\")\n",
    "print(house_stats)"
   ]
  },
  {
   "cell_type": "code",
   "execution_count": 10,
   "metadata": {},
   "outputs": [
    {
     "name": "stdout",
     "output_type": "stream",
     "text": [
      "\n",
      "Example 7:\n",
      "                 Name           House    Status  Gender  Age  \\\n",
      "2    Tyrion Lannister      The Starks     Alive    Male   40   \n",
      "4    Cersei Lannister      The Starks  Deceased  Female   45   \n",
      "0            Jon Snow  The Targaryens     Alive    Male   35   \n",
      "3          Arya Stark  The Targaryens     Alive  Female   18   \n",
      "1  Daenerys Targaryen  The Lannisters  Deceased  Female   30   \n",
      "\n",
      "   Total_Appearances  Battles_Fought Age_Category  House_The Targaryens  \\\n",
      "2                 15               2        Adult                     0   \n",
      "4                  6               4       Senior                     0   \n",
      "0                 10               3        Adult                     1   \n",
      "3                  8               1        Child                     1   \n",
      "1                 12               5  Young Adult                     0   \n",
      "\n",
      "   House_The Lannisters  \n",
      "2                     0  \n",
      "4                     0  \n",
      "0                     0  \n",
      "3                     0  \n",
      "1                     1  \n"
     ]
    }
   ],
   "source": [
    "# Example 7: Creating dummy variables from a Categorical variable\n",
    "dummies = pd.get_dummies(df['House'], prefix='House', drop_first=True)\n",
    "df = pd.concat([df, dummies], axis=1)\n",
    "print(\"\\nExample 7:\")\n",
    "print(df)"
   ]
  },
  {
   "cell_type": "code",
   "execution_count": 11,
   "metadata": {},
   "outputs": [
    {
     "name": "stdout",
     "output_type": "stream",
     "text": [
      "\n",
      "Example 8:\n",
      "                 Name           House    Status  Gender  Age  \\\n",
      "2    Tyrion Lannister      The Starks     Alive    Male   40   \n",
      "4    Cersei Lannister      The Starks  Deceased  Female   45   \n",
      "0            Jon Snow  The Targaryens     Alive    Male   35   \n",
      "3          Arya Stark  The Targaryens     Alive  Female   18   \n",
      "1  Daenerys Targaryen  The Lannisters  Deceased  Female   30   \n",
      "\n",
      "   Total_Appearances  Battles_Fought Age_Category  House_The Targaryens  \\\n",
      "2                 15               2        Adult                     0   \n",
      "4                  6               4       Senior                     0   \n",
      "0                 10               3        Adult                     1   \n",
      "3                  8               1        Child                     1   \n",
      "1                 12               5  Young Adult                     0   \n",
      "\n",
      "   House_The Lannisters  \n",
      "2                     0  \n",
      "4                     0  \n",
      "0                     0  \n",
      "3                     0  \n",
      "1                     1  \n"
     ]
    }
   ],
   "source": [
    "# Example 8: Converting a column to a Categorical variable with specified categories\n",
    "gender_categories = ['Male', 'Female', 'Other']\n",
    "df['Gender'] = pd.Categorical(df['Gender'], categories=gender_categories, ordered=False)\n",
    "print(\"\\nExample 8:\")\n",
    "print(df)"
   ]
  },
  {
   "cell_type": "code",
   "execution_count": 12,
   "metadata": {},
   "outputs": [
    {
     "name": "stdout",
     "output_type": "stream",
     "text": [
      "\n",
      "Example 9:\n",
      "                 Name           House    Status  Gender  Age  \\\n",
      "2    Tyrion Lannister      The Starks     Alive    Male   40   \n",
      "4    Cersei Lannister      The Starks  Deceased  Female   45   \n",
      "0            Jon Snow  The Targaryens     Alive    Male   35   \n",
      "3          Arya Stark  The Targaryens     Alive  Female   18   \n",
      "1  Daenerys Targaryen  The Lannisters  Deceased  Female   30   \n",
      "\n",
      "   Total_Appearances  Battles_Fought Age_Category  House_The Targaryens  \\\n",
      "2                 15               2        Adult                     0   \n",
      "4                  6               4       Senior                     0   \n",
      "0                 10               3        Adult                     1   \n",
      "3                  8               1        Child                     1   \n",
      "1                 12               5  Young Adult                     0   \n",
      "\n",
      "   House_The Lannisters  Gender_Equal_To_Male  \n",
      "2                     0                  True  \n",
      "4                     0                 False  \n",
      "0                     0                  True  \n",
      "3                     0                 False  \n",
      "1                     1                 False  \n"
     ]
    }
   ],
   "source": [
    "# Example 9: Comparing Categorical variables for equality\n",
    "df['Gender_Equal_To_Male'] = df['Gender'] == 'Male'\n",
    "print(\"\\nExample 9:\")\n",
    "print(df)"
   ]
  },
  {
   "cell_type": "code",
   "execution_count": 13,
   "metadata": {},
   "outputs": [
    {
     "name": "stdout",
     "output_type": "stream",
     "text": [
      "\n",
      "Example 10:\n",
      "The Starks        2\n",
      "The Targaryens    2\n",
      "The Lannisters    1\n",
      "Name: House, dtype: int64\n"
     ]
    }
   ],
   "source": [
    "# Example 10: Counting occurrences of each category in a Categorical variable\n",
    "house_counts = df['House'].value_counts()\n",
    "print(\"\\nExample 10:\")\n",
    "print(house_counts)"
   ]
  },
  {
   "cell_type": "code",
   "execution_count": 14,
   "metadata": {},
   "outputs": [
    {
     "name": "stdout",
     "output_type": "stream",
     "text": [
      "\n",
      "Example 11:\n",
      "count              5\n",
      "unique             3\n",
      "top       The Starks\n",
      "freq               2\n",
      "Name: House, dtype: object\n"
     ]
    }
   ],
   "source": [
    "# Example 11: Displaying descriptive statistics for a Categorical variable\n",
    "house_description = df['House'].describe()\n",
    "print(\"\\nExample 11:\")\n",
    "print(house_description)\n"
   ]
  },
  {
   "cell_type": "code",
   "execution_count": 15,
   "metadata": {},
   "outputs": [
    {
     "name": "stdout",
     "output_type": "stream",
     "text": [
      "\n",
      "Example 12:\n",
      "                 Name           House    Status  Gender  Age  \\\n",
      "2    Tyrion Lannister      The Starks     Alive    Male   40   \n",
      "4    Cersei Lannister      The Starks  Deceased  Female   45   \n",
      "0            Jon Snow  The Targaryens     Alive    Male   35   \n",
      "3          Arya Stark  The Targaryens     Alive  Female   18   \n",
      "1  Daenerys Targaryen  The Lannisters  Deceased  Female   30   \n",
      "\n",
      "   Total_Appearances  Battles_Fought Age_Category  House_The Targaryens  \\\n",
      "2                 15               2        Adult                     0   \n",
      "4                  6               4       Senior                     0   \n",
      "0                 10               3        Adult                     1   \n",
      "3                  8               1        Child                     1   \n",
      "1                 12               5  Young Adult                     0   \n",
      "\n",
      "   House_The Lannisters  Gender_Equal_To_Male  \n",
      "2                     0                  True  \n",
      "4                     0                 False  \n",
      "0                     0                  True  \n",
      "3                     0                 False  \n",
      "1                     1                 False  \n"
     ]
    }
   ],
   "source": [
    "# Example 12: Changing the order of categories in a Categorical variable\n",
    "df['House'] = df['House'].cat.reorder_categories(['The Lannisters', 'The Starks', 'The Targaryens'])\n",
    "print(\"\\nExample 12:\")\n",
    "print(df)"
   ]
  },
  {
   "cell_type": "code",
   "execution_count": 16,
   "metadata": {},
   "outputs": [
    {
     "name": "stdout",
     "output_type": "stream",
     "text": [
      "\n",
      "Example 13:\n",
      "                 Name           House    Status  Gender  Age  \\\n",
      "2    Tyrion Lannister      The Starks     Alive    Male   40   \n",
      "4    Cersei Lannister      The Starks  Deceased  Female   45   \n",
      "0            Jon Snow  The Targaryens     Alive    Male   35   \n",
      "3          Arya Stark  The Targaryens     Alive  Female   18   \n",
      "1  Daenerys Targaryen  The Lannisters  Deceased  Female   30   \n",
      "\n",
      "   Total_Appearances  Battles_Fought Age_Category  House_The Targaryens  \\\n",
      "2                 15               2        Adult                     0   \n",
      "4                  6               4       Senior                     0   \n",
      "0                 10               3        Adult                     1   \n",
      "3                  8               1        Child                     1   \n",
      "1                 12               5  Young Adult                     0   \n",
      "\n",
      "   House_The Lannisters  Gender_Equal_To_Male  \n",
      "2                     0                  True  \n",
      "4                     0                 False  \n",
      "0                     0                  True  \n",
      "3                     0                 False  \n",
      "1                     1                 False  \n"
     ]
    }
   ],
   "source": [
    "# Example 13: Replacing values in a Categorical variable\n",
    "df['Gender'] = df['Gender'].replace({'Other': 'Unknown'})\n",
    "print(\"\\nExample 13:\")\n",
    "print(df)"
   ]
  },
  {
   "cell_type": "code",
   "execution_count": 17,
   "metadata": {},
   "outputs": [
    {
     "name": "stdout",
     "output_type": "stream",
     "text": [
      "\n",
      "Example 14:\n",
      "                 Name           House    Status  Gender  Age  \\\n",
      "2    Tyrion Lannister      The Starks     Alive    Male   40   \n",
      "4    Cersei Lannister      The Starks  Deceased  Female   45   \n",
      "0            Jon Snow  The Targaryens     Alive    Male   35   \n",
      "3          Arya Stark  The Targaryens     Alive  Female   18   \n",
      "1  Daenerys Targaryen  The Lannisters  Deceased  Female   30   \n",
      "\n",
      "   Total_Appearances  Battles_Fought Age_Category  House_The Targaryens  \\\n",
      "2                 15               2        Adult                     0   \n",
      "4                  6               4       Senior                     0   \n",
      "0                 10               3        Adult                     1   \n",
      "3                  8               1        Child                     1   \n",
      "1                 12               5  Young Adult                     0   \n",
      "\n",
      "   House_The Lannisters  Gender_Equal_To_Male  \n",
      "2                     0                  True  \n",
      "4                     0                 False  \n",
      "0                     0                  True  \n",
      "3                     0                 False  \n",
      "1                     1                 False  \n"
     ]
    },
    {
     "name": "stderr",
     "output_type": "stream",
     "text": [
      "C:\\Users\\rvign\\AppData\\Local\\Temp\\ipykernel_34540\\482225380.py:2: FutureWarning: The `inplace` parameter in pandas.Categorical.remove_unused_categories is deprecated and will be removed in a future version.\n",
      "  df['Gender'].cat.remove_unused_categories(inplace=True)\n"
     ]
    }
   ],
   "source": [
    "# Example 14: Removing unused categories from a Categorical variable\n",
    "df['Gender'].cat.remove_unused_categories(inplace=True)\n",
    "print(\"\\nExample 14:\")\n",
    "print(df)"
   ]
  },
  {
   "cell_type": "code",
   "execution_count": 18,
   "metadata": {},
   "outputs": [
    {
     "name": "stdout",
     "output_type": "stream",
     "text": [
      "\n",
      "Example 15:\n",
      "Name                      object\n",
      "House                   category\n",
      "Status                    object\n",
      "Gender                  category\n",
      "Age                        int64\n",
      "Total_Appearances       category\n",
      "Battles_Fought             int64\n",
      "Age_Category            category\n",
      "House_The Targaryens       uint8\n",
      "House_The Lannisters       uint8\n",
      "Gender_Equal_To_Male        bool\n",
      "dtype: object\n"
     ]
    }
   ],
   "source": [
    "# Example 15: Changing the data type of a column to Categorical\n",
    "df['Total_Appearances'] = df['Total_Appearances'].astype('category')\n",
    "print(\"\\nExample 15:\")\n",
    "print(df.dtypes)"
   ]
  },
  {
   "cell_type": "code",
   "execution_count": 19,
   "metadata": {},
   "outputs": [
    {
     "name": "stdout",
     "output_type": "stream",
     "text": [
      "\n",
      "Example 16:\n",
      "                 Name           House    Status  Gender  Age  \\\n",
      "2    Tyrion Lannister      The Starks     Alive    Male   40   \n",
      "4    Cersei Lannister      The Starks  Deceased  Female   45   \n",
      "0            Jon Snow  The Targaryens     Alive    Male   35   \n",
      "3          Arya Stark  The Targaryens     Alive  Female   18   \n",
      "1  Daenerys Targaryen  The Lannisters  Deceased  Female   30   \n",
      "\n",
      "  Total_Appearances  Battles_Fought Age_Category  House_The Targaryens  \\\n",
      "2                15               2        Adult                     0   \n",
      "4                 6               4       Senior                     0   \n",
      "0                10               3        Adult                     1   \n",
      "3                 8               1        Child                     1   \n",
      "1                12               5  Young Adult                     0   \n",
      "\n",
      "   House_The Lannisters  Gender_Equal_To_Male  \n",
      "2                     0                  True  \n",
      "4                     0                 False  \n",
      "0                     0                  True  \n",
      "3                     0                 False  \n",
      "1                     1                 False  \n"
     ]
    }
   ],
   "source": [
    "# Example 16: Creating a Categorical variable with ordered categories\n",
    "df['Age_Category'] = pd.Categorical(df['Age_Category'], categories=['Child', 'Young Adult', 'Adult', 'Senior'], ordered=True)\n",
    "print(\"\\nExample 16:\")\n",
    "print(df)"
   ]
  },
  {
   "cell_type": "code",
   "execution_count": 20,
   "metadata": {},
   "outputs": [
    {
     "name": "stdout",
     "output_type": "stream",
     "text": [
      "\n",
      "Example 17:\n",
      "               Name           House    Status  Gender  Age Total_Appearances  \\\n",
      "2  Tyrion Lannister      The Starks     Alive    Male   40                15   \n",
      "4  Cersei Lannister      The Starks  Deceased  Female   45                 6   \n",
      "0          Jon Snow  The Targaryens     Alive    Male   35                10   \n",
      "\n",
      "   Battles_Fought Age_Category  House_The Targaryens  House_The Lannisters  \\\n",
      "2               2        Adult                     0                     0   \n",
      "4               4       Senior                     0                     0   \n",
      "0               3        Adult                     1                     0   \n",
      "\n",
      "   Gender_Equal_To_Male  \n",
      "2                  True  \n",
      "4                 False  \n",
      "0                  True  \n"
     ]
    }
   ],
   "source": [
    "# Example 17: Using Categorical variable in logical conditions\n",
    "print(\"\\nExample 17:\")\n",
    "print(df[df['Age_Category'] > 'Young Adult'])"
   ]
  },
  {
   "cell_type": "code",
   "execution_count": 21,
   "metadata": {},
   "outputs": [
    {
     "ename": "TypeError",
     "evalue": "Categorical.__init__() got an unexpected keyword argument 'labels'",
     "output_type": "error",
     "traceback": [
      "\u001b[1;31m---------------------------------------------------------------------------\u001b[0m",
      "\u001b[1;31mTypeError\u001b[0m                                 Traceback (most recent call last)",
      "Cell \u001b[1;32mIn[21], line 2\u001b[0m\n\u001b[0;32m      1\u001b[0m \u001b[39m# Example 18: Creating a Categorical variable from a Series with custom labels\u001b[39;00m\n\u001b[1;32m----> 2\u001b[0m battles_categories \u001b[39m=\u001b[39m pd\u001b[39m.\u001b[39;49mCategorical(df[\u001b[39m'\u001b[39;49m\u001b[39mBattles_Fought\u001b[39;49m\u001b[39m'\u001b[39;49m], labels\u001b[39m=\u001b[39;49m[\u001b[39m'\u001b[39;49m\u001b[39mLow\u001b[39;49m\u001b[39m'\u001b[39;49m, \u001b[39m'\u001b[39;49m\u001b[39mMedium\u001b[39;49m\u001b[39m'\u001b[39;49m, \u001b[39m'\u001b[39;49m\u001b[39mHigh\u001b[39;49m\u001b[39m'\u001b[39;49m], ordered\u001b[39m=\u001b[39;49m\u001b[39mTrue\u001b[39;49;00m)\n\u001b[0;32m      3\u001b[0m df[\u001b[39m'\u001b[39m\u001b[39mBattles_Category\u001b[39m\u001b[39m'\u001b[39m] \u001b[39m=\u001b[39m battles_categories\n\u001b[0;32m      4\u001b[0m \u001b[39mprint\u001b[39m(\u001b[39m\"\u001b[39m\u001b[39m\\n\u001b[39;00m\u001b[39mExample 18:\u001b[39m\u001b[39m\"\u001b[39m)\n",
      "\u001b[1;31mTypeError\u001b[0m: Categorical.__init__() got an unexpected keyword argument 'labels'"
     ]
    }
   ],
   "source": [
    "# Example 18: Creating a Categorical variable from a Series with custom labels\n",
    "battles_categories = pd.Categorical(df['Battles_Fought'], labels=['Low', 'Medium', 'High'], ordered=True)\n",
    "df['Battles_Category'] = battles_categories\n",
    "print(\"\\nExample 18:\")\n",
    "print(df)\n",
    "\n",
    "# Example 19: Applying a function to elements of a Categorical variable\n",
    "def battles_category_description(category):\n",
    "    if category == 'Low':\n",
    "        return 'Few Battles'\n",
    "    elif category == 'Medium':\n",
    "        return 'Moderate Battles'\n",
    "    elif category == 'High':\n",
    "        return 'Many Battles'\n",
    "\n",
    "df['Battles_Category_Description'] = df['Battles_Category'].apply(battles_category_description)\n",
    "print(\"\\nExample 19:\")\n",
    "print(df)"
   ]
  },
  {
   "cell_type": "code",
   "execution_count": 22,
   "metadata": {},
   "outputs": [
    {
     "name": "stdout",
     "output_type": "stream",
     "text": [
      "\n",
      "Example 20:\n",
      "                 Name           House    Status  Gender  Age  \\\n",
      "1  Daenerys Targaryen  The Lannisters  Deceased  Female   30   \n",
      "2    Tyrion Lannister      The Starks     Alive    Male   40   \n",
      "4    Cersei Lannister      The Starks  Deceased  Female   45   \n",
      "0            Jon Snow  The Targaryens     Alive    Male   35   \n",
      "3          Arya Stark  The Targaryens     Alive  Female   18   \n",
      "\n",
      "  Total_Appearances  Battles_Fought Age_Category  House_The Targaryens  \\\n",
      "1                12               5  Young Adult                     0   \n",
      "2                15               2        Adult                     0   \n",
      "4                 6               4       Senior                     0   \n",
      "0                10               3        Adult                     1   \n",
      "3                 8               1        Child                     1   \n",
      "\n",
      "   House_The Lannisters  Gender_Equal_To_Male  \n",
      "1                     1                 False  \n",
      "2                     0                  True  \n",
      "4                     0                 False  \n",
      "0                     0                  True  \n",
      "3                     0                 False  \n"
     ]
    }
   ],
   "source": [
    "# Example 20: Changing the order of categories in a Categorical variable using sort_values()\n",
    "df.sort_values(by='House', inplace=True)\n",
    "print(\"\\nExample 20:\")\n",
    "print(df)"
   ]
  },
  {
   "cell_type": "code",
   "execution_count": 23,
   "metadata": {},
   "outputs": [
    {
     "ename": "TypeError",
     "evalue": "Categorical.__init__() got an unexpected keyword argument 'labels'",
     "output_type": "error",
     "traceback": [
      "\u001b[1;31m---------------------------------------------------------------------------\u001b[0m",
      "\u001b[1;31mTypeError\u001b[0m                                 Traceback (most recent call last)",
      "Cell \u001b[1;32mIn[23], line 2\u001b[0m\n\u001b[0;32m      1\u001b[0m \u001b[39m# Example 21: Creating a Categorical variable from a Series with custom labels\u001b[39;00m\n\u001b[1;32m----> 2\u001b[0m battles_categories \u001b[39m=\u001b[39m pd\u001b[39m.\u001b[39;49mCategorical(df[\u001b[39m'\u001b[39;49m\u001b[39mBattles_Fought\u001b[39;49m\u001b[39m'\u001b[39;49m], labels\u001b[39m=\u001b[39;49m[\u001b[39m'\u001b[39;49m\u001b[39mLow\u001b[39;49m\u001b[39m'\u001b[39;49m, \u001b[39m'\u001b[39;49m\u001b[39mMedium\u001b[39;49m\u001b[39m'\u001b[39;49m, \u001b[39m'\u001b[39;49m\u001b[39mHigh\u001b[39;49m\u001b[39m'\u001b[39;49m], ordered\u001b[39m=\u001b[39;49m\u001b[39mTrue\u001b[39;49;00m)\n\u001b[0;32m      3\u001b[0m df[\u001b[39m'\u001b[39m\u001b[39mBattles_Category\u001b[39m\u001b[39m'\u001b[39m] \u001b[39m=\u001b[39m battles_categories\n\u001b[0;32m      4\u001b[0m \u001b[39mprint\u001b[39m(\u001b[39m\"\u001b[39m\u001b[39m\\n\u001b[39;00m\u001b[39mExample 21:\u001b[39m\u001b[39m\"\u001b[39m)\n",
      "\u001b[1;31mTypeError\u001b[0m: Categorical.__init__() got an unexpected keyword argument 'labels'"
     ]
    }
   ],
   "source": [
    "# Example 21: Creating a Categorical variable from a Series with custom labels\n",
    "battles_categories = pd.Categorical(df['Battles_Fought'], labels=['Low', 'Medium', 'High'], ordered=True)\n",
    "df['Battles_Category'] = battles_categories\n",
    "print(\"\\nExample 21:\")\n",
    "print(df)\n",
    "\n",
    "# Example 22: Applying a function to elements of a Categorical variable\n",
    "def battles_category_description(category):\n",
    "    if category == 'Low':\n",
    "        return 'Few Battles'\n",
    "    elif category == 'Medium':\n",
    "        return 'Moderate Battles'\n",
    "    elif category == 'High':\n",
    "        return 'Many Battles'\n",
    "\n",
    "df['Battles_Category_Description'] = df['Battles_Category'].apply(battles_category_description)\n",
    "print(\"\\nExample 22:\")\n",
    "print(df)"
   ]
  },
  {
   "cell_type": "code",
   "execution_count": 24,
   "metadata": {},
   "outputs": [
    {
     "name": "stdout",
     "output_type": "stream",
     "text": [
      "\n",
      "Example 23:\n",
      "                 Name           House    Status  Gender  Age  \\\n",
      "1  Daenerys Targaryen  The Lannisters  Deceased  Female   30   \n",
      "2    Tyrion Lannister      The Starks     Alive    Male   40   \n",
      "4    Cersei Lannister      The Starks  Deceased  Female   45   \n",
      "0            Jon Snow  The Targaryens     Alive    Male   35   \n",
      "3          Arya Stark  The Targaryens     Alive  Female   18   \n",
      "\n",
      "  Total_Appearances  Battles_Fought Age_Category  House_The Targaryens  \\\n",
      "1                12               5  Young Adult                     0   \n",
      "2                15               2        Adult                     0   \n",
      "4                 6               4       Senior                     0   \n",
      "0                10               3        Adult                     1   \n",
      "3                 8               1        Child                     1   \n",
      "\n",
      "   House_The Lannisters  Gender_Equal_To_Male  \n",
      "1                     1                 False  \n",
      "2                     0                  True  \n",
      "4                     0                 False  \n",
      "0                     0                  True  \n",
      "3                     0                 False  \n"
     ]
    }
   ],
   "source": [
    "\n",
    "# Example 23: Changing the order of categories in a Categorical variable using sort_values()\n",
    "df.sort_values(by='House', inplace=True)\n",
    "print(\"\\nExample 23:\")\n",
    "print(df)\n"
   ]
  },
  {
   "cell_type": "code",
   "execution_count": 25,
   "metadata": {},
   "outputs": [
    {
     "ename": "TypeError",
     "evalue": "Categorical.__init__() got an unexpected keyword argument 'labels'",
     "output_type": "error",
     "traceback": [
      "\u001b[1;31m---------------------------------------------------------------------------\u001b[0m",
      "\u001b[1;31mTypeError\u001b[0m                                 Traceback (most recent call last)",
      "Cell \u001b[1;32mIn[25], line 2\u001b[0m\n\u001b[0;32m      1\u001b[0m \u001b[39m# Example 24: Creating a Categorical variable from a Series with custom labels\u001b[39;00m\n\u001b[1;32m----> 2\u001b[0m battles_categories \u001b[39m=\u001b[39m pd\u001b[39m.\u001b[39;49mCategorical(df[\u001b[39m'\u001b[39;49m\u001b[39mBattles_Fought\u001b[39;49m\u001b[39m'\u001b[39;49m], labels\u001b[39m=\u001b[39;49m[\u001b[39m'\u001b[39;49m\u001b[39mLow\u001b[39;49m\u001b[39m'\u001b[39;49m, \u001b[39m'\u001b[39;49m\u001b[39mMedium\u001b[39;49m\u001b[39m'\u001b[39;49m, \u001b[39m'\u001b[39;49m\u001b[39mHigh\u001b[39;49m\u001b[39m'\u001b[39;49m], ordered\u001b[39m=\u001b[39;49m\u001b[39mTrue\u001b[39;49;00m)\n\u001b[0;32m      3\u001b[0m df[\u001b[39m'\u001b[39m\u001b[39mBattles_Category\u001b[39m\u001b[39m'\u001b[39m] \u001b[39m=\u001b[39m battles_categories\n\u001b[0;32m      4\u001b[0m \u001b[39mprint\u001b[39m(\u001b[39m\"\u001b[39m\u001b[39m\\n\u001b[39;00m\u001b[39mExample 24:\u001b[39m\u001b[39m\"\u001b[39m)\n",
      "\u001b[1;31mTypeError\u001b[0m: Categorical.__init__() got an unexpected keyword argument 'labels'"
     ]
    }
   ],
   "source": [
    "# Example 24: Creating a Categorical variable from a Series with custom labels\n",
    "battles_categories = pd.Categorical(df['Battles_Fought'], labels=['Low', 'Medium', 'High'], ordered=True)\n",
    "df['Battles_Category'] = battles_categories\n",
    "print(\"\\nExample 24:\")\n",
    "print(df)"
   ]
  },
  {
   "cell_type": "code",
   "execution_count": 26,
   "metadata": {},
   "outputs": [
    {
     "ename": "KeyError",
     "evalue": "'Battles_Category'",
     "output_type": "error",
     "traceback": [
      "\u001b[1;31m---------------------------------------------------------------------------\u001b[0m",
      "\u001b[1;31mKeyError\u001b[0m                                  Traceback (most recent call last)",
      "File \u001b[1;32mc:\\Program Files\\Python311\\Lib\\site-packages\\pandas\\core\\indexes\\base.py:3802\u001b[0m, in \u001b[0;36mIndex.get_loc\u001b[1;34m(self, key, method, tolerance)\u001b[0m\n\u001b[0;32m   3801\u001b[0m \u001b[39mtry\u001b[39;00m:\n\u001b[1;32m-> 3802\u001b[0m     \u001b[39mreturn\u001b[39;00m \u001b[39mself\u001b[39;49m\u001b[39m.\u001b[39;49m_engine\u001b[39m.\u001b[39;49mget_loc(casted_key)\n\u001b[0;32m   3803\u001b[0m \u001b[39mexcept\u001b[39;00m \u001b[39mKeyError\u001b[39;00m \u001b[39mas\u001b[39;00m err:\n",
      "File \u001b[1;32mc:\\Program Files\\Python311\\Lib\\site-packages\\pandas\\_libs\\index.pyx:138\u001b[0m, in \u001b[0;36mpandas._libs.index.IndexEngine.get_loc\u001b[1;34m()\u001b[0m\n",
      "File \u001b[1;32mc:\\Program Files\\Python311\\Lib\\site-packages\\pandas\\_libs\\index.pyx:165\u001b[0m, in \u001b[0;36mpandas._libs.index.IndexEngine.get_loc\u001b[1;34m()\u001b[0m\n",
      "File \u001b[1;32mpandas\\_libs\\hashtable_class_helper.pxi:5745\u001b[0m, in \u001b[0;36mpandas._libs.hashtable.PyObjectHashTable.get_item\u001b[1;34m()\u001b[0m\n",
      "File \u001b[1;32mpandas\\_libs\\hashtable_class_helper.pxi:5753\u001b[0m, in \u001b[0;36mpandas._libs.hashtable.PyObjectHashTable.get_item\u001b[1;34m()\u001b[0m\n",
      "\u001b[1;31mKeyError\u001b[0m: 'Battles_Category'",
      "\nThe above exception was the direct cause of the following exception:\n",
      "\u001b[1;31mKeyError\u001b[0m                                  Traceback (most recent call last)",
      "Cell \u001b[1;32mIn[26], line 10\u001b[0m\n\u001b[0;32m      7\u001b[0m     \u001b[39melif\u001b[39;00m category \u001b[39m==\u001b[39m \u001b[39m'\u001b[39m\u001b[39mHigh\u001b[39m\u001b[39m'\u001b[39m:\n\u001b[0;32m      8\u001b[0m         \u001b[39mreturn\u001b[39;00m \u001b[39m'\u001b[39m\u001b[39mMany Battles\u001b[39m\u001b[39m'\u001b[39m\n\u001b[1;32m---> 10\u001b[0m df[\u001b[39m'\u001b[39m\u001b[39mBattles_Category_Description\u001b[39m\u001b[39m'\u001b[39m] \u001b[39m=\u001b[39m df[\u001b[39m'\u001b[39;49m\u001b[39mBattles_Category\u001b[39;49m\u001b[39m'\u001b[39;49m]\u001b[39m.\u001b[39mapply(battles_category_description)\n\u001b[0;32m     11\u001b[0m \u001b[39mprint\u001b[39m(\u001b[39m\"\u001b[39m\u001b[39m\\n\u001b[39;00m\u001b[39mExample 25:\u001b[39m\u001b[39m\"\u001b[39m)\n\u001b[0;32m     12\u001b[0m \u001b[39mprint\u001b[39m(df)\n",
      "File \u001b[1;32mc:\\Program Files\\Python311\\Lib\\site-packages\\pandas\\core\\frame.py:3807\u001b[0m, in \u001b[0;36mDataFrame.__getitem__\u001b[1;34m(self, key)\u001b[0m\n\u001b[0;32m   3805\u001b[0m \u001b[39mif\u001b[39;00m \u001b[39mself\u001b[39m\u001b[39m.\u001b[39mcolumns\u001b[39m.\u001b[39mnlevels \u001b[39m>\u001b[39m \u001b[39m1\u001b[39m:\n\u001b[0;32m   3806\u001b[0m     \u001b[39mreturn\u001b[39;00m \u001b[39mself\u001b[39m\u001b[39m.\u001b[39m_getitem_multilevel(key)\n\u001b[1;32m-> 3807\u001b[0m indexer \u001b[39m=\u001b[39m \u001b[39mself\u001b[39;49m\u001b[39m.\u001b[39;49mcolumns\u001b[39m.\u001b[39;49mget_loc(key)\n\u001b[0;32m   3808\u001b[0m \u001b[39mif\u001b[39;00m is_integer(indexer):\n\u001b[0;32m   3809\u001b[0m     indexer \u001b[39m=\u001b[39m [indexer]\n",
      "File \u001b[1;32mc:\\Program Files\\Python311\\Lib\\site-packages\\pandas\\core\\indexes\\base.py:3804\u001b[0m, in \u001b[0;36mIndex.get_loc\u001b[1;34m(self, key, method, tolerance)\u001b[0m\n\u001b[0;32m   3802\u001b[0m     \u001b[39mreturn\u001b[39;00m \u001b[39mself\u001b[39m\u001b[39m.\u001b[39m_engine\u001b[39m.\u001b[39mget_loc(casted_key)\n\u001b[0;32m   3803\u001b[0m \u001b[39mexcept\u001b[39;00m \u001b[39mKeyError\u001b[39;00m \u001b[39mas\u001b[39;00m err:\n\u001b[1;32m-> 3804\u001b[0m     \u001b[39mraise\u001b[39;00m \u001b[39mKeyError\u001b[39;00m(key) \u001b[39mfrom\u001b[39;00m \u001b[39merr\u001b[39;00m\n\u001b[0;32m   3805\u001b[0m \u001b[39mexcept\u001b[39;00m \u001b[39mTypeError\u001b[39;00m:\n\u001b[0;32m   3806\u001b[0m     \u001b[39m# If we have a listlike key, _check_indexing_error will raise\u001b[39;00m\n\u001b[0;32m   3807\u001b[0m     \u001b[39m#  InvalidIndexError. Otherwise we fall through and re-raise\u001b[39;00m\n\u001b[0;32m   3808\u001b[0m     \u001b[39m#  the TypeError.\u001b[39;00m\n\u001b[0;32m   3809\u001b[0m     \u001b[39mself\u001b[39m\u001b[39m.\u001b[39m_check_indexing_error(key)\n",
      "\u001b[1;31mKeyError\u001b[0m: 'Battles_Category'"
     ]
    }
   ],
   "source": [
    "# Example 25: Applying a function to elements of a Categorical variable\n",
    "def battles_category_description(category):\n",
    "    if category == 'Low':\n",
    "        return 'Few Battles'\n",
    "    elif category == 'Medium':\n",
    "        return 'Moderate Battles'\n",
    "    elif category == 'High':\n",
    "        return 'Many Battles'\n",
    "\n",
    "df['Battles_Category_Description'] = df['Battles_Category'].apply(battles_category_description)\n",
    "print(\"\\nExample 25:\")\n",
    "print(df)"
   ]
  },
  {
   "cell_type": "code",
   "execution_count": 27,
   "metadata": {},
   "outputs": [
    {
     "name": "stdout",
     "output_type": "stream",
     "text": [
      "\n",
      "Example 26:\n",
      "Gender          Male  Female\n",
      "House                       \n",
      "The Lannisters   NaN    30.0\n",
      "The Starks      40.0    45.0\n",
      "The Targaryens  35.0    18.0\n"
     ]
    }
   ],
   "source": [
    "# Example 26: Using the Categorical variable in pivot tables\n",
    "pivot_table = df.pivot_table(index='House', columns='Gender', values='Age', aggfunc='mean')\n",
    "print(\"\\nExample 26:\")\n",
    "print(pivot_table)"
   ]
  },
  {
   "cell_type": "code",
   "execution_count": 28,
   "metadata": {},
   "outputs": [
    {
     "name": "stdout",
     "output_type": "stream",
     "text": [
      "\n",
      "Example 27:\n",
      "Age_Category\n",
      "Child          18.0\n",
      "Young Adult    30.0\n",
      "Adult          37.5\n",
      "Senior         45.0\n",
      "Name: Age, dtype: float64\n"
     ]
    }
   ],
   "source": [
    "# Example 27: Using Categorical variable for grouping and aggregating\n",
    "age_group = df.groupby('Age_Category')['Age'].mean()\n",
    "print(\"\\nExample 27:\")\n",
    "print(age_group)"
   ]
  },
  {
   "cell_type": "code",
   "execution_count": 29,
   "metadata": {},
   "outputs": [
    {
     "ename": "TypeError",
     "evalue": "category type does not support sum operations",
     "output_type": "error",
     "traceback": [
      "\u001b[1;31m---------------------------------------------------------------------------\u001b[0m",
      "\u001b[1;31mTypeError\u001b[0m                                 Traceback (most recent call last)",
      "Cell \u001b[1;32mIn[29], line 2\u001b[0m\n\u001b[0;32m      1\u001b[0m \u001b[39m# Example 28: Combining multiple Categorical variables for grouping and aggregating\u001b[39;00m\n\u001b[1;32m----> 2\u001b[0m grouped_data \u001b[39m=\u001b[39m df\u001b[39m.\u001b[39;49mgroupby([\u001b[39m'\u001b[39;49m\u001b[39mHouse\u001b[39;49m\u001b[39m'\u001b[39;49m, \u001b[39m'\u001b[39;49m\u001b[39mAge_Category\u001b[39;49m\u001b[39m'\u001b[39;49m])[\u001b[39m'\u001b[39;49m\u001b[39mTotal_Appearances\u001b[39;49m\u001b[39m'\u001b[39;49m]\u001b[39m.\u001b[39;49msum()\u001b[39m.\u001b[39mreset_index()\n\u001b[0;32m      3\u001b[0m \u001b[39mprint\u001b[39m(\u001b[39m\"\u001b[39m\u001b[39m\\n\u001b[39;00m\u001b[39mExample 28:\u001b[39m\u001b[39m\"\u001b[39m)\n\u001b[0;32m      4\u001b[0m \u001b[39mprint\u001b[39m(grouped_data)\n",
      "File \u001b[1;32mc:\\Program Files\\Python311\\Lib\\site-packages\\pandas\\core\\groupby\\groupby.py:2456\u001b[0m, in \u001b[0;36mGroupBy.sum\u001b[1;34m(self, numeric_only, min_count, engine, engine_kwargs)\u001b[0m\n\u001b[0;32m   2451\u001b[0m \u001b[39melse\u001b[39;00m:\n\u001b[0;32m   2452\u001b[0m     \u001b[39m# If we are grouping on categoricals we want unobserved categories to\u001b[39;00m\n\u001b[0;32m   2453\u001b[0m     \u001b[39m# return zero, rather than the default of NaN which the reindexing in\u001b[39;00m\n\u001b[0;32m   2454\u001b[0m     \u001b[39m# _agg_general() returns. GH #31422\u001b[39;00m\n\u001b[0;32m   2455\u001b[0m     \u001b[39mwith\u001b[39;00m com\u001b[39m.\u001b[39mtemp_setattr(\u001b[39mself\u001b[39m, \u001b[39m\"\u001b[39m\u001b[39mobserved\u001b[39m\u001b[39m\"\u001b[39m, \u001b[39mTrue\u001b[39;00m):\n\u001b[1;32m-> 2456\u001b[0m         result \u001b[39m=\u001b[39m \u001b[39mself\u001b[39;49m\u001b[39m.\u001b[39;49m_agg_general(\n\u001b[0;32m   2457\u001b[0m             numeric_only\u001b[39m=\u001b[39;49mnumeric_only,\n\u001b[0;32m   2458\u001b[0m             min_count\u001b[39m=\u001b[39;49mmin_count,\n\u001b[0;32m   2459\u001b[0m             alias\u001b[39m=\u001b[39;49m\u001b[39m\"\u001b[39;49m\u001b[39msum\u001b[39;49m\u001b[39m\"\u001b[39;49m,\n\u001b[0;32m   2460\u001b[0m             npfunc\u001b[39m=\u001b[39;49mnp\u001b[39m.\u001b[39;49msum,\n\u001b[0;32m   2461\u001b[0m         )\n\u001b[0;32m   2463\u001b[0m     \u001b[39mreturn\u001b[39;00m \u001b[39mself\u001b[39m\u001b[39m.\u001b[39m_reindex_output(result, fill_value\u001b[39m=\u001b[39m\u001b[39m0\u001b[39m)\n",
      "File \u001b[1;32mc:\\Program Files\\Python311\\Lib\\site-packages\\pandas\\core\\groupby\\groupby.py:1711\u001b[0m, in \u001b[0;36mGroupBy._agg_general\u001b[1;34m(self, numeric_only, min_count, alias, npfunc)\u001b[0m\n\u001b[0;32m   1699\u001b[0m \u001b[39m@final\u001b[39m\n\u001b[0;32m   1700\u001b[0m \u001b[39mdef\u001b[39;00m \u001b[39m_agg_general\u001b[39m(\n\u001b[0;32m   1701\u001b[0m     \u001b[39mself\u001b[39m,\n\u001b[1;32m   (...)\u001b[0m\n\u001b[0;32m   1706\u001b[0m     npfunc: Callable,\n\u001b[0;32m   1707\u001b[0m ):\n\u001b[0;32m   1709\u001b[0m     \u001b[39mwith\u001b[39;00m \u001b[39mself\u001b[39m\u001b[39m.\u001b[39m_group_selection_context():\n\u001b[0;32m   1710\u001b[0m         \u001b[39m# try a cython aggregation if we can\u001b[39;00m\n\u001b[1;32m-> 1711\u001b[0m         result \u001b[39m=\u001b[39m \u001b[39mself\u001b[39;49m\u001b[39m.\u001b[39;49m_cython_agg_general(\n\u001b[0;32m   1712\u001b[0m             how\u001b[39m=\u001b[39;49malias,\n\u001b[0;32m   1713\u001b[0m             alt\u001b[39m=\u001b[39;49mnpfunc,\n\u001b[0;32m   1714\u001b[0m             numeric_only\u001b[39m=\u001b[39;49mnumeric_only,\n\u001b[0;32m   1715\u001b[0m             min_count\u001b[39m=\u001b[39;49mmin_count,\n\u001b[0;32m   1716\u001b[0m         )\n\u001b[0;32m   1717\u001b[0m         \u001b[39mreturn\u001b[39;00m result\u001b[39m.\u001b[39m__finalize__(\u001b[39mself\u001b[39m\u001b[39m.\u001b[39mobj, method\u001b[39m=\u001b[39m\u001b[39m\"\u001b[39m\u001b[39mgroupby\u001b[39m\u001b[39m\"\u001b[39m)\n",
      "File \u001b[1;32mc:\\Program Files\\Python311\\Lib\\site-packages\\pandas\\core\\groupby\\groupby.py:1810\u001b[0m, in \u001b[0;36mGroupBy._cython_agg_general\u001b[1;34m(self, how, alt, numeric_only, min_count, ignore_failures, **kwargs)\u001b[0m\n\u001b[0;32m   1806\u001b[0m     \u001b[39mreturn\u001b[39;00m result\n\u001b[0;32m   1808\u001b[0m \u001b[39m# TypeError -> we may have an exception in trying to aggregate\u001b[39;00m\n\u001b[0;32m   1809\u001b[0m \u001b[39m#  continue and exclude the block\u001b[39;00m\n\u001b[1;32m-> 1810\u001b[0m new_mgr \u001b[39m=\u001b[39m data\u001b[39m.\u001b[39;49mgrouped_reduce(array_func, ignore_failures\u001b[39m=\u001b[39;49mignore_failures)\n\u001b[0;32m   1812\u001b[0m \u001b[39mif\u001b[39;00m \u001b[39mnot\u001b[39;00m is_ser \u001b[39mand\u001b[39;00m \u001b[39mlen\u001b[39m(new_mgr) \u001b[39m<\u001b[39m orig_len:\n\u001b[0;32m   1813\u001b[0m     warn_dropping_nuisance_columns_deprecated(\u001b[39mtype\u001b[39m(\u001b[39mself\u001b[39m), how, numeric_only)\n",
      "File \u001b[1;32mc:\\Program Files\\Python311\\Lib\\site-packages\\pandas\\core\\internals\\base.py:199\u001b[0m, in \u001b[0;36mSingleDataManager.grouped_reduce\u001b[1;34m(self, func, ignore_failures)\u001b[0m\n\u001b[0;32m    193\u001b[0m \u001b[39m\u001b[39m\u001b[39m\"\"\"\u001b[39;00m\n\u001b[0;32m    194\u001b[0m \u001b[39mignore_failures : bool, default False\u001b[39;00m\n\u001b[0;32m    195\u001b[0m \u001b[39m    Not used; for compatibility with ArrayManager/BlockManager.\u001b[39;00m\n\u001b[0;32m    196\u001b[0m \u001b[39m\"\"\"\u001b[39;00m\n\u001b[0;32m    198\u001b[0m arr \u001b[39m=\u001b[39m \u001b[39mself\u001b[39m\u001b[39m.\u001b[39marray\n\u001b[1;32m--> 199\u001b[0m res \u001b[39m=\u001b[39m func(arr)\n\u001b[0;32m    200\u001b[0m index \u001b[39m=\u001b[39m default_index(\u001b[39mlen\u001b[39m(res))\n\u001b[0;32m    202\u001b[0m mgr \u001b[39m=\u001b[39m \u001b[39mtype\u001b[39m(\u001b[39mself\u001b[39m)\u001b[39m.\u001b[39mfrom_array(res, index)\n",
      "File \u001b[1;32mc:\\Program Files\\Python311\\Lib\\site-packages\\pandas\\core\\groupby\\groupby.py:1791\u001b[0m, in \u001b[0;36mGroupBy._cython_agg_general.<locals>.array_func\u001b[1;34m(values)\u001b[0m\n\u001b[0;32m   1789\u001b[0m \u001b[39mdef\u001b[39;00m \u001b[39marray_func\u001b[39m(values: ArrayLike) \u001b[39m-\u001b[39m\u001b[39m>\u001b[39m ArrayLike:\n\u001b[0;32m   1790\u001b[0m     \u001b[39mtry\u001b[39;00m:\n\u001b[1;32m-> 1791\u001b[0m         result \u001b[39m=\u001b[39m \u001b[39mself\u001b[39;49m\u001b[39m.\u001b[39;49mgrouper\u001b[39m.\u001b[39;49m_cython_operation(\n\u001b[0;32m   1792\u001b[0m             \u001b[39m\"\u001b[39;49m\u001b[39maggregate\u001b[39;49m\u001b[39m\"\u001b[39;49m,\n\u001b[0;32m   1793\u001b[0m             values,\n\u001b[0;32m   1794\u001b[0m             how,\n\u001b[0;32m   1795\u001b[0m             axis\u001b[39m=\u001b[39;49mdata\u001b[39m.\u001b[39;49mndim \u001b[39m-\u001b[39;49m \u001b[39m1\u001b[39;49m,\n\u001b[0;32m   1796\u001b[0m             min_count\u001b[39m=\u001b[39;49mmin_count,\n\u001b[0;32m   1797\u001b[0m             \u001b[39m*\u001b[39;49m\u001b[39m*\u001b[39;49mkwargs,\n\u001b[0;32m   1798\u001b[0m         )\n\u001b[0;32m   1799\u001b[0m     \u001b[39mexcept\u001b[39;00m \u001b[39mNotImplementedError\u001b[39;00m:\n\u001b[0;32m   1800\u001b[0m         \u001b[39m# generally if we have numeric_only=False\u001b[39;00m\n\u001b[0;32m   1801\u001b[0m         \u001b[39m# and non-applicable functions\u001b[39;00m\n\u001b[0;32m   1802\u001b[0m         \u001b[39m# try to python agg\u001b[39;00m\n\u001b[0;32m   1803\u001b[0m         \u001b[39m# TODO: shouldn't min_count matter?\u001b[39;00m\n\u001b[0;32m   1804\u001b[0m         result \u001b[39m=\u001b[39m \u001b[39mself\u001b[39m\u001b[39m.\u001b[39m_agg_py_fallback(values, ndim\u001b[39m=\u001b[39mdata\u001b[39m.\u001b[39mndim, alt\u001b[39m=\u001b[39malt)\n",
      "File \u001b[1;32mc:\\Program Files\\Python311\\Lib\\site-packages\\pandas\\core\\groupby\\ops.py:1039\u001b[0m, in \u001b[0;36mBaseGrouper._cython_operation\u001b[1;34m(self, kind, values, how, axis, min_count, **kwargs)\u001b[0m\n\u001b[0;32m   1037\u001b[0m ids, _, _ \u001b[39m=\u001b[39m \u001b[39mself\u001b[39m\u001b[39m.\u001b[39mgroup_info\n\u001b[0;32m   1038\u001b[0m ngroups \u001b[39m=\u001b[39m \u001b[39mself\u001b[39m\u001b[39m.\u001b[39mngroups\n\u001b[1;32m-> 1039\u001b[0m \u001b[39mreturn\u001b[39;00m cy_op\u001b[39m.\u001b[39;49mcython_operation(\n\u001b[0;32m   1040\u001b[0m     values\u001b[39m=\u001b[39;49mvalues,\n\u001b[0;32m   1041\u001b[0m     axis\u001b[39m=\u001b[39;49maxis,\n\u001b[0;32m   1042\u001b[0m     min_count\u001b[39m=\u001b[39;49mmin_count,\n\u001b[0;32m   1043\u001b[0m     comp_ids\u001b[39m=\u001b[39;49mids,\n\u001b[0;32m   1044\u001b[0m     ngroups\u001b[39m=\u001b[39;49mngroups,\n\u001b[0;32m   1045\u001b[0m     \u001b[39m*\u001b[39;49m\u001b[39m*\u001b[39;49mkwargs,\n\u001b[0;32m   1046\u001b[0m )\n",
      "File \u001b[1;32mc:\\Program Files\\Python311\\Lib\\site-packages\\pandas\\core\\groupby\\ops.py:696\u001b[0m, in \u001b[0;36mWrappedCythonOp.cython_operation\u001b[1;34m(self, values, axis, min_count, comp_ids, ngroups, **kwargs)\u001b[0m\n\u001b[0;32m    692\u001b[0m is_numeric \u001b[39m=\u001b[39m is_numeric_dtype(dtype)\n\u001b[0;32m    694\u001b[0m \u001b[39m# can we do this operation with our cython functions\u001b[39;00m\n\u001b[0;32m    695\u001b[0m \u001b[39m# if not raise NotImplementedError\u001b[39;00m\n\u001b[1;32m--> 696\u001b[0m \u001b[39mself\u001b[39;49m\u001b[39m.\u001b[39;49m_disallow_invalid_ops(dtype, is_numeric)\n\u001b[0;32m    698\u001b[0m \u001b[39mif\u001b[39;00m \u001b[39mnot\u001b[39;00m \u001b[39misinstance\u001b[39m(values, np\u001b[39m.\u001b[39mndarray):\n\u001b[0;32m    699\u001b[0m     \u001b[39m# i.e. ExtensionArray\u001b[39;00m\n\u001b[0;32m    700\u001b[0m     \u001b[39mreturn\u001b[39;00m \u001b[39mself\u001b[39m\u001b[39m.\u001b[39m_ea_wrap_cython_operation(\n\u001b[0;32m    701\u001b[0m         values,\n\u001b[0;32m    702\u001b[0m         min_count\u001b[39m=\u001b[39mmin_count,\n\u001b[1;32m   (...)\u001b[0m\n\u001b[0;32m    705\u001b[0m         \u001b[39m*\u001b[39m\u001b[39m*\u001b[39mkwargs,\n\u001b[0;32m    706\u001b[0m     )\n",
      "File \u001b[1;32mc:\\Program Files\\Python311\\Lib\\site-packages\\pandas\\core\\groupby\\ops.py:261\u001b[0m, in \u001b[0;36mWrappedCythonOp._disallow_invalid_ops\u001b[1;34m(self, dtype, is_numeric)\u001b[0m\n\u001b[0;32m    257\u001b[0m \u001b[39mif\u001b[39;00m \u001b[39misinstance\u001b[39m(dtype, CategoricalDtype):\n\u001b[0;32m    258\u001b[0m     \u001b[39m# NotImplementedError for methods that can fall back to a\u001b[39;00m\n\u001b[0;32m    259\u001b[0m     \u001b[39m#  non-cython implementation.\u001b[39;00m\n\u001b[0;32m    260\u001b[0m     \u001b[39mif\u001b[39;00m how \u001b[39min\u001b[39;00m [\u001b[39m\"\u001b[39m\u001b[39msum\u001b[39m\u001b[39m\"\u001b[39m, \u001b[39m\"\u001b[39m\u001b[39mprod\u001b[39m\u001b[39m\"\u001b[39m, \u001b[39m\"\u001b[39m\u001b[39mcumsum\u001b[39m\u001b[39m\"\u001b[39m, \u001b[39m\"\u001b[39m\u001b[39mcumprod\u001b[39m\u001b[39m\"\u001b[39m]:\n\u001b[1;32m--> 261\u001b[0m         \u001b[39mraise\u001b[39;00m \u001b[39mTypeError\u001b[39;00m(\u001b[39mf\u001b[39m\u001b[39m\"\u001b[39m\u001b[39m{\u001b[39;00mdtype\u001b[39m}\u001b[39;00m\u001b[39m type does not support \u001b[39m\u001b[39m{\u001b[39;00mhow\u001b[39m}\u001b[39;00m\u001b[39m operations\u001b[39m\u001b[39m\"\u001b[39m)\n\u001b[0;32m    262\u001b[0m     \u001b[39melif\u001b[39;00m how \u001b[39mnot\u001b[39;00m \u001b[39min\u001b[39;00m [\u001b[39m\"\u001b[39m\u001b[39mrank\u001b[39m\u001b[39m\"\u001b[39m]:\n\u001b[0;32m    263\u001b[0m         \u001b[39m# only \"rank\" is implemented in cython\u001b[39;00m\n\u001b[0;32m    264\u001b[0m         \u001b[39mraise\u001b[39;00m \u001b[39mNotImplementedError\u001b[39;00m(\u001b[39mf\u001b[39m\u001b[39m\"\u001b[39m\u001b[39m{\u001b[39;00mdtype\u001b[39m}\u001b[39;00m\u001b[39m dtype not supported\u001b[39m\u001b[39m\"\u001b[39m)\n",
      "\u001b[1;31mTypeError\u001b[0m: category type does not support sum operations"
     ]
    }
   ],
   "source": [
    "# Example 28: Combining multiple Categorical variables for grouping and aggregating\n",
    "grouped_data = df.groupby(['House', 'Age_Category'])['Total_Appearances'].sum().reset_index()\n",
    "print(\"\\nExample 28:\")\n",
    "print(grouped_data)"
   ]
  },
  {
   "cell_type": "code",
   "execution_count": 30,
   "metadata": {},
   "outputs": [
    {
     "name": "stdout",
     "output_type": "stream",
     "text": [
      "\n",
      "Example 29:\n",
      "                 Name           House    Status  Gender  Age  \\\n",
      "1  Daenerys Targaryen  The Lannisters  Deceased  Female   30   \n",
      "2    Tyrion Lannister      The Starks     Alive    Male   40   \n",
      "4    Cersei Lannister      The Starks  Deceased  Female   45   \n",
      "0            Jon Snow  The Targaryens     Alive    Male   35   \n",
      "3          Arya Stark  The Targaryens     Alive  Female   18   \n",
      "\n",
      "  Total_Appearances  Battles_Fought Age_Category  House_The Targaryens  \\\n",
      "1                12               5  Young Adult                     0   \n",
      "2                15               2        Adult                     0   \n",
      "4                 6               4       Senior                     0   \n",
      "0                10               3        Adult                     1   \n",
      "3                 8               1        Child                     1   \n",
      "\n",
      "   House_The Lannisters  Gender_Equal_To_Male  House_Category  \n",
      "1                     1                 False  The Lannisters  \n",
      "2                     0                  True      The Starks  \n",
      "4                     0                 False      The Starks  \n",
      "0                     0                  True  The Targaryens  \n",
      "3                     0                 False  The Targaryens  \n"
     ]
    }
   ],
   "source": [
    "# Example 29: Creating a Categorical variable from a Series with custom categories\n",
    "house_categories = pd.Categorical(df['House'], categories=['The Starks', 'The Targaryens', 'The Lannisters'])\n",
    "df['House_Category'] = house_categories\n",
    "print(\"\\nExample 29:\")\n",
    "print(df)"
   ]
  },
  {
   "cell_type": "code",
   "execution_count": 31,
   "metadata": {},
   "outputs": [
    {
     "name": "stdout",
     "output_type": "stream",
     "text": [
      "\n",
      "Example 30:\n",
      "               Name       House    Status  Gender  Age Total_Appearances  \\\n",
      "4  Cersei Lannister  The Starks  Deceased  Female   45                 6   \n",
      "\n",
      "   Battles_Fought Age_Category  House_The Targaryens  House_The Lannisters  \\\n",
      "4               4       Senior                     0                     0   \n",
      "\n",
      "   Gender_Equal_To_Male House_Category  \n",
      "4                 False     The Starks  \n"
     ]
    }
   ],
   "source": [
    "# Example 30: Using Categorical variable for conditional filtering\n",
    "female_starks = df[(df['House'] == 'The Starks') & (df['Gender'] == 'Female')]\n",
    "print(\"\\nExample 30:\")\n",
    "print(female_starks)"
   ]
  },
  {
   "cell_type": "code",
   "execution_count": 32,
   "metadata": {},
   "outputs": [
    {
     "name": "stdout",
     "output_type": "stream",
     "text": [
      "\n",
      "Example 31:\n",
      "                 Name           House    Status  Gender  Age  \\\n",
      "1  Daenerys Targaryen  The Lannisters  Deceased  Female   30   \n",
      "2    Tyrion Lannister      The Starks     Alive    Male   40   \n",
      "4    Cersei Lannister      The Starks  Deceased  Female   45   \n",
      "0            Jon Snow  The Targaryens     Alive    Male   35   \n",
      "3          Arya Stark  The Targaryens     Alive  Female   18   \n",
      "\n",
      "  Total_Appearances  Battles_Fought Age_Category  House_The Targaryens  \\\n",
      "1                12               5  Young Adult                     0   \n",
      "2                15               2        Adult                     0   \n",
      "4                 6               4       Senior                     0   \n",
      "0                10               3        Adult                     1   \n",
      "3                 8               1        Child                     1   \n",
      "\n",
      "   House_The Lannisters  Gender_Equal_To_Male  House_Category  \n",
      "1                     1                 False  The Lannisters  \n",
      "2                     0                  True      The Starks  \n",
      "4                     0                 False      The Starks  \n",
      "0                     0                  True  The Targaryens  \n",
      "3                     0                 False  The Targaryens  \n"
     ]
    }
   ],
   "source": [
    "# Example 31: Setting the order of categories based on a custom list\n",
    "custom_order = ['The Targaryens', 'The Starks', 'The Lannisters']\n",
    "df['House'] = df['House'].cat.set_categories(custom_order)\n",
    "print(\"\\nExample 31:\")\n",
    "print(df)"
   ]
  },
  {
   "cell_type": "code",
   "execution_count": 33,
   "metadata": {},
   "outputs": [
    {
     "name": "stdout",
     "output_type": "stream",
     "text": [
      "\n",
      "Example 32:\n",
      "Name                      object\n",
      "House                   category\n",
      "Status                    object\n",
      "Gender                  category\n",
      "Age                        int64\n",
      "Total_Appearances       category\n",
      "Battles_Fought          category\n",
      "Age_Category            category\n",
      "House_The Targaryens       uint8\n",
      "House_The Lannisters       uint8\n",
      "Gender_Equal_To_Male        bool\n",
      "House_Category          category\n",
      "dtype: object\n"
     ]
    }
   ],
   "source": [
    "# Example 32: Changing the data type of a column to Categorical with memory optimization\n",
    "df['Battles_Fought'] = df['Battles_Fought'].astype('category')\n",
    "print(\"\\nExample 32:\")\n",
    "print(df.dtypes)"
   ]
  },
  {
   "cell_type": "code",
   "execution_count": 34,
   "metadata": {},
   "outputs": [
    {
     "ename": "KeyError",
     "evalue": "'Battles_Category'",
     "output_type": "error",
     "traceback": [
      "\u001b[1;31m---------------------------------------------------------------------------\u001b[0m",
      "\u001b[1;31mKeyError\u001b[0m                                  Traceback (most recent call last)",
      "File \u001b[1;32mc:\\Program Files\\Python311\\Lib\\site-packages\\pandas\\core\\indexes\\base.py:3802\u001b[0m, in \u001b[0;36mIndex.get_loc\u001b[1;34m(self, key, method, tolerance)\u001b[0m\n\u001b[0;32m   3801\u001b[0m \u001b[39mtry\u001b[39;00m:\n\u001b[1;32m-> 3802\u001b[0m     \u001b[39mreturn\u001b[39;00m \u001b[39mself\u001b[39;49m\u001b[39m.\u001b[39;49m_engine\u001b[39m.\u001b[39;49mget_loc(casted_key)\n\u001b[0;32m   3803\u001b[0m \u001b[39mexcept\u001b[39;00m \u001b[39mKeyError\u001b[39;00m \u001b[39mas\u001b[39;00m err:\n",
      "File \u001b[1;32mc:\\Program Files\\Python311\\Lib\\site-packages\\pandas\\_libs\\index.pyx:138\u001b[0m, in \u001b[0;36mpandas._libs.index.IndexEngine.get_loc\u001b[1;34m()\u001b[0m\n",
      "File \u001b[1;32mc:\\Program Files\\Python311\\Lib\\site-packages\\pandas\\_libs\\index.pyx:165\u001b[0m, in \u001b[0;36mpandas._libs.index.IndexEngine.get_loc\u001b[1;34m()\u001b[0m\n",
      "File \u001b[1;32mpandas\\_libs\\hashtable_class_helper.pxi:5745\u001b[0m, in \u001b[0;36mpandas._libs.hashtable.PyObjectHashTable.get_item\u001b[1;34m()\u001b[0m\n",
      "File \u001b[1;32mpandas\\_libs\\hashtable_class_helper.pxi:5753\u001b[0m, in \u001b[0;36mpandas._libs.hashtable.PyObjectHashTable.get_item\u001b[1;34m()\u001b[0m\n",
      "\u001b[1;31mKeyError\u001b[0m: 'Battles_Category'",
      "\nThe above exception was the direct cause of the following exception:\n",
      "\u001b[1;31mKeyError\u001b[0m                                  Traceback (most recent call last)",
      "Cell \u001b[1;32mIn[34], line 2\u001b[0m\n\u001b[0;32m      1\u001b[0m \u001b[39m# Example 33: Using Categorical variable for filtering based on a condition\u001b[39;00m\n\u001b[1;32m----> 2\u001b[0m medium_battles \u001b[39m=\u001b[39m df[df[\u001b[39m'\u001b[39;49m\u001b[39mBattles_Category\u001b[39;49m\u001b[39m'\u001b[39;49m] \u001b[39m==\u001b[39m \u001b[39m'\u001b[39m\u001b[39mMedium\u001b[39m\u001b[39m'\u001b[39m]\n\u001b[0;32m      3\u001b[0m \u001b[39mprint\u001b[39m(\u001b[39m\"\u001b[39m\u001b[39m\\n\u001b[39;00m\u001b[39mExample 33:\u001b[39m\u001b[39m\"\u001b[39m)\n\u001b[0;32m      4\u001b[0m \u001b[39mprint\u001b[39m(medium_battles)\n",
      "File \u001b[1;32mc:\\Program Files\\Python311\\Lib\\site-packages\\pandas\\core\\frame.py:3807\u001b[0m, in \u001b[0;36mDataFrame.__getitem__\u001b[1;34m(self, key)\u001b[0m\n\u001b[0;32m   3805\u001b[0m \u001b[39mif\u001b[39;00m \u001b[39mself\u001b[39m\u001b[39m.\u001b[39mcolumns\u001b[39m.\u001b[39mnlevels \u001b[39m>\u001b[39m \u001b[39m1\u001b[39m:\n\u001b[0;32m   3806\u001b[0m     \u001b[39mreturn\u001b[39;00m \u001b[39mself\u001b[39m\u001b[39m.\u001b[39m_getitem_multilevel(key)\n\u001b[1;32m-> 3807\u001b[0m indexer \u001b[39m=\u001b[39m \u001b[39mself\u001b[39;49m\u001b[39m.\u001b[39;49mcolumns\u001b[39m.\u001b[39;49mget_loc(key)\n\u001b[0;32m   3808\u001b[0m \u001b[39mif\u001b[39;00m is_integer(indexer):\n\u001b[0;32m   3809\u001b[0m     indexer \u001b[39m=\u001b[39m [indexer]\n",
      "File \u001b[1;32mc:\\Program Files\\Python311\\Lib\\site-packages\\pandas\\core\\indexes\\base.py:3804\u001b[0m, in \u001b[0;36mIndex.get_loc\u001b[1;34m(self, key, method, tolerance)\u001b[0m\n\u001b[0;32m   3802\u001b[0m     \u001b[39mreturn\u001b[39;00m \u001b[39mself\u001b[39m\u001b[39m.\u001b[39m_engine\u001b[39m.\u001b[39mget_loc(casted_key)\n\u001b[0;32m   3803\u001b[0m \u001b[39mexcept\u001b[39;00m \u001b[39mKeyError\u001b[39;00m \u001b[39mas\u001b[39;00m err:\n\u001b[1;32m-> 3804\u001b[0m     \u001b[39mraise\u001b[39;00m \u001b[39mKeyError\u001b[39;00m(key) \u001b[39mfrom\u001b[39;00m \u001b[39merr\u001b[39;00m\n\u001b[0;32m   3805\u001b[0m \u001b[39mexcept\u001b[39;00m \u001b[39mTypeError\u001b[39;00m:\n\u001b[0;32m   3806\u001b[0m     \u001b[39m# If we have a listlike key, _check_indexing_error will raise\u001b[39;00m\n\u001b[0;32m   3807\u001b[0m     \u001b[39m#  InvalidIndexError. Otherwise we fall through and re-raise\u001b[39;00m\n\u001b[0;32m   3808\u001b[0m     \u001b[39m#  the TypeError.\u001b[39;00m\n\u001b[0;32m   3809\u001b[0m     \u001b[39mself\u001b[39m\u001b[39m.\u001b[39m_check_indexing_error(key)\n",
      "\u001b[1;31mKeyError\u001b[0m: 'Battles_Category'"
     ]
    }
   ],
   "source": [
    "# Example 33: Using Categorical variable for filtering based on a condition\n",
    "medium_battles = df[df['Battles_Category'] == 'Medium']\n",
    "print(\"\\nExample 33:\")\n",
    "print(medium_battles)"
   ]
  },
  {
   "cell_type": "code",
   "execution_count": 35,
   "metadata": {},
   "outputs": [
    {
     "name": "stdout",
     "output_type": "stream",
     "text": [
      "\n",
      "Example 34:\n",
      "            House  House_Code\n",
      "1  The Lannisters           0\n",
      "2      The Starks           1\n",
      "4      The Starks           1\n",
      "0  The Targaryens           0\n",
      "3  The Targaryens           0\n"
     ]
    }
   ],
   "source": [
    "# Example 34: Applying a function element-wise to a Categorical variable and creating a new DataFrame\n",
    "df['House_Code'] = df['House'].apply(lambda x: 1 if x == 'The Starks' else 0)\n",
    "print(\"\\nExample 34:\")\n",
    "print(df[['House', 'House_Code']])"
   ]
  },
  {
   "cell_type": "code",
   "execution_count": 36,
   "metadata": {},
   "outputs": [
    {
     "ename": "TypeError",
     "evalue": "Categorical.__init__() got an unexpected keyword argument 'labels'",
     "output_type": "error",
     "traceback": [
      "\u001b[1;31m---------------------------------------------------------------------------\u001b[0m",
      "\u001b[1;31mTypeError\u001b[0m                                 Traceback (most recent call last)",
      "Cell \u001b[1;32mIn[36], line 2\u001b[0m\n\u001b[0;32m      1\u001b[0m \u001b[39m# Example 35: Creating a Categorical variable with custom categories and labels\u001b[39;00m\n\u001b[1;32m----> 2\u001b[0m age_categories \u001b[39m=\u001b[39m pd\u001b[39m.\u001b[39;49mCategorical(df[\u001b[39m'\u001b[39;49m\u001b[39mAge_Category\u001b[39;49m\u001b[39m'\u001b[39;49m], categories\u001b[39m=\u001b[39;49m[\u001b[39m'\u001b[39;49m\u001b[39mYoung Adult\u001b[39;49m\u001b[39m'\u001b[39;49m, \u001b[39m'\u001b[39;49m\u001b[39mAdult\u001b[39;49m\u001b[39m'\u001b[39;49m, \u001b[39m'\u001b[39;49m\u001b[39mSenior\u001b[39;49m\u001b[39m'\u001b[39;49m], labels\u001b[39m=\u001b[39;49m[\u001b[39m1\u001b[39;49m, \u001b[39m2\u001b[39;49m, \u001b[39m3\u001b[39;49m])\n\u001b[0;32m      3\u001b[0m df[\u001b[39m'\u001b[39m\u001b[39mAge_Category_Code\u001b[39m\u001b[39m'\u001b[39m] \u001b[39m=\u001b[39m age_categories\n\u001b[0;32m      4\u001b[0m \u001b[39mprint\u001b[39m(\u001b[39m\"\u001b[39m\u001b[39m\\n\u001b[39;00m\u001b[39mExample 35:\u001b[39m\u001b[39m\"\u001b[39m)\n",
      "\u001b[1;31mTypeError\u001b[0m: Categorical.__init__() got an unexpected keyword argument 'labels'"
     ]
    }
   ],
   "source": [
    "# Example 35: Creating a Categorical variable with custom categories and labels\n",
    "age_categories = pd.Categorical(df['Age_Category'], categories=['Young Adult', 'Adult', 'Senior'], labels=[1, 2, 3])\n",
    "df['Age_Category_Code'] = age_categories\n",
    "print(\"\\nExample 35:\")\n",
    "print(df[['Age_Category', 'Age_Category_Code']])"
   ]
  }
 ],
 "metadata": {
  "kernelspec": {
   "display_name": "Python 3",
   "language": "python",
   "name": "python3"
  },
  "language_info": {
   "codemirror_mode": {
    "name": "ipython",
    "version": 3
   },
   "file_extension": ".py",
   "mimetype": "text/x-python",
   "name": "python",
   "nbconvert_exporter": "python",
   "pygments_lexer": "ipython3",
   "version": "3.11.2"
  },
  "orig_nbformat": 4
 },
 "nbformat": 4,
 "nbformat_minor": 2
}
