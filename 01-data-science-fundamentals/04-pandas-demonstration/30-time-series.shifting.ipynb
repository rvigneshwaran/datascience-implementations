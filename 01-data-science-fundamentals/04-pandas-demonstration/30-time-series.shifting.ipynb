{
 "cells": [
  {
   "cell_type": "code",
   "execution_count": 1,
   "metadata": {},
   "outputs": [],
   "source": [
    "import pandas as pd\n",
    "import numpy as np"
   ]
  },
  {
   "cell_type": "code",
   "execution_count": 2,
   "metadata": {},
   "outputs": [],
   "source": [
    "# Create a sample time series DataFrame\n",
    "date_rng = pd.date_range(start='2023-01-01', end='2023-02-01', freq='D')\n",
    "data = np.random.randn(len(date_rng))\n",
    "df = pd.DataFrame({'Date': date_rng, 'Value': data})"
   ]
  },
  {
   "cell_type": "code",
   "execution_count": 3,
   "metadata": {},
   "outputs": [
    {
     "name": "stdout",
     "output_type": "stream",
     "text": [
      "Original DataFrame:\n",
      "        Date     Value\n",
      "0 2023-01-01 -0.349368\n",
      "1 2023-01-02  0.037942\n",
      "2 2023-01-03 -0.513420\n",
      "3 2023-01-04  0.369111\n",
      "4 2023-01-05  0.555328\n"
     ]
    }
   ],
   "source": [
    "# Display the original DataFrame\n",
    "print(\"Original DataFrame:\")\n",
    "print(df.head())"
   ]
  },
  {
   "cell_type": "code",
   "execution_count": 4,
   "metadata": {},
   "outputs": [],
   "source": [
    "# Example 1: Lagging Data by One Time Step\n",
    "df['Lagged_Value'] = df['Value'].shift(1)"
   ]
  },
  {
   "cell_type": "code",
   "execution_count": 5,
   "metadata": {},
   "outputs": [],
   "source": [
    "# Example 2: Leading Data by One Time Step\n",
    "df['Leading_Value'] = df['Value'].shift(-1)"
   ]
  },
  {
   "cell_type": "code",
   "execution_count": 6,
   "metadata": {},
   "outputs": [],
   "source": [
    "# Example 3: Shifting Date Index\n",
    "df_shifted_index = df.set_index(df['Date'] - pd.DateOffset(days=7))"
   ]
  },
  {
   "cell_type": "code",
   "execution_count": 7,
   "metadata": {},
   "outputs": [],
   "source": [
    "# Example 4: Calculating Percentage Change\n",
    "df['Percentage_Change'] = df['Value'].pct_change() * 100"
   ]
  },
  {
   "cell_type": "code",
   "execution_count": 8,
   "metadata": {},
   "outputs": [],
   "source": [
    "# Example 5: Rolling Mean for a Moving Average\n",
    "window_size = 3\n",
    "df['Moving_Average'] = df['Value'].rolling(window=window_size).mean()"
   ]
  },
  {
   "cell_type": "code",
   "execution_count": 9,
   "metadata": {},
   "outputs": [
    {
     "name": "stdout",
     "output_type": "stream",
     "text": [
      "\n",
      "Modified DataFrame:\n",
      "        Date     Value  Lagged_Value  Leading_Value  Percentage_Change  \\\n",
      "0 2023-01-01 -0.349368           NaN       0.037942                NaN   \n",
      "1 2023-01-02  0.037942     -0.349368      -0.513420        -110.860223   \n",
      "2 2023-01-03 -0.513420      0.037942       0.369111       -1453.166510   \n",
      "3 2023-01-04  0.369111     -0.513420       0.555328        -171.892601   \n",
      "4 2023-01-05  0.555328      0.369111       1.775665          50.450123   \n",
      "\n",
      "   Moving_Average  \n",
      "0             NaN  \n",
      "1             NaN  \n",
      "2       -0.274948  \n",
      "3       -0.035456  \n",
      "4        0.137006  \n"
     ]
    }
   ],
   "source": [
    "# Display the modified DataFrame\n",
    "print(\"\\nModified DataFrame:\")\n",
    "print(df.head())"
   ]
  }
 ],
 "metadata": {
  "kernelspec": {
   "display_name": "Python 3",
   "language": "python",
   "name": "python3"
  },
  "language_info": {
   "codemirror_mode": {
    "name": "ipython",
    "version": 3
   },
   "file_extension": ".py",
   "mimetype": "text/x-python",
   "name": "python",
   "nbconvert_exporter": "python",
   "pygments_lexer": "ipython3",
   "version": "3.11.2"
  },
  "orig_nbformat": 4
 },
 "nbformat": 4,
 "nbformat_minor": 2
}
