{
 "cells": [
  {
   "cell_type": "code",
   "execution_count": 1,
   "metadata": {},
   "outputs": [],
   "source": [
    "import pandas as pd\n",
    "import numpy as np"
   ]
  },
  {
   "cell_type": "code",
   "execution_count": 2,
   "metadata": {},
   "outputs": [],
   "source": [
    "# Create a sample time series DataFrame\n",
    "date_rng = pd.date_range(start='2023-01-01', end='2023-02-01', freq='D')\n",
    "data = np.random.randn(len(date_rng))\n",
    "df = pd.DataFrame({'Date': date_rng, 'Value': data})"
   ]
  },
  {
   "cell_type": "code",
   "execution_count": 3,
   "metadata": {},
   "outputs": [
    {
     "name": "stdout",
     "output_type": "stream",
     "text": [
      "Original DataFrame:\n",
      "        Date     Value\n",
      "0 2023-01-01 -0.349368\n",
      "1 2023-01-02  0.037942\n",
      "2 2023-01-03 -0.513420\n",
      "3 2023-01-04  0.369111\n",
      "4 2023-01-05  0.555328\n"
     ]
    }
   ],
   "source": [
    "# Display the original DataFrame\n",
    "print(\"Original DataFrame:\")\n",
    "print(df.head())"
   ]
  },
  {
   "cell_type": "code",
   "execution_count": 4,
   "metadata": {},
   "outputs": [],
   "source": [
    "# Example 1: Lagging Data by One Time Step\n",
    "df['Lagged_Value'] = df['Value'].shift(1)"
   ]
  },
  {
   "cell_type": "code",
   "execution_count": 5,
   "metadata": {},
   "outputs": [],
   "source": [
    "# Example 2: Leading Data by One Time Step\n",
    "df['Leading_Value'] = df['Value'].shift(-1)"
   ]
  },
  {
   "cell_type": "code",
   "execution_count": 6,
   "metadata": {},
   "outputs": [],
   "source": [
    "# Example 3: Shifting Date Index\n",
    "df_shifted_index = df.set_index(df['Date'] - pd.DateOffset(days=7))"
   ]
  },
  {
   "cell_type": "code",
   "execution_count": 7,
   "metadata": {},
   "outputs": [],
   "source": [
    "# Example 4: Calculating Percentage Change\n",
    "df['Percentage_Change'] = df['Value'].pct_change() * 100"
   ]
  },
  {
   "cell_type": "code",
   "execution_count": 8,
   "metadata": {},
   "outputs": [],
   "source": [
    "# Example 5: Rolling Mean for a Moving Average\n",
    "window_size = 3\n",
    "df['Moving_Average'] = df['Value'].rolling(window=window_size).mean()"
   ]
  },
  {
   "cell_type": "code",
   "execution_count": 9,
   "metadata": {},
   "outputs": [
    {
     "name": "stdout",
     "output_type": "stream",
     "text": [
      "\n",
      "Modified DataFrame:\n",
      "        Date     Value  Lagged_Value  Leading_Value  Percentage_Change  \\\n",
      "0 2023-01-01 -0.349368           NaN       0.037942                NaN   \n",
      "1 2023-01-02  0.037942     -0.349368      -0.513420        -110.860223   \n",
      "2 2023-01-03 -0.513420      0.037942       0.369111       -1453.166510   \n",
      "3 2023-01-04  0.369111     -0.513420       0.555328        -171.892601   \n",
      "4 2023-01-05  0.555328      0.369111       1.775665          50.450123   \n",
      "\n",
      "   Moving_Average  \n",
      "0             NaN  \n",
      "1             NaN  \n",
      "2       -0.274948  \n",
      "3       -0.035456  \n",
      "4        0.137006  \n"
     ]
    }
   ],
   "source": [
    "# Display the modified DataFrame\n",
    "print(\"\\nModified DataFrame:\")\n",
    "print(df.head())"
   ]
  },
  {
   "cell_type": "code",
   "execution_count": 10,
   "metadata": {},
   "outputs": [],
   "source": [
    "# Example 6: Rolling Sum for a Moving Sum\n",
    "window_size = 7\n",
    "df['Moving_Sum'] = df['Value'].rolling(window=window_size).sum()"
   ]
  },
  {
   "cell_type": "code",
   "execution_count": 11,
   "metadata": {},
   "outputs": [],
   "source": [
    "# Example 7: Exponential Moving Average (EMA)\n",
    "alpha = 0.2\n",
    "df['EMA'] = df['Value'].ewm(alpha=alpha, adjust=False).mean()"
   ]
  },
  {
   "cell_type": "code",
   "execution_count": 12,
   "metadata": {},
   "outputs": [],
   "source": [
    "# Example 8: Lagged Values with Different Time Steps\n",
    "df['Lagged_Value_3'] = df['Value'].shift(3)\n",
    "df['Lagged_Value_7'] = df['Value'].shift(7)"
   ]
  },
  {
   "cell_type": "code",
   "execution_count": 13,
   "metadata": {},
   "outputs": [],
   "source": [
    "# Example 9: Forward Fill Missing Values\n",
    "df_filled_ffill = df.fillna(method='ffill')"
   ]
  },
  {
   "cell_type": "code",
   "execution_count": 14,
   "metadata": {},
   "outputs": [],
   "source": [
    "# Example 10: Backward Fill Missing Values\n",
    "df_filled_bfill = df.fillna(method='bfill')"
   ]
  },
  {
   "cell_type": "code",
   "execution_count": 15,
   "metadata": {},
   "outputs": [
    {
     "name": "stdout",
     "output_type": "stream",
     "text": [
      "\n",
      "Modified DataFrame:\n",
      "        Date     Value  Lagged_Value  Leading_Value  Percentage_Change  \\\n",
      "0 2023-01-01 -0.349368           NaN       0.037942                NaN   \n",
      "1 2023-01-02  0.037942     -0.349368      -0.513420        -110.860223   \n",
      "2 2023-01-03 -0.513420      0.037942       0.369111       -1453.166510   \n",
      "3 2023-01-04  0.369111     -0.513420       0.555328        -171.892601   \n",
      "4 2023-01-05  0.555328      0.369111       1.775665          50.450123   \n",
      "\n",
      "   Moving_Average  Moving_Sum       EMA  Lagged_Value_3  Lagged_Value_7  \n",
      "0             NaN         NaN -0.349368             NaN             NaN  \n",
      "1             NaN         NaN -0.271906             NaN             NaN  \n",
      "2       -0.274948         NaN -0.320209             NaN             NaN  \n",
      "3       -0.035456         NaN -0.182345       -0.349368             NaN  \n",
      "4        0.137006         NaN -0.034810        0.037942             NaN  \n"
     ]
    }
   ],
   "source": [
    "# Display the modified DataFrame\n",
    "print(\"\\nModified DataFrame:\")\n",
    "print(df.head())"
   ]
  },
  {
   "cell_type": "code",
   "execution_count": 17,
   "metadata": {},
   "outputs": [
    {
     "ename": "ValueError",
     "evalue": "Invalid fill method. Expecting pad (ffill) or backfill (bfill). Got linear",
     "output_type": "error",
     "traceback": [
      "\u001b[1;31m---------------------------------------------------------------------------\u001b[0m",
      "\u001b[1;31mValueError\u001b[0m                                Traceback (most recent call last)",
      "Cell \u001b[1;32mIn[17], line 2\u001b[0m\n\u001b[0;32m      1\u001b[0m \u001b[39m# Example 11: Interpolate Missing Values\u001b[39;00m\n\u001b[1;32m----> 2\u001b[0m df_filled_interpolate \u001b[39m=\u001b[39m df\u001b[39m.\u001b[39;49minterpolate()\n",
      "File \u001b[1;32mc:\\Program Files\\Python311\\Lib\\site-packages\\pandas\\util\\_decorators.py:331\u001b[0m, in \u001b[0;36mdeprecate_nonkeyword_arguments.<locals>.decorate.<locals>.wrapper\u001b[1;34m(*args, **kwargs)\u001b[0m\n\u001b[0;32m    325\u001b[0m \u001b[39mif\u001b[39;00m \u001b[39mlen\u001b[39m(args) \u001b[39m>\u001b[39m num_allow_args:\n\u001b[0;32m    326\u001b[0m     warnings\u001b[39m.\u001b[39mwarn(\n\u001b[0;32m    327\u001b[0m         msg\u001b[39m.\u001b[39mformat(arguments\u001b[39m=\u001b[39m_format_argument_list(allow_args)),\n\u001b[0;32m    328\u001b[0m         \u001b[39mFutureWarning\u001b[39;00m,\n\u001b[0;32m    329\u001b[0m         stacklevel\u001b[39m=\u001b[39mfind_stack_level(),\n\u001b[0;32m    330\u001b[0m     )\n\u001b[1;32m--> 331\u001b[0m \u001b[39mreturn\u001b[39;00m func(\u001b[39m*\u001b[39;49margs, \u001b[39m*\u001b[39;49m\u001b[39m*\u001b[39;49mkwargs)\n",
      "File \u001b[1;32mc:\\Program Files\\Python311\\Lib\\site-packages\\pandas\\core\\frame.py:11855\u001b[0m, in \u001b[0;36mDataFrame.interpolate\u001b[1;34m(self, method, axis, limit, inplace, limit_direction, limit_area, downcast, **kwargs)\u001b[0m\n\u001b[0;32m  11843\u001b[0m \u001b[39m@deprecate_nonkeyword_arguments\u001b[39m(version\u001b[39m=\u001b[39m\u001b[39mNone\u001b[39;00m, allowed_args\u001b[39m=\u001b[39m[\u001b[39m\"\u001b[39m\u001b[39mself\u001b[39m\u001b[39m\"\u001b[39m, \u001b[39m\"\u001b[39m\u001b[39mmethod\u001b[39m\u001b[39m\"\u001b[39m])\n\u001b[0;32m  11844\u001b[0m \u001b[39mdef\u001b[39;00m \u001b[39minterpolate\u001b[39m(\n\u001b[0;32m  11845\u001b[0m     \u001b[39mself\u001b[39m: DataFrame,\n\u001b[1;32m   (...)\u001b[0m\n\u001b[0;32m  11853\u001b[0m     \u001b[39m*\u001b[39m\u001b[39m*\u001b[39mkwargs,\n\u001b[0;32m  11854\u001b[0m ) \u001b[39m-\u001b[39m\u001b[39m>\u001b[39m DataFrame \u001b[39m|\u001b[39m \u001b[39mNone\u001b[39;00m:\n\u001b[1;32m> 11855\u001b[0m     \u001b[39mreturn\u001b[39;00m \u001b[39msuper\u001b[39;49m()\u001b[39m.\u001b[39;49minterpolate(\n\u001b[0;32m  11856\u001b[0m         method,\n\u001b[0;32m  11857\u001b[0m         axis,\n\u001b[0;32m  11858\u001b[0m         limit,\n\u001b[0;32m  11859\u001b[0m         inplace,\n\u001b[0;32m  11860\u001b[0m         limit_direction,\n\u001b[0;32m  11861\u001b[0m         limit_area,\n\u001b[0;32m  11862\u001b[0m         downcast,\n\u001b[0;32m  11863\u001b[0m         \u001b[39m*\u001b[39;49m\u001b[39m*\u001b[39;49mkwargs,\n\u001b[0;32m  11864\u001b[0m     )\n",
      "File \u001b[1;32mc:\\Program Files\\Python311\\Lib\\site-packages\\pandas\\core\\generic.py:7568\u001b[0m, in \u001b[0;36mNDFrame.interpolate\u001b[1;34m(self, method, axis, limit, inplace, limit_direction, limit_area, downcast, **kwargs)\u001b[0m\n\u001b[0;32m   7562\u001b[0m \u001b[39mif\u001b[39;00m isna(index)\u001b[39m.\u001b[39many():\n\u001b[0;32m   7563\u001b[0m     \u001b[39mraise\u001b[39;00m \u001b[39mNotImplementedError\u001b[39;00m(\n\u001b[0;32m   7564\u001b[0m         \u001b[39m\"\u001b[39m\u001b[39mInterpolation with NaNs in the index \u001b[39m\u001b[39m\"\u001b[39m\n\u001b[0;32m   7565\u001b[0m         \u001b[39m\"\u001b[39m\u001b[39mhas not been implemented. Try filling \u001b[39m\u001b[39m\"\u001b[39m\n\u001b[0;32m   7566\u001b[0m         \u001b[39m\"\u001b[39m\u001b[39mthose NaNs before interpolating.\u001b[39m\u001b[39m\"\u001b[39m\n\u001b[0;32m   7567\u001b[0m     )\n\u001b[1;32m-> 7568\u001b[0m new_data \u001b[39m=\u001b[39m obj\u001b[39m.\u001b[39;49m_mgr\u001b[39m.\u001b[39;49minterpolate(\n\u001b[0;32m   7569\u001b[0m     method\u001b[39m=\u001b[39;49mmethod,\n\u001b[0;32m   7570\u001b[0m     axis\u001b[39m=\u001b[39;49maxis,\n\u001b[0;32m   7571\u001b[0m     index\u001b[39m=\u001b[39;49mindex,\n\u001b[0;32m   7572\u001b[0m     limit\u001b[39m=\u001b[39;49mlimit,\n\u001b[0;32m   7573\u001b[0m     limit_direction\u001b[39m=\u001b[39;49mlimit_direction,\n\u001b[0;32m   7574\u001b[0m     limit_area\u001b[39m=\u001b[39;49mlimit_area,\n\u001b[0;32m   7575\u001b[0m     inplace\u001b[39m=\u001b[39;49minplace,\n\u001b[0;32m   7576\u001b[0m     downcast\u001b[39m=\u001b[39;49mdowncast,\n\u001b[0;32m   7577\u001b[0m     \u001b[39m*\u001b[39;49m\u001b[39m*\u001b[39;49mkwargs,\n\u001b[0;32m   7578\u001b[0m )\n\u001b[0;32m   7580\u001b[0m result \u001b[39m=\u001b[39m \u001b[39mself\u001b[39m\u001b[39m.\u001b[39m_constructor(new_data)\n\u001b[0;32m   7581\u001b[0m \u001b[39mif\u001b[39;00m should_transpose:\n",
      "File \u001b[1;32mc:\\Program Files\\Python311\\Lib\\site-packages\\pandas\\core\\internals\\managers.py:422\u001b[0m, in \u001b[0;36mBaseBlockManager.interpolate\u001b[1;34m(self, **kwargs)\u001b[0m\n\u001b[0;32m    421\u001b[0m \u001b[39mdef\u001b[39;00m \u001b[39minterpolate\u001b[39m(\u001b[39mself\u001b[39m: T, \u001b[39m*\u001b[39m\u001b[39m*\u001b[39mkwargs) \u001b[39m-\u001b[39m\u001b[39m>\u001b[39m T:\n\u001b[1;32m--> 422\u001b[0m     \u001b[39mreturn\u001b[39;00m \u001b[39mself\u001b[39;49m\u001b[39m.\u001b[39;49mapply(\u001b[39m\"\u001b[39;49m\u001b[39minterpolate\u001b[39;49m\u001b[39m\"\u001b[39;49m, \u001b[39m*\u001b[39;49m\u001b[39m*\u001b[39;49mkwargs)\n",
      "File \u001b[1;32mc:\\Program Files\\Python311\\Lib\\site-packages\\pandas\\core\\internals\\managers.py:352\u001b[0m, in \u001b[0;36mBaseBlockManager.apply\u001b[1;34m(self, f, align_keys, ignore_failures, **kwargs)\u001b[0m\n\u001b[0;32m    350\u001b[0m         applied \u001b[39m=\u001b[39m b\u001b[39m.\u001b[39mapply(f, \u001b[39m*\u001b[39m\u001b[39m*\u001b[39mkwargs)\n\u001b[0;32m    351\u001b[0m     \u001b[39melse\u001b[39;00m:\n\u001b[1;32m--> 352\u001b[0m         applied \u001b[39m=\u001b[39m \u001b[39mgetattr\u001b[39;49m(b, f)(\u001b[39m*\u001b[39;49m\u001b[39m*\u001b[39;49mkwargs)\n\u001b[0;32m    353\u001b[0m \u001b[39mexcept\u001b[39;00m (\u001b[39mTypeError\u001b[39;00m, \u001b[39mNotImplementedError\u001b[39;00m):\n\u001b[0;32m    354\u001b[0m     \u001b[39mif\u001b[39;00m \u001b[39mnot\u001b[39;00m ignore_failures:\n",
      "File \u001b[1;32mc:\\Program Files\\Python311\\Lib\\site-packages\\pandas\\core\\internals\\blocks.py:1619\u001b[0m, in \u001b[0;36mEABackedBlock.interpolate\u001b[1;34m(self, method, axis, inplace, limit, fill_value, **kwargs)\u001b[0m\n\u001b[0;32m   1617\u001b[0m     new_values \u001b[39m=\u001b[39m values\u001b[39m.\u001b[39mT\u001b[39m.\u001b[39mfillna(value\u001b[39m=\u001b[39mfill_value, method\u001b[39m=\u001b[39mmethod, limit\u001b[39m=\u001b[39mlimit)\u001b[39m.\u001b[39mT\n\u001b[0;32m   1618\u001b[0m \u001b[39melse\u001b[39;00m:\n\u001b[1;32m-> 1619\u001b[0m     new_values \u001b[39m=\u001b[39m values\u001b[39m.\u001b[39;49mfillna(value\u001b[39m=\u001b[39;49mfill_value, method\u001b[39m=\u001b[39;49mmethod, limit\u001b[39m=\u001b[39;49mlimit)\n\u001b[0;32m   1620\u001b[0m \u001b[39mreturn\u001b[39;00m \u001b[39mself\u001b[39m\u001b[39m.\u001b[39mmake_block_same_class(new_values)\n",
      "File \u001b[1;32mc:\\Program Files\\Python311\\Lib\\site-packages\\pandas\\core\\arrays\\_mixins.py:317\u001b[0m, in \u001b[0;36mNDArrayBackedExtensionArray.fillna\u001b[1;34m(self, value, method, limit)\u001b[0m\n\u001b[0;32m    313\u001b[0m \u001b[39m@doc\u001b[39m(ExtensionArray\u001b[39m.\u001b[39mfillna)\n\u001b[0;32m    314\u001b[0m \u001b[39mdef\u001b[39;00m \u001b[39mfillna\u001b[39m(\n\u001b[0;32m    315\u001b[0m     \u001b[39mself\u001b[39m: NDArrayBackedExtensionArrayT, value\u001b[39m=\u001b[39m\u001b[39mNone\u001b[39;00m, method\u001b[39m=\u001b[39m\u001b[39mNone\u001b[39;00m, limit\u001b[39m=\u001b[39m\u001b[39mNone\u001b[39;00m\n\u001b[0;32m    316\u001b[0m ) \u001b[39m-\u001b[39m\u001b[39m>\u001b[39m NDArrayBackedExtensionArrayT:\n\u001b[1;32m--> 317\u001b[0m     value, method \u001b[39m=\u001b[39m validate_fillna_kwargs(\n\u001b[0;32m    318\u001b[0m         value, method, validate_scalar_dict_value\u001b[39m=\u001b[39;49m\u001b[39mFalse\u001b[39;49;00m\n\u001b[0;32m    319\u001b[0m     )\n\u001b[0;32m    321\u001b[0m     mask \u001b[39m=\u001b[39m \u001b[39mself\u001b[39m\u001b[39m.\u001b[39misna()\n\u001b[0;32m    322\u001b[0m     \u001b[39m# error: Argument 2 to \"check_value_size\" has incompatible type\u001b[39;00m\n\u001b[0;32m    323\u001b[0m     \u001b[39m# \"ExtensionArray\"; expected \"ndarray\"\u001b[39;00m\n",
      "File \u001b[1;32mc:\\Program Files\\Python311\\Lib\\site-packages\\pandas\\util\\_validators.py:390\u001b[0m, in \u001b[0;36mvalidate_fillna_kwargs\u001b[1;34m(value, method, validate_scalar_dict_value)\u001b[0m\n\u001b[0;32m    388\u001b[0m     \u001b[39mraise\u001b[39;00m \u001b[39mValueError\u001b[39;00m(\u001b[39m\"\u001b[39m\u001b[39mMust specify a fill \u001b[39m\u001b[39m'\u001b[39m\u001b[39mvalue\u001b[39m\u001b[39m'\u001b[39m\u001b[39m or \u001b[39m\u001b[39m'\u001b[39m\u001b[39mmethod\u001b[39m\u001b[39m'\u001b[39m\u001b[39m.\u001b[39m\u001b[39m\"\u001b[39m)\n\u001b[0;32m    389\u001b[0m \u001b[39melif\u001b[39;00m value \u001b[39mis\u001b[39;00m \u001b[39mNone\u001b[39;00m \u001b[39mand\u001b[39;00m method \u001b[39mis\u001b[39;00m \u001b[39mnot\u001b[39;00m \u001b[39mNone\u001b[39;00m:\n\u001b[1;32m--> 390\u001b[0m     method \u001b[39m=\u001b[39m clean_fill_method(method)\n\u001b[0;32m    392\u001b[0m \u001b[39melif\u001b[39;00m value \u001b[39mis\u001b[39;00m \u001b[39mnot\u001b[39;00m \u001b[39mNone\u001b[39;00m \u001b[39mand\u001b[39;00m method \u001b[39mis\u001b[39;00m \u001b[39mNone\u001b[39;00m:\n\u001b[0;32m    393\u001b[0m     \u001b[39mif\u001b[39;00m validate_scalar_dict_value \u001b[39mand\u001b[39;00m \u001b[39misinstance\u001b[39m(value, (\u001b[39mlist\u001b[39m, \u001b[39mtuple\u001b[39m)):\n",
      "File \u001b[1;32mc:\\Program Files\\Python311\\Lib\\site-packages\\pandas\\core\\missing.py:125\u001b[0m, in \u001b[0;36mclean_fill_method\u001b[1;34m(method, allow_nearest)\u001b[0m\n\u001b[0;32m    123\u001b[0m     expecting \u001b[39m=\u001b[39m \u001b[39m\"\u001b[39m\u001b[39mpad (ffill), backfill (bfill) or nearest\u001b[39m\u001b[39m\"\u001b[39m\n\u001b[0;32m    124\u001b[0m \u001b[39mif\u001b[39;00m method \u001b[39mnot\u001b[39;00m \u001b[39min\u001b[39;00m valid_methods:\n\u001b[1;32m--> 125\u001b[0m     \u001b[39mraise\u001b[39;00m \u001b[39mValueError\u001b[39;00m(\u001b[39mf\u001b[39m\u001b[39m\"\u001b[39m\u001b[39mInvalid fill method. Expecting \u001b[39m\u001b[39m{\u001b[39;00mexpecting\u001b[39m}\u001b[39;00m\u001b[39m. Got \u001b[39m\u001b[39m{\u001b[39;00mmethod\u001b[39m}\u001b[39;00m\u001b[39m\"\u001b[39m)\n\u001b[0;32m    126\u001b[0m \u001b[39mreturn\u001b[39;00m method\n",
      "\u001b[1;31mValueError\u001b[0m: Invalid fill method. Expecting pad (ffill) or backfill (bfill). Got linear"
     ]
    }
   ],
   "source": [
    "# Example 11: Interpolate Missing Values\n",
    "df_filled_interpolate = df.interpolate()"
   ]
  },
  {
   "cell_type": "code",
   "execution_count": 18,
   "metadata": {},
   "outputs": [
    {
     "ename": "TypeError",
     "evalue": "Only valid with DatetimeIndex, TimedeltaIndex or PeriodIndex, but got an instance of 'RangeIndex'",
     "output_type": "error",
     "traceback": [
      "\u001b[1;31m---------------------------------------------------------------------------\u001b[0m",
      "\u001b[1;31mTypeError\u001b[0m                                 Traceback (most recent call last)",
      "Cell \u001b[1;32mIn[18], line 2\u001b[0m\n\u001b[0;32m      1\u001b[0m \u001b[39m# Example 12: Resampling Data to Higher Frequency\u001b[39;00m\n\u001b[1;32m----> 2\u001b[0m df_resampled_higher \u001b[39m=\u001b[39m df\u001b[39m.\u001b[39;49mresample(\u001b[39m'\u001b[39;49m\u001b[39m6H\u001b[39;49m\u001b[39m'\u001b[39;49m)\u001b[39m.\u001b[39masfreq()\n",
      "File \u001b[1;32mc:\\Program Files\\Python311\\Lib\\site-packages\\pandas\\core\\frame.py:11392\u001b[0m, in \u001b[0;36mDataFrame.resample\u001b[1;34m(self, rule, axis, closed, label, convention, kind, loffset, base, on, level, origin, offset, group_keys)\u001b[0m\n\u001b[0;32m  11375\u001b[0m \u001b[39m@doc\u001b[39m(NDFrame\u001b[39m.\u001b[39mresample, \u001b[39m*\u001b[39m\u001b[39m*\u001b[39m_shared_doc_kwargs)\n\u001b[0;32m  11376\u001b[0m \u001b[39mdef\u001b[39;00m \u001b[39mresample\u001b[39m(\n\u001b[0;32m  11377\u001b[0m     \u001b[39mself\u001b[39m,\n\u001b[1;32m   (...)\u001b[0m\n\u001b[0;32m  11390\u001b[0m     group_keys: \u001b[39mbool\u001b[39m \u001b[39m|\u001b[39m lib\u001b[39m.\u001b[39mNoDefault \u001b[39m=\u001b[39m no_default,\n\u001b[0;32m  11391\u001b[0m ) \u001b[39m-\u001b[39m\u001b[39m>\u001b[39m Resampler:\n\u001b[1;32m> 11392\u001b[0m     \u001b[39mreturn\u001b[39;00m \u001b[39msuper\u001b[39;49m()\u001b[39m.\u001b[39;49mresample(\n\u001b[0;32m  11393\u001b[0m         rule\u001b[39m=\u001b[39;49mrule,\n\u001b[0;32m  11394\u001b[0m         axis\u001b[39m=\u001b[39;49maxis,\n\u001b[0;32m  11395\u001b[0m         closed\u001b[39m=\u001b[39;49mclosed,\n\u001b[0;32m  11396\u001b[0m         label\u001b[39m=\u001b[39;49mlabel,\n\u001b[0;32m  11397\u001b[0m         convention\u001b[39m=\u001b[39;49mconvention,\n\u001b[0;32m  11398\u001b[0m         kind\u001b[39m=\u001b[39;49mkind,\n\u001b[0;32m  11399\u001b[0m         loffset\u001b[39m=\u001b[39;49mloffset,\n\u001b[0;32m  11400\u001b[0m         base\u001b[39m=\u001b[39;49mbase,\n\u001b[0;32m  11401\u001b[0m         on\u001b[39m=\u001b[39;49mon,\n\u001b[0;32m  11402\u001b[0m         level\u001b[39m=\u001b[39;49mlevel,\n\u001b[0;32m  11403\u001b[0m         origin\u001b[39m=\u001b[39;49morigin,\n\u001b[0;32m  11404\u001b[0m         offset\u001b[39m=\u001b[39;49moffset,\n\u001b[0;32m  11405\u001b[0m         group_keys\u001b[39m=\u001b[39;49mgroup_keys,\n\u001b[0;32m  11406\u001b[0m     )\n",
      "File \u001b[1;32mc:\\Program Files\\Python311\\Lib\\site-packages\\pandas\\core\\generic.py:8858\u001b[0m, in \u001b[0;36mNDFrame.resample\u001b[1;34m(self, rule, axis, closed, label, convention, kind, loffset, base, on, level, origin, offset, group_keys)\u001b[0m\n\u001b[0;32m   8855\u001b[0m \u001b[39mfrom\u001b[39;00m \u001b[39mpandas\u001b[39;00m\u001b[39m.\u001b[39;00m\u001b[39mcore\u001b[39;00m\u001b[39m.\u001b[39;00m\u001b[39mresample\u001b[39;00m \u001b[39mimport\u001b[39;00m get_resampler\n\u001b[0;32m   8857\u001b[0m axis \u001b[39m=\u001b[39m \u001b[39mself\u001b[39m\u001b[39m.\u001b[39m_get_axis_number(axis)\n\u001b[1;32m-> 8858\u001b[0m \u001b[39mreturn\u001b[39;00m get_resampler(\n\u001b[0;32m   8859\u001b[0m     \u001b[39mself\u001b[39;49m,\n\u001b[0;32m   8860\u001b[0m     freq\u001b[39m=\u001b[39;49mrule,\n\u001b[0;32m   8861\u001b[0m     label\u001b[39m=\u001b[39;49mlabel,\n\u001b[0;32m   8862\u001b[0m     closed\u001b[39m=\u001b[39;49mclosed,\n\u001b[0;32m   8863\u001b[0m     axis\u001b[39m=\u001b[39;49maxis,\n\u001b[0;32m   8864\u001b[0m     kind\u001b[39m=\u001b[39;49mkind,\n\u001b[0;32m   8865\u001b[0m     loffset\u001b[39m=\u001b[39;49mloffset,\n\u001b[0;32m   8866\u001b[0m     convention\u001b[39m=\u001b[39;49mconvention,\n\u001b[0;32m   8867\u001b[0m     base\u001b[39m=\u001b[39;49mbase,\n\u001b[0;32m   8868\u001b[0m     key\u001b[39m=\u001b[39;49mon,\n\u001b[0;32m   8869\u001b[0m     level\u001b[39m=\u001b[39;49mlevel,\n\u001b[0;32m   8870\u001b[0m     origin\u001b[39m=\u001b[39;49morigin,\n\u001b[0;32m   8871\u001b[0m     offset\u001b[39m=\u001b[39;49moffset,\n\u001b[0;32m   8872\u001b[0m     group_keys\u001b[39m=\u001b[39;49mgroup_keys,\n\u001b[0;32m   8873\u001b[0m )\n",
      "File \u001b[1;32mc:\\Program Files\\Python311\\Lib\\site-packages\\pandas\\core\\resample.py:1544\u001b[0m, in \u001b[0;36mget_resampler\u001b[1;34m(obj, kind, **kwds)\u001b[0m\n\u001b[0;32m   1540\u001b[0m \u001b[39m\u001b[39m\u001b[39m\"\"\"\u001b[39;00m\n\u001b[0;32m   1541\u001b[0m \u001b[39mCreate a TimeGrouper and return our resampler.\u001b[39;00m\n\u001b[0;32m   1542\u001b[0m \u001b[39m\"\"\"\u001b[39;00m\n\u001b[0;32m   1543\u001b[0m tg \u001b[39m=\u001b[39m TimeGrouper(\u001b[39m*\u001b[39m\u001b[39m*\u001b[39mkwds)\n\u001b[1;32m-> 1544\u001b[0m \u001b[39mreturn\u001b[39;00m tg\u001b[39m.\u001b[39;49m_get_resampler(obj, kind\u001b[39m=\u001b[39;49mkind)\n",
      "File \u001b[1;32mc:\\Program Files\\Python311\\Lib\\site-packages\\pandas\\core\\resample.py:1725\u001b[0m, in \u001b[0;36mTimeGrouper._get_resampler\u001b[1;34m(self, obj, kind)\u001b[0m\n\u001b[0;32m   1720\u001b[0m \u001b[39melif\u001b[39;00m \u001b[39misinstance\u001b[39m(ax, TimedeltaIndex):\n\u001b[0;32m   1721\u001b[0m     \u001b[39mreturn\u001b[39;00m TimedeltaIndexResampler(\n\u001b[0;32m   1722\u001b[0m         obj, groupby\u001b[39m=\u001b[39m\u001b[39mself\u001b[39m, axis\u001b[39m=\u001b[39m\u001b[39mself\u001b[39m\u001b[39m.\u001b[39maxis, group_keys\u001b[39m=\u001b[39m\u001b[39mself\u001b[39m\u001b[39m.\u001b[39mgroup_keys\n\u001b[0;32m   1723\u001b[0m     )\n\u001b[1;32m-> 1725\u001b[0m \u001b[39mraise\u001b[39;00m \u001b[39mTypeError\u001b[39;00m(\n\u001b[0;32m   1726\u001b[0m     \u001b[39m\"\u001b[39m\u001b[39mOnly valid with DatetimeIndex, \u001b[39m\u001b[39m\"\u001b[39m\n\u001b[0;32m   1727\u001b[0m     \u001b[39m\"\u001b[39m\u001b[39mTimedeltaIndex or PeriodIndex, \u001b[39m\u001b[39m\"\u001b[39m\n\u001b[0;32m   1728\u001b[0m     \u001b[39mf\u001b[39m\u001b[39m\"\u001b[39m\u001b[39mbut got an instance of \u001b[39m\u001b[39m'\u001b[39m\u001b[39m{\u001b[39;00m\u001b[39mtype\u001b[39m(ax)\u001b[39m.\u001b[39m\u001b[39m__name__\u001b[39m\u001b[39m}\u001b[39;00m\u001b[39m'\u001b[39m\u001b[39m\"\u001b[39m\n\u001b[0;32m   1729\u001b[0m )\n",
      "\u001b[1;31mTypeError\u001b[0m: Only valid with DatetimeIndex, TimedeltaIndex or PeriodIndex, but got an instance of 'RangeIndex'"
     ]
    }
   ],
   "source": [
    "# Example 12: Resampling Data to Higher Frequency\n",
    "df_resampled_higher = df.resample('6H').asfreq()"
   ]
  },
  {
   "cell_type": "code",
   "execution_count": 19,
   "metadata": {},
   "outputs": [
    {
     "ename": "TypeError",
     "evalue": "Only valid with DatetimeIndex, TimedeltaIndex or PeriodIndex, but got an instance of 'RangeIndex'",
     "output_type": "error",
     "traceback": [
      "\u001b[1;31m---------------------------------------------------------------------------\u001b[0m",
      "\u001b[1;31mTypeError\u001b[0m                                 Traceback (most recent call last)",
      "Cell \u001b[1;32mIn[19], line 2\u001b[0m\n\u001b[0;32m      1\u001b[0m \u001b[39m# Example 13: Resampling Data to Lower Frequency\u001b[39;00m\n\u001b[1;32m----> 2\u001b[0m df_resampled_lower \u001b[39m=\u001b[39m df\u001b[39m.\u001b[39;49mresample(\u001b[39m'\u001b[39;49m\u001b[39m3D\u001b[39;49m\u001b[39m'\u001b[39;49m)\u001b[39m.\u001b[39mmean()\n",
      "File \u001b[1;32mc:\\Program Files\\Python311\\Lib\\site-packages\\pandas\\core\\frame.py:11392\u001b[0m, in \u001b[0;36mDataFrame.resample\u001b[1;34m(self, rule, axis, closed, label, convention, kind, loffset, base, on, level, origin, offset, group_keys)\u001b[0m\n\u001b[0;32m  11375\u001b[0m \u001b[39m@doc\u001b[39m(NDFrame\u001b[39m.\u001b[39mresample, \u001b[39m*\u001b[39m\u001b[39m*\u001b[39m_shared_doc_kwargs)\n\u001b[0;32m  11376\u001b[0m \u001b[39mdef\u001b[39;00m \u001b[39mresample\u001b[39m(\n\u001b[0;32m  11377\u001b[0m     \u001b[39mself\u001b[39m,\n\u001b[1;32m   (...)\u001b[0m\n\u001b[0;32m  11390\u001b[0m     group_keys: \u001b[39mbool\u001b[39m \u001b[39m|\u001b[39m lib\u001b[39m.\u001b[39mNoDefault \u001b[39m=\u001b[39m no_default,\n\u001b[0;32m  11391\u001b[0m ) \u001b[39m-\u001b[39m\u001b[39m>\u001b[39m Resampler:\n\u001b[1;32m> 11392\u001b[0m     \u001b[39mreturn\u001b[39;00m \u001b[39msuper\u001b[39;49m()\u001b[39m.\u001b[39;49mresample(\n\u001b[0;32m  11393\u001b[0m         rule\u001b[39m=\u001b[39;49mrule,\n\u001b[0;32m  11394\u001b[0m         axis\u001b[39m=\u001b[39;49maxis,\n\u001b[0;32m  11395\u001b[0m         closed\u001b[39m=\u001b[39;49mclosed,\n\u001b[0;32m  11396\u001b[0m         label\u001b[39m=\u001b[39;49mlabel,\n\u001b[0;32m  11397\u001b[0m         convention\u001b[39m=\u001b[39;49mconvention,\n\u001b[0;32m  11398\u001b[0m         kind\u001b[39m=\u001b[39;49mkind,\n\u001b[0;32m  11399\u001b[0m         loffset\u001b[39m=\u001b[39;49mloffset,\n\u001b[0;32m  11400\u001b[0m         base\u001b[39m=\u001b[39;49mbase,\n\u001b[0;32m  11401\u001b[0m         on\u001b[39m=\u001b[39;49mon,\n\u001b[0;32m  11402\u001b[0m         level\u001b[39m=\u001b[39;49mlevel,\n\u001b[0;32m  11403\u001b[0m         origin\u001b[39m=\u001b[39;49morigin,\n\u001b[0;32m  11404\u001b[0m         offset\u001b[39m=\u001b[39;49moffset,\n\u001b[0;32m  11405\u001b[0m         group_keys\u001b[39m=\u001b[39;49mgroup_keys,\n\u001b[0;32m  11406\u001b[0m     )\n",
      "File \u001b[1;32mc:\\Program Files\\Python311\\Lib\\site-packages\\pandas\\core\\generic.py:8858\u001b[0m, in \u001b[0;36mNDFrame.resample\u001b[1;34m(self, rule, axis, closed, label, convention, kind, loffset, base, on, level, origin, offset, group_keys)\u001b[0m\n\u001b[0;32m   8855\u001b[0m \u001b[39mfrom\u001b[39;00m \u001b[39mpandas\u001b[39;00m\u001b[39m.\u001b[39;00m\u001b[39mcore\u001b[39;00m\u001b[39m.\u001b[39;00m\u001b[39mresample\u001b[39;00m \u001b[39mimport\u001b[39;00m get_resampler\n\u001b[0;32m   8857\u001b[0m axis \u001b[39m=\u001b[39m \u001b[39mself\u001b[39m\u001b[39m.\u001b[39m_get_axis_number(axis)\n\u001b[1;32m-> 8858\u001b[0m \u001b[39mreturn\u001b[39;00m get_resampler(\n\u001b[0;32m   8859\u001b[0m     \u001b[39mself\u001b[39;49m,\n\u001b[0;32m   8860\u001b[0m     freq\u001b[39m=\u001b[39;49mrule,\n\u001b[0;32m   8861\u001b[0m     label\u001b[39m=\u001b[39;49mlabel,\n\u001b[0;32m   8862\u001b[0m     closed\u001b[39m=\u001b[39;49mclosed,\n\u001b[0;32m   8863\u001b[0m     axis\u001b[39m=\u001b[39;49maxis,\n\u001b[0;32m   8864\u001b[0m     kind\u001b[39m=\u001b[39;49mkind,\n\u001b[0;32m   8865\u001b[0m     loffset\u001b[39m=\u001b[39;49mloffset,\n\u001b[0;32m   8866\u001b[0m     convention\u001b[39m=\u001b[39;49mconvention,\n\u001b[0;32m   8867\u001b[0m     base\u001b[39m=\u001b[39;49mbase,\n\u001b[0;32m   8868\u001b[0m     key\u001b[39m=\u001b[39;49mon,\n\u001b[0;32m   8869\u001b[0m     level\u001b[39m=\u001b[39;49mlevel,\n\u001b[0;32m   8870\u001b[0m     origin\u001b[39m=\u001b[39;49morigin,\n\u001b[0;32m   8871\u001b[0m     offset\u001b[39m=\u001b[39;49moffset,\n\u001b[0;32m   8872\u001b[0m     group_keys\u001b[39m=\u001b[39;49mgroup_keys,\n\u001b[0;32m   8873\u001b[0m )\n",
      "File \u001b[1;32mc:\\Program Files\\Python311\\Lib\\site-packages\\pandas\\core\\resample.py:1544\u001b[0m, in \u001b[0;36mget_resampler\u001b[1;34m(obj, kind, **kwds)\u001b[0m\n\u001b[0;32m   1540\u001b[0m \u001b[39m\u001b[39m\u001b[39m\"\"\"\u001b[39;00m\n\u001b[0;32m   1541\u001b[0m \u001b[39mCreate a TimeGrouper and return our resampler.\u001b[39;00m\n\u001b[0;32m   1542\u001b[0m \u001b[39m\"\"\"\u001b[39;00m\n\u001b[0;32m   1543\u001b[0m tg \u001b[39m=\u001b[39m TimeGrouper(\u001b[39m*\u001b[39m\u001b[39m*\u001b[39mkwds)\n\u001b[1;32m-> 1544\u001b[0m \u001b[39mreturn\u001b[39;00m tg\u001b[39m.\u001b[39;49m_get_resampler(obj, kind\u001b[39m=\u001b[39;49mkind)\n",
      "File \u001b[1;32mc:\\Program Files\\Python311\\Lib\\site-packages\\pandas\\core\\resample.py:1725\u001b[0m, in \u001b[0;36mTimeGrouper._get_resampler\u001b[1;34m(self, obj, kind)\u001b[0m\n\u001b[0;32m   1720\u001b[0m \u001b[39melif\u001b[39;00m \u001b[39misinstance\u001b[39m(ax, TimedeltaIndex):\n\u001b[0;32m   1721\u001b[0m     \u001b[39mreturn\u001b[39;00m TimedeltaIndexResampler(\n\u001b[0;32m   1722\u001b[0m         obj, groupby\u001b[39m=\u001b[39m\u001b[39mself\u001b[39m, axis\u001b[39m=\u001b[39m\u001b[39mself\u001b[39m\u001b[39m.\u001b[39maxis, group_keys\u001b[39m=\u001b[39m\u001b[39mself\u001b[39m\u001b[39m.\u001b[39mgroup_keys\n\u001b[0;32m   1723\u001b[0m     )\n\u001b[1;32m-> 1725\u001b[0m \u001b[39mraise\u001b[39;00m \u001b[39mTypeError\u001b[39;00m(\n\u001b[0;32m   1726\u001b[0m     \u001b[39m\"\u001b[39m\u001b[39mOnly valid with DatetimeIndex, \u001b[39m\u001b[39m\"\u001b[39m\n\u001b[0;32m   1727\u001b[0m     \u001b[39m\"\u001b[39m\u001b[39mTimedeltaIndex or PeriodIndex, \u001b[39m\u001b[39m\"\u001b[39m\n\u001b[0;32m   1728\u001b[0m     \u001b[39mf\u001b[39m\u001b[39m\"\u001b[39m\u001b[39mbut got an instance of \u001b[39m\u001b[39m'\u001b[39m\u001b[39m{\u001b[39;00m\u001b[39mtype\u001b[39m(ax)\u001b[39m.\u001b[39m\u001b[39m__name__\u001b[39m\u001b[39m}\u001b[39;00m\u001b[39m'\u001b[39m\u001b[39m\"\u001b[39m\n\u001b[0;32m   1729\u001b[0m )\n",
      "\u001b[1;31mTypeError\u001b[0m: Only valid with DatetimeIndex, TimedeltaIndex or PeriodIndex, but got an instance of 'RangeIndex'"
     ]
    }
   ],
   "source": [
    "# Example 13: Resampling Data to Lower Frequency\n",
    "df_resampled_lower = df.resample('3D').mean()"
   ]
  },
  {
   "cell_type": "code",
   "execution_count": 20,
   "metadata": {},
   "outputs": [],
   "source": [
    "# Example 14: Shifting Multiple Columns\n",
    "df[['Lagged_Value_1', 'Lagged_Value_3']] = df[['Value', 'Lagged_Value_3']].shift(1)\n"
   ]
  },
  {
   "cell_type": "code",
   "execution_count": 21,
   "metadata": {},
   "outputs": [
    {
     "ename": "TypeError",
     "evalue": "cannot do slice indexing on RangeIndex with these indexers [2023-01-10] of type str",
     "output_type": "error",
     "traceback": [
      "\u001b[1;31m---------------------------------------------------------------------------\u001b[0m",
      "\u001b[1;31mTypeError\u001b[0m                                 Traceback (most recent call last)",
      "Cell \u001b[1;32mIn[21], line 4\u001b[0m\n\u001b[0;32m      2\u001b[0m start_date \u001b[39m=\u001b[39m \u001b[39m'\u001b[39m\u001b[39m2023-01-10\u001b[39m\u001b[39m'\u001b[39m\n\u001b[0;32m      3\u001b[0m end_date \u001b[39m=\u001b[39m \u001b[39m'\u001b[39m\u001b[39m2023-01-20\u001b[39m\u001b[39m'\u001b[39m\n\u001b[1;32m----> 4\u001b[0m df_slice \u001b[39m=\u001b[39m df[start_date:end_date]\n",
      "File \u001b[1;32mc:\\Program Files\\Python311\\Lib\\site-packages\\pandas\\core\\frame.py:3779\u001b[0m, in \u001b[0;36mDataFrame.__getitem__\u001b[1;34m(self, key)\u001b[0m\n\u001b[0;32m   3777\u001b[0m         \u001b[39mreturn\u001b[39;00m \u001b[39mself\u001b[39m\u001b[39m.\u001b[39m_getitem_multilevel(key)\n\u001b[0;32m   3778\u001b[0m \u001b[39m# Do we have a slicer (on rows)?\u001b[39;00m\n\u001b[1;32m-> 3779\u001b[0m indexer \u001b[39m=\u001b[39m convert_to_index_sliceable(\u001b[39mself\u001b[39;49m, key)\n\u001b[0;32m   3780\u001b[0m \u001b[39mif\u001b[39;00m indexer \u001b[39mis\u001b[39;00m \u001b[39mnot\u001b[39;00m \u001b[39mNone\u001b[39;00m:\n\u001b[0;32m   3781\u001b[0m     \u001b[39mif\u001b[39;00m \u001b[39misinstance\u001b[39m(indexer, np\u001b[39m.\u001b[39mndarray):\n",
      "File \u001b[1;32mc:\\Program Files\\Python311\\Lib\\site-packages\\pandas\\core\\indexing.py:2494\u001b[0m, in \u001b[0;36mconvert_to_index_sliceable\u001b[1;34m(obj, key)\u001b[0m\n\u001b[0;32m   2492\u001b[0m idx \u001b[39m=\u001b[39m obj\u001b[39m.\u001b[39mindex\n\u001b[0;32m   2493\u001b[0m \u001b[39mif\u001b[39;00m \u001b[39misinstance\u001b[39m(key, \u001b[39mslice\u001b[39m):\n\u001b[1;32m-> 2494\u001b[0m     \u001b[39mreturn\u001b[39;00m idx\u001b[39m.\u001b[39;49m_convert_slice_indexer(key, kind\u001b[39m=\u001b[39;49m\u001b[39m\"\u001b[39;49m\u001b[39mgetitem\u001b[39;49m\u001b[39m\"\u001b[39;49m)\n\u001b[0;32m   2496\u001b[0m \u001b[39melif\u001b[39;00m \u001b[39misinstance\u001b[39m(key, \u001b[39mstr\u001b[39m):\n\u001b[0;32m   2497\u001b[0m \n\u001b[0;32m   2498\u001b[0m     \u001b[39m# we are an actual column\u001b[39;00m\n\u001b[0;32m   2499\u001b[0m     \u001b[39mif\u001b[39;00m key \u001b[39min\u001b[39;00m obj\u001b[39m.\u001b[39mcolumns:\n",
      "File \u001b[1;32mc:\\Program Files\\Python311\\Lib\\site-packages\\pandas\\core\\indexes\\numeric.py:234\u001b[0m, in \u001b[0;36mNumericIndex._convert_slice_indexer\u001b[1;34m(self, key, kind)\u001b[0m\n\u001b[0;32m    228\u001b[0m     \u001b[39m# TODO: can we write this as a condition based on\u001b[39;00m\n\u001b[0;32m    229\u001b[0m     \u001b[39m#  e.g. _should_fallback_to_positional?\u001b[39;00m\n\u001b[0;32m    230\u001b[0m     \u001b[39m# We always treat __getitem__ slicing as label-based\u001b[39;00m\n\u001b[0;32m    231\u001b[0m     \u001b[39m# translate to locations\u001b[39;00m\n\u001b[0;32m    232\u001b[0m     \u001b[39mreturn\u001b[39;00m \u001b[39mself\u001b[39m\u001b[39m.\u001b[39mslice_indexer(key\u001b[39m.\u001b[39mstart, key\u001b[39m.\u001b[39mstop, key\u001b[39m.\u001b[39mstep)\n\u001b[1;32m--> 234\u001b[0m \u001b[39mreturn\u001b[39;00m \u001b[39msuper\u001b[39;49m()\u001b[39m.\u001b[39;49m_convert_slice_indexer(key, kind\u001b[39m=\u001b[39;49mkind)\n",
      "File \u001b[1;32mc:\\Program Files\\Python311\\Lib\\site-packages\\pandas\\core\\indexes\\base.py:4250\u001b[0m, in \u001b[0;36mIndex._convert_slice_indexer\u001b[1;34m(self, key, kind)\u001b[0m\n\u001b[0;32m   4246\u001b[0m \u001b[39mif\u001b[39;00m kind \u001b[39m==\u001b[39m \u001b[39m\"\u001b[39m\u001b[39mgetitem\u001b[39m\u001b[39m\"\u001b[39m:\n\u001b[0;32m   4247\u001b[0m     \u001b[39m# called from the getitem slicers, validate that we are in fact integers\u001b[39;00m\n\u001b[0;32m   4248\u001b[0m     \u001b[39mif\u001b[39;00m \u001b[39mself\u001b[39m\u001b[39m.\u001b[39mis_integer() \u001b[39mor\u001b[39;00m is_index_slice:\n\u001b[0;32m   4249\u001b[0m         \u001b[39m# Note: these checks are redundant if we know is_index_slice\u001b[39;00m\n\u001b[1;32m-> 4250\u001b[0m         \u001b[39mself\u001b[39;49m\u001b[39m.\u001b[39;49m_validate_indexer(\u001b[39m\"\u001b[39;49m\u001b[39mslice\u001b[39;49m\u001b[39m\"\u001b[39;49m, key\u001b[39m.\u001b[39;49mstart, \u001b[39m\"\u001b[39;49m\u001b[39mgetitem\u001b[39;49m\u001b[39m\"\u001b[39;49m)\n\u001b[0;32m   4251\u001b[0m         \u001b[39mself\u001b[39m\u001b[39m.\u001b[39m_validate_indexer(\u001b[39m\"\u001b[39m\u001b[39mslice\u001b[39m\u001b[39m\"\u001b[39m, key\u001b[39m.\u001b[39mstop, \u001b[39m\"\u001b[39m\u001b[39mgetitem\u001b[39m\u001b[39m\"\u001b[39m)\n\u001b[0;32m   4252\u001b[0m         \u001b[39mself\u001b[39m\u001b[39m.\u001b[39m_validate_indexer(\u001b[39m\"\u001b[39m\u001b[39mslice\u001b[39m\u001b[39m\"\u001b[39m, key\u001b[39m.\u001b[39mstep, \u001b[39m\"\u001b[39m\u001b[39mgetitem\u001b[39m\u001b[39m\"\u001b[39m)\n",
      "File \u001b[1;32mc:\\Program Files\\Python311\\Lib\\site-packages\\pandas\\core\\indexes\\base.py:6591\u001b[0m, in \u001b[0;36mIndex._validate_indexer\u001b[1;34m(self, form, key, kind)\u001b[0m\n\u001b[0;32m   6588\u001b[0m \u001b[39massert\u001b[39;00m kind \u001b[39min\u001b[39;00m [\u001b[39m\"\u001b[39m\u001b[39mgetitem\u001b[39m\u001b[39m\"\u001b[39m, \u001b[39m\"\u001b[39m\u001b[39miloc\u001b[39m\u001b[39m\"\u001b[39m]\n\u001b[0;32m   6590\u001b[0m \u001b[39mif\u001b[39;00m key \u001b[39mis\u001b[39;00m \u001b[39mnot\u001b[39;00m \u001b[39mNone\u001b[39;00m \u001b[39mand\u001b[39;00m \u001b[39mnot\u001b[39;00m is_integer(key):\n\u001b[1;32m-> 6591\u001b[0m     \u001b[39mraise\u001b[39;00m \u001b[39mself\u001b[39m\u001b[39m.\u001b[39m_invalid_indexer(form, key)\n",
      "\u001b[1;31mTypeError\u001b[0m: cannot do slice indexing on RangeIndex with these indexers [2023-01-10] of type str"
     ]
    }
   ],
   "source": [
    "# Example 15: Time-based Indexing for Slicing\n",
    "start_date = '2023-01-10'\n",
    "end_date = '2023-01-20'\n",
    "df_slice = df[start_date:end_date]"
   ]
  },
  {
   "cell_type": "code",
   "execution_count": 22,
   "metadata": {},
   "outputs": [
    {
     "name": "stdout",
     "output_type": "stream",
     "text": [
      "\n",
      "Modified DataFrame:\n",
      "        Date     Value  Lagged_Value  Leading_Value  Percentage_Change  \\\n",
      "0 2023-01-01 -0.349368           NaN       0.037942                NaN   \n",
      "1 2023-01-02  0.037942     -0.349368      -0.513420        -110.860223   \n",
      "2 2023-01-03 -0.513420      0.037942       0.369111       -1453.166510   \n",
      "3 2023-01-04  0.369111     -0.513420       0.555328        -171.892601   \n",
      "4 2023-01-05  0.555328      0.369111       1.775665          50.450123   \n",
      "\n",
      "   Moving_Average  Moving_Sum       EMA  Lagged_Value_3  Lagged_Value_7  \\\n",
      "0             NaN         NaN -0.349368             NaN             NaN   \n",
      "1             NaN         NaN -0.271906             NaN             NaN   \n",
      "2       -0.274948         NaN -0.320209             NaN             NaN   \n",
      "3       -0.035456         NaN -0.182345             NaN             NaN   \n",
      "4        0.137006         NaN -0.034810       -0.349368             NaN   \n",
      "\n",
      "   Lagged_Value_1  \n",
      "0             NaN  \n",
      "1       -0.349368  \n",
      "2        0.037942  \n",
      "3       -0.513420  \n",
      "4        0.369111  \n"
     ]
    }
   ],
   "source": [
    "# Display the modified DataFrame\n",
    "print(\"\\nModified DataFrame:\")\n",
    "print(df.head())"
   ]
  },
  {
   "cell_type": "code",
   "execution_count": 25,
   "metadata": {},
   "outputs": [],
   "source": [
    "# Example 16: Time-based Indexing for Specific Months\n",
    "df.reset_index(inplace=True)\n",
    "df.index = pd.to_datetime(df.index)\n",
    "df_january = df[df.index.month == 1]"
   ]
  },
  {
   "cell_type": "code",
   "execution_count": 26,
   "metadata": {},
   "outputs": [],
   "source": [
    "# Example 17: Time-based Indexing for Specific Days of the Week\n",
    "df_weekends = df[df.index.dayofweek.isin([5, 6])]"
   ]
  },
  {
   "cell_type": "code",
   "execution_count": 27,
   "metadata": {},
   "outputs": [],
   "source": [
    "# Example 18: Time-based Indexing for Specific Hours of the Day\n",
    "df_business_hours = df[df.index.hour.isin(range(9, 18))]"
   ]
  },
  {
   "cell_type": "code",
   "execution_count": 28,
   "metadata": {},
   "outputs": [],
   "source": [
    "# Example 19: Shifting Multiple Time Frequencies\n",
    "df['Lagged_Value_2D'] = df['Value'].shift(2, freq='D')\n",
    "df['Lagged_Value_2H'] = df['Value'].shift(2, freq='H')"
   ]
  },
  {
   "cell_type": "code",
   "execution_count": 29,
   "metadata": {},
   "outputs": [],
   "source": [
    "# Example 20: Shifting with Rolling Window\n",
    "window = df['Value'].rolling(window=3)\n",
    "df['Mean_Window_3'] = window.mean().shift(1)"
   ]
  },
  {
   "cell_type": "code",
   "execution_count": 30,
   "metadata": {},
   "outputs": [
    {
     "name": "stdout",
     "output_type": "stream",
     "text": [
      "\n",
      "Modified DataFrame:\n",
      "                               level_0  index       Date     Value  \\\n",
      "1970-01-01 00:00:00.000000000        0      0 2023-01-01 -0.349368   \n",
      "1970-01-01 00:00:00.000000001        1      1 2023-01-02  0.037942   \n",
      "1970-01-01 00:00:00.000000002        2      2 2023-01-03 -0.513420   \n",
      "1970-01-01 00:00:00.000000003        3      3 2023-01-04  0.369111   \n",
      "1970-01-01 00:00:00.000000004        4      4 2023-01-05  0.555328   \n",
      "\n",
      "                               Lagged_Value  Leading_Value  Percentage_Change  \\\n",
      "1970-01-01 00:00:00.000000000           NaN       0.037942                NaN   \n",
      "1970-01-01 00:00:00.000000001     -0.349368      -0.513420        -110.860223   \n",
      "1970-01-01 00:00:00.000000002      0.037942       0.369111       -1453.166510   \n",
      "1970-01-01 00:00:00.000000003     -0.513420       0.555328        -171.892601   \n",
      "1970-01-01 00:00:00.000000004      0.369111       1.775665          50.450123   \n",
      "\n",
      "                               Moving_Average  Moving_Sum       EMA  \\\n",
      "1970-01-01 00:00:00.000000000             NaN         NaN -0.349368   \n",
      "1970-01-01 00:00:00.000000001             NaN         NaN -0.271906   \n",
      "1970-01-01 00:00:00.000000002       -0.274948         NaN -0.320209   \n",
      "1970-01-01 00:00:00.000000003       -0.035456         NaN -0.182345   \n",
      "1970-01-01 00:00:00.000000004        0.137006         NaN -0.034810   \n",
      "\n",
      "                               Lagged_Value_3  Lagged_Value_7  Lagged_Value_1  \\\n",
      "1970-01-01 00:00:00.000000000             NaN             NaN             NaN   \n",
      "1970-01-01 00:00:00.000000001             NaN             NaN       -0.349368   \n",
      "1970-01-01 00:00:00.000000002             NaN             NaN        0.037942   \n",
      "1970-01-01 00:00:00.000000003             NaN             NaN       -0.513420   \n",
      "1970-01-01 00:00:00.000000004       -0.349368             NaN        0.369111   \n",
      "\n",
      "                               Lagged_Value_2D  Lagged_Value_2H  Mean_Window_3  \n",
      "1970-01-01 00:00:00.000000000              NaN              NaN            NaN  \n",
      "1970-01-01 00:00:00.000000001              NaN              NaN            NaN  \n",
      "1970-01-01 00:00:00.000000002              NaN              NaN            NaN  \n",
      "1970-01-01 00:00:00.000000003              NaN              NaN      -0.274948  \n",
      "1970-01-01 00:00:00.000000004              NaN              NaN      -0.035456  \n"
     ]
    }
   ],
   "source": [
    "# Display the modified DataFrame\n",
    "print(\"\\nModified DataFrame:\")\n",
    "print(df.head())"
   ]
  }
 ],
 "metadata": {
  "kernelspec": {
   "display_name": "Python 3",
   "language": "python",
   "name": "python3"
  },
  "language_info": {
   "codemirror_mode": {
    "name": "ipython",
    "version": 3
   },
   "file_extension": ".py",
   "mimetype": "text/x-python",
   "name": "python",
   "nbconvert_exporter": "python",
   "pygments_lexer": "ipython3",
   "version": "3.11.2"
  },
  "orig_nbformat": 4
 },
 "nbformat": 4,
 "nbformat_minor": 2
}
