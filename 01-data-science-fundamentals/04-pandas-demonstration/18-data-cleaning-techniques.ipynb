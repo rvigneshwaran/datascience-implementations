{
 "cells": [
  {
   "cell_type": "code",
   "execution_count": 1,
   "metadata": {},
   "outputs": [],
   "source": [
    "import pandas as pd\n",
    "import numpy as np"
   ]
  },
  {
   "cell_type": "code",
   "execution_count": 2,
   "metadata": {},
   "outputs": [
    {
     "name": "stdout",
     "output_type": "stream",
     "text": [
      "DataFrame with duplicate and outlier values:\n",
      "  Category  Value\n",
      "0        A     10\n",
      "1        A     20\n",
      "2        B     15\n",
      "3        B     25\n",
      "4        C     30\n",
      "5        C      5\n",
      "6        D   1000\n",
      "7        D   5000\n"
     ]
    }
   ],
   "source": [
    "# Creating a DataFrame with duplicate and outlier values\n",
    "data = {\n",
    "    'Category': ['A', 'A', 'B', 'B', 'C', 'C', 'D', 'D'],\n",
    "    'Value': [10, 20, 15, 25, 30, 5, 1000, 5000]\n",
    "}\n",
    "df = pd.DataFrame(data)\n",
    "print(\"DataFrame with duplicate and outlier values:\")\n",
    "print(df)"
   ]
  },
  {
   "cell_type": "code",
   "execution_count": 3,
   "metadata": {},
   "outputs": [
    {
     "name": "stdout",
     "output_type": "stream",
     "text": [
      "\n",
      "Example 1:\n",
      "DataFrame after removing duplicate rows:\n",
      "  Category  Value\n",
      "0        A     10\n",
      "1        A     20\n",
      "2        B     15\n",
      "3        B     25\n",
      "4        C     30\n",
      "5        C      5\n",
      "6        D   1000\n",
      "7        D   5000\n"
     ]
    }
   ],
   "source": [
    "# Example 1: Removing duplicate rows from the DataFrame\n",
    "df_no_duplicates = df.drop_duplicates()\n",
    "print(\"\\nExample 1:\")\n",
    "print(\"DataFrame after removing duplicate rows:\")\n",
    "print(df_no_duplicates)"
   ]
  },
  {
   "cell_type": "code",
   "execution_count": 4,
   "metadata": {},
   "outputs": [
    {
     "name": "stdout",
     "output_type": "stream",
     "text": [
      "\n",
      "Example 2:\n",
      "DataFrame after removing duplicate rows based on 'Category' column:\n",
      "  Category  Value\n",
      "0        A     10\n",
      "2        B     15\n",
      "4        C     30\n",
      "6        D   1000\n"
     ]
    }
   ],
   "source": [
    "# Example 2: Removing duplicates based on a specific column\n",
    "df_no_duplicates_category = df.drop_duplicates(subset='Category')\n",
    "print(\"\\nExample 2:\")\n",
    "print(\"DataFrame after removing duplicate rows based on 'Category' column:\")\n",
    "print(df_no_duplicates_category)"
   ]
  },
  {
   "cell_type": "code",
   "execution_count": 5,
   "metadata": {},
   "outputs": [
    {
     "name": "stdout",
     "output_type": "stream",
     "text": [
      "\n",
      "Example 3:\n",
      "DataFrame after removing outliers using z-score method:\n",
      "  Category  Value\n",
      "0        A     10\n",
      "1        A     20\n",
      "2        B     15\n",
      "3        B     25\n",
      "4        C     30\n",
      "5        C      5\n",
      "6        D   1000\n",
      "7        D   5000\n"
     ]
    }
   ],
   "source": [
    "# Example 3: Handling outliers using z-score method\n",
    "z_scores = np.abs((df['Value'] - df['Value'].mean()) / df['Value'].std())\n",
    "df_no_outliers_zscore = df[z_scores < 3]\n",
    "print(\"\\nExample 3:\")\n",
    "print(\"DataFrame after removing outliers using z-score method:\")\n",
    "print(df_no_outliers_zscore)"
   ]
  },
  {
   "cell_type": "code",
   "execution_count": 6,
   "metadata": {},
   "outputs": [
    {
     "name": "stdout",
     "output_type": "stream",
     "text": [
      "\n",
      "Example 4:\n",
      "DataFrame after removing outliers using IQR method:\n",
      "  Category  Value\n",
      "0        A     10\n",
      "1        A     20\n",
      "2        B     15\n",
      "3        B     25\n",
      "4        C     30\n",
      "5        C      5\n"
     ]
    }
   ],
   "source": [
    "# Example 4: Handling outliers using IQR (Interquartile Range) method\n",
    "Q1 = df['Value'].quantile(0.25)\n",
    "Q3 = df['Value'].quantile(0.75)\n",
    "IQR = Q3 - Q1\n",
    "df_no_outliers_iqr = df[(df['Value'] >= Q1 - 1.5 * IQR) & (df['Value'] <= Q3 + 1.5 * IQR)]\n",
    "print(\"\\nExample 4:\")\n",
    "print(\"DataFrame after removing outliers using IQR method:\")\n",
    "print(df_no_outliers_iqr)"
   ]
  },
  {
   "cell_type": "code",
   "execution_count": 8,
   "metadata": {},
   "outputs": [
    {
     "name": "stdout",
     "output_type": "stream",
     "text": [
      "\n",
      "Example 5:\n",
      "DataFrame after replacing outlier values with median:\n",
      "  Category   Value\n",
      "0        A    10.0\n",
      "1        A    20.0\n",
      "2        B    15.0\n",
      "3        B    25.0\n",
      "4        C    30.0\n",
      "5        C     5.0\n",
      "6        D  1000.0\n",
      "7        D  5000.0\n"
     ]
    }
   ],
   "source": [
    "# Example 5: Replacing outlier values with median\n",
    "median_value = df['Value'].median()\n",
    "df_replace_outliers_median = df.copy()\n",
    "df_replace_outliers_median.loc[z_scores >= 3, 'Value'] = median_value\n",
    "print(\"\\nExample 5:\")\n",
    "print(\"DataFrame after replacing outlier values with median:\")\n",
    "print(df_replace_outliers_median)"
   ]
  },
  {
   "cell_type": "code",
   "execution_count": 9,
   "metadata": {},
   "outputs": [
    {
     "name": "stdout",
     "output_type": "stream",
     "text": [
      "\n",
      "Example 6:\n",
      "DataFrame after replacing outlier values with mean:\n",
      "  Category   Value\n",
      "0        A    10.0\n",
      "1        A    20.0\n",
      "2        B    15.0\n",
      "3        B    25.0\n",
      "4        C    30.0\n",
      "5        C     5.0\n",
      "6        D  1000.0\n",
      "7        D  5000.0\n"
     ]
    }
   ],
   "source": [
    "# Example 6: Replacing outlier values with mean\n",
    "mean_value = df['Value'].mean()\n",
    "df_replace_outliers_mean = df.copy()\n",
    "df_replace_outliers_mean.loc[z_scores >= 3, 'Value'] = mean_value\n",
    "print(\"\\nExample 6:\")\n",
    "print(\"DataFrame after replacing outlier values with mean:\")\n",
    "print(df_replace_outliers_mean)"
   ]
  },
  {
   "cell_type": "code",
   "execution_count": 10,
   "metadata": {},
   "outputs": [
    {
     "name": "stdout",
     "output_type": "stream",
     "text": [
      "\n",
      "Example 7:\n",
      "DataFrame after filling missing values with 0:\n",
      "     A\n",
      "0  1.0\n",
      "1  2.0\n",
      "2  0.0\n",
      "3  4.0\n"
     ]
    }
   ],
   "source": [
    "# Example 7: Filling missing values with a specified value\n",
    "df_with_missing = pd.DataFrame({'A': [1, 2, np.nan, 4]})\n",
    "df_filled_with_value = df_with_missing.fillna(0)\n",
    "print(\"\\nExample 7:\")\n",
    "print(\"DataFrame after filling missing values with 0:\")\n",
    "print(df_filled_with_value)"
   ]
  },
  {
   "cell_type": "code",
   "execution_count": 11,
   "metadata": {},
   "outputs": [
    {
     "name": "stdout",
     "output_type": "stream",
     "text": [
      "\n",
      "Example 8:\n",
      "DataFrame after filling missing values with the mean of 'A' column:\n",
      "          A\n",
      "0  1.000000\n",
      "1  2.000000\n",
      "2  2.333333\n",
      "3  4.000000\n"
     ]
    }
   ],
   "source": [
    "# Example 8: Filling missing values with the mean of the column\n",
    "mean_A = df_with_missing['A'].mean()\n",
    "df_filled_with_mean = df_with_missing.fillna(mean_A)\n",
    "print(\"\\nExample 8:\")\n",
    "print(\"DataFrame after filling missing values with the mean of 'A' column:\")\n",
    "print(df_filled_with_mean)"
   ]
  },
  {
   "cell_type": "code",
   "execution_count": 12,
   "metadata": {},
   "outputs": [
    {
     "name": "stdout",
     "output_type": "stream",
     "text": [
      "\n",
      "Example 9:\n",
      "DataFrame after filling missing values with the median of 'A' column:\n",
      "     A\n",
      "0  1.0\n",
      "1  2.0\n",
      "2  2.0\n",
      "3  4.0\n"
     ]
    }
   ],
   "source": [
    "# Example 9: Filling missing values with the median of the column\n",
    "median_A = df_with_missing['A'].median()\n",
    "df_filled_with_median = df_with_missing.fillna(median_A)\n",
    "print(\"\\nExample 9:\")\n",
    "print(\"DataFrame after filling missing values with the median of 'A' column:\")\n",
    "print(df_filled_with_median)"
   ]
  },
  {
   "cell_type": "code",
   "execution_count": 13,
   "metadata": {},
   "outputs": [
    {
     "name": "stdout",
     "output_type": "stream",
     "text": [
      "\n",
      "Example 10:\n",
      "DataFrame after dropping rows with missing values:\n",
      "     A\n",
      "0  1.0\n",
      "1  2.0\n",
      "3  4.0\n"
     ]
    }
   ],
   "source": [
    "# Example 10: Dropping rows with missing values\n",
    "df_dropped_missing = df_with_missing.dropna()\n",
    "print(\"\\nExample 10:\")\n",
    "print(\"DataFrame after dropping rows with missing values:\")\n",
    "print(df_dropped_missing)"
   ]
  },
  {
   "cell_type": "code",
   "execution_count": 14,
   "metadata": {},
   "outputs": [
    {
     "name": "stdout",
     "output_type": "stream",
     "text": [
      "\n",
      "Example 11:\n",
      "DataFrame after forward filling missing values:\n",
      "     A\n",
      "0  1.0\n",
      "1  2.0\n",
      "2  2.0\n",
      "3  4.0\n"
     ]
    }
   ],
   "source": [
    "# Example 11: Forward filling missing values\n",
    "df_forward_filled = df_with_missing.ffill()\n",
    "print(\"\\nExample 11:\")\n",
    "print(\"DataFrame after forward filling missing values:\")\n",
    "print(df_forward_filled)"
   ]
  },
  {
   "cell_type": "code",
   "execution_count": 15,
   "metadata": {},
   "outputs": [
    {
     "name": "stdout",
     "output_type": "stream",
     "text": [
      "\n",
      "Example 12:\n",
      "DataFrame after backward filling missing values:\n",
      "     A\n",
      "0  1.0\n",
      "1  2.0\n",
      "2  4.0\n",
      "3  4.0\n"
     ]
    }
   ],
   "source": [
    "# Example 12: Backward filling missing values\n",
    "df_backward_filled = df_with_missing.bfill()\n",
    "print(\"\\nExample 12:\")\n",
    "print(\"DataFrame after backward filling missing values:\")\n",
    "print(df_backward_filled)"
   ]
  },
  {
   "cell_type": "code",
   "execution_count": 16,
   "metadata": {},
   "outputs": [
    {
     "name": "stdout",
     "output_type": "stream",
     "text": [
      "\n",
      "Example 13:\n",
      "DataFrame after interpolating missing values:\n",
      "     A\n",
      "0  1.0\n",
      "1  2.0\n",
      "2  3.0\n",
      "3  4.0\n"
     ]
    }
   ],
   "source": [
    "# Example 13: Interpolating missing values\n",
    "df_interpolated = df_with_missing.interpolate()\n",
    "print(\"\\nExample 13:\")\n",
    "print(\"DataFrame after interpolating missing values:\")\n",
    "print(df_interpolated)"
   ]
  },
  {
   "cell_type": "code",
   "execution_count": 17,
   "metadata": {},
   "outputs": [
    {
     "name": "stdout",
     "output_type": "stream",
     "text": [
      "\n",
      "Example 14:\n",
      "DataFrame after dropping rows with NaN values in 'B' column:\n",
      "     A    B\n",
      "0  1.0  5.0\n",
      "2  NaN  7.0\n",
      "3  4.0  8.0\n"
     ]
    }
   ],
   "source": [
    "# Example 14: Dropping rows with NaN values in specific columns\n",
    "df_with_nan = pd.DataFrame({'A': [1, 2, np.nan, 4], 'B': [5, np.nan, 7, 8]})\n",
    "df_dropped_nan_column = df_with_nan.dropna(subset=['B'])\n",
    "print(\"\\nExample 14:\")\n",
    "print(\"DataFrame after dropping rows with NaN values in 'B' column:\")\n",
    "print(df_dropped_nan_column)"
   ]
  },
  {
   "cell_type": "code",
   "execution_count": 18,
   "metadata": {},
   "outputs": [
    {
     "name": "stdout",
     "output_type": "stream",
     "text": [
      "\n",
      "Example 15:\n",
      "DataFrame after dropping columns with NaN values:\n",
      "Empty DataFrame\n",
      "Columns: []\n",
      "Index: [0, 1, 2, 3]\n"
     ]
    }
   ],
   "source": [
    "# Example 15: Dropping columns with NaN values\n",
    "df_dropped_nan_column = df_with_nan.dropna(axis=1)\n",
    "print(\"\\nExample 15:\")\n",
    "print(\"DataFrame after dropping columns with NaN values:\")\n",
    "print(df_dropped_nan_column)"
   ]
  },
  {
   "cell_type": "code",
   "execution_count": 19,
   "metadata": {},
   "outputs": [
    {
     "name": "stdout",
     "output_type": "stream",
     "text": [
      "\n",
      "Example 16:\n",
      "DataFrame after filling missing values with ffill and bfill method:\n",
      "     A\n",
      "0  1.0\n",
      "1  2.0\n",
      "2  2.0\n",
      "3  4.0\n"
     ]
    }
   ],
   "source": [
    "# Example 16: Replacing missing values with ffill and bfill method\n",
    "df_filled_with_ffill_bfill = df_with_missing.ffill().bfill()\n",
    "print(\"\\nExample 16:\")\n",
    "print(\"DataFrame after filling missing values with ffill and bfill method:\")\n",
    "print(df_filled_with_ffill_bfill)"
   ]
  },
  {
   "cell_type": "code",
   "execution_count": 20,
   "metadata": {},
   "outputs": [
    {
     "name": "stdout",
     "output_type": "stream",
     "text": [
      "\n",
      "Example 17:\n",
      "DataFrame after filling missing values with interpolate method:\n",
      "     A\n",
      "0  1.0\n",
      "1  2.0\n",
      "2  3.0\n",
      "3  4.0\n"
     ]
    }
   ],
   "source": [
    "# Example 17: Replacing missing values with interpolate method\n",
    "df_filled_with_interpolate = df_with_missing.interpolate()\n",
    "print(\"\\nExample 17:\")\n",
    "print(\"DataFrame after filling missing values with interpolate method:\")\n",
    "print(df_filled_with_interpolate)"
   ]
  },
  {
   "cell_type": "code",
   "execution_count": 21,
   "metadata": {},
   "outputs": [
    {
     "name": "stdout",
     "output_type": "stream",
     "text": [
      "\n",
      "Example 18:\n",
      "DataFrame after removing duplicate rows based on multiple columns:\n",
      "   A  B\n",
      "0  1  5\n",
      "1  2  5\n",
      "2  2  7\n",
      "3  4  8\n"
     ]
    }
   ],
   "source": [
    "# Example 18: Removing duplicate rows based on multiple columns\n",
    "df_with_duplicates = pd.DataFrame({'A': [1, 2, 2, 4], 'B': [5, 5, 7, 8]})\n",
    "df_no_duplicates_multi_cols = df_with_duplicates.drop_duplicates(subset=['A', 'B'])\n",
    "print(\"\\nExample 18:\")\n",
    "print(\"DataFrame after removing duplicate rows based on multiple columns:\")\n",
    "print(df_no_duplicates_multi_cols)"
   ]
  },
  {
   "cell_type": "code",
   "execution_count": 22,
   "metadata": {},
   "outputs": [
    {
     "name": "stdout",
     "output_type": "stream",
     "text": [
      "\n",
      "Example 19:\n",
      "DataFrame after removing duplicate rows and keeping the last occurrence:\n",
      "   A  B\n",
      "0  1  5\n",
      "1  2  5\n",
      "2  2  7\n",
      "3  4  8\n"
     ]
    }
   ],
   "source": [
    "# Example 19: Removing duplicate rows and keeping the last occurrence\n",
    "df_no_duplicates_last = df_with_duplicates.drop_duplicates(keep='last')\n",
    "print(\"\\nExample 19:\")\n",
    "print(\"DataFrame after removing duplicate rows and keeping the last occurrence:\")\n",
    "print(df_no_duplicates_last)"
   ]
  },
  {
   "cell_type": "code",
   "execution_count": 23,
   "metadata": {},
   "outputs": [
    {
     "name": "stdout",
     "output_type": "stream",
     "text": [
      "\n",
      "Example 20:\n",
      "DataFrame after removing duplicate rows based on 'A' column:\n",
      "   A  B\n",
      "0  1  5\n",
      "1  2  5\n",
      "3  4  8\n"
     ]
    }
   ],
   "source": [
    "# Example 20: Dropping duplicate rows based on a specific column\n",
    "df_no_duplicates_A = df_with_duplicates.drop_duplicates(subset='A')\n",
    "print(\"\\nExample 20:\")\n",
    "print(\"DataFrame after removing duplicate rows based on 'A' column:\")\n",
    "print(df_no_duplicates_A)"
   ]
  },
  {
   "cell_type": "code",
   "execution_count": 24,
   "metadata": {},
   "outputs": [
    {
     "name": "stdout",
     "output_type": "stream",
     "text": [
      "\n",
      "Example 21:\n",
      "DataFrame after removing outliers using z-score method for multiple columns:\n",
      "    A     B\n",
      "0   1  1000\n",
      "1   2  2000\n",
      "2  15    25\n",
      "3   4    40\n"
     ]
    }
   ],
   "source": [
    "# Example 21: Handling outliers using z-score method for multiple columns\n",
    "df_outliers_multiple_cols = pd.DataFrame({'A': [1, 2, 15, 4], 'B': [1000, 2000, 25, 40]})\n",
    "z_scores_multi_cols = np.abs((df_outliers_multiple_cols - df_outliers_multiple_cols.mean()) / df_outliers_multiple_cols.std())\n",
    "df_no_outliers_multi_cols = df_outliers_multiple_cols[(z_scores_multi_cols < 3).all(axis=1)]\n",
    "print(\"\\nExample 21:\")\n",
    "print(\"DataFrame after removing outliers using z-score method for multiple columns:\")\n",
    "print(df_no_outliers_multi_cols)"
   ]
  },
  {
   "cell_type": "code",
   "execution_count": 25,
   "metadata": {},
   "outputs": [
    {
     "name": "stdout",
     "output_type": "stream",
     "text": [
      "\n",
      "Example 22:\n",
      "DataFrame after removing outliers using IQR method for multiple columns:\n",
      "   A     B\n",
      "0  1  1000\n",
      "1  2  2000\n",
      "3  4    40\n"
     ]
    }
   ],
   "source": [
    "# Example 22: Handling outliers using IQR (Interquartile Range) method for multiple columns\n",
    "Q1_multi_cols = df_outliers_multiple_cols.quantile(0.25)\n",
    "Q3_multi_cols = df_outliers_multiple_cols.quantile(0.75)\n",
    "IQR_multi_cols = Q3_multi_cols - Q1_multi_cols\n",
    "df_no_outliers_multi_cols_iqr = df_outliers_multiple_cols[((df_outliers_multiple_cols >= Q1_multi_cols - 1.5 * IQR_multi_cols) &\n",
    "                                                           (df_outliers_multiple_cols <= Q3_multi_cols + 1.5 * IQR_multi_cols)).all(axis=1)]\n",
    "print(\"\\nExample 22:\")\n",
    "print(\"DataFrame after removing outliers using IQR method for multiple columns:\")\n",
    "print(df_no_outliers_multi_cols_iqr)"
   ]
  },
  {
   "cell_type": "code",
   "execution_count": 26,
   "metadata": {},
   "outputs": [
    {
     "name": "stdout",
     "output_type": "stream",
     "text": [
      "\n",
      "Example 23:\n",
      "DataFrame after replacing outlier values with median for multiple columns:\n",
      "    A     B\n",
      "0   1  1000\n",
      "1   2  2000\n",
      "2  15    25\n",
      "3   4    40\n"
     ]
    }
   ],
   "source": [
    "# Example 23: Replacing outlier values with median for multiple columns\n",
    "median_A_multi = df_outliers_multiple_cols['A'].median()\n",
    "median_B_multi = df_outliers_multiple_cols['B'].median()\n",
    "df_replace_outliers_median_multi = df_outliers_multiple_cols.copy()\n",
    "df_replace_outliers_median_multi.loc[z_scores_multi_cols['A'] >= 3, 'A'] = median_A_multi\n",
    "df_replace_outliers_median_multi.loc[z_scores_multi_cols['B'] >= 3, 'B'] = median_B_multi\n",
    "print(\"\\nExample 23:\")\n",
    "print(\"DataFrame after replacing outlier values with median for multiple columns:\")\n",
    "print(df_replace_outliers_median_multi)"
   ]
  },
  {
   "cell_type": "code",
   "execution_count": 27,
   "metadata": {},
   "outputs": [
    {
     "name": "stdout",
     "output_type": "stream",
     "text": [
      "\n",
      "Example 24:\n",
      "DataFrame after replacing outlier values with mean for multiple columns:\n",
      "      A       B\n",
      "0   1.0  1000.0\n",
      "1   2.0  2000.0\n",
      "2  15.0    25.0\n",
      "3   4.0    40.0\n"
     ]
    }
   ],
   "source": [
    "# Example 24: Replacing outlier values with mean for multiple columns\n",
    "mean_A_multi = df_outliers_multiple_cols['A'].mean()\n",
    "mean_B_multi = df_outliers_multiple_cols['B'].mean()\n",
    "df_replace_outliers_mean_multi = df_outliers_multiple_cols.copy()\n",
    "df_replace_outliers_mean_multi.loc[z_scores_multi_cols['A'] >= 3, 'A'] = mean_A_multi\n",
    "df_replace_outliers_mean_multi.loc[z_scores_multi_cols['B'] >= 3, 'B'] = mean_B_multi\n",
    "print(\"\\nExample 24:\")\n",
    "print(\"DataFrame after replacing outlier values with mean for multiple columns:\")\n",
    "print(df_replace_outliers_mean_multi)"
   ]
  },
  {
   "cell_type": "code",
   "execution_count": 28,
   "metadata": {},
   "outputs": [
    {
     "name": "stdout",
     "output_type": "stream",
     "text": [
      "\n",
      "Example 25:\n",
      "DataFrame after filling missing values with 0 for multiple columns:\n",
      "     A    B\n",
      "0  1.0  5.0\n",
      "1  2.0  0.0\n",
      "2  0.0  7.0\n",
      "3  4.0  0.0\n"
     ]
    }
   ],
   "source": [
    "# Example 25: Filling missing values with 0 for multiple columns\n",
    "df_with_missing_multi = pd.DataFrame({'A': [1, 2, np.nan, 4], 'B': [5, np.nan, 7, np.nan]})\n",
    "df_filled_with_value_multi = df_with_missing_multi.fillna(0)\n",
    "print(\"\\nExample 25:\")\n",
    "print(\"DataFrame after filling missing values with 0 for multiple columns:\")\n",
    "print(df_filled_with_value_multi)"
   ]
  }
 ],
 "metadata": {
  "kernelspec": {
   "display_name": "Python 3",
   "language": "python",
   "name": "python3"
  },
  "language_info": {
   "codemirror_mode": {
    "name": "ipython",
    "version": 3
   },
   "file_extension": ".py",
   "mimetype": "text/x-python",
   "name": "python",
   "nbconvert_exporter": "python",
   "pygments_lexer": "ipython3",
   "version": "3.11.2"
  },
  "orig_nbformat": 4
 },
 "nbformat": 4,
 "nbformat_minor": 2
}
