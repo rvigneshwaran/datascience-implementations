{
 "cells": [
  {
   "cell_type": "code",
   "execution_count": 1,
   "metadata": {},
   "outputs": [],
   "source": [
    "import pandas as pd\n",
    "import numpy as np"
   ]
  },
  {
   "cell_type": "code",
   "execution_count": 2,
   "metadata": {},
   "outputs": [
    {
     "name": "stdout",
     "output_type": "stream",
     "text": [
      "DataFrame with duplicate and outlier values:\n",
      "  Category  Value\n",
      "0        A     10\n",
      "1        A     20\n",
      "2        B     15\n",
      "3        B     25\n",
      "4        C     30\n",
      "5        C      5\n",
      "6        D   1000\n",
      "7        D   5000\n"
     ]
    }
   ],
   "source": [
    "# Creating a DataFrame with duplicate and outlier values\n",
    "data = {\n",
    "    'Category': ['A', 'A', 'B', 'B', 'C', 'C', 'D', 'D'],\n",
    "    'Value': [10, 20, 15, 25, 30, 5, 1000, 5000]\n",
    "}\n",
    "df = pd.DataFrame(data)\n",
    "print(\"DataFrame with duplicate and outlier values:\")\n",
    "print(df)"
   ]
  },
  {
   "cell_type": "code",
   "execution_count": 3,
   "metadata": {},
   "outputs": [
    {
     "name": "stdout",
     "output_type": "stream",
     "text": [
      "\n",
      "Example 1:\n",
      "DataFrame after removing duplicate rows:\n",
      "  Category  Value\n",
      "0        A     10\n",
      "1        A     20\n",
      "2        B     15\n",
      "3        B     25\n",
      "4        C     30\n",
      "5        C      5\n",
      "6        D   1000\n",
      "7        D   5000\n"
     ]
    }
   ],
   "source": [
    "# Example 1: Removing duplicate rows from the DataFrame\n",
    "df_no_duplicates = df.drop_duplicates()\n",
    "print(\"\\nExample 1:\")\n",
    "print(\"DataFrame after removing duplicate rows:\")\n",
    "print(df_no_duplicates)"
   ]
  },
  {
   "cell_type": "code",
   "execution_count": 4,
   "metadata": {},
   "outputs": [
    {
     "name": "stdout",
     "output_type": "stream",
     "text": [
      "\n",
      "Example 2:\n",
      "DataFrame after removing duplicate rows based on 'Category' column:\n",
      "  Category  Value\n",
      "0        A     10\n",
      "2        B     15\n",
      "4        C     30\n",
      "6        D   1000\n"
     ]
    }
   ],
   "source": [
    "# Example 2: Removing duplicates based on a specific column\n",
    "df_no_duplicates_category = df.drop_duplicates(subset='Category')\n",
    "print(\"\\nExample 2:\")\n",
    "print(\"DataFrame after removing duplicate rows based on 'Category' column:\")\n",
    "print(df_no_duplicates_category)"
   ]
  },
  {
   "cell_type": "code",
   "execution_count": 5,
   "metadata": {},
   "outputs": [
    {
     "name": "stdout",
     "output_type": "stream",
     "text": [
      "\n",
      "Example 3:\n",
      "DataFrame after removing outliers using z-score method:\n",
      "  Category  Value\n",
      "0        A     10\n",
      "1        A     20\n",
      "2        B     15\n",
      "3        B     25\n",
      "4        C     30\n",
      "5        C      5\n",
      "6        D   1000\n",
      "7        D   5000\n"
     ]
    }
   ],
   "source": [
    "# Example 3: Handling outliers using z-score method\n",
    "z_scores = np.abs((df['Value'] - df['Value'].mean()) / df['Value'].std())\n",
    "df_no_outliers_zscore = df[z_scores < 3]\n",
    "print(\"\\nExample 3:\")\n",
    "print(\"DataFrame after removing outliers using z-score method:\")\n",
    "print(df_no_outliers_zscore)"
   ]
  },
  {
   "cell_type": "code",
   "execution_count": 6,
   "metadata": {},
   "outputs": [
    {
     "name": "stdout",
     "output_type": "stream",
     "text": [
      "\n",
      "Example 4:\n",
      "DataFrame after removing outliers using IQR method:\n",
      "  Category  Value\n",
      "0        A     10\n",
      "1        A     20\n",
      "2        B     15\n",
      "3        B     25\n",
      "4        C     30\n",
      "5        C      5\n"
     ]
    }
   ],
   "source": [
    "# Example 4: Handling outliers using IQR (Interquartile Range) method\n",
    "Q1 = df['Value'].quantile(0.25)\n",
    "Q3 = df['Value'].quantile(0.75)\n",
    "IQR = Q3 - Q1\n",
    "df_no_outliers_iqr = df[(df['Value'] >= Q1 - 1.5 * IQR) & (df['Value'] <= Q3 + 1.5 * IQR)]\n",
    "print(\"\\nExample 4:\")\n",
    "print(\"DataFrame after removing outliers using IQR method:\")\n",
    "print(df_no_outliers_iqr)"
   ]
  },
  {
   "cell_type": "code",
   "execution_count": 8,
   "metadata": {},
   "outputs": [
    {
     "name": "stdout",
     "output_type": "stream",
     "text": [
      "\n",
      "Example 5:\n",
      "DataFrame after replacing outlier values with median:\n",
      "  Category   Value\n",
      "0        A    10.0\n",
      "1        A    20.0\n",
      "2        B    15.0\n",
      "3        B    25.0\n",
      "4        C    30.0\n",
      "5        C     5.0\n",
      "6        D  1000.0\n",
      "7        D  5000.0\n"
     ]
    }
   ],
   "source": [
    "# Example 5: Replacing outlier values with median\n",
    "median_value = df['Value'].median()\n",
    "df_replace_outliers_median = df.copy()\n",
    "df_replace_outliers_median.loc[z_scores >= 3, 'Value'] = median_value\n",
    "print(\"\\nExample 5:\")\n",
    "print(\"DataFrame after replacing outlier values with median:\")\n",
    "print(df_replace_outliers_median)"
   ]
  }
 ],
 "metadata": {
  "kernelspec": {
   "display_name": "Python 3",
   "language": "python",
   "name": "python3"
  },
  "language_info": {
   "codemirror_mode": {
    "name": "ipython",
    "version": 3
   },
   "file_extension": ".py",
   "mimetype": "text/x-python",
   "name": "python",
   "nbconvert_exporter": "python",
   "pygments_lexer": "ipython3",
   "version": "3.11.2"
  },
  "orig_nbformat": 4
 },
 "nbformat": 4,
 "nbformat_minor": 2
}
