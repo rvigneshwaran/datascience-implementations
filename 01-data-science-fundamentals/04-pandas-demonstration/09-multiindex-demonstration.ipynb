{
 "cells": [
  {
   "cell_type": "code",
   "execution_count": 1,
   "metadata": {},
   "outputs": [],
   "source": [
    "import pandas as pd"
   ]
  },
  {
   "cell_type": "code",
   "execution_count": 2,
   "metadata": {},
   "outputs": [
    {
     "name": "stdout",
     "output_type": "stream",
     "text": [
      "Game of Thrones Characters DataFrame:\n",
      "                 Name      House    Status  Age  Seasons  Episodes  \\\n",
      "0            Jon Snow      Stark     Alive   30        8        73   \n",
      "1  Daenerys Targaryen  Targaryen  Deceased   24        8        62   \n",
      "2    Tyrion Lannister  Lannister     Alive   38        8        67   \n",
      "3          Arya Stark      Stark     Alive   20        8        59   \n",
      "4    Cersei Lannister  Lannister  Deceased   42        8        62   \n",
      "\n",
      "   Total_Kills  \n",
      "0            7  \n",
      "1           10  \n",
      "2            3  \n",
      "3            5  \n",
      "4           12  \n"
     ]
    }
   ],
   "source": [
    "# Creating DataFrames for Game of Thrones characters\n",
    "data = {\n",
    "    'Name': ['Jon Snow', 'Daenerys Targaryen', 'Tyrion Lannister', 'Arya Stark', 'Cersei Lannister'],\n",
    "    'House': ['Stark', 'Targaryen', 'Lannister', 'Stark', 'Lannister'],\n",
    "    'Status': ['Alive', 'Deceased', 'Alive', 'Alive', 'Deceased'],\n",
    "    'Age': [30, 24, 38, 20, 42],\n",
    "    'Seasons': [8, 8, 8, 8, 8],\n",
    "    'Episodes': [73, 62, 67, 59, 62],\n",
    "    'Total_Kills': [7, 10, 3, 5, 12]\n",
    "}\n",
    "got_df = pd.DataFrame(data)\n",
    "print(\"Game of Thrones Characters DataFrame:\")\n",
    "print(got_df)"
   ]
  },
  {
   "cell_type": "code",
   "execution_count": 3,
   "metadata": {},
   "outputs": [
    {
     "name": "stdout",
     "output_type": "stream",
     "text": [
      "\n",
      "Example 1: Creating a MultiIndex DataFrame with 'Name' and 'House' as levels:\n",
      "                                Status  Age  Seasons  Episodes  Total_Kills\n",
      "Name               House                                                   \n",
      "Jon Snow           Stark         Alive   30        8        73            7\n",
      "Daenerys Targaryen Targaryen  Deceased   24        8        62           10\n",
      "Tyrion Lannister   Lannister     Alive   38        8        67            3\n",
      "Arya Stark         Stark         Alive   20        8        59            5\n",
      "Cersei Lannister   Lannister  Deceased   42        8        62           12\n"
     ]
    }
   ],
   "source": [
    "# Example 1: Creating a MultiIndex DataFrame with 'Name' and 'House' as levels\n",
    "print(\"\\nExample 1: Creating a MultiIndex DataFrame with 'Name' and 'House' as levels:\")\n",
    "multi_index_df1 = got_df.set_index(['Name', 'House'])\n",
    "print(multi_index_df1)"
   ]
  },
  {
   "cell_type": "code",
   "execution_count": 4,
   "metadata": {},
   "outputs": [
    {
     "name": "stdout",
     "output_type": "stream",
     "text": [
      "\n",
      "Example 2: Accessing data from a MultiIndex DataFrame using loc:\n",
      "      Status  Age  Seasons  Episodes  Total_Kills\n",
      "House                                            \n",
      "Stark  Alive   30        8        73            7\n"
     ]
    }
   ],
   "source": [
    "# Example 2: Accessing data from a MultiIndex DataFrame using loc\n",
    "print(\"\\nExample 2: Accessing data from a MultiIndex DataFrame using loc:\")\n",
    "print(multi_index_df1.loc['Jon Snow'])"
   ]
  },
  {
   "cell_type": "code",
   "execution_count": 5,
   "metadata": {},
   "outputs": [
    {
     "name": "stdout",
     "output_type": "stream",
     "text": [
      "\n",
      "Example 3: Accessing data from a MultiIndex DataFrame using xs:\n",
      "          Status  Age  Seasons  Episodes  Total_Kills\n",
      "House                                                \n",
      "Lannister  Alive   38        8        67            3\n"
     ]
    }
   ],
   "source": [
    "# Example 3: Accessing data from a MultiIndex DataFrame using xs\n",
    "print(\"\\nExample 3: Accessing data from a MultiIndex DataFrame using xs:\")\n",
    "print(multi_index_df1.xs('Tyrion Lannister', level='Name'))\n"
   ]
  },
  {
   "cell_type": "code",
   "execution_count": 6,
   "metadata": {},
   "outputs": [
    {
     "name": "stdout",
     "output_type": "stream",
     "text": [
      "\n",
      "Example 4: Accessing data from a MultiIndex DataFrame using xs with multiple levels:\n",
      "                 Status  Age  Seasons  Episodes  Total_Kills\n",
      "Name       House                                            \n",
      "Arya Stark Stark  Alive   20        8        59            5\n"
     ]
    }
   ],
   "source": [
    "# Example 4: Accessing data from a MultiIndex DataFrame using xs with multiple levels\n",
    "print(\"\\nExample 4: Accessing data from a MultiIndex DataFrame using xs with multiple levels:\")\n",
    "print(multi_index_df1.xs(('Arya Stark', 'Stark'), level=('Name', 'House')))\n"
   ]
  },
  {
   "cell_type": "code",
   "execution_count": 7,
   "metadata": {},
   "outputs": [
    {
     "name": "stdout",
     "output_type": "stream",
     "text": [
      "\n",
      "Example 5: Accessing data from a MultiIndex DataFrame using slicers:\n",
      "                              Status  Age  Seasons  Episodes  Total_Kills\n",
      "Name             House                                                   \n",
      "Tyrion Lannister Lannister     Alive   38        8        67            3\n",
      "Cersei Lannister Lannister  Deceased   42        8        62           12\n"
     ]
    }
   ],
   "source": [
    "# Example 5: Accessing data from a MultiIndex DataFrame using slicers\n",
    "print(\"\\nExample 5: Accessing data from a MultiIndex DataFrame using slicers:\")\n",
    "idx = pd.IndexSlice\n",
    "print(multi_index_df1.loc[idx[:, 'Lannister'], :])\n"
   ]
  },
  {
   "cell_type": "code",
   "execution_count": 8,
   "metadata": {},
   "outputs": [
    {
     "name": "stdout",
     "output_type": "stream",
     "text": [
      "\n",
      "Example 6: Resetting one level of the MultiIndex:\n",
      "                        House    Status  Age  Seasons  Episodes  Total_Kills\n",
      "Name                                                                        \n",
      "Jon Snow                Stark     Alive   30        8        73            7\n",
      "Daenerys Targaryen  Targaryen  Deceased   24        8        62           10\n",
      "Tyrion Lannister    Lannister     Alive   38        8        67            3\n",
      "Arya Stark              Stark     Alive   20        8        59            5\n",
      "Cersei Lannister    Lannister  Deceased   42        8        62           12\n"
     ]
    }
   ],
   "source": [
    "# Example 6: Resetting one level of the MultiIndex\n",
    "print(\"\\nExample 6: Resetting one level of the MultiIndex:\")\n",
    "reset_index_df1 = multi_index_df1.reset_index(level='House')\n",
    "print(reset_index_df1)"
   ]
  },
  {
   "cell_type": "code",
   "execution_count": 9,
   "metadata": {},
   "outputs": [
    {
     "name": "stdout",
     "output_type": "stream",
     "text": [
      "\n",
      "Example 7: Resetting all levels of the MultiIndex:\n",
      "                 Name      House    Status  Age  Seasons  Episodes  \\\n",
      "0            Jon Snow      Stark     Alive   30        8        73   \n",
      "1  Daenerys Targaryen  Targaryen  Deceased   24        8        62   \n",
      "2    Tyrion Lannister  Lannister     Alive   38        8        67   \n",
      "3          Arya Stark      Stark     Alive   20        8        59   \n",
      "4    Cersei Lannister  Lannister  Deceased   42        8        62   \n",
      "\n",
      "   Total_Kills  \n",
      "0            7  \n",
      "1           10  \n",
      "2            3  \n",
      "3            5  \n",
      "4           12  \n"
     ]
    }
   ],
   "source": [
    "# Example 7: Resetting all levels of the MultiIndex\n",
    "print(\"\\nExample 7: Resetting all levels of the MultiIndex:\")\n",
    "reset_all_index_df1 = multi_index_df1.reset_index()\n",
    "print(reset_all_index_df1)"
   ]
  },
  {
   "cell_type": "code",
   "execution_count": 10,
   "metadata": {},
   "outputs": [
    {
     "name": "stdout",
     "output_type": "stream",
     "text": [
      "\n",
      "Example 8: Setting a new level in the MultiIndex:\n",
      "                                               Status  Age  Seasons  Episodes  \\\n",
      "Character Type Name               House                                         \n",
      "Main           Jon Snow           Stark         Alive   30        8        73   \n",
      "               Daenerys Targaryen Targaryen  Deceased   24        8        62   \n",
      "Supporting     Tyrion Lannister   Lannister     Alive   38        8        67   \n",
      "Main           Arya Stark         Stark         Alive   20        8        59   \n",
      "Supporting     Cersei Lannister   Lannister  Deceased   42        8        62   \n",
      "\n",
      "                                             Total_Kills  \n",
      "Character Type Name               House                   \n",
      "Main           Jon Snow           Stark                7  \n",
      "               Daenerys Targaryen Targaryen           10  \n",
      "Supporting     Tyrion Lannister   Lannister            3  \n",
      "Main           Arya Stark         Stark                5  \n",
      "Supporting     Cersei Lannister   Lannister           12  \n"
     ]
    }
   ],
   "source": [
    "# Example 8: Setting a new level in the MultiIndex\n",
    "print(\"\\nExample 8: Setting a new level in the MultiIndex:\")\n",
    "got_df_copy = got_df.copy()\n",
    "got_df_copy['Character Type'] = ['Main', 'Main', 'Supporting', 'Main', 'Supporting']\n",
    "multi_index_df2 = got_df_copy.set_index(['Character Type', 'Name', 'House'])\n",
    "print(multi_index_df2)"
   ]
  },
  {
   "cell_type": "code",
   "execution_count": 11,
   "metadata": {},
   "outputs": [
    {
     "name": "stdout",
     "output_type": "stream",
     "text": [
      "\n",
      "Example 9: Sorting the MultiIndex DataFrame:\n",
      "                                               Status  Age  Seasons  Episodes  \\\n",
      "Character Type Name               House                                         \n",
      "Main           Arya Stark         Stark         Alive   20        8        59   \n",
      "               Daenerys Targaryen Targaryen  Deceased   24        8        62   \n",
      "               Jon Snow           Stark         Alive   30        8        73   \n",
      "Supporting     Cersei Lannister   Lannister  Deceased   42        8        62   \n",
      "               Tyrion Lannister   Lannister     Alive   38        8        67   \n",
      "\n",
      "                                             Total_Kills  \n",
      "Character Type Name               House                   \n",
      "Main           Arya Stark         Stark                5  \n",
      "               Daenerys Targaryen Targaryen           10  \n",
      "               Jon Snow           Stark                7  \n",
      "Supporting     Cersei Lannister   Lannister           12  \n",
      "               Tyrion Lannister   Lannister            3  \n"
     ]
    }
   ],
   "source": [
    "# Example 9: Sorting the MultiIndex DataFrame\n",
    "print(\"\\nExample 9: Sorting the MultiIndex DataFrame:\")\n",
    "sorted_index_df2 = multi_index_df2.sort_index()\n",
    "print(sorted_index_df2)"
   ]
  },
  {
   "cell_type": "code",
   "execution_count": 12,
   "metadata": {},
   "outputs": [
    {
     "name": "stdout",
     "output_type": "stream",
     "text": [
      "\n",
      "Example 10: Swapping levels in the MultiIndex DataFrame:\n",
      "                                               Status  Age  Seasons  Episodes  \\\n",
      "Character Type House     Name                                                   \n",
      "Main           Stark     Arya Stark             Alive   20        8        59   \n",
      "               Targaryen Daenerys Targaryen  Deceased   24        8        62   \n",
      "               Stark     Jon Snow               Alive   30        8        73   \n",
      "Supporting     Lannister Cersei Lannister    Deceased   42        8        62   \n",
      "                         Tyrion Lannister       Alive   38        8        67   \n",
      "\n",
      "                                             Total_Kills  \n",
      "Character Type House     Name                             \n",
      "Main           Stark     Arya Stark                    5  \n",
      "               Targaryen Daenerys Targaryen           10  \n",
      "               Stark     Jon Snow                      7  \n",
      "Supporting     Lannister Cersei Lannister             12  \n",
      "                         Tyrion Lannister              3  \n"
     ]
    }
   ],
   "source": [
    "# Example 10: Swapping levels in the MultiIndex DataFrame\n",
    "print(\"\\nExample 10: Swapping levels in the MultiIndex DataFrame:\")\n",
    "swapped_levels_df2 = sorted_index_df2.swaplevel('Name', 'House')\n",
    "print(swapped_levels_df2)"
   ]
  },
  {
   "cell_type": "code",
   "execution_count": 13,
   "metadata": {},
   "outputs": [
    {
     "name": "stdout",
     "output_type": "stream",
     "text": [
      "\n",
      "Example 11: Grouping data in the MultiIndex DataFrame:\n",
      "                     Age  Seasons  Episodes\n",
      "House     Status                           \n",
      "Lannister Alive     38.0        8        67\n",
      "          Deceased  42.0        8        62\n",
      "Stark     Alive     25.0       16       132\n",
      "Targaryen Deceased  24.0        8        62\n"
     ]
    }
   ],
   "source": [
    "# Example 11: Grouping data in the MultiIndex DataFrame\n",
    "print(\"\\nExample 11: Grouping data in the MultiIndex DataFrame:\")\n",
    "grouped_df1 = got_df.groupby(['House', 'Status']).agg({'Age': 'mean', 'Seasons': 'sum', 'Episodes': 'sum'})\n",
    "print(grouped_df1)"
   ]
  },
  {
   "cell_type": "code",
   "execution_count": 14,
   "metadata": {},
   "outputs": [
    {
     "name": "stdout",
     "output_type": "stream",
     "text": [
      "\n",
      "Example 12: Stacking the MultiIndex DataFrame:\n",
      "House      Status            \n",
      "Lannister  Alive     Age          38.0\n",
      "                     Seasons       8.0\n",
      "                     Episodes     67.0\n",
      "           Deceased  Age          42.0\n",
      "                     Seasons       8.0\n",
      "                     Episodes     62.0\n",
      "Stark      Alive     Age          25.0\n",
      "                     Seasons      16.0\n",
      "                     Episodes    132.0\n",
      "Targaryen  Deceased  Age          24.0\n",
      "                     Seasons       8.0\n",
      "                     Episodes     62.0\n",
      "dtype: float64\n"
     ]
    }
   ],
   "source": [
    "# Example 12: Stacking the MultiIndex DataFrame\n",
    "print(\"\\nExample 12: Stacking the MultiIndex DataFrame:\")\n",
    "stacked_df1 = grouped_df1.stack()\n",
    "print(stacked_df1)"
   ]
  },
  {
   "cell_type": "code",
   "execution_count": 15,
   "metadata": {},
   "outputs": [
    {
     "name": "stdout",
     "output_type": "stream",
     "text": [
      "\n",
      "Example 13: Unstacking the MultiIndex DataFrame:\n",
      "                     Age  Seasons  Episodes\n",
      "House     Status                           \n",
      "Lannister Alive     38.0      8.0      67.0\n",
      "          Deceased  42.0      8.0      62.0\n",
      "Stark     Alive     25.0     16.0     132.0\n",
      "Targaryen Deceased  24.0      8.0      62.0\n"
     ]
    }
   ],
   "source": [
    "# Example 13: Unstacking the MultiIndex DataFrame\n",
    "print(\"\\nExample 13: Unstacking the MultiIndex DataFrame:\")\n",
    "unstacked_df1 = stacked_df1.unstack()\n",
    "print(unstacked_df1)"
   ]
  },
  {
   "cell_type": "code",
   "execution_count": 16,
   "metadata": {},
   "outputs": [
    {
     "name": "stdout",
     "output_type": "stream",
     "text": [
      "\n",
      "Example 14: Unstacking a specific level of the MultiIndex DataFrame:\n",
      "Status              Alive  Deceased\n",
      "House                              \n",
      "Lannister Age        38.0      42.0\n",
      "          Seasons     8.0       8.0\n",
      "          Episodes   67.0      62.0\n",
      "Stark     Age        25.0       NaN\n",
      "          Seasons    16.0       NaN\n",
      "          Episodes  132.0       NaN\n",
      "Targaryen Age         NaN      24.0\n",
      "          Seasons     NaN       8.0\n",
      "          Episodes    NaN      62.0\n"
     ]
    }
   ],
   "source": [
    "# Example 14: Unstacking a specific level of the MultiIndex DataFrame\n",
    "print(\"\\nExample 14: Unstacking a specific level of the MultiIndex DataFrame:\")\n",
    "unstacked_level_df1 = stacked_df1.unstack(level='Status')\n",
    "print(unstacked_level_df1)"
   ]
  },
  {
   "cell_type": "code",
   "execution_count": 17,
   "metadata": {},
   "outputs": [
    {
     "name": "stdout",
     "output_type": "stream",
     "text": [
      "\n",
      "Example 15: Filling missing values after unstacking the MultiIndex DataFrame:\n",
      "Status              Alive  Deceased\n",
      "House                              \n",
      "Lannister Age        38.0      42.0\n",
      "          Seasons     8.0       8.0\n",
      "          Episodes   67.0      62.0\n",
      "Stark     Age        25.0       0.0\n",
      "          Seasons    16.0       0.0\n",
      "          Episodes  132.0       0.0\n",
      "Targaryen Age         0.0      24.0\n",
      "          Seasons     0.0       8.0\n",
      "          Episodes    0.0      62.0\n"
     ]
    }
   ],
   "source": [
    "# Example 15: Filling missing values after unstacking the MultiIndex DataFrame\n",
    "print(\"\\nExample 15: Filling missing values after unstacking the MultiIndex DataFrame:\")\n",
    "filled_na_df1 = unstacked_level_df1.fillna(0)\n",
    "print(filled_na_df1)\n"
   ]
  },
  {
   "cell_type": "code",
   "execution_count": 18,
   "metadata": {},
   "outputs": [
    {
     "name": "stdout",
     "output_type": "stream",
     "text": [
      "\n",
      "Example 16: Creating a MultiIndex DataFrame using pivot_table:\n",
      "                    Age\n",
      "House     Status       \n",
      "Lannister Alive      38\n",
      "          Deceased   42\n",
      "Stark     Alive      25\n",
      "Targaryen Deceased   24\n"
     ]
    }
   ],
   "source": [
    "# Example 16: Creating a MultiIndex DataFrame using pivot_table\n",
    "print(\"\\nExample 16: Creating a MultiIndex DataFrame using pivot_table:\")\n",
    "pivot_table_df1 = pd.pivot_table(got_df, index=['House', 'Status'], values='Age', aggfunc='mean')\n",
    "print(pivot_table_df1)"
   ]
  },
  {
   "cell_type": "code",
   "execution_count": 19,
   "metadata": {},
   "outputs": [
    {
     "name": "stdout",
     "output_type": "stream",
     "text": [
      "\n",
      "Example 17: Creating a MultiIndex DataFrame using pivot_table with multiple values and aggregation functions:\n",
      "                    Age  Seasons\n",
      "House     Status                \n",
      "Lannister Alive      38        8\n",
      "          Deceased   42        8\n",
      "Stark     Alive      25       16\n",
      "Targaryen Deceased   24        8\n"
     ]
    }
   ],
   "source": [
    "# Example 17: Creating a MultiIndex DataFrame using pivot_table with multiple values and aggregation functions\n",
    "print(\"\\nExample 17: Creating a MultiIndex DataFrame using pivot_table with multiple values and aggregation functions:\")\n",
    "pivot_table_df2 = pd.pivot_table(got_df, index=['House', 'Status'], values=['Age', 'Seasons'], aggfunc={'Age': 'mean', 'Seasons': 'sum'})\n",
    "print(pivot_table_df2)"
   ]
  },
  {
   "cell_type": "code",
   "execution_count": 20,
   "metadata": {},
   "outputs": [
    {
     "name": "stdout",
     "output_type": "stream",
     "text": [
      "\n",
      "Example 18: Creating a MultiIndex DataFrame using crosstab:\n",
      "Status     Alive  Deceased\n",
      "House                     \n",
      "Lannister      1         1\n",
      "Stark          2         0\n",
      "Targaryen      0         1\n"
     ]
    }
   ],
   "source": [
    "# Example 18: Creating a MultiIndex DataFrame using crosstab\n",
    "print(\"\\nExample 18: Creating a MultiIndex DataFrame using crosstab:\")\n",
    "crosstab_df1 = pd.crosstab(got_df['House'], got_df['Status'])\n",
    "print(crosstab_df1)"
   ]
  },
  {
   "cell_type": "code",
   "execution_count": 21,
   "metadata": {},
   "outputs": [
    {
     "name": "stdout",
     "output_type": "stream",
     "text": [
      "\n",
      "Example 19: Creating a MultiIndex DataFrame using crosstab with row and column margins:\n",
      "Status     Alive  Deceased  Total\n",
      "House                            \n",
      "Lannister      1         1      2\n",
      "Stark          2         0      2\n",
      "Targaryen      0         1      1\n",
      "Total          3         2      5\n"
     ]
    }
   ],
   "source": [
    "# Example 19: Creating a MultiIndex DataFrame using crosstab with row and column margins\n",
    "print(\"\\nExample 19: Creating a MultiIndex DataFrame using crosstab with row and column margins:\")\n",
    "crosstab_df2 = pd.crosstab(got_df['House'], got_df['Status'], margins=True, margins_name='Total')\n",
    "print(crosstab_df2)"
   ]
  },
  {
   "cell_type": "code",
   "execution_count": 22,
   "metadata": {},
   "outputs": [
    {
     "name": "stdout",
     "output_type": "stream",
     "text": [
      "\n",
      "Example 20: Creating a MultiIndex DataFrame using groupby and unstack:\n",
      "Status     Alive  Deceased\n",
      "House                     \n",
      "Lannister   38.0      42.0\n",
      "Stark       25.0       NaN\n",
      "Targaryen    NaN      24.0\n"
     ]
    }
   ],
   "source": [
    "# Example 20: Creating a MultiIndex DataFrame using groupby and unstack\n",
    "print(\"\\nExample 20: Creating a MultiIndex DataFrame using groupby and unstack:\")\n",
    "grouped_df2 = got_df.groupby(['House', 'Status'])['Age'].mean().unstack()\n",
    "print(grouped_df2)"
   ]
  },
  {
   "cell_type": "code",
   "execution_count": 24,
   "metadata": {},
   "outputs": [
    {
     "name": "stdout",
     "output_type": "stream",
     "text": [
      "\n",
      "Example 21: Creating a MultiIndex DataFrame using groupby and pivot:\n"
     ]
    },
    {
     "ename": "AttributeError",
     "evalue": "'DataFrameGroupBy' object has no attribute 'pivot'",
     "output_type": "error",
     "traceback": [
      "\u001b[1;31m---------------------------------------------------------------------------\u001b[0m",
      "\u001b[1;31mAttributeError\u001b[0m                            Traceback (most recent call last)",
      "Cell \u001b[1;32mIn[24], line 3\u001b[0m\n\u001b[0;32m      1\u001b[0m \u001b[39m# Example 21: Creating a MultiIndex DataFrame using groupby and pivot\u001b[39;00m\n\u001b[0;32m      2\u001b[0m \u001b[39mprint\u001b[39m(\u001b[39m\"\u001b[39m\u001b[39m\\n\u001b[39;00m\u001b[39mExample 21: Creating a MultiIndex DataFrame using groupby and pivot:\u001b[39m\u001b[39m\"\u001b[39m)\n\u001b[1;32m----> 3\u001b[0m grouped_df3 \u001b[39m=\u001b[39m got_df\u001b[39m.\u001b[39;49mgroupby([\u001b[39m'\u001b[39;49m\u001b[39mHouse\u001b[39;49m\u001b[39m'\u001b[39;49m, \u001b[39m'\u001b[39;49m\u001b[39mStatus\u001b[39;49m\u001b[39m'\u001b[39;49m])\u001b[39m.\u001b[39;49mpivot(columns\u001b[39m=\u001b[39m\u001b[39m'\u001b[39m\u001b[39mName\u001b[39m\u001b[39m'\u001b[39m, values\u001b[39m=\u001b[39m\u001b[39m'\u001b[39m\u001b[39mEpisodes\u001b[39m\u001b[39m'\u001b[39m)\u001b[39m.\u001b[39mfillna(\u001b[39m0\u001b[39m)\n\u001b[0;32m      4\u001b[0m \u001b[39mprint\u001b[39m(grouped_df3)\n",
      "File \u001b[1;32mc:\\Program Files\\Python311\\Lib\\site-packages\\pandas\\core\\groupby\\groupby.py:987\u001b[0m, in \u001b[0;36mGroupBy.__getattr__\u001b[1;34m(self, attr)\u001b[0m\n\u001b[0;32m    984\u001b[0m \u001b[39mif\u001b[39;00m attr \u001b[39min\u001b[39;00m \u001b[39mself\u001b[39m\u001b[39m.\u001b[39mobj:\n\u001b[0;32m    985\u001b[0m     \u001b[39mreturn\u001b[39;00m \u001b[39mself\u001b[39m[attr]\n\u001b[1;32m--> 987\u001b[0m \u001b[39mraise\u001b[39;00m \u001b[39mAttributeError\u001b[39;00m(\n\u001b[0;32m    988\u001b[0m     \u001b[39mf\u001b[39m\u001b[39m\"\u001b[39m\u001b[39m'\u001b[39m\u001b[39m{\u001b[39;00m\u001b[39mtype\u001b[39m(\u001b[39mself\u001b[39m)\u001b[39m.\u001b[39m\u001b[39m__name__\u001b[39m\u001b[39m}\u001b[39;00m\u001b[39m'\u001b[39m\u001b[39m object has no attribute \u001b[39m\u001b[39m'\u001b[39m\u001b[39m{\u001b[39;00mattr\u001b[39m}\u001b[39;00m\u001b[39m'\u001b[39m\u001b[39m\"\u001b[39m\n\u001b[0;32m    989\u001b[0m )\n",
      "\u001b[1;31mAttributeError\u001b[0m: 'DataFrameGroupBy' object has no attribute 'pivot'"
     ]
    }
   ],
   "source": [
    "# Example 21: Creating a MultiIndex DataFrame using groupby and pivot\n",
    "print(\"\\nExample 21: Creating a MultiIndex DataFrame using groupby and pivot:\")\n",
    "grouped_df3 = got_df.groupby(['House', 'Status']).pivot(columns='Name', values='Episodes').fillna(0)\n",
    "print(grouped_df3)"
   ]
  },
  {
   "cell_type": "code",
   "execution_count": 25,
   "metadata": {},
   "outputs": [
    {
     "name": "stdout",
     "output_type": "stream",
     "text": [
      "\n",
      "Example 22: Creating a MultiIndex DataFrame using groupby and apply:\n",
      "Status     Alive  Deceased\n",
      "House                     \n",
      "Lannister    0.0       0.0\n",
      "Stark       10.0       NaN\n",
      "Targaryen    NaN       0.0\n"
     ]
    }
   ],
   "source": [
    "# Example 22: Creating a MultiIndex DataFrame using groupby and apply\n",
    "print(\"\\nExample 22: Creating a MultiIndex DataFrame using groupby and apply:\")\n",
    "def custom_function(series):\n",
    "    return series.max() - series.min()\n",
    "\n",
    "grouped_df4 = got_df.groupby(['House', 'Status'])['Age'].apply(custom_function).unstack()\n",
    "print(grouped_df4)"
   ]
  },
  {
   "cell_type": "code",
   "execution_count": 26,
   "metadata": {},
   "outputs": [
    {
     "name": "stdout",
     "output_type": "stream",
     "text": [
      "\n",
      "Example 23: Creating a MultiIndex DataFrame using melt:\n",
      "                               Values\n",
      "House     Status   Attributes        \n",
      "Stark     Alive    Age             30\n",
      "Targaryen Deceased Age             24\n",
      "Lannister Alive    Age             38\n",
      "Stark     Alive    Age             20\n",
      "Lannister Deceased Age             42\n",
      "Stark     Alive    Seasons          8\n",
      "Targaryen Deceased Seasons          8\n",
      "Lannister Alive    Seasons          8\n",
      "Stark     Alive    Seasons          8\n",
      "Lannister Deceased Seasons          8\n"
     ]
    }
   ],
   "source": [
    "# Example 23: Creating a MultiIndex DataFrame using melt\n",
    "print(\"\\nExample 23: Creating a MultiIndex DataFrame using melt:\")\n",
    "melted_df1 = pd.melt(got_df, id_vars=['House', 'Status'], value_vars=['Age', 'Seasons'], var_name='Attributes', value_name='Values')\n",
    "melted_df1.set_index(['House', 'Status', 'Attributes'], inplace=True)\n",
    "print(melted_df1)"
   ]
  },
  {
   "cell_type": "code",
   "execution_count": 27,
   "metadata": {},
   "outputs": [
    {
     "name": "stdout",
     "output_type": "stream",
     "text": [
      "\n",
      "Example 24: Reshaping a MultiIndex DataFrame using melt and pivot:\n"
     ]
    },
    {
     "ename": "ValueError",
     "evalue": "Index contains duplicate entries, cannot reshape",
     "output_type": "error",
     "traceback": [
      "\u001b[1;31m---------------------------------------------------------------------------\u001b[0m",
      "\u001b[1;31mValueError\u001b[0m                                Traceback (most recent call last)",
      "Cell \u001b[1;32mIn[27], line 4\u001b[0m\n\u001b[0;32m      2\u001b[0m \u001b[39mprint\u001b[39m(\u001b[39m\"\u001b[39m\u001b[39m\\n\u001b[39;00m\u001b[39mExample 24: Reshaping a MultiIndex DataFrame using melt and pivot:\u001b[39m\u001b[39m\"\u001b[39m)\n\u001b[0;32m      3\u001b[0m melted_df2 \u001b[39m=\u001b[39m pd\u001b[39m.\u001b[39mmelt(got_df, id_vars\u001b[39m=\u001b[39m[\u001b[39m'\u001b[39m\u001b[39mHouse\u001b[39m\u001b[39m'\u001b[39m, \u001b[39m'\u001b[39m\u001b[39mStatus\u001b[39m\u001b[39m'\u001b[39m], value_vars\u001b[39m=\u001b[39m[\u001b[39m'\u001b[39m\u001b[39mAge\u001b[39m\u001b[39m'\u001b[39m, \u001b[39m'\u001b[39m\u001b[39mSeasons\u001b[39m\u001b[39m'\u001b[39m], var_name\u001b[39m=\u001b[39m\u001b[39m'\u001b[39m\u001b[39mAttributes\u001b[39m\u001b[39m'\u001b[39m, value_name\u001b[39m=\u001b[39m\u001b[39m'\u001b[39m\u001b[39mValues\u001b[39m\u001b[39m'\u001b[39m)\n\u001b[1;32m----> 4\u001b[0m pivot_df1 \u001b[39m=\u001b[39m melted_df2\u001b[39m.\u001b[39;49mpivot(index\u001b[39m=\u001b[39;49m[\u001b[39m'\u001b[39;49m\u001b[39mHouse\u001b[39;49m\u001b[39m'\u001b[39;49m, \u001b[39m'\u001b[39;49m\u001b[39mStatus\u001b[39;49m\u001b[39m'\u001b[39;49m], columns\u001b[39m=\u001b[39;49m\u001b[39m'\u001b[39;49m\u001b[39mAttributes\u001b[39;49m\u001b[39m'\u001b[39;49m, values\u001b[39m=\u001b[39;49m\u001b[39m'\u001b[39;49m\u001b[39mValues\u001b[39;49m\u001b[39m'\u001b[39;49m)\n\u001b[0;32m      5\u001b[0m \u001b[39mprint\u001b[39m(pivot_df1)\n",
      "File \u001b[1;32mc:\\Program Files\\Python311\\Lib\\site-packages\\pandas\\util\\_decorators.py:331\u001b[0m, in \u001b[0;36mdeprecate_nonkeyword_arguments.<locals>.decorate.<locals>.wrapper\u001b[1;34m(*args, **kwargs)\u001b[0m\n\u001b[0;32m    325\u001b[0m \u001b[39mif\u001b[39;00m \u001b[39mlen\u001b[39m(args) \u001b[39m>\u001b[39m num_allow_args:\n\u001b[0;32m    326\u001b[0m     warnings\u001b[39m.\u001b[39mwarn(\n\u001b[0;32m    327\u001b[0m         msg\u001b[39m.\u001b[39mformat(arguments\u001b[39m=\u001b[39m_format_argument_list(allow_args)),\n\u001b[0;32m    328\u001b[0m         \u001b[39mFutureWarning\u001b[39;00m,\n\u001b[0;32m    329\u001b[0m         stacklevel\u001b[39m=\u001b[39mfind_stack_level(),\n\u001b[0;32m    330\u001b[0m     )\n\u001b[1;32m--> 331\u001b[0m \u001b[39mreturn\u001b[39;00m func(\u001b[39m*\u001b[39;49margs, \u001b[39m*\u001b[39;49m\u001b[39m*\u001b[39;49mkwargs)\n",
      "File \u001b[1;32mc:\\Program Files\\Python311\\Lib\\site-packages\\pandas\\core\\frame.py:8567\u001b[0m, in \u001b[0;36mDataFrame.pivot\u001b[1;34m(self, index, columns, values)\u001b[0m\n\u001b[0;32m   8561\u001b[0m \u001b[39m@Substitution\u001b[39m(\u001b[39m\"\u001b[39m\u001b[39m\"\u001b[39m)\n\u001b[0;32m   8562\u001b[0m \u001b[39m@Appender\u001b[39m(_shared_docs[\u001b[39m\"\u001b[39m\u001b[39mpivot\u001b[39m\u001b[39m\"\u001b[39m])\n\u001b[0;32m   8563\u001b[0m \u001b[39m@deprecate_nonkeyword_arguments\u001b[39m(version\u001b[39m=\u001b[39m\u001b[39mNone\u001b[39;00m, allowed_args\u001b[39m=\u001b[39m[\u001b[39m\"\u001b[39m\u001b[39mself\u001b[39m\u001b[39m\"\u001b[39m])\n\u001b[0;32m   8564\u001b[0m \u001b[39mdef\u001b[39;00m \u001b[39mpivot\u001b[39m(\u001b[39mself\u001b[39m, index\u001b[39m=\u001b[39m\u001b[39mNone\u001b[39;00m, columns\u001b[39m=\u001b[39m\u001b[39mNone\u001b[39;00m, values\u001b[39m=\u001b[39m\u001b[39mNone\u001b[39;00m) \u001b[39m-\u001b[39m\u001b[39m>\u001b[39m DataFrame:\n\u001b[0;32m   8565\u001b[0m     \u001b[39mfrom\u001b[39;00m \u001b[39mpandas\u001b[39;00m\u001b[39m.\u001b[39;00m\u001b[39mcore\u001b[39;00m\u001b[39m.\u001b[39;00m\u001b[39mreshape\u001b[39;00m\u001b[39m.\u001b[39;00m\u001b[39mpivot\u001b[39;00m \u001b[39mimport\u001b[39;00m pivot\n\u001b[1;32m-> 8567\u001b[0m     \u001b[39mreturn\u001b[39;00m pivot(\u001b[39mself\u001b[39;49m, index\u001b[39m=\u001b[39;49mindex, columns\u001b[39m=\u001b[39;49mcolumns, values\u001b[39m=\u001b[39;49mvalues)\n",
      "File \u001b[1;32mc:\\Program Files\\Python311\\Lib\\site-packages\\pandas\\util\\_decorators.py:331\u001b[0m, in \u001b[0;36mdeprecate_nonkeyword_arguments.<locals>.decorate.<locals>.wrapper\u001b[1;34m(*args, **kwargs)\u001b[0m\n\u001b[0;32m    325\u001b[0m \u001b[39mif\u001b[39;00m \u001b[39mlen\u001b[39m(args) \u001b[39m>\u001b[39m num_allow_args:\n\u001b[0;32m    326\u001b[0m     warnings\u001b[39m.\u001b[39mwarn(\n\u001b[0;32m    327\u001b[0m         msg\u001b[39m.\u001b[39mformat(arguments\u001b[39m=\u001b[39m_format_argument_list(allow_args)),\n\u001b[0;32m    328\u001b[0m         \u001b[39mFutureWarning\u001b[39;00m,\n\u001b[0;32m    329\u001b[0m         stacklevel\u001b[39m=\u001b[39mfind_stack_level(),\n\u001b[0;32m    330\u001b[0m     )\n\u001b[1;32m--> 331\u001b[0m \u001b[39mreturn\u001b[39;00m func(\u001b[39m*\u001b[39;49margs, \u001b[39m*\u001b[39;49m\u001b[39m*\u001b[39;49mkwargs)\n",
      "File \u001b[1;32mc:\\Program Files\\Python311\\Lib\\site-packages\\pandas\\core\\reshape\\pivot.py:540\u001b[0m, in \u001b[0;36mpivot\u001b[1;34m(data, index, columns, values)\u001b[0m\n\u001b[0;32m    536\u001b[0m         indexed \u001b[39m=\u001b[39m data\u001b[39m.\u001b[39m_constructor_sliced(data[values]\u001b[39m.\u001b[39m_values, index\u001b[39m=\u001b[39mmultiindex)\n\u001b[0;32m    537\u001b[0m \u001b[39m# error: Argument 1 to \"unstack\" of \"DataFrame\" has incompatible type \"Union\u001b[39;00m\n\u001b[0;32m    538\u001b[0m \u001b[39m# [List[Any], ExtensionArray, ndarray[Any, Any], Index, Series]\"; expected\u001b[39;00m\n\u001b[0;32m    539\u001b[0m \u001b[39m# \"Hashable\"\u001b[39;00m\n\u001b[1;32m--> 540\u001b[0m \u001b[39mreturn\u001b[39;00m indexed\u001b[39m.\u001b[39;49munstack(columns_listlike)\n",
      "File \u001b[1;32mc:\\Program Files\\Python311\\Lib\\site-packages\\pandas\\core\\series.py:4455\u001b[0m, in \u001b[0;36mSeries.unstack\u001b[1;34m(self, level, fill_value)\u001b[0m\n\u001b[0;32m   4412\u001b[0m \u001b[39m\u001b[39m\u001b[39m\"\"\"\u001b[39;00m\n\u001b[0;32m   4413\u001b[0m \u001b[39mUnstack, also known as pivot, Series with MultiIndex to produce DataFrame.\u001b[39;00m\n\u001b[0;32m   4414\u001b[0m \n\u001b[1;32m   (...)\u001b[0m\n\u001b[0;32m   4451\u001b[0m \u001b[39mb    2    4\u001b[39;00m\n\u001b[0;32m   4452\u001b[0m \u001b[39m\"\"\"\u001b[39;00m\n\u001b[0;32m   4453\u001b[0m \u001b[39mfrom\u001b[39;00m \u001b[39mpandas\u001b[39;00m\u001b[39m.\u001b[39;00m\u001b[39mcore\u001b[39;00m\u001b[39m.\u001b[39;00m\u001b[39mreshape\u001b[39;00m\u001b[39m.\u001b[39;00m\u001b[39mreshape\u001b[39;00m \u001b[39mimport\u001b[39;00m unstack\n\u001b[1;32m-> 4455\u001b[0m \u001b[39mreturn\u001b[39;00m unstack(\u001b[39mself\u001b[39;49m, level, fill_value)\n",
      "File \u001b[1;32mc:\\Program Files\\Python311\\Lib\\site-packages\\pandas\\core\\reshape\\reshape.py:489\u001b[0m, in \u001b[0;36munstack\u001b[1;34m(obj, level, fill_value)\u001b[0m\n\u001b[0;32m    487\u001b[0m \u001b[39mif\u001b[39;00m is_1d_only_ea_dtype(obj\u001b[39m.\u001b[39mdtype):\n\u001b[0;32m    488\u001b[0m     \u001b[39mreturn\u001b[39;00m _unstack_extension_series(obj, level, fill_value)\n\u001b[1;32m--> 489\u001b[0m unstacker \u001b[39m=\u001b[39m _Unstacker(\n\u001b[0;32m    490\u001b[0m     obj\u001b[39m.\u001b[39;49mindex, level\u001b[39m=\u001b[39;49mlevel, constructor\u001b[39m=\u001b[39;49mobj\u001b[39m.\u001b[39;49m_constructor_expanddim\n\u001b[0;32m    491\u001b[0m )\n\u001b[0;32m    492\u001b[0m \u001b[39mreturn\u001b[39;00m unstacker\u001b[39m.\u001b[39mget_result(\n\u001b[0;32m    493\u001b[0m     obj\u001b[39m.\u001b[39m_values, value_columns\u001b[39m=\u001b[39m\u001b[39mNone\u001b[39;00m, fill_value\u001b[39m=\u001b[39mfill_value\n\u001b[0;32m    494\u001b[0m )\n",
      "File \u001b[1;32mc:\\Program Files\\Python311\\Lib\\site-packages\\pandas\\core\\reshape\\reshape.py:137\u001b[0m, in \u001b[0;36m_Unstacker.__init__\u001b[1;34m(self, index, level, constructor)\u001b[0m\n\u001b[0;32m    129\u001b[0m \u001b[39mif\u001b[39;00m num_cells \u001b[39m>\u001b[39m np\u001b[39m.\u001b[39miinfo(np\u001b[39m.\u001b[39mint32)\u001b[39m.\u001b[39mmax:\n\u001b[0;32m    130\u001b[0m     warnings\u001b[39m.\u001b[39mwarn(\n\u001b[0;32m    131\u001b[0m         \u001b[39mf\u001b[39m\u001b[39m\"\u001b[39m\u001b[39mThe following operation may generate \u001b[39m\u001b[39m{\u001b[39;00mnum_cells\u001b[39m}\u001b[39;00m\u001b[39m cells \u001b[39m\u001b[39m\"\u001b[39m\n\u001b[0;32m    132\u001b[0m         \u001b[39mf\u001b[39m\u001b[39m\"\u001b[39m\u001b[39min the resulting pandas object.\u001b[39m\u001b[39m\"\u001b[39m,\n\u001b[0;32m    133\u001b[0m         PerformanceWarning,\n\u001b[0;32m    134\u001b[0m         stacklevel\u001b[39m=\u001b[39mfind_stack_level(),\n\u001b[0;32m    135\u001b[0m     )\n\u001b[1;32m--> 137\u001b[0m \u001b[39mself\u001b[39;49m\u001b[39m.\u001b[39;49m_make_selectors()\n",
      "File \u001b[1;32mc:\\Program Files\\Python311\\Lib\\site-packages\\pandas\\core\\reshape\\reshape.py:189\u001b[0m, in \u001b[0;36m_Unstacker._make_selectors\u001b[1;34m(self)\u001b[0m\n\u001b[0;32m    186\u001b[0m mask\u001b[39m.\u001b[39mput(selector, \u001b[39mTrue\u001b[39;00m)\n\u001b[0;32m    188\u001b[0m \u001b[39mif\u001b[39;00m mask\u001b[39m.\u001b[39msum() \u001b[39m<\u001b[39m \u001b[39mlen\u001b[39m(\u001b[39mself\u001b[39m\u001b[39m.\u001b[39mindex):\n\u001b[1;32m--> 189\u001b[0m     \u001b[39mraise\u001b[39;00m \u001b[39mValueError\u001b[39;00m(\u001b[39m\"\u001b[39m\u001b[39mIndex contains duplicate entries, cannot reshape\u001b[39m\u001b[39m\"\u001b[39m)\n\u001b[0;32m    191\u001b[0m \u001b[39mself\u001b[39m\u001b[39m.\u001b[39mgroup_index \u001b[39m=\u001b[39m comp_index\n\u001b[0;32m    192\u001b[0m \u001b[39mself\u001b[39m\u001b[39m.\u001b[39mmask \u001b[39m=\u001b[39m mask\n",
      "\u001b[1;31mValueError\u001b[0m: Index contains duplicate entries, cannot reshape"
     ]
    }
   ],
   "source": [
    "# Example 24: Reshaping a MultiIndex DataFrame using melt and pivot\n",
    "print(\"\\nExample 24: Reshaping a MultiIndex DataFrame using melt and pivot:\")\n",
    "melted_df2 = pd.melt(got_df, id_vars=['House', 'Status'], value_vars=['Age', 'Seasons'], var_name='Attributes', value_name='Values')\n",
    "pivot_df1 = melted_df2.pivot(index=['House', 'Status'], columns='Attributes', values='Values')\n",
    "print(pivot_df1)"
   ]
  },
  {
   "cell_type": "code",
   "execution_count": 28,
   "metadata": {},
   "outputs": [
    {
     "name": "stdout",
     "output_type": "stream",
     "text": [
      "\n",
      "Example 25: Creating a MultiIndex DataFrame using concat:\n",
      "                                House    Status  Age  Seasons  Episodes  \\\n",
      "House     Name                                                            \n",
      "Stark     Jon Snow              Stark     Alive   30        8        73   \n",
      "          Arya Stark            Stark     Alive   20        8        59   \n",
      "Lannister Tyrion Lannister  Lannister     Alive   38        8        67   \n",
      "          Cersei Lannister  Lannister  Deceased   42        8        62   \n",
      "\n",
      "                            Total_Kills  \n",
      "House     Name                           \n",
      "Stark     Jon Snow                    7  \n",
      "          Arya Stark                  5  \n",
      "Lannister Tyrion Lannister            3  \n",
      "          Cersei Lannister           12  \n"
     ]
    }
   ],
   "source": [
    "# Example 25: Creating a MultiIndex DataFrame using concat\n",
    "print(\"\\nExample 25: Creating a MultiIndex DataFrame using concat:\")\n",
    "got_df1 = got_df[got_df['House'] == 'Stark'].set_index('Name')\n",
    "got_df2 = got_df[got_df['House'] == 'Lannister'].set_index('Name')\n",
    "concat_df1 = pd.concat([got_df1, got_df2], keys=['Stark', 'Lannister'], names=['House'])\n",
    "print(concat_df1)"
   ]
  }
 ],
 "metadata": {
  "kernelspec": {
   "display_name": "Python 3",
   "language": "python",
   "name": "python3"
  },
  "language_info": {
   "codemirror_mode": {
    "name": "ipython",
    "version": 3
   },
   "file_extension": ".py",
   "mimetype": "text/x-python",
   "name": "python",
   "nbconvert_exporter": "python",
   "pygments_lexer": "ipython3",
   "version": "3.11.2"
  },
  "orig_nbformat": 4
 },
 "nbformat": 4,
 "nbformat_minor": 2
}
