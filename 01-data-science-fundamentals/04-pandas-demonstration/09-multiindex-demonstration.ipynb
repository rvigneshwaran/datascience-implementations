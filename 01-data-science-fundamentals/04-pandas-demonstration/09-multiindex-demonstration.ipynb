{
 "cells": [
  {
   "cell_type": "code",
   "execution_count": 1,
   "metadata": {},
   "outputs": [],
   "source": [
    "import pandas as pd"
   ]
  },
  {
   "cell_type": "code",
   "execution_count": 2,
   "metadata": {},
   "outputs": [
    {
     "name": "stdout",
     "output_type": "stream",
     "text": [
      "Game of Thrones Characters DataFrame:\n",
      "                 Name      House    Status  Age  Seasons  Episodes  \\\n",
      "0            Jon Snow      Stark     Alive   30        8        73   \n",
      "1  Daenerys Targaryen  Targaryen  Deceased   24        8        62   \n",
      "2    Tyrion Lannister  Lannister     Alive   38        8        67   \n",
      "3          Arya Stark      Stark     Alive   20        8        59   \n",
      "4    Cersei Lannister  Lannister  Deceased   42        8        62   \n",
      "\n",
      "   Total_Kills  \n",
      "0            7  \n",
      "1           10  \n",
      "2            3  \n",
      "3            5  \n",
      "4           12  \n"
     ]
    }
   ],
   "source": [
    "# Creating DataFrames for Game of Thrones characters\n",
    "data = {\n",
    "    'Name': ['Jon Snow', 'Daenerys Targaryen', 'Tyrion Lannister', 'Arya Stark', 'Cersei Lannister'],\n",
    "    'House': ['Stark', 'Targaryen', 'Lannister', 'Stark', 'Lannister'],\n",
    "    'Status': ['Alive', 'Deceased', 'Alive', 'Alive', 'Deceased'],\n",
    "    'Age': [30, 24, 38, 20, 42],\n",
    "    'Seasons': [8, 8, 8, 8, 8],\n",
    "    'Episodes': [73, 62, 67, 59, 62],\n",
    "    'Total_Kills': [7, 10, 3, 5, 12]\n",
    "}\n",
    "got_df = pd.DataFrame(data)\n",
    "print(\"Game of Thrones Characters DataFrame:\")\n",
    "print(got_df)"
   ]
  },
  {
   "cell_type": "code",
   "execution_count": 3,
   "metadata": {},
   "outputs": [
    {
     "name": "stdout",
     "output_type": "stream",
     "text": [
      "\n",
      "Example 1: Creating a MultiIndex DataFrame with 'Name' and 'House' as levels:\n",
      "                                Status  Age  Seasons  Episodes  Total_Kills\n",
      "Name               House                                                   \n",
      "Jon Snow           Stark         Alive   30        8        73            7\n",
      "Daenerys Targaryen Targaryen  Deceased   24        8        62           10\n",
      "Tyrion Lannister   Lannister     Alive   38        8        67            3\n",
      "Arya Stark         Stark         Alive   20        8        59            5\n",
      "Cersei Lannister   Lannister  Deceased   42        8        62           12\n"
     ]
    }
   ],
   "source": [
    "# Example 1: Creating a MultiIndex DataFrame with 'Name' and 'House' as levels\n",
    "print(\"\\nExample 1: Creating a MultiIndex DataFrame with 'Name' and 'House' as levels:\")\n",
    "multi_index_df1 = got_df.set_index(['Name', 'House'])\n",
    "print(multi_index_df1)"
   ]
  },
  {
   "cell_type": "code",
   "execution_count": 4,
   "metadata": {},
   "outputs": [
    {
     "name": "stdout",
     "output_type": "stream",
     "text": [
      "\n",
      "Example 2: Accessing data from a MultiIndex DataFrame using loc:\n",
      "      Status  Age  Seasons  Episodes  Total_Kills\n",
      "House                                            \n",
      "Stark  Alive   30        8        73            7\n"
     ]
    }
   ],
   "source": [
    "# Example 2: Accessing data from a MultiIndex DataFrame using loc\n",
    "print(\"\\nExample 2: Accessing data from a MultiIndex DataFrame using loc:\")\n",
    "print(multi_index_df1.loc['Jon Snow'])"
   ]
  },
  {
   "cell_type": "code",
   "execution_count": 5,
   "metadata": {},
   "outputs": [
    {
     "name": "stdout",
     "output_type": "stream",
     "text": [
      "\n",
      "Example 3: Accessing data from a MultiIndex DataFrame using xs:\n",
      "          Status  Age  Seasons  Episodes  Total_Kills\n",
      "House                                                \n",
      "Lannister  Alive   38        8        67            3\n"
     ]
    }
   ],
   "source": [
    "# Example 3: Accessing data from a MultiIndex DataFrame using xs\n",
    "print(\"\\nExample 3: Accessing data from a MultiIndex DataFrame using xs:\")\n",
    "print(multi_index_df1.xs('Tyrion Lannister', level='Name'))\n"
   ]
  },
  {
   "cell_type": "code",
   "execution_count": 6,
   "metadata": {},
   "outputs": [
    {
     "name": "stdout",
     "output_type": "stream",
     "text": [
      "\n",
      "Example 4: Accessing data from a MultiIndex DataFrame using xs with multiple levels:\n",
      "                 Status  Age  Seasons  Episodes  Total_Kills\n",
      "Name       House                                            \n",
      "Arya Stark Stark  Alive   20        8        59            5\n"
     ]
    }
   ],
   "source": [
    "# Example 4: Accessing data from a MultiIndex DataFrame using xs with multiple levels\n",
    "print(\"\\nExample 4: Accessing data from a MultiIndex DataFrame using xs with multiple levels:\")\n",
    "print(multi_index_df1.xs(('Arya Stark', 'Stark'), level=('Name', 'House')))\n"
   ]
  },
  {
   "cell_type": "code",
   "execution_count": 7,
   "metadata": {},
   "outputs": [
    {
     "name": "stdout",
     "output_type": "stream",
     "text": [
      "\n",
      "Example 5: Accessing data from a MultiIndex DataFrame using slicers:\n",
      "                              Status  Age  Seasons  Episodes  Total_Kills\n",
      "Name             House                                                   \n",
      "Tyrion Lannister Lannister     Alive   38        8        67            3\n",
      "Cersei Lannister Lannister  Deceased   42        8        62           12\n"
     ]
    }
   ],
   "source": [
    "# Example 5: Accessing data from a MultiIndex DataFrame using slicers\n",
    "print(\"\\nExample 5: Accessing data from a MultiIndex DataFrame using slicers:\")\n",
    "idx = pd.IndexSlice\n",
    "print(multi_index_df1.loc[idx[:, 'Lannister'], :])\n"
   ]
  },
  {
   "cell_type": "code",
   "execution_count": 8,
   "metadata": {},
   "outputs": [
    {
     "name": "stdout",
     "output_type": "stream",
     "text": [
      "\n",
      "Example 6: Resetting one level of the MultiIndex:\n",
      "                        House    Status  Age  Seasons  Episodes  Total_Kills\n",
      "Name                                                                        \n",
      "Jon Snow                Stark     Alive   30        8        73            7\n",
      "Daenerys Targaryen  Targaryen  Deceased   24        8        62           10\n",
      "Tyrion Lannister    Lannister     Alive   38        8        67            3\n",
      "Arya Stark              Stark     Alive   20        8        59            5\n",
      "Cersei Lannister    Lannister  Deceased   42        8        62           12\n"
     ]
    }
   ],
   "source": [
    "# Example 6: Resetting one level of the MultiIndex\n",
    "print(\"\\nExample 6: Resetting one level of the MultiIndex:\")\n",
    "reset_index_df1 = multi_index_df1.reset_index(level='House')\n",
    "print(reset_index_df1)"
   ]
  },
  {
   "cell_type": "code",
   "execution_count": 9,
   "metadata": {},
   "outputs": [
    {
     "name": "stdout",
     "output_type": "stream",
     "text": [
      "\n",
      "Example 7: Resetting all levels of the MultiIndex:\n",
      "                 Name      House    Status  Age  Seasons  Episodes  \\\n",
      "0            Jon Snow      Stark     Alive   30        8        73   \n",
      "1  Daenerys Targaryen  Targaryen  Deceased   24        8        62   \n",
      "2    Tyrion Lannister  Lannister     Alive   38        8        67   \n",
      "3          Arya Stark      Stark     Alive   20        8        59   \n",
      "4    Cersei Lannister  Lannister  Deceased   42        8        62   \n",
      "\n",
      "   Total_Kills  \n",
      "0            7  \n",
      "1           10  \n",
      "2            3  \n",
      "3            5  \n",
      "4           12  \n"
     ]
    }
   ],
   "source": [
    "# Example 7: Resetting all levels of the MultiIndex\n",
    "print(\"\\nExample 7: Resetting all levels of the MultiIndex:\")\n",
    "reset_all_index_df1 = multi_index_df1.reset_index()\n",
    "print(reset_all_index_df1)"
   ]
  },
  {
   "cell_type": "code",
   "execution_count": 10,
   "metadata": {},
   "outputs": [
    {
     "name": "stdout",
     "output_type": "stream",
     "text": [
      "\n",
      "Example 8: Setting a new level in the MultiIndex:\n",
      "                                               Status  Age  Seasons  Episodes  \\\n",
      "Character Type Name               House                                         \n",
      "Main           Jon Snow           Stark         Alive   30        8        73   \n",
      "               Daenerys Targaryen Targaryen  Deceased   24        8        62   \n",
      "Supporting     Tyrion Lannister   Lannister     Alive   38        8        67   \n",
      "Main           Arya Stark         Stark         Alive   20        8        59   \n",
      "Supporting     Cersei Lannister   Lannister  Deceased   42        8        62   \n",
      "\n",
      "                                             Total_Kills  \n",
      "Character Type Name               House                   \n",
      "Main           Jon Snow           Stark                7  \n",
      "               Daenerys Targaryen Targaryen           10  \n",
      "Supporting     Tyrion Lannister   Lannister            3  \n",
      "Main           Arya Stark         Stark                5  \n",
      "Supporting     Cersei Lannister   Lannister           12  \n"
     ]
    }
   ],
   "source": [
    "# Example 8: Setting a new level in the MultiIndex\n",
    "print(\"\\nExample 8: Setting a new level in the MultiIndex:\")\n",
    "got_df_copy = got_df.copy()\n",
    "got_df_copy['Character Type'] = ['Main', 'Main', 'Supporting', 'Main', 'Supporting']\n",
    "multi_index_df2 = got_df_copy.set_index(['Character Type', 'Name', 'House'])\n",
    "print(multi_index_df2)"
   ]
  },
  {
   "cell_type": "code",
   "execution_count": 11,
   "metadata": {},
   "outputs": [
    {
     "name": "stdout",
     "output_type": "stream",
     "text": [
      "\n",
      "Example 9: Sorting the MultiIndex DataFrame:\n",
      "                                               Status  Age  Seasons  Episodes  \\\n",
      "Character Type Name               House                                         \n",
      "Main           Arya Stark         Stark         Alive   20        8        59   \n",
      "               Daenerys Targaryen Targaryen  Deceased   24        8        62   \n",
      "               Jon Snow           Stark         Alive   30        8        73   \n",
      "Supporting     Cersei Lannister   Lannister  Deceased   42        8        62   \n",
      "               Tyrion Lannister   Lannister     Alive   38        8        67   \n",
      "\n",
      "                                             Total_Kills  \n",
      "Character Type Name               House                   \n",
      "Main           Arya Stark         Stark                5  \n",
      "               Daenerys Targaryen Targaryen           10  \n",
      "               Jon Snow           Stark                7  \n",
      "Supporting     Cersei Lannister   Lannister           12  \n",
      "               Tyrion Lannister   Lannister            3  \n"
     ]
    }
   ],
   "source": [
    "# Example 9: Sorting the MultiIndex DataFrame\n",
    "print(\"\\nExample 9: Sorting the MultiIndex DataFrame:\")\n",
    "sorted_index_df2 = multi_index_df2.sort_index()\n",
    "print(sorted_index_df2)"
   ]
  },
  {
   "cell_type": "code",
   "execution_count": 12,
   "metadata": {},
   "outputs": [
    {
     "name": "stdout",
     "output_type": "stream",
     "text": [
      "\n",
      "Example 10: Swapping levels in the MultiIndex DataFrame:\n",
      "                                               Status  Age  Seasons  Episodes  \\\n",
      "Character Type House     Name                                                   \n",
      "Main           Stark     Arya Stark             Alive   20        8        59   \n",
      "               Targaryen Daenerys Targaryen  Deceased   24        8        62   \n",
      "               Stark     Jon Snow               Alive   30        8        73   \n",
      "Supporting     Lannister Cersei Lannister    Deceased   42        8        62   \n",
      "                         Tyrion Lannister       Alive   38        8        67   \n",
      "\n",
      "                                             Total_Kills  \n",
      "Character Type House     Name                             \n",
      "Main           Stark     Arya Stark                    5  \n",
      "               Targaryen Daenerys Targaryen           10  \n",
      "               Stark     Jon Snow                      7  \n",
      "Supporting     Lannister Cersei Lannister             12  \n",
      "                         Tyrion Lannister              3  \n"
     ]
    }
   ],
   "source": [
    "# Example 10: Swapping levels in the MultiIndex DataFrame\n",
    "print(\"\\nExample 10: Swapping levels in the MultiIndex DataFrame:\")\n",
    "swapped_levels_df2 = sorted_index_df2.swaplevel('Name', 'House')\n",
    "print(swapped_levels_df2)"
   ]
  }
 ],
 "metadata": {
  "kernelspec": {
   "display_name": "Python 3",
   "language": "python",
   "name": "python3"
  },
  "language_info": {
   "codemirror_mode": {
    "name": "ipython",
    "version": 3
   },
   "file_extension": ".py",
   "mimetype": "text/x-python",
   "name": "python",
   "nbconvert_exporter": "python",
   "pygments_lexer": "ipython3",
   "version": "3.11.2"
  },
  "orig_nbformat": 4
 },
 "nbformat": 4,
 "nbformat_minor": 2
}
