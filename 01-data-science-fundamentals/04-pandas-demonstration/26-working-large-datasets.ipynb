{
 "cells": [
  {
   "cell_type": "code",
   "execution_count": 1,
   "metadata": {},
   "outputs": [],
   "source": [
    "import pandas as pd"
   ]
  },
  {
   "cell_type": "markdown",
   "metadata": {},
   "source": [
    "```python\n",
    "# Load large dataset in chunks\n",
    "chunk_size = 1000\n",
    "data = pd.read_csv('large_dataset.csv', chunksize=chunk_size)\n",
    "```"
   ]
  },
  {
   "cell_type": "markdown",
   "metadata": {},
   "source": [
    "```python\n",
    "# Example 1: Process data in chunks\n",
    "for chunk in data:\n",
    "    # Perform operations on each chunk\n",
    "    pass\n",
    "```"
   ]
  },
  {
   "cell_type": "markdown",
   "metadata": {},
   "source": [
    "```python\n",
    "# Example 2: Filtering rows in chunks\n",
    "filtered_chunks = [chunk[chunk['column_name'] > threshold] for chunk in data]\n",
    "```"
   ]
  },
  {
   "cell_type": "markdown",
   "metadata": {},
   "source": [
    "```python\n",
    "# Example 3: Concatenate filtered chunks\n",
    "filtered_data = pd.concat(filtered_chunks)\n",
    "```"
   ]
  },
  {
   "cell_type": "markdown",
   "metadata": {},
   "source": [
    "```python\n",
    "# Example 4: Aggregating in chunks\n",
    "agg_result = []\n",
    "for chunk in data:\n",
    "    agg_result.append(chunk.groupby('category')['value'].sum())\n",
    "final_agg = pd.concat(agg_result).groupby('category').sum()\n",
    "```"
   ]
  },
  {
   "cell_type": "markdown",
   "metadata": {},
   "source": [
    "```python\n",
    "# Example 5: Using Dask for parallel processing\n",
    "import dask.dataframe as dd\n",
    "dask_data = dd.read_csv('large_dataset.csv')\n",
    "```"
   ]
  },
  {
   "cell_type": "markdown",
   "metadata": {},
   "source": [
    "```python\n",
    "# Example 6: Filtering with Dask\n",
    "filtered_dask = dask_data[dask_data['column_name'] > threshold]\n",
    "```"
   ]
  },
  {
   "cell_type": "markdown",
   "metadata": {},
   "source": [
    "```python\n",
    "# Example 7: Aggregating with Dask\n",
    "dask_agg = dask_data.groupby('category')['value'].sum().compute()\n",
    "```"
   ]
  },
  {
   "cell_type": "markdown",
   "metadata": {},
   "source": [
    "```python\n",
    "# Example 8: Memory-efficient dtype selection\n",
    "dtypes = {'column1': 'int32', 'column2': 'float32'}\n",
    "data = pd.read_csv('large_dataset.csv', dtype=dtypes)\n",
    "```"
   ]
  },
  {
   "cell_type": "markdown",
   "metadata": {},
   "source": [
    "```python\n",
    "# Example 9: Using HDF5 for large datasets\n",
    "store = pd.HDFStore('large_dataset.h5')\n",
    "store.append('data', data)\n",
    "```"
   ]
  },
  {
   "cell_type": "markdown",
   "metadata": {},
   "source": [
    "```python\n",
    "# Example 10: Querying HDF5 data\n",
    "query_result = store.select('data', where='column_name > threshold')\n",
    "```"
   ]
  }
 ],
 "metadata": {
  "kernelspec": {
   "display_name": "Python 3",
   "language": "python",
   "name": "python3"
  },
  "language_info": {
   "codemirror_mode": {
    "name": "ipython",
    "version": 3
   },
   "file_extension": ".py",
   "mimetype": "text/x-python",
   "name": "python",
   "nbconvert_exporter": "python",
   "pygments_lexer": "ipython3",
   "version": "3.11.2"
  },
  "orig_nbformat": 4
 },
 "nbformat": 4,
 "nbformat_minor": 2
}
