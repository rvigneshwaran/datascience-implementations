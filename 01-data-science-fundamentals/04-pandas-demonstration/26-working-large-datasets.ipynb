{
 "cells": [
  {
   "cell_type": "code",
   "execution_count": 1,
   "metadata": {},
   "outputs": [],
   "source": [
    "import pandas as pd"
   ]
  },
  {
   "cell_type": "markdown",
   "metadata": {},
   "source": [
    "```python\n",
    "# Load large dataset in chunks\n",
    "chunk_size = 1000\n",
    "data = pd.read_csv('large_dataset.csv', chunksize=chunk_size)\n",
    "```"
   ]
  },
  {
   "cell_type": "markdown",
   "metadata": {},
   "source": [
    "```python\n",
    "# Example 1: Process data in chunks\n",
    "for chunk in data:\n",
    "    # Perform operations on each chunk\n",
    "    pass\n",
    "```"
   ]
  },
  {
   "cell_type": "markdown",
   "metadata": {},
   "source": [
    "```python\n",
    "# Example 2: Filtering rows in chunks\n",
    "filtered_chunks = [chunk[chunk['column_name'] > threshold] for chunk in data]\n",
    "```"
   ]
  },
  {
   "cell_type": "markdown",
   "metadata": {},
   "source": [
    "```python\n",
    "# Example 3: Concatenate filtered chunks\n",
    "filtered_data = pd.concat(filtered_chunks)\n",
    "```"
   ]
  },
  {
   "cell_type": "markdown",
   "metadata": {},
   "source": [
    "```python\n",
    "# Example 4: Aggregating in chunks\n",
    "agg_result = []\n",
    "for chunk in data:\n",
    "    agg_result.append(chunk.groupby('category')['value'].sum())\n",
    "final_agg = pd.concat(agg_result).groupby('category').sum()\n",
    "```"
   ]
  },
  {
   "cell_type": "markdown",
   "metadata": {},
   "source": [
    "```python\n",
    "# Example 5: Using Dask for parallel processing\n",
    "import dask.dataframe as dd\n",
    "dask_data = dd.read_csv('large_dataset.csv')\n",
    "```"
   ]
  },
  {
   "cell_type": "markdown",
   "metadata": {},
   "source": [
    "```python\n",
    "# Example 6: Filtering with Dask\n",
    "filtered_dask = dask_data[dask_data['column_name'] > threshold]\n",
    "```"
   ]
  },
  {
   "cell_type": "markdown",
   "metadata": {},
   "source": [
    "```python\n",
    "# Example 7: Aggregating with Dask\n",
    "dask_agg = dask_data.groupby('category')['value'].sum().compute()\n",
    "```"
   ]
  },
  {
   "cell_type": "markdown",
   "metadata": {},
   "source": [
    "```python\n",
    "# Example 8: Memory-efficient dtype selection\n",
    "dtypes = {'column1': 'int32', 'column2': 'float32'}\n",
    "data = pd.read_csv('large_dataset.csv', dtype=dtypes)\n",
    "```"
   ]
  },
  {
   "cell_type": "markdown",
   "metadata": {},
   "source": [
    "```python\n",
    "# Example 9: Using HDF5 for large datasets\n",
    "store = pd.HDFStore('large_dataset.h5')\n",
    "store.append('data', data)\n",
    "```"
   ]
  },
  {
   "cell_type": "markdown",
   "metadata": {},
   "source": [
    "```python\n",
    "# Example 10: Querying HDF5 data\n",
    "query_result = store.select('data', where='column_name > threshold')\n",
    "```"
   ]
  },
  {
   "cell_type": "markdown",
   "metadata": {},
   "source": [
    "```python\n",
    "# Example 11: Using chunking in HDF5\n",
    "chunk_iter = pd.read_hdf('large_dataset.h5', chunksize=chunk_size)\n",
    "```"
   ]
  },
  {
   "cell_type": "markdown",
   "metadata": {},
   "source": [
    "```python\n",
    "# Example 12: Memory mapping with HDF5\n",
    "hdf_data = pd.HDFStore('large_dataset.h5', mode='r')\n",
    "memory_mapped_data = hdf_data.select('data', start=0, stop=10**6, columns=['column_name'])\n",
    "```\n"
   ]
  },
  {
   "cell_type": "markdown",
   "metadata": {},
   "source": [
    "```python\n",
    "# Example 13: Using Modin for parallel processing\n",
    "import modin.pandas as mpd\n",
    "modin_data = mpd.read_csv('large_dataset.csv')\n",
    "```"
   ]
  },
  {
   "cell_type": "markdown",
   "metadata": {},
   "source": [
    "```python\n",
    "# Example 14: Filtering with Modin\n",
    "filtered_modin = modin_data[modin_data['column_name'] > threshold]\n",
    "```"
   ]
  },
  {
   "cell_type": "markdown",
   "metadata": {},
   "source": [
    "```python\n",
    "# Example 15: Groupby with Modin\n",
    "modin_agg = modin_data.groupby('category')['value'].sum()\n",
    "```"
   ]
  },
  {
   "cell_type": "markdown",
   "metadata": {},
   "source": [
    "```python\n",
    "# Example 16: Using Vaex for lazy loading\n",
    "import vaex\n",
    "vaex_data = vaex.open('large_dataset.hdf5')\n",
    "```"
   ]
  },
  {
   "cell_type": "markdown",
   "metadata": {},
   "source": [
    "```python\n",
    "# Example 17: Filtering with Vaex\n",
    "filtered_vaex = vaex_data[vaex_data['column_name'] > threshold]\n",
    "```"
   ]
  },
  {
   "cell_type": "markdown",
   "metadata": {},
   "source": [
    "```python\n",
    "# Example 18: Aggregating with Vaex\n",
    "vaex_agg = vaex_data.groupby('category', agg='sum')\n",
    "```"
   ]
  },
  {
   "cell_type": "markdown",
   "metadata": {},
   "source": [
    "```python\n",
    "# Example 19: Using SQL with Pandas\n",
    "import sqlite3\n",
    "conn = sqlite3.connect('large_dataset.db')\n",
    "query = 'SELECT * FROM data WHERE column_name > threshold'\n",
    "sql_result = pd.read_sql_query(query, conn)\n",
    "```"
   ]
  },
  {
   "cell_type": "markdown",
   "metadata": {},
   "source": [
    "```python\n",
    "# Example 20: Using a generator to load data\n",
    "def data_generator():\n",
    "    for chunk in pd.read_csv('large_dataset.csv', chunksize=chunk_size):\n",
    "        yield chunk\n",
    "```"
   ]
  },
  {
   "cell_type": "markdown",
   "metadata": {},
   "source": [
    "```python\n",
    "# Example 21: Processing data using generator\n",
    "for chunk in data_generator():\n",
    "    # Perform operations on each chunk\n",
    "    pass\n",
    "```"
   ]
  },
  {
   "cell_type": "markdown",
   "metadata": {},
   "source": [
    "```python\n",
    "# Example 22: Sampling data\n",
    "sampled_data = data.sample(frac=0.1)\n",
    "```"
   ]
  },
  {
   "cell_type": "markdown",
   "metadata": {},
   "source": [
    "```python\n",
    "# Example 23: Reading specific columns\n",
    "selected_columns = ['column1', 'column2']\n",
    "data_subset = pd.read_csv('large_dataset.csv', usecols=selected_columns)\n",
    "```"
   ]
  },
  {
   "cell_type": "markdown",
   "metadata": {},
   "source": [
    "```python\n",
    "# Example 24: Working with datetime columns\n",
    "data['date_column'] = pd.to_datetime(data['date_column'])\n",
    "filtered_dates = data[(data['date_column'] > start_date) & (data['date_column'] < end_date)]\n",
    "\n",
    "```"
   ]
  },
  {
   "cell_type": "markdown",
   "metadata": {},
   "source": [
    "```python\n",
    "# Example 25: Using Dask for reading and processing CSV\n",
    "dask_dataframe = dd.read_csv('large_dataset.csv')\n",
    "filtered_dask = dask_dataframe[dask_dataframe['column_name'] > threshold]\n",
    "\n",
    "```"
   ]
  }
 ],
 "metadata": {
  "kernelspec": {
   "display_name": "Python 3",
   "language": "python",
   "name": "python3"
  },
  "language_info": {
   "codemirror_mode": {
    "name": "ipython",
    "version": 3
   },
   "file_extension": ".py",
   "mimetype": "text/x-python",
   "name": "python",
   "nbconvert_exporter": "python",
   "pygments_lexer": "ipython3",
   "version": "3.11.2"
  },
  "orig_nbformat": 4
 },
 "nbformat": 4,
 "nbformat_minor": 2
}
