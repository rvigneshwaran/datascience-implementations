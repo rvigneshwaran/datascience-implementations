{
 "cells": [
  {
   "cell_type": "code",
   "execution_count": 1,
   "metadata": {},
   "outputs": [],
   "source": [
    "import pandas as pd"
   ]
  },
  {
   "cell_type": "code",
   "execution_count": 2,
   "metadata": {},
   "outputs": [],
   "source": [
    "# Generate sample datetime data\n",
    "date_rng = pd.date_range(start='2022-01-01', end='2022-12-31', freq='H')\n",
    "data = {'datetime': date_rng}\n",
    "df = pd.DataFrame(data)\n",
    "df['value'] = range(len(date_rng))"
   ]
  },
  {
   "cell_type": "code",
   "execution_count": 3,
   "metadata": {},
   "outputs": [],
   "source": [
    "# Example 1: Convert datetime to a different time zone\n",
    "df['datetime_utc'] = df['datetime'].dt.tz_localize('UTC')\n",
    "df['datetime_new_york'] = df['datetime_utc'].dt.tz_convert('America/New_York')\n"
   ]
  },
  {
   "cell_type": "code",
   "execution_count": 4,
   "metadata": {},
   "outputs": [
    {
     "name": "stderr",
     "output_type": "stream",
     "text": [
      "C:\\Users\\rvign\\AppData\\Local\\Temp\\ipykernel_21620\\3968536486.py:3: SettingWithCopyWarning: \n",
      "A value is trying to be set on a copy of a slice from a DataFrame.\n",
      "Try using .loc[row_indexer,col_indexer] = value instead\n",
      "\n",
      "See the caveats in the documentation: https://pandas.pydata.org/pandas-docs/stable/user_guide/indexing.html#returning-a-view-versus-a-copy\n",
      "  df_missing_tz['datetime_missing_tz'] = df_missing_tz['datetime'].dt.tz_localize(None)\n"
     ]
    }
   ],
   "source": [
    "# Example 2: Handling missing time zone information\n",
    "df_missing_tz = df[df.index % 3 == 0]\n",
    "df_missing_tz['datetime_missing_tz'] = df_missing_tz['datetime'].dt.tz_localize(None)\n"
   ]
  },
  {
   "cell_type": "code",
   "execution_count": 5,
   "metadata": {},
   "outputs": [],
   "source": [
    "# Example 3: Handling daylight saving time transitions\n",
    "spring_dst = pd.Timestamp('2022-03-12 01:59:59', tz='US/Eastern')\n",
    "fall_dst = pd.Timestamp('2022-11-05 01:59:59', tz='US/Eastern')\n",
    "df['is_dst_spring'] = df['datetime_new_york'] == spring_dst\n",
    "df['is_dst_fall'] = df['datetime_new_york'] == fall_dst\n"
   ]
  },
  {
   "cell_type": "code",
   "execution_count": 6,
   "metadata": {},
   "outputs": [],
   "source": [
    "# Example 4: Convert time zones for entire DataFrame\n",
    "df['datetime_london'] = df['datetime_utc'].dt.tz_convert('Europe/London')\n",
    "df['datetime_tokyo'] = df['datetime_utc'].dt.tz_convert('Asia/Tokyo')\n"
   ]
  },
  {
   "cell_type": "code",
   "execution_count": 7,
   "metadata": {},
   "outputs": [],
   "source": [
    "# Example 5: Handling daylight saving time transitions using DST rules\n",
    "eastern = df['datetime_new_york'].dt.tz_localize(None)\n",
    "spring_dst_rules = eastern.dt.tz_localize('US/Eastern', ambiguous='NaT', nonexistent='NaT')\n",
    "fall_dst_rules = eastern.dt.tz_localize('US/Eastern', ambiguous='infer', nonexistent='shift_forward')\n",
    "df['spring_dst_rules'] = spring_dst_rules\n",
    "df['fall_dst_rules'] = fall_dst_rules\n"
   ]
  },
  {
   "cell_type": "code",
   "execution_count": 8,
   "metadata": {},
   "outputs": [],
   "source": [
    "# Example 6: Handling time zones when reading from CSV\n",
    "df.to_csv('output-contends/timezone_example.csv', index=False)\n",
    "df_from_csv = pd.read_csv('output-contends/timezone_example.csv', parse_dates=['datetime', 'datetime_utc', 'datetime_new_york'])\n"
   ]
  },
  {
   "cell_type": "code",
   "execution_count": 9,
   "metadata": {},
   "outputs": [],
   "source": [
    "# Example 7: Time zone conversion with resampling\n",
    "df_resampled = df.set_index('datetime_new_york').resample('D')['value'].sum()\n"
   ]
  },
  {
   "cell_type": "code",
   "execution_count": 10,
   "metadata": {},
   "outputs": [],
   "source": [
    "# Example 8: Time zone conversion with groupby\n",
    "df_grouped = df.groupby(df['datetime_new_york'].dt.date)['value'].sum()\n"
   ]
  },
  {
   "cell_type": "code",
   "execution_count": 11,
   "metadata": {},
   "outputs": [],
   "source": [
    "# Example 9: Working with time zones in multi-level index\n",
    "df_multiindex = df.set_index(['datetime_new_york', 'is_dst_spring'])\n"
   ]
  },
  {
   "cell_type": "code",
   "execution_count": 12,
   "metadata": {},
   "outputs": [],
   "source": [
    "# Example 10: Time zone conversion with apply\n",
    "df['hour'] = df['datetime_new_york'].dt.hour\n",
    "df['hour_utc'] = df['hour'].apply(lambda x: pd.Timestamp(x, tz='UTC'))\n"
   ]
  }
 ],
 "metadata": {
  "kernelspec": {
   "display_name": "Python 3",
   "language": "python",
   "name": "python3"
  },
  "language_info": {
   "codemirror_mode": {
    "name": "ipython",
    "version": 3
   },
   "file_extension": ".py",
   "mimetype": "text/x-python",
   "name": "python",
   "nbconvert_exporter": "python",
   "pygments_lexer": "ipython3",
   "version": "3.11.2"
  },
  "orig_nbformat": 4
 },
 "nbformat": 4,
 "nbformat_minor": 2
}
