{
 "cells": [
  {
   "cell_type": "code",
   "execution_count": 1,
   "metadata": {},
   "outputs": [],
   "source": [
    "import pandas as pd"
   ]
  },
  {
   "cell_type": "code",
   "execution_count": 2,
   "metadata": {},
   "outputs": [],
   "source": [
    "# Generate sample datetime data\n",
    "date_rng = pd.date_range(start='2022-01-01', end='2022-12-31', freq='H')\n",
    "data = {'datetime': date_rng}\n",
    "df = pd.DataFrame(data)\n",
    "df['value'] = range(len(date_rng))"
   ]
  },
  {
   "cell_type": "code",
   "execution_count": 3,
   "metadata": {},
   "outputs": [],
   "source": [
    "# Example 1: Convert datetime to a different time zone\n",
    "df['datetime_utc'] = df['datetime'].dt.tz_localize('UTC')\n",
    "df['datetime_new_york'] = df['datetime_utc'].dt.tz_convert('America/New_York')\n"
   ]
  },
  {
   "cell_type": "code",
   "execution_count": 4,
   "metadata": {},
   "outputs": [
    {
     "name": "stderr",
     "output_type": "stream",
     "text": [
      "C:\\Users\\rvign\\AppData\\Local\\Temp\\ipykernel_21620\\3968536486.py:3: SettingWithCopyWarning: \n",
      "A value is trying to be set on a copy of a slice from a DataFrame.\n",
      "Try using .loc[row_indexer,col_indexer] = value instead\n",
      "\n",
      "See the caveats in the documentation: https://pandas.pydata.org/pandas-docs/stable/user_guide/indexing.html#returning-a-view-versus-a-copy\n",
      "  df_missing_tz['datetime_missing_tz'] = df_missing_tz['datetime'].dt.tz_localize(None)\n"
     ]
    }
   ],
   "source": [
    "# Example 2: Handling missing time zone information\n",
    "df_missing_tz = df[df.index % 3 == 0]\n",
    "df_missing_tz['datetime_missing_tz'] = df_missing_tz['datetime'].dt.tz_localize(None)\n"
   ]
  },
  {
   "cell_type": "code",
   "execution_count": 5,
   "metadata": {},
   "outputs": [],
   "source": [
    "# Example 3: Handling daylight saving time transitions\n",
    "spring_dst = pd.Timestamp('2022-03-12 01:59:59', tz='US/Eastern')\n",
    "fall_dst = pd.Timestamp('2022-11-05 01:59:59', tz='US/Eastern')\n",
    "df['is_dst_spring'] = df['datetime_new_york'] == spring_dst\n",
    "df['is_dst_fall'] = df['datetime_new_york'] == fall_dst\n"
   ]
  },
  {
   "cell_type": "code",
   "execution_count": 6,
   "metadata": {},
   "outputs": [],
   "source": [
    "# Example 4: Convert time zones for entire DataFrame\n",
    "df['datetime_london'] = df['datetime_utc'].dt.tz_convert('Europe/London')\n",
    "df['datetime_tokyo'] = df['datetime_utc'].dt.tz_convert('Asia/Tokyo')\n"
   ]
  },
  {
   "cell_type": "code",
   "execution_count": 7,
   "metadata": {},
   "outputs": [],
   "source": [
    "# Example 5: Handling daylight saving time transitions using DST rules\n",
    "eastern = df['datetime_new_york'].dt.tz_localize(None)\n",
    "spring_dst_rules = eastern.dt.tz_localize('US/Eastern', ambiguous='NaT', nonexistent='NaT')\n",
    "fall_dst_rules = eastern.dt.tz_localize('US/Eastern', ambiguous='infer', nonexistent='shift_forward')\n",
    "df['spring_dst_rules'] = spring_dst_rules\n",
    "df['fall_dst_rules'] = fall_dst_rules\n"
   ]
  },
  {
   "cell_type": "code",
   "execution_count": 8,
   "metadata": {},
   "outputs": [],
   "source": [
    "# Example 6: Handling time zones when reading from CSV\n",
    "df.to_csv('output-contends/timezone_example.csv', index=False)\n",
    "df_from_csv = pd.read_csv('output-contends/timezone_example.csv', parse_dates=['datetime', 'datetime_utc', 'datetime_new_york'])\n"
   ]
  },
  {
   "cell_type": "code",
   "execution_count": 9,
   "metadata": {},
   "outputs": [],
   "source": [
    "# Example 7: Time zone conversion with resampling\n",
    "df_resampled = df.set_index('datetime_new_york').resample('D')['value'].sum()\n"
   ]
  },
  {
   "cell_type": "code",
   "execution_count": 10,
   "metadata": {},
   "outputs": [],
   "source": [
    "# Example 8: Time zone conversion with groupby\n",
    "df_grouped = df.groupby(df['datetime_new_york'].dt.date)['value'].sum()\n"
   ]
  },
  {
   "cell_type": "code",
   "execution_count": 11,
   "metadata": {},
   "outputs": [],
   "source": [
    "# Example 9: Working with time zones in multi-level index\n",
    "df_multiindex = df.set_index(['datetime_new_york', 'is_dst_spring'])\n"
   ]
  },
  {
   "cell_type": "code",
   "execution_count": 12,
   "metadata": {},
   "outputs": [],
   "source": [
    "# Example 10: Time zone conversion with apply\n",
    "df['hour'] = df['datetime_new_york'].dt.hour\n",
    "df['hour_utc'] = df['hour'].apply(lambda x: pd.Timestamp(x, tz='UTC'))\n"
   ]
  },
  {
   "cell_type": "code",
   "execution_count": 13,
   "metadata": {},
   "outputs": [
    {
     "ename": "NonExistentTimeError",
     "evalue": "2022-03-27 02:00:00",
     "output_type": "error",
     "traceback": [
      "\u001b[1;31m---------------------------------------------------------------------------\u001b[0m",
      "\u001b[1;31mNonExistentTimeError\u001b[0m                      Traceback (most recent call last)",
      "Cell \u001b[1;32mIn[13], line 3\u001b[0m\n\u001b[0;32m      1\u001b[0m \u001b[39m# Example 11: Using pytz library for custom time zones\u001b[39;00m\n\u001b[0;32m      2\u001b[0m \u001b[39mimport\u001b[39;00m \u001b[39mpytz\u001b[39;00m\n\u001b[1;32m----> 3\u001b[0m df[\u001b[39m'\u001b[39m\u001b[39mcustom_tz\u001b[39m\u001b[39m'\u001b[39m] \u001b[39m=\u001b[39m df[\u001b[39m'\u001b[39;49m\u001b[39mdatetime\u001b[39;49m\u001b[39m'\u001b[39;49m]\u001b[39m.\u001b[39;49mdt\u001b[39m.\u001b[39;49mtz_localize(pytz\u001b[39m.\u001b[39;49mtimezone(\u001b[39m'\u001b[39;49m\u001b[39mEurope/Berlin\u001b[39;49m\u001b[39m'\u001b[39;49m))\n",
      "File \u001b[1;32mc:\\Program Files\\Python311\\Lib\\site-packages\\pandas\\core\\accessor.py:94\u001b[0m, in \u001b[0;36mPandasDelegate._add_delegate_accessors.<locals>._create_delegator_method.<locals>.f\u001b[1;34m(self, *args, **kwargs)\u001b[0m\n\u001b[0;32m     93\u001b[0m \u001b[39mdef\u001b[39;00m \u001b[39mf\u001b[39m(\u001b[39mself\u001b[39m, \u001b[39m*\u001b[39margs, \u001b[39m*\u001b[39m\u001b[39m*\u001b[39mkwargs):\n\u001b[1;32m---> 94\u001b[0m     \u001b[39mreturn\u001b[39;00m \u001b[39mself\u001b[39;49m\u001b[39m.\u001b[39;49m_delegate_method(name, \u001b[39m*\u001b[39;49margs, \u001b[39m*\u001b[39;49m\u001b[39m*\u001b[39;49mkwargs)\n",
      "File \u001b[1;32mc:\\Program Files\\Python311\\Lib\\site-packages\\pandas\\core\\indexes\\accessors.py:126\u001b[0m, in \u001b[0;36mProperties._delegate_method\u001b[1;34m(self, name, *args, **kwargs)\u001b[0m\n\u001b[0;32m    123\u001b[0m values \u001b[39m=\u001b[39m \u001b[39mself\u001b[39m\u001b[39m.\u001b[39m_get_values()\n\u001b[0;32m    125\u001b[0m method \u001b[39m=\u001b[39m \u001b[39mgetattr\u001b[39m(values, name)\n\u001b[1;32m--> 126\u001b[0m result \u001b[39m=\u001b[39m method(\u001b[39m*\u001b[39;49margs, \u001b[39m*\u001b[39;49m\u001b[39m*\u001b[39;49mkwargs)\n\u001b[0;32m    128\u001b[0m \u001b[39mif\u001b[39;00m \u001b[39mnot\u001b[39;00m is_list_like(result):\n\u001b[0;32m    129\u001b[0m     \u001b[39mreturn\u001b[39;00m result\n",
      "File \u001b[1;32mc:\\Program Files\\Python311\\Lib\\site-packages\\pandas\\core\\indexes\\datetimes.py:281\u001b[0m, in \u001b[0;36mDatetimeIndex.tz_localize\u001b[1;34m(self, tz, ambiguous, nonexistent)\u001b[0m\n\u001b[0;32m    279\u001b[0m \u001b[39m@doc\u001b[39m(DatetimeArray\u001b[39m.\u001b[39mtz_localize)\n\u001b[0;32m    280\u001b[0m \u001b[39mdef\u001b[39;00m \u001b[39mtz_localize\u001b[39m(\u001b[39mself\u001b[39m, tz, ambiguous\u001b[39m=\u001b[39m\u001b[39m\"\u001b[39m\u001b[39mraise\u001b[39m\u001b[39m\"\u001b[39m, nonexistent\u001b[39m=\u001b[39m\u001b[39m\"\u001b[39m\u001b[39mraise\u001b[39m\u001b[39m\"\u001b[39m) \u001b[39m-\u001b[39m\u001b[39m>\u001b[39m DatetimeIndex:\n\u001b[1;32m--> 281\u001b[0m     arr \u001b[39m=\u001b[39m \u001b[39mself\u001b[39;49m\u001b[39m.\u001b[39;49m_data\u001b[39m.\u001b[39;49mtz_localize(tz, ambiguous, nonexistent)\n\u001b[0;32m    282\u001b[0m     \u001b[39mreturn\u001b[39;00m \u001b[39mtype\u001b[39m(\u001b[39mself\u001b[39m)\u001b[39m.\u001b[39m_simple_new(arr, name\u001b[39m=\u001b[39m\u001b[39mself\u001b[39m\u001b[39m.\u001b[39mname)\n",
      "File \u001b[1;32mc:\\Program Files\\Python311\\Lib\\site-packages\\pandas\\core\\arrays\\_mixins.py:85\u001b[0m, in \u001b[0;36mravel_compat.<locals>.method\u001b[1;34m(self, *args, **kwargs)\u001b[0m\n\u001b[0;32m     82\u001b[0m \u001b[39m@wraps\u001b[39m(meth)\n\u001b[0;32m     83\u001b[0m \u001b[39mdef\u001b[39;00m \u001b[39mmethod\u001b[39m(\u001b[39mself\u001b[39m, \u001b[39m*\u001b[39margs, \u001b[39m*\u001b[39m\u001b[39m*\u001b[39mkwargs):\n\u001b[0;32m     84\u001b[0m     \u001b[39mif\u001b[39;00m \u001b[39mself\u001b[39m\u001b[39m.\u001b[39mndim \u001b[39m==\u001b[39m \u001b[39m1\u001b[39m:\n\u001b[1;32m---> 85\u001b[0m         \u001b[39mreturn\u001b[39;00m meth(\u001b[39mself\u001b[39;49m, \u001b[39m*\u001b[39;49margs, \u001b[39m*\u001b[39;49m\u001b[39m*\u001b[39;49mkwargs)\n\u001b[0;32m     87\u001b[0m     flags \u001b[39m=\u001b[39m \u001b[39mself\u001b[39m\u001b[39m.\u001b[39m_ndarray\u001b[39m.\u001b[39mflags\n\u001b[0;32m     88\u001b[0m     flat \u001b[39m=\u001b[39m \u001b[39mself\u001b[39m\u001b[39m.\u001b[39mravel(\u001b[39m\"\u001b[39m\u001b[39mK\u001b[39m\u001b[39m\"\u001b[39m)\n",
      "File \u001b[1;32mc:\\Program Files\\Python311\\Lib\\site-packages\\pandas\\core\\arrays\\datetimes.py:987\u001b[0m, in \u001b[0;36mDatetimeArray.tz_localize\u001b[1;34m(self, tz, ambiguous, nonexistent)\u001b[0m\n\u001b[0;32m    984\u001b[0m     tz \u001b[39m=\u001b[39m timezones\u001b[39m.\u001b[39mmaybe_get_tz(tz)\n\u001b[0;32m    985\u001b[0m     \u001b[39m# Convert to UTC\u001b[39;00m\n\u001b[1;32m--> 987\u001b[0m     new_dates \u001b[39m=\u001b[39m tzconversion\u001b[39m.\u001b[39;49mtz_localize_to_utc(\n\u001b[0;32m    988\u001b[0m         \u001b[39mself\u001b[39;49m\u001b[39m.\u001b[39;49masi8,\n\u001b[0;32m    989\u001b[0m         tz,\n\u001b[0;32m    990\u001b[0m         ambiguous\u001b[39m=\u001b[39;49mambiguous,\n\u001b[0;32m    991\u001b[0m         nonexistent\u001b[39m=\u001b[39;49mnonexistent,\n\u001b[0;32m    992\u001b[0m         reso\u001b[39m=\u001b[39;49m\u001b[39mself\u001b[39;49m\u001b[39m.\u001b[39;49m_reso,\n\u001b[0;32m    993\u001b[0m     )\n\u001b[0;32m    994\u001b[0m new_dates \u001b[39m=\u001b[39m new_dates\u001b[39m.\u001b[39mview(\u001b[39mf\u001b[39m\u001b[39m\"\u001b[39m\u001b[39mM8[\u001b[39m\u001b[39m{\u001b[39;00m\u001b[39mself\u001b[39m\u001b[39m.\u001b[39m_unit\u001b[39m}\u001b[39;00m\u001b[39m]\u001b[39m\u001b[39m\"\u001b[39m)\n\u001b[0;32m    995\u001b[0m dtype \u001b[39m=\u001b[39m tz_to_dtype(tz, unit\u001b[39m=\u001b[39m\u001b[39mself\u001b[39m\u001b[39m.\u001b[39m_unit)\n",
      "File \u001b[1;32mc:\\Program Files\\Python311\\Lib\\site-packages\\pandas\\_libs\\tslibs\\tzconversion.pyx:391\u001b[0m, in \u001b[0;36mpandas._libs.tslibs.tzconversion.tz_localize_to_utc\u001b[1;34m()\u001b[0m\n",
      "\u001b[1;31mNonExistentTimeError\u001b[0m: 2022-03-27 02:00:00"
     ]
    }
   ],
   "source": [
    "# Example 11: Using pytz library for custom time zones\n",
    "import pytz\n",
    "df['custom_tz'] = df['datetime'].dt.tz_localize(pytz.timezone('Europe/Berlin'))\n"
   ]
  },
  {
   "cell_type": "code",
   "execution_count": 14,
   "metadata": {},
   "outputs": [],
   "source": [
    "# Example 12: Time zone arithmetic\n",
    "df['time_diff'] = df['datetime_new_york'] - df['datetime_new_york'].shift(1)\n"
   ]
  },
  {
   "cell_type": "code",
   "execution_count": 15,
   "metadata": {},
   "outputs": [],
   "source": [
    "# Example 13: Converting time zone strings to time zones\n",
    "df['timezone'] = df['datetime_new_york'].dt.tz.zone\n"
   ]
  },
  {
   "cell_type": "code",
   "execution_count": 16,
   "metadata": {},
   "outputs": [
    {
     "ename": "AmbiguousTimeError",
     "evalue": "Cannot infer dst time from 2022-11-06 01:30:00, try using the 'ambiguous' argument",
     "output_type": "error",
     "traceback": [
      "\u001b[1;31m---------------------------------------------------------------------------\u001b[0m",
      "\u001b[1;31mAmbiguousTimeError\u001b[0m                        Traceback (most recent call last)",
      "Cell \u001b[1;32mIn[16], line 2\u001b[0m\n\u001b[0;32m      1\u001b[0m \u001b[39m# Example 14: Handling time zone conversion ambiguity\u001b[39;00m\n\u001b[1;32m----> 2\u001b[0m ambiguous_time \u001b[39m=\u001b[39m pd\u001b[39m.\u001b[39;49mTimestamp(\u001b[39m'\u001b[39;49m\u001b[39m2022-11-06 01:30:00\u001b[39;49m\u001b[39m'\u001b[39;49m, tz\u001b[39m=\u001b[39;49m\u001b[39m'\u001b[39;49m\u001b[39mUS/Eastern\u001b[39;49m\u001b[39m'\u001b[39;49m)\n\u001b[0;32m      3\u001b[0m ambiguous_time_dst \u001b[39m=\u001b[39m ambiguous_time\u001b[39m.\u001b[39mtz_localize(\u001b[39mNone\u001b[39;00m)\n\u001b[0;32m      4\u001b[0m ambiguous_time_eastern \u001b[39m=\u001b[39m ambiguous_time_dst\u001b[39m.\u001b[39mtz_localize(\u001b[39m'\u001b[39m\u001b[39mUS/Eastern\u001b[39m\u001b[39m'\u001b[39m, ambiguous\u001b[39m=\u001b[39m\u001b[39m'\u001b[39m\u001b[39mNaT\u001b[39m\u001b[39m'\u001b[39m)\n",
      "File \u001b[1;32mc:\\Program Files\\Python311\\Lib\\site-packages\\pandas\\_libs\\tslibs\\timestamps.pyx:1698\u001b[0m, in \u001b[0;36mpandas._libs.tslibs.timestamps.Timestamp.__new__\u001b[1;34m()\u001b[0m\n",
      "File \u001b[1;32mc:\\Program Files\\Python311\\Lib\\site-packages\\pandas\\_libs\\tslibs\\conversion.pyx:249\u001b[0m, in \u001b[0;36mpandas._libs.tslibs.conversion.convert_to_tsobject\u001b[1;34m()\u001b[0m\n",
      "File \u001b[1;32mc:\\Program Files\\Python311\\Lib\\site-packages\\pandas\\_libs\\tslibs\\conversion.pyx:514\u001b[0m, in \u001b[0;36mpandas._libs.tslibs.conversion._convert_str_to_tsobject\u001b[1;34m()\u001b[0m\n",
      "File \u001b[1;32mc:\\Program Files\\Python311\\Lib\\site-packages\\pandas\\_libs\\tslibs\\tzconversion.pyx:176\u001b[0m, in \u001b[0;36mpandas._libs.tslibs.tzconversion.tz_localize_to_utc_single\u001b[1;34m()\u001b[0m\n",
      "File \u001b[1;32mc:\\Program Files\\Python311\\Lib\\site-packages\\pandas\\_libs\\tslibs\\tzconversion.pyx:353\u001b[0m, in \u001b[0;36mpandas._libs.tslibs.tzconversion.tz_localize_to_utc\u001b[1;34m()\u001b[0m\n",
      "\u001b[1;31mAmbiguousTimeError\u001b[0m: Cannot infer dst time from 2022-11-06 01:30:00, try using the 'ambiguous' argument"
     ]
    }
   ],
   "source": [
    "# Example 14: Handling time zone conversion ambiguity\n",
    "ambiguous_time = pd.Timestamp('2022-11-06 01:30:00', tz='US/Eastern')\n",
    "ambiguous_time_dst = ambiguous_time.tz_localize(None)\n",
    "ambiguous_time_eastern = ambiguous_time_dst.tz_localize('US/Eastern', ambiguous='NaT')\n"
   ]
  },
  {
   "cell_type": "code",
   "execution_count": 17,
   "metadata": {},
   "outputs": [],
   "source": [
    "# Example 15: Handling missing time zone conversion\n",
    "missing_tz_time = pd.Timestamp('2022-07-01 12:00:00')\n",
    "missing_tz_time_new_york = missing_tz_time.tz_localize('US/Eastern', nonexistent='shift_forward')\n"
   ]
  },
  {
   "cell_type": "code",
   "execution_count": 18,
   "metadata": {},
   "outputs": [],
   "source": [
    "# Example 16: Using datetime accessor with time zones\n",
    "df['weekday'] = df['datetime_new_york'].dt.day_name()\n"
   ]
  },
  {
   "cell_type": "code",
   "execution_count": 19,
   "metadata": {},
   "outputs": [],
   "source": [
    "# Example 17: Time zone conversion with vectorized arithmetic\n",
    "df['hour_diff'] = df['datetime_new_york'].dt.hour - df['datetime_london'].dt.hour\n"
   ]
  },
  {
   "cell_type": "code",
   "execution_count": 20,
   "metadata": {},
   "outputs": [],
   "source": [
    "# Example 18: Handling time zones in multi-level columns\n",
    "df_multi_col = df.set_index(['datetime_new_york', 'is_dst_spring'])['value'].unstack()\n"
   ]
  },
  {
   "cell_type": "code",
   "execution_count": 21,
   "metadata": {},
   "outputs": [],
   "source": [
    "# Example 19: Time zone-aware arithmetic operations\n",
    "df['time_diff_hours'] = (df['datetime_new_york'] - df['datetime_new_york'].shift(1)).dt.total_seconds() / 3600\n"
   ]
  },
  {
   "cell_type": "code",
   "execution_count": 22,
   "metadata": {},
   "outputs": [],
   "source": [
    "# Example 20: Handling time zones with applymap\n",
    "df_hour_map = df[['datetime_new_york', 'hour']].set_index('datetime_new_york').applymap(lambda x: x + 1)\n"
   ]
  },
  {
   "cell_type": "code",
   "execution_count": 23,
   "metadata": {},
   "outputs": [
    {
     "ename": "ValueError",
     "evalue": "You are trying to merge on datetime64[ns, America/New_York] and object columns. If you wish to proceed you should use pd.concat",
     "output_type": "error",
     "traceback": [
      "\u001b[1;31m---------------------------------------------------------------------------\u001b[0m",
      "\u001b[1;31mValueError\u001b[0m                                Traceback (most recent call last)",
      "Cell \u001b[1;32mIn[23], line 2\u001b[0m\n\u001b[0;32m      1\u001b[0m \u001b[39m# Example 21: Handling time zones with join\u001b[39;00m\n\u001b[1;32m----> 2\u001b[0m df_join \u001b[39m=\u001b[39m df\u001b[39m.\u001b[39;49mmerge(df_from_csv, on\u001b[39m=\u001b[39;49m\u001b[39m'\u001b[39;49m\u001b[39mdatetime_new_york\u001b[39;49m\u001b[39m'\u001b[39;49m)\n",
      "File \u001b[1;32mc:\\Program Files\\Python311\\Lib\\site-packages\\pandas\\core\\frame.py:10093\u001b[0m, in \u001b[0;36mDataFrame.merge\u001b[1;34m(self, right, how, on, left_on, right_on, left_index, right_index, sort, suffixes, copy, indicator, validate)\u001b[0m\n\u001b[0;32m  10074\u001b[0m \u001b[39m@Substitution\u001b[39m(\u001b[39m\"\u001b[39m\u001b[39m\"\u001b[39m)\n\u001b[0;32m  10075\u001b[0m \u001b[39m@Appender\u001b[39m(_merge_doc, indents\u001b[39m=\u001b[39m\u001b[39m2\u001b[39m)\n\u001b[0;32m  10076\u001b[0m \u001b[39mdef\u001b[39;00m \u001b[39mmerge\u001b[39m(\n\u001b[1;32m   (...)\u001b[0m\n\u001b[0;32m  10089\u001b[0m     validate: \u001b[39mstr\u001b[39m \u001b[39m|\u001b[39m \u001b[39mNone\u001b[39;00m \u001b[39m=\u001b[39m \u001b[39mNone\u001b[39;00m,\n\u001b[0;32m  10090\u001b[0m ) \u001b[39m-\u001b[39m\u001b[39m>\u001b[39m DataFrame:\n\u001b[0;32m  10091\u001b[0m     \u001b[39mfrom\u001b[39;00m \u001b[39mpandas\u001b[39;00m\u001b[39m.\u001b[39;00m\u001b[39mcore\u001b[39;00m\u001b[39m.\u001b[39;00m\u001b[39mreshape\u001b[39;00m\u001b[39m.\u001b[39;00m\u001b[39mmerge\u001b[39;00m \u001b[39mimport\u001b[39;00m merge\n\u001b[1;32m> 10093\u001b[0m     \u001b[39mreturn\u001b[39;00m merge(\n\u001b[0;32m  10094\u001b[0m         \u001b[39mself\u001b[39;49m,\n\u001b[0;32m  10095\u001b[0m         right,\n\u001b[0;32m  10096\u001b[0m         how\u001b[39m=\u001b[39;49mhow,\n\u001b[0;32m  10097\u001b[0m         on\u001b[39m=\u001b[39;49mon,\n\u001b[0;32m  10098\u001b[0m         left_on\u001b[39m=\u001b[39;49mleft_on,\n\u001b[0;32m  10099\u001b[0m         right_on\u001b[39m=\u001b[39;49mright_on,\n\u001b[0;32m  10100\u001b[0m         left_index\u001b[39m=\u001b[39;49mleft_index,\n\u001b[0;32m  10101\u001b[0m         right_index\u001b[39m=\u001b[39;49mright_index,\n\u001b[0;32m  10102\u001b[0m         sort\u001b[39m=\u001b[39;49msort,\n\u001b[0;32m  10103\u001b[0m         suffixes\u001b[39m=\u001b[39;49msuffixes,\n\u001b[0;32m  10104\u001b[0m         copy\u001b[39m=\u001b[39;49mcopy,\n\u001b[0;32m  10105\u001b[0m         indicator\u001b[39m=\u001b[39;49mindicator,\n\u001b[0;32m  10106\u001b[0m         validate\u001b[39m=\u001b[39;49mvalidate,\n\u001b[0;32m  10107\u001b[0m     )\n",
      "File \u001b[1;32mc:\\Program Files\\Python311\\Lib\\site-packages\\pandas\\core\\reshape\\merge.py:110\u001b[0m, in \u001b[0;36mmerge\u001b[1;34m(left, right, how, on, left_on, right_on, left_index, right_index, sort, suffixes, copy, indicator, validate)\u001b[0m\n\u001b[0;32m     93\u001b[0m \u001b[39m@Substitution\u001b[39m(\u001b[39m\"\u001b[39m\u001b[39m\\n\u001b[39;00m\u001b[39mleft : DataFrame or named Series\u001b[39m\u001b[39m\"\u001b[39m)\n\u001b[0;32m     94\u001b[0m \u001b[39m@Appender\u001b[39m(_merge_doc, indents\u001b[39m=\u001b[39m\u001b[39m0\u001b[39m)\n\u001b[0;32m     95\u001b[0m \u001b[39mdef\u001b[39;00m \u001b[39mmerge\u001b[39m(\n\u001b[1;32m   (...)\u001b[0m\n\u001b[0;32m    108\u001b[0m     validate: \u001b[39mstr\u001b[39m \u001b[39m|\u001b[39m \u001b[39mNone\u001b[39;00m \u001b[39m=\u001b[39m \u001b[39mNone\u001b[39;00m,\n\u001b[0;32m    109\u001b[0m ) \u001b[39m-\u001b[39m\u001b[39m>\u001b[39m DataFrame:\n\u001b[1;32m--> 110\u001b[0m     op \u001b[39m=\u001b[39m _MergeOperation(\n\u001b[0;32m    111\u001b[0m         left,\n\u001b[0;32m    112\u001b[0m         right,\n\u001b[0;32m    113\u001b[0m         how\u001b[39m=\u001b[39;49mhow,\n\u001b[0;32m    114\u001b[0m         on\u001b[39m=\u001b[39;49mon,\n\u001b[0;32m    115\u001b[0m         left_on\u001b[39m=\u001b[39;49mleft_on,\n\u001b[0;32m    116\u001b[0m         right_on\u001b[39m=\u001b[39;49mright_on,\n\u001b[0;32m    117\u001b[0m         left_index\u001b[39m=\u001b[39;49mleft_index,\n\u001b[0;32m    118\u001b[0m         right_index\u001b[39m=\u001b[39;49mright_index,\n\u001b[0;32m    119\u001b[0m         sort\u001b[39m=\u001b[39;49msort,\n\u001b[0;32m    120\u001b[0m         suffixes\u001b[39m=\u001b[39;49msuffixes,\n\u001b[0;32m    121\u001b[0m         indicator\u001b[39m=\u001b[39;49mindicator,\n\u001b[0;32m    122\u001b[0m         validate\u001b[39m=\u001b[39;49mvalidate,\n\u001b[0;32m    123\u001b[0m     )\n\u001b[0;32m    124\u001b[0m     \u001b[39mreturn\u001b[39;00m op\u001b[39m.\u001b[39mget_result(copy\u001b[39m=\u001b[39mcopy)\n",
      "File \u001b[1;32mc:\\Program Files\\Python311\\Lib\\site-packages\\pandas\\core\\reshape\\merge.py:707\u001b[0m, in \u001b[0;36m_MergeOperation.__init__\u001b[1;34m(self, left, right, how, on, left_on, right_on, axis, left_index, right_index, sort, suffixes, indicator, validate)\u001b[0m\n\u001b[0;32m    699\u001b[0m (\n\u001b[0;32m    700\u001b[0m     \u001b[39mself\u001b[39m\u001b[39m.\u001b[39mleft_join_keys,\n\u001b[0;32m    701\u001b[0m     \u001b[39mself\u001b[39m\u001b[39m.\u001b[39mright_join_keys,\n\u001b[0;32m    702\u001b[0m     \u001b[39mself\u001b[39m\u001b[39m.\u001b[39mjoin_names,\n\u001b[0;32m    703\u001b[0m ) \u001b[39m=\u001b[39m \u001b[39mself\u001b[39m\u001b[39m.\u001b[39m_get_merge_keys()\n\u001b[0;32m    705\u001b[0m \u001b[39m# validate the merge keys dtypes. We may need to coerce\u001b[39;00m\n\u001b[0;32m    706\u001b[0m \u001b[39m# to avoid incompatible dtypes\u001b[39;00m\n\u001b[1;32m--> 707\u001b[0m \u001b[39mself\u001b[39;49m\u001b[39m.\u001b[39;49m_maybe_coerce_merge_keys()\n\u001b[0;32m    709\u001b[0m \u001b[39m# If argument passed to validate,\u001b[39;00m\n\u001b[0;32m    710\u001b[0m \u001b[39m# check if columns specified as unique\u001b[39;00m\n\u001b[0;32m    711\u001b[0m \u001b[39m# are in fact unique.\u001b[39;00m\n\u001b[0;32m    712\u001b[0m \u001b[39mif\u001b[39;00m validate \u001b[39mis\u001b[39;00m \u001b[39mnot\u001b[39;00m \u001b[39mNone\u001b[39;00m:\n",
      "File \u001b[1;32mc:\\Program Files\\Python311\\Lib\\site-packages\\pandas\\core\\reshape\\merge.py:1344\u001b[0m, in \u001b[0;36m_MergeOperation._maybe_coerce_merge_keys\u001b[1;34m(self)\u001b[0m\n\u001b[0;32m   1342\u001b[0m \u001b[39m# datetimelikes must match exactly\u001b[39;00m\n\u001b[0;32m   1343\u001b[0m \u001b[39melif\u001b[39;00m needs_i8_conversion(lk\u001b[39m.\u001b[39mdtype) \u001b[39mand\u001b[39;00m \u001b[39mnot\u001b[39;00m needs_i8_conversion(rk\u001b[39m.\u001b[39mdtype):\n\u001b[1;32m-> 1344\u001b[0m     \u001b[39mraise\u001b[39;00m \u001b[39mValueError\u001b[39;00m(msg)\n\u001b[0;32m   1345\u001b[0m \u001b[39melif\u001b[39;00m \u001b[39mnot\u001b[39;00m needs_i8_conversion(lk\u001b[39m.\u001b[39mdtype) \u001b[39mand\u001b[39;00m needs_i8_conversion(rk\u001b[39m.\u001b[39mdtype):\n\u001b[0;32m   1346\u001b[0m     \u001b[39mraise\u001b[39;00m \u001b[39mValueError\u001b[39;00m(msg)\n",
      "\u001b[1;31mValueError\u001b[0m: You are trying to merge on datetime64[ns, America/New_York] and object columns. If you wish to proceed you should use pd.concat"
     ]
    }
   ],
   "source": [
    "# Example 21: Handling time zones with join\n",
    "df_join = df.merge(df_from_csv, on='datetime_new_york')"
   ]
  },
  {
   "cell_type": "code",
   "execution_count": 24,
   "metadata": {},
   "outputs": [],
   "source": [
    "# Example 22: Working with time zones and timedelta\n",
    "df['next_hour'] = df['datetime_new_york'] + pd.Timedelta(hours=1)"
   ]
  },
  {
   "cell_type": "code",
   "execution_count": 25,
   "metadata": {},
   "outputs": [
    {
     "ename": "AttributeError",
     "evalue": "'DatetimeProperties' object has no attribute 'dst'",
     "output_type": "error",
     "traceback": [
      "\u001b[1;31m---------------------------------------------------------------------------\u001b[0m",
      "\u001b[1;31mAttributeError\u001b[0m                            Traceback (most recent call last)",
      "Cell \u001b[1;32mIn[25], line 2\u001b[0m\n\u001b[0;32m      1\u001b[0m \u001b[39m# Example 23: Handling time zones with boolean indexing\u001b[39;00m\n\u001b[1;32m----> 2\u001b[0m df_daylight \u001b[39m=\u001b[39m df[df[\u001b[39m'\u001b[39;49m\u001b[39mdatetime_new_york\u001b[39;49m\u001b[39m'\u001b[39;49m]\u001b[39m.\u001b[39;49mdt\u001b[39m.\u001b[39;49mdst \u001b[39m!=\u001b[39m pd\u001b[39m.\u001b[39mTimedelta(\u001b[39m0\u001b[39m)]\n",
      "\u001b[1;31mAttributeError\u001b[0m: 'DatetimeProperties' object has no attribute 'dst'"
     ]
    }
   ],
   "source": [
    "# Example 23: Handling time zones with boolean indexing\n",
    "df_daylight = df[df['datetime_new_york'].dt.dst != pd.Timedelta(0)]\n"
   ]
  },
  {
   "cell_type": "code",
   "execution_count": 26,
   "metadata": {},
   "outputs": [
    {
     "ename": "NonExistentTimeError",
     "evalue": "2022-03-27 02:00:00",
     "output_type": "error",
     "traceback": [
      "\u001b[1;31m---------------------------------------------------------------------------\u001b[0m",
      "\u001b[1;31mNonExistentTimeError\u001b[0m                      Traceback (most recent call last)",
      "Cell \u001b[1;32mIn[26], line 2\u001b[0m\n\u001b[0;32m      1\u001b[0m \u001b[39m# Example 24: Using tz_localize and tz_convert with different time zones\u001b[39;00m\n\u001b[1;32m----> 2\u001b[0m df[\u001b[39m'\u001b[39m\u001b[39mdatetime_berlin\u001b[39m\u001b[39m'\u001b[39m] \u001b[39m=\u001b[39m df[\u001b[39m'\u001b[39;49m\u001b[39mdatetime\u001b[39;49m\u001b[39m'\u001b[39;49m]\u001b[39m.\u001b[39;49mdt\u001b[39m.\u001b[39;49mtz_localize(\u001b[39m'\u001b[39;49m\u001b[39mEurope/Berlin\u001b[39;49m\u001b[39m'\u001b[39;49m)\n\u001b[0;32m      3\u001b[0m df[\u001b[39m'\u001b[39m\u001b[39mdatetime_utc_berlin\u001b[39m\u001b[39m'\u001b[39m] \u001b[39m=\u001b[39m df[\u001b[39m'\u001b[39m\u001b[39mdatetime_berlin\u001b[39m\u001b[39m'\u001b[39m]\u001b[39m.\u001b[39mdt\u001b[39m.\u001b[39mtz_convert(\u001b[39m'\u001b[39m\u001b[39mUTC\u001b[39m\u001b[39m'\u001b[39m)\n",
      "File \u001b[1;32mc:\\Program Files\\Python311\\Lib\\site-packages\\pandas\\core\\accessor.py:94\u001b[0m, in \u001b[0;36mPandasDelegate._add_delegate_accessors.<locals>._create_delegator_method.<locals>.f\u001b[1;34m(self, *args, **kwargs)\u001b[0m\n\u001b[0;32m     93\u001b[0m \u001b[39mdef\u001b[39;00m \u001b[39mf\u001b[39m(\u001b[39mself\u001b[39m, \u001b[39m*\u001b[39margs, \u001b[39m*\u001b[39m\u001b[39m*\u001b[39mkwargs):\n\u001b[1;32m---> 94\u001b[0m     \u001b[39mreturn\u001b[39;00m \u001b[39mself\u001b[39;49m\u001b[39m.\u001b[39;49m_delegate_method(name, \u001b[39m*\u001b[39;49margs, \u001b[39m*\u001b[39;49m\u001b[39m*\u001b[39;49mkwargs)\n",
      "File \u001b[1;32mc:\\Program Files\\Python311\\Lib\\site-packages\\pandas\\core\\indexes\\accessors.py:126\u001b[0m, in \u001b[0;36mProperties._delegate_method\u001b[1;34m(self, name, *args, **kwargs)\u001b[0m\n\u001b[0;32m    123\u001b[0m values \u001b[39m=\u001b[39m \u001b[39mself\u001b[39m\u001b[39m.\u001b[39m_get_values()\n\u001b[0;32m    125\u001b[0m method \u001b[39m=\u001b[39m \u001b[39mgetattr\u001b[39m(values, name)\n\u001b[1;32m--> 126\u001b[0m result \u001b[39m=\u001b[39m method(\u001b[39m*\u001b[39;49margs, \u001b[39m*\u001b[39;49m\u001b[39m*\u001b[39;49mkwargs)\n\u001b[0;32m    128\u001b[0m \u001b[39mif\u001b[39;00m \u001b[39mnot\u001b[39;00m is_list_like(result):\n\u001b[0;32m    129\u001b[0m     \u001b[39mreturn\u001b[39;00m result\n",
      "File \u001b[1;32mc:\\Program Files\\Python311\\Lib\\site-packages\\pandas\\core\\indexes\\datetimes.py:281\u001b[0m, in \u001b[0;36mDatetimeIndex.tz_localize\u001b[1;34m(self, tz, ambiguous, nonexistent)\u001b[0m\n\u001b[0;32m    279\u001b[0m \u001b[39m@doc\u001b[39m(DatetimeArray\u001b[39m.\u001b[39mtz_localize)\n\u001b[0;32m    280\u001b[0m \u001b[39mdef\u001b[39;00m \u001b[39mtz_localize\u001b[39m(\u001b[39mself\u001b[39m, tz, ambiguous\u001b[39m=\u001b[39m\u001b[39m\"\u001b[39m\u001b[39mraise\u001b[39m\u001b[39m\"\u001b[39m, nonexistent\u001b[39m=\u001b[39m\u001b[39m\"\u001b[39m\u001b[39mraise\u001b[39m\u001b[39m\"\u001b[39m) \u001b[39m-\u001b[39m\u001b[39m>\u001b[39m DatetimeIndex:\n\u001b[1;32m--> 281\u001b[0m     arr \u001b[39m=\u001b[39m \u001b[39mself\u001b[39;49m\u001b[39m.\u001b[39;49m_data\u001b[39m.\u001b[39;49mtz_localize(tz, ambiguous, nonexistent)\n\u001b[0;32m    282\u001b[0m     \u001b[39mreturn\u001b[39;00m \u001b[39mtype\u001b[39m(\u001b[39mself\u001b[39m)\u001b[39m.\u001b[39m_simple_new(arr, name\u001b[39m=\u001b[39m\u001b[39mself\u001b[39m\u001b[39m.\u001b[39mname)\n",
      "File \u001b[1;32mc:\\Program Files\\Python311\\Lib\\site-packages\\pandas\\core\\arrays\\_mixins.py:85\u001b[0m, in \u001b[0;36mravel_compat.<locals>.method\u001b[1;34m(self, *args, **kwargs)\u001b[0m\n\u001b[0;32m     82\u001b[0m \u001b[39m@wraps\u001b[39m(meth)\n\u001b[0;32m     83\u001b[0m \u001b[39mdef\u001b[39;00m \u001b[39mmethod\u001b[39m(\u001b[39mself\u001b[39m, \u001b[39m*\u001b[39margs, \u001b[39m*\u001b[39m\u001b[39m*\u001b[39mkwargs):\n\u001b[0;32m     84\u001b[0m     \u001b[39mif\u001b[39;00m \u001b[39mself\u001b[39m\u001b[39m.\u001b[39mndim \u001b[39m==\u001b[39m \u001b[39m1\u001b[39m:\n\u001b[1;32m---> 85\u001b[0m         \u001b[39mreturn\u001b[39;00m meth(\u001b[39mself\u001b[39;49m, \u001b[39m*\u001b[39;49margs, \u001b[39m*\u001b[39;49m\u001b[39m*\u001b[39;49mkwargs)\n\u001b[0;32m     87\u001b[0m     flags \u001b[39m=\u001b[39m \u001b[39mself\u001b[39m\u001b[39m.\u001b[39m_ndarray\u001b[39m.\u001b[39mflags\n\u001b[0;32m     88\u001b[0m     flat \u001b[39m=\u001b[39m \u001b[39mself\u001b[39m\u001b[39m.\u001b[39mravel(\u001b[39m\"\u001b[39m\u001b[39mK\u001b[39m\u001b[39m\"\u001b[39m)\n",
      "File \u001b[1;32mc:\\Program Files\\Python311\\Lib\\site-packages\\pandas\\core\\arrays\\datetimes.py:987\u001b[0m, in \u001b[0;36mDatetimeArray.tz_localize\u001b[1;34m(self, tz, ambiguous, nonexistent)\u001b[0m\n\u001b[0;32m    984\u001b[0m     tz \u001b[39m=\u001b[39m timezones\u001b[39m.\u001b[39mmaybe_get_tz(tz)\n\u001b[0;32m    985\u001b[0m     \u001b[39m# Convert to UTC\u001b[39;00m\n\u001b[1;32m--> 987\u001b[0m     new_dates \u001b[39m=\u001b[39m tzconversion\u001b[39m.\u001b[39;49mtz_localize_to_utc(\n\u001b[0;32m    988\u001b[0m         \u001b[39mself\u001b[39;49m\u001b[39m.\u001b[39;49masi8,\n\u001b[0;32m    989\u001b[0m         tz,\n\u001b[0;32m    990\u001b[0m         ambiguous\u001b[39m=\u001b[39;49mambiguous,\n\u001b[0;32m    991\u001b[0m         nonexistent\u001b[39m=\u001b[39;49mnonexistent,\n\u001b[0;32m    992\u001b[0m         reso\u001b[39m=\u001b[39;49m\u001b[39mself\u001b[39;49m\u001b[39m.\u001b[39;49m_reso,\n\u001b[0;32m    993\u001b[0m     )\n\u001b[0;32m    994\u001b[0m new_dates \u001b[39m=\u001b[39m new_dates\u001b[39m.\u001b[39mview(\u001b[39mf\u001b[39m\u001b[39m\"\u001b[39m\u001b[39mM8[\u001b[39m\u001b[39m{\u001b[39;00m\u001b[39mself\u001b[39m\u001b[39m.\u001b[39m_unit\u001b[39m}\u001b[39;00m\u001b[39m]\u001b[39m\u001b[39m\"\u001b[39m)\n\u001b[0;32m    995\u001b[0m dtype \u001b[39m=\u001b[39m tz_to_dtype(tz, unit\u001b[39m=\u001b[39m\u001b[39mself\u001b[39m\u001b[39m.\u001b[39m_unit)\n",
      "File \u001b[1;32mc:\\Program Files\\Python311\\Lib\\site-packages\\pandas\\_libs\\tslibs\\tzconversion.pyx:391\u001b[0m, in \u001b[0;36mpandas._libs.tslibs.tzconversion.tz_localize_to_utc\u001b[1;34m()\u001b[0m\n",
      "\u001b[1;31mNonExistentTimeError\u001b[0m: 2022-03-27 02:00:00"
     ]
    }
   ],
   "source": [
    "# Example 24: Using tz_localize and tz_convert with different time zones\n",
    "df['datetime_berlin'] = df['datetime'].dt.tz_localize('Europe/Berlin')\n",
    "df['datetime_utc_berlin'] = df['datetime_berlin'].dt.tz_convert('UTC')\n"
   ]
  },
  {
   "cell_type": "code",
   "execution_count": 27,
   "metadata": {},
   "outputs": [],
   "source": [
    "# Example 25: Using date_range with time zones\n",
    "date_rng_new_york = pd.date_range(start='2022-01-01', end='2022-12-31', freq='D', tz='US/Eastern')\n"
   ]
  },
  {
   "cell_type": "code",
   "execution_count": 28,
   "metadata": {},
   "outputs": [
    {
     "name": "stdout",
     "output_type": "stream",
     "text": [
      "             datetime  value              datetime_utc  \\\n",
      "0 2022-01-01 00:00:00      0 2022-01-01 00:00:00+00:00   \n",
      "1 2022-01-01 01:00:00      1 2022-01-01 01:00:00+00:00   \n",
      "2 2022-01-01 02:00:00      2 2022-01-01 02:00:00+00:00   \n",
      "3 2022-01-01 03:00:00      3 2022-01-01 03:00:00+00:00   \n",
      "4 2022-01-01 04:00:00      4 2022-01-01 04:00:00+00:00   \n",
      "\n",
      "          datetime_new_york  is_dst_spring  is_dst_fall  \\\n",
      "0 2021-12-31 19:00:00-05:00          False        False   \n",
      "1 2021-12-31 20:00:00-05:00          False        False   \n",
      "2 2021-12-31 21:00:00-05:00          False        False   \n",
      "3 2021-12-31 22:00:00-05:00          False        False   \n",
      "4 2021-12-31 23:00:00-05:00          False        False   \n",
      "\n",
      "            datetime_london            datetime_tokyo  \\\n",
      "0 2022-01-01 00:00:00+00:00 2022-01-01 09:00:00+09:00   \n",
      "1 2022-01-01 01:00:00+00:00 2022-01-01 10:00:00+09:00   \n",
      "2 2022-01-01 02:00:00+00:00 2022-01-01 11:00:00+09:00   \n",
      "3 2022-01-01 03:00:00+00:00 2022-01-01 12:00:00+09:00   \n",
      "4 2022-01-01 04:00:00+00:00 2022-01-01 13:00:00+09:00   \n",
      "\n",
      "           spring_dst_rules            fall_dst_rules  hour  \\\n",
      "0 2021-12-31 19:00:00-05:00 2021-12-31 19:00:00-05:00    19   \n",
      "1 2021-12-31 20:00:00-05:00 2021-12-31 20:00:00-05:00    20   \n",
      "2 2021-12-31 21:00:00-05:00 2021-12-31 21:00:00-05:00    21   \n",
      "3 2021-12-31 22:00:00-05:00 2021-12-31 22:00:00-05:00    22   \n",
      "4 2021-12-31 23:00:00-05:00 2021-12-31 23:00:00-05:00    23   \n",
      "\n",
      "                             hour_utc       time_diff          timezone  \\\n",
      "0 1970-01-01 00:00:00.000000019+00:00             NaT  America/New_York   \n",
      "1 1970-01-01 00:00:00.000000020+00:00 0 days 01:00:00  America/New_York   \n",
      "2 1970-01-01 00:00:00.000000021+00:00 0 days 01:00:00  America/New_York   \n",
      "3 1970-01-01 00:00:00.000000022+00:00 0 days 01:00:00  America/New_York   \n",
      "4 1970-01-01 00:00:00.000000023+00:00 0 days 01:00:00  America/New_York   \n",
      "\n",
      "  weekday  hour_diff  time_diff_hours                 next_hour  \n",
      "0  Friday         19              NaN 2021-12-31 20:00:00-05:00  \n",
      "1  Friday         19              1.0 2021-12-31 21:00:00-05:00  \n",
      "2  Friday         19              1.0 2021-12-31 22:00:00-05:00  \n",
      "3  Friday         19              1.0 2021-12-31 23:00:00-05:00  \n",
      "4  Friday         19              1.0 2022-01-01 00:00:00-05:00  \n"
     ]
    }
   ],
   "source": [
    "# Display a sample of the DataFrame\n",
    "print(df.head())"
   ]
  }
 ],
 "metadata": {
  "kernelspec": {
   "display_name": "Python 3",
   "language": "python",
   "name": "python3"
  },
  "language_info": {
   "codemirror_mode": {
    "name": "ipython",
    "version": 3
   },
   "file_extension": ".py",
   "mimetype": "text/x-python",
   "name": "python",
   "nbconvert_exporter": "python",
   "pygments_lexer": "ipython3",
   "version": "3.11.2"
  },
  "orig_nbformat": 4
 },
 "nbformat": 4,
 "nbformat_minor": 2
}
