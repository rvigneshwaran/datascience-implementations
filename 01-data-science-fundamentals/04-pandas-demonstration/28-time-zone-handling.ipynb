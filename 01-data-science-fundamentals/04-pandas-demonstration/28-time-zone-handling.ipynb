{
 "cells": [
  {
   "cell_type": "code",
   "execution_count": 1,
   "metadata": {},
   "outputs": [],
   "source": [
    "import pandas as pd"
   ]
  },
  {
   "cell_type": "code",
   "execution_count": 2,
   "metadata": {},
   "outputs": [],
   "source": [
    "# Generate sample datetime data\n",
    "date_rng = pd.date_range(start='2022-01-01', end='2022-12-31', freq='H')\n",
    "data = {'datetime': date_rng}\n",
    "df = pd.DataFrame(data)\n",
    "df['value'] = range(len(date_rng))"
   ]
  },
  {
   "cell_type": "code",
   "execution_count": 3,
   "metadata": {},
   "outputs": [],
   "source": [
    "# Example 1: Convert datetime to a different time zone\n",
    "df['datetime_utc'] = df['datetime'].dt.tz_localize('UTC')\n",
    "df['datetime_new_york'] = df['datetime_utc'].dt.tz_convert('America/New_York')\n"
   ]
  },
  {
   "cell_type": "code",
   "execution_count": 4,
   "metadata": {},
   "outputs": [
    {
     "name": "stderr",
     "output_type": "stream",
     "text": [
      "C:\\Users\\rvign\\AppData\\Local\\Temp\\ipykernel_21620\\3968536486.py:3: SettingWithCopyWarning: \n",
      "A value is trying to be set on a copy of a slice from a DataFrame.\n",
      "Try using .loc[row_indexer,col_indexer] = value instead\n",
      "\n",
      "See the caveats in the documentation: https://pandas.pydata.org/pandas-docs/stable/user_guide/indexing.html#returning-a-view-versus-a-copy\n",
      "  df_missing_tz['datetime_missing_tz'] = df_missing_tz['datetime'].dt.tz_localize(None)\n"
     ]
    }
   ],
   "source": [
    "# Example 2: Handling missing time zone information\n",
    "df_missing_tz = df[df.index % 3 == 0]\n",
    "df_missing_tz['datetime_missing_tz'] = df_missing_tz['datetime'].dt.tz_localize(None)\n"
   ]
  },
  {
   "cell_type": "code",
   "execution_count": 5,
   "metadata": {},
   "outputs": [],
   "source": [
    "# Example 3: Handling daylight saving time transitions\n",
    "spring_dst = pd.Timestamp('2022-03-12 01:59:59', tz='US/Eastern')\n",
    "fall_dst = pd.Timestamp('2022-11-05 01:59:59', tz='US/Eastern')\n",
    "df['is_dst_spring'] = df['datetime_new_york'] == spring_dst\n",
    "df['is_dst_fall'] = df['datetime_new_york'] == fall_dst\n"
   ]
  },
  {
   "cell_type": "code",
   "execution_count": 6,
   "metadata": {},
   "outputs": [],
   "source": [
    "# Example 4: Convert time zones for entire DataFrame\n",
    "df['datetime_london'] = df['datetime_utc'].dt.tz_convert('Europe/London')\n",
    "df['datetime_tokyo'] = df['datetime_utc'].dt.tz_convert('Asia/Tokyo')\n"
   ]
  },
  {
   "cell_type": "code",
   "execution_count": 7,
   "metadata": {},
   "outputs": [],
   "source": [
    "# Example 5: Handling daylight saving time transitions using DST rules\n",
    "eastern = df['datetime_new_york'].dt.tz_localize(None)\n",
    "spring_dst_rules = eastern.dt.tz_localize('US/Eastern', ambiguous='NaT', nonexistent='NaT')\n",
    "fall_dst_rules = eastern.dt.tz_localize('US/Eastern', ambiguous='infer', nonexistent='shift_forward')\n",
    "df['spring_dst_rules'] = spring_dst_rules\n",
    "df['fall_dst_rules'] = fall_dst_rules\n"
   ]
  },
  {
   "cell_type": "code",
   "execution_count": 8,
   "metadata": {},
   "outputs": [],
   "source": [
    "# Example 6: Handling time zones when reading from CSV\n",
    "df.to_csv('output-contends/timezone_example.csv', index=False)\n",
    "df_from_csv = pd.read_csv('output-contends/timezone_example.csv', parse_dates=['datetime', 'datetime_utc', 'datetime_new_york'])\n"
   ]
  },
  {
   "cell_type": "code",
   "execution_count": 9,
   "metadata": {},
   "outputs": [],
   "source": [
    "# Example 7: Time zone conversion with resampling\n",
    "df_resampled = df.set_index('datetime_new_york').resample('D')['value'].sum()\n"
   ]
  },
  {
   "cell_type": "code",
   "execution_count": 10,
   "metadata": {},
   "outputs": [],
   "source": [
    "# Example 8: Time zone conversion with groupby\n",
    "df_grouped = df.groupby(df['datetime_new_york'].dt.date)['value'].sum()\n"
   ]
  },
  {
   "cell_type": "code",
   "execution_count": 11,
   "metadata": {},
   "outputs": [],
   "source": [
    "# Example 9: Working with time zones in multi-level index\n",
    "df_multiindex = df.set_index(['datetime_new_york', 'is_dst_spring'])\n"
   ]
  },
  {
   "cell_type": "code",
   "execution_count": 12,
   "metadata": {},
   "outputs": [],
   "source": [
    "# Example 10: Time zone conversion with apply\n",
    "df['hour'] = df['datetime_new_york'].dt.hour\n",
    "df['hour_utc'] = df['hour'].apply(lambda x: pd.Timestamp(x, tz='UTC'))\n"
   ]
  },
  {
   "cell_type": "code",
   "execution_count": 13,
   "metadata": {},
   "outputs": [
    {
     "ename": "NonExistentTimeError",
     "evalue": "2022-03-27 02:00:00",
     "output_type": "error",
     "traceback": [
      "\u001b[1;31m---------------------------------------------------------------------------\u001b[0m",
      "\u001b[1;31mNonExistentTimeError\u001b[0m                      Traceback (most recent call last)",
      "Cell \u001b[1;32mIn[13], line 3\u001b[0m\n\u001b[0;32m      1\u001b[0m \u001b[39m# Example 11: Using pytz library for custom time zones\u001b[39;00m\n\u001b[0;32m      2\u001b[0m \u001b[39mimport\u001b[39;00m \u001b[39mpytz\u001b[39;00m\n\u001b[1;32m----> 3\u001b[0m df[\u001b[39m'\u001b[39m\u001b[39mcustom_tz\u001b[39m\u001b[39m'\u001b[39m] \u001b[39m=\u001b[39m df[\u001b[39m'\u001b[39;49m\u001b[39mdatetime\u001b[39;49m\u001b[39m'\u001b[39;49m]\u001b[39m.\u001b[39;49mdt\u001b[39m.\u001b[39;49mtz_localize(pytz\u001b[39m.\u001b[39;49mtimezone(\u001b[39m'\u001b[39;49m\u001b[39mEurope/Berlin\u001b[39;49m\u001b[39m'\u001b[39;49m))\n",
      "File \u001b[1;32mc:\\Program Files\\Python311\\Lib\\site-packages\\pandas\\core\\accessor.py:94\u001b[0m, in \u001b[0;36mPandasDelegate._add_delegate_accessors.<locals>._create_delegator_method.<locals>.f\u001b[1;34m(self, *args, **kwargs)\u001b[0m\n\u001b[0;32m     93\u001b[0m \u001b[39mdef\u001b[39;00m \u001b[39mf\u001b[39m(\u001b[39mself\u001b[39m, \u001b[39m*\u001b[39margs, \u001b[39m*\u001b[39m\u001b[39m*\u001b[39mkwargs):\n\u001b[1;32m---> 94\u001b[0m     \u001b[39mreturn\u001b[39;00m \u001b[39mself\u001b[39;49m\u001b[39m.\u001b[39;49m_delegate_method(name, \u001b[39m*\u001b[39;49margs, \u001b[39m*\u001b[39;49m\u001b[39m*\u001b[39;49mkwargs)\n",
      "File \u001b[1;32mc:\\Program Files\\Python311\\Lib\\site-packages\\pandas\\core\\indexes\\accessors.py:126\u001b[0m, in \u001b[0;36mProperties._delegate_method\u001b[1;34m(self, name, *args, **kwargs)\u001b[0m\n\u001b[0;32m    123\u001b[0m values \u001b[39m=\u001b[39m \u001b[39mself\u001b[39m\u001b[39m.\u001b[39m_get_values()\n\u001b[0;32m    125\u001b[0m method \u001b[39m=\u001b[39m \u001b[39mgetattr\u001b[39m(values, name)\n\u001b[1;32m--> 126\u001b[0m result \u001b[39m=\u001b[39m method(\u001b[39m*\u001b[39;49margs, \u001b[39m*\u001b[39;49m\u001b[39m*\u001b[39;49mkwargs)\n\u001b[0;32m    128\u001b[0m \u001b[39mif\u001b[39;00m \u001b[39mnot\u001b[39;00m is_list_like(result):\n\u001b[0;32m    129\u001b[0m     \u001b[39mreturn\u001b[39;00m result\n",
      "File \u001b[1;32mc:\\Program Files\\Python311\\Lib\\site-packages\\pandas\\core\\indexes\\datetimes.py:281\u001b[0m, in \u001b[0;36mDatetimeIndex.tz_localize\u001b[1;34m(self, tz, ambiguous, nonexistent)\u001b[0m\n\u001b[0;32m    279\u001b[0m \u001b[39m@doc\u001b[39m(DatetimeArray\u001b[39m.\u001b[39mtz_localize)\n\u001b[0;32m    280\u001b[0m \u001b[39mdef\u001b[39;00m \u001b[39mtz_localize\u001b[39m(\u001b[39mself\u001b[39m, tz, ambiguous\u001b[39m=\u001b[39m\u001b[39m\"\u001b[39m\u001b[39mraise\u001b[39m\u001b[39m\"\u001b[39m, nonexistent\u001b[39m=\u001b[39m\u001b[39m\"\u001b[39m\u001b[39mraise\u001b[39m\u001b[39m\"\u001b[39m) \u001b[39m-\u001b[39m\u001b[39m>\u001b[39m DatetimeIndex:\n\u001b[1;32m--> 281\u001b[0m     arr \u001b[39m=\u001b[39m \u001b[39mself\u001b[39;49m\u001b[39m.\u001b[39;49m_data\u001b[39m.\u001b[39;49mtz_localize(tz, ambiguous, nonexistent)\n\u001b[0;32m    282\u001b[0m     \u001b[39mreturn\u001b[39;00m \u001b[39mtype\u001b[39m(\u001b[39mself\u001b[39m)\u001b[39m.\u001b[39m_simple_new(arr, name\u001b[39m=\u001b[39m\u001b[39mself\u001b[39m\u001b[39m.\u001b[39mname)\n",
      "File \u001b[1;32mc:\\Program Files\\Python311\\Lib\\site-packages\\pandas\\core\\arrays\\_mixins.py:85\u001b[0m, in \u001b[0;36mravel_compat.<locals>.method\u001b[1;34m(self, *args, **kwargs)\u001b[0m\n\u001b[0;32m     82\u001b[0m \u001b[39m@wraps\u001b[39m(meth)\n\u001b[0;32m     83\u001b[0m \u001b[39mdef\u001b[39;00m \u001b[39mmethod\u001b[39m(\u001b[39mself\u001b[39m, \u001b[39m*\u001b[39margs, \u001b[39m*\u001b[39m\u001b[39m*\u001b[39mkwargs):\n\u001b[0;32m     84\u001b[0m     \u001b[39mif\u001b[39;00m \u001b[39mself\u001b[39m\u001b[39m.\u001b[39mndim \u001b[39m==\u001b[39m \u001b[39m1\u001b[39m:\n\u001b[1;32m---> 85\u001b[0m         \u001b[39mreturn\u001b[39;00m meth(\u001b[39mself\u001b[39;49m, \u001b[39m*\u001b[39;49margs, \u001b[39m*\u001b[39;49m\u001b[39m*\u001b[39;49mkwargs)\n\u001b[0;32m     87\u001b[0m     flags \u001b[39m=\u001b[39m \u001b[39mself\u001b[39m\u001b[39m.\u001b[39m_ndarray\u001b[39m.\u001b[39mflags\n\u001b[0;32m     88\u001b[0m     flat \u001b[39m=\u001b[39m \u001b[39mself\u001b[39m\u001b[39m.\u001b[39mravel(\u001b[39m\"\u001b[39m\u001b[39mK\u001b[39m\u001b[39m\"\u001b[39m)\n",
      "File \u001b[1;32mc:\\Program Files\\Python311\\Lib\\site-packages\\pandas\\core\\arrays\\datetimes.py:987\u001b[0m, in \u001b[0;36mDatetimeArray.tz_localize\u001b[1;34m(self, tz, ambiguous, nonexistent)\u001b[0m\n\u001b[0;32m    984\u001b[0m     tz \u001b[39m=\u001b[39m timezones\u001b[39m.\u001b[39mmaybe_get_tz(tz)\n\u001b[0;32m    985\u001b[0m     \u001b[39m# Convert to UTC\u001b[39;00m\n\u001b[1;32m--> 987\u001b[0m     new_dates \u001b[39m=\u001b[39m tzconversion\u001b[39m.\u001b[39;49mtz_localize_to_utc(\n\u001b[0;32m    988\u001b[0m         \u001b[39mself\u001b[39;49m\u001b[39m.\u001b[39;49masi8,\n\u001b[0;32m    989\u001b[0m         tz,\n\u001b[0;32m    990\u001b[0m         ambiguous\u001b[39m=\u001b[39;49mambiguous,\n\u001b[0;32m    991\u001b[0m         nonexistent\u001b[39m=\u001b[39;49mnonexistent,\n\u001b[0;32m    992\u001b[0m         reso\u001b[39m=\u001b[39;49m\u001b[39mself\u001b[39;49m\u001b[39m.\u001b[39;49m_reso,\n\u001b[0;32m    993\u001b[0m     )\n\u001b[0;32m    994\u001b[0m new_dates \u001b[39m=\u001b[39m new_dates\u001b[39m.\u001b[39mview(\u001b[39mf\u001b[39m\u001b[39m\"\u001b[39m\u001b[39mM8[\u001b[39m\u001b[39m{\u001b[39;00m\u001b[39mself\u001b[39m\u001b[39m.\u001b[39m_unit\u001b[39m}\u001b[39;00m\u001b[39m]\u001b[39m\u001b[39m\"\u001b[39m)\n\u001b[0;32m    995\u001b[0m dtype \u001b[39m=\u001b[39m tz_to_dtype(tz, unit\u001b[39m=\u001b[39m\u001b[39mself\u001b[39m\u001b[39m.\u001b[39m_unit)\n",
      "File \u001b[1;32mc:\\Program Files\\Python311\\Lib\\site-packages\\pandas\\_libs\\tslibs\\tzconversion.pyx:391\u001b[0m, in \u001b[0;36mpandas._libs.tslibs.tzconversion.tz_localize_to_utc\u001b[1;34m()\u001b[0m\n",
      "\u001b[1;31mNonExistentTimeError\u001b[0m: 2022-03-27 02:00:00"
     ]
    }
   ],
   "source": [
    "# Example 11: Using pytz library for custom time zones\n",
    "import pytz\n",
    "df['custom_tz'] = df['datetime'].dt.tz_localize(pytz.timezone('Europe/Berlin'))\n"
   ]
  },
  {
   "cell_type": "code",
   "execution_count": 14,
   "metadata": {},
   "outputs": [],
   "source": [
    "# Example 12: Time zone arithmetic\n",
    "df['time_diff'] = df['datetime_new_york'] - df['datetime_new_york'].shift(1)\n"
   ]
  },
  {
   "cell_type": "code",
   "execution_count": 15,
   "metadata": {},
   "outputs": [],
   "source": [
    "# Example 13: Converting time zone strings to time zones\n",
    "df['timezone'] = df['datetime_new_york'].dt.tz.zone\n"
   ]
  },
  {
   "cell_type": "code",
   "execution_count": 16,
   "metadata": {},
   "outputs": [
    {
     "ename": "AmbiguousTimeError",
     "evalue": "Cannot infer dst time from 2022-11-06 01:30:00, try using the 'ambiguous' argument",
     "output_type": "error",
     "traceback": [
      "\u001b[1;31m---------------------------------------------------------------------------\u001b[0m",
      "\u001b[1;31mAmbiguousTimeError\u001b[0m                        Traceback (most recent call last)",
      "Cell \u001b[1;32mIn[16], line 2\u001b[0m\n\u001b[0;32m      1\u001b[0m \u001b[39m# Example 14: Handling time zone conversion ambiguity\u001b[39;00m\n\u001b[1;32m----> 2\u001b[0m ambiguous_time \u001b[39m=\u001b[39m pd\u001b[39m.\u001b[39;49mTimestamp(\u001b[39m'\u001b[39;49m\u001b[39m2022-11-06 01:30:00\u001b[39;49m\u001b[39m'\u001b[39;49m, tz\u001b[39m=\u001b[39;49m\u001b[39m'\u001b[39;49m\u001b[39mUS/Eastern\u001b[39;49m\u001b[39m'\u001b[39;49m)\n\u001b[0;32m      3\u001b[0m ambiguous_time_dst \u001b[39m=\u001b[39m ambiguous_time\u001b[39m.\u001b[39mtz_localize(\u001b[39mNone\u001b[39;00m)\n\u001b[0;32m      4\u001b[0m ambiguous_time_eastern \u001b[39m=\u001b[39m ambiguous_time_dst\u001b[39m.\u001b[39mtz_localize(\u001b[39m'\u001b[39m\u001b[39mUS/Eastern\u001b[39m\u001b[39m'\u001b[39m, ambiguous\u001b[39m=\u001b[39m\u001b[39m'\u001b[39m\u001b[39mNaT\u001b[39m\u001b[39m'\u001b[39m)\n",
      "File \u001b[1;32mc:\\Program Files\\Python311\\Lib\\site-packages\\pandas\\_libs\\tslibs\\timestamps.pyx:1698\u001b[0m, in \u001b[0;36mpandas._libs.tslibs.timestamps.Timestamp.__new__\u001b[1;34m()\u001b[0m\n",
      "File \u001b[1;32mc:\\Program Files\\Python311\\Lib\\site-packages\\pandas\\_libs\\tslibs\\conversion.pyx:249\u001b[0m, in \u001b[0;36mpandas._libs.tslibs.conversion.convert_to_tsobject\u001b[1;34m()\u001b[0m\n",
      "File \u001b[1;32mc:\\Program Files\\Python311\\Lib\\site-packages\\pandas\\_libs\\tslibs\\conversion.pyx:514\u001b[0m, in \u001b[0;36mpandas._libs.tslibs.conversion._convert_str_to_tsobject\u001b[1;34m()\u001b[0m\n",
      "File \u001b[1;32mc:\\Program Files\\Python311\\Lib\\site-packages\\pandas\\_libs\\tslibs\\tzconversion.pyx:176\u001b[0m, in \u001b[0;36mpandas._libs.tslibs.tzconversion.tz_localize_to_utc_single\u001b[1;34m()\u001b[0m\n",
      "File \u001b[1;32mc:\\Program Files\\Python311\\Lib\\site-packages\\pandas\\_libs\\tslibs\\tzconversion.pyx:353\u001b[0m, in \u001b[0;36mpandas._libs.tslibs.tzconversion.tz_localize_to_utc\u001b[1;34m()\u001b[0m\n",
      "\u001b[1;31mAmbiguousTimeError\u001b[0m: Cannot infer dst time from 2022-11-06 01:30:00, try using the 'ambiguous' argument"
     ]
    }
   ],
   "source": [
    "# Example 14: Handling time zone conversion ambiguity\n",
    "ambiguous_time = pd.Timestamp('2022-11-06 01:30:00', tz='US/Eastern')\n",
    "ambiguous_time_dst = ambiguous_time.tz_localize(None)\n",
    "ambiguous_time_eastern = ambiguous_time_dst.tz_localize('US/Eastern', ambiguous='NaT')\n"
   ]
  },
  {
   "cell_type": "code",
   "execution_count": 17,
   "metadata": {},
   "outputs": [],
   "source": [
    "# Example 15: Handling missing time zone conversion\n",
    "missing_tz_time = pd.Timestamp('2022-07-01 12:00:00')\n",
    "missing_tz_time_new_york = missing_tz_time.tz_localize('US/Eastern', nonexistent='shift_forward')\n"
   ]
  },
  {
   "cell_type": "code",
   "execution_count": 18,
   "metadata": {},
   "outputs": [],
   "source": [
    "# Example 16: Using datetime accessor with time zones\n",
    "df['weekday'] = df['datetime_new_york'].dt.day_name()\n"
   ]
  },
  {
   "cell_type": "code",
   "execution_count": 19,
   "metadata": {},
   "outputs": [],
   "source": [
    "# Example 17: Time zone conversion with vectorized arithmetic\n",
    "df['hour_diff'] = df['datetime_new_york'].dt.hour - df['datetime_london'].dt.hour\n"
   ]
  },
  {
   "cell_type": "code",
   "execution_count": 20,
   "metadata": {},
   "outputs": [],
   "source": [
    "# Example 18: Handling time zones in multi-level columns\n",
    "df_multi_col = df.set_index(['datetime_new_york', 'is_dst_spring'])['value'].unstack()\n"
   ]
  },
  {
   "cell_type": "code",
   "execution_count": 21,
   "metadata": {},
   "outputs": [],
   "source": [
    "# Example 19: Time zone-aware arithmetic operations\n",
    "df['time_diff_hours'] = (df['datetime_new_york'] - df['datetime_new_york'].shift(1)).dt.total_seconds() / 3600\n"
   ]
  },
  {
   "cell_type": "code",
   "execution_count": 22,
   "metadata": {},
   "outputs": [],
   "source": [
    "# Example 20: Handling time zones with applymap\n",
    "df_hour_map = df[['datetime_new_york', 'hour']].set_index('datetime_new_york').applymap(lambda x: x + 1)\n"
   ]
  },
  {
   "cell_type": "code",
   "execution_count": 23,
   "metadata": {},
   "outputs": [
    {
     "ename": "ValueError",
     "evalue": "You are trying to merge on datetime64[ns, America/New_York] and object columns. If you wish to proceed you should use pd.concat",
     "output_type": "error",
     "traceback": [
      "\u001b[1;31m---------------------------------------------------------------------------\u001b[0m",
      "\u001b[1;31mValueError\u001b[0m                                Traceback (most recent call last)",
      "Cell \u001b[1;32mIn[23], line 2\u001b[0m\n\u001b[0;32m      1\u001b[0m \u001b[39m# Example 21: Handling time zones with join\u001b[39;00m\n\u001b[1;32m----> 2\u001b[0m df_join \u001b[39m=\u001b[39m df\u001b[39m.\u001b[39;49mmerge(df_from_csv, on\u001b[39m=\u001b[39;49m\u001b[39m'\u001b[39;49m\u001b[39mdatetime_new_york\u001b[39;49m\u001b[39m'\u001b[39;49m)\n",
      "File \u001b[1;32mc:\\Program Files\\Python311\\Lib\\site-packages\\pandas\\core\\frame.py:10093\u001b[0m, in \u001b[0;36mDataFrame.merge\u001b[1;34m(self, right, how, on, left_on, right_on, left_index, right_index, sort, suffixes, copy, indicator, validate)\u001b[0m\n\u001b[0;32m  10074\u001b[0m \u001b[39m@Substitution\u001b[39m(\u001b[39m\"\u001b[39m\u001b[39m\"\u001b[39m)\n\u001b[0;32m  10075\u001b[0m \u001b[39m@Appender\u001b[39m(_merge_doc, indents\u001b[39m=\u001b[39m\u001b[39m2\u001b[39m)\n\u001b[0;32m  10076\u001b[0m \u001b[39mdef\u001b[39;00m \u001b[39mmerge\u001b[39m(\n\u001b[1;32m   (...)\u001b[0m\n\u001b[0;32m  10089\u001b[0m     validate: \u001b[39mstr\u001b[39m \u001b[39m|\u001b[39m \u001b[39mNone\u001b[39;00m \u001b[39m=\u001b[39m \u001b[39mNone\u001b[39;00m,\n\u001b[0;32m  10090\u001b[0m ) \u001b[39m-\u001b[39m\u001b[39m>\u001b[39m DataFrame:\n\u001b[0;32m  10091\u001b[0m     \u001b[39mfrom\u001b[39;00m \u001b[39mpandas\u001b[39;00m\u001b[39m.\u001b[39;00m\u001b[39mcore\u001b[39;00m\u001b[39m.\u001b[39;00m\u001b[39mreshape\u001b[39;00m\u001b[39m.\u001b[39;00m\u001b[39mmerge\u001b[39;00m \u001b[39mimport\u001b[39;00m merge\n\u001b[1;32m> 10093\u001b[0m     \u001b[39mreturn\u001b[39;00m merge(\n\u001b[0;32m  10094\u001b[0m         \u001b[39mself\u001b[39;49m,\n\u001b[0;32m  10095\u001b[0m         right,\n\u001b[0;32m  10096\u001b[0m         how\u001b[39m=\u001b[39;49mhow,\n\u001b[0;32m  10097\u001b[0m         on\u001b[39m=\u001b[39;49mon,\n\u001b[0;32m  10098\u001b[0m         left_on\u001b[39m=\u001b[39;49mleft_on,\n\u001b[0;32m  10099\u001b[0m         right_on\u001b[39m=\u001b[39;49mright_on,\n\u001b[0;32m  10100\u001b[0m         left_index\u001b[39m=\u001b[39;49mleft_index,\n\u001b[0;32m  10101\u001b[0m         right_index\u001b[39m=\u001b[39;49mright_index,\n\u001b[0;32m  10102\u001b[0m         sort\u001b[39m=\u001b[39;49msort,\n\u001b[0;32m  10103\u001b[0m         suffixes\u001b[39m=\u001b[39;49msuffixes,\n\u001b[0;32m  10104\u001b[0m         copy\u001b[39m=\u001b[39;49mcopy,\n\u001b[0;32m  10105\u001b[0m         indicator\u001b[39m=\u001b[39;49mindicator,\n\u001b[0;32m  10106\u001b[0m         validate\u001b[39m=\u001b[39;49mvalidate,\n\u001b[0;32m  10107\u001b[0m     )\n",
      "File \u001b[1;32mc:\\Program Files\\Python311\\Lib\\site-packages\\pandas\\core\\reshape\\merge.py:110\u001b[0m, in \u001b[0;36mmerge\u001b[1;34m(left, right, how, on, left_on, right_on, left_index, right_index, sort, suffixes, copy, indicator, validate)\u001b[0m\n\u001b[0;32m     93\u001b[0m \u001b[39m@Substitution\u001b[39m(\u001b[39m\"\u001b[39m\u001b[39m\\n\u001b[39;00m\u001b[39mleft : DataFrame or named Series\u001b[39m\u001b[39m\"\u001b[39m)\n\u001b[0;32m     94\u001b[0m \u001b[39m@Appender\u001b[39m(_merge_doc, indents\u001b[39m=\u001b[39m\u001b[39m0\u001b[39m)\n\u001b[0;32m     95\u001b[0m \u001b[39mdef\u001b[39;00m \u001b[39mmerge\u001b[39m(\n\u001b[1;32m   (...)\u001b[0m\n\u001b[0;32m    108\u001b[0m     validate: \u001b[39mstr\u001b[39m \u001b[39m|\u001b[39m \u001b[39mNone\u001b[39;00m \u001b[39m=\u001b[39m \u001b[39mNone\u001b[39;00m,\n\u001b[0;32m    109\u001b[0m ) \u001b[39m-\u001b[39m\u001b[39m>\u001b[39m DataFrame:\n\u001b[1;32m--> 110\u001b[0m     op \u001b[39m=\u001b[39m _MergeOperation(\n\u001b[0;32m    111\u001b[0m         left,\n\u001b[0;32m    112\u001b[0m         right,\n\u001b[0;32m    113\u001b[0m         how\u001b[39m=\u001b[39;49mhow,\n\u001b[0;32m    114\u001b[0m         on\u001b[39m=\u001b[39;49mon,\n\u001b[0;32m    115\u001b[0m         left_on\u001b[39m=\u001b[39;49mleft_on,\n\u001b[0;32m    116\u001b[0m         right_on\u001b[39m=\u001b[39;49mright_on,\n\u001b[0;32m    117\u001b[0m         left_index\u001b[39m=\u001b[39;49mleft_index,\n\u001b[0;32m    118\u001b[0m         right_index\u001b[39m=\u001b[39;49mright_index,\n\u001b[0;32m    119\u001b[0m         sort\u001b[39m=\u001b[39;49msort,\n\u001b[0;32m    120\u001b[0m         suffixes\u001b[39m=\u001b[39;49msuffixes,\n\u001b[0;32m    121\u001b[0m         indicator\u001b[39m=\u001b[39;49mindicator,\n\u001b[0;32m    122\u001b[0m         validate\u001b[39m=\u001b[39;49mvalidate,\n\u001b[0;32m    123\u001b[0m     )\n\u001b[0;32m    124\u001b[0m     \u001b[39mreturn\u001b[39;00m op\u001b[39m.\u001b[39mget_result(copy\u001b[39m=\u001b[39mcopy)\n",
      "File \u001b[1;32mc:\\Program Files\\Python311\\Lib\\site-packages\\pandas\\core\\reshape\\merge.py:707\u001b[0m, in \u001b[0;36m_MergeOperation.__init__\u001b[1;34m(self, left, right, how, on, left_on, right_on, axis, left_index, right_index, sort, suffixes, indicator, validate)\u001b[0m\n\u001b[0;32m    699\u001b[0m (\n\u001b[0;32m    700\u001b[0m     \u001b[39mself\u001b[39m\u001b[39m.\u001b[39mleft_join_keys,\n\u001b[0;32m    701\u001b[0m     \u001b[39mself\u001b[39m\u001b[39m.\u001b[39mright_join_keys,\n\u001b[0;32m    702\u001b[0m     \u001b[39mself\u001b[39m\u001b[39m.\u001b[39mjoin_names,\n\u001b[0;32m    703\u001b[0m ) \u001b[39m=\u001b[39m \u001b[39mself\u001b[39m\u001b[39m.\u001b[39m_get_merge_keys()\n\u001b[0;32m    705\u001b[0m \u001b[39m# validate the merge keys dtypes. We may need to coerce\u001b[39;00m\n\u001b[0;32m    706\u001b[0m \u001b[39m# to avoid incompatible dtypes\u001b[39;00m\n\u001b[1;32m--> 707\u001b[0m \u001b[39mself\u001b[39;49m\u001b[39m.\u001b[39;49m_maybe_coerce_merge_keys()\n\u001b[0;32m    709\u001b[0m \u001b[39m# If argument passed to validate,\u001b[39;00m\n\u001b[0;32m    710\u001b[0m \u001b[39m# check if columns specified as unique\u001b[39;00m\n\u001b[0;32m    711\u001b[0m \u001b[39m# are in fact unique.\u001b[39;00m\n\u001b[0;32m    712\u001b[0m \u001b[39mif\u001b[39;00m validate \u001b[39mis\u001b[39;00m \u001b[39mnot\u001b[39;00m \u001b[39mNone\u001b[39;00m:\n",
      "File \u001b[1;32mc:\\Program Files\\Python311\\Lib\\site-packages\\pandas\\core\\reshape\\merge.py:1344\u001b[0m, in \u001b[0;36m_MergeOperation._maybe_coerce_merge_keys\u001b[1;34m(self)\u001b[0m\n\u001b[0;32m   1342\u001b[0m \u001b[39m# datetimelikes must match exactly\u001b[39;00m\n\u001b[0;32m   1343\u001b[0m \u001b[39melif\u001b[39;00m needs_i8_conversion(lk\u001b[39m.\u001b[39mdtype) \u001b[39mand\u001b[39;00m \u001b[39mnot\u001b[39;00m needs_i8_conversion(rk\u001b[39m.\u001b[39mdtype):\n\u001b[1;32m-> 1344\u001b[0m     \u001b[39mraise\u001b[39;00m \u001b[39mValueError\u001b[39;00m(msg)\n\u001b[0;32m   1345\u001b[0m \u001b[39melif\u001b[39;00m \u001b[39mnot\u001b[39;00m needs_i8_conversion(lk\u001b[39m.\u001b[39mdtype) \u001b[39mand\u001b[39;00m needs_i8_conversion(rk\u001b[39m.\u001b[39mdtype):\n\u001b[0;32m   1346\u001b[0m     \u001b[39mraise\u001b[39;00m \u001b[39mValueError\u001b[39;00m(msg)\n",
      "\u001b[1;31mValueError\u001b[0m: You are trying to merge on datetime64[ns, America/New_York] and object columns. If you wish to proceed you should use pd.concat"
     ]
    }
   ],
   "source": [
    "# Example 21: Handling time zones with join\n",
    "df_join = df.merge(df_from_csv, on='datetime_new_york')"
   ]
  },
  {
   "cell_type": "code",
   "execution_count": 24,
   "metadata": {},
   "outputs": [],
   "source": [
    "# Example 22: Working with time zones and timedelta\n",
    "df['next_hour'] = df['datetime_new_york'] + pd.Timedelta(hours=1)"
   ]
  },
  {
   "cell_type": "code",
   "execution_count": 25,
   "metadata": {},
   "outputs": [
    {
     "ename": "AttributeError",
     "evalue": "'DatetimeProperties' object has no attribute 'dst'",
     "output_type": "error",
     "traceback": [
      "\u001b[1;31m---------------------------------------------------------------------------\u001b[0m",
      "\u001b[1;31mAttributeError\u001b[0m                            Traceback (most recent call last)",
      "Cell \u001b[1;32mIn[25], line 2\u001b[0m\n\u001b[0;32m      1\u001b[0m \u001b[39m# Example 23: Handling time zones with boolean indexing\u001b[39;00m\n\u001b[1;32m----> 2\u001b[0m df_daylight \u001b[39m=\u001b[39m df[df[\u001b[39m'\u001b[39;49m\u001b[39mdatetime_new_york\u001b[39;49m\u001b[39m'\u001b[39;49m]\u001b[39m.\u001b[39;49mdt\u001b[39m.\u001b[39;49mdst \u001b[39m!=\u001b[39m pd\u001b[39m.\u001b[39mTimedelta(\u001b[39m0\u001b[39m)]\n",
      "\u001b[1;31mAttributeError\u001b[0m: 'DatetimeProperties' object has no attribute 'dst'"
     ]
    }
   ],
   "source": [
    "# Example 23: Handling time zones with boolean indexing\n",
    "df_daylight = df[df['datetime_new_york'].dt.dst != pd.Timedelta(0)]\n"
   ]
  },
  {
   "cell_type": "code",
   "execution_count": 26,
   "metadata": {},
   "outputs": [
    {
     "ename": "NonExistentTimeError",
     "evalue": "2022-03-27 02:00:00",
     "output_type": "error",
     "traceback": [
      "\u001b[1;31m---------------------------------------------------------------------------\u001b[0m",
      "\u001b[1;31mNonExistentTimeError\u001b[0m                      Traceback (most recent call last)",
      "Cell \u001b[1;32mIn[26], line 2\u001b[0m\n\u001b[0;32m      1\u001b[0m \u001b[39m# Example 24: Using tz_localize and tz_convert with different time zones\u001b[39;00m\n\u001b[1;32m----> 2\u001b[0m df[\u001b[39m'\u001b[39m\u001b[39mdatetime_berlin\u001b[39m\u001b[39m'\u001b[39m] \u001b[39m=\u001b[39m df[\u001b[39m'\u001b[39;49m\u001b[39mdatetime\u001b[39;49m\u001b[39m'\u001b[39;49m]\u001b[39m.\u001b[39;49mdt\u001b[39m.\u001b[39;49mtz_localize(\u001b[39m'\u001b[39;49m\u001b[39mEurope/Berlin\u001b[39;49m\u001b[39m'\u001b[39;49m)\n\u001b[0;32m      3\u001b[0m df[\u001b[39m'\u001b[39m\u001b[39mdatetime_utc_berlin\u001b[39m\u001b[39m'\u001b[39m] \u001b[39m=\u001b[39m df[\u001b[39m'\u001b[39m\u001b[39mdatetime_berlin\u001b[39m\u001b[39m'\u001b[39m]\u001b[39m.\u001b[39mdt\u001b[39m.\u001b[39mtz_convert(\u001b[39m'\u001b[39m\u001b[39mUTC\u001b[39m\u001b[39m'\u001b[39m)\n",
      "File \u001b[1;32mc:\\Program Files\\Python311\\Lib\\site-packages\\pandas\\core\\accessor.py:94\u001b[0m, in \u001b[0;36mPandasDelegate._add_delegate_accessors.<locals>._create_delegator_method.<locals>.f\u001b[1;34m(self, *args, **kwargs)\u001b[0m\n\u001b[0;32m     93\u001b[0m \u001b[39mdef\u001b[39;00m \u001b[39mf\u001b[39m(\u001b[39mself\u001b[39m, \u001b[39m*\u001b[39margs, \u001b[39m*\u001b[39m\u001b[39m*\u001b[39mkwargs):\n\u001b[1;32m---> 94\u001b[0m     \u001b[39mreturn\u001b[39;00m \u001b[39mself\u001b[39;49m\u001b[39m.\u001b[39;49m_delegate_method(name, \u001b[39m*\u001b[39;49margs, \u001b[39m*\u001b[39;49m\u001b[39m*\u001b[39;49mkwargs)\n",
      "File \u001b[1;32mc:\\Program Files\\Python311\\Lib\\site-packages\\pandas\\core\\indexes\\accessors.py:126\u001b[0m, in \u001b[0;36mProperties._delegate_method\u001b[1;34m(self, name, *args, **kwargs)\u001b[0m\n\u001b[0;32m    123\u001b[0m values \u001b[39m=\u001b[39m \u001b[39mself\u001b[39m\u001b[39m.\u001b[39m_get_values()\n\u001b[0;32m    125\u001b[0m method \u001b[39m=\u001b[39m \u001b[39mgetattr\u001b[39m(values, name)\n\u001b[1;32m--> 126\u001b[0m result \u001b[39m=\u001b[39m method(\u001b[39m*\u001b[39;49margs, \u001b[39m*\u001b[39;49m\u001b[39m*\u001b[39;49mkwargs)\n\u001b[0;32m    128\u001b[0m \u001b[39mif\u001b[39;00m \u001b[39mnot\u001b[39;00m is_list_like(result):\n\u001b[0;32m    129\u001b[0m     \u001b[39mreturn\u001b[39;00m result\n",
      "File \u001b[1;32mc:\\Program Files\\Python311\\Lib\\site-packages\\pandas\\core\\indexes\\datetimes.py:281\u001b[0m, in \u001b[0;36mDatetimeIndex.tz_localize\u001b[1;34m(self, tz, ambiguous, nonexistent)\u001b[0m\n\u001b[0;32m    279\u001b[0m \u001b[39m@doc\u001b[39m(DatetimeArray\u001b[39m.\u001b[39mtz_localize)\n\u001b[0;32m    280\u001b[0m \u001b[39mdef\u001b[39;00m \u001b[39mtz_localize\u001b[39m(\u001b[39mself\u001b[39m, tz, ambiguous\u001b[39m=\u001b[39m\u001b[39m\"\u001b[39m\u001b[39mraise\u001b[39m\u001b[39m\"\u001b[39m, nonexistent\u001b[39m=\u001b[39m\u001b[39m\"\u001b[39m\u001b[39mraise\u001b[39m\u001b[39m\"\u001b[39m) \u001b[39m-\u001b[39m\u001b[39m>\u001b[39m DatetimeIndex:\n\u001b[1;32m--> 281\u001b[0m     arr \u001b[39m=\u001b[39m \u001b[39mself\u001b[39;49m\u001b[39m.\u001b[39;49m_data\u001b[39m.\u001b[39;49mtz_localize(tz, ambiguous, nonexistent)\n\u001b[0;32m    282\u001b[0m     \u001b[39mreturn\u001b[39;00m \u001b[39mtype\u001b[39m(\u001b[39mself\u001b[39m)\u001b[39m.\u001b[39m_simple_new(arr, name\u001b[39m=\u001b[39m\u001b[39mself\u001b[39m\u001b[39m.\u001b[39mname)\n",
      "File \u001b[1;32mc:\\Program Files\\Python311\\Lib\\site-packages\\pandas\\core\\arrays\\_mixins.py:85\u001b[0m, in \u001b[0;36mravel_compat.<locals>.method\u001b[1;34m(self, *args, **kwargs)\u001b[0m\n\u001b[0;32m     82\u001b[0m \u001b[39m@wraps\u001b[39m(meth)\n\u001b[0;32m     83\u001b[0m \u001b[39mdef\u001b[39;00m \u001b[39mmethod\u001b[39m(\u001b[39mself\u001b[39m, \u001b[39m*\u001b[39margs, \u001b[39m*\u001b[39m\u001b[39m*\u001b[39mkwargs):\n\u001b[0;32m     84\u001b[0m     \u001b[39mif\u001b[39;00m \u001b[39mself\u001b[39m\u001b[39m.\u001b[39mndim \u001b[39m==\u001b[39m \u001b[39m1\u001b[39m:\n\u001b[1;32m---> 85\u001b[0m         \u001b[39mreturn\u001b[39;00m meth(\u001b[39mself\u001b[39;49m, \u001b[39m*\u001b[39;49margs, \u001b[39m*\u001b[39;49m\u001b[39m*\u001b[39;49mkwargs)\n\u001b[0;32m     87\u001b[0m     flags \u001b[39m=\u001b[39m \u001b[39mself\u001b[39m\u001b[39m.\u001b[39m_ndarray\u001b[39m.\u001b[39mflags\n\u001b[0;32m     88\u001b[0m     flat \u001b[39m=\u001b[39m \u001b[39mself\u001b[39m\u001b[39m.\u001b[39mravel(\u001b[39m\"\u001b[39m\u001b[39mK\u001b[39m\u001b[39m\"\u001b[39m)\n",
      "File \u001b[1;32mc:\\Program Files\\Python311\\Lib\\site-packages\\pandas\\core\\arrays\\datetimes.py:987\u001b[0m, in \u001b[0;36mDatetimeArray.tz_localize\u001b[1;34m(self, tz, ambiguous, nonexistent)\u001b[0m\n\u001b[0;32m    984\u001b[0m     tz \u001b[39m=\u001b[39m timezones\u001b[39m.\u001b[39mmaybe_get_tz(tz)\n\u001b[0;32m    985\u001b[0m     \u001b[39m# Convert to UTC\u001b[39;00m\n\u001b[1;32m--> 987\u001b[0m     new_dates \u001b[39m=\u001b[39m tzconversion\u001b[39m.\u001b[39;49mtz_localize_to_utc(\n\u001b[0;32m    988\u001b[0m         \u001b[39mself\u001b[39;49m\u001b[39m.\u001b[39;49masi8,\n\u001b[0;32m    989\u001b[0m         tz,\n\u001b[0;32m    990\u001b[0m         ambiguous\u001b[39m=\u001b[39;49mambiguous,\n\u001b[0;32m    991\u001b[0m         nonexistent\u001b[39m=\u001b[39;49mnonexistent,\n\u001b[0;32m    992\u001b[0m         reso\u001b[39m=\u001b[39;49m\u001b[39mself\u001b[39;49m\u001b[39m.\u001b[39;49m_reso,\n\u001b[0;32m    993\u001b[0m     )\n\u001b[0;32m    994\u001b[0m new_dates \u001b[39m=\u001b[39m new_dates\u001b[39m.\u001b[39mview(\u001b[39mf\u001b[39m\u001b[39m\"\u001b[39m\u001b[39mM8[\u001b[39m\u001b[39m{\u001b[39;00m\u001b[39mself\u001b[39m\u001b[39m.\u001b[39m_unit\u001b[39m}\u001b[39;00m\u001b[39m]\u001b[39m\u001b[39m\"\u001b[39m)\n\u001b[0;32m    995\u001b[0m dtype \u001b[39m=\u001b[39m tz_to_dtype(tz, unit\u001b[39m=\u001b[39m\u001b[39mself\u001b[39m\u001b[39m.\u001b[39m_unit)\n",
      "File \u001b[1;32mc:\\Program Files\\Python311\\Lib\\site-packages\\pandas\\_libs\\tslibs\\tzconversion.pyx:391\u001b[0m, in \u001b[0;36mpandas._libs.tslibs.tzconversion.tz_localize_to_utc\u001b[1;34m()\u001b[0m\n",
      "\u001b[1;31mNonExistentTimeError\u001b[0m: 2022-03-27 02:00:00"
     ]
    }
   ],
   "source": [
    "# Example 24: Using tz_localize and tz_convert with different time zones\n",
    "df['datetime_berlin'] = df['datetime'].dt.tz_localize('Europe/Berlin')\n",
    "df['datetime_utc_berlin'] = df['datetime_berlin'].dt.tz_convert('UTC')\n"
   ]
  },
  {
   "cell_type": "code",
   "execution_count": 27,
   "metadata": {},
   "outputs": [],
   "source": [
    "# Example 25: Using date_range with time zones\n",
    "date_rng_new_york = pd.date_range(start='2022-01-01', end='2022-12-31', freq='D', tz='US/Eastern')\n"
   ]
  },
  {
   "cell_type": "code",
   "execution_count": 28,
   "metadata": {},
   "outputs": [
    {
     "name": "stdout",
     "output_type": "stream",
     "text": [
      "             datetime  value              datetime_utc  \\\n",
      "0 2022-01-01 00:00:00      0 2022-01-01 00:00:00+00:00   \n",
      "1 2022-01-01 01:00:00      1 2022-01-01 01:00:00+00:00   \n",
      "2 2022-01-01 02:00:00      2 2022-01-01 02:00:00+00:00   \n",
      "3 2022-01-01 03:00:00      3 2022-01-01 03:00:00+00:00   \n",
      "4 2022-01-01 04:00:00      4 2022-01-01 04:00:00+00:00   \n",
      "\n",
      "          datetime_new_york  is_dst_spring  is_dst_fall  \\\n",
      "0 2021-12-31 19:00:00-05:00          False        False   \n",
      "1 2021-12-31 20:00:00-05:00          False        False   \n",
      "2 2021-12-31 21:00:00-05:00          False        False   \n",
      "3 2021-12-31 22:00:00-05:00          False        False   \n",
      "4 2021-12-31 23:00:00-05:00          False        False   \n",
      "\n",
      "            datetime_london            datetime_tokyo  \\\n",
      "0 2022-01-01 00:00:00+00:00 2022-01-01 09:00:00+09:00   \n",
      "1 2022-01-01 01:00:00+00:00 2022-01-01 10:00:00+09:00   \n",
      "2 2022-01-01 02:00:00+00:00 2022-01-01 11:00:00+09:00   \n",
      "3 2022-01-01 03:00:00+00:00 2022-01-01 12:00:00+09:00   \n",
      "4 2022-01-01 04:00:00+00:00 2022-01-01 13:00:00+09:00   \n",
      "\n",
      "           spring_dst_rules            fall_dst_rules  hour  \\\n",
      "0 2021-12-31 19:00:00-05:00 2021-12-31 19:00:00-05:00    19   \n",
      "1 2021-12-31 20:00:00-05:00 2021-12-31 20:00:00-05:00    20   \n",
      "2 2021-12-31 21:00:00-05:00 2021-12-31 21:00:00-05:00    21   \n",
      "3 2021-12-31 22:00:00-05:00 2021-12-31 22:00:00-05:00    22   \n",
      "4 2021-12-31 23:00:00-05:00 2021-12-31 23:00:00-05:00    23   \n",
      "\n",
      "                             hour_utc       time_diff          timezone  \\\n",
      "0 1970-01-01 00:00:00.000000019+00:00             NaT  America/New_York   \n",
      "1 1970-01-01 00:00:00.000000020+00:00 0 days 01:00:00  America/New_York   \n",
      "2 1970-01-01 00:00:00.000000021+00:00 0 days 01:00:00  America/New_York   \n",
      "3 1970-01-01 00:00:00.000000022+00:00 0 days 01:00:00  America/New_York   \n",
      "4 1970-01-01 00:00:00.000000023+00:00 0 days 01:00:00  America/New_York   \n",
      "\n",
      "  weekday  hour_diff  time_diff_hours                 next_hour  \n",
      "0  Friday         19              NaN 2021-12-31 20:00:00-05:00  \n",
      "1  Friday         19              1.0 2021-12-31 21:00:00-05:00  \n",
      "2  Friday         19              1.0 2021-12-31 22:00:00-05:00  \n",
      "3  Friday         19              1.0 2021-12-31 23:00:00-05:00  \n",
      "4  Friday         19              1.0 2022-01-01 00:00:00-05:00  \n"
     ]
    }
   ],
   "source": [
    "# Display a sample of the DataFrame\n",
    "print(df.head())"
   ]
  },
  {
   "cell_type": "code",
   "execution_count": 29,
   "metadata": {},
   "outputs": [],
   "source": [
    "# Example 26: Handling time zones with timedelta\n",
    "df['time_until_next_hour'] = df['next_hour'] - df['datetime_new_york']\n"
   ]
  },
  {
   "cell_type": "code",
   "execution_count": 30,
   "metadata": {},
   "outputs": [
    {
     "ename": "NonExistentTimeError",
     "evalue": "2022-03-13 02:00:00",
     "output_type": "error",
     "traceback": [
      "\u001b[1;31m---------------------------------------------------------------------------\u001b[0m",
      "\u001b[1;31mNonExistentTimeError\u001b[0m                      Traceback (most recent call last)",
      "Cell \u001b[1;32mIn[30], line 2\u001b[0m\n\u001b[0;32m      1\u001b[0m \u001b[39m# Example 27: Handling time zones with date offsets\u001b[39;00m\n\u001b[1;32m----> 2\u001b[0m df[\u001b[39m'\u001b[39m\u001b[39mnext_business_day\u001b[39m\u001b[39m'\u001b[39m] \u001b[39m=\u001b[39m df[\u001b[39m'\u001b[39;49m\u001b[39mdatetime_new_york\u001b[39;49m\u001b[39m'\u001b[39;49m] \u001b[39m+\u001b[39;49m pd\u001b[39m.\u001b[39;49mDateOffset(days\u001b[39m=\u001b[39;49m\u001b[39m1\u001b[39;49m)\n",
      "File \u001b[1;32mc:\\Program Files\\Python311\\Lib\\site-packages\\pandas\\core\\ops\\common.py:72\u001b[0m, in \u001b[0;36m_unpack_zerodim_and_defer.<locals>.new_method\u001b[1;34m(self, other)\u001b[0m\n\u001b[0;32m     68\u001b[0m             \u001b[39mreturn\u001b[39;00m \u001b[39mNotImplemented\u001b[39m\n\u001b[0;32m     70\u001b[0m other \u001b[39m=\u001b[39m item_from_zerodim(other)\n\u001b[1;32m---> 72\u001b[0m \u001b[39mreturn\u001b[39;00m method(\u001b[39mself\u001b[39;49m, other)\n",
      "File \u001b[1;32mc:\\Program Files\\Python311\\Lib\\site-packages\\pandas\\core\\arraylike.py:102\u001b[0m, in \u001b[0;36mOpsMixin.__add__\u001b[1;34m(self, other)\u001b[0m\n\u001b[0;32m    100\u001b[0m \u001b[39m@unpack_zerodim_and_defer\u001b[39m(\u001b[39m\"\u001b[39m\u001b[39m__add__\u001b[39m\u001b[39m\"\u001b[39m)\n\u001b[0;32m    101\u001b[0m \u001b[39mdef\u001b[39;00m \u001b[39m__add__\u001b[39m(\u001b[39mself\u001b[39m, other):\n\u001b[1;32m--> 102\u001b[0m     \u001b[39mreturn\u001b[39;00m \u001b[39mself\u001b[39;49m\u001b[39m.\u001b[39;49m_arith_method(other, operator\u001b[39m.\u001b[39;49madd)\n",
      "File \u001b[1;32mc:\\Program Files\\Python311\\Lib\\site-packages\\pandas\\core\\series.py:6259\u001b[0m, in \u001b[0;36mSeries._arith_method\u001b[1;34m(self, other, op)\u001b[0m\n\u001b[0;32m   6257\u001b[0m \u001b[39mdef\u001b[39;00m \u001b[39m_arith_method\u001b[39m(\u001b[39mself\u001b[39m, other, op):\n\u001b[0;32m   6258\u001b[0m     \u001b[39mself\u001b[39m, other \u001b[39m=\u001b[39m ops\u001b[39m.\u001b[39malign_method_SERIES(\u001b[39mself\u001b[39m, other)\n\u001b[1;32m-> 6259\u001b[0m     \u001b[39mreturn\u001b[39;00m base\u001b[39m.\u001b[39;49mIndexOpsMixin\u001b[39m.\u001b[39;49m_arith_method(\u001b[39mself\u001b[39;49m, other, op)\n",
      "File \u001b[1;32mc:\\Program Files\\Python311\\Lib\\site-packages\\pandas\\core\\base.py:1325\u001b[0m, in \u001b[0;36mIndexOpsMixin._arith_method\u001b[1;34m(self, other, op)\u001b[0m\n\u001b[0;32m   1322\u001b[0m rvalues \u001b[39m=\u001b[39m ensure_wrapped_if_datetimelike(rvalues)\n\u001b[0;32m   1324\u001b[0m \u001b[39mwith\u001b[39;00m np\u001b[39m.\u001b[39merrstate(\u001b[39mall\u001b[39m\u001b[39m=\u001b[39m\u001b[39m\"\u001b[39m\u001b[39mignore\u001b[39m\u001b[39m\"\u001b[39m):\n\u001b[1;32m-> 1325\u001b[0m     result \u001b[39m=\u001b[39m ops\u001b[39m.\u001b[39;49marithmetic_op(lvalues, rvalues, op)\n\u001b[0;32m   1327\u001b[0m \u001b[39mreturn\u001b[39;00m \u001b[39mself\u001b[39m\u001b[39m.\u001b[39m_construct_result(result, name\u001b[39m=\u001b[39mres_name)\n",
      "File \u001b[1;32mc:\\Program Files\\Python311\\Lib\\site-packages\\pandas\\core\\ops\\array_ops.py:218\u001b[0m, in \u001b[0;36marithmetic_op\u001b[1;34m(left, right, op)\u001b[0m\n\u001b[0;32m    205\u001b[0m \u001b[39m# NB: We assume that extract_array and ensure_wrapped_if_datetimelike\u001b[39;00m\n\u001b[0;32m    206\u001b[0m \u001b[39m#  have already been called on `left` and `right`,\u001b[39;00m\n\u001b[0;32m    207\u001b[0m \u001b[39m#  and `maybe_prepare_scalar_for_op` has already been called on `right`\u001b[39;00m\n\u001b[0;32m    208\u001b[0m \u001b[39m# We need to special-case datetime64/timedelta64 dtypes (e.g. because numpy\u001b[39;00m\n\u001b[0;32m    209\u001b[0m \u001b[39m# casts integer dtypes to timedelta64 when operating with timedelta64 - GH#22390)\u001b[39;00m\n\u001b[0;32m    211\u001b[0m \u001b[39mif\u001b[39;00m (\n\u001b[0;32m    212\u001b[0m     should_extension_dispatch(left, right)\n\u001b[0;32m    213\u001b[0m     \u001b[39mor\u001b[39;00m \u001b[39misinstance\u001b[39m(right, (Timedelta, BaseOffset, Timestamp))\n\u001b[1;32m   (...)\u001b[0m\n\u001b[0;32m    216\u001b[0m     \u001b[39m# Timedelta/Timestamp and other custom scalars are included in the check\u001b[39;00m\n\u001b[0;32m    217\u001b[0m     \u001b[39m# because numexpr will fail on it, see GH#31457\u001b[39;00m\n\u001b[1;32m--> 218\u001b[0m     res_values \u001b[39m=\u001b[39m op(left, right)\n\u001b[0;32m    219\u001b[0m \u001b[39melse\u001b[39;00m:\n\u001b[0;32m    220\u001b[0m     \u001b[39m# TODO we should handle EAs consistently and move this check before the if/else\u001b[39;00m\n\u001b[0;32m    221\u001b[0m     \u001b[39m# (https://github.com/pandas-dev/pandas/issues/41165)\u001b[39;00m\n\u001b[0;32m    222\u001b[0m     _bool_arith_check(op, left, right)\n",
      "File \u001b[1;32mc:\\Program Files\\Python311\\Lib\\site-packages\\pandas\\core\\ops\\common.py:72\u001b[0m, in \u001b[0;36m_unpack_zerodim_and_defer.<locals>.new_method\u001b[1;34m(self, other)\u001b[0m\n\u001b[0;32m     68\u001b[0m             \u001b[39mreturn\u001b[39;00m \u001b[39mNotImplemented\u001b[39m\n\u001b[0;32m     70\u001b[0m other \u001b[39m=\u001b[39m item_from_zerodim(other)\n\u001b[1;32m---> 72\u001b[0m \u001b[39mreturn\u001b[39;00m method(\u001b[39mself\u001b[39;49m, other)\n",
      "File \u001b[1;32mc:\\Program Files\\Python311\\Lib\\site-packages\\pandas\\core\\arrays\\datetimelike.py:1439\u001b[0m, in \u001b[0;36mDatetimeLikeArrayMixin.__add__\u001b[1;34m(self, other)\u001b[0m\n\u001b[0;32m   1436\u001b[0m     result \u001b[39m=\u001b[39m \u001b[39mself\u001b[39m\u001b[39m.\u001b[39m_add_timedeltalike_scalar(other)\n\u001b[0;32m   1437\u001b[0m \u001b[39melif\u001b[39;00m \u001b[39misinstance\u001b[39m(other, BaseOffset):\n\u001b[0;32m   1438\u001b[0m     \u001b[39m# specifically _not_ a Tick\u001b[39;00m\n\u001b[1;32m-> 1439\u001b[0m     result \u001b[39m=\u001b[39m \u001b[39mself\u001b[39;49m\u001b[39m.\u001b[39;49m_add_offset(other)\n\u001b[0;32m   1440\u001b[0m \u001b[39melif\u001b[39;00m \u001b[39misinstance\u001b[39m(other, (datetime, np\u001b[39m.\u001b[39mdatetime64)):\n\u001b[0;32m   1441\u001b[0m     result \u001b[39m=\u001b[39m \u001b[39mself\u001b[39m\u001b[39m.\u001b[39m_add_datetimelike_scalar(other)\n",
      "File \u001b[1;32mc:\\Program Files\\Python311\\Lib\\site-packages\\pandas\\core\\arrays\\datetimes.py:732\u001b[0m, in \u001b[0;36mDatetimeArray._add_offset\u001b[1;34m(self, offset)\u001b[0m\n\u001b[0;32m    729\u001b[0m     result \u001b[39m=\u001b[39m DatetimeArray\u001b[39m.\u001b[39m_simple_new(result, dtype\u001b[39m=\u001b[39mresult\u001b[39m.\u001b[39mdtype)\n\u001b[0;32m    730\u001b[0m     \u001b[39mif\u001b[39;00m \u001b[39mself\u001b[39m\u001b[39m.\u001b[39mtz \u001b[39mis\u001b[39;00m \u001b[39mnot\u001b[39;00m \u001b[39mNone\u001b[39;00m:\n\u001b[0;32m    731\u001b[0m         \u001b[39m# FIXME: tz_localize with non-nano\u001b[39;00m\n\u001b[1;32m--> 732\u001b[0m         result \u001b[39m=\u001b[39m result\u001b[39m.\u001b[39;49mtz_localize(\u001b[39mself\u001b[39;49m\u001b[39m.\u001b[39;49mtz)\n\u001b[0;32m    734\u001b[0m \u001b[39mreturn\u001b[39;00m result\n",
      "File \u001b[1;32mc:\\Program Files\\Python311\\Lib\\site-packages\\pandas\\core\\arrays\\_mixins.py:85\u001b[0m, in \u001b[0;36mravel_compat.<locals>.method\u001b[1;34m(self, *args, **kwargs)\u001b[0m\n\u001b[0;32m     82\u001b[0m \u001b[39m@wraps\u001b[39m(meth)\n\u001b[0;32m     83\u001b[0m \u001b[39mdef\u001b[39;00m \u001b[39mmethod\u001b[39m(\u001b[39mself\u001b[39m, \u001b[39m*\u001b[39margs, \u001b[39m*\u001b[39m\u001b[39m*\u001b[39mkwargs):\n\u001b[0;32m     84\u001b[0m     \u001b[39mif\u001b[39;00m \u001b[39mself\u001b[39m\u001b[39m.\u001b[39mndim \u001b[39m==\u001b[39m \u001b[39m1\u001b[39m:\n\u001b[1;32m---> 85\u001b[0m         \u001b[39mreturn\u001b[39;00m meth(\u001b[39mself\u001b[39;49m, \u001b[39m*\u001b[39;49margs, \u001b[39m*\u001b[39;49m\u001b[39m*\u001b[39;49mkwargs)\n\u001b[0;32m     87\u001b[0m     flags \u001b[39m=\u001b[39m \u001b[39mself\u001b[39m\u001b[39m.\u001b[39m_ndarray\u001b[39m.\u001b[39mflags\n\u001b[0;32m     88\u001b[0m     flat \u001b[39m=\u001b[39m \u001b[39mself\u001b[39m\u001b[39m.\u001b[39mravel(\u001b[39m\"\u001b[39m\u001b[39mK\u001b[39m\u001b[39m\"\u001b[39m)\n",
      "File \u001b[1;32mc:\\Program Files\\Python311\\Lib\\site-packages\\pandas\\core\\arrays\\datetimes.py:987\u001b[0m, in \u001b[0;36mDatetimeArray.tz_localize\u001b[1;34m(self, tz, ambiguous, nonexistent)\u001b[0m\n\u001b[0;32m    984\u001b[0m     tz \u001b[39m=\u001b[39m timezones\u001b[39m.\u001b[39mmaybe_get_tz(tz)\n\u001b[0;32m    985\u001b[0m     \u001b[39m# Convert to UTC\u001b[39;00m\n\u001b[1;32m--> 987\u001b[0m     new_dates \u001b[39m=\u001b[39m tzconversion\u001b[39m.\u001b[39;49mtz_localize_to_utc(\n\u001b[0;32m    988\u001b[0m         \u001b[39mself\u001b[39;49m\u001b[39m.\u001b[39;49masi8,\n\u001b[0;32m    989\u001b[0m         tz,\n\u001b[0;32m    990\u001b[0m         ambiguous\u001b[39m=\u001b[39;49mambiguous,\n\u001b[0;32m    991\u001b[0m         nonexistent\u001b[39m=\u001b[39;49mnonexistent,\n\u001b[0;32m    992\u001b[0m         reso\u001b[39m=\u001b[39;49m\u001b[39mself\u001b[39;49m\u001b[39m.\u001b[39;49m_reso,\n\u001b[0;32m    993\u001b[0m     )\n\u001b[0;32m    994\u001b[0m new_dates \u001b[39m=\u001b[39m new_dates\u001b[39m.\u001b[39mview(\u001b[39mf\u001b[39m\u001b[39m\"\u001b[39m\u001b[39mM8[\u001b[39m\u001b[39m{\u001b[39;00m\u001b[39mself\u001b[39m\u001b[39m.\u001b[39m_unit\u001b[39m}\u001b[39;00m\u001b[39m]\u001b[39m\u001b[39m\"\u001b[39m)\n\u001b[0;32m    995\u001b[0m dtype \u001b[39m=\u001b[39m tz_to_dtype(tz, unit\u001b[39m=\u001b[39m\u001b[39mself\u001b[39m\u001b[39m.\u001b[39m_unit)\n",
      "File \u001b[1;32mc:\\Program Files\\Python311\\Lib\\site-packages\\pandas\\_libs\\tslibs\\tzconversion.pyx:391\u001b[0m, in \u001b[0;36mpandas._libs.tslibs.tzconversion.tz_localize_to_utc\u001b[1;34m()\u001b[0m\n",
      "\u001b[1;31mNonExistentTimeError\u001b[0m: 2022-03-13 02:00:00"
     ]
    }
   ],
   "source": [
    "# Example 27: Handling time zones with date offsets\n",
    "df['next_business_day'] = df['datetime_new_york'] + pd.DateOffset(days=1)\n"
   ]
  },
  {
   "cell_type": "code",
   "execution_count": 31,
   "metadata": {},
   "outputs": [],
   "source": [
    "# Example 28: Handling time zones with reindexing\n",
    "df_reindexed = df.set_index('datetime_new_york').reindex(date_rng_new_york)"
   ]
  },
  {
   "cell_type": "code",
   "execution_count": 32,
   "metadata": {},
   "outputs": [
    {
     "ename": "ValueError",
     "evalue": "window must be an integer 0 or greater",
     "output_type": "error",
     "traceback": [
      "\u001b[1;31m---------------------------------------------------------------------------\u001b[0m",
      "\u001b[1;31mValueError\u001b[0m                                Traceback (most recent call last)",
      "Cell \u001b[1;32mIn[32], line 2\u001b[0m\n\u001b[0;32m      1\u001b[0m \u001b[39m# Example 29: Handling time zones with rolling windows\u001b[39;00m\n\u001b[1;32m----> 2\u001b[0m rolling_window \u001b[39m=\u001b[39m df[\u001b[39m'\u001b[39;49m\u001b[39mvalue\u001b[39;49m\u001b[39m'\u001b[39;49m]\u001b[39m.\u001b[39;49mrolling(\u001b[39m'\u001b[39;49m\u001b[39m6H\u001b[39;49m\u001b[39m'\u001b[39;49m, closed\u001b[39m=\u001b[39;49m\u001b[39m'\u001b[39;49m\u001b[39mright\u001b[39;49m\u001b[39m'\u001b[39;49m)\u001b[39m.\u001b[39msum()\n",
      "File \u001b[1;32mc:\\Program Files\\Python311\\Lib\\site-packages\\pandas\\core\\generic.py:11999\u001b[0m, in \u001b[0;36mNDFrame.rolling\u001b[1;34m(self, window, min_periods, center, win_type, on, axis, closed, step, method)\u001b[0m\n\u001b[0;32m  11985\u001b[0m \u001b[39mif\u001b[39;00m win_type \u001b[39mis\u001b[39;00m \u001b[39mnot\u001b[39;00m \u001b[39mNone\u001b[39;00m:\n\u001b[0;32m  11986\u001b[0m     \u001b[39mreturn\u001b[39;00m Window(\n\u001b[0;32m  11987\u001b[0m         \u001b[39mself\u001b[39m,\n\u001b[0;32m  11988\u001b[0m         window\u001b[39m=\u001b[39mwindow,\n\u001b[1;32m   (...)\u001b[0m\n\u001b[0;32m  11996\u001b[0m         method\u001b[39m=\u001b[39mmethod,\n\u001b[0;32m  11997\u001b[0m     )\n\u001b[1;32m> 11999\u001b[0m \u001b[39mreturn\u001b[39;00m Rolling(\n\u001b[0;32m  12000\u001b[0m     \u001b[39mself\u001b[39;49m,\n\u001b[0;32m  12001\u001b[0m     window\u001b[39m=\u001b[39;49mwindow,\n\u001b[0;32m  12002\u001b[0m     min_periods\u001b[39m=\u001b[39;49mmin_periods,\n\u001b[0;32m  12003\u001b[0m     center\u001b[39m=\u001b[39;49mcenter,\n\u001b[0;32m  12004\u001b[0m     win_type\u001b[39m=\u001b[39;49mwin_type,\n\u001b[0;32m  12005\u001b[0m     on\u001b[39m=\u001b[39;49mon,\n\u001b[0;32m  12006\u001b[0m     axis\u001b[39m=\u001b[39;49maxis,\n\u001b[0;32m  12007\u001b[0m     closed\u001b[39m=\u001b[39;49mclosed,\n\u001b[0;32m  12008\u001b[0m     step\u001b[39m=\u001b[39;49mstep,\n\u001b[0;32m  12009\u001b[0m     method\u001b[39m=\u001b[39;49mmethod,\n\u001b[0;32m  12010\u001b[0m )\n",
      "File \u001b[1;32mc:\\Program Files\\Python311\\Lib\\site-packages\\pandas\\core\\window\\rolling.py:165\u001b[0m, in \u001b[0;36mBaseWindow.__init__\u001b[1;34m(self, obj, window, min_periods, center, win_type, axis, on, closed, step, method, selection)\u001b[0m\n\u001b[0;32m    159\u001b[0m     \u001b[39mraise\u001b[39;00m \u001b[39mValueError\u001b[39;00m(\n\u001b[0;32m    160\u001b[0m         \u001b[39mf\u001b[39m\u001b[39m\"\u001b[39m\u001b[39minvalid on specified as \u001b[39m\u001b[39m{\u001b[39;00m\u001b[39mself\u001b[39m\u001b[39m.\u001b[39mon\u001b[39m}\u001b[39;00m\u001b[39m, \u001b[39m\u001b[39m\"\u001b[39m\n\u001b[0;32m    161\u001b[0m         \u001b[39m\"\u001b[39m\u001b[39mmust be a column (of DataFrame), an Index or None\u001b[39m\u001b[39m\"\u001b[39m\n\u001b[0;32m    162\u001b[0m     )\n\u001b[0;32m    164\u001b[0m \u001b[39mself\u001b[39m\u001b[39m.\u001b[39m_selection \u001b[39m=\u001b[39m selection\n\u001b[1;32m--> 165\u001b[0m \u001b[39mself\u001b[39;49m\u001b[39m.\u001b[39;49m_validate()\n",
      "File \u001b[1;32mc:\\Program Files\\Python311\\Lib\\site-packages\\pandas\\core\\window\\rolling.py:1862\u001b[0m, in \u001b[0;36mRolling._validate\u001b[1;34m(self)\u001b[0m\n\u001b[0;32m   1860\u001b[0m     \u001b[39mpass\u001b[39;00m\n\u001b[0;32m   1861\u001b[0m \u001b[39melif\u001b[39;00m \u001b[39mnot\u001b[39;00m is_integer(\u001b[39mself\u001b[39m\u001b[39m.\u001b[39mwindow) \u001b[39mor\u001b[39;00m \u001b[39mself\u001b[39m\u001b[39m.\u001b[39mwindow \u001b[39m<\u001b[39m \u001b[39m0\u001b[39m:\n\u001b[1;32m-> 1862\u001b[0m     \u001b[39mraise\u001b[39;00m \u001b[39mValueError\u001b[39;00m(\u001b[39m\"\u001b[39m\u001b[39mwindow must be an integer 0 or greater\u001b[39m\u001b[39m\"\u001b[39m)\n",
      "\u001b[1;31mValueError\u001b[0m: window must be an integer 0 or greater"
     ]
    }
   ],
   "source": [
    "# Example 29: Handling time zones with rolling windows\n",
    "rolling_window = df['value'].rolling('6H', closed='right').sum()\n"
   ]
  },
  {
   "cell_type": "code",
   "execution_count": 33,
   "metadata": {},
   "outputs": [],
   "source": [
    "# Example 30: Handling time zones with expanding windows\n",
    "expanding_window = df['value'].expanding(min_periods=1).sum()\n"
   ]
  },
  {
   "cell_type": "code",
   "execution_count": 34,
   "metadata": {},
   "outputs": [],
   "source": [
    "# Example 31: Handling time zones with shifting\n",
    "df['value_shifted'] = df['value'].shift(1)"
   ]
  },
  {
   "cell_type": "code",
   "execution_count": 35,
   "metadata": {},
   "outputs": [
    {
     "ename": "ValueError",
     "evalue": "Invalid fill method. Expecting pad (ffill) or backfill (bfill). Got time",
     "output_type": "error",
     "traceback": [
      "\u001b[1;31m---------------------------------------------------------------------------\u001b[0m",
      "\u001b[1;31mValueError\u001b[0m                                Traceback (most recent call last)",
      "Cell \u001b[1;32mIn[35], line 2\u001b[0m\n\u001b[0;32m      1\u001b[0m \u001b[39m# Example 32: Handling time zones with interpolate\u001b[39;00m\n\u001b[1;32m----> 2\u001b[0m df_interpolated \u001b[39m=\u001b[39m df\u001b[39m.\u001b[39;49mset_index(\u001b[39m'\u001b[39;49m\u001b[39mdatetime_new_york\u001b[39;49m\u001b[39m'\u001b[39;49m)\u001b[39m.\u001b[39;49minterpolate(method\u001b[39m=\u001b[39;49m\u001b[39m'\u001b[39;49m\u001b[39mtime\u001b[39;49m\u001b[39m'\u001b[39;49m)\n",
      "File \u001b[1;32mc:\\Program Files\\Python311\\Lib\\site-packages\\pandas\\util\\_decorators.py:331\u001b[0m, in \u001b[0;36mdeprecate_nonkeyword_arguments.<locals>.decorate.<locals>.wrapper\u001b[1;34m(*args, **kwargs)\u001b[0m\n\u001b[0;32m    325\u001b[0m \u001b[39mif\u001b[39;00m \u001b[39mlen\u001b[39m(args) \u001b[39m>\u001b[39m num_allow_args:\n\u001b[0;32m    326\u001b[0m     warnings\u001b[39m.\u001b[39mwarn(\n\u001b[0;32m    327\u001b[0m         msg\u001b[39m.\u001b[39mformat(arguments\u001b[39m=\u001b[39m_format_argument_list(allow_args)),\n\u001b[0;32m    328\u001b[0m         \u001b[39mFutureWarning\u001b[39;00m,\n\u001b[0;32m    329\u001b[0m         stacklevel\u001b[39m=\u001b[39mfind_stack_level(),\n\u001b[0;32m    330\u001b[0m     )\n\u001b[1;32m--> 331\u001b[0m \u001b[39mreturn\u001b[39;00m func(\u001b[39m*\u001b[39;49margs, \u001b[39m*\u001b[39;49m\u001b[39m*\u001b[39;49mkwargs)\n",
      "File \u001b[1;32mc:\\Program Files\\Python311\\Lib\\site-packages\\pandas\\core\\frame.py:11855\u001b[0m, in \u001b[0;36mDataFrame.interpolate\u001b[1;34m(self, method, axis, limit, inplace, limit_direction, limit_area, downcast, **kwargs)\u001b[0m\n\u001b[0;32m  11843\u001b[0m \u001b[39m@deprecate_nonkeyword_arguments\u001b[39m(version\u001b[39m=\u001b[39m\u001b[39mNone\u001b[39;00m, allowed_args\u001b[39m=\u001b[39m[\u001b[39m\"\u001b[39m\u001b[39mself\u001b[39m\u001b[39m\"\u001b[39m, \u001b[39m\"\u001b[39m\u001b[39mmethod\u001b[39m\u001b[39m\"\u001b[39m])\n\u001b[0;32m  11844\u001b[0m \u001b[39mdef\u001b[39;00m \u001b[39minterpolate\u001b[39m(\n\u001b[0;32m  11845\u001b[0m     \u001b[39mself\u001b[39m: DataFrame,\n\u001b[1;32m   (...)\u001b[0m\n\u001b[0;32m  11853\u001b[0m     \u001b[39m*\u001b[39m\u001b[39m*\u001b[39mkwargs,\n\u001b[0;32m  11854\u001b[0m ) \u001b[39m-\u001b[39m\u001b[39m>\u001b[39m DataFrame \u001b[39m|\u001b[39m \u001b[39mNone\u001b[39;00m:\n\u001b[1;32m> 11855\u001b[0m     \u001b[39mreturn\u001b[39;00m \u001b[39msuper\u001b[39;49m()\u001b[39m.\u001b[39;49minterpolate(\n\u001b[0;32m  11856\u001b[0m         method,\n\u001b[0;32m  11857\u001b[0m         axis,\n\u001b[0;32m  11858\u001b[0m         limit,\n\u001b[0;32m  11859\u001b[0m         inplace,\n\u001b[0;32m  11860\u001b[0m         limit_direction,\n\u001b[0;32m  11861\u001b[0m         limit_area,\n\u001b[0;32m  11862\u001b[0m         downcast,\n\u001b[0;32m  11863\u001b[0m         \u001b[39m*\u001b[39;49m\u001b[39m*\u001b[39;49mkwargs,\n\u001b[0;32m  11864\u001b[0m     )\n",
      "File \u001b[1;32mc:\\Program Files\\Python311\\Lib\\site-packages\\pandas\\core\\generic.py:7568\u001b[0m, in \u001b[0;36mNDFrame.interpolate\u001b[1;34m(self, method, axis, limit, inplace, limit_direction, limit_area, downcast, **kwargs)\u001b[0m\n\u001b[0;32m   7562\u001b[0m \u001b[39mif\u001b[39;00m isna(index)\u001b[39m.\u001b[39many():\n\u001b[0;32m   7563\u001b[0m     \u001b[39mraise\u001b[39;00m \u001b[39mNotImplementedError\u001b[39;00m(\n\u001b[0;32m   7564\u001b[0m         \u001b[39m\"\u001b[39m\u001b[39mInterpolation with NaNs in the index \u001b[39m\u001b[39m\"\u001b[39m\n\u001b[0;32m   7565\u001b[0m         \u001b[39m\"\u001b[39m\u001b[39mhas not been implemented. Try filling \u001b[39m\u001b[39m\"\u001b[39m\n\u001b[0;32m   7566\u001b[0m         \u001b[39m\"\u001b[39m\u001b[39mthose NaNs before interpolating.\u001b[39m\u001b[39m\"\u001b[39m\n\u001b[0;32m   7567\u001b[0m     )\n\u001b[1;32m-> 7568\u001b[0m new_data \u001b[39m=\u001b[39m obj\u001b[39m.\u001b[39;49m_mgr\u001b[39m.\u001b[39;49minterpolate(\n\u001b[0;32m   7569\u001b[0m     method\u001b[39m=\u001b[39;49mmethod,\n\u001b[0;32m   7570\u001b[0m     axis\u001b[39m=\u001b[39;49maxis,\n\u001b[0;32m   7571\u001b[0m     index\u001b[39m=\u001b[39;49mindex,\n\u001b[0;32m   7572\u001b[0m     limit\u001b[39m=\u001b[39;49mlimit,\n\u001b[0;32m   7573\u001b[0m     limit_direction\u001b[39m=\u001b[39;49mlimit_direction,\n\u001b[0;32m   7574\u001b[0m     limit_area\u001b[39m=\u001b[39;49mlimit_area,\n\u001b[0;32m   7575\u001b[0m     inplace\u001b[39m=\u001b[39;49minplace,\n\u001b[0;32m   7576\u001b[0m     downcast\u001b[39m=\u001b[39;49mdowncast,\n\u001b[0;32m   7577\u001b[0m     \u001b[39m*\u001b[39;49m\u001b[39m*\u001b[39;49mkwargs,\n\u001b[0;32m   7578\u001b[0m )\n\u001b[0;32m   7580\u001b[0m result \u001b[39m=\u001b[39m \u001b[39mself\u001b[39m\u001b[39m.\u001b[39m_constructor(new_data)\n\u001b[0;32m   7581\u001b[0m \u001b[39mif\u001b[39;00m should_transpose:\n",
      "File \u001b[1;32mc:\\Program Files\\Python311\\Lib\\site-packages\\pandas\\core\\internals\\managers.py:422\u001b[0m, in \u001b[0;36mBaseBlockManager.interpolate\u001b[1;34m(self, **kwargs)\u001b[0m\n\u001b[0;32m    421\u001b[0m \u001b[39mdef\u001b[39;00m \u001b[39minterpolate\u001b[39m(\u001b[39mself\u001b[39m: T, \u001b[39m*\u001b[39m\u001b[39m*\u001b[39mkwargs) \u001b[39m-\u001b[39m\u001b[39m>\u001b[39m T:\n\u001b[1;32m--> 422\u001b[0m     \u001b[39mreturn\u001b[39;00m \u001b[39mself\u001b[39;49m\u001b[39m.\u001b[39;49mapply(\u001b[39m\"\u001b[39;49m\u001b[39minterpolate\u001b[39;49m\u001b[39m\"\u001b[39;49m, \u001b[39m*\u001b[39;49m\u001b[39m*\u001b[39;49mkwargs)\n",
      "File \u001b[1;32mc:\\Program Files\\Python311\\Lib\\site-packages\\pandas\\core\\internals\\managers.py:352\u001b[0m, in \u001b[0;36mBaseBlockManager.apply\u001b[1;34m(self, f, align_keys, ignore_failures, **kwargs)\u001b[0m\n\u001b[0;32m    350\u001b[0m         applied \u001b[39m=\u001b[39m b\u001b[39m.\u001b[39mapply(f, \u001b[39m*\u001b[39m\u001b[39m*\u001b[39mkwargs)\n\u001b[0;32m    351\u001b[0m     \u001b[39melse\u001b[39;00m:\n\u001b[1;32m--> 352\u001b[0m         applied \u001b[39m=\u001b[39m \u001b[39mgetattr\u001b[39;49m(b, f)(\u001b[39m*\u001b[39;49m\u001b[39m*\u001b[39;49mkwargs)\n\u001b[0;32m    353\u001b[0m \u001b[39mexcept\u001b[39;00m (\u001b[39mTypeError\u001b[39;00m, \u001b[39mNotImplementedError\u001b[39;00m):\n\u001b[0;32m    354\u001b[0m     \u001b[39mif\u001b[39;00m \u001b[39mnot\u001b[39;00m ignore_failures:\n",
      "File \u001b[1;32mc:\\Program Files\\Python311\\Lib\\site-packages\\pandas\\core\\internals\\blocks.py:1619\u001b[0m, in \u001b[0;36mEABackedBlock.interpolate\u001b[1;34m(self, method, axis, inplace, limit, fill_value, **kwargs)\u001b[0m\n\u001b[0;32m   1617\u001b[0m     new_values \u001b[39m=\u001b[39m values\u001b[39m.\u001b[39mT\u001b[39m.\u001b[39mfillna(value\u001b[39m=\u001b[39mfill_value, method\u001b[39m=\u001b[39mmethod, limit\u001b[39m=\u001b[39mlimit)\u001b[39m.\u001b[39mT\n\u001b[0;32m   1618\u001b[0m \u001b[39melse\u001b[39;00m:\n\u001b[1;32m-> 1619\u001b[0m     new_values \u001b[39m=\u001b[39m values\u001b[39m.\u001b[39;49mfillna(value\u001b[39m=\u001b[39;49mfill_value, method\u001b[39m=\u001b[39;49mmethod, limit\u001b[39m=\u001b[39;49mlimit)\n\u001b[0;32m   1620\u001b[0m \u001b[39mreturn\u001b[39;00m \u001b[39mself\u001b[39m\u001b[39m.\u001b[39mmake_block_same_class(new_values)\n",
      "File \u001b[1;32mc:\\Program Files\\Python311\\Lib\\site-packages\\pandas\\core\\arrays\\_mixins.py:317\u001b[0m, in \u001b[0;36mNDArrayBackedExtensionArray.fillna\u001b[1;34m(self, value, method, limit)\u001b[0m\n\u001b[0;32m    313\u001b[0m \u001b[39m@doc\u001b[39m(ExtensionArray\u001b[39m.\u001b[39mfillna)\n\u001b[0;32m    314\u001b[0m \u001b[39mdef\u001b[39;00m \u001b[39mfillna\u001b[39m(\n\u001b[0;32m    315\u001b[0m     \u001b[39mself\u001b[39m: NDArrayBackedExtensionArrayT, value\u001b[39m=\u001b[39m\u001b[39mNone\u001b[39;00m, method\u001b[39m=\u001b[39m\u001b[39mNone\u001b[39;00m, limit\u001b[39m=\u001b[39m\u001b[39mNone\u001b[39;00m\n\u001b[0;32m    316\u001b[0m ) \u001b[39m-\u001b[39m\u001b[39m>\u001b[39m NDArrayBackedExtensionArrayT:\n\u001b[1;32m--> 317\u001b[0m     value, method \u001b[39m=\u001b[39m validate_fillna_kwargs(\n\u001b[0;32m    318\u001b[0m         value, method, validate_scalar_dict_value\u001b[39m=\u001b[39;49m\u001b[39mFalse\u001b[39;49;00m\n\u001b[0;32m    319\u001b[0m     )\n\u001b[0;32m    321\u001b[0m     mask \u001b[39m=\u001b[39m \u001b[39mself\u001b[39m\u001b[39m.\u001b[39misna()\n\u001b[0;32m    322\u001b[0m     \u001b[39m# error: Argument 2 to \"check_value_size\" has incompatible type\u001b[39;00m\n\u001b[0;32m    323\u001b[0m     \u001b[39m# \"ExtensionArray\"; expected \"ndarray\"\u001b[39;00m\n",
      "File \u001b[1;32mc:\\Program Files\\Python311\\Lib\\site-packages\\pandas\\util\\_validators.py:390\u001b[0m, in \u001b[0;36mvalidate_fillna_kwargs\u001b[1;34m(value, method, validate_scalar_dict_value)\u001b[0m\n\u001b[0;32m    388\u001b[0m     \u001b[39mraise\u001b[39;00m \u001b[39mValueError\u001b[39;00m(\u001b[39m\"\u001b[39m\u001b[39mMust specify a fill \u001b[39m\u001b[39m'\u001b[39m\u001b[39mvalue\u001b[39m\u001b[39m'\u001b[39m\u001b[39m or \u001b[39m\u001b[39m'\u001b[39m\u001b[39mmethod\u001b[39m\u001b[39m'\u001b[39m\u001b[39m.\u001b[39m\u001b[39m\"\u001b[39m)\n\u001b[0;32m    389\u001b[0m \u001b[39melif\u001b[39;00m value \u001b[39mis\u001b[39;00m \u001b[39mNone\u001b[39;00m \u001b[39mand\u001b[39;00m method \u001b[39mis\u001b[39;00m \u001b[39mnot\u001b[39;00m \u001b[39mNone\u001b[39;00m:\n\u001b[1;32m--> 390\u001b[0m     method \u001b[39m=\u001b[39m clean_fill_method(method)\n\u001b[0;32m    392\u001b[0m \u001b[39melif\u001b[39;00m value \u001b[39mis\u001b[39;00m \u001b[39mnot\u001b[39;00m \u001b[39mNone\u001b[39;00m \u001b[39mand\u001b[39;00m method \u001b[39mis\u001b[39;00m \u001b[39mNone\u001b[39;00m:\n\u001b[0;32m    393\u001b[0m     \u001b[39mif\u001b[39;00m validate_scalar_dict_value \u001b[39mand\u001b[39;00m \u001b[39misinstance\u001b[39m(value, (\u001b[39mlist\u001b[39m, \u001b[39mtuple\u001b[39m)):\n",
      "File \u001b[1;32mc:\\Program Files\\Python311\\Lib\\site-packages\\pandas\\core\\missing.py:125\u001b[0m, in \u001b[0;36mclean_fill_method\u001b[1;34m(method, allow_nearest)\u001b[0m\n\u001b[0;32m    123\u001b[0m     expecting \u001b[39m=\u001b[39m \u001b[39m\"\u001b[39m\u001b[39mpad (ffill), backfill (bfill) or nearest\u001b[39m\u001b[39m\"\u001b[39m\n\u001b[0;32m    124\u001b[0m \u001b[39mif\u001b[39;00m method \u001b[39mnot\u001b[39;00m \u001b[39min\u001b[39;00m valid_methods:\n\u001b[1;32m--> 125\u001b[0m     \u001b[39mraise\u001b[39;00m \u001b[39mValueError\u001b[39;00m(\u001b[39mf\u001b[39m\u001b[39m\"\u001b[39m\u001b[39mInvalid fill method. Expecting \u001b[39m\u001b[39m{\u001b[39;00mexpecting\u001b[39m}\u001b[39;00m\u001b[39m. Got \u001b[39m\u001b[39m{\u001b[39;00mmethod\u001b[39m}\u001b[39;00m\u001b[39m\"\u001b[39m)\n\u001b[0;32m    126\u001b[0m \u001b[39mreturn\u001b[39;00m method\n",
      "\u001b[1;31mValueError\u001b[0m: Invalid fill method. Expecting pad (ffill) or backfill (bfill). Got time"
     ]
    }
   ],
   "source": [
    "# Example 32: Handling time zones with interpolate\n",
    "df_interpolated = df.set_index('datetime_new_york').interpolate(method='time')\n"
   ]
  },
  {
   "cell_type": "code",
   "execution_count": 36,
   "metadata": {},
   "outputs": [],
   "source": [
    "# Example 33: Handling time zones with resample and aggregation\n",
    "df_resampled_mean = df.set_index('datetime_new_york').resample('D')['value'].mean()\n"
   ]
  },
  {
   "cell_type": "code",
   "execution_count": 37,
   "metadata": {},
   "outputs": [],
   "source": [
    "# Example 34: Handling time zones with resample and custom aggregation\n",
    "def custom_agg(arr):\n",
    "    return arr.max() - arr.min()\n",
    "\n",
    "df_resampled_custom_agg = df.set_index('datetime_new_york').resample('D')['value'].apply(custom_agg)\n"
   ]
  },
  {
   "cell_type": "code",
   "execution_count": 38,
   "metadata": {},
   "outputs": [
    {
     "ename": "IndexError",
     "evalue": "index 365 is out of bounds for axis 0 with size 365",
     "output_type": "error",
     "traceback": [
      "\u001b[1;31m---------------------------------------------------------------------------\u001b[0m",
      "\u001b[1;31mIndexError\u001b[0m                                Traceback (most recent call last)",
      "Cell \u001b[1;32mIn[38], line 2\u001b[0m\n\u001b[0;32m      1\u001b[0m \u001b[39m# Example 35: Handling time zones with resample and rolling aggregation\u001b[39;00m\n\u001b[1;32m----> 2\u001b[0m df_resampled_rolling_sum \u001b[39m=\u001b[39m df\u001b[39m.\u001b[39;49mset_index(\u001b[39m'\u001b[39;49m\u001b[39mdatetime_new_york\u001b[39;49m\u001b[39m'\u001b[39;49m)\u001b[39m.\u001b[39;49mresample(\u001b[39m'\u001b[39;49m\u001b[39mD\u001b[39;49m\u001b[39m'\u001b[39;49m)[\u001b[39m'\u001b[39;49m\u001b[39mvalue\u001b[39;49m\u001b[39m'\u001b[39;49m]\u001b[39m.\u001b[39;49mrolling(window\u001b[39m=\u001b[39;49m\u001b[39m3\u001b[39;49m, min_periods\u001b[39m=\u001b[39;49m\u001b[39m1\u001b[39;49m)\u001b[39m.\u001b[39;49msum()\n",
      "File \u001b[1;32mc:\\Program Files\\Python311\\Lib\\site-packages\\pandas\\core\\window\\rolling.py:2084\u001b[0m, in \u001b[0;36mRolling.sum\u001b[1;34m(self, numeric_only, engine, engine_kwargs, *args, **kwargs)\u001b[0m\n\u001b[0;32m   2082\u001b[0m maybe_warn_args_and_kwargs(\u001b[39mtype\u001b[39m(\u001b[39mself\u001b[39m), \u001b[39m\"\u001b[39m\u001b[39msum\u001b[39m\u001b[39m\"\u001b[39m, args, kwargs)\n\u001b[0;32m   2083\u001b[0m nv\u001b[39m.\u001b[39mvalidate_rolling_func(\u001b[39m\"\u001b[39m\u001b[39msum\u001b[39m\u001b[39m\"\u001b[39m, args, kwargs)\n\u001b[1;32m-> 2084\u001b[0m \u001b[39mreturn\u001b[39;00m \u001b[39msuper\u001b[39;49m()\u001b[39m.\u001b[39;49msum(\n\u001b[0;32m   2085\u001b[0m     numeric_only\u001b[39m=\u001b[39;49mnumeric_only,\n\u001b[0;32m   2086\u001b[0m     engine\u001b[39m=\u001b[39;49mengine,\n\u001b[0;32m   2087\u001b[0m     engine_kwargs\u001b[39m=\u001b[39;49mengine_kwargs,\n\u001b[0;32m   2088\u001b[0m     \u001b[39m*\u001b[39;49m\u001b[39m*\u001b[39;49mkwargs,\n\u001b[0;32m   2089\u001b[0m )\n",
      "File \u001b[1;32mc:\\Program Files\\Python311\\Lib\\site-packages\\pandas\\core\\window\\rolling.py:1476\u001b[0m, in \u001b[0;36mRollingAndExpandingMixin.sum\u001b[1;34m(self, numeric_only, engine, engine_kwargs, *args, **kwargs)\u001b[0m\n\u001b[0;32m   1474\u001b[0m         \u001b[39mreturn\u001b[39;00m \u001b[39mself\u001b[39m\u001b[39m.\u001b[39m_numba_apply(sliding_sum, engine_kwargs)\n\u001b[0;32m   1475\u001b[0m window_func \u001b[39m=\u001b[39m window_aggregations\u001b[39m.\u001b[39mroll_sum\n\u001b[1;32m-> 1476\u001b[0m \u001b[39mreturn\u001b[39;00m \u001b[39mself\u001b[39;49m\u001b[39m.\u001b[39;49m_apply(window_func, name\u001b[39m=\u001b[39;49m\u001b[39m\"\u001b[39;49m\u001b[39msum\u001b[39;49m\u001b[39m\"\u001b[39;49m, numeric_only\u001b[39m=\u001b[39;49mnumeric_only, \u001b[39m*\u001b[39;49m\u001b[39m*\u001b[39;49mkwargs)\n",
      "File \u001b[1;32mc:\\Program Files\\Python311\\Lib\\site-packages\\pandas\\core\\window\\rolling.py:790\u001b[0m, in \u001b[0;36mBaseWindowGroupby._apply\u001b[1;34m(self, func, name, numeric_only, numba_args, **kwargs)\u001b[0m\n\u001b[0;32m    788\u001b[0m \u001b[39melse\u001b[39;00m:\n\u001b[0;32m    789\u001b[0m     indexer \u001b[39m=\u001b[39m np\u001b[39m.\u001b[39marray([], dtype\u001b[39m=\u001b[39mnp\u001b[39m.\u001b[39mintp)\n\u001b[1;32m--> 790\u001b[0m codes \u001b[39m=\u001b[39m [c\u001b[39m.\u001b[39;49mtake(indexer) \u001b[39mfor\u001b[39;49;00m c \u001b[39min\u001b[39;49;00m codes]\n\u001b[0;32m    792\u001b[0m \u001b[39m# if the index of the original dataframe needs to be preserved, append\u001b[39;00m\n\u001b[0;32m    793\u001b[0m \u001b[39m# this index (but reordered) to the codes/levels from the groupby\u001b[39;00m\n\u001b[0;32m    794\u001b[0m \u001b[39mif\u001b[39;00m grouped_object_index \u001b[39mis\u001b[39;00m \u001b[39mnot\u001b[39;00m \u001b[39mNone\u001b[39;00m:\n",
      "File \u001b[1;32mc:\\Program Files\\Python311\\Lib\\site-packages\\pandas\\core\\window\\rolling.py:790\u001b[0m, in \u001b[0;36m<listcomp>\u001b[1;34m(.0)\u001b[0m\n\u001b[0;32m    788\u001b[0m \u001b[39melse\u001b[39;00m:\n\u001b[0;32m    789\u001b[0m     indexer \u001b[39m=\u001b[39m np\u001b[39m.\u001b[39marray([], dtype\u001b[39m=\u001b[39mnp\u001b[39m.\u001b[39mintp)\n\u001b[1;32m--> 790\u001b[0m codes \u001b[39m=\u001b[39m [c\u001b[39m.\u001b[39;49mtake(indexer) \u001b[39mfor\u001b[39;00m c \u001b[39min\u001b[39;00m codes]\n\u001b[0;32m    792\u001b[0m \u001b[39m# if the index of the original dataframe needs to be preserved, append\u001b[39;00m\n\u001b[0;32m    793\u001b[0m \u001b[39m# this index (but reordered) to the codes/levels from the groupby\u001b[39;00m\n\u001b[0;32m    794\u001b[0m \u001b[39mif\u001b[39;00m grouped_object_index \u001b[39mis\u001b[39;00m \u001b[39mnot\u001b[39;00m \u001b[39mNone\u001b[39;00m:\n",
      "\u001b[1;31mIndexError\u001b[0m: index 365 is out of bounds for axis 0 with size 365"
     ]
    }
   ],
   "source": [
    "# Example 35: Handling time zones with resample and rolling aggregation\n",
    "df_resampled_rolling_sum = df.set_index('datetime_new_york').resample('D')['value'].rolling(window=3, min_periods=1).sum()\n"
   ]
  },
  {
   "cell_type": "code",
   "execution_count": 39,
   "metadata": {},
   "outputs": [],
   "source": [
    "# Example 36: Handling time zones with time-based slicing\n",
    "df_slice = df[(df['datetime_new_york'] > '2022-03-15') & (df['datetime_new_york'] < '2022-03-20')]\n"
   ]
  },
  {
   "cell_type": "code",
   "execution_count": 40,
   "metadata": {},
   "outputs": [],
   "source": [
    "# Example 37: Handling time zones with between_time\n",
    "df_between_time = df.set_index('datetime_new_york').between_time('10:00', '16:00')\n"
   ]
  },
  {
   "cell_type": "code",
   "execution_count": 41,
   "metadata": {},
   "outputs": [],
   "source": [
    "# Example 38: Handling time zones with at_time\n",
    "df_at_time = df.set_index('datetime_new_york').at_time('15:30')\n"
   ]
  },
  {
   "cell_type": "code",
   "execution_count": 42,
   "metadata": {},
   "outputs": [],
   "source": [
    "# Example 39: Handling time zones with shift\n",
    "df_shifted = df.set_index('datetime_new_york').shift(freq='2H')\n"
   ]
  },
  {
   "cell_type": "code",
   "execution_count": 43,
   "metadata": {},
   "outputs": [
    {
     "name": "stderr",
     "output_type": "stream",
     "text": [
      "C:\\Users\\rvign\\AppData\\Local\\Temp\\ipykernel_21620\\3831526275.py:2: FutureWarning: tshift is deprecated and will be removed in a future version. Please use shift instead.\n",
      "  df_tshifted = df.set_index('datetime_new_york').tshift(freq='2H')\n"
     ]
    }
   ],
   "source": [
    "# Example 40: Handling time zones with tshift\n",
    "df_tshifted = df.set_index('datetime_new_york').tshift(freq='2H')\n"
   ]
  },
  {
   "cell_type": "code",
   "execution_count": 44,
   "metadata": {},
   "outputs": [
    {
     "ename": "ValueError",
     "evalue": "window must be an integer 0 or greater",
     "output_type": "error",
     "traceback": [
      "\u001b[1;31m---------------------------------------------------------------------------\u001b[0m",
      "\u001b[1;31mValueError\u001b[0m                                Traceback (most recent call last)",
      "Cell \u001b[1;32mIn[44], line 2\u001b[0m\n\u001b[0;32m      1\u001b[0m \u001b[39m# Example 41: Handling time zones with time zone-aware rolling windows\u001b[39;00m\n\u001b[1;32m----> 2\u001b[0m rolling_window_tz \u001b[39m=\u001b[39m df[\u001b[39m'\u001b[39;49m\u001b[39mvalue\u001b[39;49m\u001b[39m'\u001b[39;49m]\u001b[39m.\u001b[39;49mrolling(\u001b[39m'\u001b[39;49m\u001b[39m6H\u001b[39;49m\u001b[39m'\u001b[39;49m, closed\u001b[39m=\u001b[39;49m\u001b[39m'\u001b[39;49m\u001b[39mright\u001b[39;49m\u001b[39m'\u001b[39;49m, min_periods\u001b[39m=\u001b[39;49m\u001b[39m1\u001b[39;49m)\u001b[39m.\u001b[39msum()\n",
      "File \u001b[1;32mc:\\Program Files\\Python311\\Lib\\site-packages\\pandas\\core\\generic.py:11999\u001b[0m, in \u001b[0;36mNDFrame.rolling\u001b[1;34m(self, window, min_periods, center, win_type, on, axis, closed, step, method)\u001b[0m\n\u001b[0;32m  11985\u001b[0m \u001b[39mif\u001b[39;00m win_type \u001b[39mis\u001b[39;00m \u001b[39mnot\u001b[39;00m \u001b[39mNone\u001b[39;00m:\n\u001b[0;32m  11986\u001b[0m     \u001b[39mreturn\u001b[39;00m Window(\n\u001b[0;32m  11987\u001b[0m         \u001b[39mself\u001b[39m,\n\u001b[0;32m  11988\u001b[0m         window\u001b[39m=\u001b[39mwindow,\n\u001b[1;32m   (...)\u001b[0m\n\u001b[0;32m  11996\u001b[0m         method\u001b[39m=\u001b[39mmethod,\n\u001b[0;32m  11997\u001b[0m     )\n\u001b[1;32m> 11999\u001b[0m \u001b[39mreturn\u001b[39;00m Rolling(\n\u001b[0;32m  12000\u001b[0m     \u001b[39mself\u001b[39;49m,\n\u001b[0;32m  12001\u001b[0m     window\u001b[39m=\u001b[39;49mwindow,\n\u001b[0;32m  12002\u001b[0m     min_periods\u001b[39m=\u001b[39;49mmin_periods,\n\u001b[0;32m  12003\u001b[0m     center\u001b[39m=\u001b[39;49mcenter,\n\u001b[0;32m  12004\u001b[0m     win_type\u001b[39m=\u001b[39;49mwin_type,\n\u001b[0;32m  12005\u001b[0m     on\u001b[39m=\u001b[39;49mon,\n\u001b[0;32m  12006\u001b[0m     axis\u001b[39m=\u001b[39;49maxis,\n\u001b[0;32m  12007\u001b[0m     closed\u001b[39m=\u001b[39;49mclosed,\n\u001b[0;32m  12008\u001b[0m     step\u001b[39m=\u001b[39;49mstep,\n\u001b[0;32m  12009\u001b[0m     method\u001b[39m=\u001b[39;49mmethod,\n\u001b[0;32m  12010\u001b[0m )\n",
      "File \u001b[1;32mc:\\Program Files\\Python311\\Lib\\site-packages\\pandas\\core\\window\\rolling.py:165\u001b[0m, in \u001b[0;36mBaseWindow.__init__\u001b[1;34m(self, obj, window, min_periods, center, win_type, axis, on, closed, step, method, selection)\u001b[0m\n\u001b[0;32m    159\u001b[0m     \u001b[39mraise\u001b[39;00m \u001b[39mValueError\u001b[39;00m(\n\u001b[0;32m    160\u001b[0m         \u001b[39mf\u001b[39m\u001b[39m\"\u001b[39m\u001b[39minvalid on specified as \u001b[39m\u001b[39m{\u001b[39;00m\u001b[39mself\u001b[39m\u001b[39m.\u001b[39mon\u001b[39m}\u001b[39;00m\u001b[39m, \u001b[39m\u001b[39m\"\u001b[39m\n\u001b[0;32m    161\u001b[0m         \u001b[39m\"\u001b[39m\u001b[39mmust be a column (of DataFrame), an Index or None\u001b[39m\u001b[39m\"\u001b[39m\n\u001b[0;32m    162\u001b[0m     )\n\u001b[0;32m    164\u001b[0m \u001b[39mself\u001b[39m\u001b[39m.\u001b[39m_selection \u001b[39m=\u001b[39m selection\n\u001b[1;32m--> 165\u001b[0m \u001b[39mself\u001b[39;49m\u001b[39m.\u001b[39;49m_validate()\n",
      "File \u001b[1;32mc:\\Program Files\\Python311\\Lib\\site-packages\\pandas\\core\\window\\rolling.py:1862\u001b[0m, in \u001b[0;36mRolling._validate\u001b[1;34m(self)\u001b[0m\n\u001b[0;32m   1860\u001b[0m     \u001b[39mpass\u001b[39;00m\n\u001b[0;32m   1861\u001b[0m \u001b[39melif\u001b[39;00m \u001b[39mnot\u001b[39;00m is_integer(\u001b[39mself\u001b[39m\u001b[39m.\u001b[39mwindow) \u001b[39mor\u001b[39;00m \u001b[39mself\u001b[39m\u001b[39m.\u001b[39mwindow \u001b[39m<\u001b[39m \u001b[39m0\u001b[39m:\n\u001b[1;32m-> 1862\u001b[0m     \u001b[39mraise\u001b[39;00m \u001b[39mValueError\u001b[39;00m(\u001b[39m\"\u001b[39m\u001b[39mwindow must be an integer 0 or greater\u001b[39m\u001b[39m\"\u001b[39m)\n",
      "\u001b[1;31mValueError\u001b[0m: window must be an integer 0 or greater"
     ]
    }
   ],
   "source": [
    "# Example 41: Handling time zones with time zone-aware rolling windows\n",
    "rolling_window_tz = df['value'].rolling('6H', closed='right', min_periods=1).sum()\n"
   ]
  },
  {
   "cell_type": "code",
   "execution_count": 45,
   "metadata": {},
   "outputs": [
    {
     "ename": "TypeError",
     "evalue": "NDFrame.expanding() got an unexpected keyword argument 'closed'",
     "output_type": "error",
     "traceback": [
      "\u001b[1;31m---------------------------------------------------------------------------\u001b[0m",
      "\u001b[1;31mTypeError\u001b[0m                                 Traceback (most recent call last)",
      "Cell \u001b[1;32mIn[45], line 2\u001b[0m\n\u001b[0;32m      1\u001b[0m \u001b[39m# Example 42: Handling time zones with time zone-aware expanding windows\u001b[39;00m\n\u001b[1;32m----> 2\u001b[0m expanding_window_tz \u001b[39m=\u001b[39m df[\u001b[39m'\u001b[39;49m\u001b[39mvalue\u001b[39;49m\u001b[39m'\u001b[39;49m]\u001b[39m.\u001b[39;49mexpanding(\u001b[39m'\u001b[39;49m\u001b[39m6H\u001b[39;49m\u001b[39m'\u001b[39;49m, closed\u001b[39m=\u001b[39;49m\u001b[39m'\u001b[39;49m\u001b[39mright\u001b[39;49m\u001b[39m'\u001b[39;49m, min_periods\u001b[39m=\u001b[39;49m\u001b[39m1\u001b[39;49m)\u001b[39m.\u001b[39msum()\n",
      "\u001b[1;31mTypeError\u001b[0m: NDFrame.expanding() got an unexpected keyword argument 'closed'"
     ]
    }
   ],
   "source": [
    "# Example 42: Handling time zones with time zone-aware expanding windows\n",
    "expanding_window_tz = df['value'].expanding('6H', closed='right', min_periods=1).sum()\n"
   ]
  },
  {
   "cell_type": "code",
   "execution_count": 46,
   "metadata": {},
   "outputs": [],
   "source": [
    "# Example 43: Handling time zones with time zone-aware diff\n",
    "df['diff_value'] = df['value'].diff()\n"
   ]
  },
  {
   "cell_type": "code",
   "execution_count": 47,
   "metadata": {},
   "outputs": [],
   "source": [
    "# Example 44: Handling time zones with time zone-aware pct_change\n",
    "df['pct_change_value'] = df['value'].pct_change()\n"
   ]
  },
  {
   "cell_type": "code",
   "execution_count": 48,
   "metadata": {},
   "outputs": [
    {
     "ename": "TypeError",
     "evalue": "Already tz-aware, use tz_convert to convert.",
     "output_type": "error",
     "traceback": [
      "\u001b[1;31m---------------------------------------------------------------------------\u001b[0m",
      "\u001b[1;31mTypeError\u001b[0m                                 Traceback (most recent call last)",
      "Cell \u001b[1;32mIn[48], line 2\u001b[0m\n\u001b[0;32m      1\u001b[0m \u001b[39m# Example 45: Handling time zones with tz_localize and tz_convert in apply\u001b[39;00m\n\u001b[1;32m----> 2\u001b[0m df[\u001b[39m'\u001b[39m\u001b[39mnext_hour_utc\u001b[39m\u001b[39m'\u001b[39m] \u001b[39m=\u001b[39m df[\u001b[39m'\u001b[39;49m\u001b[39mdatetime_new_york\u001b[39;49m\u001b[39m'\u001b[39;49m]\u001b[39m.\u001b[39;49mapply(\u001b[39mlambda\u001b[39;49;00m x: x \u001b[39m+\u001b[39;49m pd\u001b[39m.\u001b[39;49mTimedelta(hours\u001b[39m=\u001b[39;49m\u001b[39m1\u001b[39;49m))\u001b[39m.\u001b[39;49mdt\u001b[39m.\u001b[39;49mtz_localize(\u001b[39m'\u001b[39;49m\u001b[39mUS/Eastern\u001b[39;49m\u001b[39m'\u001b[39;49m)\u001b[39m.\u001b[39mdt\u001b[39m.\u001b[39mtz_convert(\u001b[39m'\u001b[39m\u001b[39mUTC\u001b[39m\u001b[39m'\u001b[39m)\n",
      "File \u001b[1;32mc:\\Program Files\\Python311\\Lib\\site-packages\\pandas\\core\\accessor.py:94\u001b[0m, in \u001b[0;36mPandasDelegate._add_delegate_accessors.<locals>._create_delegator_method.<locals>.f\u001b[1;34m(self, *args, **kwargs)\u001b[0m\n\u001b[0;32m     93\u001b[0m \u001b[39mdef\u001b[39;00m \u001b[39mf\u001b[39m(\u001b[39mself\u001b[39m, \u001b[39m*\u001b[39margs, \u001b[39m*\u001b[39m\u001b[39m*\u001b[39mkwargs):\n\u001b[1;32m---> 94\u001b[0m     \u001b[39mreturn\u001b[39;00m \u001b[39mself\u001b[39;49m\u001b[39m.\u001b[39;49m_delegate_method(name, \u001b[39m*\u001b[39;49margs, \u001b[39m*\u001b[39;49m\u001b[39m*\u001b[39;49mkwargs)\n",
      "File \u001b[1;32mc:\\Program Files\\Python311\\Lib\\site-packages\\pandas\\core\\indexes\\accessors.py:126\u001b[0m, in \u001b[0;36mProperties._delegate_method\u001b[1;34m(self, name, *args, **kwargs)\u001b[0m\n\u001b[0;32m    123\u001b[0m values \u001b[39m=\u001b[39m \u001b[39mself\u001b[39m\u001b[39m.\u001b[39m_get_values()\n\u001b[0;32m    125\u001b[0m method \u001b[39m=\u001b[39m \u001b[39mgetattr\u001b[39m(values, name)\n\u001b[1;32m--> 126\u001b[0m result \u001b[39m=\u001b[39m method(\u001b[39m*\u001b[39;49margs, \u001b[39m*\u001b[39;49m\u001b[39m*\u001b[39;49mkwargs)\n\u001b[0;32m    128\u001b[0m \u001b[39mif\u001b[39;00m \u001b[39mnot\u001b[39;00m is_list_like(result):\n\u001b[0;32m    129\u001b[0m     \u001b[39mreturn\u001b[39;00m result\n",
      "File \u001b[1;32mc:\\Program Files\\Python311\\Lib\\site-packages\\pandas\\core\\indexes\\datetimes.py:281\u001b[0m, in \u001b[0;36mDatetimeIndex.tz_localize\u001b[1;34m(self, tz, ambiguous, nonexistent)\u001b[0m\n\u001b[0;32m    279\u001b[0m \u001b[39m@doc\u001b[39m(DatetimeArray\u001b[39m.\u001b[39mtz_localize)\n\u001b[0;32m    280\u001b[0m \u001b[39mdef\u001b[39;00m \u001b[39mtz_localize\u001b[39m(\u001b[39mself\u001b[39m, tz, ambiguous\u001b[39m=\u001b[39m\u001b[39m\"\u001b[39m\u001b[39mraise\u001b[39m\u001b[39m\"\u001b[39m, nonexistent\u001b[39m=\u001b[39m\u001b[39m\"\u001b[39m\u001b[39mraise\u001b[39m\u001b[39m\"\u001b[39m) \u001b[39m-\u001b[39m\u001b[39m>\u001b[39m DatetimeIndex:\n\u001b[1;32m--> 281\u001b[0m     arr \u001b[39m=\u001b[39m \u001b[39mself\u001b[39;49m\u001b[39m.\u001b[39;49m_data\u001b[39m.\u001b[39;49mtz_localize(tz, ambiguous, nonexistent)\n\u001b[0;32m    282\u001b[0m     \u001b[39mreturn\u001b[39;00m \u001b[39mtype\u001b[39m(\u001b[39mself\u001b[39m)\u001b[39m.\u001b[39m_simple_new(arr, name\u001b[39m=\u001b[39m\u001b[39mself\u001b[39m\u001b[39m.\u001b[39mname)\n",
      "File \u001b[1;32mc:\\Program Files\\Python311\\Lib\\site-packages\\pandas\\core\\arrays\\_mixins.py:85\u001b[0m, in \u001b[0;36mravel_compat.<locals>.method\u001b[1;34m(self, *args, **kwargs)\u001b[0m\n\u001b[0;32m     82\u001b[0m \u001b[39m@wraps\u001b[39m(meth)\n\u001b[0;32m     83\u001b[0m \u001b[39mdef\u001b[39;00m \u001b[39mmethod\u001b[39m(\u001b[39mself\u001b[39m, \u001b[39m*\u001b[39margs, \u001b[39m*\u001b[39m\u001b[39m*\u001b[39mkwargs):\n\u001b[0;32m     84\u001b[0m     \u001b[39mif\u001b[39;00m \u001b[39mself\u001b[39m\u001b[39m.\u001b[39mndim \u001b[39m==\u001b[39m \u001b[39m1\u001b[39m:\n\u001b[1;32m---> 85\u001b[0m         \u001b[39mreturn\u001b[39;00m meth(\u001b[39mself\u001b[39;49m, \u001b[39m*\u001b[39;49margs, \u001b[39m*\u001b[39;49m\u001b[39m*\u001b[39;49mkwargs)\n\u001b[0;32m     87\u001b[0m     flags \u001b[39m=\u001b[39m \u001b[39mself\u001b[39m\u001b[39m.\u001b[39m_ndarray\u001b[39m.\u001b[39mflags\n\u001b[0;32m     88\u001b[0m     flat \u001b[39m=\u001b[39m \u001b[39mself\u001b[39m\u001b[39m.\u001b[39mravel(\u001b[39m\"\u001b[39m\u001b[39mK\u001b[39m\u001b[39m\"\u001b[39m)\n",
      "File \u001b[1;32mc:\\Program Files\\Python311\\Lib\\site-packages\\pandas\\core\\arrays\\datetimes.py:982\u001b[0m, in \u001b[0;36mDatetimeArray.tz_localize\u001b[1;34m(self, tz, ambiguous, nonexistent)\u001b[0m\n\u001b[0;32m    980\u001b[0m         new_dates \u001b[39m=\u001b[39m tz_convert_from_utc(\u001b[39mself\u001b[39m\u001b[39m.\u001b[39masi8, \u001b[39mself\u001b[39m\u001b[39m.\u001b[39mtz)\n\u001b[0;32m    981\u001b[0m     \u001b[39melse\u001b[39;00m:\n\u001b[1;32m--> 982\u001b[0m         \u001b[39mraise\u001b[39;00m \u001b[39mTypeError\u001b[39;00m(\u001b[39m\"\u001b[39m\u001b[39mAlready tz-aware, use tz_convert to convert.\u001b[39m\u001b[39m\"\u001b[39m)\n\u001b[0;32m    983\u001b[0m \u001b[39melse\u001b[39;00m:\n\u001b[0;32m    984\u001b[0m     tz \u001b[39m=\u001b[39m timezones\u001b[39m.\u001b[39mmaybe_get_tz(tz)\n",
      "\u001b[1;31mTypeError\u001b[0m: Already tz-aware, use tz_convert to convert."
     ]
    }
   ],
   "source": [
    "# Example 45: Handling time zones with tz_localize and tz_convert in apply\n",
    "df['next_hour_utc'] = df['datetime_new_york'].apply(lambda x: x + pd.Timedelta(hours=1)).dt.tz_localize('US/Eastern').dt.tz_convert('UTC')\n"
   ]
  },
  {
   "cell_type": "code",
   "execution_count": 49,
   "metadata": {},
   "outputs": [],
   "source": [
    "# Example 46: Handling time zones with rolling correlation\n",
    "rolling_corr = df['value'].rolling(window=5).corr(df['value_shifted'])\n"
   ]
  },
  {
   "cell_type": "code",
   "execution_count": 50,
   "metadata": {},
   "outputs": [],
   "source": [
    "# Example 47: Handling time zones with time zone-aware rolling aggregation\n",
    "df_rolling_mean_tz = df.set_index('datetime_new_york').rolling('3H', closed='right', min_periods=1)['value'].mean()\n"
   ]
  },
  {
   "cell_type": "code",
   "execution_count": 51,
   "metadata": {},
   "outputs": [
    {
     "ename": "TypeError",
     "evalue": "NDFrame.expanding() got multiple values for argument 'min_periods'",
     "output_type": "error",
     "traceback": [
      "\u001b[1;31m---------------------------------------------------------------------------\u001b[0m",
      "\u001b[1;31mTypeError\u001b[0m                                 Traceback (most recent call last)",
      "Cell \u001b[1;32mIn[51], line 2\u001b[0m\n\u001b[0;32m      1\u001b[0m \u001b[39m# Example 48: Handling time zones with time zone-aware expanding aggregation\u001b[39;00m\n\u001b[1;32m----> 2\u001b[0m df_expanding_sum_tz \u001b[39m=\u001b[39m df\u001b[39m.\u001b[39;49mset_index(\u001b[39m'\u001b[39;49m\u001b[39mdatetime_new_york\u001b[39;49m\u001b[39m'\u001b[39;49m)\u001b[39m.\u001b[39;49mexpanding(\u001b[39m'\u001b[39;49m\u001b[39m3H\u001b[39;49m\u001b[39m'\u001b[39;49m, min_periods\u001b[39m=\u001b[39;49m\u001b[39m1\u001b[39;49m)[\u001b[39m'\u001b[39m\u001b[39mvalue\u001b[39m\u001b[39m'\u001b[39m]\u001b[39m.\u001b[39msum()\n",
      "\u001b[1;31mTypeError\u001b[0m: NDFrame.expanding() got multiple values for argument 'min_periods'"
     ]
    }
   ],
   "source": [
    "# Example 48: Handling time zones with time zone-aware expanding aggregation\n",
    "df_expanding_sum_tz = df.set_index('datetime_new_york').expanding('3H', min_periods=1)['value'].sum()\n"
   ]
  },
  {
   "cell_type": "code",
   "execution_count": 52,
   "metadata": {},
   "outputs": [],
   "source": [
    "# Example 49: Handling time zones with time zone-aware ewm\n",
    "df_ewm_tz = df.set_index('datetime_new_york')['value'].ewm(span=3, min_periods=1).mean()\n"
   ]
  },
  {
   "cell_type": "code",
   "execution_count": 53,
   "metadata": {},
   "outputs": [],
   "source": [
    "# Example 50: Handling time zones with time zone-aware groupby\n",
    "df_groupby_mean_tz = df.groupby(df['datetime_new_york'].dt.date)['value'].transform('mean')\n"
   ]
  },
  {
   "cell_type": "code",
   "execution_count": 54,
   "metadata": {},
   "outputs": [
    {
     "name": "stdout",
     "output_type": "stream",
     "text": [
      "             datetime  value              datetime_utc  \\\n",
      "0 2022-01-01 00:00:00      0 2022-01-01 00:00:00+00:00   \n",
      "1 2022-01-01 01:00:00      1 2022-01-01 01:00:00+00:00   \n",
      "2 2022-01-01 02:00:00      2 2022-01-01 02:00:00+00:00   \n",
      "3 2022-01-01 03:00:00      3 2022-01-01 03:00:00+00:00   \n",
      "4 2022-01-01 04:00:00      4 2022-01-01 04:00:00+00:00   \n",
      "\n",
      "          datetime_new_york  is_dst_spring  is_dst_fall  \\\n",
      "0 2021-12-31 19:00:00-05:00          False        False   \n",
      "1 2021-12-31 20:00:00-05:00          False        False   \n",
      "2 2021-12-31 21:00:00-05:00          False        False   \n",
      "3 2021-12-31 22:00:00-05:00          False        False   \n",
      "4 2021-12-31 23:00:00-05:00          False        False   \n",
      "\n",
      "            datetime_london            datetime_tokyo  \\\n",
      "0 2022-01-01 00:00:00+00:00 2022-01-01 09:00:00+09:00   \n",
      "1 2022-01-01 01:00:00+00:00 2022-01-01 10:00:00+09:00   \n",
      "2 2022-01-01 02:00:00+00:00 2022-01-01 11:00:00+09:00   \n",
      "3 2022-01-01 03:00:00+00:00 2022-01-01 12:00:00+09:00   \n",
      "4 2022-01-01 04:00:00+00:00 2022-01-01 13:00:00+09:00   \n",
      "\n",
      "           spring_dst_rules            fall_dst_rules  ...       time_diff  \\\n",
      "0 2021-12-31 19:00:00-05:00 2021-12-31 19:00:00-05:00  ...             NaT   \n",
      "1 2021-12-31 20:00:00-05:00 2021-12-31 20:00:00-05:00  ... 0 days 01:00:00   \n",
      "2 2021-12-31 21:00:00-05:00 2021-12-31 21:00:00-05:00  ... 0 days 01:00:00   \n",
      "3 2021-12-31 22:00:00-05:00 2021-12-31 22:00:00-05:00  ... 0 days 01:00:00   \n",
      "4 2021-12-31 23:00:00-05:00 2021-12-31 23:00:00-05:00  ... 0 days 01:00:00   \n",
      "\n",
      "           timezone weekday hour_diff time_diff_hours  \\\n",
      "0  America/New_York  Friday        19             NaN   \n",
      "1  America/New_York  Friday        19             1.0   \n",
      "2  America/New_York  Friday        19             1.0   \n",
      "3  America/New_York  Friday        19             1.0   \n",
      "4  America/New_York  Friday        19             1.0   \n",
      "\n",
      "                  next_hour  time_until_next_hour value_shifted diff_value  \\\n",
      "0 2021-12-31 20:00:00-05:00       0 days 01:00:00           NaN        NaN   \n",
      "1 2021-12-31 21:00:00-05:00       0 days 01:00:00           0.0        1.0   \n",
      "2 2021-12-31 22:00:00-05:00       0 days 01:00:00           1.0        1.0   \n",
      "3 2021-12-31 23:00:00-05:00       0 days 01:00:00           2.0        1.0   \n",
      "4 2022-01-01 00:00:00-05:00       0 days 01:00:00           3.0        1.0   \n",
      "\n",
      "   pct_change_value  \n",
      "0               NaN  \n",
      "1               inf  \n",
      "2          1.000000  \n",
      "3          0.500000  \n",
      "4          0.333333  \n",
      "\n",
      "[5 rows x 22 columns]\n"
     ]
    }
   ],
   "source": [
    "print(df.head())"
   ]
  },
  {
   "cell_type": "code",
   "execution_count": 55,
   "metadata": {},
   "outputs": [],
   "source": [
    "# Example 51: Handling time zones with time zone-aware rolling apply\n",
    "rolling_apply = df.set_index('datetime_new_york')['value'].rolling(window=5, min_periods=1).apply(lambda x: x.sum() / len(x))\n"
   ]
  },
  {
   "cell_type": "code",
   "execution_count": 56,
   "metadata": {},
   "outputs": [],
   "source": [
    "# Example 52: Handling time zones with time zone-aware expanding apply\n",
    "expanding_apply = df.set_index('datetime_new_york')['value'].expanding(min_periods=1).apply(lambda x: x.max() - x.min())\n"
   ]
  },
  {
   "cell_type": "code",
   "execution_count": 57,
   "metadata": {},
   "outputs": [],
   "source": [
    "# Example 53: Handling time zones with time zone-aware rolling correlation\n",
    "rolling_corr_tz = df.set_index('datetime_new_york')['value'].rolling(window=10, min_periods=1).corr(df['value_shifted'])\n"
   ]
  },
  {
   "cell_type": "code",
   "execution_count": 58,
   "metadata": {},
   "outputs": [],
   "source": [
    "# Example 54: Handling time zones with time zone-aware expanding correlation\n",
    "expanding_corr_tz = df.set_index('datetime_new_york')['value'].expanding(min_periods=1).corr(df['value_shifted'])\n"
   ]
  },
  {
   "cell_type": "code",
   "execution_count": 59,
   "metadata": {},
   "outputs": [],
   "source": [
    "# Example 55: Handling time zones with time zone-aware rolling apply with custom function\n",
    "def custom_rolling_apply(arr):\n",
    "    return arr.mean() - arr.min()\n",
    "\n",
    "rolling_apply_custom = df.set_index('datetime_new_york')['value'].rolling(window=5, min_periods=1).apply(custom_rolling_apply)\n"
   ]
  }
 ],
 "metadata": {
  "kernelspec": {
   "display_name": "Python 3",
   "language": "python",
   "name": "python3"
  },
  "language_info": {
   "codemirror_mode": {
    "name": "ipython",
    "version": 3
   },
   "file_extension": ".py",
   "mimetype": "text/x-python",
   "name": "python",
   "nbconvert_exporter": "python",
   "pygments_lexer": "ipython3",
   "version": "3.11.2"
  },
  "orig_nbformat": 4
 },
 "nbformat": 4,
 "nbformat_minor": 2
}
