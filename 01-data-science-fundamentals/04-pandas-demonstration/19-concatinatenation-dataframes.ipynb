{
 "cells": [
  {
   "cell_type": "code",
   "execution_count": 1,
   "metadata": {},
   "outputs": [],
   "source": [
    "import pandas as pd"
   ]
  },
  {
   "cell_type": "code",
   "execution_count": 3,
   "metadata": {},
   "outputs": [
    {
     "name": "stdout",
     "output_type": "stream",
     "text": [
      "DataFrame 1:\n",
      "      Name  Age         City\n",
      "0     John   25     New York\n",
      "1    Alice   30  Los Angeles\n",
      "2  Michael   22      Chicago\n",
      "\n",
      "DataFrame 2:\n",
      "     Name  Age           City\n",
      "0   Emily   27  San Francisco\n",
      "1   James   24        Seattle\n",
      "2  Sophia   28         Boston\n"
     ]
    }
   ],
   "source": [
    "# Creating DataFrames for demonstration\n",
    "data1 = {'Name': ['John', 'Alice', 'Michael'],\n",
    "         'Age': [25, 30, 22],\n",
    "         'City': ['New York', 'Los Angeles', 'Chicago']}\n",
    "data2 = {'Name': ['Emily', 'James', 'Sophia'],\n",
    "         'Age': [27, 24, 28],\n",
    "         'City': ['San Francisco', 'Seattle', 'Boston']}\n",
    "\n",
    "df1 = pd.DataFrame(data1)\n",
    "df2 = pd.DataFrame(data2)\n",
    "\n",
    "print(\"DataFrame 1:\")\n",
    "print(df1)\n",
    "\n",
    "print(\"\\nDataFrame 2:\")\n",
    "print(df2)"
   ]
  },
  {
   "cell_type": "code",
   "execution_count": 4,
   "metadata": {},
   "outputs": [
    {
     "name": "stdout",
     "output_type": "stream",
     "text": [
      "\n",
      "Example 1:\n",
      "DataFrame after concatenating vertically:\n",
      "      Name  Age           City\n",
      "0     John   25       New York\n",
      "1    Alice   30    Los Angeles\n",
      "2  Michael   22        Chicago\n",
      "0    Emily   27  San Francisco\n",
      "1    James   24        Seattle\n",
      "2   Sophia   28         Boston\n"
     ]
    }
   ],
   "source": [
    "# Example 1: Concatenating DataFrames vertically using concat()\n",
    "df_concat_vertical = pd.concat([df1, df2])\n",
    "print(\"\\nExample 1:\")\n",
    "print(\"DataFrame after concatenating vertically:\")\n",
    "print(df_concat_vertical)"
   ]
  },
  {
   "cell_type": "code",
   "execution_count": 5,
   "metadata": {},
   "outputs": [
    {
     "name": "stdout",
     "output_type": "stream",
     "text": [
      "\n",
      "Example 2:\n",
      "DataFrame after concatenating vertically and resetting index:\n",
      "      Name  Age           City\n",
      "0     John   25       New York\n",
      "1    Alice   30    Los Angeles\n",
      "2  Michael   22        Chicago\n",
      "3    Emily   27  San Francisco\n",
      "4    James   24        Seattle\n",
      "5   Sophia   28         Boston\n"
     ]
    }
   ],
   "source": [
    "# Example 2: Resetting index after concatenating vertically\n",
    "df_concat_vertical_reset_index = pd.concat([df1, df2], ignore_index=True)\n",
    "print(\"\\nExample 2:\")\n",
    "print(\"DataFrame after concatenating vertically and resetting index:\")\n",
    "print(df_concat_vertical_reset_index)"
   ]
  },
  {
   "cell_type": "code",
   "execution_count": 6,
   "metadata": {},
   "outputs": [
    {
     "name": "stdout",
     "output_type": "stream",
     "text": [
      "\n",
      "Example 3:\n",
      "DataFrame after concatenating horizontally:\n",
      "      Name  Age         City    Name  Age           City\n",
      "0     John   25     New York   Emily   27  San Francisco\n",
      "1    Alice   30  Los Angeles   James   24        Seattle\n",
      "2  Michael   22      Chicago  Sophia   28         Boston\n"
     ]
    }
   ],
   "source": [
    "# Example 3: Concatenating DataFrames horizontally using concat()\n",
    "df_concat_horizontal = pd.concat([df1, df2], axis=1)\n",
    "print(\"\\nExample 3:\")\n",
    "print(\"DataFrame after concatenating horizontally:\")\n",
    "print(df_concat_horizontal)"
   ]
  },
  {
   "cell_type": "code",
   "execution_count": 7,
   "metadata": {},
   "outputs": [
    {
     "name": "stdout",
     "output_type": "stream",
     "text": [
      "\n",
      "Example 4:\n",
      "DataFrame after appending df2 to df1:\n",
      "      Name  Age           City\n",
      "0     John   25       New York\n",
      "1    Alice   30    Los Angeles\n",
      "2  Michael   22        Chicago\n",
      "0    Emily   27  San Francisco\n",
      "1    James   24        Seattle\n",
      "2   Sophia   28         Boston\n"
     ]
    },
    {
     "name": "stderr",
     "output_type": "stream",
     "text": [
      "C:\\Users\\rvign\\AppData\\Local\\Temp\\ipykernel_17756\\2336885926.py:2: FutureWarning: The frame.append method is deprecated and will be removed from pandas in a future version. Use pandas.concat instead.\n",
      "  df_append = df1.append(df2)\n"
     ]
    }
   ],
   "source": [
    "# Example 4: Appending one DataFrame to another using append()\n",
    "df_append = df1.append(df2)\n",
    "print(\"\\nExample 4:\")\n",
    "print(\"DataFrame after appending df2 to df1:\")\n",
    "print(df_append)"
   ]
  },
  {
   "cell_type": "code",
   "execution_count": 8,
   "metadata": {},
   "outputs": [
    {
     "name": "stdout",
     "output_type": "stream",
     "text": [
      "\n",
      "Example 5:\n",
      "DataFrame after appending df2 to df1 and resetting index:\n",
      "      Name  Age           City\n",
      "0     John   25       New York\n",
      "1    Alice   30    Los Angeles\n",
      "2  Michael   22        Chicago\n",
      "3    Emily   27  San Francisco\n",
      "4    James   24        Seattle\n",
      "5   Sophia   28         Boston\n"
     ]
    },
    {
     "name": "stderr",
     "output_type": "stream",
     "text": [
      "C:\\Users\\rvign\\AppData\\Local\\Temp\\ipykernel_17756\\3437855869.py:2: FutureWarning: The frame.append method is deprecated and will be removed from pandas in a future version. Use pandas.concat instead.\n",
      "  df_append_reset_index = df1.append(df2, ignore_index=True)\n"
     ]
    }
   ],
   "source": [
    "# Example 5: Resetting index after appending DataFrames\n",
    "df_append_reset_index = df1.append(df2, ignore_index=True)\n",
    "print(\"\\nExample 5:\")\n",
    "print(\"DataFrame after appending df2 to df1 and resetting index:\")\n",
    "print(df_append_reset_index)"
   ]
  },
  {
   "cell_type": "code",
   "execution_count": 9,
   "metadata": {},
   "outputs": [
    {
     "name": "stdout",
     "output_type": "stream",
     "text": [
      "\n",
      "Example 6:\n",
      "DataFrame after concatenating df1 and df3 with different columns:\n",
      "      Name  Age         City  Salary\n",
      "0     John   25     New York   50000\n",
      "1    Alice   30  Los Angeles   60000\n",
      "2  Michael   22      Chicago   45000\n"
     ]
    }
   ],
   "source": [
    "# Example 6: Concatenating DataFrames with different columns\n",
    "df3 = pd.DataFrame({'Salary': [50000, 60000, 45000]})\n",
    "df_concat_diff_cols = pd.concat([df1, df3], axis=1)\n",
    "print(\"\\nExample 6:\")\n",
    "print(\"DataFrame after concatenating df1 and df3 with different columns:\")\n",
    "print(df_concat_diff_cols)"
   ]
  },
  {
   "cell_type": "code",
   "execution_count": 10,
   "metadata": {},
   "outputs": [
    {
     "ename": "TypeError",
     "evalue": "concat() got an unexpected keyword argument 'fill_value'",
     "output_type": "error",
     "traceback": [
      "\u001b[1;31m---------------------------------------------------------------------------\u001b[0m",
      "\u001b[1;31mTypeError\u001b[0m                                 Traceback (most recent call last)",
      "Cell \u001b[1;32mIn[10], line 2\u001b[0m\n\u001b[0;32m      1\u001b[0m \u001b[39m# Example 7: Concatenating DataFrames with different columns and filling missing values\u001b[39;00m\n\u001b[1;32m----> 2\u001b[0m df_concat_diff_cols_fill \u001b[39m=\u001b[39m pd\u001b[39m.\u001b[39;49mconcat([df1, df3], axis\u001b[39m=\u001b[39;49m\u001b[39m1\u001b[39;49m, fill_value\u001b[39m=\u001b[39;49m\u001b[39m0\u001b[39;49m)\n\u001b[0;32m      3\u001b[0m \u001b[39mprint\u001b[39m(\u001b[39m\"\u001b[39m\u001b[39m\\n\u001b[39;00m\u001b[39mExample 7:\u001b[39m\u001b[39m\"\u001b[39m)\n\u001b[0;32m      4\u001b[0m \u001b[39mprint\u001b[39m(\u001b[39m\"\u001b[39m\u001b[39mDataFrame after concatenating df1 and df3 with different columns and filling missing values with 0:\u001b[39m\u001b[39m\"\u001b[39m)\n",
      "File \u001b[1;32mc:\\Program Files\\Python311\\Lib\\site-packages\\pandas\\util\\_decorators.py:331\u001b[0m, in \u001b[0;36mdeprecate_nonkeyword_arguments.<locals>.decorate.<locals>.wrapper\u001b[1;34m(*args, **kwargs)\u001b[0m\n\u001b[0;32m    325\u001b[0m \u001b[39mif\u001b[39;00m \u001b[39mlen\u001b[39m(args) \u001b[39m>\u001b[39m num_allow_args:\n\u001b[0;32m    326\u001b[0m     warnings\u001b[39m.\u001b[39mwarn(\n\u001b[0;32m    327\u001b[0m         msg\u001b[39m.\u001b[39mformat(arguments\u001b[39m=\u001b[39m_format_argument_list(allow_args)),\n\u001b[0;32m    328\u001b[0m         \u001b[39mFutureWarning\u001b[39;00m,\n\u001b[0;32m    329\u001b[0m         stacklevel\u001b[39m=\u001b[39mfind_stack_level(),\n\u001b[0;32m    330\u001b[0m     )\n\u001b[1;32m--> 331\u001b[0m \u001b[39mreturn\u001b[39;00m func(\u001b[39m*\u001b[39;49margs, \u001b[39m*\u001b[39;49m\u001b[39m*\u001b[39;49mkwargs)\n",
      "\u001b[1;31mTypeError\u001b[0m: concat() got an unexpected keyword argument 'fill_value'"
     ]
    }
   ],
   "source": [
    "# Example 7: Concatenating DataFrames with different columns and filling missing values\n",
    "df_concat_diff_cols_fill = pd.concat([df1, df3], axis=1, fill_value=0)\n",
    "print(\"\\nExample 7:\")\n",
    "print(\"DataFrame after concatenating df1 and df3 with different columns and filling missing values with 0:\")\n",
    "print(df_concat_diff_cols_fill)\n"
   ]
  },
  {
   "cell_type": "code",
   "execution_count": 11,
   "metadata": {},
   "outputs": [
    {
     "name": "stdout",
     "output_type": "stream",
     "text": [
      "\n",
      "Example 8:\n",
      "DataFrame after concatenating df1 and df2 with MultiIndex:\n",
      "          Name  Age           City\n",
      "df1 0     John   25       New York\n",
      "    1    Alice   30    Los Angeles\n",
      "    2  Michael   22        Chicago\n",
      "df2 0    Emily   27  San Francisco\n",
      "    1    James   24        Seattle\n",
      "    2   Sophia   28         Boston\n"
     ]
    }
   ],
   "source": [
    "# Example 8: Concatenating DataFrames with a MultiIndex\n",
    "df_concat_multiindex = pd.concat([df1, df2], keys=['df1', 'df2'])\n",
    "print(\"\\nExample 8:\")\n",
    "print(\"DataFrame after concatenating df1 and df2 with MultiIndex:\")\n",
    "print(df_concat_multiindex)\n"
   ]
  },
  {
   "cell_type": "code",
   "execution_count": 12,
   "metadata": {},
   "outputs": [
    {
     "name": "stdout",
     "output_type": "stream",
     "text": [
      "\n",
      "Example 9:\n",
      "DataFrame after concatenating df1 and df2 with MultiIndex and resetting index:\n",
      "      Name  Age           City\n",
      "0     John   25       New York\n",
      "1    Alice   30    Los Angeles\n",
      "2  Michael   22        Chicago\n",
      "3    Emily   27  San Francisco\n",
      "4    James   24        Seattle\n",
      "5   Sophia   28         Boston\n"
     ]
    }
   ],
   "source": [
    "# Example 9: Concatenating DataFrames with a MultiIndex and resetting index\n",
    "df_concat_multiindex_reset_index = pd.concat([df1, df2], keys=['df1', 'df2'], ignore_index=True)\n",
    "print(\"\\nExample 9:\")\n",
    "print(\"DataFrame after concatenating df1 and df2 with MultiIndex and resetting index:\")\n",
    "print(df_concat_multiindex_reset_index)"
   ]
  },
  {
   "cell_type": "code",
   "execution_count": 13,
   "metadata": {},
   "outputs": [
    {
     "name": "stdout",
     "output_type": "stream",
     "text": [
      "\n",
      "Example 10:\n",
      "DataFrame after appending df3 to df1 with different columns:\n",
      "      Name   Age         City   Salary\n",
      "0     John  25.0     New York      NaN\n",
      "1    Alice  30.0  Los Angeles      NaN\n",
      "2  Michael  22.0      Chicago      NaN\n",
      "0      NaN   NaN          NaN  50000.0\n",
      "1      NaN   NaN          NaN  60000.0\n",
      "2      NaN   NaN          NaN  45000.0\n"
     ]
    },
    {
     "name": "stderr",
     "output_type": "stream",
     "text": [
      "C:\\Users\\rvign\\AppData\\Local\\Temp\\ipykernel_17756\\144843194.py:2: FutureWarning: The frame.append method is deprecated and will be removed from pandas in a future version. Use pandas.concat instead.\n",
      "  df_append_diff_cols = df1.append(df3, sort=False)\n"
     ]
    }
   ],
   "source": [
    "# Example 10: Appending DataFrame to another with different columns\n",
    "df_append_diff_cols = df1.append(df3, sort=False)\n",
    "print(\"\\nExample 10:\")\n",
    "print(\"DataFrame after appending df3 to df1 with different columns:\")\n",
    "print(df_append_diff_cols)"
   ]
  },
  {
   "cell_type": "code",
   "execution_count": 14,
   "metadata": {},
   "outputs": [
    {
     "ename": "TypeError",
     "evalue": "DataFrame.append() got an unexpected keyword argument 'fill_value'",
     "output_type": "error",
     "traceback": [
      "\u001b[1;31m---------------------------------------------------------------------------\u001b[0m",
      "\u001b[1;31mTypeError\u001b[0m                                 Traceback (most recent call last)",
      "Cell \u001b[1;32mIn[14], line 2\u001b[0m\n\u001b[0;32m      1\u001b[0m \u001b[39m# Example 11: Appending DataFrame to another and filling missing values\u001b[39;00m\n\u001b[1;32m----> 2\u001b[0m df_append_diff_cols_fill \u001b[39m=\u001b[39m df1\u001b[39m.\u001b[39;49mappend(df3, sort\u001b[39m=\u001b[39;49m\u001b[39mFalse\u001b[39;49;00m, fill_value\u001b[39m=\u001b[39;49m\u001b[39m0\u001b[39;49m)\n\u001b[0;32m      3\u001b[0m \u001b[39mprint\u001b[39m(\u001b[39m\"\u001b[39m\u001b[39m\\n\u001b[39;00m\u001b[39mExample 11:\u001b[39m\u001b[39m\"\u001b[39m)\n\u001b[0;32m      4\u001b[0m \u001b[39mprint\u001b[39m(\u001b[39m\"\u001b[39m\u001b[39mDataFrame after appending df3 to df1 with different columns and filling missing values with 0:\u001b[39m\u001b[39m\"\u001b[39m)\n",
      "\u001b[1;31mTypeError\u001b[0m: DataFrame.append() got an unexpected keyword argument 'fill_value'"
     ]
    }
   ],
   "source": [
    "# Example 11: Appending DataFrame to another and filling missing values\n",
    "df_append_diff_cols_fill = df1.append(df3, sort=False, fill_value=0)\n",
    "print(\"\\nExample 11:\")\n",
    "print(\"DataFrame after appending df3 to df1 with different columns and filling missing values with 0:\")\n",
    "print(df_append_diff_cols_fill)"
   ]
  },
  {
   "cell_type": "code",
   "execution_count": 15,
   "metadata": {},
   "outputs": [
    {
     "name": "stdout",
     "output_type": "stream",
     "text": [
      "\n",
      "Example 12:\n",
      "DataFrame after concatenating df1 and df4 with duplicate columns:\n",
      "      Name  Age         City\n",
      "0     John   25     New York\n",
      "1    Alice   30  Los Angeles\n",
      "2  Michael   22      Chicago\n",
      "0     Ella   29          NaN\n",
      "1   Oliver   26          NaN\n",
      "2   Daniel   24          NaN\n"
     ]
    }
   ],
   "source": [
    "# Example 12: Concatenating DataFrames with duplicate columns\n",
    "df4 = pd.DataFrame({'Name': ['Ella', 'Oliver', 'Daniel'],\n",
    "                    'Age': [29, 26, 24]})\n",
    "df_concat_duplicate_cols = pd.concat([df1, df4], sort=False)\n",
    "print(\"\\nExample 12:\")\n",
    "print(\"DataFrame after concatenating df1 and df4 with duplicate columns:\")\n",
    "print(df_concat_duplicate_cols)\n"
   ]
  },
  {
   "cell_type": "code",
   "execution_count": 16,
   "metadata": {},
   "outputs": [
    {
     "name": "stdout",
     "output_type": "stream",
     "text": [
      "\n",
      "Example 13:\n",
      "DataFrame after concatenating df1 and df4 with duplicate columns and resetting index:\n",
      "      Name  Age         City\n",
      "0     John   25     New York\n",
      "1    Alice   30  Los Angeles\n",
      "2  Michael   22      Chicago\n",
      "3     Ella   29          NaN\n",
      "4   Oliver   26          NaN\n",
      "5   Daniel   24          NaN\n"
     ]
    }
   ],
   "source": [
    "# Example 13: Concatenating DataFrames with duplicate columns and resetting index\n",
    "df_concat_duplicate_cols_reset_index = pd.concat([df1, df4], ignore_index=True, sort=False)\n",
    "print(\"\\nExample 13:\")\n",
    "print(\"DataFrame after concatenating df1 and df4 with duplicate columns and resetting index:\")\n",
    "print(df_concat_duplicate_cols_reset_index)"
   ]
  },
  {
   "cell_type": "code",
   "execution_count": 17,
   "metadata": {},
   "outputs": [
    {
     "name": "stdout",
     "output_type": "stream",
     "text": [
      "\n",
      "Example 14:\n",
      "DataFrame after concatenating df1 and df4 with duplicate columns and keys:\n",
      "          Name  Age         City\n",
      "df1 0     John   25     New York\n",
      "    1    Alice   30  Los Angeles\n",
      "    2  Michael   22      Chicago\n",
      "df4 0     Ella   29          NaN\n",
      "    1   Oliver   26          NaN\n",
      "    2   Daniel   24          NaN\n"
     ]
    }
   ],
   "source": [
    "# Example 14: Concatenating DataFrames with duplicate columns and keys\n",
    "df_concat_duplicate_cols_keys = pd.concat([df1, df4], keys=['df1', 'df4'], sort=False)\n",
    "print(\"\\nExample 14:\")\n",
    "print(\"DataFrame after concatenating df1 and df4 with duplicate columns and keys:\")\n",
    "print(df_concat_duplicate_cols_keys)"
   ]
  },
  {
   "cell_type": "code",
   "execution_count": 18,
   "metadata": {},
   "outputs": [
    {
     "name": "stdout",
     "output_type": "stream",
     "text": [
      "\n",
      "Example 15:\n",
      "DataFrame after concatenating df1 and df5 with join='inner':\n",
      "      Name  Age         City           City\n",
      "0     John   25     New York  San Francisco\n",
      "1    Alice   30  Los Angeles        Seattle\n",
      "2  Michael   22      Chicago         Boston\n"
     ]
    }
   ],
   "source": [
    "# Example 15: Concatenating DataFrames and specifying join type\n",
    "df5 = pd.DataFrame({'City': ['San Francisco', 'Seattle', 'Boston', 'Denver']})\n",
    "df_concat_join = pd.concat([df1, df5], join='inner', axis=1)\n",
    "print(\"\\nExample 15:\")\n",
    "print(\"DataFrame after concatenating df1 and df5 with join='inner':\")\n",
    "print(df_concat_join)"
   ]
  },
  {
   "cell_type": "code",
   "execution_count": 19,
   "metadata": {},
   "outputs": [
    {
     "name": "stdout",
     "output_type": "stream",
     "text": [
      "\n",
      "Example 16:\n",
      "DataFrame after concatenating df1 and df6 with different indices:\n",
      "      Name  Age         City\n",
      "0     John   25     New York\n",
      "1    Alice   30  Los Angeles\n",
      "2  Michael   22      Chicago\n",
      "3     John   25     New York\n",
      "4    Alice   30  Los Angeles\n",
      "5  Michael   22      Chicago\n"
     ]
    }
   ],
   "source": [
    "# Example 16: Concatenating DataFrames with different indices\n",
    "df6 = pd.DataFrame(data1, index=[3, 4, 5])\n",
    "df_concat_diff_indices = pd.concat([df1, df6])\n",
    "print(\"\\nExample 16:\")\n",
    "print(\"DataFrame after concatenating df1 and df6 with different indices:\")\n",
    "print(df_concat_diff_indices)"
   ]
  },
  {
   "cell_type": "code",
   "execution_count": 20,
   "metadata": {},
   "outputs": [
    {
     "ename": "TypeError",
     "evalue": "concat() got an unexpected keyword argument 'fill_value'",
     "output_type": "error",
     "traceback": [
      "\u001b[1;31m---------------------------------------------------------------------------\u001b[0m",
      "\u001b[1;31mTypeError\u001b[0m                                 Traceback (most recent call last)",
      "Cell \u001b[1;32mIn[20], line 2\u001b[0m\n\u001b[0;32m      1\u001b[0m \u001b[39m# Example 17: Concatenating DataFrames with different indices and filling missing values\u001b[39;00m\n\u001b[1;32m----> 2\u001b[0m df_concat_diff_indices_fill \u001b[39m=\u001b[39m pd\u001b[39m.\u001b[39;49mconcat([df1, df6], fill_value\u001b[39m=\u001b[39;49m\u001b[39m0\u001b[39;49m)\n\u001b[0;32m      3\u001b[0m \u001b[39mprint\u001b[39m(\u001b[39m\"\u001b[39m\u001b[39m\\n\u001b[39;00m\u001b[39mExample 17:\u001b[39m\u001b[39m\"\u001b[39m)\n\u001b[0;32m      4\u001b[0m \u001b[39mprint\u001b[39m(\u001b[39m\"\u001b[39m\u001b[39mDataFrame after concatenating df1 and df6 with different indices and filling missing values with 0:\u001b[39m\u001b[39m\"\u001b[39m)\n",
      "File \u001b[1;32mc:\\Program Files\\Python311\\Lib\\site-packages\\pandas\\util\\_decorators.py:331\u001b[0m, in \u001b[0;36mdeprecate_nonkeyword_arguments.<locals>.decorate.<locals>.wrapper\u001b[1;34m(*args, **kwargs)\u001b[0m\n\u001b[0;32m    325\u001b[0m \u001b[39mif\u001b[39;00m \u001b[39mlen\u001b[39m(args) \u001b[39m>\u001b[39m num_allow_args:\n\u001b[0;32m    326\u001b[0m     warnings\u001b[39m.\u001b[39mwarn(\n\u001b[0;32m    327\u001b[0m         msg\u001b[39m.\u001b[39mformat(arguments\u001b[39m=\u001b[39m_format_argument_list(allow_args)),\n\u001b[0;32m    328\u001b[0m         \u001b[39mFutureWarning\u001b[39;00m,\n\u001b[0;32m    329\u001b[0m         stacklevel\u001b[39m=\u001b[39mfind_stack_level(),\n\u001b[0;32m    330\u001b[0m     )\n\u001b[1;32m--> 331\u001b[0m \u001b[39mreturn\u001b[39;00m func(\u001b[39m*\u001b[39;49margs, \u001b[39m*\u001b[39;49m\u001b[39m*\u001b[39;49mkwargs)\n",
      "\u001b[1;31mTypeError\u001b[0m: concat() got an unexpected keyword argument 'fill_value'"
     ]
    }
   ],
   "source": [
    "# Example 17: Concatenating DataFrames with different indices and filling missing values\n",
    "df_concat_diff_indices_fill = pd.concat([df1, df6], fill_value=0)\n",
    "print(\"\\nExample 17:\")\n",
    "print(\"DataFrame after concatenating df1 and df6 with different indices and filling missing values with 0:\")\n",
    "print(df_concat_diff_indices_fill)"
   ]
  },
  {
   "cell_type": "code",
   "execution_count": 21,
   "metadata": {},
   "outputs": [
    {
     "name": "stdout",
     "output_type": "stream",
     "text": [
      "\n",
      "Example 18:\n",
      "DataFrame after concatenating df1 and df6 with different indices and keys:\n",
      "          Name  Age         City\n",
      "df1 0     John   25     New York\n",
      "    1    Alice   30  Los Angeles\n",
      "    2  Michael   22      Chicago\n",
      "df6 3     John   25     New York\n",
      "    4    Alice   30  Los Angeles\n",
      "    5  Michael   22      Chicago\n"
     ]
    }
   ],
   "source": [
    "# Example 18: Concatenating DataFrames with different indices and keys\n",
    "df_concat_diff_indices_keys = pd.concat([df1, df6], keys=['df1', 'df6'])\n",
    "print(\"\\nExample 18:\")\n",
    "print(\"DataFrame after concatenating df1 and df6 with different indices and keys:\")\n",
    "print(df_concat_diff_indices_keys)"
   ]
  },
  {
   "cell_type": "code",
   "execution_count": 22,
   "metadata": {},
   "outputs": [
    {
     "name": "stdout",
     "output_type": "stream",
     "text": [
      "\n",
      "Example 19:\n",
      "DataFrame after concatenating df1 and df6 and preserving original indices:\n",
      "      Name  Age         City\n",
      "0     John   25     New York\n",
      "1    Alice   30  Los Angeles\n",
      "2  Michael   22      Chicago\n",
      "3     John   25     New York\n",
      "4    Alice   30  Los Angeles\n",
      "5  Michael   22      Chicago\n"
     ]
    }
   ],
   "source": [
    "# Example 19: Concatenating DataFrames and preserving original indices\n",
    "df_concat_preserve_indices = pd.concat([df1, df6], ignore_index=False)\n",
    "print(\"\\nExample 19:\")\n",
    "print(\"DataFrame after concatenating df1 and df6 and preserving original indices:\")\n",
    "print(df_concat_preserve_indices)\n"
   ]
  },
  {
   "cell_type": "code",
   "execution_count": 23,
   "metadata": {},
   "outputs": [
    {
     "name": "stdout",
     "output_type": "stream",
     "text": [
      "\n",
      "Example 20:\n",
      "DataFrame after concatenating df1 and df6 and resetting index with ignore_index=False:\n",
      "      Name  Age         City\n",
      "0     John   25     New York\n",
      "1    Alice   30  Los Angeles\n",
      "2  Michael   22      Chicago\n",
      "3     John   25     New York\n",
      "4    Alice   30  Los Angeles\n",
      "5  Michael   22      Chicago\n"
     ]
    }
   ],
   "source": [
    "# Example 20: Concatenating DataFrames and resetting index with ignore_index=False\n",
    "df_concat_reset_index = pd.concat([df1, df6], ignore_index=False, sort=False)\n",
    "print(\"\\nExample 20:\")\n",
    "print(\"DataFrame after concatenating df1 and df6 and resetting index with ignore_index=False:\")\n",
    "print(df_concat_reset_index)"
   ]
  },
  {
   "cell_type": "code",
   "execution_count": 24,
   "metadata": {},
   "outputs": [
    {
     "name": "stdout",
     "output_type": "stream",
     "text": [
      "\n",
      "Example 21:\n",
      "DataFrame after concatenating df1 and df6 and sorting by columns:\n",
      "   Age         City     Name\n",
      "0   25     New York     John\n",
      "1   30  Los Angeles    Alice\n",
      "2   22      Chicago  Michael\n",
      "3   25     New York     John\n",
      "4   30  Los Angeles    Alice\n",
      "5   22      Chicago  Michael\n"
     ]
    }
   ],
   "source": [
    "# Example 21: Concatenating DataFrames and sorting by columns\n",
    "df_concat_sort_by_columns = pd.concat([df1, df6], sort=True)\n",
    "print(\"\\nExample 21:\")\n",
    "print(\"DataFrame after concatenating df1 and df6 and sorting by columns:\")\n",
    "print(df_concat_sort_by_columns)"
   ]
  },
  {
   "cell_type": "code",
   "execution_count": 25,
   "metadata": {},
   "outputs": [
    {
     "name": "stdout",
     "output_type": "stream",
     "text": [
      "\n",
      "Example 22:\n",
      "DataFrame after concatenating df1 and df6 and sorting by index:\n",
      "    Age   Age         City         City     Name     Name\n",
      "0  25.0   NaN     New York          NaN     John      NaN\n",
      "1  30.0   NaN  Los Angeles          NaN    Alice      NaN\n",
      "2  22.0   NaN      Chicago          NaN  Michael      NaN\n",
      "3   NaN  25.0          NaN     New York      NaN     John\n",
      "4   NaN  30.0          NaN  Los Angeles      NaN    Alice\n",
      "5   NaN  22.0          NaN      Chicago      NaN  Michael\n"
     ]
    }
   ],
   "source": [
    "# Example 22: Concatenating DataFrames and sorting by index\n",
    "df_concat_sort_by_index = pd.concat([df1, df6], axis=1).sort_index(axis=1)\n",
    "print(\"\\nExample 22:\")\n",
    "print(\"DataFrame after concatenating df1 and df6 and sorting by index:\")\n",
    "print(df_concat_sort_by_index)"
   ]
  },
  {
   "cell_type": "code",
   "execution_count": 27,
   "metadata": {},
   "outputs": [
    {
     "name": "stdout",
     "output_type": "stream",
     "text": [
      "\n",
      "Example 23:\n",
      "DataFrame after concatenating df1 and df7 with a different number of columns:\n",
      "      Name   Age         City Gender\n",
      "0     John  25.0     New York    NaN\n",
      "1    Alice  30.0  Los Angeles    NaN\n",
      "2  Michael  22.0      Chicago    NaN\n",
      "0      NaN   NaN          NaN      M\n",
      "1      NaN   NaN          NaN      F\n",
      "2      NaN   NaN          NaN      M\n"
     ]
    }
   ],
   "source": [
    "# Example 23: Concatenating DataFrames with a different number of columns\n",
    "df7 = pd.DataFrame({'Gender': ['M', 'F', 'M']})\n",
    "df_concat_diff_cols_num = pd.concat([df1, df7], sort=False)\n",
    "print(\"\\nExample 23:\")\n",
    "print(\"DataFrame after concatenating df1 and df7 with a different number of columns:\")\n",
    "print(df_concat_diff_cols_num)"
   ]
  },
  {
   "cell_type": "code",
   "execution_count": 28,
   "metadata": {},
   "outputs": [
    {
     "ename": "TypeError",
     "evalue": "concat() got an unexpected keyword argument 'fill_value'",
     "output_type": "error",
     "traceback": [
      "\u001b[1;31m---------------------------------------------------------------------------\u001b[0m",
      "\u001b[1;31mTypeError\u001b[0m                                 Traceback (most recent call last)",
      "Cell \u001b[1;32mIn[28], line 2\u001b[0m\n\u001b[0;32m      1\u001b[0m \u001b[39m# Example 24: Concatenating DataFrames with a different number of columns and filling missing values\u001b[39;00m\n\u001b[1;32m----> 2\u001b[0m df_concat_diff_cols_num_fill \u001b[39m=\u001b[39m pd\u001b[39m.\u001b[39;49mconcat([df1, df7], sort\u001b[39m=\u001b[39;49m\u001b[39mFalse\u001b[39;49;00m, fill_value\u001b[39m=\u001b[39;49m\u001b[39m0\u001b[39;49m)\n\u001b[0;32m      3\u001b[0m \u001b[39mprint\u001b[39m(\u001b[39m\"\u001b[39m\u001b[39m\\n\u001b[39;00m\u001b[39mExample 24:\u001b[39m\u001b[39m\"\u001b[39m)\n\u001b[0;32m      4\u001b[0m \u001b[39mprint\u001b[39m(\u001b[39m\"\u001b[39m\u001b[39mDataFrame after concatenating df1 and df7 with a different number of columns and filling missing values with 0:\u001b[39m\u001b[39m\"\u001b[39m)\n",
      "File \u001b[1;32mc:\\Program Files\\Python311\\Lib\\site-packages\\pandas\\util\\_decorators.py:331\u001b[0m, in \u001b[0;36mdeprecate_nonkeyword_arguments.<locals>.decorate.<locals>.wrapper\u001b[1;34m(*args, **kwargs)\u001b[0m\n\u001b[0;32m    325\u001b[0m \u001b[39mif\u001b[39;00m \u001b[39mlen\u001b[39m(args) \u001b[39m>\u001b[39m num_allow_args:\n\u001b[0;32m    326\u001b[0m     warnings\u001b[39m.\u001b[39mwarn(\n\u001b[0;32m    327\u001b[0m         msg\u001b[39m.\u001b[39mformat(arguments\u001b[39m=\u001b[39m_format_argument_list(allow_args)),\n\u001b[0;32m    328\u001b[0m         \u001b[39mFutureWarning\u001b[39;00m,\n\u001b[0;32m    329\u001b[0m         stacklevel\u001b[39m=\u001b[39mfind_stack_level(),\n\u001b[0;32m    330\u001b[0m     )\n\u001b[1;32m--> 331\u001b[0m \u001b[39mreturn\u001b[39;00m func(\u001b[39m*\u001b[39;49margs, \u001b[39m*\u001b[39;49m\u001b[39m*\u001b[39;49mkwargs)\n",
      "\u001b[1;31mTypeError\u001b[0m: concat() got an unexpected keyword argument 'fill_value'"
     ]
    }
   ],
   "source": [
    "# Example 24: Concatenating DataFrames with a different number of columns and filling missing values\n",
    "df_concat_diff_cols_num_fill = pd.concat([df1, df7], sort=False, fill_value=0)\n",
    "print(\"\\nExample 24:\")\n",
    "print(\"DataFrame after concatenating df1 and df7 with a different number of columns and filling missing values with 0:\")\n",
    "print(df_concat_diff_cols_num_fill)"
   ]
  },
  {
   "cell_type": "code",
   "execution_count": 29,
   "metadata": {},
   "outputs": [
    {
     "name": "stdout",
     "output_type": "stream",
     "text": [
      "\n",
      "Example 25:\n",
      "DataFrame after concatenating df1 and df7 with a different number of columns and keys:\n",
      "          Name   Age         City Gender\n",
      "df1 0     John  25.0     New York    NaN\n",
      "    1    Alice  30.0  Los Angeles    NaN\n",
      "    2  Michael  22.0      Chicago    NaN\n",
      "df7 0      NaN   NaN          NaN      M\n",
      "    1      NaN   NaN          NaN      F\n",
      "    2      NaN   NaN          NaN      M\n"
     ]
    }
   ],
   "source": [
    "# Example 25: Concatenating DataFrames with a different number of columns and keys\n",
    "df_concat_diff_cols_num_keys = pd.concat([df1, df7], keys=['df1', 'df7'], sort=False)\n",
    "print(\"\\nExample 25:\")\n",
    "print(\"DataFrame after concatenating df1 and df7 with a different number of columns and keys:\")\n",
    "print(df_concat_diff_cols_num_keys)"
   ]
  },
  {
   "cell_type": "code",
   "execution_count": 30,
   "metadata": {},
   "outputs": [
    {
     "name": "stdout",
     "output_type": "stream",
     "text": [
      "\n",
      "Example 26:\n",
      "DataFrame after appending df7 to df1 with a different number of columns:\n",
      "      Name   Age         City Gender\n",
      "0     John  25.0     New York    NaN\n",
      "1    Alice  30.0  Los Angeles    NaN\n",
      "2  Michael  22.0      Chicago    NaN\n",
      "0      NaN   NaN          NaN      M\n",
      "1      NaN   NaN          NaN      F\n",
      "2      NaN   NaN          NaN      M\n"
     ]
    },
    {
     "name": "stderr",
     "output_type": "stream",
     "text": [
      "C:\\Users\\rvign\\AppData\\Local\\Temp\\ipykernel_17756\\3735521828.py:2: FutureWarning: The frame.append method is deprecated and will be removed from pandas in a future version. Use pandas.concat instead.\n",
      "  df_append_diff_cols_num = df1.append(df7, sort=False)\n"
     ]
    }
   ],
   "source": [
    "# Example 26: Appending DataFrame with a different number of columns\n",
    "df_append_diff_cols_num = df1.append(df7, sort=False)\n",
    "print(\"\\nExample 26:\")\n",
    "print(\"DataFrame after appending df7 to df1 with a different number of columns:\")\n",
    "print(df_append_diff_cols_num)"
   ]
  },
  {
   "cell_type": "code",
   "execution_count": 31,
   "metadata": {},
   "outputs": [
    {
     "ename": "TypeError",
     "evalue": "DataFrame.append() got an unexpected keyword argument 'fill_value'",
     "output_type": "error",
     "traceback": [
      "\u001b[1;31m---------------------------------------------------------------------------\u001b[0m",
      "\u001b[1;31mTypeError\u001b[0m                                 Traceback (most recent call last)",
      "Cell \u001b[1;32mIn[31], line 2\u001b[0m\n\u001b[0;32m      1\u001b[0m \u001b[39m# Example 27: Appending DataFrame with a different number of columns and filling missing values\u001b[39;00m\n\u001b[1;32m----> 2\u001b[0m df_append_diff_cols_num_fill \u001b[39m=\u001b[39m df1\u001b[39m.\u001b[39;49mappend(df7, sort\u001b[39m=\u001b[39;49m\u001b[39mFalse\u001b[39;49;00m, fill_value\u001b[39m=\u001b[39;49m\u001b[39m0\u001b[39;49m)\n\u001b[0;32m      3\u001b[0m \u001b[39mprint\u001b[39m(\u001b[39m\"\u001b[39m\u001b[39m\\n\u001b[39;00m\u001b[39mExample 27:\u001b[39m\u001b[39m\"\u001b[39m)\n\u001b[0;32m      4\u001b[0m \u001b[39mprint\u001b[39m(\u001b[39m\"\u001b[39m\u001b[39mDataFrame after appending df7 to df1 with a different number of columns and filling missing values with 0:\u001b[39m\u001b[39m\"\u001b[39m)\n",
      "\u001b[1;31mTypeError\u001b[0m: DataFrame.append() got an unexpected keyword argument 'fill_value'"
     ]
    }
   ],
   "source": [
    "# Example 27: Appending DataFrame with a different number of columns and filling missing values\n",
    "df_append_diff_cols_num_fill = df1.append(df7, sort=False, fill_value=0)\n",
    "print(\"\\nExample 27:\")\n",
    "print(\"DataFrame after appending df7 to df1 with a different number of columns and filling missing values with 0:\")\n",
    "print(df_append_diff_cols_num_fill)"
   ]
  },
  {
   "cell_type": "code",
   "execution_count": 32,
   "metadata": {},
   "outputs": [
    {
     "name": "stdout",
     "output_type": "stream",
     "text": [
      "\n",
      "Example 28:\n",
      "DataFrame after concatenating df1 and df8 with different datatypes:\n",
      "      Name   Age         City  Experience\n",
      "0     John  25.0     New York         NaN\n",
      "1    Alice  30.0  Los Angeles         NaN\n",
      "2  Michael  22.0      Chicago         NaN\n",
      "0      NaN   NaN          NaN         5.0\n",
      "1      NaN   NaN          NaN         3.0\n",
      "2      NaN   NaN          NaN         2.0\n"
     ]
    }
   ],
   "source": [
    "# Example 28: Concatenating DataFrames with different datatypes\n",
    "df8 = pd.DataFrame({'Experience': [5, 3, 2]})\n",
    "df_concat_diff_datatypes = pd.concat([df1, df8], sort=False)\n",
    "print(\"\\nExample 28:\")\n",
    "print(\"DataFrame after concatenating df1 and df8 with different datatypes:\")\n",
    "print(df_concat_diff_datatypes)"
   ]
  },
  {
   "cell_type": "code",
   "execution_count": 33,
   "metadata": {},
   "outputs": [
    {
     "ename": "TypeError",
     "evalue": "concat() got an unexpected keyword argument 'fill_value'",
     "output_type": "error",
     "traceback": [
      "\u001b[1;31m---------------------------------------------------------------------------\u001b[0m",
      "\u001b[1;31mTypeError\u001b[0m                                 Traceback (most recent call last)",
      "Cell \u001b[1;32mIn[33], line 2\u001b[0m\n\u001b[0;32m      1\u001b[0m \u001b[39m# Example 29: Concatenating DataFrames with different datatypes and filling missing values\u001b[39;00m\n\u001b[1;32m----> 2\u001b[0m df_concat_diff_datatypes_fill \u001b[39m=\u001b[39m pd\u001b[39m.\u001b[39;49mconcat([df1, df8], sort\u001b[39m=\u001b[39;49m\u001b[39mFalse\u001b[39;49;00m, fill_value\u001b[39m=\u001b[39;49m\u001b[39m0\u001b[39;49m)\n\u001b[0;32m      3\u001b[0m \u001b[39mprint\u001b[39m(\u001b[39m\"\u001b[39m\u001b[39m\\n\u001b[39;00m\u001b[39mExample 29:\u001b[39m\u001b[39m\"\u001b[39m)\n\u001b[0;32m      4\u001b[0m \u001b[39mprint\u001b[39m(\u001b[39m\"\u001b[39m\u001b[39mDataFrame after concatenating df1 and df8 with different datatypes and filling missing values with 0:\u001b[39m\u001b[39m\"\u001b[39m)\n",
      "File \u001b[1;32mc:\\Program Files\\Python311\\Lib\\site-packages\\pandas\\util\\_decorators.py:331\u001b[0m, in \u001b[0;36mdeprecate_nonkeyword_arguments.<locals>.decorate.<locals>.wrapper\u001b[1;34m(*args, **kwargs)\u001b[0m\n\u001b[0;32m    325\u001b[0m \u001b[39mif\u001b[39;00m \u001b[39mlen\u001b[39m(args) \u001b[39m>\u001b[39m num_allow_args:\n\u001b[0;32m    326\u001b[0m     warnings\u001b[39m.\u001b[39mwarn(\n\u001b[0;32m    327\u001b[0m         msg\u001b[39m.\u001b[39mformat(arguments\u001b[39m=\u001b[39m_format_argument_list(allow_args)),\n\u001b[0;32m    328\u001b[0m         \u001b[39mFutureWarning\u001b[39;00m,\n\u001b[0;32m    329\u001b[0m         stacklevel\u001b[39m=\u001b[39mfind_stack_level(),\n\u001b[0;32m    330\u001b[0m     )\n\u001b[1;32m--> 331\u001b[0m \u001b[39mreturn\u001b[39;00m func(\u001b[39m*\u001b[39;49margs, \u001b[39m*\u001b[39;49m\u001b[39m*\u001b[39;49mkwargs)\n",
      "\u001b[1;31mTypeError\u001b[0m: concat() got an unexpected keyword argument 'fill_value'"
     ]
    }
   ],
   "source": [
    "# Example 29: Concatenating DataFrames with different datatypes and filling missing values\n",
    "df_concat_diff_datatypes_fill = pd.concat([df1, df8], sort=False, fill_value=0)\n",
    "print(\"\\nExample 29:\")\n",
    "print(\"DataFrame after concatenating df1 and df8 with different datatypes and filling missing values with 0:\")\n",
    "print(df_concat_diff_datatypes_fill)"
   ]
  },
  {
   "cell_type": "code",
   "execution_count": 34,
   "metadata": {},
   "outputs": [
    {
     "name": "stdout",
     "output_type": "stream",
     "text": [
      "\n",
      "Example 30:\n",
      "DataFrame after concatenating df1 and df8 with different datatypes and keys:\n",
      "          Name   Age         City  Experience\n",
      "df1 0     John  25.0     New York         NaN\n",
      "    1    Alice  30.0  Los Angeles         NaN\n",
      "    2  Michael  22.0      Chicago         NaN\n",
      "df8 0      NaN   NaN          NaN         5.0\n",
      "    1      NaN   NaN          NaN         3.0\n",
      "    2      NaN   NaN          NaN         2.0\n"
     ]
    }
   ],
   "source": [
    "# Example 30: Concatenating DataFrames with different datatypes and keys\n",
    "df_concat_diff_datatypes_keys = pd.concat([df1, df8], keys=['df1', 'df8'], sort=False)\n",
    "print(\"\\nExample 30:\")\n",
    "print(\"DataFrame after concatenating df1 and df8 with different datatypes and keys:\")\n",
    "print(df_concat_diff_datatypes_keys)"
   ]
  },
  {
   "cell_type": "code",
   "execution_count": 35,
   "metadata": {},
   "outputs": [
    {
     "name": "stdout",
     "output_type": "stream",
     "text": [
      "\n",
      "Example 31:\n",
      "DataFrame after concatenating df1 and df9 with a different number of rows:\n",
      "      Name  Age         City\n",
      "0     John   25     New York\n",
      "1    Alice   30  Los Angeles\n",
      "2  Michael   22      Chicago\n",
      "0     Liam   35      Houston\n"
     ]
    }
   ],
   "source": [
    "# Example 31: Concatenating DataFrames with a different number of rows\n",
    "df9 = pd.DataFrame({'Name': ['Liam'], 'Age': [35], 'City': ['Houston']})\n",
    "df_concat_diff_rows = pd.concat([df1, df9], sort=False)\n",
    "print(\"\\nExample 31:\")\n",
    "print(\"DataFrame after concatenating df1 and df9 with a different number of rows:\")\n",
    "print(df_concat_diff_rows)"
   ]
  },
  {
   "cell_type": "code",
   "execution_count": 36,
   "metadata": {},
   "outputs": [
    {
     "ename": "TypeError",
     "evalue": "concat() got an unexpected keyword argument 'fill_value'",
     "output_type": "error",
     "traceback": [
      "\u001b[1;31m---------------------------------------------------------------------------\u001b[0m",
      "\u001b[1;31mTypeError\u001b[0m                                 Traceback (most recent call last)",
      "Cell \u001b[1;32mIn[36], line 2\u001b[0m\n\u001b[0;32m      1\u001b[0m \u001b[39m# Example 32: Concatenating DataFrames with a different number of rows and filling missing values\u001b[39;00m\n\u001b[1;32m----> 2\u001b[0m df_concat_diff_rows_fill \u001b[39m=\u001b[39m pd\u001b[39m.\u001b[39;49mconcat([df1, df9], sort\u001b[39m=\u001b[39;49m\u001b[39mFalse\u001b[39;49;00m, fill_value\u001b[39m=\u001b[39;49m\u001b[39m0\u001b[39;49m)\n\u001b[0;32m      3\u001b[0m \u001b[39mprint\u001b[39m(\u001b[39m\"\u001b[39m\u001b[39m\\n\u001b[39;00m\u001b[39mExample 32:\u001b[39m\u001b[39m\"\u001b[39m)\n\u001b[0;32m      4\u001b[0m \u001b[39mprint\u001b[39m(\u001b[39m\"\u001b[39m\u001b[39mDataFrame after concatenating df1 and df9 with a different number of rows and filling missing values with 0:\u001b[39m\u001b[39m\"\u001b[39m)\n",
      "File \u001b[1;32mc:\\Program Files\\Python311\\Lib\\site-packages\\pandas\\util\\_decorators.py:331\u001b[0m, in \u001b[0;36mdeprecate_nonkeyword_arguments.<locals>.decorate.<locals>.wrapper\u001b[1;34m(*args, **kwargs)\u001b[0m\n\u001b[0;32m    325\u001b[0m \u001b[39mif\u001b[39;00m \u001b[39mlen\u001b[39m(args) \u001b[39m>\u001b[39m num_allow_args:\n\u001b[0;32m    326\u001b[0m     warnings\u001b[39m.\u001b[39mwarn(\n\u001b[0;32m    327\u001b[0m         msg\u001b[39m.\u001b[39mformat(arguments\u001b[39m=\u001b[39m_format_argument_list(allow_args)),\n\u001b[0;32m    328\u001b[0m         \u001b[39mFutureWarning\u001b[39;00m,\n\u001b[0;32m    329\u001b[0m         stacklevel\u001b[39m=\u001b[39mfind_stack_level(),\n\u001b[0;32m    330\u001b[0m     )\n\u001b[1;32m--> 331\u001b[0m \u001b[39mreturn\u001b[39;00m func(\u001b[39m*\u001b[39;49margs, \u001b[39m*\u001b[39;49m\u001b[39m*\u001b[39;49mkwargs)\n",
      "\u001b[1;31mTypeError\u001b[0m: concat() got an unexpected keyword argument 'fill_value'"
     ]
    }
   ],
   "source": [
    "# Example 32: Concatenating DataFrames with a different number of rows and filling missing values\n",
    "df_concat_diff_rows_fill = pd.concat([df1, df9], sort=False, fill_value=0)\n",
    "print(\"\\nExample 32:\")\n",
    "print(\"DataFrame after concatenating df1 and df9 with a different number of rows and filling missing values with 0:\")\n",
    "print(df_concat_diff_rows_fill)"
   ]
  },
  {
   "cell_type": "code",
   "execution_count": 37,
   "metadata": {},
   "outputs": [
    {
     "name": "stdout",
     "output_type": "stream",
     "text": [
      "\n",
      "Example 33:\n",
      "DataFrame after concatenating df1 and df9 with a different number of rows and keys:\n",
      "          Name  Age         City\n",
      "df1 0     John   25     New York\n",
      "    1    Alice   30  Los Angeles\n",
      "    2  Michael   22      Chicago\n",
      "df9 0     Liam   35      Houston\n"
     ]
    }
   ],
   "source": [
    "# Example 33: Concatenating DataFrames with a different number of rows and keys\n",
    "df_concat_diff_rows_keys = pd.concat([df1, df9], keys=['df1', 'df9'], sort=False)\n",
    "print(\"\\nExample 33:\")\n",
    "print(\"DataFrame after concatenating df1 and df9 with a different number of rows and keys:\")\n",
    "print(df_concat_diff_rows_keys)"
   ]
  },
  {
   "cell_type": "code",
   "execution_count": 38,
   "metadata": {},
   "outputs": [
    {
     "name": "stdout",
     "output_type": "stream",
     "text": [
      "\n",
      "Example 34:\n",
      "DataFrame after appending df9 to df1 with a different number of rows:\n",
      "      Name  Age         City\n",
      "0     John   25     New York\n",
      "1    Alice   30  Los Angeles\n",
      "2  Michael   22      Chicago\n",
      "0     Liam   35      Houston\n"
     ]
    },
    {
     "name": "stderr",
     "output_type": "stream",
     "text": [
      "C:\\Users\\rvign\\AppData\\Local\\Temp\\ipykernel_17756\\3245684845.py:2: FutureWarning: The frame.append method is deprecated and will be removed from pandas in a future version. Use pandas.concat instead.\n",
      "  df_append_diff_rows = df1.append(df9, sort=False)\n"
     ]
    }
   ],
   "source": [
    "# Example 34: Appending DataFrame with a different number of rows\n",
    "df_append_diff_rows = df1.append(df9, sort=False)\n",
    "print(\"\\nExample 34:\")\n",
    "print(\"DataFrame after appending df9 to df1 with a different number of rows:\")\n",
    "print(df_append_diff_rows)"
   ]
  },
  {
   "cell_type": "code",
   "execution_count": 39,
   "metadata": {},
   "outputs": [
    {
     "ename": "TypeError",
     "evalue": "DataFrame.append() got an unexpected keyword argument 'fill_value'",
     "output_type": "error",
     "traceback": [
      "\u001b[1;31m---------------------------------------------------------------------------\u001b[0m",
      "\u001b[1;31mTypeError\u001b[0m                                 Traceback (most recent call last)",
      "Cell \u001b[1;32mIn[39], line 2\u001b[0m\n\u001b[0;32m      1\u001b[0m \u001b[39m# Example 35: Appending DataFrame with a different number of rows and filling missing values\u001b[39;00m\n\u001b[1;32m----> 2\u001b[0m df_append_diff_rows_fill \u001b[39m=\u001b[39m df1\u001b[39m.\u001b[39;49mappend(df9, sort\u001b[39m=\u001b[39;49m\u001b[39mFalse\u001b[39;49;00m, fill_value\u001b[39m=\u001b[39;49m\u001b[39m0\u001b[39;49m)\n\u001b[0;32m      3\u001b[0m \u001b[39mprint\u001b[39m(\u001b[39m\"\u001b[39m\u001b[39m\\n\u001b[39;00m\u001b[39mExample 35:\u001b[39m\u001b[39m\"\u001b[39m)\n\u001b[0;32m      4\u001b[0m \u001b[39mprint\u001b[39m(\u001b[39m\"\u001b[39m\u001b[39mDataFrame after appending df9 to df1 with a different number of rows and filling missing values with 0:\u001b[39m\u001b[39m\"\u001b[39m)\n",
      "\u001b[1;31mTypeError\u001b[0m: DataFrame.append() got an unexpected keyword argument 'fill_value'"
     ]
    }
   ],
   "source": [
    "# Example 35: Appending DataFrame with a different number of rows and filling missing values\n",
    "df_append_diff_rows_fill = df1.append(df9, sort=False, fill_value=0)\n",
    "print(\"\\nExample 35:\")\n",
    "print(\"DataFrame after appending df9 to df1 with a different number of rows and filling missing values with 0:\")\n",
    "print(df_append_diff_rows_fill)"
   ]
  },
  {
   "cell_type": "code",
   "execution_count": 40,
   "metadata": {},
   "outputs": [
    {
     "name": "stdout",
     "output_type": "stream",
     "text": [
      "\n",
      "Example 36:\n",
      "DataFrame after concatenating df1 and df10 with duplicate indices:\n",
      "      Name  Age         City\n",
      "0     John   25     New York\n",
      "1    Alice   30  Los Angeles\n",
      "2  Michael   22      Chicago\n",
      "0     Ella   29          NaN\n",
      "1   Oliver   26          NaN\n",
      "2   Daniel   24          NaN\n"
     ]
    }
   ],
   "source": [
    "# Example 36: Concatenating DataFrames with duplicate indices\n",
    "df10 = pd.DataFrame({'Name': ['Ella', 'Oliver', 'Daniel'],\n",
    "                     'Age': [29, 26, 24]},\n",
    "                    index=[0, 1, 2])\n",
    "df_concat_duplicate_indices = pd.concat([df1, df10], sort=False)\n",
    "print(\"\\nExample 36:\")\n",
    "print(\"DataFrame after concatenating df1 and df10 with duplicate indices:\")\n",
    "print(df_concat_duplicate_indices)"
   ]
  },
  {
   "cell_type": "code",
   "execution_count": 41,
   "metadata": {},
   "outputs": [
    {
     "name": "stdout",
     "output_type": "stream",
     "text": [
      "\n",
      "Example 37:\n",
      "DataFrame after concatenating df1 and df10 with duplicate indices and resetting index:\n",
      "      Name  Age         City\n",
      "0     John   25     New York\n",
      "1    Alice   30  Los Angeles\n",
      "2  Michael   22      Chicago\n",
      "3     Ella   29          NaN\n",
      "4   Oliver   26          NaN\n",
      "5   Daniel   24          NaN\n"
     ]
    }
   ],
   "source": [
    "# Example 37: Concatenating DataFrames with duplicate indices and resetting index\n",
    "df_concat_duplicate_indices_reset_index = pd.concat([df1, df10], ignore_index=True, sort=False)\n",
    "print(\"\\nExample 37:\")\n",
    "print(\"DataFrame after concatenating df1 and df10 with duplicate indices and resetting index:\")\n",
    "print(df_concat_duplicate_indices_reset_index)"
   ]
  },
  {
   "cell_type": "code",
   "execution_count": 42,
   "metadata": {},
   "outputs": [
    {
     "name": "stdout",
     "output_type": "stream",
     "text": [
      "\n",
      "Example 38:\n",
      "DataFrame after concatenating df1 and df10 with duplicate indices and keys:\n",
      "           Name  Age         City\n",
      "df1  0     John   25     New York\n",
      "     1    Alice   30  Los Angeles\n",
      "     2  Michael   22      Chicago\n",
      "df10 0     Ella   29          NaN\n",
      "     1   Oliver   26          NaN\n",
      "     2   Daniel   24          NaN\n"
     ]
    }
   ],
   "source": [
    "# Example 38: Concatenating DataFrames with duplicate indices and keys\n",
    "df_concat_duplicate_indices_keys = pd.concat([df1, df10], keys=['df1', 'df10'], sort=False)\n",
    "print(\"\\nExample 38:\")\n",
    "print(\"DataFrame after concatenating df1 and df10 with duplicate indices and keys:\")\n",
    "print(df_concat_duplicate_indices_keys)"
   ]
  },
  {
   "cell_type": "code",
   "execution_count": 43,
   "metadata": {},
   "outputs": [
    {
     "name": "stdout",
     "output_type": "stream",
     "text": [
      "\n",
      "Example 39:\n",
      "DataFrame after concatenating df1 and df4 with duplicate columns and indices:\n",
      "      Name  Age         City    Name  Age\n",
      "0     John   25     New York    Ella   29\n",
      "1    Alice   30  Los Angeles  Oliver   26\n",
      "2  Michael   22      Chicago  Daniel   24\n"
     ]
    }
   ],
   "source": [
    "# Example 39: Concatenating DataFrames with duplicate columns and indices\n",
    "df_concat_duplicate_cols_indices = pd.concat([df1, df4], axis=1)\n",
    "print(\"\\nExample 39:\")\n",
    "print(\"DataFrame after concatenating df1 and df4 with duplicate columns and indices:\")\n",
    "print(df_concat_duplicate_cols_indices)"
   ]
  },
  {
   "cell_type": "code",
   "execution_count": 44,
   "metadata": {},
   "outputs": [
    {
     "name": "stdout",
     "output_type": "stream",
     "text": [
      "\n",
      "Example 40:\n",
      "DataFrame after concatenating df1 and df4 with duplicate columns and indices and join='inner':\n",
      "      Name  Age         City    Name  Age\n",
      "0     John   25     New York    Ella   29\n",
      "1    Alice   30  Los Angeles  Oliver   26\n",
      "2  Michael   22      Chicago  Daniel   24\n"
     ]
    }
   ],
   "source": [
    "# Example 40: Concatenating DataFrames with duplicate columns and indices, and specifying join type\n",
    "df_concat_duplicate_cols_indices_join = pd.concat([df1, df4], axis=1, join='inner')\n",
    "print(\"\\nExample 40:\")\n",
    "print(\"DataFrame after concatenating df1 and df4 with duplicate columns and indices and join='inner':\")\n",
    "print(df_concat_duplicate_cols_indices_join)"
   ]
  },
  {
   "cell_type": "code",
   "execution_count": 45,
   "metadata": {},
   "outputs": [
    {
     "ename": "TypeError",
     "evalue": "concat() got an unexpected keyword argument 'fill_value'",
     "output_type": "error",
     "traceback": [
      "\u001b[1;31m---------------------------------------------------------------------------\u001b[0m",
      "\u001b[1;31mTypeError\u001b[0m                                 Traceback (most recent call last)",
      "Cell \u001b[1;32mIn[45], line 2\u001b[0m\n\u001b[0;32m      1\u001b[0m \u001b[39m# Example 41: Concatenating DataFrames with duplicate columns and indices, and specifying join type and fill values\u001b[39;00m\n\u001b[1;32m----> 2\u001b[0m df_concat_duplicate_cols_indices_fill \u001b[39m=\u001b[39m pd\u001b[39m.\u001b[39;49mconcat([df1, df4], axis\u001b[39m=\u001b[39;49m\u001b[39m1\u001b[39;49m, join\u001b[39m=\u001b[39;49m\u001b[39m'\u001b[39;49m\u001b[39minner\u001b[39;49m\u001b[39m'\u001b[39;49m, fill_value\u001b[39m=\u001b[39;49m\u001b[39m0\u001b[39;49m)\n\u001b[0;32m      3\u001b[0m \u001b[39mprint\u001b[39m(\u001b[39m\"\u001b[39m\u001b[39m\\n\u001b[39;00m\u001b[39mExample 41:\u001b[39m\u001b[39m\"\u001b[39m)\n\u001b[0;32m      4\u001b[0m \u001b[39mprint\u001b[39m(\u001b[39m\"\u001b[39m\u001b[39mDataFrame after concatenating df1 and df4 with duplicate columns and indices, join=\u001b[39m\u001b[39m'\u001b[39m\u001b[39minner\u001b[39m\u001b[39m'\u001b[39m\u001b[39m, and fill value 0:\u001b[39m\u001b[39m\"\u001b[39m)\n",
      "File \u001b[1;32mc:\\Program Files\\Python311\\Lib\\site-packages\\pandas\\util\\_decorators.py:331\u001b[0m, in \u001b[0;36mdeprecate_nonkeyword_arguments.<locals>.decorate.<locals>.wrapper\u001b[1;34m(*args, **kwargs)\u001b[0m\n\u001b[0;32m    325\u001b[0m \u001b[39mif\u001b[39;00m \u001b[39mlen\u001b[39m(args) \u001b[39m>\u001b[39m num_allow_args:\n\u001b[0;32m    326\u001b[0m     warnings\u001b[39m.\u001b[39mwarn(\n\u001b[0;32m    327\u001b[0m         msg\u001b[39m.\u001b[39mformat(arguments\u001b[39m=\u001b[39m_format_argument_list(allow_args)),\n\u001b[0;32m    328\u001b[0m         \u001b[39mFutureWarning\u001b[39;00m,\n\u001b[0;32m    329\u001b[0m         stacklevel\u001b[39m=\u001b[39mfind_stack_level(),\n\u001b[0;32m    330\u001b[0m     )\n\u001b[1;32m--> 331\u001b[0m \u001b[39mreturn\u001b[39;00m func(\u001b[39m*\u001b[39;49margs, \u001b[39m*\u001b[39;49m\u001b[39m*\u001b[39;49mkwargs)\n",
      "\u001b[1;31mTypeError\u001b[0m: concat() got an unexpected keyword argument 'fill_value'"
     ]
    }
   ],
   "source": [
    "# Example 41: Concatenating DataFrames with duplicate columns and indices, and specifying join type and fill values\n",
    "df_concat_duplicate_cols_indices_fill = pd.concat([df1, df4], axis=1, join='inner', fill_value=0)\n",
    "print(\"\\nExample 41:\")\n",
    "print(\"DataFrame after concatenating df1 and df4 with duplicate columns and indices, join='inner', and fill value 0:\")\n",
    "print(df_concat_duplicate_cols_indices_fill)"
   ]
  },
  {
   "cell_type": "code",
   "execution_count": 46,
   "metadata": {},
   "outputs": [
    {
     "name": "stdout",
     "output_type": "stream",
     "text": [
      "\n",
      "Example 42:\n",
      "DataFrame after concatenating df1 and df4 with outer join:\n",
      "      Name  Age         City    Name  Age\n",
      "0     John   25     New York    Ella   29\n",
      "1    Alice   30  Los Angeles  Oliver   26\n",
      "2  Michael   22      Chicago  Daniel   24\n"
     ]
    }
   ],
   "source": [
    "# Example 42: Concatenating DataFrames and performing outer join\n",
    "df_concat_outer_join = pd.concat([df1, df4], axis=1, join='outer')\n",
    "print(\"\\nExample 42:\")\n",
    "print(\"DataFrame after concatenating df1 and df4 with outer join:\")\n",
    "print(df_concat_outer_join)"
   ]
  },
  {
   "cell_type": "code",
   "execution_count": 47,
   "metadata": {},
   "outputs": [
    {
     "name": "stdout",
     "output_type": "stream",
     "text": [
      "\n",
      "Example 43:\n",
      "DataFrame after concatenating df1 and df6 with outer join and NaN values:\n",
      "      Name   Age         City     Name   Age         City\n",
      "0     John  25.0     New York      NaN   NaN          NaN\n",
      "1    Alice  30.0  Los Angeles      NaN   NaN          NaN\n",
      "2  Michael  22.0      Chicago      NaN   NaN          NaN\n",
      "3      NaN   NaN          NaN     John  25.0     New York\n",
      "4      NaN   NaN          NaN    Alice  30.0  Los Angeles\n",
      "5      NaN   NaN          NaN  Michael  22.0      Chicago\n"
     ]
    }
   ],
   "source": [
    "# Example 43: Concatenating DataFrames and performing outer join with NaN values\n",
    "df_concat_outer_join_nan = pd.concat([df1, df6], axis=1, join='outer')\n",
    "print(\"\\nExample 43:\")\n",
    "print(\"DataFrame after concatenating df1 and df6 with outer join and NaN values:\")\n",
    "print(df_concat_outer_join_nan)"
   ]
  },
  {
   "cell_type": "code",
   "execution_count": 48,
   "metadata": {},
   "outputs": [
    {
     "name": "stdout",
     "output_type": "stream",
     "text": [
      "\n",
      "Example 44:\n",
      "DataFrame after concatenating df1 and df4 with inner join:\n",
      "      Name  Age         City    Name  Age\n",
      "0     John   25     New York    Ella   29\n",
      "1    Alice   30  Los Angeles  Oliver   26\n",
      "2  Michael   22      Chicago  Daniel   24\n"
     ]
    }
   ],
   "source": [
    "# Example 44: Concatenating DataFrames and performing inner join\n",
    "df_concat_inner_join = pd.concat([df1, df4], axis=1, join='inner')\n",
    "print(\"\\nExample 44:\")\n",
    "print(\"DataFrame after concatenating df1 and df4 with inner join:\")\n",
    "print(df_concat_inner_join)"
   ]
  },
  {
   "cell_type": "code",
   "execution_count": 49,
   "metadata": {},
   "outputs": [
    {
     "name": "stdout",
     "output_type": "stream",
     "text": [
      "\n",
      "Example 45:\n",
      "DataFrame after concatenating df1 and df6 with inner join and NaN values:\n",
      "Empty DataFrame\n",
      "Columns: [Name, Age, City, Name, Age, City]\n",
      "Index: []\n"
     ]
    }
   ],
   "source": [
    "# Example 45: Concatenating DataFrames and performing inner join with NaN values\n",
    "df_concat_inner_join_nan = pd.concat([df1, df6], axis=1, join='inner')\n",
    "print(\"\\nExample 45:\")\n",
    "print(\"DataFrame after concatenating df1 and df6 with inner join and NaN values:\")\n",
    "print(df_concat_inner_join_nan)"
   ]
  },
  {
   "cell_type": "code",
   "execution_count": 50,
   "metadata": {},
   "outputs": [
    {
     "ename": "TypeError",
     "evalue": "concat() got an unexpected keyword argument 'join_axes'",
     "output_type": "error",
     "traceback": [
      "\u001b[1;31m---------------------------------------------------------------------------\u001b[0m",
      "\u001b[1;31mTypeError\u001b[0m                                 Traceback (most recent call last)",
      "Cell \u001b[1;32mIn[50], line 2\u001b[0m\n\u001b[0;32m      1\u001b[0m \u001b[39m# Example 46: Concatenating DataFrames and performing right join\u001b[39;00m\n\u001b[1;32m----> 2\u001b[0m df_concat_right_join \u001b[39m=\u001b[39m pd\u001b[39m.\u001b[39;49mconcat([df1, df4], axis\u001b[39m=\u001b[39;49m\u001b[39m1\u001b[39;49m, join_axes\u001b[39m=\u001b[39;49m[df4\u001b[39m.\u001b[39;49mindex])\n\u001b[0;32m      3\u001b[0m \u001b[39mprint\u001b[39m(\u001b[39m\"\u001b[39m\u001b[39m\\n\u001b[39;00m\u001b[39mExample 46:\u001b[39m\u001b[39m\"\u001b[39m)\n\u001b[0;32m      4\u001b[0m \u001b[39mprint\u001b[39m(\u001b[39m\"\u001b[39m\u001b[39mDataFrame after concatenating df1 and df4 with right join:\u001b[39m\u001b[39m\"\u001b[39m)\n",
      "File \u001b[1;32mc:\\Program Files\\Python311\\Lib\\site-packages\\pandas\\util\\_decorators.py:331\u001b[0m, in \u001b[0;36mdeprecate_nonkeyword_arguments.<locals>.decorate.<locals>.wrapper\u001b[1;34m(*args, **kwargs)\u001b[0m\n\u001b[0;32m    325\u001b[0m \u001b[39mif\u001b[39;00m \u001b[39mlen\u001b[39m(args) \u001b[39m>\u001b[39m num_allow_args:\n\u001b[0;32m    326\u001b[0m     warnings\u001b[39m.\u001b[39mwarn(\n\u001b[0;32m    327\u001b[0m         msg\u001b[39m.\u001b[39mformat(arguments\u001b[39m=\u001b[39m_format_argument_list(allow_args)),\n\u001b[0;32m    328\u001b[0m         \u001b[39mFutureWarning\u001b[39;00m,\n\u001b[0;32m    329\u001b[0m         stacklevel\u001b[39m=\u001b[39mfind_stack_level(),\n\u001b[0;32m    330\u001b[0m     )\n\u001b[1;32m--> 331\u001b[0m \u001b[39mreturn\u001b[39;00m func(\u001b[39m*\u001b[39;49margs, \u001b[39m*\u001b[39;49m\u001b[39m*\u001b[39;49mkwargs)\n",
      "\u001b[1;31mTypeError\u001b[0m: concat() got an unexpected keyword argument 'join_axes'"
     ]
    }
   ],
   "source": [
    "# Example 46: Concatenating DataFrames and performing right join\n",
    "df_concat_right_join = pd.concat([df1, df4], axis=1, join_axes=[df4.index])\n",
    "print(\"\\nExample 46:\")\n",
    "print(\"DataFrame after concatenating df1 and df4 with right join:\")\n",
    "print(df_concat_right_join)"
   ]
  },
  {
   "cell_type": "code",
   "execution_count": 51,
   "metadata": {},
   "outputs": [
    {
     "ename": "TypeError",
     "evalue": "concat() got an unexpected keyword argument 'join_axes'",
     "output_type": "error",
     "traceback": [
      "\u001b[1;31m---------------------------------------------------------------------------\u001b[0m",
      "\u001b[1;31mTypeError\u001b[0m                                 Traceback (most recent call last)",
      "Cell \u001b[1;32mIn[51], line 2\u001b[0m\n\u001b[0;32m      1\u001b[0m \u001b[39m# Example 47: Concatenating DataFrames and performing left join\u001b[39;00m\n\u001b[1;32m----> 2\u001b[0m df_concat_left_join \u001b[39m=\u001b[39m pd\u001b[39m.\u001b[39;49mconcat([df1, df4], axis\u001b[39m=\u001b[39;49m\u001b[39m1\u001b[39;49m, join_axes\u001b[39m=\u001b[39;49m[df1\u001b[39m.\u001b[39;49mindex])\n\u001b[0;32m      3\u001b[0m \u001b[39mprint\u001b[39m(\u001b[39m\"\u001b[39m\u001b[39m\\n\u001b[39;00m\u001b[39mExample 47:\u001b[39m\u001b[39m\"\u001b[39m)\n\u001b[0;32m      4\u001b[0m \u001b[39mprint\u001b[39m(\u001b[39m\"\u001b[39m\u001b[39mDataFrame after concatenating df1 and df4 with left join:\u001b[39m\u001b[39m\"\u001b[39m)\n",
      "File \u001b[1;32mc:\\Program Files\\Python311\\Lib\\site-packages\\pandas\\util\\_decorators.py:331\u001b[0m, in \u001b[0;36mdeprecate_nonkeyword_arguments.<locals>.decorate.<locals>.wrapper\u001b[1;34m(*args, **kwargs)\u001b[0m\n\u001b[0;32m    325\u001b[0m \u001b[39mif\u001b[39;00m \u001b[39mlen\u001b[39m(args) \u001b[39m>\u001b[39m num_allow_args:\n\u001b[0;32m    326\u001b[0m     warnings\u001b[39m.\u001b[39mwarn(\n\u001b[0;32m    327\u001b[0m         msg\u001b[39m.\u001b[39mformat(arguments\u001b[39m=\u001b[39m_format_argument_list(allow_args)),\n\u001b[0;32m    328\u001b[0m         \u001b[39mFutureWarning\u001b[39;00m,\n\u001b[0;32m    329\u001b[0m         stacklevel\u001b[39m=\u001b[39mfind_stack_level(),\n\u001b[0;32m    330\u001b[0m     )\n\u001b[1;32m--> 331\u001b[0m \u001b[39mreturn\u001b[39;00m func(\u001b[39m*\u001b[39;49margs, \u001b[39m*\u001b[39;49m\u001b[39m*\u001b[39;49mkwargs)\n",
      "\u001b[1;31mTypeError\u001b[0m: concat() got an unexpected keyword argument 'join_axes'"
     ]
    }
   ],
   "source": [
    "# Example 47: Concatenating DataFrames and performing left join\n",
    "df_concat_left_join = pd.concat([df1, df4], axis=1, join_axes=[df1.index])\n",
    "print(\"\\nExample 47:\")\n",
    "print(\"DataFrame after concatenating df1 and df4 with left join:\")\n",
    "print(df_concat_left_join)"
   ]
  },
  {
   "cell_type": "code",
   "execution_count": 52,
   "metadata": {},
   "outputs": [
    {
     "ename": "TypeError",
     "evalue": "concat() got an unexpected keyword argument 'join_axes'",
     "output_type": "error",
     "traceback": [
      "\u001b[1;31m---------------------------------------------------------------------------\u001b[0m",
      "\u001b[1;31mTypeError\u001b[0m                                 Traceback (most recent call last)",
      "Cell \u001b[1;32mIn[52], line 2\u001b[0m\n\u001b[0;32m      1\u001b[0m \u001b[39m# Example 48: Concatenating DataFrames and performing left join with NaN values\u001b[39;00m\n\u001b[1;32m----> 2\u001b[0m df_concat_left_join_nan \u001b[39m=\u001b[39m pd\u001b[39m.\u001b[39;49mconcat([df1, df6], axis\u001b[39m=\u001b[39;49m\u001b[39m1\u001b[39;49m, join_axes\u001b[39m=\u001b[39;49m[df1\u001b[39m.\u001b[39;49mindex])\n\u001b[0;32m      3\u001b[0m \u001b[39mprint\u001b[39m(\u001b[39m\"\u001b[39m\u001b[39m\\n\u001b[39;00m\u001b[39mExample 48:\u001b[39m\u001b[39m\"\u001b[39m)\n\u001b[0;32m      4\u001b[0m \u001b[39mprint\u001b[39m(\u001b[39m\"\u001b[39m\u001b[39mDataFrame after concatenating df1 and df6 with left join and NaN values:\u001b[39m\u001b[39m\"\u001b[39m)\n",
      "File \u001b[1;32mc:\\Program Files\\Python311\\Lib\\site-packages\\pandas\\util\\_decorators.py:331\u001b[0m, in \u001b[0;36mdeprecate_nonkeyword_arguments.<locals>.decorate.<locals>.wrapper\u001b[1;34m(*args, **kwargs)\u001b[0m\n\u001b[0;32m    325\u001b[0m \u001b[39mif\u001b[39;00m \u001b[39mlen\u001b[39m(args) \u001b[39m>\u001b[39m num_allow_args:\n\u001b[0;32m    326\u001b[0m     warnings\u001b[39m.\u001b[39mwarn(\n\u001b[0;32m    327\u001b[0m         msg\u001b[39m.\u001b[39mformat(arguments\u001b[39m=\u001b[39m_format_argument_list(allow_args)),\n\u001b[0;32m    328\u001b[0m         \u001b[39mFutureWarning\u001b[39;00m,\n\u001b[0;32m    329\u001b[0m         stacklevel\u001b[39m=\u001b[39mfind_stack_level(),\n\u001b[0;32m    330\u001b[0m     )\n\u001b[1;32m--> 331\u001b[0m \u001b[39mreturn\u001b[39;00m func(\u001b[39m*\u001b[39;49margs, \u001b[39m*\u001b[39;49m\u001b[39m*\u001b[39;49mkwargs)\n",
      "\u001b[1;31mTypeError\u001b[0m: concat() got an unexpected keyword argument 'join_axes'"
     ]
    }
   ],
   "source": [
    "# Example 48: Concatenating DataFrames and performing left join with NaN values\n",
    "df_concat_left_join_nan = pd.concat([df1, df6], axis=1, join_axes=[df1.index])\n",
    "print(\"\\nExample 48:\")\n",
    "print(\"DataFrame after concatenating df1 and df6 with left join and NaN values:\")\n",
    "print(df_concat_left_join_nan)"
   ]
  },
  {
   "cell_type": "code",
   "execution_count": 53,
   "metadata": {},
   "outputs": [
    {
     "name": "stdout",
     "output_type": "stream",
     "text": [
      "\n",
      "Example 49:\n",
      "DataFrame after concatenating df1 and df11 with outer join and different column order:\n",
      "      Name  Age         City  Age         City\n",
      "0     John   25     New York   22      Chicago\n",
      "1    Alice   30  Los Angeles   30  Los Angeles\n",
      "2  Michael   22      Chicago   25     New York\n"
     ]
    }
   ],
   "source": [
    "# Example 49: Concatenating DataFrames and performing outer join with different column order\n",
    "df11 = pd.DataFrame({'Age': [22, 30, 25],\n",
    "                     'City': ['Chicago', 'Los Angeles', 'New York']})\n",
    "df_concat_diff_col_order = pd.concat([df1, df11], axis=1, join='outer')\n",
    "print(\"\\nExample 49:\")\n",
    "print(\"DataFrame after concatenating df1 and df11 with outer join and different column order:\")\n",
    "print(df_concat_diff_col_order)"
   ]
  },
  {
   "cell_type": "code",
   "execution_count": 54,
   "metadata": {},
   "outputs": [
    {
     "name": "stdout",
     "output_type": "stream",
     "text": [
      "\n",
      "Example 50:\n",
      "DataFrame after concatenating df1 and df12 with outer join and different index order:\n",
      "      Name  Age         City    Name  Age         City\n",
      "0     John   25     New York    John   25     New York\n",
      "1    Alice   30  Los Angeles   Alice   30  Los Angeles\n",
      "2  Michael   22      Chicago  Sophia   28       Boston\n"
     ]
    }
   ],
   "source": [
    "# Example 50: Concatenating DataFrames and performing outer join with different index order\n",
    "df12 = pd.DataFrame({'Name': ['Sophia', 'John', 'Alice'],\n",
    "                     'Age': [28, 25, 30],\n",
    "                     'City': ['Boston', 'New York', 'Los Angeles']},\n",
    "                    index=[2, 0, 1])\n",
    "df_concat_diff_index_order = pd.concat([df1, df12], axis=1, join='outer')\n",
    "print(\"\\nExample 50:\")\n",
    "print(\"DataFrame after concatenating df1 and df12 with outer join and different index order:\")\n",
    "print(df_concat_diff_index_order)"
   ]
  }
 ],
 "metadata": {
  "kernelspec": {
   "display_name": "Python 3",
   "language": "python",
   "name": "python3"
  },
  "language_info": {
   "codemirror_mode": {
    "name": "ipython",
    "version": 3
   },
   "file_extension": ".py",
   "mimetype": "text/x-python",
   "name": "python",
   "nbconvert_exporter": "python",
   "pygments_lexer": "ipython3",
   "version": "3.11.2"
  },
  "orig_nbformat": 4
 },
 "nbformat": 4,
 "nbformat_minor": 2
}
