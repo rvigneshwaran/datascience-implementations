{
 "cells": [
  {
   "cell_type": "code",
   "execution_count": 1,
   "metadata": {},
   "outputs": [],
   "source": [
    "import pandas as pd"
   ]
  },
  {
   "cell_type": "code",
   "execution_count": 3,
   "metadata": {},
   "outputs": [
    {
     "name": "stdout",
     "output_type": "stream",
     "text": [
      "DataFrame 1:\n",
      "      Name  Age         City\n",
      "0     John   25     New York\n",
      "1    Alice   30  Los Angeles\n",
      "2  Michael   22      Chicago\n",
      "\n",
      "DataFrame 2:\n",
      "     Name  Age           City\n",
      "0   Emily   27  San Francisco\n",
      "1   James   24        Seattle\n",
      "2  Sophia   28         Boston\n"
     ]
    }
   ],
   "source": [
    "# Creating DataFrames for demonstration\n",
    "data1 = {'Name': ['John', 'Alice', 'Michael'],\n",
    "         'Age': [25, 30, 22],\n",
    "         'City': ['New York', 'Los Angeles', 'Chicago']}\n",
    "data2 = {'Name': ['Emily', 'James', 'Sophia'],\n",
    "         'Age': [27, 24, 28],\n",
    "         'City': ['San Francisco', 'Seattle', 'Boston']}\n",
    "\n",
    "df1 = pd.DataFrame(data1)\n",
    "df2 = pd.DataFrame(data2)\n",
    "\n",
    "print(\"DataFrame 1:\")\n",
    "print(df1)\n",
    "\n",
    "print(\"\\nDataFrame 2:\")\n",
    "print(df2)"
   ]
  },
  {
   "cell_type": "code",
   "execution_count": 4,
   "metadata": {},
   "outputs": [
    {
     "name": "stdout",
     "output_type": "stream",
     "text": [
      "\n",
      "Example 1:\n",
      "DataFrame after concatenating vertically:\n",
      "      Name  Age           City\n",
      "0     John   25       New York\n",
      "1    Alice   30    Los Angeles\n",
      "2  Michael   22        Chicago\n",
      "0    Emily   27  San Francisco\n",
      "1    James   24        Seattle\n",
      "2   Sophia   28         Boston\n"
     ]
    }
   ],
   "source": [
    "# Example 1: Concatenating DataFrames vertically using concat()\n",
    "df_concat_vertical = pd.concat([df1, df2])\n",
    "print(\"\\nExample 1:\")\n",
    "print(\"DataFrame after concatenating vertically:\")\n",
    "print(df_concat_vertical)"
   ]
  },
  {
   "cell_type": "code",
   "execution_count": 5,
   "metadata": {},
   "outputs": [
    {
     "name": "stdout",
     "output_type": "stream",
     "text": [
      "\n",
      "Example 2:\n",
      "DataFrame after concatenating vertically and resetting index:\n",
      "      Name  Age           City\n",
      "0     John   25       New York\n",
      "1    Alice   30    Los Angeles\n",
      "2  Michael   22        Chicago\n",
      "3    Emily   27  San Francisco\n",
      "4    James   24        Seattle\n",
      "5   Sophia   28         Boston\n"
     ]
    }
   ],
   "source": [
    "# Example 2: Resetting index after concatenating vertically\n",
    "df_concat_vertical_reset_index = pd.concat([df1, df2], ignore_index=True)\n",
    "print(\"\\nExample 2:\")\n",
    "print(\"DataFrame after concatenating vertically and resetting index:\")\n",
    "print(df_concat_vertical_reset_index)"
   ]
  },
  {
   "cell_type": "code",
   "execution_count": 6,
   "metadata": {},
   "outputs": [
    {
     "name": "stdout",
     "output_type": "stream",
     "text": [
      "\n",
      "Example 3:\n",
      "DataFrame after concatenating horizontally:\n",
      "      Name  Age         City    Name  Age           City\n",
      "0     John   25     New York   Emily   27  San Francisco\n",
      "1    Alice   30  Los Angeles   James   24        Seattle\n",
      "2  Michael   22      Chicago  Sophia   28         Boston\n"
     ]
    }
   ],
   "source": [
    "# Example 3: Concatenating DataFrames horizontally using concat()\n",
    "df_concat_horizontal = pd.concat([df1, df2], axis=1)\n",
    "print(\"\\nExample 3:\")\n",
    "print(\"DataFrame after concatenating horizontally:\")\n",
    "print(df_concat_horizontal)"
   ]
  },
  {
   "cell_type": "code",
   "execution_count": 7,
   "metadata": {},
   "outputs": [
    {
     "name": "stdout",
     "output_type": "stream",
     "text": [
      "\n",
      "Example 4:\n",
      "DataFrame after appending df2 to df1:\n",
      "      Name  Age           City\n",
      "0     John   25       New York\n",
      "1    Alice   30    Los Angeles\n",
      "2  Michael   22        Chicago\n",
      "0    Emily   27  San Francisco\n",
      "1    James   24        Seattle\n",
      "2   Sophia   28         Boston\n"
     ]
    },
    {
     "name": "stderr",
     "output_type": "stream",
     "text": [
      "C:\\Users\\rvign\\AppData\\Local\\Temp\\ipykernel_17756\\2336885926.py:2: FutureWarning: The frame.append method is deprecated and will be removed from pandas in a future version. Use pandas.concat instead.\n",
      "  df_append = df1.append(df2)\n"
     ]
    }
   ],
   "source": [
    "# Example 4: Appending one DataFrame to another using append()\n",
    "df_append = df1.append(df2)\n",
    "print(\"\\nExample 4:\")\n",
    "print(\"DataFrame after appending df2 to df1:\")\n",
    "print(df_append)"
   ]
  },
  {
   "cell_type": "code",
   "execution_count": 8,
   "metadata": {},
   "outputs": [
    {
     "name": "stdout",
     "output_type": "stream",
     "text": [
      "\n",
      "Example 5:\n",
      "DataFrame after appending df2 to df1 and resetting index:\n",
      "      Name  Age           City\n",
      "0     John   25       New York\n",
      "1    Alice   30    Los Angeles\n",
      "2  Michael   22        Chicago\n",
      "3    Emily   27  San Francisco\n",
      "4    James   24        Seattle\n",
      "5   Sophia   28         Boston\n"
     ]
    },
    {
     "name": "stderr",
     "output_type": "stream",
     "text": [
      "C:\\Users\\rvign\\AppData\\Local\\Temp\\ipykernel_17756\\3437855869.py:2: FutureWarning: The frame.append method is deprecated and will be removed from pandas in a future version. Use pandas.concat instead.\n",
      "  df_append_reset_index = df1.append(df2, ignore_index=True)\n"
     ]
    }
   ],
   "source": [
    "# Example 5: Resetting index after appending DataFrames\n",
    "df_append_reset_index = df1.append(df2, ignore_index=True)\n",
    "print(\"\\nExample 5:\")\n",
    "print(\"DataFrame after appending df2 to df1 and resetting index:\")\n",
    "print(df_append_reset_index)"
   ]
  },
  {
   "cell_type": "code",
   "execution_count": 9,
   "metadata": {},
   "outputs": [
    {
     "name": "stdout",
     "output_type": "stream",
     "text": [
      "\n",
      "Example 6:\n",
      "DataFrame after concatenating df1 and df3 with different columns:\n",
      "      Name  Age         City  Salary\n",
      "0     John   25     New York   50000\n",
      "1    Alice   30  Los Angeles   60000\n",
      "2  Michael   22      Chicago   45000\n"
     ]
    }
   ],
   "source": [
    "# Example 6: Concatenating DataFrames with different columns\n",
    "df3 = pd.DataFrame({'Salary': [50000, 60000, 45000]})\n",
    "df_concat_diff_cols = pd.concat([df1, df3], axis=1)\n",
    "print(\"\\nExample 6:\")\n",
    "print(\"DataFrame after concatenating df1 and df3 with different columns:\")\n",
    "print(df_concat_diff_cols)"
   ]
  },
  {
   "cell_type": "code",
   "execution_count": 10,
   "metadata": {},
   "outputs": [
    {
     "ename": "TypeError",
     "evalue": "concat() got an unexpected keyword argument 'fill_value'",
     "output_type": "error",
     "traceback": [
      "\u001b[1;31m---------------------------------------------------------------------------\u001b[0m",
      "\u001b[1;31mTypeError\u001b[0m                                 Traceback (most recent call last)",
      "Cell \u001b[1;32mIn[10], line 2\u001b[0m\n\u001b[0;32m      1\u001b[0m \u001b[39m# Example 7: Concatenating DataFrames with different columns and filling missing values\u001b[39;00m\n\u001b[1;32m----> 2\u001b[0m df_concat_diff_cols_fill \u001b[39m=\u001b[39m pd\u001b[39m.\u001b[39;49mconcat([df1, df3], axis\u001b[39m=\u001b[39;49m\u001b[39m1\u001b[39;49m, fill_value\u001b[39m=\u001b[39;49m\u001b[39m0\u001b[39;49m)\n\u001b[0;32m      3\u001b[0m \u001b[39mprint\u001b[39m(\u001b[39m\"\u001b[39m\u001b[39m\\n\u001b[39;00m\u001b[39mExample 7:\u001b[39m\u001b[39m\"\u001b[39m)\n\u001b[0;32m      4\u001b[0m \u001b[39mprint\u001b[39m(\u001b[39m\"\u001b[39m\u001b[39mDataFrame after concatenating df1 and df3 with different columns and filling missing values with 0:\u001b[39m\u001b[39m\"\u001b[39m)\n",
      "File \u001b[1;32mc:\\Program Files\\Python311\\Lib\\site-packages\\pandas\\util\\_decorators.py:331\u001b[0m, in \u001b[0;36mdeprecate_nonkeyword_arguments.<locals>.decorate.<locals>.wrapper\u001b[1;34m(*args, **kwargs)\u001b[0m\n\u001b[0;32m    325\u001b[0m \u001b[39mif\u001b[39;00m \u001b[39mlen\u001b[39m(args) \u001b[39m>\u001b[39m num_allow_args:\n\u001b[0;32m    326\u001b[0m     warnings\u001b[39m.\u001b[39mwarn(\n\u001b[0;32m    327\u001b[0m         msg\u001b[39m.\u001b[39mformat(arguments\u001b[39m=\u001b[39m_format_argument_list(allow_args)),\n\u001b[0;32m    328\u001b[0m         \u001b[39mFutureWarning\u001b[39;00m,\n\u001b[0;32m    329\u001b[0m         stacklevel\u001b[39m=\u001b[39mfind_stack_level(),\n\u001b[0;32m    330\u001b[0m     )\n\u001b[1;32m--> 331\u001b[0m \u001b[39mreturn\u001b[39;00m func(\u001b[39m*\u001b[39;49margs, \u001b[39m*\u001b[39;49m\u001b[39m*\u001b[39;49mkwargs)\n",
      "\u001b[1;31mTypeError\u001b[0m: concat() got an unexpected keyword argument 'fill_value'"
     ]
    }
   ],
   "source": [
    "# Example 7: Concatenating DataFrames with different columns and filling missing values\n",
    "df_concat_diff_cols_fill = pd.concat([df1, df3], axis=1, fill_value=0)\n",
    "print(\"\\nExample 7:\")\n",
    "print(\"DataFrame after concatenating df1 and df3 with different columns and filling missing values with 0:\")\n",
    "print(df_concat_diff_cols_fill)\n"
   ]
  },
  {
   "cell_type": "code",
   "execution_count": 11,
   "metadata": {},
   "outputs": [
    {
     "name": "stdout",
     "output_type": "stream",
     "text": [
      "\n",
      "Example 8:\n",
      "DataFrame after concatenating df1 and df2 with MultiIndex:\n",
      "          Name  Age           City\n",
      "df1 0     John   25       New York\n",
      "    1    Alice   30    Los Angeles\n",
      "    2  Michael   22        Chicago\n",
      "df2 0    Emily   27  San Francisco\n",
      "    1    James   24        Seattle\n",
      "    2   Sophia   28         Boston\n"
     ]
    }
   ],
   "source": [
    "# Example 8: Concatenating DataFrames with a MultiIndex\n",
    "df_concat_multiindex = pd.concat([df1, df2], keys=['df1', 'df2'])\n",
    "print(\"\\nExample 8:\")\n",
    "print(\"DataFrame after concatenating df1 and df2 with MultiIndex:\")\n",
    "print(df_concat_multiindex)\n"
   ]
  },
  {
   "cell_type": "code",
   "execution_count": 12,
   "metadata": {},
   "outputs": [
    {
     "name": "stdout",
     "output_type": "stream",
     "text": [
      "\n",
      "Example 9:\n",
      "DataFrame after concatenating df1 and df2 with MultiIndex and resetting index:\n",
      "      Name  Age           City\n",
      "0     John   25       New York\n",
      "1    Alice   30    Los Angeles\n",
      "2  Michael   22        Chicago\n",
      "3    Emily   27  San Francisco\n",
      "4    James   24        Seattle\n",
      "5   Sophia   28         Boston\n"
     ]
    }
   ],
   "source": [
    "# Example 9: Concatenating DataFrames with a MultiIndex and resetting index\n",
    "df_concat_multiindex_reset_index = pd.concat([df1, df2], keys=['df1', 'df2'], ignore_index=True)\n",
    "print(\"\\nExample 9:\")\n",
    "print(\"DataFrame after concatenating df1 and df2 with MultiIndex and resetting index:\")\n",
    "print(df_concat_multiindex_reset_index)"
   ]
  },
  {
   "cell_type": "code",
   "execution_count": 13,
   "metadata": {},
   "outputs": [
    {
     "name": "stdout",
     "output_type": "stream",
     "text": [
      "\n",
      "Example 10:\n",
      "DataFrame after appending df3 to df1 with different columns:\n",
      "      Name   Age         City   Salary\n",
      "0     John  25.0     New York      NaN\n",
      "1    Alice  30.0  Los Angeles      NaN\n",
      "2  Michael  22.0      Chicago      NaN\n",
      "0      NaN   NaN          NaN  50000.0\n",
      "1      NaN   NaN          NaN  60000.0\n",
      "2      NaN   NaN          NaN  45000.0\n"
     ]
    },
    {
     "name": "stderr",
     "output_type": "stream",
     "text": [
      "C:\\Users\\rvign\\AppData\\Local\\Temp\\ipykernel_17756\\144843194.py:2: FutureWarning: The frame.append method is deprecated and will be removed from pandas in a future version. Use pandas.concat instead.\n",
      "  df_append_diff_cols = df1.append(df3, sort=False)\n"
     ]
    }
   ],
   "source": [
    "# Example 10: Appending DataFrame to another with different columns\n",
    "df_append_diff_cols = df1.append(df3, sort=False)\n",
    "print(\"\\nExample 10:\")\n",
    "print(\"DataFrame after appending df3 to df1 with different columns:\")\n",
    "print(df_append_diff_cols)"
   ]
  }
 ],
 "metadata": {
  "kernelspec": {
   "display_name": "Python 3",
   "language": "python",
   "name": "python3"
  },
  "language_info": {
   "codemirror_mode": {
    "name": "ipython",
    "version": 3
   },
   "file_extension": ".py",
   "mimetype": "text/x-python",
   "name": "python",
   "nbconvert_exporter": "python",
   "pygments_lexer": "ipython3",
   "version": "3.11.2"
  },
  "orig_nbformat": 4
 },
 "nbformat": 4,
 "nbformat_minor": 2
}
