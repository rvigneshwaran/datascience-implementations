{
 "cells": [
  {
   "cell_type": "code",
   "execution_count": 1,
   "metadata": {},
   "outputs": [],
   "source": [
    "import pandas as pd"
   ]
  },
  {
   "cell_type": "code",
   "execution_count": 3,
   "metadata": {},
   "outputs": [
    {
     "name": "stdout",
     "output_type": "stream",
     "text": [
      "DataFrame 1:\n",
      "      Name  Age         City\n",
      "0     John   25     New York\n",
      "1    Alice   30  Los Angeles\n",
      "2  Michael   22      Chicago\n",
      "\n",
      "DataFrame 2:\n",
      "     Name  Age           City\n",
      "0   Emily   27  San Francisco\n",
      "1   James   24        Seattle\n",
      "2  Sophia   28         Boston\n"
     ]
    }
   ],
   "source": [
    "# Creating DataFrames for demonstration\n",
    "data1 = {'Name': ['John', 'Alice', 'Michael'],\n",
    "         'Age': [25, 30, 22],\n",
    "         'City': ['New York', 'Los Angeles', 'Chicago']}\n",
    "data2 = {'Name': ['Emily', 'James', 'Sophia'],\n",
    "         'Age': [27, 24, 28],\n",
    "         'City': ['San Francisco', 'Seattle', 'Boston']}\n",
    "\n",
    "df1 = pd.DataFrame(data1)\n",
    "df2 = pd.DataFrame(data2)\n",
    "\n",
    "print(\"DataFrame 1:\")\n",
    "print(df1)\n",
    "\n",
    "print(\"\\nDataFrame 2:\")\n",
    "print(df2)"
   ]
  },
  {
   "cell_type": "code",
   "execution_count": 4,
   "metadata": {},
   "outputs": [
    {
     "name": "stdout",
     "output_type": "stream",
     "text": [
      "\n",
      "Example 1:\n",
      "DataFrame after concatenating vertically:\n",
      "      Name  Age           City\n",
      "0     John   25       New York\n",
      "1    Alice   30    Los Angeles\n",
      "2  Michael   22        Chicago\n",
      "0    Emily   27  San Francisco\n",
      "1    James   24        Seattle\n",
      "2   Sophia   28         Boston\n"
     ]
    }
   ],
   "source": [
    "# Example 1: Concatenating DataFrames vertically using concat()\n",
    "df_concat_vertical = pd.concat([df1, df2])\n",
    "print(\"\\nExample 1:\")\n",
    "print(\"DataFrame after concatenating vertically:\")\n",
    "print(df_concat_vertical)"
   ]
  },
  {
   "cell_type": "code",
   "execution_count": 5,
   "metadata": {},
   "outputs": [
    {
     "name": "stdout",
     "output_type": "stream",
     "text": [
      "\n",
      "Example 2:\n",
      "DataFrame after concatenating vertically and resetting index:\n",
      "      Name  Age           City\n",
      "0     John   25       New York\n",
      "1    Alice   30    Los Angeles\n",
      "2  Michael   22        Chicago\n",
      "3    Emily   27  San Francisco\n",
      "4    James   24        Seattle\n",
      "5   Sophia   28         Boston\n"
     ]
    }
   ],
   "source": [
    "# Example 2: Resetting index after concatenating vertically\n",
    "df_concat_vertical_reset_index = pd.concat([df1, df2], ignore_index=True)\n",
    "print(\"\\nExample 2:\")\n",
    "print(\"DataFrame after concatenating vertically and resetting index:\")\n",
    "print(df_concat_vertical_reset_index)"
   ]
  },
  {
   "cell_type": "code",
   "execution_count": 6,
   "metadata": {},
   "outputs": [
    {
     "name": "stdout",
     "output_type": "stream",
     "text": [
      "\n",
      "Example 3:\n",
      "DataFrame after concatenating horizontally:\n",
      "      Name  Age         City    Name  Age           City\n",
      "0     John   25     New York   Emily   27  San Francisco\n",
      "1    Alice   30  Los Angeles   James   24        Seattle\n",
      "2  Michael   22      Chicago  Sophia   28         Boston\n"
     ]
    }
   ],
   "source": [
    "# Example 3: Concatenating DataFrames horizontally using concat()\n",
    "df_concat_horizontal = pd.concat([df1, df2], axis=1)\n",
    "print(\"\\nExample 3:\")\n",
    "print(\"DataFrame after concatenating horizontally:\")\n",
    "print(df_concat_horizontal)"
   ]
  },
  {
   "cell_type": "code",
   "execution_count": 7,
   "metadata": {},
   "outputs": [
    {
     "name": "stdout",
     "output_type": "stream",
     "text": [
      "\n",
      "Example 4:\n",
      "DataFrame after appending df2 to df1:\n",
      "      Name  Age           City\n",
      "0     John   25       New York\n",
      "1    Alice   30    Los Angeles\n",
      "2  Michael   22        Chicago\n",
      "0    Emily   27  San Francisco\n",
      "1    James   24        Seattle\n",
      "2   Sophia   28         Boston\n"
     ]
    },
    {
     "name": "stderr",
     "output_type": "stream",
     "text": [
      "C:\\Users\\rvign\\AppData\\Local\\Temp\\ipykernel_17756\\2336885926.py:2: FutureWarning: The frame.append method is deprecated and will be removed from pandas in a future version. Use pandas.concat instead.\n",
      "  df_append = df1.append(df2)\n"
     ]
    }
   ],
   "source": [
    "# Example 4: Appending one DataFrame to another using append()\n",
    "df_append = df1.append(df2)\n",
    "print(\"\\nExample 4:\")\n",
    "print(\"DataFrame after appending df2 to df1:\")\n",
    "print(df_append)"
   ]
  },
  {
   "cell_type": "code",
   "execution_count": 8,
   "metadata": {},
   "outputs": [
    {
     "name": "stdout",
     "output_type": "stream",
     "text": [
      "\n",
      "Example 5:\n",
      "DataFrame after appending df2 to df1 and resetting index:\n",
      "      Name  Age           City\n",
      "0     John   25       New York\n",
      "1    Alice   30    Los Angeles\n",
      "2  Michael   22        Chicago\n",
      "3    Emily   27  San Francisco\n",
      "4    James   24        Seattle\n",
      "5   Sophia   28         Boston\n"
     ]
    },
    {
     "name": "stderr",
     "output_type": "stream",
     "text": [
      "C:\\Users\\rvign\\AppData\\Local\\Temp\\ipykernel_17756\\3437855869.py:2: FutureWarning: The frame.append method is deprecated and will be removed from pandas in a future version. Use pandas.concat instead.\n",
      "  df_append_reset_index = df1.append(df2, ignore_index=True)\n"
     ]
    }
   ],
   "source": [
    "# Example 5: Resetting index after appending DataFrames\n",
    "df_append_reset_index = df1.append(df2, ignore_index=True)\n",
    "print(\"\\nExample 5:\")\n",
    "print(\"DataFrame after appending df2 to df1 and resetting index:\")\n",
    "print(df_append_reset_index)"
   ]
  }
 ],
 "metadata": {
  "kernelspec": {
   "display_name": "Python 3",
   "language": "python",
   "name": "python3"
  },
  "language_info": {
   "codemirror_mode": {
    "name": "ipython",
    "version": 3
   },
   "file_extension": ".py",
   "mimetype": "text/x-python",
   "name": "python",
   "nbconvert_exporter": "python",
   "pygments_lexer": "ipython3",
   "version": "3.11.2"
  },
  "orig_nbformat": 4
 },
 "nbformat": 4,
 "nbformat_minor": 2
}
