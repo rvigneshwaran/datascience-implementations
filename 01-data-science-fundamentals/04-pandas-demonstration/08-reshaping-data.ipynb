{
 "cells": [
  {
   "cell_type": "code",
   "execution_count": 1,
   "metadata": {},
   "outputs": [],
   "source": [
    "import pandas as pd"
   ]
  },
  {
   "cell_type": "code",
   "execution_count": 2,
   "metadata": {},
   "outputs": [
    {
     "name": "stdout",
     "output_type": "stream",
     "text": [
      "Game of Thrones Characters DataFrame:\n",
      "                 Name      House       Allegiance    Status  Age  Seasons  \\\n",
      "0            Jon Snow      Stark    Night's Watch     Alive   30        8   \n",
      "1  Daenerys Targaryen  Targaryen  House Targaryen  Deceased   24        8   \n",
      "2    Tyrion Lannister  Lannister  House Lannister     Alive   38        8   \n",
      "3          Arya Stark      Stark      House Stark     Alive   20        8   \n",
      "4    Cersei Lannister  Lannister  House Lannister  Deceased   42        8   \n",
      "\n",
      "   Episodes  Total_Kills  \n",
      "0        73            7  \n",
      "1        62           10  \n",
      "2        67            3  \n",
      "3        59            5  \n",
      "4        62           12  \n"
     ]
    }
   ],
   "source": [
    "# Creating DataFrames for Game of Thrones characters\n",
    "data = {\n",
    "    'Name': ['Jon Snow', 'Daenerys Targaryen', 'Tyrion Lannister', 'Arya Stark', 'Cersei Lannister'],\n",
    "    'House': ['Stark', 'Targaryen', 'Lannister', 'Stark', 'Lannister'],\n",
    "    'Allegiance': ['Night\\'s Watch', 'House Targaryen', 'House Lannister', 'House Stark', 'House Lannister'],\n",
    "    'Status': ['Alive', 'Deceased', 'Alive', 'Alive', 'Deceased'],\n",
    "    'Age': [30, 24, 38, 20, 42],\n",
    "    'Seasons': [8, 8, 8, 8, 8],\n",
    "    'Episodes': [73, 62, 67, 59, 62],\n",
    "    'Total_Kills': [7, 10, 3, 5, 12]\n",
    "}\n",
    "got_df = pd.DataFrame(data)\n",
    "print(\"Game of Thrones Characters DataFrame:\")\n",
    "print(got_df)"
   ]
  },
  {
   "cell_type": "code",
   "execution_count": 3,
   "metadata": {},
   "outputs": [
    {
     "name": "stdout",
     "output_type": "stream",
     "text": [
      "\n",
      "Example 1: Pivoting the DataFrame to reshape it (long to wide format) based on 'Name' as index and 'House' as columns:\n",
      "House               Lannister  Stark  Targaryen\n",
      "Name                                           \n",
      "Arya Stark                NaN   20.0        NaN\n",
      "Cersei Lannister         42.0    NaN        NaN\n",
      "Daenerys Targaryen        NaN    NaN       24.0\n",
      "Jon Snow                  NaN   30.0        NaN\n",
      "Tyrion Lannister         38.0    NaN        NaN\n"
     ]
    }
   ],
   "source": [
    "# Example 1: Pivoting the DataFrame to reshape it (long to wide format) based on 'Name' as index and 'House' as columns\n",
    "print(\"\\nExample 1: Pivoting the DataFrame to reshape it (long to wide format) based on 'Name' as index and 'House' as columns:\")\n",
    "pivoted_df1 = got_df.pivot(index='Name', columns='House', values='Age')\n",
    "print(pivoted_df1)"
   ]
  },
  {
   "cell_type": "code",
   "execution_count": 4,
   "metadata": {},
   "outputs": [
    {
     "name": "stdout",
     "output_type": "stream",
     "text": [
      "\n",
      "Example 2: Pivoting the DataFrame to reshape it (long to wide format) based on 'Name' as index and 'Status' as columns:\n",
      "Status              Alive  Deceased\n",
      "Name                               \n",
      "Arya Stark            8.0       NaN\n",
      "Cersei Lannister      NaN       8.0\n",
      "Daenerys Targaryen    NaN       8.0\n",
      "Jon Snow              8.0       NaN\n",
      "Tyrion Lannister      8.0       NaN\n"
     ]
    }
   ],
   "source": [
    "# Example 2: Pivoting the DataFrame to reshape it (long to wide format) based on 'Name' as index and 'Status' as columns\n",
    "print(\"\\nExample 2: Pivoting the DataFrame to reshape it (long to wide format) based on 'Name' as index and 'Status' as columns:\")\n",
    "pivoted_df2 = got_df.pivot(index='Name', columns='Status', values='Seasons')\n",
    "print(pivoted_df2)"
   ]
  },
  {
   "cell_type": "code",
   "execution_count": 5,
   "metadata": {},
   "outputs": [
    {
     "name": "stdout",
     "output_type": "stream",
     "text": [
      "\n",
      "Example 3: Pivoting the DataFrame to reshape it (long to wide format) based on 'Name' as index and multiple values for columns:\n",
      "                         Age                   Seasons                \n",
      "House              Lannister Stark Targaryen Lannister Stark Targaryen\n",
      "Name                                                                  \n",
      "Arya Stark               NaN  20.0       NaN       NaN   8.0       NaN\n",
      "Cersei Lannister        42.0   NaN       NaN       8.0   NaN       NaN\n",
      "Daenerys Targaryen       NaN   NaN      24.0       NaN   NaN       8.0\n",
      "Jon Snow                 NaN  30.0       NaN       NaN   8.0       NaN\n",
      "Tyrion Lannister        38.0   NaN       NaN       8.0   NaN       NaN\n"
     ]
    }
   ],
   "source": [
    "# Example 3: Pivoting the DataFrame to reshape it (long to wide format) based on 'Name' as index and multiple values for columns\n",
    "print(\"\\nExample 3: Pivoting the DataFrame to reshape it (long to wide format) based on 'Name' as index and multiple values for columns:\")\n",
    "pivoted_df3 = got_df.pivot(index='Name', columns='House', values=['Age', 'Seasons'])\n",
    "print(pivoted_df3)"
   ]
  },
  {
   "cell_type": "code",
   "execution_count": 6,
   "metadata": {},
   "outputs": [
    {
     "name": "stdout",
     "output_type": "stream",
     "text": [
      "\n",
      "Example 4: Pivoting the DataFrame and handling missing values using fill_value parameter:\n",
      "House               Lannister  Stark  Targaryen\n",
      "Name                                           \n",
      "Arya Stark                0.0    5.0        0.0\n",
      "Cersei Lannister         12.0    0.0        0.0\n",
      "Daenerys Targaryen        0.0    0.0       10.0\n",
      "Jon Snow                  0.0    7.0        0.0\n",
      "Tyrion Lannister          3.0    0.0        0.0\n"
     ]
    }
   ],
   "source": [
    "# Example 4: Pivoting the DataFrame and handling missing values using fill_value parameter\n",
    "print(\"\\nExample 4: Pivoting the DataFrame and handling missing values using fill_value parameter:\")\n",
    "pivoted_fill_value = got_df.pivot(index='Name', columns='House', values='Total_Kills').fillna(0)\n",
    "print(pivoted_fill_value)"
   ]
  },
  {
   "cell_type": "code",
   "execution_count": 7,
   "metadata": {},
   "outputs": [
    {
     "name": "stdout",
     "output_type": "stream",
     "text": [
      "\n",
      "Example 5: Pivoting the DataFrame and handling duplicate values using aggfunc parameter:\n",
      "House               Lannister  Stark  Targaryen\n",
      "Name                                           \n",
      "Arya Stark                NaN    5.0        NaN\n",
      "Cersei Lannister         12.0    NaN        NaN\n",
      "Daenerys Targaryen        NaN    NaN       10.0\n",
      "Jon Snow                  NaN    7.0        NaN\n",
      "Tyrion Lannister          3.0    NaN        NaN\n"
     ]
    }
   ],
   "source": [
    "# Example 5: Pivoting the DataFrame and handling duplicate values using aggfunc parameter (summing Total_Kills for duplicate Name-House pairs)\n",
    "print(\"\\nExample 5: Pivoting the DataFrame and handling duplicate values using aggfunc parameter:\")\n",
    "pivoted_aggfunc = got_df.pivot_table(index='Name', columns='House', values='Total_Kills', aggfunc='sum')\n",
    "print(pivoted_aggfunc)"
   ]
  },
  {
   "cell_type": "code",
   "execution_count": 8,
   "metadata": {},
   "outputs": [
    {
     "name": "stdout",
     "output_type": "stream",
     "text": [
      "\n",
      "Example 6: Melting the DataFrame to reshape it (wide to long format) by converting columns to rows:\n",
      "                  Name      House  variable  value\n",
      "0             Jon Snow      Stark       Age     30\n",
      "1   Daenerys Targaryen  Targaryen       Age     24\n",
      "2     Tyrion Lannister  Lannister       Age     38\n",
      "3           Arya Stark      Stark       Age     20\n",
      "4     Cersei Lannister  Lannister       Age     42\n",
      "5             Jon Snow      Stark   Seasons      8\n",
      "6   Daenerys Targaryen  Targaryen   Seasons      8\n",
      "7     Tyrion Lannister  Lannister   Seasons      8\n",
      "8           Arya Stark      Stark   Seasons      8\n",
      "9     Cersei Lannister  Lannister   Seasons      8\n",
      "10            Jon Snow      Stark  Episodes     73\n",
      "11  Daenerys Targaryen  Targaryen  Episodes     62\n",
      "12    Tyrion Lannister  Lannister  Episodes     67\n",
      "13          Arya Stark      Stark  Episodes     59\n",
      "14    Cersei Lannister  Lannister  Episodes     62\n"
     ]
    }
   ],
   "source": [
    "# Example 6: Melting the DataFrame to reshape it (wide to long format) by converting columns to rows\n",
    "print(\"\\nExample 6: Melting the DataFrame to reshape it (wide to long format) by converting columns to rows:\")\n",
    "melted_df = pd.melt(got_df, id_vars=['Name', 'House'], value_vars=['Age', 'Seasons', 'Episodes'])\n",
    "print(melted_df)"
   ]
  },
  {
   "cell_type": "code",
   "execution_count": 9,
   "metadata": {},
   "outputs": [
    {
     "name": "stdout",
     "output_type": "stream",
     "text": [
      "\n",
      "Example 7: Melting the DataFrame and setting custom column names for the variable and value columns:\n",
      "                  Name      House Attributes  Values\n",
      "0             Jon Snow      Stark        Age      30\n",
      "1   Daenerys Targaryen  Targaryen        Age      24\n",
      "2     Tyrion Lannister  Lannister        Age      38\n",
      "3           Arya Stark      Stark        Age      20\n",
      "4     Cersei Lannister  Lannister        Age      42\n",
      "5             Jon Snow      Stark    Seasons       8\n",
      "6   Daenerys Targaryen  Targaryen    Seasons       8\n",
      "7     Tyrion Lannister  Lannister    Seasons       8\n",
      "8           Arya Stark      Stark    Seasons       8\n",
      "9     Cersei Lannister  Lannister    Seasons       8\n",
      "10            Jon Snow      Stark   Episodes      73\n",
      "11  Daenerys Targaryen  Targaryen   Episodes      62\n",
      "12    Tyrion Lannister  Lannister   Episodes      67\n",
      "13          Arya Stark      Stark   Episodes      59\n",
      "14    Cersei Lannister  Lannister   Episodes      62\n"
     ]
    }
   ],
   "source": [
    "# Example 7: Melting the DataFrame and setting custom column names for the variable and value columns\n",
    "print(\"\\nExample 7: Melting the DataFrame and setting custom column names for the variable and value columns:\")\n",
    "melted_custom_names = pd.melt(got_df, id_vars=['Name', 'House'], value_vars=['Age', 'Seasons', 'Episodes'], var_name='Attributes', value_name='Values')\n",
    "print(melted_custom_names)"
   ]
  },
  {
   "cell_type": "code",
   "execution_count": 10,
   "metadata": {},
   "outputs": [
    {
     "name": "stdout",
     "output_type": "stream",
     "text": [
      "\n",
      "Example 8: Melting the DataFrame and specifying the value columns using value_name parameter:\n",
      "                  Name      House  variable  Characteristic\n",
      "0             Jon Snow      Stark       Age              30\n",
      "1   Daenerys Targaryen  Targaryen       Age              24\n",
      "2     Tyrion Lannister  Lannister       Age              38\n",
      "3           Arya Stark      Stark       Age              20\n",
      "4     Cersei Lannister  Lannister       Age              42\n",
      "5             Jon Snow      Stark   Seasons               8\n",
      "6   Daenerys Targaryen  Targaryen   Seasons               8\n",
      "7     Tyrion Lannister  Lannister   Seasons               8\n",
      "8           Arya Stark      Stark   Seasons               8\n",
      "9     Cersei Lannister  Lannister   Seasons               8\n",
      "10            Jon Snow      Stark  Episodes              73\n",
      "11  Daenerys Targaryen  Targaryen  Episodes              62\n",
      "12    Tyrion Lannister  Lannister  Episodes              67\n",
      "13          Arya Stark      Stark  Episodes              59\n",
      "14    Cersei Lannister  Lannister  Episodes              62\n"
     ]
    }
   ],
   "source": [
    "# Example 8: Melting the DataFrame and specifying the value columns using value_name parameter\n",
    "print(\"\\nExample 8: Melting the DataFrame and specifying the value columns using value_name parameter:\")\n",
    "melted_value_cols = pd.melt(got_df, id_vars=['Name', 'House'], value_vars=['Age', 'Seasons', 'Episodes'], value_name='Characteristic')\n",
    "print(melted_value_cols)"
   ]
  },
  {
   "cell_type": "code",
   "execution_count": 11,
   "metadata": {},
   "outputs": [
    {
     "name": "stdout",
     "output_type": "stream",
     "text": [
      "\n",
      "Example 9: Melting the DataFrame and using multiple columns as identifier variables:\n",
      "                  Name      House    Status  variable  value\n",
      "0             Jon Snow      Stark     Alive       Age     30\n",
      "1   Daenerys Targaryen  Targaryen  Deceased       Age     24\n",
      "2     Tyrion Lannister  Lannister     Alive       Age     38\n",
      "3           Arya Stark      Stark     Alive       Age     20\n",
      "4     Cersei Lannister  Lannister  Deceased       Age     42\n",
      "5             Jon Snow      Stark     Alive   Seasons      8\n",
      "6   Daenerys Targaryen  Targaryen  Deceased   Seasons      8\n",
      "7     Tyrion Lannister  Lannister     Alive   Seasons      8\n",
      "8           Arya Stark      Stark     Alive   Seasons      8\n",
      "9     Cersei Lannister  Lannister  Deceased   Seasons      8\n",
      "10            Jon Snow      Stark     Alive  Episodes     73\n",
      "11  Daenerys Targaryen  Targaryen  Deceased  Episodes     62\n",
      "12    Tyrion Lannister  Lannister     Alive  Episodes     67\n",
      "13          Arya Stark      Stark     Alive  Episodes     59\n",
      "14    Cersei Lannister  Lannister  Deceased  Episodes     62\n"
     ]
    }
   ],
   "source": [
    "# Example 9: Melting the DataFrame and using multiple columns as identifier variables\n",
    "print(\"\\nExample 9: Melting the DataFrame and using multiple columns as identifier variables:\")\n",
    "melted_multiple_id_vars = pd.melt(got_df, id_vars=['Name', 'House', 'Status'], value_vars=['Age', 'Seasons', 'Episodes'])\n",
    "print(melted_multiple_id_vars)"
   ]
  },
  {
   "cell_type": "code",
   "execution_count": 12,
   "metadata": {},
   "outputs": [
    {
     "name": "stdout",
     "output_type": "stream",
     "text": [
      "\n",
      "Example 10: Melting the DataFrame and specifying which columns to keep as identifier variables using var_name parameter:\n",
      "                  Name      House Attribute  value\n",
      "0             Jon Snow      Stark       Age     30\n",
      "1   Daenerys Targaryen  Targaryen       Age     24\n",
      "2     Tyrion Lannister  Lannister       Age     38\n",
      "3           Arya Stark      Stark       Age     20\n",
      "4     Cersei Lannister  Lannister       Age     42\n",
      "5             Jon Snow      Stark   Seasons      8\n",
      "6   Daenerys Targaryen  Targaryen   Seasons      8\n",
      "7     Tyrion Lannister  Lannister   Seasons      8\n",
      "8           Arya Stark      Stark   Seasons      8\n",
      "9     Cersei Lannister  Lannister   Seasons      8\n",
      "10            Jon Snow      Stark  Episodes     73\n",
      "11  Daenerys Targaryen  Targaryen  Episodes     62\n",
      "12    Tyrion Lannister  Lannister  Episodes     67\n",
      "13          Arya Stark      Stark  Episodes     59\n",
      "14    Cersei Lannister  Lannister  Episodes     62\n"
     ]
    }
   ],
   "source": [
    "# Example 10: Melting the DataFrame and specifying which columns to keep as identifier variables using var_name parameter\n",
    "print(\"\\nExample 10: Melting the DataFrame and specifying which columns to keep as identifier variables using var_name parameter:\")\n",
    "melted_keep_id_vars = pd.melt(got_df, id_vars=['Name', 'House'], value_vars=['Age', 'Seasons', 'Episodes'], var_name='Attribute')\n",
    "print(melted_keep_id_vars)"
   ]
  }
 ],
 "metadata": {
  "kernelspec": {
   "display_name": "Python 3",
   "language": "python",
   "name": "python3"
  },
  "language_info": {
   "codemirror_mode": {
    "name": "ipython",
    "version": 3
   },
   "file_extension": ".py",
   "mimetype": "text/x-python",
   "name": "python",
   "nbconvert_exporter": "python",
   "pygments_lexer": "ipython3",
   "version": "3.11.2"
  },
  "orig_nbformat": 4
 },
 "nbformat": 4,
 "nbformat_minor": 2
}
