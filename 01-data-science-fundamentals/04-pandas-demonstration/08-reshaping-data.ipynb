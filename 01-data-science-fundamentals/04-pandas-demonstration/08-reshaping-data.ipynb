{
 "cells": [
  {
   "cell_type": "code",
   "execution_count": 1,
   "metadata": {},
   "outputs": [],
   "source": [
    "import pandas as pd"
   ]
  },
  {
   "cell_type": "code",
   "execution_count": 2,
   "metadata": {},
   "outputs": [
    {
     "name": "stdout",
     "output_type": "stream",
     "text": [
      "Game of Thrones Characters DataFrame:\n",
      "                 Name      House       Allegiance    Status  Age  Seasons  \\\n",
      "0            Jon Snow      Stark    Night's Watch     Alive   30        8   \n",
      "1  Daenerys Targaryen  Targaryen  House Targaryen  Deceased   24        8   \n",
      "2    Tyrion Lannister  Lannister  House Lannister     Alive   38        8   \n",
      "3          Arya Stark      Stark      House Stark     Alive   20        8   \n",
      "4    Cersei Lannister  Lannister  House Lannister  Deceased   42        8   \n",
      "\n",
      "   Episodes  Total_Kills  \n",
      "0        73            7  \n",
      "1        62           10  \n",
      "2        67            3  \n",
      "3        59            5  \n",
      "4        62           12  \n"
     ]
    }
   ],
   "source": [
    "# Creating DataFrames for Game of Thrones characters\n",
    "data = {\n",
    "    'Name': ['Jon Snow', 'Daenerys Targaryen', 'Tyrion Lannister', 'Arya Stark', 'Cersei Lannister'],\n",
    "    'House': ['Stark', 'Targaryen', 'Lannister', 'Stark', 'Lannister'],\n",
    "    'Allegiance': ['Night\\'s Watch', 'House Targaryen', 'House Lannister', 'House Stark', 'House Lannister'],\n",
    "    'Status': ['Alive', 'Deceased', 'Alive', 'Alive', 'Deceased'],\n",
    "    'Age': [30, 24, 38, 20, 42],\n",
    "    'Seasons': [8, 8, 8, 8, 8],\n",
    "    'Episodes': [73, 62, 67, 59, 62],\n",
    "    'Total_Kills': [7, 10, 3, 5, 12]\n",
    "}\n",
    "got_df = pd.DataFrame(data)\n",
    "print(\"Game of Thrones Characters DataFrame:\")\n",
    "print(got_df)"
   ]
  },
  {
   "cell_type": "code",
   "execution_count": 3,
   "metadata": {},
   "outputs": [
    {
     "name": "stdout",
     "output_type": "stream",
     "text": [
      "\n",
      "Example 1: Pivoting the DataFrame to reshape it (long to wide format) based on 'Name' as index and 'House' as columns:\n",
      "House               Lannister  Stark  Targaryen\n",
      "Name                                           \n",
      "Arya Stark                NaN   20.0        NaN\n",
      "Cersei Lannister         42.0    NaN        NaN\n",
      "Daenerys Targaryen        NaN    NaN       24.0\n",
      "Jon Snow                  NaN   30.0        NaN\n",
      "Tyrion Lannister         38.0    NaN        NaN\n"
     ]
    }
   ],
   "source": [
    "# Example 1: Pivoting the DataFrame to reshape it (long to wide format) based on 'Name' as index and 'House' as columns\n",
    "print(\"\\nExample 1: Pivoting the DataFrame to reshape it (long to wide format) based on 'Name' as index and 'House' as columns:\")\n",
    "pivoted_df1 = got_df.pivot(index='Name', columns='House', values='Age')\n",
    "print(pivoted_df1)"
   ]
  },
  {
   "cell_type": "code",
   "execution_count": 4,
   "metadata": {},
   "outputs": [
    {
     "name": "stdout",
     "output_type": "stream",
     "text": [
      "\n",
      "Example 2: Pivoting the DataFrame to reshape it (long to wide format) based on 'Name' as index and 'Status' as columns:\n",
      "Status              Alive  Deceased\n",
      "Name                               \n",
      "Arya Stark            8.0       NaN\n",
      "Cersei Lannister      NaN       8.0\n",
      "Daenerys Targaryen    NaN       8.0\n",
      "Jon Snow              8.0       NaN\n",
      "Tyrion Lannister      8.0       NaN\n"
     ]
    }
   ],
   "source": [
    "# Example 2: Pivoting the DataFrame to reshape it (long to wide format) based on 'Name' as index and 'Status' as columns\n",
    "print(\"\\nExample 2: Pivoting the DataFrame to reshape it (long to wide format) based on 'Name' as index and 'Status' as columns:\")\n",
    "pivoted_df2 = got_df.pivot(index='Name', columns='Status', values='Seasons')\n",
    "print(pivoted_df2)"
   ]
  },
  {
   "cell_type": "code",
   "execution_count": 5,
   "metadata": {},
   "outputs": [
    {
     "name": "stdout",
     "output_type": "stream",
     "text": [
      "\n",
      "Example 3: Pivoting the DataFrame to reshape it (long to wide format) based on 'Name' as index and multiple values for columns:\n",
      "                         Age                   Seasons                \n",
      "House              Lannister Stark Targaryen Lannister Stark Targaryen\n",
      "Name                                                                  \n",
      "Arya Stark               NaN  20.0       NaN       NaN   8.0       NaN\n",
      "Cersei Lannister        42.0   NaN       NaN       8.0   NaN       NaN\n",
      "Daenerys Targaryen       NaN   NaN      24.0       NaN   NaN       8.0\n",
      "Jon Snow                 NaN  30.0       NaN       NaN   8.0       NaN\n",
      "Tyrion Lannister        38.0   NaN       NaN       8.0   NaN       NaN\n"
     ]
    }
   ],
   "source": [
    "# Example 3: Pivoting the DataFrame to reshape it (long to wide format) based on 'Name' as index and multiple values for columns\n",
    "print(\"\\nExample 3: Pivoting the DataFrame to reshape it (long to wide format) based on 'Name' as index and multiple values for columns:\")\n",
    "pivoted_df3 = got_df.pivot(index='Name', columns='House', values=['Age', 'Seasons'])\n",
    "print(pivoted_df3)"
   ]
  },
  {
   "cell_type": "code",
   "execution_count": 6,
   "metadata": {},
   "outputs": [
    {
     "name": "stdout",
     "output_type": "stream",
     "text": [
      "\n",
      "Example 4: Pivoting the DataFrame and handling missing values using fill_value parameter:\n",
      "House               Lannister  Stark  Targaryen\n",
      "Name                                           \n",
      "Arya Stark                0.0    5.0        0.0\n",
      "Cersei Lannister         12.0    0.0        0.0\n",
      "Daenerys Targaryen        0.0    0.0       10.0\n",
      "Jon Snow                  0.0    7.0        0.0\n",
      "Tyrion Lannister          3.0    0.0        0.0\n"
     ]
    }
   ],
   "source": [
    "# Example 4: Pivoting the DataFrame and handling missing values using fill_value parameter\n",
    "print(\"\\nExample 4: Pivoting the DataFrame and handling missing values using fill_value parameter:\")\n",
    "pivoted_fill_value = got_df.pivot(index='Name', columns='House', values='Total_Kills').fillna(0)\n",
    "print(pivoted_fill_value)"
   ]
  },
  {
   "cell_type": "code",
   "execution_count": 7,
   "metadata": {},
   "outputs": [
    {
     "name": "stdout",
     "output_type": "stream",
     "text": [
      "\n",
      "Example 5: Pivoting the DataFrame and handling duplicate values using aggfunc parameter:\n",
      "House               Lannister  Stark  Targaryen\n",
      "Name                                           \n",
      "Arya Stark                NaN    5.0        NaN\n",
      "Cersei Lannister         12.0    NaN        NaN\n",
      "Daenerys Targaryen        NaN    NaN       10.0\n",
      "Jon Snow                  NaN    7.0        NaN\n",
      "Tyrion Lannister          3.0    NaN        NaN\n"
     ]
    }
   ],
   "source": [
    "# Example 5: Pivoting the DataFrame and handling duplicate values using aggfunc parameter (summing Total_Kills for duplicate Name-House pairs)\n",
    "print(\"\\nExample 5: Pivoting the DataFrame and handling duplicate values using aggfunc parameter:\")\n",
    "pivoted_aggfunc = got_df.pivot_table(index='Name', columns='House', values='Total_Kills', aggfunc='sum')\n",
    "print(pivoted_aggfunc)"
   ]
  },
  {
   "cell_type": "code",
   "execution_count": 8,
   "metadata": {},
   "outputs": [
    {
     "name": "stdout",
     "output_type": "stream",
     "text": [
      "\n",
      "Example 6: Melting the DataFrame to reshape it (wide to long format) by converting columns to rows:\n",
      "                  Name      House  variable  value\n",
      "0             Jon Snow      Stark       Age     30\n",
      "1   Daenerys Targaryen  Targaryen       Age     24\n",
      "2     Tyrion Lannister  Lannister       Age     38\n",
      "3           Arya Stark      Stark       Age     20\n",
      "4     Cersei Lannister  Lannister       Age     42\n",
      "5             Jon Snow      Stark   Seasons      8\n",
      "6   Daenerys Targaryen  Targaryen   Seasons      8\n",
      "7     Tyrion Lannister  Lannister   Seasons      8\n",
      "8           Arya Stark      Stark   Seasons      8\n",
      "9     Cersei Lannister  Lannister   Seasons      8\n",
      "10            Jon Snow      Stark  Episodes     73\n",
      "11  Daenerys Targaryen  Targaryen  Episodes     62\n",
      "12    Tyrion Lannister  Lannister  Episodes     67\n",
      "13          Arya Stark      Stark  Episodes     59\n",
      "14    Cersei Lannister  Lannister  Episodes     62\n"
     ]
    }
   ],
   "source": [
    "# Example 6: Melting the DataFrame to reshape it (wide to long format) by converting columns to rows\n",
    "print(\"\\nExample 6: Melting the DataFrame to reshape it (wide to long format) by converting columns to rows:\")\n",
    "melted_df = pd.melt(got_df, id_vars=['Name', 'House'], value_vars=['Age', 'Seasons', 'Episodes'])\n",
    "print(melted_df)"
   ]
  },
  {
   "cell_type": "code",
   "execution_count": 9,
   "metadata": {},
   "outputs": [
    {
     "name": "stdout",
     "output_type": "stream",
     "text": [
      "\n",
      "Example 7: Melting the DataFrame and setting custom column names for the variable and value columns:\n",
      "                  Name      House Attributes  Values\n",
      "0             Jon Snow      Stark        Age      30\n",
      "1   Daenerys Targaryen  Targaryen        Age      24\n",
      "2     Tyrion Lannister  Lannister        Age      38\n",
      "3           Arya Stark      Stark        Age      20\n",
      "4     Cersei Lannister  Lannister        Age      42\n",
      "5             Jon Snow      Stark    Seasons       8\n",
      "6   Daenerys Targaryen  Targaryen    Seasons       8\n",
      "7     Tyrion Lannister  Lannister    Seasons       8\n",
      "8           Arya Stark      Stark    Seasons       8\n",
      "9     Cersei Lannister  Lannister    Seasons       8\n",
      "10            Jon Snow      Stark   Episodes      73\n",
      "11  Daenerys Targaryen  Targaryen   Episodes      62\n",
      "12    Tyrion Lannister  Lannister   Episodes      67\n",
      "13          Arya Stark      Stark   Episodes      59\n",
      "14    Cersei Lannister  Lannister   Episodes      62\n"
     ]
    }
   ],
   "source": [
    "# Example 7: Melting the DataFrame and setting custom column names for the variable and value columns\n",
    "print(\"\\nExample 7: Melting the DataFrame and setting custom column names for the variable and value columns:\")\n",
    "melted_custom_names = pd.melt(got_df, id_vars=['Name', 'House'], value_vars=['Age', 'Seasons', 'Episodes'], var_name='Attributes', value_name='Values')\n",
    "print(melted_custom_names)"
   ]
  },
  {
   "cell_type": "code",
   "execution_count": 10,
   "metadata": {},
   "outputs": [
    {
     "name": "stdout",
     "output_type": "stream",
     "text": [
      "\n",
      "Example 8: Melting the DataFrame and specifying the value columns using value_name parameter:\n",
      "                  Name      House  variable  Characteristic\n",
      "0             Jon Snow      Stark       Age              30\n",
      "1   Daenerys Targaryen  Targaryen       Age              24\n",
      "2     Tyrion Lannister  Lannister       Age              38\n",
      "3           Arya Stark      Stark       Age              20\n",
      "4     Cersei Lannister  Lannister       Age              42\n",
      "5             Jon Snow      Stark   Seasons               8\n",
      "6   Daenerys Targaryen  Targaryen   Seasons               8\n",
      "7     Tyrion Lannister  Lannister   Seasons               8\n",
      "8           Arya Stark      Stark   Seasons               8\n",
      "9     Cersei Lannister  Lannister   Seasons               8\n",
      "10            Jon Snow      Stark  Episodes              73\n",
      "11  Daenerys Targaryen  Targaryen  Episodes              62\n",
      "12    Tyrion Lannister  Lannister  Episodes              67\n",
      "13          Arya Stark      Stark  Episodes              59\n",
      "14    Cersei Lannister  Lannister  Episodes              62\n"
     ]
    }
   ],
   "source": [
    "# Example 8: Melting the DataFrame and specifying the value columns using value_name parameter\n",
    "print(\"\\nExample 8: Melting the DataFrame and specifying the value columns using value_name parameter:\")\n",
    "melted_value_cols = pd.melt(got_df, id_vars=['Name', 'House'], value_vars=['Age', 'Seasons', 'Episodes'], value_name='Characteristic')\n",
    "print(melted_value_cols)"
   ]
  },
  {
   "cell_type": "code",
   "execution_count": 11,
   "metadata": {},
   "outputs": [
    {
     "name": "stdout",
     "output_type": "stream",
     "text": [
      "\n",
      "Example 9: Melting the DataFrame and using multiple columns as identifier variables:\n",
      "                  Name      House    Status  variable  value\n",
      "0             Jon Snow      Stark     Alive       Age     30\n",
      "1   Daenerys Targaryen  Targaryen  Deceased       Age     24\n",
      "2     Tyrion Lannister  Lannister     Alive       Age     38\n",
      "3           Arya Stark      Stark     Alive       Age     20\n",
      "4     Cersei Lannister  Lannister  Deceased       Age     42\n",
      "5             Jon Snow      Stark     Alive   Seasons      8\n",
      "6   Daenerys Targaryen  Targaryen  Deceased   Seasons      8\n",
      "7     Tyrion Lannister  Lannister     Alive   Seasons      8\n",
      "8           Arya Stark      Stark     Alive   Seasons      8\n",
      "9     Cersei Lannister  Lannister  Deceased   Seasons      8\n",
      "10            Jon Snow      Stark     Alive  Episodes     73\n",
      "11  Daenerys Targaryen  Targaryen  Deceased  Episodes     62\n",
      "12    Tyrion Lannister  Lannister     Alive  Episodes     67\n",
      "13          Arya Stark      Stark     Alive  Episodes     59\n",
      "14    Cersei Lannister  Lannister  Deceased  Episodes     62\n"
     ]
    }
   ],
   "source": [
    "# Example 9: Melting the DataFrame and using multiple columns as identifier variables\n",
    "print(\"\\nExample 9: Melting the DataFrame and using multiple columns as identifier variables:\")\n",
    "melted_multiple_id_vars = pd.melt(got_df, id_vars=['Name', 'House', 'Status'], value_vars=['Age', 'Seasons', 'Episodes'])\n",
    "print(melted_multiple_id_vars)"
   ]
  },
  {
   "cell_type": "code",
   "execution_count": 12,
   "metadata": {},
   "outputs": [
    {
     "name": "stdout",
     "output_type": "stream",
     "text": [
      "\n",
      "Example 10: Melting the DataFrame and specifying which columns to keep as identifier variables using var_name parameter:\n",
      "                  Name      House Attribute  value\n",
      "0             Jon Snow      Stark       Age     30\n",
      "1   Daenerys Targaryen  Targaryen       Age     24\n",
      "2     Tyrion Lannister  Lannister       Age     38\n",
      "3           Arya Stark      Stark       Age     20\n",
      "4     Cersei Lannister  Lannister       Age     42\n",
      "5             Jon Snow      Stark   Seasons      8\n",
      "6   Daenerys Targaryen  Targaryen   Seasons      8\n",
      "7     Tyrion Lannister  Lannister   Seasons      8\n",
      "8           Arya Stark      Stark   Seasons      8\n",
      "9     Cersei Lannister  Lannister   Seasons      8\n",
      "10            Jon Snow      Stark  Episodes     73\n",
      "11  Daenerys Targaryen  Targaryen  Episodes     62\n",
      "12    Tyrion Lannister  Lannister  Episodes     67\n",
      "13          Arya Stark      Stark  Episodes     59\n",
      "14    Cersei Lannister  Lannister  Episodes     62\n"
     ]
    }
   ],
   "source": [
    "# Example 10: Melting the DataFrame and specifying which columns to keep as identifier variables using var_name parameter\n",
    "print(\"\\nExample 10: Melting the DataFrame and specifying which columns to keep as identifier variables using var_name parameter:\")\n",
    "melted_keep_id_vars = pd.melt(got_df, id_vars=['Name', 'House'], value_vars=['Age', 'Seasons', 'Episodes'], var_name='Attribute')\n",
    "print(melted_keep_id_vars)"
   ]
  },
  {
   "cell_type": "code",
   "execution_count": 13,
   "metadata": {},
   "outputs": [
    {
     "name": "stdout",
     "output_type": "stream",
     "text": [
      "\n",
      "Example 11: Melting the DataFrame and specifying which columns to keep as identifier variables using id_vars parameter:\n",
      "                 Name      House Attributes  value\n",
      "0            Jon Snow      Stark        Age     30\n",
      "1  Daenerys Targaryen  Targaryen        Age     24\n",
      "2    Tyrion Lannister  Lannister        Age     38\n",
      "3          Arya Stark      Stark        Age     20\n",
      "4    Cersei Lannister  Lannister        Age     42\n",
      "5            Jon Snow      Stark    Seasons      8\n",
      "6  Daenerys Targaryen  Targaryen    Seasons      8\n",
      "7    Tyrion Lannister  Lannister    Seasons      8\n",
      "8          Arya Stark      Stark    Seasons      8\n",
      "9    Cersei Lannister  Lannister    Seasons      8\n"
     ]
    }
   ],
   "source": [
    "# Example 11: Melting the DataFrame and specifying which columns to keep as identifier variables using id_vars parameter\n",
    "print(\"\\nExample 11: Melting the DataFrame and specifying which columns to keep as identifier variables using id_vars parameter:\")\n",
    "melted_keep_id_vars_2 = pd.melt(got_df, id_vars=['Name', 'House'], value_vars=['Age', 'Seasons'], var_name='Attributes')\n",
    "print(melted_keep_id_vars_2)\n"
   ]
  },
  {
   "cell_type": "code",
   "execution_count": 14,
   "metadata": {},
   "outputs": [
    {
     "name": "stdout",
     "output_type": "stream",
     "text": [
      "\n",
      "Example 12: Melting the DataFrame and filtering rows based on a condition (keeping only Age and Seasons):\n"
     ]
    },
    {
     "ename": "KeyError",
     "evalue": "'Attributes'",
     "output_type": "error",
     "traceback": [
      "\u001b[1;31m---------------------------------------------------------------------------\u001b[0m",
      "\u001b[1;31mKeyError\u001b[0m                                  Traceback (most recent call last)",
      "File \u001b[1;32mc:\\Program Files\\Python311\\Lib\\site-packages\\pandas\\core\\indexes\\base.py:3802\u001b[0m, in \u001b[0;36mIndex.get_loc\u001b[1;34m(self, key, method, tolerance)\u001b[0m\n\u001b[0;32m   3801\u001b[0m \u001b[39mtry\u001b[39;00m:\n\u001b[1;32m-> 3802\u001b[0m     \u001b[39mreturn\u001b[39;00m \u001b[39mself\u001b[39;49m\u001b[39m.\u001b[39;49m_engine\u001b[39m.\u001b[39;49mget_loc(casted_key)\n\u001b[0;32m   3803\u001b[0m \u001b[39mexcept\u001b[39;00m \u001b[39mKeyError\u001b[39;00m \u001b[39mas\u001b[39;00m err:\n",
      "File \u001b[1;32mc:\\Program Files\\Python311\\Lib\\site-packages\\pandas\\_libs\\index.pyx:138\u001b[0m, in \u001b[0;36mpandas._libs.index.IndexEngine.get_loc\u001b[1;34m()\u001b[0m\n",
      "File \u001b[1;32mc:\\Program Files\\Python311\\Lib\\site-packages\\pandas\\_libs\\index.pyx:165\u001b[0m, in \u001b[0;36mpandas._libs.index.IndexEngine.get_loc\u001b[1;34m()\u001b[0m\n",
      "File \u001b[1;32mpandas\\_libs\\hashtable_class_helper.pxi:5745\u001b[0m, in \u001b[0;36mpandas._libs.hashtable.PyObjectHashTable.get_item\u001b[1;34m()\u001b[0m\n",
      "File \u001b[1;32mpandas\\_libs\\hashtable_class_helper.pxi:5753\u001b[0m, in \u001b[0;36mpandas._libs.hashtable.PyObjectHashTable.get_item\u001b[1;34m()\u001b[0m\n",
      "\u001b[1;31mKeyError\u001b[0m: 'Attributes'",
      "\nThe above exception was the direct cause of the following exception:\n",
      "\u001b[1;31mKeyError\u001b[0m                                  Traceback (most recent call last)",
      "Cell \u001b[1;32mIn[14], line 4\u001b[0m\n\u001b[0;32m      2\u001b[0m \u001b[39mprint\u001b[39m(\u001b[39m\"\u001b[39m\u001b[39m\\n\u001b[39;00m\u001b[39mExample 12: Melting the DataFrame and filtering rows based on a condition (keeping only Age and Seasons):\u001b[39m\u001b[39m\"\u001b[39m)\n\u001b[0;32m      3\u001b[0m melted_filter_rows \u001b[39m=\u001b[39m pd\u001b[39m.\u001b[39mmelt(got_df, id_vars\u001b[39m=\u001b[39m[\u001b[39m'\u001b[39m\u001b[39mName\u001b[39m\u001b[39m'\u001b[39m, \u001b[39m'\u001b[39m\u001b[39mHouse\u001b[39m\u001b[39m'\u001b[39m], value_vars\u001b[39m=\u001b[39m[\u001b[39m'\u001b[39m\u001b[39mAge\u001b[39m\u001b[39m'\u001b[39m, \u001b[39m'\u001b[39m\u001b[39mSeasons\u001b[39m\u001b[39m'\u001b[39m, \u001b[39m'\u001b[39m\u001b[39mEpisodes\u001b[39m\u001b[39m'\u001b[39m])\n\u001b[1;32m----> 4\u001b[0m melted_filter_rows \u001b[39m=\u001b[39m melted_filter_rows[melted_filter_rows[\u001b[39m'\u001b[39;49m\u001b[39mAttributes\u001b[39;49m\u001b[39m'\u001b[39;49m]\u001b[39m.\u001b[39misin([\u001b[39m'\u001b[39m\u001b[39mAge\u001b[39m\u001b[39m'\u001b[39m, \u001b[39m'\u001b[39m\u001b[39mSeasons\u001b[39m\u001b[39m'\u001b[39m])]\n\u001b[0;32m      5\u001b[0m \u001b[39mprint\u001b[39m(melted_filter_rows)\n",
      "File \u001b[1;32mc:\\Program Files\\Python311\\Lib\\site-packages\\pandas\\core\\frame.py:3807\u001b[0m, in \u001b[0;36mDataFrame.__getitem__\u001b[1;34m(self, key)\u001b[0m\n\u001b[0;32m   3805\u001b[0m \u001b[39mif\u001b[39;00m \u001b[39mself\u001b[39m\u001b[39m.\u001b[39mcolumns\u001b[39m.\u001b[39mnlevels \u001b[39m>\u001b[39m \u001b[39m1\u001b[39m:\n\u001b[0;32m   3806\u001b[0m     \u001b[39mreturn\u001b[39;00m \u001b[39mself\u001b[39m\u001b[39m.\u001b[39m_getitem_multilevel(key)\n\u001b[1;32m-> 3807\u001b[0m indexer \u001b[39m=\u001b[39m \u001b[39mself\u001b[39;49m\u001b[39m.\u001b[39;49mcolumns\u001b[39m.\u001b[39;49mget_loc(key)\n\u001b[0;32m   3808\u001b[0m \u001b[39mif\u001b[39;00m is_integer(indexer):\n\u001b[0;32m   3809\u001b[0m     indexer \u001b[39m=\u001b[39m [indexer]\n",
      "File \u001b[1;32mc:\\Program Files\\Python311\\Lib\\site-packages\\pandas\\core\\indexes\\base.py:3804\u001b[0m, in \u001b[0;36mIndex.get_loc\u001b[1;34m(self, key, method, tolerance)\u001b[0m\n\u001b[0;32m   3802\u001b[0m     \u001b[39mreturn\u001b[39;00m \u001b[39mself\u001b[39m\u001b[39m.\u001b[39m_engine\u001b[39m.\u001b[39mget_loc(casted_key)\n\u001b[0;32m   3803\u001b[0m \u001b[39mexcept\u001b[39;00m \u001b[39mKeyError\u001b[39;00m \u001b[39mas\u001b[39;00m err:\n\u001b[1;32m-> 3804\u001b[0m     \u001b[39mraise\u001b[39;00m \u001b[39mKeyError\u001b[39;00m(key) \u001b[39mfrom\u001b[39;00m \u001b[39merr\u001b[39;00m\n\u001b[0;32m   3805\u001b[0m \u001b[39mexcept\u001b[39;00m \u001b[39mTypeError\u001b[39;00m:\n\u001b[0;32m   3806\u001b[0m     \u001b[39m# If we have a listlike key, _check_indexing_error will raise\u001b[39;00m\n\u001b[0;32m   3807\u001b[0m     \u001b[39m#  InvalidIndexError. Otherwise we fall through and re-raise\u001b[39;00m\n\u001b[0;32m   3808\u001b[0m     \u001b[39m#  the TypeError.\u001b[39;00m\n\u001b[0;32m   3809\u001b[0m     \u001b[39mself\u001b[39m\u001b[39m.\u001b[39m_check_indexing_error(key)\n",
      "\u001b[1;31mKeyError\u001b[0m: 'Attributes'"
     ]
    }
   ],
   "source": [
    "# Example 12: Melting the DataFrame and filtering rows based on a condition (keeping only Age and Seasons)\n",
    "print(\"\\nExample 12: Melting the DataFrame and filtering rows based on a condition (keeping only Age and Seasons):\")\n",
    "melted_filter_rows = pd.melt(got_df, id_vars=['Name', 'House'], value_vars=['Age', 'Seasons', 'Episodes'])\n",
    "melted_filter_rows = melted_filter_rows[melted_filter_rows['Attributes'].isin(['Age', 'Seasons'])]\n",
    "print(melted_filter_rows)"
   ]
  },
  {
   "cell_type": "code",
   "execution_count": 15,
   "metadata": {},
   "outputs": [
    {
     "name": "stdout",
     "output_type": "stream",
     "text": [
      "\n",
      "Example 13: Melting the DataFrame and renaming the column values in the variable column:\n"
     ]
    },
    {
     "ename": "KeyError",
     "evalue": "'Attributes'",
     "output_type": "error",
     "traceback": [
      "\u001b[1;31m---------------------------------------------------------------------------\u001b[0m",
      "\u001b[1;31mKeyError\u001b[0m                                  Traceback (most recent call last)",
      "File \u001b[1;32mc:\\Program Files\\Python311\\Lib\\site-packages\\pandas\\core\\indexes\\base.py:3802\u001b[0m, in \u001b[0;36mIndex.get_loc\u001b[1;34m(self, key, method, tolerance)\u001b[0m\n\u001b[0;32m   3801\u001b[0m \u001b[39mtry\u001b[39;00m:\n\u001b[1;32m-> 3802\u001b[0m     \u001b[39mreturn\u001b[39;00m \u001b[39mself\u001b[39;49m\u001b[39m.\u001b[39;49m_engine\u001b[39m.\u001b[39;49mget_loc(casted_key)\n\u001b[0;32m   3803\u001b[0m \u001b[39mexcept\u001b[39;00m \u001b[39mKeyError\u001b[39;00m \u001b[39mas\u001b[39;00m err:\n",
      "File \u001b[1;32mc:\\Program Files\\Python311\\Lib\\site-packages\\pandas\\_libs\\index.pyx:138\u001b[0m, in \u001b[0;36mpandas._libs.index.IndexEngine.get_loc\u001b[1;34m()\u001b[0m\n",
      "File \u001b[1;32mc:\\Program Files\\Python311\\Lib\\site-packages\\pandas\\_libs\\index.pyx:165\u001b[0m, in \u001b[0;36mpandas._libs.index.IndexEngine.get_loc\u001b[1;34m()\u001b[0m\n",
      "File \u001b[1;32mpandas\\_libs\\hashtable_class_helper.pxi:5745\u001b[0m, in \u001b[0;36mpandas._libs.hashtable.PyObjectHashTable.get_item\u001b[1;34m()\u001b[0m\n",
      "File \u001b[1;32mpandas\\_libs\\hashtable_class_helper.pxi:5753\u001b[0m, in \u001b[0;36mpandas._libs.hashtable.PyObjectHashTable.get_item\u001b[1;34m()\u001b[0m\n",
      "\u001b[1;31mKeyError\u001b[0m: 'Attributes'",
      "\nThe above exception was the direct cause of the following exception:\n",
      "\u001b[1;31mKeyError\u001b[0m                                  Traceback (most recent call last)",
      "Cell \u001b[1;32mIn[15], line 4\u001b[0m\n\u001b[0;32m      2\u001b[0m \u001b[39mprint\u001b[39m(\u001b[39m\"\u001b[39m\u001b[39m\\n\u001b[39;00m\u001b[39mExample 13: Melting the DataFrame and renaming the column values in the variable column:\u001b[39m\u001b[39m\"\u001b[39m)\n\u001b[0;32m      3\u001b[0m melted_rename_vars \u001b[39m=\u001b[39m pd\u001b[39m.\u001b[39mmelt(got_df, id_vars\u001b[39m=\u001b[39m[\u001b[39m'\u001b[39m\u001b[39mName\u001b[39m\u001b[39m'\u001b[39m, \u001b[39m'\u001b[39m\u001b[39mHouse\u001b[39m\u001b[39m'\u001b[39m], value_vars\u001b[39m=\u001b[39m[\u001b[39m'\u001b[39m\u001b[39mAge\u001b[39m\u001b[39m'\u001b[39m, \u001b[39m'\u001b[39m\u001b[39mSeasons\u001b[39m\u001b[39m'\u001b[39m, \u001b[39m'\u001b[39m\u001b[39mEpisodes\u001b[39m\u001b[39m'\u001b[39m])\n\u001b[1;32m----> 4\u001b[0m melted_rename_vars[\u001b[39m'\u001b[39m\u001b[39mAttributes\u001b[39m\u001b[39m'\u001b[39m] \u001b[39m=\u001b[39m melted_rename_vars[\u001b[39m'\u001b[39;49m\u001b[39mAttributes\u001b[39;49m\u001b[39m'\u001b[39;49m]\u001b[39m.\u001b[39mmap({\u001b[39m'\u001b[39m\u001b[39mAge\u001b[39m\u001b[39m'\u001b[39m: \u001b[39m'\u001b[39m\u001b[39mCharacter Age\u001b[39m\u001b[39m'\u001b[39m, \u001b[39m'\u001b[39m\u001b[39mSeasons\u001b[39m\u001b[39m'\u001b[39m: \u001b[39m'\u001b[39m\u001b[39mTotal Seasons\u001b[39m\u001b[39m'\u001b[39m, \u001b[39m'\u001b[39m\u001b[39mEpisodes\u001b[39m\u001b[39m'\u001b[39m: \u001b[39m'\u001b[39m\u001b[39mTotal Episodes\u001b[39m\u001b[39m'\u001b[39m})\n\u001b[0;32m      5\u001b[0m \u001b[39mprint\u001b[39m(melted_rename_vars)\n",
      "File \u001b[1;32mc:\\Program Files\\Python311\\Lib\\site-packages\\pandas\\core\\frame.py:3807\u001b[0m, in \u001b[0;36mDataFrame.__getitem__\u001b[1;34m(self, key)\u001b[0m\n\u001b[0;32m   3805\u001b[0m \u001b[39mif\u001b[39;00m \u001b[39mself\u001b[39m\u001b[39m.\u001b[39mcolumns\u001b[39m.\u001b[39mnlevels \u001b[39m>\u001b[39m \u001b[39m1\u001b[39m:\n\u001b[0;32m   3806\u001b[0m     \u001b[39mreturn\u001b[39;00m \u001b[39mself\u001b[39m\u001b[39m.\u001b[39m_getitem_multilevel(key)\n\u001b[1;32m-> 3807\u001b[0m indexer \u001b[39m=\u001b[39m \u001b[39mself\u001b[39;49m\u001b[39m.\u001b[39;49mcolumns\u001b[39m.\u001b[39;49mget_loc(key)\n\u001b[0;32m   3808\u001b[0m \u001b[39mif\u001b[39;00m is_integer(indexer):\n\u001b[0;32m   3809\u001b[0m     indexer \u001b[39m=\u001b[39m [indexer]\n",
      "File \u001b[1;32mc:\\Program Files\\Python311\\Lib\\site-packages\\pandas\\core\\indexes\\base.py:3804\u001b[0m, in \u001b[0;36mIndex.get_loc\u001b[1;34m(self, key, method, tolerance)\u001b[0m\n\u001b[0;32m   3802\u001b[0m     \u001b[39mreturn\u001b[39;00m \u001b[39mself\u001b[39m\u001b[39m.\u001b[39m_engine\u001b[39m.\u001b[39mget_loc(casted_key)\n\u001b[0;32m   3803\u001b[0m \u001b[39mexcept\u001b[39;00m \u001b[39mKeyError\u001b[39;00m \u001b[39mas\u001b[39;00m err:\n\u001b[1;32m-> 3804\u001b[0m     \u001b[39mraise\u001b[39;00m \u001b[39mKeyError\u001b[39;00m(key) \u001b[39mfrom\u001b[39;00m \u001b[39merr\u001b[39;00m\n\u001b[0;32m   3805\u001b[0m \u001b[39mexcept\u001b[39;00m \u001b[39mTypeError\u001b[39;00m:\n\u001b[0;32m   3806\u001b[0m     \u001b[39m# If we have a listlike key, _check_indexing_error will raise\u001b[39;00m\n\u001b[0;32m   3807\u001b[0m     \u001b[39m#  InvalidIndexError. Otherwise we fall through and re-raise\u001b[39;00m\n\u001b[0;32m   3808\u001b[0m     \u001b[39m#  the TypeError.\u001b[39;00m\n\u001b[0;32m   3809\u001b[0m     \u001b[39mself\u001b[39m\u001b[39m.\u001b[39m_check_indexing_error(key)\n",
      "\u001b[1;31mKeyError\u001b[0m: 'Attributes'"
     ]
    }
   ],
   "source": [
    "# Example 13: Melting the DataFrame and renaming the column values in the variable column\n",
    "print(\"\\nExample 13: Melting the DataFrame and renaming the column values in the variable column:\")\n",
    "melted_rename_vars = pd.melt(got_df, id_vars=['Name', 'House'], value_vars=['Age', 'Seasons', 'Episodes'])\n",
    "melted_rename_vars['Attributes'] = melted_rename_vars['Attributes'].map({'Age': 'Character Age', 'Seasons': 'Total Seasons', 'Episodes': 'Total Episodes'})\n",
    "print(melted_rename_vars)\n"
   ]
  },
  {
   "cell_type": "code",
   "execution_count": 16,
   "metadata": {},
   "outputs": [
    {
     "name": "stdout",
     "output_type": "stream",
     "text": [
      "\n",
      "Example 14: Melting the DataFrame and resetting the index:\n",
      "                  Name      House  variable  value\n",
      "0             Jon Snow      Stark       Age     30\n",
      "1   Daenerys Targaryen  Targaryen       Age     24\n",
      "2     Tyrion Lannister  Lannister       Age     38\n",
      "3           Arya Stark      Stark       Age     20\n",
      "4     Cersei Lannister  Lannister       Age     42\n",
      "5             Jon Snow      Stark   Seasons      8\n",
      "6   Daenerys Targaryen  Targaryen   Seasons      8\n",
      "7     Tyrion Lannister  Lannister   Seasons      8\n",
      "8           Arya Stark      Stark   Seasons      8\n",
      "9     Cersei Lannister  Lannister   Seasons      8\n",
      "10            Jon Snow      Stark  Episodes     73\n",
      "11  Daenerys Targaryen  Targaryen  Episodes     62\n",
      "12    Tyrion Lannister  Lannister  Episodes     67\n",
      "13          Arya Stark      Stark  Episodes     59\n",
      "14    Cersei Lannister  Lannister  Episodes     62\n"
     ]
    }
   ],
   "source": [
    "# Example 14: Melting the DataFrame and resetting the index\n",
    "print(\"\\nExample 14: Melting the DataFrame and resetting the index:\")\n",
    "melted_reset_index = pd.melt(got_df, id_vars=['Name', 'House'], value_vars=['Age', 'Seasons', 'Episodes'])\n",
    "melted_reset_index = melted_reset_index.reset_index(drop=True)\n",
    "print(melted_reset_index)"
   ]
  },
  {
   "cell_type": "code",
   "execution_count": 17,
   "metadata": {},
   "outputs": [
    {
     "name": "stdout",
     "output_type": "stream",
     "text": [
      "\n",
      "Example 15: Melting the DataFrame and sorting the values by the variable and value columns:\n"
     ]
    },
    {
     "ename": "KeyError",
     "evalue": "'Attributes'",
     "output_type": "error",
     "traceback": [
      "\u001b[1;31m---------------------------------------------------------------------------\u001b[0m",
      "\u001b[1;31mKeyError\u001b[0m                                  Traceback (most recent call last)",
      "Cell \u001b[1;32mIn[17], line 4\u001b[0m\n\u001b[0;32m      2\u001b[0m \u001b[39mprint\u001b[39m(\u001b[39m\"\u001b[39m\u001b[39m\\n\u001b[39;00m\u001b[39mExample 15: Melting the DataFrame and sorting the values by the variable and value columns:\u001b[39m\u001b[39m\"\u001b[39m)\n\u001b[0;32m      3\u001b[0m melted_sort_values \u001b[39m=\u001b[39m pd\u001b[39m.\u001b[39mmelt(got_df, id_vars\u001b[39m=\u001b[39m[\u001b[39m'\u001b[39m\u001b[39mName\u001b[39m\u001b[39m'\u001b[39m, \u001b[39m'\u001b[39m\u001b[39mHouse\u001b[39m\u001b[39m'\u001b[39m], value_vars\u001b[39m=\u001b[39m[\u001b[39m'\u001b[39m\u001b[39mAge\u001b[39m\u001b[39m'\u001b[39m, \u001b[39m'\u001b[39m\u001b[39mSeasons\u001b[39m\u001b[39m'\u001b[39m, \u001b[39m'\u001b[39m\u001b[39mEpisodes\u001b[39m\u001b[39m'\u001b[39m])\n\u001b[1;32m----> 4\u001b[0m melted_sort_values \u001b[39m=\u001b[39m melted_sort_values\u001b[39m.\u001b[39;49msort_values(by\u001b[39m=\u001b[39;49m[\u001b[39m'\u001b[39;49m\u001b[39mAttributes\u001b[39;49m\u001b[39m'\u001b[39;49m, \u001b[39m'\u001b[39;49m\u001b[39mvalue\u001b[39;49m\u001b[39m'\u001b[39;49m])\n\u001b[0;32m      5\u001b[0m \u001b[39mprint\u001b[39m(melted_sort_values)\n",
      "File \u001b[1;32mc:\\Program Files\\Python311\\Lib\\site-packages\\pandas\\util\\_decorators.py:331\u001b[0m, in \u001b[0;36mdeprecate_nonkeyword_arguments.<locals>.decorate.<locals>.wrapper\u001b[1;34m(*args, **kwargs)\u001b[0m\n\u001b[0;32m    325\u001b[0m \u001b[39mif\u001b[39;00m \u001b[39mlen\u001b[39m(args) \u001b[39m>\u001b[39m num_allow_args:\n\u001b[0;32m    326\u001b[0m     warnings\u001b[39m.\u001b[39mwarn(\n\u001b[0;32m    327\u001b[0m         msg\u001b[39m.\u001b[39mformat(arguments\u001b[39m=\u001b[39m_format_argument_list(allow_args)),\n\u001b[0;32m    328\u001b[0m         \u001b[39mFutureWarning\u001b[39;00m,\n\u001b[0;32m    329\u001b[0m         stacklevel\u001b[39m=\u001b[39mfind_stack_level(),\n\u001b[0;32m    330\u001b[0m     )\n\u001b[1;32m--> 331\u001b[0m \u001b[39mreturn\u001b[39;00m func(\u001b[39m*\u001b[39;49margs, \u001b[39m*\u001b[39;49m\u001b[39m*\u001b[39;49mkwargs)\n",
      "File \u001b[1;32mc:\\Program Files\\Python311\\Lib\\site-packages\\pandas\\core\\frame.py:6894\u001b[0m, in \u001b[0;36mDataFrame.sort_values\u001b[1;34m(self, by, axis, ascending, inplace, kind, na_position, ignore_index, key)\u001b[0m\n\u001b[0;32m   6888\u001b[0m     \u001b[39mraise\u001b[39;00m \u001b[39mValueError\u001b[39;00m(\n\u001b[0;32m   6889\u001b[0m         \u001b[39mf\u001b[39m\u001b[39m\"\u001b[39m\u001b[39mLength of ascending (\u001b[39m\u001b[39m{\u001b[39;00m\u001b[39mlen\u001b[39m(ascending)\u001b[39m}\u001b[39;00m\u001b[39m)\u001b[39m\u001b[39m\"\u001b[39m  \u001b[39m# type: ignore[arg-type]\u001b[39;00m\n\u001b[0;32m   6890\u001b[0m         \u001b[39mf\u001b[39m\u001b[39m\"\u001b[39m\u001b[39m != length of by (\u001b[39m\u001b[39m{\u001b[39;00m\u001b[39mlen\u001b[39m(by)\u001b[39m}\u001b[39;00m\u001b[39m)\u001b[39m\u001b[39m\"\u001b[39m\n\u001b[0;32m   6891\u001b[0m     )\n\u001b[0;32m   6892\u001b[0m \u001b[39mif\u001b[39;00m \u001b[39mlen\u001b[39m(by) \u001b[39m>\u001b[39m \u001b[39m1\u001b[39m:\n\u001b[1;32m-> 6894\u001b[0m     keys \u001b[39m=\u001b[39m [\u001b[39mself\u001b[39;49m\u001b[39m.\u001b[39;49m_get_label_or_level_values(x, axis\u001b[39m=\u001b[39;49maxis) \u001b[39mfor\u001b[39;49;00m x \u001b[39min\u001b[39;49;00m by]\n\u001b[0;32m   6896\u001b[0m     \u001b[39m# need to rewrap columns in Series to apply key function\u001b[39;00m\n\u001b[0;32m   6897\u001b[0m     \u001b[39mif\u001b[39;00m key \u001b[39mis\u001b[39;00m \u001b[39mnot\u001b[39;00m \u001b[39mNone\u001b[39;00m:\n\u001b[0;32m   6898\u001b[0m         \u001b[39m# error: List comprehension has incompatible type List[Series];\u001b[39;00m\n\u001b[0;32m   6899\u001b[0m         \u001b[39m# expected List[ndarray]\u001b[39;00m\n",
      "File \u001b[1;32mc:\\Program Files\\Python311\\Lib\\site-packages\\pandas\\core\\frame.py:6894\u001b[0m, in \u001b[0;36m<listcomp>\u001b[1;34m(.0)\u001b[0m\n\u001b[0;32m   6888\u001b[0m     \u001b[39mraise\u001b[39;00m \u001b[39mValueError\u001b[39;00m(\n\u001b[0;32m   6889\u001b[0m         \u001b[39mf\u001b[39m\u001b[39m\"\u001b[39m\u001b[39mLength of ascending (\u001b[39m\u001b[39m{\u001b[39;00m\u001b[39mlen\u001b[39m(ascending)\u001b[39m}\u001b[39;00m\u001b[39m)\u001b[39m\u001b[39m\"\u001b[39m  \u001b[39m# type: ignore[arg-type]\u001b[39;00m\n\u001b[0;32m   6890\u001b[0m         \u001b[39mf\u001b[39m\u001b[39m\"\u001b[39m\u001b[39m != length of by (\u001b[39m\u001b[39m{\u001b[39;00m\u001b[39mlen\u001b[39m(by)\u001b[39m}\u001b[39;00m\u001b[39m)\u001b[39m\u001b[39m\"\u001b[39m\n\u001b[0;32m   6891\u001b[0m     )\n\u001b[0;32m   6892\u001b[0m \u001b[39mif\u001b[39;00m \u001b[39mlen\u001b[39m(by) \u001b[39m>\u001b[39m \u001b[39m1\u001b[39m:\n\u001b[1;32m-> 6894\u001b[0m     keys \u001b[39m=\u001b[39m [\u001b[39mself\u001b[39;49m\u001b[39m.\u001b[39;49m_get_label_or_level_values(x, axis\u001b[39m=\u001b[39;49maxis) \u001b[39mfor\u001b[39;00m x \u001b[39min\u001b[39;00m by]\n\u001b[0;32m   6896\u001b[0m     \u001b[39m# need to rewrap columns in Series to apply key function\u001b[39;00m\n\u001b[0;32m   6897\u001b[0m     \u001b[39mif\u001b[39;00m key \u001b[39mis\u001b[39;00m \u001b[39mnot\u001b[39;00m \u001b[39mNone\u001b[39;00m:\n\u001b[0;32m   6898\u001b[0m         \u001b[39m# error: List comprehension has incompatible type List[Series];\u001b[39;00m\n\u001b[0;32m   6899\u001b[0m         \u001b[39m# expected List[ndarray]\u001b[39;00m\n",
      "File \u001b[1;32mc:\\Program Files\\Python311\\Lib\\site-packages\\pandas\\core\\generic.py:1850\u001b[0m, in \u001b[0;36mNDFrame._get_label_or_level_values\u001b[1;34m(self, key, axis)\u001b[0m\n\u001b[0;32m   1844\u001b[0m     values \u001b[39m=\u001b[39m (\n\u001b[0;32m   1845\u001b[0m         \u001b[39mself\u001b[39m\u001b[39m.\u001b[39maxes[axis]\n\u001b[0;32m   1846\u001b[0m         \u001b[39m.\u001b[39mget_level_values(key)  \u001b[39m# type: ignore[assignment]\u001b[39;00m\n\u001b[0;32m   1847\u001b[0m         \u001b[39m.\u001b[39m_values\n\u001b[0;32m   1848\u001b[0m     )\n\u001b[0;32m   1849\u001b[0m \u001b[39melse\u001b[39;00m:\n\u001b[1;32m-> 1850\u001b[0m     \u001b[39mraise\u001b[39;00m \u001b[39mKeyError\u001b[39;00m(key)\n\u001b[0;32m   1852\u001b[0m \u001b[39m# Check for duplicates\u001b[39;00m\n\u001b[0;32m   1853\u001b[0m \u001b[39mif\u001b[39;00m values\u001b[39m.\u001b[39mndim \u001b[39m>\u001b[39m \u001b[39m1\u001b[39m:\n",
      "\u001b[1;31mKeyError\u001b[0m: 'Attributes'"
     ]
    }
   ],
   "source": [
    "# Example 15: Melting the DataFrame and sorting the values by the variable and value columns\n",
    "print(\"\\nExample 15: Melting the DataFrame and sorting the values by the variable and value columns:\")\n",
    "melted_sort_values = pd.melt(got_df, id_vars=['Name', 'House'], value_vars=['Age', 'Seasons', 'Episodes'])\n",
    "melted_sort_values = melted_sort_values.sort_values(by=['Attributes', 'value'])\n",
    "print(melted_sort_values)"
   ]
  },
  {
   "cell_type": "code",
   "execution_count": 18,
   "metadata": {},
   "outputs": [
    {
     "name": "stdout",
     "output_type": "stream",
     "text": [
      "\n",
      "Example 16: Melting the DataFrame and specifying the data type for the value column:\n",
      "                  Name      House  variable Characteristics\n",
      "0             Jon Snow      Stark       Age              30\n",
      "1   Daenerys Targaryen  Targaryen       Age              24\n",
      "2     Tyrion Lannister  Lannister       Age              38\n",
      "3           Arya Stark      Stark       Age              20\n",
      "4     Cersei Lannister  Lannister       Age              42\n",
      "5             Jon Snow      Stark   Seasons               8\n",
      "6   Daenerys Targaryen  Targaryen   Seasons               8\n",
      "7     Tyrion Lannister  Lannister   Seasons               8\n",
      "8           Arya Stark      Stark   Seasons               8\n",
      "9     Cersei Lannister  Lannister   Seasons               8\n",
      "10            Jon Snow      Stark  Episodes              73\n",
      "11  Daenerys Targaryen  Targaryen  Episodes              62\n",
      "12    Tyrion Lannister  Lannister  Episodes              67\n",
      "13          Arya Stark      Stark  Episodes              59\n",
      "14    Cersei Lannister  Lannister  Episodes              62\n"
     ]
    }
   ],
   "source": [
    "# Example 16: Melting the DataFrame and specifying the data type for the value column\n",
    "print(\"\\nExample 16: Melting the DataFrame and specifying the data type for the value column:\")\n",
    "melted_data_type = pd.melt(got_df, id_vars=['Name', 'House'], value_vars=['Age', 'Seasons', 'Episodes'], value_name='Characteristics')\n",
    "melted_data_type['Characteristics'] = melted_data_type['Characteristics'].astype(str)\n",
    "print(melted_data_type)"
   ]
  },
  {
   "cell_type": "code",
   "execution_count": 19,
   "metadata": {},
   "outputs": [
    {
     "name": "stdout",
     "output_type": "stream",
     "text": [
      "\n",
      "Example 17: Melting the DataFrame and converting the long format to a Series using set_index:\n"
     ]
    },
    {
     "ename": "KeyError",
     "evalue": "\"None of ['Attributes'] are in the columns\"",
     "output_type": "error",
     "traceback": [
      "\u001b[1;31m---------------------------------------------------------------------------\u001b[0m",
      "\u001b[1;31mKeyError\u001b[0m                                  Traceback (most recent call last)",
      "Cell \u001b[1;32mIn[19], line 4\u001b[0m\n\u001b[0;32m      2\u001b[0m \u001b[39mprint\u001b[39m(\u001b[39m\"\u001b[39m\u001b[39m\\n\u001b[39;00m\u001b[39mExample 17: Melting the DataFrame and converting the long format to a Series using set_index:\u001b[39m\u001b[39m\"\u001b[39m)\n\u001b[0;32m      3\u001b[0m melted_series \u001b[39m=\u001b[39m pd\u001b[39m.\u001b[39mmelt(got_df, id_vars\u001b[39m=\u001b[39m[\u001b[39m'\u001b[39m\u001b[39mName\u001b[39m\u001b[39m'\u001b[39m, \u001b[39m'\u001b[39m\u001b[39mHouse\u001b[39m\u001b[39m'\u001b[39m], value_vars\u001b[39m=\u001b[39m[\u001b[39m'\u001b[39m\u001b[39mAge\u001b[39m\u001b[39m'\u001b[39m, \u001b[39m'\u001b[39m\u001b[39mSeasons\u001b[39m\u001b[39m'\u001b[39m, \u001b[39m'\u001b[39m\u001b[39mEpisodes\u001b[39m\u001b[39m'\u001b[39m])\n\u001b[1;32m----> 4\u001b[0m melted_series \u001b[39m=\u001b[39m melted_series\u001b[39m.\u001b[39;49mset_index([\u001b[39m'\u001b[39;49m\u001b[39mName\u001b[39;49m\u001b[39m'\u001b[39;49m, \u001b[39m'\u001b[39;49m\u001b[39mHouse\u001b[39;49m\u001b[39m'\u001b[39;49m, \u001b[39m'\u001b[39;49m\u001b[39mAttributes\u001b[39;49m\u001b[39m'\u001b[39;49m])\n\u001b[0;32m      5\u001b[0m \u001b[39mprint\u001b[39m(melted_series)\n",
      "File \u001b[1;32mc:\\Program Files\\Python311\\Lib\\site-packages\\pandas\\util\\_decorators.py:331\u001b[0m, in \u001b[0;36mdeprecate_nonkeyword_arguments.<locals>.decorate.<locals>.wrapper\u001b[1;34m(*args, **kwargs)\u001b[0m\n\u001b[0;32m    325\u001b[0m \u001b[39mif\u001b[39;00m \u001b[39mlen\u001b[39m(args) \u001b[39m>\u001b[39m num_allow_args:\n\u001b[0;32m    326\u001b[0m     warnings\u001b[39m.\u001b[39mwarn(\n\u001b[0;32m    327\u001b[0m         msg\u001b[39m.\u001b[39mformat(arguments\u001b[39m=\u001b[39m_format_argument_list(allow_args)),\n\u001b[0;32m    328\u001b[0m         \u001b[39mFutureWarning\u001b[39;00m,\n\u001b[0;32m    329\u001b[0m         stacklevel\u001b[39m=\u001b[39mfind_stack_level(),\n\u001b[0;32m    330\u001b[0m     )\n\u001b[1;32m--> 331\u001b[0m \u001b[39mreturn\u001b[39;00m func(\u001b[39m*\u001b[39;49margs, \u001b[39m*\u001b[39;49m\u001b[39m*\u001b[39;49mkwargs)\n",
      "File \u001b[1;32mc:\\Program Files\\Python311\\Lib\\site-packages\\pandas\\core\\frame.py:6012\u001b[0m, in \u001b[0;36mDataFrame.set_index\u001b[1;34m(self, keys, drop, append, inplace, verify_integrity)\u001b[0m\n\u001b[0;32m   6009\u001b[0m                 missing\u001b[39m.\u001b[39mappend(col)\n\u001b[0;32m   6011\u001b[0m \u001b[39mif\u001b[39;00m missing:\n\u001b[1;32m-> 6012\u001b[0m     \u001b[39mraise\u001b[39;00m \u001b[39mKeyError\u001b[39;00m(\u001b[39mf\u001b[39m\u001b[39m\"\u001b[39m\u001b[39mNone of \u001b[39m\u001b[39m{\u001b[39;00mmissing\u001b[39m}\u001b[39;00m\u001b[39m are in the columns\u001b[39m\u001b[39m\"\u001b[39m)\n\u001b[0;32m   6014\u001b[0m \u001b[39mif\u001b[39;00m inplace:\n\u001b[0;32m   6015\u001b[0m     frame \u001b[39m=\u001b[39m \u001b[39mself\u001b[39m\n",
      "\u001b[1;31mKeyError\u001b[0m: \"None of ['Attributes'] are in the columns\""
     ]
    }
   ],
   "source": [
    "# Example 17: Melting the DataFrame and converting the long format to a Series using set_index\n",
    "print(\"\\nExample 17: Melting the DataFrame and converting the long format to a Series using set_index:\")\n",
    "melted_series = pd.melt(got_df, id_vars=['Name', 'House'], value_vars=['Age', 'Seasons', 'Episodes'])\n",
    "melted_series = melted_series.set_index(['Name', 'House', 'Attributes'])\n",
    "print(melted_series)\n"
   ]
  },
  {
   "cell_type": "code",
   "execution_count": 20,
   "metadata": {},
   "outputs": [
    {
     "name": "stdout",
     "output_type": "stream",
     "text": [
      "\n",
      "Example 18: Melting the DataFrame and combining multiple identifier variables into a single column:\n",
      "    value                                 Identifier\n",
      "0      30                     Jon Snow - Stark - Age\n",
      "1      24       Daenerys Targaryen - Targaryen - Age\n",
      "2      38         Tyrion Lannister - Lannister - Age\n",
      "3      20                   Arya Stark - Stark - Age\n",
      "4      42         Cersei Lannister - Lannister - Age\n",
      "5       8                 Jon Snow - Stark - Seasons\n",
      "6       8   Daenerys Targaryen - Targaryen - Seasons\n",
      "7       8     Tyrion Lannister - Lannister - Seasons\n",
      "8       8               Arya Stark - Stark - Seasons\n",
      "9       8     Cersei Lannister - Lannister - Seasons\n",
      "10     73                Jon Snow - Stark - Episodes\n",
      "11     62  Daenerys Targaryen - Targaryen - Episodes\n",
      "12     67    Tyrion Lannister - Lannister - Episodes\n",
      "13     59              Arya Stark - Stark - Episodes\n",
      "14     62    Cersei Lannister - Lannister - Episodes\n"
     ]
    }
   ],
   "source": [
    "# Example 18: Melting the DataFrame and combining multiple identifier variables into a single column\n",
    "print(\"\\nExample 18: Melting the DataFrame and combining multiple identifier variables into a single column:\")\n",
    "melted_combine_id_vars = pd.melt(got_df, id_vars=['Name', 'House'], value_vars=['Age', 'Seasons', 'Episodes'], var_name='Characteristics')\n",
    "melted_combine_id_vars['Identifier'] = melted_combine_id_vars['Name'] + \" - \" + melted_combine_id_vars['House'] + \" - \" + melted_combine_id_vars['Characteristics']\n",
    "melted_combine_id_vars.drop(columns=['Name', 'House', 'Characteristics'], inplace=True)\n",
    "print(melted_combine_id_vars)"
   ]
  },
  {
   "cell_type": "code",
   "execution_count": 21,
   "metadata": {},
   "outputs": [
    {
     "name": "stdout",
     "output_type": "stream",
     "text": [
      "\n",
      "Example 19: Melting the DataFrame and filling missing values in the variable column:\n",
      "                  Name      House Attribute  value\n",
      "0             Jon Snow      Stark       Age     30\n",
      "1   Daenerys Targaryen  Targaryen       Age     24\n",
      "2     Tyrion Lannister  Lannister       Age     38\n",
      "3           Arya Stark      Stark       Age     20\n",
      "4     Cersei Lannister  Lannister       Age     42\n",
      "5             Jon Snow      Stark   Seasons      8\n",
      "6   Daenerys Targaryen  Targaryen   Seasons      8\n",
      "7     Tyrion Lannister  Lannister   Seasons      8\n",
      "8           Arya Stark      Stark   Seasons      8\n",
      "9     Cersei Lannister  Lannister   Seasons      8\n",
      "10            Jon Snow      Stark  Episodes     73\n",
      "11  Daenerys Targaryen  Targaryen  Episodes     62\n",
      "12    Tyrion Lannister  Lannister  Episodes     67\n",
      "13          Arya Stark      Stark  Episodes     59\n",
      "14    Cersei Lannister  Lannister  Episodes     62\n"
     ]
    }
   ],
   "source": [
    "# Example 19: Melting the DataFrame and filling missing values in the variable column\n",
    "print(\"\\nExample 19: Melting the DataFrame and filling missing values in the variable column:\")\n",
    "melted_fill_na = pd.melt(got_df, id_vars=['Name', 'House'], value_vars=['Age', 'Seasons', 'Episodes'], var_name='Attribute')\n",
    "melted_fill_na['Attribute'] = melted_fill_na['Attribute'].fillna('Unknown')\n",
    "print(melted_fill_na)"
   ]
  },
  {
   "cell_type": "code",
   "execution_count": 22,
   "metadata": {},
   "outputs": [
    {
     "name": "stdout",
     "output_type": "stream",
     "text": [
      "\n",
      "Example 20: Melting the DataFrame and dropping duplicate rows:\n",
      "                  Name      House Attributes  value\n",
      "0             Jon Snow      Stark        Age     30\n",
      "1   Daenerys Targaryen  Targaryen        Age     24\n",
      "2     Tyrion Lannister  Lannister        Age     38\n",
      "3           Arya Stark      Stark        Age     20\n",
      "4     Cersei Lannister  Lannister        Age     42\n",
      "5             Jon Snow      Stark    Seasons      8\n",
      "6   Daenerys Targaryen  Targaryen    Seasons      8\n",
      "7     Tyrion Lannister  Lannister    Seasons      8\n",
      "8           Arya Stark      Stark    Seasons      8\n",
      "9     Cersei Lannister  Lannister    Seasons      8\n",
      "10            Jon Snow      Stark   Episodes     73\n",
      "11  Daenerys Targaryen  Targaryen   Episodes     62\n",
      "12    Tyrion Lannister  Lannister   Episodes     67\n",
      "13          Arya Stark      Stark   Episodes     59\n",
      "14    Cersei Lannister  Lannister   Episodes     62\n"
     ]
    }
   ],
   "source": [
    "# Example 20: Melting the DataFrame and dropping duplicate rows\n",
    "print(\"\\nExample 20: Melting the DataFrame and dropping duplicate rows:\")\n",
    "melted_drop_duplicates = pd.melt(got_df, id_vars=['Name', 'House'], value_vars=['Age', 'Seasons', 'Episodes'], var_name='Attributes')\n",
    "melted_drop_duplicates.drop_duplicates(inplace=True)\n",
    "print(melted_drop_duplicates)"
   ]
  }
 ],
 "metadata": {
  "kernelspec": {
   "display_name": "Python 3",
   "language": "python",
   "name": "python3"
  },
  "language_info": {
   "codemirror_mode": {
    "name": "ipython",
    "version": 3
   },
   "file_extension": ".py",
   "mimetype": "text/x-python",
   "name": "python",
   "nbconvert_exporter": "python",
   "pygments_lexer": "ipython3",
   "version": "3.11.2"
  },
  "orig_nbformat": 4
 },
 "nbformat": 4,
 "nbformat_minor": 2
}
