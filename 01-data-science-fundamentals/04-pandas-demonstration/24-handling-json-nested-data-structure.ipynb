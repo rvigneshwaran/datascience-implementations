{
 "cells": [
  {
   "cell_type": "code",
   "execution_count": 44,
   "metadata": {},
   "outputs": [],
   "source": [
    "import pandas as pd\n",
    "import json"
   ]
  },
  {
   "cell_type": "code",
   "execution_count": 46,
   "metadata": {},
   "outputs": [
    {
     "name": "stdout",
     "output_type": "stream",
     "text": [
      "Example 1:\n",
      "    name  age         city\n",
      "0   John   30     New York\n",
      "1  Alice   25  Los Angeles\n"
     ]
    }
   ],
   "source": [
    "# Example 1: Reading JSON data from a file\n",
    "with open('input-contends/data.json', 'r') as file:\n",
    "    data = json.load(file)\n",
    "df = pd.json_normalize(data)\n",
    "print(\"Example 1:\")\n",
    "print(df)"
   ]
  },
  {
   "cell_type": "markdown",
   "metadata": {},
   "source": [
    "```python\n",
    "# Example 2: Reading JSON data from a URL\n",
    "url = 'http://date.jsontest.com/'\n",
    "response = pd.read_json(url)\n",
    "df = pd.json_normalize(response['data'])\n",
    "print(\"\\nExample 2:\")\n",
    "print(df)\n",
    "```"
   ]
  },
  {
   "cell_type": "code",
   "execution_count": null,
   "metadata": {},
   "outputs": [
    {
     "name": "stdout",
     "output_type": "stream",
     "text": [
      "\n",
      "Example 3:\n",
      "   name  age      city\n",
      "0  John   30  New York\n"
     ]
    }
   ],
   "source": [
    "# Example 3: Reading JSON data from a string\n",
    "json_str = '{\"name\": \"John\", \"age\": 30, \"city\": \"New York\"}'\n",
    "data = json.loads(json_str)\n",
    "df = pd.json_normalize(data)\n",
    "print(\"\\nExample 3:\")\n",
    "print(df)"
   ]
  },
  {
   "cell_type": "code",
   "execution_count": null,
   "metadata": {},
   "outputs": [
    {
     "name": "stdout",
     "output_type": "stream",
     "text": [
      "\n",
      "Example 4:\n",
      "   name  age address.city address.zipcode\n",
      "0  John   30     New York           10001\n"
     ]
    }
   ],
   "source": [
    "# Example 4: Handling nested JSON data\n",
    "nested_json = '{\"name\": \"John\", \"age\": 30, \"address\": {\"city\": \"New York\", \"zipcode\": \"10001\"}}'\n",
    "data = json.loads(nested_json)\n",
    "df = pd.json_normalize(data)\n",
    "print(\"\\nExample 4:\")\n",
    "print(df)"
   ]
  },
  {
   "cell_type": "code",
   "execution_count": null,
   "metadata": {},
   "outputs": [
    {
     "name": "stdout",
     "output_type": "stream",
     "text": [
      "\n",
      "Example 5:\n",
      "    name  age\n",
      "0   John   30\n",
      "1  Alice   25\n"
     ]
    }
   ],
   "source": [
    "# Example 5: Reading JSON data with multiple records\n",
    "json_str = '[{\"name\": \"John\", \"age\": 30}, {\"name\": \"Alice\", \"age\": 25}]'\n",
    "data = json.loads(json_str)\n",
    "df = pd.json_normalize(data)\n",
    "print(\"\\nExample 5:\")\n",
    "print(df)"
   ]
  },
  {
   "cell_type": "code",
   "execution_count": null,
   "metadata": {},
   "outputs": [
    {
     "name": "stdout",
     "output_type": "stream",
     "text": [
      "\n",
      "Example 6:\n",
      "    name  age address.city address.zipcode\n",
      "0   John   30     New York           10001\n",
      "1  Alice   25  Los Angeles           90001\n"
     ]
    }
   ],
   "source": [
    "# Example 6: Handling nested JSON data with multiple records\n",
    "nested_json = '[{\"name\": \"John\", \"age\": 30, \"address\": {\"city\": \"New York\", \"zipcode\": \"10001\"}}, {\"name\": \"Alice\", \"age\": 25, \"address\": {\"city\": \"Los Angeles\", \"zipcode\": \"90001\"}}]'\n",
    "data = json.loads(nested_json)\n",
    "df = pd.json_normalize(data)\n",
    "print(\"\\nExample 6:\")\n",
    "print(df)"
   ]
  },
  {
   "cell_type": "code",
   "execution_count": 47,
   "metadata": {},
   "outputs": [
    {
     "ename": "JSONDecodeError",
     "evalue": "Extra data: line 2 column 1 (char 140)",
     "output_type": "error",
     "traceback": [
      "\u001b[1;31m---------------------------------------------------------------------------\u001b[0m",
      "\u001b[1;31mJSONDecodeError\u001b[0m                           Traceback (most recent call last)",
      "Cell \u001b[1;32mIn[47], line 3\u001b[0m\n\u001b[0;32m      1\u001b[0m \u001b[39m# Example 7: Reading nested JSON data from a file\u001b[39;00m\n\u001b[0;32m      2\u001b[0m \u001b[39mwith\u001b[39;00m \u001b[39mopen\u001b[39m(\u001b[39m'\u001b[39m\u001b[39minput-contends/data_nested.json\u001b[39m\u001b[39m'\u001b[39m, \u001b[39m'\u001b[39m\u001b[39mr\u001b[39m\u001b[39m'\u001b[39m) \u001b[39mas\u001b[39;00m file:\n\u001b[1;32m----> 3\u001b[0m     data \u001b[39m=\u001b[39m json\u001b[39m.\u001b[39;49mload(file)\n\u001b[0;32m      4\u001b[0m df \u001b[39m=\u001b[39m pd\u001b[39m.\u001b[39mjson_normalize(data, \u001b[39m'\u001b[39m\u001b[39memployees\u001b[39m\u001b[39m'\u001b[39m, [\u001b[39m'\u001b[39m\u001b[39mdepartment\u001b[39m\u001b[39m'\u001b[39m, \u001b[39m'\u001b[39m\u001b[39mlocation\u001b[39m\u001b[39m'\u001b[39m])\n\u001b[0;32m      5\u001b[0m \u001b[39mprint\u001b[39m(\u001b[39m\"\u001b[39m\u001b[39m\\n\u001b[39;00m\u001b[39mExample 7:\u001b[39m\u001b[39m\"\u001b[39m)\n",
      "File \u001b[1;32mc:\\Program Files\\Python311\\Lib\\json\\__init__.py:293\u001b[0m, in \u001b[0;36mload\u001b[1;34m(fp, cls, object_hook, parse_float, parse_int, parse_constant, object_pairs_hook, **kw)\u001b[0m\n\u001b[0;32m    274\u001b[0m \u001b[39mdef\u001b[39;00m \u001b[39mload\u001b[39m(fp, \u001b[39m*\u001b[39m, \u001b[39mcls\u001b[39m\u001b[39m=\u001b[39m\u001b[39mNone\u001b[39;00m, object_hook\u001b[39m=\u001b[39m\u001b[39mNone\u001b[39;00m, parse_float\u001b[39m=\u001b[39m\u001b[39mNone\u001b[39;00m,\n\u001b[0;32m    275\u001b[0m         parse_int\u001b[39m=\u001b[39m\u001b[39mNone\u001b[39;00m, parse_constant\u001b[39m=\u001b[39m\u001b[39mNone\u001b[39;00m, object_pairs_hook\u001b[39m=\u001b[39m\u001b[39mNone\u001b[39;00m, \u001b[39m*\u001b[39m\u001b[39m*\u001b[39mkw):\n\u001b[0;32m    276\u001b[0m \u001b[39m    \u001b[39m\u001b[39m\"\"\"Deserialize ``fp`` (a ``.read()``-supporting file-like object containing\u001b[39;00m\n\u001b[0;32m    277\u001b[0m \u001b[39m    a JSON document) to a Python object.\u001b[39;00m\n\u001b[0;32m    278\u001b[0m \n\u001b[1;32m   (...)\u001b[0m\n\u001b[0;32m    291\u001b[0m \u001b[39m    kwarg; otherwise ``JSONDecoder`` is used.\u001b[39;00m\n\u001b[0;32m    292\u001b[0m \u001b[39m    \"\"\"\u001b[39;00m\n\u001b[1;32m--> 293\u001b[0m     \u001b[39mreturn\u001b[39;00m loads(fp\u001b[39m.\u001b[39;49mread(),\n\u001b[0;32m    294\u001b[0m         \u001b[39mcls\u001b[39;49m\u001b[39m=\u001b[39;49m\u001b[39mcls\u001b[39;49m, object_hook\u001b[39m=\u001b[39;49mobject_hook,\n\u001b[0;32m    295\u001b[0m         parse_float\u001b[39m=\u001b[39;49mparse_float, parse_int\u001b[39m=\u001b[39;49mparse_int,\n\u001b[0;32m    296\u001b[0m         parse_constant\u001b[39m=\u001b[39;49mparse_constant, object_pairs_hook\u001b[39m=\u001b[39;49mobject_pairs_hook, \u001b[39m*\u001b[39;49m\u001b[39m*\u001b[39;49mkw)\n",
      "File \u001b[1;32mc:\\Program Files\\Python311\\Lib\\json\\__init__.py:346\u001b[0m, in \u001b[0;36mloads\u001b[1;34m(s, cls, object_hook, parse_float, parse_int, parse_constant, object_pairs_hook, **kw)\u001b[0m\n\u001b[0;32m    341\u001b[0m     s \u001b[39m=\u001b[39m s\u001b[39m.\u001b[39mdecode(detect_encoding(s), \u001b[39m'\u001b[39m\u001b[39msurrogatepass\u001b[39m\u001b[39m'\u001b[39m)\n\u001b[0;32m    343\u001b[0m \u001b[39mif\u001b[39;00m (\u001b[39mcls\u001b[39m \u001b[39mis\u001b[39;00m \u001b[39mNone\u001b[39;00m \u001b[39mand\u001b[39;00m object_hook \u001b[39mis\u001b[39;00m \u001b[39mNone\u001b[39;00m \u001b[39mand\u001b[39;00m\n\u001b[0;32m    344\u001b[0m         parse_int \u001b[39mis\u001b[39;00m \u001b[39mNone\u001b[39;00m \u001b[39mand\u001b[39;00m parse_float \u001b[39mis\u001b[39;00m \u001b[39mNone\u001b[39;00m \u001b[39mand\u001b[39;00m\n\u001b[0;32m    345\u001b[0m         parse_constant \u001b[39mis\u001b[39;00m \u001b[39mNone\u001b[39;00m \u001b[39mand\u001b[39;00m object_pairs_hook \u001b[39mis\u001b[39;00m \u001b[39mNone\u001b[39;00m \u001b[39mand\u001b[39;00m \u001b[39mnot\u001b[39;00m kw):\n\u001b[1;32m--> 346\u001b[0m     \u001b[39mreturn\u001b[39;00m _default_decoder\u001b[39m.\u001b[39;49mdecode(s)\n\u001b[0;32m    347\u001b[0m \u001b[39mif\u001b[39;00m \u001b[39mcls\u001b[39m \u001b[39mis\u001b[39;00m \u001b[39mNone\u001b[39;00m:\n\u001b[0;32m    348\u001b[0m     \u001b[39mcls\u001b[39m \u001b[39m=\u001b[39m JSONDecoder\n",
      "File \u001b[1;32mc:\\Program Files\\Python311\\Lib\\json\\decoder.py:340\u001b[0m, in \u001b[0;36mJSONDecoder.decode\u001b[1;34m(self, s, _w)\u001b[0m\n\u001b[0;32m    338\u001b[0m end \u001b[39m=\u001b[39m _w(s, end)\u001b[39m.\u001b[39mend()\n\u001b[0;32m    339\u001b[0m \u001b[39mif\u001b[39;00m end \u001b[39m!=\u001b[39m \u001b[39mlen\u001b[39m(s):\n\u001b[1;32m--> 340\u001b[0m     \u001b[39mraise\u001b[39;00m JSONDecodeError(\u001b[39m\"\u001b[39m\u001b[39mExtra data\u001b[39m\u001b[39m\"\u001b[39m, s, end)\n\u001b[0;32m    341\u001b[0m \u001b[39mreturn\u001b[39;00m obj\n",
      "\u001b[1;31mJSONDecodeError\u001b[0m: Extra data: line 2 column 1 (char 140)"
     ]
    }
   ],
   "source": [
    "# Example 7: Reading nested JSON data from a file\n",
    "with open('input-contends/data_nested.json', 'r') as file:\n",
    "    data = json.load(file)\n",
    "df = pd.json_normalize(data, 'employees', ['department', 'location'])\n",
    "print(\"\\nExample 7:\")\n",
    "print(df)"
   ]
  },
  {
   "cell_type": "code",
   "execution_count": null,
   "metadata": {},
   "outputs": [
    {
     "name": "stdout",
     "output_type": "stream",
     "text": [
      "\n",
      "Example 8:\n",
      "   name  age address.city address.zipcode  address.coordinates.latitude  \\\n",
      "0  John   30     New York           10001                       40.7128   \n",
      "\n",
      "   address.coordinates.longitude  \n",
      "0                        -74.006  \n"
     ]
    }
   ],
   "source": [
    "# Example 8: Handling deeply nested JSON data\n",
    "deep_nested_json = '{\"name\": \"John\", \"age\": 30, \"address\": {\"city\": \"New York\", \"zipcode\": \"10001\", \"coordinates\": {\"latitude\": 40.7128, \"longitude\": -74.0060}}}'\n",
    "data = json.loads(deep_nested_json)\n",
    "df = pd.json_normalize(data)\n",
    "print(\"\\nExample 8:\")\n",
    "print(df)"
   ]
  },
  {
   "cell_type": "code",
   "execution_count": null,
   "metadata": {},
   "outputs": [
    {
     "name": "stdout",
     "output_type": "stream",
     "text": [
      "\n",
      "Example 9:\n",
      "   name  age                     hobbies\n",
      "0  John   30  [reading, gaming, cooking]\n"
     ]
    }
   ],
   "source": [
    "# Example 9: Handling arrays within JSON data\n",
    "json_str = '{\"name\": \"John\", \"age\": 30, \"hobbies\": [\"reading\", \"gaming\", \"cooking\"]}'\n",
    "data = json.loads(json_str)\n",
    "df = pd.json_normalize(data)\n",
    "print(\"\\nExample 9:\")\n",
    "print(df)\n"
   ]
  },
  {
   "cell_type": "code",
   "execution_count": null,
   "metadata": {},
   "outputs": [
    {
     "name": "stdout",
     "output_type": "stream",
     "text": [
      "\n",
      "Example 10:\n",
      "      name   level studentname age\n",
      "0  reading    high        John  30\n",
      "1   gaming  medium        John  30\n"
     ]
    }
   ],
   "source": [
    "# Example 10: Handling arrays within nested JSON data\n",
    "nested_json = '{\"studentname\": \"John\", \"age\": 30, \"interests\": [{\"name\": \"reading\", \"level\": \"high\"}, {\"name\": \"gaming\", \"level\": \"medium\"}]}'\n",
    "data = json.loads(nested_json)\n",
    "df = pd.json_normalize(data, 'interests', ['studentname', 'age'])\n",
    "print(\"\\nExample 10:\")\n",
    "print(df)"
   ]
  },
  {
   "cell_type": "code",
   "execution_count": null,
   "metadata": {},
   "outputs": [
    {
     "name": "stdout",
     "output_type": "stream",
     "text": [
      "\n",
      "Example 11:\n",
      "   name  age  city\n",
      "0  John   30  None\n"
     ]
    }
   ],
   "source": [
    "# Example 11: Handling missing values in JSON data\n",
    "json_str = '{\"name\": \"John\", \"age\": 30, \"city\": null}'\n",
    "data = json.loads(json_str)\n",
    "df = pd.json_normalize(data)\n",
    "print(\"\\nExample 11:\")\n",
    "print(df)"
   ]
  },
  {
   "cell_type": "code",
   "execution_count": null,
   "metadata": {},
   "outputs": [
    {
     "name": "stdout",
     "output_type": "stream",
     "text": [
      "\n",
      "Example 12:\n",
      "[{\"name\":\"John\",\"age\":30,\"city\":\"New York\"},{\"name\":\"Alice\",\"age\":25,\"city\":\"Los Angeles\"}]\n"
     ]
    }
   ],
   "source": [
    "# Example 12: Converting DataFrame to JSON\n",
    "data = {'name': ['John', 'Alice'], 'age': [30, 25], 'city': ['New York', 'Los Angeles']}\n",
    "df = pd.DataFrame(data)\n",
    "json_str = df.to_json(orient='records')\n",
    "print(\"\\nExample 12:\")\n",
    "print(json_str)\n"
   ]
  },
  {
   "cell_type": "code",
   "execution_count": null,
   "metadata": {},
   "outputs": [
    {
     "name": "stdout",
     "output_type": "stream",
     "text": [
      "\n",
      "Example 13:\n",
      "            name       age                                            address\n",
      "0  [John, Alice]  [30, 25]  [{'city': 'New York', 'zipcode': '10001'}, {'c...\n"
     ]
    }
   ],
   "source": [
    "# Example 13: Converting DataFrame to nested JSON\n",
    "data = {'name': ['John', 'Alice'], 'age': [30, 25], 'address': [{'city': 'New York', 'zipcode': '10001'}, {'city': 'Los Angeles', 'zipcode': '90001'}]}\n",
    "df = pd.json_normalize(data)\n",
    "print(\"\\nExample 13:\")\n",
    "print(df)"
   ]
  },
  {
   "cell_type": "code",
   "execution_count": null,
   "metadata": {},
   "outputs": [
    {
     "name": "stdout",
     "output_type": "stream",
     "text": [
      "\n",
      "Example 14:\n",
      "            name       age                                            address\n",
      "0  [John, Alice]  [30, 25]  [{'city': 'New York', 'zipcode': '10001'}, {'c...\n"
     ]
    }
   ],
   "source": [
    "# Example 14: Converting DataFrame to nested JSON with additional metadata\n",
    "data = {'name': ['John', 'Alice'], 'age': [30, 25], 'address': [{'city': 'New York', 'zipcode': '10001'}, {'city': 'Los Angeles', 'zipcode': '90001'}]}\n",
    "df = pd.json_normalize(data)\n",
    "print(\"\\nExample 14:\")\n",
    "print(df)"
   ]
  },
  {
   "cell_type": "code",
   "execution_count": null,
   "metadata": {},
   "outputs": [
    {
     "name": "stdout",
     "output_type": "stream",
     "text": [
      "\n",
      "Example 15:\n",
      "DataFrame exported to data.json\n"
     ]
    }
   ],
   "source": [
    "# Example 15: Exporting DataFrame to JSON file\n",
    "data = {'name': ['John', 'Alice'], 'age': [30, 25], 'city': ['New York', 'Los Angeles']}\n",
    "df = pd.DataFrame(data)\n",
    "df.to_json('data.json', orient='records', lines=True)\n",
    "print(\"\\nExample 15:\")\n",
    "print(\"DataFrame exported to data.json\")"
   ]
  },
  {
   "cell_type": "code",
   "execution_count": null,
   "metadata": {},
   "outputs": [
    {
     "name": "stdout",
     "output_type": "stream",
     "text": [
      "\n",
      "Example 16:\n",
      "Nested DataFrame exported to data_nested.json\n"
     ]
    }
   ],
   "source": [
    "# Example 16: Exporting nested DataFrame to JSON file\n",
    "data = {\n",
    "    \"name\": [\"John\", \"Alice\"],\n",
    "    \"age\": [30, 25],\n",
    "    \"address\": [\n",
    "        {\"city\": \"New York\", \"zipcode\": \"10001\"},\n",
    "        {\"city\": \"Los Angeles\", \"zipcode\": \"90001\"}\n",
    "    ]\n",
    "}\n",
    "# Creating a nested DataFrame\n",
    "df = pd.json_normalize(data)\n",
    "\n",
    "# Adding an additional row to match the length of the DataFrame\n",
    "df = pd.concat([df, df.iloc[0]], ignore_index=True)\n",
    "\n",
    "# Exporting to JSON file with specific JSON format\n",
    "df.to_json(\"output-contends/data_nested.json\", orient=\"records\", lines=True)\n",
    "\n",
    "print(\"\\nExample 16:\")\n",
    "print(\"Nested DataFrame exported to data_nested.json\")"
   ]
  },
  {
   "cell_type": "code",
   "execution_count": null,
   "metadata": {},
   "outputs": [
    {
     "name": "stdout",
     "output_type": "stream",
     "text": [
      "\n",
      "Example 17:\n",
      "   name  age                     hobbies\n",
      "0  John   30  [Reading, Gaming, Cooking]\n"
     ]
    }
   ],
   "source": [
    "# Example 17: Working with JSON data using apply function\n",
    "json_str = '{\"name\": \"John\", \"age\": 30, \"hobbies\": [\"reading\", \"gaming\", \"cooking\"]}'\n",
    "data = json.loads(json_str)\n",
    "df = pd.json_normalize(data)\n",
    "\n",
    "def capitalize_hobbies(row):\n",
    "    return [hobby.capitalize() for hobby in row['hobbies']]\n",
    "\n",
    "df['hobbies'] = df.apply(capitalize_hobbies, axis=1)\n",
    "print(\"\\nExample 17:\")\n",
    "print(df)"
   ]
  },
  {
   "cell_type": "code",
   "execution_count": null,
   "metadata": {},
   "outputs": [
    {
     "name": "stdout",
     "output_type": "stream",
     "text": [
      "\n",
      "Example 18:\n",
      "   name  age address.city address.zipcode      city\n",
      "0  John   30     New York           10001  New York\n"
     ]
    }
   ],
   "source": [
    "# Example 18: Extracting specific elements from JSON data using apply function\n",
    "json_str = '{\"name\": \"John\", \"age\": 30, \"address\": {\"city\": \"New York\", \"zipcode\": \"10001\"}}'\n",
    "data = json.loads(json_str)\n",
    "df = pd.json_normalize(data)\n",
    "\n",
    "df['city'] = df['address.city']\n",
    "\n",
    "print(\"\\nExample 18:\")\n",
    "print(df)"
   ]
  },
  {
   "cell_type": "code",
   "execution_count": null,
   "metadata": {},
   "outputs": [
    {
     "name": "stdout",
     "output_type": "stream",
     "text": [
      "\n",
      "Example 19:\n",
      "    name  age first_name per_age\n",
      "0  Alice   25       John      30\n",
      "1    Bob   28       John      30\n"
     ]
    }
   ],
   "source": [
    "# Example 19: Handling JSON data with nested arrays\n",
    "json_str = '{\"first_name\": \"John\", \"per_age\": 30, \"friends\": [{\"name\": \"Alice\", \"age\": 25}, {\"name\": \"Bob\", \"age\": 28}]}'\n",
    "data = json.loads(json_str)\n",
    "df = pd.json_normalize(data, 'friends', ['first_name', 'per_age'])\n",
    "print(\"\\nExample 19:\")\n",
    "print(df)"
   ]
  },
  {
   "cell_type": "code",
   "execution_count": null,
   "metadata": {},
   "outputs": [
    {
     "name": "stdout",
     "output_type": "stream",
     "text": [
      "\n",
      "Example 20:\n",
      "    name  age         city\n",
      "0   John   30     New York\n",
      "1  Alice   25  Los Angeles\n",
      "0   John   30     New York\n",
      "1  Alice   25  Los Angeles\n",
      "0   John   30     New York\n",
      "1  Alice   25  Los Angeles\n"
     ]
    }
   ],
   "source": [
    "# Example 20: Combining JSON data from multiple files\n",
    "file_names = ['data1.json', 'data2.json', 'data3.json']\n",
    "dfs = []\n",
    "for file in file_names:\n",
    "    with open(\"input-contends/\"+file, 'r') as f:\n",
    "        data = json.load(f)\n",
    "    df = pd.json_normalize(data)\n",
    "    dfs.append(df)\n",
    "\n",
    "combined_df = pd.concat(dfs)\n",
    "print(\"\\nExample 20:\")\n",
    "print(combined_df)"
   ]
  },
  {
   "cell_type": "code",
   "execution_count": null,
   "metadata": {},
   "outputs": [
    {
     "name": "stdout",
     "output_type": "stream",
     "text": [
      "\n",
      "Example 21:\n",
      "    name  age                                      address\n",
      "0   John   30     {'city': 'New York', 'zipcode': '10001'}\n",
      "1  Alice   25  {'city': 'Los Angeles', 'zipcode': '90001'}\n"
     ]
    }
   ],
   "source": [
    "# Example 21: Working with nested JSON data using DataFrame constructor\n",
    "data = {'name': ['John', 'Alice'], 'age': [30, 25], 'address': [{'city': 'New York', 'zipcode': '10001'}, {'city': 'Los Angeles', 'zipcode': '90001'}]}\n",
    "df = pd.DataFrame(data)\n",
    "print(\"\\nExample 21:\")\n",
    "print(df)"
   ]
  },
  {
   "cell_type": "code",
   "execution_count": null,
   "metadata": {},
   "outputs": [
    {
     "name": "stdout",
     "output_type": "stream",
     "text": [
      "\n",
      "Example 22:\n",
      "   name  age address.city address.zipcode  address.coordinates.latitude  \\\n",
      "0  John   30     New York           10001                       40.7128   \n",
      "\n",
      "   address.coordinates.longitude  \n",
      "0                        -74.006  \n"
     ]
    }
   ],
   "source": [
    "# Example 22: Handling nested JSON data with multiple levels\n",
    "nested_json = '{\"name\": \"John\", \"age\": 30, \"address\": {\"city\": \"New York\", \"zipcode\": \"10001\", \"coordinates\": {\"latitude\": 40.7128, \"longitude\": -74.0060}}}'\n",
    "data = json.loads(nested_json)\n",
    "df = pd.json_normalize(data)\n",
    "print(\"\\nExample 22:\")\n",
    "print(df)"
   ]
  },
  {
   "cell_type": "code",
   "execution_count": null,
   "metadata": {},
   "outputs": [
    {
     "name": "stdout",
     "output_type": "stream",
     "text": [
      "   name  age                     hobbies address.city address.zipcode  \\\n",
      "0  John   30  [reading, gaming, cooking]     New York           10001   \n",
      "\n",
      "   address.coordinates.latitude  address.coordinates.longitude  \n",
      "0                       40.7128                        -74.006  \n"
     ]
    }
   ],
   "source": [
    "# Example 23: Reshaping nested JSON data into a flat DataFrame ?\n",
    "nested_json = '''\n",
    "{\n",
    "  \"name\": \"John\",\n",
    "  \"age\": 30,\n",
    "  \"address\": {\n",
    "    \"city\": \"New York\",\n",
    "    \"zipcode\": \"10001\",\n",
    "    \"coordinates\": {\n",
    "      \"latitude\": 40.7128,\n",
    "      \"longitude\": -74.0060\n",
    "    }\n",
    "  },\n",
    "  \"hobbies\": [\"reading\", \"gaming\", \"cooking\"]\n",
    "}\n",
    "'''\n",
    "\n",
    "# Load JSON data\n",
    "data = json.loads(nested_json)\n",
    "\n",
    "# Flatten the nested JSON data\n",
    "flat_data = pd.json_normalize(data)\n",
    "\n",
    "# Display the flat DataFrame\n",
    "print(flat_data)"
   ]
  },
  {
   "cell_type": "code",
   "execution_count": null,
   "metadata": {},
   "outputs": [
    {
     "name": "stdout",
     "output_type": "stream",
     "text": [
      "\n",
      "Example 24:\n",
      "    name  age first_name per_age\n",
      "0  Alice   25       John      30\n",
      "1    Bob   28       John      30\n"
     ]
    }
   ],
   "source": [
    "# Example 24: Handling JSON data with arrays of dictionaries\n",
    "json_str = '{\"first_name\": \"John\", \"per_age\": 30, \"friends\": [{\"name\": \"Alice\", \"age\": 25}, {\"name\": \"Bob\", \"age\": 28}]}'\n",
    "data = json.loads(json_str)\n",
    "df = pd.json_normalize(data, 'friends', ['first_name', 'per_age'])\n",
    "print(\"\\nExample 24:\")\n",
    "print(df)"
   ]
  },
  {
   "cell_type": "code",
   "execution_count": null,
   "metadata": {},
   "outputs": [
    {
     "name": "stdout",
     "output_type": "stream",
     "text": [
      "\n",
      "Example 25:\n",
      "    name  age            hobbies first_name per_age\n",
      "0  Alice   25  [reading, gaming]       John      30\n",
      "1    Bob   28  [cooking, sports]       John      30\n",
      "2   Jane   27       [travelling]       John      30\n"
     ]
    }
   ],
   "source": [
    "# Example 25: Handling nested JSON data with arrays of dictionaries\n",
    "nested_json = '{\"first_name\": \"John\", \"per_age\": 30, \"friends\": [{\"name\": \"Alice\", \"age\": 25, \"hobbies\": [\"reading\", \"gaming\"]}, {\"name\": \"Bob\", \"age\": 28, \"hobbies\": [\"cooking\", \"sports\"]}, {\"name\": \"Jane\", \"age\": 27, \"hobbies\": [\"travelling\"]}]}' \n",
    "data = json.loads(nested_json)\n",
    "df = pd.json_normalize(data, 'friends', ['first_name', 'per_age'])\n",
    "print(\"\\nExample 25:\")\n",
    "print(df)"
   ]
  },
  {
   "cell_type": "code",
   "execution_count": null,
   "metadata": {},
   "outputs": [
    {
     "name": "stdout",
     "output_type": "stream",
     "text": [
      "\n",
      "Example 26:\n",
      "   name  age address.city address.zipcode  address.coordinates.latitude  \\\n",
      "0  John   30     New York           10001                       40.7128   \n",
      "\n",
      "   address.coordinates.longitude  \n",
      "0                        -74.006  \n"
     ]
    }
   ],
   "source": [
    "# Example 26: Extracting specific elements from nested JSON data\n",
    "nested_json = '{\"name\": \"John\", \"age\": 30, \"address\": {\"city\": \"New York\", \"zipcode\": \"10001\", \"coordinates\": {\"latitude\": 40.7128, \"longitude\": -74.0060}}}'\n",
    "data = json.loads(nested_json)\n",
    "df_updated = pd.json_normalize(data)\n",
    "df_updated.head(2)\n",
    "# Extracting latitude and longitude separately\n",
    "df['latitude'] = df['address.coordinates.latitude']\n",
    "df['longitude'] = df['address.coordinates.longitude']\n",
    "print(\"\\nExample 26:\")\n",
    "print(df_updated)"
   ]
  },
  {
   "cell_type": "code",
   "execution_count": null,
   "metadata": {},
   "outputs": [
    {
     "name": "stdout",
     "output_type": "stream",
     "text": [
      "\n",
      "Example 27:\n",
      "    name  age          hobbies person_name person_age\n",
      "0  Alice   25  reading, gaming        John         30\n",
      "1    Bob   28  cooking, sports        John         30\n",
      "2   Jane   27       travelling        John         30\n"
     ]
    }
   ],
   "source": [
    "# Example 27: Extracting specific elements from nested JSON data with arrays\n",
    "nested_json = '{\"person_name\": \"John\", \"person_age\": 30, \"friends\": [{\"name\": \"Alice\", \"age\": 25, \"hobbies\": [\"reading\", \"gaming\"]}, {\"name\": \"Bob\", \"age\": 28, \"hobbies\": [\"cooking\", \"sports\"]}, {\"name\": \"Jane\", \"age\": 27, \"hobbies\": [\"travelling\"]}]}' \n",
    "data = json.loads(nested_json)\n",
    "df = pd.json_normalize(data, 'friends', ['person_name', 'person_age'])\n",
    "\n",
    "def extract_hobbies(row):\n",
    "    return ', '.join(row['hobbies'])\n",
    "\n",
    "df['hobbies'] = df.apply(extract_hobbies, axis=1)\n",
    "print(\"\\nExample 27:\")\n",
    "print(df)\n"
   ]
  },
  {
   "cell_type": "code",
   "execution_count": null,
   "metadata": {},
   "outputs": [
    {
     "name": "stdout",
     "output_type": "stream",
     "text": [
      "\n",
      "Example 28:\n",
      "    name  age          hobbies person_name person_age\n",
      "0  Alice   25  reading, gaming        John         30\n",
      "1    Bob   28  cooking, sports        John         30\n",
      "2   Jane   27       travelling        John         30\n"
     ]
    }
   ],
   "source": [
    "# Example 28: Extracting specific elements from nested JSON data with arrays and multiple levels\n",
    "nested_json = '{\"person_name\": \"John\", \"person_age\": 30, \"friends\": [{\"name\": \"Alice\", \"age\": 25, \"hobbies\": [{\"name\": \"reading\", \"level\": \"high\"}, {\"name\": \"gaming\", \"level\": \"medium\"}]}, {\"name\": \"Bob\", \"age\": 28, \"hobbies\": [{\"name\": \"cooking\", \"level\": \"medium\"}, {\"name\": \"sports\", \"level\": \"high\"}]}, {\"name\": \"Jane\", \"age\": 27, \"hobbies\": [{\"name\": \"travelling\", \"level\": \"low\"}]}]}' \n",
    "data = json.loads(nested_json)\n",
    "df = pd.json_normalize(data, 'friends', ['person_name', 'person_age'])\n",
    "\n",
    "def extract_hobbies(row):\n",
    "    return ', '.join([hobby['name'] for hobby in row['hobbies']])\n",
    "\n",
    "df['hobbies'] = df.apply(extract_hobbies, axis=1)\n",
    "print(\"\\nExample 28:\")\n",
    "print(df)"
   ]
  },
  {
   "cell_type": "code",
   "execution_count": null,
   "metadata": {},
   "outputs": [
    {
     "name": "stdout",
     "output_type": "stream",
     "text": [
      "\n",
      "Example 29:\n",
      "   name  age address.city address.zipcode\n",
      "0  John   30     New York            None\n"
     ]
    }
   ],
   "source": [
    "# Example 29: Handling missing values in nested JSON data\n",
    "nested_json = '{\"name\": \"John\", \"age\": 30, \"address\": {\"city\": \"New York\", \"zipcode\": null}}'\n",
    "data = json.loads(nested_json)\n",
    "df = pd.json_normalize(data)\n",
    "print(\"\\nExample 29:\")\n",
    "print(df)"
   ]
  },
  {
   "cell_type": "code",
   "execution_count": null,
   "metadata": {},
   "outputs": [
    {
     "name": "stdout",
     "output_type": "stream",
     "text": [
      "\n",
      "Example 30:\n",
      "    name  age              hobbies person_name person_age\n",
      "0  Alice   25  [reading, No Hobby]        John         30\n",
      "1    Bob   28    [cooking, sports]        John         30\n",
      "2   Jane   27         [travelling]        John         30\n"
     ]
    }
   ],
   "source": [
    "# Example 30: Handling missing values in nested JSON data with arrays\n",
    "nested_json = '{\"person_name\": \"John\", \"person_age\": 30, \"friends\": [{\"name\": \"Alice\", \"age\": 25, \"hobbies\": [\"reading\", null]}, {\"name\": \"Bob\", \"age\": 28, \"hobbies\": [\"cooking\", \"sports\"]}, {\"name\": \"Jane\", \"age\": 27, \"hobbies\": [\"travelling\"]}]}'\n",
    "data = json.loads(nested_json)\n",
    "df = pd.json_normalize(data, 'friends', ['person_name', 'person_age'])\n",
    "\n",
    "def handle_missing_hobbies(row):\n",
    "    return [hobby if hobby else 'No Hobby' for hobby in row['hobbies']]\n",
    "\n",
    "df['hobbies'] = df.apply(handle_missing_hobbies, axis=1)\n",
    "print(\"\\nExample 30:\")\n",
    "print(df)"
   ]
  },
  {
   "cell_type": "code",
   "execution_count": null,
   "metadata": {},
   "outputs": [],
   "source": []
  }
 ],
 "metadata": {
  "kernelspec": {
   "display_name": "Python 3",
   "language": "python",
   "name": "python3"
  },
  "language_info": {
   "codemirror_mode": {
    "name": "ipython",
    "version": 3
   },
   "file_extension": ".py",
   "mimetype": "text/x-python",
   "name": "python",
   "nbconvert_exporter": "python",
   "pygments_lexer": "ipython3",
   "version": "3.11.2"
  },
  "orig_nbformat": 4
 },
 "nbformat": 4,
 "nbformat_minor": 2
}
