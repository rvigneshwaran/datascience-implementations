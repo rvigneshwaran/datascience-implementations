{
 "cells": [
  {
   "cell_type": "code",
   "execution_count": 1,
   "metadata": {},
   "outputs": [],
   "source": [
    "import pandas as pd\n",
    "import json"
   ]
  },
  {
   "cell_type": "code",
   "execution_count": 3,
   "metadata": {},
   "outputs": [
    {
     "name": "stdout",
     "output_type": "stream",
     "text": [
      "Example 1:\n",
      "    name  age         city\n",
      "0   John   30     New York\n",
      "1  Alice   25  Los Angeles\n"
     ]
    }
   ],
   "source": [
    "# Example 1: Reading JSON data from a file\n",
    "with open('data.json', 'r') as file:\n",
    "    data = json.load(file)\n",
    "df = pd.json_normalize(data)\n",
    "print(\"Example 1:\")\n",
    "print(df)"
   ]
  },
  {
   "cell_type": "markdown",
   "metadata": {},
   "source": [
    "```python\n",
    "# Example 2: Reading JSON data from a URL\n",
    "url = 'http://date.jsontest.com/'\n",
    "response = pd.read_json(url)\n",
    "df = pd.json_normalize(response['data'])\n",
    "print(\"\\nExample 2:\")\n",
    "print(df)\n",
    "```"
   ]
  },
  {
   "cell_type": "code",
   "execution_count": 6,
   "metadata": {},
   "outputs": [
    {
     "name": "stdout",
     "output_type": "stream",
     "text": [
      "\n",
      "Example 3:\n",
      "   name  age      city\n",
      "0  John   30  New York\n"
     ]
    }
   ],
   "source": [
    "# Example 3: Reading JSON data from a string\n",
    "json_str = '{\"name\": \"John\", \"age\": 30, \"city\": \"New York\"}'\n",
    "data = json.loads(json_str)\n",
    "df = pd.json_normalize(data)\n",
    "print(\"\\nExample 3:\")\n",
    "print(df)"
   ]
  },
  {
   "cell_type": "code",
   "execution_count": 7,
   "metadata": {},
   "outputs": [
    {
     "name": "stdout",
     "output_type": "stream",
     "text": [
      "\n",
      "Example 4:\n",
      "   name  age address.city address.zipcode\n",
      "0  John   30     New York           10001\n"
     ]
    }
   ],
   "source": [
    "# Example 4: Handling nested JSON data\n",
    "nested_json = '{\"name\": \"John\", \"age\": 30, \"address\": {\"city\": \"New York\", \"zipcode\": \"10001\"}}'\n",
    "data = json.loads(nested_json)\n",
    "df = pd.json_normalize(data)\n",
    "print(\"\\nExample 4:\")\n",
    "print(df)"
   ]
  },
  {
   "cell_type": "code",
   "execution_count": 8,
   "metadata": {},
   "outputs": [
    {
     "name": "stdout",
     "output_type": "stream",
     "text": [
      "\n",
      "Example 5:\n",
      "    name  age\n",
      "0   John   30\n",
      "1  Alice   25\n"
     ]
    }
   ],
   "source": [
    "# Example 5: Reading JSON data with multiple records\n",
    "json_str = '[{\"name\": \"John\", \"age\": 30}, {\"name\": \"Alice\", \"age\": 25}]'\n",
    "data = json.loads(json_str)\n",
    "df = pd.json_normalize(data)\n",
    "print(\"\\nExample 5:\")\n",
    "print(df)"
   ]
  }
 ],
 "metadata": {
  "kernelspec": {
   "display_name": "Python 3",
   "language": "python",
   "name": "python3"
  },
  "language_info": {
   "codemirror_mode": {
    "name": "ipython",
    "version": 3
   },
   "file_extension": ".py",
   "mimetype": "text/x-python",
   "name": "python",
   "nbconvert_exporter": "python",
   "pygments_lexer": "ipython3",
   "version": "3.11.2"
  },
  "orig_nbformat": 4
 },
 "nbformat": 4,
 "nbformat_minor": 2
}
