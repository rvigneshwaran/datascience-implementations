{
 "cells": [
  {
   "cell_type": "code",
   "execution_count": 1,
   "metadata": {},
   "outputs": [],
   "source": [
    "import pandas as pd\n",
    "import json"
   ]
  },
  {
   "cell_type": "code",
   "execution_count": 3,
   "metadata": {},
   "outputs": [
    {
     "name": "stdout",
     "output_type": "stream",
     "text": [
      "Example 1:\n",
      "    name  age         city\n",
      "0   John   30     New York\n",
      "1  Alice   25  Los Angeles\n"
     ]
    }
   ],
   "source": [
    "# Example 1: Reading JSON data from a file\n",
    "with open('data.json', 'r') as file:\n",
    "    data = json.load(file)\n",
    "df = pd.json_normalize(data)\n",
    "print(\"Example 1:\")\n",
    "print(df)"
   ]
  },
  {
   "cell_type": "markdown",
   "metadata": {},
   "source": [
    "```python\n",
    "# Example 2: Reading JSON data from a URL\n",
    "url = 'http://date.jsontest.com/'\n",
    "response = pd.read_json(url)\n",
    "df = pd.json_normalize(response['data'])\n",
    "print(\"\\nExample 2:\")\n",
    "print(df)\n",
    "```"
   ]
  },
  {
   "cell_type": "code",
   "execution_count": 6,
   "metadata": {},
   "outputs": [
    {
     "name": "stdout",
     "output_type": "stream",
     "text": [
      "\n",
      "Example 3:\n",
      "   name  age      city\n",
      "0  John   30  New York\n"
     ]
    }
   ],
   "source": [
    "# Example 3: Reading JSON data from a string\n",
    "json_str = '{\"name\": \"John\", \"age\": 30, \"city\": \"New York\"}'\n",
    "data = json.loads(json_str)\n",
    "df = pd.json_normalize(data)\n",
    "print(\"\\nExample 3:\")\n",
    "print(df)"
   ]
  },
  {
   "cell_type": "code",
   "execution_count": 7,
   "metadata": {},
   "outputs": [
    {
     "name": "stdout",
     "output_type": "stream",
     "text": [
      "\n",
      "Example 4:\n",
      "   name  age address.city address.zipcode\n",
      "0  John   30     New York           10001\n"
     ]
    }
   ],
   "source": [
    "# Example 4: Handling nested JSON data\n",
    "nested_json = '{\"name\": \"John\", \"age\": 30, \"address\": {\"city\": \"New York\", \"zipcode\": \"10001\"}}'\n",
    "data = json.loads(nested_json)\n",
    "df = pd.json_normalize(data)\n",
    "print(\"\\nExample 4:\")\n",
    "print(df)"
   ]
  },
  {
   "cell_type": "code",
   "execution_count": 8,
   "metadata": {},
   "outputs": [
    {
     "name": "stdout",
     "output_type": "stream",
     "text": [
      "\n",
      "Example 5:\n",
      "    name  age\n",
      "0   John   30\n",
      "1  Alice   25\n"
     ]
    }
   ],
   "source": [
    "# Example 5: Reading JSON data with multiple records\n",
    "json_str = '[{\"name\": \"John\", \"age\": 30}, {\"name\": \"Alice\", \"age\": 25}]'\n",
    "data = json.loads(json_str)\n",
    "df = pd.json_normalize(data)\n",
    "print(\"\\nExample 5:\")\n",
    "print(df)"
   ]
  },
  {
   "cell_type": "code",
   "execution_count": 9,
   "metadata": {},
   "outputs": [
    {
     "name": "stdout",
     "output_type": "stream",
     "text": [
      "\n",
      "Example 6:\n",
      "    name  age address.city address.zipcode\n",
      "0   John   30     New York           10001\n",
      "1  Alice   25  Los Angeles           90001\n"
     ]
    }
   ],
   "source": [
    "# Example 6: Handling nested JSON data with multiple records\n",
    "nested_json = '[{\"name\": \"John\", \"age\": 30, \"address\": {\"city\": \"New York\", \"zipcode\": \"10001\"}}, {\"name\": \"Alice\", \"age\": 25, \"address\": {\"city\": \"Los Angeles\", \"zipcode\": \"90001\"}}]'\n",
    "data = json.loads(nested_json)\n",
    "df = pd.json_normalize(data)\n",
    "print(\"\\nExample 6:\")\n",
    "print(df)"
   ]
  },
  {
   "cell_type": "code",
   "execution_count": 16,
   "metadata": {},
   "outputs": [
    {
     "ename": "FileNotFoundError",
     "evalue": "[Errno 2] No such file or directory: 'data_nested.json'",
     "output_type": "error",
     "traceback": [
      "\u001b[1;31m---------------------------------------------------------------------------\u001b[0m",
      "\u001b[1;31mFileNotFoundError\u001b[0m                         Traceback (most recent call last)",
      "Cell \u001b[1;32mIn[16], line 2\u001b[0m\n\u001b[0;32m      1\u001b[0m \u001b[39m# Example 7: Reading nested JSON data from a file\u001b[39;00m\n\u001b[1;32m----> 2\u001b[0m \u001b[39mwith\u001b[39;00m \u001b[39mopen\u001b[39;49m(\u001b[39m'\u001b[39;49m\u001b[39mdata_nested.json\u001b[39;49m\u001b[39m'\u001b[39;49m, \u001b[39m'\u001b[39;49m\u001b[39mr\u001b[39;49m\u001b[39m'\u001b[39;49m) \u001b[39mas\u001b[39;00m file:\n\u001b[0;32m      3\u001b[0m     data \u001b[39m=\u001b[39m json\u001b[39m.\u001b[39mload(file)\n\u001b[0;32m      4\u001b[0m df \u001b[39m=\u001b[39m pd\u001b[39m.\u001b[39mjson_normalize(data, \u001b[39m'\u001b[39m\u001b[39memployees\u001b[39m\u001b[39m'\u001b[39m, [\u001b[39m'\u001b[39m\u001b[39mdepartment\u001b[39m\u001b[39m'\u001b[39m, \u001b[39m'\u001b[39m\u001b[39mlocation\u001b[39m\u001b[39m'\u001b[39m])\n",
      "File \u001b[1;32m~\\AppData\\Roaming\\Python\\Python311\\site-packages\\IPython\\core\\interactiveshell.py:282\u001b[0m, in \u001b[0;36m_modified_open\u001b[1;34m(file, *args, **kwargs)\u001b[0m\n\u001b[0;32m    275\u001b[0m \u001b[39mif\u001b[39;00m file \u001b[39min\u001b[39;00m {\u001b[39m0\u001b[39m, \u001b[39m1\u001b[39m, \u001b[39m2\u001b[39m}:\n\u001b[0;32m    276\u001b[0m     \u001b[39mraise\u001b[39;00m \u001b[39mValueError\u001b[39;00m(\n\u001b[0;32m    277\u001b[0m         \u001b[39mf\u001b[39m\u001b[39m\"\u001b[39m\u001b[39mIPython won\u001b[39m\u001b[39m'\u001b[39m\u001b[39mt let you open fd=\u001b[39m\u001b[39m{\u001b[39;00mfile\u001b[39m}\u001b[39;00m\u001b[39m by default \u001b[39m\u001b[39m\"\u001b[39m\n\u001b[0;32m    278\u001b[0m         \u001b[39m\"\u001b[39m\u001b[39mas it is likely to crash IPython. If you know what you are doing, \u001b[39m\u001b[39m\"\u001b[39m\n\u001b[0;32m    279\u001b[0m         \u001b[39m\"\u001b[39m\u001b[39myou can use builtins\u001b[39m\u001b[39m'\u001b[39m\u001b[39m open.\u001b[39m\u001b[39m\"\u001b[39m\n\u001b[0;32m    280\u001b[0m     )\n\u001b[1;32m--> 282\u001b[0m \u001b[39mreturn\u001b[39;00m io_open(file, \u001b[39m*\u001b[39;49margs, \u001b[39m*\u001b[39;49m\u001b[39m*\u001b[39;49mkwargs)\n",
      "\u001b[1;31mFileNotFoundError\u001b[0m: [Errno 2] No such file or directory: 'data_nested.json'"
     ]
    }
   ],
   "source": [
    "# Example 7: Reading nested JSON data from a file\n",
    "with open('data_nested.json', 'r') as file:\n",
    "    data = json.load(file)\n",
    "df = pd.json_normalize(data, 'employees', ['department', 'location'])\n",
    "print(\"\\nExample 7:\")\n",
    "print(df)"
   ]
  },
  {
   "cell_type": "code",
   "execution_count": 13,
   "metadata": {},
   "outputs": [
    {
     "name": "stdout",
     "output_type": "stream",
     "text": [
      "\n",
      "Example 8:\n",
      "   name  age address.city address.zipcode  address.coordinates.latitude  \\\n",
      "0  John   30     New York           10001                       40.7128   \n",
      "\n",
      "   address.coordinates.longitude  \n",
      "0                        -74.006  \n"
     ]
    }
   ],
   "source": [
    "# Example 8: Handling deeply nested JSON data\n",
    "deep_nested_json = '{\"name\": \"John\", \"age\": 30, \"address\": {\"city\": \"New York\", \"zipcode\": \"10001\", \"coordinates\": {\"latitude\": 40.7128, \"longitude\": -74.0060}}}'\n",
    "data = json.loads(deep_nested_json)\n",
    "df = pd.json_normalize(data)\n",
    "print(\"\\nExample 8:\")\n",
    "print(df)"
   ]
  },
  {
   "cell_type": "code",
   "execution_count": 14,
   "metadata": {},
   "outputs": [
    {
     "name": "stdout",
     "output_type": "stream",
     "text": [
      "\n",
      "Example 9:\n",
      "   name  age                     hobbies\n",
      "0  John   30  [reading, gaming, cooking]\n"
     ]
    }
   ],
   "source": [
    "# Example 9: Handling arrays within JSON data\n",
    "json_str = '{\"name\": \"John\", \"age\": 30, \"hobbies\": [\"reading\", \"gaming\", \"cooking\"]}'\n",
    "data = json.loads(json_str)\n",
    "df = pd.json_normalize(data)\n",
    "print(\"\\nExample 9:\")\n",
    "print(df)\n"
   ]
  },
  {
   "cell_type": "code",
   "execution_count": 18,
   "metadata": {},
   "outputs": [
    {
     "name": "stdout",
     "output_type": "stream",
     "text": [
      "\n",
      "Example 10:\n",
      "      name   level studentname age\n",
      "0  reading    high        John  30\n",
      "1   gaming  medium        John  30\n"
     ]
    }
   ],
   "source": [
    "# Example 10: Handling arrays within nested JSON data\n",
    "nested_json = '{\"studentname\": \"John\", \"age\": 30, \"interests\": [{\"name\": \"reading\", \"level\": \"high\"}, {\"name\": \"gaming\", \"level\": \"medium\"}]}'\n",
    "data = json.loads(nested_json)\n",
    "df = pd.json_normalize(data, 'interests', ['studentname', 'age'])\n",
    "print(\"\\nExample 10:\")\n",
    "print(df)"
   ]
  }
 ],
 "metadata": {
  "kernelspec": {
   "display_name": "Python 3",
   "language": "python",
   "name": "python3"
  },
  "language_info": {
   "codemirror_mode": {
    "name": "ipython",
    "version": 3
   },
   "file_extension": ".py",
   "mimetype": "text/x-python",
   "name": "python",
   "nbconvert_exporter": "python",
   "pygments_lexer": "ipython3",
   "version": "3.11.2"
  },
  "orig_nbformat": 4
 },
 "nbformat": 4,
 "nbformat_minor": 2
}
