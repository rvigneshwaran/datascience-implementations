{
 "cells": [
  {
   "cell_type": "code",
   "execution_count": 1,
   "metadata": {},
   "outputs": [],
   "source": [
    "import pandas as pd\n",
    "import numpy as np"
   ]
  },
  {
   "cell_type": "code",
   "execution_count": 2,
   "metadata": {},
   "outputs": [
    {
     "name": "stdout",
     "output_type": "stream",
     "text": [
      "DataFrame:\n",
      "  Category  Value\n",
      "0        A     10\n",
      "1        A     20\n",
      "2        B     15\n",
      "3        B     25\n",
      "4        A     30\n",
      "5        B      5\n"
     ]
    }
   ],
   "source": [
    "# Creating a DataFrame\n",
    "data = {\n",
    "    'Category': ['A', 'A', 'B', 'B', 'A', 'B'],\n",
    "    'Value': [10, 20, 15, 25, 30, 5]\n",
    "}\n",
    "df = pd.DataFrame(data)\n",
    "print(\"DataFrame:\")\n",
    "print(df)"
   ]
  },
  {
   "cell_type": "code",
   "execution_count": 3,
   "metadata": {},
   "outputs": [
    {
     "name": "stdout",
     "output_type": "stream",
     "text": [
      "\n",
      "Example 1:\n",
      "Sum of 'Value' column: 105\n"
     ]
    }
   ],
   "source": [
    "# Example 1: Computing the sum of a column\n",
    "sum_value = df['Value'].sum()\n",
    "print(\"\\nExample 1:\")\n",
    "print(\"Sum of 'Value' column:\", sum_value)"
   ]
  },
  {
   "cell_type": "code",
   "execution_count": 4,
   "metadata": {},
   "outputs": [
    {
     "name": "stdout",
     "output_type": "stream",
     "text": [
      "\n",
      "Example 2:\n",
      "Mean of 'Value' column: 17.5\n"
     ]
    }
   ],
   "source": [
    "# Example 2: Computing the mean of a column\n",
    "mean_value = df['Value'].mean()\n",
    "print(\"\\nExample 2:\")\n",
    "print(\"Mean of 'Value' column:\", mean_value)"
   ]
  },
  {
   "cell_type": "code",
   "execution_count": 5,
   "metadata": {},
   "outputs": [
    {
     "name": "stdout",
     "output_type": "stream",
     "text": [
      "\n",
      "Example 3:\n",
      "Median of 'Value' column: 17.5\n"
     ]
    }
   ],
   "source": [
    "\n",
    "# Example 3: Computing the median of a column\n",
    "median_value = df['Value'].median()\n",
    "print(\"\\nExample 3:\")\n",
    "print(\"Median of 'Value' column:\", median_value)"
   ]
  },
  {
   "cell_type": "code",
   "execution_count": 6,
   "metadata": {},
   "outputs": [
    {
     "name": "stdout",
     "output_type": "stream",
     "text": [
      "\n",
      "Example 4:\n",
      "Maximum value in 'Value' column: 30\n"
     ]
    }
   ],
   "source": [
    "# Example 4: Computing the maximum value of a column\n",
    "max_value = df['Value'].max()\n",
    "print(\"\\nExample 4:\")\n",
    "print(\"Maximum value in 'Value' column:\", max_value)"
   ]
  },
  {
   "cell_type": "code",
   "execution_count": 7,
   "metadata": {},
   "outputs": [
    {
     "name": "stdout",
     "output_type": "stream",
     "text": [
      "\n",
      "Example 5:\n",
      "Minimum value in 'Value' column: 5\n"
     ]
    }
   ],
   "source": [
    "# Example 5: Computing the minimum value of a column\n",
    "min_value = df['Value'].min()\n",
    "print(\"\\nExample 5:\")\n",
    "print(\"Minimum value in 'Value' column:\", min_value)"
   ]
  },
  {
   "cell_type": "code",
   "execution_count": 8,
   "metadata": {},
   "outputs": [
    {
     "name": "stdout",
     "output_type": "stream",
     "text": [
      "\n",
      "Example 6:\n",
      "Number of non-null values in 'Value' column: 6\n"
     ]
    }
   ],
   "source": [
    "# Example 6: Computing the count of non-null values in a column\n",
    "count_value = df['Value'].count()\n",
    "print(\"\\nExample 6:\")\n",
    "print(\"Number of non-null values in 'Value' column:\", count_value)"
   ]
  },
  {
   "cell_type": "code",
   "execution_count": 9,
   "metadata": {},
   "outputs": [
    {
     "name": "stdout",
     "output_type": "stream",
     "text": [
      "\n",
      "Example 7:\n",
      "Variance of 'Value' column: 87.5\n"
     ]
    }
   ],
   "source": [
    "# Example 7: Computing the variance of a column\n",
    "var_value = df['Value'].var()\n",
    "print(\"\\nExample 7:\")\n",
    "print(\"Variance of 'Value' column:\", var_value)"
   ]
  },
  {
   "cell_type": "code",
   "execution_count": 10,
   "metadata": {},
   "outputs": [
    {
     "name": "stdout",
     "output_type": "stream",
     "text": [
      "\n",
      "Example 8:\n",
      "Standard deviation of 'Value' column: 9.354143466934854\n"
     ]
    }
   ],
   "source": [
    "# Example 8: Computing the standard deviation of a column\n",
    "std_value = df['Value'].std()\n",
    "print(\"\\nExample 8:\")\n",
    "print(\"Standard deviation of 'Value' column:\", std_value)"
   ]
  },
  {
   "cell_type": "code",
   "execution_count": 11,
   "metadata": {},
   "outputs": [
    {
     "name": "stdout",
     "output_type": "stream",
     "text": [
      "\n",
      "Example 9:\n",
      "Sum of all columns:\n",
      "Category    AABBAB\n",
      "Value          105\n",
      "dtype: object\n"
     ]
    }
   ],
   "source": [
    "# Example 9: Computing the sum of all columns\n",
    "sum_all_columns = df.sum()\n",
    "print(\"\\nExample 9:\")\n",
    "print(\"Sum of all columns:\")\n",
    "print(sum_all_columns)"
   ]
  },
  {
   "cell_type": "code",
   "execution_count": 12,
   "metadata": {},
   "outputs": [
    {
     "name": "stdout",
     "output_type": "stream",
     "text": [
      "\n",
      "Example 10:\n",
      "Mean of all columns:\n",
      "Value    17.5\n",
      "dtype: float64\n"
     ]
    },
    {
     "name": "stderr",
     "output_type": "stream",
     "text": [
      "C:\\Users\\rvign\\AppData\\Local\\Temp\\ipykernel_10100\\4198020184.py:2: FutureWarning: The default value of numeric_only in DataFrame.mean is deprecated. In a future version, it will default to False. In addition, specifying 'numeric_only=None' is deprecated. Select only valid columns or specify the value of numeric_only to silence this warning.\n",
      "  mean_all_columns = df.mean()\n"
     ]
    }
   ],
   "source": [
    "# Example 10: Computing the mean of all columns\n",
    "mean_all_columns = df.mean()\n",
    "print(\"\\nExample 10:\")\n",
    "print(\"Mean of all columns:\")\n",
    "print(mean_all_columns)"
   ]
  },
  {
   "cell_type": "code",
   "execution_count": 13,
   "metadata": {},
   "outputs": [
    {
     "name": "stdout",
     "output_type": "stream",
     "text": [
      "\n",
      "Example 11:\n",
      "Median of all columns:\n",
      "Value    17.5\n",
      "dtype: float64\n"
     ]
    },
    {
     "name": "stderr",
     "output_type": "stream",
     "text": [
      "C:\\Users\\rvign\\AppData\\Local\\Temp\\ipykernel_10100\\662981602.py:2: FutureWarning: The default value of numeric_only in DataFrame.median is deprecated. In a future version, it will default to False. In addition, specifying 'numeric_only=None' is deprecated. Select only valid columns or specify the value of numeric_only to silence this warning.\n",
      "  median_all_columns = df.median()\n"
     ]
    }
   ],
   "source": [
    "                        # Example 11: Computing the median of all columns\n",
    "median_all_columns = df.median()\n",
    "print(\"\\nExample 11:\")\n",
    "print(\"Median of all columns:\")\n",
    "print(median_all_columns)\n"
   ]
  },
  {
   "cell_type": "code",
   "execution_count": 14,
   "metadata": {},
   "outputs": [
    {
     "name": "stdout",
     "output_type": "stream",
     "text": [
      "\n",
      "Example 12:\n",
      "Maximum value in each row:\n",
      "0    10\n",
      "1    20\n",
      "2    15\n",
      "3    25\n",
      "4    30\n",
      "5     5\n",
      "dtype: int64\n"
     ]
    },
    {
     "name": "stderr",
     "output_type": "stream",
     "text": [
      "C:\\Users\\rvign\\AppData\\Local\\Temp\\ipykernel_10100\\1139268580.py:2: FutureWarning: Dropping of nuisance columns in DataFrame reductions (with 'numeric_only=None') is deprecated; in a future version this will raise TypeError.  Select only valid columns before calling the reduction.\n",
      "  max_row = df.max(axis=1)\n"
     ]
    }
   ],
   "source": [
    "# Example 12: Computing the maximum value in each row\n",
    "max_row = df.max(axis=1)\n",
    "print(\"\\nExample 12:\")\n",
    "print(\"Maximum value in each row:\")\n",
    "print(max_row)"
   ]
  },
  {
   "cell_type": "code",
   "execution_count": 15,
   "metadata": {},
   "outputs": [
    {
     "name": "stdout",
     "output_type": "stream",
     "text": [
      "\n",
      "Example 13:\n",
      "Minimum value in each row:\n",
      "0    10\n",
      "1    20\n",
      "2    15\n",
      "3    25\n",
      "4    30\n",
      "5     5\n",
      "dtype: int64\n"
     ]
    },
    {
     "name": "stderr",
     "output_type": "stream",
     "text": [
      "C:\\Users\\rvign\\AppData\\Local\\Temp\\ipykernel_10100\\952719309.py:2: FutureWarning: Dropping of nuisance columns in DataFrame reductions (with 'numeric_only=None') is deprecated; in a future version this will raise TypeError.  Select only valid columns before calling the reduction.\n",
      "  min_row = df.min(axis=1)\n"
     ]
    }
   ],
   "source": [
    "# Example 13: Computing the minimum value in each row\n",
    "min_row = df.min(axis=1)\n",
    "print(\"\\nExample 13:\")\n",
    "print(\"Minimum value in each row:\")\n",
    "print(min_row)"
   ]
  },
  {
   "cell_type": "code",
   "execution_count": 16,
   "metadata": {},
   "outputs": [
    {
     "name": "stdout",
     "output_type": "stream",
     "text": [
      "\n",
      "Example 14:\n",
      "Sum of 'Value' column for each category:\n",
      "Category\n",
      "A    60\n",
      "B    45\n",
      "Name: Value, dtype: int64\n"
     ]
    }
   ],
   "source": [
    "# Example 14: Computing the sum of 'Value' column for each category\n",
    "sum_by_category = df.groupby('Category')['Value'].sum()\n",
    "print(\"\\nExample 14:\")\n",
    "print(\"Sum of 'Value' column for each category:\")\n",
    "print(sum_by_category)"
   ]
  },
  {
   "cell_type": "code",
   "execution_count": 17,
   "metadata": {},
   "outputs": [
    {
     "name": "stdout",
     "output_type": "stream",
     "text": [
      "\n",
      "Example 15:\n",
      "Mean of 'Value' column for each category:\n",
      "Category\n",
      "A    20.0\n",
      "B    15.0\n",
      "Name: Value, dtype: float64\n"
     ]
    }
   ],
   "source": [
    "# Example 15: Computing the mean of 'Value' column for each category\n",
    "mean_by_category = df.groupby('Category')['Value'].mean()\n",
    "print(\"\\nExample 15:\")\n",
    "print(\"Mean of 'Value' column for each category:\")\n",
    "print(mean_by_category)"
   ]
  },
  {
   "cell_type": "code",
   "execution_count": 18,
   "metadata": {},
   "outputs": [
    {
     "name": "stdout",
     "output_type": "stream",
     "text": [
      "\n",
      "Example 16:\n",
      "Median of 'Value' column for each category:\n",
      "Category\n",
      "A    20.0\n",
      "B    15.0\n",
      "Name: Value, dtype: float64\n"
     ]
    }
   ],
   "source": [
    "# Example 16: Computing the median of 'Value' column for each category\n",
    "median_by_category = df.groupby('Category')['Value'].median()\n",
    "print(\"\\nExample 16:\")\n",
    "print(\"Median of 'Value' column for each category:\")\n",
    "print(median_by_category)"
   ]
  },
  {
   "cell_type": "code",
   "execution_count": 19,
   "metadata": {},
   "outputs": [
    {
     "name": "stdout",
     "output_type": "stream",
     "text": [
      "\n",
      "Example 17:\n",
      "Multiple aggregate functions for each category:\n",
      "          sum  mean  median\n",
      "Category                   \n",
      "A          60  20.0    20.0\n",
      "B          45  15.0    15.0\n"
     ]
    }
   ],
   "source": [
    "# Example 17: Computing multiple aggregate functions for each category\n",
    "agg_by_category = df.groupby('Category')['Value'].agg(['sum', 'mean', 'median'])\n",
    "print(\"\\nExample 17:\")\n",
    "print(\"Multiple aggregate functions for each category:\")\n",
    "print(agg_by_category)"
   ]
  },
  {
   "cell_type": "code",
   "execution_count": 20,
   "metadata": {},
   "outputs": [
    {
     "name": "stdout",
     "output_type": "stream",
     "text": [
      "\n",
      "Example 18:\n",
      "Number of occurrences of each category:\n",
      "A    3\n",
      "B    3\n",
      "Name: Category, dtype: int64\n"
     ]
    }
   ],
   "source": [
    "# Example 18: Computing the number of occurrences of each category\n",
    "count_by_category = df['Category'].value_counts()\n",
    "print(\"\\nExample 18:\")\n",
    "print(\"Number of occurrences of each category:\")\n",
    "print(count_by_category)"
   ]
  },
  {
   "cell_type": "code",
   "execution_count": 21,
   "metadata": {},
   "outputs": [
    {
     "name": "stdout",
     "output_type": "stream",
     "text": [
      "\n",
      "Example 19:\n",
      "Number of unique categories: 2\n"
     ]
    }
   ],
   "source": [
    "# Example 19: Computing the number of unique categories\n",
    "nunique_categories = df['Category'].nunique()\n",
    "print(\"\\nExample 19:\")\n",
    "print(\"Number of unique categories:\", nunique_categories)"
   ]
  },
  {
   "cell_type": "code",
   "execution_count": 22,
   "metadata": {},
   "outputs": [
    {
     "name": "stdout",
     "output_type": "stream",
     "text": [
      "\n",
      "Example 20:\n",
      "First occurrence of each category:\n",
      "          Value\n",
      "Category       \n",
      "A            10\n",
      "B            15\n"
     ]
    }
   ],
   "source": [
    "# Example 20: Computing the first occurrence of each category\n",
    "first_occurrence = df.groupby('Category').first()\n",
    "print(\"\\nExample 20:\")\n",
    "print(\"First occurrence of each category:\")\n",
    "print(first_occurrence)"
   ]
  },
  {
   "cell_type": "code",
   "execution_count": 23,
   "metadata": {},
   "outputs": [
    {
     "name": "stdout",
     "output_type": "stream",
     "text": [
      "\n",
      "Example 21:\n",
      "Last occurrence of each category:\n",
      "          Value\n",
      "Category       \n",
      "A            30\n",
      "B             5\n"
     ]
    }
   ],
   "source": [
    "# Example 21: Computing the last occurrence of each category\n",
    "last_occurrence = df.groupby('Category').last()\n",
    "print(\"\\nExample 21:\")\n",
    "print(\"Last occurrence of each category:\")\n",
    "print(last_occurrence)"
   ]
  },
  {
   "cell_type": "code",
   "execution_count": 24,
   "metadata": {},
   "outputs": [
    {
     "name": "stdout",
     "output_type": "stream",
     "text": [
      "\n",
      "Example 22:\n",
      "Maximum value in 'Value' column for each category:\n",
      "Category\n",
      "A    30\n",
      "B    25\n",
      "Name: Value, dtype: int64\n"
     ]
    }
   ],
   "source": [
    "# Example 22: Computing the maximum value in 'Value' column for each category\n",
    "max_by_category = df.groupby('Category')['Value'].max()\n",
    "print(\"\\nExample 22:\")\n",
    "print(\"Maximum value in 'Value' column for each category:\")\n",
    "print(max_by_category)"
   ]
  },
  {
   "cell_type": "code",
   "execution_count": 25,
   "metadata": {},
   "outputs": [
    {
     "name": "stdout",
     "output_type": "stream",
     "text": [
      "\n",
      "Example 23:\n",
      "Minimum value in 'Value' column for each category:\n",
      "Category\n",
      "A    10\n",
      "B     5\n",
      "Name: Value, dtype: int64\n"
     ]
    }
   ],
   "source": [
    "# Example 23: Computing the minimum value in 'Value' column for each category\n",
    "min_by_category = df.groupby('Category')['Value'].min()\n",
    "print(\"\\nExample 23:\")\n",
    "print(\"Minimum value in 'Value' column for each category:\")\n",
    "print(min_by_category)"
   ]
  },
  {
   "cell_type": "code",
   "execution_count": 26,
   "metadata": {},
   "outputs": [
    {
     "name": "stdout",
     "output_type": "stream",
     "text": [
      "\n",
      "Example 24:\n",
      "Variance of 'Value' column for each category:\n",
      "Category\n",
      "A    100.0\n",
      "B    100.0\n",
      "Name: Value, dtype: float64\n"
     ]
    }
   ],
   "source": [
    "# Example 24: Computing the variance of 'Value' column for each category\n",
    "var_by_category = df.groupby('Category')['Value'].var()\n",
    "print(\"\\nExample 24:\")\n",
    "print(\"Variance of 'Value' column for each category:\")\n",
    "print(var_by_category)"
   ]
  },
  {
   "cell_type": "code",
   "execution_count": 27,
   "metadata": {},
   "outputs": [
    {
     "name": "stdout",
     "output_type": "stream",
     "text": [
      "\n",
      "Example 25:\n",
      "Standard deviation of 'Value' column for each category:\n",
      "Category\n",
      "A    10.0\n",
      "B    10.0\n",
      "Name: Value, dtype: float64\n"
     ]
    }
   ],
   "source": [
    "# Example 25: Computing the standard deviation of 'Value' column for each category\n",
    "std_by_category = df.groupby('Category')['Value'].std()\n",
    "print(\"\\nExample 25:\")\n",
    "print(\"Standard deviation of 'Value' column for each category:\")\n",
    "print(std_by_category)"
   ]
  },
  {
   "cell_type": "code",
   "execution_count": 28,
   "metadata": {},
   "outputs": [
    {
     "name": "stdout",
     "output_type": "stream",
     "text": [
      "\n",
      "Example 26:\n",
      "75th percentile of 'Value' column: 23.75\n"
     ]
    }
   ],
   "source": [
    "# Example 26: Computing the 75th percentile of 'Value' column\n",
    "percentile_75 = df['Value'].quantile(0.75)\n",
    "print(\"\\nExample 26:\")\n",
    "print(\"75th percentile of 'Value' column:\", percentile_75)"
   ]
  },
  {
   "cell_type": "code",
   "execution_count": 29,
   "metadata": {},
   "outputs": [
    {
     "name": "stdout",
     "output_type": "stream",
     "text": [
      "\n",
      "Example 27:\n",
      "90th percentile of 'Value' column: 27.5\n"
     ]
    }
   ],
   "source": [
    "# Example 27: Computing the 90th percentile of 'Value' column\n",
    "percentile_90 = df['Value'].quantile(0.9)\n",
    "print(\"\\nExample 27:\")\n",
    "print(\"90th percentile of 'Value' column:\", percentile_90)"
   ]
  },
  {
   "cell_type": "code",
   "execution_count": 30,
   "metadata": {},
   "outputs": [
    {
     "name": "stdout",
     "output_type": "stream",
     "text": [
      "\n",
      "Example 28:\n",
      "Skewness of 'Value' column: 0.0\n"
     ]
    }
   ],
   "source": [
    "# Example 28: Computing the skewness of 'Value' column\n",
    "skew_value = df['Value'].skew()\n",
    "print(\"\\nExample 28:\")\n",
    "print(\"Skewness of 'Value' column:\", skew_value)"
   ]
  },
  {
   "cell_type": "code",
   "execution_count": 31,
   "metadata": {},
   "outputs": [
    {
     "name": "stdout",
     "output_type": "stream",
     "text": [
      "\n",
      "Example 29:\n",
      "Kurtosis of 'Value' column: -1.2000000000000002\n"
     ]
    }
   ],
   "source": [
    "# Example 29: Computing the kurtosis of 'Value' column\n",
    "kurtosis_value = df['Value'].kurtosis()\n",
    "print(\"\\nExample 29:\")\n",
    "print(\"Kurtosis of 'Value' column:\", kurtosis_value)"
   ]
  },
  {
   "cell_type": "code",
   "execution_count": 32,
   "metadata": {},
   "outputs": [
    {
     "name": "stdout",
     "output_type": "stream",
     "text": [
      "\n",
      "Example 30:\n",
      "Covariance between 'Value' and 'Value' columns: 87.5\n"
     ]
    }
   ],
   "source": [
    "# Example 30: Computing the covariance between 'Value' and 'Value' columns (should be the variance of 'Value' column)\n",
    "cov_value = df['Value'].cov(df['Value'])\n",
    "print(\"\\nExample 30:\")\n",
    "print(\"Covariance between 'Value' and 'Value' columns:\", cov_value)"
   ]
  },
  {
   "cell_type": "code",
   "execution_count": 33,
   "metadata": {},
   "outputs": [
    {
     "name": "stdout",
     "output_type": "stream",
     "text": [
      "\n",
      "Example 31:\n",
      "Correlation between 'Value' and 'Value' columns: 0.9999999999999998\n"
     ]
    }
   ],
   "source": [
    "# Example 31: Computing the correlation between 'Value' and 'Value' columns (should be 1)\n",
    "corr_value = df['Value'].corr(df['Value'])\n",
    "print(\"\\nExample 31:\")\n",
    "print(\"Correlation between 'Value' and 'Value' columns:\", corr_value)"
   ]
  },
  {
   "cell_type": "code",
   "execution_count": 34,
   "metadata": {},
   "outputs": [
    {
     "name": "stdout",
     "output_type": "stream",
     "text": [
      "\n",
      "Example 32:\n",
      "Cumulative sum of 'Value' column:\n",
      "0     10\n",
      "1     30\n",
      "2     45\n",
      "3     70\n",
      "4    100\n",
      "5    105\n",
      "Name: Value, dtype: int64\n"
     ]
    }
   ],
   "source": [
    "# Example 32: Computing the cumulative sum of 'Value' column\n",
    "cumulative_sum = df['Value'].cumsum()\n",
    "print(\"\\nExample 32:\")\n",
    "print(\"Cumulative sum of 'Value' column:\")\n",
    "print(cumulative_sum)"
   ]
  },
  {
   "cell_type": "code",
   "execution_count": 35,
   "metadata": {},
   "outputs": [
    {
     "name": "stdout",
     "output_type": "stream",
     "text": [
      "\n",
      "Example 33:\n",
      "Cumulative product of 'Value' column:\n",
      "0          10\n",
      "1         200\n",
      "2        3000\n",
      "3       75000\n",
      "4     2250000\n",
      "5    11250000\n",
      "Name: Value, dtype: int64\n"
     ]
    }
   ],
   "source": [
    "# Example 33: Computing the cumulative product of 'Value' column\n",
    "cumulative_product = df['Value'].cumprod()\n",
    "print(\"\\nExample 33:\")\n",
    "print(\"Cumulative product of 'Value' column:\")\n",
    "print(cumulative_product)"
   ]
  },
  {
   "cell_type": "code",
   "execution_count": 36,
   "metadata": {},
   "outputs": [
    {
     "name": "stdout",
     "output_type": "stream",
     "text": [
      "\n",
      "Example 34:\n",
      "Rolling sum of 'Value' column with a window of size 2:\n",
      "0     NaN\n",
      "1    30.0\n",
      "2    35.0\n",
      "3    40.0\n",
      "4    55.0\n",
      "5    35.0\n",
      "Name: Value, dtype: float64\n"
     ]
    }
   ],
   "source": [
    "# Example 34: Computing the rolling sum of 'Value' column with a window of size 2\n",
    "rolling_sum = df['Value'].rolling(window=2).sum()\n",
    "print(\"\\nExample 34:\")\n",
    "print(\"Rolling sum of 'Value' column with a window of size 2:\")\n",
    "print(rolling_sum)"
   ]
  },
  {
   "cell_type": "code",
   "execution_count": 37,
   "metadata": {},
   "outputs": [
    {
     "name": "stdout",
     "output_type": "stream",
     "text": [
      "\n",
      "Example 35:\n",
      "Rolling mean of 'Value' column with a window of size 2:\n",
      "0     NaN\n",
      "1    15.0\n",
      "2    17.5\n",
      "3    20.0\n",
      "4    27.5\n",
      "5    17.5\n",
      "Name: Value, dtype: float64\n"
     ]
    }
   ],
   "source": [
    "# Example 35: Computing the rolling mean of 'Value' column with a window of size 2\n",
    "rolling_mean = df['Value'].rolling(window=2).mean()\n",
    "print(\"\\nExample 35:\")\n",
    "print(\"Rolling mean of 'Value' column with a window of size 2:\")\n",
    "print(rolling_mean)"
   ]
  },
  {
   "cell_type": "code",
   "execution_count": 38,
   "metadata": {},
   "outputs": [
    {
     "name": "stdout",
     "output_type": "stream",
     "text": [
      "\n",
      "Example 36:\n",
      "Expanding sum of 'Value' column:\n",
      "0     10.0\n",
      "1     30.0\n",
      "2     45.0\n",
      "3     70.0\n",
      "4    100.0\n",
      "5    105.0\n",
      "Name: Value, dtype: float64\n"
     ]
    }
   ],
   "source": [
    "# Example 36: Computing the expanding sum of 'Value' column\n",
    "expanding_sum = df['Value'].expanding().sum()\n",
    "print(\"\\nExample 36:\")\n",
    "print(\"Expanding sum of 'Value' column:\")\n",
    "print(expanding_sum)"
   ]
  },
  {
   "cell_type": "code",
   "execution_count": 39,
   "metadata": {},
   "outputs": [
    {
     "name": "stdout",
     "output_type": "stream",
     "text": [
      "\n",
      "Example 37:\n",
      "Expanding mean of 'Value' column:\n",
      "0    10.0\n",
      "1    15.0\n",
      "2    15.0\n",
      "3    17.5\n",
      "4    20.0\n",
      "5    17.5\n",
      "Name: Value, dtype: float64\n"
     ]
    }
   ],
   "source": [
    "# Example 37: Computing the expanding mean of 'Value' column\n",
    "expanding_mean = df['Value'].expanding().mean()\n",
    "print(\"\\nExample 37:\")\n",
    "print(\"Expanding mean of 'Value' column:\")\n",
    "print(expanding_mean)"
   ]
  },
  {
   "cell_type": "code",
   "execution_count": 41,
   "metadata": {},
   "outputs": [
    {
     "name": "stdout",
     "output_type": "stream",
     "text": [
      "\n",
      "Example 38:\n",
      "Custom aggregation function (max - min) for each category:\n",
      "Category\n",
      "A    20\n",
      "B    20\n",
      "Name: Value, dtype: int64\n"
     ]
    }
   ],
   "source": [
    "# Example 38: Applying a custom aggregation function\n",
    "def custom_agg(x):\n",
    "    return x.max() - x.min()\n",
    "\n",
    "custom_aggregation = df.groupby('Category')['Value'].agg(custom_agg)\n",
    "print(\"\\nExample 38:\")\n",
    "print(\"Custom aggregation function (max - min) for each category:\")\n",
    "print(custom_aggregation)"
   ]
  },
  {
   "cell_type": "code",
   "execution_count": 42,
   "metadata": {},
   "outputs": [
    {
     "name": "stdout",
     "output_type": "stream",
     "text": [
      "\n",
      "Example 39:\n",
      "Multiple custom aggregation functions for each category:\n",
      "          Sum  Mean  Custom\n",
      "Category                   \n",
      "A          60  20.0      20\n",
      "B          45  15.0      20\n"
     ]
    }
   ],
   "source": [
    "# Example 39: Applying multiple custom aggregation functions\n",
    "custom_aggregations = df.groupby('Category')['Value'].agg([('Sum', 'sum'), ('Mean', 'mean'), ('Custom', custom_agg)])\n",
    "print(\"\\nExample 39:\")\n",
    "print(\"Multiple custom aggregation functions for each category:\")\n",
    "print(custom_aggregations)"
   ]
  },
  {
   "cell_type": "code",
   "execution_count": 43,
   "metadata": {},
   "outputs": [
    {
     "name": "stdout",
     "output_type": "stream",
     "text": [
      "\n",
      "Example 40:\n",
      "Different aggregation functions for different columns:\n",
      "        Category  Value\n",
      "count        6.0    NaN\n",
      "sum          NaN  105.0\n",
      "mean         NaN   17.5\n",
      "median       NaN   17.5\n"
     ]
    }
   ],
   "source": [
    "# Example 40: Applying different aggregation functions to different columns\n",
    "agg_by_columns = df.agg({'Category': 'count', 'Value': ['sum', 'mean', 'median']})\n",
    "print(\"\\nExample 40:\")\n",
    "print(\"Different aggregation functions for different columns:\")\n",
    "print(agg_by_columns)"
   ]
  },
  {
   "cell_type": "code",
   "execution_count": 44,
   "metadata": {},
   "outputs": [
    {
     "name": "stdout",
     "output_type": "stream",
     "text": [
      "\n",
      "Example 41:\n",
      "25th percentile of 'Value' column: 11.25\n"
     ]
    }
   ],
   "source": [
    "# Example 41: Computing the nth percentile of 'Value' column\n",
    "percentile_n = df['Value'].quantile(0.25)\n",
    "print(\"\\nExample 41:\")\n",
    "print(\"25th percentile of 'Value' column:\", percentile_n)"
   ]
  },
  {
   "cell_type": "code",
   "execution_count": 45,
   "metadata": {},
   "outputs": [
    {
     "name": "stdout",
     "output_type": "stream",
     "text": [
      "\n",
      "Example 42:\n",
      "60th percentile of 'Value' column: 20.0\n"
     ]
    }
   ],
   "source": [
    "# Example 42: Computing the nth percentile of 'Value' column\n",
    "percentile_n = df['Value'].quantile(0.60)\n",
    "print(\"\\nExample 42:\")\n",
    "print(\"60th percentile of 'Value' column:\", percentile_n)"
   ]
  },
  {
   "cell_type": "code",
   "execution_count": 46,
   "metadata": {},
   "outputs": [
    {
     "name": "stdout",
     "output_type": "stream",
     "text": [
      "\n",
      "Example 43:\n",
      "95th percentile of 'Value' column: 28.75\n"
     ]
    }
   ],
   "source": [
    "# Example 43: Computing the nth percentile of 'Value' column\n",
    "percentile_n = df['Value'].quantile(0.95)\n",
    "print(\"\\nExample 43:\")\n",
    "print(\"95th percentile of 'Value' column:\", percentile_n)"
   ]
  },
  {
   "cell_type": "code",
   "execution_count": 47,
   "metadata": {},
   "outputs": [
    {
     "name": "stdout",
     "output_type": "stream",
     "text": [
      "\n",
      "Example 44:\n",
      "Kurtosis of 'Value' column: -1.2000000000000002\n"
     ]
    }
   ],
   "source": [
    "# Example 44: Computing the kurtosis of 'Value' column\n",
    "kurtosis_value = df['Value'].kurtosis()\n",
    "print(\"\\nExample 44:\")\n",
    "print(\"Kurtosis of 'Value' column:\", kurtosis_value)"
   ]
  },
  {
   "cell_type": "code",
   "execution_count": 48,
   "metadata": {},
   "outputs": [
    {
     "name": "stdout",
     "output_type": "stream",
     "text": [
      "\n",
      "Example 45:\n",
      "Covariance between 'Value' and 'Value' columns: 87.5\n"
     ]
    }
   ],
   "source": [
    "# Example 45: Computing the covariance between 'Value' and 'Value' columns (should be the variance of 'Value' column)\n",
    "cov_value = df['Value'].cov(df['Value'])\n",
    "print(\"\\nExample 45:\")\n",
    "print(\"Covariance between 'Value' and 'Value' columns:\", cov_value)"
   ]
  },
  {
   "cell_type": "code",
   "execution_count": 49,
   "metadata": {},
   "outputs": [
    {
     "name": "stdout",
     "output_type": "stream",
     "text": [
      "\n",
      "Example 46:\n",
      "Correlation between 'Value' and 'Value' columns: 0.9999999999999998\n"
     ]
    }
   ],
   "source": [
    "# Example 46: Computing the correlation between 'Value' and 'Value' columns (should be 1)\n",
    "corr_value = df['Value'].corr(df['Value'])\n",
    "print(\"\\nExample 46:\")\n",
    "print(\"Correlation between 'Value' and 'Value' columns:\", corr_value)"
   ]
  },
  {
   "cell_type": "code",
   "execution_count": 50,
   "metadata": {},
   "outputs": [
    {
     "name": "stdout",
     "output_type": "stream",
     "text": [
      "\n",
      "Example 47:\n",
      "Rolling sum of 'Value' column with a window of size 3:\n",
      "0     NaN\n",
      "1     NaN\n",
      "2    45.0\n",
      "3    60.0\n",
      "4    70.0\n",
      "5    60.0\n",
      "Name: Value, dtype: float64\n"
     ]
    }
   ],
   "source": [
    "# Example 47: Computing the rolling sum of 'Value' column with a window of size 3\n",
    "rolling_sum_3 = df['Value'].rolling(window=3).sum()\n",
    "print(\"\\nExample 47:\")\n",
    "print(\"Rolling sum of 'Value' column with a window of size 3:\")\n",
    "print(rolling_sum_3)"
   ]
  },
  {
   "cell_type": "code",
   "execution_count": 51,
   "metadata": {},
   "outputs": [
    {
     "name": "stdout",
     "output_type": "stream",
     "text": [
      "\n",
      "Example 48:\n",
      "Rolling mean of 'Value' column with a window of size 3:\n",
      "0          NaN\n",
      "1          NaN\n",
      "2    15.000000\n",
      "3    20.000000\n",
      "4    23.333333\n",
      "5    20.000000\n",
      "Name: Value, dtype: float64\n"
     ]
    }
   ],
   "source": [
    "# Example 48: Computing the rolling mean of 'Value' column with a window of size 3\n",
    "rolling_mean_3 = df['Value'].rolling(window=3).mean()\n",
    "print(\"\\nExample 48:\")\n",
    "print(\"Rolling mean of 'Value' column with a window of size 3:\")\n",
    "print(rolling_mean_3)"
   ]
  },
  {
   "cell_type": "code",
   "execution_count": 52,
   "metadata": {},
   "outputs": [
    {
     "name": "stdout",
     "output_type": "stream",
     "text": [
      "\n",
      "Example 49:\n",
      "Custom aggregation function (max - min) for each category:\n",
      "Category\n",
      "A    20\n",
      "B    20\n",
      "Name: Value, dtype: int64\n"
     ]
    }
   ],
   "source": [
    "# Example 49: Applying a custom aggregation function\n",
    "def custom_agg(x):\n",
    "    return x.max() - x.min()\n",
    "\n",
    "custom_aggregation = df.groupby('Category')['Value'].agg(custom_agg)\n",
    "print(\"\\nExample 49:\")\n",
    "print(\"Custom aggregation function (max - min) for each category:\")\n",
    "print(custom_aggregation)"
   ]
  },
  {
   "cell_type": "code",
   "execution_count": 53,
   "metadata": {},
   "outputs": [
    {
     "name": "stdout",
     "output_type": "stream",
     "text": [
      "\n",
      "Example 50:\n",
      "Multiple custom aggregation functions for each category:\n",
      "          Sum  Mean  Custom\n",
      "Category                   \n",
      "A          60  20.0      20\n",
      "B          45  15.0      20\n"
     ]
    }
   ],
   "source": [
    "# Example 50: Applying multiple custom aggregation functions\n",
    "custom_aggregations = df.groupby('Category')['Value'].agg([('Sum', 'sum'), ('Mean', 'mean'), ('Custom', custom_agg)])\n",
    "print(\"\\nExample 50:\")\n",
    "print(\"Multiple custom aggregation functions for each category:\")\n",
    "print(custom_aggregations)"
   ]
  }
 ],
 "metadata": {
  "kernelspec": {
   "display_name": "Python 3",
   "language": "python",
   "name": "python3"
  },
  "language_info": {
   "codemirror_mode": {
    "name": "ipython",
    "version": 3
   },
   "file_extension": ".py",
   "mimetype": "text/x-python",
   "name": "python",
   "nbconvert_exporter": "python",
   "pygments_lexer": "ipython3",
   "version": "3.11.2"
  },
  "orig_nbformat": 4
 },
 "nbformat": 4,
 "nbformat_minor": 2
}
