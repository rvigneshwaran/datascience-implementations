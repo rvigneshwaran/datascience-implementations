{
 "cells": [
  {
   "cell_type": "code",
   "execution_count": 1,
   "metadata": {},
   "outputs": [],
   "source": [
    "import pandas as pd\n",
    "import numpy as np"
   ]
  },
  {
   "cell_type": "code",
   "execution_count": 2,
   "metadata": {},
   "outputs": [
    {
     "name": "stdout",
     "output_type": "stream",
     "text": [
      "DataFrame:\n",
      "  Category  Value\n",
      "0        A     10\n",
      "1        A     20\n",
      "2        B     15\n",
      "3        B     25\n",
      "4        A     30\n",
      "5        B      5\n"
     ]
    }
   ],
   "source": [
    "# Creating a DataFrame\n",
    "data = {\n",
    "    'Category': ['A', 'A', 'B', 'B', 'A', 'B'],\n",
    "    'Value': [10, 20, 15, 25, 30, 5]\n",
    "}\n",
    "df = pd.DataFrame(data)\n",
    "print(\"DataFrame:\")\n",
    "print(df)"
   ]
  },
  {
   "cell_type": "code",
   "execution_count": 3,
   "metadata": {},
   "outputs": [
    {
     "name": "stdout",
     "output_type": "stream",
     "text": [
      "\n",
      "Example 1:\n",
      "Sum of 'Value' column: 105\n"
     ]
    }
   ],
   "source": [
    "# Example 1: Computing the sum of a column\n",
    "sum_value = df['Value'].sum()\n",
    "print(\"\\nExample 1:\")\n",
    "print(\"Sum of 'Value' column:\", sum_value)"
   ]
  },
  {
   "cell_type": "code",
   "execution_count": 4,
   "metadata": {},
   "outputs": [
    {
     "name": "stdout",
     "output_type": "stream",
     "text": [
      "\n",
      "Example 2:\n",
      "Mean of 'Value' column: 17.5\n"
     ]
    }
   ],
   "source": [
    "# Example 2: Computing the mean of a column\n",
    "mean_value = df['Value'].mean()\n",
    "print(\"\\nExample 2:\")\n",
    "print(\"Mean of 'Value' column:\", mean_value)"
   ]
  },
  {
   "cell_type": "code",
   "execution_count": 5,
   "metadata": {},
   "outputs": [
    {
     "name": "stdout",
     "output_type": "stream",
     "text": [
      "\n",
      "Example 3:\n",
      "Median of 'Value' column: 17.5\n"
     ]
    }
   ],
   "source": [
    "\n",
    "# Example 3: Computing the median of a column\n",
    "median_value = df['Value'].median()\n",
    "print(\"\\nExample 3:\")\n",
    "print(\"Median of 'Value' column:\", median_value)"
   ]
  },
  {
   "cell_type": "code",
   "execution_count": 6,
   "metadata": {},
   "outputs": [
    {
     "name": "stdout",
     "output_type": "stream",
     "text": [
      "\n",
      "Example 4:\n",
      "Maximum value in 'Value' column: 30\n"
     ]
    }
   ],
   "source": [
    "# Example 4: Computing the maximum value of a column\n",
    "max_value = df['Value'].max()\n",
    "print(\"\\nExample 4:\")\n",
    "print(\"Maximum value in 'Value' column:\", max_value)"
   ]
  },
  {
   "cell_type": "code",
   "execution_count": 7,
   "metadata": {},
   "outputs": [
    {
     "name": "stdout",
     "output_type": "stream",
     "text": [
      "\n",
      "Example 5:\n",
      "Minimum value in 'Value' column: 5\n"
     ]
    }
   ],
   "source": [
    "# Example 5: Computing the minimum value of a column\n",
    "min_value = df['Value'].min()\n",
    "print(\"\\nExample 5:\")\n",
    "print(\"Minimum value in 'Value' column:\", min_value)"
   ]
  },
  {
   "cell_type": "code",
   "execution_count": 8,
   "metadata": {},
   "outputs": [
    {
     "name": "stdout",
     "output_type": "stream",
     "text": [
      "\n",
      "Example 6:\n",
      "Number of non-null values in 'Value' column: 6\n"
     ]
    }
   ],
   "source": [
    "# Example 6: Computing the count of non-null values in a column\n",
    "count_value = df['Value'].count()\n",
    "print(\"\\nExample 6:\")\n",
    "print(\"Number of non-null values in 'Value' column:\", count_value)"
   ]
  },
  {
   "cell_type": "code",
   "execution_count": 9,
   "metadata": {},
   "outputs": [
    {
     "name": "stdout",
     "output_type": "stream",
     "text": [
      "\n",
      "Example 7:\n",
      "Variance of 'Value' column: 87.5\n"
     ]
    }
   ],
   "source": [
    "# Example 7: Computing the variance of a column\n",
    "var_value = df['Value'].var()\n",
    "print(\"\\nExample 7:\")\n",
    "print(\"Variance of 'Value' column:\", var_value)"
   ]
  },
  {
   "cell_type": "code",
   "execution_count": 10,
   "metadata": {},
   "outputs": [
    {
     "name": "stdout",
     "output_type": "stream",
     "text": [
      "\n",
      "Example 8:\n",
      "Standard deviation of 'Value' column: 9.354143466934854\n"
     ]
    }
   ],
   "source": [
    "# Example 8: Computing the standard deviation of a column\n",
    "std_value = df['Value'].std()\n",
    "print(\"\\nExample 8:\")\n",
    "print(\"Standard deviation of 'Value' column:\", std_value)"
   ]
  },
  {
   "cell_type": "code",
   "execution_count": 11,
   "metadata": {},
   "outputs": [
    {
     "name": "stdout",
     "output_type": "stream",
     "text": [
      "\n",
      "Example 9:\n",
      "Sum of all columns:\n",
      "Category    AABBAB\n",
      "Value          105\n",
      "dtype: object\n"
     ]
    }
   ],
   "source": [
    "# Example 9: Computing the sum of all columns\n",
    "sum_all_columns = df.sum()\n",
    "print(\"\\nExample 9:\")\n",
    "print(\"Sum of all columns:\")\n",
    "print(sum_all_columns)"
   ]
  },
  {
   "cell_type": "code",
   "execution_count": 12,
   "metadata": {},
   "outputs": [
    {
     "name": "stdout",
     "output_type": "stream",
     "text": [
      "\n",
      "Example 10:\n",
      "Mean of all columns:\n",
      "Value    17.5\n",
      "dtype: float64\n"
     ]
    },
    {
     "name": "stderr",
     "output_type": "stream",
     "text": [
      "C:\\Users\\rvign\\AppData\\Local\\Temp\\ipykernel_10100\\4198020184.py:2: FutureWarning: The default value of numeric_only in DataFrame.mean is deprecated. In a future version, it will default to False. In addition, specifying 'numeric_only=None' is deprecated. Select only valid columns or specify the value of numeric_only to silence this warning.\n",
      "  mean_all_columns = df.mean()\n"
     ]
    }
   ],
   "source": [
    "# Example 10: Computing the mean of all columns\n",
    "mean_all_columns = df.mean()\n",
    "print(\"\\nExample 10:\")\n",
    "print(\"Mean of all columns:\")\n",
    "print(mean_all_columns)"
   ]
  }
 ],
 "metadata": {
  "kernelspec": {
   "display_name": "Python 3",
   "language": "python",
   "name": "python3"
  },
  "language_info": {
   "codemirror_mode": {
    "name": "ipython",
    "version": 3
   },
   "file_extension": ".py",
   "mimetype": "text/x-python",
   "name": "python",
   "nbconvert_exporter": "python",
   "pygments_lexer": "ipython3",
   "version": "3.11.2"
  },
  "orig_nbformat": 4
 },
 "nbformat": 4,
 "nbformat_minor": 2
}
