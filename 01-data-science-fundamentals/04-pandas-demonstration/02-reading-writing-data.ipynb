{
 "cells": [
  {
   "cell_type": "code",
   "execution_count": 1,
   "metadata": {},
   "outputs": [],
   "source": [
    "import pandas as pd"
   ]
  },
  {
   "cell_type": "markdown",
   "metadata": {},
   "source": [
    "```python\n",
    "# Example 1: Reading CSV File\n",
    "csv_data = pd.read_csv('data.csv')\n",
    "print(\"Example 1: Reading CSV File\")\n",
    "print(csv_data.head())\n",
    "```"
   ]
  },
  {
   "cell_type": "markdown",
   "metadata": {},
   "source": [
    "```python\n",
    "# Example 2: Reading Excel File\n",
    "excel_data = pd.read_excel('data.xlsx', sheet_name='Sheet1')\n",
    "print(\"\\nExample 2: Reading Excel File\")\n",
    "print(excel_data.head())\n",
    "```"
   ]
  },
  {
   "cell_type": "markdown",
   "metadata": {},
   "source": [
    "```python\n",
    "# Example 3: Reading Data from SQL Database\n",
    "import sqlite3\n",
    "connection = sqlite3.connect('data.db')\n",
    "query = \"SELECT * FROM table_name\"\n",
    "sql_data = pd.read_sql_query(query, connection)\n",
    "connection.close()\n",
    "print(\"\\nExample 3: Reading Data from SQL Database\")\n",
    "print(sql_data.head())\n",
    "```"
   ]
  },
  {
   "cell_type": "markdown",
   "metadata": {},
   "source": [
    "```python\n",
    "# Example 4: Reading JSON File\n",
    "json_data = pd.read_json('data.json')\n",
    "print(\"\\nExample 4: Reading JSON File\")\n",
    "print(json_data.head())\n",
    "```"
   ]
  },
  {
   "cell_type": "markdown",
   "metadata": {},
   "source": [
    "```python\n",
    "# Example 5: Reading Data from URL (CSV format)\n",
    "url = 'https://example.com/data.csv'\n",
    "url_data = pd.read_csv(url)\n",
    "print(\"\\nExample 5: Reading Data from URL (CSV format)\")\n",
    "print(url_data.head())\n",
    "```"
   ]
  },
  {
   "cell_type": "markdown",
   "metadata": {},
   "source": [
    "```python\n",
    "# Example 6: Reading Data with Custom Separator\n",
    "custom_separator_data = pd.read_csv('data.txt', sep=';')\n",
    "print(\"\\nExample 6: Reading Data with Custom Separator\")\n",
    "print(custom_separator_data.head())\n",
    "```"
   ]
  },
  {
   "cell_type": "markdown",
   "metadata": {},
   "source": [
    "```python\n",
    "# Example 7: Reading Data with Specified Columns\n",
    "selected_columns_data = pd.read_csv('data.csv', usecols=['column1', 'column3'])\n",
    "print(\"\\nExample 7: Reading Data with Specified Columns\")\n",
    "print(selected_columns_data.head())\n",
    "```"
   ]
  },
  {
   "cell_type": "markdown",
   "metadata": {},
   "source": [
    "```python\n",
    "# Example 8: Reading Data with Date Parsing\n",
    "date_parse_data = pd.read_csv('data.csv', parse_dates=['date_column'])\n",
    "print(\"\\nExample 8: Reading Data with Date Parsing\")\n",
    "print(date_parse_data.head())\n",
    "```"
   ]
  },
  {
   "cell_type": "markdown",
   "metadata": {},
   "source": [
    "```python\n",
    "# Example 9: Reading Data with Skipped Rows\n",
    "skip_rows_data = pd.read_csv('data.csv', skiprows=[1, 2])\n",
    "print(\"\\nExample 9: Reading Data with Skipped Rows\")\n",
    "print(skip_rows_data.head())\n",
    "```"
   ]
  },
  {
   "cell_type": "markdown",
   "metadata": {},
   "source": [
    "```python\n",
    "# Example 10: Writing Data to CSV File\n",
    "csv_data.to_csv('output.csv', index=False)\n",
    "print(\"\\nExample 10: Writing Data to CSV File\")\n",
    "print(\"Data successfully written to output.csv\")\n",
    "```"
   ]
  },
  {
   "cell_type": "markdown",
   "metadata": {},
   "source": [
    "```python\n",
    "# Example 11: Writing Data to Excel File\n",
    "excel_data.to_excel('output.xlsx', index=False, sheet_name='Sheet1')\n",
    "print(\"\\nExample 11: Writing Data to Excel File\")\n",
    "print(\"Data successfully written to output.xlsx\")\n",
    "```"
   ]
  },
  {
   "cell_type": "markdown",
   "metadata": {},
   "source": [
    "```python\n",
    "# Example 12: Writing Data to SQL Database\n",
    "import sqlite3\n",
    "connection = sqlite3.connect('output.db')\n",
    "sql_data.to_sql('table_name', connection, index=False, if_exists='replace')\n",
    "connection.close()\n",
    "print(\"\\nExample 12: Writing Data to SQL Database\")\n",
    "print(\"Data successfully written to output.db\")\n",
    "```"
   ]
  },
  {
   "cell_type": "markdown",
   "metadata": {},
   "source": [
    "```python\n",
    "# Example 13: Writing Data to JSON File\n",
    "json_data.to_json('output.json', orient='records', lines=True)\n",
    "print(\"\\nExample 13: Writing Data to JSON File\")\n",
    "print(\"Data successfully written to output.json\")\n",
    "```"
   ]
  },
  {
   "cell_type": "markdown",
   "metadata": {},
   "source": [
    "```python\n",
    "# Example 14: Reading Data with Header Skipped\n",
    "header_skipped_data = pd.read_csv('data.csv', header=None)\n",
    "print(\"\\nExample 14: Reading Data with Header Skipped\")\n",
    "print(header_skipped_data.head())\n",
    "```"
   ]
  },
  {
   "cell_type": "markdown",
   "metadata": {},
   "source": [
    "```python\n",
    "# Example 15: Reading Excel Data from Specific Worksheet\n",
    "sheet_data = pd.read_excel('data.xlsx', sheet_name='Sheet2')\n",
    "print(\"\\nExample 15: Reading Excel Data from Specific Worksheet\")\n",
    "print(sheet_data.head())\n",
    "```"
   ]
  },
  {
   "cell_type": "markdown",
   "metadata": {},
   "source": [
    "```python\n",
    "# Example 16: Reading Data from SQL Database with SQLAlchemy\n",
    "from sqlalchemy import create_engine\n",
    "engine = create_engine('sqlite:///data.db')\n",
    "sqlalchemy_data = pd.read_sql_table('table_name', engine)\n",
    "print(\"\\nExample 16: Reading Data from SQL Database with SQLAlchemy\")\n",
    "print(sqlalchemy_data.head())\n",
    "```"
   ]
  },
  {
   "cell_type": "markdown",
   "metadata": {},
   "source": [
    "```python\n",
    "# Example 17: Reading Data with Custom Encoding\n",
    "custom_encoding_data = pd.read_csv('data.csv', encoding='latin-1')\n",
    "print(\"\\nExample 17: Reading Data with Custom Encoding\")\n",
    "print(custom_encoding_data.head())\n",
    "```"
   ]
  },
  {
   "cell_type": "markdown",
   "metadata": {},
   "source": [
    "```python\n",
    "# Example 18: Reading Data from Excel with Multiple Sheets\n",
    "multiple_sheets_data = pd.read_excel('data.xlsx', sheet_name=['Sheet1', 'Sheet2'])\n",
    "print(\"\\nExample 18: Reading Data from Excel with Multiple Sheets\")\n",
    "print(\"Data from Sheet1:\")\n",
    "print(multiple_sheets_data['Sheet1'].head())\n",
    "print(\"\\nData from Sheet2:\")\n",
    "print(multiple_sheets_data['Sheet2'].head())\n",
    "```"
   ]
  },
  {
   "cell_type": "markdown",
   "metadata": {},
   "source": [
    "```python\n",
    "# Example 19: Reading Data with Custom Date Format\n",
    "date_format_data = pd.read_csv('data.csv', parse_dates=['date_column'], date_parser=lambda x: pd.to_datetime(x, format='%Y/%m/%d'))\n",
    "print(\"\\nExample 19: Reading Data with Custom Date Format\")\n",
    "print(date_format_data.head())\n",
    "```"
   ]
  },
  {
   "cell_type": "markdown",
   "metadata": {},
   "source": [
    "```python\n",
    "# Example 20: Reading Data with Error Handling for Missing Values\n",
    "missing_values_data = pd.read_csv('data.csv', na_values=['NA', 'missing'])\n",
    "print(\"\\nExample 20: Reading Data with Error Handling for Missing Values\")\n",
    "print(missing_values_data.head())\n",
    "```"
   ]
  },
  {
   "cell_type": "markdown",
   "metadata": {},
   "source": [
    "```python\n",
    "# Example 21: Reading Data with Specific Columns as Index\n",
    "index_col_data = pd.read_csv('data.csv', index_col='id')\n",
    "print(\"\\nExample 21: Reading Data with Specific Columns as Index\")\n",
    "print(index_col_data.head())\n",
    "```"
   ]
  },
  {
   "cell_type": "markdown",
   "metadata": {},
   "source": [
    "```python\n",
    "# Example 22: Reading Data with Column Data Types Specified\n",
    "data_types_data = pd.read_csv('data.csv', dtype={'age': 'int32', 'salary': 'float64'})\n",
    "print(\"\\nExample 22: Reading Data with Column Data Types Specified\")\n",
    "print(data_types_data.dtypes)\n",
    "```"
   ]
  }
 ],
 "metadata": {
  "kernelspec": {
   "display_name": "Python 3",
   "language": "python",
   "name": "python3"
  },
  "language_info": {
   "codemirror_mode": {
    "name": "ipython",
    "version": 3
   },
   "file_extension": ".py",
   "mimetype": "text/x-python",
   "name": "python",
   "nbconvert_exporter": "python",
   "pygments_lexer": "ipython3",
   "version": "3.11.2"
  },
  "orig_nbformat": 4
 },
 "nbformat": 4,
 "nbformat_minor": 2
}
