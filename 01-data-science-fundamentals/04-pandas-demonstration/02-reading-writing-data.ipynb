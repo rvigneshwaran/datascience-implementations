{
 "cells": [
  {
   "cell_type": "markdown",
   "metadata": {},
   "source": [
    "### Reading and Writing Data Using Pandas.\n",
    "\n",
    "Here below are the topics explained in the below snippets:\n",
    "1. **Reading CSV File**: Reading data from a CSV file using `pd.read_csv()`.\n",
    "2. **Reading Excel File**: Reading data from an Excel file using `pd.read_excel()`.\n",
    "3. **Reading Data from SQL Database**: Reading data from an SQL database using `pd.read_sql_query()` and `pd.read_sql_table()`.\n",
    "4. **Reading JSON File**: Reading data from a JSON file using `pd.read_json()`.\n",
    "5. **Reading Data from URL (CSV format)**: Reading data from a URL containing CSV data using `pd.read_csv()`.\n",
    "6. **Reading Data with Custom Separator**: Reading data from a file with a custom separator using `pd.read_csv()` and specifying sep.\n",
    "7. **Reading Data with Specified Columns**: Reading data with specific columns from a file using `pd.read_csv()` and specifying usecols.\n",
    "8. **Reading Data with Date Parsing**: Reading data with date parsing from a file using `pd.read_csv()` and specifying parse_dates.\n",
    "9. **Reading Data with Skipped Rows**: Reading data with skipped rows from a file using `pd.read_csv()` and specifying skiprows.\n",
    "10. **Writing Data to CSV File**: Writing data to a CSV file using `to_csv()`.\n",
    "11. **Writing Data to Excel File**: Writing data to an Excel file using `to_excel()`.\n",
    "12. **Writing Data to SQL Database**: Writing data to an SQL database using `to_sql()`.\n",
    "13. **Writing Data to JSON File**: Writing data to a JSON file using `to_json()`.\n",
    "14. **Writing Data to HTML File**: Writing data to an HTML file using `to_html()`.\n",
    "15. **Writing Data to Clipboard**: Writing data to the clipboard using `to_clipboard()`.\n",
    "16. **Writing Data with Custom Encoding**: Writing data to a CSV file with a custom encoding using `to_csv()` and specifying encoding.\n",
    "17. **Writing Data with Custom Date Format**: Writing data to a CSV file with a custom date format using `to_csv()` and specifying date_format.\n",
    "18. **Writing Data with No Index**: Writing data to a CSV file without an index using `to_csv(` and specifying index.\n",
    "19. **Writing Data to CSV with Specific Header**: Writing data to a CSV file with a custom header using `to_csv()` and specifying header.\n",
    "20. **Writing Data to CSV with Custom Decimal Separator**: Writing data to a CSV file with a custom decimal separator using `to_csv()` and specifying decimal.\n",
    "21. **Writing Data to Excel with Specific Cell Formatting**: Writing data to an Excel file with specific cell formatting using `to_excel()` and xlsxwriter.\n",
    "22. **Writing Data to JSON with Indentation**: Writing data to a JSON file with indentation using `to_json()` and specifying indent.\n",
    "23. **Writing Data to JSON with Date Formatting**: Writing data to a JSON file with custom date formatting using `json.dump()` and specifying default.\n",
    "24. **Reading Excel Data from Specific Worksheet**: Reading data from a specific worksheet in an Excel file using sheet_name.\n",
    "25. **Reading Data from SQL Database with SQLAlchemy**: Reading data from an SQL database using SQLAlchemy's create_engine and `pd.read_sql_table()`."
   ]
  },
  {
   "cell_type": "code",
   "execution_count": 1,
   "metadata": {},
   "outputs": [],
   "source": [
    "import pandas as pd"
   ]
  },
  {
   "cell_type": "markdown",
   "metadata": {},
   "source": [
    "```python\n",
    "# Example 1: Reading CSV File\n",
    "csv_data = pd.read_csv('data.csv')\n",
    "print(\"Example 1: Reading CSV File\")\n",
    "print(csv_data.head())\n",
    "```"
   ]
  },
  {
   "cell_type": "markdown",
   "metadata": {},
   "source": [
    "```python\n",
    "# Example 2: Reading Excel File\n",
    "excel_data = pd.read_excel('data.xlsx', sheet_name='Sheet1')\n",
    "print(\"\\nExample 2: Reading Excel File\")\n",
    "print(excel_data.head())\n",
    "```"
   ]
  },
  {
   "cell_type": "markdown",
   "metadata": {},
   "source": [
    "```python\n",
    "# Example 3: Reading Data from SQL Database\n",
    "import sqlite3\n",
    "connection = sqlite3.connect('data.db')\n",
    "query = \"SELECT * FROM table_name\"\n",
    "sql_data = pd.read_sql_query(query, connection)\n",
    "connection.close()\n",
    "print(\"\\nExample 3: Reading Data from SQL Database\")\n",
    "print(sql_data.head())\n",
    "```"
   ]
  },
  {
   "cell_type": "markdown",
   "metadata": {},
   "source": [
    "```python\n",
    "# Example 4: Reading JSON File\n",
    "json_data = pd.read_json('data.json')\n",
    "print(\"\\nExample 4: Reading JSON File\")\n",
    "print(json_data.head())\n",
    "```"
   ]
  },
  {
   "cell_type": "markdown",
   "metadata": {},
   "source": [
    "```python\n",
    "# Example 5: Reading Data from URL (CSV format)\n",
    "url = 'https://example.com/data.csv'\n",
    "url_data = pd.read_csv(url)\n",
    "print(\"\\nExample 5: Reading Data from URL (CSV format)\")\n",
    "print(url_data.head())\n",
    "```"
   ]
  },
  {
   "cell_type": "markdown",
   "metadata": {},
   "source": [
    "```python\n",
    "# Example 6: Reading Data with Custom Separator\n",
    "custom_separator_data = pd.read_csv('data.txt', sep=';')\n",
    "print(\"\\nExample 6: Reading Data with Custom Separator\")\n",
    "print(custom_separator_data.head())\n",
    "```"
   ]
  },
  {
   "cell_type": "markdown",
   "metadata": {},
   "source": [
    "```python\n",
    "# Example 7: Reading Data with Specified Columns\n",
    "selected_columns_data = pd.read_csv('data.csv', usecols=['column1', 'column3'])\n",
    "print(\"\\nExample 7: Reading Data with Specified Columns\")\n",
    "print(selected_columns_data.head())\n",
    "```"
   ]
  },
  {
   "cell_type": "markdown",
   "metadata": {},
   "source": [
    "```python\n",
    "# Example 8: Reading Data with Date Parsing\n",
    "date_parse_data = pd.read_csv('data.csv', parse_dates=['date_column'])\n",
    "print(\"\\nExample 8: Reading Data with Date Parsing\")\n",
    "print(date_parse_data.head())\n",
    "```"
   ]
  },
  {
   "cell_type": "markdown",
   "metadata": {},
   "source": [
    "```python\n",
    "# Example 9: Reading Data with Skipped Rows\n",
    "skip_rows_data = pd.read_csv('data.csv', skiprows=[1, 2])\n",
    "print(\"\\nExample 9: Reading Data with Skipped Rows\")\n",
    "print(skip_rows_data.head())\n",
    "```"
   ]
  },
  {
   "cell_type": "markdown",
   "metadata": {},
   "source": [
    "```python\n",
    "# Example 10: Writing Data to CSV File\n",
    "csv_data.to_csv('output.csv', index=False)\n",
    "print(\"\\nExample 10: Writing Data to CSV File\")\n",
    "print(\"Data successfully written to output.csv\")\n",
    "```"
   ]
  },
  {
   "cell_type": "markdown",
   "metadata": {},
   "source": [
    "```python\n",
    "# Example 11: Writing Data to Excel File\n",
    "excel_data.to_excel('output.xlsx', index=False, sheet_name='Sheet1')\n",
    "print(\"\\nExample 11: Writing Data to Excel File\")\n",
    "print(\"Data successfully written to output.xlsx\")\n",
    "```"
   ]
  },
  {
   "cell_type": "markdown",
   "metadata": {},
   "source": [
    "```python\n",
    "# Example 12: Writing Data to SQL Database\n",
    "import sqlite3\n",
    "connection = sqlite3.connect('output.db')\n",
    "sql_data.to_sql('table_name', connection, index=False, if_exists='replace')\n",
    "connection.close()\n",
    "print(\"\\nExample 12: Writing Data to SQL Database\")\n",
    "print(\"Data successfully written to output.db\")\n",
    "```"
   ]
  },
  {
   "cell_type": "markdown",
   "metadata": {},
   "source": [
    "```python\n",
    "# Example 13: Writing Data to JSON File\n",
    "json_data.to_json('output.json', orient='records', lines=True)\n",
    "print(\"\\nExample 13: Writing Data to JSON File\")\n",
    "print(\"Data successfully written to output.json\")\n",
    "```"
   ]
  },
  {
   "cell_type": "markdown",
   "metadata": {},
   "source": [
    "```python\n",
    "# Example 14: Reading Data with Header Skipped\n",
    "header_skipped_data = pd.read_csv('data.csv', header=None)\n",
    "print(\"\\nExample 14: Reading Data with Header Skipped\")\n",
    "print(header_skipped_data.head())\n",
    "```"
   ]
  },
  {
   "cell_type": "markdown",
   "metadata": {},
   "source": [
    "```python\n",
    "# Example 15: Reading Excel Data from Specific Worksheet\n",
    "sheet_data = pd.read_excel('data.xlsx', sheet_name='Sheet2')\n",
    "print(\"\\nExample 15: Reading Excel Data from Specific Worksheet\")\n",
    "print(sheet_data.head())\n",
    "```"
   ]
  },
  {
   "cell_type": "markdown",
   "metadata": {},
   "source": [
    "```python\n",
    "# Example 16: Reading Data from SQL Database with SQLAlchemy\n",
    "from sqlalchemy import create_engine\n",
    "engine = create_engine('sqlite:///data.db')\n",
    "sqlalchemy_data = pd.read_sql_table('table_name', engine)\n",
    "print(\"\\nExample 16: Reading Data from SQL Database with SQLAlchemy\")\n",
    "print(sqlalchemy_data.head())\n",
    "```"
   ]
  },
  {
   "cell_type": "markdown",
   "metadata": {},
   "source": [
    "```python\n",
    "# Example 17: Reading Data with Custom Encoding\n",
    "custom_encoding_data = pd.read_csv('data.csv', encoding='latin-1')\n",
    "print(\"\\nExample 17: Reading Data with Custom Encoding\")\n",
    "print(custom_encoding_data.head())\n",
    "```"
   ]
  },
  {
   "cell_type": "markdown",
   "metadata": {},
   "source": [
    "```python\n",
    "# Example 18: Reading Data from Excel with Multiple Sheets\n",
    "multiple_sheets_data = pd.read_excel('data.xlsx', sheet_name=['Sheet1', 'Sheet2'])\n",
    "print(\"\\nExample 18: Reading Data from Excel with Multiple Sheets\")\n",
    "print(\"Data from Sheet1:\")\n",
    "print(multiple_sheets_data['Sheet1'].head())\n",
    "print(\"\\nData from Sheet2:\")\n",
    "print(multiple_sheets_data['Sheet2'].head())\n",
    "```"
   ]
  },
  {
   "cell_type": "markdown",
   "metadata": {},
   "source": [
    "```python\n",
    "# Example 19: Reading Data with Custom Date Format\n",
    "date_format_data = pd.read_csv('data.csv', parse_dates=['date_column'], date_parser=lambda x: pd.to_datetime(x, format='%Y/%m/%d'))\n",
    "print(\"\\nExample 19: Reading Data with Custom Date Format\")\n",
    "print(date_format_data.head())\n",
    "```"
   ]
  },
  {
   "cell_type": "markdown",
   "metadata": {},
   "source": [
    "```python\n",
    "# Example 20: Reading Data with Error Handling for Missing Values\n",
    "missing_values_data = pd.read_csv('data.csv', na_values=['NA', 'missing'])\n",
    "print(\"\\nExample 20: Reading Data with Error Handling for Missing Values\")\n",
    "print(missing_values_data.head())\n",
    "```"
   ]
  },
  {
   "cell_type": "markdown",
   "metadata": {},
   "source": [
    "```python\n",
    "# Example 21: Reading Data with Specific Columns as Index\n",
    "index_col_data = pd.read_csv('data.csv', index_col='id')\n",
    "print(\"\\nExample 21: Reading Data with Specific Columns as Index\")\n",
    "print(index_col_data.head())\n",
    "```"
   ]
  },
  {
   "cell_type": "markdown",
   "metadata": {},
   "source": [
    "```python\n",
    "# Example 22: Reading Data with Column Data Types Specified\n",
    "data_types_data = pd.read_csv('data.csv', dtype={'age': 'int32', 'salary': 'float64'})\n",
    "print(\"\\nExample 22: Reading Data with Column Data Types Specified\")\n",
    "print(data_types_data.dtypes)\n",
    "```"
   ]
  },
  {
   "cell_type": "markdown",
   "metadata": {},
   "source": [
    "```python\n",
    "# Example 23: Reading Data from HTML Table\n",
    "html_data = pd.read_html('https://example.com/table.html')[0]\n",
    "print(\"\\nExample 23: Reading Data from HTML Table\")\n",
    "print(html_data.head())\n",
    "```"
   ]
  },
  {
   "cell_type": "markdown",
   "metadata": {},
   "source": [
    "```python\n",
    "# Example 24: Reading Data with Thousands Separator\n",
    "thousands_sep_data = pd.read_csv('data.csv', thousands=',')\n",
    "print(\"\\nExample 24: Reading Data with Thousands Separator\")\n",
    "print(thousands_sep_data.head())\n",
    "```"
   ]
  },
  {
   "cell_type": "markdown",
   "metadata": {},
   "source": [
    "```python\n",
    "# Example 25: Writing Data with Custom Delimiter\n",
    "custom_delimiter_data = pd.read_csv('data.txt', sep='|')\n",
    "print(\"\\nExample 25: Reading Data with Custom Delimiter\")\n",
    "print(custom_delimiter_data.head())\n",
    "```"
   ]
  },
  {
   "cell_type": "markdown",
   "metadata": {},
   "source": [
    "```python\n",
    "# Example 26: Writing Data with Header Skipped\n",
    "header_skipped_data.to_csv('output_header_skipped.csv', index=False, header=False)\n",
    "print(\"\\nExample 26: Writing Data with Header Skipped\")\n",
    "print(\"Data successfully written to output_header_skipped.csv\")\n",
    "```"
   ]
  },
  {
   "cell_type": "markdown",
   "metadata": {},
   "source": [
    "```python\n",
    "# Example 27: Writing Data to Excel with Multiple Sheets\n",
    "with pd.ExcelWriter('output_multiple_sheets.xlsx') as writer:\n",
    "    csv_data.to_excel(writer, sheet_name='Sheet1', index=False)\n",
    "    json_data.to_excel(writer, sheet_name='Sheet2', index=False)\n",
    "print(\"\\nExample 27: Writing Data to Excel with Multiple Sheets\")\n",
    "print(\"Data successfully written to output_multiple_sheets.xlsx\")\n",
    "```"
   ]
  },
  {
   "cell_type": "markdown",
   "metadata": {},
   "source": [
    "```python\n",
    "# Example 28: Writing Data to SQL Database with SQLAlchemy\n",
    "from sqlalchemy import create_engine\n",
    "engine = create_engine('sqlite:///output.db')\n",
    "csv_data.to_sql('table_name', engine, index=False, if_exists='replace')\n",
    "print(\"\\nExample 28: Writing Data to SQL Database with SQLAlchemy\")\n",
    "print(\"Data successfully written to output.db\")\n",
    "```"
   ]
  },
  {
   "cell_type": "markdown",
   "metadata": {},
   "source": [
    "```python\n",
    "# Example 29: Writing Data to JSON File with Orient Option\n",
    "csv_data.to_json('output_orient_records.json', orient='records')\n",
    "print(\"\\nExample 29: Writing Data to JSON File with Orient Option\")\n",
    "print(\"Data successfully written to output_orient_records.json\")\n",
    "```"
   ]
  },
  {
   "cell_type": "markdown",
   "metadata": {},
   "source": [
    "```python\n",
    "# Example 30: Writing Data to JSON File with Lines Option\n",
    "json_data.to_json('output_lines.json', orient='records', lines=True)\n",
    "print(\"\\nExample 30: Writing Data to JSON File with Lines Option\")\n",
    "print(\"Data successfully written to output_lines.json\")\n",
    "```"
   ]
  },
  {
   "cell_type": "markdown",
   "metadata": {},
   "source": [
    "```python\n",
    "# Example 31: Writing Data to HTML File\n",
    "csv_data.to_html('output_table.html', index=False)\n",
    "print(\"\\nExample 31: Writing Data to HTML File\")\n",
    "print(\"Data successfully written to output_table.html\")\n",
    "```"
   ]
  },
  {
   "cell_type": "markdown",
   "metadata": {},
   "source": [
    "```python\n",
    "# Example 32: Writing Data to Clipboard\n",
    "csv_data.to_clipboard(index=False)\n",
    "print(\"\\nExample 32: Writing Data to Clipboard\")\n",
    "print(\"Data successfully copied to clipboard\")\n",
    "```"
   ]
  },
  {
   "cell_type": "markdown",
   "metadata": {},
   "source": [
    "```python\n",
    "# Example 33: Writing Data to CSV with Custom Encoding\n",
    "csv_data.to_csv('output_custom_encoding.csv', index=False, encoding='utf-16')\n",
    "print(\"\\nExample 33: Writing Data to CSV with Custom Encoding\")\n",
    "print(\"Data successfully written to output_custom_encoding.csv\")\n",
    "```"
   ]
  },
  {
   "cell_type": "markdown",
   "metadata": {},
   "source": [
    "```python\n",
    "# Example 34: Writing Data to CSV with Custom Date Format\n",
    "csv_data.to_csv('output_custom_date_format.csv', index=False, date_format='%Y-%m-%d')\n",
    "print(\"\\nExample 34: Writing Data to CSV with Custom Date Format\")\n",
    "print(\"Data successfully written to output_custom_date_format.csv\")\n",
    "```"
   ]
  },
  {
   "cell_type": "markdown",
   "metadata": {},
   "source": [
    "```python\n",
    "# Example 35: Writing Data to CSV with No Index\n",
    "csv_data.to_csv('output_no_index.csv', index=False)\n",
    "print(\"\\nExample 35: Writing Data to CSV with No Index\")\n",
    "print(\"Data successfully written to output_no_index.csv\")\n",
    "```"
   ]
  },
  {
   "cell_type": "markdown",
   "metadata": {},
   "source": [
    "```python\n",
    "# Example 36: Writing Data to CSV with Specific Header\n",
    "csv_data.to_csv('output_custom_header.csv', index=False, header=['ID', 'Name', 'Age'])\n",
    "print(\"\\nExample 36: Writing Data to CSV with Specific Header\")\n",
    "print(\"Data successfully written to output_custom_header.csv\")\n",
    "```"
   ]
  },
  {
   "cell_type": "markdown",
   "metadata": {},
   "source": [
    "```python\n",
    "# Example 37: Writing Data to CSV with Custom Decimal Separator\n",
    "csv_data.to_csv('output_custom_decimal.csv', index=False, decimal='.')\n",
    "print(\"\\nExample 37: Writing Data to CSV with Custom Decimal Separator\")\n",
    "print(\"Data successfully written to output_custom_decimal.csv\")\n",
    "```"
   ]
  },
  {
   "cell_type": "markdown",
   "metadata": {},
   "source": [
    "```python\n",
    "# Example 38: Writing Data to Excel with Specific Cell Formatting\n",
    "import xlsxwriter\n",
    "writer = pd.ExcelWriter('output_formatted.xlsx', engine='xlsxwriter')\n",
    "csv_data.to_excel(writer, index=False, sheet_name='Sheet1')\n",
    "workbook = writer.book\n",
    "worksheet = writer.sheets['Sheet1']\n",
    "currency_format = workbook.add_format({'num_format': '$#,##0.00'})\n",
    "worksheet.set_column('C:C', None, currency_format)\n",
    "writer.save()\n",
    "print(\"\\nExample 38: Writing Data to Excel with Specific Cell Formatting\")\n",
    "print(\"Data successfully written to output_formatted.xlsx\")\n",
    "```"
   ]
  },
  {
   "cell_type": "markdown",
   "metadata": {},
   "source": [
    "```python\n",
    "# Example 39: Writing Data to SQL Database with Specific Data Types\n",
    "import sqlalchemy\n",
    "data_types = {'ID': sqlalchemy.types.INTEGER(), 'Salary': sqlalchemy.types.FLOAT()}\n",
    "csv_data.to_sql('table_name', engine, index=False, if_exists='replace', dtype=data_types)\n",
    "print(\"\\nExample 39: Writing Data to SQL Database with Specific Data Types\")\n",
    "print(\"Data successfully written to output.db\")\n",
    "```"
   ]
  },
  {
   "cell_type": "markdown",
   "metadata": {},
   "source": [
    "```python\n",
    "# Example 40: Writing Data to JSON with Indentation\n",
    "json_data.to_json('output_indented.json', orient='records', indent=2)\n",
    "print(\"\\nExample 40: Writing Data to JSON with Indentation\")\n",
    "print(\"Data successfully written to output_indented.json\")\n",
    "```"
   ]
  },
  {
   "cell_type": "markdown",
   "metadata": {},
   "source": [
    "```python\n",
    "# Example 41: Writing Data to JSON with Date Formatting\n",
    "import json\n",
    "with open('output_date_format.json', 'w') as file:\n",
    "    json.dump(json_data.to_dict(orient='records'), file, indent=2, default=str)\n",
    "print(\"\\nExample 41: Writing Data to JSON with Date Formatting\")\n",
    "print(\"Data successfully written to output_date_format.json\")\n",
    "```"
   ]
  }
 ],
 "metadata": {
  "kernelspec": {
   "display_name": "Python 3",
   "language": "python",
   "name": "python3"
  },
  "language_info": {
   "codemirror_mode": {
    "name": "ipython",
    "version": 3
   },
   "file_extension": ".py",
   "mimetype": "text/x-python",
   "name": "python",
   "nbconvert_exporter": "python",
   "pygments_lexer": "ipython3",
   "version": "3.11.2"
  },
  "orig_nbformat": 4
 },
 "nbformat": 4,
 "nbformat_minor": 2
}
