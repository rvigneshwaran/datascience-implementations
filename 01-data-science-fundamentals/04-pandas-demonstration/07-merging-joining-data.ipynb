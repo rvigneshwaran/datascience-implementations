{
 "cells": [
  {
   "cell_type": "code",
   "execution_count": 1,
   "metadata": {},
   "outputs": [],
   "source": [
    "import pandas as pd"
   ]
  },
  {
   "cell_type": "code",
   "execution_count": 2,
   "metadata": {},
   "outputs": [],
   "source": [
    "# Creating DataFrames for Game of Thrones characters\n",
    "data1 = {\n",
    "    'Name': ['Jon Snow', 'Daenerys Targaryen', 'Tyrion Lannister', 'Arya Stark', 'Cersei Lannister'],\n",
    "    'House': ['Stark', 'Targaryen', 'Lannister', 'Stark', 'Lannister'],\n",
    "    'Status': ['Alive', 'Deceased', 'Alive', 'Alive', 'Deceased'],\n",
    "    'Allegiance': ['Night\\'s Watch', 'House Targaryen', 'House Lannister', 'House Stark', 'House Lannister']\n",
    "}\n",
    "got_df1 = pd.DataFrame(data1)"
   ]
  },
  {
   "cell_type": "code",
   "execution_count": 3,
   "metadata": {},
   "outputs": [],
   "source": [
    "data2 = {\n",
    "    'Name': ['Jon Snow', 'Arya Stark', 'Cersei Lannister', 'Jaime Lannister'],\n",
    "    'Actor': ['Kit Harington', 'Maisie Williams', 'Lena Headey', 'Nikolaj Coster-Waldau'],\n",
    "    'Age': [30, 20, 42, 45],\n",
    "    'Seasons': [8, 8, 8, 8]\n",
    "}\n",
    "got_df2 = pd.DataFrame(data2)"
   ]
  },
  {
   "cell_type": "code",
   "execution_count": 4,
   "metadata": {},
   "outputs": [],
   "source": [
    "data3 = {\n",
    "    'Name': ['Jon Snow', 'Tyrion Lannister', 'Sansa Stark'],\n",
    "    'Total_Kills': [7, 4, 2],\n",
    "    'Allegiance': ['Night\\'s Watch', 'House Lannister', 'House Stark']\n",
    "}\n",
    "got_df3 = pd.DataFrame(data3)"
   ]
  },
  {
   "cell_type": "code",
   "execution_count": 5,
   "metadata": {},
   "outputs": [
    {
     "name": "stdout",
     "output_type": "stream",
     "text": [
      "Game of Thrones Characters DataFrame 1:\n",
      "                 Name      House    Status       Allegiance\n",
      "0            Jon Snow      Stark     Alive    Night's Watch\n",
      "1  Daenerys Targaryen  Targaryen  Deceased  House Targaryen\n",
      "2    Tyrion Lannister  Lannister     Alive  House Lannister\n",
      "3          Arya Stark      Stark     Alive      House Stark\n",
      "4    Cersei Lannister  Lannister  Deceased  House Lannister\n"
     ]
    }
   ],
   "source": [
    "print(\"Game of Thrones Characters DataFrame 1:\")\n",
    "print(got_df1)"
   ]
  },
  {
   "cell_type": "code",
   "execution_count": 6,
   "metadata": {},
   "outputs": [
    {
     "name": "stdout",
     "output_type": "stream",
     "text": [
      "\n",
      "Game of Thrones Characters DataFrame 2:\n",
      "               Name                  Actor  Age  Seasons\n",
      "0          Jon Snow          Kit Harington   30        8\n",
      "1        Arya Stark        Maisie Williams   20        8\n",
      "2  Cersei Lannister            Lena Headey   42        8\n",
      "3   Jaime Lannister  Nikolaj Coster-Waldau   45        8\n"
     ]
    }
   ],
   "source": [
    "print(\"\\nGame of Thrones Characters DataFrame 2:\")\n",
    "print(got_df2)"
   ]
  },
  {
   "cell_type": "code",
   "execution_count": 7,
   "metadata": {},
   "outputs": [
    {
     "name": "stdout",
     "output_type": "stream",
     "text": [
      "\n",
      "Game of Thrones Characters DataFrame 3:\n",
      "               Name  Total_Kills       Allegiance\n",
      "0          Jon Snow            7    Night's Watch\n",
      "1  Tyrion Lannister            4  House Lannister\n",
      "2       Sansa Stark            2      House Stark\n"
     ]
    }
   ],
   "source": [
    "print(\"\\nGame of Thrones Characters DataFrame 3:\")\n",
    "print(got_df3)"
   ]
  },
  {
   "cell_type": "code",
   "execution_count": 8,
   "metadata": {},
   "outputs": [
    {
     "name": "stdout",
     "output_type": "stream",
     "text": [
      "\n",
      "Example 1: Merging two DataFrames based on a common column (Name):\n",
      "               Name      House    Status       Allegiance            Actor  \\\n",
      "0          Jon Snow      Stark     Alive    Night's Watch    Kit Harington   \n",
      "1        Arya Stark      Stark     Alive      House Stark  Maisie Williams   \n",
      "2  Cersei Lannister  Lannister  Deceased  House Lannister      Lena Headey   \n",
      "\n",
      "   Age  Seasons  \n",
      "0   30        8  \n",
      "1   20        8  \n",
      "2   42        8  \n"
     ]
    }
   ],
   "source": [
    "# Example 1: Merging two DataFrames based on a common column (Name)\n",
    "print(\"\\nExample 1: Merging two DataFrames based on a common column (Name):\")\n",
    "merged_df1 = pd.merge(got_df1, got_df2, on='Name')\n",
    "print(merged_df1)"
   ]
  },
  {
   "cell_type": "code",
   "execution_count": 9,
   "metadata": {},
   "outputs": [
    {
     "name": "stdout",
     "output_type": "stream",
     "text": [
      "\n",
      "Example 2: Merging two DataFrames based on multiple common columns (Name and House):\n"
     ]
    },
    {
     "ename": "KeyError",
     "evalue": "'House'",
     "output_type": "error",
     "traceback": [
      "\u001b[1;31m---------------------------------------------------------------------------\u001b[0m",
      "\u001b[1;31mKeyError\u001b[0m                                  Traceback (most recent call last)",
      "Cell \u001b[1;32mIn[9], line 3\u001b[0m\n\u001b[0;32m      1\u001b[0m \u001b[39m# Example 2: Merging two DataFrames based on multiple common columns (Name and House)\u001b[39;00m\n\u001b[0;32m      2\u001b[0m \u001b[39mprint\u001b[39m(\u001b[39m\"\u001b[39m\u001b[39m\\n\u001b[39;00m\u001b[39mExample 2: Merging two DataFrames based on multiple common columns (Name and House):\u001b[39m\u001b[39m\"\u001b[39m)\n\u001b[1;32m----> 3\u001b[0m merged_df2 \u001b[39m=\u001b[39m pd\u001b[39m.\u001b[39;49mmerge(got_df1, got_df2, on\u001b[39m=\u001b[39;49m[\u001b[39m'\u001b[39;49m\u001b[39mName\u001b[39;49m\u001b[39m'\u001b[39;49m, \u001b[39m'\u001b[39;49m\u001b[39mHouse\u001b[39;49m\u001b[39m'\u001b[39;49m])\n\u001b[0;32m      4\u001b[0m \u001b[39mprint\u001b[39m(merged_df2)\n",
      "File \u001b[1;32mc:\\Program Files\\Python311\\Lib\\site-packages\\pandas\\core\\reshape\\merge.py:110\u001b[0m, in \u001b[0;36mmerge\u001b[1;34m(left, right, how, on, left_on, right_on, left_index, right_index, sort, suffixes, copy, indicator, validate)\u001b[0m\n\u001b[0;32m     93\u001b[0m \u001b[39m@Substitution\u001b[39m(\u001b[39m\"\u001b[39m\u001b[39m\\n\u001b[39;00m\u001b[39mleft : DataFrame or named Series\u001b[39m\u001b[39m\"\u001b[39m)\n\u001b[0;32m     94\u001b[0m \u001b[39m@Appender\u001b[39m(_merge_doc, indents\u001b[39m=\u001b[39m\u001b[39m0\u001b[39m)\n\u001b[0;32m     95\u001b[0m \u001b[39mdef\u001b[39;00m \u001b[39mmerge\u001b[39m(\n\u001b[1;32m   (...)\u001b[0m\n\u001b[0;32m    108\u001b[0m     validate: \u001b[39mstr\u001b[39m \u001b[39m|\u001b[39m \u001b[39mNone\u001b[39;00m \u001b[39m=\u001b[39m \u001b[39mNone\u001b[39;00m,\n\u001b[0;32m    109\u001b[0m ) \u001b[39m-\u001b[39m\u001b[39m>\u001b[39m DataFrame:\n\u001b[1;32m--> 110\u001b[0m     op \u001b[39m=\u001b[39m _MergeOperation(\n\u001b[0;32m    111\u001b[0m         left,\n\u001b[0;32m    112\u001b[0m         right,\n\u001b[0;32m    113\u001b[0m         how\u001b[39m=\u001b[39;49mhow,\n\u001b[0;32m    114\u001b[0m         on\u001b[39m=\u001b[39;49mon,\n\u001b[0;32m    115\u001b[0m         left_on\u001b[39m=\u001b[39;49mleft_on,\n\u001b[0;32m    116\u001b[0m         right_on\u001b[39m=\u001b[39;49mright_on,\n\u001b[0;32m    117\u001b[0m         left_index\u001b[39m=\u001b[39;49mleft_index,\n\u001b[0;32m    118\u001b[0m         right_index\u001b[39m=\u001b[39;49mright_index,\n\u001b[0;32m    119\u001b[0m         sort\u001b[39m=\u001b[39;49msort,\n\u001b[0;32m    120\u001b[0m         suffixes\u001b[39m=\u001b[39;49msuffixes,\n\u001b[0;32m    121\u001b[0m         indicator\u001b[39m=\u001b[39;49mindicator,\n\u001b[0;32m    122\u001b[0m         validate\u001b[39m=\u001b[39;49mvalidate,\n\u001b[0;32m    123\u001b[0m     )\n\u001b[0;32m    124\u001b[0m     \u001b[39mreturn\u001b[39;00m op\u001b[39m.\u001b[39mget_result(copy\u001b[39m=\u001b[39mcopy)\n",
      "File \u001b[1;32mc:\\Program Files\\Python311\\Lib\\site-packages\\pandas\\core\\reshape\\merge.py:703\u001b[0m, in \u001b[0;36m_MergeOperation.__init__\u001b[1;34m(self, left, right, how, on, left_on, right_on, axis, left_index, right_index, sort, suffixes, indicator, validate)\u001b[0m\n\u001b[0;32m    696\u001b[0m \u001b[39mself\u001b[39m\u001b[39m.\u001b[39m_cross \u001b[39m=\u001b[39m cross_col\n\u001b[0;32m    698\u001b[0m \u001b[39m# note this function has side effects\u001b[39;00m\n\u001b[0;32m    699\u001b[0m (\n\u001b[0;32m    700\u001b[0m     \u001b[39mself\u001b[39m\u001b[39m.\u001b[39mleft_join_keys,\n\u001b[0;32m    701\u001b[0m     \u001b[39mself\u001b[39m\u001b[39m.\u001b[39mright_join_keys,\n\u001b[0;32m    702\u001b[0m     \u001b[39mself\u001b[39m\u001b[39m.\u001b[39mjoin_names,\n\u001b[1;32m--> 703\u001b[0m ) \u001b[39m=\u001b[39m \u001b[39mself\u001b[39;49m\u001b[39m.\u001b[39;49m_get_merge_keys()\n\u001b[0;32m    705\u001b[0m \u001b[39m# validate the merge keys dtypes. We may need to coerce\u001b[39;00m\n\u001b[0;32m    706\u001b[0m \u001b[39m# to avoid incompatible dtypes\u001b[39;00m\n\u001b[0;32m    707\u001b[0m \u001b[39mself\u001b[39m\u001b[39m.\u001b[39m_maybe_coerce_merge_keys()\n",
      "File \u001b[1;32mc:\\Program Files\\Python311\\Lib\\site-packages\\pandas\\core\\reshape\\merge.py:1162\u001b[0m, in \u001b[0;36m_MergeOperation._get_merge_keys\u001b[1;34m(self)\u001b[0m\n\u001b[0;32m   1160\u001b[0m rk \u001b[39m=\u001b[39m cast(Hashable, rk)\n\u001b[0;32m   1161\u001b[0m \u001b[39mif\u001b[39;00m rk \u001b[39mis\u001b[39;00m \u001b[39mnot\u001b[39;00m \u001b[39mNone\u001b[39;00m:\n\u001b[1;32m-> 1162\u001b[0m     right_keys\u001b[39m.\u001b[39mappend(right\u001b[39m.\u001b[39;49m_get_label_or_level_values(rk))\n\u001b[0;32m   1163\u001b[0m \u001b[39melse\u001b[39;00m:\n\u001b[0;32m   1164\u001b[0m     \u001b[39m# work-around for merge_asof(right_index=True)\u001b[39;00m\n\u001b[0;32m   1165\u001b[0m     right_keys\u001b[39m.\u001b[39mappend(right\u001b[39m.\u001b[39mindex)\n",
      "File \u001b[1;32mc:\\Program Files\\Python311\\Lib\\site-packages\\pandas\\core\\generic.py:1850\u001b[0m, in \u001b[0;36mNDFrame._get_label_or_level_values\u001b[1;34m(self, key, axis)\u001b[0m\n\u001b[0;32m   1844\u001b[0m     values \u001b[39m=\u001b[39m (\n\u001b[0;32m   1845\u001b[0m         \u001b[39mself\u001b[39m\u001b[39m.\u001b[39maxes[axis]\n\u001b[0;32m   1846\u001b[0m         \u001b[39m.\u001b[39mget_level_values(key)  \u001b[39m# type: ignore[assignment]\u001b[39;00m\n\u001b[0;32m   1847\u001b[0m         \u001b[39m.\u001b[39m_values\n\u001b[0;32m   1848\u001b[0m     )\n\u001b[0;32m   1849\u001b[0m \u001b[39melse\u001b[39;00m:\n\u001b[1;32m-> 1850\u001b[0m     \u001b[39mraise\u001b[39;00m \u001b[39mKeyError\u001b[39;00m(key)\n\u001b[0;32m   1852\u001b[0m \u001b[39m# Check for duplicates\u001b[39;00m\n\u001b[0;32m   1853\u001b[0m \u001b[39mif\u001b[39;00m values\u001b[39m.\u001b[39mndim \u001b[39m>\u001b[39m \u001b[39m1\u001b[39m:\n",
      "\u001b[1;31mKeyError\u001b[0m: 'House'"
     ]
    }
   ],
   "source": [
    "# Example 2: Merging two DataFrames based on multiple common columns (Name and House)\n",
    "print(\"\\nExample 2: Merging two DataFrames based on multiple common columns (Name and House):\")\n",
    "merged_df2 = pd.merge(got_df1, got_df2, on=['Name', 'House'])\n",
    "print(merged_df2)"
   ]
  },
  {
   "cell_type": "code",
   "execution_count": 10,
   "metadata": {},
   "outputs": [
    {
     "name": "stdout",
     "output_type": "stream",
     "text": [
      "\n",
      "Example 3: Merging two DataFrames based on common columns with different names (Name and Actor):\n",
      "Empty DataFrame\n",
      "Columns: [Name_x, House, Status, Allegiance, Name_y, Actor, Age, Seasons]\n",
      "Index: []\n"
     ]
    }
   ],
   "source": [
    "# Example 3: Merging two DataFrames based on common columns with different names (Name and Actor)\n",
    "print(\"\\nExample 3: Merging two DataFrames based on common columns with different names (Name and Actor):\")\n",
    "merged_df3 = pd.merge(got_df1, got_df2, left_on='Name', right_on='Actor')\n",
    "print(merged_df3)"
   ]
  },
  {
   "cell_type": "code",
   "execution_count": 11,
   "metadata": {},
   "outputs": [
    {
     "name": "stdout",
     "output_type": "stream",
     "text": [
      "\n",
      "Example 4: Merging two DataFrames with left join:\n",
      "                 Name      House    Status       Allegiance            Actor  \\\n",
      "0            Jon Snow      Stark     Alive    Night's Watch    Kit Harington   \n",
      "1  Daenerys Targaryen  Targaryen  Deceased  House Targaryen              NaN   \n",
      "2    Tyrion Lannister  Lannister     Alive  House Lannister              NaN   \n",
      "3          Arya Stark      Stark     Alive      House Stark  Maisie Williams   \n",
      "4    Cersei Lannister  Lannister  Deceased  House Lannister      Lena Headey   \n",
      "\n",
      "    Age  Seasons  \n",
      "0  30.0      8.0  \n",
      "1   NaN      NaN  \n",
      "2   NaN      NaN  \n",
      "3  20.0      8.0  \n",
      "4  42.0      8.0  \n"
     ]
    }
   ],
   "source": [
    "# Example 4: Merging two DataFrames with left join\n",
    "print(\"\\nExample 4: Merging two DataFrames with left join:\")\n",
    "merged_left = pd.merge(got_df1, got_df2, on='Name', how='left')\n",
    "print(merged_left)"
   ]
  },
  {
   "cell_type": "code",
   "execution_count": 12,
   "metadata": {},
   "outputs": [
    {
     "name": "stdout",
     "output_type": "stream",
     "text": [
      "\n",
      "Example 5: Merging two DataFrames with right join:\n",
      "               Name      House    Status       Allegiance  \\\n",
      "0          Jon Snow      Stark     Alive    Night's Watch   \n",
      "1        Arya Stark      Stark     Alive      House Stark   \n",
      "2  Cersei Lannister  Lannister  Deceased  House Lannister   \n",
      "3   Jaime Lannister        NaN       NaN              NaN   \n",
      "\n",
      "                   Actor  Age  Seasons  \n",
      "0          Kit Harington   30        8  \n",
      "1        Maisie Williams   20        8  \n",
      "2            Lena Headey   42        8  \n",
      "3  Nikolaj Coster-Waldau   45        8  \n"
     ]
    }
   ],
   "source": [
    "# Example 5: Merging two DataFrames with right join\n",
    "print(\"\\nExample 5: Merging two DataFrames with right join:\")\n",
    "merged_right = pd.merge(got_df1, got_df2, on='Name', how='right')\n",
    "print(merged_right)"
   ]
  },
  {
   "cell_type": "code",
   "execution_count": 13,
   "metadata": {},
   "outputs": [
    {
     "name": "stdout",
     "output_type": "stream",
     "text": [
      "\n",
      "Example 6: Merging two DataFrames with outer join:\n",
      "                 Name      House    Status       Allegiance  \\\n",
      "0            Jon Snow      Stark     Alive    Night's Watch   \n",
      "1  Daenerys Targaryen  Targaryen  Deceased  House Targaryen   \n",
      "2    Tyrion Lannister  Lannister     Alive  House Lannister   \n",
      "3          Arya Stark      Stark     Alive      House Stark   \n",
      "4    Cersei Lannister  Lannister  Deceased  House Lannister   \n",
      "5     Jaime Lannister        NaN       NaN              NaN   \n",
      "\n",
      "                   Actor   Age  Seasons  \n",
      "0          Kit Harington  30.0      8.0  \n",
      "1                    NaN   NaN      NaN  \n",
      "2                    NaN   NaN      NaN  \n",
      "3        Maisie Williams  20.0      8.0  \n",
      "4            Lena Headey  42.0      8.0  \n",
      "5  Nikolaj Coster-Waldau  45.0      8.0  \n"
     ]
    }
   ],
   "source": [
    "# Example 6: Merging two DataFrames with outer join\n",
    "print(\"\\nExample 6: Merging two DataFrames with outer join:\")\n",
    "merged_outer = pd.merge(got_df1, got_df2, on='Name', how='outer')\n",
    "print(merged_outer)"
   ]
  },
  {
   "cell_type": "code",
   "execution_count": 14,
   "metadata": {},
   "outputs": [
    {
     "name": "stdout",
     "output_type": "stream",
     "text": [
      "\n",
      "Example 7: Merging two DataFrames with inner join:\n",
      "               Name      House    Status       Allegiance            Actor  \\\n",
      "0          Jon Snow      Stark     Alive    Night's Watch    Kit Harington   \n",
      "1        Arya Stark      Stark     Alive      House Stark  Maisie Williams   \n",
      "2  Cersei Lannister  Lannister  Deceased  House Lannister      Lena Headey   \n",
      "\n",
      "   Age  Seasons  \n",
      "0   30        8  \n",
      "1   20        8  \n",
      "2   42        8  \n"
     ]
    }
   ],
   "source": [
    "# Example 7: Merging two DataFrames with inner join\n",
    "print(\"\\nExample 7: Merging two DataFrames with inner join:\")\n",
    "merged_inner = pd.merge(got_df1, got_df2, on='Name', how='inner')\n",
    "print(merged_inner)"
   ]
  },
  {
   "cell_type": "code",
   "execution_count": 15,
   "metadata": {},
   "outputs": [
    {
     "name": "stdout",
     "output_type": "stream",
     "text": [
      "\n",
      "Example 8: Merging two DataFrames with left and right suffixes:\n",
      "               Name      House    Status       Allegiance            Actor  \\\n",
      "0          Jon Snow      Stark     Alive    Night's Watch    Kit Harington   \n",
      "1        Arya Stark      Stark     Alive      House Stark  Maisie Williams   \n",
      "2  Cersei Lannister  Lannister  Deceased  House Lannister      Lena Headey   \n",
      "\n",
      "   Age  Seasons  \n",
      "0   30        8  \n",
      "1   20        8  \n",
      "2   42        8  \n"
     ]
    }
   ],
   "source": [
    "# Example 8: Merging two DataFrames with left and right suffixes\n",
    "print(\"\\nExample 8: Merging two DataFrames with left and right suffixes:\")\n",
    "merged_suffixes = pd.merge(got_df1, got_df2, on='Name', suffixes=('_1', '_2'))\n",
    "print(merged_suffixes)"
   ]
  },
  {
   "cell_type": "code",
   "execution_count": 16,
   "metadata": {},
   "outputs": [
    {
     "name": "stdout",
     "output_type": "stream",
     "text": [
      "\n",
      "Example 9: Merging two DataFrames on index:\n",
      "                      House    Status       Allegiance            Actor  Age  \\\n",
      "Name                                                                           \n",
      "Jon Snow              Stark     Alive    Night's Watch    Kit Harington   30   \n",
      "Arya Stark            Stark     Alive      House Stark  Maisie Williams   20   \n",
      "Cersei Lannister  Lannister  Deceased  House Lannister      Lena Headey   42   \n",
      "\n",
      "                  Seasons  \n",
      "Name                       \n",
      "Jon Snow                8  \n",
      "Arya Stark              8  \n",
      "Cersei Lannister        8  \n"
     ]
    }
   ],
   "source": [
    "# Example 9: Merging two DataFrames on index\n",
    "print(\"\\nExample 9: Merging two DataFrames on index:\")\n",
    "got_df1_indexed = got_df1.set_index('Name')\n",
    "got_df2_indexed = got_df2.set_index('Name')\n",
    "merged_on_index = pd.merge(got_df1_indexed, got_df2_indexed, left_index=True, right_index=True)\n",
    "print(merged_on_index)"
   ]
  },
  {
   "cell_type": "code",
   "execution_count": 17,
   "metadata": {},
   "outputs": [
    {
     "name": "stdout",
     "output_type": "stream",
     "text": [
      "\n",
      "Example 10: Merging two DataFrames with different column names in the second DataFrame:\n",
      "               Name      House    Status       Allegiance         Character  \\\n",
      "0          Jon Snow      Stark     Alive    Night's Watch          Jon Snow   \n",
      "1        Arya Stark      Stark     Alive      House Stark        Arya Stark   \n",
      "2  Cersei Lannister  Lannister  Deceased  House Lannister  Cersei Lannister   \n",
      "\n",
      "             Actor  Age  Seasons  \n",
      "0    Kit Harington   30        8  \n",
      "1  Maisie Williams   20        8  \n",
      "2      Lena Headey   42        8  \n"
     ]
    }
   ],
   "source": [
    "# Example 10: Merging two DataFrames with different column names in the second DataFrame\n",
    "print(\"\\nExample 10: Merging two DataFrames with different column names in the second DataFrame:\")\n",
    "got_df2_diff_col_names = got_df2.rename(columns={'Name': 'Character'})\n",
    "merged_diff_col_names = pd.merge(got_df1, got_df2_diff_col_names, left_on='Name', right_on='Character')\n",
    "print(merged_diff_col_names)"
   ]
  },
  {
   "cell_type": "code",
   "execution_count": 18,
   "metadata": {},
   "outputs": [
    {
     "name": "stdout",
     "output_type": "stream",
     "text": [
      "\n",
      "Example 11: Merging two DataFrames with a common column as index in the second DataFrame:\n",
      "               Name      House    Status       Allegiance            Actor  \\\n",
      "0          Jon Snow      Stark     Alive    Night's Watch    Kit Harington   \n",
      "3        Arya Stark      Stark     Alive      House Stark  Maisie Williams   \n",
      "4  Cersei Lannister  Lannister  Deceased  House Lannister      Lena Headey   \n",
      "\n",
      "   Age  Seasons  \n",
      "0   30        8  \n",
      "3   20        8  \n",
      "4   42        8  \n"
     ]
    }
   ],
   "source": [
    "# Example 11: Merging two DataFrames with a common column as index in the second DataFrame\n",
    "print(\"\\nExample 11: Merging two DataFrames with a common column as index in the second DataFrame:\")\n",
    "got_df2_index_col = got_df2.set_index('Name')\n",
    "merged_index_col = pd.merge(got_df1, got_df2_index_col, left_on='Name', right_index=True)\n",
    "print(merged_index_col)"
   ]
  },
  {
   "cell_type": "code",
   "execution_count": 19,
   "metadata": {},
   "outputs": [
    {
     "name": "stdout",
     "output_type": "stream",
     "text": [
      "\n",
      "Example 12: Merging two DataFrames and specifying suffixes for common columns:\n",
      "               Name      House    Status       Allegiance            Actor  \\\n",
      "0          Jon Snow      Stark     Alive    Night's Watch    Kit Harington   \n",
      "1        Arya Stark      Stark     Alive      House Stark  Maisie Williams   \n",
      "2  Cersei Lannister  Lannister  Deceased  House Lannister      Lena Headey   \n",
      "\n",
      "   Age  Seasons  \n",
      "0   30        8  \n",
      "1   20        8  \n",
      "2   42        8  \n"
     ]
    }
   ],
   "source": [
    "# Example 12: Merging two DataFrames and specifying suffixes for common columns\n",
    "print(\"\\nExample 12: Merging two DataFrames and specifying suffixes for common columns:\")\n",
    "merged_suffix_specified = pd.merge(got_df1, got_df2, on='Name', suffixes=('_character', '_actor'))\n",
    "print(merged_suffix_specified)\n"
   ]
  },
  {
   "cell_type": "code",
   "execution_count": 20,
   "metadata": {},
   "outputs": [
    {
     "name": "stdout",
     "output_type": "stream",
     "text": [
      "\n",
      "Example 13: Merging two DataFrames with a common column as index in both DataFrames:\n",
      "                      House    Status       Allegiance            Actor  Age  \\\n",
      "Name                                                                           \n",
      "Jon Snow              Stark     Alive    Night's Watch    Kit Harington   30   \n",
      "Arya Stark            Stark     Alive      House Stark  Maisie Williams   20   \n",
      "Cersei Lannister  Lannister  Deceased  House Lannister      Lena Headey   42   \n",
      "\n",
      "                  Seasons  \n",
      "Name                       \n",
      "Jon Snow                8  \n",
      "Arya Stark              8  \n",
      "Cersei Lannister        8  \n"
     ]
    }
   ],
   "source": [
    "# Example 13: Merging two DataFrames with a common column as index in both DataFrames\n",
    "print(\"\\nExample 13: Merging two DataFrames with a common column as index in both DataFrames:\")\n",
    "got_df1_index_col = got_df1.set_index('Name')\n",
    "got_df2_index_col = got_df2.set_index('Name')\n",
    "merged_both_index_col = pd.merge(got_df1_index_col, got_df2_index_col, left_index=True, right_index=True)\n",
    "print(merged_both_index_col)"
   ]
  },
  {
   "cell_type": "code",
   "execution_count": 21,
   "metadata": {},
   "outputs": [
    {
     "name": "stdout",
     "output_type": "stream",
     "text": [
      "\n",
      "Example 14: Merging two DataFrames with a common column as index in the first DataFrame and a column in the second DataFrame:\n",
      "       House    Status       Allegiance              Name            Actor  \\\n",
      "0      Stark     Alive    Night's Watch          Jon Snow    Kit Harington   \n",
      "1      Stark     Alive      House Stark        Arya Stark  Maisie Williams   \n",
      "2  Lannister  Deceased  House Lannister  Cersei Lannister      Lena Headey   \n",
      "\n",
      "   Age  Seasons  \n",
      "0   30        8  \n",
      "1   20        8  \n",
      "2   42        8  \n"
     ]
    }
   ],
   "source": [
    "# Example 14: Merging two DataFrames with a common column as index in the first DataFrame and a column in the second DataFrame\n",
    "print(\"\\nExample 14: Merging two DataFrames with a common column as index in the first DataFrame and a column in the second DataFrame:\")\n",
    "merged_index_col_mix = pd.merge(got_df1_index_col, got_df2, left_index=True, right_on='Name')\n",
    "print(merged_index_col_mix)"
   ]
  },
  {
   "cell_type": "code",
   "execution_count": 22,
   "metadata": {},
   "outputs": [
    {
     "name": "stdout",
     "output_type": "stream",
     "text": [
      "\n",
      "Example 15: Merging two DataFrames with different column names in both DataFrames:\n",
      "          Character House_Name    Status       Allegiance    Character_Name  \\\n",
      "0          Jon Snow      Stark     Alive    Night's Watch          Jon Snow   \n",
      "1        Arya Stark      Stark     Alive      House Stark        Arya Stark   \n",
      "2  Cersei Lannister  Lannister  Deceased  House Lannister  Cersei Lannister   \n",
      "\n",
      "             Actor  Age  Seasons  \n",
      "0    Kit Harington   30        8  \n",
      "1  Maisie Williams   20        8  \n",
      "2      Lena Headey   42        8  \n"
     ]
    }
   ],
   "source": [
    "# Example 15: Merging two DataFrames with different column names in both DataFrames\n",
    "print(\"\\nExample 15: Merging two DataFrames with different column names in both DataFrames:\")\n",
    "got_df1_diff_col_names = got_df1.rename(columns={'Name': 'Character', 'House': 'House_Name'})\n",
    "got_df2_diff_col_names = got_df2.rename(columns={'Name': 'Character_Name'})\n",
    "merged_diff_col_names_both = pd.merge(got_df1_diff_col_names, got_df2_diff_col_names, left_on='Character', right_on='Character_Name')\n",
    "print(merged_diff_col_names_both)"
   ]
  },
  {
   "cell_type": "code",
   "execution_count": 23,
   "metadata": {},
   "outputs": [
    {
     "name": "stdout",
     "output_type": "stream",
     "text": [
      "\n",
      "Example 16: Merging two DataFrames with a common column as index in both DataFrames using outer join:\n",
      "                        House    Status       Allegiance  \\\n",
      "Name                                                       \n",
      "Arya Stark              Stark     Alive      House Stark   \n",
      "Cersei Lannister    Lannister  Deceased  House Lannister   \n",
      "Daenerys Targaryen  Targaryen  Deceased  House Targaryen   \n",
      "Jaime Lannister           NaN       NaN              NaN   \n",
      "Jon Snow                Stark     Alive    Night's Watch   \n",
      "Tyrion Lannister    Lannister     Alive  House Lannister   \n",
      "\n",
      "                                    Actor   Age  Seasons  \n",
      "Name                                                      \n",
      "Arya Stark                Maisie Williams  20.0      8.0  \n",
      "Cersei Lannister              Lena Headey  42.0      8.0  \n",
      "Daenerys Targaryen                    NaN   NaN      NaN  \n",
      "Jaime Lannister     Nikolaj Coster-Waldau  45.0      8.0  \n",
      "Jon Snow                    Kit Harington  30.0      8.0  \n",
      "Tyrion Lannister                      NaN   NaN      NaN  \n"
     ]
    }
   ],
   "source": [
    "# Example 16: Merging two DataFrames with a common column as index in both DataFrames using outer join\n",
    "print(\"\\nExample 16: Merging two DataFrames with a common column as index in both DataFrames using outer join:\")\n",
    "merged_both_index_col_outer = pd.merge(got_df1_index_col, got_df2_index_col, left_index=True, right_index=True, how='outer')\n",
    "print(merged_both_index_col_outer)"
   ]
  },
  {
   "cell_type": "code",
   "execution_count": 24,
   "metadata": {},
   "outputs": [
    {
     "name": "stdout",
     "output_type": "stream",
     "text": [
      "\n",
      "Example 17: Merging two DataFrames and handling overlapping columns with suffixes:\n",
      "Game of Thrones Characters DataFrame 4:\n",
      "               Name      House    Status       Allegiance  Age  Episodes\n",
      "0          Jon Snow      Stark     Alive    Night's Watch   30        73\n",
      "1        Arya Stark      Stark     Alive      House Stark   20        59\n",
      "2  Cersei Lannister  Lannister  Deceased  House Lannister   42        62\n"
     ]
    }
   ],
   "source": [
    "# Example 17: Merging two DataFrames and handling overlapping columns with suffixes\n",
    "print(\"\\nExample 17: Merging two DataFrames and handling overlapping columns with suffixes:\")\n",
    "data4 = {\n",
    "    'Name': ['Jon Snow', 'Arya Stark', 'Cersei Lannister'],\n",
    "    'House': ['Stark', 'Stark', 'Lannister'],\n",
    "    'Status': ['Alive', 'Alive', 'Deceased'],\n",
    "    'Allegiance': ['Night\\'s Watch', 'House Stark', 'House Lannister'],\n",
    "    'Age': [30, 20, 42],\n",
    "    'Episodes': [73, 59, 62]\n",
    "}\n",
    "got_df4 = pd.DataFrame(data4)\n",
    "print(\"Game of Thrones Characters DataFrame 4:\")\n",
    "print(got_df4)"
   ]
  },
  {
   "cell_type": "code",
   "execution_count": 25,
   "metadata": {},
   "outputs": [
    {
     "name": "stdout",
     "output_type": "stream",
     "text": [
      "               Name House_original Status_original Allegiance_original  \\\n",
      "0          Jon Snow          Stark           Alive       Night's Watch   \n",
      "1        Arya Stark          Stark           Alive         House Stark   \n",
      "2  Cersei Lannister      Lannister        Deceased     House Lannister   \n",
      "\n",
      "  House_additional Status_additional Allegiance_additional  Age  Episodes  \n",
      "0            Stark             Alive         Night's Watch   30        73  \n",
      "1            Stark             Alive           House Stark   20        59  \n",
      "2        Lannister          Deceased       House Lannister   42        62  \n"
     ]
    }
   ],
   "source": [
    "merged_overlap_suffix = pd.merge(got_df1, got_df4, on='Name', suffixes=('_original', '_additional'))\n",
    "print(merged_overlap_suffix)\n"
   ]
  },
  {
   "cell_type": "code",
   "execution_count": 26,
   "metadata": {},
   "outputs": [
    {
     "name": "stdout",
     "output_type": "stream",
     "text": [
      "\n",
      "Example 18: Merging two DataFrames using the merge function with left join:\n",
      "                 Name      House    Status       Allegiance            Actor  \\\n",
      "0            Jon Snow      Stark     Alive    Night's Watch    Kit Harington   \n",
      "1  Daenerys Targaryen  Targaryen  Deceased  House Targaryen              NaN   \n",
      "2    Tyrion Lannister  Lannister     Alive  House Lannister              NaN   \n",
      "3          Arya Stark      Stark     Alive      House Stark  Maisie Williams   \n",
      "4    Cersei Lannister  Lannister  Deceased  House Lannister      Lena Headey   \n",
      "\n",
      "    Age  Seasons  \n",
      "0  30.0      8.0  \n",
      "1   NaN      NaN  \n",
      "2   NaN      NaN  \n",
      "3  20.0      8.0  \n",
      "4  42.0      8.0  \n"
     ]
    }
   ],
   "source": [
    "# Example 18: Merging two DataFrames using the merge function with left join\n",
    "print(\"\\nExample 18: Merging two DataFrames using the merge function with left join:\")\n",
    "merged_left_func = pd.merge(got_df1, got_df2, on='Name', how='left')\n",
    "print(merged_left_func)"
   ]
  },
  {
   "cell_type": "code",
   "execution_count": 27,
   "metadata": {},
   "outputs": [
    {
     "name": "stdout",
     "output_type": "stream",
     "text": [
      "\n",
      "Example 19: Merging two DataFrames using the merge function with right join:\n",
      "               Name      House    Status       Allegiance  \\\n",
      "0          Jon Snow      Stark     Alive    Night's Watch   \n",
      "1        Arya Stark      Stark     Alive      House Stark   \n",
      "2  Cersei Lannister  Lannister  Deceased  House Lannister   \n",
      "3   Jaime Lannister        NaN       NaN              NaN   \n",
      "\n",
      "                   Actor  Age  Seasons  \n",
      "0          Kit Harington   30        8  \n",
      "1        Maisie Williams   20        8  \n",
      "2            Lena Headey   42        8  \n",
      "3  Nikolaj Coster-Waldau   45        8  \n"
     ]
    }
   ],
   "source": [
    "# Example 19: Merging two DataFrames using the merge function with right join\n",
    "print(\"\\nExample 19: Merging two DataFrames using the merge function with right join:\")\n",
    "merged_right_func = pd.merge(got_df1, got_df2, on='Name', how='right')\n",
    "print(merged_right_func)"
   ]
  },
  {
   "cell_type": "code",
   "execution_count": 28,
   "metadata": {},
   "outputs": [
    {
     "name": "stdout",
     "output_type": "stream",
     "text": [
      "\n",
      "Example 20: Merging two DataFrames using the merge function with outer join:\n",
      "                 Name      House    Status       Allegiance  \\\n",
      "0            Jon Snow      Stark     Alive    Night's Watch   \n",
      "1  Daenerys Targaryen  Targaryen  Deceased  House Targaryen   \n",
      "2    Tyrion Lannister  Lannister     Alive  House Lannister   \n",
      "3          Arya Stark      Stark     Alive      House Stark   \n",
      "4    Cersei Lannister  Lannister  Deceased  House Lannister   \n",
      "5     Jaime Lannister        NaN       NaN              NaN   \n",
      "\n",
      "                   Actor   Age  Seasons  \n",
      "0          Kit Harington  30.0      8.0  \n",
      "1                    NaN   NaN      NaN  \n",
      "2                    NaN   NaN      NaN  \n",
      "3        Maisie Williams  20.0      8.0  \n",
      "4            Lena Headey  42.0      8.0  \n",
      "5  Nikolaj Coster-Waldau  45.0      8.0  \n"
     ]
    }
   ],
   "source": [
    "# Example 20: Merging two DataFrames using the merge function with outer join\n",
    "print(\"\\nExample 20: Merging two DataFrames using the merge function with outer join:\")\n",
    "merged_outer_func = pd.merge(got_df1, got_df2, on='Name', how='outer')\n",
    "print(merged_outer_func)"
   ]
  },
  {
   "cell_type": "code",
   "execution_count": 29,
   "metadata": {},
   "outputs": [
    {
     "name": "stdout",
     "output_type": "stream",
     "text": [
      "\n",
      "Example 21: Merging two DataFrames using the merge function with inner join:\n",
      "               Name      House    Status       Allegiance            Actor  \\\n",
      "0          Jon Snow      Stark     Alive    Night's Watch    Kit Harington   \n",
      "1        Arya Stark      Stark     Alive      House Stark  Maisie Williams   \n",
      "2  Cersei Lannister  Lannister  Deceased  House Lannister      Lena Headey   \n",
      "\n",
      "   Age  Seasons  \n",
      "0   30        8  \n",
      "1   20        8  \n",
      "2   42        8  \n"
     ]
    }
   ],
   "source": [
    "# Example 21: Merging two DataFrames using the merge function with inner join\n",
    "print(\"\\nExample 21: Merging two DataFrames using the merge function with inner join:\")\n",
    "merged_inner_func = pd.merge(got_df1, got_df2, on='Name', how='inner')\n",
    "print(merged_inner_func)"
   ]
  },
  {
   "cell_type": "code",
   "execution_count": 30,
   "metadata": {},
   "outputs": [
    {
     "name": "stdout",
     "output_type": "stream",
     "text": [
      "\n",
      "Example 22: Merging two DataFrames on multiple columns using the merge function:\n"
     ]
    },
    {
     "ename": "KeyError",
     "evalue": "'House'",
     "output_type": "error",
     "traceback": [
      "\u001b[1;31m---------------------------------------------------------------------------\u001b[0m",
      "\u001b[1;31mKeyError\u001b[0m                                  Traceback (most recent call last)",
      "Cell \u001b[1;32mIn[30], line 3\u001b[0m\n\u001b[0;32m      1\u001b[0m \u001b[39m# Example 22: Merging two DataFrames on multiple columns using the merge function\u001b[39;00m\n\u001b[0;32m      2\u001b[0m \u001b[39mprint\u001b[39m(\u001b[39m\"\u001b[39m\u001b[39m\\n\u001b[39;00m\u001b[39mExample 22: Merging two DataFrames on multiple columns using the merge function:\u001b[39m\u001b[39m\"\u001b[39m)\n\u001b[1;32m----> 3\u001b[0m merged_multiple_cols_func \u001b[39m=\u001b[39m pd\u001b[39m.\u001b[39;49mmerge(got_df1, got_df2, on\u001b[39m=\u001b[39;49m[\u001b[39m'\u001b[39;49m\u001b[39mName\u001b[39;49m\u001b[39m'\u001b[39;49m, \u001b[39m'\u001b[39;49m\u001b[39mHouse\u001b[39;49m\u001b[39m'\u001b[39;49m])\n\u001b[0;32m      4\u001b[0m \u001b[39mprint\u001b[39m(merged_multiple_cols_func)\n",
      "File \u001b[1;32mc:\\Program Files\\Python311\\Lib\\site-packages\\pandas\\core\\reshape\\merge.py:110\u001b[0m, in \u001b[0;36mmerge\u001b[1;34m(left, right, how, on, left_on, right_on, left_index, right_index, sort, suffixes, copy, indicator, validate)\u001b[0m\n\u001b[0;32m     93\u001b[0m \u001b[39m@Substitution\u001b[39m(\u001b[39m\"\u001b[39m\u001b[39m\\n\u001b[39;00m\u001b[39mleft : DataFrame or named Series\u001b[39m\u001b[39m\"\u001b[39m)\n\u001b[0;32m     94\u001b[0m \u001b[39m@Appender\u001b[39m(_merge_doc, indents\u001b[39m=\u001b[39m\u001b[39m0\u001b[39m)\n\u001b[0;32m     95\u001b[0m \u001b[39mdef\u001b[39;00m \u001b[39mmerge\u001b[39m(\n\u001b[1;32m   (...)\u001b[0m\n\u001b[0;32m    108\u001b[0m     validate: \u001b[39mstr\u001b[39m \u001b[39m|\u001b[39m \u001b[39mNone\u001b[39;00m \u001b[39m=\u001b[39m \u001b[39mNone\u001b[39;00m,\n\u001b[0;32m    109\u001b[0m ) \u001b[39m-\u001b[39m\u001b[39m>\u001b[39m DataFrame:\n\u001b[1;32m--> 110\u001b[0m     op \u001b[39m=\u001b[39m _MergeOperation(\n\u001b[0;32m    111\u001b[0m         left,\n\u001b[0;32m    112\u001b[0m         right,\n\u001b[0;32m    113\u001b[0m         how\u001b[39m=\u001b[39;49mhow,\n\u001b[0;32m    114\u001b[0m         on\u001b[39m=\u001b[39;49mon,\n\u001b[0;32m    115\u001b[0m         left_on\u001b[39m=\u001b[39;49mleft_on,\n\u001b[0;32m    116\u001b[0m         right_on\u001b[39m=\u001b[39;49mright_on,\n\u001b[0;32m    117\u001b[0m         left_index\u001b[39m=\u001b[39;49mleft_index,\n\u001b[0;32m    118\u001b[0m         right_index\u001b[39m=\u001b[39;49mright_index,\n\u001b[0;32m    119\u001b[0m         sort\u001b[39m=\u001b[39;49msort,\n\u001b[0;32m    120\u001b[0m         suffixes\u001b[39m=\u001b[39;49msuffixes,\n\u001b[0;32m    121\u001b[0m         indicator\u001b[39m=\u001b[39;49mindicator,\n\u001b[0;32m    122\u001b[0m         validate\u001b[39m=\u001b[39;49mvalidate,\n\u001b[0;32m    123\u001b[0m     )\n\u001b[0;32m    124\u001b[0m     \u001b[39mreturn\u001b[39;00m op\u001b[39m.\u001b[39mget_result(copy\u001b[39m=\u001b[39mcopy)\n",
      "File \u001b[1;32mc:\\Program Files\\Python311\\Lib\\site-packages\\pandas\\core\\reshape\\merge.py:703\u001b[0m, in \u001b[0;36m_MergeOperation.__init__\u001b[1;34m(self, left, right, how, on, left_on, right_on, axis, left_index, right_index, sort, suffixes, indicator, validate)\u001b[0m\n\u001b[0;32m    696\u001b[0m \u001b[39mself\u001b[39m\u001b[39m.\u001b[39m_cross \u001b[39m=\u001b[39m cross_col\n\u001b[0;32m    698\u001b[0m \u001b[39m# note this function has side effects\u001b[39;00m\n\u001b[0;32m    699\u001b[0m (\n\u001b[0;32m    700\u001b[0m     \u001b[39mself\u001b[39m\u001b[39m.\u001b[39mleft_join_keys,\n\u001b[0;32m    701\u001b[0m     \u001b[39mself\u001b[39m\u001b[39m.\u001b[39mright_join_keys,\n\u001b[0;32m    702\u001b[0m     \u001b[39mself\u001b[39m\u001b[39m.\u001b[39mjoin_names,\n\u001b[1;32m--> 703\u001b[0m ) \u001b[39m=\u001b[39m \u001b[39mself\u001b[39;49m\u001b[39m.\u001b[39;49m_get_merge_keys()\n\u001b[0;32m    705\u001b[0m \u001b[39m# validate the merge keys dtypes. We may need to coerce\u001b[39;00m\n\u001b[0;32m    706\u001b[0m \u001b[39m# to avoid incompatible dtypes\u001b[39;00m\n\u001b[0;32m    707\u001b[0m \u001b[39mself\u001b[39m\u001b[39m.\u001b[39m_maybe_coerce_merge_keys()\n",
      "File \u001b[1;32mc:\\Program Files\\Python311\\Lib\\site-packages\\pandas\\core\\reshape\\merge.py:1162\u001b[0m, in \u001b[0;36m_MergeOperation._get_merge_keys\u001b[1;34m(self)\u001b[0m\n\u001b[0;32m   1160\u001b[0m rk \u001b[39m=\u001b[39m cast(Hashable, rk)\n\u001b[0;32m   1161\u001b[0m \u001b[39mif\u001b[39;00m rk \u001b[39mis\u001b[39;00m \u001b[39mnot\u001b[39;00m \u001b[39mNone\u001b[39;00m:\n\u001b[1;32m-> 1162\u001b[0m     right_keys\u001b[39m.\u001b[39mappend(right\u001b[39m.\u001b[39;49m_get_label_or_level_values(rk))\n\u001b[0;32m   1163\u001b[0m \u001b[39melse\u001b[39;00m:\n\u001b[0;32m   1164\u001b[0m     \u001b[39m# work-around for merge_asof(right_index=True)\u001b[39;00m\n\u001b[0;32m   1165\u001b[0m     right_keys\u001b[39m.\u001b[39mappend(right\u001b[39m.\u001b[39mindex)\n",
      "File \u001b[1;32mc:\\Program Files\\Python311\\Lib\\site-packages\\pandas\\core\\generic.py:1850\u001b[0m, in \u001b[0;36mNDFrame._get_label_or_level_values\u001b[1;34m(self, key, axis)\u001b[0m\n\u001b[0;32m   1844\u001b[0m     values \u001b[39m=\u001b[39m (\n\u001b[0;32m   1845\u001b[0m         \u001b[39mself\u001b[39m\u001b[39m.\u001b[39maxes[axis]\n\u001b[0;32m   1846\u001b[0m         \u001b[39m.\u001b[39mget_level_values(key)  \u001b[39m# type: ignore[assignment]\u001b[39;00m\n\u001b[0;32m   1847\u001b[0m         \u001b[39m.\u001b[39m_values\n\u001b[0;32m   1848\u001b[0m     )\n\u001b[0;32m   1849\u001b[0m \u001b[39melse\u001b[39;00m:\n\u001b[1;32m-> 1850\u001b[0m     \u001b[39mraise\u001b[39;00m \u001b[39mKeyError\u001b[39;00m(key)\n\u001b[0;32m   1852\u001b[0m \u001b[39m# Check for duplicates\u001b[39;00m\n\u001b[0;32m   1853\u001b[0m \u001b[39mif\u001b[39;00m values\u001b[39m.\u001b[39mndim \u001b[39m>\u001b[39m \u001b[39m1\u001b[39m:\n",
      "\u001b[1;31mKeyError\u001b[0m: 'House'"
     ]
    }
   ],
   "source": [
    "# Example 22: Merging two DataFrames on multiple columns using the merge function\n",
    "print(\"\\nExample 22: Merging two DataFrames on multiple columns using the merge function:\")\n",
    "merged_multiple_cols_func = pd.merge(got_df1, got_df2, on=['Name', 'House'])\n",
    "print(merged_multiple_cols_func)"
   ]
  },
  {
   "cell_type": "code",
   "execution_count": 31,
   "metadata": {},
   "outputs": [
    {
     "name": "stdout",
     "output_type": "stream",
     "text": [
      "\n",
      "Example 23: Merging two DataFrames using the merge function and handling suffixes:\n",
      "               Name      House    Status       Allegiance            Actor  \\\n",
      "0          Jon Snow      Stark     Alive    Night's Watch    Kit Harington   \n",
      "1        Arya Stark      Stark     Alive      House Stark  Maisie Williams   \n",
      "2  Cersei Lannister  Lannister  Deceased  House Lannister      Lena Headey   \n",
      "\n",
      "   Age  Seasons  \n",
      "0   30        8  \n",
      "1   20        8  \n",
      "2   42        8  \n"
     ]
    }
   ],
   "source": [
    "# Example 23: Merging two DataFrames using the merge function and handling suffixes\n",
    "print(\"\\nExample 23: Merging two DataFrames using the merge function and handling suffixes:\")\n",
    "merged_suffixes_func = pd.merge(got_df1, got_df2, on='Name', suffixes=('_1', '_2'))\n",
    "print(merged_suffixes_func)"
   ]
  },
  {
   "cell_type": "code",
   "execution_count": 32,
   "metadata": {},
   "outputs": [
    {
     "name": "stdout",
     "output_type": "stream",
     "text": [
      "\n",
      "Example 24: Merging two DataFrames using the merge function and handling overlapping columns:\n",
      "               Name House_original Status_original Allegiance_original  \\\n",
      "0          Jon Snow          Stark           Alive       Night's Watch   \n",
      "1        Arya Stark          Stark           Alive         House Stark   \n",
      "2  Cersei Lannister      Lannister        Deceased     House Lannister   \n",
      "\n",
      "  House_additional Status_additional Allegiance_additional  Age  Episodes  \n",
      "0            Stark             Alive         Night's Watch   30        73  \n",
      "1            Stark             Alive           House Stark   20        59  \n",
      "2        Lannister          Deceased       House Lannister   42        62  \n"
     ]
    }
   ],
   "source": [
    "# Example 24: Merging two DataFrames using the merge function and handling overlapping columns\n",
    "print(\"\\nExample 24: Merging two DataFrames using the merge function and handling overlapping columns:\")\n",
    "merged_overlap_func = pd.merge(got_df1, got_df4, on='Name', suffixes=('_original', '_additional'))\n",
    "print(merged_overlap_func)"
   ]
  },
  {
   "cell_type": "code",
   "execution_count": 33,
   "metadata": {},
   "outputs": [
    {
     "name": "stdout",
     "output_type": "stream",
     "text": [
      "\n",
      "Example 25: Merging two DataFrames on multiple columns and specifying the type of join using the merge function:\n"
     ]
    },
    {
     "ename": "KeyError",
     "evalue": "'House'",
     "output_type": "error",
     "traceback": [
      "\u001b[1;31m---------------------------------------------------------------------------\u001b[0m",
      "\u001b[1;31mKeyError\u001b[0m                                  Traceback (most recent call last)",
      "Cell \u001b[1;32mIn[33], line 3\u001b[0m\n\u001b[0;32m      1\u001b[0m \u001b[39m# Example 25: Merging two DataFrames on multiple columns and specifying the type of join using the merge function\u001b[39;00m\n\u001b[0;32m      2\u001b[0m \u001b[39mprint\u001b[39m(\u001b[39m\"\u001b[39m\u001b[39m\\n\u001b[39;00m\u001b[39mExample 25: Merging two DataFrames on multiple columns and specifying the type of join using the merge function:\u001b[39m\u001b[39m\"\u001b[39m)\n\u001b[1;32m----> 3\u001b[0m merged_multi_join_func \u001b[39m=\u001b[39m pd\u001b[39m.\u001b[39;49mmerge(got_df1, got_df2, on\u001b[39m=\u001b[39;49m[\u001b[39m'\u001b[39;49m\u001b[39mName\u001b[39;49m\u001b[39m'\u001b[39;49m, \u001b[39m'\u001b[39;49m\u001b[39mHouse\u001b[39;49m\u001b[39m'\u001b[39;49m], how\u001b[39m=\u001b[39;49m\u001b[39m'\u001b[39;49m\u001b[39minner\u001b[39;49m\u001b[39m'\u001b[39;49m)\n\u001b[0;32m      4\u001b[0m \u001b[39mprint\u001b[39m(merged_multi_join_func)\n",
      "File \u001b[1;32mc:\\Program Files\\Python311\\Lib\\site-packages\\pandas\\core\\reshape\\merge.py:110\u001b[0m, in \u001b[0;36mmerge\u001b[1;34m(left, right, how, on, left_on, right_on, left_index, right_index, sort, suffixes, copy, indicator, validate)\u001b[0m\n\u001b[0;32m     93\u001b[0m \u001b[39m@Substitution\u001b[39m(\u001b[39m\"\u001b[39m\u001b[39m\\n\u001b[39;00m\u001b[39mleft : DataFrame or named Series\u001b[39m\u001b[39m\"\u001b[39m)\n\u001b[0;32m     94\u001b[0m \u001b[39m@Appender\u001b[39m(_merge_doc, indents\u001b[39m=\u001b[39m\u001b[39m0\u001b[39m)\n\u001b[0;32m     95\u001b[0m \u001b[39mdef\u001b[39;00m \u001b[39mmerge\u001b[39m(\n\u001b[1;32m   (...)\u001b[0m\n\u001b[0;32m    108\u001b[0m     validate: \u001b[39mstr\u001b[39m \u001b[39m|\u001b[39m \u001b[39mNone\u001b[39;00m \u001b[39m=\u001b[39m \u001b[39mNone\u001b[39;00m,\n\u001b[0;32m    109\u001b[0m ) \u001b[39m-\u001b[39m\u001b[39m>\u001b[39m DataFrame:\n\u001b[1;32m--> 110\u001b[0m     op \u001b[39m=\u001b[39m _MergeOperation(\n\u001b[0;32m    111\u001b[0m         left,\n\u001b[0;32m    112\u001b[0m         right,\n\u001b[0;32m    113\u001b[0m         how\u001b[39m=\u001b[39;49mhow,\n\u001b[0;32m    114\u001b[0m         on\u001b[39m=\u001b[39;49mon,\n\u001b[0;32m    115\u001b[0m         left_on\u001b[39m=\u001b[39;49mleft_on,\n\u001b[0;32m    116\u001b[0m         right_on\u001b[39m=\u001b[39;49mright_on,\n\u001b[0;32m    117\u001b[0m         left_index\u001b[39m=\u001b[39;49mleft_index,\n\u001b[0;32m    118\u001b[0m         right_index\u001b[39m=\u001b[39;49mright_index,\n\u001b[0;32m    119\u001b[0m         sort\u001b[39m=\u001b[39;49msort,\n\u001b[0;32m    120\u001b[0m         suffixes\u001b[39m=\u001b[39;49msuffixes,\n\u001b[0;32m    121\u001b[0m         indicator\u001b[39m=\u001b[39;49mindicator,\n\u001b[0;32m    122\u001b[0m         validate\u001b[39m=\u001b[39;49mvalidate,\n\u001b[0;32m    123\u001b[0m     )\n\u001b[0;32m    124\u001b[0m     \u001b[39mreturn\u001b[39;00m op\u001b[39m.\u001b[39mget_result(copy\u001b[39m=\u001b[39mcopy)\n",
      "File \u001b[1;32mc:\\Program Files\\Python311\\Lib\\site-packages\\pandas\\core\\reshape\\merge.py:703\u001b[0m, in \u001b[0;36m_MergeOperation.__init__\u001b[1;34m(self, left, right, how, on, left_on, right_on, axis, left_index, right_index, sort, suffixes, indicator, validate)\u001b[0m\n\u001b[0;32m    696\u001b[0m \u001b[39mself\u001b[39m\u001b[39m.\u001b[39m_cross \u001b[39m=\u001b[39m cross_col\n\u001b[0;32m    698\u001b[0m \u001b[39m# note this function has side effects\u001b[39;00m\n\u001b[0;32m    699\u001b[0m (\n\u001b[0;32m    700\u001b[0m     \u001b[39mself\u001b[39m\u001b[39m.\u001b[39mleft_join_keys,\n\u001b[0;32m    701\u001b[0m     \u001b[39mself\u001b[39m\u001b[39m.\u001b[39mright_join_keys,\n\u001b[0;32m    702\u001b[0m     \u001b[39mself\u001b[39m\u001b[39m.\u001b[39mjoin_names,\n\u001b[1;32m--> 703\u001b[0m ) \u001b[39m=\u001b[39m \u001b[39mself\u001b[39;49m\u001b[39m.\u001b[39;49m_get_merge_keys()\n\u001b[0;32m    705\u001b[0m \u001b[39m# validate the merge keys dtypes. We may need to coerce\u001b[39;00m\n\u001b[0;32m    706\u001b[0m \u001b[39m# to avoid incompatible dtypes\u001b[39;00m\n\u001b[0;32m    707\u001b[0m \u001b[39mself\u001b[39m\u001b[39m.\u001b[39m_maybe_coerce_merge_keys()\n",
      "File \u001b[1;32mc:\\Program Files\\Python311\\Lib\\site-packages\\pandas\\core\\reshape\\merge.py:1162\u001b[0m, in \u001b[0;36m_MergeOperation._get_merge_keys\u001b[1;34m(self)\u001b[0m\n\u001b[0;32m   1160\u001b[0m rk \u001b[39m=\u001b[39m cast(Hashable, rk)\n\u001b[0;32m   1161\u001b[0m \u001b[39mif\u001b[39;00m rk \u001b[39mis\u001b[39;00m \u001b[39mnot\u001b[39;00m \u001b[39mNone\u001b[39;00m:\n\u001b[1;32m-> 1162\u001b[0m     right_keys\u001b[39m.\u001b[39mappend(right\u001b[39m.\u001b[39;49m_get_label_or_level_values(rk))\n\u001b[0;32m   1163\u001b[0m \u001b[39melse\u001b[39;00m:\n\u001b[0;32m   1164\u001b[0m     \u001b[39m# work-around for merge_asof(right_index=True)\u001b[39;00m\n\u001b[0;32m   1165\u001b[0m     right_keys\u001b[39m.\u001b[39mappend(right\u001b[39m.\u001b[39mindex)\n",
      "File \u001b[1;32mc:\\Program Files\\Python311\\Lib\\site-packages\\pandas\\core\\generic.py:1850\u001b[0m, in \u001b[0;36mNDFrame._get_label_or_level_values\u001b[1;34m(self, key, axis)\u001b[0m\n\u001b[0;32m   1844\u001b[0m     values \u001b[39m=\u001b[39m (\n\u001b[0;32m   1845\u001b[0m         \u001b[39mself\u001b[39m\u001b[39m.\u001b[39maxes[axis]\n\u001b[0;32m   1846\u001b[0m         \u001b[39m.\u001b[39mget_level_values(key)  \u001b[39m# type: ignore[assignment]\u001b[39;00m\n\u001b[0;32m   1847\u001b[0m         \u001b[39m.\u001b[39m_values\n\u001b[0;32m   1848\u001b[0m     )\n\u001b[0;32m   1849\u001b[0m \u001b[39melse\u001b[39;00m:\n\u001b[1;32m-> 1850\u001b[0m     \u001b[39mraise\u001b[39;00m \u001b[39mKeyError\u001b[39;00m(key)\n\u001b[0;32m   1852\u001b[0m \u001b[39m# Check for duplicates\u001b[39;00m\n\u001b[0;32m   1853\u001b[0m \u001b[39mif\u001b[39;00m values\u001b[39m.\u001b[39mndim \u001b[39m>\u001b[39m \u001b[39m1\u001b[39m:\n",
      "\u001b[1;31mKeyError\u001b[0m: 'House'"
     ]
    }
   ],
   "source": [
    "# Example 25: Merging two DataFrames on multiple columns and specifying the type of join using the merge function\n",
    "print(\"\\nExample 25: Merging two DataFrames on multiple columns and specifying the type of join using the merge function:\")\n",
    "merged_multi_join_func = pd.merge(got_df1, got_df2, on=['Name', 'House'], how='inner')\n",
    "print(merged_multi_join_func)"
   ]
  }
 ],
 "metadata": {
  "kernelspec": {
   "display_name": "Python 3",
   "language": "python",
   "name": "python3"
  },
  "language_info": {
   "codemirror_mode": {
    "name": "ipython",
    "version": 3
   },
   "file_extension": ".py",
   "mimetype": "text/x-python",
   "name": "python",
   "nbconvert_exporter": "python",
   "pygments_lexer": "ipython3",
   "version": "3.11.2"
  },
  "orig_nbformat": 4
 },
 "nbformat": 4,
 "nbformat_minor": 2
}
