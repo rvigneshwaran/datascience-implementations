{
 "cells": [
  {
   "cell_type": "code",
   "execution_count": 1,
   "metadata": {},
   "outputs": [],
   "source": [
    "import pandas as pd"
   ]
  },
  {
   "cell_type": "code",
   "execution_count": 3,
   "metadata": {},
   "outputs": [],
   "source": [
    "# Creating a DataFrame for Game of Thrones characters\n",
    "data = {\n",
    "    'Name': ['Jon Snow', 'Daenerys Targaryen', 'Tyrion Lannister', 'Arya Stark', 'Cersei Lannister'],\n",
    "    'House': ['Stark', 'Targaryen', 'Lannister', 'Stark', 'Lannister'],\n",
    "    'Allegiance': ['Night\\'s Watch', 'House Targaryen', 'House Lannister', 'House Stark', 'House Lannister'],\n",
    "    'Status': ['Alive', 'Deceased', 'Alive', 'Alive', 'Deceased'],\n",
    "    'Age': [30, 24, 38, 20, 42]\n",
    "}"
   ]
  },
  {
   "cell_type": "code",
   "execution_count": 4,
   "metadata": {},
   "outputs": [
    {
     "name": "stdout",
     "output_type": "stream",
     "text": [
      "Game of Thrones Characters DataFrame:\n",
      "                 Name      House       Allegiance    Status  Age\n",
      "0            Jon Snow      Stark    Night's Watch     Alive   30\n",
      "1  Daenerys Targaryen  Targaryen  House Targaryen  Deceased   24\n",
      "2    Tyrion Lannister  Lannister  House Lannister     Alive   38\n",
      "3          Arya Stark      Stark      House Stark     Alive   20\n",
      "4    Cersei Lannister  Lannister  House Lannister  Deceased   42\n"
     ]
    }
   ],
   "source": [
    "got_df = pd.DataFrame(data)\n",
    "print(\"Game of Thrones Characters DataFrame:\")\n",
    "print(got_df)\n"
   ]
  },
  {
   "cell_type": "code",
   "execution_count": 5,
   "metadata": {},
   "outputs": [
    {
     "name": "stdout",
     "output_type": "stream",
     "text": [
      "\n",
      "Example 1: Slicing rows and columns using loc:\n",
      "Characters from index 1 to 3 (inclusive), and columns 'Name' and 'Age':\n",
      "                  Name  Age\n",
      "1  Daenerys Targaryen   24\n",
      "2    Tyrion Lannister   38\n",
      "3          Arya Stark   20\n"
     ]
    }
   ],
   "source": [
    "# Example 1: Slicing rows and columns using loc\n",
    "print(\"\\nExample 1: Slicing rows and columns using loc:\")\n",
    "print(\"Characters from index 1 to 3 (inclusive), and columns 'Name' and 'Age':\\n\", got_df.loc[1:3, ['Name', 'Age']])"
   ]
  },
  {
   "cell_type": "code",
   "execution_count": 6,
   "metadata": {},
   "outputs": [
    {
     "name": "stdout",
     "output_type": "stream",
     "text": [
      "\n",
      "Example 2: Slicing rows and columns using iloc:\n",
      "Characters at positions 1 to 3 (exclusive), and columns at positions 0 and 1:\n",
      "                  Name      House\n",
      "1  Daenerys Targaryen  Targaryen\n",
      "2    Tyrion Lannister  Lannister\n"
     ]
    }
   ],
   "source": [
    "# Example 2: Slicing rows and columns using iloc\n",
    "print(\"\\nExample 2: Slicing rows and columns using iloc:\")\n",
    "print(\"Characters at positions 1 to 3 (exclusive), and columns at positions 0 and 1:\\n\", got_df.iloc[1:3, [0, 1]])\n"
   ]
  },
  {
   "cell_type": "code",
   "execution_count": 7,
   "metadata": {},
   "outputs": [
    {
     "name": "stdout",
     "output_type": "stream",
     "text": [
      "\n",
      "Example 3: Accessing a specific column using dot notation:\n",
      "House column:\n",
      " 0        Stark\n",
      "1    Targaryen\n",
      "2    Lannister\n",
      "3        Stark\n",
      "4    Lannister\n",
      "Name: House, dtype: object\n"
     ]
    }
   ],
   "source": [
    "# Example 3: Accessing a specific column using dot notation\n",
    "print(\"\\nExample 3: Accessing a specific column using dot notation:\")\n",
    "print(\"House column:\\n\", got_df.House)"
   ]
  },
  {
   "cell_type": "code",
   "execution_count": 8,
   "metadata": {},
   "outputs": [
    {
     "name": "stdout",
     "output_type": "stream",
     "text": [
      "\n",
      "Example 4: Accessing multiple columns using dot notation:\n",
      "Name and Status columns:\n",
      "                  Name    Status\n",
      "0            Jon Snow     Alive\n",
      "1  Daenerys Targaryen  Deceased\n",
      "2    Tyrion Lannister     Alive\n",
      "3          Arya Stark     Alive\n",
      "4    Cersei Lannister  Deceased\n"
     ]
    }
   ],
   "source": [
    "# Example 4: Accessing multiple columns using dot notation\n",
    "print(\"\\nExample 4: Accessing multiple columns using dot notation:\")\n",
    "print(\"Name and Status columns:\\n\", got_df[['Name', 'Status']])"
   ]
  },
  {
   "cell_type": "code",
   "execution_count": 9,
   "metadata": {},
   "outputs": [
    {
     "name": "stdout",
     "output_type": "stream",
     "text": [
      "\n",
      "Example 5: Accessing a single cell using at:\n",
      "Value at row 2 and column 'Name': Daenerys Targaryen\n"
     ]
    }
   ],
   "source": [
    "# Example 5: Accessing a single cell using at\n",
    "print(\"\\nExample 5: Accessing a single cell using at:\")\n",
    "print(\"Value at row 2 and column 'Name':\", got_df.at[1, 'Name'])"
   ]
  },
  {
   "cell_type": "code",
   "execution_count": 10,
   "metadata": {},
   "outputs": [
    {
     "name": "stdout",
     "output_type": "stream",
     "text": [
      "\n",
      "Example 6: Accessing a single cell using iat:\n",
      "Value at position 2 and column 1: Targaryen\n"
     ]
    }
   ],
   "source": [
    "# Example 6: Accessing a single cell using iat\n",
    "print(\"\\nExample 6: Accessing a single cell using iat:\")\n",
    "print(\"Value at position 2 and column 1:\", got_df.iat[1, 1])"
   ]
  }
 ],
 "metadata": {
  "kernelspec": {
   "display_name": "Python 3",
   "language": "python",
   "name": "python3"
  },
  "language_info": {
   "codemirror_mode": {
    "name": "ipython",
    "version": 3
   },
   "file_extension": ".py",
   "mimetype": "text/x-python",
   "name": "python",
   "nbconvert_exporter": "python",
   "pygments_lexer": "ipython3",
   "version": "3.11.2"
  },
  "orig_nbformat": 4
 },
 "nbformat": 4,
 "nbformat_minor": 2
}
