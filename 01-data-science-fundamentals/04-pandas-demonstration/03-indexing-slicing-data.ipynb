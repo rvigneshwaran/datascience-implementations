{
 "cells": [
  {
   "cell_type": "code",
   "execution_count": 1,
   "metadata": {},
   "outputs": [],
   "source": [
    "import pandas as pd"
   ]
  },
  {
   "cell_type": "code",
   "execution_count": 3,
   "metadata": {},
   "outputs": [],
   "source": [
    "# Creating a DataFrame for Game of Thrones characters\n",
    "data = {\n",
    "    'Name': ['Jon Snow', 'Daenerys Targaryen', 'Tyrion Lannister', 'Arya Stark', 'Cersei Lannister'],\n",
    "    'House': ['Stark', 'Targaryen', 'Lannister', 'Stark', 'Lannister'],\n",
    "    'Allegiance': ['Night\\'s Watch', 'House Targaryen', 'House Lannister', 'House Stark', 'House Lannister'],\n",
    "    'Status': ['Alive', 'Deceased', 'Alive', 'Alive', 'Deceased'],\n",
    "    'Age': [30, 24, 38, 20, 42]\n",
    "}"
   ]
  },
  {
   "cell_type": "code",
   "execution_count": 4,
   "metadata": {},
   "outputs": [
    {
     "name": "stdout",
     "output_type": "stream",
     "text": [
      "Game of Thrones Characters DataFrame:\n",
      "                 Name      House       Allegiance    Status  Age\n",
      "0            Jon Snow      Stark    Night's Watch     Alive   30\n",
      "1  Daenerys Targaryen  Targaryen  House Targaryen  Deceased   24\n",
      "2    Tyrion Lannister  Lannister  House Lannister     Alive   38\n",
      "3          Arya Stark      Stark      House Stark     Alive   20\n",
      "4    Cersei Lannister  Lannister  House Lannister  Deceased   42\n"
     ]
    }
   ],
   "source": [
    "got_df = pd.DataFrame(data)\n",
    "print(\"Game of Thrones Characters DataFrame:\")\n",
    "print(got_df)\n"
   ]
  },
  {
   "cell_type": "code",
   "execution_count": 5,
   "metadata": {},
   "outputs": [
    {
     "name": "stdout",
     "output_type": "stream",
     "text": [
      "\n",
      "Example 1: Slicing rows and columns using loc:\n",
      "Characters from index 1 to 3 (inclusive), and columns 'Name' and 'Age':\n",
      "                  Name  Age\n",
      "1  Daenerys Targaryen   24\n",
      "2    Tyrion Lannister   38\n",
      "3          Arya Stark   20\n"
     ]
    }
   ],
   "source": [
    "# Example 1: Slicing rows and columns using loc\n",
    "print(\"\\nExample 1: Slicing rows and columns using loc:\")\n",
    "print(\"Characters from index 1 to 3 (inclusive), and columns 'Name' and 'Age':\\n\", got_df.loc[1:3, ['Name', 'Age']])"
   ]
  },
  {
   "cell_type": "code",
   "execution_count": 6,
   "metadata": {},
   "outputs": [
    {
     "name": "stdout",
     "output_type": "stream",
     "text": [
      "\n",
      "Example 2: Slicing rows and columns using iloc:\n",
      "Characters at positions 1 to 3 (exclusive), and columns at positions 0 and 1:\n",
      "                  Name      House\n",
      "1  Daenerys Targaryen  Targaryen\n",
      "2    Tyrion Lannister  Lannister\n"
     ]
    }
   ],
   "source": [
    "# Example 2: Slicing rows and columns using iloc\n",
    "print(\"\\nExample 2: Slicing rows and columns using iloc:\")\n",
    "print(\"Characters at positions 1 to 3 (exclusive), and columns at positions 0 and 1:\\n\", got_df.iloc[1:3, [0, 1]])\n"
   ]
  },
  {
   "cell_type": "code",
   "execution_count": 7,
   "metadata": {},
   "outputs": [
    {
     "name": "stdout",
     "output_type": "stream",
     "text": [
      "\n",
      "Example 3: Accessing a specific column using dot notation:\n",
      "House column:\n",
      " 0        Stark\n",
      "1    Targaryen\n",
      "2    Lannister\n",
      "3        Stark\n",
      "4    Lannister\n",
      "Name: House, dtype: object\n"
     ]
    }
   ],
   "source": [
    "# Example 3: Accessing a specific column using dot notation\n",
    "print(\"\\nExample 3: Accessing a specific column using dot notation:\")\n",
    "print(\"House column:\\n\", got_df.House)"
   ]
  },
  {
   "cell_type": "code",
   "execution_count": 8,
   "metadata": {},
   "outputs": [
    {
     "name": "stdout",
     "output_type": "stream",
     "text": [
      "\n",
      "Example 4: Accessing multiple columns using dot notation:\n",
      "Name and Status columns:\n",
      "                  Name    Status\n",
      "0            Jon Snow     Alive\n",
      "1  Daenerys Targaryen  Deceased\n",
      "2    Tyrion Lannister     Alive\n",
      "3          Arya Stark     Alive\n",
      "4    Cersei Lannister  Deceased\n"
     ]
    }
   ],
   "source": [
    "# Example 4: Accessing multiple columns using dot notation\n",
    "print(\"\\nExample 4: Accessing multiple columns using dot notation:\")\n",
    "print(\"Name and Status columns:\\n\", got_df[['Name', 'Status']])"
   ]
  },
  {
   "cell_type": "code",
   "execution_count": 9,
   "metadata": {},
   "outputs": [
    {
     "name": "stdout",
     "output_type": "stream",
     "text": [
      "\n",
      "Example 5: Accessing a single cell using at:\n",
      "Value at row 2 and column 'Name': Daenerys Targaryen\n"
     ]
    }
   ],
   "source": [
    "# Example 5: Accessing a single cell using at\n",
    "print(\"\\nExample 5: Accessing a single cell using at:\")\n",
    "print(\"Value at row 2 and column 'Name':\", got_df.at[1, 'Name'])"
   ]
  },
  {
   "cell_type": "code",
   "execution_count": 10,
   "metadata": {},
   "outputs": [
    {
     "name": "stdout",
     "output_type": "stream",
     "text": [
      "\n",
      "Example 6: Accessing a single cell using iat:\n",
      "Value at position 2 and column 1: Targaryen\n"
     ]
    }
   ],
   "source": [
    "# Example 6: Accessing a single cell using iat\n",
    "print(\"\\nExample 6: Accessing a single cell using iat:\")\n",
    "print(\"Value at position 2 and column 1:\", got_df.iat[1, 1])"
   ]
  },
  {
   "cell_type": "code",
   "execution_count": 11,
   "metadata": {},
   "outputs": [
    {
     "name": "stdout",
     "output_type": "stream",
     "text": [
      "\n",
      "Example 7: Using slices with loc:\n",
      "Characters from 'Jon Snow' to 'Tyrion Lannister':\n",
      " Empty DataFrame\n",
      "Columns: [Name, House, Allegiance, Status, Age]\n",
      "Index: []\n"
     ]
    }
   ],
   "source": [
    "# Example 7: Using slices with loc\n",
    "print(\"\\nExample 7: Using slices with loc:\")\n",
    "print(\"Characters from 'Jon Snow' to 'Tyrion Lannister':\\n\", got_df.loc['Jon Snow':'Tyrion Lannister'])"
   ]
  },
  {
   "cell_type": "code",
   "execution_count": 12,
   "metadata": {},
   "outputs": [
    {
     "name": "stdout",
     "output_type": "stream",
     "text": [
      "\n",
      "Example 8: Using slices with iloc:\n",
      "Characters from position 1 to 3 (exclusive):\n",
      "                  Name      House       Allegiance    Status  Age\n",
      "1  Daenerys Targaryen  Targaryen  House Targaryen  Deceased   24\n",
      "2    Tyrion Lannister  Lannister  House Lannister     Alive   38\n"
     ]
    }
   ],
   "source": [
    "# Example 8: Using slices with iloc\n",
    "print(\"\\nExample 8: Using slices with iloc:\")\n",
    "print(\"Characters from position 1 to 3 (exclusive):\\n\", got_df.iloc[1:3])"
   ]
  },
  {
   "cell_type": "code",
   "execution_count": 13,
   "metadata": {},
   "outputs": [
    {
     "name": "stdout",
     "output_type": "stream",
     "text": [
      "\n",
      "Example 9: Using boolean indexing with loc:\n",
      "Characters from House Stark:\n",
      "          Name  House     Allegiance Status  Age\n",
      "0    Jon Snow  Stark  Night's Watch  Alive   30\n",
      "3  Arya Stark  Stark    House Stark  Alive   20\n"
     ]
    }
   ],
   "source": [
    "# Example 9: Using boolean indexing with loc\n",
    "print(\"\\nExample 9: Using boolean indexing with loc:\")\n",
    "print(\"Characters from House Stark:\\n\", got_df.loc[got_df['House'] == 'Stark'])"
   ]
  },
  {
   "cell_type": "code",
   "execution_count": 14,
   "metadata": {},
   "outputs": [
    {
     "name": "stdout",
     "output_type": "stream",
     "text": [
      "\n",
      "Example 10: Using boolean indexing with iloc:\n",
      "Characters who are still alive:\n",
      "                Name      House       Allegiance Status  Age\n",
      "0          Jon Snow      Stark    Night's Watch  Alive   30\n",
      "2  Tyrion Lannister  Lannister  House Lannister  Alive   38\n",
      "3        Arya Stark      Stark      House Stark  Alive   20\n"
     ]
    }
   ],
   "source": [
    "# Example 10: Using boolean indexing with iloc\n",
    "print(\"\\nExample 10: Using boolean indexing with iloc:\")\n",
    "print(\"Characters who are still alive:\\n\", got_df.iloc[(got_df['Status'] == 'Alive').values])"
   ]
  },
  {
   "cell_type": "code",
   "execution_count": 15,
   "metadata": {},
   "outputs": [
    {
     "name": "stdout",
     "output_type": "stream",
     "text": [
      "\n",
      "Example 11: Setting a new index for the DataFrame:\n",
      "                        House       Allegiance    Status  Age\n",
      "Name                                                         \n",
      "Jon Snow                Stark    Night's Watch     Alive   30\n",
      "Daenerys Targaryen  Targaryen  House Targaryen  Deceased   24\n",
      "Tyrion Lannister    Lannister  House Lannister     Alive   38\n",
      "Arya Stark              Stark      House Stark     Alive   20\n",
      "Cersei Lannister    Lannister  House Lannister  Deceased   42\n"
     ]
    }
   ],
   "source": [
    "# Example 11: Setting a new index for the DataFrame\n",
    "got_df.set_index('Name', inplace=True)\n",
    "print(\"\\nExample 11: Setting a new index for the DataFrame:\")\n",
    "print(got_df)"
   ]
  },
  {
   "cell_type": "code",
   "execution_count": 16,
   "metadata": {},
   "outputs": [
    {
     "name": "stdout",
     "output_type": "stream",
     "text": [
      "\n",
      "Example 12: Accessing data with the new index using loc:\n",
      "Data for 'Daenerys Targaryen':\n",
      " House               Targaryen\n",
      "Allegiance    House Targaryen\n",
      "Status               Deceased\n",
      "Age                        24\n",
      "Name: Daenerys Targaryen, dtype: object\n",
      "Data for 'Tyrion Lannister' and 'Arya Stark':\n",
      "                       House       Allegiance Status  Age\n",
      "Name                                                    \n",
      "Tyrion Lannister  Lannister  House Lannister  Alive   38\n",
      "Arya Stark            Stark      House Stark  Alive   20\n"
     ]
    }
   ],
   "source": [
    "# Example 12: Accessing data with the new index using loc\n",
    "print(\"\\nExample 12: Accessing data with the new index using loc:\")\n",
    "print(\"Data for 'Daenerys Targaryen':\\n\", got_df.loc['Daenerys Targaryen'])\n",
    "print(\"Data for 'Tyrion Lannister' and 'Arya Stark':\\n\", got_df.loc[['Tyrion Lannister', 'Arya Stark']])"
   ]
  },
  {
   "cell_type": "code",
   "execution_count": 17,
   "metadata": {},
   "outputs": [
    {
     "name": "stdout",
     "output_type": "stream",
     "text": [
      "\n",
      "Example 13: Accessing data with the new index using iloc:\n",
      "Data at position 1:\n",
      " House               Targaryen\n",
      "Allegiance    House Targaryen\n",
      "Status               Deceased\n",
      "Age                        24\n",
      "Name: Daenerys Targaryen, dtype: object\n",
      "Data at positions 1 and 3:\n",
      "                         House       Allegiance    Status  Age\n",
      "Name                                                         \n",
      "Daenerys Targaryen  Targaryen  House Targaryen  Deceased   24\n",
      "Arya Stark              Stark      House Stark     Alive   20\n"
     ]
    }
   ],
   "source": [
    "# Example 13: Accessing data with the new index using iloc\n",
    "print(\"\\nExample 13: Accessing data with the new index using iloc:\")\n",
    "print(\"Data at position 1:\\n\", got_df.iloc[1])\n",
    "print(\"Data at positions 1 and 3:\\n\", got_df.iloc[[1, 3]])"
   ]
  },
  {
   "cell_type": "code",
   "execution_count": 18,
   "metadata": {},
   "outputs": [
    {
     "name": "stdout",
     "output_type": "stream",
     "text": [
      "\n",
      "Example 14: Conditional data modification with loc:\n",
      "DataFrame after modifying Status for deceased characters using loc:\n",
      "                        House       Allegiance Status  Age\n",
      "Name                                                      \n",
      "Jon Snow                Stark    Night's Watch  Alive   30\n",
      "Daenerys Targaryen  Targaryen  House Targaryen   Dead   24\n",
      "Tyrion Lannister    Lannister  House Lannister  Alive   38\n",
      "Arya Stark              Stark      House Stark  Alive   20\n",
      "Cersei Lannister    Lannister  House Lannister   Dead   42\n"
     ]
    }
   ],
   "source": [
    "# Example 14: Conditional data modification with loc\n",
    "got_df.loc[got_df['Status'] == 'Deceased', 'Status'] = 'Dead'\n",
    "print(\"\\nExample 14: Conditional data modification with loc:\")\n",
    "print(\"DataFrame after modifying Status for deceased characters using loc:\")\n",
    "print(got_df)"
   ]
  },
  {
   "cell_type": "code",
   "execution_count": 19,
   "metadata": {},
   "outputs": [
    {
     "name": "stdout",
     "output_type": "stream",
     "text": [
      "\n",
      "Example 15: Conditional data modification with iloc:\n",
      "DataFrame after modifying the first character's Status using iloc:\n",
      "                        House       Allegiance Status    Age\n",
      "Name                                                        \n",
      "Jon Snow                Stark    Night's Watch  Alive  Alive\n",
      "Daenerys Targaryen  Targaryen  House Targaryen   Dead     24\n",
      "Tyrion Lannister    Lannister  House Lannister  Alive     38\n",
      "Arya Stark              Stark      House Stark  Alive     20\n",
      "Cersei Lannister    Lannister  House Lannister   Dead     42\n"
     ]
    }
   ],
   "source": [
    "# Example 15: Conditional data modification with iloc\n",
    "got_df.iloc[0, 3] = 'Alive'\n",
    "print(\"\\nExample 15: Conditional data modification with iloc:\")\n",
    "print(\"DataFrame after modifying the first character's Status using iloc:\")\n",
    "print(got_df)"
   ]
  },
  {
   "cell_type": "code",
   "execution_count": 20,
   "metadata": {},
   "outputs": [
    {
     "name": "stdout",
     "output_type": "stream",
     "text": [
      "\n",
      "Example 16: Using slices for column assignment:\n",
      "DataFrame with a new 'Location' column:\n",
      "                        House       Allegiance Status    Age        Location\n",
      "Name                                                                        \n",
      "Jon Snow                Stark    Night's Watch  Alive  Alive        The Wall\n",
      "Daenerys Targaryen  Targaryen  House Targaryen   Dead     24     Dragonstone\n",
      "Tyrion Lannister    Lannister  House Lannister  Alive     38  King's Landing\n",
      "Arya Stark              Stark      House Stark  Alive     20         Braavos\n",
      "Cersei Lannister    Lannister  House Lannister   Dead     42  King's Landing\n"
     ]
    }
   ],
   "source": [
    "# Example 16: Using slices for column assignment\n",
    "got_df.loc[:, 'Location'] = ['The Wall', 'Dragonstone', 'King\\'s Landing', 'Braavos', 'King\\'s Landing']\n",
    "print(\"\\nExample 16: Using slices for column assignment:\")\n",
    "print(\"DataFrame with a new 'Location' column:\")\n",
    "print(got_df)"
   ]
  },
  {
   "cell_type": "code",
   "execution_count": 21,
   "metadata": {},
   "outputs": [
    {
     "name": "stdout",
     "output_type": "stream",
     "text": [
      "\n",
      "Example 17: Resetting the index:\n",
      "                 Name      House       Allegiance Status    Age  \\\n",
      "0            Jon Snow      Stark    Night's Watch  Alive  Alive   \n",
      "1  Daenerys Targaryen  Targaryen  House Targaryen   Dead     24   \n",
      "2    Tyrion Lannister  Lannister  House Lannister  Alive     38   \n",
      "3          Arya Stark      Stark      House Stark  Alive     20   \n",
      "4    Cersei Lannister  Lannister  House Lannister   Dead     42   \n",
      "\n",
      "         Location  \n",
      "0        The Wall  \n",
      "1     Dragonstone  \n",
      "2  King's Landing  \n",
      "3         Braavos  \n",
      "4  King's Landing  \n"
     ]
    }
   ],
   "source": [
    "# Example 17: Resetting the index\n",
    "got_df.reset_index(inplace=True)\n",
    "print(\"\\nExample 17: Resetting the index:\")\n",
    "print(got_df)"
   ]
  },
  {
   "cell_type": "code",
   "execution_count": 22,
   "metadata": {},
   "outputs": [
    {
     "name": "stdout",
     "output_type": "stream",
     "text": [
      "\n",
      "Example 18: Using multi-level indexing:\n",
      "                                   Allegiance Status    Age        Location\n",
      "House     Name                                                             \n",
      "Stark     Jon Snow              Night's Watch  Alive  Alive        The Wall\n",
      "Targaryen Daenerys Targaryen  House Targaryen   Dead     24     Dragonstone\n",
      "Lannister Tyrion Lannister    House Lannister  Alive     38  King's Landing\n",
      "Stark     Arya Stark              House Stark  Alive     20         Braavos\n",
      "Lannister Cersei Lannister    House Lannister   Dead     42  King's Landing\n"
     ]
    }
   ],
   "source": [
    "# Example 18: Using multi-level indexing\n",
    "got_df.set_index(['House', 'Name'], inplace=True)\n",
    "print(\"\\nExample 18: Using multi-level indexing:\")\n",
    "print(got_df)"
   ]
  },
  {
   "cell_type": "code",
   "execution_count": 23,
   "metadata": {},
   "outputs": [
    {
     "name": "stdout",
     "output_type": "stream",
     "text": [
      "\n",
      "Example 19: Accessing data with multi-level index using loc:\n",
      "Data for characters from House Stark:\n",
      "                Allegiance Status    Age  Location\n",
      "Name                                             \n",
      "Jon Snow    Night's Watch  Alive  Alive  The Wall\n",
      "Arya Stark    House Stark  Alive     20   Braavos\n"
     ]
    }
   ],
   "source": [
    "# Example 19: Accessing data with multi-level index using loc\n",
    "print(\"\\nExample 19: Accessing data with multi-level index using loc:\")\n",
    "print(\"Data for characters from House Stark:\\n\", got_df.loc['Stark'])"
   ]
  },
  {
   "cell_type": "code",
   "execution_count": 24,
   "metadata": {},
   "outputs": [
    {
     "name": "stdout",
     "output_type": "stream",
     "text": [
      "\n",
      "Example 20: Accessing data with multi-level index using iloc:\n",
      "Data at position ('Targaryen', 1):\n",
      " Dead\n"
     ]
    }
   ],
   "source": [
    "# Example 20: Accessing data with multi-level index using iloc\n",
    "print(\"\\nExample 20: Accessing data with multi-level index using iloc:\")\n",
    "print(\"Data at position ('Targaryen', 1):\\n\", got_df.iloc[(1, 1)])"
   ]
  },
  {
   "cell_type": "code",
   "execution_count": 28,
   "metadata": {},
   "outputs": [
    {
     "name": "stdout",
     "output_type": "stream",
     "text": [
      "\n",
      "Example 23: Accessing data using xs method:\n",
      "Data for characters from House Stark:\n",
      "                Allegiance Status    Age  Location\n",
      "Name                                             \n",
      "Jon Snow    Night's Watch  Alive  Alive  The Wall\n",
      "Arya Stark    House Stark  Alive     20   Braavos\n"
     ]
    }
   ],
   "source": [
    "# Example 23: Accessing data using xs method\n",
    "print(\"\\nExample 23: Accessing data using xs method:\")\n",
    "print(\"Data for characters from House Stark:\\n\", got_df.xs('Stark', level='House'))"
   ]
  }
 ],
 "metadata": {
  "kernelspec": {
   "display_name": "Python 3",
   "language": "python",
   "name": "python3"
  },
  "language_info": {
   "codemirror_mode": {
    "name": "ipython",
    "version": 3
   },
   "file_extension": ".py",
   "mimetype": "text/x-python",
   "name": "python",
   "nbconvert_exporter": "python",
   "pygments_lexer": "ipython3",
   "version": "3.11.2"
  },
  "orig_nbformat": 4
 },
 "nbformat": 4,
 "nbformat_minor": 2
}
