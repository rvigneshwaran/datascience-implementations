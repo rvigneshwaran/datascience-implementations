{
 "cells": [
  {
   "cell_type": "code",
   "execution_count": 1,
   "metadata": {},
   "outputs": [],
   "source": [
    "import pandas as pd\n"
   ]
  },
  {
   "cell_type": "code",
   "execution_count": 2,
   "metadata": {},
   "outputs": [],
   "source": [
    "# Sample DataFrame\n",
    "data = {'Name': ['John', 'Alice', 'Ella'],\n",
    "        'Age': ['25', '30', '22'],\n",
    "        'Score': [95.5, 88.0, 75.25],\n",
    "        'IsStudent': [True, False, True]}\n",
    "df = pd.DataFrame(data)"
   ]
  },
  {
   "cell_type": "code",
   "execution_count": 3,
   "metadata": {},
   "outputs": [
    {
     "name": "stdout",
     "output_type": "stream",
     "text": [
      "Example 1:\n",
      "DataFrame after converting 'Age' column to integer:\n",
      "    Name  Age  Score  IsStudent\n",
      "0   John   25  95.50       True\n",
      "1  Alice   30  88.00      False\n",
      "2   Ella   22  75.25       True\n"
     ]
    }
   ],
   "source": [
    "# Example 1: Convert column 'Age' from string to integer\n",
    "df['Age'] = df['Age'].astype(int)\n",
    "print(\"Example 1:\")\n",
    "print(\"DataFrame after converting 'Age' column to integer:\")\n",
    "print(df)"
   ]
  },
  {
   "cell_type": "code",
   "execution_count": 4,
   "metadata": {},
   "outputs": [
    {
     "name": "stdout",
     "output_type": "stream",
     "text": [
      "\n",
      "Example 2:\n",
      "DataFrame after converting 'Score' column to integer:\n",
      "    Name  Age  Score  IsStudent\n",
      "0   John   25     95       True\n",
      "1  Alice   30     88      False\n",
      "2   Ella   22     75       True\n"
     ]
    }
   ],
   "source": [
    "# Example 2: Convert column 'Score' from float to integer\n",
    "df['Score'] = df['Score'].astype(int)\n",
    "print(\"\\nExample 2:\")\n",
    "print(\"DataFrame after converting 'Score' column to integer:\")\n",
    "print(df)\n"
   ]
  },
  {
   "cell_type": "code",
   "execution_count": 5,
   "metadata": {},
   "outputs": [
    {
     "name": "stdout",
     "output_type": "stream",
     "text": [
      "\n",
      "Example 3:\n",
      "DataFrame after converting 'IsStudent' column to integer (1 and 0):\n",
      "    Name  Age  Score  IsStudent\n",
      "0   John   25     95          1\n",
      "1  Alice   30     88          0\n",
      "2   Ella   22     75          1\n"
     ]
    }
   ],
   "source": [
    "# Example 3: Convert column 'IsStudent' from boolean to integer (1 and 0)\n",
    "df['IsStudent'] = df['IsStudent'].astype(int)\n",
    "print(\"\\nExample 3:\")\n",
    "print(\"DataFrame after converting 'IsStudent' column to integer (1 and 0):\")\n",
    "print(df)"
   ]
  },
  {
   "cell_type": "code",
   "execution_count": 6,
   "metadata": {},
   "outputs": [
    {
     "name": "stdout",
     "output_type": "stream",
     "text": [
      "\n",
      "Example 4:\n",
      "DataFrame after converting 'Age' column to string:\n",
      "    Name Age  Score  IsStudent\n",
      "0   John  25     95          1\n",
      "1  Alice  30     88          0\n",
      "2   Ella  22     75          1\n"
     ]
    }
   ],
   "source": [
    "# Example 4: Convert column 'Age' from integer to string\n",
    "df['Age'] = df['Age'].astype(str)\n",
    "print(\"\\nExample 4:\")\n",
    "print(\"DataFrame after converting 'Age' column to string:\")\n",
    "print(df)\n"
   ]
  },
  {
   "cell_type": "code",
   "execution_count": 7,
   "metadata": {},
   "outputs": [
    {
     "name": "stdout",
     "output_type": "stream",
     "text": [
      "\n",
      "Example 5:\n",
      "DataFrame after converting 'Score' column to float:\n",
      "    Name Age  Score  IsStudent\n",
      "0   John  25   95.0          1\n",
      "1  Alice  30   88.0          0\n",
      "2   Ella  22   75.0          1\n"
     ]
    }
   ],
   "source": [
    "# Example 5: Convert column 'Score' from integer to float\n",
    "df['Score'] = df['Score'].astype(float)\n",
    "print(\"\\nExample 5:\")\n",
    "print(\"DataFrame after converting 'Score' column to float:\")\n",
    "print(df)"
   ]
  },
  {
   "cell_type": "code",
   "execution_count": 8,
   "metadata": {},
   "outputs": [
    {
     "name": "stdout",
     "output_type": "stream",
     "text": [
      "\n",
      "Example 6:\n",
      "DataFrame after converting 'IsStudent' column to boolean:\n",
      "    Name Age  Score  IsStudent\n",
      "0   John  25   95.0       True\n",
      "1  Alice  30   88.0      False\n",
      "2   Ella  22   75.0       True\n"
     ]
    }
   ],
   "source": [
    "# Example 6: Convert column 'IsStudent' from integer to boolean\n",
    "df['IsStudent'] = df['IsStudent'].astype(bool)\n",
    "print(\"\\nExample 6:\")\n",
    "print(\"DataFrame after converting 'IsStudent' column to boolean:\")\n",
    "print(df)"
   ]
  },
  {
   "cell_type": "code",
   "execution_count": 9,
   "metadata": {},
   "outputs": [
    {
     "name": "stdout",
     "output_type": "stream",
     "text": [
      "\n",
      "Example 7:\n",
      "DataFrame after converting 'Age' column to integer using pd.to_numeric():\n",
      "    Name  Age  Score  IsStudent\n",
      "0   John   25   95.0       True\n",
      "1  Alice   30   88.0      False\n",
      "2   Ella   22   75.0       True\n"
     ]
    }
   ],
   "source": [
    "# Example 7: Convert column 'Age' from string to integer using pd.to_numeric()\n",
    "df['Age'] = pd.to_numeric(df['Age'])\n",
    "print(\"\\nExample 7:\")\n",
    "print(\"DataFrame after converting 'Age' column to integer using pd.to_numeric():\")\n",
    "print(df)"
   ]
  },
  {
   "cell_type": "code",
   "execution_count": 10,
   "metadata": {},
   "outputs": [
    {
     "name": "stdout",
     "output_type": "stream",
     "text": [
      "\n",
      "Example 8:\n",
      "DataFrame after converting 'Score' column to string using astype():\n",
      "    Name  Age Score  IsStudent\n",
      "0   John   25  95.0       True\n",
      "1  Alice   30  88.0      False\n",
      "2   Ella   22  75.0       True\n"
     ]
    }
   ],
   "source": [
    "# Example 8: Convert column 'Score' from float to string using astype()\n",
    "df['Score'] = df['Score'].astype(str)\n",
    "print(\"\\nExample 8:\")\n",
    "print(\"DataFrame after converting 'Score' column to string using astype():\")\n",
    "print(df)"
   ]
  },
  {
   "cell_type": "code",
   "execution_count": 11,
   "metadata": {},
   "outputs": [
    {
     "name": "stdout",
     "output_type": "stream",
     "text": [
      "\n",
      "Example 9:\n",
      "DataFrame after converting 'IsStudent' column to string using astype():\n",
      "    Name  Age Score IsStudent\n",
      "0   John   25  95.0      True\n",
      "1  Alice   30  88.0     False\n",
      "2   Ella   22  75.0      True\n"
     ]
    }
   ],
   "source": [
    "# Example 9: Convert column 'IsStudent' from boolean to string using astype()\n",
    "df['IsStudent'] = df['IsStudent'].astype(str)\n",
    "print(\"\\nExample 9:\")\n",
    "print(\"DataFrame after converting 'IsStudent' column to string using astype():\")\n",
    "print(df)"
   ]
  },
  {
   "cell_type": "code",
   "execution_count": 12,
   "metadata": {},
   "outputs": [
    {
     "name": "stdout",
     "output_type": "stream",
     "text": [
      "\n",
      "Example 10:\n",
      "DataFrame after converting 'Age' column to integer using to_numeric() with errors='coerce':\n",
      "    Name  Age Score IsStudent\n",
      "0   John   25  95.0      True\n",
      "1  Alice   30  88.0     False\n",
      "2   Ella   22  75.0      True\n"
     ]
    }
   ],
   "source": [
    "# Example 10: Convert column 'Age' from string to integer using to_numeric() with errors='coerce'\n",
    "df['Age'] = pd.to_numeric(df['Age'], errors='coerce')\n",
    "print(\"\\nExample 10:\")\n",
    "print(\"DataFrame after converting 'Age' column to integer using to_numeric() with errors='coerce':\")\n",
    "print(df)"
   ]
  },
  {
   "cell_type": "code",
   "execution_count": 13,
   "metadata": {},
   "outputs": [
    {
     "name": "stdout",
     "output_type": "stream",
     "text": [
      "\n",
      "Example 11:\n",
      "DataFrame after converting 'Score' column to float using to_numeric() with errors='coerce':\n",
      "    Name  Age  Score IsStudent\n",
      "0   John   25   95.0      True\n",
      "1  Alice   30   88.0     False\n",
      "2   Ella   22   75.0      True\n"
     ]
    }
   ],
   "source": [
    "# Example 11: Convert column 'Score' from string to float using to_numeric() with errors='coerce'\n",
    "df['Score'] = pd.to_numeric(df['Score'], errors='coerce')\n",
    "print(\"\\nExample 11:\")\n",
    "print(\"DataFrame after converting 'Score' column to float using to_numeric() with errors='coerce':\")\n",
    "print(df)"
   ]
  },
  {
   "cell_type": "code",
   "execution_count": 14,
   "metadata": {},
   "outputs": [
    {
     "name": "stdout",
     "output_type": "stream",
     "text": [
      "\n",
      "Example 12:\n",
      "DataFrame after converting 'IsStudent' column to boolean using map():\n",
      "    Name  Age  Score  IsStudent\n",
      "0   John   25   95.0       True\n",
      "1  Alice   30   88.0      False\n",
      "2   Ella   22   75.0       True\n"
     ]
    }
   ],
   "source": [
    "# Example 12: Convert column 'IsStudent' from string to boolean using map()\n",
    "bool_map = {'True': True, 'False': False}\n",
    "df['IsStudent'] = df['IsStudent'].map(bool_map)\n",
    "print(\"\\nExample 12:\")\n",
    "print(\"DataFrame after converting 'IsStudent' column to boolean using map():\")\n",
    "print(df)"
   ]
  },
  {
   "cell_type": "code",
   "execution_count": 15,
   "metadata": {},
   "outputs": [
    {
     "name": "stdout",
     "output_type": "stream",
     "text": [
      "\n",
      "Example 13:\n",
      "DataFrame after converting 'Age' column to string using apply():\n",
      "    Name Age  Score  IsStudent\n",
      "0   John  25   95.0       True\n",
      "1  Alice  30   88.0      False\n",
      "2   Ella  22   75.0       True\n"
     ]
    }
   ],
   "source": [
    "# Example 13: Convert column 'Age' from integer to string using apply()\n",
    "df['Age'] = df['Age'].apply(str)\n",
    "print(\"\\nExample 13:\")\n",
    "print(\"DataFrame after converting 'Age' column to string using apply():\")\n",
    "print(df)"
   ]
  },
  {
   "cell_type": "code",
   "execution_count": 16,
   "metadata": {},
   "outputs": [
    {
     "name": "stdout",
     "output_type": "stream",
     "text": [
      "\n",
      "Example 14:\n",
      "DataFrame after converting 'Score' column to integer using apply():\n",
      "    Name Age  Score  IsStudent\n",
      "0   John  25     95       True\n",
      "1  Alice  30     88      False\n",
      "2   Ella  22     75       True\n"
     ]
    }
   ],
   "source": [
    "# Example 14: Convert column 'Score' from float to integer using apply()\n",
    "df['Score'] = df['Score'].apply(int)\n",
    "print(\"\\nExample 14:\")\n",
    "print(\"DataFrame after converting 'Score' column to integer using apply():\")\n",
    "print(df)"
   ]
  },
  {
   "cell_type": "code",
   "execution_count": 17,
   "metadata": {},
   "outputs": [
    {
     "name": "stdout",
     "output_type": "stream",
     "text": [
      "\n",
      "Example 15:\n",
      "DataFrame after converting 'IsStudent' column to integer (1 and 0) using apply():\n",
      "    Name Age  Score  IsStudent\n",
      "0   John  25     95          1\n",
      "1  Alice  30     88          0\n",
      "2   Ella  22     75          1\n"
     ]
    }
   ],
   "source": [
    "# Example 15: Convert column 'IsStudent' from boolean to integer (1 and 0) using apply()\n",
    "df['IsStudent'] = df['IsStudent'].apply(lambda x: 1 if x else 0)\n",
    "print(\"\\nExample 15:\")\n",
    "print(\"DataFrame after converting 'IsStudent' column to integer (1 and 0) using apply():\")\n",
    "print(df)"
   ]
  }
 ],
 "metadata": {
  "kernelspec": {
   "display_name": "Python 3",
   "language": "python",
   "name": "python3"
  },
  "language_info": {
   "codemirror_mode": {
    "name": "ipython",
    "version": 3
   },
   "file_extension": ".py",
   "mimetype": "text/x-python",
   "name": "python",
   "nbconvert_exporter": "python",
   "pygments_lexer": "ipython3",
   "version": "3.11.2"
  },
  "orig_nbformat": 4
 },
 "nbformat": 4,
 "nbformat_minor": 2
}
