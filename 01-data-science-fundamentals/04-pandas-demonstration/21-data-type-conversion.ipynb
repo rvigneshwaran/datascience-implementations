{
 "cells": [
  {
   "cell_type": "code",
   "execution_count": 1,
   "metadata": {},
   "outputs": [],
   "source": [
    "import pandas as pd\n"
   ]
  },
  {
   "cell_type": "code",
   "execution_count": 2,
   "metadata": {},
   "outputs": [],
   "source": [
    "# Sample DataFrame\n",
    "data = {'Name': ['John', 'Alice', 'Ella'],\n",
    "        'Age': ['25', '30', '22'],\n",
    "        'Score': [95.5, 88.0, 75.25],\n",
    "        'IsStudent': [True, False, True]}\n",
    "df = pd.DataFrame(data)"
   ]
  },
  {
   "cell_type": "code",
   "execution_count": 3,
   "metadata": {},
   "outputs": [
    {
     "name": "stdout",
     "output_type": "stream",
     "text": [
      "Example 1:\n",
      "DataFrame after converting 'Age' column to integer:\n",
      "    Name  Age  Score  IsStudent\n",
      "0   John   25  95.50       True\n",
      "1  Alice   30  88.00      False\n",
      "2   Ella   22  75.25       True\n"
     ]
    }
   ],
   "source": [
    "# Example 1: Convert column 'Age' from string to integer\n",
    "df['Age'] = df['Age'].astype(int)\n",
    "print(\"Example 1:\")\n",
    "print(\"DataFrame after converting 'Age' column to integer:\")\n",
    "print(df)"
   ]
  },
  {
   "cell_type": "code",
   "execution_count": 4,
   "metadata": {},
   "outputs": [
    {
     "name": "stdout",
     "output_type": "stream",
     "text": [
      "\n",
      "Example 2:\n",
      "DataFrame after converting 'Score' column to integer:\n",
      "    Name  Age  Score  IsStudent\n",
      "0   John   25     95       True\n",
      "1  Alice   30     88      False\n",
      "2   Ella   22     75       True\n"
     ]
    }
   ],
   "source": [
    "# Example 2: Convert column 'Score' from float to integer\n",
    "df['Score'] = df['Score'].astype(int)\n",
    "print(\"\\nExample 2:\")\n",
    "print(\"DataFrame after converting 'Score' column to integer:\")\n",
    "print(df)\n"
   ]
  },
  {
   "cell_type": "code",
   "execution_count": 5,
   "metadata": {},
   "outputs": [
    {
     "name": "stdout",
     "output_type": "stream",
     "text": [
      "\n",
      "Example 3:\n",
      "DataFrame after converting 'IsStudent' column to integer (1 and 0):\n",
      "    Name  Age  Score  IsStudent\n",
      "0   John   25     95          1\n",
      "1  Alice   30     88          0\n",
      "2   Ella   22     75          1\n"
     ]
    }
   ],
   "source": [
    "# Example 3: Convert column 'IsStudent' from boolean to integer (1 and 0)\n",
    "df['IsStudent'] = df['IsStudent'].astype(int)\n",
    "print(\"\\nExample 3:\")\n",
    "print(\"DataFrame after converting 'IsStudent' column to integer (1 and 0):\")\n",
    "print(df)"
   ]
  },
  {
   "cell_type": "code",
   "execution_count": 6,
   "metadata": {},
   "outputs": [
    {
     "name": "stdout",
     "output_type": "stream",
     "text": [
      "\n",
      "Example 4:\n",
      "DataFrame after converting 'Age' column to string:\n",
      "    Name Age  Score  IsStudent\n",
      "0   John  25     95          1\n",
      "1  Alice  30     88          0\n",
      "2   Ella  22     75          1\n"
     ]
    }
   ],
   "source": [
    "# Example 4: Convert column 'Age' from integer to string\n",
    "df['Age'] = df['Age'].astype(str)\n",
    "print(\"\\nExample 4:\")\n",
    "print(\"DataFrame after converting 'Age' column to string:\")\n",
    "print(df)\n"
   ]
  },
  {
   "cell_type": "code",
   "execution_count": 7,
   "metadata": {},
   "outputs": [
    {
     "name": "stdout",
     "output_type": "stream",
     "text": [
      "\n",
      "Example 5:\n",
      "DataFrame after converting 'Score' column to float:\n",
      "    Name Age  Score  IsStudent\n",
      "0   John  25   95.0          1\n",
      "1  Alice  30   88.0          0\n",
      "2   Ella  22   75.0          1\n"
     ]
    }
   ],
   "source": [
    "# Example 5: Convert column 'Score' from integer to float\n",
    "df['Score'] = df['Score'].astype(float)\n",
    "print(\"\\nExample 5:\")\n",
    "print(\"DataFrame after converting 'Score' column to float:\")\n",
    "print(df)"
   ]
  },
  {
   "cell_type": "code",
   "execution_count": 8,
   "metadata": {},
   "outputs": [
    {
     "name": "stdout",
     "output_type": "stream",
     "text": [
      "\n",
      "Example 6:\n",
      "DataFrame after converting 'IsStudent' column to boolean:\n",
      "    Name Age  Score  IsStudent\n",
      "0   John  25   95.0       True\n",
      "1  Alice  30   88.0      False\n",
      "2   Ella  22   75.0       True\n"
     ]
    }
   ],
   "source": [
    "# Example 6: Convert column 'IsStudent' from integer to boolean\n",
    "df['IsStudent'] = df['IsStudent'].astype(bool)\n",
    "print(\"\\nExample 6:\")\n",
    "print(\"DataFrame after converting 'IsStudent' column to boolean:\")\n",
    "print(df)"
   ]
  },
  {
   "cell_type": "code",
   "execution_count": 9,
   "metadata": {},
   "outputs": [
    {
     "name": "stdout",
     "output_type": "stream",
     "text": [
      "\n",
      "Example 7:\n",
      "DataFrame after converting 'Age' column to integer using pd.to_numeric():\n",
      "    Name  Age  Score  IsStudent\n",
      "0   John   25   95.0       True\n",
      "1  Alice   30   88.0      False\n",
      "2   Ella   22   75.0       True\n"
     ]
    }
   ],
   "source": [
    "# Example 7: Convert column 'Age' from string to integer using pd.to_numeric()\n",
    "df['Age'] = pd.to_numeric(df['Age'])\n",
    "print(\"\\nExample 7:\")\n",
    "print(\"DataFrame after converting 'Age' column to integer using pd.to_numeric():\")\n",
    "print(df)"
   ]
  },
  {
   "cell_type": "code",
   "execution_count": 10,
   "metadata": {},
   "outputs": [
    {
     "name": "stdout",
     "output_type": "stream",
     "text": [
      "\n",
      "Example 8:\n",
      "DataFrame after converting 'Score' column to string using astype():\n",
      "    Name  Age Score  IsStudent\n",
      "0   John   25  95.0       True\n",
      "1  Alice   30  88.0      False\n",
      "2   Ella   22  75.0       True\n"
     ]
    }
   ],
   "source": [
    "# Example 8: Convert column 'Score' from float to string using astype()\n",
    "df['Score'] = df['Score'].astype(str)\n",
    "print(\"\\nExample 8:\")\n",
    "print(\"DataFrame after converting 'Score' column to string using astype():\")\n",
    "print(df)"
   ]
  },
  {
   "cell_type": "code",
   "execution_count": 11,
   "metadata": {},
   "outputs": [
    {
     "name": "stdout",
     "output_type": "stream",
     "text": [
      "\n",
      "Example 9:\n",
      "DataFrame after converting 'IsStudent' column to string using astype():\n",
      "    Name  Age Score IsStudent\n",
      "0   John   25  95.0      True\n",
      "1  Alice   30  88.0     False\n",
      "2   Ella   22  75.0      True\n"
     ]
    }
   ],
   "source": [
    "# Example 9: Convert column 'IsStudent' from boolean to string using astype()\n",
    "df['IsStudent'] = df['IsStudent'].astype(str)\n",
    "print(\"\\nExample 9:\")\n",
    "print(\"DataFrame after converting 'IsStudent' column to string using astype():\")\n",
    "print(df)"
   ]
  },
  {
   "cell_type": "code",
   "execution_count": 12,
   "metadata": {},
   "outputs": [
    {
     "name": "stdout",
     "output_type": "stream",
     "text": [
      "\n",
      "Example 10:\n",
      "DataFrame after converting 'Age' column to integer using to_numeric() with errors='coerce':\n",
      "    Name  Age Score IsStudent\n",
      "0   John   25  95.0      True\n",
      "1  Alice   30  88.0     False\n",
      "2   Ella   22  75.0      True\n"
     ]
    }
   ],
   "source": [
    "# Example 10: Convert column 'Age' from string to integer using to_numeric() with errors='coerce'\n",
    "df['Age'] = pd.to_numeric(df['Age'], errors='coerce')\n",
    "print(\"\\nExample 10:\")\n",
    "print(\"DataFrame after converting 'Age' column to integer using to_numeric() with errors='coerce':\")\n",
    "print(df)"
   ]
  },
  {
   "cell_type": "code",
   "execution_count": 13,
   "metadata": {},
   "outputs": [
    {
     "name": "stdout",
     "output_type": "stream",
     "text": [
      "\n",
      "Example 11:\n",
      "DataFrame after converting 'Score' column to float using to_numeric() with errors='coerce':\n",
      "    Name  Age  Score IsStudent\n",
      "0   John   25   95.0      True\n",
      "1  Alice   30   88.0     False\n",
      "2   Ella   22   75.0      True\n"
     ]
    }
   ],
   "source": [
    "# Example 11: Convert column 'Score' from string to float using to_numeric() with errors='coerce'\n",
    "df['Score'] = pd.to_numeric(df['Score'], errors='coerce')\n",
    "print(\"\\nExample 11:\")\n",
    "print(\"DataFrame after converting 'Score' column to float using to_numeric() with errors='coerce':\")\n",
    "print(df)"
   ]
  },
  {
   "cell_type": "code",
   "execution_count": 14,
   "metadata": {},
   "outputs": [
    {
     "name": "stdout",
     "output_type": "stream",
     "text": [
      "\n",
      "Example 12:\n",
      "DataFrame after converting 'IsStudent' column to boolean using map():\n",
      "    Name  Age  Score  IsStudent\n",
      "0   John   25   95.0       True\n",
      "1  Alice   30   88.0      False\n",
      "2   Ella   22   75.0       True\n"
     ]
    }
   ],
   "source": [
    "# Example 12: Convert column 'IsStudent' from string to boolean using map()\n",
    "bool_map = {'True': True, 'False': False}\n",
    "df['IsStudent'] = df['IsStudent'].map(bool_map)\n",
    "print(\"\\nExample 12:\")\n",
    "print(\"DataFrame after converting 'IsStudent' column to boolean using map():\")\n",
    "print(df)"
   ]
  },
  {
   "cell_type": "code",
   "execution_count": 15,
   "metadata": {},
   "outputs": [
    {
     "name": "stdout",
     "output_type": "stream",
     "text": [
      "\n",
      "Example 13:\n",
      "DataFrame after converting 'Age' column to string using apply():\n",
      "    Name Age  Score  IsStudent\n",
      "0   John  25   95.0       True\n",
      "1  Alice  30   88.0      False\n",
      "2   Ella  22   75.0       True\n"
     ]
    }
   ],
   "source": [
    "# Example 13: Convert column 'Age' from integer to string using apply()\n",
    "df['Age'] = df['Age'].apply(str)\n",
    "print(\"\\nExample 13:\")\n",
    "print(\"DataFrame after converting 'Age' column to string using apply():\")\n",
    "print(df)"
   ]
  },
  {
   "cell_type": "code",
   "execution_count": 16,
   "metadata": {},
   "outputs": [
    {
     "name": "stdout",
     "output_type": "stream",
     "text": [
      "\n",
      "Example 14:\n",
      "DataFrame after converting 'Score' column to integer using apply():\n",
      "    Name Age  Score  IsStudent\n",
      "0   John  25     95       True\n",
      "1  Alice  30     88      False\n",
      "2   Ella  22     75       True\n"
     ]
    }
   ],
   "source": [
    "# Example 14: Convert column 'Score' from float to integer using apply()\n",
    "df['Score'] = df['Score'].apply(int)\n",
    "print(\"\\nExample 14:\")\n",
    "print(\"DataFrame after converting 'Score' column to integer using apply():\")\n",
    "print(df)"
   ]
  },
  {
   "cell_type": "code",
   "execution_count": 17,
   "metadata": {},
   "outputs": [
    {
     "name": "stdout",
     "output_type": "stream",
     "text": [
      "\n",
      "Example 15:\n",
      "DataFrame after converting 'IsStudent' column to integer (1 and 0) using apply():\n",
      "    Name Age  Score  IsStudent\n",
      "0   John  25     95          1\n",
      "1  Alice  30     88          0\n",
      "2   Ella  22     75          1\n"
     ]
    }
   ],
   "source": [
    "# Example 15: Convert column 'IsStudent' from boolean to integer (1 and 0) using apply()\n",
    "df['IsStudent'] = df['IsStudent'].apply(lambda x: 1 if x else 0)\n",
    "print(\"\\nExample 15:\")\n",
    "print(\"DataFrame after converting 'IsStudent' column to integer (1 and 0) using apply():\")\n",
    "print(df)"
   ]
  },
  {
   "cell_type": "code",
   "execution_count": 18,
   "metadata": {},
   "outputs": [
    {
     "name": "stdout",
     "output_type": "stream",
     "text": [
      "\n",
      "Example 16:\n",
      "DataFrame after converting 'Age' column to integer using to_numeric() with errors='ignore':\n",
      "    Name  Age  Score  IsStudent\n",
      "0   John   25     95          1\n",
      "1  Alice   30     88          0\n",
      "2   Ella   22     75          1\n"
     ]
    }
   ],
   "source": [
    "# Example 16: Convert column 'Age' from string to integer using to_numeric() with errors='ignore'\n",
    "df['Age'] = pd.to_numeric(df['Age'], errors='ignore')\n",
    "print(\"\\nExample 16:\")\n",
    "print(\"DataFrame after converting 'Age' column to integer using to_numeric() with errors='ignore':\")\n",
    "print(df)"
   ]
  },
  {
   "cell_type": "code",
   "execution_count": 19,
   "metadata": {},
   "outputs": [
    {
     "name": "stdout",
     "output_type": "stream",
     "text": [
      "\n",
      "Example 17:\n",
      "DataFrame after converting 'Score' column to string with precision using astype() and str.slice():\n",
      "    Name  Age Score  IsStudent\n",
      "0   John   25    95          1\n",
      "1  Alice   30    88          0\n",
      "2   Ella   22    75          1\n"
     ]
    }
   ],
   "source": [
    "# Example 17: Convert column 'Score' from float to string using astype() with precision\n",
    "df['Score'] = df['Score'].astype(str).str.slice(0, 4)\n",
    "print(\"\\nExample 17:\")\n",
    "print(\"DataFrame after converting 'Score' column to string with precision using astype() and str.slice():\")\n",
    "print(df)"
   ]
  },
  {
   "cell_type": "code",
   "execution_count": 20,
   "metadata": {},
   "outputs": [
    {
     "name": "stdout",
     "output_type": "stream",
     "text": [
      "\n",
      "Example 18:\n",
      "DataFrame after converting 'IsStudent' column to string using map() with custom mapping:\n",
      "    Name  Age Score IsStudent\n",
      "0   John   25    95       NaN\n",
      "1  Alice   30    88       NaN\n",
      "2   Ella   22    75       NaN\n"
     ]
    }
   ],
   "source": [
    "# Example 18: Convert column 'IsStudent' from boolean to string using map() with custom mapping\n",
    "bool_map_custom = {True: 'Yes', False: 'No'}\n",
    "df['IsStudent'] = df['IsStudent'].map(bool_map_custom)\n",
    "print(\"\\nExample 18:\")\n",
    "print(\"DataFrame after converting 'IsStudent' column to string using map() with custom mapping:\")\n",
    "print(df)"
   ]
  },
  {
   "cell_type": "code",
   "execution_count": 21,
   "metadata": {},
   "outputs": [
    {
     "name": "stdout",
     "output_type": "stream",
     "text": [
      "\n",
      "Example 19:\n",
      "DataFrame after converting 'Age' column to string with leading zeros using apply():\n",
      "    Name Age Score IsStudent\n",
      "0   John  25    95       NaN\n",
      "1  Alice  30    88       NaN\n",
      "2   Ella  22    75       NaN\n"
     ]
    }
   ],
   "source": [
    "# Example 19: Convert column 'Age' from integer to string using apply() with leading zeros\n",
    "df['Age'] = df['Age'].apply(lambda x: f'{x:02}')\n",
    "print(\"\\nExample 19:\")\n",
    "print(\"DataFrame after converting 'Age' column to string with leading zeros using apply():\")\n",
    "print(df)"
   ]
  },
  {
   "cell_type": "code",
   "execution_count": 22,
   "metadata": {},
   "outputs": [
    {
     "name": "stdout",
     "output_type": "stream",
     "text": [
      "\n",
      "Example 20:\n",
      "DataFrame after converting 'Score' column to integer using astype() and round():\n",
      "    Name Age  Score IsStudent\n",
      "0   John  25     95       NaN\n",
      "1  Alice  30     88       NaN\n",
      "2   Ella  22     75       NaN\n"
     ]
    }
   ],
   "source": [
    "# Example 20: Convert column 'Score' from float to integer using astype() and round()\n",
    "df['Score'] = df['Score'].astype(int)\n",
    "print(\"\\nExample 20:\")\n",
    "print(\"DataFrame after converting 'Score' column to integer using astype() and round():\")\n",
    "print(df)"
   ]
  },
  {
   "cell_type": "code",
   "execution_count": 23,
   "metadata": {},
   "outputs": [
    {
     "name": "stdout",
     "output_type": "stream",
     "text": [
      "\n",
      "Example 21:\n",
      "DataFrame after converting 'IsStudent' column to boolean using map() with custom mapping:\n",
      "    Name Age  Score IsStudent\n",
      "0   John  25     95       NaN\n",
      "1  Alice  30     88       NaN\n",
      "2   Ella  22     75       NaN\n"
     ]
    }
   ],
   "source": [
    "# Example 21: Convert column 'IsStudent' from string to boolean using map() with custom mapping\n",
    "bool_map_custom_rev = {v: k for k, v in bool_map_custom.items()}\n",
    "df['IsStudent'] = df['IsStudent'].map(bool_map_custom_rev)\n",
    "print(\"\\nExample 21:\")\n",
    "print(\"DataFrame after converting 'IsStudent' column to boolean using map() with custom mapping:\")\n",
    "print(df)"
   ]
  },
  {
   "cell_type": "code",
   "execution_count": 24,
   "metadata": {},
   "outputs": [
    {
     "name": "stdout",
     "output_type": "stream",
     "text": [
      "\n",
      "Example 22:\n",
      "DataFrame after converting 'Age' column to integer using to_numeric() with downcast:\n",
      "    Name  Age  Score IsStudent\n",
      "0   John   25     95       NaN\n",
      "1  Alice   30     88       NaN\n",
      "2   Ella   22     75       NaN\n"
     ]
    }
   ],
   "source": [
    "# Example 22: Convert column 'Age' from string to integer using to_numeric() with downcast\n",
    "df['Age'] = pd.to_numeric(df['Age'], downcast='integer', errors='coerce')\n",
    "print(\"\\nExample 22:\")\n",
    "print(\"DataFrame after converting 'Age' column to integer using to_numeric() with downcast:\")\n",
    "print(df)"
   ]
  },
  {
   "cell_type": "code",
   "execution_count": 25,
   "metadata": {},
   "outputs": [
    {
     "name": "stdout",
     "output_type": "stream",
     "text": [
      "\n",
      "Example 23:\n",
      "DataFrame after converting 'Score' column to float with decimal precision using astype() and round():\n",
      "    Name  Age  Score IsStudent\n",
      "0   John   25   95.0       NaN\n",
      "1  Alice   30   88.0       NaN\n",
      "2   Ella   22   75.0       NaN\n"
     ]
    }
   ],
   "source": [
    "# Example 23: Convert column 'Score' from integer to float using astype() with decimal precision\n",
    "df['Score'] = df['Score'].astype(float).round(1)\n",
    "print(\"\\nExample 23:\")\n",
    "print(\"DataFrame after converting 'Score' column to float with decimal precision using astype() and round():\")\n",
    "print(df)"
   ]
  },
  {
   "cell_type": "code",
   "execution_count": 26,
   "metadata": {},
   "outputs": [
    {
     "name": "stdout",
     "output_type": "stream",
     "text": [
      "\n",
      "Example 24:\n",
      "DataFrame after converting 'IsStudent' column to integer (1 and 0) using to_numeric() with downcast:\n",
      "    Name  Age  Score  IsStudent\n",
      "0   John   25   95.0        NaN\n",
      "1  Alice   30   88.0        NaN\n",
      "2   Ella   22   75.0        NaN\n"
     ]
    }
   ],
   "source": [
    "# Example 24: Convert column 'IsStudent' from boolean to integer (1 and 0) using to_numeric() with downcast\n",
    "df['IsStudent'] = pd.to_numeric(df['IsStudent'], downcast='integer', errors='coerce')\n",
    "print(\"\\nExample 24:\")\n",
    "print(\"DataFrame after converting 'IsStudent' column to integer (1 and 0) using to_numeric() with downcast:\")\n",
    "print(df)"
   ]
  },
  {
   "cell_type": "code",
   "execution_count": 27,
   "metadata": {},
   "outputs": [
    {
     "name": "stdout",
     "output_type": "stream",
     "text": [
      "\n",
      "Example 25:\n",
      "DataFrame after converting 'Age' column to integer using apply() with custom function:\n",
      "    Name  Age  Score  IsStudent\n",
      "0   John   35   95.0        NaN\n",
      "1  Alice   40   88.0        NaN\n",
      "2   Ella   32   75.0        NaN\n"
     ]
    }
   ],
   "source": [
    "# Example 25: Convert column 'Age' from string to integer using apply() with custom function\n",
    "def add_ten(x):\n",
    "    return int(x) + 10\n",
    "\n",
    "df['Age'] = df['Age'].apply(add_ten)\n",
    "print(\"\\nExample 25:\")\n",
    "print(\"DataFrame after converting 'Age' column to integer using apply() with custom function:\")\n",
    "print(df)"
   ]
  },
  {
   "cell_type": "code",
   "execution_count": 28,
   "metadata": {},
   "outputs": [
    {
     "name": "stdout",
     "output_type": "stream",
     "text": [
      "\n",
      "Example 26:\n",
      "DataFrame after converting 'Score' column to string with leading space using astype() and apply():\n",
      "    Name  Age  Score  IsStudent\n",
      "0   John   35   95.0        NaN\n",
      "1  Alice   40   88.0        NaN\n",
      "2   Ella   32   75.0        NaN\n"
     ]
    }
   ],
   "source": [
    "# Example 26: Convert column 'Score' from integer to string using astype() with leading space\n",
    "df['Score'] = df['Score'].astype(str).apply(lambda x: ' ' + x)\n",
    "print(\"\\nExample 26:\")\n",
    "print(\"DataFrame after converting 'Score' column to string with leading space using astype() and apply():\")\n",
    "print(df)"
   ]
  },
  {
   "cell_type": "code",
   "execution_count": 29,
   "metadata": {},
   "outputs": [
    {
     "name": "stdout",
     "output_type": "stream",
     "text": [
      "\n",
      "Example 27:\n",
      "DataFrame after converting 'IsStudent' column to string using map() with custom function:\n",
      "    Name  Age  Score IsStudent\n",
      "0   John   35   95.0       Yes\n",
      "1  Alice   40   88.0       Yes\n",
      "2   Ella   32   75.0       Yes\n"
     ]
    }
   ],
   "source": [
    "# Example 27: Convert column 'IsStudent' from boolean to string using map() with custom function\n",
    "def bool_to_str(x):\n",
    "    return 'Yes' if x else 'No'\n",
    "\n",
    "df['IsStudent'] = df['IsStudent'].map(bool_to_str)\n",
    "print(\"\\nExample 27:\")\n",
    "print(\"DataFrame after converting 'IsStudent' column to string using map() with custom function:\")\n",
    "print(df)"
   ]
  },
  {
   "cell_type": "code",
   "execution_count": 30,
   "metadata": {},
   "outputs": [
    {
     "name": "stdout",
     "output_type": "stream",
     "text": [
      "\n",
      "Example 28:\n",
      "DataFrame after converting 'Age' column to integer using to_numeric() with downcast and errors='ignore':\n",
      "    Name  Age  Score IsStudent\n",
      "0   John   35   95.0       Yes\n",
      "1  Alice   40   88.0       Yes\n",
      "2   Ella   32   75.0       Yes\n"
     ]
    }
   ],
   "source": [
    "# Example 28: Convert column 'Age' from string to integer using to_numeric() with downcast and errors='ignore'\n",
    "df['Age'] = pd.to_numeric(df['Age'], downcast='integer', errors='ignore')\n",
    "print(\"\\nExample 28:\")\n",
    "print(\"DataFrame after converting 'Age' column to integer using to_numeric() with downcast and errors='ignore':\")\n",
    "print(df)"
   ]
  },
  {
   "cell_type": "code",
   "execution_count": 31,
   "metadata": {},
   "outputs": [
    {
     "ename": "ValueError",
     "evalue": "invalid literal for int() with base 10: ' 95.0'",
     "output_type": "error",
     "traceback": [
      "\u001b[1;31m---------------------------------------------------------------------------\u001b[0m",
      "\u001b[1;31mValueError\u001b[0m                                Traceback (most recent call last)",
      "Cell \u001b[1;32mIn[31], line 2\u001b[0m\n\u001b[0;32m      1\u001b[0m \u001b[39m# Example 29: Convert column 'Score' from float to integer using astype() with truncation\u001b[39;00m\n\u001b[1;32m----> 2\u001b[0m df[\u001b[39m'\u001b[39m\u001b[39mScore\u001b[39m\u001b[39m'\u001b[39m] \u001b[39m=\u001b[39m df[\u001b[39m'\u001b[39;49m\u001b[39mScore\u001b[39;49m\u001b[39m'\u001b[39;49m]\u001b[39m.\u001b[39;49mastype(\u001b[39mint\u001b[39;49m)\u001b[39m.\u001b[39mapply(\u001b[39mlambda\u001b[39;00m x: \u001b[39mint\u001b[39m(\u001b[39mstr\u001b[39m(x)[:\u001b[39m2\u001b[39m]))\n\u001b[0;32m      3\u001b[0m \u001b[39mprint\u001b[39m(\u001b[39m\"\u001b[39m\u001b[39m\\n\u001b[39;00m\u001b[39mExample 29:\u001b[39m\u001b[39m\"\u001b[39m)\n\u001b[0;32m      4\u001b[0m \u001b[39mprint\u001b[39m(\u001b[39m\"\u001b[39m\u001b[39mDataFrame after converting \u001b[39m\u001b[39m'\u001b[39m\u001b[39mScore\u001b[39m\u001b[39m'\u001b[39m\u001b[39m column to integer with truncation using astype() and apply():\u001b[39m\u001b[39m\"\u001b[39m)\n",
      "File \u001b[1;32mc:\\Program Files\\Python311\\Lib\\site-packages\\pandas\\core\\generic.py:6240\u001b[0m, in \u001b[0;36mNDFrame.astype\u001b[1;34m(self, dtype, copy, errors)\u001b[0m\n\u001b[0;32m   6233\u001b[0m     results \u001b[39m=\u001b[39m [\n\u001b[0;32m   6234\u001b[0m         \u001b[39mself\u001b[39m\u001b[39m.\u001b[39miloc[:, i]\u001b[39m.\u001b[39mastype(dtype, copy\u001b[39m=\u001b[39mcopy)\n\u001b[0;32m   6235\u001b[0m         \u001b[39mfor\u001b[39;00m i \u001b[39min\u001b[39;00m \u001b[39mrange\u001b[39m(\u001b[39mlen\u001b[39m(\u001b[39mself\u001b[39m\u001b[39m.\u001b[39mcolumns))\n\u001b[0;32m   6236\u001b[0m     ]\n\u001b[0;32m   6238\u001b[0m \u001b[39melse\u001b[39;00m:\n\u001b[0;32m   6239\u001b[0m     \u001b[39m# else, only a single dtype is given\u001b[39;00m\n\u001b[1;32m-> 6240\u001b[0m     new_data \u001b[39m=\u001b[39m \u001b[39mself\u001b[39;49m\u001b[39m.\u001b[39;49m_mgr\u001b[39m.\u001b[39;49mastype(dtype\u001b[39m=\u001b[39;49mdtype, copy\u001b[39m=\u001b[39;49mcopy, errors\u001b[39m=\u001b[39;49merrors)\n\u001b[0;32m   6241\u001b[0m     \u001b[39mreturn\u001b[39;00m \u001b[39mself\u001b[39m\u001b[39m.\u001b[39m_constructor(new_data)\u001b[39m.\u001b[39m__finalize__(\u001b[39mself\u001b[39m, method\u001b[39m=\u001b[39m\u001b[39m\"\u001b[39m\u001b[39mastype\u001b[39m\u001b[39m\"\u001b[39m)\n\u001b[0;32m   6243\u001b[0m \u001b[39m# GH 33113: handle empty frame or series\u001b[39;00m\n",
      "File \u001b[1;32mc:\\Program Files\\Python311\\Lib\\site-packages\\pandas\\core\\internals\\managers.py:448\u001b[0m, in \u001b[0;36mBaseBlockManager.astype\u001b[1;34m(self, dtype, copy, errors)\u001b[0m\n\u001b[0;32m    447\u001b[0m \u001b[39mdef\u001b[39;00m \u001b[39mastype\u001b[39m(\u001b[39mself\u001b[39m: T, dtype, copy: \u001b[39mbool\u001b[39m \u001b[39m=\u001b[39m \u001b[39mFalse\u001b[39;00m, errors: \u001b[39mstr\u001b[39m \u001b[39m=\u001b[39m \u001b[39m\"\u001b[39m\u001b[39mraise\u001b[39m\u001b[39m\"\u001b[39m) \u001b[39m-\u001b[39m\u001b[39m>\u001b[39m T:\n\u001b[1;32m--> 448\u001b[0m     \u001b[39mreturn\u001b[39;00m \u001b[39mself\u001b[39;49m\u001b[39m.\u001b[39;49mapply(\u001b[39m\"\u001b[39;49m\u001b[39mastype\u001b[39;49m\u001b[39m\"\u001b[39;49m, dtype\u001b[39m=\u001b[39;49mdtype, copy\u001b[39m=\u001b[39;49mcopy, errors\u001b[39m=\u001b[39;49merrors)\n",
      "File \u001b[1;32mc:\\Program Files\\Python311\\Lib\\site-packages\\pandas\\core\\internals\\managers.py:352\u001b[0m, in \u001b[0;36mBaseBlockManager.apply\u001b[1;34m(self, f, align_keys, ignore_failures, **kwargs)\u001b[0m\n\u001b[0;32m    350\u001b[0m         applied \u001b[39m=\u001b[39m b\u001b[39m.\u001b[39mapply(f, \u001b[39m*\u001b[39m\u001b[39m*\u001b[39mkwargs)\n\u001b[0;32m    351\u001b[0m     \u001b[39melse\u001b[39;00m:\n\u001b[1;32m--> 352\u001b[0m         applied \u001b[39m=\u001b[39m \u001b[39mgetattr\u001b[39;49m(b, f)(\u001b[39m*\u001b[39;49m\u001b[39m*\u001b[39;49mkwargs)\n\u001b[0;32m    353\u001b[0m \u001b[39mexcept\u001b[39;00m (\u001b[39mTypeError\u001b[39;00m, \u001b[39mNotImplementedError\u001b[39;00m):\n\u001b[0;32m    354\u001b[0m     \u001b[39mif\u001b[39;00m \u001b[39mnot\u001b[39;00m ignore_failures:\n",
      "File \u001b[1;32mc:\\Program Files\\Python311\\Lib\\site-packages\\pandas\\core\\internals\\blocks.py:526\u001b[0m, in \u001b[0;36mBlock.astype\u001b[1;34m(self, dtype, copy, errors)\u001b[0m\n\u001b[0;32m    508\u001b[0m \u001b[39m\u001b[39m\u001b[39m\"\"\"\u001b[39;00m\n\u001b[0;32m    509\u001b[0m \u001b[39mCoerce to the new dtype.\u001b[39;00m\n\u001b[0;32m    510\u001b[0m \n\u001b[1;32m   (...)\u001b[0m\n\u001b[0;32m    522\u001b[0m \u001b[39mBlock\u001b[39;00m\n\u001b[0;32m    523\u001b[0m \u001b[39m\"\"\"\u001b[39;00m\n\u001b[0;32m    524\u001b[0m values \u001b[39m=\u001b[39m \u001b[39mself\u001b[39m\u001b[39m.\u001b[39mvalues\n\u001b[1;32m--> 526\u001b[0m new_values \u001b[39m=\u001b[39m astype_array_safe(values, dtype, copy\u001b[39m=\u001b[39;49mcopy, errors\u001b[39m=\u001b[39;49merrors)\n\u001b[0;32m    528\u001b[0m new_values \u001b[39m=\u001b[39m maybe_coerce_values(new_values)\n\u001b[0;32m    529\u001b[0m newb \u001b[39m=\u001b[39m \u001b[39mself\u001b[39m\u001b[39m.\u001b[39mmake_block(new_values)\n",
      "File \u001b[1;32mc:\\Program Files\\Python311\\Lib\\site-packages\\pandas\\core\\dtypes\\astype.py:299\u001b[0m, in \u001b[0;36mastype_array_safe\u001b[1;34m(values, dtype, copy, errors)\u001b[0m\n\u001b[0;32m    296\u001b[0m     \u001b[39mreturn\u001b[39;00m values\u001b[39m.\u001b[39mcopy()\n\u001b[0;32m    298\u001b[0m \u001b[39mtry\u001b[39;00m:\n\u001b[1;32m--> 299\u001b[0m     new_values \u001b[39m=\u001b[39m astype_array(values, dtype, copy\u001b[39m=\u001b[39;49mcopy)\n\u001b[0;32m    300\u001b[0m \u001b[39mexcept\u001b[39;00m (\u001b[39mValueError\u001b[39;00m, \u001b[39mTypeError\u001b[39;00m):\n\u001b[0;32m    301\u001b[0m     \u001b[39m# e.g. astype_nansafe can fail on object-dtype of strings\u001b[39;00m\n\u001b[0;32m    302\u001b[0m     \u001b[39m#  trying to convert to float\u001b[39;00m\n\u001b[0;32m    303\u001b[0m     \u001b[39mif\u001b[39;00m errors \u001b[39m==\u001b[39m \u001b[39m\"\u001b[39m\u001b[39mignore\u001b[39m\u001b[39m\"\u001b[39m:\n",
      "File \u001b[1;32mc:\\Program Files\\Python311\\Lib\\site-packages\\pandas\\core\\dtypes\\astype.py:230\u001b[0m, in \u001b[0;36mastype_array\u001b[1;34m(values, dtype, copy)\u001b[0m\n\u001b[0;32m    227\u001b[0m     values \u001b[39m=\u001b[39m values\u001b[39m.\u001b[39mastype(dtype, copy\u001b[39m=\u001b[39mcopy)\n\u001b[0;32m    229\u001b[0m \u001b[39melse\u001b[39;00m:\n\u001b[1;32m--> 230\u001b[0m     values \u001b[39m=\u001b[39m astype_nansafe(values, dtype, copy\u001b[39m=\u001b[39;49mcopy)\n\u001b[0;32m    232\u001b[0m \u001b[39m# in pandas we don't store numpy str dtypes, so convert to object\u001b[39;00m\n\u001b[0;32m    233\u001b[0m \u001b[39mif\u001b[39;00m \u001b[39misinstance\u001b[39m(dtype, np\u001b[39m.\u001b[39mdtype) \u001b[39mand\u001b[39;00m \u001b[39missubclass\u001b[39m(values\u001b[39m.\u001b[39mdtype\u001b[39m.\u001b[39mtype, \u001b[39mstr\u001b[39m):\n",
      "File \u001b[1;32mc:\\Program Files\\Python311\\Lib\\site-packages\\pandas\\core\\dtypes\\astype.py:170\u001b[0m, in \u001b[0;36mastype_nansafe\u001b[1;34m(arr, dtype, copy, skipna)\u001b[0m\n\u001b[0;32m    166\u001b[0m     \u001b[39mraise\u001b[39;00m \u001b[39mValueError\u001b[39;00m(msg)\n\u001b[0;32m    168\u001b[0m \u001b[39mif\u001b[39;00m copy \u001b[39mor\u001b[39;00m is_object_dtype(arr\u001b[39m.\u001b[39mdtype) \u001b[39mor\u001b[39;00m is_object_dtype(dtype):\n\u001b[0;32m    169\u001b[0m     \u001b[39m# Explicit copy, or required since NumPy can't view from / to object.\u001b[39;00m\n\u001b[1;32m--> 170\u001b[0m     \u001b[39mreturn\u001b[39;00m arr\u001b[39m.\u001b[39;49mastype(dtype, copy\u001b[39m=\u001b[39;49m\u001b[39mTrue\u001b[39;49;00m)\n\u001b[0;32m    172\u001b[0m \u001b[39mreturn\u001b[39;00m arr\u001b[39m.\u001b[39mastype(dtype, copy\u001b[39m=\u001b[39mcopy)\n",
      "\u001b[1;31mValueError\u001b[0m: invalid literal for int() with base 10: ' 95.0'"
     ]
    }
   ],
   "source": [
    "# Example 29: Convert column 'Score' from float to integer using astype() with truncation\n",
    "df['Score'] = df['Score'].astype(int).apply(lambda x: int(str(x)[:2]))\n",
    "print(\"\\nExample 29:\")\n",
    "print(\"DataFrame after converting 'Score' column to integer with truncation using astype() and apply():\")\n",
    "print(df)\n"
   ]
  },
  {
   "cell_type": "code",
   "execution_count": 32,
   "metadata": {},
   "outputs": [
    {
     "name": "stdout",
     "output_type": "stream",
     "text": [
      "\n",
      "Example 30:\n",
      "DataFrame after converting 'IsStudent' column to boolean using map() with custom function:\n",
      "    Name  Age  Score  IsStudent\n",
      "0   John   35   95.0       True\n",
      "1  Alice   40   88.0       True\n",
      "2   Ella   32   75.0       True\n"
     ]
    }
   ],
   "source": [
    "# Example 30: Convert column 'IsStudent' from string to boolean using map() with custom function\n",
    "def str_to_bool(x):\n",
    "    return True if x == 'Yes' else False\n",
    "\n",
    "df['IsStudent'] = df['IsStudent'].map(str_to_bool)\n",
    "print(\"\\nExample 30:\")\n",
    "print(\"DataFrame after converting 'IsStudent' column to boolean using map() with custom function:\")\n",
    "print(df)"
   ]
  }
 ],
 "metadata": {
  "kernelspec": {
   "display_name": "Python 3",
   "language": "python",
   "name": "python3"
  },
  "language_info": {
   "codemirror_mode": {
    "name": "ipython",
    "version": 3
   },
   "file_extension": ".py",
   "mimetype": "text/x-python",
   "name": "python",
   "nbconvert_exporter": "python",
   "pygments_lexer": "ipython3",
   "version": "3.11.2"
  },
  "orig_nbformat": 4
 },
 "nbformat": 4,
 "nbformat_minor": 2
}
