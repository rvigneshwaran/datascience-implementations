{
 "cells": [
  {
   "cell_type": "code",
   "execution_count": 1,
   "metadata": {},
   "outputs": [],
   "source": [
    "import pandas as pd\n",
    "import numpy as np"
   ]
  },
  {
   "cell_type": "code",
   "execution_count": 2,
   "metadata": {},
   "outputs": [],
   "source": [
    "# Generate sample time series data\n",
    "np.random.seed(0)\n",
    "date_range = pd.date_range(start='2023-01-01', periods=365, freq='D')\n",
    "data = np.random.randint(0, 100, size=(365,))\n",
    "ts = pd.Series(data, index=date_range)"
   ]
  },
  {
   "cell_type": "code",
   "execution_count": 3,
   "metadata": {},
   "outputs": [
    {
     "name": "stdout",
     "output_type": "stream",
     "text": [
      "Example 1:\n",
      "Resampled time series to monthly frequency with mean:\n",
      "2023-01-31    56.838710\n",
      "2023-02-28    40.928571\n",
      "2023-03-31    45.064516\n",
      "2023-04-30    53.633333\n",
      "2023-05-31    46.870968\n",
      "2023-06-30    45.733333\n",
      "2023-07-31    48.645161\n",
      "2023-08-31    50.838710\n",
      "2023-09-30    43.400000\n",
      "2023-10-31    43.548387\n",
      "2023-11-30    57.866667\n",
      "2023-12-31    54.483871\n",
      "Freq: M, dtype: float64\n"
     ]
    }
   ],
   "source": [
    "# Example 1: Resample to monthly frequency and calculate the mean\n",
    "monthly_mean = ts.resample('M').mean()\n",
    "print(\"Example 1:\")\n",
    "print(\"Resampled time series to monthly frequency with mean:\")\n",
    "print(monthly_mean)"
   ]
  },
  {
   "cell_type": "code",
   "execution_count": 4,
   "metadata": {},
   "outputs": [
    {
     "name": "stdout",
     "output_type": "stream",
     "text": [
      "\n",
      "Example 2:\n",
      "Resampled time series to quarterly frequency with sum:\n",
      "2023-03-31    4305\n",
      "2023-06-30    4434\n",
      "2023-09-30    4386\n",
      "2023-12-31    4775\n",
      "Freq: Q-DEC, dtype: int32\n"
     ]
    }
   ],
   "source": [
    "# Example 2: Resample to quarterly frequency and calculate the sum\n",
    "quarterly_sum = ts.resample('Q').sum()\n",
    "print(\"\\nExample 2:\")\n",
    "print(\"Resampled time series to quarterly frequency with sum:\")\n",
    "print(quarterly_sum)"
   ]
  },
  {
   "cell_type": "code",
   "execution_count": 5,
   "metadata": {},
   "outputs": [
    {
     "name": "stdout",
     "output_type": "stream",
     "text": [
      "\n",
      "Example 3:\n",
      "Resampled time series to annual frequency with maximum:\n",
      "2023-12-31    99\n",
      "Freq: A-DEC, dtype: int32\n"
     ]
    }
   ],
   "source": [
    "# Example 3: Resample to annual frequency and calculate the maximum\n",
    "annual_max = ts.resample('Y').max()\n",
    "print(\"\\nExample 3:\")\n",
    "print(\"Resampled time series to annual frequency with maximum:\")\n",
    "print(annual_max)"
   ]
  },
  {
   "cell_type": "code",
   "execution_count": 6,
   "metadata": {},
   "outputs": [
    {
     "name": "stdout",
     "output_type": "stream",
     "text": [
      "\n",
      "Example 4:\n",
      "Resampled time series to weekly frequency with minimum:\n",
      "2023-01-01    44\n",
      "2023-01-08     9\n",
      "2023-01-15    12\n",
      "2023-01-22    37\n",
      "2023-01-29     9\n",
      "2023-02-05    47\n",
      "2023-02-12    14\n",
      "2023-02-19     9\n",
      "2023-02-26     0\n",
      "2023-03-05     4\n",
      "2023-03-12     1\n",
      "2023-03-19     0\n",
      "2023-03-26     6\n",
      "2023-04-02     3\n",
      "2023-04-09    13\n",
      "2023-04-16    35\n",
      "2023-04-23     0\n",
      "2023-04-30     3\n",
      "2023-05-07     0\n",
      "2023-05-14    35\n",
      "2023-05-21    14\n",
      "2023-05-28    10\n",
      "2023-06-04     0\n",
      "2023-06-11    19\n",
      "2023-06-18     2\n",
      "2023-06-25    19\n",
      "2023-07-02     4\n",
      "2023-07-09    16\n",
      "2023-07-16    21\n",
      "2023-07-23    13\n",
      "2023-07-30    18\n",
      "2023-08-06     1\n",
      "2023-08-13     3\n",
      "2023-08-20    11\n",
      "2023-08-27     2\n",
      "2023-09-03    20\n",
      "2023-09-10     9\n",
      "2023-09-17     3\n",
      "2023-09-24     9\n",
      "2023-10-01    33\n",
      "2023-10-08     0\n",
      "2023-10-15     1\n",
      "2023-10-22    25\n",
      "2023-10-29    17\n",
      "2023-11-05     2\n",
      "2023-11-12    17\n",
      "2023-11-19    18\n",
      "2023-11-26    21\n",
      "2023-12-03     0\n",
      "2023-12-10    16\n",
      "2023-12-17     8\n",
      "2023-12-24    13\n",
      "2023-12-31    25\n",
      "Freq: W-SUN, dtype: int32\n"
     ]
    }
   ],
   "source": [
    "# Example 4: Resample to weekly frequency and calculate the minimum\n",
    "weekly_min = ts.resample('W').min()\n",
    "print(\"\\nExample 4:\")\n",
    "print(\"Resampled time series to weekly frequency with minimum:\")\n",
    "print(weekly_min)"
   ]
  },
  {
   "cell_type": "code",
   "execution_count": 7,
   "metadata": {},
   "outputs": [
    {
     "name": "stdout",
     "output_type": "stream",
     "text": [
      "\n",
      "Example 5:\n",
      "Resampled time series to monthly frequency with median:\n",
      "2023-01-31    65.0\n",
      "2023-02-28    34.5\n",
      "2023-03-31    46.0\n",
      "2023-04-30    49.5\n",
      "2023-05-31    46.0\n",
      "2023-06-30    44.0\n",
      "2023-07-31    54.0\n",
      "2023-08-31    51.0\n",
      "2023-09-30    40.0\n",
      "2023-10-31    36.0\n",
      "2023-11-30    62.0\n",
      "2023-12-31    58.0\n",
      "Freq: M, dtype: float64\n"
     ]
    }
   ],
   "source": [
    "# Example 5: Resample to monthly frequency and calculate the median\n",
    "monthly_median = ts.resample('M').median()\n",
    "print(\"\\nExample 5:\")\n",
    "print(\"Resampled time series to monthly frequency with median:\")\n",
    "print(monthly_median)"
   ]
  },
  {
   "cell_type": "code",
   "execution_count": 8,
   "metadata": {},
   "outputs": [
    {
     "name": "stdout",
     "output_type": "stream",
     "text": [
      "\n",
      "Example 6:\n",
      "Resampled time series to daily frequency with forward fill:\n",
      "2023-01-01    44\n",
      "2023-01-02    47\n",
      "2023-01-03    64\n",
      "2023-01-04    67\n",
      "2023-01-05    67\n",
      "              ..\n",
      "2023-12-27    92\n",
      "2023-12-28    36\n",
      "2023-12-29    25\n",
      "2023-12-30    32\n",
      "2023-12-31    42\n",
      "Freq: D, Length: 365, dtype: int32\n"
     ]
    }
   ],
   "source": [
    "# Example 6: Resample to daily frequency and forward fill missing values\n",
    "daily_ffill = ts.resample('D').ffill()\n",
    "print(\"\\nExample 6:\")\n",
    "print(\"Resampled time series to daily frequency with forward fill:\")\n",
    "print(daily_ffill)"
   ]
  },
  {
   "cell_type": "code",
   "execution_count": 9,
   "metadata": {},
   "outputs": [
    {
     "name": "stdout",
     "output_type": "stream",
     "text": [
      "\n",
      "Example 7:\n",
      "Resampled time series to monthly frequency with backward fill:\n",
      "2023-01-31    47\n",
      "2023-02-28     5\n",
      "2023-03-31    52\n",
      "2023-04-30    73\n",
      "2023-05-31    80\n",
      "2023-06-30     4\n",
      "2023-07-31    11\n",
      "2023-08-31    51\n",
      "2023-09-30    88\n",
      "2023-10-31    69\n",
      "2023-11-30    58\n",
      "2023-12-31    42\n",
      "Freq: M, dtype: int32\n"
     ]
    }
   ],
   "source": [
    "# Example 7: Resample to monthly frequency and backward fill missing values\n",
    "monthly_bfill = ts.resample('M').bfill()\n",
    "print(\"\\nExample 7:\")\n",
    "print(\"Resampled time series to monthly frequency with backward fill:\")\n",
    "print(monthly_bfill)"
   ]
  },
  {
   "cell_type": "code",
   "execution_count": 10,
   "metadata": {},
   "outputs": [
    {
     "name": "stdout",
     "output_type": "stream",
     "text": [
      "\n",
      "Example 8:\n",
      "Resampled time series to quarterly frequency with interpolation:\n",
      "2023-03-31    52\n",
      "2023-06-30     4\n",
      "2023-09-30    88\n",
      "2023-12-31    42\n",
      "Freq: Q-DEC, dtype: int32\n"
     ]
    }
   ],
   "source": [
    "# Example 8: Resample to quarterly frequency and interpolate missing values\n",
    "quarterly_interp = ts.resample('Q').interpolate()\n",
    "print(\"\\nExample 8:\")\n",
    "print(\"Resampled time series to quarterly frequency with interpolation:\")\n",
    "print(quarterly_interp)"
   ]
  },
  {
   "cell_type": "code",
   "execution_count": 11,
   "metadata": {},
   "outputs": [
    {
     "name": "stdout",
     "output_type": "stream",
     "text": [
      "\n",
      "Example 9:\n",
      "Resampled time series to weekly frequency with custom aggregation function:\n",
      "2023-01-01    44.000000\n",
      "2023-01-08    26.114710\n",
      "2023-01-15    35.381865\n",
      "2023-01-22    42.345566\n",
      "2023-01-29    21.801562\n",
      "2023-02-05    54.250035\n",
      "2023-02-12    14.955419\n",
      "2023-02-19    17.237812\n",
      "2023-02-26     7.330548\n",
      "2023-03-05     8.656644\n",
      "2023-03-12    20.940816\n",
      "2023-03-19    10.395781\n",
      "2023-03-26    20.429659\n",
      "2023-04-02    21.137248\n",
      "2023-04-09    21.288847\n",
      "2023-04-16    38.306671\n",
      "2023-04-23    20.026565\n",
      "2023-04-30    24.208346\n",
      "2023-05-07     4.268837\n",
      "2023-05-14    47.192077\n",
      "2023-05-21    17.856108\n",
      "2023-05-28    18.201007\n",
      "2023-06-04    10.112920\n",
      "2023-06-11    29.218982\n",
      "2023-06-18     1.208973\n",
      "2023-06-25    32.346665\n",
      "2023-07-02    12.722017\n",
      "2023-07-09    25.305691\n",
      "2023-07-16    28.129952\n",
      "2023-07-23    26.803421\n",
      "2023-07-30    25.347281\n",
      "2023-08-06    16.284598\n",
      "2023-08-13    23.239491\n",
      "2023-08-20    29.358815\n",
      "2023-08-27     9.091658\n",
      "2023-09-03    26.634321\n",
      "2023-09-10    21.493109\n",
      "2023-09-17     6.912030\n",
      "2023-09-24    15.351711\n",
      "2023-10-01    32.263426\n",
      "2023-10-08    11.857521\n",
      "2023-10-15    16.509497\n",
      "2023-10-22    27.776152\n",
      "2023-10-29    14.284314\n",
      "2023-11-05    20.519724\n",
      "2023-11-12    20.808276\n",
      "2023-11-19    32.414290\n",
      "2023-11-26    46.145161\n",
      "2023-12-03    26.821983\n",
      "2023-12-10    25.006494\n",
      "2023-12-17    21.764384\n",
      "2023-12-24    39.651031\n",
      "2023-12-31    29.117298\n",
      "Freq: W-SUN, dtype: float64\n"
     ]
    }
   ],
   "source": [
    "# Example 9: Resample to weekly frequency and use custom aggregation function\n",
    "def custom_agg(x):\n",
    "    return np.mean(x) - np.std(x)\n",
    "\n",
    "weekly_custom_agg = ts.resample('W').apply(custom_agg)\n",
    "print(\"\\nExample 9:\")\n",
    "print(\"Resampled time series to weekly frequency with custom aggregation function:\")\n",
    "print(weekly_custom_agg)"
   ]
  },
  {
   "cell_type": "code",
   "execution_count": 12,
   "metadata": {},
   "outputs": [
    {
     "name": "stdout",
     "output_type": "stream",
     "text": [
      "\n",
      "Example 10:\n",
      "Resampled time series to annual frequency with custom resampling rule (starting on January):\n",
      "2023-01-01    49.041096\n",
      "Freq: AS-JAN, dtype: float64\n"
     ]
    }
   ],
   "source": [
    "# Example 10: Resample to annual frequency and use custom resampling rule\n",
    "annual_custom_rule = ts.resample('AS-JAN').mean()\n",
    "print(\"\\nExample 10:\")\n",
    "print(\"Resampled time series to annual frequency with custom resampling rule (starting on January):\")\n",
    "print(annual_custom_rule)"
   ]
  },
  {
   "cell_type": "code",
   "execution_count": 13,
   "metadata": {},
   "outputs": [
    {
     "name": "stdout",
     "output_type": "stream",
     "text": [
      "\n",
      "Example 11:\n",
      "Resampled time series to monthly frequency with forward fill and limit to 3 periods:\n",
      "2023-01-31    47\n",
      "2023-02-28     5\n",
      "2023-03-31    52\n",
      "2023-04-30    73\n",
      "2023-05-31    80\n",
      "2023-06-30     4\n",
      "2023-07-31    11\n",
      "2023-08-31    51\n",
      "2023-09-30    88\n",
      "2023-10-31    69\n",
      "2023-11-30    58\n",
      "2023-12-31    42\n",
      "Freq: M, dtype: int32\n"
     ]
    }
   ],
   "source": [
    "# Example 11: Resample to monthly frequency and forward fill missing values, limit to 3 periods\n",
    "monthly_ffill_limited = ts.resample('M').ffill(limit=3)\n",
    "print(\"\\nExample 11:\")\n",
    "print(\"Resampled time series to monthly frequency with forward fill and limit to 3 periods:\")\n",
    "print(monthly_ffill_limited)"
   ]
  },
  {
   "cell_type": "code",
   "execution_count": 14,
   "metadata": {},
   "outputs": [
    {
     "name": "stdout",
     "output_type": "stream",
     "text": [
      "\n",
      "Example 12:\n",
      "Resampled time series to weekly frequency with interpolation and limit to 2 periods:\n",
      "2023-01-01    44\n",
      "2023-01-08    21\n",
      "2023-01-15    58\n",
      "2023-01-22    37\n",
      "2023-01-29    69\n",
      "2023-02-05    49\n",
      "2023-02-12    65\n",
      "2023-02-19    35\n",
      "2023-02-26    36\n",
      "2023-03-05    42\n",
      "2023-03-12    35\n",
      "2023-03-19    99\n",
      "2023-03-26     6\n",
      "2023-04-02    15\n",
      "2023-04-09    85\n",
      "2023-04-16    95\n",
      "2023-04-23    48\n",
      "2023-04-30    73\n",
      "2023-05-07     2\n",
      "2023-05-14    46\n",
      "2023-05-21    41\n",
      "2023-05-28    11\n",
      "2023-06-04    38\n",
      "2023-06-11    30\n",
      "2023-06-18    40\n",
      "2023-06-25    52\n",
      "2023-07-02    11\n",
      "2023-07-09    29\n",
      "2023-07-16    33\n",
      "2023-07-23    56\n",
      "2023-07-30    79\n",
      "2023-08-06    88\n",
      "2023-08-13    86\n",
      "2023-08-20    84\n",
      "2023-08-27    83\n",
      "2023-09-03    53\n",
      "2023-09-10    41\n",
      "2023-09-17    31\n",
      "2023-09-24    61\n",
      "2023-10-01    33\n",
      "2023-10-08    53\n",
      "2023-10-15    35\n",
      "2023-10-22    35\n",
      "2023-10-29    84\n",
      "2023-11-05    85\n",
      "2023-11-12    70\n",
      "2023-11-19    41\n",
      "2023-11-26    91\n",
      "2023-12-03    63\n",
      "2023-12-10    51\n",
      "2023-12-17    19\n",
      "2023-12-24    55\n",
      "2023-12-31    42\n",
      "Freq: W-SUN, dtype: int32\n"
     ]
    }
   ],
   "source": [
    "# Example 12: Resample to weekly frequency and interpolate missing values, limit to 2 periods\n",
    "weekly_interp_limited = ts.resample('W').interpolate(limit=2)\n",
    "print(\"\\nExample 12:\")\n",
    "print(\"Resampled time series to weekly frequency with interpolation and limit to 2 periods:\")\n",
    "print(weekly_interp_limited)"
   ]
  },
  {
   "cell_type": "code",
   "execution_count": 15,
   "metadata": {},
   "outputs": [
    {
     "name": "stdout",
     "output_type": "stream",
     "text": [
      "\n",
      "Example 13:\n",
      "Resampled time series to quarterly frequency with custom aggregation function, keeping original index:\n",
      "                 data  index\n",
      "2023-03-31  19.936201     44\n",
      "2023-06-30  18.970576     78\n",
      "2023-09-30  20.387546     67\n",
      "2023-12-31  23.814942     33\n"
     ]
    }
   ],
   "source": [
    "# Example 13: Resample to quarterly frequency and apply custom aggregation function, keeping original index\n",
    "quarterly_custom_agg_keep_index = ts.resample('Q').agg({'data': custom_agg, 'index': 'first'})\n",
    "print(\"\\nExample 13:\")\n",
    "print(\"Resampled time series to quarterly frequency with custom aggregation function, keeping original index:\")\n",
    "print(quarterly_custom_agg_keep_index)"
   ]
  },
  {
   "cell_type": "code",
   "execution_count": 16,
   "metadata": {},
   "outputs": [
    {
     "name": "stdout",
     "output_type": "stream",
     "text": [
      "\n",
      "Example 14:\n",
      "Resampled time series to annual frequency with minimum, keeping original timestamp:\n",
      "            data  index\n",
      "2023-12-31     0     44\n"
     ]
    }
   ],
   "source": [
    "# Example 14: Resample to annual frequency and calculate the minimum, keeping original timestamp\n",
    "annual_min_keep_timestamp = ts.resample('A').agg({'data': 'min', 'index': 'first'})\n",
    "print(\"\\nExample 14:\")\n",
    "print(\"Resampled time series to annual frequency with minimum, keeping original timestamp:\")\n",
    "print(annual_min_keep_timestamp)"
   ]
  },
  {
   "cell_type": "code",
   "execution_count": 17,
   "metadata": {},
   "outputs": [
    {
     "name": "stdout",
     "output_type": "stream",
     "text": [
      "\n",
      "Example 15:\n",
      "Resampled time series to daily frequency with custom resampling rule (starting on first business day), keeping original timestamp:\n",
      "                 data  index\n",
      "2022-12-01  44.000000     44\n",
      "2023-01-02  57.266667     47\n",
      "2023-02-01  40.928571     64\n",
      "2023-03-01  45.151515     38\n",
      "2023-04-03  54.142857     20\n",
      "2023-05-01  46.870968      0\n",
      "2023-06-01  45.312500     32\n",
      "2023-07-03  49.310345     86\n",
      "2023-08-01  50.838710     38\n",
      "2023-09-01  43.064516     46\n",
      "2023-10-02  43.900000      5\n",
      "2023-11-01  57.866667     12\n",
      "2023-12-01  54.483871      0\n"
     ]
    }
   ],
   "source": [
    "# Example 15: Resample to daily frequency and use custom resampling rule, keeping original timestamp\n",
    "daily_custom_rule_keep_timestamp = ts.resample('BMS').agg({'data': 'mean', 'index': 'first'})\n",
    "print(\"\\nExample 15:\")\n",
    "print(\"Resampled time series to daily frequency with custom resampling rule (starting on first business day), keeping original timestamp:\")\n",
    "print(daily_custom_rule_keep_timestamp)"
   ]
  },
  {
   "cell_type": "code",
   "execution_count": 18,
   "metadata": {},
   "outputs": [
    {
     "name": "stdout",
     "output_type": "stream",
     "text": [
      "\n",
      "Example 16:\n",
      "Resampled time series to monthly frequency with sum, keeping original timestamp and excluding weekends:\n",
      "            data  index\n",
      "2023-01-31  1762     44\n",
      "2023-02-28  1146     64\n",
      "2023-03-31  1397     38\n",
      "2023-04-28  1515     78\n",
      "2023-05-31  1547     21\n",
      "2023-06-30  1372     32\n",
      "2023-07-31  1508     67\n",
      "2023-08-31  1576     38\n",
      "2023-09-29  1214     46\n",
      "2023-10-31  1438     88\n",
      "2023-11-30  1736     12\n",
      "2023-12-29  1615      0\n",
      "2024-01-31    74     32\n"
     ]
    }
   ],
   "source": [
    "# Example 16: Resample to monthly frequency and calculate the sum, keeping original timestamp and excluding weekends\n",
    "monthly_sum_keep_timestamp_exclude_weekends = ts.resample('BM').agg({'data': 'sum', 'index': 'first'})\n",
    "print(\"\\nExample 16:\")\n",
    "print(\"Resampled time series to monthly frequency with sum, keeping original timestamp and excluding weekends:\")\n",
    "print(monthly_sum_keep_timestamp_exclude_weekends)"
   ]
  },
  {
   "cell_type": "code",
   "execution_count": 19,
   "metadata": {},
   "outputs": [
    {
     "name": "stdout",
     "output_type": "stream",
     "text": [
      "\n",
      "Example 17:\n",
      "Resampled time series to quarterly frequency with mean, filling missing values with 0:\n",
      "2023-03-31    47.833333\n",
      "2023-06-30    48.725275\n",
      "2023-09-30    47.673913\n",
      "2023-12-31    51.902174\n",
      "Freq: Q-DEC, dtype: float64\n"
     ]
    }
   ],
   "source": [
    "# Example 17: Resample to quarterly frequency and calculate the mean, filling missing values with 0\n",
    "quarterly_mean_fill_zero = ts.resample('Q').mean().fillna(0)\n",
    "print(\"\\nExample 17:\")\n",
    "print(\"Resampled time series to quarterly frequency with mean, filling missing values with 0:\")\n",
    "print(quarterly_mean_fill_zero)"
   ]
  },
  {
   "cell_type": "code",
   "execution_count": 20,
   "metadata": {},
   "outputs": [
    {
     "name": "stdout",
     "output_type": "stream",
     "text": [
      "\n",
      "Example 18:\n",
      "Resampled time series to weekly frequency with sum, filling missing values with forward fill:\n",
      "2023-01-01     44\n",
      "2023-01-08    358\n",
      "2023-01-15    439\n",
      "2023-01-22    443\n",
      "2023-01-29    352\n",
      "2023-02-05    508\n",
      "2023-02-12    217\n",
      "2023-02-19    261\n",
      "2023-02-26    228\n",
      "2023-03-05    238\n",
      "2023-03-12    288\n",
      "2023-03-19    343\n",
      "2023-03-26    340\n",
      "2023-04-02    339\n",
      "2023-04-09    377\n",
      "2023-04-16    401\n",
      "2023-04-23    331\n",
      "2023-04-30    407\n",
      "2023-05-07    195\n",
      "2023-05-14    484\n",
      "2023-05-21    332\n",
      "2023-05-28    309\n",
      "2023-06-04    257\n",
      "2023-06-11    330\n",
      "2023-06-18    274\n",
      "2023-06-25    402\n",
      "2023-07-02    320\n",
      "2023-07-09    363\n",
      "2023-07-16    363\n",
      "2023-07-23    358\n",
      "2023-07-30    335\n",
      "2023-08-06    370\n",
      "2023-08-13    373\n",
      "2023-08-20    387\n",
      "2023-08-27    241\n",
      "2023-09-03    335\n",
      "2023-09-10    293\n",
      "2023-09-17    246\n",
      "2023-09-24    262\n",
      "2023-10-01    415\n",
      "2023-10-08    272\n",
      "2023-10-15    328\n",
      "2023-10-22    342\n",
      "2023-10-29    304\n",
      "2023-11-05    369\n",
      "2023-11-12    292\n",
      "2023-11-19    397\n",
      "2023-11-26    509\n",
      "2023-12-03    389\n",
      "2023-12-10    351\n",
      "2023-12-17    386\n",
      "2023-12-24    437\n",
      "2023-12-31    366\n",
      "Freq: W-SUN, dtype: int32\n"
     ]
    }
   ],
   "source": [
    "# Example 18: Resample to weekly frequency and calculate the sum, filling missing values with forward fill\n",
    "weekly_sum_fill_ffill = ts.resample('W').sum().fillna(method='ffill')\n",
    "print(\"\\nExample 18:\")\n",
    "print(\"Resampled time series to weekly frequency with sum, filling missing values with forward fill:\")\n",
    "print(weekly_sum_fill_ffill)"
   ]
  },
  {
   "cell_type": "code",
   "execution_count": 21,
   "metadata": {},
   "outputs": [
    {
     "name": "stdout",
     "output_type": "stream",
     "text": [
      "\n",
      "Example 19:\n",
      "Resampled time series to annual frequency with mean, filling missing values with backward fill:\n",
      "2023-12-31    49.041096\n",
      "Freq: A-DEC, dtype: float64\n"
     ]
    }
   ],
   "source": [
    "# Example 19: Resample to annual frequency and calculate the mean, filling missing values with backward fill\n",
    "annual_mean_fill_bfill = ts.resample('A').mean().fillna(method='bfill')\n",
    "print(\"\\nExample 19:\")\n",
    "print(\"Resampled time series to annual frequency with mean, filling missing values with backward fill:\")\n",
    "print(annual_mean_fill_bfill)"
   ]
  },
  {
   "cell_type": "code",
   "execution_count": 22,
   "metadata": {},
   "outputs": [
    {
     "name": "stdout",
     "output_type": "stream",
     "text": [
      "\n",
      "Example 20:\n",
      "Resampled time series to monthly frequency with median, filling missing values with interpolation:\n",
      "2023-01-31    65.0\n",
      "2023-02-28    34.5\n",
      "2023-03-31    46.0\n",
      "2023-04-30    49.5\n",
      "2023-05-31    46.0\n",
      "2023-06-30    44.0\n",
      "2023-07-31    54.0\n",
      "2023-08-31    51.0\n",
      "2023-09-30    40.0\n",
      "2023-10-31    36.0\n",
      "2023-11-30    62.0\n",
      "2023-12-31    58.0\n",
      "Freq: M, dtype: float64\n"
     ]
    }
   ],
   "source": [
    "# Example 20: Resample to monthly frequency and calculate the median, filling missing values with interpolation\n",
    "monthly_median_fill_interp = ts.resample('M').median().interpolate()\n",
    "print(\"\\nExample 20:\")\n",
    "print(\"Resampled time series to monthly frequency with median, filling missing values with interpolation:\")\n",
    "print(monthly_median_fill_interp)"
   ]
  },
  {
   "cell_type": "code",
   "execution_count": 23,
   "metadata": {},
   "outputs": [
    {
     "ename": "ValueError",
     "evalue": "Invalid fill method. Expecting pad (ffill) or backfill (bfill). Got nearest",
     "output_type": "error",
     "traceback": [
      "\u001b[1;31m---------------------------------------------------------------------------\u001b[0m",
      "\u001b[1;31mValueError\u001b[0m                                Traceback (most recent call last)",
      "Cell \u001b[1;32mIn[23], line 2\u001b[0m\n\u001b[0;32m      1\u001b[0m \u001b[39m# Example 21: Resample to weekly frequency and calculate the sum, filling missing values with nearest values\u001b[39;00m\n\u001b[1;32m----> 2\u001b[0m weekly_sum_fill_nearest \u001b[39m=\u001b[39m ts\u001b[39m.\u001b[39;49mresample(\u001b[39m'\u001b[39;49m\u001b[39mW\u001b[39;49m\u001b[39m'\u001b[39;49m)\u001b[39m.\u001b[39;49msum()\u001b[39m.\u001b[39;49mfillna(method\u001b[39m=\u001b[39;49m\u001b[39m'\u001b[39;49m\u001b[39mnearest\u001b[39;49m\u001b[39m'\u001b[39;49m)\n\u001b[0;32m      3\u001b[0m \u001b[39mprint\u001b[39m(\u001b[39m\"\u001b[39m\u001b[39m\\n\u001b[39;00m\u001b[39mExample 21:\u001b[39m\u001b[39m\"\u001b[39m)\n\u001b[0;32m      4\u001b[0m \u001b[39mprint\u001b[39m(\u001b[39m\"\u001b[39m\u001b[39mResampled time series to weekly frequency with sum, filling missing values with nearest values:\u001b[39m\u001b[39m\"\u001b[39m)\n",
      "File \u001b[1;32mc:\\Program Files\\Python311\\Lib\\site-packages\\pandas\\util\\_decorators.py:331\u001b[0m, in \u001b[0;36mdeprecate_nonkeyword_arguments.<locals>.decorate.<locals>.wrapper\u001b[1;34m(*args, **kwargs)\u001b[0m\n\u001b[0;32m    325\u001b[0m \u001b[39mif\u001b[39;00m \u001b[39mlen\u001b[39m(args) \u001b[39m>\u001b[39m num_allow_args:\n\u001b[0;32m    326\u001b[0m     warnings\u001b[39m.\u001b[39mwarn(\n\u001b[0;32m    327\u001b[0m         msg\u001b[39m.\u001b[39mformat(arguments\u001b[39m=\u001b[39m_format_argument_list(allow_args)),\n\u001b[0;32m    328\u001b[0m         \u001b[39mFutureWarning\u001b[39;00m,\n\u001b[0;32m    329\u001b[0m         stacklevel\u001b[39m=\u001b[39mfind_stack_level(),\n\u001b[0;32m    330\u001b[0m     )\n\u001b[1;32m--> 331\u001b[0m \u001b[39mreturn\u001b[39;00m func(\u001b[39m*\u001b[39;49margs, \u001b[39m*\u001b[39;49m\u001b[39m*\u001b[39;49mkwargs)\n",
      "File \u001b[1;32mc:\\Program Files\\Python311\\Lib\\site-packages\\pandas\\core\\series.py:5298\u001b[0m, in \u001b[0;36mSeries.fillna\u001b[1;34m(self, value, method, axis, inplace, limit, downcast)\u001b[0m\n\u001b[0;32m   5287\u001b[0m \u001b[39m@deprecate_nonkeyword_arguments\u001b[39m(version\u001b[39m=\u001b[39m\u001b[39mNone\u001b[39;00m, allowed_args\u001b[39m=\u001b[39m[\u001b[39m\"\u001b[39m\u001b[39mself\u001b[39m\u001b[39m\"\u001b[39m, \u001b[39m\"\u001b[39m\u001b[39mvalue\u001b[39m\u001b[39m\"\u001b[39m])\n\u001b[0;32m   5288\u001b[0m \u001b[39m@doc\u001b[39m(NDFrame\u001b[39m.\u001b[39mfillna, \u001b[39m*\u001b[39m\u001b[39m*\u001b[39m_shared_doc_kwargs)\n\u001b[0;32m   5289\u001b[0m \u001b[39mdef\u001b[39;00m \u001b[39mfillna\u001b[39m(  \u001b[39m# type: ignore[override]\u001b[39;00m\n\u001b[1;32m   (...)\u001b[0m\n\u001b[0;32m   5296\u001b[0m     downcast: \u001b[39mdict\u001b[39m \u001b[39m|\u001b[39m \u001b[39mNone\u001b[39;00m \u001b[39m=\u001b[39m \u001b[39mNone\u001b[39;00m,\n\u001b[0;32m   5297\u001b[0m ) \u001b[39m-\u001b[39m\u001b[39m>\u001b[39m Series \u001b[39m|\u001b[39m \u001b[39mNone\u001b[39;00m:\n\u001b[1;32m-> 5298\u001b[0m     \u001b[39mreturn\u001b[39;00m \u001b[39msuper\u001b[39;49m()\u001b[39m.\u001b[39;49mfillna(\n\u001b[0;32m   5299\u001b[0m         value\u001b[39m=\u001b[39;49mvalue,\n\u001b[0;32m   5300\u001b[0m         method\u001b[39m=\u001b[39;49mmethod,\n\u001b[0;32m   5301\u001b[0m         axis\u001b[39m=\u001b[39;49maxis,\n\u001b[0;32m   5302\u001b[0m         inplace\u001b[39m=\u001b[39;49minplace,\n\u001b[0;32m   5303\u001b[0m         limit\u001b[39m=\u001b[39;49mlimit,\n\u001b[0;32m   5304\u001b[0m         downcast\u001b[39m=\u001b[39;49mdowncast,\n\u001b[0;32m   5305\u001b[0m     )\n",
      "File \u001b[1;32mc:\\Program Files\\Python311\\Lib\\site-packages\\pandas\\core\\generic.py:6795\u001b[0m, in \u001b[0;36mNDFrame.fillna\u001b[1;34m(self, value, method, axis, inplace, limit, downcast)\u001b[0m\n\u001b[0;32m   6684\u001b[0m \u001b[39m\u001b[39m\u001b[39m\"\"\"\u001b[39;00m\n\u001b[0;32m   6685\u001b[0m \u001b[39mFill NA/NaN values using the specified method.\u001b[39;00m\n\u001b[0;32m   6686\u001b[0m \n\u001b[1;32m   (...)\u001b[0m\n\u001b[0;32m   6792\u001b[0m \u001b[39mNote that column D is not affected since it is not present in df2.\u001b[39;00m\n\u001b[0;32m   6793\u001b[0m \u001b[39m\"\"\"\u001b[39;00m\n\u001b[0;32m   6794\u001b[0m inplace \u001b[39m=\u001b[39m validate_bool_kwarg(inplace, \u001b[39m\"\u001b[39m\u001b[39minplace\u001b[39m\u001b[39m\"\u001b[39m)\n\u001b[1;32m-> 6795\u001b[0m value, method \u001b[39m=\u001b[39m validate_fillna_kwargs(value, method)\n\u001b[0;32m   6797\u001b[0m \u001b[39mself\u001b[39m\u001b[39m.\u001b[39m_consolidate_inplace()\n\u001b[0;32m   6799\u001b[0m \u001b[39m# set the default here, so functions examining the signaure\u001b[39;00m\n\u001b[0;32m   6800\u001b[0m \u001b[39m# can detect if something was set (e.g. in groupby) (GH9221)\u001b[39;00m\n",
      "File \u001b[1;32mc:\\Program Files\\Python311\\Lib\\site-packages\\pandas\\util\\_validators.py:390\u001b[0m, in \u001b[0;36mvalidate_fillna_kwargs\u001b[1;34m(value, method, validate_scalar_dict_value)\u001b[0m\n\u001b[0;32m    388\u001b[0m     \u001b[39mraise\u001b[39;00m \u001b[39mValueError\u001b[39;00m(\u001b[39m\"\u001b[39m\u001b[39mMust specify a fill \u001b[39m\u001b[39m'\u001b[39m\u001b[39mvalue\u001b[39m\u001b[39m'\u001b[39m\u001b[39m or \u001b[39m\u001b[39m'\u001b[39m\u001b[39mmethod\u001b[39m\u001b[39m'\u001b[39m\u001b[39m.\u001b[39m\u001b[39m\"\u001b[39m)\n\u001b[0;32m    389\u001b[0m \u001b[39melif\u001b[39;00m value \u001b[39mis\u001b[39;00m \u001b[39mNone\u001b[39;00m \u001b[39mand\u001b[39;00m method \u001b[39mis\u001b[39;00m \u001b[39mnot\u001b[39;00m \u001b[39mNone\u001b[39;00m:\n\u001b[1;32m--> 390\u001b[0m     method \u001b[39m=\u001b[39m clean_fill_method(method)\n\u001b[0;32m    392\u001b[0m \u001b[39melif\u001b[39;00m value \u001b[39mis\u001b[39;00m \u001b[39mnot\u001b[39;00m \u001b[39mNone\u001b[39;00m \u001b[39mand\u001b[39;00m method \u001b[39mis\u001b[39;00m \u001b[39mNone\u001b[39;00m:\n\u001b[0;32m    393\u001b[0m     \u001b[39mif\u001b[39;00m validate_scalar_dict_value \u001b[39mand\u001b[39;00m \u001b[39misinstance\u001b[39m(value, (\u001b[39mlist\u001b[39m, \u001b[39mtuple\u001b[39m)):\n",
      "File \u001b[1;32mc:\\Program Files\\Python311\\Lib\\site-packages\\pandas\\core\\missing.py:125\u001b[0m, in \u001b[0;36mclean_fill_method\u001b[1;34m(method, allow_nearest)\u001b[0m\n\u001b[0;32m    123\u001b[0m     expecting \u001b[39m=\u001b[39m \u001b[39m\"\u001b[39m\u001b[39mpad (ffill), backfill (bfill) or nearest\u001b[39m\u001b[39m\"\u001b[39m\n\u001b[0;32m    124\u001b[0m \u001b[39mif\u001b[39;00m method \u001b[39mnot\u001b[39;00m \u001b[39min\u001b[39;00m valid_methods:\n\u001b[1;32m--> 125\u001b[0m     \u001b[39mraise\u001b[39;00m \u001b[39mValueError\u001b[39;00m(\u001b[39mf\u001b[39m\u001b[39m\"\u001b[39m\u001b[39mInvalid fill method. Expecting \u001b[39m\u001b[39m{\u001b[39;00mexpecting\u001b[39m}\u001b[39;00m\u001b[39m. Got \u001b[39m\u001b[39m{\u001b[39;00mmethod\u001b[39m}\u001b[39;00m\u001b[39m\"\u001b[39m)\n\u001b[0;32m    126\u001b[0m \u001b[39mreturn\u001b[39;00m method\n",
      "\u001b[1;31mValueError\u001b[0m: Invalid fill method. Expecting pad (ffill) or backfill (bfill). Got nearest"
     ]
    }
   ],
   "source": [
    "# Example 21: Resample to weekly frequency and calculate the sum, filling missing values with nearest values\n",
    "weekly_sum_fill_nearest = ts.resample('W').sum().fillna(method='nearest')\n",
    "print(\"\\nExample 21:\")\n",
    "print(\"Resampled time series to weekly frequency with sum, filling missing values with nearest values:\")\n",
    "print(weekly_sum_fill_nearest)"
   ]
  },
  {
   "cell_type": "code",
   "execution_count": 24,
   "metadata": {},
   "outputs": [
    {
     "name": "stdout",
     "output_type": "stream",
     "text": [
      "\n",
      "Example 22:\n",
      "Resampled time series to monthly frequency with mean, filling missing values with the previous year's value:\n",
      "2023-01-31    56.838710\n",
      "2023-02-28    40.928571\n",
      "2023-03-31    45.064516\n",
      "2023-04-30    53.633333\n",
      "2023-05-31    46.870968\n",
      "2023-06-30    45.733333\n",
      "2023-07-31    48.645161\n",
      "2023-08-31    50.838710\n",
      "2023-09-30    43.400000\n",
      "2023-10-31    43.548387\n",
      "2023-11-30    57.866667\n",
      "2023-12-31    54.483871\n",
      "Freq: M, dtype: float64\n"
     ]
    }
   ],
   "source": [
    "# Example 22: Resample to monthly frequency and calculate the mean, filling missing values with the previous year's value\n",
    "monthly_mean_fill_previous_year = ts.resample('M').mean().fillna(method='pad', limit=365)\n",
    "print(\"\\nExample 22:\")\n",
    "print(\"Resampled time series to monthly frequency with mean, filling missing values with the previous year's value:\")\n",
    "print(monthly_mean_fill_previous_year)"
   ]
  },
  {
   "cell_type": "code",
   "execution_count": 25,
   "metadata": {},
   "outputs": [
    {
     "name": "stdout",
     "output_type": "stream",
     "text": [
      "\n",
      "Example 23:\n",
      "Resampled time series to quarterly frequency with sum, filling missing values with the next year's value:\n",
      "2023-03-31    4305\n",
      "2023-06-30    4434\n",
      "2023-09-30    4386\n",
      "2023-12-31    4775\n",
      "Freq: Q-DEC, dtype: int32\n"
     ]
    }
   ],
   "source": [
    "# Example 23: Resample to quarterly frequency and calculate the sum, filling missing values with the next year's value\n",
    "quarterly_sum_fill_next_year = ts.resample('Q').sum().fillna(method='bfill', limit=90)\n",
    "print(\"\\nExample 23:\")\n",
    "print(\"Resampled time series to quarterly frequency with sum, filling missing values with the next year's value:\")\n",
    "print(quarterly_sum_fill_next_year)"
   ]
  },
  {
   "cell_type": "code",
   "execution_count": 26,
   "metadata": {},
   "outputs": [
    {
     "name": "stdout",
     "output_type": "stream",
     "text": [
      "\n",
      "Example 24:\n",
      "Resampled time series to weekly frequency with mean, filling missing values with the mean of the whole series:\n",
      "2023-01-01    44.000000\n",
      "2023-01-08    51.142857\n",
      "2023-01-15    62.714286\n",
      "2023-01-22    63.285714\n",
      "2023-01-29    50.285714\n",
      "2023-02-05    72.571429\n",
      "2023-02-12    31.000000\n",
      "2023-02-19    37.285714\n",
      "2023-02-26    32.571429\n",
      "2023-03-05    34.000000\n",
      "2023-03-12    41.142857\n",
      "2023-03-19    49.000000\n",
      "2023-03-26    48.571429\n",
      "2023-04-02    48.428571\n",
      "2023-04-09    53.857143\n",
      "2023-04-16    57.285714\n",
      "2023-04-23    47.285714\n",
      "2023-04-30    58.142857\n",
      "2023-05-07    27.857143\n",
      "2023-05-14    69.142857\n",
      "2023-05-21    47.428571\n",
      "2023-05-28    44.142857\n",
      "2023-06-04    36.714286\n",
      "2023-06-11    47.142857\n",
      "2023-06-18    39.142857\n",
      "2023-06-25    57.428571\n",
      "2023-07-02    45.714286\n",
      "2023-07-09    51.857143\n",
      "2023-07-16    51.857143\n",
      "2023-07-23    51.142857\n",
      "2023-07-30    47.857143\n",
      "2023-08-06    52.857143\n",
      "2023-08-13    53.285714\n",
      "2023-08-20    55.285714\n",
      "2023-08-27    34.428571\n",
      "2023-09-03    47.857143\n",
      "2023-09-10    41.857143\n",
      "2023-09-17    35.142857\n",
      "2023-09-24    37.428571\n",
      "2023-10-01    59.285714\n",
      "2023-10-08    38.857143\n",
      "2023-10-15    46.857143\n",
      "2023-10-22    48.857143\n",
      "2023-10-29    43.428571\n",
      "2023-11-05    52.714286\n",
      "2023-11-12    41.714286\n",
      "2023-11-19    56.714286\n",
      "2023-11-26    72.714286\n",
      "2023-12-03    55.571429\n",
      "2023-12-10    50.142857\n",
      "2023-12-17    55.142857\n",
      "2023-12-24    62.428571\n",
      "2023-12-31    52.285714\n",
      "Freq: W-SUN, dtype: float64\n"
     ]
    }
   ],
   "source": [
    "# Example 24: Resample to weekly frequency and calculate the mean, filling missing values with the mean of the whole series\n",
    "weekly_mean_fill_mean = ts.resample('W').mean().fillna(ts.mean())\n",
    "print(\"\\nExample 24:\")\n",
    "print(\"Resampled time series to weekly frequency with mean, filling missing values with the mean of the whole series:\")\n",
    "print(weekly_mean_fill_mean)"
   ]
  },
  {
   "cell_type": "code",
   "execution_count": 27,
   "metadata": {},
   "outputs": [
    {
     "name": "stdout",
     "output_type": "stream",
     "text": [
      "\n",
      "Example 25:\n",
      "Resampled time series to monthly frequency with median, filling missing values with the median of the whole series:\n",
      "2023-01-31    65.0\n",
      "2023-02-28    34.5\n",
      "2023-03-31    46.0\n",
      "2023-04-30    49.5\n",
      "2023-05-31    46.0\n",
      "2023-06-30    44.0\n",
      "2023-07-31    54.0\n",
      "2023-08-31    51.0\n",
      "2023-09-30    40.0\n",
      "2023-10-31    36.0\n",
      "2023-11-30    62.0\n",
      "2023-12-31    58.0\n",
      "Freq: M, dtype: float64\n"
     ]
    }
   ],
   "source": [
    "# Example 25: Resample to monthly frequency and calculate the median, filling missing values with the median of the whole series\n",
    "monthly_median_fill_median = ts.resample('M').median().fillna(ts.median())\n",
    "print(\"\\nExample 25:\")\n",
    "print(\"Resampled time series to monthly frequency with median, filling missing values with the median of the whole series:\")\n",
    "print(monthly_median_fill_median)"
   ]
  },
  {
   "cell_type": "code",
   "execution_count": 28,
   "metadata": {},
   "outputs": [
    {
     "name": "stdout",
     "output_type": "stream",
     "text": [
      "\n",
      "Example 26:\n",
      "Resampled time series to quarterly frequency with sum, filling missing values with the mode of the whole series:\n",
      "2023-03-31    4305\n",
      "2023-06-30    4434\n",
      "2023-09-30    4386\n",
      "2023-12-31    4775\n",
      "Freq: Q-DEC, dtype: int32\n"
     ]
    }
   ],
   "source": [
    "# Example 26: Resample to quarterly frequency and calculate the sum, filling missing values with the mode of the whole series\n",
    "quarterly_sum_fill_mode = ts.resample('Q').sum().fillna(ts.mode()[0])\n",
    "print(\"\\nExample 26:\")\n",
    "print(\"Resampled time series to quarterly frequency with sum, filling missing values with the mode of the whole series:\")\n",
    "print(quarterly_sum_fill_mode)"
   ]
  },
  {
   "cell_type": "code",
   "execution_count": 29,
   "metadata": {},
   "outputs": [
    {
     "name": "stdout",
     "output_type": "stream",
     "text": [
      "\n",
      "Example 27:\n",
      "Resampled time series to weekly frequency with mean, filling missing values with linear interpolation:\n",
      "2023-01-01    44.000000\n",
      "2023-01-08    51.142857\n",
      "2023-01-15    62.714286\n",
      "2023-01-22    63.285714\n",
      "2023-01-29    50.285714\n",
      "2023-02-05    72.571429\n",
      "2023-02-12    31.000000\n",
      "2023-02-19    37.285714\n",
      "2023-02-26    32.571429\n",
      "2023-03-05    34.000000\n",
      "2023-03-12    41.142857\n",
      "2023-03-19    49.000000\n",
      "2023-03-26    48.571429\n",
      "2023-04-02    48.428571\n",
      "2023-04-09    53.857143\n",
      "2023-04-16    57.285714\n",
      "2023-04-23    47.285714\n",
      "2023-04-30    58.142857\n",
      "2023-05-07    27.857143\n",
      "2023-05-14    69.142857\n",
      "2023-05-21    47.428571\n",
      "2023-05-28    44.142857\n",
      "2023-06-04    36.714286\n",
      "2023-06-11    47.142857\n",
      "2023-06-18    39.142857\n",
      "2023-06-25    57.428571\n",
      "2023-07-02    45.714286\n",
      "2023-07-09    51.857143\n",
      "2023-07-16    51.857143\n",
      "2023-07-23    51.142857\n",
      "2023-07-30    47.857143\n",
      "2023-08-06    52.857143\n",
      "2023-08-13    53.285714\n",
      "2023-08-20    55.285714\n",
      "2023-08-27    34.428571\n",
      "2023-09-03    47.857143\n",
      "2023-09-10    41.857143\n",
      "2023-09-17    35.142857\n",
      "2023-09-24    37.428571\n",
      "2023-10-01    59.285714\n",
      "2023-10-08    38.857143\n",
      "2023-10-15    46.857143\n",
      "2023-10-22    48.857143\n",
      "2023-10-29    43.428571\n",
      "2023-11-05    52.714286\n",
      "2023-11-12    41.714286\n",
      "2023-11-19    56.714286\n",
      "2023-11-26    72.714286\n",
      "2023-12-03    55.571429\n",
      "2023-12-10    50.142857\n",
      "2023-12-17    55.142857\n",
      "2023-12-24    62.428571\n",
      "2023-12-31    52.285714\n",
      "Freq: W-SUN, dtype: float64\n"
     ]
    }
   ],
   "source": [
    "# Example 27: Resample to weekly frequency and calculate the mean, filling missing values with linear interpolation\n",
    "weekly_mean_fill_linear_interp = ts.resample('W').mean().interpolate(method='linear')\n",
    "print(\"\\nExample 27:\")\n",
    "print(\"Resampled time series to weekly frequency with mean, filling missing values with linear interpolation:\")\n",
    "print(weekly_mean_fill_linear_interp)"
   ]
  },
  {
   "cell_type": "code",
   "execution_count": 30,
   "metadata": {},
   "outputs": [
    {
     "name": "stdout",
     "output_type": "stream",
     "text": [
      "\n",
      "Example 28:\n",
      "Resampled time series to monthly frequency with median, filling missing values with cubic interpolation:\n",
      "2023-01-31    65.0\n",
      "2023-02-28    34.5\n",
      "2023-03-31    46.0\n",
      "2023-04-30    49.5\n",
      "2023-05-31    46.0\n",
      "2023-06-30    44.0\n",
      "2023-07-31    54.0\n",
      "2023-08-31    51.0\n",
      "2023-09-30    40.0\n",
      "2023-10-31    36.0\n",
      "2023-11-30    62.0\n",
      "2023-12-31    58.0\n",
      "Freq: M, dtype: float64\n"
     ]
    }
   ],
   "source": [
    "# Example 28: Resample to monthly frequency and calculate the median, filling missing values with cubic interpolation\n",
    "monthly_median_fill_cubic_interp = ts.resample('M').median().interpolate(method='cubic')\n",
    "print(\"\\nExample 28:\")\n",
    "print(\"Resampled time series to monthly frequency with median, filling missing values with cubic interpolation:\")\n",
    "print(monthly_median_fill_cubic_interp)"
   ]
  },
  {
   "cell_type": "code",
   "execution_count": 31,
   "metadata": {},
   "outputs": [
    {
     "name": "stdout",
     "output_type": "stream",
     "text": [
      "\n",
      "Example 29:\n",
      "Resampled time series to quarterly frequency with sum, filling missing values with polynomial interpolation:\n",
      "2023-03-31    4305\n",
      "2023-06-30    4434\n",
      "2023-09-30    4386\n",
      "2023-12-31    4775\n",
      "Freq: Q-DEC, dtype: int32\n"
     ]
    }
   ],
   "source": [
    "# Example 29: Resample to quarterly frequency and calculate the sum, filling missing values with polynomial interpolation\n",
    "quarterly_sum_fill_poly_interp = ts.resample('Q').sum().interpolate(method='polynomial', order=2)\n",
    "print(\"\\nExample 29:\")\n",
    "print(\"Resampled time series to quarterly frequency with sum, filling missing values with polynomial interpolation:\")\n",
    "print(quarterly_sum_fill_poly_interp)"
   ]
  },
  {
   "cell_type": "code",
   "execution_count": 32,
   "metadata": {},
   "outputs": [
    {
     "name": "stdout",
     "output_type": "stream",
     "text": [
      "\n",
      "Example 30:\n",
      "Resampled time series to weekly frequency with mean, filling missing values with spline interpolation:\n",
      "2023-01-01    44.000000\n",
      "2023-01-08    51.142857\n",
      "2023-01-15    62.714286\n",
      "2023-01-22    63.285714\n",
      "2023-01-29    50.285714\n",
      "2023-02-05    72.571429\n",
      "2023-02-12    31.000000\n",
      "2023-02-19    37.285714\n",
      "2023-02-26    32.571429\n",
      "2023-03-05    34.000000\n",
      "2023-03-12    41.142857\n",
      "2023-03-19    49.000000\n",
      "2023-03-26    48.571429\n",
      "2023-04-02    48.428571\n",
      "2023-04-09    53.857143\n",
      "2023-04-16    57.285714\n",
      "2023-04-23    47.285714\n",
      "2023-04-30    58.142857\n",
      "2023-05-07    27.857143\n",
      "2023-05-14    69.142857\n",
      "2023-05-21    47.428571\n",
      "2023-05-28    44.142857\n",
      "2023-06-04    36.714286\n",
      "2023-06-11    47.142857\n",
      "2023-06-18    39.142857\n",
      "2023-06-25    57.428571\n",
      "2023-07-02    45.714286\n",
      "2023-07-09    51.857143\n",
      "2023-07-16    51.857143\n",
      "2023-07-23    51.142857\n",
      "2023-07-30    47.857143\n",
      "2023-08-06    52.857143\n",
      "2023-08-13    53.285714\n",
      "2023-08-20    55.285714\n",
      "2023-08-27    34.428571\n",
      "2023-09-03    47.857143\n",
      "2023-09-10    41.857143\n",
      "2023-09-17    35.142857\n",
      "2023-09-24    37.428571\n",
      "2023-10-01    59.285714\n",
      "2023-10-08    38.857143\n",
      "2023-10-15    46.857143\n",
      "2023-10-22    48.857143\n",
      "2023-10-29    43.428571\n",
      "2023-11-05    52.714286\n",
      "2023-11-12    41.714286\n",
      "2023-11-19    56.714286\n",
      "2023-11-26    72.714286\n",
      "2023-12-03    55.571429\n",
      "2023-12-10    50.142857\n",
      "2023-12-17    55.142857\n",
      "2023-12-24    62.428571\n",
      "2023-12-31    52.285714\n",
      "Freq: W-SUN, dtype: float64\n"
     ]
    }
   ],
   "source": [
    "# Example 30: Resample to weekly frequency and calculate the mean, filling missing values with spline interpolation\n",
    "weekly_mean_fill_spline_interp = ts.resample('W').mean().interpolate(method='spline', order=2)\n",
    "print(\"\\nExample 30:\")\n",
    "print(\"Resampled time series to weekly frequency with mean, filling missing values with spline interpolation:\")\n",
    "print(weekly_mean_fill_spline_interp)"
   ]
  },
  {
   "cell_type": "code",
   "execution_count": 33,
   "metadata": {},
   "outputs": [
    {
     "name": "stdout",
     "output_type": "stream",
     "text": [
      "\n",
      "Example 31:\n",
      "Resampled time series to monthly frequency with median, filling missing values with time-based interpolation:\n",
      "2023-01-31    65.0\n",
      "2023-02-28    34.5\n",
      "2023-03-31    46.0\n",
      "2023-04-30    49.5\n",
      "2023-05-31    46.0\n",
      "2023-06-30    44.0\n",
      "2023-07-31    54.0\n",
      "2023-08-31    51.0\n",
      "2023-09-30    40.0\n",
      "2023-10-31    36.0\n",
      "2023-11-30    62.0\n",
      "2023-12-31    58.0\n",
      "Freq: M, dtype: float64\n"
     ]
    }
   ],
   "source": [
    "# Example 31: Resample to monthly frequency and calculate the median, filling missing values with time-based interpolation\n",
    "monthly_median_fill_time_interp = ts.resample('M').median().interpolate(method='time')\n",
    "print(\"\\nExample 31:\")\n",
    "print(\"Resampled time series to monthly frequency with median, filling missing values with time-based interpolation:\")\n",
    "print(monthly_median_fill_time_interp)"
   ]
  },
  {
   "cell_type": "code",
   "execution_count": 34,
   "metadata": {},
   "outputs": [
    {
     "name": "stdout",
     "output_type": "stream",
     "text": [
      "\n",
      "Example 32:\n",
      "Resampled time series to quarterly frequency with sum, filling missing values with rolling mean:\n",
      "2023-03-31    4305\n",
      "2023-06-30    4434\n",
      "2023-09-30    4386\n",
      "2023-12-31    4775\n",
      "Freq: Q-DEC, dtype: int32\n"
     ]
    }
   ],
   "source": [
    "# Example 32: Resample to quarterly frequency and calculate the sum, filling missing values with rolling mean\n",
    "quarterly_sum_fill_rolling_mean = ts.resample('Q').sum().fillna(ts.rolling(window=7, min_periods=1).mean())\n",
    "print(\"\\nExample 32:\")\n",
    "print(\"Resampled time series to quarterly frequency with sum, filling missing values with rolling mean:\")\n",
    "print(quarterly_sum_fill_rolling_mean)"
   ]
  },
  {
   "cell_type": "code",
   "execution_count": 35,
   "metadata": {},
   "outputs": [
    {
     "name": "stdout",
     "output_type": "stream",
     "text": [
      "\n",
      "Example 33:\n",
      "Resampled time series to weekly frequency with mean, filling missing values with rolling median:\n",
      "2023-01-01    44.000000\n",
      "2023-01-08    51.142857\n",
      "2023-01-15    62.714286\n",
      "2023-01-22    63.285714\n",
      "2023-01-29    50.285714\n",
      "2023-02-05    72.571429\n",
      "2023-02-12    31.000000\n",
      "2023-02-19    37.285714\n",
      "2023-02-26    32.571429\n",
      "2023-03-05    34.000000\n",
      "2023-03-12    41.142857\n",
      "2023-03-19    49.000000\n",
      "2023-03-26    48.571429\n",
      "2023-04-02    48.428571\n",
      "2023-04-09    53.857143\n",
      "2023-04-16    57.285714\n",
      "2023-04-23    47.285714\n",
      "2023-04-30    58.142857\n",
      "2023-05-07    27.857143\n",
      "2023-05-14    69.142857\n",
      "2023-05-21    47.428571\n",
      "2023-05-28    44.142857\n",
      "2023-06-04    36.714286\n",
      "2023-06-11    47.142857\n",
      "2023-06-18    39.142857\n",
      "2023-06-25    57.428571\n",
      "2023-07-02    45.714286\n",
      "2023-07-09    51.857143\n",
      "2023-07-16    51.857143\n",
      "2023-07-23    51.142857\n",
      "2023-07-30    47.857143\n",
      "2023-08-06    52.857143\n",
      "2023-08-13    53.285714\n",
      "2023-08-20    55.285714\n",
      "2023-08-27    34.428571\n",
      "2023-09-03    47.857143\n",
      "2023-09-10    41.857143\n",
      "2023-09-17    35.142857\n",
      "2023-09-24    37.428571\n",
      "2023-10-01    59.285714\n",
      "2023-10-08    38.857143\n",
      "2023-10-15    46.857143\n",
      "2023-10-22    48.857143\n",
      "2023-10-29    43.428571\n",
      "2023-11-05    52.714286\n",
      "2023-11-12    41.714286\n",
      "2023-11-19    56.714286\n",
      "2023-11-26    72.714286\n",
      "2023-12-03    55.571429\n",
      "2023-12-10    50.142857\n",
      "2023-12-17    55.142857\n",
      "2023-12-24    62.428571\n",
      "2023-12-31    52.285714\n",
      "Freq: W-SUN, dtype: float64\n"
     ]
    }
   ],
   "source": [
    "# Example 33: Resample to weekly frequency and calculate the mean, filling missing values with rolling median\n",
    "weekly_mean_fill_rolling_median = ts.resample('W').mean().fillna(ts.rolling(window=7, min_periods=1).median())\n",
    "print(\"\\nExample 33:\")\n",
    "print(\"Resampled time series to weekly frequency with mean, filling missing values with rolling median:\")\n",
    "print(weekly_mean_fill_rolling_median)"
   ]
  },
  {
   "cell_type": "code",
   "execution_count": 36,
   "metadata": {},
   "outputs": [
    {
     "name": "stdout",
     "output_type": "stream",
     "text": [
      "\n",
      "Example 34:\n",
      "Resampled time series to monthly frequency with median, filling missing values with exponential moving average:\n",
      "2023-01-31    65.0\n",
      "2023-02-28    34.5\n",
      "2023-03-31    46.0\n",
      "2023-04-30    49.5\n",
      "2023-05-31    46.0\n",
      "2023-06-30    44.0\n",
      "2023-07-31    54.0\n",
      "2023-08-31    51.0\n",
      "2023-09-30    40.0\n",
      "2023-10-31    36.0\n",
      "2023-11-30    62.0\n",
      "2023-12-31    58.0\n",
      "Freq: M, dtype: float64\n"
     ]
    }
   ],
   "source": [
    "# Example 34: Resample to monthly frequency and calculate the median, filling missing values with exponential moving average\n",
    "monthly_median_fill_ema = ts.resample('M').median().fillna(ts.ewm(span=7, min_periods=1).mean())\n",
    "print(\"\\nExample 34:\")\n",
    "print(\"Resampled time series to monthly frequency with median, filling missing values with exponential moving average:\")\n",
    "print(monthly_median_fill_ema)"
   ]
  },
  {
   "cell_type": "code",
   "execution_count": 37,
   "metadata": {},
   "outputs": [
    {
     "name": "stdout",
     "output_type": "stream",
     "text": [
      "\n",
      "Example 35:\n",
      "Resampled time series to quarterly frequency with sum, filling missing values with rolling sum:\n",
      "2023-03-31    4305\n",
      "2023-06-30    4434\n",
      "2023-09-30    4386\n",
      "2023-12-31    4775\n",
      "Freq: Q-DEC, dtype: int32\n"
     ]
    }
   ],
   "source": [
    "# Example 35: Resample to quarterly frequency and calculate the sum, filling missing values with rolling sum\n",
    "quarterly_sum_fill_rolling_sum = ts.resample('Q').sum().fillna(ts.rolling(window=7, min_periods=1).sum())\n",
    "print(\"\\nExample 35:\")\n",
    "print(\"Resampled time series to quarterly frequency with sum, filling missing values with rolling sum:\")\n",
    "print(quarterly_sum_fill_rolling_sum)"
   ]
  },
  {
   "cell_type": "code",
   "execution_count": 38,
   "metadata": {},
   "outputs": [
    {
     "name": "stdout",
     "output_type": "stream",
     "text": [
      "\n",
      "Example 36:\n",
      "Resampled time series to weekly frequency with mean, filling missing values with groupby mean:\n",
      "2023-01-01    44.000000\n",
      "2023-01-08    51.142857\n",
      "2023-01-15    62.714286\n",
      "2023-01-22    63.285714\n",
      "2023-01-29    50.285714\n",
      "2023-02-05    72.571429\n",
      "2023-02-12    31.000000\n",
      "2023-02-19    37.285714\n",
      "2023-02-26    32.571429\n",
      "2023-03-05    34.000000\n",
      "2023-03-12    41.142857\n",
      "2023-03-19    49.000000\n",
      "2023-03-26    48.571429\n",
      "2023-04-02    48.428571\n",
      "2023-04-09    53.857143\n",
      "2023-04-16    57.285714\n",
      "2023-04-23    47.285714\n",
      "2023-04-30    58.142857\n",
      "2023-05-07    27.857143\n",
      "2023-05-14    69.142857\n",
      "2023-05-21    47.428571\n",
      "2023-05-28    44.142857\n",
      "2023-06-04    36.714286\n",
      "2023-06-11    47.142857\n",
      "2023-06-18    39.142857\n",
      "2023-06-25    57.428571\n",
      "2023-07-02    45.714286\n",
      "2023-07-09    51.857143\n",
      "2023-07-16    51.857143\n",
      "2023-07-23    51.142857\n",
      "2023-07-30    47.857143\n",
      "2023-08-06    52.857143\n",
      "2023-08-13    53.285714\n",
      "2023-08-20    55.285714\n",
      "2023-08-27    34.428571\n",
      "2023-09-03    47.857143\n",
      "2023-09-10    41.857143\n",
      "2023-09-17    35.142857\n",
      "2023-09-24    37.428571\n",
      "2023-10-01    59.285714\n",
      "2023-10-08    38.857143\n",
      "2023-10-15    46.857143\n",
      "2023-10-22    48.857143\n",
      "2023-10-29    43.428571\n",
      "2023-11-05    52.714286\n",
      "2023-11-12    41.714286\n",
      "2023-11-19    56.714286\n",
      "2023-11-26    72.714286\n",
      "2023-12-03    55.571429\n",
      "2023-12-10    50.142857\n",
      "2023-12-17    55.142857\n",
      "2023-12-24    62.428571\n",
      "2023-12-31    52.285714\n",
      "Freq: W-SUN, dtype: float64\n"
     ]
    },
    {
     "name": "stderr",
     "output_type": "stream",
     "text": [
      "C:\\Users\\rvign\\AppData\\Local\\Temp\\ipykernel_23252\\3134957715.py:2: FutureWarning: weekofyear and week have been deprecated, please use DatetimeIndex.isocalendar().week instead, which returns a Series. To exactly reproduce the behavior of week and weekofyear and return an Index, you may call pd.Int64Index(idx.isocalendar().week)\n",
      "  weekly_mean_fill_groupby_mean = ts.resample('W').mean().fillna(ts.groupby(ts.index.week).mean())\n"
     ]
    }
   ],
   "source": [
    "# Example 36: Resample to weekly frequency and calculate the mean, filling missing values with groupby mean\n",
    "weekly_mean_fill_groupby_mean = ts.resample('W').mean().fillna(ts.groupby(ts.index.week).mean())\n",
    "print(\"\\nExample 36:\")\n",
    "print(\"Resampled time series to weekly frequency with mean, filling missing values with groupby mean:\")\n",
    "print(weekly_mean_fill_groupby_mean)"
   ]
  },
  {
   "cell_type": "code",
   "execution_count": 39,
   "metadata": {},
   "outputs": [
    {
     "name": "stdout",
     "output_type": "stream",
     "text": [
      "\n",
      "Example 37:\n",
      "Resampled time series to monthly frequency with median, filling missing values with groupby median:\n",
      "2023-01-31    65.0\n",
      "2023-02-28    34.5\n",
      "2023-03-31    46.0\n",
      "2023-04-30    49.5\n",
      "2023-05-31    46.0\n",
      "2023-06-30    44.0\n",
      "2023-07-31    54.0\n",
      "2023-08-31    51.0\n",
      "2023-09-30    40.0\n",
      "2023-10-31    36.0\n",
      "2023-11-30    62.0\n",
      "2023-12-31    58.0\n",
      "Freq: M, dtype: float64\n"
     ]
    }
   ],
   "source": [
    "# Example 37: Resample to monthly frequency and calculate the median, filling missing values with groupby median\n",
    "monthly_median_fill_groupby_median = ts.resample('M').median().fillna(ts.groupby(ts.index.month).median())\n",
    "print(\"\\nExample 37:\")\n",
    "print(\"Resampled time series to monthly frequency with median, filling missing values with groupby median:\")\n",
    "print(monthly_median_fill_groupby_median)"
   ]
  },
  {
   "cell_type": "code",
   "execution_count": 40,
   "metadata": {},
   "outputs": [
    {
     "name": "stdout",
     "output_type": "stream",
     "text": [
      "\n",
      "Example 38:\n",
      "Resampled time series to quarterly frequency with sum, filling missing values with groupby sum:\n",
      "2023-03-31    4305\n",
      "2023-06-30    4434\n",
      "2023-09-30    4386\n",
      "2023-12-31    4775\n",
      "Freq: Q-DEC, dtype: int32\n"
     ]
    }
   ],
   "source": [
    "# Example 38: Resample to quarterly frequency and calculate the sum, filling missing values with groupby sum\n",
    "quarterly_sum_fill_groupby_sum = ts.resample('Q').sum().fillna(ts.groupby(ts.index.quarter).sum())\n",
    "print(\"\\nExample 38:\")\n",
    "print(\"Resampled time series to quarterly frequency with sum, filling missing values with groupby sum:\")\n",
    "print(quarterly_sum_fill_groupby_sum)"
   ]
  },
  {
   "cell_type": "code",
   "execution_count": 41,
   "metadata": {},
   "outputs": [
    {
     "name": "stdout",
     "output_type": "stream",
     "text": [
      "\n",
      "Example 39:\n",
      "Resampled time series to weekly frequency with mean, filling missing values with groupby mode:\n",
      "2023-01-01    44.000000\n",
      "2023-01-08    51.142857\n",
      "2023-01-15    62.714286\n",
      "2023-01-22    63.285714\n",
      "2023-01-29    50.285714\n",
      "2023-02-05    72.571429\n",
      "2023-02-12    31.000000\n",
      "2023-02-19    37.285714\n",
      "2023-02-26    32.571429\n",
      "2023-03-05    34.000000\n",
      "2023-03-12    41.142857\n",
      "2023-03-19    49.000000\n",
      "2023-03-26    48.571429\n",
      "2023-04-02    48.428571\n",
      "2023-04-09    53.857143\n",
      "2023-04-16    57.285714\n",
      "2023-04-23    47.285714\n",
      "2023-04-30    58.142857\n",
      "2023-05-07    27.857143\n",
      "2023-05-14    69.142857\n",
      "2023-05-21    47.428571\n",
      "2023-05-28    44.142857\n",
      "2023-06-04    36.714286\n",
      "2023-06-11    47.142857\n",
      "2023-06-18    39.142857\n",
      "2023-06-25    57.428571\n",
      "2023-07-02    45.714286\n",
      "2023-07-09    51.857143\n",
      "2023-07-16    51.857143\n",
      "2023-07-23    51.142857\n",
      "2023-07-30    47.857143\n",
      "2023-08-06    52.857143\n",
      "2023-08-13    53.285714\n",
      "2023-08-20    55.285714\n",
      "2023-08-27    34.428571\n",
      "2023-09-03    47.857143\n",
      "2023-09-10    41.857143\n",
      "2023-09-17    35.142857\n",
      "2023-09-24    37.428571\n",
      "2023-10-01    59.285714\n",
      "2023-10-08    38.857143\n",
      "2023-10-15    46.857143\n",
      "2023-10-22    48.857143\n",
      "2023-10-29    43.428571\n",
      "2023-11-05    52.714286\n",
      "2023-11-12    41.714286\n",
      "2023-11-19    56.714286\n",
      "2023-11-26    72.714286\n",
      "2023-12-03    55.571429\n",
      "2023-12-10    50.142857\n",
      "2023-12-17    55.142857\n",
      "2023-12-24    62.428571\n",
      "2023-12-31    52.285714\n",
      "Freq: W-SUN, dtype: float64\n"
     ]
    },
    {
     "name": "stderr",
     "output_type": "stream",
     "text": [
      "C:\\Users\\rvign\\AppData\\Local\\Temp\\ipykernel_23252\\2001956359.py:2: FutureWarning: weekofyear and week have been deprecated, please use DatetimeIndex.isocalendar().week instead, which returns a Series. To exactly reproduce the behavior of week and weekofyear and return an Index, you may call pd.Int64Index(idx.isocalendar().week)\n",
      "  weekly_mean_fill_groupby_mode = ts.resample('W').mean().fillna(ts.groupby(ts.index.week).agg(lambda x: x.value_counts().index[0]))\n"
     ]
    }
   ],
   "source": [
    "# Example 39: Resample to weekly frequency and calculate the mean, filling missing values with groupby mode\n",
    "weekly_mean_fill_groupby_mode = ts.resample('W').mean().fillna(ts.groupby(ts.index.week).agg(lambda x: x.value_counts().index[0]))\n",
    "print(\"\\nExample 39:\")\n",
    "print(\"Resampled time series to weekly frequency with mean, filling missing values with groupby mode:\")\n",
    "print(weekly_mean_fill_groupby_mode)"
   ]
  },
  {
   "cell_type": "code",
   "execution_count": 42,
   "metadata": {},
   "outputs": [
    {
     "name": "stdout",
     "output_type": "stream",
     "text": [
      "\n",
      "Example 40:\n",
      "Resampled time series to monthly frequency with median, filling missing values with groupby first value:\n",
      "2023-01-31    65.0\n",
      "2023-02-28    34.5\n",
      "2023-03-31    46.0\n",
      "2023-04-30    49.5\n",
      "2023-05-31    46.0\n",
      "2023-06-30    44.0\n",
      "2023-07-31    54.0\n",
      "2023-08-31    51.0\n",
      "2023-09-30    40.0\n",
      "2023-10-31    36.0\n",
      "2023-11-30    62.0\n",
      "2023-12-31    58.0\n",
      "Freq: M, dtype: float64\n"
     ]
    }
   ],
   "source": [
    "# Example 40: Resample to monthly frequency and calculate the median, filling missing values with groupby first value\n",
    "monthly_median_fill_groupby_first = ts.resample('M').median().fillna(ts.groupby(ts.index.month).first())\n",
    "print(\"\\nExample 40:\")\n",
    "print(\"Resampled time series to monthly frequency with median, filling missing values with groupby first value:\")\n",
    "print(monthly_median_fill_groupby_first)"
   ]
  }
 ],
 "metadata": {
  "kernelspec": {
   "display_name": "Python 3",
   "language": "python",
   "name": "python3"
  },
  "language_info": {
   "codemirror_mode": {
    "name": "ipython",
    "version": 3
   },
   "file_extension": ".py",
   "mimetype": "text/x-python",
   "name": "python",
   "nbconvert_exporter": "python",
   "pygments_lexer": "ipython3",
   "version": "3.11.2"
  },
  "orig_nbformat": 4
 },
 "nbformat": 4,
 "nbformat_minor": 2
}
