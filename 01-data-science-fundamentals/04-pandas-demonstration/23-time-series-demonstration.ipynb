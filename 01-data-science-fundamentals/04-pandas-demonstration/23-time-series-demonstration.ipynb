{
 "cells": [
  {
   "cell_type": "code",
   "execution_count": 1,
   "metadata": {},
   "outputs": [],
   "source": [
    "import pandas as pd\n",
    "import numpy as np"
   ]
  },
  {
   "cell_type": "code",
   "execution_count": 2,
   "metadata": {},
   "outputs": [],
   "source": [
    "# Generate sample time series data\n",
    "np.random.seed(0)\n",
    "date_range = pd.date_range(start='2023-01-01', periods=365, freq='D')\n",
    "data = np.random.randint(0, 100, size=(365,))\n",
    "ts = pd.Series(data, index=date_range)"
   ]
  },
  {
   "cell_type": "code",
   "execution_count": 3,
   "metadata": {},
   "outputs": [
    {
     "name": "stdout",
     "output_type": "stream",
     "text": [
      "Example 1:\n",
      "Resampled time series to monthly frequency with mean:\n",
      "2023-01-31    56.838710\n",
      "2023-02-28    40.928571\n",
      "2023-03-31    45.064516\n",
      "2023-04-30    53.633333\n",
      "2023-05-31    46.870968\n",
      "2023-06-30    45.733333\n",
      "2023-07-31    48.645161\n",
      "2023-08-31    50.838710\n",
      "2023-09-30    43.400000\n",
      "2023-10-31    43.548387\n",
      "2023-11-30    57.866667\n",
      "2023-12-31    54.483871\n",
      "Freq: M, dtype: float64\n"
     ]
    }
   ],
   "source": [
    "# Example 1: Resample to monthly frequency and calculate the mean\n",
    "monthly_mean = ts.resample('M').mean()\n",
    "print(\"Example 1:\")\n",
    "print(\"Resampled time series to monthly frequency with mean:\")\n",
    "print(monthly_mean)"
   ]
  },
  {
   "cell_type": "code",
   "execution_count": 4,
   "metadata": {},
   "outputs": [
    {
     "name": "stdout",
     "output_type": "stream",
     "text": [
      "\n",
      "Example 2:\n",
      "Resampled time series to quarterly frequency with sum:\n",
      "2023-03-31    4305\n",
      "2023-06-30    4434\n",
      "2023-09-30    4386\n",
      "2023-12-31    4775\n",
      "Freq: Q-DEC, dtype: int32\n"
     ]
    }
   ],
   "source": [
    "# Example 2: Resample to quarterly frequency and calculate the sum\n",
    "quarterly_sum = ts.resample('Q').sum()\n",
    "print(\"\\nExample 2:\")\n",
    "print(\"Resampled time series to quarterly frequency with sum:\")\n",
    "print(quarterly_sum)"
   ]
  },
  {
   "cell_type": "code",
   "execution_count": 5,
   "metadata": {},
   "outputs": [
    {
     "name": "stdout",
     "output_type": "stream",
     "text": [
      "\n",
      "Example 3:\n",
      "Resampled time series to annual frequency with maximum:\n",
      "2023-12-31    99\n",
      "Freq: A-DEC, dtype: int32\n"
     ]
    }
   ],
   "source": [
    "# Example 3: Resample to annual frequency and calculate the maximum\n",
    "annual_max = ts.resample('Y').max()\n",
    "print(\"\\nExample 3:\")\n",
    "print(\"Resampled time series to annual frequency with maximum:\")\n",
    "print(annual_max)"
   ]
  },
  {
   "cell_type": "code",
   "execution_count": 6,
   "metadata": {},
   "outputs": [
    {
     "name": "stdout",
     "output_type": "stream",
     "text": [
      "\n",
      "Example 4:\n",
      "Resampled time series to weekly frequency with minimum:\n",
      "2023-01-01    44\n",
      "2023-01-08     9\n",
      "2023-01-15    12\n",
      "2023-01-22    37\n",
      "2023-01-29     9\n",
      "2023-02-05    47\n",
      "2023-02-12    14\n",
      "2023-02-19     9\n",
      "2023-02-26     0\n",
      "2023-03-05     4\n",
      "2023-03-12     1\n",
      "2023-03-19     0\n",
      "2023-03-26     6\n",
      "2023-04-02     3\n",
      "2023-04-09    13\n",
      "2023-04-16    35\n",
      "2023-04-23     0\n",
      "2023-04-30     3\n",
      "2023-05-07     0\n",
      "2023-05-14    35\n",
      "2023-05-21    14\n",
      "2023-05-28    10\n",
      "2023-06-04     0\n",
      "2023-06-11    19\n",
      "2023-06-18     2\n",
      "2023-06-25    19\n",
      "2023-07-02     4\n",
      "2023-07-09    16\n",
      "2023-07-16    21\n",
      "2023-07-23    13\n",
      "2023-07-30    18\n",
      "2023-08-06     1\n",
      "2023-08-13     3\n",
      "2023-08-20    11\n",
      "2023-08-27     2\n",
      "2023-09-03    20\n",
      "2023-09-10     9\n",
      "2023-09-17     3\n",
      "2023-09-24     9\n",
      "2023-10-01    33\n",
      "2023-10-08     0\n",
      "2023-10-15     1\n",
      "2023-10-22    25\n",
      "2023-10-29    17\n",
      "2023-11-05     2\n",
      "2023-11-12    17\n",
      "2023-11-19    18\n",
      "2023-11-26    21\n",
      "2023-12-03     0\n",
      "2023-12-10    16\n",
      "2023-12-17     8\n",
      "2023-12-24    13\n",
      "2023-12-31    25\n",
      "Freq: W-SUN, dtype: int32\n"
     ]
    }
   ],
   "source": [
    "# Example 4: Resample to weekly frequency and calculate the minimum\n",
    "weekly_min = ts.resample('W').min()\n",
    "print(\"\\nExample 4:\")\n",
    "print(\"Resampled time series to weekly frequency with minimum:\")\n",
    "print(weekly_min)"
   ]
  },
  {
   "cell_type": "code",
   "execution_count": 7,
   "metadata": {},
   "outputs": [
    {
     "name": "stdout",
     "output_type": "stream",
     "text": [
      "\n",
      "Example 5:\n",
      "Resampled time series to monthly frequency with median:\n",
      "2023-01-31    65.0\n",
      "2023-02-28    34.5\n",
      "2023-03-31    46.0\n",
      "2023-04-30    49.5\n",
      "2023-05-31    46.0\n",
      "2023-06-30    44.0\n",
      "2023-07-31    54.0\n",
      "2023-08-31    51.0\n",
      "2023-09-30    40.0\n",
      "2023-10-31    36.0\n",
      "2023-11-30    62.0\n",
      "2023-12-31    58.0\n",
      "Freq: M, dtype: float64\n"
     ]
    }
   ],
   "source": [
    "# Example 5: Resample to monthly frequency and calculate the median\n",
    "monthly_median = ts.resample('M').median()\n",
    "print(\"\\nExample 5:\")\n",
    "print(\"Resampled time series to monthly frequency with median:\")\n",
    "print(monthly_median)"
   ]
  }
 ],
 "metadata": {
  "kernelspec": {
   "display_name": "Python 3",
   "language": "python",
   "name": "python3"
  },
  "language_info": {
   "codemirror_mode": {
    "name": "ipython",
    "version": 3
   },
   "file_extension": ".py",
   "mimetype": "text/x-python",
   "name": "python",
   "nbconvert_exporter": "python",
   "pygments_lexer": "ipython3",
   "version": "3.11.2"
  },
  "orig_nbformat": 4
 },
 "nbformat": 4,
 "nbformat_minor": 2
}
