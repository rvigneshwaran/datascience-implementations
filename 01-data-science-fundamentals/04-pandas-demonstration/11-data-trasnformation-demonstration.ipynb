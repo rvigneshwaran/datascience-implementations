{
 "cells": [
  {
   "cell_type": "code",
   "execution_count": 1,
   "metadata": {},
   "outputs": [],
   "source": [
    "import pandas as pd"
   ]
  },
  {
   "cell_type": "code",
   "execution_count": 2,
   "metadata": {},
   "outputs": [],
   "source": [
    "# Create a sample DataFrame\n",
    "data = {\n",
    "    'Name': ['Jon Snow', 'Daenerys Targaryen', 'Tyrion Lannister', 'Arya Stark', 'Cersei Lannister'],\n",
    "    'House': ['Stark', 'Targaryen', 'Lannister', 'Stark', 'Lannister'],\n",
    "    'Status': ['Alive', 'Deceased', 'Alive', 'Alive', 'Deceased'],\n",
    "    'Age': [35, 30, 40, 18, 45],\n",
    "    'Total_Appearances': [10, 12, 15, 8, 6],\n",
    "    'Battles_Fought': [3, 5, 2, 1, 4]\n",
    "}\n",
    "df = pd.DataFrame(data)"
   ]
  },
  {
   "cell_type": "code",
   "execution_count": 3,
   "metadata": {},
   "outputs": [
    {
     "name": "stdout",
     "output_type": "stream",
     "text": [
      "Example 1:\n",
      "                 Name      House    Status  Age  Total_Appearances  \\\n",
      "0            Jon Snow      Stark     Alive   35                 10   \n",
      "1  Daenerys Targaryen  Targaryen  Deceased   30                 12   \n",
      "2    Tyrion Lannister  Lannister     Alive   40                 15   \n",
      "3          Arya Stark      Stark     Alive   18                  8   \n",
      "4    Cersei Lannister  Lannister  Deceased   45                  6   \n",
      "\n",
      "   Battles_Fought  Age_5_Years_Later  \n",
      "0               3                 40  \n",
      "1               5                 35  \n",
      "2               2                 45  \n",
      "3               1                 23  \n",
      "4               4                 50  \n"
     ]
    }
   ],
   "source": [
    "# Example 1: Applying a function to a DataFrame column\n",
    "def add_5_years(age):\n",
    "    return age + 5\n",
    "\n",
    "df['Age_5_Years_Later'] = df['Age'].apply(add_5_years)\n",
    "print(\"Example 1:\")\n",
    "print(df)"
   ]
  },
  {
   "cell_type": "code",
   "execution_count": 4,
   "metadata": {},
   "outputs": [
    {
     "name": "stdout",
     "output_type": "stream",
     "text": [
      "\n",
      "Example 2:\n",
      "                 Name      House    Status  Age  Total_Appearances  \\\n",
      "0            Jon Snow      Stark     Alive   35                 10   \n",
      "1  Daenerys Targaryen  Targaryen  Deceased   30                 12   \n",
      "2    Tyrion Lannister  Lannister     Alive   40                 15   \n",
      "3          Arya Stark      Stark     Alive   18                  8   \n",
      "4    Cersei Lannister  Lannister  Deceased   45                  6   \n",
      "\n",
      "   Battles_Fought  Age_5_Years_Later  Age_10_Years_Later  \n",
      "0               3                 40                  45  \n",
      "1               5                 35                  40  \n",
      "2               2                 45                  50  \n",
      "3               1                 23                  28  \n",
      "4               4                 50                  55  \n"
     ]
    }
   ],
   "source": [
    "# Example 2: Applying a lambda function to a DataFrame column\n",
    "df['Age_10_Years_Later'] = df['Age'].apply(lambda age: age + 10)\n",
    "print(\"\\nExample 2:\")\n",
    "print(df)"
   ]
  },
  {
   "cell_type": "code",
   "execution_count": 5,
   "metadata": {},
   "outputs": [
    {
     "ename": "AttributeError",
     "evalue": "'Series' object has no attribute 'applymap'",
     "output_type": "error",
     "traceback": [
      "\u001b[1;31m---------------------------------------------------------------------------\u001b[0m",
      "\u001b[1;31mAttributeError\u001b[0m                            Traceback (most recent call last)",
      "Cell \u001b[1;32mIn[5], line 5\u001b[0m\n\u001b[0;32m      2\u001b[0m \u001b[39mdef\u001b[39;00m \u001b[39mformat_name\u001b[39m(name):\n\u001b[0;32m      3\u001b[0m     \u001b[39mreturn\u001b[39;00m name\u001b[39m.\u001b[39mupper()\n\u001b[1;32m----> 5\u001b[0m df[\u001b[39m'\u001b[39m\u001b[39mFormatted_Name\u001b[39m\u001b[39m'\u001b[39m] \u001b[39m=\u001b[39m df[\u001b[39m'\u001b[39;49m\u001b[39mName\u001b[39;49m\u001b[39m'\u001b[39;49m]\u001b[39m.\u001b[39;49mapplymap(format_name)\n\u001b[0;32m      6\u001b[0m \u001b[39mprint\u001b[39m(\u001b[39m\"\u001b[39m\u001b[39m\\n\u001b[39;00m\u001b[39mExample 3:\u001b[39m\u001b[39m\"\u001b[39m)\n\u001b[0;32m      7\u001b[0m \u001b[39mprint\u001b[39m(df)\n",
      "File \u001b[1;32mc:\\Program Files\\Python311\\Lib\\site-packages\\pandas\\core\\generic.py:5902\u001b[0m, in \u001b[0;36mNDFrame.__getattr__\u001b[1;34m(self, name)\u001b[0m\n\u001b[0;32m   5895\u001b[0m \u001b[39mif\u001b[39;00m (\n\u001b[0;32m   5896\u001b[0m     name \u001b[39mnot\u001b[39;00m \u001b[39min\u001b[39;00m \u001b[39mself\u001b[39m\u001b[39m.\u001b[39m_internal_names_set\n\u001b[0;32m   5897\u001b[0m     \u001b[39mand\u001b[39;00m name \u001b[39mnot\u001b[39;00m \u001b[39min\u001b[39;00m \u001b[39mself\u001b[39m\u001b[39m.\u001b[39m_metadata\n\u001b[0;32m   5898\u001b[0m     \u001b[39mand\u001b[39;00m name \u001b[39mnot\u001b[39;00m \u001b[39min\u001b[39;00m \u001b[39mself\u001b[39m\u001b[39m.\u001b[39m_accessors\n\u001b[0;32m   5899\u001b[0m     \u001b[39mand\u001b[39;00m \u001b[39mself\u001b[39m\u001b[39m.\u001b[39m_info_axis\u001b[39m.\u001b[39m_can_hold_identifiers_and_holds_name(name)\n\u001b[0;32m   5900\u001b[0m ):\n\u001b[0;32m   5901\u001b[0m     \u001b[39mreturn\u001b[39;00m \u001b[39mself\u001b[39m[name]\n\u001b[1;32m-> 5902\u001b[0m \u001b[39mreturn\u001b[39;00m \u001b[39mobject\u001b[39;49m\u001b[39m.\u001b[39;49m\u001b[39m__getattribute__\u001b[39;49m(\u001b[39mself\u001b[39;49m, name)\n",
      "\u001b[1;31mAttributeError\u001b[0m: 'Series' object has no attribute 'applymap'"
     ]
    }
   ],
   "source": [
    "# Example 3: Applying a function element-wise to a DataFrame using applymap()\n",
    "def format_name(name):\n",
    "    return name.upper()\n",
    "\n",
    "df['Formatted_Name'] = df['Name'].applymap(format_name)\n",
    "print(\"\\nExample 3:\")\n",
    "print(df)"
   ]
  },
  {
   "cell_type": "code",
   "execution_count": 6,
   "metadata": {},
   "outputs": [
    {
     "name": "stdout",
     "output_type": "stream",
     "text": [
      "\n",
      "Example 4:\n",
      "                 Name      House    Status  Age  Total_Appearances  \\\n",
      "0            Jon Snow      Stark     Alive   35                 10   \n",
      "1  Daenerys Targaryen  Targaryen  Deceased   30                 12   \n",
      "2    Tyrion Lannister  Lannister     Alive   40                 15   \n",
      "3          Arya Stark      Stark     Alive   18                  8   \n",
      "4    Cersei Lannister  Lannister  Deceased   45                  6   \n",
      "\n",
      "   Battles_Fought  Age_5_Years_Later  Age_10_Years_Later Status_Summary  \n",
      "0               3                 40                  45          Alive  \n",
      "1               5                 35                  40       Deceased  \n",
      "2               2                 45                  50          Alive  \n",
      "3               1                 23                  28          Alive  \n",
      "4               4                 50                  55       Deceased  \n"
     ]
    }
   ],
   "source": [
    "# Example 4: Applying a function row-wise to a DataFrame using apply()\n",
    "def get_status_summary(row):\n",
    "    return 'Alive' if row['Status'] == 'Alive' else 'Deceased'\n",
    "\n",
    "df['Status_Summary'] = df.apply(get_status_summary, axis=1)\n",
    "print(\"\\nExample 4:\")\n",
    "print(df)"
   ]
  },
  {
   "cell_type": "code",
   "execution_count": 7,
   "metadata": {},
   "outputs": [
    {
     "name": "stdout",
     "output_type": "stream",
     "text": [
      "\n",
      "Example 5:\n",
      "                 Name      House    Status  Age  Total_Appearances  \\\n",
      "0            Jon Snow      Stark     Alive   35                 10   \n",
      "1  Daenerys Targaryen  Targaryen  Deceased   30                 12   \n",
      "2    Tyrion Lannister  Lannister     Alive   40                 15   \n",
      "3          Arya Stark      Stark     Alive   18                  8   \n",
      "4    Cersei Lannister  Lannister  Deceased   45                  6   \n",
      "\n",
      "   Battles_Fought  Age_5_Years_Later  Age_10_Years_Later Status_Summary  \\\n",
      "0               3                 40                  45          Alive   \n",
      "1               5                 35                  40       Deceased   \n",
      "2               2                 45                  50          Alive   \n",
      "3               1                 23                  28          Alive   \n",
      "4               4                 50                  55       Deceased   \n",
      "\n",
      "  House_Location  \n",
      "0     Winterfell  \n",
      "1    Dragonstone  \n",
      "2  Casterly Rock  \n",
      "3     Winterfell  \n",
      "4  Casterly Rock  \n"
     ]
    }
   ],
   "source": [
    "# Example 5: Applying a function element-wise to a Series using map()\n",
    "houses = {'Stark': 'Winterfell', 'Targaryen': 'Dragonstone', 'Lannister': 'Casterly Rock'}\n",
    "df['House_Location'] = df['House'].map(houses)\n",
    "print(\"\\nExample 5:\")\n",
    "print(df)"
   ]
  },
  {
   "cell_type": "code",
   "execution_count": 8,
   "metadata": {},
   "outputs": [
    {
     "name": "stdout",
     "output_type": "stream",
     "text": [
      "\n",
      "Example 6:\n",
      "                 Name      House    Status  Age  Total_Appearances  \\\n",
      "0            Jon Snow      Stark     Alive   35                 10   \n",
      "1  Daenerys Targaryen  Targaryen  Deceased   30                 12   \n",
      "2    Tyrion Lannister  Lannister     Alive   40                 15   \n",
      "3          Arya Stark      Stark     Alive   18                  8   \n",
      "4    Cersei Lannister  Lannister  Deceased   45                  6   \n",
      "\n",
      "   Battles_Fought  Age_5_Years_Later  Age_10_Years_Later Status_Summary  \\\n",
      "0               3                 40                  45          Alive   \n",
      "1               5                 35                  40       Deceased   \n",
      "2               2                 45                  50          Alive   \n",
      "3               1                 23                  28          Alive   \n",
      "4               4                 50                  55       Deceased   \n",
      "\n",
      "  House_Location  Total_Characters  \n",
      "0     Winterfell                13  \n",
      "1    Dragonstone                17  \n",
      "2  Casterly Rock                17  \n",
      "3     Winterfell                 9  \n",
      "4  Casterly Rock                10  \n"
     ]
    }
   ],
   "source": [
    "# Example 6: Applying a function to multiple DataFrame columns\n",
    "def total_characters(row):\n",
    "    return row['Total_Appearances'] + row['Battles_Fought']\n",
    "\n",
    "df['Total_Characters'] = df.apply(total_characters, axis=1)\n",
    "print(\"\\nExample 6:\")\n",
    "print(df)"
   ]
  },
  {
   "cell_type": "code",
   "execution_count": 9,
   "metadata": {},
   "outputs": [
    {
     "name": "stdout",
     "output_type": "stream",
     "text": [
      "\n",
      "Example 7:\n",
      "                 Name      House    Status  Age  Total_Appearances  \\\n",
      "0            Jon Snow      Stark     Alive   35                 10   \n",
      "1  Daenerys Targaryen  Targaryen  Deceased   30                 12   \n",
      "2    Tyrion Lannister  Lannister     Alive   40                 15   \n",
      "3          Arya Stark      Stark     Alive   18                  8   \n",
      "4    Cersei Lannister  Lannister  Deceased   45                  6   \n",
      "\n",
      "   Battles_Fought  Age_5_Years_Later  Age_10_Years_Later Status_Summary  \\\n",
      "0               3                 40                  45          Alive   \n",
      "1               5                 35                  40       Deceased   \n",
      "2               2                 45                  50          Alive   \n",
      "3               1                 23                  28          Alive   \n",
      "4               4                 50                  55       Deceased   \n",
      "\n",
      "  House_Location  Total_Characters Age_Category  \n",
      "0     Winterfell                13        Adult  \n",
      "1    Dragonstone                17        Adult  \n",
      "2  Casterly Rock                17       Senior  \n",
      "3     Winterfell                 9        Young  \n",
      "4  Casterly Rock                10       Senior  \n"
     ]
    }
   ],
   "source": [
    "# Example 7: Applying a function element-wise to a Series with conditional logic\n",
    "def age_category(age):\n",
    "    if age < 25:\n",
    "        return 'Young'\n",
    "    elif age >= 25 and age < 40:\n",
    "        return 'Adult'\n",
    "    else:\n",
    "        return 'Senior'\n",
    "\n",
    "df['Age_Category'] = df['Age'].apply(age_category)\n",
    "print(\"\\nExample 7:\")\n",
    "print(df)"
   ]
  },
  {
   "cell_type": "code",
   "execution_count": 10,
   "metadata": {},
   "outputs": [
    {
     "name": "stdout",
     "output_type": "stream",
     "text": [
      "\n",
      "Example 8:\n",
      "                 Name      House    Status  Age  Total_Appearances  \\\n",
      "0            Jon Snow      Stark     Alive   35                 10   \n",
      "1  Daenerys Targaryen  Targaryen  Deceased   30                 12   \n",
      "2    Tyrion Lannister  Lannister     Alive   40                 15   \n",
      "3          Arya Stark      Stark     Alive   18                  8   \n",
      "4    Cersei Lannister  Lannister  Deceased   45                  6   \n",
      "\n",
      "   Battles_Fought  Age_5_Years_Later  Age_10_Years_Later Status_Summary  \\\n",
      "0               3                 40                  45          Alive   \n",
      "1               5                 35                  40       Deceased   \n",
      "2               2                 45                  50          Alive   \n",
      "3               1                 23                  28          Alive   \n",
      "4               4                 50                  55       Deceased   \n",
      "\n",
      "  House_Location  Total_Characters Age_Category  Status_Code  \n",
      "0     Winterfell                13        Adult            1  \n",
      "1    Dragonstone                17        Adult            0  \n",
      "2  Casterly Rock                17       Senior            1  \n",
      "3     Winterfell                 9        Young            1  \n",
      "4  Casterly Rock                10       Senior            0  \n"
     ]
    }
   ],
   "source": [
    "# Example 8: Using the map() function with a dictionary for data replacement\n",
    "status_mapping = {'Alive': 1, 'Deceased': 0}\n",
    "df['Status_Code'] = df['Status'].map(status_mapping)\n",
    "print(\"\\nExample 8:\")\n",
    "print(df)"
   ]
  },
  {
   "cell_type": "code",
   "execution_count": 11,
   "metadata": {},
   "outputs": [
    {
     "name": "stdout",
     "output_type": "stream",
     "text": [
      "\n",
      "Example 9:\n",
      "                 Name      House  Status  Age  Total_Appearances  \\\n",
      "0            Jon Snow      Stark  Living   35                 10   \n",
      "1  Daenerys Targaryen  Targaryen    Dead   30                 12   \n",
      "2    Tyrion Lannister  Lannister  Living   40                 15   \n",
      "3          Arya Stark      Stark  Living   18                  8   \n",
      "4    Cersei Lannister  Lannister    Dead   45                  6   \n",
      "\n",
      "   Battles_Fought  Age_5_Years_Later  Age_10_Years_Later Status_Summary  \\\n",
      "0               3                 40                  45         Living   \n",
      "1               5                 35                  40           Dead   \n",
      "2               2                 45                  50         Living   \n",
      "3               1                 23                  28         Living   \n",
      "4               4                 50                  55           Dead   \n",
      "\n",
      "  House_Location  Total_Characters Age_Category  Status_Code  \n",
      "0     Winterfell                13        Adult            1  \n",
      "1    Dragonstone                17        Adult            0  \n",
      "2  Casterly Rock                17       Senior            1  \n",
      "3     Winterfell                 9        Young            1  \n",
      "4  Casterly Rock                10       Senior            0  \n"
     ]
    }
   ],
   "source": [
    "# Example 9: Using the replace() function to replace values in a DataFrame\n",
    "df.replace({'Alive': 'Living', 'Deceased': 'Dead'}, inplace=True)\n",
    "print(\"\\nExample 9:\")\n",
    "print(df)\n"
   ]
  },
  {
   "cell_type": "code",
   "execution_count": 12,
   "metadata": {},
   "outputs": [
    {
     "name": "stdout",
     "output_type": "stream",
     "text": [
      "\n",
      "Example 10:\n",
      "                 Name  Name_Length\n",
      "0            Jon Snow            8\n",
      "1  Daenerys Targaryen           18\n",
      "2    Tyrion Lannister           16\n",
      "3          Arya Stark           10\n",
      "4    Cersei Lannister           16\n"
     ]
    }
   ],
   "source": [
    "# Example 10: Applying a function element-wise to a Series and creating a new DataFrame\n",
    "df['Name_Length'] = df['Name'].apply(len)\n",
    "name_lengths_df = df[['Name', 'Name_Length']]\n",
    "print(\"\\nExample 10:\")\n",
    "print(name_lengths_df)"
   ]
  },
  {
   "cell_type": "code",
   "execution_count": 13,
   "metadata": {},
   "outputs": [
    {
     "ename": "AttributeError",
     "evalue": "'Series' object has no attribute 'applymap'",
     "output_type": "error",
     "traceback": [
      "\u001b[1;31m---------------------------------------------------------------------------\u001b[0m",
      "\u001b[1;31mAttributeError\u001b[0m                            Traceback (most recent call last)",
      "Cell \u001b[1;32mIn[13], line 8\u001b[0m\n\u001b[0;32m      5\u001b[0m \u001b[39mdef\u001b[39;00m \u001b[39mformat_name_lower\u001b[39m(name):\n\u001b[0;32m      6\u001b[0m     \u001b[39mreturn\u001b[39;00m name\u001b[39m.\u001b[39mlower()\n\u001b[1;32m----> 8\u001b[0m df[\u001b[39m'\u001b[39m\u001b[39mFormatted_Name_Upper\u001b[39m\u001b[39m'\u001b[39m] \u001b[39m=\u001b[39m df[\u001b[39m'\u001b[39;49m\u001b[39mName\u001b[39;49m\u001b[39m'\u001b[39;49m]\u001b[39m.\u001b[39;49mapplymap(format_name_upper)\n\u001b[0;32m      9\u001b[0m df[\u001b[39m'\u001b[39m\u001b[39mFormatted_Name_Lower\u001b[39m\u001b[39m'\u001b[39m] \u001b[39m=\u001b[39m df[\u001b[39m'\u001b[39m\u001b[39mName\u001b[39m\u001b[39m'\u001b[39m]\u001b[39m.\u001b[39mapplymap(format_name_lower)\n\u001b[0;32m     10\u001b[0m \u001b[39mprint\u001b[39m(\u001b[39m\"\u001b[39m\u001b[39m\\n\u001b[39;00m\u001b[39mExample 11:\u001b[39m\u001b[39m\"\u001b[39m)\n",
      "File \u001b[1;32mc:\\Program Files\\Python311\\Lib\\site-packages\\pandas\\core\\generic.py:5902\u001b[0m, in \u001b[0;36mNDFrame.__getattr__\u001b[1;34m(self, name)\u001b[0m\n\u001b[0;32m   5895\u001b[0m \u001b[39mif\u001b[39;00m (\n\u001b[0;32m   5896\u001b[0m     name \u001b[39mnot\u001b[39;00m \u001b[39min\u001b[39;00m \u001b[39mself\u001b[39m\u001b[39m.\u001b[39m_internal_names_set\n\u001b[0;32m   5897\u001b[0m     \u001b[39mand\u001b[39;00m name \u001b[39mnot\u001b[39;00m \u001b[39min\u001b[39;00m \u001b[39mself\u001b[39m\u001b[39m.\u001b[39m_metadata\n\u001b[0;32m   5898\u001b[0m     \u001b[39mand\u001b[39;00m name \u001b[39mnot\u001b[39;00m \u001b[39min\u001b[39;00m \u001b[39mself\u001b[39m\u001b[39m.\u001b[39m_accessors\n\u001b[0;32m   5899\u001b[0m     \u001b[39mand\u001b[39;00m \u001b[39mself\u001b[39m\u001b[39m.\u001b[39m_info_axis\u001b[39m.\u001b[39m_can_hold_identifiers_and_holds_name(name)\n\u001b[0;32m   5900\u001b[0m ):\n\u001b[0;32m   5901\u001b[0m     \u001b[39mreturn\u001b[39;00m \u001b[39mself\u001b[39m[name]\n\u001b[1;32m-> 5902\u001b[0m \u001b[39mreturn\u001b[39;00m \u001b[39mobject\u001b[39;49m\u001b[39m.\u001b[39;49m\u001b[39m__getattribute__\u001b[39;49m(\u001b[39mself\u001b[39;49m, name)\n",
      "\u001b[1;31mAttributeError\u001b[0m: 'Series' object has no attribute 'applymap'"
     ]
    }
   ],
   "source": [
    "# Example 11: Applying multiple functions to a DataFrame using applymap()\n",
    "def format_name_upper(name):\n",
    "    return name.upper()\n",
    "\n",
    "def format_name_lower(name):\n",
    "    return name.lower()\n",
    "\n",
    "df['Formatted_Name_Upper'] = df['Name'].applymap(format_name_upper)\n",
    "df['Formatted_Name_Lower'] = df['Name'].applymap(format_name_lower)\n",
    "print(\"\\nExample 11:\")\n",
    "print(df)"
   ]
  },
  {
   "cell_type": "code",
   "execution_count": 14,
   "metadata": {},
   "outputs": [
    {
     "name": "stdout",
     "output_type": "stream",
     "text": [
      "\n",
      "Example 12:\n",
      "Empty DataFrame\n",
      "Columns: [Age_in_Months]\n",
      "Index: []\n"
     ]
    }
   ],
   "source": [
    "# Example 12: Applying a function to a DataFrame column and creating a new DataFrame\n",
    "def age_in_months(age):\n",
    "    return age * 12\n",
    "\n",
    "age_in_months_df = pd.DataFrame(df['Age'].apply(age_in_months), columns=['Age_in_Months'])\n",
    "print(\"\\nExample 12:\")\n",
    "print(age_in_months_df)"
   ]
  },
  {
   "cell_type": "code",
   "execution_count": 15,
   "metadata": {},
   "outputs": [
    {
     "name": "stdout",
     "output_type": "stream",
     "text": [
      "\n",
      "Example 13:\n",
      "                 Name      House  Status  Age  Total_Appearances  \\\n",
      "0            Jon Snow      Stark  Living   35                 10   \n",
      "1  Daenerys Targaryen  Targaryen    Dead   30                 12   \n",
      "2    Tyrion Lannister  Lannister  Living   40                 15   \n",
      "3          Arya Stark      Stark  Living   18                  8   \n",
      "4    Cersei Lannister  Lannister    Dead   45                  6   \n",
      "\n",
      "   Battles_Fought  Age_5_Years_Later  Age_10_Years_Later Status_Summary  \\\n",
      "0               3                 40                  45         Living   \n",
      "1               5                 35                  40           Dead   \n",
      "2               2                 45                  50         Living   \n",
      "3               1                 23                  28         Living   \n",
      "4               4                 50                  55           Dead   \n",
      "\n",
      "  House_Location  Total_Characters Age_Category  Status_Code  Name_Length  \\\n",
      "0     Winterfell                13        Adult            1            8   \n",
      "1    Dragonstone                17        Adult            0           18   \n",
      "2  Casterly Rock                17       Senior            1           16   \n",
      "3     Winterfell                 9        Young            1           10   \n",
      "4  Casterly Rock                10       Senior            0           16   \n",
      "\n",
      "   Average_Appearances  \n",
      "0                  9.0  \n",
      "1                 12.0  \n",
      "2                 10.5  \n",
      "3                  9.0  \n",
      "4                 10.5  \n"
     ]
    }
   ],
   "source": [
    "# Example 13: Applying a function to a DataFrame group using groupby and transform()\n",
    "average_appearances = df.groupby('House')['Total_Appearances'].transform('mean')\n",
    "df['Average_Appearances'] = average_appearances\n",
    "print(\"\\nExample 13:\")\n",
    "print(df)"
   ]
  },
  {
   "cell_type": "code",
   "execution_count": 16,
   "metadata": {},
   "outputs": [
    {
     "name": "stdout",
     "output_type": "stream",
     "text": [
      "\n",
      "Example 14:\n",
      "House\n",
      "Lannister    0\n",
      "Stark        0\n",
      "Targaryen    0\n",
      "dtype: int64\n"
     ]
    },
    {
     "ename": "KeyError",
     "evalue": "'Total_Appearances'",
     "output_type": "error",
     "traceback": [
      "\u001b[1;31m---------------------------------------------------------------------------\u001b[0m",
      "\u001b[1;31mKeyError\u001b[0m                                  Traceback (most recent call last)",
      "File \u001b[1;32mc:\\Program Files\\Python311\\Lib\\site-packages\\pandas\\core\\indexes\\base.py:3802\u001b[0m, in \u001b[0;36mIndex.get_loc\u001b[1;34m(self, key, method, tolerance)\u001b[0m\n\u001b[0;32m   3801\u001b[0m \u001b[39mtry\u001b[39;00m:\n\u001b[1;32m-> 3802\u001b[0m     \u001b[39mreturn\u001b[39;00m \u001b[39mself\u001b[39;49m\u001b[39m.\u001b[39;49m_engine\u001b[39m.\u001b[39;49mget_loc(casted_key)\n\u001b[0;32m   3803\u001b[0m \u001b[39mexcept\u001b[39;00m \u001b[39mKeyError\u001b[39;00m \u001b[39mas\u001b[39;00m err:\n",
      "File \u001b[1;32mc:\\Program Files\\Python311\\Lib\\site-packages\\pandas\\_libs\\index.pyx:138\u001b[0m, in \u001b[0;36mpandas._libs.index.IndexEngine.get_loc\u001b[1;34m()\u001b[0m\n",
      "File \u001b[1;32mc:\\Program Files\\Python311\\Lib\\site-packages\\pandas\\_libs\\index.pyx:146\u001b[0m, in \u001b[0;36mpandas._libs.index.IndexEngine.get_loc\u001b[1;34m()\u001b[0m\n",
      "File \u001b[1;32mpandas\\_libs\\index_class_helper.pxi:49\u001b[0m, in \u001b[0;36mpandas._libs.index.Int64Engine._check_type\u001b[1;34m()\u001b[0m\n",
      "\u001b[1;31mKeyError\u001b[0m: 'Total_Appearances'",
      "\nThe above exception was the direct cause of the following exception:\n",
      "\u001b[1;31mKeyError\u001b[0m                                  Traceback (most recent call last)",
      "File \u001b[1;32mc:\\Program Files\\Python311\\Lib\\site-packages\\pandas\\core\\groupby\\generic.py:297\u001b[0m, in \u001b[0;36mSeriesGroupBy.aggregate\u001b[1;34m(self, func, engine, engine_kwargs, *args, **kwargs)\u001b[0m\n\u001b[0;32m    296\u001b[0m \u001b[39mtry\u001b[39;00m:\n\u001b[1;32m--> 297\u001b[0m     \u001b[39mreturn\u001b[39;00m \u001b[39mself\u001b[39;49m\u001b[39m.\u001b[39;49m_python_agg_general(func, \u001b[39m*\u001b[39;49margs, \u001b[39m*\u001b[39;49m\u001b[39m*\u001b[39;49mkwargs)\n\u001b[0;32m    298\u001b[0m \u001b[39mexcept\u001b[39;00m \u001b[39mKeyError\u001b[39;00m:\n\u001b[0;32m    299\u001b[0m     \u001b[39m# TODO: KeyError is raised in _python_agg_general,\u001b[39;00m\n\u001b[0;32m    300\u001b[0m     \u001b[39m#  see test_groupby.test_basic\u001b[39;00m\n",
      "File \u001b[1;32mc:\\Program Files\\Python311\\Lib\\site-packages\\pandas\\core\\groupby\\groupby.py:1682\u001b[0m, in \u001b[0;36mGroupBy._python_agg_general\u001b[1;34m(self, func, raise_on_typeerror, *args, **kwargs)\u001b[0m\n\u001b[0;32m   1680\u001b[0m \u001b[39mtry\u001b[39;00m:\n\u001b[0;32m   1681\u001b[0m     \u001b[39m# if this function is invalid for this dtype, we will ignore it.\u001b[39;00m\n\u001b[1;32m-> 1682\u001b[0m     result \u001b[39m=\u001b[39m \u001b[39mself\u001b[39;49m\u001b[39m.\u001b[39;49mgrouper\u001b[39m.\u001b[39;49magg_series(obj, f)\n\u001b[0;32m   1683\u001b[0m \u001b[39mexcept\u001b[39;00m \u001b[39mTypeError\u001b[39;00m:\n",
      "File \u001b[1;32mc:\\Program Files\\Python311\\Lib\\site-packages\\pandas\\core\\groupby\\ops.py:1081\u001b[0m, in \u001b[0;36mBaseGrouper.agg_series\u001b[1;34m(self, obj, func, preserve_dtype)\u001b[0m\n\u001b[0;32m   1080\u001b[0m \u001b[39melse\u001b[39;00m:\n\u001b[1;32m-> 1081\u001b[0m     result \u001b[39m=\u001b[39m \u001b[39mself\u001b[39;49m\u001b[39m.\u001b[39;49m_aggregate_series_pure_python(obj, func)\n\u001b[0;32m   1083\u001b[0m npvalues \u001b[39m=\u001b[39m lib\u001b[39m.\u001b[39mmaybe_convert_objects(result, try_float\u001b[39m=\u001b[39m\u001b[39mFalse\u001b[39;00m)\n",
      "File \u001b[1;32mc:\\Program Files\\Python311\\Lib\\site-packages\\pandas\\core\\groupby\\ops.py:1104\u001b[0m, in \u001b[0;36mBaseGrouper._aggregate_series_pure_python\u001b[1;34m(self, obj, func)\u001b[0m\n\u001b[0;32m   1103\u001b[0m \u001b[39mfor\u001b[39;00m i, group \u001b[39min\u001b[39;00m \u001b[39menumerate\u001b[39m(splitter):\n\u001b[1;32m-> 1104\u001b[0m     res \u001b[39m=\u001b[39m func(group)\n\u001b[0;32m   1105\u001b[0m     res \u001b[39m=\u001b[39m libreduction\u001b[39m.\u001b[39mextract_result(res)\n",
      "File \u001b[1;32mc:\\Program Files\\Python311\\Lib\\site-packages\\pandas\\core\\groupby\\groupby.py:1668\u001b[0m, in \u001b[0;36mGroupBy._python_agg_general.<locals>.<lambda>\u001b[1;34m(x)\u001b[0m\n\u001b[0;32m   1667\u001b[0m func \u001b[39m=\u001b[39m com\u001b[39m.\u001b[39mis_builtin_func(func)\n\u001b[1;32m-> 1668\u001b[0m f \u001b[39m=\u001b[39m \u001b[39mlambda\u001b[39;00m x: func(x, \u001b[39m*\u001b[39;49margs, \u001b[39m*\u001b[39;49m\u001b[39m*\u001b[39;49mkwargs)\n\u001b[0;32m   1670\u001b[0m \u001b[39m# iterate through \"columns\" ex exclusions to populate output dict\u001b[39;00m\n",
      "Cell \u001b[1;32mIn[16], line 12\u001b[0m, in \u001b[0;36maggregate_data\u001b[1;34m(group)\u001b[0m\n\u001b[0;32m     10\u001b[0m \u001b[39mdef\u001b[39;00m \u001b[39maggregate_data\u001b[39m(group):\n\u001b[0;32m     11\u001b[0m     \u001b[39mreturn\u001b[39;00m {\n\u001b[1;32m---> 12\u001b[0m         \u001b[39m'\u001b[39m\u001b[39mTotal_Appearances\u001b[39m\u001b[39m'\u001b[39m: group[\u001b[39m'\u001b[39;49m\u001b[39mTotal_Appearances\u001b[39;49m\u001b[39m'\u001b[39;49m]\u001b[39m.\u001b[39msum(),\n\u001b[0;32m     13\u001b[0m         \u001b[39m'\u001b[39m\u001b[39mBattles_Fought\u001b[39m\u001b[39m'\u001b[39m: group[\u001b[39m'\u001b[39m\u001b[39mBattles_Fought\u001b[39m\u001b[39m'\u001b[39m]\u001b[39m.\u001b[39msum()\n\u001b[0;32m     14\u001b[0m     }\n",
      "File \u001b[1;32mc:\\Program Files\\Python311\\Lib\\site-packages\\pandas\\core\\series.py:981\u001b[0m, in \u001b[0;36mSeries.__getitem__\u001b[1;34m(self, key)\u001b[0m\n\u001b[0;32m    980\u001b[0m \u001b[39melif\u001b[39;00m key_is_scalar:\n\u001b[1;32m--> 981\u001b[0m     \u001b[39mreturn\u001b[39;00m \u001b[39mself\u001b[39;49m\u001b[39m.\u001b[39;49m_get_value(key)\n\u001b[0;32m    983\u001b[0m \u001b[39mif\u001b[39;00m is_hashable(key):\n\u001b[0;32m    984\u001b[0m     \u001b[39m# Otherwise index.get_value will raise InvalidIndexError\u001b[39;00m\n",
      "File \u001b[1;32mc:\\Program Files\\Python311\\Lib\\site-packages\\pandas\\core\\series.py:1089\u001b[0m, in \u001b[0;36mSeries._get_value\u001b[1;34m(self, label, takeable)\u001b[0m\n\u001b[0;32m   1088\u001b[0m \u001b[39m# Similar to Index.get_value, but we do not fall back to positional\u001b[39;00m\n\u001b[1;32m-> 1089\u001b[0m loc \u001b[39m=\u001b[39m \u001b[39mself\u001b[39;49m\u001b[39m.\u001b[39;49mindex\u001b[39m.\u001b[39;49mget_loc(label)\n\u001b[0;32m   1090\u001b[0m \u001b[39mreturn\u001b[39;00m \u001b[39mself\u001b[39m\u001b[39m.\u001b[39mindex\u001b[39m.\u001b[39m_get_values_for_loc(\u001b[39mself\u001b[39m, loc, label)\n",
      "File \u001b[1;32mc:\\Program Files\\Python311\\Lib\\site-packages\\pandas\\core\\indexes\\base.py:3804\u001b[0m, in \u001b[0;36mIndex.get_loc\u001b[1;34m(self, key, method, tolerance)\u001b[0m\n\u001b[0;32m   3803\u001b[0m \u001b[39mexcept\u001b[39;00m \u001b[39mKeyError\u001b[39;00m \u001b[39mas\u001b[39;00m err:\n\u001b[1;32m-> 3804\u001b[0m     \u001b[39mraise\u001b[39;00m \u001b[39mKeyError\u001b[39;00m(key) \u001b[39mfrom\u001b[39;00m \u001b[39merr\u001b[39;00m\n\u001b[0;32m   3805\u001b[0m \u001b[39mexcept\u001b[39;00m \u001b[39mTypeError\u001b[39;00m:\n\u001b[0;32m   3806\u001b[0m     \u001b[39m# If we have a listlike key, _check_indexing_error will raise\u001b[39;00m\n\u001b[0;32m   3807\u001b[0m     \u001b[39m#  InvalidIndexError. Otherwise we fall through and re-raise\u001b[39;00m\n\u001b[0;32m   3808\u001b[0m     \u001b[39m#  the TypeError.\u001b[39;00m\n",
      "\u001b[1;31mKeyError\u001b[0m: 'Total_Appearances'",
      "\nDuring handling of the above exception, another exception occurred:\n",
      "\u001b[1;31mKeyError\u001b[0m                                  Traceback (most recent call last)",
      "File \u001b[1;32mc:\\Program Files\\Python311\\Lib\\site-packages\\pandas\\core\\indexes\\base.py:3802\u001b[0m, in \u001b[0;36mIndex.get_loc\u001b[1;34m(self, key, method, tolerance)\u001b[0m\n\u001b[0;32m   3801\u001b[0m \u001b[39mtry\u001b[39;00m:\n\u001b[1;32m-> 3802\u001b[0m     \u001b[39mreturn\u001b[39;00m \u001b[39mself\u001b[39;49m\u001b[39m.\u001b[39;49m_engine\u001b[39m.\u001b[39;49mget_loc(casted_key)\n\u001b[0;32m   3803\u001b[0m \u001b[39mexcept\u001b[39;00m \u001b[39mKeyError\u001b[39;00m \u001b[39mas\u001b[39;00m err:\n",
      "File \u001b[1;32mc:\\Program Files\\Python311\\Lib\\site-packages\\pandas\\_libs\\index.pyx:138\u001b[0m, in \u001b[0;36mpandas._libs.index.IndexEngine.get_loc\u001b[1;34m()\u001b[0m\n",
      "File \u001b[1;32mc:\\Program Files\\Python311\\Lib\\site-packages\\pandas\\_libs\\index.pyx:146\u001b[0m, in \u001b[0;36mpandas._libs.index.IndexEngine.get_loc\u001b[1;34m()\u001b[0m\n",
      "File \u001b[1;32mpandas\\_libs\\index_class_helper.pxi:49\u001b[0m, in \u001b[0;36mpandas._libs.index.Int64Engine._check_type\u001b[1;34m()\u001b[0m\n",
      "\u001b[1;31mKeyError\u001b[0m: 'Total_Appearances'",
      "\nThe above exception was the direct cause of the following exception:\n",
      "\u001b[1;31mKeyError\u001b[0m                                  Traceback (most recent call last)",
      "Cell \u001b[1;32mIn[16], line 16\u001b[0m\n\u001b[0;32m     10\u001b[0m \u001b[39mdef\u001b[39;00m \u001b[39maggregate_data\u001b[39m(group):\n\u001b[0;32m     11\u001b[0m     \u001b[39mreturn\u001b[39;00m {\n\u001b[0;32m     12\u001b[0m         \u001b[39m'\u001b[39m\u001b[39mTotal_Appearances\u001b[39m\u001b[39m'\u001b[39m: group[\u001b[39m'\u001b[39m\u001b[39mTotal_Appearances\u001b[39m\u001b[39m'\u001b[39m]\u001b[39m.\u001b[39msum(),\n\u001b[0;32m     13\u001b[0m         \u001b[39m'\u001b[39m\u001b[39mBattles_Fought\u001b[39m\u001b[39m'\u001b[39m: group[\u001b[39m'\u001b[39m\u001b[39mBattles_Fought\u001b[39m\u001b[39m'\u001b[39m]\u001b[39m.\u001b[39msum()\n\u001b[0;32m     14\u001b[0m     }\n\u001b[1;32m---> 16\u001b[0m grouped_data \u001b[39m=\u001b[39m df\u001b[39m.\u001b[39;49mgroupby(\u001b[39m'\u001b[39;49m\u001b[39mHouse\u001b[39;49m\u001b[39m'\u001b[39;49m)\u001b[39m.\u001b[39;49magg(aggregate_data)\n\u001b[0;32m     17\u001b[0m \u001b[39mprint\u001b[39m(\u001b[39m\"\u001b[39m\u001b[39m\\n\u001b[39;00m\u001b[39mExample 15:\u001b[39m\u001b[39m\"\u001b[39m)\n\u001b[0;32m     18\u001b[0m \u001b[39mprint\u001b[39m(grouped_data)\n",
      "File \u001b[1;32mc:\\Program Files\\Python311\\Lib\\site-packages\\pandas\\core\\groupby\\generic.py:926\u001b[0m, in \u001b[0;36mDataFrameGroupBy.aggregate\u001b[1;34m(self, func, engine, engine_kwargs, *args, **kwargs)\u001b[0m\n\u001b[0;32m    924\u001b[0m gba \u001b[39m=\u001b[39m GroupByApply(\u001b[39mself\u001b[39m, [func], args\u001b[39m=\u001b[39m(), kwargs\u001b[39m=\u001b[39m{})\n\u001b[0;32m    925\u001b[0m \u001b[39mtry\u001b[39;00m:\n\u001b[1;32m--> 926\u001b[0m     result \u001b[39m=\u001b[39m gba\u001b[39m.\u001b[39;49magg()\n\u001b[0;32m    928\u001b[0m \u001b[39mexcept\u001b[39;00m \u001b[39mValueError\u001b[39;00m \u001b[39mas\u001b[39;00m err:\n\u001b[0;32m    929\u001b[0m     \u001b[39mif\u001b[39;00m \u001b[39m\"\u001b[39m\u001b[39mno results\u001b[39m\u001b[39m\"\u001b[39m \u001b[39mnot\u001b[39;00m \u001b[39min\u001b[39;00m \u001b[39mstr\u001b[39m(err):\n\u001b[0;32m    930\u001b[0m         \u001b[39m# raised directly by _aggregate_multiple_funcs\u001b[39;00m\n",
      "File \u001b[1;32mc:\\Program Files\\Python311\\Lib\\site-packages\\pandas\\core\\apply.py:175\u001b[0m, in \u001b[0;36mApply.agg\u001b[1;34m(self)\u001b[0m\n\u001b[0;32m    172\u001b[0m     \u001b[39mreturn\u001b[39;00m \u001b[39mself\u001b[39m\u001b[39m.\u001b[39magg_dict_like()\n\u001b[0;32m    173\u001b[0m \u001b[39melif\u001b[39;00m is_list_like(arg):\n\u001b[0;32m    174\u001b[0m     \u001b[39m# we require a list, but not a 'str'\u001b[39;00m\n\u001b[1;32m--> 175\u001b[0m     \u001b[39mreturn\u001b[39;00m \u001b[39mself\u001b[39;49m\u001b[39m.\u001b[39;49magg_list_like()\n\u001b[0;32m    177\u001b[0m \u001b[39mif\u001b[39;00m callable(arg):\n\u001b[0;32m    178\u001b[0m     f \u001b[39m=\u001b[39m com\u001b[39m.\u001b[39mget_cython_func(arg)\n",
      "File \u001b[1;32mc:\\Program Files\\Python311\\Lib\\site-packages\\pandas\\core\\apply.py:401\u001b[0m, in \u001b[0;36mApply.agg_list_like\u001b[1;34m(self)\u001b[0m\n\u001b[0;32m    394\u001b[0m \u001b[39mtry\u001b[39;00m:\n\u001b[0;32m    395\u001b[0m     \u001b[39m# Capture and suppress any warnings emitted by us in the call\u001b[39;00m\n\u001b[0;32m    396\u001b[0m     \u001b[39m# to agg below, but pass through any warnings that were\u001b[39;00m\n\u001b[0;32m    397\u001b[0m     \u001b[39m# generated otherwise.\u001b[39;00m\n\u001b[0;32m    398\u001b[0m     \u001b[39m# This is necessary because of https://bugs.python.org/issue29672\u001b[39;00m\n\u001b[0;32m    399\u001b[0m     \u001b[39m# See GH #43741 for more details\u001b[39;00m\n\u001b[0;32m    400\u001b[0m     \u001b[39mwith\u001b[39;00m warnings\u001b[39m.\u001b[39mcatch_warnings(record\u001b[39m=\u001b[39m\u001b[39mTrue\u001b[39;00m) \u001b[39mas\u001b[39;00m record:\n\u001b[1;32m--> 401\u001b[0m         new_res \u001b[39m=\u001b[39m colg\u001b[39m.\u001b[39;49maggregate(arg)\n\u001b[0;32m    402\u001b[0m     \u001b[39mif\u001b[39;00m \u001b[39mlen\u001b[39m(record) \u001b[39m>\u001b[39m \u001b[39m0\u001b[39m:\n\u001b[0;32m    403\u001b[0m         match \u001b[39m=\u001b[39m re\u001b[39m.\u001b[39mcompile(depr_nuisance_columns_msg\u001b[39m.\u001b[39mformat(\u001b[39m\"\u001b[39m\u001b[39m.*\u001b[39m\u001b[39m\"\u001b[39m))\n",
      "File \u001b[1;32mc:\\Program Files\\Python311\\Lib\\site-packages\\pandas\\core\\groupby\\generic.py:281\u001b[0m, in \u001b[0;36mSeriesGroupBy.aggregate\u001b[1;34m(self, func, engine, engine_kwargs, *args, **kwargs)\u001b[0m\n\u001b[0;32m    277\u001b[0m \u001b[39melif\u001b[39;00m \u001b[39misinstance\u001b[39m(func, abc\u001b[39m.\u001b[39mIterable):\n\u001b[0;32m    278\u001b[0m     \u001b[39m# Catch instances of lists / tuples\u001b[39;00m\n\u001b[0;32m    279\u001b[0m     \u001b[39m# but not the class list / tuple itself.\u001b[39;00m\n\u001b[0;32m    280\u001b[0m     func \u001b[39m=\u001b[39m maybe_mangle_lambdas(func)\n\u001b[1;32m--> 281\u001b[0m     ret \u001b[39m=\u001b[39m \u001b[39mself\u001b[39;49m\u001b[39m.\u001b[39;49m_aggregate_multiple_funcs(func)\n\u001b[0;32m    282\u001b[0m     \u001b[39mif\u001b[39;00m relabeling:\n\u001b[0;32m    283\u001b[0m         \u001b[39m# columns is not narrowed by mypy from relabeling flag\u001b[39;00m\n\u001b[0;32m    284\u001b[0m         \u001b[39massert\u001b[39;00m columns \u001b[39mis\u001b[39;00m \u001b[39mnot\u001b[39;00m \u001b[39mNone\u001b[39;00m  \u001b[39m# for mypy\u001b[39;00m\n",
      "File \u001b[1;32mc:\\Program Files\\Python311\\Lib\\site-packages\\pandas\\core\\groupby\\generic.py:336\u001b[0m, in \u001b[0;36mSeriesGroupBy._aggregate_multiple_funcs\u001b[1;34m(self, arg)\u001b[0m\n\u001b[0;32m    333\u001b[0m \u001b[39mfor\u001b[39;00m idx, (name, func) \u001b[39min\u001b[39;00m \u001b[39menumerate\u001b[39m(arg):\n\u001b[0;32m    335\u001b[0m     key \u001b[39m=\u001b[39m base\u001b[39m.\u001b[39mOutputKey(label\u001b[39m=\u001b[39mname, position\u001b[39m=\u001b[39midx)\n\u001b[1;32m--> 336\u001b[0m     results[key] \u001b[39m=\u001b[39m \u001b[39mself\u001b[39;49m\u001b[39m.\u001b[39;49maggregate(func)\n\u001b[0;32m    338\u001b[0m \u001b[39mif\u001b[39;00m \u001b[39many\u001b[39m(\u001b[39misinstance\u001b[39m(x, DataFrame) \u001b[39mfor\u001b[39;00m x \u001b[39min\u001b[39;00m results\u001b[39m.\u001b[39mvalues()):\n\u001b[0;32m    339\u001b[0m     \u001b[39mfrom\u001b[39;00m \u001b[39mpandas\u001b[39;00m \u001b[39mimport\u001b[39;00m concat\n",
      "File \u001b[1;32mc:\\Program Files\\Python311\\Lib\\site-packages\\pandas\\core\\groupby\\generic.py:301\u001b[0m, in \u001b[0;36mSeriesGroupBy.aggregate\u001b[1;34m(self, func, engine, engine_kwargs, *args, **kwargs)\u001b[0m\n\u001b[0;32m    297\u001b[0m     \u001b[39mreturn\u001b[39;00m \u001b[39mself\u001b[39m\u001b[39m.\u001b[39m_python_agg_general(func, \u001b[39m*\u001b[39margs, \u001b[39m*\u001b[39m\u001b[39m*\u001b[39mkwargs)\n\u001b[0;32m    298\u001b[0m \u001b[39mexcept\u001b[39;00m \u001b[39mKeyError\u001b[39;00m:\n\u001b[0;32m    299\u001b[0m     \u001b[39m# TODO: KeyError is raised in _python_agg_general,\u001b[39;00m\n\u001b[0;32m    300\u001b[0m     \u001b[39m#  see test_groupby.test_basic\u001b[39;00m\n\u001b[1;32m--> 301\u001b[0m     result \u001b[39m=\u001b[39m \u001b[39mself\u001b[39;49m\u001b[39m.\u001b[39;49m_aggregate_named(func, \u001b[39m*\u001b[39;49margs, \u001b[39m*\u001b[39;49m\u001b[39m*\u001b[39;49mkwargs)\n\u001b[0;32m    303\u001b[0m     \u001b[39m# result is a dict whose keys are the elements of result_index\u001b[39;00m\n\u001b[0;32m    304\u001b[0m     index \u001b[39m=\u001b[39m \u001b[39mself\u001b[39m\u001b[39m.\u001b[39mgrouper\u001b[39m.\u001b[39mresult_index\n",
      "File \u001b[1;32mc:\\Program Files\\Python311\\Lib\\site-packages\\pandas\\core\\groupby\\generic.py:433\u001b[0m, in \u001b[0;36mSeriesGroupBy._aggregate_named\u001b[1;34m(self, func, *args, **kwargs)\u001b[0m\n\u001b[0;32m    430\u001b[0m \u001b[39mfor\u001b[39;00m name, group \u001b[39min\u001b[39;00m \u001b[39mself\u001b[39m:\n\u001b[0;32m    431\u001b[0m     \u001b[39mobject\u001b[39m\u001b[39m.\u001b[39m\u001b[39m__setattr__\u001b[39m(group, \u001b[39m\"\u001b[39m\u001b[39mname\u001b[39m\u001b[39m\"\u001b[39m, name)\n\u001b[1;32m--> 433\u001b[0m     output \u001b[39m=\u001b[39m func(group, \u001b[39m*\u001b[39;49margs, \u001b[39m*\u001b[39;49m\u001b[39m*\u001b[39;49mkwargs)\n\u001b[0;32m    434\u001b[0m     output \u001b[39m=\u001b[39m libreduction\u001b[39m.\u001b[39mextract_result(output)\n\u001b[0;32m    435\u001b[0m     \u001b[39mif\u001b[39;00m \u001b[39mnot\u001b[39;00m initialized:\n\u001b[0;32m    436\u001b[0m         \u001b[39m# We only do this validation on the first iteration\u001b[39;00m\n",
      "Cell \u001b[1;32mIn[16], line 12\u001b[0m, in \u001b[0;36maggregate_data\u001b[1;34m(group)\u001b[0m\n\u001b[0;32m     10\u001b[0m \u001b[39mdef\u001b[39;00m \u001b[39maggregate_data\u001b[39m(group):\n\u001b[0;32m     11\u001b[0m     \u001b[39mreturn\u001b[39;00m {\n\u001b[1;32m---> 12\u001b[0m         \u001b[39m'\u001b[39m\u001b[39mTotal_Appearances\u001b[39m\u001b[39m'\u001b[39m: group[\u001b[39m'\u001b[39;49m\u001b[39mTotal_Appearances\u001b[39;49m\u001b[39m'\u001b[39;49m]\u001b[39m.\u001b[39msum(),\n\u001b[0;32m     13\u001b[0m         \u001b[39m'\u001b[39m\u001b[39mBattles_Fought\u001b[39m\u001b[39m'\u001b[39m: group[\u001b[39m'\u001b[39m\u001b[39mBattles_Fought\u001b[39m\u001b[39m'\u001b[39m]\u001b[39m.\u001b[39msum()\n\u001b[0;32m     14\u001b[0m     }\n",
      "File \u001b[1;32mc:\\Program Files\\Python311\\Lib\\site-packages\\pandas\\core\\series.py:981\u001b[0m, in \u001b[0;36mSeries.__getitem__\u001b[1;34m(self, key)\u001b[0m\n\u001b[0;32m    978\u001b[0m     \u001b[39mreturn\u001b[39;00m \u001b[39mself\u001b[39m\u001b[39m.\u001b[39m_values[key]\n\u001b[0;32m    980\u001b[0m \u001b[39melif\u001b[39;00m key_is_scalar:\n\u001b[1;32m--> 981\u001b[0m     \u001b[39mreturn\u001b[39;00m \u001b[39mself\u001b[39;49m\u001b[39m.\u001b[39;49m_get_value(key)\n\u001b[0;32m    983\u001b[0m \u001b[39mif\u001b[39;00m is_hashable(key):\n\u001b[0;32m    984\u001b[0m     \u001b[39m# Otherwise index.get_value will raise InvalidIndexError\u001b[39;00m\n\u001b[0;32m    985\u001b[0m     \u001b[39mtry\u001b[39;00m:\n\u001b[0;32m    986\u001b[0m         \u001b[39m# For labels that don't resolve as scalars like tuples and frozensets\u001b[39;00m\n",
      "File \u001b[1;32mc:\\Program Files\\Python311\\Lib\\site-packages\\pandas\\core\\series.py:1089\u001b[0m, in \u001b[0;36mSeries._get_value\u001b[1;34m(self, label, takeable)\u001b[0m\n\u001b[0;32m   1086\u001b[0m     \u001b[39mreturn\u001b[39;00m \u001b[39mself\u001b[39m\u001b[39m.\u001b[39m_values[label]\n\u001b[0;32m   1088\u001b[0m \u001b[39m# Similar to Index.get_value, but we do not fall back to positional\u001b[39;00m\n\u001b[1;32m-> 1089\u001b[0m loc \u001b[39m=\u001b[39m \u001b[39mself\u001b[39;49m\u001b[39m.\u001b[39;49mindex\u001b[39m.\u001b[39;49mget_loc(label)\n\u001b[0;32m   1090\u001b[0m \u001b[39mreturn\u001b[39;00m \u001b[39mself\u001b[39m\u001b[39m.\u001b[39mindex\u001b[39m.\u001b[39m_get_values_for_loc(\u001b[39mself\u001b[39m, loc, label)\n",
      "File \u001b[1;32mc:\\Program Files\\Python311\\Lib\\site-packages\\pandas\\core\\indexes\\base.py:3804\u001b[0m, in \u001b[0;36mIndex.get_loc\u001b[1;34m(self, key, method, tolerance)\u001b[0m\n\u001b[0;32m   3802\u001b[0m     \u001b[39mreturn\u001b[39;00m \u001b[39mself\u001b[39m\u001b[39m.\u001b[39m_engine\u001b[39m.\u001b[39mget_loc(casted_key)\n\u001b[0;32m   3803\u001b[0m \u001b[39mexcept\u001b[39;00m \u001b[39mKeyError\u001b[39;00m \u001b[39mas\u001b[39;00m err:\n\u001b[1;32m-> 3804\u001b[0m     \u001b[39mraise\u001b[39;00m \u001b[39mKeyError\u001b[39;00m(key) \u001b[39mfrom\u001b[39;00m \u001b[39merr\u001b[39;00m\n\u001b[0;32m   3805\u001b[0m \u001b[39mexcept\u001b[39;00m \u001b[39mTypeError\u001b[39;00m:\n\u001b[0;32m   3806\u001b[0m     \u001b[39m# If we have a listlike key, _check_indexing_error will raise\u001b[39;00m\n\u001b[0;32m   3807\u001b[0m     \u001b[39m#  InvalidIndexError. Otherwise we fall through and re-raise\u001b[39;00m\n\u001b[0;32m   3808\u001b[0m     \u001b[39m#  the TypeError.\u001b[39;00m\n\u001b[0;32m   3809\u001b[0m     \u001b[39mself\u001b[39m\u001b[39m.\u001b[39m_check_indexing_error(key)\n",
      "\u001b[1;31mKeyError\u001b[0m: 'Total_Appearances'"
     ]
    }
   ],
   "source": [
    "# Example 14: Applying a function to a DataFrame group using groupby and apply()\n",
    "def count_alive_characters(group):\n",
    "    return group[group['Status'] == 'Alive'].shape[0]\n",
    "\n",
    "alive_characters_count = df.groupby('House').apply(count_alive_characters)\n",
    "print(\"\\nExample 14:\")\n",
    "print(alive_characters_count)\n",
    "\n",
    "# Example 15: Applying a function to a DataFrame group using groupby and agg()\n",
    "def aggregate_data(group):\n",
    "    return {\n",
    "        'Total_Appearances': group['Total_Appearances'].sum(),\n",
    "        'Battles_Fought': group['Battles_Fought'].sum()\n",
    "    }\n",
    "\n",
    "grouped_data = df.groupby('House').agg(aggregate_data)\n",
    "print(\"\\nExample 15:\")\n",
    "print(grouped_data)\n"
   ]
  },
  {
   "cell_type": "code",
   "execution_count": 17,
   "metadata": {},
   "outputs": [
    {
     "ename": "KeyError",
     "evalue": "'Status'",
     "output_type": "error",
     "traceback": [
      "\u001b[1;31m---------------------------------------------------------------------------\u001b[0m",
      "\u001b[1;31mKeyError\u001b[0m                                  Traceback (most recent call last)",
      "File \u001b[1;32mc:\\Program Files\\Python311\\Lib\\site-packages\\pandas\\core\\indexes\\base.py:3802\u001b[0m, in \u001b[0;36mIndex.get_loc\u001b[1;34m(self, key, method, tolerance)\u001b[0m\n\u001b[0;32m   3801\u001b[0m \u001b[39mtry\u001b[39;00m:\n\u001b[1;32m-> 3802\u001b[0m     \u001b[39mreturn\u001b[39;00m \u001b[39mself\u001b[39;49m\u001b[39m.\u001b[39;49m_engine\u001b[39m.\u001b[39;49mget_loc(casted_key)\n\u001b[0;32m   3803\u001b[0m \u001b[39mexcept\u001b[39;00m \u001b[39mKeyError\u001b[39;00m \u001b[39mas\u001b[39;00m err:\n",
      "File \u001b[1;32mc:\\Program Files\\Python311\\Lib\\site-packages\\pandas\\_libs\\index.pyx:138\u001b[0m, in \u001b[0;36mpandas._libs.index.IndexEngine.get_loc\u001b[1;34m()\u001b[0m\n",
      "File \u001b[1;32mc:\\Program Files\\Python311\\Lib\\site-packages\\pandas\\_libs\\index.pyx:146\u001b[0m, in \u001b[0;36mpandas._libs.index.IndexEngine.get_loc\u001b[1;34m()\u001b[0m\n",
      "File \u001b[1;32mpandas\\_libs\\index_class_helper.pxi:49\u001b[0m, in \u001b[0;36mpandas._libs.index.Int64Engine._check_type\u001b[1;34m()\u001b[0m\n",
      "\u001b[1;31mKeyError\u001b[0m: 'Status'",
      "\nThe above exception was the direct cause of the following exception:\n",
      "\u001b[1;31mKeyError\u001b[0m                                  Traceback (most recent call last)",
      "Cell \u001b[1;32mIn[17], line 5\u001b[0m\n\u001b[0;32m      2\u001b[0m \u001b[39mdef\u001b[39;00m \u001b[39mcount_alive_characters\u001b[39m(group):\n\u001b[0;32m      3\u001b[0m     \u001b[39mreturn\u001b[39;00m group[group[\u001b[39m'\u001b[39m\u001b[39mStatus\u001b[39m\u001b[39m'\u001b[39m] \u001b[39m==\u001b[39m \u001b[39m'\u001b[39m\u001b[39mAlive\u001b[39m\u001b[39m'\u001b[39m]\u001b[39m.\u001b[39mshape[\u001b[39m0\u001b[39m]\n\u001b[1;32m----> 5\u001b[0m alive_characters_count \u001b[39m=\u001b[39m df\u001b[39m.\u001b[39;49mgroupby(\u001b[39m'\u001b[39;49m\u001b[39mHouse\u001b[39;49m\u001b[39m'\u001b[39;49m)[\u001b[39m'\u001b[39;49m\u001b[39mStatus\u001b[39;49m\u001b[39m'\u001b[39;49m]\u001b[39m.\u001b[39;49mtransform(count_alive_characters)\n\u001b[0;32m      6\u001b[0m df[\u001b[39m'\u001b[39m\u001b[39mAlive_Characters_Count\u001b[39m\u001b[39m'\u001b[39m] \u001b[39m=\u001b[39m alive_characters_count\n\u001b[0;32m      7\u001b[0m \u001b[39mprint\u001b[39m(\u001b[39m\"\u001b[39m\u001b[39m\\n\u001b[39;00m\u001b[39mExample 16:\u001b[39m\u001b[39m\"\u001b[39m)\n",
      "File \u001b[1;32mc:\\Program Files\\Python311\\Lib\\site-packages\\pandas\\core\\groupby\\generic.py:446\u001b[0m, in \u001b[0;36mSeriesGroupBy.transform\u001b[1;34m(self, func, engine, engine_kwargs, *args, **kwargs)\u001b[0m\n\u001b[0;32m    443\u001b[0m \u001b[39m@Substitution\u001b[39m(klass\u001b[39m=\u001b[39m\u001b[39m\"\u001b[39m\u001b[39mSeries\u001b[39m\u001b[39m\"\u001b[39m)\n\u001b[0;32m    444\u001b[0m \u001b[39m@Appender\u001b[39m(_transform_template)\n\u001b[0;32m    445\u001b[0m \u001b[39mdef\u001b[39;00m \u001b[39mtransform\u001b[39m(\u001b[39mself\u001b[39m, func, \u001b[39m*\u001b[39margs, engine\u001b[39m=\u001b[39m\u001b[39mNone\u001b[39;00m, engine_kwargs\u001b[39m=\u001b[39m\u001b[39mNone\u001b[39;00m, \u001b[39m*\u001b[39m\u001b[39m*\u001b[39mkwargs):\n\u001b[1;32m--> 446\u001b[0m     \u001b[39mreturn\u001b[39;00m \u001b[39mself\u001b[39;49m\u001b[39m.\u001b[39;49m_transform(\n\u001b[0;32m    447\u001b[0m         func, \u001b[39m*\u001b[39;49margs, engine\u001b[39m=\u001b[39;49mengine, engine_kwargs\u001b[39m=\u001b[39;49mengine_kwargs, \u001b[39m*\u001b[39;49m\u001b[39m*\u001b[39;49mkwargs\n\u001b[0;32m    448\u001b[0m     )\n",
      "File \u001b[1;32mc:\\Program Files\\Python311\\Lib\\site-packages\\pandas\\core\\groupby\\groupby.py:1851\u001b[0m, in \u001b[0;36mGroupBy._transform\u001b[1;34m(self, func, engine, engine_kwargs, *args, **kwargs)\u001b[0m\n\u001b[0;32m   1848\u001b[0m func \u001b[39m=\u001b[39m com\u001b[39m.\u001b[39mget_cython_func(func) \u001b[39mor\u001b[39;00m func\n\u001b[0;32m   1850\u001b[0m \u001b[39mif\u001b[39;00m \u001b[39mnot\u001b[39;00m \u001b[39misinstance\u001b[39m(func, \u001b[39mstr\u001b[39m):\n\u001b[1;32m-> 1851\u001b[0m     \u001b[39mreturn\u001b[39;00m \u001b[39mself\u001b[39;49m\u001b[39m.\u001b[39;49m_transform_general(func, \u001b[39m*\u001b[39;49margs, \u001b[39m*\u001b[39;49m\u001b[39m*\u001b[39;49mkwargs)\n\u001b[0;32m   1853\u001b[0m \u001b[39melif\u001b[39;00m func \u001b[39mnot\u001b[39;00m \u001b[39min\u001b[39;00m base\u001b[39m.\u001b[39mtransform_kernel_allowlist:\n\u001b[0;32m   1854\u001b[0m     msg \u001b[39m=\u001b[39m \u001b[39mf\u001b[39m\u001b[39m\"\u001b[39m\u001b[39m'\u001b[39m\u001b[39m{\u001b[39;00mfunc\u001b[39m}\u001b[39;00m\u001b[39m'\u001b[39m\u001b[39m is not a valid function name for transform(name)\u001b[39m\u001b[39m\"\u001b[39m\n",
      "File \u001b[1;32mc:\\Program Files\\Python311\\Lib\\site-packages\\pandas\\core\\groupby\\generic.py:479\u001b[0m, in \u001b[0;36mSeriesGroupBy._transform_general\u001b[1;34m(self, func, *args, **kwargs)\u001b[0m\n\u001b[0;32m    474\u001b[0m \u001b[39mfor\u001b[39;00m name, group \u001b[39min\u001b[39;00m \u001b[39mself\u001b[39m\u001b[39m.\u001b[39mgrouper\u001b[39m.\u001b[39mget_iterator(\n\u001b[0;32m    475\u001b[0m     \u001b[39mself\u001b[39m\u001b[39m.\u001b[39m_selected_obj, axis\u001b[39m=\u001b[39m\u001b[39mself\u001b[39m\u001b[39m.\u001b[39maxis\n\u001b[0;32m    476\u001b[0m ):\n\u001b[0;32m    477\u001b[0m     \u001b[39m# this setattr is needed for test_transform_lambda_with_datetimetz\u001b[39;00m\n\u001b[0;32m    478\u001b[0m     \u001b[39mobject\u001b[39m\u001b[39m.\u001b[39m\u001b[39m__setattr__\u001b[39m(group, \u001b[39m\"\u001b[39m\u001b[39mname\u001b[39m\u001b[39m\"\u001b[39m, name)\n\u001b[1;32m--> 479\u001b[0m     res \u001b[39m=\u001b[39m func(group, \u001b[39m*\u001b[39;49margs, \u001b[39m*\u001b[39;49m\u001b[39m*\u001b[39;49mkwargs)\n\u001b[0;32m    481\u001b[0m     results\u001b[39m.\u001b[39mappend(klass(res, index\u001b[39m=\u001b[39mgroup\u001b[39m.\u001b[39mindex))\n\u001b[0;32m    483\u001b[0m \u001b[39m# check for empty \"results\" to avoid concat ValueError\u001b[39;00m\n",
      "Cell \u001b[1;32mIn[17], line 3\u001b[0m, in \u001b[0;36mcount_alive_characters\u001b[1;34m(group)\u001b[0m\n\u001b[0;32m      2\u001b[0m \u001b[39mdef\u001b[39;00m \u001b[39mcount_alive_characters\u001b[39m(group):\n\u001b[1;32m----> 3\u001b[0m     \u001b[39mreturn\u001b[39;00m group[group[\u001b[39m'\u001b[39;49m\u001b[39mStatus\u001b[39;49m\u001b[39m'\u001b[39;49m] \u001b[39m==\u001b[39m \u001b[39m'\u001b[39m\u001b[39mAlive\u001b[39m\u001b[39m'\u001b[39m]\u001b[39m.\u001b[39mshape[\u001b[39m0\u001b[39m]\n",
      "File \u001b[1;32mc:\\Program Files\\Python311\\Lib\\site-packages\\pandas\\core\\series.py:981\u001b[0m, in \u001b[0;36mSeries.__getitem__\u001b[1;34m(self, key)\u001b[0m\n\u001b[0;32m    978\u001b[0m     \u001b[39mreturn\u001b[39;00m \u001b[39mself\u001b[39m\u001b[39m.\u001b[39m_values[key]\n\u001b[0;32m    980\u001b[0m \u001b[39melif\u001b[39;00m key_is_scalar:\n\u001b[1;32m--> 981\u001b[0m     \u001b[39mreturn\u001b[39;00m \u001b[39mself\u001b[39;49m\u001b[39m.\u001b[39;49m_get_value(key)\n\u001b[0;32m    983\u001b[0m \u001b[39mif\u001b[39;00m is_hashable(key):\n\u001b[0;32m    984\u001b[0m     \u001b[39m# Otherwise index.get_value will raise InvalidIndexError\u001b[39;00m\n\u001b[0;32m    985\u001b[0m     \u001b[39mtry\u001b[39;00m:\n\u001b[0;32m    986\u001b[0m         \u001b[39m# For labels that don't resolve as scalars like tuples and frozensets\u001b[39;00m\n",
      "File \u001b[1;32mc:\\Program Files\\Python311\\Lib\\site-packages\\pandas\\core\\series.py:1089\u001b[0m, in \u001b[0;36mSeries._get_value\u001b[1;34m(self, label, takeable)\u001b[0m\n\u001b[0;32m   1086\u001b[0m     \u001b[39mreturn\u001b[39;00m \u001b[39mself\u001b[39m\u001b[39m.\u001b[39m_values[label]\n\u001b[0;32m   1088\u001b[0m \u001b[39m# Similar to Index.get_value, but we do not fall back to positional\u001b[39;00m\n\u001b[1;32m-> 1089\u001b[0m loc \u001b[39m=\u001b[39m \u001b[39mself\u001b[39;49m\u001b[39m.\u001b[39;49mindex\u001b[39m.\u001b[39;49mget_loc(label)\n\u001b[0;32m   1090\u001b[0m \u001b[39mreturn\u001b[39;00m \u001b[39mself\u001b[39m\u001b[39m.\u001b[39mindex\u001b[39m.\u001b[39m_get_values_for_loc(\u001b[39mself\u001b[39m, loc, label)\n",
      "File \u001b[1;32mc:\\Program Files\\Python311\\Lib\\site-packages\\pandas\\core\\indexes\\base.py:3804\u001b[0m, in \u001b[0;36mIndex.get_loc\u001b[1;34m(self, key, method, tolerance)\u001b[0m\n\u001b[0;32m   3802\u001b[0m     \u001b[39mreturn\u001b[39;00m \u001b[39mself\u001b[39m\u001b[39m.\u001b[39m_engine\u001b[39m.\u001b[39mget_loc(casted_key)\n\u001b[0;32m   3803\u001b[0m \u001b[39mexcept\u001b[39;00m \u001b[39mKeyError\u001b[39;00m \u001b[39mas\u001b[39;00m err:\n\u001b[1;32m-> 3804\u001b[0m     \u001b[39mraise\u001b[39;00m \u001b[39mKeyError\u001b[39;00m(key) \u001b[39mfrom\u001b[39;00m \u001b[39merr\u001b[39;00m\n\u001b[0;32m   3805\u001b[0m \u001b[39mexcept\u001b[39;00m \u001b[39mTypeError\u001b[39;00m:\n\u001b[0;32m   3806\u001b[0m     \u001b[39m# If we have a listlike key, _check_indexing_error will raise\u001b[39;00m\n\u001b[0;32m   3807\u001b[0m     \u001b[39m#  InvalidIndexError. Otherwise we fall through and re-raise\u001b[39;00m\n\u001b[0;32m   3808\u001b[0m     \u001b[39m#  the TypeError.\u001b[39;00m\n\u001b[0;32m   3809\u001b[0m     \u001b[39mself\u001b[39m\u001b[39m.\u001b[39m_check_indexing_error(key)\n",
      "\u001b[1;31mKeyError\u001b[0m: 'Status'"
     ]
    }
   ],
   "source": [
    "# Example 16: Applying a function to a DataFrame group and combining the result with transform()\n",
    "def count_alive_characters(group):\n",
    "    return group[group['Status'] == 'Alive'].shape[0]\n",
    "\n",
    "alive_characters_count = df.groupby('House')['Status'].transform(count_alive_characters)\n",
    "df['Alive_Characters_Count'] = alive_characters_count\n",
    "print(\"\\nExample 16:\")\n",
    "print(df)"
   ]
  },
  {
   "cell_type": "code",
   "execution_count": 18,
   "metadata": {},
   "outputs": [
    {
     "name": "stdout",
     "output_type": "stream",
     "text": [
      "\n",
      "Example 17:\n",
      "                 Name      House Status  Age  Total_Appearances  \\\n",
      "0            Jon Snow      Stark    NaN   35                 10   \n",
      "1  Daenerys Targaryen  Targaryen    NaN   30                 12   \n",
      "2    Tyrion Lannister  Lannister    NaN   40                 15   \n",
      "3          Arya Stark      Stark    NaN   18                  8   \n",
      "4    Cersei Lannister  Lannister    NaN   45                  6   \n",
      "\n",
      "   Battles_Fought  Age_5_Years_Later  Age_10_Years_Later Status_Summary  \\\n",
      "0               3                 40                  45         Living   \n",
      "1               5                 35                  40           Dead   \n",
      "2               2                 45                  50         Living   \n",
      "3               1                 23                  28         Living   \n",
      "4               4                 50                  55           Dead   \n",
      "\n",
      "  House_Location  Total_Characters Age_Category  Status_Code  Name_Length  \\\n",
      "0     Winterfell                13        Adult            1            8   \n",
      "1    Dragonstone                17        Adult            0           18   \n",
      "2  Casterly Rock                17       Senior            1           16   \n",
      "3     Winterfell                 9        Young            1           10   \n",
      "4  Casterly Rock                10       Senior            0           16   \n",
      "\n",
      "   Average_Appearances  \n",
      "0                  9.0  \n",
      "1                 12.0  \n",
      "2                 10.5  \n",
      "3                  9.0  \n",
      "4                 10.5  \n"
     ]
    }
   ],
   "source": [
    "# Example 17: Applying a function to a DataFrame column using the map() method\n",
    "status_mapping = {'Alive': 'Living', 'Deceased': 'Dead'}\n",
    "df['Status'] = df['Status'].map(status_mapping)\n",
    "print(\"\\nExample 17:\")\n",
    "print(df)"
   ]
  },
  {
   "cell_type": "code",
   "execution_count": 19,
   "metadata": {},
   "outputs": [
    {
     "name": "stdout",
     "output_type": "stream",
     "text": [
      "\n",
      "Example 18:\n",
      "                 Name      House    Status  Age  Total_Appearances  \\\n",
      "0            Jon Snow      Stark  Deceased   35                 10   \n",
      "1  Daenerys Targaryen  Targaryen  Deceased   30                 12   \n",
      "2    Tyrion Lannister  Lannister  Deceased   40                 15   \n",
      "3          Arya Stark      Stark  Deceased   18                  8   \n",
      "4    Cersei Lannister  Lannister  Deceased   45                  6   \n",
      "\n",
      "   Battles_Fought  Age_5_Years_Later  Age_10_Years_Later Status_Summary  \\\n",
      "0               3                 40                  45         Living   \n",
      "1               5                 35                  40           Dead   \n",
      "2               2                 45                  50         Living   \n",
      "3               1                 23                  28         Living   \n",
      "4               4                 50                  55           Dead   \n",
      "\n",
      "  House_Location  Total_Characters Age_Category  Status_Code  Name_Length  \\\n",
      "0     Winterfell                13        Adult            1            8   \n",
      "1    Dragonstone                17        Adult            0           18   \n",
      "2  Casterly Rock                17       Senior            1           16   \n",
      "3     Winterfell                 9        Young            1           10   \n",
      "4  Casterly Rock                10       Senior            0           16   \n",
      "\n",
      "   Average_Appearances  \n",
      "0                  9.0  \n",
      "1                 12.0  \n",
      "2                 10.5  \n",
      "3                  9.0  \n",
      "4                 10.5  \n"
     ]
    },
    {
     "ename": "AttributeError",
     "evalue": "'Series' object has no attribute 'applymap'",
     "output_type": "error",
     "traceback": [
      "\u001b[1;31m---------------------------------------------------------------------------\u001b[0m",
      "\u001b[1;31mAttributeError\u001b[0m                            Traceback (most recent call last)",
      "Cell \u001b[1;32mIn[19], line 10\u001b[0m\n\u001b[0;32m      7\u001b[0m \u001b[39mprint\u001b[39m(df)\n\u001b[0;32m      9\u001b[0m \u001b[39m# Example 19: Using the applymap() method to apply a function element-wise to a DataFrame\u001b[39;00m\n\u001b[1;32m---> 10\u001b[0m df[\u001b[39m'\u001b[39m\u001b[39mName\u001b[39m\u001b[39m'\u001b[39m] \u001b[39m=\u001b[39m df[\u001b[39m'\u001b[39;49m\u001b[39mName\u001b[39;49m\u001b[39m'\u001b[39;49m]\u001b[39m.\u001b[39;49mapplymap(\u001b[39mstr\u001b[39m\u001b[39m.\u001b[39mupper)\n\u001b[0;32m     11\u001b[0m \u001b[39mprint\u001b[39m(\u001b[39m\"\u001b[39m\u001b[39m\\n\u001b[39;00m\u001b[39mExample 19:\u001b[39m\u001b[39m\"\u001b[39m)\n\u001b[0;32m     12\u001b[0m \u001b[39mprint\u001b[39m(df)\n",
      "File \u001b[1;32mc:\\Program Files\\Python311\\Lib\\site-packages\\pandas\\core\\generic.py:5902\u001b[0m, in \u001b[0;36mNDFrame.__getattr__\u001b[1;34m(self, name)\u001b[0m\n\u001b[0;32m   5895\u001b[0m \u001b[39mif\u001b[39;00m (\n\u001b[0;32m   5896\u001b[0m     name \u001b[39mnot\u001b[39;00m \u001b[39min\u001b[39;00m \u001b[39mself\u001b[39m\u001b[39m.\u001b[39m_internal_names_set\n\u001b[0;32m   5897\u001b[0m     \u001b[39mand\u001b[39;00m name \u001b[39mnot\u001b[39;00m \u001b[39min\u001b[39;00m \u001b[39mself\u001b[39m\u001b[39m.\u001b[39m_metadata\n\u001b[0;32m   5898\u001b[0m     \u001b[39mand\u001b[39;00m name \u001b[39mnot\u001b[39;00m \u001b[39min\u001b[39;00m \u001b[39mself\u001b[39m\u001b[39m.\u001b[39m_accessors\n\u001b[0;32m   5899\u001b[0m     \u001b[39mand\u001b[39;00m \u001b[39mself\u001b[39m\u001b[39m.\u001b[39m_info_axis\u001b[39m.\u001b[39m_can_hold_identifiers_and_holds_name(name)\n\u001b[0;32m   5900\u001b[0m ):\n\u001b[0;32m   5901\u001b[0m     \u001b[39mreturn\u001b[39;00m \u001b[39mself\u001b[39m[name]\n\u001b[1;32m-> 5902\u001b[0m \u001b[39mreturn\u001b[39;00m \u001b[39mobject\u001b[39;49m\u001b[39m.\u001b[39;49m\u001b[39m__getattribute__\u001b[39;49m(\u001b[39mself\u001b[39;49m, name)\n",
      "\u001b[1;31mAttributeError\u001b[0m: 'Series' object has no attribute 'applymap'"
     ]
    }
   ],
   "source": [
    "# Example 18: Applying a function element-wise to a DataFrame using the apply() method\n",
    "def get_status_summary(row):\n",
    "    return 'Alive' if row['Status'] == 'Living' else 'Deceased'\n",
    "\n",
    "df['Status'] = df.apply(get_status_summary, axis=1)\n",
    "print(\"\\nExample 18:\")\n",
    "print(df)\n",
    "\n",
    "# Example 19: Using the applymap() method to apply a function element-wise to a DataFrame\n",
    "df['Name'] = df['Name'].applymap(str.upper)\n",
    "print(\"\\nExample 19:\")\n",
    "print(df)"
   ]
  },
  {
   "cell_type": "code",
   "execution_count": 20,
   "metadata": {},
   "outputs": [
    {
     "name": "stdout",
     "output_type": "stream",
     "text": [
      "\n",
      "Example 20:\n",
      "                 Name  Name_Length\n",
      "0            Jon Snow            8\n",
      "1  Daenerys Targaryen           18\n",
      "2    Tyrion Lannister           16\n",
      "3          Arya Stark           10\n",
      "4    Cersei Lannister           16\n",
      "\n",
      "Example 21:\n",
      "                 Name      House    Status  Age  Total_Appearances  \\\n",
      "0            Jon Snow      Stark  Deceased   35                 10   \n",
      "1  Daenerys Targaryen  Targaryen  Deceased   30                 12   \n",
      "2    Tyrion Lannister  Lannister  Deceased   40                 15   \n",
      "3          Arya Stark      Stark  Deceased   18                  8   \n",
      "4    Cersei Lannister  Lannister  Deceased   45                  6   \n",
      "\n",
      "   Battles_Fought  Age_5_Years_Later  Age_10_Years_Later Status_Summary  \\\n",
      "0               3                 40                  45         Living   \n",
      "1               5                 35                  40           Dead   \n",
      "2               2                 45                  50         Living   \n",
      "3               1                 23                  28         Living   \n",
      "4               4                 50                  55           Dead   \n",
      "\n",
      "  House_Location  Total_Characters Age_Category  Status_Code  Name_Length  \\\n",
      "0     Winterfell                13        Adult            1            8   \n",
      "1    Dragonstone                17        Adult            0           18   \n",
      "2  Casterly Rock                17       Senior            1           16   \n",
      "3     Winterfell                 9        Young            1           10   \n",
      "4  Casterly Rock                10       Senior            0           16   \n",
      "\n",
      "   Average_Appearances  \n",
      "0                  9.0  \n",
      "1                 12.0  \n",
      "2                 10.5  \n",
      "3                  9.0  \n",
      "4                 10.5  \n"
     ]
    }
   ],
   "source": [
    "# Example 20: Applying a function element-wise to a Series and creating a new DataFrame\n",
    "df['Name_Length'] = df['Name'].apply(len)\n",
    "name_lengths_df = df[['Name', 'Name_Length']]\n",
    "print(\"\\nExample 20:\")\n",
    "print(name_lengths_df)\n",
    "\n",
    "# Example 21: Applying a function element-wise to a Series with conditional logic\n",
    "def age_category(age):\n",
    "    if age < 25:\n",
    "        return 'Young'\n",
    "    elif age >= 25 and age < 40:\n",
    "        return 'Adult'\n",
    "    else:\n",
    "        return 'Senior'\n",
    "\n",
    "df['Age_Category'] = df['Age'].apply(age_category)\n",
    "print(\"\\nExample 21:\")\n",
    "print(df)"
   ]
  },
  {
   "cell_type": "code",
   "execution_count": 21,
   "metadata": {},
   "outputs": [
    {
     "name": "stdout",
     "output_type": "stream",
     "text": [
      "\n",
      "Example 22:\n",
      "                 Name      House Status  Age  Total_Appearances  \\\n",
      "0            Jon Snow      Stark    NaN   35                 10   \n",
      "1  Daenerys Targaryen  Targaryen    NaN   30                 12   \n",
      "2    Tyrion Lannister  Lannister    NaN   40                 15   \n",
      "3          Arya Stark      Stark    NaN   18                  8   \n",
      "4    Cersei Lannister  Lannister    NaN   45                  6   \n",
      "\n",
      "   Battles_Fought  Age_5_Years_Later  Age_10_Years_Later Status_Summary  \\\n",
      "0               3                 40                  45         Living   \n",
      "1               5                 35                  40           Dead   \n",
      "2               2                 45                  50         Living   \n",
      "3               1                 23                  28         Living   \n",
      "4               4                 50                  55           Dead   \n",
      "\n",
      "  House_Location  Total_Characters Age_Category  Status_Code  Name_Length  \\\n",
      "0     Winterfell                13        Adult            1            8   \n",
      "1    Dragonstone                17        Adult            0           18   \n",
      "2  Casterly Rock                17       Senior            1           16   \n",
      "3     Winterfell                 9        Young            1           10   \n",
      "4  Casterly Rock                10       Senior            0           16   \n",
      "\n",
      "   Average_Appearances  \n",
      "0                  9.0  \n",
      "1                 12.0  \n",
      "2                 10.5  \n",
      "3                  9.0  \n",
      "4                 10.5  \n"
     ]
    }
   ],
   "source": [
    "# Example 22: Using the map() function with a dictionary for data replacement\n",
    "status_mapping = {'Living': 'Alive', 'Dead': 'Deceased'}\n",
    "df['Status'] = df['Status'].map(status_mapping)\n",
    "print(\"\\nExample 22:\")\n",
    "print(df)"
   ]
  },
  {
   "cell_type": "code",
   "execution_count": 22,
   "metadata": {},
   "outputs": [
    {
     "name": "stdout",
     "output_type": "stream",
     "text": [
      "\n",
      "Example 23:\n",
      "                 Name      House  Status  Age  Total_Appearances  \\\n",
      "0            Jon Snow      Stark     NaN   35                 10   \n",
      "1  Daenerys Targaryen  Targaryen     NaN   30                 12   \n",
      "2    Tyrion Lannister  Lannister     NaN   40                 15   \n",
      "3          Arya Stark      Stark     NaN   18                  8   \n",
      "4    Cersei Lannister  Lannister     NaN   45                  6   \n",
      "\n",
      "   Battles_Fought  Age_5_Years_Later  Age_10_Years_Later Status_Summary  \\\n",
      "0               3                 40                  45          Alive   \n",
      "1               5                 35                  40       Deceased   \n",
      "2               2                 45                  50          Alive   \n",
      "3               1                 23                  28          Alive   \n",
      "4               4                 50                  55       Deceased   \n",
      "\n",
      "  House_Location  Total_Characters Age_Category  Status_Code  Name_Length  \\\n",
      "0     Winterfell                13        Adult            1            8   \n",
      "1    Dragonstone                17        Adult            0           18   \n",
      "2  Casterly Rock                17       Senior            1           16   \n",
      "3     Winterfell                 9        Young            1           10   \n",
      "4  Casterly Rock                10       Senior            0           16   \n",
      "\n",
      "   Average_Appearances  \n",
      "0                  9.0  \n",
      "1                 12.0  \n",
      "2                 10.5  \n",
      "3                  9.0  \n",
      "4                 10.5  \n"
     ]
    }
   ],
   "source": [
    "# Example 23: Using the replace() function to replace values in a DataFrame\n",
    "df.replace({'Living': 'Alive', 'Dead': 'Deceased'}, inplace=True)\n",
    "print(\"\\nExample 23:\")\n",
    "print(df)"
   ]
  },
  {
   "cell_type": "code",
   "execution_count": 23,
   "metadata": {},
   "outputs": [
    {
     "name": "stdout",
     "output_type": "stream",
     "text": [
      "\n",
      "Example 24:\n",
      "                 Name  Name_Length\n",
      "0            Jon Snow            8\n",
      "1  Daenerys Targaryen           18\n",
      "2    Tyrion Lannister           16\n",
      "3          Arya Stark           10\n",
      "4    Cersei Lannister           16\n"
     ]
    }
   ],
   "source": [
    "# Example 24: Applying a function element-wise to a Series and creating a new DataFrame\n",
    "df['Name_Length'] = df['Name'].apply(len)\n",
    "name_lengths_df = df[['Name', 'Name_Length']]\n",
    "print(\"\\nExample 24:\")\n",
    "print(name_lengths_df)"
   ]
  },
  {
   "cell_type": "code",
   "execution_count": 24,
   "metadata": {},
   "outputs": [
    {
     "ename": "AttributeError",
     "evalue": "'Series' object has no attribute 'applymap'",
     "output_type": "error",
     "traceback": [
      "\u001b[1;31m---------------------------------------------------------------------------\u001b[0m",
      "\u001b[1;31mAttributeError\u001b[0m                            Traceback (most recent call last)",
      "Cell \u001b[1;32mIn[24], line 8\u001b[0m\n\u001b[0;32m      5\u001b[0m \u001b[39mdef\u001b[39;00m \u001b[39mformat_name_lower\u001b[39m(name):\n\u001b[0;32m      6\u001b[0m     \u001b[39mreturn\u001b[39;00m name\u001b[39m.\u001b[39mlower()\n\u001b[1;32m----> 8\u001b[0m df[\u001b[39m'\u001b[39m\u001b[39mFormatted_Name_Upper\u001b[39m\u001b[39m'\u001b[39m] \u001b[39m=\u001b[39m df[\u001b[39m'\u001b[39;49m\u001b[39mName\u001b[39;49m\u001b[39m'\u001b[39;49m]\u001b[39m.\u001b[39;49mapplymap(format_name_upper)\n\u001b[0;32m      9\u001b[0m df[\u001b[39m'\u001b[39m\u001b[39mFormatted_Name_Lower\u001b[39m\u001b[39m'\u001b[39m] \u001b[39m=\u001b[39m df[\u001b[39m'\u001b[39m\u001b[39mName\u001b[39m\u001b[39m'\u001b[39m]\u001b[39m.\u001b[39mapplymap(format_name_lower)\n\u001b[0;32m     10\u001b[0m \u001b[39mprint\u001b[39m(\u001b[39m\"\u001b[39m\u001b[39m\\n\u001b[39;00m\u001b[39mExample 25:\u001b[39m\u001b[39m\"\u001b[39m)\n",
      "File \u001b[1;32mc:\\Program Files\\Python311\\Lib\\site-packages\\pandas\\core\\generic.py:5902\u001b[0m, in \u001b[0;36mNDFrame.__getattr__\u001b[1;34m(self, name)\u001b[0m\n\u001b[0;32m   5895\u001b[0m \u001b[39mif\u001b[39;00m (\n\u001b[0;32m   5896\u001b[0m     name \u001b[39mnot\u001b[39;00m \u001b[39min\u001b[39;00m \u001b[39mself\u001b[39m\u001b[39m.\u001b[39m_internal_names_set\n\u001b[0;32m   5897\u001b[0m     \u001b[39mand\u001b[39;00m name \u001b[39mnot\u001b[39;00m \u001b[39min\u001b[39;00m \u001b[39mself\u001b[39m\u001b[39m.\u001b[39m_metadata\n\u001b[0;32m   5898\u001b[0m     \u001b[39mand\u001b[39;00m name \u001b[39mnot\u001b[39;00m \u001b[39min\u001b[39;00m \u001b[39mself\u001b[39m\u001b[39m.\u001b[39m_accessors\n\u001b[0;32m   5899\u001b[0m     \u001b[39mand\u001b[39;00m \u001b[39mself\u001b[39m\u001b[39m.\u001b[39m_info_axis\u001b[39m.\u001b[39m_can_hold_identifiers_and_holds_name(name)\n\u001b[0;32m   5900\u001b[0m ):\n\u001b[0;32m   5901\u001b[0m     \u001b[39mreturn\u001b[39;00m \u001b[39mself\u001b[39m[name]\n\u001b[1;32m-> 5902\u001b[0m \u001b[39mreturn\u001b[39;00m \u001b[39mobject\u001b[39;49m\u001b[39m.\u001b[39;49m\u001b[39m__getattribute__\u001b[39;49m(\u001b[39mself\u001b[39;49m, name)\n",
      "\u001b[1;31mAttributeError\u001b[0m: 'Series' object has no attribute 'applymap'"
     ]
    }
   ],
   "source": [
    "# Example 25: Applying multiple functions to a DataFrame using applymap()\n",
    "def format_name_upper(name):\n",
    "    return name.upper()\n",
    "\n",
    "def format_name_lower(name):\n",
    "    return name.lower()\n",
    "\n",
    "df['Formatted_Name_Upper'] = df['Name'].applymap(format_name_upper)\n",
    "df['Formatted_Name_Lower'] = df['Name'].applymap(format_name_lower)\n",
    "print(\"\\nExample 25:\")\n",
    "print(df)"
   ]
  },
  {
   "cell_type": "code",
   "execution_count": 26,
   "metadata": {},
   "outputs": [
    {
     "name": "stdout",
     "output_type": "stream",
     "text": [
      "\n",
      "Example 26:\n",
      "Empty DataFrame\n",
      "Columns: [Age_in_Months]\n",
      "Index: []\n",
      "\n",
      "Example 27:\n",
      "                 Name      House  Status  Age  Total_Appearances  \\\n",
      "0            Jon Snow      Stark     NaN   35                 10   \n",
      "1  Daenerys Targaryen  Targaryen     NaN   30                 12   \n",
      "2    Tyrion Lannister  Lannister     NaN   40                 15   \n",
      "3          Arya Stark      Stark     NaN   18                  8   \n",
      "4    Cersei Lannister  Lannister     NaN   45                  6   \n",
      "\n",
      "   Battles_Fought  Age_5_Years_Later  Age_10_Years_Later Status_Summary  \\\n",
      "0               3                 40                  45          Alive   \n",
      "1               5                 35                  40       Deceased   \n",
      "2               2                 45                  50          Alive   \n",
      "3               1                 23                  28          Alive   \n",
      "4               4                 50                  55       Deceased   \n",
      "\n",
      "  House_Location  Total_Characters Age_Category  Status_Code  Name_Length  \\\n",
      "0     Winterfell                13        Adult            1            8   \n",
      "1    Dragonstone                17        Adult            0           18   \n",
      "2  Casterly Rock                17       Senior            1           16   \n",
      "3     Winterfell                 9        Young            1           10   \n",
      "4  Casterly Rock                10       Senior            0           16   \n",
      "\n",
      "   Average_Appearances  \n",
      "0                  9.0  \n",
      "1                 12.0  \n",
      "2                 10.5  \n",
      "3                  9.0  \n",
      "4                 10.5  \n"
     ]
    }
   ],
   "source": [
    "# Example 26: Applying a function to a DataFrame column and creating a new DataFrame\n",
    "def age_in_months(age):\n",
    "    return age * 12\n",
    "\n",
    "age_in_months_df = pd.DataFrame(df['Age'].apply(age_in_months), columns=['Age_in_Months'])\n",
    "print(\"\\nExample 26:\")\n",
    "print(age_in_months_df)\n",
    "\n",
    "# Example 27: Applying a function to a DataFrame group using groupby and transform()\n",
    "average_appearances = df.groupby('House')['Total_Appearances'].transform('mean')\n",
    "df['Average_Appearances'] = average_appearances\n",
    "print(\"\\nExample 27:\")\n",
    "print(df)"
   ]
  },
  {
   "cell_type": "code",
   "execution_count": 27,
   "metadata": {},
   "outputs": [
    {
     "name": "stdout",
     "output_type": "stream",
     "text": [
      "\n",
      "Example 28:\n",
      "House\n",
      "Lannister    0\n",
      "Stark        0\n",
      "Targaryen    0\n",
      "dtype: int64\n"
     ]
    },
    {
     "ename": "KeyError",
     "evalue": "'Total_Appearances'",
     "output_type": "error",
     "traceback": [
      "\u001b[1;31m---------------------------------------------------------------------------\u001b[0m",
      "\u001b[1;31mKeyError\u001b[0m                                  Traceback (most recent call last)",
      "File \u001b[1;32mc:\\Program Files\\Python311\\Lib\\site-packages\\pandas\\core\\indexes\\base.py:3802\u001b[0m, in \u001b[0;36mIndex.get_loc\u001b[1;34m(self, key, method, tolerance)\u001b[0m\n\u001b[0;32m   3801\u001b[0m \u001b[39mtry\u001b[39;00m:\n\u001b[1;32m-> 3802\u001b[0m     \u001b[39mreturn\u001b[39;00m \u001b[39mself\u001b[39;49m\u001b[39m.\u001b[39;49m_engine\u001b[39m.\u001b[39;49mget_loc(casted_key)\n\u001b[0;32m   3803\u001b[0m \u001b[39mexcept\u001b[39;00m \u001b[39mKeyError\u001b[39;00m \u001b[39mas\u001b[39;00m err:\n",
      "File \u001b[1;32mc:\\Program Files\\Python311\\Lib\\site-packages\\pandas\\_libs\\index.pyx:138\u001b[0m, in \u001b[0;36mpandas._libs.index.IndexEngine.get_loc\u001b[1;34m()\u001b[0m\n",
      "File \u001b[1;32mc:\\Program Files\\Python311\\Lib\\site-packages\\pandas\\_libs\\index.pyx:146\u001b[0m, in \u001b[0;36mpandas._libs.index.IndexEngine.get_loc\u001b[1;34m()\u001b[0m\n",
      "File \u001b[1;32mpandas\\_libs\\index_class_helper.pxi:49\u001b[0m, in \u001b[0;36mpandas._libs.index.Int64Engine._check_type\u001b[1;34m()\u001b[0m\n",
      "\u001b[1;31mKeyError\u001b[0m: 'Total_Appearances'",
      "\nThe above exception was the direct cause of the following exception:\n",
      "\u001b[1;31mKeyError\u001b[0m                                  Traceback (most recent call last)",
      "File \u001b[1;32mc:\\Program Files\\Python311\\Lib\\site-packages\\pandas\\core\\groupby\\generic.py:297\u001b[0m, in \u001b[0;36mSeriesGroupBy.aggregate\u001b[1;34m(self, func, engine, engine_kwargs, *args, **kwargs)\u001b[0m\n\u001b[0;32m    296\u001b[0m \u001b[39mtry\u001b[39;00m:\n\u001b[1;32m--> 297\u001b[0m     \u001b[39mreturn\u001b[39;00m \u001b[39mself\u001b[39;49m\u001b[39m.\u001b[39;49m_python_agg_general(func, \u001b[39m*\u001b[39;49margs, \u001b[39m*\u001b[39;49m\u001b[39m*\u001b[39;49mkwargs)\n\u001b[0;32m    298\u001b[0m \u001b[39mexcept\u001b[39;00m \u001b[39mKeyError\u001b[39;00m:\n\u001b[0;32m    299\u001b[0m     \u001b[39m# TODO: KeyError is raised in _python_agg_general,\u001b[39;00m\n\u001b[0;32m    300\u001b[0m     \u001b[39m#  see test_groupby.test_basic\u001b[39;00m\n",
      "File \u001b[1;32mc:\\Program Files\\Python311\\Lib\\site-packages\\pandas\\core\\groupby\\groupby.py:1682\u001b[0m, in \u001b[0;36mGroupBy._python_agg_general\u001b[1;34m(self, func, raise_on_typeerror, *args, **kwargs)\u001b[0m\n\u001b[0;32m   1680\u001b[0m \u001b[39mtry\u001b[39;00m:\n\u001b[0;32m   1681\u001b[0m     \u001b[39m# if this function is invalid for this dtype, we will ignore it.\u001b[39;00m\n\u001b[1;32m-> 1682\u001b[0m     result \u001b[39m=\u001b[39m \u001b[39mself\u001b[39;49m\u001b[39m.\u001b[39;49mgrouper\u001b[39m.\u001b[39;49magg_series(obj, f)\n\u001b[0;32m   1683\u001b[0m \u001b[39mexcept\u001b[39;00m \u001b[39mTypeError\u001b[39;00m:\n",
      "File \u001b[1;32mc:\\Program Files\\Python311\\Lib\\site-packages\\pandas\\core\\groupby\\ops.py:1081\u001b[0m, in \u001b[0;36mBaseGrouper.agg_series\u001b[1;34m(self, obj, func, preserve_dtype)\u001b[0m\n\u001b[0;32m   1080\u001b[0m \u001b[39melse\u001b[39;00m:\n\u001b[1;32m-> 1081\u001b[0m     result \u001b[39m=\u001b[39m \u001b[39mself\u001b[39;49m\u001b[39m.\u001b[39;49m_aggregate_series_pure_python(obj, func)\n\u001b[0;32m   1083\u001b[0m npvalues \u001b[39m=\u001b[39m lib\u001b[39m.\u001b[39mmaybe_convert_objects(result, try_float\u001b[39m=\u001b[39m\u001b[39mFalse\u001b[39;00m)\n",
      "File \u001b[1;32mc:\\Program Files\\Python311\\Lib\\site-packages\\pandas\\core\\groupby\\ops.py:1104\u001b[0m, in \u001b[0;36mBaseGrouper._aggregate_series_pure_python\u001b[1;34m(self, obj, func)\u001b[0m\n\u001b[0;32m   1103\u001b[0m \u001b[39mfor\u001b[39;00m i, group \u001b[39min\u001b[39;00m \u001b[39menumerate\u001b[39m(splitter):\n\u001b[1;32m-> 1104\u001b[0m     res \u001b[39m=\u001b[39m func(group)\n\u001b[0;32m   1105\u001b[0m     res \u001b[39m=\u001b[39m libreduction\u001b[39m.\u001b[39mextract_result(res)\n",
      "File \u001b[1;32mc:\\Program Files\\Python311\\Lib\\site-packages\\pandas\\core\\groupby\\groupby.py:1668\u001b[0m, in \u001b[0;36mGroupBy._python_agg_general.<locals>.<lambda>\u001b[1;34m(x)\u001b[0m\n\u001b[0;32m   1667\u001b[0m func \u001b[39m=\u001b[39m com\u001b[39m.\u001b[39mis_builtin_func(func)\n\u001b[1;32m-> 1668\u001b[0m f \u001b[39m=\u001b[39m \u001b[39mlambda\u001b[39;00m x: func(x, \u001b[39m*\u001b[39;49margs, \u001b[39m*\u001b[39;49m\u001b[39m*\u001b[39;49mkwargs)\n\u001b[0;32m   1670\u001b[0m \u001b[39m# iterate through \"columns\" ex exclusions to populate output dict\u001b[39;00m\n",
      "Cell \u001b[1;32mIn[27], line 12\u001b[0m, in \u001b[0;36maggregate_data\u001b[1;34m(group)\u001b[0m\n\u001b[0;32m     10\u001b[0m \u001b[39mdef\u001b[39;00m \u001b[39maggregate_data\u001b[39m(group):\n\u001b[0;32m     11\u001b[0m     \u001b[39mreturn\u001b[39;00m {\n\u001b[1;32m---> 12\u001b[0m         \u001b[39m'\u001b[39m\u001b[39mTotal_Appearances\u001b[39m\u001b[39m'\u001b[39m: group[\u001b[39m'\u001b[39;49m\u001b[39mTotal_Appearances\u001b[39;49m\u001b[39m'\u001b[39;49m]\u001b[39m.\u001b[39msum(),\n\u001b[0;32m     13\u001b[0m         \u001b[39m'\u001b[39m\u001b[39mBattles_Fought\u001b[39m\u001b[39m'\u001b[39m: group[\u001b[39m'\u001b[39m\u001b[39mBattles_Fought\u001b[39m\u001b[39m'\u001b[39m]\u001b[39m.\u001b[39msum()\n\u001b[0;32m     14\u001b[0m     }\n",
      "File \u001b[1;32mc:\\Program Files\\Python311\\Lib\\site-packages\\pandas\\core\\series.py:981\u001b[0m, in \u001b[0;36mSeries.__getitem__\u001b[1;34m(self, key)\u001b[0m\n\u001b[0;32m    980\u001b[0m \u001b[39melif\u001b[39;00m key_is_scalar:\n\u001b[1;32m--> 981\u001b[0m     \u001b[39mreturn\u001b[39;00m \u001b[39mself\u001b[39;49m\u001b[39m.\u001b[39;49m_get_value(key)\n\u001b[0;32m    983\u001b[0m \u001b[39mif\u001b[39;00m is_hashable(key):\n\u001b[0;32m    984\u001b[0m     \u001b[39m# Otherwise index.get_value will raise InvalidIndexError\u001b[39;00m\n",
      "File \u001b[1;32mc:\\Program Files\\Python311\\Lib\\site-packages\\pandas\\core\\series.py:1089\u001b[0m, in \u001b[0;36mSeries._get_value\u001b[1;34m(self, label, takeable)\u001b[0m\n\u001b[0;32m   1088\u001b[0m \u001b[39m# Similar to Index.get_value, but we do not fall back to positional\u001b[39;00m\n\u001b[1;32m-> 1089\u001b[0m loc \u001b[39m=\u001b[39m \u001b[39mself\u001b[39;49m\u001b[39m.\u001b[39;49mindex\u001b[39m.\u001b[39;49mget_loc(label)\n\u001b[0;32m   1090\u001b[0m \u001b[39mreturn\u001b[39;00m \u001b[39mself\u001b[39m\u001b[39m.\u001b[39mindex\u001b[39m.\u001b[39m_get_values_for_loc(\u001b[39mself\u001b[39m, loc, label)\n",
      "File \u001b[1;32mc:\\Program Files\\Python311\\Lib\\site-packages\\pandas\\core\\indexes\\base.py:3804\u001b[0m, in \u001b[0;36mIndex.get_loc\u001b[1;34m(self, key, method, tolerance)\u001b[0m\n\u001b[0;32m   3803\u001b[0m \u001b[39mexcept\u001b[39;00m \u001b[39mKeyError\u001b[39;00m \u001b[39mas\u001b[39;00m err:\n\u001b[1;32m-> 3804\u001b[0m     \u001b[39mraise\u001b[39;00m \u001b[39mKeyError\u001b[39;00m(key) \u001b[39mfrom\u001b[39;00m \u001b[39merr\u001b[39;00m\n\u001b[0;32m   3805\u001b[0m \u001b[39mexcept\u001b[39;00m \u001b[39mTypeError\u001b[39;00m:\n\u001b[0;32m   3806\u001b[0m     \u001b[39m# If we have a listlike key, _check_indexing_error will raise\u001b[39;00m\n\u001b[0;32m   3807\u001b[0m     \u001b[39m#  InvalidIndexError. Otherwise we fall through and re-raise\u001b[39;00m\n\u001b[0;32m   3808\u001b[0m     \u001b[39m#  the TypeError.\u001b[39;00m\n",
      "\u001b[1;31mKeyError\u001b[0m: 'Total_Appearances'",
      "\nDuring handling of the above exception, another exception occurred:\n",
      "\u001b[1;31mKeyError\u001b[0m                                  Traceback (most recent call last)",
      "File \u001b[1;32mc:\\Program Files\\Python311\\Lib\\site-packages\\pandas\\core\\indexes\\base.py:3802\u001b[0m, in \u001b[0;36mIndex.get_loc\u001b[1;34m(self, key, method, tolerance)\u001b[0m\n\u001b[0;32m   3801\u001b[0m \u001b[39mtry\u001b[39;00m:\n\u001b[1;32m-> 3802\u001b[0m     \u001b[39mreturn\u001b[39;00m \u001b[39mself\u001b[39;49m\u001b[39m.\u001b[39;49m_engine\u001b[39m.\u001b[39;49mget_loc(casted_key)\n\u001b[0;32m   3803\u001b[0m \u001b[39mexcept\u001b[39;00m \u001b[39mKeyError\u001b[39;00m \u001b[39mas\u001b[39;00m err:\n",
      "File \u001b[1;32mc:\\Program Files\\Python311\\Lib\\site-packages\\pandas\\_libs\\index.pyx:138\u001b[0m, in \u001b[0;36mpandas._libs.index.IndexEngine.get_loc\u001b[1;34m()\u001b[0m\n",
      "File \u001b[1;32mc:\\Program Files\\Python311\\Lib\\site-packages\\pandas\\_libs\\index.pyx:146\u001b[0m, in \u001b[0;36mpandas._libs.index.IndexEngine.get_loc\u001b[1;34m()\u001b[0m\n",
      "File \u001b[1;32mpandas\\_libs\\index_class_helper.pxi:49\u001b[0m, in \u001b[0;36mpandas._libs.index.Int64Engine._check_type\u001b[1;34m()\u001b[0m\n",
      "\u001b[1;31mKeyError\u001b[0m: 'Total_Appearances'",
      "\nThe above exception was the direct cause of the following exception:\n",
      "\u001b[1;31mKeyError\u001b[0m                                  Traceback (most recent call last)",
      "Cell \u001b[1;32mIn[27], line 16\u001b[0m\n\u001b[0;32m     10\u001b[0m \u001b[39mdef\u001b[39;00m \u001b[39maggregate_data\u001b[39m(group):\n\u001b[0;32m     11\u001b[0m     \u001b[39mreturn\u001b[39;00m {\n\u001b[0;32m     12\u001b[0m         \u001b[39m'\u001b[39m\u001b[39mTotal_Appearances\u001b[39m\u001b[39m'\u001b[39m: group[\u001b[39m'\u001b[39m\u001b[39mTotal_Appearances\u001b[39m\u001b[39m'\u001b[39m]\u001b[39m.\u001b[39msum(),\n\u001b[0;32m     13\u001b[0m         \u001b[39m'\u001b[39m\u001b[39mBattles_Fought\u001b[39m\u001b[39m'\u001b[39m: group[\u001b[39m'\u001b[39m\u001b[39mBattles_Fought\u001b[39m\u001b[39m'\u001b[39m]\u001b[39m.\u001b[39msum()\n\u001b[0;32m     14\u001b[0m     }\n\u001b[1;32m---> 16\u001b[0m grouped_data \u001b[39m=\u001b[39m df\u001b[39m.\u001b[39;49mgroupby(\u001b[39m'\u001b[39;49m\u001b[39mHouse\u001b[39;49m\u001b[39m'\u001b[39;49m)\u001b[39m.\u001b[39;49magg(aggregate_data)\n\u001b[0;32m     17\u001b[0m \u001b[39mprint\u001b[39m(\u001b[39m\"\u001b[39m\u001b[39m\\n\u001b[39;00m\u001b[39mExample 29:\u001b[39m\u001b[39m\"\u001b[39m)\n\u001b[0;32m     18\u001b[0m \u001b[39mprint\u001b[39m(grouped_data)\n",
      "File \u001b[1;32mc:\\Program Files\\Python311\\Lib\\site-packages\\pandas\\core\\groupby\\generic.py:926\u001b[0m, in \u001b[0;36mDataFrameGroupBy.aggregate\u001b[1;34m(self, func, engine, engine_kwargs, *args, **kwargs)\u001b[0m\n\u001b[0;32m    924\u001b[0m gba \u001b[39m=\u001b[39m GroupByApply(\u001b[39mself\u001b[39m, [func], args\u001b[39m=\u001b[39m(), kwargs\u001b[39m=\u001b[39m{})\n\u001b[0;32m    925\u001b[0m \u001b[39mtry\u001b[39;00m:\n\u001b[1;32m--> 926\u001b[0m     result \u001b[39m=\u001b[39m gba\u001b[39m.\u001b[39;49magg()\n\u001b[0;32m    928\u001b[0m \u001b[39mexcept\u001b[39;00m \u001b[39mValueError\u001b[39;00m \u001b[39mas\u001b[39;00m err:\n\u001b[0;32m    929\u001b[0m     \u001b[39mif\u001b[39;00m \u001b[39m\"\u001b[39m\u001b[39mno results\u001b[39m\u001b[39m\"\u001b[39m \u001b[39mnot\u001b[39;00m \u001b[39min\u001b[39;00m \u001b[39mstr\u001b[39m(err):\n\u001b[0;32m    930\u001b[0m         \u001b[39m# raised directly by _aggregate_multiple_funcs\u001b[39;00m\n",
      "File \u001b[1;32mc:\\Program Files\\Python311\\Lib\\site-packages\\pandas\\core\\apply.py:175\u001b[0m, in \u001b[0;36mApply.agg\u001b[1;34m(self)\u001b[0m\n\u001b[0;32m    172\u001b[0m     \u001b[39mreturn\u001b[39;00m \u001b[39mself\u001b[39m\u001b[39m.\u001b[39magg_dict_like()\n\u001b[0;32m    173\u001b[0m \u001b[39melif\u001b[39;00m is_list_like(arg):\n\u001b[0;32m    174\u001b[0m     \u001b[39m# we require a list, but not a 'str'\u001b[39;00m\n\u001b[1;32m--> 175\u001b[0m     \u001b[39mreturn\u001b[39;00m \u001b[39mself\u001b[39;49m\u001b[39m.\u001b[39;49magg_list_like()\n\u001b[0;32m    177\u001b[0m \u001b[39mif\u001b[39;00m callable(arg):\n\u001b[0;32m    178\u001b[0m     f \u001b[39m=\u001b[39m com\u001b[39m.\u001b[39mget_cython_func(arg)\n",
      "File \u001b[1;32mc:\\Program Files\\Python311\\Lib\\site-packages\\pandas\\core\\apply.py:401\u001b[0m, in \u001b[0;36mApply.agg_list_like\u001b[1;34m(self)\u001b[0m\n\u001b[0;32m    394\u001b[0m \u001b[39mtry\u001b[39;00m:\n\u001b[0;32m    395\u001b[0m     \u001b[39m# Capture and suppress any warnings emitted by us in the call\u001b[39;00m\n\u001b[0;32m    396\u001b[0m     \u001b[39m# to agg below, but pass through any warnings that were\u001b[39;00m\n\u001b[0;32m    397\u001b[0m     \u001b[39m# generated otherwise.\u001b[39;00m\n\u001b[0;32m    398\u001b[0m     \u001b[39m# This is necessary because of https://bugs.python.org/issue29672\u001b[39;00m\n\u001b[0;32m    399\u001b[0m     \u001b[39m# See GH #43741 for more details\u001b[39;00m\n\u001b[0;32m    400\u001b[0m     \u001b[39mwith\u001b[39;00m warnings\u001b[39m.\u001b[39mcatch_warnings(record\u001b[39m=\u001b[39m\u001b[39mTrue\u001b[39;00m) \u001b[39mas\u001b[39;00m record:\n\u001b[1;32m--> 401\u001b[0m         new_res \u001b[39m=\u001b[39m colg\u001b[39m.\u001b[39;49maggregate(arg)\n\u001b[0;32m    402\u001b[0m     \u001b[39mif\u001b[39;00m \u001b[39mlen\u001b[39m(record) \u001b[39m>\u001b[39m \u001b[39m0\u001b[39m:\n\u001b[0;32m    403\u001b[0m         match \u001b[39m=\u001b[39m re\u001b[39m.\u001b[39mcompile(depr_nuisance_columns_msg\u001b[39m.\u001b[39mformat(\u001b[39m\"\u001b[39m\u001b[39m.*\u001b[39m\u001b[39m\"\u001b[39m))\n",
      "File \u001b[1;32mc:\\Program Files\\Python311\\Lib\\site-packages\\pandas\\core\\groupby\\generic.py:281\u001b[0m, in \u001b[0;36mSeriesGroupBy.aggregate\u001b[1;34m(self, func, engine, engine_kwargs, *args, **kwargs)\u001b[0m\n\u001b[0;32m    277\u001b[0m \u001b[39melif\u001b[39;00m \u001b[39misinstance\u001b[39m(func, abc\u001b[39m.\u001b[39mIterable):\n\u001b[0;32m    278\u001b[0m     \u001b[39m# Catch instances of lists / tuples\u001b[39;00m\n\u001b[0;32m    279\u001b[0m     \u001b[39m# but not the class list / tuple itself.\u001b[39;00m\n\u001b[0;32m    280\u001b[0m     func \u001b[39m=\u001b[39m maybe_mangle_lambdas(func)\n\u001b[1;32m--> 281\u001b[0m     ret \u001b[39m=\u001b[39m \u001b[39mself\u001b[39;49m\u001b[39m.\u001b[39;49m_aggregate_multiple_funcs(func)\n\u001b[0;32m    282\u001b[0m     \u001b[39mif\u001b[39;00m relabeling:\n\u001b[0;32m    283\u001b[0m         \u001b[39m# columns is not narrowed by mypy from relabeling flag\u001b[39;00m\n\u001b[0;32m    284\u001b[0m         \u001b[39massert\u001b[39;00m columns \u001b[39mis\u001b[39;00m \u001b[39mnot\u001b[39;00m \u001b[39mNone\u001b[39;00m  \u001b[39m# for mypy\u001b[39;00m\n",
      "File \u001b[1;32mc:\\Program Files\\Python311\\Lib\\site-packages\\pandas\\core\\groupby\\generic.py:336\u001b[0m, in \u001b[0;36mSeriesGroupBy._aggregate_multiple_funcs\u001b[1;34m(self, arg)\u001b[0m\n\u001b[0;32m    333\u001b[0m \u001b[39mfor\u001b[39;00m idx, (name, func) \u001b[39min\u001b[39;00m \u001b[39menumerate\u001b[39m(arg):\n\u001b[0;32m    335\u001b[0m     key \u001b[39m=\u001b[39m base\u001b[39m.\u001b[39mOutputKey(label\u001b[39m=\u001b[39mname, position\u001b[39m=\u001b[39midx)\n\u001b[1;32m--> 336\u001b[0m     results[key] \u001b[39m=\u001b[39m \u001b[39mself\u001b[39;49m\u001b[39m.\u001b[39;49maggregate(func)\n\u001b[0;32m    338\u001b[0m \u001b[39mif\u001b[39;00m \u001b[39many\u001b[39m(\u001b[39misinstance\u001b[39m(x, DataFrame) \u001b[39mfor\u001b[39;00m x \u001b[39min\u001b[39;00m results\u001b[39m.\u001b[39mvalues()):\n\u001b[0;32m    339\u001b[0m     \u001b[39mfrom\u001b[39;00m \u001b[39mpandas\u001b[39;00m \u001b[39mimport\u001b[39;00m concat\n",
      "File \u001b[1;32mc:\\Program Files\\Python311\\Lib\\site-packages\\pandas\\core\\groupby\\generic.py:301\u001b[0m, in \u001b[0;36mSeriesGroupBy.aggregate\u001b[1;34m(self, func, engine, engine_kwargs, *args, **kwargs)\u001b[0m\n\u001b[0;32m    297\u001b[0m     \u001b[39mreturn\u001b[39;00m \u001b[39mself\u001b[39m\u001b[39m.\u001b[39m_python_agg_general(func, \u001b[39m*\u001b[39margs, \u001b[39m*\u001b[39m\u001b[39m*\u001b[39mkwargs)\n\u001b[0;32m    298\u001b[0m \u001b[39mexcept\u001b[39;00m \u001b[39mKeyError\u001b[39;00m:\n\u001b[0;32m    299\u001b[0m     \u001b[39m# TODO: KeyError is raised in _python_agg_general,\u001b[39;00m\n\u001b[0;32m    300\u001b[0m     \u001b[39m#  see test_groupby.test_basic\u001b[39;00m\n\u001b[1;32m--> 301\u001b[0m     result \u001b[39m=\u001b[39m \u001b[39mself\u001b[39;49m\u001b[39m.\u001b[39;49m_aggregate_named(func, \u001b[39m*\u001b[39;49margs, \u001b[39m*\u001b[39;49m\u001b[39m*\u001b[39;49mkwargs)\n\u001b[0;32m    303\u001b[0m     \u001b[39m# result is a dict whose keys are the elements of result_index\u001b[39;00m\n\u001b[0;32m    304\u001b[0m     index \u001b[39m=\u001b[39m \u001b[39mself\u001b[39m\u001b[39m.\u001b[39mgrouper\u001b[39m.\u001b[39mresult_index\n",
      "File \u001b[1;32mc:\\Program Files\\Python311\\Lib\\site-packages\\pandas\\core\\groupby\\generic.py:433\u001b[0m, in \u001b[0;36mSeriesGroupBy._aggregate_named\u001b[1;34m(self, func, *args, **kwargs)\u001b[0m\n\u001b[0;32m    430\u001b[0m \u001b[39mfor\u001b[39;00m name, group \u001b[39min\u001b[39;00m \u001b[39mself\u001b[39m:\n\u001b[0;32m    431\u001b[0m     \u001b[39mobject\u001b[39m\u001b[39m.\u001b[39m\u001b[39m__setattr__\u001b[39m(group, \u001b[39m\"\u001b[39m\u001b[39mname\u001b[39m\u001b[39m\"\u001b[39m, name)\n\u001b[1;32m--> 433\u001b[0m     output \u001b[39m=\u001b[39m func(group, \u001b[39m*\u001b[39;49margs, \u001b[39m*\u001b[39;49m\u001b[39m*\u001b[39;49mkwargs)\n\u001b[0;32m    434\u001b[0m     output \u001b[39m=\u001b[39m libreduction\u001b[39m.\u001b[39mextract_result(output)\n\u001b[0;32m    435\u001b[0m     \u001b[39mif\u001b[39;00m \u001b[39mnot\u001b[39;00m initialized:\n\u001b[0;32m    436\u001b[0m         \u001b[39m# We only do this validation on the first iteration\u001b[39;00m\n",
      "Cell \u001b[1;32mIn[27], line 12\u001b[0m, in \u001b[0;36maggregate_data\u001b[1;34m(group)\u001b[0m\n\u001b[0;32m     10\u001b[0m \u001b[39mdef\u001b[39;00m \u001b[39maggregate_data\u001b[39m(group):\n\u001b[0;32m     11\u001b[0m     \u001b[39mreturn\u001b[39;00m {\n\u001b[1;32m---> 12\u001b[0m         \u001b[39m'\u001b[39m\u001b[39mTotal_Appearances\u001b[39m\u001b[39m'\u001b[39m: group[\u001b[39m'\u001b[39;49m\u001b[39mTotal_Appearances\u001b[39;49m\u001b[39m'\u001b[39;49m]\u001b[39m.\u001b[39msum(),\n\u001b[0;32m     13\u001b[0m         \u001b[39m'\u001b[39m\u001b[39mBattles_Fought\u001b[39m\u001b[39m'\u001b[39m: group[\u001b[39m'\u001b[39m\u001b[39mBattles_Fought\u001b[39m\u001b[39m'\u001b[39m]\u001b[39m.\u001b[39msum()\n\u001b[0;32m     14\u001b[0m     }\n",
      "File \u001b[1;32mc:\\Program Files\\Python311\\Lib\\site-packages\\pandas\\core\\series.py:981\u001b[0m, in \u001b[0;36mSeries.__getitem__\u001b[1;34m(self, key)\u001b[0m\n\u001b[0;32m    978\u001b[0m     \u001b[39mreturn\u001b[39;00m \u001b[39mself\u001b[39m\u001b[39m.\u001b[39m_values[key]\n\u001b[0;32m    980\u001b[0m \u001b[39melif\u001b[39;00m key_is_scalar:\n\u001b[1;32m--> 981\u001b[0m     \u001b[39mreturn\u001b[39;00m \u001b[39mself\u001b[39;49m\u001b[39m.\u001b[39;49m_get_value(key)\n\u001b[0;32m    983\u001b[0m \u001b[39mif\u001b[39;00m is_hashable(key):\n\u001b[0;32m    984\u001b[0m     \u001b[39m# Otherwise index.get_value will raise InvalidIndexError\u001b[39;00m\n\u001b[0;32m    985\u001b[0m     \u001b[39mtry\u001b[39;00m:\n\u001b[0;32m    986\u001b[0m         \u001b[39m# For labels that don't resolve as scalars like tuples and frozensets\u001b[39;00m\n",
      "File \u001b[1;32mc:\\Program Files\\Python311\\Lib\\site-packages\\pandas\\core\\series.py:1089\u001b[0m, in \u001b[0;36mSeries._get_value\u001b[1;34m(self, label, takeable)\u001b[0m\n\u001b[0;32m   1086\u001b[0m     \u001b[39mreturn\u001b[39;00m \u001b[39mself\u001b[39m\u001b[39m.\u001b[39m_values[label]\n\u001b[0;32m   1088\u001b[0m \u001b[39m# Similar to Index.get_value, but we do not fall back to positional\u001b[39;00m\n\u001b[1;32m-> 1089\u001b[0m loc \u001b[39m=\u001b[39m \u001b[39mself\u001b[39;49m\u001b[39m.\u001b[39;49mindex\u001b[39m.\u001b[39;49mget_loc(label)\n\u001b[0;32m   1090\u001b[0m \u001b[39mreturn\u001b[39;00m \u001b[39mself\u001b[39m\u001b[39m.\u001b[39mindex\u001b[39m.\u001b[39m_get_values_for_loc(\u001b[39mself\u001b[39m, loc, label)\n",
      "File \u001b[1;32mc:\\Program Files\\Python311\\Lib\\site-packages\\pandas\\core\\indexes\\base.py:3804\u001b[0m, in \u001b[0;36mIndex.get_loc\u001b[1;34m(self, key, method, tolerance)\u001b[0m\n\u001b[0;32m   3802\u001b[0m     \u001b[39mreturn\u001b[39;00m \u001b[39mself\u001b[39m\u001b[39m.\u001b[39m_engine\u001b[39m.\u001b[39mget_loc(casted_key)\n\u001b[0;32m   3803\u001b[0m \u001b[39mexcept\u001b[39;00m \u001b[39mKeyError\u001b[39;00m \u001b[39mas\u001b[39;00m err:\n\u001b[1;32m-> 3804\u001b[0m     \u001b[39mraise\u001b[39;00m \u001b[39mKeyError\u001b[39;00m(key) \u001b[39mfrom\u001b[39;00m \u001b[39merr\u001b[39;00m\n\u001b[0;32m   3805\u001b[0m \u001b[39mexcept\u001b[39;00m \u001b[39mTypeError\u001b[39;00m:\n\u001b[0;32m   3806\u001b[0m     \u001b[39m# If we have a listlike key, _check_indexing_error will raise\u001b[39;00m\n\u001b[0;32m   3807\u001b[0m     \u001b[39m#  InvalidIndexError. Otherwise we fall through and re-raise\u001b[39;00m\n\u001b[0;32m   3808\u001b[0m     \u001b[39m#  the TypeError.\u001b[39;00m\n\u001b[0;32m   3809\u001b[0m     \u001b[39mself\u001b[39m\u001b[39m.\u001b[39m_check_indexing_error(key)\n",
      "\u001b[1;31mKeyError\u001b[0m: 'Total_Appearances'"
     ]
    }
   ],
   "source": [
    "# Example 28: Applying a function to a DataFrame group using groupby and apply()\n",
    "def count_alive_characters(group):\n",
    "    return group[group['Status'] == 'Alive'].shape[0]\n",
    "\n",
    "alive_characters_count = df.groupby('House').apply(count_alive_characters)\n",
    "print(\"\\nExample 28:\")\n",
    "print(alive_characters_count)\n",
    "\n",
    "# Example 29: Applying a function to a DataFrame group using groupby and agg()\n",
    "def aggregate_data(group):\n",
    "    return {\n",
    "        'Total_Appearances': group['Total_Appearances'].sum(),\n",
    "        'Battles_Fought': group['Battles_Fought'].sum()\n",
    "    }\n",
    "\n",
    "grouped_data = df.groupby('House').agg(aggregate_data)\n",
    "print(\"\\nExample 29:\")\n",
    "print(grouped_data)"
   ]
  },
  {
   "cell_type": "code",
   "execution_count": 28,
   "metadata": {},
   "outputs": [
    {
     "ename": "KeyError",
     "evalue": "'Status'",
     "output_type": "error",
     "traceback": [
      "\u001b[1;31m---------------------------------------------------------------------------\u001b[0m",
      "\u001b[1;31mKeyError\u001b[0m                                  Traceback (most recent call last)",
      "File \u001b[1;32mc:\\Program Files\\Python311\\Lib\\site-packages\\pandas\\core\\indexes\\base.py:3802\u001b[0m, in \u001b[0;36mIndex.get_loc\u001b[1;34m(self, key, method, tolerance)\u001b[0m\n\u001b[0;32m   3801\u001b[0m \u001b[39mtry\u001b[39;00m:\n\u001b[1;32m-> 3802\u001b[0m     \u001b[39mreturn\u001b[39;00m \u001b[39mself\u001b[39;49m\u001b[39m.\u001b[39;49m_engine\u001b[39m.\u001b[39;49mget_loc(casted_key)\n\u001b[0;32m   3803\u001b[0m \u001b[39mexcept\u001b[39;00m \u001b[39mKeyError\u001b[39;00m \u001b[39mas\u001b[39;00m err:\n",
      "File \u001b[1;32mc:\\Program Files\\Python311\\Lib\\site-packages\\pandas\\_libs\\index.pyx:138\u001b[0m, in \u001b[0;36mpandas._libs.index.IndexEngine.get_loc\u001b[1;34m()\u001b[0m\n",
      "File \u001b[1;32mc:\\Program Files\\Python311\\Lib\\site-packages\\pandas\\_libs\\index.pyx:146\u001b[0m, in \u001b[0;36mpandas._libs.index.IndexEngine.get_loc\u001b[1;34m()\u001b[0m\n",
      "File \u001b[1;32mpandas\\_libs\\index_class_helper.pxi:49\u001b[0m, in \u001b[0;36mpandas._libs.index.Int64Engine._check_type\u001b[1;34m()\u001b[0m\n",
      "\u001b[1;31mKeyError\u001b[0m: 'Status'",
      "\nThe above exception was the direct cause of the following exception:\n",
      "\u001b[1;31mKeyError\u001b[0m                                  Traceback (most recent call last)",
      "Cell \u001b[1;32mIn[28], line 5\u001b[0m\n\u001b[0;32m      2\u001b[0m \u001b[39mdef\u001b[39;00m \u001b[39mcount_alive_characters\u001b[39m(group):\n\u001b[0;32m      3\u001b[0m     \u001b[39mreturn\u001b[39;00m group[group[\u001b[39m'\u001b[39m\u001b[39mStatus\u001b[39m\u001b[39m'\u001b[39m] \u001b[39m==\u001b[39m \u001b[39m'\u001b[39m\u001b[39mAlive\u001b[39m\u001b[39m'\u001b[39m]\u001b[39m.\u001b[39mshape[\u001b[39m0\u001b[39m]\n\u001b[1;32m----> 5\u001b[0m alive_characters_count \u001b[39m=\u001b[39m df\u001b[39m.\u001b[39;49mgroupby(\u001b[39m'\u001b[39;49m\u001b[39mHouse\u001b[39;49m\u001b[39m'\u001b[39;49m)[\u001b[39m'\u001b[39;49m\u001b[39mStatus\u001b[39;49m\u001b[39m'\u001b[39;49m]\u001b[39m.\u001b[39;49mtransform(count_alive_characters)\n\u001b[0;32m      6\u001b[0m df[\u001b[39m'\u001b[39m\u001b[39mAlive_Characters_Count\u001b[39m\u001b[39m'\u001b[39m] \u001b[39m=\u001b[39m alive_characters_count\n\u001b[0;32m      7\u001b[0m \u001b[39mprint\u001b[39m(\u001b[39m\"\u001b[39m\u001b[39m\\n\u001b[39;00m\u001b[39mExample 30:\u001b[39m\u001b[39m\"\u001b[39m)\n",
      "File \u001b[1;32mc:\\Program Files\\Python311\\Lib\\site-packages\\pandas\\core\\groupby\\generic.py:446\u001b[0m, in \u001b[0;36mSeriesGroupBy.transform\u001b[1;34m(self, func, engine, engine_kwargs, *args, **kwargs)\u001b[0m\n\u001b[0;32m    443\u001b[0m \u001b[39m@Substitution\u001b[39m(klass\u001b[39m=\u001b[39m\u001b[39m\"\u001b[39m\u001b[39mSeries\u001b[39m\u001b[39m\"\u001b[39m)\n\u001b[0;32m    444\u001b[0m \u001b[39m@Appender\u001b[39m(_transform_template)\n\u001b[0;32m    445\u001b[0m \u001b[39mdef\u001b[39;00m \u001b[39mtransform\u001b[39m(\u001b[39mself\u001b[39m, func, \u001b[39m*\u001b[39margs, engine\u001b[39m=\u001b[39m\u001b[39mNone\u001b[39;00m, engine_kwargs\u001b[39m=\u001b[39m\u001b[39mNone\u001b[39;00m, \u001b[39m*\u001b[39m\u001b[39m*\u001b[39mkwargs):\n\u001b[1;32m--> 446\u001b[0m     \u001b[39mreturn\u001b[39;00m \u001b[39mself\u001b[39;49m\u001b[39m.\u001b[39;49m_transform(\n\u001b[0;32m    447\u001b[0m         func, \u001b[39m*\u001b[39;49margs, engine\u001b[39m=\u001b[39;49mengine, engine_kwargs\u001b[39m=\u001b[39;49mengine_kwargs, \u001b[39m*\u001b[39;49m\u001b[39m*\u001b[39;49mkwargs\n\u001b[0;32m    448\u001b[0m     )\n",
      "File \u001b[1;32mc:\\Program Files\\Python311\\Lib\\site-packages\\pandas\\core\\groupby\\groupby.py:1851\u001b[0m, in \u001b[0;36mGroupBy._transform\u001b[1;34m(self, func, engine, engine_kwargs, *args, **kwargs)\u001b[0m\n\u001b[0;32m   1848\u001b[0m func \u001b[39m=\u001b[39m com\u001b[39m.\u001b[39mget_cython_func(func) \u001b[39mor\u001b[39;00m func\n\u001b[0;32m   1850\u001b[0m \u001b[39mif\u001b[39;00m \u001b[39mnot\u001b[39;00m \u001b[39misinstance\u001b[39m(func, \u001b[39mstr\u001b[39m):\n\u001b[1;32m-> 1851\u001b[0m     \u001b[39mreturn\u001b[39;00m \u001b[39mself\u001b[39;49m\u001b[39m.\u001b[39;49m_transform_general(func, \u001b[39m*\u001b[39;49margs, \u001b[39m*\u001b[39;49m\u001b[39m*\u001b[39;49mkwargs)\n\u001b[0;32m   1853\u001b[0m \u001b[39melif\u001b[39;00m func \u001b[39mnot\u001b[39;00m \u001b[39min\u001b[39;00m base\u001b[39m.\u001b[39mtransform_kernel_allowlist:\n\u001b[0;32m   1854\u001b[0m     msg \u001b[39m=\u001b[39m \u001b[39mf\u001b[39m\u001b[39m\"\u001b[39m\u001b[39m'\u001b[39m\u001b[39m{\u001b[39;00mfunc\u001b[39m}\u001b[39;00m\u001b[39m'\u001b[39m\u001b[39m is not a valid function name for transform(name)\u001b[39m\u001b[39m\"\u001b[39m\n",
      "File \u001b[1;32mc:\\Program Files\\Python311\\Lib\\site-packages\\pandas\\core\\groupby\\generic.py:479\u001b[0m, in \u001b[0;36mSeriesGroupBy._transform_general\u001b[1;34m(self, func, *args, **kwargs)\u001b[0m\n\u001b[0;32m    474\u001b[0m \u001b[39mfor\u001b[39;00m name, group \u001b[39min\u001b[39;00m \u001b[39mself\u001b[39m\u001b[39m.\u001b[39mgrouper\u001b[39m.\u001b[39mget_iterator(\n\u001b[0;32m    475\u001b[0m     \u001b[39mself\u001b[39m\u001b[39m.\u001b[39m_selected_obj, axis\u001b[39m=\u001b[39m\u001b[39mself\u001b[39m\u001b[39m.\u001b[39maxis\n\u001b[0;32m    476\u001b[0m ):\n\u001b[0;32m    477\u001b[0m     \u001b[39m# this setattr is needed for test_transform_lambda_with_datetimetz\u001b[39;00m\n\u001b[0;32m    478\u001b[0m     \u001b[39mobject\u001b[39m\u001b[39m.\u001b[39m\u001b[39m__setattr__\u001b[39m(group, \u001b[39m\"\u001b[39m\u001b[39mname\u001b[39m\u001b[39m\"\u001b[39m, name)\n\u001b[1;32m--> 479\u001b[0m     res \u001b[39m=\u001b[39m func(group, \u001b[39m*\u001b[39;49margs, \u001b[39m*\u001b[39;49m\u001b[39m*\u001b[39;49mkwargs)\n\u001b[0;32m    481\u001b[0m     results\u001b[39m.\u001b[39mappend(klass(res, index\u001b[39m=\u001b[39mgroup\u001b[39m.\u001b[39mindex))\n\u001b[0;32m    483\u001b[0m \u001b[39m# check for empty \"results\" to avoid concat ValueError\u001b[39;00m\n",
      "Cell \u001b[1;32mIn[28], line 3\u001b[0m, in \u001b[0;36mcount_alive_characters\u001b[1;34m(group)\u001b[0m\n\u001b[0;32m      2\u001b[0m \u001b[39mdef\u001b[39;00m \u001b[39mcount_alive_characters\u001b[39m(group):\n\u001b[1;32m----> 3\u001b[0m     \u001b[39mreturn\u001b[39;00m group[group[\u001b[39m'\u001b[39;49m\u001b[39mStatus\u001b[39;49m\u001b[39m'\u001b[39;49m] \u001b[39m==\u001b[39m \u001b[39m'\u001b[39m\u001b[39mAlive\u001b[39m\u001b[39m'\u001b[39m]\u001b[39m.\u001b[39mshape[\u001b[39m0\u001b[39m]\n",
      "File \u001b[1;32mc:\\Program Files\\Python311\\Lib\\site-packages\\pandas\\core\\series.py:981\u001b[0m, in \u001b[0;36mSeries.__getitem__\u001b[1;34m(self, key)\u001b[0m\n\u001b[0;32m    978\u001b[0m     \u001b[39mreturn\u001b[39;00m \u001b[39mself\u001b[39m\u001b[39m.\u001b[39m_values[key]\n\u001b[0;32m    980\u001b[0m \u001b[39melif\u001b[39;00m key_is_scalar:\n\u001b[1;32m--> 981\u001b[0m     \u001b[39mreturn\u001b[39;00m \u001b[39mself\u001b[39;49m\u001b[39m.\u001b[39;49m_get_value(key)\n\u001b[0;32m    983\u001b[0m \u001b[39mif\u001b[39;00m is_hashable(key):\n\u001b[0;32m    984\u001b[0m     \u001b[39m# Otherwise index.get_value will raise InvalidIndexError\u001b[39;00m\n\u001b[0;32m    985\u001b[0m     \u001b[39mtry\u001b[39;00m:\n\u001b[0;32m    986\u001b[0m         \u001b[39m# For labels that don't resolve as scalars like tuples and frozensets\u001b[39;00m\n",
      "File \u001b[1;32mc:\\Program Files\\Python311\\Lib\\site-packages\\pandas\\core\\series.py:1089\u001b[0m, in \u001b[0;36mSeries._get_value\u001b[1;34m(self, label, takeable)\u001b[0m\n\u001b[0;32m   1086\u001b[0m     \u001b[39mreturn\u001b[39;00m \u001b[39mself\u001b[39m\u001b[39m.\u001b[39m_values[label]\n\u001b[0;32m   1088\u001b[0m \u001b[39m# Similar to Index.get_value, but we do not fall back to positional\u001b[39;00m\n\u001b[1;32m-> 1089\u001b[0m loc \u001b[39m=\u001b[39m \u001b[39mself\u001b[39;49m\u001b[39m.\u001b[39;49mindex\u001b[39m.\u001b[39;49mget_loc(label)\n\u001b[0;32m   1090\u001b[0m \u001b[39mreturn\u001b[39;00m \u001b[39mself\u001b[39m\u001b[39m.\u001b[39mindex\u001b[39m.\u001b[39m_get_values_for_loc(\u001b[39mself\u001b[39m, loc, label)\n",
      "File \u001b[1;32mc:\\Program Files\\Python311\\Lib\\site-packages\\pandas\\core\\indexes\\base.py:3804\u001b[0m, in \u001b[0;36mIndex.get_loc\u001b[1;34m(self, key, method, tolerance)\u001b[0m\n\u001b[0;32m   3802\u001b[0m     \u001b[39mreturn\u001b[39;00m \u001b[39mself\u001b[39m\u001b[39m.\u001b[39m_engine\u001b[39m.\u001b[39mget_loc(casted_key)\n\u001b[0;32m   3803\u001b[0m \u001b[39mexcept\u001b[39;00m \u001b[39mKeyError\u001b[39;00m \u001b[39mas\u001b[39;00m err:\n\u001b[1;32m-> 3804\u001b[0m     \u001b[39mraise\u001b[39;00m \u001b[39mKeyError\u001b[39;00m(key) \u001b[39mfrom\u001b[39;00m \u001b[39merr\u001b[39;00m\n\u001b[0;32m   3805\u001b[0m \u001b[39mexcept\u001b[39;00m \u001b[39mTypeError\u001b[39;00m:\n\u001b[0;32m   3806\u001b[0m     \u001b[39m# If we have a listlike key, _check_indexing_error will raise\u001b[39;00m\n\u001b[0;32m   3807\u001b[0m     \u001b[39m#  InvalidIndexError. Otherwise we fall through and re-raise\u001b[39;00m\n\u001b[0;32m   3808\u001b[0m     \u001b[39m#  the TypeError.\u001b[39;00m\n\u001b[0;32m   3809\u001b[0m     \u001b[39mself\u001b[39m\u001b[39m.\u001b[39m_check_indexing_error(key)\n",
      "\u001b[1;31mKeyError\u001b[0m: 'Status'"
     ]
    }
   ],
   "source": [
    "# Example 30: Applying a function to a DataFrame group and combining the result with transform()\n",
    "def count_alive_characters(group):\n",
    "    return group[group['Status'] == 'Alive'].shape[0]\n",
    "\n",
    "alive_characters_count = df.groupby('House')['Status'].transform(count_alive_characters)\n",
    "df['Alive_Characters_Count'] = alive_characters_count\n",
    "print(\"\\nExample 30:\")\n",
    "print(df)"
   ]
  },
  {
   "cell_type": "code",
   "execution_count": 29,
   "metadata": {},
   "outputs": [
    {
     "name": "stdout",
     "output_type": "stream",
     "text": [
      "\n",
      "Example 31:\n",
      "                 Name      House Status  Age  Total_Appearances  \\\n",
      "0            Jon Snow      Stark    NaN   35                 10   \n",
      "1  Daenerys Targaryen  Targaryen    NaN   30                 12   \n",
      "2    Tyrion Lannister  Lannister    NaN   40                 15   \n",
      "3          Arya Stark      Stark    NaN   18                  8   \n",
      "4    Cersei Lannister  Lannister    NaN   45                  6   \n",
      "\n",
      "   Battles_Fought  Age_5_Years_Later  Age_10_Years_Later Status_Summary  \\\n",
      "0               3                 40                  45          Alive   \n",
      "1               5                 35                  40       Deceased   \n",
      "2               2                 45                  50          Alive   \n",
      "3               1                 23                  28          Alive   \n",
      "4               4                 50                  55       Deceased   \n",
      "\n",
      "  House_Location  Total_Characters Age_Category  Status_Code  Name_Length  \\\n",
      "0     Winterfell                13        Adult            1            8   \n",
      "1    Dragonstone                17        Adult            0           18   \n",
      "2  Casterly Rock                17       Senior            1           16   \n",
      "3     Winterfell                 9        Young            1           10   \n",
      "4  Casterly Rock                10       Senior            0           16   \n",
      "\n",
      "   Average_Appearances  \n",
      "0                  9.0  \n",
      "1                 12.0  \n",
      "2                 10.5  \n",
      "3                  9.0  \n",
      "4                 10.5  \n"
     ]
    }
   ],
   "source": [
    "# Example 31: Applying a function to a DataFrame column using the map() method\n",
    "status_mapping = {'Alive': 'Living', 'Deceased': 'Dead'}\n",
    "df['Status'] = df['Status'].map(status_mapping)\n",
    "print(\"\\nExample 31:\")\n",
    "print(df)"
   ]
  },
  {
   "cell_type": "code",
   "execution_count": 30,
   "metadata": {},
   "outputs": [
    {
     "name": "stdout",
     "output_type": "stream",
     "text": [
      "\n",
      "Example 32:\n",
      "                 Name      House    Status  Age  Total_Appearances  \\\n",
      "0            Jon Snow      Stark  Deceased   35                 10   \n",
      "1  Daenerys Targaryen  Targaryen  Deceased   30                 12   \n",
      "2    Tyrion Lannister  Lannister  Deceased   40                 15   \n",
      "3          Arya Stark      Stark  Deceased   18                  8   \n",
      "4    Cersei Lannister  Lannister  Deceased   45                  6   \n",
      "\n",
      "   Battles_Fought  Age_5_Years_Later  Age_10_Years_Later Status_Summary  \\\n",
      "0               3                 40                  45          Alive   \n",
      "1               5                 35                  40       Deceased   \n",
      "2               2                 45                  50          Alive   \n",
      "3               1                 23                  28          Alive   \n",
      "4               4                 50                  55       Deceased   \n",
      "\n",
      "  House_Location  Total_Characters Age_Category  Status_Code  Name_Length  \\\n",
      "0     Winterfell                13        Adult            1            8   \n",
      "1    Dragonstone                17        Adult            0           18   \n",
      "2  Casterly Rock                17       Senior            1           16   \n",
      "3     Winterfell                 9        Young            1           10   \n",
      "4  Casterly Rock                10       Senior            0           16   \n",
      "\n",
      "   Average_Appearances  \n",
      "0                  9.0  \n",
      "1                 12.0  \n",
      "2                 10.5  \n",
      "3                  9.0  \n",
      "4                 10.5  \n"
     ]
    }
   ],
   "source": [
    "# Example 32: Applying a function element-wise to a DataFrame using the apply() method\n",
    "def get_status_summary(row):\n",
    "    return 'Alive' if row['Status'] == 'Living' else 'Deceased'\n",
    "\n",
    "df['Status'] = df.apply(get_status_summary, axis=1)\n",
    "print(\"\\nExample 32:\")\n",
    "print(df)"
   ]
  },
  {
   "cell_type": "code",
   "execution_count": 31,
   "metadata": {},
   "outputs": [
    {
     "ename": "AttributeError",
     "evalue": "'Series' object has no attribute 'applymap'",
     "output_type": "error",
     "traceback": [
      "\u001b[1;31m---------------------------------------------------------------------------\u001b[0m",
      "\u001b[1;31mAttributeError\u001b[0m                            Traceback (most recent call last)",
      "Cell \u001b[1;32mIn[31], line 2\u001b[0m\n\u001b[0;32m      1\u001b[0m \u001b[39m# Example 33: Using the applymap() method to apply a function element-wise to a DataFrame\u001b[39;00m\n\u001b[1;32m----> 2\u001b[0m df[\u001b[39m'\u001b[39m\u001b[39mName\u001b[39m\u001b[39m'\u001b[39m] \u001b[39m=\u001b[39m df[\u001b[39m'\u001b[39;49m\u001b[39mName\u001b[39;49m\u001b[39m'\u001b[39;49m]\u001b[39m.\u001b[39;49mapplymap(\u001b[39mstr\u001b[39m\u001b[39m.\u001b[39mupper)\n\u001b[0;32m      3\u001b[0m \u001b[39mprint\u001b[39m(\u001b[39m\"\u001b[39m\u001b[39m\\n\u001b[39;00m\u001b[39mExample 33:\u001b[39m\u001b[39m\"\u001b[39m)\n\u001b[0;32m      4\u001b[0m \u001b[39mprint\u001b[39m(df)\n",
      "File \u001b[1;32mc:\\Program Files\\Python311\\Lib\\site-packages\\pandas\\core\\generic.py:5902\u001b[0m, in \u001b[0;36mNDFrame.__getattr__\u001b[1;34m(self, name)\u001b[0m\n\u001b[0;32m   5895\u001b[0m \u001b[39mif\u001b[39;00m (\n\u001b[0;32m   5896\u001b[0m     name \u001b[39mnot\u001b[39;00m \u001b[39min\u001b[39;00m \u001b[39mself\u001b[39m\u001b[39m.\u001b[39m_internal_names_set\n\u001b[0;32m   5897\u001b[0m     \u001b[39mand\u001b[39;00m name \u001b[39mnot\u001b[39;00m \u001b[39min\u001b[39;00m \u001b[39mself\u001b[39m\u001b[39m.\u001b[39m_metadata\n\u001b[0;32m   5898\u001b[0m     \u001b[39mand\u001b[39;00m name \u001b[39mnot\u001b[39;00m \u001b[39min\u001b[39;00m \u001b[39mself\u001b[39m\u001b[39m.\u001b[39m_accessors\n\u001b[0;32m   5899\u001b[0m     \u001b[39mand\u001b[39;00m \u001b[39mself\u001b[39m\u001b[39m.\u001b[39m_info_axis\u001b[39m.\u001b[39m_can_hold_identifiers_and_holds_name(name)\n\u001b[0;32m   5900\u001b[0m ):\n\u001b[0;32m   5901\u001b[0m     \u001b[39mreturn\u001b[39;00m \u001b[39mself\u001b[39m[name]\n\u001b[1;32m-> 5902\u001b[0m \u001b[39mreturn\u001b[39;00m \u001b[39mobject\u001b[39;49m\u001b[39m.\u001b[39;49m\u001b[39m__getattribute__\u001b[39;49m(\u001b[39mself\u001b[39;49m, name)\n",
      "\u001b[1;31mAttributeError\u001b[0m: 'Series' object has no attribute 'applymap'"
     ]
    }
   ],
   "source": [
    "# Example 33: Using the applymap() method to apply a function element-wise to a DataFrame\n",
    "df['Name'] = df['Name'].applymap(str.upper)\n",
    "print(\"\\nExample 33:\")\n",
    "print(df)"
   ]
  },
  {
   "cell_type": "code",
   "execution_count": 32,
   "metadata": {},
   "outputs": [
    {
     "name": "stdout",
     "output_type": "stream",
     "text": [
      "\n",
      "Example 34:\n",
      "                 Name  Name_Length\n",
      "0            Jon Snow            8\n",
      "1  Daenerys Targaryen           18\n",
      "2    Tyrion Lannister           16\n",
      "3          Arya Stark           10\n",
      "4    Cersei Lannister           16\n"
     ]
    }
   ],
   "source": [
    "# Example 34: Applying a function element-wise to a Series and creating a new DataFrame\n",
    "df['Name_Length'] = df['Name'].apply(len)\n",
    "name_lengths_df = df[['Name', 'Name_Length']]\n",
    "print(\"\\nExample 34:\")\n",
    "print(name_lengths_df)"
   ]
  },
  {
   "cell_type": "code",
   "execution_count": 33,
   "metadata": {},
   "outputs": [
    {
     "name": "stdout",
     "output_type": "stream",
     "text": [
      "\n",
      "Example 35:\n",
      "                 Name      House    Status  Age  Total_Appearances  \\\n",
      "0            Jon Snow      Stark  Deceased   35                 10   \n",
      "1  Daenerys Targaryen  Targaryen  Deceased   30                 12   \n",
      "2    Tyrion Lannister  Lannister  Deceased   40                 15   \n",
      "3          Arya Stark      Stark  Deceased   18                  8   \n",
      "4    Cersei Lannister  Lannister  Deceased   45                  6   \n",
      "\n",
      "   Battles_Fought  Age_5_Years_Later  Age_10_Years_Later Status_Summary  \\\n",
      "0               3                 40                  45          Alive   \n",
      "1               5                 35                  40       Deceased   \n",
      "2               2                 45                  50          Alive   \n",
      "3               1                 23                  28          Alive   \n",
      "4               4                 50                  55       Deceased   \n",
      "\n",
      "  House_Location  Total_Characters Age_Category  Status_Code  Name_Length  \\\n",
      "0     Winterfell                13        Adult            1            8   \n",
      "1    Dragonstone                17        Adult            0           18   \n",
      "2  Casterly Rock                17       Senior            1           16   \n",
      "3     Winterfell                 9        Young            1           10   \n",
      "4  Casterly Rock                10       Senior            0           16   \n",
      "\n",
      "   Average_Appearances  \n",
      "0                  9.0  \n",
      "1                 12.0  \n",
      "2                 10.5  \n",
      "3                  9.0  \n",
      "4                 10.5  \n"
     ]
    }
   ],
   "source": [
    "# Example 35: Applying a function element-wise to a Series with conditional logic\n",
    "def age_category(age):\n",
    "    if age < 25:\n",
    "        return 'Young'\n",
    "    elif age >= 25 and age < 40:\n",
    "        return 'Adult'\n",
    "    else:\n",
    "        return 'Senior'\n",
    "\n",
    "df['Age_Category'] = df['Age'].apply(age_category)\n",
    "print(\"\\nExample 35:\")\n",
    "print(df)"
   ]
  }
 ],
 "metadata": {
  "kernelspec": {
   "display_name": "Python 3",
   "language": "python",
   "name": "python3"
  },
  "language_info": {
   "codemirror_mode": {
    "name": "ipython",
    "version": 3
   },
   "file_extension": ".py",
   "mimetype": "text/x-python",
   "name": "python",
   "nbconvert_exporter": "python",
   "pygments_lexer": "ipython3",
   "version": "3.11.2"
  },
  "orig_nbformat": 4
 },
 "nbformat": 4,
 "nbformat_minor": 2
}
