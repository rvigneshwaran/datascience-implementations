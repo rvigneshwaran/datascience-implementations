{
 "cells": [
  {
   "cell_type": "code",
   "execution_count": 1,
   "metadata": {},
   "outputs": [],
   "source": [
    "import pandas as pd"
   ]
  },
  {
   "cell_type": "code",
   "execution_count": 2,
   "metadata": {},
   "outputs": [],
   "source": [
    "# Creating a DataFrame for Game of Thrones characters\n",
    "data = {\n",
    "    'Name': ['Jon Snow', 'Daenerys Targaryen', 'Tyrion Lannister', 'Arya Stark', 'Cersei Lannister'],\n",
    "    'House': ['Stark', 'Targaryen', 'Lannister', 'Stark', 'Lannister'],\n",
    "    'Allegiance': ['Night\\'s Watch', 'House Targaryen', 'House Lannister', 'House Stark', 'House Lannister'],\n",
    "    'Status': ['Alive', 'Deceased', 'Alive', 'Alive', 'Deceased'],\n",
    "    'Age': [30, 24, 38, 20, 42],\n",
    "    'Seasons': [8, 8, 8, 8, 8],\n",
    "    'Episodes': [73, 62, 67, 59, 62]\n",
    "}"
   ]
  },
  {
   "cell_type": "code",
   "execution_count": 3,
   "metadata": {},
   "outputs": [
    {
     "name": "stdout",
     "output_type": "stream",
     "text": [
      "Game of Thrones Characters DataFrame:\n",
      "                 Name      House       Allegiance    Status  Age  Seasons  \\\n",
      "0            Jon Snow      Stark    Night's Watch     Alive   30        8   \n",
      "1  Daenerys Targaryen  Targaryen  House Targaryen  Deceased   24        8   \n",
      "2    Tyrion Lannister  Lannister  House Lannister     Alive   38        8   \n",
      "3          Arya Stark      Stark      House Stark     Alive   20        8   \n",
      "4    Cersei Lannister  Lannister  House Lannister  Deceased   42        8   \n",
      "\n",
      "   Episodes  \n",
      "0        73  \n",
      "1        62  \n",
      "2        67  \n",
      "3        59  \n",
      "4        62  \n"
     ]
    }
   ],
   "source": [
    "got_df = pd.DataFrame(data)\n",
    "print(\"Game of Thrones Characters DataFrame:\")\n",
    "print(got_df)"
   ]
  },
  {
   "cell_type": "code",
   "execution_count": 4,
   "metadata": {},
   "outputs": [
    {
     "name": "stdout",
     "output_type": "stream",
     "text": [
      "\n",
      "Example 1: Grouping data by House and counting characters in each House:\n",
      "House\n",
      "Lannister    2\n",
      "Stark        2\n",
      "Targaryen    1\n",
      "dtype: int64\n"
     ]
    }
   ],
   "source": [
    "# Example 1: Grouping data by House and counting characters in each House\n",
    "print(\"\\nExample 1: Grouping data by House and counting characters in each House:\")\n",
    "grouped_by_house = got_df.groupby('House').size()\n",
    "print(grouped_by_house)"
   ]
  },
  {
   "cell_type": "code",
   "execution_count": 5,
   "metadata": {},
   "outputs": [
    {
     "name": "stdout",
     "output_type": "stream",
     "text": [
      "\n",
      "Example 2: Grouping data by House and calculating the mean of Age and Seasons for each House:\n",
      "            Age  Seasons\n",
      "House                   \n",
      "Lannister  40.0      8.0\n",
      "Stark      25.0      8.0\n",
      "Targaryen  24.0      8.0\n"
     ]
    },
    {
     "name": "stderr",
     "output_type": "stream",
     "text": [
      "C:\\Users\\rvign\\AppData\\Local\\Temp\\ipykernel_17192\\1523554725.py:3: FutureWarning: Indexing with multiple keys (implicitly converted to a tuple of keys) will be deprecated, use a list instead.\n",
      "  mean_age_seasons_by_house = got_df.groupby('House')['Age', 'Seasons'].mean()\n"
     ]
    }
   ],
   "source": [
    "# Example 2: Grouping data by House and calculating the mean of Age and Seasons for each House\n",
    "print(\"\\nExample 2: Grouping data by House and calculating the mean of Age and Seasons for each House:\")\n",
    "mean_age_seasons_by_house = got_df.groupby('House')['Age', 'Seasons'].mean()\n",
    "print(mean_age_seasons_by_house)"
   ]
  },
  {
   "cell_type": "code",
   "execution_count": 6,
   "metadata": {},
   "outputs": [
    {
     "name": "stdout",
     "output_type": "stream",
     "text": [
      "\n",
      "Example 3: Grouping data by House and calculating the sum of Episodes for each House:\n",
      "House\n",
      "Lannister    129\n",
      "Stark        132\n",
      "Targaryen     62\n",
      "Name: Episodes, dtype: int64\n"
     ]
    }
   ],
   "source": [
    "# Example 3: Grouping data by House and calculating the sum of Episodes for each House\n",
    "print(\"\\nExample 3: Grouping data by House and calculating the sum of Episodes for each House:\")\n",
    "total_episodes_by_house = got_df.groupby('House')['Episodes'].sum()\n",
    "print(total_episodes_by_house)"
   ]
  },
  {
   "cell_type": "code",
   "execution_count": 7,
   "metadata": {},
   "outputs": [
    {
     "name": "stdout",
     "output_type": "stream",
     "text": [
      "\n",
      "Example 4: Grouping data by House and finding the youngest character in each House:\n",
      "                         Name  Age\n",
      "House                             \n",
      "Lannister    Cersei Lannister   38\n",
      "Stark              Arya Stark   20\n",
      "Targaryen  Daenerys Targaryen   24\n"
     ]
    },
    {
     "name": "stderr",
     "output_type": "stream",
     "text": [
      "C:\\Users\\rvign\\AppData\\Local\\Temp\\ipykernel_17192\\3753678291.py:3: FutureWarning: Indexing with multiple keys (implicitly converted to a tuple of keys) will be deprecated, use a list instead.\n",
      "  youngest_character_by_house = got_df.groupby('House')['Name', 'Age'].min()\n"
     ]
    }
   ],
   "source": [
    "# Example 4: Grouping data by House and finding the youngest character in each House\n",
    "print(\"\\nExample 4: Grouping data by House and finding the youngest character in each House:\")\n",
    "youngest_character_by_house = got_df.groupby('House')['Name', 'Age'].min()\n",
    "print(youngest_character_by_house)"
   ]
  },
  {
   "cell_type": "code",
   "execution_count": 8,
   "metadata": {},
   "outputs": [
    {
     "name": "stdout",
     "output_type": "stream",
     "text": [
      "\n",
      "Example 5: Grouping data by House and finding the oldest character in each House:\n",
      "                         Name  Age\n",
      "House                             \n",
      "Lannister    Tyrion Lannister   42\n",
      "Stark                Jon Snow   30\n",
      "Targaryen  Daenerys Targaryen   24\n"
     ]
    },
    {
     "name": "stderr",
     "output_type": "stream",
     "text": [
      "C:\\Users\\rvign\\AppData\\Local\\Temp\\ipykernel_17192\\2187873167.py:3: FutureWarning: Indexing with multiple keys (implicitly converted to a tuple of keys) will be deprecated, use a list instead.\n",
      "  oldest_character_by_house = got_df.groupby('House')['Name', 'Age'].max()\n"
     ]
    }
   ],
   "source": [
    "# Example 5: Grouping data by House and finding the oldest character in each House\n",
    "print(\"\\nExample 5: Grouping data by House and finding the oldest character in each House:\")\n",
    "oldest_character_by_house = got_df.groupby('House')['Name', 'Age'].max()\n",
    "print(oldest_character_by_house)"
   ]
  },
  {
   "cell_type": "code",
   "execution_count": 9,
   "metadata": {},
   "outputs": [
    {
     "name": "stdout",
     "output_type": "stream",
     "text": [
      "\n",
      "Example 6: Grouping data by Status and calculating the average Age for each Status:\n",
      "Status\n",
      "Alive       29.333333\n",
      "Deceased    33.000000\n",
      "Name: Age, dtype: float64\n"
     ]
    }
   ],
   "source": [
    "# Example 6: Grouping data by Status and calculating the average Age for each Status\n",
    "print(\"\\nExample 6: Grouping data by Status and calculating the average Age for each Status:\")\n",
    "average_age_by_status = got_df.groupby('Status')['Age'].mean()\n",
    "print(average_age_by_status)"
   ]
  },
  {
   "cell_type": "code",
   "execution_count": 10,
   "metadata": {},
   "outputs": [
    {
     "name": "stdout",
     "output_type": "stream",
     "text": [
      "\n",
      "Example 7: Grouping data by Status and calculating the total Episodes for each Status:\n",
      "Status\n",
      "Alive       199\n",
      "Deceased    124\n",
      "Name: Episodes, dtype: int64\n"
     ]
    }
   ],
   "source": [
    "# Example 7: Grouping data by Status and calculating the total Episodes for each Status\n",
    "print(\"\\nExample 7: Grouping data by Status and calculating the total Episodes for each Status:\")\n",
    "total_episodes_by_status = got_df.groupby('Status')['Episodes'].sum()\n",
    "print(total_episodes_by_status)"
   ]
  },
  {
   "cell_type": "code",
   "execution_count": 11,
   "metadata": {},
   "outputs": [
    {
     "name": "stdout",
     "output_type": "stream",
     "text": [
      "\n",
      "Example 8: Grouping data by Status and finding the character with the highest Age in each Status:\n",
      "                      Name      House       Allegiance    Status  Age  \\\n",
      "Status                                                                  \n",
      "Alive     Tyrion Lannister  Lannister  House Lannister     Alive   38   \n",
      "Deceased  Cersei Lannister  Lannister  House Lannister  Deceased   42   \n",
      "\n",
      "          Seasons  Episodes  \n",
      "Status                       \n",
      "Alive           8        67  \n",
      "Deceased        8        62  \n"
     ]
    }
   ],
   "source": [
    "# Example 8: Grouping data by Status and finding the character with the highest Age in each Status\n",
    "print(\"\\nExample 8: Grouping data by Status and finding the character with the highest Age in each Status:\")\n",
    "character_with_max_age_by_status = got_df.groupby('Status').apply(lambda x: x.loc[x['Age'].idxmax()])\n",
    "print(character_with_max_age_by_status)"
   ]
  },
  {
   "cell_type": "code",
   "execution_count": 12,
   "metadata": {},
   "outputs": [
    {
     "name": "stdout",
     "output_type": "stream",
     "text": [
      "\n",
      "Example 9: Grouping data by multiple columns (House and Status) and calculating the mean Age for each group:\n",
      "House      Status  \n",
      "Lannister  Alive       38.0\n",
      "           Deceased    42.0\n",
      "Stark      Alive       25.0\n",
      "Targaryen  Deceased    24.0\n",
      "Name: Age, dtype: float64\n"
     ]
    }
   ],
   "source": [
    "# Example 9: Grouping data by multiple columns (House and Status) and calculating the mean Age for each group\n",
    "print(\"\\nExample 9: Grouping data by multiple columns (House and Status) and calculating the mean Age for each group:\")\n",
    "mean_age_by_house_status = got_df.groupby(['House', 'Status'])['Age'].mean()\n",
    "print(mean_age_by_house_status)"
   ]
  },
  {
   "cell_type": "code",
   "execution_count": 13,
   "metadata": {},
   "outputs": [
    {
     "name": "stdout",
     "output_type": "stream",
     "text": [
      "\n",
      "Example 10: Grouping data by multiple columns (House and Status) and finding the character with the highest Age in each group:\n",
      "                                  Name      House       Allegiance    Status  \\\n",
      "House     Status                                                               \n",
      "Lannister Alive       Tyrion Lannister  Lannister  House Lannister     Alive   \n",
      "          Deceased    Cersei Lannister  Lannister  House Lannister  Deceased   \n",
      "Stark     Alive               Jon Snow      Stark    Night's Watch     Alive   \n",
      "Targaryen Deceased  Daenerys Targaryen  Targaryen  House Targaryen  Deceased   \n",
      "\n",
      "                    Age  Seasons  Episodes  \n",
      "House     Status                            \n",
      "Lannister Alive      38        8        67  \n",
      "          Deceased   42        8        62  \n",
      "Stark     Alive      30        8        73  \n",
      "Targaryen Deceased   24        8        62  \n"
     ]
    }
   ],
   "source": [
    "# Example 10: Grouping data by multiple columns (House and Status) and finding the character with the highest Age in each group\n",
    "print(\"\\nExample 10: Grouping data by multiple columns (House and Status) and finding the character with the highest Age in each group:\")\n",
    "character_with_max_age_by_house_status = got_df.groupby(['House', 'Status']).apply(lambda x: x.loc[x['Age'].idxmax()])\n",
    "print(character_with_max_age_by_house_status)\n"
   ]
  },
  {
   "cell_type": "code",
   "execution_count": 14,
   "metadata": {},
   "outputs": [
    {
     "name": "stdout",
     "output_type": "stream",
     "text": [
      "\n",
      "Example 11: Grouping data by House and applying multiple aggregate functions:\n",
      "            Age  Episodes  Name\n",
      "House                          \n",
      "Lannister  40.0       129     2\n",
      "Stark      25.0       132     2\n",
      "Targaryen  24.0        62     1\n"
     ]
    }
   ],
   "source": [
    "# Example 11: Grouping data by House and applying multiple aggregate functions\n",
    "print(\"\\nExample 11: Grouping data by House and applying multiple aggregate functions:\")\n",
    "grouped_by_house_multiple_aggregates = got_df.groupby('House').agg({'Age': 'mean', 'Episodes': 'sum', 'Name': 'count'})\n",
    "print(grouped_by_house_multiple_aggregates)"
   ]
  },
  {
   "cell_type": "code",
   "execution_count": 15,
   "metadata": {},
   "outputs": [
    {
     "name": "stdout",
     "output_type": "stream",
     "text": [
      "\n",
      "Example 12: Grouping data by House and Allegiance and calculating the mean Age and total Episodes for each group:\n",
      "                            Age  Episodes\n",
      "House     Allegiance                     \n",
      "Lannister House Lannister  40.0       129\n",
      "Stark     House Stark      20.0        59\n",
      "          Night's Watch    30.0        73\n",
      "Targaryen House Targaryen  24.0        62\n"
     ]
    }
   ],
   "source": [
    "# Example 12: Grouping data by House and Allegiance and calculating the mean Age and total Episodes for each group\n",
    "print(\"\\nExample 12: Grouping data by House and Allegiance and calculating the mean Age and total Episodes for each group:\")\n",
    "mean_age_episodes_by_house_allegiance = got_df.groupby(['House', 'Allegiance']).agg({'Age': 'mean', 'Episodes': 'sum'})\n",
    "print(mean_age_episodes_by_house_allegiance)"
   ]
  },
  {
   "cell_type": "code",
   "execution_count": 16,
   "metadata": {},
   "outputs": [
    {
     "name": "stdout",
     "output_type": "stream",
     "text": [
      "\n",
      "Example 13: Grouping data by House and applying custom aggregate function (count characters with Age greater than 30):\n",
      "House\n",
      "Lannister    2\n",
      "Stark        0\n",
      "Targaryen    0\n",
      "Name: Age, dtype: int64\n"
     ]
    }
   ],
   "source": [
    "# Example 13: Grouping data by House and applying custom aggregate function\n",
    "print(\"\\nExample 13: Grouping data by House and applying custom aggregate function (count characters with Age greater than 30):\")\n",
    "def count_characters_above_30(series):\n",
    "    return len(series[series > 30])\n",
    "\n",
    "characters_above_30_by_house = got_df.groupby('House')['Age'].agg(count_characters_above_30)\n",
    "print(characters_above_30_by_house)"
   ]
  },
  {
   "cell_type": "code",
   "execution_count": 17,
   "metadata": {},
   "outputs": [
    {
     "name": "stdout",
     "output_type": "stream",
     "text": [
      "\n",
      "Example 14: Grouping data and transforming the values using custom function (add 10 to each Age within the House group):\n",
      "                 Name      House       Allegiance    Status  Age  Seasons  \\\n",
      "0            Jon Snow      Stark    Night's Watch     Alive   30        8   \n",
      "1  Daenerys Targaryen  Targaryen  House Targaryen  Deceased   24        8   \n",
      "2    Tyrion Lannister  Lannister  House Lannister     Alive   38        8   \n",
      "3          Arya Stark      Stark      House Stark     Alive   20        8   \n",
      "4    Cersei Lannister  Lannister  House Lannister  Deceased   42        8   \n",
      "\n",
      "   Episodes  Age_Plus_Ten  \n",
      "0        73            40  \n",
      "1        62            34  \n",
      "2        67            48  \n",
      "3        59            30  \n",
      "4        62            52  \n"
     ]
    }
   ],
   "source": [
    "# Example 14: Grouping data and transforming the values using custom function\n",
    "print(\"\\nExample 14: Grouping data and transforming the values using custom function (add 10 to each Age within the House group):\")\n",
    "def add_ten_to_age(series):\n",
    "    return series + 10\n",
    "\n",
    "got_df['Age_Plus_Ten'] = got_df.groupby('House')['Age'].transform(add_ten_to_age)\n",
    "print(got_df)"
   ]
  },
  {
   "cell_type": "code",
   "execution_count": 18,
   "metadata": {},
   "outputs": [
    {
     "name": "stdout",
     "output_type": "stream",
     "text": [
      "\n",
      "Example 15: Grouping data by House and Allegiance and finding the character with the highest Age in each group:\n",
      "                                         Name      House       Allegiance  \\\n",
      "House     Allegiance                                                        \n",
      "Lannister House Lannister    Cersei Lannister  Lannister  House Lannister   \n",
      "Stark     House Stark              Arya Stark      Stark      House Stark   \n",
      "          Night's Watch              Jon Snow      Stark    Night's Watch   \n",
      "Targaryen House Targaryen  Daenerys Targaryen  Targaryen  House Targaryen   \n",
      "\n",
      "                             Status  Age  Seasons  Episodes  Age_Plus_Ten  \n",
      "House     Allegiance                                                       \n",
      "Lannister House Lannister  Deceased   42        8        62            52  \n",
      "Stark     House Stark         Alive   20        8        59            30  \n",
      "          Night's Watch       Alive   30        8        73            40  \n",
      "Targaryen House Targaryen  Deceased   24        8        62            34  \n"
     ]
    }
   ],
   "source": [
    "# Example 15: Grouping data by House and Allegiance and finding the character with the highest Age in each group\n",
    "print(\"\\nExample 15: Grouping data by House and Allegiance and finding the character with the highest Age in each group:\")\n",
    "character_with_max_age_by_house_allegiance = got_df.groupby(['House', 'Allegiance']).apply(lambda x: x.loc[x['Age'].idxmax()])\n",
    "print(character_with_max_age_by_house_allegiance)"
   ]
  },
  {
   "cell_type": "code",
   "execution_count": 19,
   "metadata": {},
   "outputs": [
    {
     "name": "stdout",
     "output_type": "stream",
     "text": [
      "\n",
      "Example 16: Grouping data by House and calculating the median Age for each House:\n",
      "House\n",
      "Lannister    40.0\n",
      "Stark        25.0\n",
      "Targaryen    24.0\n",
      "Name: Age, dtype: float64\n"
     ]
    }
   ],
   "source": [
    "# Example 16: Grouping data by House and calculating the median Age for each House\n",
    "print(\"\\nExample 16: Grouping data by House and calculating the median Age for each House:\")\n",
    "median_age_by_house = got_df.groupby('House')['Age'].median()\n",
    "print(median_age_by_house)"
   ]
  },
  {
   "cell_type": "code",
   "execution_count": 20,
   "metadata": {},
   "outputs": [
    {
     "name": "stdout",
     "output_type": "stream",
     "text": [
      "\n",
      "Example 17: Grouping data by House and counting the number of unique Allegiances in each House:\n",
      "House\n",
      "Lannister    1\n",
      "Stark        2\n",
      "Targaryen    1\n",
      "Name: Allegiance, dtype: int64\n"
     ]
    }
   ],
   "source": [
    "# Example 17: Grouping data by House and counting the number of unique Allegiances in each House\n",
    "print(\"\\nExample 17: Grouping data by House and counting the number of unique Allegiances in each House:\")\n",
    "unique_allegiances_by_house = got_df.groupby('House')['Allegiance'].nunique()\n",
    "print(unique_allegiances_by_house)"
   ]
  },
  {
   "cell_type": "code",
   "execution_count": 21,
   "metadata": {},
   "outputs": [
    {
     "name": "stdout",
     "output_type": "stream",
     "text": [
      "\n",
      "Example 18: Grouping data by Status and calculating the minimum and maximum Age for each Status:\n",
      "          min  max\n",
      "Status            \n",
      "Alive      20   38\n",
      "Deceased   24   42\n"
     ]
    }
   ],
   "source": [
    "# Example 18: Grouping data by Status and calculating the minimum and maximum Age for each Status\n",
    "print(\"\\nExample 18: Grouping data by Status and calculating the minimum and maximum Age for each Status:\")\n",
    "min_max_age_by_status = got_df.groupby('Status')['Age'].agg(['min', 'max'])\n",
    "print(min_max_age_by_status)"
   ]
  },
  {
   "cell_type": "code",
   "execution_count": 22,
   "metadata": {},
   "outputs": [
    {
     "name": "stdout",
     "output_type": "stream",
     "text": [
      "\n",
      "Example 19: Grouping data by House and applying multiple aggregate functions with named columns:\n",
      "           Mean_Age  Total_Episodes  Num_Characters\n",
      "House                                              \n",
      "Lannister      40.0             129               2\n",
      "Stark          25.0             132               2\n",
      "Targaryen      24.0              62               1\n"
     ]
    }
   ],
   "source": [
    "# Example 19: Grouping data by House and applying multiple aggregate functions with named columns\n",
    "print(\"\\nExample 19: Grouping data by House and applying multiple aggregate functions with named columns:\")\n",
    "grouped_by_house_named_aggregates = got_df.groupby('House').agg(Mean_Age=('Age', 'mean'), Total_Episodes=('Episodes', 'sum'), Num_Characters=('Name', 'count'))\n",
    "print(grouped_by_house_named_aggregates)"
   ]
  },
  {
   "cell_type": "code",
   "execution_count": 23,
   "metadata": {},
   "outputs": [
    {
     "name": "stdout",
     "output_type": "stream",
     "text": [
      "\n",
      "Example 20: Grouping data by House and Allegiance and applying multiple aggregate functions with named columns:\n",
      "                           Mean_Age  Total_Episodes\n",
      "House     Allegiance                               \n",
      "Lannister House Lannister      40.0             129\n",
      "Stark     House Stark          20.0              59\n",
      "          Night's Watch        30.0              73\n",
      "Targaryen House Targaryen      24.0              62\n"
     ]
    }
   ],
   "source": [
    "# Example 20: Grouping data by House and Allegiance and applying multiple aggregate functions with named columns\n",
    "print(\"\\nExample 20: Grouping data by House and Allegiance and applying multiple aggregate functions with named columns:\")\n",
    "grouped_by_house_allegiance_named_aggregates = got_df.groupby(['House', 'Allegiance']).agg(Mean_Age=('Age', 'mean'), Total_Episodes=('Episodes', 'sum'))\n",
    "print(grouped_by_house_allegiance_named_aggregates)"
   ]
  },
  {
   "cell_type": "code",
   "execution_count": 24,
   "metadata": {},
   "outputs": [
    {
     "name": "stdout",
     "output_type": "stream",
     "text": [
      "\n",
      "Example 21: Grouping data by multiple columns (House and Status) and applying multiple aggregate functions with named columns:\n",
      "                    Mean_Age  Total_Episodes\n",
      "House     Status                            \n",
      "Lannister Alive         38.0              67\n",
      "          Deceased      42.0              62\n",
      "Stark     Alive         25.0             132\n",
      "Targaryen Deceased      24.0              62\n"
     ]
    }
   ],
   "source": [
    "# Example 21: Grouping data by multiple columns (House and Status) and applying multiple aggregate functions with named columns\n",
    "print(\"\\nExample 21: Grouping data by multiple columns (House and Status) and applying multiple aggregate functions with named columns:\")\n",
    "grouped_by_house_status_named_aggregates = got_df.groupby(['House', 'Status']).agg(Mean_Age=('Age', 'mean'), Total_Episodes=('Episodes', 'sum'))\n",
    "print(grouped_by_house_status_named_aggregates)"
   ]
  },
  {
   "cell_type": "code",
   "execution_count": 25,
   "metadata": {},
   "outputs": [
    {
     "name": "stdout",
     "output_type": "stream",
     "text": [
      "\n",
      "Example 22: Grouping data by Status and applying custom aggregate functions with named columns:\n",
      "           Mean_Age  Total_Episodes  Num_Characters\n",
      "Status                                             \n",
      "Alive     29.333333             199               3\n",
      "Deceased  33.000000             124               2\n"
     ]
    }
   ],
   "source": [
    "# Example 22: Grouping data by Status and applying custom aggregate functions with named columns\n",
    "print(\"\\nExample 22: Grouping data by Status and applying custom aggregate functions with named columns:\")\n",
    "status_aggregates = got_df.groupby('Status').agg(Mean_Age=('Age', 'mean'), Total_Episodes=('Episodes', 'sum'), Num_Characters=('Name', 'count'))\n",
    "print(status_aggregates)"
   ]
  },
  {
   "cell_type": "code",
   "execution_count": 26,
   "metadata": {},
   "outputs": [
    {
     "name": "stdout",
     "output_type": "stream",
     "text": [
      "\n",
      "Example 23: Grouping data by House and calculating the total Seasons and Episodes for each House:\n",
      "           Seasons  Episodes\n",
      "House                       \n",
      "Lannister       16       129\n",
      "Stark           16       132\n",
      "Targaryen        8        62\n"
     ]
    }
   ],
   "source": [
    "# Example 23: Grouping data by House and calculating the total Seasons and Episodes for each House\n",
    "print(\"\\nExample 23: Grouping data by House and calculating the total Seasons and Episodes for each House:\")\n",
    "total_seasons_episodes_by_house = got_df.groupby('House').agg({'Seasons': 'sum', 'Episodes': 'sum'})\n",
    "print(total_seasons_episodes_by_house)\n"
   ]
  },
  {
   "cell_type": "code",
   "execution_count": 27,
   "metadata": {},
   "outputs": [
    {
     "name": "stdout",
     "output_type": "stream",
     "text": [
      "\n",
      "Example 24: Grouping data by House and calculating the Age range for each House:\n",
      "House\n",
      "Lannister     4\n",
      "Stark        10\n",
      "Targaryen     0\n",
      "Name: Age, dtype: int64\n"
     ]
    }
   ],
   "source": [
    "# Example 24: Grouping data by House and calculating the Age range for each House\n",
    "print(\"\\nExample 24: Grouping data by House and calculating the Age range for each House:\")\n",
    "age_range_by_house = got_df.groupby('House')['Age'].agg(lambda x: x.max() - x.min())\n",
    "print(age_range_by_house)"
   ]
  },
  {
   "cell_type": "code",
   "execution_count": 28,
   "metadata": {},
   "outputs": [
    {
     "name": "stdout",
     "output_type": "stream",
     "text": [
      "\n",
      "Example 25: Grouping data by Status and finding the character with the highest Age and the character with the lowest Age in each Status:\n",
      "Status                     \n",
      "Alive     Max_Age_Character      Tyrion Lannister\n",
      "          Min_Age_Character            Arya Stark\n",
      "Deceased  Max_Age_Character      Cersei Lannister\n",
      "          Min_Age_Character    Daenerys Targaryen\n",
      "Name: Age, dtype: object\n"
     ]
    }
   ],
   "source": [
    "# Example 25: Grouping data by Status and finding the character with the highest Age and the character with the lowest Age in each Status\n",
    "print(\"\\nExample 25: Grouping data by Status and finding the character with the highest Age and the character with the lowest Age in each Status:\")\n",
    "def max_min_age_characters(series):\n",
    "    max_age_idx = series.idxmax()\n",
    "    min_age_idx = series.idxmin()\n",
    "    return pd.Series({'Max_Age_Character': got_df.loc[max_age_idx, 'Name'], 'Min_Age_Character': got_df.loc[min_age_idx, 'Name']})\n",
    "\n",
    "characters_with_max_min_age_by_status = got_df.groupby('Status')['Age'].apply(max_min_age_characters)\n",
    "print(characters_with_max_min_age_by_status)"
   ]
  }
 ],
 "metadata": {
  "kernelspec": {
   "display_name": "Python 3",
   "language": "python",
   "name": "python3"
  },
  "language_info": {
   "codemirror_mode": {
    "name": "ipython",
    "version": 3
   },
   "file_extension": ".py",
   "mimetype": "text/x-python",
   "name": "python",
   "nbconvert_exporter": "python",
   "pygments_lexer": "ipython3",
   "version": "3.11.2"
  },
  "orig_nbformat": 4
 },
 "nbformat": 4,
 "nbformat_minor": 2
}
