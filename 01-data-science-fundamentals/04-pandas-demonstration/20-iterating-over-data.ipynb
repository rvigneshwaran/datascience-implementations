{
 "cells": [
  {
   "cell_type": "code",
   "execution_count": 25,
   "metadata": {},
   "outputs": [],
   "source": [
    "import pandas as pd"
   ]
  },
  {
   "cell_type": "code",
   "execution_count": 26,
   "metadata": {},
   "outputs": [],
   "source": [
    "# Sample DataFrame\n",
    "data = {'Name': ['John', 'Alice', 'Ella', 'Michael', 'Sophia'],\n",
    "        'Age': [25, 30, 22, 27, 28],\n",
    "        'City': ['New York', 'Chicago', 'Los Angeles', 'Boston', 'Houston']}\n",
    "df = pd.DataFrame(data)"
   ]
  },
  {
   "cell_type": "code",
   "execution_count": 27,
   "metadata": {},
   "outputs": [
    {
     "name": "stdout",
     "output_type": "stream",
     "text": [
      "Example 1:\n",
      "0 John 25 New York\n",
      "1 Alice 30 Chicago\n",
      "2 Ella 22 Los Angeles\n",
      "3 Michael 27 Boston\n",
      "4 Sophia 28 Houston\n"
     ]
    }
   ],
   "source": [
    "# Example 1: Looping through rows using iterrows()\n",
    "print(\"Example 1:\")\n",
    "for index, row in df.iterrows():\n",
    "    print(index, row['Name'], row['Age'], row['City'])"
   ]
  },
  {
   "cell_type": "code",
   "execution_count": 28,
   "metadata": {},
   "outputs": [
    {
     "name": "stdout",
     "output_type": "stream",
     "text": [
      "\n",
      "Example 2:\n",
      "Name\n",
      "0       John\n",
      "1      Alice\n",
      "2       Ella\n",
      "3    Michael\n",
      "4     Sophia\n",
      "Name: Name, dtype: object\n",
      "Age\n",
      "0    25\n",
      "1    30\n",
      "2    22\n",
      "3    27\n",
      "4    28\n",
      "Name: Age, dtype: int64\n",
      "City\n",
      "0       New York\n",
      "1        Chicago\n",
      "2    Los Angeles\n",
      "3         Boston\n",
      "4        Houston\n",
      "Name: City, dtype: object\n"
     ]
    },
    {
     "name": "stderr",
     "output_type": "stream",
     "text": [
      "C:\\Users\\rvign\\AppData\\Local\\Temp\\ipykernel_23348\\738547729.py:3: FutureWarning: iteritems is deprecated and will be removed in a future version. Use .items instead.\n",
      "  for column, series in df.iteritems():\n"
     ]
    }
   ],
   "source": [
    "# Example 2: Looping through columns using iteritems()\n",
    "print(\"\\nExample 2:\")\n",
    "for column, series in df.iteritems():\n",
    "    print(column)\n",
    "    print(series)"
   ]
  },
  {
   "cell_type": "code",
   "execution_count": 29,
   "metadata": {},
   "outputs": [
    {
     "name": "stdout",
     "output_type": "stream",
     "text": [
      "\n",
      "Example 3:\n",
      "0 John 25 New York\n",
      "1 Alice 30 Chicago\n",
      "2 Ella 22 Los Angeles\n",
      "3 Michael 27 Boston\n",
      "4 Sophia 28 Houston\n"
     ]
    }
   ],
   "source": [
    "# Example 3: Looping through rows using itertuples()\n",
    "print(\"\\nExample 3:\")\n",
    "for row in df.itertuples():\n",
    "    print(row.Index, row.Name, row.Age, row.City)"
   ]
  },
  {
   "cell_type": "code",
   "execution_count": 30,
   "metadata": {},
   "outputs": [
    {
     "name": "stdout",
     "output_type": "stream",
     "text": [
      "\n",
      "Example 4:\n",
      "      Name  Age         City\n",
      "0     John   26     New York\n",
      "1    Alice   31      Chicago\n",
      "2     Ella   23  Los Angeles\n",
      "3  Michael   28       Boston\n",
      "4   Sophia   29      Houston\n"
     ]
    }
   ],
   "source": [
    "# Example 4: Looping through rows and updating values\n",
    "print(\"\\nExample 4:\")\n",
    "for index, row in df.iterrows():\n",
    "    df.at[index, 'Age'] = row['Age'] + 1\n",
    "print(df)"
   ]
  },
  {
   "cell_type": "code",
   "execution_count": 31,
   "metadata": {},
   "outputs": [
    {
     "name": "stdout",
     "output_type": "stream",
     "text": [
      "\n",
      "Example 5:\n",
      "John\n",
      "Alice\n",
      "Michael\n",
      "Sophia\n"
     ]
    }
   ],
   "source": [
    "# Example 5: Looping through rows and filtering based on condition\n",
    "print(\"\\nExample 5:\")\n",
    "for index, row in df.iterrows():\n",
    "    if row['Age'] > 25:\n",
    "        print(row['Name'])\n"
   ]
  },
  {
   "cell_type": "code",
   "execution_count": 32,
   "metadata": {},
   "outputs": [
    {
     "name": "stdout",
     "output_type": "stream",
     "text": [
      "\n",
      "Example 6:\n",
      "Name\n",
      "0       John\n",
      "1      Alice\n",
      "2       Ella\n",
      "3    Michael\n",
      "4     Sophia\n",
      "Name: Name, dtype: object\n",
      "Age\n",
      "0    26\n",
      "1    31\n",
      "2    23\n",
      "3    28\n",
      "4    29\n",
      "Name: Age, dtype: int64\n"
     ]
    },
    {
     "name": "stderr",
     "output_type": "stream",
     "text": [
      "C:\\Users\\rvign\\AppData\\Local\\Temp\\ipykernel_23348\\2482223717.py:3: FutureWarning: iteritems is deprecated and will be removed in a future version. Use .items instead.\n",
      "  for column, series in df.iteritems():\n"
     ]
    }
   ],
   "source": [
    "# Example 6: Looping through columns and filtering based on condition\n",
    "print(\"\\nExample 6:\")\n",
    "for column, series in df.iteritems():\n",
    "    if column != 'City':\n",
    "        print(column)\n",
    "        print(series)"
   ]
  },
  {
   "cell_type": "code",
   "execution_count": 33,
   "metadata": {},
   "outputs": [
    {
     "name": "stdout",
     "output_type": "stream",
     "text": [
      "\n",
      "Example 7:\n",
      "John Smith is 26 years old and lives in New York\n",
      "Alice Smith is 31 years old and lives in Chicago\n",
      "Ella Smith is 23 years old and lives in Los Angeles\n",
      "Michael Smith is 28 years old and lives in Boston\n",
      "Sophia Smith is 29 years old and lives in Houston\n"
     ]
    }
   ],
   "source": [
    "# Example 7: Looping through rows and performing complex operations\n",
    "print(\"\\nExample 7:\")\n",
    "for index, row in df.iterrows():\n",
    "    full_name = row['Name'] + ' Smith'\n",
    "    print(f\"{full_name} is {row['Age']} years old and lives in {row['City']}\")\n"
   ]
  },
  {
   "cell_type": "code",
   "execution_count": 34,
   "metadata": {},
   "outputs": [
    {
     "name": "stdout",
     "output_type": "stream",
     "text": [
      "\n",
      "Example 8:\n",
      "      Name  Age         City      Full Name\n",
      "0     John   26     New York     John Smith\n",
      "1    Alice   31      Chicago    Alice Smith\n",
      "2     Ella   23  Los Angeles     Ella Smith\n",
      "3  Michael   28       Boston  Michael Smith\n",
      "4   Sophia   29      Houston   Sophia Smith\n"
     ]
    }
   ],
   "source": [
    "# Example 8: Looping through rows and calculating a new column\n",
    "print(\"\\nExample 8:\")\n",
    "for index, row in df.iterrows():\n",
    "    df.at[index, 'Full Name'] = row['Name'] + ' Smith'\n",
    "print(df)"
   ]
  },
  {
   "cell_type": "code",
   "execution_count": 35,
   "metadata": {},
   "outputs": [
    {
     "name": "stdout",
     "output_type": "stream",
     "text": [
      "\n",
      "Example 9:\n",
      "Maximum Age: 31\n"
     ]
    }
   ],
   "source": [
    "# Example 9: Looping through rows and finding the maximum age\n",
    "print(\"\\nExample 9:\")\n",
    "max_age = 0\n",
    "for index, row in df.iterrows():\n",
    "    if row['Age'] > max_age:\n",
    "        max_age = row['Age']\n",
    "print(\"Maximum Age:\", max_age)"
   ]
  },
  {
   "cell_type": "code",
   "execution_count": 36,
   "metadata": {},
   "outputs": [
    {
     "name": "stdout",
     "output_type": "stream",
     "text": [
      "\n",
      "Example 10:\n",
      "Minimum value in column Age : 23\n"
     ]
    },
    {
     "name": "stderr",
     "output_type": "stream",
     "text": [
      "C:\\Users\\rvign\\AppData\\Local\\Temp\\ipykernel_23348\\1526193286.py:3: FutureWarning: iteritems is deprecated and will be removed in a future version. Use .items instead.\n",
      "  for column, series in df.iteritems():\n"
     ]
    }
   ],
   "source": [
    "# Example 10: Looping through columns and finding the minimum value\n",
    "print(\"\\nExample 10:\")\n",
    "for column, series in df.iteritems():\n",
    "    if series.dtype == 'int64':\n",
    "        print(\"Minimum value in column\", column, \":\", series.min())"
   ]
  },
  {
   "cell_type": "code",
   "execution_count": 37,
   "metadata": {},
   "outputs": [
    {
     "name": "stdout",
     "output_type": "stream",
     "text": [
      "\n",
      "Example 11:\n",
      "      Name  Age      City      Full Name\n",
      "0     John   26  New York     John Smith\n",
      "1    Alice   31   Chicago    Alice Smith\n",
      "3  Michael   28    Boston  Michael Smith\n",
      "4   Sophia   29   Houston   Sophia Smith\n"
     ]
    }
   ],
   "source": [
    "# Example 11: Looping through rows and dropping rows based on condition\n",
    "print(\"\\nExample 11:\")\n",
    "for index, row in df.iterrows():\n",
    "    if row['Age'] < 25:\n",
    "        df.drop(index, inplace=True)\n",
    "print(df)"
   ]
  },
  {
   "cell_type": "code",
   "execution_count": 38,
   "metadata": {},
   "outputs": [
    {
     "name": "stdout",
     "output_type": "stream",
     "text": [
      "\n",
      "Example 12:\n",
      "      Name  Age           City      Full Name\n",
      "0     John   26       New York     John Smith\n",
      "1    Alice   31        Chicago    Alice Smith\n",
      "2  Michael   28         Boston  Michael Smith\n",
      "3   Sophia   29        Houston   Sophia Smith\n",
      "4   Oliver   26  San Francisco            NaN\n"
     ]
    },
    {
     "name": "stderr",
     "output_type": "stream",
     "text": [
      "C:\\Users\\rvign\\AppData\\Local\\Temp\\ipykernel_23348\\1997128763.py:4: FutureWarning: The frame.append method is deprecated and will be removed from pandas in a future version. Use pandas.concat instead.\n",
      "  df = df.append(new_row, ignore_index=True)\n"
     ]
    }
   ],
   "source": [
    "# Example 12: Looping through rows and adding a new row\n",
    "print(\"\\nExample 12:\")\n",
    "new_row = pd.Series({'Name': 'Oliver', 'Age': 26, 'City': 'San Francisco'})\n",
    "df = df.append(new_row, ignore_index=True)\n",
    "print(df)"
   ]
  },
  {
   "cell_type": "code",
   "execution_count": 39,
   "metadata": {},
   "outputs": [
    {
     "name": "stdout",
     "output_type": "stream",
     "text": [
      "\n",
      "Example 13:\n",
      "              Name  Age               City      Full Name\n",
      "0     John Johnson   26       New New York     John Smith\n",
      "1    Alice Johnson   31        New Chicago    Alice Smith\n",
      "2  Michael Johnson   28         New Boston  Michael Smith\n",
      "3   Sophia Johnson   29        New Houston   Sophia Smith\n",
      "4   Oliver Johnson   26  New San Francisco            NaN\n"
     ]
    }
   ],
   "source": [
    "# Example 13: Looping through rows and modifying multiple columns\n",
    "print(\"\\nExample 13:\")\n",
    "for index, row in df.iterrows():\n",
    "    df.at[index, 'Name'] = row['Name'] + ' Johnson'\n",
    "    df.at[index, 'City'] = 'New ' + row['City']\n",
    "print(df)"
   ]
  },
  {
   "cell_type": "code",
   "execution_count": 40,
   "metadata": {},
   "outputs": [
    {
     "name": "stdout",
     "output_type": "stream",
     "text": [
      "\n",
      "Example 14:\n",
      "                Name  Age               City      Full Name\n",
      "ID                                                         \n",
      "ID1     John Johnson   26       New New York     John Smith\n",
      "ID2    Alice Johnson   31        New Chicago    Alice Smith\n",
      "ID3  Michael Johnson   28         New Boston  Michael Smith\n",
      "ID4   Sophia Johnson   29        New Houston   Sophia Smith\n",
      "ID5   Oliver Johnson   26  New San Francisco            NaN\n"
     ]
    }
   ],
   "source": [
    "# Example 14: Looping through rows and setting a new index\n",
    "print(\"\\nExample 14:\")\n",
    "for index, row in df.iterrows():\n",
    "    df.at[index, 'ID'] = 'ID' + str(index + 1)\n",
    "df.set_index('ID', inplace=True)\n",
    "print(df)"
   ]
  },
  {
   "cell_type": "code",
   "execution_count": 41,
   "metadata": {},
   "outputs": [
    {
     "name": "stdout",
     "output_type": "stream",
     "text": [
      "\n",
      "Example 15:\n",
      "Average Age: 28.0\n"
     ]
    }
   ],
   "source": [
    "# Example 15: Looping through rows and aggregating data\n",
    "print(\"\\nExample 15:\")\n",
    "total_age = 0\n",
    "for index, row in df.iterrows():\n",
    "    total_age += row['Age']\n",
    "average_age = total_age / len(df)\n",
    "print(\"Average Age:\", average_age)"
   ]
  },
  {
   "cell_type": "markdown",
   "metadata": {},
   "source": [
    "```python\n",
    "# Example 16: Looping through rows and dropping specific columns\n",
    "print(\"\\nExample 16:\")\n",
    "for index, row in df.iterrows():\n",
    "    df.drop(columns=['City'], inplace=True)\n",
    "print(df)\n",
    "```"
   ]
  },
  {
   "cell_type": "code",
   "execution_count": 42,
   "metadata": {},
   "outputs": [
    {
     "name": "stdout",
     "output_type": "stream",
     "text": [
      "\n",
      "Example 17:\n",
      "                      Name  Age               City      Full Name\n",
      "ID                                                               \n",
      "ID1     John Johnson Smith   26       New New York     John Smith\n",
      "ID2    Alice Johnson Smith   31        New Chicago    Alice Smith\n",
      "ID3  Michael Johnson Smith   28         New Boston  Michael Smith\n",
      "ID4   Sophia Johnson Smith   29        New Houston   Sophia Smith\n",
      "ID5   Oliver Johnson Smith   26  New San Francisco            NaN\n"
     ]
    }
   ],
   "source": [
    "# Example 17: Looping through rows and applying a function\n",
    "print(\"\\nExample 17:\")\n",
    "def add_surname(name):\n",
    "    return name + ' Smith'\n",
    "\n",
    "df['Name'] = df['Name'].apply(add_surname)\n",
    "print(df)"
   ]
  },
  {
   "cell_type": "code",
   "execution_count": 43,
   "metadata": {},
   "outputs": [
    {
     "name": "stdout",
     "output_type": "stream",
     "text": [
      "\n",
      "Example 18:\n",
      "                      Name  Age               City      Full Name\n",
      "ID                                                               \n",
      "ID1     John Johnson Smith   33       New New York     John Smith\n",
      "ID2    Alice Johnson Smith   33        New Chicago    Alice Smith\n",
      "ID3  Michael Johnson Smith   32         New Boston  Michael Smith\n",
      "ID4   Sophia Johnson Smith   32        New Houston   Sophia Smith\n",
      "ID5   Oliver Johnson Smith   33  New San Francisco            NaN\n"
     ]
    }
   ],
   "source": [
    "# Example 18: Looping through rows and updating a column using numpy\n",
    "print(\"\\nExample 18:\")\n",
    "import numpy as np\n",
    "\n",
    "for index, row in df.iterrows():\n",
    "    df.at[index, 'Age'] = np.random.randint(30, 40)\n",
    "print(df)"
   ]
  },
  {
   "cell_type": "code",
   "execution_count": 44,
   "metadata": {},
   "outputs": [
    {
     "name": "stdout",
     "output_type": "stream",
     "text": [
      "\n",
      "Example 19:\n",
      "Name         John Johnson Smith\n",
      "Age                          33\n",
      "City               New New York\n",
      "Full Name            John Smith\n",
      "Name: ID1, dtype: object\n",
      "Name         Alice Johnson Smith\n",
      "Age                           33\n",
      "City                 New Chicago\n",
      "Full Name            Alice Smith\n",
      "Name: ID2, dtype: object\n",
      "Name         Michael Johnson Smith\n",
      "Age                             32\n",
      "City                    New Boston\n",
      "Full Name            Michael Smith\n",
      "Name: ID3, dtype: object\n",
      "Name         Sophia Johnson Smith\n",
      "Age                            32\n",
      "City                  New Houston\n",
      "Full Name            Sophia Smith\n",
      "Name: ID4, dtype: object\n",
      "Name         Oliver Johnson Smith\n",
      "Age                            33\n",
      "City            New San Francisco\n",
      "Full Name                     NaN\n",
      "Name: ID5, dtype: object\n"
     ]
    }
   ],
   "source": [
    "# Example 19: Looping through rows and filtering using query\n",
    "print(\"\\nExample 19:\")\n",
    "for index, row in df.iterrows():\n",
    "    if row['Age'] > 30:\n",
    "        print(row)"
   ]
  },
  {
   "cell_type": "code",
   "execution_count": 45,
   "metadata": {},
   "outputs": [
    {
     "name": "stdout",
     "output_type": "stream",
     "text": [
      "\n",
      "Example 20:\n",
      "Mean value in column Age : 32.6\n"
     ]
    },
    {
     "name": "stderr",
     "output_type": "stream",
     "text": [
      "C:\\Users\\rvign\\AppData\\Local\\Temp\\ipykernel_23348\\1789215049.py:3: FutureWarning: iteritems is deprecated and will be removed in a future version. Use .items instead.\n",
      "  for column, series in df.iteritems():\n"
     ]
    }
   ],
   "source": [
    "# Example 20: Looping through columns and finding the mean value\n",
    "print(\"\\nExample 20:\")\n",
    "for column, series in df.iteritems():\n",
    "    if series.dtype == 'int64':\n",
    "        print(\"Mean value in column\", column, \":\", series.mean())"
   ]
  },
  {
   "cell_type": "code",
   "execution_count": 46,
   "metadata": {},
   "outputs": [
    {
     "name": "stdout",
     "output_type": "stream",
     "text": [
      "\n",
      "Example 21:\n",
      "Unique Cities: {'New Chicago', 'New Houston', 'New Boston', 'New New York', 'New San Francisco'}\n"
     ]
    }
   ],
   "source": [
    "# Example 21: Looping through rows and finding unique values in a column\n",
    "print(\"\\nExample 21:\")\n",
    "unique_cities = set()\n",
    "for index, row in df.iterrows():\n",
    "    unique_cities.add(row['City'])\n",
    "print(\"Unique Cities:\", unique_cities)"
   ]
  },
  {
   "cell_type": "code",
   "execution_count": 47,
   "metadata": {},
   "outputs": [
    {
     "name": "stdout",
     "output_type": "stream",
     "text": [
      "\n",
      "Example 22:\n",
      "                      Name  Age               City      Full Name\n",
      "ID                                                               \n",
      "ID1     John Johnson Smith   33       New New York     John Smith\n",
      "ID2    Alice Johnson Smith   33        New Chicago    Alice Smith\n",
      "ID3  Michael Johnson Smith   32         New Boston  Michael Smith\n",
      "ID4   Sophia Johnson Smith   32        New Houston   Sophia Smith\n",
      "ID5   Oliver Johnson Smith   33  New San Francisco            NaN\n"
     ]
    }
   ],
   "source": [
    "# Example 22: Looping through rows and filtering using a lambda function\n",
    "print(\"\\nExample 22:\")\n",
    "filtered_rows = df.apply(lambda row: row['Age'] > 30, axis=1)\n",
    "print(df[filtered_rows])"
   ]
  },
  {
   "cell_type": "code",
   "execution_count": 48,
   "metadata": {},
   "outputs": [
    {
     "name": "stdout",
     "output_type": "stream",
     "text": [
      "\n",
      "Example 23:\n",
      "                      Name  Age               City      Full Name\n",
      "ID                                                               \n",
      "ID1     John Johnson Smith   33       New New York     John Smith\n",
      "ID2    Alice Johnson Smith   33        New Chicago    Alice Smith\n",
      "ID5   Oliver Johnson Smith   33  New San Francisco            NaN\n",
      "ID3  Michael Johnson Smith   32         New Boston  Michael Smith\n",
      "ID4   Sophia Johnson Smith   32        New Houston   Sophia Smith\n"
     ]
    }
   ],
   "source": [
    "# Example 23: Looping through rows and sorting based on a column\n",
    "print(\"\\nExample 23:\")\n",
    "df.sort_values(by='Age', ascending=False, inplace=True)\n",
    "print(df)\n"
   ]
  },
  {
   "cell_type": "code",
   "execution_count": 49,
   "metadata": {},
   "outputs": [
    {
     "name": "stdout",
     "output_type": "stream",
     "text": [
      "\n",
      "Example 24:\n",
      "Age Counts: {33: 3, 32: 2}\n"
     ]
    }
   ],
   "source": [
    "# Example 24: Looping through rows and finding the number of occurrences of each age\n",
    "print(\"\\nExample 24:\")\n",
    "age_counts = {}\n",
    "for index, row in df.iterrows():\n",
    "    if row['Age'] in age_counts:\n",
    "        age_counts[row['Age']] += 1\n",
    "    else:\n",
    "        age_counts[row['Age']] = 1\n",
    "print(\"Age Counts:\", age_counts)"
   ]
  },
  {
   "cell_type": "code",
   "execution_count": 50,
   "metadata": {},
   "outputs": [
    {
     "name": "stdout",
     "output_type": "stream",
     "text": [
      "\n",
      "Example 25:\n",
      "Maximum Age: 33\n"
     ]
    }
   ],
   "source": [
    "# Example 25: Looping through rows and finding the maximum age\n",
    "print(\"\\nExample 25:\")\n",
    "max_age = df['Age'].max()\n",
    "print(\"Maximum Age:\", max_age)"
   ]
  },
  {
   "cell_type": "code",
   "execution_count": 51,
   "metadata": {},
   "outputs": [
    {
     "name": "stdout",
     "output_type": "stream",
     "text": [
      "\n",
      "Example 26:\n",
      "Sum of Ages: 163\n"
     ]
    }
   ],
   "source": [
    "# Example 26: Looping through rows and finding the sum of ages\n",
    "print(\"\\nExample 26:\")\n",
    "sum_age = df['Age'].sum()\n",
    "print(\"Sum of Ages:\", sum_age)"
   ]
  },
  {
   "cell_type": "code",
   "execution_count": 52,
   "metadata": {},
   "outputs": [
    {
     "name": "stdout",
     "output_type": "stream",
     "text": [
      "\n",
      "Example 27:\n",
      "Value Counts for Column Name :\n",
      "John Johnson Smith       1\n",
      "Alice Johnson Smith      1\n",
      "Oliver Johnson Smith     1\n",
      "Michael Johnson Smith    1\n",
      "Sophia Johnson Smith     1\n",
      "Name: Name, dtype: int64\n",
      "Value Counts for Column Age :\n",
      "33    3\n",
      "32    2\n",
      "Name: Age, dtype: int64\n",
      "Value Counts for Column City :\n",
      "New New York         1\n",
      "New Chicago          1\n",
      "New San Francisco    1\n",
      "New Boston           1\n",
      "New Houston          1\n",
      "Name: City, dtype: int64\n",
      "Value Counts for Column Full Name :\n",
      "John Smith       1\n",
      "Alice Smith      1\n",
      "Michael Smith    1\n",
      "Sophia Smith     1\n",
      "Name: Full Name, dtype: int64\n"
     ]
    },
    {
     "name": "stderr",
     "output_type": "stream",
     "text": [
      "C:\\Users\\rvign\\AppData\\Local\\Temp\\ipykernel_23348\\3873530779.py:3: FutureWarning: iteritems is deprecated and will be removed in a future version. Use .items instead.\n",
      "  for column, series in df.iteritems():\n"
     ]
    }
   ],
   "source": [
    "# Example 27: Looping through columns and finding the number of occurrences of each value\n",
    "print(\"\\nExample 27:\")\n",
    "for column, series in df.iteritems():\n",
    "    value_counts = series.value_counts()\n",
    "    print(\"Value Counts for Column\", column, \":\")\n",
    "    print(value_counts)"
   ]
  },
  {
   "cell_type": "code",
   "execution_count": 53,
   "metadata": {},
   "outputs": [
    {
     "name": "stdout",
     "output_type": "stream",
     "text": [
      "\n",
      "Example 28:\n",
      "Number of Missing Values in Column Name : 0\n",
      "Number of Missing Values in Column Age : 0\n",
      "Number of Missing Values in Column City : 0\n",
      "Number of Missing Values in Column Full Name : 1\n"
     ]
    },
    {
     "name": "stderr",
     "output_type": "stream",
     "text": [
      "C:\\Users\\rvign\\AppData\\Local\\Temp\\ipykernel_23348\\775970309.py:3: FutureWarning: iteritems is deprecated and will be removed in a future version. Use .items instead.\n",
      "  for column, series in df.iteritems():\n"
     ]
    }
   ],
   "source": [
    "# Example 28: Looping through rows and finding the number of missing values in each column\n",
    "print(\"\\nExample 28:\")\n",
    "for column, series in df.iteritems():\n",
    "    num_missing = series.isnull().sum()\n",
    "    print(\"Number of Missing Values in Column\", column, \":\", num_missing)"
   ]
  },
  {
   "cell_type": "code",
   "execution_count": 54,
   "metadata": {},
   "outputs": [
    {
     "name": "stdout",
     "output_type": "stream",
     "text": [
      "\n",
      "Example 29:\n",
      "Index of Maximum Age: ID1\n"
     ]
    }
   ],
   "source": [
    "# Example 29: Looping through rows and finding the index of the maximum age\n",
    "print(\"\\nExample 29:\")\n",
    "max_age_index = df['Age'].idxmax()\n",
    "print(\"Index of Maximum Age:\", max_age_index)"
   ]
  },
  {
   "cell_type": "code",
   "execution_count": 55,
   "metadata": {},
   "outputs": [
    {
     "name": "stdout",
     "output_type": "stream",
     "text": [
      "\n",
      "Example 30:\n",
      "Correlation between Age and Age: 1.0\n"
     ]
    }
   ],
   "source": [
    "# Example 30: Looping through rows and finding the correlation between two columns\n",
    "print(\"\\nExample 30:\")\n",
    "correlation = df['Age'].corr(df['Age'])\n",
    "print(\"Correlation between Age and Age:\", correlation)"
   ]
  }
 ],
 "metadata": {
  "kernelspec": {
   "display_name": "Python 3",
   "language": "python",
   "name": "python3"
  },
  "language_info": {
   "codemirror_mode": {
    "name": "ipython",
    "version": 3
   },
   "file_extension": ".py",
   "mimetype": "text/x-python",
   "name": "python",
   "nbconvert_exporter": "python",
   "pygments_lexer": "ipython3",
   "version": "3.11.2"
  },
  "orig_nbformat": 4
 },
 "nbformat": 4,
 "nbformat_minor": 2
}
