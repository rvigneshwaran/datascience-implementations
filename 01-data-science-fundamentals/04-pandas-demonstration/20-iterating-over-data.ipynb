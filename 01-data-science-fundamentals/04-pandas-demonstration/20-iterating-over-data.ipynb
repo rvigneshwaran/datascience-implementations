{
 "cells": [
  {
   "cell_type": "code",
   "execution_count": 1,
   "metadata": {},
   "outputs": [],
   "source": [
    "import pandas as pd"
   ]
  },
  {
   "cell_type": "code",
   "execution_count": 2,
   "metadata": {},
   "outputs": [],
   "source": [
    "# Sample DataFrame\n",
    "data = {'Name': ['John', 'Alice', 'Ella', 'Michael', 'Sophia'],\n",
    "        'Age': [25, 30, 22, 27, 28],\n",
    "        'City': ['New York', 'Chicago', 'Los Angeles', 'Boston', 'Houston']}\n",
    "df = pd.DataFrame(data)"
   ]
  },
  {
   "cell_type": "code",
   "execution_count": 3,
   "metadata": {},
   "outputs": [
    {
     "name": "stdout",
     "output_type": "stream",
     "text": [
      "Example 1:\n",
      "0 John 25 New York\n",
      "1 Alice 30 Chicago\n",
      "2 Ella 22 Los Angeles\n",
      "3 Michael 27 Boston\n",
      "4 Sophia 28 Houston\n"
     ]
    }
   ],
   "source": [
    "# Example 1: Looping through rows using iterrows()\n",
    "print(\"Example 1:\")\n",
    "for index, row in df.iterrows():\n",
    "    print(index, row['Name'], row['Age'], row['City'])"
   ]
  },
  {
   "cell_type": "code",
   "execution_count": 4,
   "metadata": {},
   "outputs": [
    {
     "name": "stdout",
     "output_type": "stream",
     "text": [
      "\n",
      "Example 2:\n",
      "Name\n",
      "0       John\n",
      "1      Alice\n",
      "2       Ella\n",
      "3    Michael\n",
      "4     Sophia\n",
      "Name: Name, dtype: object\n",
      "Age\n",
      "0    25\n",
      "1    30\n",
      "2    22\n",
      "3    27\n",
      "4    28\n",
      "Name: Age, dtype: int64\n",
      "City\n",
      "0       New York\n",
      "1        Chicago\n",
      "2    Los Angeles\n",
      "3         Boston\n",
      "4        Houston\n",
      "Name: City, dtype: object\n"
     ]
    },
    {
     "name": "stderr",
     "output_type": "stream",
     "text": [
      "C:\\Users\\rvign\\AppData\\Local\\Temp\\ipykernel_23348\\738547729.py:3: FutureWarning: iteritems is deprecated and will be removed in a future version. Use .items instead.\n",
      "  for column, series in df.iteritems():\n"
     ]
    }
   ],
   "source": [
    "# Example 2: Looping through columns using iteritems()\n",
    "print(\"\\nExample 2:\")\n",
    "for column, series in df.iteritems():\n",
    "    print(column)\n",
    "    print(series)"
   ]
  },
  {
   "cell_type": "code",
   "execution_count": 5,
   "metadata": {},
   "outputs": [
    {
     "name": "stdout",
     "output_type": "stream",
     "text": [
      "\n",
      "Example 3:\n",
      "0 John 25 New York\n",
      "1 Alice 30 Chicago\n",
      "2 Ella 22 Los Angeles\n",
      "3 Michael 27 Boston\n",
      "4 Sophia 28 Houston\n"
     ]
    }
   ],
   "source": [
    "# Example 3: Looping through rows using itertuples()\n",
    "print(\"\\nExample 3:\")\n",
    "for row in df.itertuples():\n",
    "    print(row.Index, row.Name, row.Age, row.City)"
   ]
  },
  {
   "cell_type": "code",
   "execution_count": 6,
   "metadata": {},
   "outputs": [
    {
     "name": "stdout",
     "output_type": "stream",
     "text": [
      "\n",
      "Example 4:\n",
      "      Name  Age         City\n",
      "0     John   26     New York\n",
      "1    Alice   31      Chicago\n",
      "2     Ella   23  Los Angeles\n",
      "3  Michael   28       Boston\n",
      "4   Sophia   29      Houston\n"
     ]
    }
   ],
   "source": [
    "# Example 4: Looping through rows and updating values\n",
    "print(\"\\nExample 4:\")\n",
    "for index, row in df.iterrows():\n",
    "    df.at[index, 'Age'] = row['Age'] + 1\n",
    "print(df)"
   ]
  },
  {
   "cell_type": "code",
   "execution_count": 7,
   "metadata": {},
   "outputs": [
    {
     "name": "stdout",
     "output_type": "stream",
     "text": [
      "\n",
      "Example 5:\n",
      "John\n",
      "Alice\n",
      "Michael\n",
      "Sophia\n"
     ]
    }
   ],
   "source": [
    "# Example 5: Looping through rows and filtering based on condition\n",
    "print(\"\\nExample 5:\")\n",
    "for index, row in df.iterrows():\n",
    "    if row['Age'] > 25:\n",
    "        print(row['Name'])\n"
   ]
  },
  {
   "cell_type": "code",
   "execution_count": 8,
   "metadata": {},
   "outputs": [
    {
     "name": "stdout",
     "output_type": "stream",
     "text": [
      "\n",
      "Example 6:\n",
      "Name\n",
      "0       John\n",
      "1      Alice\n",
      "2       Ella\n",
      "3    Michael\n",
      "4     Sophia\n",
      "Name: Name, dtype: object\n",
      "Age\n",
      "0    26\n",
      "1    31\n",
      "2    23\n",
      "3    28\n",
      "4    29\n",
      "Name: Age, dtype: int64\n"
     ]
    },
    {
     "name": "stderr",
     "output_type": "stream",
     "text": [
      "C:\\Users\\rvign\\AppData\\Local\\Temp\\ipykernel_23348\\2482223717.py:3: FutureWarning: iteritems is deprecated and will be removed in a future version. Use .items instead.\n",
      "  for column, series in df.iteritems():\n"
     ]
    }
   ],
   "source": [
    "# Example 6: Looping through columns and filtering based on condition\n",
    "print(\"\\nExample 6:\")\n",
    "for column, series in df.iteritems():\n",
    "    if column != 'City':\n",
    "        print(column)\n",
    "        print(series)"
   ]
  },
  {
   "cell_type": "code",
   "execution_count": 9,
   "metadata": {},
   "outputs": [
    {
     "name": "stdout",
     "output_type": "stream",
     "text": [
      "\n",
      "Example 7:\n",
      "John Smith is 26 years old and lives in New York\n",
      "Alice Smith is 31 years old and lives in Chicago\n",
      "Ella Smith is 23 years old and lives in Los Angeles\n",
      "Michael Smith is 28 years old and lives in Boston\n",
      "Sophia Smith is 29 years old and lives in Houston\n"
     ]
    }
   ],
   "source": [
    "# Example 7: Looping through rows and performing complex operations\n",
    "print(\"\\nExample 7:\")\n",
    "for index, row in df.iterrows():\n",
    "    full_name = row['Name'] + ' Smith'\n",
    "    print(f\"{full_name} is {row['Age']} years old and lives in {row['City']}\")\n"
   ]
  },
  {
   "cell_type": "code",
   "execution_count": 10,
   "metadata": {},
   "outputs": [
    {
     "name": "stdout",
     "output_type": "stream",
     "text": [
      "\n",
      "Example 8:\n",
      "      Name  Age         City      Full Name\n",
      "0     John   26     New York     John Smith\n",
      "1    Alice   31      Chicago    Alice Smith\n",
      "2     Ella   23  Los Angeles     Ella Smith\n",
      "3  Michael   28       Boston  Michael Smith\n",
      "4   Sophia   29      Houston   Sophia Smith\n"
     ]
    }
   ],
   "source": [
    "# Example 8: Looping through rows and calculating a new column\n",
    "print(\"\\nExample 8:\")\n",
    "for index, row in df.iterrows():\n",
    "    df.at[index, 'Full Name'] = row['Name'] + ' Smith'\n",
    "print(df)"
   ]
  },
  {
   "cell_type": "code",
   "execution_count": 11,
   "metadata": {},
   "outputs": [
    {
     "name": "stdout",
     "output_type": "stream",
     "text": [
      "\n",
      "Example 9:\n",
      "Maximum Age: 31\n"
     ]
    }
   ],
   "source": [
    "# Example 9: Looping through rows and finding the maximum age\n",
    "print(\"\\nExample 9:\")\n",
    "max_age = 0\n",
    "for index, row in df.iterrows():\n",
    "    if row['Age'] > max_age:\n",
    "        max_age = row['Age']\n",
    "print(\"Maximum Age:\", max_age)"
   ]
  },
  {
   "cell_type": "code",
   "execution_count": 12,
   "metadata": {},
   "outputs": [
    {
     "name": "stdout",
     "output_type": "stream",
     "text": [
      "\n",
      "Example 10:\n",
      "Minimum value in column Age : 23\n"
     ]
    },
    {
     "name": "stderr",
     "output_type": "stream",
     "text": [
      "C:\\Users\\rvign\\AppData\\Local\\Temp\\ipykernel_23348\\1526193286.py:3: FutureWarning: iteritems is deprecated and will be removed in a future version. Use .items instead.\n",
      "  for column, series in df.iteritems():\n"
     ]
    }
   ],
   "source": [
    "# Example 10: Looping through columns and finding the minimum value\n",
    "print(\"\\nExample 10:\")\n",
    "for column, series in df.iteritems():\n",
    "    if series.dtype == 'int64':\n",
    "        print(\"Minimum value in column\", column, \":\", series.min())"
   ]
  }
 ],
 "metadata": {
  "kernelspec": {
   "display_name": "Python 3",
   "language": "python",
   "name": "python3"
  },
  "language_info": {
   "codemirror_mode": {
    "name": "ipython",
    "version": 3
   },
   "file_extension": ".py",
   "mimetype": "text/x-python",
   "name": "python",
   "nbconvert_exporter": "python",
   "pygments_lexer": "ipython3",
   "version": "3.11.2"
  },
  "orig_nbformat": 4
 },
 "nbformat": 4,
 "nbformat_minor": 2
}
