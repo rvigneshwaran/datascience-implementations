{
 "cells": [
  {
   "cell_type": "code",
   "execution_count": 1,
   "metadata": {},
   "outputs": [],
   "source": [
    "import pandas as pd\n",
    "import numpy as np"
   ]
  },
  {
   "cell_type": "code",
   "execution_count": 2,
   "metadata": {},
   "outputs": [],
   "source": [
    "# Sample DataFrame\n",
    "data = {\n",
    "    'Category': ['A', 'B', 'A', 'B', 'A', 'B'],\n",
    "    'Value': [10, 20, 15, 25, 5, 30]\n",
    "}\n",
    "df = pd.DataFrame(data)"
   ]
  },
  {
   "cell_type": "code",
   "execution_count": 3,
   "metadata": {},
   "outputs": [
    {
     "name": "stdout",
     "output_type": "stream",
     "text": [
      "\n",
      "Example 1:\n",
      "Category\n",
      "A    30\n",
      "B    75\n",
      "Name: Value, dtype: int64\n"
     ]
    }
   ],
   "source": [
    "# Example 1: Custom aggregation function - Sum\n",
    "def custom_sum(x):\n",
    "    return x.sum()\n",
    "\n",
    "result = df.groupby('Category')['Value'].agg(custom_sum)\n",
    "print(\"\\nExample 1:\")\n",
    "print(result)"
   ]
  },
  {
   "cell_type": "code",
   "execution_count": 4,
   "metadata": {},
   "outputs": [
    {
     "name": "stdout",
     "output_type": "stream",
     "text": [
      "\n",
      "Example 2:\n",
      "Category\n",
      "A    10.0\n",
      "B    25.0\n",
      "Name: Value, dtype: float64\n"
     ]
    }
   ],
   "source": [
    "# Example 2: Custom aggregation function - Mean\n",
    "def custom_mean(x):\n",
    "    return x.mean()\n",
    "\n",
    "result = df.groupby('Category')['Value'].agg(custom_mean)\n",
    "print(\"\\nExample 2:\")\n",
    "print(result)"
   ]
  },
  {
   "cell_type": "code",
   "execution_count": 5,
   "metadata": {},
   "outputs": [
    {
     "name": "stdout",
     "output_type": "stream",
     "text": [
      "\n",
      "Example 3:\n",
      "Category\n",
      "A    10.0\n",
      "B    25.0\n",
      "Name: Value, dtype: float64\n"
     ]
    }
   ],
   "source": [
    "# Example 3: Custom aggregation function - Median\n",
    "def custom_median(x):\n",
    "    return np.median(x)\n",
    "\n",
    "result = df.groupby('Category')['Value'].agg(custom_median)\n",
    "print(\"\\nExample 3:\")\n",
    "print(result)"
   ]
  },
  {
   "cell_type": "code",
   "execution_count": 6,
   "metadata": {},
   "outputs": [
    {
     "name": "stdout",
     "output_type": "stream",
     "text": [
      "\n",
      "Example 4:\n",
      "Category\n",
      "A    15\n",
      "B    30\n",
      "Name: Value, dtype: int64\n"
     ]
    }
   ],
   "source": [
    "# Example 4: Custom aggregation function - Maximum\n",
    "def custom_max(x):\n",
    "    return x.max()\n",
    "\n",
    "result = df.groupby('Category')['Value'].agg(custom_max)\n",
    "print(\"\\nExample 4:\")\n",
    "print(result)"
   ]
  },
  {
   "cell_type": "code",
   "execution_count": 7,
   "metadata": {},
   "outputs": [
    {
     "name": "stdout",
     "output_type": "stream",
     "text": [
      "\n",
      "Example 5:\n",
      "Category\n",
      "A     5\n",
      "B    20\n",
      "Name: Value, dtype: int64\n"
     ]
    }
   ],
   "source": [
    "# Example 5: Custom aggregation function - Minimum\n",
    "def custom_min(x):\n",
    "    return x.min()\n",
    "\n",
    "result = df.groupby('Category')['Value'].agg(custom_min)\n",
    "print(\"\\nExample 5:\")\n",
    "print(result)"
   ]
  },
  {
   "cell_type": "code",
   "execution_count": 8,
   "metadata": {},
   "outputs": [
    {
     "name": "stdout",
     "output_type": "stream",
     "text": [
      "\n",
      "Example 6:\n",
      "Category\n",
      "A    3\n",
      "B    3\n",
      "Name: Value, dtype: int64\n"
     ]
    }
   ],
   "source": [
    "# Example 6: Custom aggregation function - Count\n",
    "def custom_count(x):\n",
    "    return x.count()\n",
    "\n",
    "result = df.groupby('Category')['Value'].agg(custom_count)\n",
    "print(\"\\nExample 6:\")\n",
    "print(result)"
   ]
  },
  {
   "cell_type": "code",
   "execution_count": 9,
   "metadata": {},
   "outputs": [
    {
     "name": "stdout",
     "output_type": "stream",
     "text": [
      "\n",
      "Example 7:\n",
      "Category\n",
      "A    5.0\n",
      "B    5.0\n",
      "Name: Value, dtype: float64\n"
     ]
    }
   ],
   "source": [
    "# Example 7: Custom aggregation function - Standard deviation\n",
    "def custom_std(x):\n",
    "    return x.std()\n",
    "\n",
    "result = df.groupby('Category')['Value'].agg(custom_std)\n",
    "print(\"\\nExample 7:\")\n",
    "print(result)"
   ]
  },
  {
   "cell_type": "code",
   "execution_count": 10,
   "metadata": {},
   "outputs": [
    {
     "name": "stdout",
     "output_type": "stream",
     "text": [
      "\n",
      "Example 8:\n",
      "Category\n",
      "A    25.0\n",
      "B    25.0\n",
      "Name: Value, dtype: float64\n"
     ]
    }
   ],
   "source": [
    "# Example 8: Custom aggregation function - Variance\n",
    "def custom_var(x):\n",
    "    return x.var()\n",
    "\n",
    "result = df.groupby('Category')['Value'].agg(custom_var)\n",
    "print(\"\\nExample 8:\")\n",
    "print(result)"
   ]
  },
  {
   "cell_type": "code",
   "execution_count": 11,
   "metadata": {},
   "outputs": [
    {
     "name": "stdout",
     "output_type": "stream",
     "text": [
      "\n",
      "Example 9:\n",
      "Category\n",
      "A    10\n",
      "B    10\n",
      "Name: Value, dtype: int64\n"
     ]
    }
   ],
   "source": [
    "# Example 9: Custom aggregation function - Range\n",
    "def custom_range(x):\n",
    "    return x.max() - x.min()\n",
    "\n",
    "result = df.groupby('Category')['Value'].agg(custom_range)\n",
    "print(\"\\nExample 9:\")\n",
    "print(result)"
   ]
  },
  {
   "cell_type": "code",
   "execution_count": 12,
   "metadata": {},
   "outputs": [
    {
     "name": "stdout",
     "output_type": "stream",
     "text": [
      "\n",
      "Example 10:\n",
      "Category\n",
      "A     350\n",
      "B    1925\n",
      "Name: Value, dtype: int64\n"
     ]
    }
   ],
   "source": [
    "# Example 10: Custom aggregation function - Sum of squares\n",
    "def custom_sum_of_squares(x):\n",
    "    return np.sum(x**2)\n",
    "\n",
    "result = df.groupby('Category')['Value'].agg(custom_sum_of_squares)\n",
    "print(\"\\nExample 10:\")\n",
    "print(result)"
   ]
  },
  {
   "cell_type": "code",
   "execution_count": 13,
   "metadata": {},
   "outputs": [
    {
     "name": "stdout",
     "output_type": "stream",
     "text": [
      "\n",
      "Example 11:\n",
      "Category\n",
      "A    10.801234\n",
      "B    25.331140\n",
      "Name: Value, dtype: float64\n"
     ]
    }
   ],
   "source": [
    "# Example 11: Custom aggregation function - Root mean square\n",
    "def custom_rms(x):\n",
    "    return np.sqrt(np.mean(x**2))\n",
    "\n",
    "result = df.groupby('Category')['Value'].agg(custom_rms)\n",
    "print(\"\\nExample 11:\")\n",
    "print(result)"
   ]
  },
  {
   "cell_type": "code",
   "execution_count": 16,
   "metadata": {},
   "outputs": [
    {
     "name": "stderr",
     "output_type": "stream",
     "text": [
      "C:\\Users\\rvign\\AppData\\Local\\Temp\\ipykernel_12504\\1534254765.py:6: FutureWarning: Dropping invalid columns in SeriesGroupBy.agg is deprecated. In a future version, a TypeError will be raised. Before calling .agg, select only columns which should be valid for the function.\n",
      "  result = df.groupby('Category',axis=0)['Value'].agg(custom_weighted_avg)\n"
     ]
    },
    {
     "ename": "TypeError",
     "evalue": "Axis must be specified when shapes of a and weights differ.",
     "output_type": "error",
     "traceback": [
      "\u001b[1;31m---------------------------------------------------------------------------\u001b[0m",
      "\u001b[1;31mTypeError\u001b[0m                                 Traceback (most recent call last)",
      "Cell \u001b[1;32mIn[16], line 6\u001b[0m\n\u001b[0;32m      3\u001b[0m     weights \u001b[39m=\u001b[39m [\u001b[39m0.2\u001b[39m, \u001b[39m0.8\u001b[39m]\n\u001b[0;32m      4\u001b[0m     \u001b[39mreturn\u001b[39;00m np\u001b[39m.\u001b[39maverage(x, weights\u001b[39m=\u001b[39mweights)\n\u001b[1;32m----> 6\u001b[0m result \u001b[39m=\u001b[39m df\u001b[39m.\u001b[39;49mgroupby(\u001b[39m'\u001b[39;49m\u001b[39mCategory\u001b[39;49m\u001b[39m'\u001b[39;49m,axis\u001b[39m=\u001b[39;49m\u001b[39m0\u001b[39;49m)[\u001b[39m'\u001b[39;49m\u001b[39mValue\u001b[39;49m\u001b[39m'\u001b[39;49m]\u001b[39m.\u001b[39;49magg(custom_weighted_avg)\n\u001b[0;32m      7\u001b[0m \u001b[39mprint\u001b[39m(\u001b[39m\"\u001b[39m\u001b[39m\\n\u001b[39;00m\u001b[39mExample 12:\u001b[39m\u001b[39m\"\u001b[39m)\n\u001b[0;32m      8\u001b[0m \u001b[39mprint\u001b[39m(result)\n",
      "File \u001b[1;32mc:\\Program Files\\Python311\\Lib\\site-packages\\pandas\\core\\groupby\\generic.py:297\u001b[0m, in \u001b[0;36mSeriesGroupBy.aggregate\u001b[1;34m(self, func, engine, engine_kwargs, *args, **kwargs)\u001b[0m\n\u001b[0;32m    294\u001b[0m     \u001b[39mreturn\u001b[39;00m \u001b[39mself\u001b[39m\u001b[39m.\u001b[39m_python_agg_general(func, \u001b[39m*\u001b[39margs, \u001b[39m*\u001b[39m\u001b[39m*\u001b[39mkwargs)\n\u001b[0;32m    296\u001b[0m \u001b[39mtry\u001b[39;00m:\n\u001b[1;32m--> 297\u001b[0m     \u001b[39mreturn\u001b[39;00m \u001b[39mself\u001b[39;49m\u001b[39m.\u001b[39;49m_python_agg_general(func, \u001b[39m*\u001b[39;49margs, \u001b[39m*\u001b[39;49m\u001b[39m*\u001b[39;49mkwargs)\n\u001b[0;32m    298\u001b[0m \u001b[39mexcept\u001b[39;00m \u001b[39mKeyError\u001b[39;00m:\n\u001b[0;32m    299\u001b[0m     \u001b[39m# TODO: KeyError is raised in _python_agg_general,\u001b[39;00m\n\u001b[0;32m    300\u001b[0m     \u001b[39m#  see test_groupby.test_basic\u001b[39;00m\n\u001b[0;32m    301\u001b[0m     result \u001b[39m=\u001b[39m \u001b[39mself\u001b[39m\u001b[39m.\u001b[39m_aggregate_named(func, \u001b[39m*\u001b[39margs, \u001b[39m*\u001b[39m\u001b[39m*\u001b[39mkwargs)\n",
      "File \u001b[1;32mc:\\Program Files\\Python311\\Lib\\site-packages\\pandas\\core\\groupby\\groupby.py:1695\u001b[0m, in \u001b[0;36mGroupBy._python_agg_general\u001b[1;34m(self, func, raise_on_typeerror, *args, **kwargs)\u001b[0m\n\u001b[0;32m   1692\u001b[0m     output[key] \u001b[39m=\u001b[39m result\n\u001b[0;32m   1694\u001b[0m \u001b[39mif\u001b[39;00m \u001b[39mnot\u001b[39;00m output:\n\u001b[1;32m-> 1695\u001b[0m     \u001b[39mreturn\u001b[39;00m \u001b[39mself\u001b[39;49m\u001b[39m.\u001b[39;49m_python_apply_general(f, \u001b[39mself\u001b[39;49m\u001b[39m.\u001b[39;49m_selected_obj)\n\u001b[0;32m   1697\u001b[0m \u001b[39mreturn\u001b[39;00m \u001b[39mself\u001b[39m\u001b[39m.\u001b[39m_wrap_aggregated_output(output)\n",
      "File \u001b[1;32mc:\\Program Files\\Python311\\Lib\\site-packages\\pandas\\core\\groupby\\groupby.py:1629\u001b[0m, in \u001b[0;36mGroupBy._python_apply_general\u001b[1;34m(self, f, data, not_indexed_same, is_transform, is_agg)\u001b[0m\n\u001b[0;32m   1592\u001b[0m \u001b[39m@final\u001b[39m\n\u001b[0;32m   1593\u001b[0m \u001b[39mdef\u001b[39;00m \u001b[39m_python_apply_general\u001b[39m(\n\u001b[0;32m   1594\u001b[0m     \u001b[39mself\u001b[39m,\n\u001b[1;32m   (...)\u001b[0m\n\u001b[0;32m   1599\u001b[0m     is_agg: \u001b[39mbool\u001b[39m \u001b[39m=\u001b[39m \u001b[39mFalse\u001b[39;00m,\n\u001b[0;32m   1600\u001b[0m ) \u001b[39m-\u001b[39m\u001b[39m>\u001b[39m NDFrameT:\n\u001b[0;32m   1601\u001b[0m \u001b[39m    \u001b[39m\u001b[39m\"\"\"\u001b[39;00m\n\u001b[0;32m   1602\u001b[0m \u001b[39m    Apply function f in python space\u001b[39;00m\n\u001b[0;32m   1603\u001b[0m \n\u001b[1;32m   (...)\u001b[0m\n\u001b[0;32m   1627\u001b[0m \u001b[39m        data after applying f\u001b[39;00m\n\u001b[0;32m   1628\u001b[0m \u001b[39m    \"\"\"\u001b[39;00m\n\u001b[1;32m-> 1629\u001b[0m     values, mutated \u001b[39m=\u001b[39m \u001b[39mself\u001b[39;49m\u001b[39m.\u001b[39;49mgrouper\u001b[39m.\u001b[39;49mapply(f, data, \u001b[39mself\u001b[39;49m\u001b[39m.\u001b[39;49maxis)\n\u001b[0;32m   1630\u001b[0m     \u001b[39mif\u001b[39;00m not_indexed_same \u001b[39mis\u001b[39;00m \u001b[39mNone\u001b[39;00m:\n\u001b[0;32m   1631\u001b[0m         not_indexed_same \u001b[39m=\u001b[39m mutated \u001b[39mor\u001b[39;00m \u001b[39mself\u001b[39m\u001b[39m.\u001b[39mmutated\n",
      "File \u001b[1;32mc:\\Program Files\\Python311\\Lib\\site-packages\\pandas\\core\\groupby\\ops.py:839\u001b[0m, in \u001b[0;36mBaseGrouper.apply\u001b[1;34m(self, f, data, axis)\u001b[0m\n\u001b[0;32m    837\u001b[0m \u001b[39m# group might be modified\u001b[39;00m\n\u001b[0;32m    838\u001b[0m group_axes \u001b[39m=\u001b[39m group\u001b[39m.\u001b[39maxes\n\u001b[1;32m--> 839\u001b[0m res \u001b[39m=\u001b[39m f(group)\n\u001b[0;32m    840\u001b[0m \u001b[39mif\u001b[39;00m \u001b[39mnot\u001b[39;00m mutated \u001b[39mand\u001b[39;00m \u001b[39mnot\u001b[39;00m _is_indexed_like(res, group_axes, axis):\n\u001b[0;32m    841\u001b[0m     mutated \u001b[39m=\u001b[39m \u001b[39mTrue\u001b[39;00m\n",
      "File \u001b[1;32mc:\\Program Files\\Python311\\Lib\\site-packages\\pandas\\core\\groupby\\groupby.py:1668\u001b[0m, in \u001b[0;36mGroupBy._python_agg_general.<locals>.<lambda>\u001b[1;34m(x)\u001b[0m\n\u001b[0;32m   1665\u001b[0m \u001b[39m@final\u001b[39m\n\u001b[0;32m   1666\u001b[0m \u001b[39mdef\u001b[39;00m \u001b[39m_python_agg_general\u001b[39m(\u001b[39mself\u001b[39m, func, \u001b[39m*\u001b[39margs, raise_on_typeerror\u001b[39m=\u001b[39m\u001b[39mFalse\u001b[39;00m, \u001b[39m*\u001b[39m\u001b[39m*\u001b[39mkwargs):\n\u001b[0;32m   1667\u001b[0m     func \u001b[39m=\u001b[39m com\u001b[39m.\u001b[39mis_builtin_func(func)\n\u001b[1;32m-> 1668\u001b[0m     f \u001b[39m=\u001b[39m \u001b[39mlambda\u001b[39;00m x: func(x, \u001b[39m*\u001b[39;49margs, \u001b[39m*\u001b[39;49m\u001b[39m*\u001b[39;49mkwargs)\n\u001b[0;32m   1670\u001b[0m     \u001b[39m# iterate through \"columns\" ex exclusions to populate output dict\u001b[39;00m\n\u001b[0;32m   1671\u001b[0m     output: \u001b[39mdict\u001b[39m[base\u001b[39m.\u001b[39mOutputKey, ArrayLike] \u001b[39m=\u001b[39m {}\n",
      "Cell \u001b[1;32mIn[16], line 4\u001b[0m, in \u001b[0;36mcustom_weighted_avg\u001b[1;34m(x)\u001b[0m\n\u001b[0;32m      2\u001b[0m \u001b[39mdef\u001b[39;00m \u001b[39mcustom_weighted_avg\u001b[39m(x):\n\u001b[0;32m      3\u001b[0m     weights \u001b[39m=\u001b[39m [\u001b[39m0.2\u001b[39m, \u001b[39m0.8\u001b[39m]\n\u001b[1;32m----> 4\u001b[0m     \u001b[39mreturn\u001b[39;00m np\u001b[39m.\u001b[39;49maverage(x, weights\u001b[39m=\u001b[39;49mweights)\n",
      "File \u001b[1;32m<__array_function__ internals>:200\u001b[0m, in \u001b[0;36maverage\u001b[1;34m(*args, **kwargs)\u001b[0m\n",
      "File \u001b[1;32mc:\\Program Files\\Python311\\Lib\\site-packages\\numpy\\lib\\function_base.py:532\u001b[0m, in \u001b[0;36maverage\u001b[1;34m(a, axis, weights, returned, keepdims)\u001b[0m\n\u001b[0;32m    530\u001b[0m \u001b[39mif\u001b[39;00m a\u001b[39m.\u001b[39mshape \u001b[39m!=\u001b[39m wgt\u001b[39m.\u001b[39mshape:\n\u001b[0;32m    531\u001b[0m     \u001b[39mif\u001b[39;00m axis \u001b[39mis\u001b[39;00m \u001b[39mNone\u001b[39;00m:\n\u001b[1;32m--> 532\u001b[0m         \u001b[39mraise\u001b[39;00m \u001b[39mTypeError\u001b[39;00m(\n\u001b[0;32m    533\u001b[0m             \u001b[39m\"\u001b[39m\u001b[39mAxis must be specified when shapes of a and weights \u001b[39m\u001b[39m\"\u001b[39m\n\u001b[0;32m    534\u001b[0m             \u001b[39m\"\u001b[39m\u001b[39mdiffer.\u001b[39m\u001b[39m\"\u001b[39m)\n\u001b[0;32m    535\u001b[0m     \u001b[39mif\u001b[39;00m wgt\u001b[39m.\u001b[39mndim \u001b[39m!=\u001b[39m \u001b[39m1\u001b[39m:\n\u001b[0;32m    536\u001b[0m         \u001b[39mraise\u001b[39;00m \u001b[39mTypeError\u001b[39;00m(\n\u001b[0;32m    537\u001b[0m             \u001b[39m\"\u001b[39m\u001b[39m1D weights expected when shapes of a and weights differ.\u001b[39m\u001b[39m\"\u001b[39m)\n",
      "\u001b[1;31mTypeError\u001b[0m: Axis must be specified when shapes of a and weights differ."
     ]
    }
   ],
   "source": [
    "# Example 12: Custom aggregation function - Weighted average\n",
    "def custom_weighted_avg(x):\n",
    "    weights = [0.2, 0.8]\n",
    "    return np.average(x, weights=weights)\n",
    "\n",
    "result = df.groupby('Category')['Value'].agg(custom_weighted_avg)\n",
    "print(\"\\nExample 12:\")\n",
    "print(result)"
   ]
  },
  {
   "cell_type": "code",
   "execution_count": 17,
   "metadata": {},
   "outputs": [
    {
     "name": "stdout",
     "output_type": "stream",
     "text": [
      "\n",
      "Example 13:\n",
      "Category\n",
      "A     9.085603\n",
      "B    24.662121\n",
      "Name: Value, dtype: float64\n"
     ]
    }
   ],
   "source": [
    "# Example 13: Custom aggregation function - Geometric mean\n",
    "def custom_geom_mean(x):\n",
    "    return np.exp(np.mean(np.log(x)))\n",
    "\n",
    "result = df.groupby('Category')['Value'].agg(custom_geom_mean)\n",
    "print(\"\\nExample 13:\")\n",
    "print(result)"
   ]
  },
  {
   "cell_type": "code",
   "execution_count": 18,
   "metadata": {},
   "outputs": [
    {
     "name": "stdout",
     "output_type": "stream",
     "text": [
      "\n",
      "Example 14:\n",
      "Category\n",
      "A     8.181818\n",
      "B    24.324324\n",
      "Name: Value, dtype: float64\n"
     ]
    }
   ],
   "source": [
    "# Example 14: Custom aggregation function - Harmonic mean\n",
    "def custom_harm_mean(x):\n",
    "    return len(x) / np.sum(1.0 / x)\n",
    "\n",
    "result = df.groupby('Category')['Value'].agg(custom_harm_mean)\n",
    "print(\"\\nExample 14:\")\n",
    "print(result)"
   ]
  },
  {
   "cell_type": "code",
   "execution_count": 19,
   "metadata": {},
   "outputs": [
    {
     "name": "stdout",
     "output_type": "stream",
     "text": [
      "\n",
      "Example 15:\n",
      "Category\n",
      "A     70\n",
      "B    145\n",
      "Name: Value, dtype: int64\n"
     ]
    }
   ],
   "source": [
    "# Example 15: Custom aggregation function - Custom weighted sum\n",
    "def custom_weighted_sum(x):\n",
    "    weights = [2, 3, 1]\n",
    "    return np.dot(x, weights)\n",
    "\n",
    "result = df.groupby('Category')['Value'].agg(custom_weighted_sum)\n",
    "print(\"\\nExample 15:\")\n",
    "print(result)"
   ]
  }
 ],
 "metadata": {
  "kernelspec": {
   "display_name": "Python 3",
   "language": "python",
   "name": "python3"
  },
  "language_info": {
   "codemirror_mode": {
    "name": "ipython",
    "version": 3
   },
   "file_extension": ".py",
   "mimetype": "text/x-python",
   "name": "python",
   "nbconvert_exporter": "python",
   "pygments_lexer": "ipython3",
   "version": "3.11.2"
  },
  "orig_nbformat": 4
 },
 "nbformat": 4,
 "nbformat_minor": 2
}
