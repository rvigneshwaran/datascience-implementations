{
 "cells": [
  {
   "cell_type": "code",
   "execution_count": 1,
   "metadata": {},
   "outputs": [],
   "source": [
    "import pandas as pd\n",
    "import numpy as np"
   ]
  },
  {
   "cell_type": "code",
   "execution_count": 2,
   "metadata": {},
   "outputs": [],
   "source": [
    "# Sample DataFrame\n",
    "data = {\n",
    "    'Category': ['A', 'B', 'A', 'B', 'A', 'B'],\n",
    "    'Value': [10, 20, 15, 25, 5, 30]\n",
    "}\n",
    "df = pd.DataFrame(data)"
   ]
  },
  {
   "cell_type": "code",
   "execution_count": 3,
   "metadata": {},
   "outputs": [
    {
     "name": "stdout",
     "output_type": "stream",
     "text": [
      "\n",
      "Example 1:\n",
      "Category\n",
      "A    30\n",
      "B    75\n",
      "Name: Value, dtype: int64\n"
     ]
    }
   ],
   "source": [
    "# Example 1: Custom aggregation function - Sum\n",
    "def custom_sum(x):\n",
    "    return x.sum()\n",
    "\n",
    "result = df.groupby('Category')['Value'].agg(custom_sum)\n",
    "print(\"\\nExample 1:\")\n",
    "print(result)"
   ]
  },
  {
   "cell_type": "code",
   "execution_count": 4,
   "metadata": {},
   "outputs": [
    {
     "name": "stdout",
     "output_type": "stream",
     "text": [
      "\n",
      "Example 2:\n",
      "Category\n",
      "A    10.0\n",
      "B    25.0\n",
      "Name: Value, dtype: float64\n"
     ]
    }
   ],
   "source": [
    "# Example 2: Custom aggregation function - Mean\n",
    "def custom_mean(x):\n",
    "    return x.mean()\n",
    "\n",
    "result = df.groupby('Category')['Value'].agg(custom_mean)\n",
    "print(\"\\nExample 2:\")\n",
    "print(result)"
   ]
  },
  {
   "cell_type": "code",
   "execution_count": 5,
   "metadata": {},
   "outputs": [
    {
     "name": "stdout",
     "output_type": "stream",
     "text": [
      "\n",
      "Example 3:\n",
      "Category\n",
      "A    10.0\n",
      "B    25.0\n",
      "Name: Value, dtype: float64\n"
     ]
    }
   ],
   "source": [
    "# Example 3: Custom aggregation function - Median\n",
    "def custom_median(x):\n",
    "    return np.median(x)\n",
    "\n",
    "result = df.groupby('Category')['Value'].agg(custom_median)\n",
    "print(\"\\nExample 3:\")\n",
    "print(result)"
   ]
  },
  {
   "cell_type": "code",
   "execution_count": 6,
   "metadata": {},
   "outputs": [
    {
     "name": "stdout",
     "output_type": "stream",
     "text": [
      "\n",
      "Example 4:\n",
      "Category\n",
      "A    15\n",
      "B    30\n",
      "Name: Value, dtype: int64\n"
     ]
    }
   ],
   "source": [
    "# Example 4: Custom aggregation function - Maximum\n",
    "def custom_max(x):\n",
    "    return x.max()\n",
    "\n",
    "result = df.groupby('Category')['Value'].agg(custom_max)\n",
    "print(\"\\nExample 4:\")\n",
    "print(result)"
   ]
  },
  {
   "cell_type": "code",
   "execution_count": 7,
   "metadata": {},
   "outputs": [
    {
     "name": "stdout",
     "output_type": "stream",
     "text": [
      "\n",
      "Example 5:\n",
      "Category\n",
      "A     5\n",
      "B    20\n",
      "Name: Value, dtype: int64\n"
     ]
    }
   ],
   "source": [
    "# Example 5: Custom aggregation function - Minimum\n",
    "def custom_min(x):\n",
    "    return x.min()\n",
    "\n",
    "result = df.groupby('Category')['Value'].agg(custom_min)\n",
    "print(\"\\nExample 5:\")\n",
    "print(result)"
   ]
  }
 ],
 "metadata": {
  "kernelspec": {
   "display_name": "Python 3",
   "language": "python",
   "name": "python3"
  },
  "language_info": {
   "codemirror_mode": {
    "name": "ipython",
    "version": 3
   },
   "file_extension": ".py",
   "mimetype": "text/x-python",
   "name": "python",
   "nbconvert_exporter": "python",
   "pygments_lexer": "ipython3",
   "version": "3.11.2"
  },
  "orig_nbformat": 4
 },
 "nbformat": 4,
 "nbformat_minor": 2
}
