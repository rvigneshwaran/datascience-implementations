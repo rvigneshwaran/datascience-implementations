{
 "cells": [
  {
   "cell_type": "code",
   "execution_count": 1,
   "metadata": {},
   "outputs": [],
   "source": [
    "import pandas as pd\n",
    "import numpy as np\n",
    "import time"
   ]
  },
  {
   "cell_type": "code",
   "execution_count": 5,
   "metadata": {},
   "outputs": [
    {
     "name": "stdout",
     "output_type": "stream",
     "text": [
      "Example 1:\n",
      "    A         B          C          D\n",
      "0  52  0.702325  Category3 2023-01-01\n",
      "1  93  0.851969  Category3 2023-01-02\n",
      "2  15  0.356609  Category1 2023-01-03\n",
      "3  72  0.261397  Category3 2023-01-04\n",
      "4  61  0.946599  Category3 2023-01-05\n"
     ]
    }
   ],
   "source": [
    "# Example 1: Generate a large DataFrame with random data\n",
    "np.random.seed(42)\n",
    "num_rows = 10000\n",
    "data = {\n",
    "    'A': np.random.randint(1, 100, num_rows),\n",
    "    'B': np.random.rand(num_rows),\n",
    "    'C': np.random.choice(['Category1', 'Category2', 'Category3'], num_rows),\n",
    "    'D': pd.date_range(start='2023-01-01', periods=num_rows, freq='D')\n",
    "}\n",
    "df = pd.DataFrame(data)\n",
    "print(\"Example 1:\")\n",
    "print(df.head())"
   ]
  },
  {
   "cell_type": "code",
   "execution_count": 6,
   "metadata": {},
   "outputs": [
    {
     "name": "stdout",
     "output_type": "stream",
     "text": [
      "\n",
      "Example 2:\n",
      "Time taken: 0.0009992122650146484 seconds\n",
      "    A         B          C          D          E\n",
      "0  52  0.702325  Category3 2023-01-01  52.702325\n",
      "1  93  0.851969  Category3 2023-01-02  93.851969\n",
      "2  15  0.356609  Category1 2023-01-03  15.356609\n",
      "3  72  0.261397  Category3 2023-01-04  72.261397\n",
      "4  61  0.946599  Category3 2023-01-05  61.946599\n"
     ]
    }
   ],
   "source": [
    "# Example 2: Use vectorized operations for calculations\n",
    "start_time = time.time()\n",
    "df['E'] = df['A'] + df['B']\n",
    "end_time = time.time()\n",
    "print(\"\\nExample 2:\")\n",
    "print(f\"Time taken: {end_time - start_time} seconds\")\n",
    "print(df.head())"
   ]
  },
  {
   "cell_type": "code",
   "execution_count": 7,
   "metadata": {},
   "outputs": [
    {
     "name": "stdout",
     "output_type": "stream",
     "text": [
      "\n",
      "Example 3:\n",
      "Time taken: 0.22836971282958984 seconds\n",
      "    A         B          C          D          E          F\n",
      "0  52  0.702325  Category3 2023-01-01  52.702325  36.520899\n",
      "1  93  0.851969  Category3 2023-01-02  93.851969  79.233141\n",
      "2  15  0.356609  Category1 2023-01-03  15.356609   5.349134\n",
      "3  72  0.261397  Category3 2023-01-04  72.261397  18.820607\n",
      "4  61  0.946599  Category3 2023-01-05  61.946599  57.742513\n"
     ]
    }
   ],
   "source": [
    "# Example 3: Avoid using iterrows() for iteration\n",
    "start_time = time.time()\n",
    "result = []\n",
    "for index, row in df.iterrows():\n",
    "    result.append(row['A'] * row['B'])\n",
    "df['F'] = result\n",
    "end_time = time.time()\n",
    "print(\"\\nExample 3:\")\n",
    "print(f\"Time taken: {end_time - start_time} seconds\")\n",
    "print(df.head())"
   ]
  },
  {
   "cell_type": "code",
   "execution_count": 8,
   "metadata": {},
   "outputs": [
    {
     "name": "stdout",
     "output_type": "stream",
     "text": [
      "\n",
      "Example 4:\n",
      "Time taken: 0.05038094520568848 seconds\n",
      "    A         B          C          D          E          F          G\n",
      "0  52  0.702325  Category3 2023-01-01  52.702325  36.520899  36.520899\n",
      "1  93  0.851969  Category3 2023-01-02  93.851969  79.233141  79.233141\n",
      "2  15  0.356609  Category1 2023-01-03  15.356609   5.349134   5.349134\n",
      "3  72  0.261397  Category3 2023-01-04  72.261397  18.820607  18.820607\n",
      "4  61  0.946599  Category3 2023-01-05  61.946599  57.742513  57.742513\n"
     ]
    }
   ],
   "source": [
    "# Example 4: Use apply() with a lambda function for faster calculation\n",
    "start_time = time.time()\n",
    "df['G'] = df.apply(lambda row: row['A'] * row['B'], axis=1)\n",
    "end_time = time.time()\n",
    "print(\"\\nExample 4:\")\n",
    "print(f\"Time taken: {end_time - start_time} seconds\")\n",
    "print(df.head())"
   ]
  },
  {
   "cell_type": "code",
   "execution_count": 9,
   "metadata": {},
   "outputs": [
    {
     "name": "stdout",
     "output_type": "stream",
     "text": [
      "\n",
      "Example 5:\n",
      "Time taken: 0.011702537536621094 seconds\n",
      "    A         B          C          D          E          F          G  \\\n",
      "0  52  0.702325  Category3 2023-01-01  52.702325  36.520899  36.520899   \n",
      "1  93  0.851969  Category3 2023-01-02  93.851969  79.233141  79.233141   \n",
      "2  15  0.356609  Category1 2023-01-03  15.356609   5.349134   5.349134   \n",
      "3  72  0.261397  Category3 2023-01-04  72.261397  18.820607  18.820607   \n",
      "4  61  0.946599  Category3 2023-01-05  61.946599  57.742513  57.742513   \n",
      "\n",
      "           H  \n",
      "0  36.520899  \n",
      "1  79.233141  \n",
      "2   5.349134  \n",
      "3  18.820607  \n",
      "4  57.742513  \n"
     ]
    }
   ],
   "source": [
    "# Example 5: Use pd.eval() for faster arithmetic operations\n",
    "start_time = time.time()\n",
    "df['H'] = pd.eval('df.A * df.B')\n",
    "end_time = time.time()\n",
    "print(\"\\nExample 5:\")\n",
    "print(f\"Time taken: {end_time - start_time} seconds\")\n",
    "print(df.head())"
   ]
  },
  {
   "cell_type": "code",
   "execution_count": 10,
   "metadata": {},
   "outputs": [
    {
     "name": "stdout",
     "output_type": "stream",
     "text": [
      "\n",
      "Example 6:\n",
      "Time taken: 0.002666473388671875 seconds\n",
      "    A         B          C          D          E          F          G  \\\n",
      "0  52  0.702325  Category3 2023-01-01  52.702325  36.520899  36.520899   \n",
      "1  93  0.851969  Category3 2023-01-02  93.851969  79.233141  79.233141   \n",
      "2  15  0.356609  Category1 2023-01-03  15.356609   5.349134   5.349134   \n",
      "3  72  0.261397  Category3 2023-01-04  72.261397  18.820607  18.820607   \n",
      "4  61  0.946599  Category3 2023-01-05  61.946599  57.742513  57.742513   \n",
      "\n",
      "           H          I  \n",
      "0  36.520899  36.520899  \n",
      "1  79.233141  79.233141  \n",
      "2   5.349134   5.349134  \n",
      "3  18.820607  18.820607  \n",
      "4  57.742513  57.742513  \n"
     ]
    }
   ],
   "source": [
    "# Example 6: Use eval() with column-wise expression\n",
    "start_time = time.time()\n",
    "df['I'] = df.eval('A * B')\n",
    "end_time = time.time()\n",
    "print(\"\\nExample 6:\")\n",
    "print(f\"Time taken: {end_time - start_time} seconds\")\n",
    "print(df.head())"
   ]
  },
  {
   "cell_type": "code",
   "execution_count": 11,
   "metadata": {},
   "outputs": [
    {
     "name": "stdout",
     "output_type": "stream",
     "text": [
      "\n",
      "Example 7:\n",
      "Time taken: 0.0013043880462646484 seconds\n",
      "    A         B          C          D          E          F          G  \\\n",
      "0  52  0.702325  Category3 2023-01-01  52.702325  36.520899  36.520899   \n",
      "1  93  0.851969  Category3 2023-01-02  93.851969  79.233141  79.233141   \n",
      "2  15  0.356609  Category1 2023-01-03  15.356609   5.349134   5.349134   \n",
      "3  72  0.261397  Category3 2023-01-04  72.261397  18.820607  18.820607   \n",
      "4  61  0.946599  Category3 2023-01-05  61.946599  57.742513  57.742513   \n",
      "\n",
      "           H          I          J  \n",
      "0  36.520899  36.520899  36.520899  \n",
      "1  79.233141  79.233141  79.233141  \n",
      "2   5.349134   5.349134  42.062886  \n",
      "3  18.820607  18.820607  18.820607  \n",
      "4  57.742513  57.742513  57.742513  \n"
     ]
    }
   ],
   "source": [
    "# Example 7: Use numpy functions for complex calculations\n",
    "start_time = time.time()\n",
    "df['J'] = np.where(df['A'] > 50, df['A'] * df['B'], df['A'] / df['B'])\n",
    "end_time = time.time()\n",
    "print(\"\\nExample 7:\")\n",
    "print(f\"Time taken: {end_time - start_time} seconds\")\n",
    "print(df.head())"
   ]
  },
  {
   "cell_type": "code",
   "execution_count": 12,
   "metadata": {},
   "outputs": [
    {
     "name": "stdout",
     "output_type": "stream",
     "text": [
      "\n",
      "Example 8:\n",
      "Time taken: 0.002252340316772461 seconds\n",
      "    A         B          C          D          E          F          G  \\\n",
      "0  52  0.702325  Category3 2023-01-01  52.702325  36.520899  36.520899   \n",
      "1  93  0.851969  Category3 2023-01-02  93.851969  79.233141  79.233141   \n",
      "2  15  0.356609  Category1 2023-01-03  15.356609   5.349134   5.349134   \n",
      "3  72  0.261397  Category3 2023-01-04  72.261397  18.820607  18.820607   \n",
      "4  61  0.946599  Category3 2023-01-05  61.946599  57.742513  57.742513   \n",
      "\n",
      "           H          I          J          K  \n",
      "0  36.520899  36.520899  36.520899  36.520899  \n",
      "1  79.233141  79.233141  79.233141  79.233141  \n",
      "2   5.349134   5.349134  42.062886        NaN  \n",
      "3  18.820607  18.820607  18.820607  18.820607  \n",
      "4  57.742513  57.742513  57.742513  57.742513  \n"
     ]
    }
   ],
   "source": [
    "# Example 8: Select columns using loc[] instead of chained indexing\n",
    "start_time = time.time()\n",
    "df['K'] = df.loc[df['A'] > 50, 'A'] * df.loc[df['A'] > 50, 'B']\n",
    "end_time = time.time()\n",
    "print(\"\\nExample 8:\")\n",
    "print(f\"Time taken: {end_time - start_time} seconds\")\n",
    "print(df.head())"
   ]
  },
  {
   "cell_type": "code",
   "execution_count": 13,
   "metadata": {},
   "outputs": [
    {
     "name": "stdout",
     "output_type": "stream",
     "text": [
      "\n",
      "Example 9:\n",
      "Time taken: 0.005530595779418945 seconds\n",
      "    A         B          C          D          E          F          G  \\\n",
      "0  52  0.702325  Category3 2023-01-01  52.702325  36.520899  36.520899   \n",
      "1  93  0.851969  Category3 2023-01-02  93.851969  79.233141  79.233141   \n",
      "2  15  0.356609  Category1 2023-01-03  15.356609   5.349134   5.349134   \n",
      "3  72  0.261397  Category3 2023-01-04  72.261397  18.820607  18.820607   \n",
      "4  61  0.946599  Category3 2023-01-05  61.946599  57.742513  57.742513   \n",
      "\n",
      "           H          I          J          K          L  \n",
      "0  36.520899  36.520899  36.520899  36.520899  36.520899  \n",
      "1  79.233141  79.233141  79.233141  79.233141  79.233141  \n",
      "2   5.349134   5.349134  42.062886        NaN        NaN  \n",
      "3  18.820607  18.820607  18.820607  18.820607  18.820607  \n",
      "4  57.742513  57.742513  57.742513  57.742513  57.742513  \n"
     ]
    }
   ],
   "source": [
    "# Example 9: Use DataFrame.query() for better performance\n",
    "start_time = time.time()\n",
    "df['L'] = df.query('A > 50')['A'] * df.query('A > 50')['B']\n",
    "end_time = time.time()\n",
    "print(\"\\nExample 9:\")\n",
    "print(f\"Time taken: {end_time - start_time} seconds\")\n",
    "print(df.head())"
   ]
  },
  {
   "cell_type": "code",
   "execution_count": 14,
   "metadata": {},
   "outputs": [
    {
     "name": "stdout",
     "output_type": "stream",
     "text": [
      "\n",
      "Example 10:\n",
      "Time taken: 0.04434347152709961 seconds\n",
      "   A       B_x        C_x        D_x       E_x       F_x       G_x       H_x  \\\n",
      "0  1  0.781933  Category2 2023-05-25  1.781933  0.781933  0.781933  0.781933   \n",
      "1  1  0.781933  Category2 2023-05-25  1.781933  0.781933  0.781933  0.781933   \n",
      "2  1  0.781933  Category2 2023-05-25  1.781933  0.781933  0.781933  0.781933   \n",
      "3  1  0.781933  Category2 2023-05-25  1.781933  0.781933  0.781933  0.781933   \n",
      "4  1  0.781933  Category2 2023-05-25  1.781933  0.781933  0.781933  0.781933   \n",
      "\n",
      "        I_x       J_x  ...        C_y        D_y       E_y       F_y  \\\n",
      "0  0.781933  1.278883  ...  Category1 2025-08-03  1.089520  0.089520   \n",
      "1  0.781933  1.278883  ...  Category3 2029-07-28  1.723609  0.723609   \n",
      "2  0.781933  1.278883  ...  Category3 2026-08-18  1.391968  0.391968   \n",
      "3  0.781933  1.278883  ...  Category3 2026-07-29  1.338750  0.338750   \n",
      "4  0.781933  1.278883  ...  Category3 2041-02-17  1.099019  0.099019   \n",
      "\n",
      "        G_y       H_y       I_y        J_y  K_y  L_y  \n",
      "0  0.089520  0.089520  0.089520  11.170664  NaN  NaN  \n",
      "1  0.723609  0.723609  0.723609   1.381961  NaN  NaN  \n",
      "2  0.391968  0.391968  0.391968   2.551230  NaN  NaN  \n",
      "3  0.338750  0.338750  0.338750   2.952030  NaN  NaN  \n",
      "4  0.099019  0.099019  0.099019  10.099029  NaN  NaN  \n",
      "\n",
      "[5 rows x 23 columns]\n"
     ]
    }
   ],
   "source": [
    "# Example 10: Sort DataFrame for faster merging\n",
    "start_time = time.time()\n",
    "df1 = df.sample(frac=0.5).sort_values(by='A')\n",
    "df2 = df.sample(frac=0.5).sort_values(by='A')\n",
    "merged_df = pd.merge(df1, df2, on='A')\n",
    "end_time = time.time()\n",
    "print(\"\\nExample 10:\")\n",
    "print(f\"Time taken: {end_time - start_time} seconds\")\n",
    "print(merged_df.head())"
   ]
  }
 ],
 "metadata": {
  "kernelspec": {
   "display_name": "Python 3",
   "language": "python",
   "name": "python3"
  },
  "language_info": {
   "codemirror_mode": {
    "name": "ipython",
    "version": 3
   },
   "file_extension": ".py",
   "mimetype": "text/x-python",
   "name": "python",
   "nbconvert_exporter": "python",
   "pygments_lexer": "ipython3",
   "version": "3.11.2"
  },
  "orig_nbformat": 4
 },
 "nbformat": 4,
 "nbformat_minor": 2
}
