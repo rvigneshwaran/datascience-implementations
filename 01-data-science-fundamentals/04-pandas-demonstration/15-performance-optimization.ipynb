{
 "cells": [
  {
   "cell_type": "code",
   "execution_count": 1,
   "metadata": {},
   "outputs": [],
   "source": [
    "import pandas as pd\n",
    "import numpy as np\n",
    "import time"
   ]
  },
  {
   "cell_type": "code",
   "execution_count": 5,
   "metadata": {},
   "outputs": [
    {
     "name": "stdout",
     "output_type": "stream",
     "text": [
      "Example 1:\n",
      "    A         B          C          D\n",
      "0  52  0.702325  Category3 2023-01-01\n",
      "1  93  0.851969  Category3 2023-01-02\n",
      "2  15  0.356609  Category1 2023-01-03\n",
      "3  72  0.261397  Category3 2023-01-04\n",
      "4  61  0.946599  Category3 2023-01-05\n"
     ]
    }
   ],
   "source": [
    "# Example 1: Generate a large DataFrame with random data\n",
    "np.random.seed(42)\n",
    "num_rows = 10000\n",
    "data = {\n",
    "    'A': np.random.randint(1, 100, num_rows),\n",
    "    'B': np.random.rand(num_rows),\n",
    "    'C': np.random.choice(['Category1', 'Category2', 'Category3'], num_rows),\n",
    "    'D': pd.date_range(start='2023-01-01', periods=num_rows, freq='D')\n",
    "}\n",
    "df = pd.DataFrame(data)\n",
    "print(\"Example 1:\")\n",
    "print(df.head())"
   ]
  },
  {
   "cell_type": "code",
   "execution_count": 6,
   "metadata": {},
   "outputs": [
    {
     "name": "stdout",
     "output_type": "stream",
     "text": [
      "\n",
      "Example 2:\n",
      "Time taken: 0.0009992122650146484 seconds\n",
      "    A         B          C          D          E\n",
      "0  52  0.702325  Category3 2023-01-01  52.702325\n",
      "1  93  0.851969  Category3 2023-01-02  93.851969\n",
      "2  15  0.356609  Category1 2023-01-03  15.356609\n",
      "3  72  0.261397  Category3 2023-01-04  72.261397\n",
      "4  61  0.946599  Category3 2023-01-05  61.946599\n"
     ]
    }
   ],
   "source": [
    "# Example 2: Use vectorized operations for calculations\n",
    "start_time = time.time()\n",
    "df['E'] = df['A'] + df['B']\n",
    "end_time = time.time()\n",
    "print(\"\\nExample 2:\")\n",
    "print(f\"Time taken: {end_time - start_time} seconds\")\n",
    "print(df.head())"
   ]
  },
  {
   "cell_type": "code",
   "execution_count": 7,
   "metadata": {},
   "outputs": [
    {
     "name": "stdout",
     "output_type": "stream",
     "text": [
      "\n",
      "Example 3:\n",
      "Time taken: 0.22836971282958984 seconds\n",
      "    A         B          C          D          E          F\n",
      "0  52  0.702325  Category3 2023-01-01  52.702325  36.520899\n",
      "1  93  0.851969  Category3 2023-01-02  93.851969  79.233141\n",
      "2  15  0.356609  Category1 2023-01-03  15.356609   5.349134\n",
      "3  72  0.261397  Category3 2023-01-04  72.261397  18.820607\n",
      "4  61  0.946599  Category3 2023-01-05  61.946599  57.742513\n"
     ]
    }
   ],
   "source": [
    "# Example 3: Avoid using iterrows() for iteration\n",
    "start_time = time.time()\n",
    "result = []\n",
    "for index, row in df.iterrows():\n",
    "    result.append(row['A'] * row['B'])\n",
    "df['F'] = result\n",
    "end_time = time.time()\n",
    "print(\"\\nExample 3:\")\n",
    "print(f\"Time taken: {end_time - start_time} seconds\")\n",
    "print(df.head())"
   ]
  },
  {
   "cell_type": "code",
   "execution_count": 8,
   "metadata": {},
   "outputs": [
    {
     "name": "stdout",
     "output_type": "stream",
     "text": [
      "\n",
      "Example 4:\n",
      "Time taken: 0.05038094520568848 seconds\n",
      "    A         B          C          D          E          F          G\n",
      "0  52  0.702325  Category3 2023-01-01  52.702325  36.520899  36.520899\n",
      "1  93  0.851969  Category3 2023-01-02  93.851969  79.233141  79.233141\n",
      "2  15  0.356609  Category1 2023-01-03  15.356609   5.349134   5.349134\n",
      "3  72  0.261397  Category3 2023-01-04  72.261397  18.820607  18.820607\n",
      "4  61  0.946599  Category3 2023-01-05  61.946599  57.742513  57.742513\n"
     ]
    }
   ],
   "source": [
    "# Example 4: Use apply() with a lambda function for faster calculation\n",
    "start_time = time.time()\n",
    "df['G'] = df.apply(lambda row: row['A'] * row['B'], axis=1)\n",
    "end_time = time.time()\n",
    "print(\"\\nExample 4:\")\n",
    "print(f\"Time taken: {end_time - start_time} seconds\")\n",
    "print(df.head())"
   ]
  },
  {
   "cell_type": "code",
   "execution_count": 9,
   "metadata": {},
   "outputs": [
    {
     "name": "stdout",
     "output_type": "stream",
     "text": [
      "\n",
      "Example 5:\n",
      "Time taken: 0.011702537536621094 seconds\n",
      "    A         B          C          D          E          F          G  \\\n",
      "0  52  0.702325  Category3 2023-01-01  52.702325  36.520899  36.520899   \n",
      "1  93  0.851969  Category3 2023-01-02  93.851969  79.233141  79.233141   \n",
      "2  15  0.356609  Category1 2023-01-03  15.356609   5.349134   5.349134   \n",
      "3  72  0.261397  Category3 2023-01-04  72.261397  18.820607  18.820607   \n",
      "4  61  0.946599  Category3 2023-01-05  61.946599  57.742513  57.742513   \n",
      "\n",
      "           H  \n",
      "0  36.520899  \n",
      "1  79.233141  \n",
      "2   5.349134  \n",
      "3  18.820607  \n",
      "4  57.742513  \n"
     ]
    }
   ],
   "source": [
    "# Example 5: Use pd.eval() for faster arithmetic operations\n",
    "start_time = time.time()\n",
    "df['H'] = pd.eval('df.A * df.B')\n",
    "end_time = time.time()\n",
    "print(\"\\nExample 5:\")\n",
    "print(f\"Time taken: {end_time - start_time} seconds\")\n",
    "print(df.head())"
   ]
  },
  {
   "cell_type": "code",
   "execution_count": 10,
   "metadata": {},
   "outputs": [
    {
     "name": "stdout",
     "output_type": "stream",
     "text": [
      "\n",
      "Example 6:\n",
      "Time taken: 0.002666473388671875 seconds\n",
      "    A         B          C          D          E          F          G  \\\n",
      "0  52  0.702325  Category3 2023-01-01  52.702325  36.520899  36.520899   \n",
      "1  93  0.851969  Category3 2023-01-02  93.851969  79.233141  79.233141   \n",
      "2  15  0.356609  Category1 2023-01-03  15.356609   5.349134   5.349134   \n",
      "3  72  0.261397  Category3 2023-01-04  72.261397  18.820607  18.820607   \n",
      "4  61  0.946599  Category3 2023-01-05  61.946599  57.742513  57.742513   \n",
      "\n",
      "           H          I  \n",
      "0  36.520899  36.520899  \n",
      "1  79.233141  79.233141  \n",
      "2   5.349134   5.349134  \n",
      "3  18.820607  18.820607  \n",
      "4  57.742513  57.742513  \n"
     ]
    }
   ],
   "source": [
    "# Example 6: Use eval() with column-wise expression\n",
    "start_time = time.time()\n",
    "df['I'] = df.eval('A * B')\n",
    "end_time = time.time()\n",
    "print(\"\\nExample 6:\")\n",
    "print(f\"Time taken: {end_time - start_time} seconds\")\n",
    "print(df.head())"
   ]
  },
  {
   "cell_type": "code",
   "execution_count": 11,
   "metadata": {},
   "outputs": [
    {
     "name": "stdout",
     "output_type": "stream",
     "text": [
      "\n",
      "Example 7:\n",
      "Time taken: 0.0013043880462646484 seconds\n",
      "    A         B          C          D          E          F          G  \\\n",
      "0  52  0.702325  Category3 2023-01-01  52.702325  36.520899  36.520899   \n",
      "1  93  0.851969  Category3 2023-01-02  93.851969  79.233141  79.233141   \n",
      "2  15  0.356609  Category1 2023-01-03  15.356609   5.349134   5.349134   \n",
      "3  72  0.261397  Category3 2023-01-04  72.261397  18.820607  18.820607   \n",
      "4  61  0.946599  Category3 2023-01-05  61.946599  57.742513  57.742513   \n",
      "\n",
      "           H          I          J  \n",
      "0  36.520899  36.520899  36.520899  \n",
      "1  79.233141  79.233141  79.233141  \n",
      "2   5.349134   5.349134  42.062886  \n",
      "3  18.820607  18.820607  18.820607  \n",
      "4  57.742513  57.742513  57.742513  \n"
     ]
    }
   ],
   "source": [
    "# Example 7: Use numpy functions for complex calculations\n",
    "start_time = time.time()\n",
    "df['J'] = np.where(df['A'] > 50, df['A'] * df['B'], df['A'] / df['B'])\n",
    "end_time = time.time()\n",
    "print(\"\\nExample 7:\")\n",
    "print(f\"Time taken: {end_time - start_time} seconds\")\n",
    "print(df.head())"
   ]
  },
  {
   "cell_type": "code",
   "execution_count": 12,
   "metadata": {},
   "outputs": [
    {
     "name": "stdout",
     "output_type": "stream",
     "text": [
      "\n",
      "Example 8:\n",
      "Time taken: 0.002252340316772461 seconds\n",
      "    A         B          C          D          E          F          G  \\\n",
      "0  52  0.702325  Category3 2023-01-01  52.702325  36.520899  36.520899   \n",
      "1  93  0.851969  Category3 2023-01-02  93.851969  79.233141  79.233141   \n",
      "2  15  0.356609  Category1 2023-01-03  15.356609   5.349134   5.349134   \n",
      "3  72  0.261397  Category3 2023-01-04  72.261397  18.820607  18.820607   \n",
      "4  61  0.946599  Category3 2023-01-05  61.946599  57.742513  57.742513   \n",
      "\n",
      "           H          I          J          K  \n",
      "0  36.520899  36.520899  36.520899  36.520899  \n",
      "1  79.233141  79.233141  79.233141  79.233141  \n",
      "2   5.349134   5.349134  42.062886        NaN  \n",
      "3  18.820607  18.820607  18.820607  18.820607  \n",
      "4  57.742513  57.742513  57.742513  57.742513  \n"
     ]
    }
   ],
   "source": [
    "# Example 8: Select columns using loc[] instead of chained indexing\n",
    "start_time = time.time()\n",
    "df['K'] = df.loc[df['A'] > 50, 'A'] * df.loc[df['A'] > 50, 'B']\n",
    "end_time = time.time()\n",
    "print(\"\\nExample 8:\")\n",
    "print(f\"Time taken: {end_time - start_time} seconds\")\n",
    "print(df.head())"
   ]
  },
  {
   "cell_type": "code",
   "execution_count": 13,
   "metadata": {},
   "outputs": [
    {
     "name": "stdout",
     "output_type": "stream",
     "text": [
      "\n",
      "Example 9:\n",
      "Time taken: 0.005530595779418945 seconds\n",
      "    A         B          C          D          E          F          G  \\\n",
      "0  52  0.702325  Category3 2023-01-01  52.702325  36.520899  36.520899   \n",
      "1  93  0.851969  Category3 2023-01-02  93.851969  79.233141  79.233141   \n",
      "2  15  0.356609  Category1 2023-01-03  15.356609   5.349134   5.349134   \n",
      "3  72  0.261397  Category3 2023-01-04  72.261397  18.820607  18.820607   \n",
      "4  61  0.946599  Category3 2023-01-05  61.946599  57.742513  57.742513   \n",
      "\n",
      "           H          I          J          K          L  \n",
      "0  36.520899  36.520899  36.520899  36.520899  36.520899  \n",
      "1  79.233141  79.233141  79.233141  79.233141  79.233141  \n",
      "2   5.349134   5.349134  42.062886        NaN        NaN  \n",
      "3  18.820607  18.820607  18.820607  18.820607  18.820607  \n",
      "4  57.742513  57.742513  57.742513  57.742513  57.742513  \n"
     ]
    }
   ],
   "source": [
    "# Example 9: Use DataFrame.query() for better performance\n",
    "start_time = time.time()\n",
    "df['L'] = df.query('A > 50')['A'] * df.query('A > 50')['B']\n",
    "end_time = time.time()\n",
    "print(\"\\nExample 9:\")\n",
    "print(f\"Time taken: {end_time - start_time} seconds\")\n",
    "print(df.head())"
   ]
  },
  {
   "cell_type": "code",
   "execution_count": 14,
   "metadata": {},
   "outputs": [
    {
     "name": "stdout",
     "output_type": "stream",
     "text": [
      "\n",
      "Example 10:\n",
      "Time taken: 0.04434347152709961 seconds\n",
      "   A       B_x        C_x        D_x       E_x       F_x       G_x       H_x  \\\n",
      "0  1  0.781933  Category2 2023-05-25  1.781933  0.781933  0.781933  0.781933   \n",
      "1  1  0.781933  Category2 2023-05-25  1.781933  0.781933  0.781933  0.781933   \n",
      "2  1  0.781933  Category2 2023-05-25  1.781933  0.781933  0.781933  0.781933   \n",
      "3  1  0.781933  Category2 2023-05-25  1.781933  0.781933  0.781933  0.781933   \n",
      "4  1  0.781933  Category2 2023-05-25  1.781933  0.781933  0.781933  0.781933   \n",
      "\n",
      "        I_x       J_x  ...        C_y        D_y       E_y       F_y  \\\n",
      "0  0.781933  1.278883  ...  Category1 2025-08-03  1.089520  0.089520   \n",
      "1  0.781933  1.278883  ...  Category3 2029-07-28  1.723609  0.723609   \n",
      "2  0.781933  1.278883  ...  Category3 2026-08-18  1.391968  0.391968   \n",
      "3  0.781933  1.278883  ...  Category3 2026-07-29  1.338750  0.338750   \n",
      "4  0.781933  1.278883  ...  Category3 2041-02-17  1.099019  0.099019   \n",
      "\n",
      "        G_y       H_y       I_y        J_y  K_y  L_y  \n",
      "0  0.089520  0.089520  0.089520  11.170664  NaN  NaN  \n",
      "1  0.723609  0.723609  0.723609   1.381961  NaN  NaN  \n",
      "2  0.391968  0.391968  0.391968   2.551230  NaN  NaN  \n",
      "3  0.338750  0.338750  0.338750   2.952030  NaN  NaN  \n",
      "4  0.099019  0.099019  0.099019  10.099029  NaN  NaN  \n",
      "\n",
      "[5 rows x 23 columns]\n"
     ]
    }
   ],
   "source": [
    "# Example 10: Sort DataFrame for faster merging\n",
    "start_time = time.time()\n",
    "df1 = df.sample(frac=0.5).sort_values(by='A')\n",
    "df2 = df.sample(frac=0.5).sort_values(by='A')\n",
    "merged_df = pd.merge(df1, df2, on='A')\n",
    "end_time = time.time()\n",
    "print(\"\\nExample 10:\")\n",
    "print(f\"Time taken: {end_time - start_time} seconds\")\n",
    "print(merged_df.head())"
   ]
  },
  {
   "cell_type": "code",
   "execution_count": 15,
   "metadata": {},
   "outputs": [
    {
     "name": "stdout",
     "output_type": "stream",
     "text": [
      "\n",
      "Example 11:\n",
      "Time taken: 0.03684854507446289 seconds\n",
      "   A      B_x        C_x        D_x      E_x      F_x      G_x      H_x  \\\n",
      "0  1  0.26936  Category2 2026-08-28  1.26936  0.26936  0.26936  0.26936   \n",
      "1  1  0.26936  Category2 2026-08-28  1.26936  0.26936  0.26936  0.26936   \n",
      "2  1  0.26936  Category2 2026-08-28  1.26936  0.26936  0.26936  0.26936   \n",
      "3  1  0.26936  Category2 2026-08-28  1.26936  0.26936  0.26936  0.26936   \n",
      "4  1  0.26936  Category2 2026-08-28  1.26936  0.26936  0.26936  0.26936   \n",
      "\n",
      "       I_x       J_x  ...        C_y        D_y       E_y       F_y       G_y  \\\n",
      "0  0.26936  3.712508  ...  Category2 2043-06-26  1.022902  0.022902  0.022902   \n",
      "1  0.26936  3.712508  ...  Category1 2043-05-16  1.450944  0.450944  0.450944   \n",
      "2  0.26936  3.712508  ...  Category2 2026-01-09  1.733153  0.733153  0.733153   \n",
      "3  0.26936  3.712508  ...  Category1 2023-07-10  1.585561  0.585561  0.585561   \n",
      "4  0.26936  3.712508  ...  Category2 2038-12-08  1.213896  0.213896  0.213896   \n",
      "\n",
      "        H_y       I_y        J_y  K_y  L_y  \n",
      "0  0.022902  0.022902  43.664001  NaN  NaN  \n",
      "1  0.450944  0.450944   2.217569  NaN  NaN  \n",
      "2  0.733153  0.733153   1.363972  NaN  NaN  \n",
      "3  0.585561  0.585561   1.707763  NaN  NaN  \n",
      "4  0.213896  0.213896   4.675175  NaN  NaN  \n",
      "\n",
      "[5 rows x 23 columns]\n"
     ]
    }
   ],
   "source": [
    "# Example 11: Use DataFrame.merge() with sorted DataFrames\n",
    "start_time = time.time()\n",
    "df1 = df.sample(frac=0.5).sort_values(by='A')\n",
    "df2 = df.sample(frac=0.5).sort_values(by='A')\n",
    "merged_df = df1.merge(df2, on='A')\n",
    "end_time = time.time()\n",
    "print(\"\\nExample 11:\")\n",
    "print(f\"Time taken: {end_time - start_time} seconds\")\n",
    "print(merged_df.head())"
   ]
  },
  {
   "cell_type": "code",
   "execution_count": 16,
   "metadata": {},
   "outputs": [
    {
     "name": "stdout",
     "output_type": "stream",
     "text": [
      "\n",
      "Example 12:\n",
      "Time taken: 0.0010249614715576172 seconds\n",
      "A\n",
      "75    0.796452\n",
      "75    0.547063\n",
      "75    0.430941\n",
      "75    0.406406\n",
      "75    0.287241\n",
      "        ...   \n",
      "75    0.457294\n",
      "75    0.414650\n",
      "75    0.581860\n",
      "75    0.313325\n",
      "75    0.310237\n",
      "Name: B, Length: 104, dtype: float64\n"
     ]
    }
   ],
   "source": [
    "# Example 12: Set DataFrame index for faster lookups\n",
    "df_indexed = df.set_index('A')\n",
    "start_time = time.time()\n",
    "result = df_indexed.loc[75, 'B']\n",
    "end_time = time.time()\n",
    "print(\"\\nExample 12:\")\n",
    "print(f\"Time taken: {end_time - start_time} seconds\")\n",
    "print(result)"
   ]
  },
  {
   "cell_type": "code",
   "execution_count": 17,
   "metadata": {},
   "outputs": [
    {
     "name": "stdout",
     "output_type": "stream",
     "text": [
      "\n",
      "Example 13:\n",
      "Time taken: 0.0 seconds\n",
      "0.7964517695378094\n"
     ]
    }
   ],
   "source": [
    "# Example 13: Use DataFrame.loc for label-based indexing\n",
    "start_time = time.time()\n",
    "result = df.loc[df['A'] == 75, 'B'].values[0]\n",
    "end_time = time.time()\n",
    "print(\"\\nExample 13:\")\n",
    "print(f\"Time taken: {end_time - start_time} seconds\")\n",
    "print(result)\n"
   ]
  },
  {
   "cell_type": "code",
   "execution_count": 18,
   "metadata": {},
   "outputs": [
    {
     "name": "stdout",
     "output_type": "stream",
     "text": [
      "\n",
      "Example 14:\n",
      "Time taken: 0.0 seconds\n",
      "    A         B          C          D          E          F          G  \\\n",
      "0  99  0.702325  Category3 2023-01-01  52.702325  36.520899  36.520899   \n",
      "1  93  0.851969  Category3 2023-01-02  93.851969  79.233141  79.233141   \n",
      "2  15  0.356609  Category1 2023-01-03  15.356609   5.349134   5.349134   \n",
      "3  72  0.261397  Category3 2023-01-04  72.261397  18.820607  18.820607   \n",
      "4  61  0.946599  Category3 2023-01-05  61.946599  57.742513  57.742513   \n",
      "\n",
      "           H          I          J          K          L  \n",
      "0  36.520899  36.520899  36.520899  36.520899  36.520899  \n",
      "1  79.233141  79.233141  79.233141  79.233141  79.233141  \n",
      "2   5.349134   5.349134  42.062886        NaN        NaN  \n",
      "3  18.820607  18.820607  18.820607  18.820607  18.820607  \n",
      "4  57.742513  57.742513  57.742513  57.742513  57.742513  \n"
     ]
    }
   ],
   "source": [
    "# Example 14: Use DataFrame.at for single value assignment\n",
    "start_time = time.time()\n",
    "df.at[0, 'A'] = 99\n",
    "end_time = time.time()\n",
    "print(\"\\nExample 14:\")\n",
    "print(f\"Time taken: {end_time - start_time} seconds\")\n",
    "print(df.head())"
   ]
  },
  {
   "cell_type": "code",
   "execution_count": 19,
   "metadata": {},
   "outputs": [
    {
     "name": "stdout",
     "output_type": "stream",
     "text": [
      "\n",
      "Example 15:\n",
      "Time taken: 0.0 seconds\n",
      "99\n"
     ]
    }
   ],
   "source": [
    "# Example 15: Use DataFrame.iat for single value access\n",
    "start_time = time.time()\n",
    "result = df.iat[0, 0]\n",
    "end_time = time.time()\n",
    "print(\"\\nExample 15:\")\n",
    "print(f\"Time taken: {end_time - start_time} seconds\")\n",
    "print(result)"
   ]
  },
  {
   "cell_type": "code",
   "execution_count": 20,
   "metadata": {},
   "outputs": [
    {
     "name": "stdout",
     "output_type": "stream",
     "text": [
      "\n",
      "Example 16:\n",
      "Time taken: 0.006987571716308594 seconds\n",
      "       A         B          C          D          E          F          G  \\\n",
      "3258  60  0.779068  Category1 2031-12-03  60.779068  46.744051  46.744051   \n",
      "4575  93  0.968431  Category3 2035-07-12  93.968431  90.064109  90.064109   \n",
      "490   61  0.887542  Category1 2024-05-05  61.887542  54.140056  54.140056   \n",
      "6531  42  0.155313  Category3 2040-11-18  42.155313   6.523147   6.523147   \n",
      "2087  31  0.357470  Category3 2028-09-18  31.357470  11.081559  11.081559   \n",
      "\n",
      "              H          I           J          K          L  \n",
      "3258  46.744051  46.744051   46.744051  46.744051  46.744051  \n",
      "4575  90.064109  90.064109   90.064109  90.064109  90.064109  \n",
      "490   54.140056  54.140056   54.140056  54.140056  54.140056  \n",
      "6531   6.523147   6.523147  270.421630        NaN        NaN  \n",
      "2087  11.081559  11.081559   86.720650        NaN        NaN  \n"
     ]
    }
   ],
   "source": [
    "# Example 16: Avoid using append() in a loop\n",
    "start_time = time.time()\n",
    "dfs = [df.sample(frac=0.1) for _ in range(10)]\n",
    "concat_df = pd.concat(dfs)\n",
    "end_time = time.time()\n",
    "print(\"\\nExample 16:\")\n",
    "print(f\"Time taken: {end_time - start_time} seconds\")\n",
    "print(concat_df.head())"
   ]
  },
  {
   "cell_type": "code",
   "execution_count": 21,
   "metadata": {},
   "outputs": [
    {
     "name": "stdout",
     "output_type": "stream",
     "text": [
      "\n",
      "Example 17:\n",
      "Time taken: 0.006115913391113281 seconds\n",
      "       A         B          C          D          E          F          G  \\\n",
      "2836  78  0.791197  Category1 2030-10-07  78.791197  61.713379  61.713379   \n",
      "2526  31  0.642320  Category1 2029-12-01  31.642320  19.911909  19.911909   \n",
      "4408  78  0.990266  Category1 2035-01-26  78.990266  77.240720  77.240720   \n",
      "3972  34  0.388656  Category1 2033-11-16  34.388656  13.214304  13.214304   \n",
      "9208  80  0.650773  Category1 2048-03-18  80.650773  52.061871  52.061871   \n",
      "\n",
      "              H          I          J          K          L  \n",
      "2836  61.713379  61.713379  61.713379  61.713379  61.713379  \n",
      "2526  19.911909  19.911909  48.262574        NaN        NaN  \n",
      "4408  77.240720  77.240720  77.240720  77.240720  77.240720  \n",
      "3972  13.214304  13.214304  87.480960        NaN        NaN  \n",
      "9208  52.061871  52.061871  52.061871  52.061871  52.061871  \n"
     ]
    }
   ],
   "source": [
    "# Example 17: Use DataFrame constructor with a list of DataFrames\n",
    "start_time = time.time()\n",
    "dfs = [df.sample(frac=0.1) for _ in range(10)]\n",
    "concat_df = pd.DataFrame(pd.concat(dfs))\n",
    "end_time = time.time()\n",
    "print(\"\\nExample 17:\")\n",
    "print(f\"Time taken: {end_time - start_time} seconds\")\n",
    "print(concat_df.head())"
   ]
  },
  {
   "cell_type": "code",
   "execution_count": 22,
   "metadata": {},
   "outputs": [
    {
     "name": "stdout",
     "output_type": "stream",
     "text": [
      "\n",
      "Example 18:\n",
      "Time taken: 0.001247406005859375 seconds\n",
      "    A         B          C          D          E          F          G  \\\n",
      "0  99  0.702325  Category3 2023-01-01  52.702325  36.520899  36.520899   \n",
      "1  93  0.851969  Category3 2023-01-02  93.851969  79.233141  79.233141   \n",
      "2  15  0.356609  Category1 2023-01-03  15.356609   5.349134   5.349134   \n",
      "3  72  0.261397  Category3 2023-01-04  72.261397  18.820607  18.820607   \n",
      "4  61  0.946599  Category3 2023-01-05  61.946599  57.742513  57.742513   \n",
      "\n",
      "           H          I          J          K          L          M  \n",
      "0  36.520899  36.520899  36.520899  36.520899  36.520899  69.530173  \n",
      "1  79.233141  79.233141  79.233141  79.233141  79.233141  79.233141  \n",
      "2   5.349134   5.349134  42.062886        NaN        NaN   5.349134  \n",
      "3  18.820607  18.820607  18.820607  18.820607  18.820607  18.820607  \n",
      "4  57.742513  57.742513  57.742513  57.742513  57.742513  57.742513  \n"
     ]
    }
   ],
   "source": [
    "# Example 18: Avoid using inplace=True with DataFrame methods\n",
    "start_time = time.time()\n",
    "df_copy = df.copy()\n",
    "df_copy['M'] = df_copy['A'] * df_copy['B']\n",
    "end_time = time.time()\n",
    "print(\"\\nExample 18:\")\n",
    "print(f\"Time taken: {end_time - start_time} seconds\")\n",
    "print(df_copy.head())"
   ]
  },
  {
   "cell_type": "code",
   "execution_count": 23,
   "metadata": {},
   "outputs": [
    {
     "name": "stdout",
     "output_type": "stream",
     "text": [
      "\n",
      "Example 19:\n",
      "Time taken: 0.0020051002502441406 seconds\n",
      "    A         B          C          D          E          F          G  \\\n",
      "0  99  0.702325  Category3 2023-01-01  52.702325  36.520899  36.520899   \n",
      "1  93  0.851969  Category3 2023-01-02  93.851969  79.233141  79.233141   \n",
      "2  15  0.356609  Category1 2023-01-03  15.356609   5.349134   5.349134   \n",
      "3  72  0.261397  Category3 2023-01-04  72.261397  18.820607  18.820607   \n",
      "4  61  0.946599  Category3 2023-01-05  61.946599  57.742513  57.742513   \n",
      "\n",
      "           H          I          J          K          L  \n",
      "0  36.520899  36.520899  36.520899  36.520899  36.520899  \n",
      "1  79.233141  79.233141  79.233141  79.233141  79.233141  \n",
      "2   5.349134   5.349134  42.062886        NaN        NaN  \n",
      "3  18.820607  18.820607  18.820607  18.820607  18.820607  \n",
      "4  57.742513  57.742513  57.742513  57.742513  57.742513  \n"
     ]
    }
   ],
   "source": [
    "# Example 19: Use a dictionary to replace values in a column\n",
    "start_time = time.time()\n",
    "replace_dict = {1: 'One', 2: 'Two', 3: 'Three'}\n",
    "df['C'] = df['C'].replace(replace_dict)\n",
    "end_time = time.time()\n",
    "print(\"\\nExample 19:\")\n",
    "print(f\"Time taken: {end_time - start_time} seconds\")\n",
    "print(df.head())"
   ]
  },
  {
   "cell_type": "code",
   "execution_count": 24,
   "metadata": {},
   "outputs": [
    {
     "name": "stdout",
     "output_type": "stream",
     "text": [
      "\n",
      "Example 20:\n",
      "Time taken: 0.0015075206756591797 seconds\n",
      "    A         B          C          D          E          F          G  \\\n",
      "0  99  0.702325  Category3 2023-01-01  52.702325  36.520899  36.520899   \n",
      "1  93  0.851969  Category3 2023-01-02  93.851969  79.233141  79.233141   \n",
      "2  15  0.356609  Category1 2023-01-03  15.356609   5.349134   5.349134   \n",
      "3  72  0.261397       Even 2023-01-04  72.261397  18.820607  18.820607   \n",
      "4  61  0.946599  Category3 2023-01-05  61.946599  57.742513  57.742513   \n",
      "\n",
      "           H          I          J          K          L  \n",
      "0  36.520899  36.520899  36.520899  36.520899  36.520899  \n",
      "1  79.233141  79.233141  79.233141  79.233141  79.233141  \n",
      "2   5.349134   5.349134  42.062886        NaN        NaN  \n",
      "3  18.820607  18.820607  18.820607  18.820607  18.820607  \n",
      "4  57.742513  57.742513  57.742513  57.742513  57.742513  \n"
     ]
    }
   ],
   "source": [
    "# Example 20: Avoid using loc for element-wise replacements\n",
    "start_time = time.time()\n",
    "df.loc[df['A'] % 2 == 0, 'C'] = 'Even'\n",
    "end_time = time.time()\n",
    "print(\"\\nExample 20:\")\n",
    "print(f\"Time taken: {end_time - start_time} seconds\")\n",
    "print(df.head())"
   ]
  },
  {
   "cell_type": "code",
   "execution_count": 25,
   "metadata": {},
   "outputs": [
    {
     "name": "stdout",
     "output_type": "stream",
     "text": [
      "\n",
      "Example 21:\n",
      "Time taken: 0.0019617080688476562 seconds\n",
      "    A         B          C       D          E          F          G  \\\n",
      "0  99  0.702325  Category3   80823  52.702325  36.520899  36.520899   \n",
      "1  93  0.851969  Category3   80823  93.851969  79.233141  79.233141   \n",
      "2  15  0.356609  Category1   84949  15.356609   5.349134   5.349134   \n",
      "3  72  0.261397       Even  252452  72.261397  18.820607  18.820607   \n",
      "4  61  0.946599  Category3   80823  61.946599  57.742513  57.742513   \n",
      "\n",
      "           H          I          J          K          L  \n",
      "0  36.520899  36.520899  36.520899  36.520899  36.520899  \n",
      "1  79.233141  79.233141  79.233141  79.233141  79.233141  \n",
      "2   5.349134   5.349134  42.062886        NaN        NaN  \n",
      "3  18.820607  18.820607  18.820607  18.820607  18.820607  \n",
      "4  57.742513  57.742513  57.742513  57.742513  57.742513  \n"
     ]
    }
   ],
   "source": [
    "# Example 21: Use DataFrame.transform() for element-wise transformations\n",
    "start_time = time.time()\n",
    "df['D'] = df.groupby('C')['A'].transform('sum')\n",
    "end_time = time.time()\n",
    "print(\"\\nExample 21:\")\n",
    "print(f\"Time taken: {end_time - start_time} seconds\")\n",
    "print(df.head())"
   ]
  },
  {
   "cell_type": "code",
   "execution_count": 26,
   "metadata": {},
   "outputs": [
    {
     "name": "stdout",
     "output_type": "stream",
     "text": [
      "\n",
      "Example 22:\n",
      "Time taken: 0.002546072006225586 seconds\n",
      "           C   Sum_A\n",
      "0  Category3   84949\n",
      "1  Category1   80583\n",
      "2       Even   80823\n",
      "3  Category2  252452\n"
     ]
    }
   ],
   "source": [
    "# Example 22: Avoid using iterrows() with groupby for calculations\n",
    "start_time = time.time()\n",
    "result = []\n",
    "for name, group in df.groupby('C'):\n",
    "    result.append(group['A'].sum())\n",
    "df_groupby = pd.DataFrame({'C': df['C'].unique(), 'Sum_A': result})\n",
    "end_time = time.time()\n",
    "print(\"\\nExample 22:\")\n",
    "print(f\"Time taken: {end_time - start_time} seconds\")\n",
    "print(df_groupby)"
   ]
  },
  {
   "cell_type": "code",
   "execution_count": 27,
   "metadata": {},
   "outputs": [
    {
     "name": "stdout",
     "output_type": "stream",
     "text": [
      "\n",
      "Example 23:\n",
      "Time taken: 0.002683401107788086 seconds\n",
      "                A         B\n",
      "C                          \n",
      "Category1   84949  0.501772\n",
      "Category2   80583  0.487653\n",
      "Category3   80823  0.505718\n",
      "Even       252452  0.504640\n"
     ]
    }
   ],
   "source": [
    "# Example 23: Use DataFrame.groupby().agg() for multiple aggregations\n",
    "start_time = time.time()\n",
    "agg_result = df.groupby('C').agg({'A': 'sum', 'B': 'mean'})\n",
    "end_time = time.time()\n",
    "print(\"\\nExample 23:\")\n",
    "print(f\"Time taken: {end_time - start_time} seconds\")\n",
    "print(agg_result)"
   ]
  },
  {
   "cell_type": "code",
   "execution_count": 28,
   "metadata": {},
   "outputs": [
    {
     "name": "stdout",
     "output_type": "stream",
     "text": [
      "\n",
      "Example 24:\n",
      "Time taken: 0.00987100601196289 seconds\n",
      "D           80583    80823    84949     252452\n",
      "C                                             \n",
      "Category1      NaN      NaN  84949.0       NaN\n",
      "Category2  80583.0      NaN      NaN       NaN\n",
      "Category3      NaN  80823.0      NaN       NaN\n",
      "Even           NaN      NaN      NaN  252452.0\n"
     ]
    }
   ],
   "source": [
    "# Example 24: Avoid using unstack() in pivot tables\n",
    "start_time = time.time()\n",
    "pivot_table = df.pivot_table(index='C', columns='D', values='A', aggfunc='sum')\n",
    "end_time = time.time()\n",
    "print(\"\\nExample 24:\")\n",
    "print(f\"Time taken: {end_time - start_time} seconds\")\n",
    "print(pivot_table)"
   ]
  },
  {
   "cell_type": "code",
   "execution_count": 29,
   "metadata": {},
   "outputs": [
    {
     "name": "stdout",
     "output_type": "stream",
     "text": [
      "\n",
      "Example 25:\n",
      "Time taken: 0.022246837615966797 seconds\n",
      "D            80583    80823    84949    252452     All\n",
      "C                                                     \n",
      "Category1      NaN      NaN  84949.0       NaN   84949\n",
      "Category2  80583.0      NaN      NaN       NaN   80583\n",
      "Category3      NaN  80823.0      NaN       NaN   80823\n",
      "Even           NaN      NaN      NaN  252452.0  252452\n",
      "All        80583.0  80823.0  84949.0  252452.0  498807\n"
     ]
    }
   ],
   "source": [
    "# Example 25: Use DataFrame.pivot_table() with margins for totals\n",
    "start_time = time.time()\n",
    "pivot_table = df.pivot_table(index='C', columns='D', values='A', aggfunc='sum', margins=True)\n",
    "end_time = time.time()\n",
    "print(\"\\nExample 25:\")\n",
    "print(f\"Time taken: {end_time - start_time} seconds\")\n",
    "print(pivot_table)"
   ]
  },
  {
   "cell_type": "code",
   "execution_count": 30,
   "metadata": {},
   "outputs": [
    {
     "data": {
      "image/png": "[encoded data removed]",
      "text/plain": [
       "<Figure size 640x480 with 1 Axes>"
      ]
     },
     "metadata": {},
     "output_type": "display_data"
    },
    {
     "name": "stdout",
     "output_type": "stream",
     "text": [
      "\n",
      "Example 26:\n",
      "Time taken: 0.1548774242401123 seconds\n"
     ]
    }
   ],
   "source": [
    "# Example 26: Use DataFrame.plot() for quick data visualization\n",
    "import matplotlib.pyplot as plt\n",
    "start_time = time.time()\n",
    "df.plot(x='A', y='B', kind='scatter')\n",
    "plt.show()\n",
    "end_time = time.time()\n",
    "print(\"\\nExample 26:\")\n",
    "print(f\"Time taken: {end_time - start_time} seconds\")"
   ]
  },
  {
   "cell_type": "code",
   "execution_count": 31,
   "metadata": {},
   "outputs": [
    {
     "data": {
      "image/png": "[encoded data removed]",
      "text/plain": [
       "<Figure size 640x480 with 1 Axes>"
      ]
     },
     "metadata": {},
     "output_type": "display_data"
    },
    {
     "name": "stdout",
     "output_type": "stream",
     "text": [
      "\n",
      "Example 27:\n",
      "Time taken: 0.08485126495361328 seconds\n"
     ]
    }
   ],
   "source": [
    "# Example 27: Use DataFrame.hist() for quick histogram\n",
    "start_time = time.time()\n",
    "df['A'].hist()\n",
    "plt.show()\n",
    "end_time = time.time()\n",
    "print(\"\\nExample 27:\")\n",
    "print(f\"Time taken: {end_time - start_time} seconds\")"
   ]
  },
  {
   "cell_type": "code",
   "execution_count": 32,
   "metadata": {},
   "outputs": [
    {
     "name": "stdout",
     "output_type": "stream",
     "text": [
      "\n",
      "Example 28:\n",
      "Time taken: 0.0027959346771240234 seconds\n",
      "C\n",
      "Category1    98\n",
      "Category2    98\n",
      "Category3    98\n",
      "Even         96\n",
      "dtype: int32\n"
     ]
    }
   ],
   "source": [
    "# Example 28: Use DataFrame.groupby().apply() for custom operations\n",
    "start_time = time.time()\n",
    "def custom_function(group):\n",
    "    return group['A'].max() - group['A'].min()\n",
    "\n",
    "result = df.groupby('C').apply(custom_function)\n",
    "end_time = time.time()\n",
    "print(\"\\nExample 28:\")\n",
    "print(f\"Time taken: {end_time - start_time} seconds\")\n",
    "print(result)"
   ]
  },
  {
   "cell_type": "code",
   "execution_count": 33,
   "metadata": {},
   "outputs": [
    {
     "name": "stdout",
     "output_type": "stream",
     "text": [
      "\n",
      "Example 29:\n",
      "Time taken: 0.01258230209350586 seconds\n",
      "C\n",
      "Category1    98\n",
      "Category2    98\n",
      "Category3    98\n",
      "Even         96\n",
      "Name: A, dtype: int32\n"
     ]
    }
   ],
   "source": [
    "# Example 29: Avoid using DataFrame.iterrows() for custom operations\n",
    "start_time = time.time()\n",
    "result = df.groupby('C')['A'].max() - df.groupby('C')['A'].min()\n",
    "end_time = time.time()\n",
    "print(\"\\nExample 29:\")\n",
    "print(f\"Time taken: {end_time - start_time} seconds\")\n",
    "print(result)"
   ]
  },
  {
   "cell_type": "code",
   "execution_count": 34,
   "metadata": {},
   "outputs": [
    {
     "name": "stdout",
     "output_type": "stream",
     "text": [
      "\n",
      "Example 30:\n",
      "Time taken: 0.0007824897766113281 seconds\n",
      "4\n"
     ]
    }
   ],
   "source": [
    "# Example 30: Use DataFrame.nunique() for count of unique values\n",
    "start_time = time.time()\n",
    "unique_counts = df['C'].nunique()\n",
    "end_time = time.time()\n",
    "print(\"\\nExample 30:\")\n",
    "print(f\"Time taken: {end_time - start_time} seconds\")\n",
    "print(unique_counts)"
   ]
  }
 ],
 "metadata": {
  "kernelspec": {
   "display_name": "Python 3",
   "language": "python",
   "name": "python3"
  },
  "language_info": {
   "codemirror_mode": {
    "name": "ipython",
    "version": 3
   },
   "file_extension": ".py",
   "mimetype": "text/x-python",
   "name": "python",
   "nbconvert_exporter": "python",
   "pygments_lexer": "ipython3",
   "version": "3.11.2"
  },
  "orig_nbformat": 4
 },
 "nbformat": 4,
 "nbformat_minor": 2
}
