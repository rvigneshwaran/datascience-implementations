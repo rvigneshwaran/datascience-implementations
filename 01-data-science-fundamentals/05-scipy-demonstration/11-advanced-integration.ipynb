{
 "cells": [
  {
   "cell_type": "code",
   "execution_count": 1,
   "metadata": {},
   "outputs": [],
   "source": [
    "import numpy as np\n",
    "import matplotlib.pyplot as plt\n",
    "from scipy import integrate\n"
   ]
  },
  {
   "cell_type": "code",
   "execution_count": 2,
   "metadata": {},
   "outputs": [
    {
     "name": "stdout",
     "output_type": "stream",
     "text": [
      "Quad Integration Result: 0.33333333333333337\n"
     ]
    }
   ],
   "source": [
    "# Example 1: Defining a Simple Function for Integration\n",
    "def func(x):\n",
    "    return x**2\n",
    "\n",
    "# Example 2: Using Quad Function for Basic Integration\n",
    "result_quad, error_quad = integrate.quad(func, 0, 1)\n",
    "print(\"Quad Integration Result:\", result_quad)"
   ]
  },
  {
   "cell_type": "code",
   "execution_count": 3,
   "metadata": {},
   "outputs": [
    {
     "name": "stdout",
     "output_type": "stream",
     "text": [
      "Trapezoidal Integration Result: 0.33001683501683504\n"
     ]
    }
   ],
   "source": [
    "# Example 3: Using Fixed-Width Trapezoidal Rule for Numerical Integration\n",
    "result_trapezoidal = integrate.trapz(func(np.linspace(0, 1, 100)), dx=1/100)\n",
    "print(\"Trapezoidal Integration Result:\", result_trapezoidal)\n"
   ]
  },
  {
   "cell_type": "code",
   "execution_count": 4,
   "metadata": {},
   "outputs": [
    {
     "name": "stdout",
     "output_type": "stream",
     "text": [
      "Simpson's Integration Result: 0.33000000000000007\n"
     ]
    }
   ],
   "source": [
    "# Example 4: Using Simpson's Rule for Numerical Integration\n",
    "result_simpson = integrate.simps(func(np.linspace(0, 1, 100)), dx=1/100)\n",
    "print(\"Simpson's Integration Result:\", result_simpson)"
   ]
  },
  {
   "cell_type": "code",
   "execution_count": 5,
   "metadata": {},
   "outputs": [
    {
     "name": "stdout",
     "output_type": "stream",
     "text": [
      "Romberg Integration Result: 0.3333333333333333\n"
     ]
    }
   ],
   "source": [
    "# Example 5: Using Romberg Integration\n",
    "result_romberg = integrate.romberg(func, 0, 1)\n",
    "print(\"Romberg Integration Result:\", result_romberg)"
   ]
  },
  {
   "cell_type": "code",
   "execution_count": 6,
   "metadata": {},
   "outputs": [
    {
     "ename": "ZeroDivisionError",
     "evalue": "float division by zero",
     "output_type": "error",
     "traceback": [
      "\u001b[1;31m---------------------------------------------------------------------------\u001b[0m",
      "\u001b[1;31mZeroDivisionError\u001b[0m                         Traceback (most recent call last)",
      "Cell \u001b[1;32mIn[6], line 5\u001b[0m\n\u001b[0;32m      2\u001b[0m \u001b[39mdef\u001b[39;00m \u001b[39mfunc_with_difficult_points\u001b[39m(x):\n\u001b[0;32m      3\u001b[0m     \u001b[39mreturn\u001b[39;00m \u001b[39m1\u001b[39m \u001b[39m/\u001b[39m (x \u001b[39m-\u001b[39m \u001b[39m0.5\u001b[39m)\n\u001b[1;32m----> 5\u001b[0m result_quad_adaptive, error_quad_adaptive \u001b[39m=\u001b[39m integrate\u001b[39m.\u001b[39;49mquad(func_with_difficult_points, \u001b[39m0\u001b[39;49m, \u001b[39m1\u001b[39;49m)\n\u001b[0;32m      6\u001b[0m \u001b[39mprint\u001b[39m(\u001b[39m\"\u001b[39m\u001b[39mQuad Adaptive Integration Result:\u001b[39m\u001b[39m\"\u001b[39m, result_quad_adaptive)\n",
      "File \u001b[1;32m~\\AppData\\Roaming\\Python\\Python311\\site-packages\\scipy\\integrate\\_quadpack_py.py:465\u001b[0m, in \u001b[0;36mquad\u001b[1;34m(func, a, b, args, full_output, epsabs, epsrel, limit, points, weight, wvar, wopts, maxp1, limlst, complex_func)\u001b[0m\n\u001b[0;32m    462\u001b[0m     \u001b[39mreturn\u001b[39;00m retval\n\u001b[0;32m    464\u001b[0m \u001b[39mif\u001b[39;00m weight \u001b[39mis\u001b[39;00m \u001b[39mNone\u001b[39;00m:\n\u001b[1;32m--> 465\u001b[0m     retval \u001b[39m=\u001b[39m _quad(func, a, b, args, full_output, epsabs, epsrel, limit,\n\u001b[0;32m    466\u001b[0m                    points)\n\u001b[0;32m    467\u001b[0m \u001b[39melse\u001b[39;00m:\n\u001b[0;32m    468\u001b[0m     \u001b[39mif\u001b[39;00m points \u001b[39mis\u001b[39;00m \u001b[39mnot\u001b[39;00m \u001b[39mNone\u001b[39;00m:\n",
      "File \u001b[1;32m~\\AppData\\Roaming\\Python\\Python311\\site-packages\\scipy\\integrate\\_quadpack_py.py:577\u001b[0m, in \u001b[0;36m_quad\u001b[1;34m(func, a, b, args, full_output, epsabs, epsrel, limit, points)\u001b[0m\n\u001b[0;32m    575\u001b[0m \u001b[39mif\u001b[39;00m points \u001b[39mis\u001b[39;00m \u001b[39mNone\u001b[39;00m:\n\u001b[0;32m    576\u001b[0m     \u001b[39mif\u001b[39;00m infbounds \u001b[39m==\u001b[39m \u001b[39m0\u001b[39m:\n\u001b[1;32m--> 577\u001b[0m         \u001b[39mreturn\u001b[39;00m _quadpack\u001b[39m.\u001b[39;49m_qagse(func,a,b,args,full_output,epsabs,epsrel,limit)\n\u001b[0;32m    578\u001b[0m     \u001b[39melse\u001b[39;00m:\n\u001b[0;32m    579\u001b[0m         \u001b[39mreturn\u001b[39;00m _quadpack\u001b[39m.\u001b[39m_qagie(func,bound,infbounds,args,full_output,epsabs,epsrel,limit)\n",
      "Cell \u001b[1;32mIn[6], line 3\u001b[0m, in \u001b[0;36mfunc_with_difficult_points\u001b[1;34m(x)\u001b[0m\n\u001b[0;32m      2\u001b[0m \u001b[39mdef\u001b[39;00m \u001b[39mfunc_with_difficult_points\u001b[39m(x):\n\u001b[1;32m----> 3\u001b[0m     \u001b[39mreturn\u001b[39;00m \u001b[39m1\u001b[39;49m \u001b[39m/\u001b[39;49m (x \u001b[39m-\u001b[39;49m \u001b[39m0.5\u001b[39;49m)\n",
      "\u001b[1;31mZeroDivisionError\u001b[0m: float division by zero"
     ]
    }
   ],
   "source": [
    "# Example 6: Adaptive Integration with Quad\n",
    "def func_with_difficult_points(x):\n",
    "    return 1 / (x - 0.5)\n",
    "\n",
    "result_quad_adaptive, error_quad_adaptive = integrate.quad(func_with_difficult_points, 0, 1)\n",
    "print(\"Quad Adaptive Integration Result:\", result_quad_adaptive)\n"
   ]
  },
  {
   "cell_type": "code",
   "execution_count": 7,
   "metadata": {},
   "outputs": [
    {
     "name": "stdout",
     "output_type": "stream",
     "text": [
      "Gaussian Quadrature Integration Result: (0.33333333333333326, None)\n"
     ]
    }
   ],
   "source": [
    "# Example 7: Gaussian Quadrature Integration\n",
    "def weight_func(x):\n",
    "    return np.exp(-x**2)\n",
    "\n",
    "result_gauss_quad = integrate.fixed_quad(func, 0, 1, n=5)\n",
    "print(\"Gaussian Quadrature Integration Result:\", result_gauss_quad)"
   ]
  },
  {
   "cell_type": "code",
   "execution_count": 8,
   "metadata": {},
   "outputs": [
    {
     "name": "stdout",
     "output_type": "stream",
     "text": [
      "Double Integration Result: 0.6666666666666669\n"
     ]
    }
   ],
   "source": [
    "# Example 8: Double Integration with Dblquad\n",
    "def func_double_integral(x, y):\n",
    "    return x**2 + y**2\n",
    "\n",
    "result_double_integral, error_double_integral = integrate.dblquad(func_double_integral, 0, 1, lambda x: 0, lambda x: 1)\n",
    "print(\"Double Integration Result:\", result_double_integral)"
   ]
  },
  {
   "cell_type": "code",
   "execution_count": 9,
   "metadata": {},
   "outputs": [
    {
     "name": "stdout",
     "output_type": "stream",
     "text": [
      "Triple Integration Result: 1.0\n"
     ]
    }
   ],
   "source": [
    "# Example 9: Triple Integration with Tplquad\n",
    "def func_triple_integral(x, y, z):\n",
    "    return x**2 + y**2 + z**2\n",
    "\n",
    "result_triple_integral, error_triple_integral = integrate.tplquad(func_triple_integral, 0, 1, lambda x: 0, lambda x: 1, lambda x, y: 0, lambda x, y: 1)\n",
    "print(\"Triple Integration Result:\", result_triple_integral)"
   ]
  },
  {
   "cell_type": "code",
   "execution_count": 10,
   "metadata": {},
   "outputs": [
    {
     "data": {
      "image/png": "[encoded data removed]",
      "text/plain": [
       "<Figure size 640x480 with 1 Axes>"
      ]
     },
     "metadata": {},
     "output_type": "display_data"
    }
   ],
   "source": [
    "# Example 10: Solving Ordinary Differential Equation (ODE) with ODEINT\n",
    "def ode_func(y, t):\n",
    "    return -2 * y\n",
    "\n",
    "t = np.linspace(0, 4, 100)\n",
    "initial_condition = 1\n",
    "result_odeint = integrate.odeint(ode_func, initial_condition, t)\n",
    "plt.plot(t, result_odeint)\n",
    "plt.xlabel('Time')\n",
    "plt.ylabel('y(t)')\n",
    "plt.title('Solution of ODE y\\' = -2y using ODEINT')\n",
    "plt.grid(True)\n",
    "plt.show()\n"
   ]
  }
 ],
 "metadata": {
  "kernelspec": {
   "display_name": "Python 3",
   "language": "python",
   "name": "python3"
  },
  "language_info": {
   "codemirror_mode": {
    "name": "ipython",
    "version": 3
   },
   "file_extension": ".py",
   "mimetype": "text/x-python",
   "name": "python",
   "nbconvert_exporter": "python",
   "pygments_lexer": "ipython3",
   "version": "3.11.2"
  },
  "orig_nbformat": 4
 },
 "nbformat": 4,
 "nbformat_minor": 2
}
