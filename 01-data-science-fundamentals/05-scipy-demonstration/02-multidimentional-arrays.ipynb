{
 "cells": [
  {
   "cell_type": "code",
   "execution_count": 1,
   "metadata": {},
   "outputs": [],
   "source": [
    "# Import necessary libraries\n",
    "import numpy as np\n",
    "import scipy.ndimage as ndi\n",
    "import matplotlib.pyplot as plt"
   ]
  },
  {
   "cell_type": "code",
   "execution_count": 2,
   "metadata": {},
   "outputs": [
    {
     "name": "stdout",
     "output_type": "stream",
     "text": [
      "Example 1: 1D Array of Characters: ['Jon Snow' 'Daenerys Targaryen' 'Tyrion Lannister']\n"
     ]
    }
   ],
   "source": [
    "# Example 1: Creating a 1D array with NumPy and SciPy\n",
    "characters = np.array(['Jon Snow', 'Daenerys Targaryen', 'Tyrion Lannister'])\n",
    "print(\"Example 1: 1D Array of Characters:\", characters)"
   ]
  },
  {
   "cell_type": "code",
   "execution_count": 3,
   "metadata": {},
   "outputs": [
    {
     "name": "stdout",
     "output_type": "stream",
     "text": [
      "Example 2: 2D Array of Houses: [['Stark' 'Tully' 'Baratheon']\n",
      " ['Targaryen' 'Lannister' 'Greyjoy']]\n"
     ]
    }
   ],
   "source": [
    "# Example 2: Creating a 2D array with NumPy and SciPy\n",
    "houses = np.array([\n",
    "    ['Stark', 'Tully', 'Baratheon'],\n",
    "    ['Targaryen', 'Lannister', 'Greyjoy']\n",
    "])\n",
    "print(\"Example 2: 2D Array of Houses:\", houses)"
   ]
  },
  {
   "cell_type": "code",
   "execution_count": 4,
   "metadata": {},
   "outputs": [
    {
     "name": "stdout",
     "output_type": "stream",
     "text": [
      "Example 3: 3D Array of Kingdoms: [[['North' 'Riverlands']\n",
      "  ['Stormlands' 'Crownlands']]\n",
      "\n",
      " [['Dragonstone' 'Westerlands']\n",
      "  ['Iron Islands' 'Reach']]]\n"
     ]
    }
   ],
   "source": [
    "# Example 3: Creating a 3D array with NumPy and SciPy\n",
    "kingdoms = np.array([\n",
    "    [['North', 'Riverlands'], ['Stormlands', 'Crownlands']],\n",
    "    [['Dragonstone', 'Westerlands'], ['Iron Islands', 'Reach']]\n",
    "])\n",
    "print(\"Example 3: 3D Array of Kingdoms:\", kingdoms)"
   ]
  },
  {
   "cell_type": "code",
   "execution_count": 5,
   "metadata": {},
   "outputs": [
    {
     "name": "stdout",
     "output_type": "stream",
     "text": [
      "Example 4: Accessing element [1, 2] of houses: Greyjoy\n"
     ]
    }
   ],
   "source": [
    "# Example 4: Accessing elements of a multi-dimensional array\n",
    "print(\"Example 4: Accessing element [1, 2] of houses:\", houses[1, 2])"
   ]
  },
  {
   "cell_type": "code",
   "execution_count": 6,
   "metadata": {},
   "outputs": [
    {
     "name": "stdout",
     "output_type": "stream",
     "text": [
      "Example 5: Slicing elements from houses: [['Tully' 'Baratheon']\n",
      " ['Lannister' 'Greyjoy']]\n"
     ]
    }
   ],
   "source": [
    "# Example 5: Slicing a multi-dimensional array\n",
    "print(\"Example 5: Slicing elements from houses:\", houses[:, 1:])"
   ]
  },
  {
   "cell_type": "code",
   "execution_count": 7,
   "metadata": {},
   "outputs": [
    {
     "name": "stdout",
     "output_type": "stream",
     "text": [
      "Example 6: Shape of kingdoms array: (2, 2, 2)\n"
     ]
    }
   ],
   "source": [
    "\n",
    "# Example 6: Shape of a multi-dimensional array\n",
    "print(\"Example 6: Shape of kingdoms array:\", kingdoms.shape)"
   ]
  },
  {
   "cell_type": "code",
   "execution_count": 8,
   "metadata": {},
   "outputs": [
    {
     "name": "stdout",
     "output_type": "stream",
     "text": [
      "Example 7: Reshaped kingdoms array: [['North' 'Riverlands' 'Stormlands' 'Crownlands']\n",
      " ['Dragonstone' 'Westerlands' 'Iron Islands' 'Reach']]\n"
     ]
    }
   ],
   "source": [
    "# Example 7: Reshaping a multi-dimensional array\n",
    "reshaped_kingdoms = kingdoms.reshape((2, 4))\n",
    "print(\"Example 7: Reshaped kingdoms array:\", reshaped_kingdoms)"
   ]
  },
  {
   "cell_type": "code",
   "execution_count": 9,
   "metadata": {},
   "outputs": [
    {
     "name": "stdout",
     "output_type": "stream",
     "text": [
      "Example 8: Transposed houses array: [['Stark' 'Targaryen']\n",
      " ['Tully' 'Lannister']\n",
      " ['Baratheon' 'Greyjoy']]\n"
     ]
    }
   ],
   "source": [
    "# Example 8: Transposing a multi-dimensional array\n",
    "transposed_houses = houses.T\n",
    "print(\"Example 8: Transposed houses array:\", transposed_houses)"
   ]
  },
  {
   "cell_type": "code",
   "execution_count": 10,
   "metadata": {},
   "outputs": [
    {
     "name": "stdout",
     "output_type": "stream",
     "text": [
      "Example 9: Birth years of characters: [[265 276 258]\n",
      " [273 262 281]]\n"
     ]
    }
   ],
   "source": [
    "# Example 9: Element-wise operations on multi-dimensional arrays\n",
    "ages = np.array([\n",
    "    [35, 24, 42],\n",
    "    [27, 38, 19]\n",
    "])\n",
    "\n",
    "birth_years = 300 - ages\n",
    "print(\"Example 9: Birth years of characters:\", birth_years)"
   ]
  },
  {
   "cell_type": "code",
   "execution_count": 11,
   "metadata": {},
   "outputs": [
    {
     "name": "stdout",
     "output_type": "stream",
     "text": [
      "Example 10: Total resources in the kingdom: 1540000\n"
     ]
    }
   ],
   "source": [
    "# Example 10: Matrix multiplication with multi-dimensional arrays\n",
    "house_population = np.array([1000, 800, 1200])\n",
    "house_resources = np.array([500, 400, 600])\n",
    "total_resources = np.dot(house_population, house_resources)\n",
    "print(\"Example 10: Total resources in the kingdom:\", total_resources)"
   ]
  },
  {
   "cell_type": "code",
   "execution_count": 12,
   "metadata": {},
   "outputs": [
    {
     "name": "stdout",
     "output_type": "stream",
     "text": [
      "Example 11: War status with traitors and enemies: [[False  True False]\n",
      " [ True False False]]\n"
     ]
    }
   ],
   "source": [
    "# Example 11: Element-wise comparison on multi-dimensional arrays\n",
    "traitors = np.array([\n",
    "    [False, True, False],\n",
    "    [True, False, False]\n",
    "])\n",
    "\n",
    "enemies = np.array([\n",
    "    [False, True, True],\n",
    "    [True, False, True]\n",
    "])\n",
    "\n",
    "war_status = np.logical_and(traitors, enemies)\n",
    "print(\"Example 11: War status with traitors and enemies:\", war_status)"
   ]
  },
  {
   "cell_type": "code",
   "execution_count": 13,
   "metadata": {},
   "outputs": [
    {
     "name": "stdout",
     "output_type": "stream",
     "text": [
      "Example 12: Wildlings to House population ratio: [[10.         12.5         8.33333333]\n",
      " [ 8.         10.          6.66666667]\n",
      " [12.         15.         10.        ]]\n"
     ]
    }
   ],
   "source": [
    "# Example 12: Broadcasting in multi-dimensional arrays\n",
    "wildlings = np.array([10000, 8000, 12000])\n",
    "wildlings_ratio = wildlings[:, np.newaxis] / house_population\n",
    "print(\"Example 12: Wildlings to House population ratio:\", wildlings_ratio)"
   ]
  },
  {
   "cell_type": "code",
   "execution_count": 14,
   "metadata": {},
   "outputs": [
    {
     "name": "stdout",
     "output_type": "stream",
     "text": [
      "Example 13: Total number of wildlings: 30000\n"
     ]
    }
   ],
   "source": [
    "# Example 13: Reduction operations on multi-dimensional arrays\n",
    "total_wildlings = np.sum(wildlings)\n",
    "print(\"Example 13: Total number of wildlings:\", total_wildlings)"
   ]
  },
  {
   "cell_type": "code",
   "execution_count": 15,
   "metadata": {},
   "outputs": [
    {
     "name": "stdout",
     "output_type": "stream",
     "text": [
      "Example 14: All Kingsguard members: [['Jaime Lannister' 'Sandor Clegane']\n",
      " ['Barristan Selmy' 'Arthur Dayne']]\n"
     ]
    }
   ],
   "source": [
    "# Example 14: Stacking arrays vertically\n",
    "kingsguard1 = np.array(['Jaime Lannister', 'Sandor Clegane'])\n",
    "kingsguard2 = np.array(['Barristan Selmy', 'Arthur Dayne'])\n",
    "all_kingsguard = np.vstack((kingsguard1, kingsguard2))\n",
    "print(\"Example 14: All Kingsguard members:\", all_kingsguard)"
   ]
  },
  {
   "cell_type": "code",
   "execution_count": 16,
   "metadata": {},
   "outputs": [
    {
     "name": "stdout",
     "output_type": "stream",
     "text": [
      "Example 15: All Maesters: ['Aemon' 'Pycelle' 'Qyburn' 'Luwin']\n"
     ]
    }
   ],
   "source": [
    "# Example 15: Stacking arrays horizontally\n",
    "maesters1 = np.array(['Aemon', 'Pycelle'])\n",
    "maesters2 = np.array(['Qyburn', 'Luwin'])\n",
    "all_maesters = np.hstack((maesters1, maesters2))\n",
    "print(\"Example 15: All Maesters:\", all_maesters)"
   ]
  },
  {
   "cell_type": "code",
   "execution_count": 17,
   "metadata": {},
   "outputs": [
    {
     "name": "stdout",
     "output_type": "stream",
     "text": [
      "Example 16: Split houses array: [array([['Stark'],\n",
      "       ['Targaryen']], dtype='<U9'), array([['Tully'],\n",
      "       ['Lannister']], dtype='<U9'), array([['Baratheon'],\n",
      "       ['Greyjoy']], dtype='<U9')]\n"
     ]
    }
   ],
   "source": [
    "# Example 16: Splitting arrays\n",
    "houses_split = np.hsplit(houses, 3)\n",
    "print(\"Example 16: Split houses array:\", houses_split)"
   ]
  },
  {
   "cell_type": "code",
   "execution_count": 18,
   "metadata": {},
   "outputs": [
    {
     "name": "stdout",
     "output_type": "stream",
     "text": [
      "Example 17: Repeating houses array: [['Stark' 'Tully' 'Baratheon']\n",
      " ['Stark' 'Tully' 'Baratheon']\n",
      " ['Targaryen' 'Lannister' 'Greyjoy']\n",
      " ['Targaryen' 'Lannister' 'Greyjoy']]\n"
     ]
    }
   ],
   "source": [
    "# Example 17: Repeating elements in a multi-dimensional array\n",
    "repeat_houses = np.repeat(houses, 2, axis=0)\n",
    "print(\"Example 17: Repeating houses array:\", repeat_houses)"
   ]
  },
  {
   "cell_type": "code",
   "execution_count": 19,
   "metadata": {},
   "outputs": [
    {
     "name": "stdout",
     "output_type": "stream",
     "text": [
      "Example 18: Tiled kingdoms array: [[['North' 'Riverlands']\n",
      "  ['Stormlands' 'Crownlands']]\n",
      "\n",
      " [['Dragonstone' 'Westerlands']\n",
      "  ['Iron Islands' 'Reach']]\n",
      "\n",
      " [['North' 'Riverlands']\n",
      "  ['Stormlands' 'Crownlands']]\n",
      "\n",
      " [['Dragonstone' 'Westerlands']\n",
      "  ['Iron Islands' 'Reach']]]\n"
     ]
    }
   ],
   "source": [
    "# Example 18: Tiling elements in a multi-dimensional array\n",
    "tile_kingdoms = np.tile(kingdoms, (2, 1, 1))\n",
    "print(\"Example 18: Tiled kingdoms array:\", tile_kingdoms)"
   ]
  },
  {
   "cell_type": "code",
   "execution_count": 20,
   "metadata": {},
   "outputs": [
    {
     "name": "stdout",
     "output_type": "stream",
     "text": [
      "Example 19: Flattened kingdoms array: ['North' 'Riverlands' 'Stormlands' 'Crownlands' 'Dragonstone'\n",
      " 'Westerlands' 'Iron Islands' 'Reach']\n"
     ]
    }
   ],
   "source": [
    "# Example 19: Flattening a multi-dimensional array\n",
    "flattened_kingdoms = kingdoms.flatten()\n",
    "print(\"Example 19: Flattened kingdoms array:\", flattened_kingdoms)"
   ]
  },
  {
   "cell_type": "code",
   "execution_count": 21,
   "metadata": {},
   "outputs": [
    {
     "name": "stdout",
     "output_type": "stream",
     "text": [
      "Example 20: Raveled kingdoms array: ['North' 'Riverlands' 'Stormlands' 'Crownlands' 'Dragonstone'\n",
      " 'Westerlands' 'Iron Islands' 'Reach']\n"
     ]
    }
   ],
   "source": [
    "# Example 20: Raveling a multi-dimensional array\n",
    "raveled_kingdoms = kingdoms.ravel()\n",
    "print(\"Example 20: Raveled kingdoms array:\", raveled_kingdoms)"
   ]
  },
  {
   "cell_type": "code",
   "execution_count": 22,
   "metadata": {},
   "outputs": [
    {
     "name": "stdout",
     "output_type": "stream",
     "text": [
      "Example 21: House: Stark\n",
      "Example 21: House: Tully\n",
      "Example 21: House: Baratheon\n",
      "Example 21: House: Targaryen\n",
      "Example 21: House: Lannister\n",
      "Example 21: House: Greyjoy\n"
     ]
    }
   ],
   "source": [
    "# Example 21: Iterating over multi-dimensional arrays\n",
    "for house in np.nditer(houses):\n",
    "    print(\"Example 21: House:\", house)"
   ]
  },
  {
   "cell_type": "code",
   "execution_count": 23,
   "metadata": {},
   "outputs": [
    {
     "name": "stdout",
     "output_type": "stream",
     "text": [
      "Example 22: Broadcasted wildlings population array: [[10000  8000 12000]\n",
      " [10000  8000 12000]]\n"
     ]
    }
   ],
   "source": [
    "# Example 22: Broadcasting arrays to the same shape\n",
    "wildlings_population = np.broadcast_to(wildlings, (2, 3))\n",
    "print(\"Example 22: Broadcasted wildlings population array:\", wildlings_population)\n"
   ]
  },
  {
   "cell_type": "code",
   "execution_count": 24,
   "metadata": {},
   "outputs": [
    {
     "name": "stdout",
     "output_type": "stream",
     "text": [
      "Example 23: Damage points after an attack: [[10.          9.48683298  8.94427191]\n",
      " [ 8.36660027  7.74596669  7.07106781]]\n"
     ]
    }
   ],
   "source": [
    "# Example 23: Element-wise functions on multi-dimensional arrays\n",
    "health_points = np.array([\n",
    "    [100, 90, 80],\n",
    "    [70, 60, 50]\n",
    "])\n",
    "\n",
    "# Use NumPy's vectorized functions on the health_points array\n",
    "damage = np.sqrt(health_points)\n",
    "print(\"Example 23: Damage points after an attack:\", damage)"
   ]
  },
  {
   "cell_type": "markdown",
   "metadata": {},
   "source": [
    "```python\n",
    "# Example 24: Convolution using 2D array (Image Blurring)\n",
    "# Load an image using matplotlib and convert it to a grayscale 2D array\n",
    "image = plt.imread('game_of_thrones.jpg')\n",
    "gray_image = np.mean(image, axis=-1)\n",
    "\n",
    "# Create a kernel for image blurring\n",
    "kernel = np.ones((5, 5)) / 25\n",
    "\n",
    "# Use scipy's ndimage.convolve function to apply the kernel and blur the image\n",
    "blurred_image = ndi.convolve(gray_image, kernel)\n",
    "\n",
    "# Plot the original and blurred images\n",
    "plt.figure(figsize=(10, 6))\n",
    "plt.subplot(1, 2, 1)\n",
    "plt.imshow(gray_image, cmap='gray')\n",
    "plt.title('Original Image')\n",
    "plt.axis('off')\n",
    "\n",
    "plt.subplot(1, 2, 2)\n",
    "plt.imshow(blurred_image, cmap='gray')\n",
    "plt.title('Blurred Image')\n",
    "plt.axis('off')\n",
    "\n",
    "plt.show()\n",
    "```\n",
    "\n",
    "\n"
   ]
  },
  {
   "cell_type": "markdown",
   "metadata": {},
   "source": [
    "```python\n",
    "# Example 25: Downsampling using 2D array (Image Downscaling)\n",
    "# Use scipy's ndimage.zoom function to downscale the original image\n",
    "downscaled_image = ndi.zoom(image, (0.5, 0.5, 1))\n",
    "\n",
    "# Plot the original and downscaled images\n",
    "plt.figure(figsize=(10, 6))\n",
    "plt.subplot(1, 2, 1)\n",
    "plt.imshow(image)\n",
    "plt.title('Original Image')\n",
    "plt.axis('off')\n",
    "\n",
    "plt.subplot(1, 2, 2)\n",
    "plt.imshow(downscaled_image)\n",
    "plt.title('Downscaled Image')\n",
    "plt.axis('off')\n",
    "\n",
    "plt.show()\n",
    "```"
   ]
  }
 ],
 "metadata": {
  "kernelspec": {
   "display_name": "Python 3",
   "language": "python",
   "name": "python3"
  },
  "language_info": {
   "codemirror_mode": {
    "name": "ipython",
    "version": 3
   },
   "file_extension": ".py",
   "mimetype": "text/x-python",
   "name": "python",
   "nbconvert_exporter": "python",
   "pygments_lexer": "ipython3",
   "version": "3.11.2"
  },
  "orig_nbformat": 4
 },
 "nbformat": 4,
 "nbformat_minor": 2
}
