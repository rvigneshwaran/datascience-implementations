{
 "cells": [
  {
   "cell_type": "code",
   "execution_count": 29,
   "metadata": {},
   "outputs": [],
   "source": [
    "import numpy as np\n",
    "import scipy.linalg as linalg\n",
    "import scipy.sparse.linalg as sparse_linalg\n",
    "import scipy"
   ]
  },
  {
   "cell_type": "code",
   "execution_count": 2,
   "metadata": {},
   "outputs": [
    {
     "name": "stdout",
     "output_type": "stream",
     "text": [
      "Inverse of A:\n",
      "[[-2.   1. ]\n",
      " [ 1.5 -0.5]]\n"
     ]
    }
   ],
   "source": [
    "# Example 1: Matrix Inversion using LU Decomposition\n",
    "A = np.array([[1, 2], [3, 4]])\n",
    "B = linalg.inv(A)\n",
    "print(f\"Inverse of A:\\n{B}\")"
   ]
  },
  {
   "cell_type": "code",
   "execution_count": 3,
   "metadata": {},
   "outputs": [
    {
     "name": "stdout",
     "output_type": "stream",
     "text": [
      "P:\n",
      "[[0. 1.]\n",
      " [1. 0.]]\n",
      "L:\n",
      "[[1.         0.        ]\n",
      " [0.33333333 1.        ]]\n",
      "U:\n",
      "[[3.         4.        ]\n",
      " [0.         0.66666667]]\n"
     ]
    }
   ],
   "source": [
    "# Example 2: LU Decomposition\n",
    "P, L, U = linalg.lu(A)\n",
    "print(f\"P:\\n{P}\")\n",
    "print(f\"L:\\n{L}\")\n",
    "print(f\"U:\\n{U}\")"
   ]
  },
  {
   "cell_type": "code",
   "execution_count": 4,
   "metadata": {},
   "outputs": [
    {
     "name": "stdout",
     "output_type": "stream",
     "text": [
      "Q:\n",
      "[[-0.31622777 -0.9486833 ]\n",
      " [-0.9486833   0.31622777]]\n",
      "R:\n",
      "[[-3.16227766 -4.42718872]\n",
      " [ 0.         -0.63245553]]\n"
     ]
    }
   ],
   "source": [
    "# Example 3: QR Decomposition\n",
    "Q, R = linalg.qr(A)\n",
    "print(f\"Q:\\n{Q}\")\n",
    "print(f\"R:\\n{R}\")"
   ]
  },
  {
   "cell_type": "code",
   "execution_count": 5,
   "metadata": {},
   "outputs": [
    {
     "name": "stdout",
     "output_type": "stream",
     "text": [
      "U:\n",
      "[[-0.21483724  0.88723069  0.40824829]\n",
      " [-0.52058739  0.24964395 -0.81649658]\n",
      " [-0.82633754 -0.38794278  0.40824829]]\n",
      "Singular Values:\n",
      "[1.68481034e+01 1.06836951e+00 4.41842475e-16]\n",
      "Vh:\n",
      "[[-0.47967118 -0.57236779 -0.66506441]\n",
      " [-0.77669099 -0.07568647  0.62531805]\n",
      " [-0.40824829  0.81649658 -0.40824829]]\n"
     ]
    }
   ],
   "source": [
    "# Example 4: Singular Value Decomposition (SVD)\n",
    "A = np.array([[1, 2, 3], [4, 5, 6], [7, 8, 9]])\n",
    "U, s, Vh = linalg.svd(A)\n",
    "print(f\"U:\\n{U}\")\n",
    "print(f\"Singular Values:\\n{s}\")\n",
    "print(f\"Vh:\\n{Vh}\")\n"
   ]
  },
  {
   "cell_type": "code",
   "execution_count": 6,
   "metadata": {},
   "outputs": [
    {
     "name": "stdout",
     "output_type": "stream",
     "text": [
      "x:\n",
      "[1. 2.]\n"
     ]
    }
   ],
   "source": [
    "# Example 5: Solving Linear System using LU Decomposition\n",
    "A = np.array([[1, 2], [3, 4]])\n",
    "b = np.array([5, 11])\n",
    "x = linalg.solve(A, b)\n",
    "print(f\"x:\\n{x}\")"
   ]
  },
  {
   "cell_type": "code",
   "execution_count": 7,
   "metadata": {},
   "outputs": [
    {
     "name": "stdout",
     "output_type": "stream",
     "text": [
      "x:\n",
      "[1. 2.]\n"
     ]
    }
   ],
   "source": [
    "# Example 6: Solving Linear System using QR Decomposition\n",
    "Q, R = linalg.qr(A)\n",
    "b = np.array([5, 11])\n",
    "y = np.dot(Q.T, b)\n",
    "x = linalg.solve_triangular(R, y)\n",
    "print(f\"x:\\n{x}\")"
   ]
  },
  {
   "cell_type": "code",
   "execution_count": 8,
   "metadata": {},
   "outputs": [
    {
     "name": "stdout",
     "output_type": "stream",
     "text": [
      "x:\n",
      "[1.48275862 2.31034483 2.37931034]\n"
     ]
    }
   ],
   "source": [
    "# Example 7: Iterative Solver (Conjugate Gradient Method)\n",
    "A = np.array([[4, -1, 1], [-1, 4, -2], [1, -2, 3]])\n",
    "b = np.array([6, 3, 4])\n",
    "x, _ = sparse_linalg.cg(A, b)\n",
    "print(f\"x:\\n{x}\")"
   ]
  },
  {
   "cell_type": "code",
   "execution_count": 9,
   "metadata": {},
   "outputs": [
    {
     "name": "stdout",
     "output_type": "stream",
     "text": [
      "x:\n",
      "[1.48275862 2.31034483 2.37931034]\n"
     ]
    }
   ],
   "source": [
    "# Example 8: Iterative Solver (BiCGSTAB Method)\n",
    "A = np.array([[4, -1, 1], [-1, 4, -2], [1, -2, 3]])\n",
    "b = np.array([6, 3, 4])\n",
    "x, _ = sparse_linalg.bicgstab(A, b)\n",
    "print(f\"x:\\n{x}\")\n"
   ]
  },
  {
   "cell_type": "code",
   "execution_count": 16,
   "metadata": {},
   "outputs": [
    {
     "ename": "AttributeError",
     "evalue": "module 'scipy.linalg' has no attribute 'csc_matrix'",
     "output_type": "error",
     "traceback": [
      "\u001b[1;31m---------------------------------------------------------------------------\u001b[0m",
      "\u001b[1;31mAttributeError\u001b[0m                            Traceback (most recent call last)",
      "Cell \u001b[1;32mIn[16], line 7\u001b[0m\n\u001b[0;32m      5\u001b[0m cols \u001b[39m=\u001b[39m np\u001b[39m.\u001b[39marray([\u001b[39m0\u001b[39m, \u001b[39m0\u001b[39m, \u001b[39m1\u001b[39m, \u001b[39m0\u001b[39m, \u001b[39m1\u001b[39m, \u001b[39m2\u001b[39m])\n\u001b[0;32m      6\u001b[0m data \u001b[39m=\u001b[39m np\u001b[39m.\u001b[39marray([\u001b[39m1\u001b[39m, \u001b[39m2\u001b[39m, \u001b[39m3\u001b[39m, \u001b[39m4\u001b[39m, \u001b[39m5\u001b[39m, \u001b[39m6\u001b[39m])\n\u001b[1;32m----> 7\u001b[0m A \u001b[39m=\u001b[39m linalg\u001b[39m.\u001b[39;49mcsc_matrix((data, (rows, cols)), shape\u001b[39m=\u001b[39m(\u001b[39m3\u001b[39m, \u001b[39m3\u001b[39m))\n\u001b[0;32m      8\u001b[0m \u001b[39mprint\u001b[39m(\u001b[39mf\u001b[39m\u001b[39m\"\u001b[39m\u001b[39mSparse Matrix (CSC Format):\u001b[39m\u001b[39m\\n\u001b[39;00m\u001b[39m{\u001b[39;00mA\u001b[39m.\u001b[39mtoarray()\u001b[39m}\u001b[39;00m\u001b[39m\"\u001b[39m)\n",
      "\u001b[1;31mAttributeError\u001b[0m: module 'scipy.linalg' has no attribute 'csc_matrix'"
     ]
    }
   ],
   "source": [
    "# Example 9: Sparse Matrix Creation (CSC Format)\n",
    "import scipy.sparse\n",
    "\n",
    "rows = np.array([0, 1, 1, 2, 2, 2])\n",
    "cols = np.array([0, 0, 1, 0, 1, 2])\n",
    "data = np.array([1, 2, 3, 4, 5, 6])\n",
    "A = linalg.csc_matrix((data, (rows, cols)), shape=(3, 3))\n",
    "print(f\"Sparse Matrix (CSC Format):\\n{A.toarray()}\")"
   ]
  },
  {
   "cell_type": "code",
   "execution_count": 11,
   "metadata": {},
   "outputs": [
    {
     "ename": "AttributeError",
     "evalue": "module 'scipy.linalg' has no attribute 'coo_matrix'",
     "output_type": "error",
     "traceback": [
      "\u001b[1;31m---------------------------------------------------------------------------\u001b[0m",
      "\u001b[1;31mAttributeError\u001b[0m                            Traceback (most recent call last)",
      "Cell \u001b[1;32mIn[11], line 5\u001b[0m\n\u001b[0;32m      3\u001b[0m cols \u001b[39m=\u001b[39m np\u001b[39m.\u001b[39marray([\u001b[39m0\u001b[39m, \u001b[39m0\u001b[39m, \u001b[39m1\u001b[39m, \u001b[39m0\u001b[39m, \u001b[39m1\u001b[39m, \u001b[39m2\u001b[39m])\n\u001b[0;32m      4\u001b[0m data \u001b[39m=\u001b[39m np\u001b[39m.\u001b[39marray([\u001b[39m1\u001b[39m, \u001b[39m2\u001b[39m, \u001b[39m3\u001b[39m, \u001b[39m4\u001b[39m, \u001b[39m5\u001b[39m, \u001b[39m6\u001b[39m])\n\u001b[1;32m----> 5\u001b[0m A \u001b[39m=\u001b[39m linalg\u001b[39m.\u001b[39;49mcoo_matrix((data, (rows, cols)), shape\u001b[39m=\u001b[39m(\u001b[39m3\u001b[39m, \u001b[39m3\u001b[39m))\n\u001b[0;32m      6\u001b[0m \u001b[39mprint\u001b[39m(\u001b[39mf\u001b[39m\u001b[39m\"\u001b[39m\u001b[39mSparse Matrix (COO Format):\u001b[39m\u001b[39m\\n\u001b[39;00m\u001b[39m{\u001b[39;00mA\u001b[39m.\u001b[39mtoarray()\u001b[39m}\u001b[39;00m\u001b[39m\"\u001b[39m)\n",
      "\u001b[1;31mAttributeError\u001b[0m: module 'scipy.linalg' has no attribute 'coo_matrix'"
     ]
    }
   ],
   "source": [
    "# Example 10: Sparse Matrix Creation (COO Format)\n",
    "rows = np.array([0, 1, 1, 2, 2, 2])\n",
    "cols = np.array([0, 0, 1, 0, 1, 2])\n",
    "data = np.array([1, 2, 3, 4, 5, 6])\n",
    "A = linalg.coo_matrix((data, (rows, cols)), shape=(3, 3))\n",
    "print(f\"Sparse Matrix (COO Format):\\n{A.toarray()}\")"
   ]
  },
  {
   "cell_type": "code",
   "execution_count": 13,
   "metadata": {},
   "outputs": [
    {
     "ename": "AttributeError",
     "evalue": "module 'scipy.linalg' has no attribute 'csr_matrix'",
     "output_type": "error",
     "traceback": [
      "\u001b[1;31m---------------------------------------------------------------------------\u001b[0m",
      "\u001b[1;31mAttributeError\u001b[0m                            Traceback (most recent call last)",
      "Cell \u001b[1;32mIn[13], line 5\u001b[0m\n\u001b[0;32m      3\u001b[0m cols \u001b[39m=\u001b[39m np\u001b[39m.\u001b[39marray([\u001b[39m0\u001b[39m, \u001b[39m0\u001b[39m, \u001b[39m1\u001b[39m, \u001b[39m0\u001b[39m, \u001b[39m1\u001b[39m, \u001b[39m2\u001b[39m])\n\u001b[0;32m      4\u001b[0m data \u001b[39m=\u001b[39m np\u001b[39m.\u001b[39marray([\u001b[39m1\u001b[39m, \u001b[39m2\u001b[39m, \u001b[39m3\u001b[39m, \u001b[39m4\u001b[39m, \u001b[39m5\u001b[39m, \u001b[39m6\u001b[39m])\n\u001b[1;32m----> 5\u001b[0m A \u001b[39m=\u001b[39m linalg\u001b[39m.\u001b[39;49mcsr_matrix((data, (rows, cols)), shape\u001b[39m=\u001b[39m(\u001b[39m3\u001b[39m, \u001b[39m3\u001b[39m))\n\u001b[0;32m      6\u001b[0m \u001b[39mprint\u001b[39m(\u001b[39mf\u001b[39m\u001b[39m\"\u001b[39m\u001b[39mSparse Matrix (CSR Format):\u001b[39m\u001b[39m\\n\u001b[39;00m\u001b[39m{\u001b[39;00mA\u001b[39m.\u001b[39mtoarray()\u001b[39m}\u001b[39;00m\u001b[39m\"\u001b[39m)\n",
      "\u001b[1;31mAttributeError\u001b[0m: module 'scipy.linalg' has no attribute 'csr_matrix'"
     ]
    }
   ],
   "source": [
    "# Example 11: Sparse Matrix Creation (CSR Format)\n",
    "rows = np.array([0, 1, 1, 2, 2, 2])\n",
    "cols = np.array([0, 0, 1, 0, 1, 2])\n",
    "data = np.array([1, 2, 3, 4, 5, 6])\n",
    "A = linalg.csr_matrix((data, (rows, cols)), shape=(3, 3))\n",
    "print(f\"Sparse Matrix (CSR Format):\\n{A.toarray()}\")"
   ]
  },
  {
   "cell_type": "code",
   "execution_count": 14,
   "metadata": {},
   "outputs": [
    {
     "ename": "AttributeError",
     "evalue": "module 'scipy.linalg' has no attribute 'csr_matrix'",
     "output_type": "error",
     "traceback": [
      "\u001b[1;31m---------------------------------------------------------------------------\u001b[0m",
      "\u001b[1;31mAttributeError\u001b[0m                            Traceback (most recent call last)",
      "Cell \u001b[1;32mIn[14], line 2\u001b[0m\n\u001b[0;32m      1\u001b[0m \u001b[39m# Example 12: Sparse Matrix Vector Multiplication\u001b[39;00m\n\u001b[1;32m----> 2\u001b[0m A \u001b[39m=\u001b[39m linalg\u001b[39m.\u001b[39;49mcsr_matrix([[\u001b[39m1\u001b[39m, \u001b[39m0\u001b[39m, \u001b[39m2\u001b[39m], [\u001b[39m0\u001b[39m, \u001b[39m3\u001b[39m, \u001b[39m0\u001b[39m], [\u001b[39m4\u001b[39m, \u001b[39m0\u001b[39m, \u001b[39m5\u001b[39m]])\n\u001b[0;32m      3\u001b[0m x \u001b[39m=\u001b[39m np\u001b[39m.\u001b[39marray([\u001b[39m1\u001b[39m, \u001b[39m2\u001b[39m, \u001b[39m3\u001b[39m])\n\u001b[0;32m      4\u001b[0m b \u001b[39m=\u001b[39m A\u001b[39m.\u001b[39mdot(x)\n",
      "\u001b[1;31mAttributeError\u001b[0m: module 'scipy.linalg' has no attribute 'csr_matrix'"
     ]
    }
   ],
   "source": [
    "# Example 12: Sparse Matrix Vector Multiplication\n",
    "A = linalg.csr_matrix([[1, 0, 2], [0, 3, 0], [4, 0, 5]])\n",
    "x = np.array([1, 2, 3])\n",
    "b = A.dot(x)\n",
    "print(f\"Sparse Matrix A:\\n{A.toarray()}\")\n",
    "print(f\"Vector x: {x}\")\n",
    "print(f\"Result of A*x: {b}\")"
   ]
  },
  {
   "cell_type": "code",
   "execution_count": 15,
   "metadata": {},
   "outputs": [
    {
     "ename": "AttributeError",
     "evalue": "module 'scipy.linalg' has no attribute 'csr_matrix'",
     "output_type": "error",
     "traceback": [
      "\u001b[1;31m---------------------------------------------------------------------------\u001b[0m",
      "\u001b[1;31mAttributeError\u001b[0m                            Traceback (most recent call last)",
      "Cell \u001b[1;32mIn[15], line 2\u001b[0m\n\u001b[0;32m      1\u001b[0m \u001b[39m# Example 13: Sparse Matrix Addition\u001b[39;00m\n\u001b[1;32m----> 2\u001b[0m A \u001b[39m=\u001b[39m linalg\u001b[39m.\u001b[39;49mcsr_matrix([[\u001b[39m1\u001b[39m, \u001b[39m0\u001b[39m, \u001b[39m2\u001b[39m], [\u001b[39m0\u001b[39m, \u001b[39m3\u001b[39m, \u001b[39m0\u001b[39m], [\u001b[39m4\u001b[39m, \u001b[39m0\u001b[39m, \u001b[39m5\u001b[39m]])\n\u001b[0;32m      3\u001b[0m B \u001b[39m=\u001b[39m linalg\u001b[39m.\u001b[39mcsr_matrix([[\u001b[39m3\u001b[39m, \u001b[39m0\u001b[39m, \u001b[39m1\u001b[39m], [\u001b[39m0\u001b[39m, \u001b[39m2\u001b[39m, \u001b[39m0\u001b[39m], [\u001b[39m2\u001b[39m, \u001b[39m0\u001b[39m, \u001b[39m4\u001b[39m]])\n\u001b[0;32m      4\u001b[0m C \u001b[39m=\u001b[39m A \u001b[39m+\u001b[39m B\n",
      "\u001b[1;31mAttributeError\u001b[0m: module 'scipy.linalg' has no attribute 'csr_matrix'"
     ]
    }
   ],
   "source": [
    "# Example 13: Sparse Matrix Addition\n",
    "A = linalg.csr_matrix([[1, 0, 2], [0, 3, 0], [4, 0, 5]])\n",
    "B = linalg.csr_matrix([[3, 0, 1], [0, 2, 0], [2, 0, 4]])\n",
    "C = A + B\n",
    "print(f\"Sparse Matrix A:\\n{A.toarray()}\")\n",
    "print(f\"Sparse Matrix B:\\n{B.toarray()}\")\n",
    "print(f\"Result of A + B:\\n{C.toarray()}\")"
   ]
  },
  {
   "cell_type": "code",
   "execution_count": 17,
   "metadata": {},
   "outputs": [
    {
     "ename": "AttributeError",
     "evalue": "module 'scipy.linalg' has no attribute 'csr_matrix'",
     "output_type": "error",
     "traceback": [
      "\u001b[1;31m---------------------------------------------------------------------------\u001b[0m",
      "\u001b[1;31mAttributeError\u001b[0m                            Traceback (most recent call last)",
      "Cell \u001b[1;32mIn[17], line 2\u001b[0m\n\u001b[0;32m      1\u001b[0m \u001b[39m# Example 14: Sparse Matrix Subtraction\u001b[39;00m\n\u001b[1;32m----> 2\u001b[0m A \u001b[39m=\u001b[39m linalg\u001b[39m.\u001b[39;49mcsr_matrix([[\u001b[39m1\u001b[39m, \u001b[39m0\u001b[39m, \u001b[39m2\u001b[39m], [\u001b[39m0\u001b[39m, \u001b[39m3\u001b[39m, \u001b[39m0\u001b[39m], [\u001b[39m4\u001b[39m, \u001b[39m0\u001b[39m, \u001b[39m5\u001b[39m]])\n\u001b[0;32m      3\u001b[0m B \u001b[39m=\u001b[39m linalg\u001b[39m.\u001b[39mcsr_matrix([[\u001b[39m3\u001b[39m, \u001b[39m0\u001b[39m, \u001b[39m1\u001b[39m], [\u001b[39m0\u001b[39m, \u001b[39m2\u001b[39m, \u001b[39m0\u001b[39m], [\u001b[39m2\u001b[39m, \u001b[39m0\u001b[39m, \u001b[39m4\u001b[39m]])\n\u001b[0;32m      4\u001b[0m C \u001b[39m=\u001b[39m A \u001b[39m-\u001b[39m B\n",
      "\u001b[1;31mAttributeError\u001b[0m: module 'scipy.linalg' has no attribute 'csr_matrix'"
     ]
    }
   ],
   "source": [
    "# Example 14: Sparse Matrix Subtraction\n",
    "A = linalg.csr_matrix([[1, 0, 2], [0, 3, 0], [4, 0, 5]])\n",
    "B = linalg.csr_matrix([[3, 0, 1], [0, 2, 0], [2, 0, 4]])\n",
    "C = A - B\n",
    "print(f\"Sparse Matrix A:\\n{A.toarray()}\")\n",
    "print(f\"Sparse Matrix B:\\n{B.toarray()}\")\n",
    "print(f\"Result of A - B:\\n{C.toarray()}\")"
   ]
  },
  {
   "cell_type": "code",
   "execution_count": 18,
   "metadata": {},
   "outputs": [
    {
     "ename": "AttributeError",
     "evalue": "module 'scipy.linalg' has no attribute 'csr_matrix'",
     "output_type": "error",
     "traceback": [
      "\u001b[1;31m---------------------------------------------------------------------------\u001b[0m",
      "\u001b[1;31mAttributeError\u001b[0m                            Traceback (most recent call last)",
      "Cell \u001b[1;32mIn[18], line 2\u001b[0m\n\u001b[0;32m      1\u001b[0m \u001b[39m# Example 15: Sparse Matrix Multiplication\u001b[39;00m\n\u001b[1;32m----> 2\u001b[0m A \u001b[39m=\u001b[39m linalg\u001b[39m.\u001b[39;49mcsr_matrix([[\u001b[39m1\u001b[39m, \u001b[39m0\u001b[39m, \u001b[39m2\u001b[39m], [\u001b[39m0\u001b[39m, \u001b[39m3\u001b[39m, \u001b[39m0\u001b[39m], [\u001b[39m4\u001b[39m, \u001b[39m0\u001b[39m, \u001b[39m5\u001b[39m]])\n\u001b[0;32m      3\u001b[0m B \u001b[39m=\u001b[39m linalg\u001b[39m.\u001b[39mcsr_matrix([[\u001b[39m3\u001b[39m, \u001b[39m0\u001b[39m, \u001b[39m1\u001b[39m], [\u001b[39m0\u001b[39m, \u001b[39m2\u001b[39m, \u001b[39m0\u001b[39m], [\u001b[39m2\u001b[39m, \u001b[39m0\u001b[39m, \u001b[39m4\u001b[39m]])\n\u001b[0;32m      4\u001b[0m C \u001b[39m=\u001b[39m A\u001b[39m.\u001b[39mdot(B)\n",
      "\u001b[1;31mAttributeError\u001b[0m: module 'scipy.linalg' has no attribute 'csr_matrix'"
     ]
    }
   ],
   "source": [
    "# Example 15: Sparse Matrix Multiplication\n",
    "A = linalg.csr_matrix([[1, 0, 2], [0, 3, 0], [4, 0, 5]])\n",
    "B = linalg.csr_matrix([[3, 0, 1], [0, 2, 0], [2, 0, 4]])\n",
    "C = A.dot(B)\n",
    "print(f\"Sparse Matrix A:\\n{A.toarray()}\")\n",
    "print(f\"Sparse Matrix B:\\n{B.toarray()}\")\n",
    "print(f\"Result of A * B:\\n{C.toarray()}\")\n"
   ]
  },
  {
   "cell_type": "code",
   "execution_count": 19,
   "metadata": {},
   "outputs": [
    {
     "ename": "AttributeError",
     "evalue": "module 'scipy.linalg' has no attribute 'csr_matrix'",
     "output_type": "error",
     "traceback": [
      "\u001b[1;31m---------------------------------------------------------------------------\u001b[0m",
      "\u001b[1;31mAttributeError\u001b[0m                            Traceback (most recent call last)",
      "Cell \u001b[1;32mIn[19], line 2\u001b[0m\n\u001b[0;32m      1\u001b[0m \u001b[39m# Example 16: Sparse Matrix Transpose\u001b[39;00m\n\u001b[1;32m----> 2\u001b[0m A \u001b[39m=\u001b[39m linalg\u001b[39m.\u001b[39;49mcsr_matrix([[\u001b[39m1\u001b[39m, \u001b[39m0\u001b[39m, \u001b[39m2\u001b[39m], [\u001b[39m0\u001b[39m, \u001b[39m3\u001b[39m, \u001b[39m0\u001b[39m], [\u001b[39m4\u001b[39m, \u001b[39m0\u001b[39m, \u001b[39m5\u001b[39m]])\n\u001b[0;32m      3\u001b[0m B \u001b[39m=\u001b[39m A\u001b[39m.\u001b[39mtranspose()\n\u001b[0;32m      4\u001b[0m \u001b[39mprint\u001b[39m(\u001b[39mf\u001b[39m\u001b[39m\"\u001b[39m\u001b[39mSparse Matrix A:\u001b[39m\u001b[39m\\n\u001b[39;00m\u001b[39m{\u001b[39;00mA\u001b[39m.\u001b[39mtoarray()\u001b[39m}\u001b[39;00m\u001b[39m\"\u001b[39m)\n",
      "\u001b[1;31mAttributeError\u001b[0m: module 'scipy.linalg' has no attribute 'csr_matrix'"
     ]
    }
   ],
   "source": [
    "# Example 16: Sparse Matrix Transpose\n",
    "A = linalg.csr_matrix([[1, 0, 2], [0, 3, 0], [4, 0, 5]])\n",
    "B = A.transpose()\n",
    "print(f\"Sparse Matrix A:\\n{A.toarray()}\")\n",
    "print(f\"Sparse Matrix A Transpose:\\n{B.toarray()}\")"
   ]
  },
  {
   "cell_type": "code",
   "execution_count": 20,
   "metadata": {},
   "outputs": [
    {
     "ename": "AttributeError",
     "evalue": "module 'scipy.linalg' has no attribute 'csr_matrix'",
     "output_type": "error",
     "traceback": [
      "\u001b[1;31m---------------------------------------------------------------------------\u001b[0m",
      "\u001b[1;31mAttributeError\u001b[0m                            Traceback (most recent call last)",
      "Cell \u001b[1;32mIn[20], line 2\u001b[0m\n\u001b[0;32m      1\u001b[0m \u001b[39m# Example 17: Sparse Matrix Inversion\u001b[39;00m\n\u001b[1;32m----> 2\u001b[0m A \u001b[39m=\u001b[39m linalg\u001b[39m.\u001b[39;49mcsr_matrix([[\u001b[39m1\u001b[39m, \u001b[39m0\u001b[39m, \u001b[39m2\u001b[39m], [\u001b[39m0\u001b[39m, \u001b[39m3\u001b[39m, \u001b[39m0\u001b[39m], [\u001b[39m4\u001b[39m, \u001b[39m0\u001b[39m, \u001b[39m5\u001b[39m]])\n\u001b[0;32m      3\u001b[0m A_inv \u001b[39m=\u001b[39m sparse_linalg\u001b[39m.\u001b[39minv(A)\n\u001b[0;32m      4\u001b[0m \u001b[39mprint\u001b[39m(\u001b[39mf\u001b[39m\u001b[39m\"\u001b[39m\u001b[39mSparse Matrix A:\u001b[39m\u001b[39m\\n\u001b[39;00m\u001b[39m{\u001b[39;00mA\u001b[39m.\u001b[39mtoarray()\u001b[39m}\u001b[39;00m\u001b[39m\"\u001b[39m)\n",
      "\u001b[1;31mAttributeError\u001b[0m: module 'scipy.linalg' has no attribute 'csr_matrix'"
     ]
    }
   ],
   "source": [
    "# Example 17: Sparse Matrix Inversion\n",
    "A = linalg.csr_matrix([[1, 0, 2], [0, 3, 0], [4, 0, 5]])\n",
    "A_inv = sparse_linalg.inv(A)\n",
    "print(f\"Sparse Matrix A:\\n{A.toarray()}\")\n",
    "print(f\"Inverse of A:\\n{A_inv.toarray()}\")"
   ]
  },
  {
   "cell_type": "code",
   "execution_count": 21,
   "metadata": {},
   "outputs": [
    {
     "ename": "AttributeError",
     "evalue": "module 'scipy.linalg' has no attribute 'csr_matrix'",
     "output_type": "error",
     "traceback": [
      "\u001b[1;31m---------------------------------------------------------------------------\u001b[0m",
      "\u001b[1;31mAttributeError\u001b[0m                            Traceback (most recent call last)",
      "Cell \u001b[1;32mIn[21], line 2\u001b[0m\n\u001b[0;32m      1\u001b[0m \u001b[39m# Example 18: Sparse Matrix Determinant\u001b[39;00m\n\u001b[1;32m----> 2\u001b[0m A \u001b[39m=\u001b[39m linalg\u001b[39m.\u001b[39;49mcsr_matrix([[\u001b[39m1\u001b[39m, \u001b[39m0\u001b[39m, \u001b[39m2\u001b[39m], [\u001b[39m0\u001b[39m, \u001b[39m3\u001b[39m, \u001b[39m0\u001b[39m], [\u001b[39m4\u001b[39m, \u001b[39m0\u001b[39m, \u001b[39m5\u001b[39m]])\n\u001b[0;32m      3\u001b[0m det \u001b[39m=\u001b[39m sparse_linalg\u001b[39m.\u001b[39mdet(A)\n\u001b[0;32m      4\u001b[0m \u001b[39mprint\u001b[39m(\u001b[39mf\u001b[39m\u001b[39m\"\u001b[39m\u001b[39mSparse Matrix A:\u001b[39m\u001b[39m\\n\u001b[39;00m\u001b[39m{\u001b[39;00mA\u001b[39m.\u001b[39mtoarray()\u001b[39m}\u001b[39;00m\u001b[39m\"\u001b[39m)\n",
      "\u001b[1;31mAttributeError\u001b[0m: module 'scipy.linalg' has no attribute 'csr_matrix'"
     ]
    }
   ],
   "source": [
    "# Example 18: Sparse Matrix Determinant\n",
    "A = linalg.csr_matrix([[1, 0, 2], [0, 3, 0], [4, 0, 5]])\n",
    "det = sparse_linalg.det(A)\n",
    "print(f\"Sparse Matrix A:\\n{A.toarray()}\")\n",
    "print(f\"Determinant of A: {det}\")"
   ]
  },
  {
   "cell_type": "code",
   "execution_count": 22,
   "metadata": {},
   "outputs": [
    {
     "ename": "AttributeError",
     "evalue": "module 'scipy.linalg' has no attribute 'csr_matrix'",
     "output_type": "error",
     "traceback": [
      "\u001b[1;31m---------------------------------------------------------------------------\u001b[0m",
      "\u001b[1;31mAttributeError\u001b[0m                            Traceback (most recent call last)",
      "Cell \u001b[1;32mIn[22], line 2\u001b[0m\n\u001b[0;32m      1\u001b[0m \u001b[39m# Example 19: Sparse Matrix Eigenvectors and Eigenvalues\u001b[39;00m\n\u001b[1;32m----> 2\u001b[0m A \u001b[39m=\u001b[39m linalg\u001b[39m.\u001b[39;49mcsr_matrix([[\u001b[39m1\u001b[39m, \u001b[39m0\u001b[39m, \u001b[39m2\u001b[39m], [\u001b[39m0\u001b[39m, \u001b[39m3\u001b[39m, \u001b[39m0\u001b[39m], [\u001b[39m4\u001b[39m, \u001b[39m0\u001b[39m, \u001b[39m5\u001b[39m]])\n\u001b[0;32m      3\u001b[0m eigenvalues, eigenvectors \u001b[39m=\u001b[39m sparse_linalg\u001b[39m.\u001b[39meigs(A, k\u001b[39m=\u001b[39m\u001b[39m2\u001b[39m)\n\u001b[0;32m      4\u001b[0m \u001b[39mprint\u001b[39m(\u001b[39mf\u001b[39m\u001b[39m\"\u001b[39m\u001b[39mSparse Matrix A:\u001b[39m\u001b[39m\\n\u001b[39;00m\u001b[39m{\u001b[39;00mA\u001b[39m.\u001b[39mtoarray()\u001b[39m}\u001b[39;00m\u001b[39m\"\u001b[39m)\n",
      "\u001b[1;31mAttributeError\u001b[0m: module 'scipy.linalg' has no attribute 'csr_matrix'"
     ]
    }
   ],
   "source": [
    "# Example 19: Sparse Matrix Eigenvectors and Eigenvalues\n",
    "A = linalg.csr_matrix([[1, 0, 2], [0, 3, 0], [4, 0, 5]])\n",
    "eigenvalues, eigenvectors = sparse_linalg.eigs(A, k=2)\n",
    "print(f\"Sparse Matrix A:\\n{A.toarray()}\")\n",
    "print(f\"Eigenvalues:\\n{eigenvalues}\")\n",
    "print(f\"Eigenvectors:\\n{eigenvectors}\")"
   ]
  },
  {
   "cell_type": "code",
   "execution_count": 23,
   "metadata": {},
   "outputs": [
    {
     "ename": "AttributeError",
     "evalue": "module 'scipy.linalg' has no attribute 'csr_matrix'",
     "output_type": "error",
     "traceback": [
      "\u001b[1;31m---------------------------------------------------------------------------\u001b[0m",
      "\u001b[1;31mAttributeError\u001b[0m                            Traceback (most recent call last)",
      "Cell \u001b[1;32mIn[23], line 2\u001b[0m\n\u001b[0;32m      1\u001b[0m \u001b[39m# Example 20: Sparse Linear System Solver\u001b[39;00m\n\u001b[1;32m----> 2\u001b[0m A \u001b[39m=\u001b[39m linalg\u001b[39m.\u001b[39;49mcsr_matrix([[\u001b[39m1\u001b[39m, \u001b[39m0\u001b[39m, \u001b[39m2\u001b[39m], [\u001b[39m0\u001b[39m, \u001b[39m3\u001b[39m, \u001b[39m0\u001b[39m], [\u001b[39m4\u001b[39m, \u001b[39m0\u001b[39m, \u001b[39m5\u001b[39m]])\n\u001b[0;32m      3\u001b[0m b \u001b[39m=\u001b[39m np\u001b[39m.\u001b[39marray([\u001b[39m1\u001b[39m, \u001b[39m2\u001b[39m, \u001b[39m3\u001b[39m])\n\u001b[0;32m      4\u001b[0m x \u001b[39m=\u001b[39m sparse_linalg\u001b[39m.\u001b[39mspsolve(A, b)\n",
      "\u001b[1;31mAttributeError\u001b[0m: module 'scipy.linalg' has no attribute 'csr_matrix'"
     ]
    }
   ],
   "source": [
    "# Example 20: Sparse Linear System Solver\n",
    "A = linalg.csr_matrix([[1, 0, 2], [0, 3, 0], [4, 0, 5]])\n",
    "b = np.array([1, 2, 3])\n",
    "x = sparse_linalg.spsolve(A, b)\n",
    "print(f\"Sparse Matrix A:\\n{A.toarray()}\")\n",
    "print(f\"Vector b: {b}\")\n",
    "print(f\"Solutions of Ax = b: {x}\")"
   ]
  },
  {
   "cell_type": "code",
   "execution_count": 24,
   "metadata": {},
   "outputs": [
    {
     "ename": "AttributeError",
     "evalue": "module 'scipy.linalg' has no attribute 'spdiags'",
     "output_type": "error",
     "traceback": [
      "\u001b[1;31m---------------------------------------------------------------------------\u001b[0m",
      "\u001b[1;31mAttributeError\u001b[0m                            Traceback (most recent call last)",
      "Cell \u001b[1;32mIn[24], line 3\u001b[0m\n\u001b[0;32m      1\u001b[0m \u001b[39m# Example 21: Sparse Matrix Tridiagonal System Solver\u001b[39;00m\n\u001b[0;32m      2\u001b[0m diagonals \u001b[39m=\u001b[39m [[\u001b[39m1\u001b[39m, \u001b[39m2\u001b[39m, \u001b[39m3\u001b[39m], [\u001b[39m4\u001b[39m, \u001b[39m5\u001b[39m, \u001b[39m6\u001b[39m, \u001b[39m7\u001b[39m], [\u001b[39m8\u001b[39m, \u001b[39m9\u001b[39m, \u001b[39m10\u001b[39m]]\n\u001b[1;32m----> 3\u001b[0m A \u001b[39m=\u001b[39m linalg\u001b[39m.\u001b[39;49mspdiags(diagonals, [\u001b[39m-\u001b[39m\u001b[39m1\u001b[39m, \u001b[39m0\u001b[39m, \u001b[39m1\u001b[39m], \u001b[39m4\u001b[39m, \u001b[39m4\u001b[39m)\n\u001b[0;32m      4\u001b[0m b \u001b[39m=\u001b[39m np\u001b[39m.\u001b[39marray([\u001b[39m1\u001b[39m, \u001b[39m2\u001b[39m, \u001b[39m3\u001b[39m, \u001b[39m4\u001b[39m])\n\u001b[0;32m      5\u001b[0m x \u001b[39m=\u001b[39m sparse_linalg\u001b[39m.\u001b[39mspsolve(A, b)\n",
      "\u001b[1;31mAttributeError\u001b[0m: module 'scipy.linalg' has no attribute 'spdiags'"
     ]
    }
   ],
   "source": [
    "# Example 21: Sparse Matrix Tridiagonal System Solver\n",
    "diagonals = [[1, 2, 3], [4, 5, 6, 7], [8, 9, 10]]\n",
    "A = linalg.spdiags(diagonals, [-1, 0, 1], 4, 4)\n",
    "b = np.array([1, 2, 3, 4])\n",
    "x = sparse_linalg.spsolve(A, b)\n",
    "print(f\"Sparse Matrix A:\\n{A.toarray()}\")\n",
    "print(f\"Vector b: {b}\")\n",
    "print(f\"Solutions of Ax = b: {x}\")"
   ]
  },
  {
   "cell_type": "code",
   "execution_count": 25,
   "metadata": {},
   "outputs": [
    {
     "ename": "AttributeError",
     "evalue": "module 'scipy.linalg' has no attribute 'csr_matrix'",
     "output_type": "error",
     "traceback": [
      "\u001b[1;31m---------------------------------------------------------------------------\u001b[0m",
      "\u001b[1;31mAttributeError\u001b[0m                            Traceback (most recent call last)",
      "Cell \u001b[1;32mIn[25], line 2\u001b[0m\n\u001b[0;32m      1\u001b[0m \u001b[39m# Example 22: Iterative Linear Solver for Sparse Matrix\u001b[39;00m\n\u001b[1;32m----> 2\u001b[0m A \u001b[39m=\u001b[39m linalg\u001b[39m.\u001b[39;49mcsr_matrix([[\u001b[39m4\u001b[39m, \u001b[39m-\u001b[39m\u001b[39m1\u001b[39m, \u001b[39m0\u001b[39m], [\u001b[39m-\u001b[39m\u001b[39m1\u001b[39m, \u001b[39m4\u001b[39m, \u001b[39m-\u001b[39m\u001b[39m1\u001b[39m], [\u001b[39m0\u001b[39m, \u001b[39m-\u001b[39m\u001b[39m1\u001b[39m, \u001b[39m4\u001b[39m]])\n\u001b[0;32m      3\u001b[0m b \u001b[39m=\u001b[39m np\u001b[39m.\u001b[39marray([\u001b[39m3\u001b[39m, \u001b[39m4\u001b[39m, \u001b[39m3\u001b[39m])\n\u001b[0;32m      4\u001b[0m x, _ \u001b[39m=\u001b[39m sparse_linalg\u001b[39m.\u001b[39mcg(A, b)\n",
      "\u001b[1;31mAttributeError\u001b[0m: module 'scipy.linalg' has no attribute 'csr_matrix'"
     ]
    }
   ],
   "source": [
    "# Example 22: Iterative Linear Solver for Sparse Matrix\n",
    "A = linalg.csr_matrix([[4, -1, 0], [-1, 4, -1], [0, -1, 4]])\n",
    "b = np.array([3, 4, 3])\n",
    "x, _ = sparse_linalg.cg(A, b)\n",
    "print(f\"Sparse Matrix A:\\n{A.toarray()}\")\n",
    "print(f\"Vector b: {b}\")\n",
    "print(f\"Solutions of Ax = b using CG: {x}\")"
   ]
  },
  {
   "cell_type": "code",
   "execution_count": 26,
   "metadata": {},
   "outputs": [
    {
     "ename": "AttributeError",
     "evalue": "module 'scipy.linalg' has no attribute 'csr_matrix'",
     "output_type": "error",
     "traceback": [
      "\u001b[1;31m---------------------------------------------------------------------------\u001b[0m",
      "\u001b[1;31mAttributeError\u001b[0m                            Traceback (most recent call last)",
      "Cell \u001b[1;32mIn[26], line 2\u001b[0m\n\u001b[0;32m      1\u001b[0m \u001b[39m# Example 23: Iterative Linear Solver for Sparse Matrix (BiCGSTAB)\u001b[39;00m\n\u001b[1;32m----> 2\u001b[0m A \u001b[39m=\u001b[39m linalg\u001b[39m.\u001b[39;49mcsr_matrix([[\u001b[39m4\u001b[39m, \u001b[39m-\u001b[39m\u001b[39m1\u001b[39m, \u001b[39m0\u001b[39m], [\u001b[39m-\u001b[39m\u001b[39m1\u001b[39m, \u001b[39m4\u001b[39m, \u001b[39m-\u001b[39m\u001b[39m1\u001b[39m], [\u001b[39m0\u001b[39m, \u001b[39m-\u001b[39m\u001b[39m1\u001b[39m, \u001b[39m4\u001b[39m]])\n\u001b[0;32m      3\u001b[0m b \u001b[39m=\u001b[39m np\u001b[39m.\u001b[39marray([\u001b[39m3\u001b[39m, \u001b[39m4\u001b[39m, \u001b[39m3\u001b[39m])\n\u001b[0;32m      4\u001b[0m x, _ \u001b[39m=\u001b[39m sparse_linalg\u001b[39m.\u001b[39mbicgstab(A, b)\n",
      "\u001b[1;31mAttributeError\u001b[0m: module 'scipy.linalg' has no attribute 'csr_matrix'"
     ]
    }
   ],
   "source": [
    "# Example 23: Iterative Linear Solver for Sparse Matrix (BiCGSTAB)\n",
    "A = linalg.csr_matrix([[4, -1, 0], [-1, 4, -1], [0, -1, 4]])\n",
    "b = np.array([3, 4, 3])\n",
    "x, _ = sparse_linalg.bicgstab(A, b)\n",
    "print(f\"Sparse Matrix A:\\n{A.toarray()}\")\n",
    "print(f\"Vector b: {b}\")\n",
    "print(f\"Solutions of Ax = b using BiCGSTAB: {x}\")\n"
   ]
  },
  {
   "cell_type": "code",
   "execution_count": 27,
   "metadata": {},
   "outputs": [
    {
     "ename": "AttributeError",
     "evalue": "module 'scipy.linalg' has no attribute 'csr_matrix'",
     "output_type": "error",
     "traceback": [
      "\u001b[1;31m---------------------------------------------------------------------------\u001b[0m",
      "\u001b[1;31mAttributeError\u001b[0m                            Traceback (most recent call last)",
      "Cell \u001b[1;32mIn[27], line 2\u001b[0m\n\u001b[0;32m      1\u001b[0m \u001b[39m# Example 24: Iterative Linear Solver for Sparse Matrix (GMRES)\u001b[39;00m\n\u001b[1;32m----> 2\u001b[0m A \u001b[39m=\u001b[39m linalg\u001b[39m.\u001b[39;49mcsr_matrix([[\u001b[39m4\u001b[39m, \u001b[39m-\u001b[39m\u001b[39m1\u001b[39m, \u001b[39m0\u001b[39m], [\u001b[39m-\u001b[39m\u001b[39m1\u001b[39m, \u001b[39m4\u001b[39m, \u001b[39m-\u001b[39m\u001b[39m1\u001b[39m], [\u001b[39m0\u001b[39m, \u001b[39m-\u001b[39m\u001b[39m1\u001b[39m, \u001b[39m4\u001b[39m]])\n\u001b[0;32m      3\u001b[0m b \u001b[39m=\u001b[39m np\u001b[39m.\u001b[39marray([\u001b[39m3\u001b[39m, \u001b[39m4\u001b[39m, \u001b[39m3\u001b[39m])\n\u001b[0;32m      4\u001b[0m x, _ \u001b[39m=\u001b[39m sparse_linalg\u001b[39m.\u001b[39mgmres(A, b)\n",
      "\u001b[1;31mAttributeError\u001b[0m: module 'scipy.linalg' has no attribute 'csr_matrix'"
     ]
    }
   ],
   "source": [
    "# Example 24: Iterative Linear Solver for Sparse Matrix (GMRES)\n",
    "A = linalg.csr_matrix([[4, -1, 0], [-1, 4, -1], [0, -1, 4]])\n",
    "b = np.array([3, 4, 3])\n",
    "x, _ = sparse_linalg.gmres(A, b)\n",
    "print(f\"Sparse Matrix A:\\n{A.toarray()}\")\n",
    "print(f\"Vector b: {b}\")\n",
    "print(f\"Solutions of Ax = b using GMRES: {x}\")"
   ]
  },
  {
   "cell_type": "code",
   "execution_count": 30,
   "metadata": {},
   "outputs": [
    {
     "ename": "AttributeError",
     "evalue": "module 'scipy.linalg' has no attribute 'csr_matrix'",
     "output_type": "error",
     "traceback": [
      "\u001b[1;31m---------------------------------------------------------------------------\u001b[0m",
      "\u001b[1;31mAttributeError\u001b[0m                            Traceback (most recent call last)",
      "Cell \u001b[1;32mIn[30], line 2\u001b[0m\n\u001b[0;32m      1\u001b[0m \u001b[39m# Example 25: Iterative Linear Solver for Sparse Matrix (LGMRES)\u001b[39;00m\n\u001b[1;32m----> 2\u001b[0m A \u001b[39m=\u001b[39m linalg\u001b[39m.\u001b[39;49mcsr_matrix([[\u001b[39m4\u001b[39m, \u001b[39m-\u001b[39m\u001b[39m1\u001b[39m, \u001b[39m0\u001b[39m], [\u001b[39m-\u001b[39m\u001b[39m1\u001b[39m, \u001b[39m4\u001b[39m, \u001b[39m-\u001b[39m\u001b[39m1\u001b[39m], [\u001b[39m0\u001b[39m, \u001b[39m-\u001b[39m\u001b[39m1\u001b[39m, \u001b[39m4\u001b[39m]])\n\u001b[0;32m      3\u001b[0m b \u001b[39m=\u001b[39m np\u001b[39m.\u001b[39marray([\u001b[39m3\u001b[39m, \u001b[39m4\u001b[39m, \u001b[39m3\u001b[39m])\n\u001b[0;32m      4\u001b[0m x, _ \u001b[39m=\u001b[39m sparse_linalg\u001b[39m.\u001b[39mlgmres(A, b)\n",
      "\u001b[1;31mAttributeError\u001b[0m: module 'scipy.linalg' has no attribute 'csr_matrix'"
     ]
    }
   ],
   "source": [
    "# Example 25: Iterative Linear Solver for Sparse Matrix (LGMRES)\n",
    "A = linalg.csr_matrix([[4, -1, 0], [-1, 4, -1], [0, -1, 4]])\n",
    "b = np.array([3, 4, 3])\n",
    "x, _ = sparse_linalg.lgmres(A, b)\n",
    "print(f\"Sparse Matrix A:\\n{A.toarray()}\")\n",
    "print(f\"Vector b: {b}\")\n",
    "print(f\"Solutions of Ax = b using LGMRES: {x}\")"
   ]
  },
  {
   "cell_type": "code",
   "execution_count": 31,
   "metadata": {},
   "outputs": [
    {
     "name": "stdout",
     "output_type": "stream",
     "text": [
      "A:\n",
      "[[  4  12 -16]\n",
      " [ 12  37 -43]\n",
      " [-16 -43  98]]\n",
      "L (Cholesky Decomposition):\n",
      "[[ 2.  6. -8.]\n",
      " [ 0.  1.  5.]\n",
      " [ 0.  0.  3.]]\n"
     ]
    }
   ],
   "source": [
    "# Example 26: Cholesky Decomposition\n",
    "A = np.array([[4, 12, -16], [12, 37, -43], [-16, -43, 98]])\n",
    "L = linalg.cholesky(A)\n",
    "print(f\"A:\\n{A}\")\n",
    "print(f\"L (Cholesky Decomposition):\\n{L}\")"
   ]
  }
 ],
 "metadata": {
  "kernelspec": {
   "display_name": "Python 3",
   "language": "python",
   "name": "python3"
  },
  "language_info": {
   "codemirror_mode": {
    "name": "ipython",
    "version": 3
   },
   "file_extension": ".py",
   "mimetype": "text/x-python",
   "name": "python",
   "nbconvert_exporter": "python",
   "pygments_lexer": "ipython3",
   "version": "3.11.2"
  },
  "orig_nbformat": 4
 },
 "nbformat": 4,
 "nbformat_minor": 2
}
