{
 "cells": [
  {
   "cell_type": "code",
   "execution_count": 1,
   "metadata": {},
   "outputs": [],
   "source": [
    "import numpy as np\n",
    "import scipy.linalg as linalg\n",
    "import scipy.sparse.linalg as sparse_linalg"
   ]
  },
  {
   "cell_type": "code",
   "execution_count": 2,
   "metadata": {},
   "outputs": [
    {
     "name": "stdout",
     "output_type": "stream",
     "text": [
      "Inverse of A:\n",
      "[[-2.   1. ]\n",
      " [ 1.5 -0.5]]\n"
     ]
    }
   ],
   "source": [
    "# Example 1: Matrix Inversion using LU Decomposition\n",
    "A = np.array([[1, 2], [3, 4]])\n",
    "B = linalg.inv(A)\n",
    "print(f\"Inverse of A:\\n{B}\")"
   ]
  },
  {
   "cell_type": "code",
   "execution_count": 3,
   "metadata": {},
   "outputs": [
    {
     "name": "stdout",
     "output_type": "stream",
     "text": [
      "P:\n",
      "[[0. 1.]\n",
      " [1. 0.]]\n",
      "L:\n",
      "[[1.         0.        ]\n",
      " [0.33333333 1.        ]]\n",
      "U:\n",
      "[[3.         4.        ]\n",
      " [0.         0.66666667]]\n"
     ]
    }
   ],
   "source": [
    "# Example 2: LU Decomposition\n",
    "P, L, U = linalg.lu(A)\n",
    "print(f\"P:\\n{P}\")\n",
    "print(f\"L:\\n{L}\")\n",
    "print(f\"U:\\n{U}\")"
   ]
  },
  {
   "cell_type": "code",
   "execution_count": 4,
   "metadata": {},
   "outputs": [
    {
     "name": "stdout",
     "output_type": "stream",
     "text": [
      "Q:\n",
      "[[-0.31622777 -0.9486833 ]\n",
      " [-0.9486833   0.31622777]]\n",
      "R:\n",
      "[[-3.16227766 -4.42718872]\n",
      " [ 0.         -0.63245553]]\n"
     ]
    }
   ],
   "source": [
    "# Example 3: QR Decomposition\n",
    "Q, R = linalg.qr(A)\n",
    "print(f\"Q:\\n{Q}\")\n",
    "print(f\"R:\\n{R}\")"
   ]
  },
  {
   "cell_type": "code",
   "execution_count": 5,
   "metadata": {},
   "outputs": [
    {
     "name": "stdout",
     "output_type": "stream",
     "text": [
      "U:\n",
      "[[-0.21483724  0.88723069  0.40824829]\n",
      " [-0.52058739  0.24964395 -0.81649658]\n",
      " [-0.82633754 -0.38794278  0.40824829]]\n",
      "Singular Values:\n",
      "[1.68481034e+01 1.06836951e+00 4.41842475e-16]\n",
      "Vh:\n",
      "[[-0.47967118 -0.57236779 -0.66506441]\n",
      " [-0.77669099 -0.07568647  0.62531805]\n",
      " [-0.40824829  0.81649658 -0.40824829]]\n"
     ]
    }
   ],
   "source": [
    "# Example 4: Singular Value Decomposition (SVD)\n",
    "A = np.array([[1, 2, 3], [4, 5, 6], [7, 8, 9]])\n",
    "U, s, Vh = linalg.svd(A)\n",
    "print(f\"U:\\n{U}\")\n",
    "print(f\"Singular Values:\\n{s}\")\n",
    "print(f\"Vh:\\n{Vh}\")\n"
   ]
  },
  {
   "cell_type": "code",
   "execution_count": 6,
   "metadata": {},
   "outputs": [
    {
     "name": "stdout",
     "output_type": "stream",
     "text": [
      "x:\n",
      "[1. 2.]\n"
     ]
    }
   ],
   "source": [
    "# Example 5: Solving Linear System using LU Decomposition\n",
    "A = np.array([[1, 2], [3, 4]])\n",
    "b = np.array([5, 11])\n",
    "x = linalg.solve(A, b)\n",
    "print(f\"x:\\n{x}\")"
   ]
  }
 ],
 "metadata": {
  "kernelspec": {
   "display_name": "Python 3",
   "language": "python",
   "name": "python3"
  },
  "language_info": {
   "codemirror_mode": {
    "name": "ipython",
    "version": 3
   },
   "file_extension": ".py",
   "mimetype": "text/x-python",
   "name": "python",
   "nbconvert_exporter": "python",
   "pygments_lexer": "ipython3",
   "version": "3.11.2"
  },
  "orig_nbformat": 4
 },
 "nbformat": 4,
 "nbformat_minor": 2
}
