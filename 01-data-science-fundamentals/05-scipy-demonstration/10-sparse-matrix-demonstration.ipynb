{
 "cells": [
  {
   "cell_type": "code",
   "execution_count": 1,
   "metadata": {},
   "outputs": [],
   "source": [
    "import numpy as np\n",
    "import scipy.sparse as sp"
   ]
  },
  {
   "cell_type": "code",
   "execution_count": 2,
   "metadata": {},
   "outputs": [
    {
     "name": "stdout",
     "output_type": "stream",
     "text": [
      "Sparse Matrix:\n",
      "  (0, 0)\t1\n",
      "  (1, 2)\t2\n",
      "  (2, 0)\t3\n"
     ]
    }
   ],
   "source": [
    "# Example 1: Creating a Sparse Matrix from Dense Matrix\n",
    "dense_matrix = np.array([[1, 0, 0], [0, 0, 2], [3, 0, 0]])\n",
    "sparse_matrix = sp.csr_matrix(dense_matrix)\n",
    "print(\"Sparse Matrix:\")\n",
    "print(sparse_matrix)"
   ]
  },
  {
   "cell_type": "code",
   "execution_count": 3,
   "metadata": {},
   "outputs": [
    {
     "name": "stdout",
     "output_type": "stream",
     "text": [
      "Sparse Identity Matrix:\n",
      "  (0, 0)\t1.0\n",
      "  (1, 1)\t1.0\n",
      "  (2, 2)\t1.0\n",
      "  (3, 3)\t1.0\n",
      "  (4, 4)\t1.0\n"
     ]
    }
   ],
   "source": [
    "# Example 2: Creating a Sparse Identity Matrix\n",
    "sparse_identity = sp.eye(5)\n",
    "print(\"Sparse Identity Matrix:\")\n",
    "print(sparse_identity)"
   ]
  },
  {
   "cell_type": "code",
   "execution_count": 4,
   "metadata": {},
   "outputs": [
    {
     "name": "stdout",
     "output_type": "stream",
     "text": [
      "Sparse Diagonal Matrix:\n",
      "  (0, 0)\t1.0\n",
      "  (1, 1)\t2.0\n",
      "  (2, 2)\t3.0\n"
     ]
    }
   ],
   "source": [
    "# Example 3: Creating a Sparse Diagonal Matrix\n",
    "diagonal_values = [1, 2, 3]\n",
    "sparse_diagonal = sp.diags(diagonal_values, offsets=0)\n",
    "print(\"Sparse Diagonal Matrix:\")\n",
    "print(sparse_diagonal)"
   ]
  },
  {
   "cell_type": "code",
   "execution_count": 5,
   "metadata": {},
   "outputs": [
    {
     "name": "stdout",
     "output_type": "stream",
     "text": [
      "Random Sparse Matrix:\n",
      "  (0, 2)\t0.030561132272335922\n",
      "  (0, 3)\t0.8321202144737638\n",
      "  (1, 0)\t0.9656077711805837\n",
      "  (1, 2)\t0.36248466252781975\n",
      "  (2, 1)\t0.8093611016278587\n",
      "  (2, 4)\t0.017521326714104335\n",
      "  (3, 0)\t0.38924652239360624\n",
      "  (4, 3)\t0.8710197437755582\n"
     ]
    }
   ],
   "source": [
    "# Example 4: Creating a Sparse Random Matrix\n",
    "random_sparse = sp.random(5, 5, density=0.3, format='csr')\n",
    "print(\"Random Sparse Matrix:\")\n",
    "print(random_sparse)"
   ]
  },
  {
   "cell_type": "code",
   "execution_count": 6,
   "metadata": {},
   "outputs": [
    {
     "name": "stdout",
     "output_type": "stream",
     "text": [
      "Element at (2, 0): 3\n"
     ]
    }
   ],
   "source": [
    "# Example 5: Accessing Elements in a Sparse Matrix\n",
    "element = sparse_matrix[2, 0]\n",
    "print(\"Element at (2, 0):\", element)"
   ]
  },
  {
   "cell_type": "code",
   "execution_count": 7,
   "metadata": {},
   "outputs": [
    {
     "name": "stdout",
     "output_type": "stream",
     "text": [
      "Dense Matrix:\n",
      "[[1 0 0]\n",
      " [0 0 2]\n",
      " [3 0 0]]\n"
     ]
    }
   ],
   "source": [
    "# Example 6: Converting Sparse Matrix to Dense Matrix\n",
    "dense_matrix = sparse_matrix.toarray()\n",
    "print(\"Dense Matrix:\")\n",
    "print(dense_matrix)"
   ]
  },
  {
   "cell_type": "code",
   "execution_count": 8,
   "metadata": {},
   "outputs": [
    {
     "name": "stdout",
     "output_type": "stream",
     "text": [
      "Matrix A:\n",
      "[[0.         0.16680798 0.        ]\n",
      " [0.         0.78039846 0.        ]\n",
      " [0.29244626 0.         0.        ]]\n",
      "Matrix B:\n",
      "[[0.         0.67325909 0.        ]\n",
      " [0.68834436 0.         0.72358929]\n",
      " [0.         0.         0.        ]]\n",
      "Result of Matrix Multiplication:\n",
      "[[0.11482134 0.         0.12070047]\n",
      " [0.53718288 0.         0.56468797]\n",
      " [0.         0.19689211 0.        ]]\n"
     ]
    }
   ],
   "source": [
    "# Example 7: Matrix Multiplication with Sparse Matrices\n",
    "matrix_A = sp.random(3, 3, density=0.3, format='csr')\n",
    "matrix_B = sp.random(3, 3, density=0.3, format='csr')\n",
    "result = matrix_A.dot(matrix_B)\n",
    "print(\"Matrix A:\")\n",
    "print(matrix_A.toarray())\n",
    "print(\"Matrix B:\")\n",
    "print(matrix_B.toarray())\n",
    "print(\"Result of Matrix Multiplication:\")\n",
    "print(result.toarray())\n"
   ]
  },
  {
   "cell_type": "code",
   "execution_count": 9,
   "metadata": {},
   "outputs": [
    {
     "name": "stdout",
     "output_type": "stream",
     "text": [
      "Matrix C:\n",
      "[[0.         0.50042578 0.        ]\n",
      " [0.         0.25589401 0.        ]\n",
      " [0.02167808 0.         0.        ]]\n",
      "Result of Matrix Addition:\n",
      "[[0.         0.66723377 0.        ]\n",
      " [0.         1.03629247 0.        ]\n",
      " [0.31412434 0.         0.        ]]\n"
     ]
    }
   ],
   "source": [
    "# Example 8: Matrix Addition with Sparse Matrices\n",
    "matrix_C = sp.random(3, 3, density=0.3, format='csr')\n",
    "result_addition = matrix_A + matrix_C\n",
    "print(\"Matrix C:\")\n",
    "print(matrix_C.toarray())\n",
    "print(\"Result of Matrix Addition:\")\n",
    "print(result_addition.toarray())"
   ]
  },
  {
   "cell_type": "code",
   "execution_count": 10,
   "metadata": {},
   "outputs": [
    {
     "name": "stdout",
     "output_type": "stream",
     "text": [
      "Scalar Multiplication Result:\n",
      "[[0.         0.33361597 0.        ]\n",
      " [0.         1.56079692 0.        ]\n",
      " [0.58489253 0.         0.        ]]\n"
     ]
    }
   ],
   "source": [
    "# Example 9: Scalar Multiplication with Sparse Matrix\n",
    "scalar = 2\n",
    "result_scalar_mul = scalar * matrix_A\n",
    "print(\"Scalar Multiplication Result:\")\n",
    "print(result_scalar_mul.toarray())"
   ]
  },
  {
   "cell_type": "code",
   "execution_count": 11,
   "metadata": {},
   "outputs": [
    {
     "name": "stdout",
     "output_type": "stream",
     "text": [
      "Transpose of Matrix A:\n",
      "[[0.         0.         0.29244626]\n",
      " [0.16680798 0.78039846 0.        ]\n",
      " [0.         0.         0.        ]]\n"
     ]
    }
   ],
   "source": [
    "# Example 10: Transpose of Sparse Matrix\n",
    "result_transpose = matrix_A.T\n",
    "print(\"Transpose of Matrix A:\")\n",
    "print(result_transpose.toarray())"
   ]
  },
  {
   "cell_type": "code",
   "execution_count": 12,
   "metadata": {},
   "outputs": [
    {
     "name": "stdout",
     "output_type": "stream",
     "text": [
      "Matrix D:\n",
      "[[0.57792443 0.         0.        ]\n",
      " [0.09236912 0.40626038 0.        ]\n",
      " [0.         0.         0.        ]]\n",
      "Element-wise Matrix Multiplication Result:\n",
      "[[0.         0.         0.        ]\n",
      " [0.         0.31704497 0.        ]\n",
      " [0.         0.         0.        ]]\n"
     ]
    }
   ],
   "source": [
    "# Example 11: Element-wise Matrix Multiplication (Hadamard Product)\n",
    "matrix_D = sp.random(3, 3, density=0.3, format='csr')\n",
    "result_elementwise_mul = matrix_A.multiply(matrix_D)\n",
    "print(\"Matrix D:\")\n",
    "print(matrix_D.toarray())\n",
    "print(\"Element-wise Matrix Multiplication Result:\")\n",
    "print(result_elementwise_mul.toarray())"
   ]
  },
  {
   "cell_type": "code",
   "execution_count": 13,
   "metadata": {},
   "outputs": [
    {
     "name": "stdout",
     "output_type": "stream",
     "text": [
      "Non-zero Elements:\n",
      "(array([0, 1, 2]), array([1, 1, 0]))\n"
     ]
    }
   ],
   "source": [
    "# Example 12: Finding Non-zero Elements in Sparse Matrix\n",
    "nonzero_elements = matrix_A.nonzero()\n",
    "print(\"Non-zero Elements:\")\n",
    "print(nonzero_elements)"
   ]
  },
  {
   "cell_type": "code",
   "execution_count": 14,
   "metadata": {},
   "outputs": [
    {
     "name": "stdout",
     "output_type": "stream",
     "text": [
      "Sum of Elements: 1.239652708170106\n"
     ]
    }
   ],
   "source": [
    "# Example 13: Computing Sum of Elements in Sparse Matrix\n",
    "sum_elements = matrix_A.sum()\n",
    "print(\"Sum of Elements:\", sum_elements)"
   ]
  },
  {
   "cell_type": "code",
   "execution_count": 15,
   "metadata": {},
   "outputs": [
    {
     "name": "stdout",
     "output_type": "stream",
     "text": [
      "Number of Non-zero Elements: 3\n"
     ]
    }
   ],
   "source": [
    "# Example 14: Counting Non-zero Elements in Sparse Matrix\n",
    "count_nonzero = matrix_A.count_nonzero()\n",
    "print(\"Number of Non-zero Elements:\", count_nonzero)"
   ]
  },
  {
   "cell_type": "code",
   "execution_count": 16,
   "metadata": {},
   "outputs": [
    {
     "name": "stdout",
     "output_type": "stream",
     "text": [
      "Minimum Element: 0.0\n",
      "Maximum Element: 0.7803984609775805\n"
     ]
    }
   ],
   "source": [
    "# Example 15: Finding Minimum and Maximum Elements in Sparse Matrix\n",
    "min_element = matrix_A.min()\n",
    "max_element = matrix_A.max()\n",
    "print(\"Minimum Element:\", min_element)\n",
    "print(\"Maximum Element:\", max_element)"
   ]
  }
 ],
 "metadata": {
  "kernelspec": {
   "display_name": "Python 3",
   "language": "python",
   "name": "python3"
  },
  "language_info": {
   "codemirror_mode": {
    "name": "ipython",
    "version": 3
   },
   "file_extension": ".py",
   "mimetype": "text/x-python",
   "name": "python",
   "nbconvert_exporter": "python",
   "pygments_lexer": "ipython3",
   "version": "3.11.2"
  },
  "orig_nbformat": 4
 },
 "nbformat": 4,
 "nbformat_minor": 2
}
