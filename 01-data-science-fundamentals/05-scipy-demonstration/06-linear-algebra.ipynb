{
 "cells": [
  {
   "cell_type": "code",
   "execution_count": 1,
   "metadata": {},
   "outputs": [],
   "source": [
    "import numpy as np\n",
    "import matplotlib.pyplot as plt\n",
    "import scipy.linalg as la"
   ]
  },
  {
   "cell_type": "code",
   "execution_count": 2,
   "metadata": {},
   "outputs": [
    {
     "name": "stdout",
     "output_type": "stream",
     "text": [
      "Matrix Addition Result:\n",
      "[[ 6  8]\n",
      " [10 12]]\n"
     ]
    }
   ],
   "source": [
    "# Example 1: Matrix Addition\n",
    "A = np.array([[1, 2], [3, 4]])\n",
    "B = np.array([[5, 6], [7, 8]])\n",
    "result = A + B\n",
    "print(\"Matrix Addition Result:\")\n",
    "print(result)"
   ]
  },
  {
   "cell_type": "code",
   "execution_count": 3,
   "metadata": {},
   "outputs": [
    {
     "name": "stdout",
     "output_type": "stream",
     "text": [
      "Matrix Subtraction Result:\n",
      "[[-4 -4]\n",
      " [-4 -4]]\n"
     ]
    }
   ],
   "source": [
    "# Example 2: Matrix Subtraction\n",
    "result = A - B\n",
    "print(\"Matrix Subtraction Result:\")\n",
    "print(result)"
   ]
  },
  {
   "cell_type": "code",
   "execution_count": 4,
   "metadata": {},
   "outputs": [
    {
     "name": "stdout",
     "output_type": "stream",
     "text": [
      "Matrix Multiplication Result:\n",
      "[[19 22]\n",
      " [43 50]]\n"
     ]
    }
   ],
   "source": [
    "# Example 3: Matrix Multiplication\n",
    "result = np.dot(A, B)\n",
    "print(\"Matrix Multiplication Result:\")\n",
    "print(result)"
   ]
  },
  {
   "cell_type": "code",
   "execution_count": 5,
   "metadata": {},
   "outputs": [
    {
     "name": "stdout",
     "output_type": "stream",
     "text": [
      "Matrix Transpose:\n",
      "[[1 3]\n",
      " [2 4]]\n"
     ]
    }
   ],
   "source": [
    "# Example 4: Matrix Transpose\n",
    "result = A.T\n",
    "print(\"Matrix Transpose:\")\n",
    "print(result)"
   ]
  },
  {
   "cell_type": "code",
   "execution_count": 6,
   "metadata": {},
   "outputs": [
    {
     "name": "stdout",
     "output_type": "stream",
     "text": [
      "Determinant of Matrix A:\n",
      "-2.0\n"
     ]
    }
   ],
   "source": [
    "# Example 5: Matrix Determinant\n",
    "det_A = la.det(A)\n",
    "print(\"Determinant of Matrix A:\")\n",
    "print(det_A)"
   ]
  },
  {
   "cell_type": "code",
   "execution_count": 7,
   "metadata": {},
   "outputs": [
    {
     "name": "stdout",
     "output_type": "stream",
     "text": [
      "Inverse of Matrix A:\n",
      "[[-2.   1. ]\n",
      " [ 1.5 -0.5]]\n"
     ]
    }
   ],
   "source": [
    "# Example 6: Matrix Inversion\n",
    "A_inv = la.inv(A)\n",
    "print(\"Inverse of Matrix A:\")\n",
    "print(A_inv)"
   ]
  },
  {
   "cell_type": "code",
   "execution_count": 8,
   "metadata": {},
   "outputs": [
    {
     "ename": "AttributeError",
     "evalue": "module 'scipy.linalg' has no attribute 'matrix_rank'",
     "output_type": "error",
     "traceback": [
      "\u001b[1;31m---------------------------------------------------------------------------\u001b[0m",
      "\u001b[1;31mAttributeError\u001b[0m                            Traceback (most recent call last)",
      "Cell \u001b[1;32mIn[8], line 2\u001b[0m\n\u001b[0;32m      1\u001b[0m \u001b[39m# Example 7: Matrix Rank\u001b[39;00m\n\u001b[1;32m----> 2\u001b[0m rank_A \u001b[39m=\u001b[39m la\u001b[39m.\u001b[39;49mmatrix_rank(A)\n\u001b[0;32m      3\u001b[0m \u001b[39mprint\u001b[39m(\u001b[39m\"\u001b[39m\u001b[39mRank of Matrix A:\u001b[39m\u001b[39m\"\u001b[39m)\n\u001b[0;32m      4\u001b[0m \u001b[39mprint\u001b[39m(rank_A)\n",
      "\u001b[1;31mAttributeError\u001b[0m: module 'scipy.linalg' has no attribute 'matrix_rank'"
     ]
    }
   ],
   "source": [
    "# Example 7: Matrix Rank\n",
    "rank_A = la.matrix_rank(A)\n",
    "print(\"Rank of Matrix A:\")\n",
    "print(rank_A)"
   ]
  },
  {
   "cell_type": "code",
   "execution_count": 9,
   "metadata": {},
   "outputs": [
    {
     "name": "stdout",
     "output_type": "stream",
     "text": [
      "LU Decomposition - P:\n",
      "[[0. 1.]\n",
      " [1. 0.]]\n",
      "LU Decomposition - L:\n",
      "[[1.         0.        ]\n",
      " [0.33333333 1.        ]]\n",
      "LU Decomposition - U:\n",
      "[[3.         4.        ]\n",
      " [0.         0.66666667]]\n"
     ]
    }
   ],
   "source": [
    "# Example 8: LU Decomposition\n",
    "P, L, U = la.lu(A)\n",
    "print(\"LU Decomposition - P:\")\n",
    "print(P)\n",
    "print(\"LU Decomposition - L:\")\n",
    "print(L)\n",
    "print(\"LU Decomposition - U:\")\n",
    "print(U)"
   ]
  },
  {
   "cell_type": "code",
   "execution_count": 10,
   "metadata": {},
   "outputs": [
    {
     "name": "stdout",
     "output_type": "stream",
     "text": [
      "QR Decomposition - Q:\n",
      "[[-0.31622777 -0.9486833 ]\n",
      " [-0.9486833   0.31622777]]\n",
      "QR Decomposition - R:\n",
      "[[-3.16227766 -4.42718872]\n",
      " [ 0.         -0.63245553]]\n"
     ]
    }
   ],
   "source": [
    "# Example 9: QR Decomposition\n",
    "Q, R = la.qr(A)\n",
    "print(\"QR Decomposition - Q:\")\n",
    "print(Q)\n",
    "print(\"QR Decomposition - R:\")\n",
    "print(R)"
   ]
  },
  {
   "cell_type": "code",
   "execution_count": 11,
   "metadata": {},
   "outputs": [
    {
     "name": "stdout",
     "output_type": "stream",
     "text": [
      "Cholesky Decomposition:\n",
      "[[ 2.  6. -8.]\n",
      " [ 0.  1.  5.]\n",
      " [ 0.  0.  3.]]\n"
     ]
    }
   ],
   "source": [
    "# Example 10: Cholesky Decomposition\n",
    "A = np.array([[4, 12, -16], [12, 37, -43], [-16, -43, 98]])\n",
    "L = la.cholesky(A)\n",
    "print(\"Cholesky Decomposition:\")\n",
    "print(L)"
   ]
  },
  {
   "cell_type": "code",
   "execution_count": 12,
   "metadata": {},
   "outputs": [
    {
     "name": "stdout",
     "output_type": "stream",
     "text": [
      "Eigenvalues:\n",
      "[-0.23606798+0.j  4.23606798+0.j]\n",
      "Eigenvectors:\n",
      "[[-0.85065081 -0.52573111]\n",
      " [ 0.52573111 -0.85065081]]\n"
     ]
    }
   ],
   "source": [
    "# Example 11: Eigenvalues and Eigenvectors\n",
    "A = np.array([[1, 2], [2, 3]])\n",
    "eigenvalues, eigenvectors = la.eig(A)\n",
    "print(\"Eigenvalues:\")\n",
    "print(eigenvalues)\n",
    "print(\"Eigenvectors:\")\n",
    "print(eigenvectors)"
   ]
  },
  {
   "cell_type": "code",
   "execution_count": 13,
   "metadata": {},
   "outputs": [
    {
     "name": "stdout",
     "output_type": "stream",
     "text": [
      "Solution of Linear System:\n",
      "[1.4 2.2]\n"
     ]
    }
   ],
   "source": [
    "# Example 12: Solving a Linear System\n",
    "A = np.array([[2, 1], [1, 3]])\n",
    "b = np.array([5, 8])\n",
    "x = la.solve(A, b)\n",
    "print(\"Solution of Linear System:\")\n",
    "print(x)"
   ]
  },
  {
   "cell_type": "code",
   "execution_count": 14,
   "metadata": {},
   "outputs": [
    {
     "ename": "AttributeError",
     "evalue": "module 'scipy.linalg' has no attribute 'matrix_power'",
     "output_type": "error",
     "traceback": [
      "\u001b[1;31m---------------------------------------------------------------------------\u001b[0m",
      "\u001b[1;31mAttributeError\u001b[0m                            Traceback (most recent call last)",
      "Cell \u001b[1;32mIn[14], line 3\u001b[0m\n\u001b[0;32m      1\u001b[0m \u001b[39m# Example 13: Matrix Power\u001b[39;00m\n\u001b[0;32m      2\u001b[0m A \u001b[39m=\u001b[39m np\u001b[39m.\u001b[39marray([[\u001b[39m1\u001b[39m, \u001b[39m2\u001b[39m], [\u001b[39m2\u001b[39m, \u001b[39m3\u001b[39m]])\n\u001b[1;32m----> 3\u001b[0m A_power \u001b[39m=\u001b[39m la\u001b[39m.\u001b[39;49mmatrix_power(A, \u001b[39m3\u001b[39m)\n\u001b[0;32m      4\u001b[0m \u001b[39mprint\u001b[39m(\u001b[39m\"\u001b[39m\u001b[39mMatrix Power (A^3):\u001b[39m\u001b[39m\"\u001b[39m)\n\u001b[0;32m      5\u001b[0m \u001b[39mprint\u001b[39m(A_power)\n",
      "\u001b[1;31mAttributeError\u001b[0m: module 'scipy.linalg' has no attribute 'matrix_power'"
     ]
    }
   ],
   "source": [
    "# Example 13: Matrix Power\n",
    "A = np.array([[1, 2], [2, 3]])\n",
    "A_power = la.matrix_power(A, 3)\n",
    "print(\"Matrix Power (A^3):\")\n",
    "print(A_power)"
   ]
  },
  {
   "cell_type": "code",
   "execution_count": 15,
   "metadata": {},
   "outputs": [
    {
     "name": "stdout",
     "output_type": "stream",
     "text": [
      "SVD - U:\n",
      "[[-0.2298477   0.88346102  0.40824829]\n",
      " [-0.52474482  0.24078249 -0.81649658]\n",
      " [-0.81964194 -0.40189603  0.40824829]]\n",
      "SVD - S:\n",
      "[9.52551809 0.51430058]\n",
      "SVD - Vh:\n",
      "[[-0.61962948 -0.78489445]\n",
      " [-0.78489445  0.61962948]]\n"
     ]
    }
   ],
   "source": [
    "# Example 14: Singular Value Decomposition (SVD)\n",
    "A = np.array([[1, 2], [3, 4], [5, 6]])\n",
    "U, S, Vh = la.svd(A)\n",
    "print(\"SVD - U:\")\n",
    "print(U)\n",
    "print(\"SVD - S:\")\n",
    "print(S)\n",
    "print(\"SVD - Vh:\")\n",
    "print(Vh)"
   ]
  },
  {
   "cell_type": "code",
   "execution_count": 16,
   "metadata": {},
   "outputs": [
    {
     "name": "stdout",
     "output_type": "stream",
     "text": [
      "Moore-Penrose Pseudoinverse:\n",
      "[[-0.94444444  0.44444444]\n",
      " [-0.11111111  0.11111111]\n",
      " [ 0.72222222 -0.22222222]]\n"
     ]
    }
   ],
   "source": [
    "# Example 15: Moore-Penrose Pseudoinverse\n",
    "A = np.array([[1, 2, 3], [4, 5, 6]])\n",
    "A_pinv = la.pinv(A)\n",
    "print(\"Moore-Penrose Pseudoinverse:\")\n",
    "print(A_pinv)"
   ]
  },
  {
   "cell_type": "code",
   "execution_count": 17,
   "metadata": {},
   "outputs": [
    {
     "name": "stdout",
     "output_type": "stream",
     "text": [
      "Matrix Exponential:\n",
      "[[19.68002699 30.56514746]\n",
      " [30.56514746 50.24517445]]\n"
     ]
    }
   ],
   "source": [
    "# Example 16: Matrix Exponential\n",
    "A = np.array([[1, 2], [2, 3]])\n",
    "A_exp = la.expm(A)\n",
    "print(\"Matrix Exponential:\")\n",
    "print(A_exp)"
   ]
  },
  {
   "cell_type": "code",
   "execution_count": 18,
   "metadata": {},
   "outputs": [
    {
     "name": "stdout",
     "output_type": "stream",
     "text": [
      "Kronecker Product:\n",
      "[[ 0  5  0 10]\n",
      " [ 6  7 12 14]\n",
      " [ 0 15  0 20]\n",
      " [18 21 24 28]]\n"
     ]
    }
   ],
   "source": [
    "# Example 17: Kronecker Product\n",
    "A = np.array([[1, 2], [3, 4]])\n",
    "B = np.array([[0, 5], [6, 7]])\n",
    "kronecker_product = np.kron(A, B)\n",
    "print(\"Kronecker Product:\")\n",
    "print(kronecker_product)"
   ]
  },
  {
   "cell_type": "code",
   "execution_count": 19,
   "metadata": {},
   "outputs": [
    {
     "name": "stdout",
     "output_type": "stream",
     "text": [
      "Block Diagonal Matrix:\n",
      "[[1 2 0 0]\n",
      " [3 4 0 0]\n",
      " [0 0 5 6]\n",
      " [0 0 7 8]]\n"
     ]
    }
   ],
   "source": [
    "# Example 18: Block Diagonal Matrix\n",
    "A = np.array([[1, 2], [3, 4]])\n",
    "B = np.array([[5, 6], [7, 8]])\n",
    "block_diag_matrix = la.block_diag(A, B)\n",
    "print(\"Block Diagonal Matrix:\")\n",
    "print(block_diag_matrix)"
   ]
  },
  {
   "cell_type": "code",
   "execution_count": 20,
   "metadata": {},
   "outputs": [
    {
     "name": "stdout",
     "output_type": "stream",
     "text": [
      "Trace of Matrix A:\n",
      "15\n"
     ]
    }
   ],
   "source": [
    "# Example 19: Trace of a Matrix\n",
    "A = np.array([[1, 2, 3], [4, 5, 6], [7, 8, 9]])\n",
    "trace_A = np.trace(A)\n",
    "print(\"Trace of Matrix A:\")\n",
    "print(trace_A)"
   ]
  },
  {
   "cell_type": "code",
   "execution_count": 21,
   "metadata": {},
   "outputs": [
    {
     "ename": "LinAlgError",
     "evalue": "1-th leading minor not positive definite",
     "output_type": "error",
     "traceback": [
      "\u001b[1;31m---------------------------------------------------------------------------\u001b[0m",
      "\u001b[1;31mLinAlgError\u001b[0m                               Traceback (most recent call last)",
      "Cell \u001b[1;32mIn[21], line 3\u001b[0m\n\u001b[0;32m      1\u001b[0m \u001b[39m# Example 20: Symmetric Positive Definite Matrix\u001b[39;00m\n\u001b[0;32m      2\u001b[0m A \u001b[39m=\u001b[39m np\u001b[39m.\u001b[39marray([[\u001b[39m5\u001b[39m, \u001b[39m-\u001b[39m\u001b[39m1\u001b[39m], [\u001b[39m-\u001b[39m\u001b[39m1\u001b[39m, \u001b[39m2\u001b[39m]])\n\u001b[1;32m----> 3\u001b[0m is_spd \u001b[39m=\u001b[39m la\u001b[39m.\u001b[39;49mcholesky_banded(A)\n\u001b[0;32m      4\u001b[0m \u001b[39mprint\u001b[39m(\u001b[39m\"\u001b[39m\u001b[39mIs A Symmetric Positive Definite?\u001b[39m\u001b[39m\"\u001b[39m)\n\u001b[0;32m      5\u001b[0m \u001b[39mprint\u001b[39m(is_spd)\n",
      "File \u001b[1;32m~\\AppData\\Roaming\\Python\\Python311\\site-packages\\scipy\\linalg\\_decomp_cholesky.py:286\u001b[0m, in \u001b[0;36mcholesky_banded\u001b[1;34m(ab, overwrite_ab, lower, check_finite)\u001b[0m\n\u001b[0;32m    284\u001b[0m c, info \u001b[39m=\u001b[39m pbtrf(ab, lower\u001b[39m=\u001b[39mlower, overwrite_ab\u001b[39m=\u001b[39moverwrite_ab)\n\u001b[0;32m    285\u001b[0m \u001b[39mif\u001b[39;00m info \u001b[39m>\u001b[39m \u001b[39m0\u001b[39m:\n\u001b[1;32m--> 286\u001b[0m     \u001b[39mraise\u001b[39;00m LinAlgError(\u001b[39m\"\u001b[39m\u001b[39m%d\u001b[39;00m\u001b[39m-th leading minor not positive definite\u001b[39m\u001b[39m\"\u001b[39m \u001b[39m%\u001b[39m info)\n\u001b[0;32m    287\u001b[0m \u001b[39mif\u001b[39;00m info \u001b[39m<\u001b[39m \u001b[39m0\u001b[39m:\n\u001b[0;32m    288\u001b[0m     \u001b[39mraise\u001b[39;00m \u001b[39mValueError\u001b[39;00m(\u001b[39m'\u001b[39m\u001b[39millegal value in \u001b[39m\u001b[39m%d\u001b[39;00m\u001b[39m-th argument of internal pbtrf\u001b[39m\u001b[39m'\u001b[39m\n\u001b[0;32m    289\u001b[0m                      \u001b[39m%\u001b[39m \u001b[39m-\u001b[39minfo)\n",
      "\u001b[1;31mLinAlgError\u001b[0m: 1-th leading minor not positive definite"
     ]
    }
   ],
   "source": [
    "# Example 20: Symmetric Positive Definite Matrix\n",
    "A = np.array([[5, -1], [-1, 2]])\n",
    "is_spd = la.cholesky_banded(A)\n",
    "print(\"Is A Symmetric Positive Definite?\")\n",
    "print(is_spd)"
   ]
  },
  {
   "cell_type": "code",
   "execution_count": 22,
   "metadata": {},
   "outputs": [
    {
     "ename": "AttributeError",
     "evalue": "module 'scipy.linalg' has no attribute 'cond'",
     "output_type": "error",
     "traceback": [
      "\u001b[1;31m---------------------------------------------------------------------------\u001b[0m",
      "\u001b[1;31mAttributeError\u001b[0m                            Traceback (most recent call last)",
      "Cell \u001b[1;32mIn[22], line 3\u001b[0m\n\u001b[0;32m      1\u001b[0m \u001b[39m# Example 21: Matrix Condition Number\u001b[39;00m\n\u001b[0;32m      2\u001b[0m A \u001b[39m=\u001b[39m np\u001b[39m.\u001b[39marray([[\u001b[39m1\u001b[39m, \u001b[39m2\u001b[39m], [\u001b[39m3\u001b[39m, \u001b[39m4\u001b[39m]])\n\u001b[1;32m----> 3\u001b[0m cond_num_A \u001b[39m=\u001b[39m la\u001b[39m.\u001b[39;49mcond(A)\n\u001b[0;32m      4\u001b[0m \u001b[39mprint\u001b[39m(\u001b[39m\"\u001b[39m\u001b[39mCondition Number of Matrix A:\u001b[39m\u001b[39m\"\u001b[39m)\n\u001b[0;32m      5\u001b[0m \u001b[39mprint\u001b[39m(cond_num_A)\n",
      "\u001b[1;31mAttributeError\u001b[0m: module 'scipy.linalg' has no attribute 'cond'"
     ]
    }
   ],
   "source": [
    "# Example 21: Matrix Condition Number\n",
    "A = np.array([[1, 2], [3, 4]])\n",
    "cond_num_A = la.cond(A)\n",
    "print(\"Condition Number of Matrix A:\")\n",
    "print(cond_num_A)"
   ]
  },
  {
   "cell_type": "code",
   "execution_count": 23,
   "metadata": {},
   "outputs": [
    {
     "name": "stdout",
     "output_type": "stream",
     "text": [
      "Generalized Eigenvalues:\n",
      "[-0.13745861+0.j  3.63745861+0.j]\n",
      "Generalized Eigenvectors:\n",
      "[[ 0.84324302  0.3036773 ]\n",
      " [-0.53753252  0.95277495]]\n"
     ]
    }
   ],
   "source": [
    "# Example 22: Generalized Eigenvalues\n",
    "A = np.array([[1, 2], [2, 3]])\n",
    "B = np.array([[2, 0], [0, 1]])\n",
    "eigenvalues, eigenvectors = la.eig(A, B)\n",
    "print(\"Generalized Eigenvalues:\")\n",
    "print(eigenvalues)\n",
    "print(\"Generalized Eigenvectors:\")\n",
    "print(eigenvectors)"
   ]
  }
 ],
 "metadata": {
  "kernelspec": {
   "display_name": "Python 3",
   "language": "python",
   "name": "python3"
  },
  "language_info": {
   "codemirror_mode": {
    "name": "ipython",
    "version": 3
   },
   "file_extension": ".py",
   "mimetype": "text/x-python",
   "name": "python",
   "nbconvert_exporter": "python",
   "pygments_lexer": "ipython3",
   "version": "3.11.2"
  },
  "orig_nbformat": 4
 },
 "nbformat": 4,
 "nbformat_minor": 2
}
