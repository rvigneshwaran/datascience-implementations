{
 "cells": [
  {
   "cell_type": "code",
   "execution_count": 1,
   "metadata": {},
   "outputs": [],
   "source": [
    "# Import necessary libraries\n",
    "import numpy as np\n",
    "import scipy.integrate as spi\n",
    "import matplotlib.pyplot as plt"
   ]
  },
  {
   "cell_type": "code",
   "execution_count": 2,
   "metadata": {},
   "outputs": [
    {
     "name": "stdout",
     "output_type": "stream",
     "text": [
      "Example 1: Result of integration: 41.66666666666666\n"
     ]
    }
   ],
   "source": [
    "# Example 1: Numerical Integration using quad\n",
    "# Integrate a function f(x) = x^2 from 0 to 5\n",
    "result, error = spi.quad(lambda x: x**2, 0, 5)\n",
    "print(\"Example 1: Result of integration:\", result)"
   ]
  },
  {
   "cell_type": "code",
   "execution_count": 3,
   "metadata": {},
   "outputs": [
    {
     "name": "stdout",
     "output_type": "stream",
     "text": [
      "Example 2: Result of double integral: 3.0\n"
     ]
    }
   ],
   "source": [
    "# Example 2: Double Integral using dblquad\n",
    "# Integrate f(x, y) = x + y from x=0 to x=2 and y=0 to y=1\n",
    "result, error = spi.dblquad(lambda x, y: x + y, 0, 2, lambda x: 0, lambda x: 1)\n",
    "print(\"Example 2: Result of double integral:\", result)"
   ]
  },
  {
   "cell_type": "code",
   "execution_count": 4,
   "metadata": {},
   "outputs": [
    {
     "name": "stdout",
     "output_type": "stream",
     "text": [
      "Example 3: Result of triple integral: 28.0\n"
     ]
    }
   ],
   "source": [
    "# Example 3: Triple Integral using tplquad\n",
    "# Integrate f(x, y, z) = x^2 + y^2 + z^2 from x=0 to x=1, y=0 to y=2, and z=0 to z=3\n",
    "result, error = spi.tplquad(lambda x, y, z: x**2 + y**2 + z**2, 0, 1, lambda x: 0, lambda x: 2, lambda x, y: 0, lambda x, y: 3)\n",
    "print(\"Example 3: Result of triple integral:\", result)"
   ]
  },
  {
   "cell_type": "code",
   "execution_count": 5,
   "metadata": {},
   "outputs": [
    {
     "name": "stdout",
     "output_type": "stream",
     "text": [
      "Example 4: Result of integration with extra arguments: 120.83333333333334\n"
     ]
    }
   ],
   "source": [
    "# Example 4: Numerical Integration with extra arguments\n",
    "# Integrate a function f(x, a, b) = a * x^2 + b*x from 0 to 5 with a=2 and b=3\n",
    "result, error = spi.quad(lambda x, a, b: a * x**2 + b*x, 0, 5, args=(2, 3))\n",
    "print(\"Example 4: Result of integration with extra arguments:\", result)"
   ]
  },
  {
   "cell_type": "code",
   "execution_count": 6,
   "metadata": {},
   "outputs": [
    {
     "name": "stdout",
     "output_type": "stream",
     "text": [
      "Example 5: Result of adaptive integration: 3.7919472357113793\n"
     ]
    },
    {
     "name": "stderr",
     "output_type": "stream",
     "text": [
      "C:\\Users\\rvign\\AppData\\Local\\Temp\\ipykernel_15236\\2207666287.py:3: IntegrationWarning: The integral is probably divergent, or slowly convergent.\n",
      "  result, error = spi.quad(lambda x: np.sin(x) / x, -np.inf, np.inf, limit=100)\n"
     ]
    }
   ],
   "source": [
    "# Example 5: Adaptive Integration using quad with limit\n",
    "# Integrate a function f(x) = sin(x)/x from -inf to inf\n",
    "result, error = spi.quad(lambda x: np.sin(x) / x, -np.inf, np.inf, limit=100)\n",
    "print(\"Example 5: Result of adaptive integration:\", result)"
   ]
  },
  {
   "cell_type": "code",
   "execution_count": 7,
   "metadata": {},
   "outputs": [
    {
     "name": "stdout",
     "output_type": "stream",
     "text": [
      "Example 6: Result of integration with singularity: 1.9999999999999984\n"
     ]
    }
   ],
   "source": [
    "# Example 6: Numerical Integration with Singularities\n",
    "# Integrate a function f(x) = 1 / sqrt(x) from 0 to 1\n",
    "result, error = spi.quad(lambda x: 1 / np.sqrt(x), 0, 1)\n",
    "print(\"Example 6: Result of integration with singularity:\", result)"
   ]
  },
  {
   "cell_type": "code",
   "execution_count": 8,
   "metadata": {},
   "outputs": [
    {
     "name": "stdout",
     "output_type": "stream",
     "text": [
      "Example 7: Result of Gaussian quadrature: (297.0833333333332, None)\n"
     ]
    }
   ],
   "source": [
    "# Example 7: Gaussian Quadrature\n",
    "# Integrate a function f(x) = x^3 + 2x^2 + 3x + 4 using Gaussian quadrature\n",
    "coefficients = [1, 2, 3, 4]\n",
    "result = spi.fixed_quad(lambda x: np.polyval(coefficients, x), 0, 5, n=5)\n",
    "print(\"Example 7: Result of Gaussian quadrature:\", result)"
   ]
  },
  {
   "cell_type": "code",
   "execution_count": 9,
   "metadata": {},
   "outputs": [
    {
     "name": "stdout",
     "output_type": "stream",
     "text": [
      "Example 8: Result of Romberg integration: 2.000000000001321\n"
     ]
    }
   ],
   "source": [
    "# Example 8: Romberg Integration\n",
    "# Integrate a function f(x) = sin(x) from 0 to pi using Romberg integration\n",
    "result = spi.romberg(np.sin, 0, np.pi)\n",
    "print(\"Example 8: Result of Romberg integration:\", result)"
   ]
  },
  {
   "cell_type": "code",
   "execution_count": 10,
   "metadata": {},
   "outputs": [
    {
     "name": "stdout",
     "output_type": "stream",
     "text": [
      "Example 9: Solution of the ODE: [[1.00000000e+00]\n",
      " [9.03923930e-01]\n",
      " [8.17078438e-01]\n",
      " [7.38576695e-01]\n",
      " [6.67617161e-01]\n",
      " [6.03475107e-01]\n",
      " [5.45495582e-01]\n",
      " [4.93086496e-01]\n",
      " [4.45712671e-01]\n",
      " [4.02890341e-01]\n",
      " [3.64182218e-01]\n",
      " [3.29192998e-01]\n",
      " [2.97565412e-01]\n",
      " [2.68976488e-01]\n",
      " [2.43134276e-01]\n",
      " [2.19774882e-01]\n",
      " [1.98659768e-01]\n",
      " [1.79573312e-01]\n",
      " [1.62320605e-01]\n",
      " [1.46725473e-01]\n",
      " [1.32628659e-01]\n",
      " [1.19886213e-01]\n",
      " [1.08368012e-01]\n",
      " [9.79564347e-02]\n",
      " [8.85451611e-02]\n",
      " [8.00380867e-02]\n",
      " [7.23483383e-02]\n",
      " [6.53973910e-02]\n",
      " [5.91142638e-02]\n",
      " [5.34347933e-02]\n",
      " [4.83009892e-02]\n",
      " [4.36604225e-02]\n",
      " [3.94657014e-02]\n",
      " [3.56739919e-02]\n",
      " [3.22465739e-02]\n",
      " [2.91484488e-02]\n",
      " [2.63479802e-02]\n",
      " [2.38165690e-02]\n",
      " [2.15283657e-02]\n",
      " [1.94600044e-02]\n",
      " [1.75903635e-02]\n",
      " [1.59003502e-02]\n",
      " [1.43727067e-02]\n",
      " [1.29918333e-02]\n",
      " [1.17436288e-02]\n",
      " [1.06153470e-02]\n",
      " [9.59546599e-03]\n",
      " [8.67357115e-03]\n",
      " [7.84024833e-03]\n",
      " [7.08698799e-03]\n",
      " [6.40609791e-03]\n",
      " [5.79062510e-03]\n",
      " [5.23428448e-03]\n",
      " [4.73139492e-03]\n",
      " [4.27682099e-03]\n",
      " [3.86592079e-03]\n",
      " [3.49449823e-03]\n",
      " [3.15876053e-03]\n",
      " [2.85527918e-03]\n",
      " [2.58095539e-03]\n",
      " [2.33298749e-03]\n",
      " [2.10884312e-03]\n",
      " [1.90623362e-03]\n",
      " [1.72308982e-03]\n",
      " [1.55754148e-03]\n",
      " [1.40789885e-03]\n",
      " [1.27263306e-03]\n",
      " [1.15036339e-03]\n",
      " [1.03984076e-03]\n",
      " [9.39936795e-04]\n",
      " [8.49631240e-04]\n",
      " [7.68001799e-04]\n",
      " [6.94215198e-04]\n",
      " [6.27517564e-04]\n",
      " [5.67228093e-04]\n",
      " [5.12730665e-04]\n",
      " [4.63469351e-04]\n",
      " [4.18940994e-04]\n",
      " [3.78690656e-04]\n",
      " [3.42307615e-04]\n",
      " [3.09419930e-04]\n",
      " [2.79692049e-04]\n",
      " [2.52820276e-04]\n",
      " [2.28530169e-04]\n",
      " [2.06573928e-04]\n",
      " [1.86727070e-04]\n",
      " [1.68787074e-04]\n",
      " [1.52570644e-04]\n",
      " [1.37912185e-04]\n",
      " [1.24662130e-04]\n",
      " [1.12685034e-04]\n",
      " [1.01858683e-04]\n",
      " [9.20723018e-05]\n",
      " [8.32260259e-05]\n",
      " [7.52299712e-05]\n",
      " [6.80024402e-05]\n",
      " [6.14694625e-05]\n",
      " [5.55639562e-05]\n",
      " [5.02259388e-05]\n",
      " [4.54009278e-05]]\n"
     ]
    }
   ],
   "source": [
    "# Example 9: Numerical ODE Integration\n",
    "# Solve the differential equation y' = -2y with initial condition y(0) = 1\n",
    "def dydt(y, t):\n",
    "    return -2*y\n",
    "\n",
    "time_points = np.linspace(0, 5, 100)\n",
    "initial_condition = 1\n",
    "solution = spi.odeint(dydt, initial_condition, time_points)\n",
    "print(\"Example 9: Solution of the ODE:\", solution)"
   ]
  },
  {
   "cell_type": "code",
   "execution_count": 11,
   "metadata": {},
   "outputs": [
    {
     "name": "stdout",
     "output_type": "stream",
     "text": [
      "Example 10: Solution of the heat equation: [[ 0.00000000e+00  3.17279335e-02  6.34239197e-02 ...  6.34239197e-02\n",
      "   3.17279335e-02  1.22464680e-16]\n",
      " [-8.16839145e-07  3.17263103e-02  6.34206901e-02 ...  6.34206901e-02\n",
      "   3.17263103e-02 -8.16839145e-07]\n",
      " [-1.65376170e-06  3.17246671e-02  6.34174505e-02 ...  6.34174505e-02\n",
      "   3.17246671e-02 -1.65376170e-06]\n",
      " ...\n",
      " [-1.49383561e-04  3.15005270e-02  6.30667478e-02 ...  6.30667478e-02\n",
      "   3.15005270e-02 -1.49383561e-04]\n",
      " [-1.51501839e-04  3.14976064e-02  6.30626421e-02 ...  6.30626421e-02\n",
      "   3.14976064e-02 -1.51501839e-04]\n",
      " [-1.53629758e-04  3.14946762e-02  6.30585285e-02 ...  6.30585285e-02\n",
      "   3.14946762e-02 -1.53629758e-04]]\n"
     ]
    }
   ],
   "source": [
    "# Example 10: Numerical PDE Integration (Heat Equation)\n",
    "# Solve the heat equation u_t = u_xx with initial condition u(x, 0) = sin(pi*x)\n",
    "def heat_eq(u, t):\n",
    "    return np.gradient(np.gradient(u))\n",
    "\n",
    "x_points = np.linspace(0, 1, 100)\n",
    "initial_condition = np.sin(np.pi * x_points)\n",
    "solution = spi.odeint(heat_eq, initial_condition, time_points)\n",
    "print(\"Example 10: Solution of the heat equation:\", solution)"
   ]
  },
  {
   "cell_type": "code",
   "execution_count": 12,
   "metadata": {},
   "outputs": [],
   "source": [
    "# Example 11: Numerical Integration for Game of Thrones Battles\n",
    "# Integrate the power of each house over time for a given battle\n",
    "def power_vs_time(t, powers, power_increase_rate):\n",
    "    return powers * np.exp(power_increase_rate * t)\n",
    "\n",
    "# Define the initial power of each house and the power increase rate during the battle\n",
    "initial_powers = np.array([1000, 800, 1200])\n",
    "power_increase_rate = 0.05"
   ]
  },
  {
   "cell_type": "code",
   "execution_count": 13,
   "metadata": {},
   "outputs": [
    {
     "name": "stderr",
     "output_type": "stream",
     "text": [
      "C:\\Users\\rvign\\AppData\\Local\\Temp\\ipykernel_15236\\1023587570.py:4: RuntimeWarning: overflow encountered in exp\n",
      "  return powers * np.exp(power_increase_rate * t)\n",
      "C:\\Users\\rvign\\AppData\\Roaming\\Python\\Python311\\site-packages\\scipy\\integrate\\_odepack_py.py:248: ODEintWarning: Repeated convergence failures (perhaps bad Jacobian or tolerances). Run with full_output = 1 to get quantitative information.\n",
      "  warnings.warn(warning_msg, ODEintWarning)\n"
     ]
    },
    {
     "data": {
      "image/png": "[encoded data removed]",
      "text/plain": [
       "<Figure size 1000x600 with 1 Axes>"
      ]
     },
     "metadata": {},
     "output_type": "display_data"
    }
   ],
   "source": [
    "# Integrate the power vs time using odeint for a battle that lasts 5 hours\n",
    "battle_time_points = np.linspace(0, 5, 100)\n",
    "battle_power = spi.odeint(power_vs_time, initial_powers, battle_time_points, args=(power_increase_rate,))\n",
    "\n",
    "# Plot the power vs time for each house during the battle\n",
    "plt.figure(figsize=(10, 6))\n",
    "for i in range(len(initial_powers)):\n",
    "    plt.plot(battle_time_points, battle_power[:, i], label=f'House {i+1}')\n",
    "\n",
    "plt.xlabel('Time (hours)')\n",
    "plt.ylabel('Power')\n",
    "plt.title('Power vs Time for Each House during the Battle')\n",
    "plt.legend()\n",
    "plt.grid(True)\n",
    "plt.show()\n"
   ]
  },
  {
   "cell_type": "code",
   "execution_count": 14,
   "metadata": {},
   "outputs": [
    {
     "name": "stdout",
     "output_type": "stream",
     "text": [
      "Example 12: Result of integration for custom scenario: 26.666666666666664\n"
     ]
    }
   ],
   "source": [
    "# Example 12: Numerical Integration for Custom Scenario\n",
    "# Define a custom function f(x) = 2x^3 + 4x^2 + 3x + 1\n",
    "custom_function = lambda x: 2*x**3 + 4*x**2 + 3*x + 1\n",
    "\n",
    "# Integrate the custom function from 0 to 2\n",
    "result, error = spi.quad(custom_function, 0, 2)\n",
    "print(\"Example 12: Result of integration for custom scenario:\", result)"
   ]
  },
  {
   "cell_type": "code",
   "execution_count": 15,
   "metadata": {},
   "outputs": [
    {
     "name": "stdout",
     "output_type": "stream",
     "text": [
      "Example 13: Result of integration with infinite limits: 1.0000000000000002\n"
     ]
    }
   ],
   "source": [
    "# Example 13: Numerical Integration with Infinite Limits\n",
    "# Integrate the function f(x) = e^(-x) from 0 to infinity\n",
    "result, error = spi.quad(lambda x: np.exp(-x), 0, np.inf)\n",
    "print(\"Example 13: Result of integration with infinite limits:\", result)\n"
   ]
  },
  {
   "cell_type": "code",
   "execution_count": 16,
   "metadata": {},
   "outputs": [
    {
     "name": "stdout",
     "output_type": "stream",
     "text": [
      "Example 14: Result of double integral with singularity: 1.3862943611198908\n"
     ]
    }
   ],
   "source": [
    "# Example 14: Numerical Integration with Singularities in 2D\n",
    "# Integrate the function f(x, y) = 1 / (x + y) from 0 to 1 for x and y\n",
    "result, error = spi.dblquad(lambda x, y: 1 / (x + y), 0, 1, lambda x: 0, lambda x: 1)\n",
    "print(\"Example 14: Result of double integral with singularity:\", result)"
   ]
  },
  {
   "cell_type": "code",
   "execution_count": 17,
   "metadata": {},
   "outputs": [
    {
     "name": "stdout",
     "output_type": "stream",
     "text": [
      "Example 15: Result of financial modeling: 12974.425414002562\n"
     ]
    }
   ],
   "source": [
    "# Example 15: Numerical Integration for Financial Modeling\n",
    "# Integrate the function f(t) = 1000 * e^(0.05*t) representing the account balance over time\n",
    "def account_balance(t):\n",
    "    return 1000 * np.exp(0.05 * t)\n",
    "\n",
    "# Integrate the account balance over 10 years\n",
    "time_points = np.linspace(0, 10, 100)\n",
    "result, error = spi.quad(account_balance, 0, 10)\n",
    "print(\"Example 15: Result of financial modeling:\", result)"
   ]
  },
  {
   "cell_type": "code",
   "execution_count": 18,
   "metadata": {},
   "outputs": [
    {
     "name": "stdout",
     "output_type": "stream",
     "text": [
      "Example 16: Result of adaptive integration with multiple limits: 80.47837456466168\n"
     ]
    },
    {
     "name": "stderr",
     "output_type": "stream",
     "text": [
      "C:\\Users\\rvign\\AppData\\Local\\Temp\\ipykernel_15236\\3584748958.py:3: IntegrationWarning: The maximum number of subdivisions (50) has been achieved.\n",
      "  If increasing the limit yields no improvement it is advised to analyze \n",
      "  the integrand in order to determine the difficulties.  If the position of a \n",
      "  local difficulty can be determined (singularity, discontinuity) one will \n",
      "  probably gain from splitting up the interval and calling the integrator \n",
      "  on the subranges.  Perhaps a special-purpose integrator should be used.\n",
      "  result, error = spi.quad(lambda x: np.sin(2*x) / x**2, 0, np.pi)\n"
     ]
    }
   ],
   "source": [
    "# Example 16: Adaptive Integration with Multiple Limits\n",
    "# Integrate the function f(x) = sin(2x) / x^2 from 0 to pi using adaptive integration\n",
    "result, error = spi.quad(lambda x: np.sin(2*x) / x**2, 0, np.pi)\n",
    "print(\"Example 16: Result of adaptive integration with multiple limits:\", result)\n"
   ]
  },
  {
   "cell_type": "code",
   "execution_count": 19,
   "metadata": {},
   "outputs": [
    {
     "name": "stdout",
     "output_type": "stream",
     "text": [
      "Example 17: Solution of the SIR model for epidemic modeling: [[9.90000000e-01 1.00000000e-02 0.00000000e+00]\n",
      " [9.89516846e-01 1.03204360e-02 1.62718121e-04]\n",
      " [9.89018467e-01 1.06508859e-02 3.30646719e-04]\n",
      " ...\n",
      " [5.87998275e-02 1.13902004e-05 9.41188782e-01]\n",
      " [5.87997956e-02 1.12409281e-05 9.41188964e-01]\n",
      " [5.87997640e-02 1.10936155e-05 9.41189142e-01]]\n"
     ]
    }
   ],
   "source": [
    "# Example 17: Numerical ODE Integration for Epidemic Modeling\n",
    "# Solve the SIR model for an epidemic using numerical integration\n",
    "def SIR_model(y, t, beta, gamma):\n",
    "    S, I, R = y\n",
    "    dSdt = -beta * S * I\n",
    "    dIdt = beta * S * I - gamma * I\n",
    "    dRdt = gamma * I\n",
    "    return [dSdt, dIdt, dRdt]\n",
    "\n",
    "# Initial conditions\n",
    "initial_S = 0.99\n",
    "initial_I = 0.01\n",
    "initial_R = 0.0\n",
    "initial_conditions = [initial_S, initial_I, initial_R]\n",
    "\n",
    "# Parameters\n",
    "beta = 0.3\n",
    "gamma = 0.1\n",
    "\n",
    "# Time points\n",
    "time_points = np.linspace(0, 160, 1000)\n",
    "\n",
    "# Integrate the SIR model\n",
    "solution = spi.odeint(SIR_model, initial_conditions, time_points, args=(beta, gamma))\n",
    "print(\"Example 17: Solution of the SIR model for epidemic modeling:\", solution)"
   ]
  },
  {
   "cell_type": "code",
   "execution_count": 20,
   "metadata": {},
   "outputs": [
    {
     "name": "stdout",
     "output_type": "stream",
     "text": [
      "Example 18: Solution of the 1D heat equation for heat distribution: [[ 0.00000000e+00  6.34239197e-02  1.26592454e-01 ... -1.26592454e-01\n",
      "  -6.34239197e-02 -2.44929360e-16]\n",
      " [-1.28990584e-08  6.34238939e-02  1.26592402e-01 ... -1.26592402e-01\n",
      "  -6.34238939e-02  1.28990582e-08]\n",
      " [-2.57987945e-08  6.34238681e-02  1.26592351e-01 ... -1.26592351e-01\n",
      "  -6.34238681e-02  2.57987943e-08]\n",
      " ...\n",
      " [-1.25417062e-06  6.34214169e-02  1.26587463e-01 ... -1.26587463e-01\n",
      "  -6.34214169e-02  1.25417062e-06]\n",
      " [-1.26713181e-06  6.34213911e-02  1.26587411e-01 ... -1.26587411e-01\n",
      "  -6.34213911e-02  1.26713181e-06]\n",
      " [-1.28009365e-06  6.34213652e-02  1.26587360e-01 ... -1.26587360e-01\n",
      "  -6.34213652e-02  1.28009365e-06]]\n"
     ]
    }
   ],
   "source": [
    "# Example 18: Numerical PDE Integration for Heat Distribution\n",
    "# Solve the 1D heat equation u_t = 0.01 * u_xx with initial condition u(x, 0) = sin(2*pi*x)\n",
    "def heat_eq(u, t):\n",
    "    return 0.01 * np.gradient(np.gradient(u))\n",
    "\n",
    "x_points = np.linspace(0, 1, 100)\n",
    "initial_condition = np.sin(2*np.pi * x_points)\n",
    "time_points = np.linspace(0, 1, 100)\n",
    "solution = spi.odeint(heat_eq, initial_condition, time_points)\n",
    "print(\"Example 18: Solution of the 1D heat equation for heat distribution:\", solution)\n",
    "\n"
   ]
  },
  {
   "cell_type": "code",
   "execution_count": 21,
   "metadata": {},
   "outputs": [
    {
     "name": "stdout",
     "output_type": "stream",
     "text": [
      "Example 19: Result of trade volume analysis: 1000.0000000000001\n"
     ]
    }
   ],
   "source": [
    "# Example 19: Numerical Integration for Trade Volume Analysis\n",
    "# Integrate the trade volume of a stock over a given time period\n",
    "def trade_volume(t):\n",
    "    return 1000 * np.sin(2*np.pi * t) + 200\n",
    "\n",
    "time_points = np.linspace(0, 5, 100)\n",
    "result, error = spi.quad(trade_volume, 0, 5)\n",
    "print(\"Example 19: Result of trade volume analysis:\", result)\n"
   ]
  },
  {
   "cell_type": "code",
   "execution_count": 22,
   "metadata": {},
   "outputs": [
    {
     "name": "stdout",
     "output_type": "stream",
     "text": [
      "Example 20: Solution of the Lotka-Volterra equations for predator-prey modeling: [[40.          9.        ]\n",
      " [39.36476385  8.99426239]\n",
      " [38.74138698  8.9772089 ]\n",
      " ...\n",
      " [28.38755549  5.30110481]\n",
      " [28.36029995  5.17913224]\n",
      " [28.34676454  5.05975979]]\n"
     ]
    }
   ],
   "source": [
    "# Example 20: Numerical ODE Integration with Additional Parameters\n",
    "# Solve the Lotka-Volterra equations for predator-prey modeling\n",
    "def lotka_volterra(y, t, alpha, beta, delta, gamma):\n",
    "    x, y = y\n",
    "    dxdt = alpha * x - beta * x * y\n",
    "    dydt = delta * x * y - gamma * y\n",
    "    return [dxdt, dydt]\n",
    "\n",
    "# Initial conditions\n",
    "initial_x = 40\n",
    "initial_y = 9\n",
    "initial_conditions = [initial_x, initial_y]\n",
    "\n",
    "# Parameters\n",
    "alpha = 0.1\n",
    "beta = 0.02\n",
    "delta = 0.01\n",
    "gamma = 0.4\n",
    "\n",
    "# Time points\n",
    "time_points = np.linspace(0, 200, 1000)\n",
    "\n",
    "# Integrate the Lotka-Volterra equations\n",
    "solution = spi.odeint(lotka_volterra, initial_conditions, time_points, args=(alpha, beta, delta, gamma))\n",
    "print(\"Example 20: Solution of the Lotka-Volterra equations for predator-prey modeling:\", solution)\n"
   ]
  },
  {
   "cell_type": "code",
   "execution_count": 23,
   "metadata": {},
   "outputs": [
    {
     "name": "stdout",
     "output_type": "stream",
     "text": [
      "Example 21: Result of integration for advanced battle scenario: 17182.818284590452\n",
      "Example 22: Result of integration for probabilistic modeling: 0.9999999999999998\n"
     ]
    }
   ],
   "source": [
    "# Example 21: Adaptive Integration for Advanced Battle Scenario\n",
    "# Define a custom function f(t) representing the power of a house over time during a battle\n",
    "def custom_battle_function(t):\n",
    "    # Simulate an increase in power during the battle\n",
    "    return 1000 * np.exp(0.1 * t)\n",
    "\n",
    "# Integrate the custom function from 0 to 10 hours\n",
    "battle_time_points = np.linspace(0, 10, 100)\n",
    "result, error = spi.quad(custom_battle_function, 0, 10)\n",
    "print(\"Example 21: Result of integration for advanced battle scenario:\", result)\n",
    "\n",
    "# Example 22: Numerical Integration for Probabilistic Modeling\n",
    "# Integrate the probability density function of a normal distribution from -inf to inf\n",
    "result, error = spi.quad(lambda x: np.exp(-x**2 / 2) / np.sqrt(2*np.pi), -np.inf, np.inf)\n",
    "print(\"Example 22: Result of integration for probabilistic modeling:\", result)\n"
   ]
  },
  {
   "cell_type": "code",
   "execution_count": 25,
   "metadata": {},
   "outputs": [
    {
     "name": "stdout",
     "output_type": "stream",
     "text": [
      "Example 23: Result of compound interest calculation: 12967.130000436617\n"
     ]
    }
   ],
   "source": [
    "# Example 23: Numerical Integration for Compound Interest\n",
    "# Integrate the compound interest formula A = P * (1 + r/n)^(n*t) over a time period\n",
    "def compound_interest(t, P, r, n):\n",
    "    return P * (1 + r/n)**(n*t)\n",
    "\n",
    "# Parameters\n",
    "P = 1000  # Principal amount\n",
    "r = 0.05  # Interest rate\n",
    "n = 12    # Number of times interest is compounded per year\n",
    "\n",
    "# Time points\n",
    "time_points = np.linspace(0, 10, 100)\n",
    "\n",
    "# Integrate the compound interest formula\n",
    "result, error = spi.quad(compound_interest, 0, 10, args=(P, r, n))\n",
    "print(\"Example 23: Result of compound interest calculation:\", result)"
   ]
  },
  {
   "cell_type": "code",
   "execution_count": 26,
   "metadata": {},
   "outputs": [
    {
     "name": "stdout",
     "output_type": "stream",
     "text": [
      "Example 24: Solution of the population growth model: [[100.        ]\n",
      " [100.91277217]\n",
      " [101.83293251]\n",
      " [102.76052384]\n",
      " [103.69558905]\n",
      " [104.63817056]\n",
      " [105.58831069]\n",
      " [106.54605167]\n",
      " [107.51143559]\n",
      " [108.48450446]\n",
      " [109.46530022]\n",
      " [110.45386468]\n",
      " [111.45023944]\n",
      " [112.45446596]\n",
      " [113.46658559]\n",
      " [114.48663953]\n",
      " [115.51466883]\n",
      " [116.55071423]\n",
      " [117.59481641]\n",
      " [118.64701586]\n",
      " [119.70735292]\n",
      " [120.77586752]\n",
      " [121.85259947]\n",
      " [122.93758839]\n",
      " [124.03087384]\n",
      " [125.13249457]\n",
      " [126.2424896 ]\n",
      " [127.3608975 ]\n",
      " [128.48775662]\n",
      " [129.62310499]\n",
      " [130.76698016]\n",
      " [131.91941955]\n",
      " [133.08046029]\n",
      " [134.2501392 ]\n",
      " [135.42849276]\n",
      " [136.61555714]\n",
      " [137.81136808]\n",
      " [139.01596085]\n",
      " [140.22937042]\n",
      " [141.45163132]\n",
      " [142.68277768]\n",
      " [143.92284319]\n",
      " [145.17186105]\n",
      " [146.42986416]\n",
      " [147.69688511]\n",
      " [148.97295586]\n",
      " [150.25810793]\n",
      " [151.55237235]\n",
      " [152.85577964]\n",
      " [154.16835984]\n",
      " [155.49014244]\n",
      " [156.82115641]\n",
      " [158.16143019]\n",
      " [159.51099165]\n",
      " [160.86986811]\n",
      " [162.23808631]\n",
      " [163.61567242]\n",
      " [165.00265196]\n",
      " [166.39904984]\n",
      " [167.80489035]\n",
      " [169.22019715]\n",
      " [170.64499325]\n",
      " [172.07930099]\n",
      " [173.52314204]\n",
      " [174.97653737]\n",
      " [176.43950722]\n",
      " [177.91207117]\n",
      " [179.39424801]\n",
      " [180.88605586]\n",
      " [182.38751203]\n",
      " [183.89863309]\n",
      " [185.41943484]\n",
      " [186.94993224]\n",
      " [188.49013948]\n",
      " [190.04006996]\n",
      " [191.5997362 ]\n",
      " [193.16914992]\n",
      " [194.74832197]\n",
      " [196.33726236]\n",
      " [197.93598017]\n",
      " [199.54448365]\n",
      " [201.16278009]\n",
      " [202.79087588]\n",
      " [204.42877649]\n",
      " [206.07648644]\n",
      " [207.7340093 ]\n",
      " [209.40134768]\n",
      " [211.07850321]\n",
      " [212.76547652]\n",
      " [214.46226723]\n",
      " [216.16887398]\n",
      " [217.88529443]\n",
      " [219.61152516]\n",
      " [221.3475617 ]\n",
      " [223.09339853]\n",
      " [224.84902904]\n",
      " [226.61444553]\n",
      " [228.38963922]\n",
      " [230.17460022]\n",
      " [231.96931751]]\n"
     ]
    }
   ],
   "source": [
    "# Example 24: Numerical Integration for Population Growth\n",
    "# Integrate the population growth model dP/dt = r*P*(1 - P/K) with initial condition P(0) = 100\n",
    "def population_growth(P, t, r, K):\n",
    "    return r * P * (1 - P/K)\n",
    "\n",
    "# Initial conditions\n",
    "initial_population = 100\n",
    "\n",
    "# Parameters\n",
    "r = 0.1  # Growth rate\n",
    "K = 1000  # Carrying capacity\n",
    "\n",
    "# Time points\n",
    "time_points = np.linspace(0, 10, 100)\n",
    "\n",
    "# Integrate the population growth model\n",
    "solution = spi.odeint(population_growth, initial_population, time_points, args=(r, K))\n",
    "print(\"Example 24: Solution of the population growth model:\", solution)"
   ]
  },
  {
   "cell_type": "code",
   "execution_count": 27,
   "metadata": {},
   "outputs": [
    {
     "name": "stdout",
     "output_type": "stream",
     "text": [
      "Example 25: Result of integration for custom scenario: 26.666666666666664\n"
     ]
    }
   ],
   "source": [
    "# Example 25: Numerical Integration for Custom Scenario\n",
    "# Define a custom function f(x) = 2x^3 + 4x^2 + 3x + 1\n",
    "custom_function = lambda x: 2*x**3 + 4*x**2 + 3*x + 1\n",
    "\n",
    "# Integrate the custom function from 0 to 2\n",
    "result, error = spi.quad(custom_function, 0, 2)\n",
    "print(\"Example 25: Result of integration for custom scenario:\", result)"
   ]
  }
 ],
 "metadata": {
  "kernelspec": {
   "display_name": "Python 3",
   "language": "python",
   "name": "python3"
  },
  "language_info": {
   "codemirror_mode": {
    "name": "ipython",
    "version": 3
   },
   "file_extension": ".py",
   "mimetype": "text/x-python",
   "name": "python",
   "nbconvert_exporter": "python",
   "pygments_lexer": "ipython3",
   "version": "3.11.2"
  },
  "orig_nbformat": 4
 },
 "nbformat": 4,
 "nbformat_minor": 2
}
