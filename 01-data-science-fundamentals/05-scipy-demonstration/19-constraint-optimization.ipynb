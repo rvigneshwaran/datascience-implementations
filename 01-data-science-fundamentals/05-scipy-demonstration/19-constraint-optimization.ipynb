{
 "cells": [
  {
   "cell_type": "code",
   "execution_count": 1,
   "metadata": {},
   "outputs": [],
   "source": [
    "import numpy as np\n",
    "import matplotlib.pyplot as plt\n",
    "import scipy.optimize as opt\n"
   ]
  },
  {
   "cell_type": "code",
   "execution_count": 2,
   "metadata": {},
   "outputs": [
    {
     "name": "stdout",
     "output_type": "stream",
     "text": [
      "Example 1 - Optimal Solution: [-1.61969143e+15  1.61969143e+15]\n"
     ]
    }
   ],
   "source": [
    "# Example 1: Simple Linear Constrained Optimization\n",
    "def objective_function(x):\n",
    "    return -x[0] - 2 * x[1]  # Objective: Maximize -x - 2y\n",
    "\n",
    "def constraint_func(x):\n",
    "    return x[0] + x[1] - 3  # Constraint: x + y = 3\n",
    "\n",
    "x0 = [0, 0]  # Initial guess\n",
    "constraints = {'type': 'eq', 'fun': constraint_func}\n",
    "result = opt.minimize(objective_function, x0, constraints=constraints)\n",
    "print(\"Example 1 - Optimal Solution:\", result.x)"
   ]
  },
  {
   "cell_type": "code",
   "execution_count": 3,
   "metadata": {},
   "outputs": [
    {
     "name": "stdout",
     "output_type": "stream",
     "text": [
      "Example 2 - Optimal Solution: [1.00000079 0.99999922]\n"
     ]
    }
   ],
   "source": [
    "# Example 2: Constrained Rosenbrock Function\n",
    "def rosenbrock(x):\n",
    "    return (1 - x[0])**2 + 100 * (x[1] - x[0]**2)**2\n",
    "\n",
    "def constraint_func(x):\n",
    "    return x[0]**2 + x[1]**2 - 2  # Constraint: x^2 + y^2 = 2\n",
    "\n",
    "x0 = [0, 0]  # Initial guess\n",
    "constraints = {'type': 'eq', 'fun': constraint_func}\n",
    "result = opt.minimize(rosenbrock, x0, constraints=constraints)\n",
    "print(\"Example 2 - Optimal Solution:\", result.x)"
   ]
  },
  {
   "cell_type": "code",
   "execution_count": 4,
   "metadata": {},
   "outputs": [
    {
     "name": "stdout",
     "output_type": "stream",
     "text": [
      "Example 3 - Optimal Solution: [1.16665916 0.83334084]\n"
     ]
    }
   ],
   "source": [
    "# Example 3: Constrained Quadratic Function\n",
    "def quadratic_function(x):\n",
    "    return 2 * x[0]**2 + 3 * x[1]**2 - x[0] * x[1]\n",
    "\n",
    "def constraint_func(x):\n",
    "    return x[0] + x[1] - 2  # Constraint: x + y = 2\n",
    "\n",
    "x0 = [0, 0]  # Initial guess\n",
    "constraints = {'type': 'eq', 'fun': constraint_func}\n",
    "result = opt.minimize(quadratic_function, x0, constraints=constraints)\n",
    "print(\"Example 3 - Optimal Solution:\", result.x)"
   ]
  },
  {
   "cell_type": "code",
   "execution_count": 5,
   "metadata": {},
   "outputs": [
    {
     "name": "stdout",
     "output_type": "stream",
     "text": [
      "Example 4 - Optimal Solution: [0.5 0.5]\n"
     ]
    }
   ],
   "source": [
    "# Example 4: Constrained Optimization with Bounds\n",
    "def objective_function(x):\n",
    "    return -x[0] * x[1]  # Objective: Maximize -xy\n",
    "\n",
    "x0 = [0, 0]  # Initial guess\n",
    "bounds = ((0, None), (0, None))  # x and y must be >= 0\n",
    "constraints = {'type': 'eq', 'fun': lambda x: x[0] + x[1] - 1}  # Constraint: x + y = 1\n",
    "result = opt.minimize(objective_function, x0, bounds=bounds, constraints=constraints)\n",
    "print(\"Example 4 - Optimal Solution:\", result.x)\n"
   ]
  },
  {
   "cell_type": "code",
   "execution_count": 6,
   "metadata": {},
   "outputs": [
    {
     "name": "stdout",
     "output_type": "stream",
     "text": [
      "Example 5 - Optimal Solution: [1. 1.]\n"
     ]
    }
   ],
   "source": [
    "# Example 5: Constrained Optimization with Inequality Constraints\n",
    "def objective_function(x):\n",
    "    return x[0]**2 + x[1]**2  # Objective: Minimize x^2 + y^2\n",
    "\n",
    "x0 = [0, 0]  # Initial guess\n",
    "constraints = [{'type': 'ineq', 'fun': lambda x: x[0] + x[1] - 2},   # x + y >= 2\n",
    "               {'type': 'ineq', 'fun': lambda x: -x[0] - x[1] + 2},  # -x - y >= -2\n",
    "               {'type': 'ineq', 'fun': lambda x: x[0]},              # x >= 0\n",
    "               {'type': 'ineq', 'fun': lambda x: x[1]}]              # y >= 0\n",
    "result = opt.minimize(objective_function, x0, constraints=constraints)\n",
    "print(\"Example 5 - Optimal Solution:\", result.x)"
   ]
  },
  {
   "cell_type": "code",
   "execution_count": 7,
   "metadata": {},
   "outputs": [
    {
     "name": "stdout",
     "output_type": "stream",
     "text": [
      "Example 6 - Optimal Solution: None\n"
     ]
    }
   ],
   "source": [
    "# Example 6: Linear Programming with Bounds\n",
    "c = [-1, -2]  # Coefficients of the linear objective function: -x - 2y\n",
    "A = [[-1, -1]]  # Coefficients of the inequality constraints: x + y >= 1\n",
    "b = [-1]  # Right-hand side of the inequality constraint: x + y >= 1\n",
    "x_bounds = (0, None)  # x must be >= 0\n",
    "y_bounds = (0, None)  # y must be >= 0\n",
    "bounds = [x_bounds, y_bounds]\n",
    "result = opt.linprog(c, A_ub=A, b_ub=b, bounds=bounds)\n",
    "print(\"Example 6 - Optimal Solution:\", result.x)"
   ]
  },
  {
   "cell_type": "code",
   "execution_count": 8,
   "metadata": {},
   "outputs": [],
   "source": [
    "\n",
    "# Example 7: Non-Linear Constrained Optimization with Jacobian\n",
    "def objective_function(x):\n",
    "    return x[0] + x[1]\n",
    "\n",
    "def constraint_func(x):\n",
    "    return x[0]**2 + x[1]**2 - 1  # Constraint: x^2 + y^2 = 1\n",
    "\n",
    "def constraint_jacobian(x):\n",
    "    return [2*x[0], 2*x[1]]  # Jacobian of the constraint"
   ]
  }
 ],
 "metadata": {
  "kernelspec": {
   "display_name": "Python 3",
   "language": "python",
   "name": "python3"
  },
  "language_info": {
   "codemirror_mode": {
    "name": "ipython",
    "version": 3
   },
   "file_extension": ".py",
   "mimetype": "text/x-python",
   "name": "python",
   "nbconvert_exporter": "python",
   "pygments_lexer": "ipython3",
   "version": "3.11.2"
  },
  "orig_nbformat": 4
 },
 "nbformat": 4,
 "nbformat_minor": 2
}
