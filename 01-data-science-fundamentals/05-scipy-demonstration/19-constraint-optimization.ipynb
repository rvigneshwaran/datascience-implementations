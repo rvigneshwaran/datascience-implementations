{
 "cells": [
  {
   "cell_type": "code",
   "execution_count": 1,
   "metadata": {},
   "outputs": [],
   "source": [
    "import numpy as np\n",
    "import matplotlib.pyplot as plt\n",
    "import scipy.optimize as opt\n"
   ]
  },
  {
   "cell_type": "code",
   "execution_count": 2,
   "metadata": {},
   "outputs": [
    {
     "name": "stdout",
     "output_type": "stream",
     "text": [
      "Example 1 - Optimal Solution: [-1.61969143e+15  1.61969143e+15]\n"
     ]
    }
   ],
   "source": [
    "# Example 1: Simple Linear Constrained Optimization\n",
    "def objective_function(x):\n",
    "    return -x[0] - 2 * x[1]  # Objective: Maximize -x - 2y\n",
    "\n",
    "def constraint_func(x):\n",
    "    return x[0] + x[1] - 3  # Constraint: x + y = 3\n",
    "\n",
    "x0 = [0, 0]  # Initial guess\n",
    "constraints = {'type': 'eq', 'fun': constraint_func}\n",
    "result = opt.minimize(objective_function, x0, constraints=constraints)\n",
    "print(\"Example 1 - Optimal Solution:\", result.x)"
   ]
  },
  {
   "cell_type": "code",
   "execution_count": 3,
   "metadata": {},
   "outputs": [
    {
     "name": "stdout",
     "output_type": "stream",
     "text": [
      "Example 2 - Optimal Solution: [1.00000079 0.99999922]\n"
     ]
    }
   ],
   "source": [
    "# Example 2: Constrained Rosenbrock Function\n",
    "def rosenbrock(x):\n",
    "    return (1 - x[0])**2 + 100 * (x[1] - x[0]**2)**2\n",
    "\n",
    "def constraint_func(x):\n",
    "    return x[0]**2 + x[1]**2 - 2  # Constraint: x^2 + y^2 = 2\n",
    "\n",
    "x0 = [0, 0]  # Initial guess\n",
    "constraints = {'type': 'eq', 'fun': constraint_func}\n",
    "result = opt.minimize(rosenbrock, x0, constraints=constraints)\n",
    "print(\"Example 2 - Optimal Solution:\", result.x)"
   ]
  },
  {
   "cell_type": "code",
   "execution_count": 4,
   "metadata": {},
   "outputs": [
    {
     "name": "stdout",
     "output_type": "stream",
     "text": [
      "Example 3 - Optimal Solution: [1.16665916 0.83334084]\n"
     ]
    }
   ],
   "source": [
    "# Example 3: Constrained Quadratic Function\n",
    "def quadratic_function(x):\n",
    "    return 2 * x[0]**2 + 3 * x[1]**2 - x[0] * x[1]\n",
    "\n",
    "def constraint_func(x):\n",
    "    return x[0] + x[1] - 2  # Constraint: x + y = 2\n",
    "\n",
    "x0 = [0, 0]  # Initial guess\n",
    "constraints = {'type': 'eq', 'fun': constraint_func}\n",
    "result = opt.minimize(quadratic_function, x0, constraints=constraints)\n",
    "print(\"Example 3 - Optimal Solution:\", result.x)"
   ]
  },
  {
   "cell_type": "code",
   "execution_count": 5,
   "metadata": {},
   "outputs": [
    {
     "name": "stdout",
     "output_type": "stream",
     "text": [
      "Example 4 - Optimal Solution: [0.5 0.5]\n"
     ]
    }
   ],
   "source": [
    "# Example 4: Constrained Optimization with Bounds\n",
    "def objective_function(x):\n",
    "    return -x[0] * x[1]  # Objective: Maximize -xy\n",
    "\n",
    "x0 = [0, 0]  # Initial guess\n",
    "bounds = ((0, None), (0, None))  # x and y must be >= 0\n",
    "constraints = {'type': 'eq', 'fun': lambda x: x[0] + x[1] - 1}  # Constraint: x + y = 1\n",
    "result = opt.minimize(objective_function, x0, bounds=bounds, constraints=constraints)\n",
    "print(\"Example 4 - Optimal Solution:\", result.x)\n"
   ]
  },
  {
   "cell_type": "code",
   "execution_count": 6,
   "metadata": {},
   "outputs": [
    {
     "name": "stdout",
     "output_type": "stream",
     "text": [
      "Example 5 - Optimal Solution: [1. 1.]\n"
     ]
    }
   ],
   "source": [
    "# Example 5: Constrained Optimization with Inequality Constraints\n",
    "def objective_function(x):\n",
    "    return x[0]**2 + x[1]**2  # Objective: Minimize x^2 + y^2\n",
    "\n",
    "x0 = [0, 0]  # Initial guess\n",
    "constraints = [{'type': 'ineq', 'fun': lambda x: x[0] + x[1] - 2},   # x + y >= 2\n",
    "               {'type': 'ineq', 'fun': lambda x: -x[0] - x[1] + 2},  # -x - y >= -2\n",
    "               {'type': 'ineq', 'fun': lambda x: x[0]},              # x >= 0\n",
    "               {'type': 'ineq', 'fun': lambda x: x[1]}]              # y >= 0\n",
    "result = opt.minimize(objective_function, x0, constraints=constraints)\n",
    "print(\"Example 5 - Optimal Solution:\", result.x)"
   ]
  },
  {
   "cell_type": "code",
   "execution_count": 7,
   "metadata": {},
   "outputs": [
    {
     "name": "stdout",
     "output_type": "stream",
     "text": [
      "Example 6 - Optimal Solution: None\n"
     ]
    }
   ],
   "source": [
    "# Example 6: Linear Programming with Bounds\n",
    "c = [-1, -2]  # Coefficients of the linear objective function: -x - 2y\n",
    "A = [[-1, -1]]  # Coefficients of the inequality constraints: x + y >= 1\n",
    "b = [-1]  # Right-hand side of the inequality constraint: x + y >= 1\n",
    "x_bounds = (0, None)  # x must be >= 0\n",
    "y_bounds = (0, None)  # y must be >= 0\n",
    "bounds = [x_bounds, y_bounds]\n",
    "result = opt.linprog(c, A_ub=A, b_ub=b, bounds=bounds)\n",
    "print(\"Example 6 - Optimal Solution:\", result.x)"
   ]
  },
  {
   "cell_type": "code",
   "execution_count": 9,
   "metadata": {},
   "outputs": [
    {
     "name": "stdout",
     "output_type": "stream",
     "text": [
      "Example 7 - Optimal Solution: [0. 0.]\n"
     ]
    }
   ],
   "source": [
    "\n",
    "# Example 7: Non-Linear Constrained Optimization with Jacobian\n",
    "def objective_function(x):\n",
    "    return x[0] + x[1]\n",
    "\n",
    "def constraint_func(x):\n",
    "    return x[0]**2 + x[1]**2 - 1  # Constraint: x^2 + y^2 = 1\n",
    "\n",
    "def constraint_jacobian(x):\n",
    "    return [2*x[0], 2*x[1]]  # Jacobian of the constraint\n",
    "x0 = [0, 0]  # Initial guess\n",
    "constraints = {'type': 'eq', 'fun': constraint_func, 'jac': constraint_jacobian}\n",
    "result = opt.minimize(objective_function, x0, constraints=constraints)\n",
    "print(\"Example 7 - Optimal Solution:\", result.x)"
   ]
  },
  {
   "cell_type": "code",
   "execution_count": 10,
   "metadata": {},
   "outputs": [
    {
     "name": "stdout",
     "output_type": "stream",
     "text": [
      "Example 8 - Optimal Solution: [0.5 0.5]\n"
     ]
    }
   ],
   "source": [
    "# Example 8: Non-Linear Constrained Optimization with Hessian\n",
    "def objective_function(x):\n",
    "    return x[0]**2 + x[1]**2\n",
    "\n",
    "def constraint_func(x):\n",
    "    return x[0] + x[1] - 1  # Constraint: x + y = 1\n",
    "\n",
    "def constraint_hessian(x):\n",
    "    return np.zeros((2, 2))  # Hessian of the constraint is zero (linear constraint)\n",
    "\n",
    "x0 = [0, 0]  # Initial guess\n",
    "constraints = {'type': 'eq', 'fun': constraint_func, 'hess': constraint_hessian}\n",
    "result = opt.minimize(objective_function, x0, constraints=constraints)\n",
    "print(\"Example 8 - Optimal Solution:\", result.x)"
   ]
  },
  {
   "cell_type": "code",
   "execution_count": 11,
   "metadata": {},
   "outputs": [
    {
     "ename": "ValueError",
     "evalue": "Constraint 0 has no function defined.",
     "output_type": "error",
     "traceback": [
      "\u001b[1;31m---------------------------------------------------------------------------\u001b[0m",
      "\u001b[1;31mValueError\u001b[0m                                Traceback (most recent call last)",
      "Cell \u001b[1;32mIn[11], line 10\u001b[0m\n\u001b[0;32m      7\u001b[0m constraints \u001b[39m=\u001b[39m [{\u001b[39m'\u001b[39m\u001b[39mtype\u001b[39m\u001b[39m'\u001b[39m: \u001b[39m'\u001b[39m\u001b[39mineq\u001b[39m\u001b[39m'\u001b[39m, \u001b[39m'\u001b[39m\u001b[39mA\u001b[39m\u001b[39m'\u001b[39m: A, \u001b[39m'\u001b[39m\u001b[39mb\u001b[39m\u001b[39m'\u001b[39m: b},\n\u001b[0;32m      8\u001b[0m                {\u001b[39m'\u001b[39m\u001b[39mtype\u001b[39m\u001b[39m'\u001b[39m: \u001b[39m'\u001b[39m\u001b[39meq\u001b[39m\u001b[39m'\u001b[39m, \u001b[39m'\u001b[39m\u001b[39mfun\u001b[39m\u001b[39m'\u001b[39m: \u001b[39mlambda\u001b[39;00m x: x[\u001b[39m0\u001b[39m] \u001b[39m+\u001b[39m x[\u001b[39m1\u001b[39m] \u001b[39m-\u001b[39m \u001b[39m1\u001b[39m}]  \u001b[39m# x + y = 1\u001b[39;00m\n\u001b[0;32m      9\u001b[0m x0 \u001b[39m=\u001b[39m [\u001b[39m0\u001b[39m, \u001b[39m0\u001b[39m]  \u001b[39m# Initial guess\u001b[39;00m\n\u001b[1;32m---> 10\u001b[0m result \u001b[39m=\u001b[39m opt\u001b[39m.\u001b[39;49mminimize(objective_function, x0, constraints\u001b[39m=\u001b[39;49mconstraints)\n\u001b[0;32m     11\u001b[0m \u001b[39mprint\u001b[39m(\u001b[39m\"\u001b[39m\u001b[39mExample 9 - Optimal Solution:\u001b[39m\u001b[39m\"\u001b[39m, result\u001b[39m.\u001b[39mx)\n",
      "File \u001b[1;32m~\\AppData\\Roaming\\Python\\Python311\\site-packages\\scipy\\optimize\\_minimize.py:719\u001b[0m, in \u001b[0;36mminimize\u001b[1;34m(fun, x0, args, method, jac, hess, hessp, bounds, constraints, tol, callback, options)\u001b[0m\n\u001b[0;32m    716\u001b[0m     res \u001b[39m=\u001b[39m _minimize_cobyla(fun, x0, args, constraints, callback\u001b[39m=\u001b[39mcallback,\n\u001b[0;32m    717\u001b[0m                            bounds\u001b[39m=\u001b[39mbounds, \u001b[39m*\u001b[39m\u001b[39m*\u001b[39moptions)\n\u001b[0;32m    718\u001b[0m \u001b[39melif\u001b[39;00m meth \u001b[39m==\u001b[39m \u001b[39m'\u001b[39m\u001b[39mslsqp\u001b[39m\u001b[39m'\u001b[39m:\n\u001b[1;32m--> 719\u001b[0m     res \u001b[39m=\u001b[39m _minimize_slsqp(fun, x0, args, jac, bounds,\n\u001b[0;32m    720\u001b[0m                           constraints, callback\u001b[39m=\u001b[39;49mcallback, \u001b[39m*\u001b[39;49m\u001b[39m*\u001b[39;49moptions)\n\u001b[0;32m    721\u001b[0m \u001b[39melif\u001b[39;00m meth \u001b[39m==\u001b[39m \u001b[39m'\u001b[39m\u001b[39mtrust-constr\u001b[39m\u001b[39m'\u001b[39m:\n\u001b[0;32m    722\u001b[0m     res \u001b[39m=\u001b[39m _minimize_trustregion_constr(fun, x0, args, jac, hess, hessp,\n\u001b[0;32m    723\u001b[0m                                        bounds, constraints,\n\u001b[0;32m    724\u001b[0m                                        callback\u001b[39m=\u001b[39mcallback, \u001b[39m*\u001b[39m\u001b[39m*\u001b[39moptions)\n",
      "File \u001b[1;32m~\\AppData\\Roaming\\Python\\Python311\\site-packages\\scipy\\optimize\\_slsqp_py.py:285\u001b[0m, in \u001b[0;36m_minimize_slsqp\u001b[1;34m(func, x0, args, jac, bounds, constraints, maxiter, ftol, iprint, disp, eps, callback, finite_diff_rel_step, **unknown_options)\u001b[0m\n\u001b[0;32m    283\u001b[0m \u001b[39m# check function\u001b[39;00m\n\u001b[0;32m    284\u001b[0m \u001b[39mif\u001b[39;00m \u001b[39m'\u001b[39m\u001b[39mfun\u001b[39m\u001b[39m'\u001b[39m \u001b[39mnot\u001b[39;00m \u001b[39min\u001b[39;00m con:\n\u001b[1;32m--> 285\u001b[0m     \u001b[39mraise\u001b[39;00m \u001b[39mValueError\u001b[39;00m(\u001b[39m'\u001b[39m\u001b[39mConstraint \u001b[39m\u001b[39m%d\u001b[39;00m\u001b[39m has no function defined.\u001b[39m\u001b[39m'\u001b[39m \u001b[39m%\u001b[39m ic)\n\u001b[0;32m    287\u001b[0m \u001b[39m# check Jacobian\u001b[39;00m\n\u001b[0;32m    288\u001b[0m cjac \u001b[39m=\u001b[39m con\u001b[39m.\u001b[39mget(\u001b[39m'\u001b[39m\u001b[39mjac\u001b[39m\u001b[39m'\u001b[39m)\n",
      "\u001b[1;31mValueError\u001b[0m: Constraint 0 has no function defined."
     ]
    }
   ],
   "source": [
    "# Example 9: Constrained Optimization with Linear Inequality and Equality Constraints\n",
    "def objective_function(x):\n",
    "    return x[0]**2 + x[1]**2\n",
    "\n",
    "A = [[-1, 1]]  # Coefficients of the linear inequality constraint: -x + y >= 0\n",
    "b = [0]  # Right-hand side of the linear inequality constraint: -x + y >= 0\n",
    "constraints = [{'type': 'ineq', 'A': A, 'b': b},\n",
    "               {'type': 'eq', 'fun': lambda x: x[0] + x[1] - 1}]  # x + y = 1\n",
    "x0 = [0, 0]  # Initial guess\n",
    "result = opt.minimize(objective_function, x0, constraints=constraints)\n",
    "print(\"Example 9 - Optimal Solution:\", result.x)"
   ]
  },
  {
   "cell_type": "code",
   "execution_count": 12,
   "metadata": {},
   "outputs": [
    {
     "name": "stdout",
     "output_type": "stream",
     "text": [
      "Example 10 - Optimal Solution: [1.88366025 0.        ]\n"
     ]
    }
   ],
   "source": [
    "# Example 10: Constrained Optimization with Bounds and Non-Linear Inequality Constraints\n",
    "def objective_function(x):\n",
    "    return x[0] * x[1]\n",
    "\n",
    "x0 = [0, 0]  # Initial guess\n",
    "bounds = [(0, None), (0, None)]  # x and y must be >= 0\n",
    "constraints = {'type': 'ineq', 'fun': lambda x: x[0]**2 + x[1]**2 - 2}  # x^2 + y^2 >= 2\n",
    "result = opt.minimize(objective_function, x0, bounds=bounds, constraints=constraints)\n",
    "print(\"Example 10 - Optimal Solution:\", result.x)"
   ]
  },
  {
   "cell_type": "code",
   "execution_count": 13,
   "metadata": {},
   "outputs": [
    {
     "name": "stdout",
     "output_type": "stream",
     "text": [
      "Example 11 - Optimal Solution: [ 1.6777216e+07  1.6777216e+07 -7.4505806e-09]\n"
     ]
    }
   ],
   "source": [
    "# Example 11: Constrained Optimization with Non-Linear Inequality Constraints\n",
    "def objective_function(x):\n",
    "    return x[0]**2 + x[1]**2 + x[2]**2\n",
    "\n",
    "x0 = [0, 0, 0]  # Initial guess\n",
    "constraints = {'type': 'ineq', 'fun': lambda x: [x[0]**2 + x[1]**2 - 1,  # x^2 + y^2 >= 1\n",
    "                                                 x[0] + x[2]**2 - 2]}  # x + z^2 >= 2\n",
    "result = opt.minimize(objective_function, x0, constraints=constraints)\n",
    "print(\"Example 11 - Optimal Solution:\", result.x)"
   ]
  },
  {
   "cell_type": "code",
   "execution_count": 14,
   "metadata": {},
   "outputs": [
    {
     "name": "stdout",
     "output_type": "stream",
     "text": [
      "Example 12 - Optimal Solution: [0. 0.]\n"
     ]
    }
   ],
   "source": [
    "# Example 12: Constrained Optimization with Non-Linear Equality Constraints\n",
    "def objective_function(x):\n",
    "    return x[0]**2 + x[1]**2\n",
    "\n",
    "x0 = [0, 0]  # Initial guess\n",
    "constraints = {'type': 'eq', 'fun': lambda x: [x[0]**2 + x[1]**2 - 1,  # x^2 + y^2 = 1\n",
    "                                               x[0] + x[1] - 2]}  # x + y = 2\n",
    "result = opt.minimize(objective_function, x0, constraints=constraints)\n",
    "print(\"Example 12 - Optimal Solution:\", result.x)\n"
   ]
  },
  {
   "cell_type": "code",
   "execution_count": 15,
   "metadata": {},
   "outputs": [
    {
     "name": "stdout",
     "output_type": "stream",
     "text": [
      "Example 13 - Optimal Solution: [2.12651652e-03 9.99997950e-01 4.09954185e-06]\n"
     ]
    }
   ],
   "source": [
    "# Example 13: Constrained Optimization with Non-Linear Equality and Inequality Constraints\n",
    "def objective_function(x):\n",
    "    return x[0]**2 + x[1]**2 + x[2]**2\n",
    "\n",
    "x0 = [0, 0, 0]  # Initial guess\n",
    "constraints = [{'type': 'eq', 'fun': lambda x: x[0]**2 + x[1]**2 - 1},  # x^2 + y^2 = 1\n",
    "               {'type': 'ineq', 'fun': lambda x: x[2] - x[0]**2}]    # z >= x^2\n",
    "result = opt.minimize(objective_function, x0, constraints=constraints)\n",
    "print(\"Example 13 - Optimal Solution:\", result.x)"
   ]
  },
  {
   "cell_type": "code",
   "execution_count": 16,
   "metadata": {},
   "outputs": [
    {
     "name": "stdout",
     "output_type": "stream",
     "text": [
      "Example 14 - Optimal Solution: [0.70710688 0.70710688 0.5       ]\n"
     ]
    }
   ],
   "source": [
    "# Example 14: Constrained Optimization with Non-Linear Equality and Inequality Constraints\n",
    "def objective_function(x):\n",
    "    return x[0]**2 + x[1]**2 + x[2]**2\n",
    "\n",
    "x0 = [0, 0, 0]  # Initial guess\n",
    "constraints = [{'type': 'eq', 'fun': lambda x: x[0]**2 + x[1]**2 - 1},  # x^2 + y^2 = 1\n",
    "               {'type': 'ineq', 'fun': lambda x: x[2] - x[0]**2},     # z >= x^2\n",
    "               {'type': 'ineq', 'fun': lambda x: x[2] - x[1]**2}]     # z >= y^2\n",
    "result = opt.minimize(objective_function, x0, constraints=constraints)\n",
    "print(\"Example 14 - Optimal Solution:\", result.x)"
   ]
  },
  {
   "cell_type": "code",
   "execution_count": 17,
   "metadata": {},
   "outputs": [
    {
     "name": "stdout",
     "output_type": "stream",
     "text": [
      "Example 15 - Optimal Solution: [0.70710688 0.70710688 0.5       ]\n"
     ]
    }
   ],
   "source": [
    "# Example 15: Constrained Optimization with Non-Linear Equality and Inequality Constraints\n",
    "def objective_function(x):\n",
    "    return x[0]**2 + x[1]**2 + x[2]**2\n",
    "\n",
    "x0 = [0, 0, 0]  # Initial guess\n",
    "constraints = [{'type': 'eq', 'fun': lambda x: x[0]**2 + x[1]**2 - 1},  # x^2 + y^2 = 1\n",
    "               {'type': 'ineq', 'fun': lambda x: x[2] - x[0]**2},     # z >= x^2\n",
    "               {'type': 'ineq', 'fun': lambda x: x[2] - x[1]**2},     # z >= y^2\n",
    "               {'type': 'ineq', 'fun': lambda x: x[0] - 0.5},          # x >= 0.5\n",
    "               {'type': 'ineq', 'fun': lambda x: x[1] - 0.5}]          # y >= 0.5\n",
    "result = opt.minimize(objective_function, x0, constraints=constraints)\n",
    "print(\"Example 15 - Optimal Solution:\", result.x)\n"
   ]
  }
 ],
 "metadata": {
  "kernelspec": {
   "display_name": "Python 3",
   "language": "python",
   "name": "python3"
  },
  "language_info": {
   "codemirror_mode": {
    "name": "ipython",
    "version": 3
   },
   "file_extension": ".py",
   "mimetype": "text/x-python",
   "name": "python",
   "nbconvert_exporter": "python",
   "pygments_lexer": "ipython3",
   "version": "3.11.2"
  },
  "orig_nbformat": 4
 },
 "nbformat": 4,
 "nbformat_minor": 2
}
