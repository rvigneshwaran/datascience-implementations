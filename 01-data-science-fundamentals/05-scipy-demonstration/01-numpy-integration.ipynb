{
 "cells": [
  {
   "cell_type": "code",
   "execution_count": 1,
   "metadata": {},
   "outputs": [],
   "source": [
    "# Import necessary libraries\n",
    "import numpy as np\n",
    "import scipy.integrate as spi\n",
    "import matplotlib.pyplot as plt"
   ]
  },
  {
   "cell_type": "code",
   "execution_count": 2,
   "metadata": {},
   "outputs": [
    {
     "name": "stdout",
     "output_type": "stream",
     "text": [
      "Example 1: Result of integration: 41.66666666666666\n"
     ]
    }
   ],
   "source": [
    "# Example 1: Numerical Integration using quad\n",
    "# Integrate a function f(x) = x^2 from 0 to 5\n",
    "result, error = spi.quad(lambda x: x**2, 0, 5)\n",
    "print(\"Example 1: Result of integration:\", result)"
   ]
  },
  {
   "cell_type": "code",
   "execution_count": 3,
   "metadata": {},
   "outputs": [
    {
     "name": "stdout",
     "output_type": "stream",
     "text": [
      "Example 2: Result of double integral: 3.0\n"
     ]
    }
   ],
   "source": [
    "# Example 2: Double Integral using dblquad\n",
    "# Integrate f(x, y) = x + y from x=0 to x=2 and y=0 to y=1\n",
    "result, error = spi.dblquad(lambda x, y: x + y, 0, 2, lambda x: 0, lambda x: 1)\n",
    "print(\"Example 2: Result of double integral:\", result)"
   ]
  },
  {
   "cell_type": "code",
   "execution_count": 4,
   "metadata": {},
   "outputs": [
    {
     "name": "stdout",
     "output_type": "stream",
     "text": [
      "Example 3: Result of triple integral: 28.0\n"
     ]
    }
   ],
   "source": [
    "# Example 3: Triple Integral using tplquad\n",
    "# Integrate f(x, y, z) = x^2 + y^2 + z^2 from x=0 to x=1, y=0 to y=2, and z=0 to z=3\n",
    "result, error = spi.tplquad(lambda x, y, z: x**2 + y**2 + z**2, 0, 1, lambda x: 0, lambda x: 2, lambda x, y: 0, lambda x, y: 3)\n",
    "print(\"Example 3: Result of triple integral:\", result)"
   ]
  },
  {
   "cell_type": "code",
   "execution_count": 5,
   "metadata": {},
   "outputs": [
    {
     "name": "stdout",
     "output_type": "stream",
     "text": [
      "Example 4: Result of integration with extra arguments: 120.83333333333334\n"
     ]
    }
   ],
   "source": [
    "# Example 4: Numerical Integration with extra arguments\n",
    "# Integrate a function f(x, a, b) = a * x^2 + b*x from 0 to 5 with a=2 and b=3\n",
    "result, error = spi.quad(lambda x, a, b: a * x**2 + b*x, 0, 5, args=(2, 3))\n",
    "print(\"Example 4: Result of integration with extra arguments:\", result)"
   ]
  },
  {
   "cell_type": "code",
   "execution_count": 6,
   "metadata": {},
   "outputs": [
    {
     "name": "stdout",
     "output_type": "stream",
     "text": [
      "Example 5: Result of adaptive integration: 3.7919472357113793\n"
     ]
    },
    {
     "name": "stderr",
     "output_type": "stream",
     "text": [
      "C:\\Users\\rvign\\AppData\\Local\\Temp\\ipykernel_27176\\2207666287.py:3: IntegrationWarning: The integral is probably divergent, or slowly convergent.\n",
      "  result, error = spi.quad(lambda x: np.sin(x) / x, -np.inf, np.inf, limit=100)\n"
     ]
    }
   ],
   "source": [
    "# Example 5: Adaptive Integration using quad with limit\n",
    "# Integrate a function f(x) = sin(x)/x from -inf to inf\n",
    "result, error = spi.quad(lambda x: np.sin(x) / x, -np.inf, np.inf, limit=100)\n",
    "print(\"Example 5: Result of adaptive integration:\", result)"
   ]
  },
  {
   "cell_type": "code",
   "execution_count": 7,
   "metadata": {},
   "outputs": [
    {
     "name": "stdout",
     "output_type": "stream",
     "text": [
      "Example 6: Result of integration with singularity: 1.9999999999999984\n"
     ]
    }
   ],
   "source": [
    "# Example 6: Numerical Integration with Singularities\n",
    "# Integrate a function f(x) = 1 / sqrt(x) from 0 to 1\n",
    "result, error = spi.quad(lambda x: 1 / np.sqrt(x), 0, 1)\n",
    "print(\"Example 6: Result of integration with singularity:\", result)"
   ]
  },
  {
   "cell_type": "code",
   "execution_count": 8,
   "metadata": {},
   "outputs": [
    {
     "name": "stdout",
     "output_type": "stream",
     "text": [
      "Example 7: Result of Gaussian quadrature: (297.0833333333332, None)\n"
     ]
    }
   ],
   "source": [
    "# Example 7: Gaussian Quadrature\n",
    "# Integrate a function f(x) = x^3 + 2x^2 + 3x + 4 using Gaussian quadrature\n",
    "coefficients = [1, 2, 3, 4]\n",
    "result = spi.fixed_quad(lambda x: np.polyval(coefficients, x), 0, 5, n=5)\n",
    "print(\"Example 7: Result of Gaussian quadrature:\", result)"
   ]
  },
  {
   "cell_type": "code",
   "execution_count": 9,
   "metadata": {},
   "outputs": [
    {
     "name": "stdout",
     "output_type": "stream",
     "text": [
      "Example 8: Result of Romberg integration: 2.000000000001321\n"
     ]
    }
   ],
   "source": [
    "# Example 8: Romberg Integration\n",
    "# Integrate a function f(x) = sin(x) from 0 to pi using Romberg integration\n",
    "result = spi.romberg(np.sin, 0, np.pi)\n",
    "print(\"Example 8: Result of Romberg integration:\", result)"
   ]
  },
  {
   "cell_type": "code",
   "execution_count": 10,
   "metadata": {},
   "outputs": [],
   "source": [
    "# Example 9: Numerical ODE Integration\n",
    "# Solve the differential equation y' = -2y with initial condition y(0) = 1\n",
    "def dydt(y, t):\n",
    "    return -2*y"
   ]
  },
  {
   "cell_type": "code",
   "execution_count": 11,
   "metadata": {},
   "outputs": [
    {
     "name": "stdout",
     "output_type": "stream",
     "text": [
      "Example 9: Solution of the ODE: [[1.00000000e+00]\n",
      " [9.03923930e-01]\n",
      " [8.17078438e-01]\n",
      " [7.38576695e-01]\n",
      " [6.67617161e-01]\n",
      " [6.03475107e-01]\n",
      " [5.45495582e-01]\n",
      " [4.93086496e-01]\n",
      " [4.45712671e-01]\n",
      " [4.02890341e-01]\n",
      " [3.64182218e-01]\n",
      " [3.29192998e-01]\n",
      " [2.97565412e-01]\n",
      " [2.68976488e-01]\n",
      " [2.43134276e-01]\n",
      " [2.19774882e-01]\n",
      " [1.98659768e-01]\n",
      " [1.79573312e-01]\n",
      " [1.62320605e-01]\n",
      " [1.46725473e-01]\n",
      " [1.32628659e-01]\n",
      " [1.19886213e-01]\n",
      " [1.08368012e-01]\n",
      " [9.79564347e-02]\n",
      " [8.85451611e-02]\n",
      " [8.00380867e-02]\n",
      " [7.23483383e-02]\n",
      " [6.53973910e-02]\n",
      " [5.91142638e-02]\n",
      " [5.34347933e-02]\n",
      " [4.83009892e-02]\n",
      " [4.36604225e-02]\n",
      " [3.94657014e-02]\n",
      " [3.56739919e-02]\n",
      " [3.22465739e-02]\n",
      " [2.91484488e-02]\n",
      " [2.63479802e-02]\n",
      " [2.38165690e-02]\n",
      " [2.15283657e-02]\n",
      " [1.94600044e-02]\n",
      " [1.75903635e-02]\n",
      " [1.59003502e-02]\n",
      " [1.43727067e-02]\n",
      " [1.29918333e-02]\n",
      " [1.17436288e-02]\n",
      " [1.06153470e-02]\n",
      " [9.59546599e-03]\n",
      " [8.67357115e-03]\n",
      " [7.84024833e-03]\n",
      " [7.08698799e-03]\n",
      " [6.40609791e-03]\n",
      " [5.79062510e-03]\n",
      " [5.23428448e-03]\n",
      " [4.73139492e-03]\n",
      " [4.27682099e-03]\n",
      " [3.86592079e-03]\n",
      " [3.49449823e-03]\n",
      " [3.15876053e-03]\n",
      " [2.85527918e-03]\n",
      " [2.58095539e-03]\n",
      " [2.33298749e-03]\n",
      " [2.10884312e-03]\n",
      " [1.90623362e-03]\n",
      " [1.72308982e-03]\n",
      " [1.55754148e-03]\n",
      " [1.40789885e-03]\n",
      " [1.27263306e-03]\n",
      " [1.15036339e-03]\n",
      " [1.03984076e-03]\n",
      " [9.39936795e-04]\n",
      " [8.49631240e-04]\n",
      " [7.68001799e-04]\n",
      " [6.94215198e-04]\n",
      " [6.27517564e-04]\n",
      " [5.67228093e-04]\n",
      " [5.12730665e-04]\n",
      " [4.63469351e-04]\n",
      " [4.18940994e-04]\n",
      " [3.78690656e-04]\n",
      " [3.42307615e-04]\n",
      " [3.09419930e-04]\n",
      " [2.79692049e-04]\n",
      " [2.52820276e-04]\n",
      " [2.28530169e-04]\n",
      " [2.06573928e-04]\n",
      " [1.86727070e-04]\n",
      " [1.68787074e-04]\n",
      " [1.52570644e-04]\n",
      " [1.37912185e-04]\n",
      " [1.24662130e-04]\n",
      " [1.12685034e-04]\n",
      " [1.01858683e-04]\n",
      " [9.20723018e-05]\n",
      " [8.32260259e-05]\n",
      " [7.52299712e-05]\n",
      " [6.80024402e-05]\n",
      " [6.14694625e-05]\n",
      " [5.55639562e-05]\n",
      " [5.02259388e-05]\n",
      " [4.54009278e-05]]\n"
     ]
    }
   ],
   "source": [
    "time_points = np.linspace(0, 5, 100)\n",
    "initial_condition = 1\n",
    "solution = spi.odeint(dydt, initial_condition, time_points)\n",
    "print(\"Example 9: Solution of the ODE:\", solution)"
   ]
  },
  {
   "cell_type": "code",
   "execution_count": 12,
   "metadata": {},
   "outputs": [
    {
     "name": "stdout",
     "output_type": "stream",
     "text": [
      "Example 10: Solution of the heat equation: [[ 0.00000000e+00  3.17279335e-02  6.34239197e-02 ...  6.34239197e-02\n",
      "   3.17279335e-02  1.22464680e-16]\n",
      " [-8.16839145e-07  3.17263103e-02  6.34206901e-02 ...  6.34206901e-02\n",
      "   3.17263103e-02 -8.16839145e-07]\n",
      " [-1.65376170e-06  3.17246671e-02  6.34174505e-02 ...  6.34174505e-02\n",
      "   3.17246671e-02 -1.65376170e-06]\n",
      " ...\n",
      " [-1.49383561e-04  3.15005270e-02  6.30667478e-02 ...  6.30667478e-02\n",
      "   3.15005270e-02 -1.49383561e-04]\n",
      " [-1.51501839e-04  3.14976064e-02  6.30626421e-02 ...  6.30626421e-02\n",
      "   3.14976064e-02 -1.51501839e-04]\n",
      " [-1.53629758e-04  3.14946762e-02  6.30585285e-02 ...  6.30585285e-02\n",
      "   3.14946762e-02 -1.53629758e-04]]\n"
     ]
    }
   ],
   "source": [
    "# Example 10: Numerical PDE Integration (Heat Equation)\n",
    "# Solve the heat equation u_t = u_xx with initial condition u(x, 0) = sin(pi*x)\n",
    "def heat_eq(u, t):\n",
    "    return np.gradient(np.gradient(u))\n",
    "\n",
    "x_points = np.linspace(0, 1, 100)\n",
    "initial_condition = np.sin(np.pi * x_points)\n",
    "solution = spi.odeint(heat_eq, initial_condition, time_points)\n",
    "print(\"Example 10: Solution of the heat equation:\", solution)"
   ]
  },
  {
   "cell_type": "code",
   "execution_count": 13,
   "metadata": {},
   "outputs": [
    {
     "data": {
      "image/png": "[encoded data removed]",
      "text/plain": [
       "<Figure size 1000x600 with 1 Axes>"
      ]
     },
     "metadata": {},
     "output_type": "display_data"
    }
   ],
   "source": [
    "# Plotting Example\n",
    "plt.figure(figsize=(10, 6))\n",
    "plt.plot(time_points, solution)\n",
    "plt.xlabel('Time')\n",
    "plt.ylabel('Solution')\n",
    "plt.title('Solution of the Heat Equation')\n",
    "plt.show()"
   ]
  }
 ],
 "metadata": {
  "kernelspec": {
   "display_name": "Python 3",
   "language": "python",
   "name": "python3"
  },
  "language_info": {
   "codemirror_mode": {
    "name": "ipython",
    "version": 3
   },
   "file_extension": ".py",
   "mimetype": "text/x-python",
   "name": "python",
   "nbconvert_exporter": "python",
   "pygments_lexer": "ipython3",
   "version": "3.11.2"
  },
  "orig_nbformat": 4
 },
 "nbformat": 4,
 "nbformat_minor": 2
}
