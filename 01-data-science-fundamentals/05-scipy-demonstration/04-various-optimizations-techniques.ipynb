{
 "cells": [
  {
   "cell_type": "code",
   "execution_count": 1,
   "metadata": {},
   "outputs": [],
   "source": [
    "# Import necessary libraries\n",
    "import numpy as np\n",
    "import scipy.optimize as spo\n",
    "import matplotlib.pyplot as plt"
   ]
  },
  {
   "cell_type": "code",
   "execution_count": 2,
   "metadata": {},
   "outputs": [
    {
     "name": "stdout",
     "output_type": "stream",
     "text": [
      "Example 1: Minimum value of the function: 2.0\n"
     ]
    }
   ],
   "source": [
    "# Example 1: Minimization using minimize_scalar\n",
    "# Find the minimum value of the function f(x) = x^2 + 2x + 3\n",
    "result = spo.minimize_scalar(lambda x: x**2 + 2*x + 3)\n",
    "print(\"Example 1: Minimum value of the function:\", result.fun)"
   ]
  },
  {
   "cell_type": "code",
   "execution_count": 3,
   "metadata": {},
   "outputs": [
    {
     "name": "stdout",
     "output_type": "stream",
     "text": [
      "Example 2: Minimum value of the function subject to the constraint: 0.5\n"
     ]
    }
   ],
   "source": [
    "# Example 2: Minimization with Constraints using minimize\n",
    "# Find the minimum value of the function f(x, y) = x^2 + y^2 subject to the constraint x + y = 1\n",
    "constraint = {'type': 'eq', 'fun': lambda x: x[0] + x[1] - 1}\n",
    "result = spo.minimize(lambda x: x[0]**2 + x[1]**2, x0=[0, 0], constraints=constraint)\n",
    "print(\"Example 2: Minimum value of the function subject to the constraint:\", result.fun)\n"
   ]
  },
  {
   "cell_type": "code",
   "execution_count": 4,
   "metadata": {},
   "outputs": [
    {
     "name": "stdout",
     "output_type": "stream",
     "text": [
      "Example 3: Minimum value of the function subject to the bounds: 0.0\n"
     ]
    }
   ],
   "source": [
    "# Example 3: Minimization with Bounds using minimize\n",
    "# Find the minimum value of the function f(x, y) = x^2 + y^2 subject to the bounds 0 <= x <= 1 and 0 <= y <= 2\n",
    "bounds = [(0, 1), (0, 2)]\n",
    "result = spo.minimize(lambda x: x[0]**2 + x[1]**2, x0=[0, 0], bounds=bounds)\n",
    "print(\"Example 3: Minimum value of the function subject to the bounds:\", result.fun)\n"
   ]
  },
  {
   "cell_type": "code",
   "execution_count": 6,
   "metadata": {},
   "outputs": [
    {
     "ename": "TypeError",
     "evalue": "'int' object is not iterable",
     "output_type": "error",
     "traceback": [
      "\u001b[1;31m---------------------------------------------------------------------------\u001b[0m",
      "\u001b[1;31mTypeError\u001b[0m                                 Traceback (most recent call last)",
      "Cell \u001b[1;32mIn[6], line 5\u001b[0m\n\u001b[0;32m      3\u001b[0m custom_constraint \u001b[39m=\u001b[39m {\u001b[39m'\u001b[39m\u001b[39mtype\u001b[39m\u001b[39m'\u001b[39m: \u001b[39m'\u001b[39m\u001b[39mineq\u001b[39m\u001b[39m'\u001b[39m, \u001b[39m'\u001b[39m\u001b[39mfun\u001b[39m\u001b[39m'\u001b[39m: \u001b[39mlambda\u001b[39;00m x: x \u001b[39m-\u001b[39m \u001b[39m2\u001b[39m}\n\u001b[0;32m      4\u001b[0m custom_bounds \u001b[39m=\u001b[39m (\u001b[39m2\u001b[39m, \u001b[39m5\u001b[39m)\n\u001b[1;32m----> 5\u001b[0m result \u001b[39m=\u001b[39m spo\u001b[39m.\u001b[39;49mminimize(\u001b[39mlambda\u001b[39;49;00m x: x\u001b[39m*\u001b[39;49m\u001b[39m*\u001b[39;49m\u001b[39m2\u001b[39;49m, x0\u001b[39m=\u001b[39;49m\u001b[39m3\u001b[39;49m, constraints\u001b[39m=\u001b[39;49mcustom_constraint, bounds\u001b[39m=\u001b[39;49mcustom_bounds)\n\u001b[0;32m      6\u001b[0m \u001b[39mprint\u001b[39m(\u001b[39m\"\u001b[39m\u001b[39mExample 4: Minimum value of the function subject to custom constraint and bounds:\u001b[39m\u001b[39m\"\u001b[39m, result\u001b[39m.\u001b[39mfun)\n",
      "File \u001b[1;32m~\\AppData\\Roaming\\Python\\Python311\\site-packages\\scipy\\optimize\\_minimize.py:642\u001b[0m, in \u001b[0;36mminimize\u001b[1;34m(fun, x0, args, method, jac, hess, hessp, bounds, constraints, tol, callback, options)\u001b[0m\n\u001b[0;32m    639\u001b[0m remove_vars \u001b[39m=\u001b[39m \u001b[39mFalse\u001b[39;00m\n\u001b[0;32m    640\u001b[0m \u001b[39mif\u001b[39;00m bounds \u001b[39mis\u001b[39;00m \u001b[39mnot\u001b[39;00m \u001b[39mNone\u001b[39;00m:\n\u001b[0;32m    641\u001b[0m     \u001b[39m# convert to new-style bounds so we only have to consider one case\u001b[39;00m\n\u001b[1;32m--> 642\u001b[0m     bounds \u001b[39m=\u001b[39m standardize_bounds(bounds, x0, \u001b[39m'\u001b[39;49m\u001b[39mnew\u001b[39;49m\u001b[39m'\u001b[39;49m)\n\u001b[0;32m    643\u001b[0m     bounds \u001b[39m=\u001b[39m _validate_bounds(bounds, x0, meth)\n\u001b[0;32m    645\u001b[0m     \u001b[39mif\u001b[39;00m meth \u001b[39min\u001b[39;00m {\u001b[39m\"\u001b[39m\u001b[39mtnc\u001b[39m\u001b[39m\"\u001b[39m, \u001b[39m\"\u001b[39m\u001b[39mslsqp\u001b[39m\u001b[39m\"\u001b[39m, \u001b[39m\"\u001b[39m\u001b[39ml-bfgs-b\u001b[39m\u001b[39m\"\u001b[39m}:\n\u001b[0;32m    646\u001b[0m         \u001b[39m# These methods can't take the finite-difference derivatives they\u001b[39;00m\n\u001b[0;32m    647\u001b[0m         \u001b[39m# need when a variable is fixed by the bounds. To avoid this issue,\u001b[39;00m\n\u001b[1;32m   (...)\u001b[0m\n\u001b[0;32m    652\u001b[0m \n\u001b[0;32m    653\u001b[0m         \u001b[39m# determine whether any variables are fixed\u001b[39;00m\n",
      "File \u001b[1;32m~\\AppData\\Roaming\\Python\\Python311\\site-packages\\scipy\\optimize\\_minimize.py:1011\u001b[0m, in \u001b[0;36mstandardize_bounds\u001b[1;34m(bounds, x0, meth)\u001b[0m\n\u001b[0;32m   1009\u001b[0m \u001b[39mif\u001b[39;00m meth \u001b[39min\u001b[39;00m {\u001b[39m'\u001b[39m\u001b[39mtrust-constr\u001b[39m\u001b[39m'\u001b[39m, \u001b[39m'\u001b[39m\u001b[39mpowell\u001b[39m\u001b[39m'\u001b[39m, \u001b[39m'\u001b[39m\u001b[39mnelder-mead\u001b[39m\u001b[39m'\u001b[39m, \u001b[39m'\u001b[39m\u001b[39mcobyla\u001b[39m\u001b[39m'\u001b[39m, \u001b[39m'\u001b[39m\u001b[39mnew\u001b[39m\u001b[39m'\u001b[39m}:\n\u001b[0;32m   1010\u001b[0m     \u001b[39mif\u001b[39;00m \u001b[39mnot\u001b[39;00m \u001b[39misinstance\u001b[39m(bounds, Bounds):\n\u001b[1;32m-> 1011\u001b[0m         lb, ub \u001b[39m=\u001b[39m old_bound_to_new(bounds)\n\u001b[0;32m   1012\u001b[0m         bounds \u001b[39m=\u001b[39m Bounds(lb, ub)\n\u001b[0;32m   1013\u001b[0m \u001b[39melif\u001b[39;00m meth \u001b[39min\u001b[39;00m (\u001b[39m'\u001b[39m\u001b[39ml-bfgs-b\u001b[39m\u001b[39m'\u001b[39m, \u001b[39m'\u001b[39m\u001b[39mtnc\u001b[39m\u001b[39m'\u001b[39m, \u001b[39m'\u001b[39m\u001b[39mslsqp\u001b[39m\u001b[39m'\u001b[39m, \u001b[39m'\u001b[39m\u001b[39mold\u001b[39m\u001b[39m'\u001b[39m):\n",
      "File \u001b[1;32m~\\AppData\\Roaming\\Python\\Python311\\site-packages\\scipy\\optimize\\_constraints.py:426\u001b[0m, in \u001b[0;36mold_bound_to_new\u001b[1;34m(bounds)\u001b[0m\n\u001b[0;32m    417\u001b[0m \u001b[39mdef\u001b[39;00m \u001b[39mold_bound_to_new\u001b[39m(bounds):\n\u001b[0;32m    418\u001b[0m \u001b[39m    \u001b[39m\u001b[39m\"\"\"Convert the old bounds representation to the new one.\u001b[39;00m\n\u001b[0;32m    419\u001b[0m \n\u001b[0;32m    420\u001b[0m \u001b[39m    The new representation is a tuple (lb, ub) and the old one is a list\u001b[39;00m\n\u001b[1;32m   (...)\u001b[0m\n\u001b[0;32m    424\u001b[0m \u001b[39m    -np.inf/np.inf.\u001b[39;00m\n\u001b[0;32m    425\u001b[0m \u001b[39m    \"\"\"\u001b[39;00m\n\u001b[1;32m--> 426\u001b[0m     lb, ub \u001b[39m=\u001b[39m \u001b[39mzip\u001b[39;49m(\u001b[39m*\u001b[39;49mbounds)\n\u001b[0;32m    428\u001b[0m     \u001b[39m# Convert occurrences of None to -inf or inf, and replace occurrences of\u001b[39;00m\n\u001b[0;32m    429\u001b[0m     \u001b[39m# any numpy array x with x.item(). Then wrap the results in numpy arrays.\u001b[39;00m\n\u001b[0;32m    430\u001b[0m     lb \u001b[39m=\u001b[39m np\u001b[39m.\u001b[39marray([\u001b[39mfloat\u001b[39m(_arr_to_scalar(x)) \u001b[39mif\u001b[39;00m x \u001b[39mis\u001b[39;00m \u001b[39mnot\u001b[39;00m \u001b[39mNone\u001b[39;00m \u001b[39melse\u001b[39;00m \u001b[39m-\u001b[39mnp\u001b[39m.\u001b[39minf\n\u001b[0;32m    431\u001b[0m                    \u001b[39mfor\u001b[39;00m x \u001b[39min\u001b[39;00m lb])\n",
      "\u001b[1;31mTypeError\u001b[0m: 'int' object is not iterable"
     ]
    }
   ],
   "source": [
    "# Example 4: Minimization with Custom Constraints and Bounds\n",
    "# Find the minimum value of the function f(x) = x^2 subject to the constraint x >= 2 and x <= 5\n",
    "custom_constraint = {'type': 'ineq', 'fun': lambda x: x - 2}\n",
    "custom_bounds = (2, 5)\n",
    "result = spo.minimize(lambda x: x**2, x0=3, constraints=custom_constraint, bounds=custom_bounds)\n",
    "print(\"Example 4: Minimum value of the function subject to custom constraint and bounds:\", result.fun)"
   ]
  },
  {
   "cell_type": "code",
   "execution_count": 7,
   "metadata": {},
   "outputs": [
    {
     "name": "stdout",
     "output_type": "stream",
     "text": [
      "Example 5: Global minimum value of the function: -6.542968750000007\n"
     ]
    }
   ],
   "source": [
    "# Example 5: Global Minimization using basinhopping\n",
    "# Find the global minimum value of the function f(x) = x^4 - 3x^3 + 2\n",
    "result = spo.basinhopping(lambda x: x[0]**4 - 3*x[0]**3 + 2, x0=[0])\n",
    "print(\"Example 5: Global minimum value of the function:\", result.fun)"
   ]
  },
  {
   "cell_type": "code",
   "execution_count": 8,
   "metadata": {},
   "outputs": [
    {
     "name": "stdout",
     "output_type": "stream",
     "text": [
      "Example 6: Minimum value of the function with Jacobian: 0.0\n"
     ]
    }
   ],
   "source": [
    "# Example 6: Minimization with Jacobian using minimize\n",
    "# Find the minimum value of the function f(x) = (x-3)^2\n",
    "result = spo.minimize(lambda x: (x-3)**2, x0=[0], jac=lambda x: 2*(x-3))\n",
    "print(\"Example 6: Minimum value of the function with Jacobian:\", result.fun)\n"
   ]
  },
  {
   "cell_type": "code",
   "execution_count": 9,
   "metadata": {},
   "outputs": [
    {
     "name": "stdout",
     "output_type": "stream",
     "text": [
      "Example 7: Minimum value of the function with Hessian: 4.0\n"
     ]
    }
   ],
   "source": [
    "# Example 7: Minimization with Hessian using minimize\n",
    "# Find the minimum value of the function f(x) = x^4 - 4x^2 + 4\n",
    "result = spo.minimize(lambda x: x[0]**4 - 4*x[0]**2 + 4, x0=[0], jac=lambda x: 4*x[0]**3 - 8*x[0])\n",
    "print(\"Example 7: Minimum value of the function with Hessian:\", result.fun)\n"
   ]
  },
  {
   "cell_type": "code",
   "execution_count": 10,
   "metadata": {},
   "outputs": [
    {
     "name": "stdout",
     "output_type": "stream",
     "text": [
      "Example 8: Root of the function: [0.]\n"
     ]
    },
    {
     "name": "stderr",
     "output_type": "stream",
     "text": [
      "C:\\Users\\rvign\\AppData\\Roaming\\Python\\Python311\\site-packages\\scipy\\optimize\\_minpack_py.py:177: RuntimeWarning: The iteration is not making good progress, as measured by the \n",
      "  improvement from the last ten iterations.\n",
      "  warnings.warn(msg, RuntimeWarning)\n"
     ]
    }
   ],
   "source": [
    "# Example 8: Finding Roots of a Function using fsolve\n",
    "# Find the root of the function f(x) = x^2 - 4\n",
    "result = spo.fsolve(lambda x: x**2 - 4, x0=[0])\n",
    "print(\"Example 8: Root of the function:\", result)\n"
   ]
  },
  {
   "cell_type": "code",
   "execution_count": 11,
   "metadata": {},
   "outputs": [
    {
     "name": "stdout",
     "output_type": "stream",
     "text": [
      "Example 9: All roots of the function: [1. 1. 2.]\n"
     ]
    }
   ],
   "source": [
    "# Example 9: Finding Multiple Roots using fsolve\n",
    "# Find all the roots of the function f(x) = x^3 - 6x^2 + 11x - 6\n",
    "result = spo.fsolve(lambda x: x**3 - 6*x**2 + 11*x - 6, x0=[0, 1, 2])\n",
    "print(\"Example 9: All roots of the function:\", result)\n"
   ]
  },
  {
   "cell_type": "code",
   "execution_count": 12,
   "metadata": {},
   "outputs": [
    {
     "name": "stdout",
     "output_type": "stream",
     "text": [
      "Example 10: Roots of the system of equations: [2. 1.]\n"
     ]
    }
   ],
   "source": [
    "# Example 10: Finding Roots of a System of Equations using fsolve\n",
    "# Find the roots of the system of equations: x + y = 3 and x - y = 1\n",
    "result = spo.fsolve(lambda x: [x[0] + x[1] - 3, x[0] - x[1] - 1], x0=[0, 0])\n",
    "print(\"Example 10: Roots of the system of equations:\", result)\n"
   ]
  },
  {
   "cell_type": "code",
   "execution_count": 13,
   "metadata": {},
   "outputs": [
    {
     "name": "stdout",
     "output_type": "stream",
     "text": [
      "Example 11: Global minimum value of the function using Differential Evolution: 2.316808419788213\n"
     ]
    }
   ],
   "source": [
    "# Example 11: Finding Global Minimum with Differential Evolution\n",
    "# Find the global minimum of the function f(x) = x^2 + 4*cos(x) on the interval -10 <= x <= 10\n",
    "result = spo.differential_evolution(lambda x: x**2 + 4*np.cos(x), bounds=[(-10, 10)])\n",
    "print(\"Example 11: Global minimum value of the function using Differential Evolution:\", result.fun)\n"
   ]
  },
  {
   "cell_type": "code",
   "execution_count": 14,
   "metadata": {},
   "outputs": [
    {
     "ename": "TypeError",
     "evalue": "dual_annealing() got an unexpected keyword argument 'constraints'",
     "output_type": "error",
     "traceback": [
      "\u001b[1;31m---------------------------------------------------------------------------\u001b[0m",
      "\u001b[1;31mTypeError\u001b[0m                                 Traceback (most recent call last)",
      "Cell \u001b[1;32mIn[14], line 3\u001b[0m\n\u001b[0;32m      1\u001b[0m \u001b[39m# Example 12: Finding Constrained Global Minimum using Dual Annealing\u001b[39;00m\n\u001b[0;32m      2\u001b[0m \u001b[39m# Find the constrained global minimum of the function f(x, y) = x^2 + y^2 subject to x + y >= 1 and x, y >= 0\u001b[39;00m\n\u001b[1;32m----> 3\u001b[0m result \u001b[39m=\u001b[39m spo\u001b[39m.\u001b[39;49mdual_annealing(\u001b[39mlambda\u001b[39;49;00m x: x[\u001b[39m0\u001b[39;49m]\u001b[39m*\u001b[39;49m\u001b[39m*\u001b[39;49m\u001b[39m2\u001b[39;49m \u001b[39m+\u001b[39;49m x[\u001b[39m1\u001b[39;49m]\u001b[39m*\u001b[39;49m\u001b[39m*\u001b[39;49m\u001b[39m2\u001b[39;49m, bounds\u001b[39m=\u001b[39;49m[(\u001b[39m0\u001b[39;49m, \u001b[39mNone\u001b[39;49;00m), (\u001b[39m0\u001b[39;49m, \u001b[39mNone\u001b[39;49;00m)], constraints\u001b[39m=\u001b[39;49m{\u001b[39m'\u001b[39;49m\u001b[39mtype\u001b[39;49m\u001b[39m'\u001b[39;49m: \u001b[39m'\u001b[39;49m\u001b[39mineq\u001b[39;49m\u001b[39m'\u001b[39;49m, \u001b[39m'\u001b[39;49m\u001b[39mfun\u001b[39;49m\u001b[39m'\u001b[39;49m: \u001b[39mlambda\u001b[39;49;00m x: x[\u001b[39m0\u001b[39;49m] \u001b[39m+\u001b[39;49m x[\u001b[39m1\u001b[39;49m] \u001b[39m-\u001b[39;49m \u001b[39m1\u001b[39;49m})\n\u001b[0;32m      4\u001b[0m \u001b[39mprint\u001b[39m(\u001b[39m\"\u001b[39m\u001b[39mExample 12: Constrained global minimum value of the function using Dual Annealing:\u001b[39m\u001b[39m\"\u001b[39m, result\u001b[39m.\u001b[39mfun)\n",
      "\u001b[1;31mTypeError\u001b[0m: dual_annealing() got an unexpected keyword argument 'constraints'"
     ]
    }
   ],
   "source": [
    "# Example 12: Finding Constrained Global Minimum using Dual Annealing\n",
    "# Find the constrained global minimum of the function f(x, y) = x^2 + y^2 subject to x + y >= 1 and x, y >= 0\n",
    "result = spo.dual_annealing(lambda x: x[0]**2 + x[1]**2, bounds=[(0, None), (0, None)], constraints={'type': 'ineq', 'fun': lambda x: x[0] + x[1] - 1})\n",
    "print(\"Example 12: Constrained global minimum value of the function using Dual Annealing:\", result.fun)\n"
   ]
  },
  {
   "cell_type": "code",
   "execution_count": 15,
   "metadata": {},
   "outputs": [
    {
     "name": "stdout",
     "output_type": "stream",
     "text": [
      "Example 13: Minimum value of the function subject to constraints using SLSQP: 0.5\n"
     ]
    }
   ],
   "source": [
    "# Example 13: Finding Minimum with Constraints using Sequential Least SQuares Programming (SLSQP)\n",
    "# Find the minimum value of the function f(x, y) = x^2 + y^2 subject to the constraints x + y = 1 and x >= 0\n",
    "result = spo.minimize(lambda x: x[0]**2 + x[1]**2, x0=[0, 0], constraints={'type': 'eq', 'fun': lambda x: x[0] + x[1] - 1}, method='SLSQP')\n",
    "print(\"Example 13: Minimum value of the function subject to constraints using SLSQP:\", result.fun)\n"
   ]
  },
  {
   "cell_type": "code",
   "execution_count": 16,
   "metadata": {},
   "outputs": [
    {
     "name": "stdout",
     "output_type": "stream",
     "text": [
      "Example 14: Constrained minimum value of the function using Trust-Constr: 5.906813362492702e-18\n"
     ]
    },
    {
     "name": "stderr",
     "output_type": "stream",
     "text": [
      "C:\\Users\\rvign\\AppData\\Roaming\\Python\\Python311\\site-packages\\scipy\\optimize\\_hessian_update_strategy.py:182: UserWarning: delta_grad == 0.0. Check if the approximated function is linear. If the function is linear better results can be obtained by defining the Hessian as zero instead of using quasi-Newton approximations.\n",
      "  warn('delta_grad == 0.0. Check if the approximated '\n"
     ]
    }
   ],
   "source": [
    "# Example 14: Finding Constrained Minimum using Trust-Constr\n",
    "# Find the constrained minimum of the function f(x) = (x-3)^2 subject to the constraint x >= 2 and x <= 5\n",
    "result = spo.minimize(lambda x: (x-3)**2, x0=3, constraints={'type': 'ineq', 'fun': lambda x: x - 2}, bounds=[(2, 5)], method='trust-constr')\n",
    "print(\"Example 14: Constrained minimum value of the function using Trust-Constr:\", result.fun)\n"
   ]
  },
  {
   "cell_type": "code",
   "execution_count": 17,
   "metadata": {},
   "outputs": [
    {
     "name": "stdout",
     "output_type": "stream",
     "text": [
      "Example 15: Minimum value of the function subject to nonlinear constraint using SLSQP: -8.000000085940252\n"
     ]
    }
   ],
   "source": [
    "# Example 15: Finding Minimum with Non-Linear Constraints using Sequential Least SQuares Programming (SLSQP)\n",
    "# Find the minimum value of the function f(x) = x^3 - 3*x^2 + 3*x - 1 subject to the constraint x^2 + y^2 = 1\n",
    "def constraint_func(x):\n",
    "    return x[0]**2 + x[1]**2 - 1\n",
    "\n",
    "result = spo.minimize(lambda x: x[0]**3 - 3*x[0]**2 + 3*x[0] - 1, x0=[0, 0], constraints={'type': 'eq', 'fun': constraint_func}, method='SLSQP')\n",
    "print(\"Example 15: Minimum value of the function subject to nonlinear constraint using SLSQP:\", result.fun)\n"
   ]
  },
  {
   "cell_type": "code",
   "execution_count": 18,
   "metadata": {},
   "outputs": [
    {
     "name": "stdout",
     "output_type": "stream",
     "text": [
      "Example 16: Minimum value of the function subject to nonlinear constraint using SLSQP: 8.333333333333332\n"
     ]
    }
   ],
   "source": [
    "# Example 16: Finding Minimum with Non-Linear Constraints using Sequential Least SQuares Programming (SLSQP)\n",
    "# Find the minimum value of the function f(x, y, z) = (x-3)^2 + (y-2)^2 + z^2 subject to the constraint x + y + z = 10\n",
    "def constraint_func(x):\n",
    "    return x[0] + x[1] + x[2] - 10\n",
    "\n",
    "result = spo.minimize(lambda x: (x[0]-3)**2 + (x[1]-2)**2 + x[2]**2, x0=[0, 0, 0], constraints={'type': 'eq', 'fun': constraint_func}, method='SLSQP')\n",
    "print(\"Example 16: Minimum value of the function subject to nonlinear constraint using SLSQP:\", result.fun)\n"
   ]
  },
  {
   "cell_type": "code",
   "execution_count": 19,
   "metadata": {},
   "outputs": [
    {
     "name": "stdout",
     "output_type": "stream",
     "text": [
      "Example 17: Minimum value of the function subject to nonlinear constraint using SLSQP: 6.788897295978451\n"
     ]
    }
   ],
   "source": [
    "# Example 17: Finding Minimum with Non-Linear Constraints using Sequential Least SQuares Programming (SLSQP)\n",
    "# Find the minimum value of the function f(x, y, z) = (x-3)^2 + (y-2)^2 + z^2 subject to the constraint x^2 + y^2 = 1\n",
    "def constraint_func(x):\n",
    "    return x[0]**2 + x[1]**2 - 1\n",
    "\n",
    "result = spo.minimize(lambda x: (x[0]-3)**2 + (x[1]-2)**2 + x[2]**2, x0=[0, 0, 0], constraints={'type': 'eq', 'fun': constraint_func}, method='SLSQP')\n",
    "print(\"Example 17: Minimum value of the function subject to nonlinear constraint using SLSQP:\", result.fun)\n"
   ]
  },
  {
   "cell_type": "code",
   "execution_count": 20,
   "metadata": {},
   "outputs": [
    {
     "name": "stdout",
     "output_type": "stream",
     "text": [
      "Example 18: Minimum value of the function subject to nonlinear constraint using SLSQP: 33.33333333333334\n"
     ]
    }
   ],
   "source": [
    "# Example 18: Finding Minimum with Non-Linear Constraints using Sequential Least SQuares Programming (SLSQP)\n",
    "# Find the minimum value of the function f(x, y, z) = x^2 + y^2 + z^2 subject to the constraint x + y + z = 10\n",
    "def constraint_func(x):\n",
    "    return x[0] + x[1] + x[2] - 10\n",
    "\n",
    "result = spo.minimize(lambda x: x[0]**2 + x[1]**2 + x[2]**2, x0=[0, 0, 0], constraints={'type': 'eq', 'fun': constraint_func}, method='SLSQP')\n",
    "print(\"Example 18: Minimum value of the function subject to nonlinear constraint using SLSQP:\", result.fun)\n"
   ]
  },
  {
   "cell_type": "code",
   "execution_count": 21,
   "metadata": {},
   "outputs": [
    {
     "name": "stdout",
     "output_type": "stream",
     "text": [
      "Example 19: Minimum value of the function subject to linear constraints using Linear Programming: 6.0\n"
     ]
    }
   ],
   "source": [
    "# Example 19: Finding Minimum with Linear Constraints using Linear Programming (linprog)\n",
    "# Find the minimum value of the function f(x, y) = 3*x + 2*y subject to the constraints 2*x + y >= 4, x + y <= 5, and x, y >= 0\n",
    "c = [3, 2]  # Coefficients of the objective function\n",
    "A = [[-2, -1], [1, 1]]  # Coefficients of the inequality constraints\n",
    "b = [-4, 5]  # Right-hand side of the inequality constraints\n",
    "bounds = [(0, None), (0, None)]  # Bounds for the variables x and y\n",
    "result = spo.linprog(c, A_ub=A, b_ub=b, bounds=bounds, method='highs')\n",
    "print(\"Example 19: Minimum value of the function subject to linear constraints using Linear Programming:\", result.fun)\n"
   ]
  },
  {
   "cell_type": "code",
   "execution_count": 22,
   "metadata": {},
   "outputs": [
    {
     "name": "stdout",
     "output_type": "stream",
     "text": [
      "Example 20: Maximum value of the function subject to linear constraints using Linear Programming: 8.0\n"
     ]
    }
   ],
   "source": [
    "# Example 20: Finding Maximum with Linear Constraints using Linear Programming (linprog)\n",
    "# Find the maximum value of the function f(x, y) = 3*x + 2*y subject to the constraints 2*x + y <= 4, x + y <= 5, and x, y >= 0\n",
    "c = [-3, -2]  # Coefficients of the objective function (negative for maximization)\n",
    "A = [[2, 1], [1, 1]]  # Coefficients of the inequality constraints\n",
    "b = [4, 5]  # Right-hand side of the inequality constraints\n",
    "bounds = [(0, None), (0, None)]  # Bounds for the variables x and y\n",
    "result = spo.linprog(c, A_ub=A, b_ub=b, bounds=bounds, method='highs')\n",
    "print(\"Example 20: Maximum value of the function subject to linear constraints using Linear Programming:\", -result.fun)\n"
   ]
  },
  {
   "cell_type": "code",
   "execution_count": 23,
   "metadata": {},
   "outputs": [
    {
     "name": "stdout",
     "output_type": "stream",
     "text": [
      "Example 21: Constrained minimum value of the function using Interior Point Algorithm: 0.500160707315577\n"
     ]
    }
   ],
   "source": [
    "# Example 21: Finding Constrained Minimum using Interior Point Algorithm\n",
    "# Find the constrained minimum of the function f(x, y) = x^2 + y^2 subject to the constraint x + y >= 1 and x, y >= 0\n",
    "result = spo.minimize(lambda x: x[0]**2 + x[1]**2, x0=[0, 0], constraints={'type': 'ineq', 'fun': lambda x: x[0] + x[1] - 1}, method='trust-constr')\n",
    "print(\"Example 21: Constrained minimum value of the function using Interior Point Algorithm:\", result.fun)\n"
   ]
  },
  {
   "cell_type": "code",
   "execution_count": 24,
   "metadata": {},
   "outputs": [
    {
     "name": "stdout",
     "output_type": "stream",
     "text": [
      "Example 22: Global minimum value of the function using SHGO: 4.0\n"
     ]
    }
   ],
   "source": [
    "# Example 22: Finding Global Minimum with SHGO (Simplicial Homology Global Optimization)\n",
    "# Find the global minimum of the function f(x) = x^2 + 4*cos(x) on the interval -10 <= x <= 10\n",
    "result = spo.shgo(lambda x: x**2 + 4*np.cos(x), bounds=[(-10, 10)])\n",
    "print(\"Example 22: Global minimum value of the function using SHGO:\", result.fun)\n"
   ]
  },
  {
   "cell_type": "code",
   "execution_count": 25,
   "metadata": {},
   "outputs": [
    {
     "name": "stdout",
     "output_type": "stream",
     "text": [
      "Example 23: Global minimum value of the function using Dual Annealing: 2.316808419788213\n"
     ]
    }
   ],
   "source": [
    "# Example 23: Finding Global Minimum with Dual Annealing\n",
    "# Find the global minimum of the function f(x) = x^2 + 4*cos(x) on the interval -10 <= x <= 10\n",
    "result = spo.dual_annealing(lambda x: x**2 + 4*np.cos(x), bounds=[(-10, 10)])\n",
    "print(\"Example 23: Global minimum value of the function using Dual Annealing:\", result.fun)\n"
   ]
  },
  {
   "cell_type": "code",
   "execution_count": 26,
   "metadata": {},
   "outputs": [
    {
     "name": "stdout",
     "output_type": "stream",
     "text": [
      "Example 24: Optimized power allocation for the battle scenario: [200. 300. 500.]\n"
     ]
    }
   ],
   "source": [
    "# Example 24: Optimization for Game of Thrones Battles\n",
    "# Optimize the power allocation for a given battle scenario using minimize\n",
    "def objective_function(x):\n",
    "    # Define the function to be minimized (power allocation)\n",
    "    return -(x[0]**2 + x[1]**2 + x[2]**2)\n",
    "\n",
    "# Define the constraints for power allocation\n",
    "constraints = [\n",
    "    {'type': 'eq', 'fun': lambda x: x[0] + x[1] + x[2] - 1000},  # Total power constraint\n",
    "    {'type': 'ineq', 'fun': lambda x: x[0] - 200},  # Power constraint for House A\n",
    "    {'type': 'ineq', 'fun': lambda x: x[1] - 300},  # Power constraint for House B\n",
    "    {'type': 'ineq', 'fun': lambda x: x[2] - 500},  # Power constraint for House C\n",
    "]\n",
    "\n",
    "# Initial guess\n",
    "x0 = [300, 300, 400]\n",
    "\n",
    "# Perform the optimization\n",
    "result = spo.minimize(objective_function, x0=x0, constraints=constraints)\n",
    "print(\"Example 24: Optimized power allocation for the battle scenario:\", result.x)\n"
   ]
  },
  {
   "cell_type": "code",
   "execution_count": 27,
   "metadata": {},
   "outputs": [
    {
     "name": "stdout",
     "output_type": "stream",
     "text": [
      "Example 25: Minimum value of the custom function: -1112706571.9146242\n"
     ]
    },
    {
     "data": {
      "image/png": "[encoded data removed]",
      "text/plain": [
       "<Figure size 640x480 with 1 Axes>"
      ]
     },
     "metadata": {},
     "output_type": "display_data"
    }
   ],
   "source": [
    "# Example 25: Optimization for Custom Scenario\n",
    "# Optimize the function f(x) = x^3 - 6x^2 + 11x - 6 using minimize\n",
    "def custom_function(x):\n",
    "    return x**3 - 6*x**2 + 11*x - 6\n",
    "\n",
    "result = spo.minimize(custom_function, x0=[0])\n",
    "print(\"Example 25: Minimum value of the custom function:\", result.fun)\n",
    "\n",
    "# Plot the custom function\n",
    "x_vals = np.linspace(-1, 5, 100)\n",
    "y_vals = custom_function(x_vals)\n",
    "plt.plot(x_vals, y_vals)\n",
    "plt.xlabel(\"x\")\n",
    "plt.ylabel(\"f(x)\")\n",
    "plt.title(\"Custom Function\")\n",
    "plt.grid(True)\n",
    "plt.show()"
   ]
  }
 ],
 "metadata": {
  "kernelspec": {
   "display_name": "Python 3",
   "language": "python",
   "name": "python3"
  },
  "language_info": {
   "codemirror_mode": {
    "name": "ipython",
    "version": 3
   },
   "file_extension": ".py",
   "mimetype": "text/x-python",
   "name": "python",
   "nbconvert_exporter": "python",
   "pygments_lexer": "ipython3",
   "version": "3.11.2"
  },
  "orig_nbformat": 4
 },
 "nbformat": 4,
 "nbformat_minor": 2
}
