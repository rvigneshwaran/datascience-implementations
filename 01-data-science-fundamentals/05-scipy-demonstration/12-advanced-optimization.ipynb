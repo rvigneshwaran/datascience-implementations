{
 "cells": [
  {
   "cell_type": "code",
   "execution_count": 1,
   "metadata": {},
   "outputs": [],
   "source": [
    "import numpy as np\n",
    "import matplotlib.pyplot as plt\n",
    "from scipy import optimize"
   ]
  },
  {
   "cell_type": "code",
   "execution_count": 2,
   "metadata": {},
   "outputs": [
    {
     "name": "stdout",
     "output_type": "stream",
     "text": [
      "Minimization Result:\n",
      "  message: Optimization terminated successfully.\n",
      "  success: True\n",
      "   status: 0\n",
      "      fun: 0.0\n",
      "        x: [-1.000e+00]\n",
      "      nit: 2\n",
      "      jac: [ 0.000e+00]\n",
      " hess_inv: [[ 5.000e-01]]\n",
      "     nfev: 6\n",
      "     njev: 3\n"
     ]
    }
   ],
   "source": [
    "# Example 1: Minimization of a Simple Function\n",
    "def func(x):\n",
    "    return x**2 + 2*x + 1\n",
    "\n",
    "result_minimize = optimize.minimize(func, x0=0)\n",
    "print(\"Minimization Result:\")\n",
    "print(result_minimize)"
   ]
  },
  {
   "cell_type": "code",
   "execution_count": 3,
   "metadata": {},
   "outputs": [
    {
     "name": "stdout",
     "output_type": "stream",
     "text": [
      "Minimization Result with Linear Constraint:\n",
      " message: Optimization terminated successfully\n",
      " success: True\n",
      "  status: 0\n",
      "     fun: 0.5\n",
      "       x: [ 5.000e-01  5.000e-01]\n",
      "     nit: 3\n",
      "     jac: [ 1.000e+00  1.000e+00]\n",
      "    nfev: 10\n",
      "    njev: 3\n"
     ]
    }
   ],
   "source": [
    "# Example 2: Minimization with Constraints (Linear Constraints)\n",
    "def func_with_constraints(x):\n",
    "    return x[0]**2 + x[1]**2\n",
    "\n",
    "constraint_linear = {'type': 'eq', 'fun': lambda x: x[0] + x[1] - 1}\n",
    "result_minimize_constraints = optimize.minimize(func_with_constraints, x0=[0, 0], constraints=constraint_linear)\n",
    "print(\"Minimization Result with Linear Constraint:\")\n",
    "print(result_minimize_constraints)"
   ]
  },
  {
   "cell_type": "code",
   "execution_count": 4,
   "metadata": {},
   "outputs": [
    {
     "name": "stdout",
     "output_type": "stream",
     "text": [
      "Minimization Result with Nonlinear Constraint:\n",
      " message: Optimization terminated successfully\n",
      " success: True\n",
      "  status: 0\n",
      "     fun: 0.0\n",
      "       x: [ 0.000e+00  0.000e+00]\n",
      "     nit: 1\n",
      "     jac: [ 1.490e-08  1.490e-08]\n",
      "    nfev: 3\n",
      "    njev: 1\n"
     ]
    }
   ],
   "source": [
    "# Example 3: Minimization with Constraints (Nonlinear Constraints)\n",
    "def func_with_nonlinear_constraints(x):\n",
    "    return x[0]**2 + x[1]**2\n",
    "\n",
    "constraint_nonlinear = {'type': 'ineq', 'fun': lambda x: x[0] - x[1]}\n",
    "result_minimize_nonlinear_constraints = optimize.minimize(func_with_nonlinear_constraints, x0=[0, 0], constraints=constraint_nonlinear)\n",
    "print(\"Minimization Result with Nonlinear Constraint:\")\n",
    "print(result_minimize_nonlinear_constraints)"
   ]
  },
  {
   "cell_type": "code",
   "execution_count": 5,
   "metadata": {},
   "outputs": [
    {
     "name": "stdout",
     "output_type": "stream",
     "text": [
      "Minimization Result with Bounds:\n",
      "  message: CONVERGENCE: NORM_OF_PROJECTED_GRADIENT_<=_PGTOL\n",
      "  success: True\n",
      "   status: 0\n",
      "      fun: 0.0\n",
      "        x: [ 0.000e+00  0.000e+00]\n",
      "      nit: 0\n",
      "      jac: [ 1.000e-08  1.000e-08]\n",
      "     nfev: 3\n",
      "     njev: 1\n",
      " hess_inv: <2x2 LbfgsInvHessProduct with dtype=float64>\n"
     ]
    }
   ],
   "source": [
    "# Example 4: Minimization with Bounds\n",
    "result_minimize_bounds = optimize.minimize(func_with_constraints, x0=[0, 0], bounds=((0, None), (0, None)))\n",
    "print(\"Minimization Result with Bounds:\")\n",
    "print(result_minimize_bounds)"
   ]
  },
  {
   "cell_type": "code",
   "execution_count": 6,
   "metadata": {},
   "outputs": [
    {
     "name": "stdout",
     "output_type": "stream",
     "text": [
      "Minimization Result with Jac and Hessian Functions:\n",
      "  message: Optimization terminated successfully.\n",
      "  success: True\n",
      "   status: 0\n",
      "      fun: 0.0\n",
      "        x: [ 0.000e+00  0.000e+00]\n",
      "      nit: 0\n",
      "      jac: [ 0.000e+00  0.000e+00]\n",
      " hess_inv: [[1 0]\n",
      "            [0 1]]\n",
      "     nfev: 1\n",
      "     njev: 1\n"
     ]
    },
    {
     "name": "stderr",
     "output_type": "stream",
     "text": [
      "C:\\Users\\rvign\\AppData\\Roaming\\Python\\Python311\\site-packages\\scipy\\optimize\\_minimize.py:565: RuntimeWarning: Method BFGS does not use Hessian information (hess).\n",
      "  warn('Method %s does not use Hessian information (hess).' % method,\n"
     ]
    }
   ],
   "source": [
    "# Example 5: Minimization with Jac and Hessian Functions\n",
    "def func_with_jac_hess(x):\n",
    "    return x[0]**2 + x[1]**2\n",
    "\n",
    "def jac_func(x):\n",
    "    return [2*x[0], 2*x[1]]\n",
    "\n",
    "def hess_func(x):\n",
    "    return np.array([[2, 0], [0, 2]])\n",
    "\n",
    "result_minimize_jac_hess = optimize.minimize(func_with_jac_hess, x0=[0, 0], jac=jac_func, hess=hess_func)\n",
    "print(\"Minimization Result with Jac and Hessian Functions:\")\n",
    "print(result_minimize_jac_hess)"
   ]
  },
  {
   "cell_type": "code",
   "execution_count": 7,
   "metadata": {},
   "outputs": [
    {
     "name": "stdout",
     "output_type": "stream",
     "text": [
      "Global Optimization Result with Basinhopping:\n",
      "                    message: ['requested number of basinhopping iterations completed successfully']\n",
      "                    success: True\n",
      "                        fun: 0.0\n",
      "                          x: [-1.000e+00]\n",
      "                        nit: 100\n",
      "      minimization_failures: 0\n",
      "                       nfev: 708\n",
      "                       njev: 354\n",
      " lowest_optimization_result:  message: Optimization terminated successfully.\n",
      "                              success: True\n",
      "                               status: 0\n",
      "                                  fun: 0.0\n",
      "                                    x: [-1.000e+00]\n",
      "                                  nit: 2\n",
      "                                  jac: [ 0.000e+00]\n",
      "                             hess_inv: [[ 5.000e-01]]\n",
      "                                 nfev: 6\n",
      "                                 njev: 3\n"
     ]
    }
   ],
   "source": [
    "# Example 6: Global Optimization with Basinhopping\n",
    "def func_global(x):\n",
    "    return x**2 + 2*x + 1\n",
    "\n",
    "result_basinhopping = optimize.basinhopping(func_global, x0=0)\n",
    "print(\"Global Optimization Result with Basinhopping:\")\n",
    "print(result_basinhopping)"
   ]
  },
  {
   "cell_type": "code",
   "execution_count": 8,
   "metadata": {},
   "outputs": [
    {
     "name": "stdout",
     "output_type": "stream",
     "text": [
      "Global Optimization Result with Dual Annealing:\n",
      " message: ['Maximum number of iteration reached']\n",
      " success: True\n",
      "  status: 0\n",
      "     fun: 4.440892098500626e-16\n",
      "       x: [-1.000e+00]\n",
      "     nit: 1000\n",
      "    nfev: 2007\n",
      "    njev: 3\n",
      "    nhev: 0\n"
     ]
    }
   ],
   "source": [
    "# Example 7: Global Optimization with Dual Annealing\n",
    "result_dual_annealing = optimize.dual_annealing(func_global, bounds=[(-10, 10)])\n",
    "print(\"Global Optimization Result with Dual Annealing:\")\n",
    "print(result_dual_annealing)"
   ]
  },
  {
   "cell_type": "code",
   "execution_count": 9,
   "metadata": {},
   "outputs": [
    {
     "name": "stdout",
     "output_type": "stream",
     "text": [
      "Global Optimization Result with Differential Evolution:\n",
      " message: Optimization terminated successfully.\n",
      " success: True\n",
      "     fun: 0.0\n",
      "       x: [-1.000e+00]\n",
      "     nit: 31\n",
      "    nfev: 482\n"
     ]
    }
   ],
   "source": [
    "# Example 8: Global Optimization with Differential Evolution\n",
    "result_differential_evolution = optimize.differential_evolution(func_global, bounds=[(-10, 10)])\n",
    "print(\"Global Optimization Result with Differential Evolution:\")\n",
    "print(result_differential_evolution)"
   ]
  },
  {
   "cell_type": "code",
   "execution_count": 10,
   "metadata": {},
   "outputs": [
    {
     "name": "stdout",
     "output_type": "stream",
     "text": [
      "Root Finding Result with Broyden's Method:\n",
      " message: The iteration is not making good progress, as measured by the \n",
      "            improvement from the last ten iterations.\n",
      " success: False\n",
      "  status: 5\n",
      "     fun: [-6.151e-01]\n",
      "       x: [-5.774e-01]\n",
      "    nfev: 22\n",
      "    fjac: [[-1.000e+00]]\n",
      "       r: [-3.601e-03]\n",
      "     qtf: [ 6.151e-01]\n"
     ]
    }
   ],
   "source": [
    "# Example 9: Root Finding with Broyden's Method\n",
    "def func_root(x):\n",
    "    return x**3 - x - 1\n",
    "\n",
    "result_broyden = optimize.root(func_root, x0=0)\n",
    "print(\"Root Finding Result with Broyden's Method:\")\n",
    "print(result_broyden)"
   ]
  },
  {
   "cell_type": "code",
   "execution_count": 11,
   "metadata": {},
   "outputs": [
    {
     "name": "stdout",
     "output_type": "stream",
     "text": [
      "Root Finding Result with Newton-Raphson Method:\n",
      " message: Both actual and predicted relative reductions in the sum of squares\n",
      "            are at most 0.000000\n",
      " success: True\n",
      "  status: 1\n",
      "     fun: [-6.151e-01]\n",
      "       x: [-5.773e-01]\n",
      "   cov_x: [[ 3.395e+11]]\n",
      "    nfev: 18\n",
      "    fjac: [[ 1.716e-06]]\n",
      "    ipvt: [1]\n",
      "     qtf: [ 6.151e-01]\n"
     ]
    }
   ],
   "source": [
    "# Example 10: Root Finding with Newton-Raphson Method\n",
    "result_newton = optimize.root(func_root, x0=0, method='lm')\n",
    "print(\"Root Finding Result with Newton-Raphson Method:\")\n",
    "print(result_newton)"
   ]
  }
 ],
 "metadata": {
  "kernelspec": {
   "display_name": "Python 3",
   "language": "python",
   "name": "python3"
  },
  "language_info": {
   "codemirror_mode": {
    "name": "ipython",
    "version": 3
   },
   "file_extension": ".py",
   "mimetype": "text/x-python",
   "name": "python",
   "nbconvert_exporter": "python",
   "pygments_lexer": "ipython3",
   "version": "3.11.2"
  },
  "orig_nbformat": 4
 },
 "nbformat": 4,
 "nbformat_minor": 2
}
